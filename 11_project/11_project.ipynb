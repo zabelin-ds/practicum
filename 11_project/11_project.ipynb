{
 "cells": [
  {
   "cell_type": "code",
   "execution_count": null,
   "id": "fd6cab1d-5164-4782-ae0b-55d6b6f236c1",
   "metadata": {},
   "outputs": [],
   "source": []
  },
  {
   "cell_type": "markdown",
   "id": "7f091ca7-6005-4c13-a982-3f30b089d3ff",
   "metadata": {
    "tags": []
   },
   "source": [
    "# Учебный Проект → «быстро узнать рыночную стоимость» 🚗"
   ]
  },
  {
   "cell_type": "markdown",
   "id": "6725dcaa-4aa7-47e1-82ef-98b61c9bd718",
   "metadata": {
    "tags": []
   },
   "source": [
    "## Цель проекта"
   ]
  },
  {
   "cell_type": "markdown",
   "id": "54ad1ade-93bf-472a-ba8d-0803e4c6191e",
   "metadata": {},
   "source": [
    "> Сервис по продаже автомобилей с пробегом «Не бит, не крашен» разрабатывает приложение для привлечения новых клиентов. В нём можно быстро узнать рыночную стоимость своего автомобиля. В вашем распоряжении исторические данные: технические характеристики, комплектации и цены автомобилей. Вам нужно построить модель для определения стоимости."
   ]
  },
  {
   "cell_type": "markdown",
   "id": "24604243-e4c7-4aa4-868d-218e4d3b8957",
   "metadata": {},
   "source": [
    "## Заказчику важны:\n",
    "\n",
    "- качество предсказания;\n",
    "- скорость предсказания;\n",
    "- время обучения;"
   ]
  },
  {
   "cell_type": "markdown",
   "id": "12891341-5c03-45aa-9fdd-a1c09fcd03b5",
   "metadata": {},
   "source": [
    "Импортируем библиотеки 🎒"
   ]
  },
  {
   "cell_type": "code",
   "execution_count": 41,
   "id": "b042d77c-aedc-486f-98fd-c67d56d7ee73",
   "metadata": {
    "collapsed": false,
    "jupyter": {
     "outputs_hidden": false
    }
   },
   "outputs": [],
   "source": [
    "import pandas as pd\n",
    "import matplotlib as mpl\n",
    "import matplotlib.pyplot as plt\n",
    "import numpy as np\n",
    "\n",
    "from numpy.random import RandomState\n",
    "from numpy.random import rand\n",
    "\n",
    "from numpy.linalg import det\n",
    "\n",
    "from matplotlib import rcParams\n",
    "\n",
    "from sklearn.linear_model import LinearRegression\n",
    "from sklearn.preprocessing import MinMaxScaler\n",
    "from sklearn.metrics import r2_score\n",
    "from sklearn.pipeline import make_pipeline\n",
    "\n",
    "from sklearn.model_selection import train_test_split\n",
    "from sklearn.model_selection import cross_val_score\n",
    "from sklearn.model_selection import KFold"
   ]
  },
  {
   "cell_type": "markdown",
   "id": "ae33a0f0-273e-419a-8784-58390c70b19f",
   "metadata": {},
   "source": [
    "Настроим вид графиков по+красоте ✨"
   ]
  },
  {
   "cell_type": "code",
   "execution_count": 42,
   "id": "d86511a9-db39-47ff-8c04-ec8881483c1f",
   "metadata": {},
   "outputs": [],
   "source": [
    "%config InlineBackend.figure_formats = ['svg']"
   ]
  },
  {
   "cell_type": "code",
   "execution_count": 43,
   "id": "ac3e4157-2a80-49b8-82f9-251a0665256e",
   "metadata": {},
   "outputs": [],
   "source": [
    "# style MATPLOTLIBRC\n",
    "custom_params = {\n",
    "                'figure.figsize': (10, 6),\n",
    "                'figure.facecolor': '#232425',\n",
    "                'figure.dpi': 240,\n",
    "\n",
    "                'legend.frameon': False,\n",
    "                'legend.borderpad': 1.4,\n",
    "                'legend.labelspacing': 0.7,\n",
    "                'legend.handlelength': 0.7,\n",
    "                'legend.handleheight': 0.7,\n",
    "\n",
    "                'axes.facecolor': '#232425',\n",
    "                'axes.labelcolor': '#EEEEEE',\n",
    "                'axes.labelpad': 17,\n",
    "                'axes.spines.left': False,\n",
    "                'axes.spines.bottom': False,\n",
    "                'axes.spines.right': False,\n",
    "                'axes.spines.top': False,\n",
    "                'axes.grid': False,\n",
    "\n",
    "                'contour.linewidth': 0.0,\n",
    "\n",
    "                'xtick.color': '#AAAAAA',\n",
    "                'ytick.color': '#AAAAAA',\n",
    "                'xtick.bottom': True,\n",
    "                'xtick.top': False,\n",
    "                'ytick.left': True,\n",
    "                'ytick.right': False,\n",
    "    \n",
    "                \"lines.color\": '#EEEEEE',\n",
    "\n",
    "                'text.color': '#EEEEEE',\n",
    "    \n",
    "                'font.family': 'sans-serif',\n",
    "                # 'font.sans-serif': [\n",
    "                #     'Helvetica',\n",
    "                #     'Verdana',\n",
    "                #     'Tahoma',\n",
    "                #     'Trebuchet MS',\n",
    "                #     'Arial',\n",
    "                #     'Chevin'\n",
    "                #     ]\n",
    "                }\n",
    "\n",
    "# rcParams.update(custom_params)"
   ]
  },
  {
   "cell_type": "code",
   "execution_count": 44,
   "id": "cfcf213c-b109-4220-875f-5b24dfa9e164",
   "metadata": {
    "collapsed": false,
    "jupyter": {
     "outputs_hidden": false
    },
    "pycharm": {
     "name": "#%%\n"
    }
   },
   "outputs": [],
   "source": [
    "# set max columns to none\n",
    "pd.set_option(\"display.max_columns\", None)\n",
    "pd.set_option(\"display.max_rows\", 200)"
   ]
  },
  {
   "cell_type": "markdown",
   "id": "860671cb-22ec-42b0-ad07-bbe794b589fe",
   "metadata": {},
   "source": [
    "Константы."
   ]
  },
  {
   "cell_type": "code",
   "execution_count": 45,
   "id": "48c98269-ec9b-4673-98dd-73f477722be1",
   "metadata": {},
   "outputs": [],
   "source": [
    "RANDOM_SEED = 108108108\n",
    "RANDOM_NP = RandomState(128) \n",
    "dpi_k = custom_params['figure.dpi'] / rcParams['figure.dpi']\n",
    "px = 1/custom_params['figure.dpi']"
   ]
  },
  {
   "cell_type": "markdown",
   "id": "f3df3536-f30d-4aca-b659-af35ed84805a",
   "metadata": {},
   "source": [
    "Функции."
   ]
  },
  {
   "cell_type": "code",
   "execution_count": 46,
   "id": "44e072f2-3c26-41f7-b606-8065f28b9fd8",
   "metadata": {
    "collapsed": false,
    "jupyter": {
     "outputs_hidden": false
    }
   },
   "outputs": [],
   "source": [
    "def baisic_df_info(data_df, title='Basic Info'):\n",
    "    print(title, end='\\n\\n')\n",
    "    print('Дубликатов:',\n",
    "             len(data_df.loc[data_df.duplicated()].index),\n",
    "          end='\\n\\n'\n",
    "     )\n",
    "    \n",
    "    display(\n",
    "        data_df.info(),\n",
    "        data_df.sample(5),\n",
    "        data_df.describe(),\n",
    "    )"
   ]
  },
  {
   "cell_type": "code",
   "execution_count": 47,
   "id": "bd64e122-13f0-4b22-90d4-2a873bd29edf",
   "metadata": {},
   "outputs": [],
   "source": [
    "def to_px(size_px):\n",
    "    px_density = int(\n",
    "        round(\n",
    "            size_px * px * dpi_k\n",
    "        )\n",
    "    )\n",
    "    return px_density"
   ]
  },
  {
   "cell_type": "code",
   "execution_count": 48,
   "id": "be427cf4-7553-4576-96b9-07db7092d924",
   "metadata": {
    "tags": []
   },
   "outputs": [],
   "source": [
    "def plot_hist(data, title='Histogram', custom_params=custom_params):\n",
    "    \n",
    "    num_col = 2\n",
    "    num_row = int(\n",
    "            len(data.columns) / num_col\n",
    "        ) + (len(data.columns) % num_col)\n",
    "    \n",
    "    with mpl.rc_context(custom_params):\n",
    "        fig, axs = plt.subplots(\n",
    "            nrows=num_row,\n",
    "            ncols=num_col,\n",
    "            figsize=(\n",
    "                to_px(960), to_px(960)),\n",
    "            tight_layout=True\n",
    "        )\n",
    "        \n",
    "        for n, col_name in enumerate(data.columns):\n",
    "            ax_row = int(n/2)\n",
    "            ax_col = n%2\n",
    "            n_bins = len(data[col_name].unique())\n",
    "                \n",
    "            axs[ax_row, ax_col].hist(\n",
    "                data[col_name],\n",
    "                bins=n_bins,\n",
    "                color='forestgreen'\n",
    "            )\n",
    "            axs[ax_row, ax_col].set_title(col_name)\n",
    "        \n",
    "        fig.suptitle(title, fontsize=16)\n",
    "        \n",
    "        if len(data.columns) % num_col:\n",
    "            fig.delaxes(axs[-1, -1])\n",
    "\n",
    "        plt.show()"
   ]
  },
  {
   "cell_type": "markdown",
   "id": "a01c9dd2-af24-4126-ab11-4f6aca3c6657",
   "metadata": {},
   "source": [
    "### Признаки\n",
    "\n",
    "- `DateCrawled` — дата скачивания анкеты из базы\n",
    "- `VehicleType` — тип автомобильного кузова\n",
    "- `RegistrationYear` — год регистрации автомобиля\n",
    "- `Gearbox` — тип коробки передач\n",
    "- `Power` — мощность (л. с.)\n",
    "- `Model` — модель автомобиля\n",
    "- `Kilometer` — пробег (км)\n",
    "- `RegistrationMonth` — месяц регистрации автомобиля\n",
    "- `FuelType` — тип топлива\n",
    "- `Brand` — марка автомобиля\n",
    "- `NotRepaired` — была машина в ремонте или нет\n",
    "- `DateCreated` — дата создания анкеты\n",
    "- `NumberOfPictures` — количество фотографий автомобиля\n",
    "- `PostalCode` — почтовый индекс владельца анкеты (пользователя)\n",
    "- `LastSeen` — дата последней активности пользователя\n",
    "\n",
    "### Целевой признак\n",
    "- `Price` — цена (евро)"
   ]
  },
  {
   "cell_type": "raw",
   "id": "5bef6ca3-a4a8-44f6-8484-76772f479968",
   "metadata": {},
   "source": []
  },
  {
   "cell_type": "markdown",
   "id": "56c110f6-9198-4179-a549-14c700f64986",
   "metadata": {},
   "source": [
    "<hr>"
   ]
  },
  {
   "cell_type": "markdown",
   "id": "c363d1f2-3fe6-403a-bb9e-c73873e4b8c0",
   "metadata": {},
   "source": [
    "## Загрузка данных"
   ]
  },
  {
   "cell_type": "markdown",
   "id": "7f81c8a9-ced2-4661-a3d7-fc807cd0c0ff",
   "metadata": {},
   "source": [
    "### 1.1. Загрузим файл и изучим данные"
   ]
  },
  {
   "cell_type": "code",
   "execution_count": 50,
   "id": "659602e3-79b1-4789-85a9-3002355d8ad8",
   "metadata": {
    "collapsed": false,
    "jupyter": {
     "outputs_hidden": false
    }
   },
   "outputs": [],
   "source": [
    "try:\n",
    "    autos_df = pd.read_csv(\n",
    "        './datasets/autos.csv',\n",
    "    )\n",
    "    \n",
    "except FileNotFoundError:\n",
    "    autos_df = pd.read_csv(\n",
    "        'https://code.s3.yandex.net/datasets/autos.csv',\n",
    "    )\n",
    "    print('FYI datasets loaded via url')"
   ]
  },
  {
   "cell_type": "code",
   "execution_count": 51,
   "id": "2a998378-150d-4a62-b2ae-29d9b5d7c9a8",
   "metadata": {},
   "outputs": [
    {
     "name": "stdout",
     "output_type": "stream",
     "text": [
      "Basic Info\n",
      "\n",
      "Дубликатов: 153\n",
      "\n",
      "<class 'pandas.core.frame.DataFrame'>\n",
      "RangeIndex: 5000 entries, 0 to 4999\n",
      "Data columns (total 5 columns):\n",
      " #   Column             Non-Null Count  Dtype  \n",
      "---  ------             --------------  -----  \n",
      " 0   Пол                5000 non-null   int64  \n",
      " 1   Возраст            5000 non-null   float64\n",
      " 2   Зарплата           5000 non-null   float64\n",
      " 3   Члены семьи        5000 non-null   int64  \n",
      " 4   Страховые выплаты  5000 non-null   int64  \n",
      "dtypes: float64(2), int64(3)\n",
      "memory usage: 195.4 KB\n"
     ]
    },
    {
     "data": {
      "text/plain": [
       "None"
      ]
     },
     "metadata": {},
     "output_type": "display_data"
    },
    {
     "data": {
      "text/html": [
       "<div>\n",
       "<style scoped>\n",
       "    .dataframe tbody tr th:only-of-type {\n",
       "        vertical-align: middle;\n",
       "    }\n",
       "\n",
       "    .dataframe tbody tr th {\n",
       "        vertical-align: top;\n",
       "    }\n",
       "\n",
       "    .dataframe thead th {\n",
       "        text-align: right;\n",
       "    }\n",
       "</style>\n",
       "<table border=\"1\" class=\"dataframe\">\n",
       "  <thead>\n",
       "    <tr style=\"text-align: right;\">\n",
       "      <th></th>\n",
       "      <th>Пол</th>\n",
       "      <th>Возраст</th>\n",
       "      <th>Зарплата</th>\n",
       "      <th>Члены семьи</th>\n",
       "      <th>Страховые выплаты</th>\n",
       "    </tr>\n",
       "  </thead>\n",
       "  <tbody>\n",
       "    <tr>\n",
       "      <th>1937</th>\n",
       "      <td>1</td>\n",
       "      <td>19.0</td>\n",
       "      <td>44400.0</td>\n",
       "      <td>0</td>\n",
       "      <td>0</td>\n",
       "    </tr>\n",
       "    <tr>\n",
       "      <th>2021</th>\n",
       "      <td>1</td>\n",
       "      <td>32.0</td>\n",
       "      <td>63100.0</td>\n",
       "      <td>1</td>\n",
       "      <td>0</td>\n",
       "    </tr>\n",
       "    <tr>\n",
       "      <th>530</th>\n",
       "      <td>1</td>\n",
       "      <td>36.0</td>\n",
       "      <td>21200.0</td>\n",
       "      <td>1</td>\n",
       "      <td>0</td>\n",
       "    </tr>\n",
       "    <tr>\n",
       "      <th>1332</th>\n",
       "      <td>0</td>\n",
       "      <td>51.0</td>\n",
       "      <td>37200.0</td>\n",
       "      <td>2</td>\n",
       "      <td>2</td>\n",
       "    </tr>\n",
       "    <tr>\n",
       "      <th>2002</th>\n",
       "      <td>1</td>\n",
       "      <td>36.0</td>\n",
       "      <td>25600.0</td>\n",
       "      <td>1</td>\n",
       "      <td>0</td>\n",
       "    </tr>\n",
       "  </tbody>\n",
       "</table>\n",
       "</div>"
      ],
      "text/plain": [
       "      Пол  Возраст  Зарплата  Члены семьи  Страховые выплаты\n",
       "1937    1     19.0   44400.0            0                  0\n",
       "2021    1     32.0   63100.0            1                  0\n",
       "530     1     36.0   21200.0            1                  0\n",
       "1332    0     51.0   37200.0            2                  2\n",
       "2002    1     36.0   25600.0            1                  0"
      ]
     },
     "metadata": {},
     "output_type": "display_data"
    },
    {
     "data": {
      "text/html": [
       "<div>\n",
       "<style scoped>\n",
       "    .dataframe tbody tr th:only-of-type {\n",
       "        vertical-align: middle;\n",
       "    }\n",
       "\n",
       "    .dataframe tbody tr th {\n",
       "        vertical-align: top;\n",
       "    }\n",
       "\n",
       "    .dataframe thead th {\n",
       "        text-align: right;\n",
       "    }\n",
       "</style>\n",
       "<table border=\"1\" class=\"dataframe\">\n",
       "  <thead>\n",
       "    <tr style=\"text-align: right;\">\n",
       "      <th></th>\n",
       "      <th>Пол</th>\n",
       "      <th>Возраст</th>\n",
       "      <th>Зарплата</th>\n",
       "      <th>Члены семьи</th>\n",
       "      <th>Страховые выплаты</th>\n",
       "    </tr>\n",
       "  </thead>\n",
       "  <tbody>\n",
       "    <tr>\n",
       "      <th>count</th>\n",
       "      <td>5000.000000</td>\n",
       "      <td>5000.000000</td>\n",
       "      <td>5000.000000</td>\n",
       "      <td>5000.000000</td>\n",
       "      <td>5000.000000</td>\n",
       "    </tr>\n",
       "    <tr>\n",
       "      <th>mean</th>\n",
       "      <td>0.499000</td>\n",
       "      <td>30.952800</td>\n",
       "      <td>39916.360000</td>\n",
       "      <td>1.194200</td>\n",
       "      <td>0.148000</td>\n",
       "    </tr>\n",
       "    <tr>\n",
       "      <th>std</th>\n",
       "      <td>0.500049</td>\n",
       "      <td>8.440807</td>\n",
       "      <td>9900.083569</td>\n",
       "      <td>1.091387</td>\n",
       "      <td>0.463183</td>\n",
       "    </tr>\n",
       "    <tr>\n",
       "      <th>min</th>\n",
       "      <td>0.000000</td>\n",
       "      <td>18.000000</td>\n",
       "      <td>5300.000000</td>\n",
       "      <td>0.000000</td>\n",
       "      <td>0.000000</td>\n",
       "    </tr>\n",
       "    <tr>\n",
       "      <th>25%</th>\n",
       "      <td>0.000000</td>\n",
       "      <td>24.000000</td>\n",
       "      <td>33300.000000</td>\n",
       "      <td>0.000000</td>\n",
       "      <td>0.000000</td>\n",
       "    </tr>\n",
       "    <tr>\n",
       "      <th>50%</th>\n",
       "      <td>0.000000</td>\n",
       "      <td>30.000000</td>\n",
       "      <td>40200.000000</td>\n",
       "      <td>1.000000</td>\n",
       "      <td>0.000000</td>\n",
       "    </tr>\n",
       "    <tr>\n",
       "      <th>75%</th>\n",
       "      <td>1.000000</td>\n",
       "      <td>37.000000</td>\n",
       "      <td>46600.000000</td>\n",
       "      <td>2.000000</td>\n",
       "      <td>0.000000</td>\n",
       "    </tr>\n",
       "    <tr>\n",
       "      <th>max</th>\n",
       "      <td>1.000000</td>\n",
       "      <td>65.000000</td>\n",
       "      <td>79000.000000</td>\n",
       "      <td>6.000000</td>\n",
       "      <td>5.000000</td>\n",
       "    </tr>\n",
       "  </tbody>\n",
       "</table>\n",
       "</div>"
      ],
      "text/plain": [
       "               Пол      Возраст      Зарплата  Члены семьи  Страховые выплаты\n",
       "count  5000.000000  5000.000000   5000.000000  5000.000000        5000.000000\n",
       "mean      0.499000    30.952800  39916.360000     1.194200           0.148000\n",
       "std       0.500049     8.440807   9900.083569     1.091387           0.463183\n",
       "min       0.000000    18.000000   5300.000000     0.000000           0.000000\n",
       "25%       0.000000    24.000000  33300.000000     0.000000           0.000000\n",
       "50%       0.000000    30.000000  40200.000000     1.000000           0.000000\n",
       "75%       1.000000    37.000000  46600.000000     2.000000           0.000000\n",
       "max       1.000000    65.000000  79000.000000     6.000000           5.000000"
      ]
     },
     "metadata": {},
     "output_type": "display_data"
    }
   ],
   "source": [
    "baisic_df_info(insurance_df)"
   ]
  }
 ],
 "metadata": {
  "kernelspec": {
   "display_name": "Python 3 (ipykernel)",
   "language": "python",
   "name": "python3"
  },
  "language_info": {
   "codemirror_mode": {
    "name": "ipython",
    "version": 3
   },
   "file_extension": ".py",
   "mimetype": "text/x-python",
   "name": "python",
   "nbconvert_exporter": "python",
   "pygments_lexer": "ipython3",
   "version": "3.10.6"
  }
 },
 "nbformat": 4,
 "nbformat_minor": 5
}
