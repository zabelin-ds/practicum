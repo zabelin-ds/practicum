{
 "cells": [
  {
   "cell_type": "markdown",
   "source": [
    "# Рекомендация тарифов"
   ],
   "metadata": {
    "collapsed": false,
    "pycharm": {
     "name": "#%% md\n"
    }
   }
  },
  {
   "cell_type": "markdown",
   "source": [
    "Проектная работа"
   ],
   "metadata": {
    "collapsed": false,
    "pycharm": {
     "name": "#%% md\n"
    }
   }
  },
  {
   "cell_type": "markdown",
   "source": [
    "Описание проекта\n",
    "Оператор мобильной связи «Мегалайн» выяснил: многие клиенты пользуются архивными тарифами. Они хотят построить систему, способную проанализировать поведение клиентов и предложить пользователям новый тариф: «Смарт» или «Ультра».\n",
    "В вашем распоряжении данные о поведении клиентов, которые уже перешли на эти тарифы (из проекта курса «Статистический анализ данных»). Нужно построить модель для задачи классификации, которая выберет подходящий тариф. Предобработка данных не понадобится — вы её уже сделали.\n",
    "Постройте модель с максимально большим значением accuracy. Чтобы сдать проект успешно, нужно довести долю правильных ответов по крайней мере до 0.75. Проверьте accuracy на тестовой выборке самостоятельно."
   ],
   "metadata": {
    "collapsed": false,
    "pycharm": {
     "name": "#%% md\n"
    }
   }
  },
  {
   "cell_type": "markdown",
   "source": [],
   "metadata": {
    "collapsed": false,
    "pycharm": {
     "name": "#%% md\n"
    }
   }
  },
  {
   "cell_type": "code",
   "execution_count": 55,
   "outputs": [],
   "source": [
    "import math\n",
    "\n",
    "import pandas as pd\n",
    "import seaborn as sns\n",
    "import scipy.stats as st\n",
    "import numpy as np\n",
    "import matplotlib.pyplot as plt\n",
    "\n",
    "from sklearn.tree import DecisionTreeClassifier\n",
    "from sklearn.model_selection import train_test_split\n",
    "from sklearn.metrics import accuracy_score\n",
    "from sys import getsizeof\n",
    "\n",
    "\n",
    "try:\n",
    "    from IPython.core.display_functions import display\n",
    "except ModuleNotFoundError:\n",
    "    pass\n"
   ],
   "metadata": {
    "collapsed": false,
    "pycharm": {
     "name": "#%%\n"
    }
   }
  },
  {
   "cell_type": "code",
   "execution_count": 29,
   "outputs": [],
   "source": [
    "%config InlineBackend.figure_formats = ['svg']"
   ],
   "metadata": {
    "collapsed": false,
    "pycharm": {
     "name": "#%%\n"
    }
   }
  },
  {
   "cell_type": "code",
   "execution_count": 30,
   "outputs": [],
   "source": [
    "# seaborn style via MATPLOTLIBRC\n",
    "custom_params = {'figure.figsize': (10, 6),\n",
    "                'figure.facecolor': '#232425',\n",
    "                'figure.dpi': 240,\n",
    "\n",
    "                'legend.frameon': False,\n",
    "                'legend.borderpad': 1.4,\n",
    "                'legend.labelspacing': 0.7,\n",
    "                'legend.handlelength': 0.7,\n",
    "                'legend.handleheight': 0.7,\n",
    "\n",
    "                'axes.facecolor': '#232425',\n",
    "                'axes.labelcolor': '#EEEEEE',\n",
    "                'axes.labelpad': 17,\n",
    "                'axes.spines.left': False,\n",
    "                'axes.spines.bottom': False,\n",
    "                'axes.spines.right': False,\n",
    "                'axes.spines.top': False,\n",
    "                'axes.grid': False,\n",
    "\n",
    "                'contour.linewidth': 0.0,\n",
    "\n",
    "                'xtick.color': '#AAAAAA',\n",
    "                'ytick.color': '#AAAAAA',\n",
    "                'xtick.bottom': True,\n",
    "                'xtick.top': False,\n",
    "                'ytick.left': True,\n",
    "                'ytick.right': False,\n",
    "\n",
    "                'text.color': '#EEEEEE',\n",
    "                'font.sans-serif': [\n",
    "                    'Helvetica',\n",
    "                    'Verdana',\n",
    "                    'sans-serif'\n",
    "                    ]\n",
    "                }\n",
    "sns.set_theme(style='darkgrid', rc=custom_params)\n",
    "sns.set_context(\"notebook\", font_scale=1.37)"
   ],
   "metadata": {
    "collapsed": false,
    "pycharm": {
     "name": "#%%\n"
    }
   }
  },
  {
   "cell_type": "code",
   "execution_count": 30,
   "outputs": [],
   "source": [],
   "metadata": {
    "collapsed": false,
    "pycharm": {
     "name": "#%%\n"
    }
   }
  },
  {
   "cell_type": "code",
   "execution_count": 30,
   "outputs": [],
   "source": [],
   "metadata": {
    "collapsed": false,
    "pycharm": {
     "name": "#%%\n"
    }
   }
  },
  {
   "cell_type": "markdown",
   "source": [
    "## Откройте файл с данными и изучите его."
   ],
   "metadata": {
    "collapsed": false,
    "pycharm": {
     "name": "#%% md\n"
    }
   }
  },
  {
   "cell_type": "code",
   "execution_count": 31,
   "outputs": [],
   "source": [
    "try:\n",
    "    accu_df = pd.read_csv('./datasets/users_behavior.csv')\n",
    "except FileNotFoundError:\n",
    "    accu_df = pd.read_csv('https://code.s3.yandex.net/datasets/users_behavior.csv')\n",
    "    print('FYI csv loaded by url')"
   ],
   "metadata": {
    "collapsed": false,
    "pycharm": {
     "name": "#%%\n"
    }
   }
  },
  {
   "cell_type": "code",
   "execution_count": 32,
   "outputs": [
    {
     "data": {
      "text/plain": "      calls  minutes  messages   mb_used  is_ultra\n1884   60.0   407.95       0.0  26965.37         0\n3103   63.0   435.98      32.0  18295.22         0\n930   103.0   730.61     154.0  18565.13         1\n26     81.0   624.71      38.0   8644.66         1\n1834   62.0   448.76      62.0  15522.01         0",
      "text/html": "<div>\n<style scoped>\n    .dataframe tbody tr th:only-of-type {\n        vertical-align: middle;\n    }\n\n    .dataframe tbody tr th {\n        vertical-align: top;\n    }\n\n    .dataframe thead th {\n        text-align: right;\n    }\n</style>\n<table border=\"1\" class=\"dataframe\">\n  <thead>\n    <tr style=\"text-align: right;\">\n      <th></th>\n      <th>calls</th>\n      <th>minutes</th>\n      <th>messages</th>\n      <th>mb_used</th>\n      <th>is_ultra</th>\n    </tr>\n  </thead>\n  <tbody>\n    <tr>\n      <th>1884</th>\n      <td>60.0</td>\n      <td>407.95</td>\n      <td>0.0</td>\n      <td>26965.37</td>\n      <td>0</td>\n    </tr>\n    <tr>\n      <th>3103</th>\n      <td>63.0</td>\n      <td>435.98</td>\n      <td>32.0</td>\n      <td>18295.22</td>\n      <td>0</td>\n    </tr>\n    <tr>\n      <th>930</th>\n      <td>103.0</td>\n      <td>730.61</td>\n      <td>154.0</td>\n      <td>18565.13</td>\n      <td>1</td>\n    </tr>\n    <tr>\n      <th>26</th>\n      <td>81.0</td>\n      <td>624.71</td>\n      <td>38.0</td>\n      <td>8644.66</td>\n      <td>1</td>\n    </tr>\n    <tr>\n      <th>1834</th>\n      <td>62.0</td>\n      <td>448.76</td>\n      <td>62.0</td>\n      <td>15522.01</td>\n      <td>0</td>\n    </tr>\n  </tbody>\n</table>\n</div>"
     },
     "metadata": {},
     "output_type": "display_data"
    }
   ],
   "source": [
    "display(\n",
    "    accu_df.sample(5)\n",
    ")"
   ],
   "metadata": {
    "collapsed": false,
    "pycharm": {
     "name": "#%%\n"
    }
   }
  },
  {
   "cell_type": "code",
   "execution_count": 33,
   "outputs": [
    {
     "data": {
      "text/plain": "             calls      minutes     messages       mb_used     is_ultra\ncount  3214.000000  3214.000000  3214.000000   3214.000000  3214.000000\nmean     63.038892   438.208787    38.281269  17207.673836     0.306472\nstd      33.236368   234.569872    36.148326   7570.968246     0.461100\nmin       0.000000     0.000000     0.000000      0.000000     0.000000\n25%      40.000000   274.575000     9.000000  12491.902500     0.000000\n50%      62.000000   430.600000    30.000000  16943.235000     0.000000\n75%      82.000000   571.927500    57.000000  21424.700000     1.000000\nmax     244.000000  1632.060000   224.000000  49745.730000     1.000000",
      "text/html": "<div>\n<style scoped>\n    .dataframe tbody tr th:only-of-type {\n        vertical-align: middle;\n    }\n\n    .dataframe tbody tr th {\n        vertical-align: top;\n    }\n\n    .dataframe thead th {\n        text-align: right;\n    }\n</style>\n<table border=\"1\" class=\"dataframe\">\n  <thead>\n    <tr style=\"text-align: right;\">\n      <th></th>\n      <th>calls</th>\n      <th>minutes</th>\n      <th>messages</th>\n      <th>mb_used</th>\n      <th>is_ultra</th>\n    </tr>\n  </thead>\n  <tbody>\n    <tr>\n      <th>count</th>\n      <td>3214.000000</td>\n      <td>3214.000000</td>\n      <td>3214.000000</td>\n      <td>3214.000000</td>\n      <td>3214.000000</td>\n    </tr>\n    <tr>\n      <th>mean</th>\n      <td>63.038892</td>\n      <td>438.208787</td>\n      <td>38.281269</td>\n      <td>17207.673836</td>\n      <td>0.306472</td>\n    </tr>\n    <tr>\n      <th>std</th>\n      <td>33.236368</td>\n      <td>234.569872</td>\n      <td>36.148326</td>\n      <td>7570.968246</td>\n      <td>0.461100</td>\n    </tr>\n    <tr>\n      <th>min</th>\n      <td>0.000000</td>\n      <td>0.000000</td>\n      <td>0.000000</td>\n      <td>0.000000</td>\n      <td>0.000000</td>\n    </tr>\n    <tr>\n      <th>25%</th>\n      <td>40.000000</td>\n      <td>274.575000</td>\n      <td>9.000000</td>\n      <td>12491.902500</td>\n      <td>0.000000</td>\n    </tr>\n    <tr>\n      <th>50%</th>\n      <td>62.000000</td>\n      <td>430.600000</td>\n      <td>30.000000</td>\n      <td>16943.235000</td>\n      <td>0.000000</td>\n    </tr>\n    <tr>\n      <th>75%</th>\n      <td>82.000000</td>\n      <td>571.927500</td>\n      <td>57.000000</td>\n      <td>21424.700000</td>\n      <td>1.000000</td>\n    </tr>\n    <tr>\n      <th>max</th>\n      <td>244.000000</td>\n      <td>1632.060000</td>\n      <td>224.000000</td>\n      <td>49745.730000</td>\n      <td>1.000000</td>\n    </tr>\n  </tbody>\n</table>\n</div>"
     },
     "metadata": {},
     "output_type": "display_data"
    }
   ],
   "source": [
    "display(\n",
    "    accu_df.describe()\n",
    ")"
   ],
   "metadata": {
    "collapsed": false,
    "pycharm": {
     "name": "#%%\n"
    }
   }
  },
  {
   "cell_type": "code",
   "execution_count": 42,
   "outputs": [
    {
     "name": "stdout",
     "output_type": "stream",
     "text": [
      "<class 'pandas.core.frame.DataFrame'>\n",
      "RangeIndex: 3214 entries, 0 to 3213\n",
      "Data columns (total 5 columns):\n",
      " #   Column    Non-Null Count  Dtype  \n",
      "---  ------    --------------  -----  \n",
      " 0   calls     3214 non-null   uint8  \n",
      " 1   minutes   3214 non-null   float32\n",
      " 2   messages  3214 non-null   uint8  \n",
      " 3   mb_used   3214 non-null   float32\n",
      " 4   is_ultra  3214 non-null   bool   \n",
      "dtypes: bool(1), float32(2), uint8(2)\n",
      "memory usage: 34.7 KB\n"
     ]
    },
    {
     "data": {
      "text/plain": "None"
     },
     "metadata": {},
     "output_type": "display_data"
    }
   ],
   "source": [
    "display(\n",
    "    accu_df.info()\n",
    ")"
   ],
   "metadata": {
    "collapsed": false,
    "pycharm": {
     "name": "#%%\n"
    }
   }
  },
  {
   "cell_type": "code",
   "execution_count": 43,
   "outputs": [],
   "source": [
    "accu_df = accu_df.astype(\n",
    "    {\n",
    "        'calls': 'uint8',\n",
    "        'minutes': 'float32',\n",
    "        'messages': 'uint8',\n",
    "        'mb_used': 'float32',\n",
    "        'is_ultra': 'bool',\n",
    "    }\n",
    ")"
   ],
   "metadata": {
    "collapsed": false,
    "pycharm": {
     "name": "#%%\n"
    }
   }
  },
  {
   "cell_type": "code",
   "execution_count": 44,
   "outputs": [
    {
     "name": "stdout",
     "output_type": "stream",
     "text": [
      "Размер набора данных после замены типов данных: 34.67 KB\n"
     ]
    }
   ],
   "source": [
    "print(f'Размер набора данных после замены типов данных:',\n",
    "    round((getsizeof(accu_df) / 1024), 2)\n",
    "    , 'KB'\n",
    ")"
   ],
   "metadata": {
    "collapsed": false,
    "pycharm": {
     "name": "#%%\n"
    }
   }
  },
  {
   "cell_type": "code",
   "execution_count": 47,
   "outputs": [],
   "source": [
    "features = accu_df.drop(['is_ultra'], axis=1)\n",
    "target = accu_df['is_ultra']\n"
   ],
   "metadata": {
    "collapsed": false,
    "pycharm": {
     "name": "#%%\n"
    }
   }
  },
  {
   "cell_type": "markdown",
   "source": [
    "## Разделите исходные данные на обучающую, валидационную и тестовую выборки."
   ],
   "metadata": {
    "collapsed": false,
    "pycharm": {
     "name": "#%% md\n"
    }
   }
  },
  {
   "cell_type": "raw",
   "source": [
    "features_train, features_valid, target_train, target_valid = train_test_split(\n",
    "    features, target, test_size=.25, random_state=108108108)"
   ],
   "metadata": {
    "collapsed": false,
    "pycharm": {
     "name": "#%% raw\n"
    }
   }
  },
  {
   "cell_type": "markdown",
   "source": [
    "> Спрятанной тестовой выборки нет. Значит, данные нужно разбить на три части: обучающую, валидационную и тестовую. Размеры тестового и валидационного наборов обычно равны. Исходные данные разбивают в соотношении 3:1:1.\n"
   ],
   "metadata": {
    "collapsed": false,
    "pycharm": {
     "name": "#%% md\n"
    }
   }
  },
  {
   "cell_type": "markdown",
   "source": [
    "Используем стандартные пропорции для деления набора данных:\n",
    "- обучающая выборка 60%\n",
    "- валидационная выборка 20%\n",
    "- тестовая выборка 20%\n"
   ],
   "metadata": {
    "collapsed": false,
    "pycharm": {
     "name": "#%% md\n"
    }
   }
  },
  {
   "cell_type": "code",
   "execution_count": 48,
   "outputs": [],
   "source": [
    "features_train, features_valid,\\\n",
    "target_train, target_valid = train_test_split(\n",
    "    features, target,\n",
    "    test_size=0.2,\n",
    "    shuffle = True,\n",
    "    random_state=108\n",
    ")\n",
    "\n",
    "features_train, features_test,\\\n",
    "target_train, target_test = train_test_split(\n",
    "    features_train,\n",
    "    target_train,\n",
    "    test_size=0.25,\n",
    "    random_state=108\n",
    ")"
   ],
   "metadata": {
    "collapsed": false,
    "pycharm": {
     "name": "#%%\n"
    }
   }
  },
  {
   "cell_type": "code",
   "execution_count": 54,
   "outputs": [
    {
     "name": "stdout",
     "output_type": "stream",
     "text": [
      "x_train (1928, 4)\n",
      "x_valid (643, 4)\n",
      "x_test (643, 4)\n",
      "\n",
      "y_train (1928,)\n",
      "y_valid (643,)\n",
      "y_test (643,)\n"
     ]
    }
   ],
   "source": [
    "print('x_train', features_train.shape)\n",
    "print('x_valid', features_valid.shape)\n",
    "print('x_test', features_test.shape)\n",
    "print()\n",
    "print('y_train', target_train.shape)\n",
    "print('y_valid', target_valid.shape)\n",
    "print('y_test', target_test.shape)\n"
   ],
   "metadata": {
    "collapsed": false,
    "pycharm": {
     "name": "#%%\n"
    }
   }
  },
  {
   "cell_type": "markdown",
   "source": [
    "Соотношения выборок похожи на правду 👏"
   ],
   "metadata": {
    "collapsed": false,
    "pycharm": {
     "name": "#%% md\n"
    }
   }
  },
  {
   "cell_type": "markdown",
   "source": [
    "## Исследуйте качество разных моделей, меняя гиперпараметры."
   ],
   "metadata": {
    "collapsed": false,
    "pycharm": {
     "name": "#%% md\n"
    }
   }
  },
  {
   "cell_type": "code",
   "execution_count": null,
   "outputs": [],
   "source": [
    "best_model = None\n",
    "best_result = 0\n",
    "for depth in range(1, 6):\n",
    "    model = DecisionTreeClassifier(\n",
    "        random_state=12345,\n",
    "        max_depth=depth)\n",
    "    model.fit(features, target)\n",
    "    predictions = model.predict(features) # получите предсказания модели\n",
    "    result = accuracy_score(target, predictions) # посчитайте качество модели\n",
    "    if result > best_result:\n",
    "        best_model = model\n",
    "        best_result = result\n",
    "\n",
    "print(\"Accuracy лучшей модели:\", best_result)"
   ],
   "metadata": {
    "collapsed": false,
    "pycharm": {
     "name": "#%%\n"
    }
   }
  },
  {
   "cell_type": "code",
   "execution_count": null,
   "outputs": [],
   "source": [],
   "metadata": {
    "collapsed": false,
    "pycharm": {
     "name": "#%%\n"
    }
   }
  },
  {
   "cell_type": "code",
   "execution_count": null,
   "outputs": [],
   "source": [],
   "metadata": {
    "collapsed": false,
    "pycharm": {
     "name": "#%%\n"
    }
   }
  },
  {
   "cell_type": "code",
   "execution_count": null,
   "outputs": [],
   "source": [],
   "metadata": {
    "collapsed": false,
    "pycharm": {
     "name": "#%%\n"
    }
   }
  },
  {
   "cell_type": "code",
   "execution_count": null,
   "outputs": [],
   "source": [],
   "metadata": {
    "collapsed": false,
    "pycharm": {
     "name": "#%%\n"
    }
   }
  },
  {
   "cell_type": "code",
   "execution_count": null,
   "outputs": [],
   "source": [],
   "metadata": {
    "collapsed": false,
    "pycharm": {
     "name": "#%%\n"
    }
   }
  },
  {
   "cell_type": "code",
   "execution_count": null,
   "outputs": [],
   "source": [],
   "metadata": {
    "collapsed": false,
    "pycharm": {
     "name": "#%%\n"
    }
   }
  },
  {
   "cell_type": "markdown",
   "source": [
    "### Кратко напишите выводы исследования."
   ],
   "metadata": {
    "collapsed": false,
    "pycharm": {
     "name": "#%% md\n"
    }
   }
  },
  {
   "cell_type": "markdown",
   "source": [
    "## Проверьте качество модели на тестовой выборке."
   ],
   "metadata": {
    "collapsed": false,
    "pycharm": {
     "name": "#%% md\n"
    }
   }
  },
  {
   "cell_type": "markdown",
   "source": [
    "## Дополнительное задание: проверьте модели на вменяемость."
   ],
   "metadata": {
    "collapsed": false,
    "pycharm": {
     "name": "#%% md\n"
    }
   }
  },
  {
   "cell_type": "markdown",
   "source": [
    "## Описание данных"
   ],
   "metadata": {
    "collapsed": false,
    "pycharm": {
     "name": "#%% md\n"
    }
   }
  },
  {
   "cell_type": "markdown",
   "source": [
    "Каждый объект в наборе данных — это информация о поведении одного пользователя за месяц. Известно:\n",
    "\n",
    "`сalls` — количество звонков,\n",
    "`minutes` — суммарная длительность звонков в минутах,\n",
    "`messages` — количество sms-сообщений,\n",
    "`mb_used` — израсходованный интернет-трафик в Мб,\n",
    "`is_ultra` — каким тарифом пользовался в течение месяца («Ультра» — 1, «Смарт» — 0)."
   ],
   "metadata": {
    "collapsed": false,
    "pycharm": {
     "name": "#%% md\n"
    }
   }
  },
  {
   "cell_type": "markdown",
   "source": [
    "Как будут проверять мой проект?\n",
    "Мы подготовили критерии оценки проекта, которыми руководствуются ревьюеры. Прежде чем приступить к решению кейса, внимательно их изучите.\n",
    "На что обращают внимание ревьюеры, проверяя проект:\n",
    "\n",
    "- Как вы изучаете данные после загрузки?\n",
    "- Корректно ли разделяете данные на выборки?\n",
    "- Как выбираете размеры выборок?\n",
    "- Правильно ли вы оцениваете качество моделей в исследовании?\n",
    "- Какие модели и гиперпараметры вы используете?\n",
    "- Какие выводы об исследовании делаете?\n",
    "- Правильно ли тестируете модели?\n",
    "- Насколько высокое значение accuracy получаете?\n",
    "- Соблюдаете структуру проекта и поддерживаете аккуратность кода?"
   ],
   "metadata": {
    "collapsed": false,
    "pycharm": {
     "name": "#%% md\n"
    }
   }
  }
 ],
 "metadata": {
  "kernelspec": {
   "display_name": "Python 3",
   "language": "python",
   "name": "python3"
  },
  "language_info": {
   "codemirror_mode": {
    "name": "ipython",
    "version": 2
   },
   "file_extension": ".py",
   "mimetype": "text/x-python",
   "name": "python",
   "nbconvert_exporter": "python",
   "pygments_lexer": "ipython2",
   "version": "2.7.6"
  }
 },
 "nbformat": 4,
 "nbformat_minor": 0
}