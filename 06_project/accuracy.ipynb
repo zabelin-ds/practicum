{
 "cells": [
  {
   "cell_type": "markdown",
   "source": [
    "# Рекомендация тарифов"
   ],
   "metadata": {
    "collapsed": false,
    "pycharm": {
     "name": "#%% md\n"
    }
   }
  },
  {
   "cell_type": "markdown",
   "source": [
    "Проектная работа"
   ],
   "metadata": {
    "collapsed": false,
    "pycharm": {
     "name": "#%% md\n"
    }
   }
  },
  {
   "cell_type": "markdown",
   "source": [
    "Описание проекта\n",
    "Оператор мобильной связи «Мегалайн» выяснил: многие клиенты пользуются архивными тарифами. Они хотят построить систему, способную проанализировать поведение клиентов и предложить пользователям новый тариф: «Смарт» или «Ультра».\n",
    "В вашем распоряжении данные о поведении клиентов, которые уже перешли на эти тарифы (из проекта курса «Статистический анализ данных»). Нужно построить модель для задачи классификации, которая выберет подходящий тариф. Предобработка данных не понадобится — вы её уже сделали.\n",
    "Постройте модель с максимально большим значением accuracy. Чтобы сдать проект успешно, нужно довести долю правильных ответов по крайней мере до 0.75. Проверьте accuracy на тестовой выборке самостоятельно."
   ],
   "metadata": {
    "collapsed": false,
    "pycharm": {
     "name": "#%% md\n"
    }
   }
  },
  {
   "cell_type": "markdown",
   "source": [],
   "metadata": {
    "collapsed": false,
    "pycharm": {
     "name": "#%% md\n"
    }
   }
  },
  {
   "cell_type": "code",
   "execution_count": 1,
   "outputs": [],
   "source": [
    "import math\n",
    "\n",
    "import pandas as pd\n",
    "import seaborn as sns\n",
    "import scipy.stats as st\n",
    "import numpy as np\n",
    "import matplotlib.pyplot as plt\n",
    "\n",
    "from sklearn.tree import DecisionTreeClassifier\n",
    "from sklearn.ensemble import RandomForestClassifier\n",
    "from sklearn.linear_model import LogisticRegression\n",
    "from sklearn.neighbors import KNeighborsClassifier\n",
    "from sklearn.svm import SVC\n",
    "from sklearn.discriminant_analysis import LinearDiscriminantAnalysis\n",
    "\n",
    "from sklearn.model_selection import train_test_split\n",
    "from sklearn.metrics import accuracy_score\n",
    "from sklearn.metrics import classification_report\n",
    "from sklearn.metrics import confusion_matrix\n",
    "from sys import getsizeof\n",
    "\n",
    "\n",
    "try:\n",
    "    from IPython.core.display_functions import display\n",
    "except ModuleNotFoundError:\n",
    "    pass\n"
   ],
   "metadata": {
    "collapsed": false,
    "pycharm": {
     "name": "#%%\n"
    }
   }
  },
  {
   "cell_type": "code",
   "execution_count": 2,
   "outputs": [],
   "source": [
    "%config InlineBackend.figure_formats = ['svg']"
   ],
   "metadata": {
    "collapsed": false,
    "pycharm": {
     "name": "#%%\n"
    }
   }
  },
  {
   "cell_type": "code",
   "execution_count": 3,
   "outputs": [],
   "source": [
    "# seaborn style via MATPLOTLIBRC\n",
    "custom_params = {'figure.figsize': (10, 6),\n",
    "                'figure.facecolor': '#232425',\n",
    "                'figure.dpi': 240,\n",
    "\n",
    "                'legend.frameon': False,\n",
    "                'legend.borderpad': 1.4,\n",
    "                'legend.labelspacing': 0.7,\n",
    "                'legend.handlelength': 0.7,\n",
    "                'legend.handleheight': 0.7,\n",
    "\n",
    "                'axes.facecolor': '#232425',\n",
    "                'axes.labelcolor': '#EEEEEE',\n",
    "                'axes.labelpad': 17,\n",
    "                'axes.spines.left': False,\n",
    "                'axes.spines.bottom': False,\n",
    "                'axes.spines.right': False,\n",
    "                'axes.spines.top': False,\n",
    "                'axes.grid': False,\n",
    "\n",
    "                'contour.linewidth': 0.0,\n",
    "\n",
    "                'xtick.color': '#AAAAAA',\n",
    "                'ytick.color': '#AAAAAA',\n",
    "                'xtick.bottom': True,\n",
    "                'xtick.top': False,\n",
    "                'ytick.left': True,\n",
    "                'ytick.right': False,\n",
    "\n",
    "                'text.color': '#EEEEEE',\n",
    "                'font.sans-serif': [\n",
    "                    'Helvetica',\n",
    "                    'Verdana',\n",
    "                    'sans-serif'\n",
    "                    ]\n",
    "                }\n",
    "sns.set_theme(style='darkgrid', rc=custom_params)\n",
    "sns.set_context(\"notebook\", font_scale=1.37)"
   ],
   "metadata": {
    "collapsed": false,
    "pycharm": {
     "name": "#%%\n"
    }
   }
  },
  {
   "cell_type": "code",
   "execution_count": 4,
   "outputs": [],
   "source": [
    "random_seed = 108108108"
   ],
   "metadata": {
    "collapsed": false,
    "pycharm": {
     "name": "#%%\n"
    }
   }
  },
  {
   "cell_type": "code",
   "execution_count": 4,
   "outputs": [],
   "source": [],
   "metadata": {
    "collapsed": false,
    "pycharm": {
     "name": "#%%\n"
    }
   }
  },
  {
   "cell_type": "code",
   "execution_count": 4,
   "outputs": [],
   "source": [],
   "metadata": {
    "collapsed": false,
    "pycharm": {
     "name": "#%%\n"
    }
   }
  },
  {
   "cell_type": "markdown",
   "source": [
    "## Откройте файл с данными и изучите его."
   ],
   "metadata": {
    "collapsed": false,
    "pycharm": {
     "name": "#%% md\n"
    }
   }
  },
  {
   "cell_type": "code",
   "execution_count": 5,
   "outputs": [],
   "source": [
    "try:\n",
    "    accu_df = pd.read_csv('./datasets/users_behavior.csv')\n",
    "except FileNotFoundError:\n",
    "    accu_df = pd.read_csv('https://code.s3.yandex.net/datasets/users_behavior.csv')\n",
    "    print('FYI csv loaded by url')"
   ],
   "metadata": {
    "collapsed": false,
    "pycharm": {
     "name": "#%%\n"
    }
   }
  },
  {
   "cell_type": "code",
   "execution_count": 6,
   "outputs": [
    {
     "data": {
      "text/plain": "      calls  minutes  messages   mb_used  is_ultra\n1414   44.0   287.93       9.0  27093.07         0\n2598   19.0   145.13       6.0   5181.60         1\n1958   35.0   224.79       1.0   8017.23         0\n731    47.0   273.60      60.0  24264.53         0\n1912   36.0   282.91      55.0  22405.02         0",
      "text/html": "<div>\n<style scoped>\n    .dataframe tbody tr th:only-of-type {\n        vertical-align: middle;\n    }\n\n    .dataframe tbody tr th {\n        vertical-align: top;\n    }\n\n    .dataframe thead th {\n        text-align: right;\n    }\n</style>\n<table border=\"1\" class=\"dataframe\">\n  <thead>\n    <tr style=\"text-align: right;\">\n      <th></th>\n      <th>calls</th>\n      <th>minutes</th>\n      <th>messages</th>\n      <th>mb_used</th>\n      <th>is_ultra</th>\n    </tr>\n  </thead>\n  <tbody>\n    <tr>\n      <th>1414</th>\n      <td>44.0</td>\n      <td>287.93</td>\n      <td>9.0</td>\n      <td>27093.07</td>\n      <td>0</td>\n    </tr>\n    <tr>\n      <th>2598</th>\n      <td>19.0</td>\n      <td>145.13</td>\n      <td>6.0</td>\n      <td>5181.60</td>\n      <td>1</td>\n    </tr>\n    <tr>\n      <th>1958</th>\n      <td>35.0</td>\n      <td>224.79</td>\n      <td>1.0</td>\n      <td>8017.23</td>\n      <td>0</td>\n    </tr>\n    <tr>\n      <th>731</th>\n      <td>47.0</td>\n      <td>273.60</td>\n      <td>60.0</td>\n      <td>24264.53</td>\n      <td>0</td>\n    </tr>\n    <tr>\n      <th>1912</th>\n      <td>36.0</td>\n      <td>282.91</td>\n      <td>55.0</td>\n      <td>22405.02</td>\n      <td>0</td>\n    </tr>\n  </tbody>\n</table>\n</div>"
     },
     "metadata": {},
     "output_type": "display_data"
    }
   ],
   "source": [
    "display(\n",
    "    accu_df.sample(5)\n",
    ")"
   ],
   "metadata": {
    "collapsed": false,
    "pycharm": {
     "name": "#%%\n"
    }
   }
  },
  {
   "cell_type": "code",
   "execution_count": 7,
   "outputs": [
    {
     "data": {
      "text/plain": "             calls      minutes     messages       mb_used     is_ultra\ncount  3214.000000  3214.000000  3214.000000   3214.000000  3214.000000\nmean     63.038892   438.208787    38.281269  17207.673836     0.306472\nstd      33.236368   234.569872    36.148326   7570.968246     0.461100\nmin       0.000000     0.000000     0.000000      0.000000     0.000000\n25%      40.000000   274.575000     9.000000  12491.902500     0.000000\n50%      62.000000   430.600000    30.000000  16943.235000     0.000000\n75%      82.000000   571.927500    57.000000  21424.700000     1.000000\nmax     244.000000  1632.060000   224.000000  49745.730000     1.000000",
      "text/html": "<div>\n<style scoped>\n    .dataframe tbody tr th:only-of-type {\n        vertical-align: middle;\n    }\n\n    .dataframe tbody tr th {\n        vertical-align: top;\n    }\n\n    .dataframe thead th {\n        text-align: right;\n    }\n</style>\n<table border=\"1\" class=\"dataframe\">\n  <thead>\n    <tr style=\"text-align: right;\">\n      <th></th>\n      <th>calls</th>\n      <th>minutes</th>\n      <th>messages</th>\n      <th>mb_used</th>\n      <th>is_ultra</th>\n    </tr>\n  </thead>\n  <tbody>\n    <tr>\n      <th>count</th>\n      <td>3214.000000</td>\n      <td>3214.000000</td>\n      <td>3214.000000</td>\n      <td>3214.000000</td>\n      <td>3214.000000</td>\n    </tr>\n    <tr>\n      <th>mean</th>\n      <td>63.038892</td>\n      <td>438.208787</td>\n      <td>38.281269</td>\n      <td>17207.673836</td>\n      <td>0.306472</td>\n    </tr>\n    <tr>\n      <th>std</th>\n      <td>33.236368</td>\n      <td>234.569872</td>\n      <td>36.148326</td>\n      <td>7570.968246</td>\n      <td>0.461100</td>\n    </tr>\n    <tr>\n      <th>min</th>\n      <td>0.000000</td>\n      <td>0.000000</td>\n      <td>0.000000</td>\n      <td>0.000000</td>\n      <td>0.000000</td>\n    </tr>\n    <tr>\n      <th>25%</th>\n      <td>40.000000</td>\n      <td>274.575000</td>\n      <td>9.000000</td>\n      <td>12491.902500</td>\n      <td>0.000000</td>\n    </tr>\n    <tr>\n      <th>50%</th>\n      <td>62.000000</td>\n      <td>430.600000</td>\n      <td>30.000000</td>\n      <td>16943.235000</td>\n      <td>0.000000</td>\n    </tr>\n    <tr>\n      <th>75%</th>\n      <td>82.000000</td>\n      <td>571.927500</td>\n      <td>57.000000</td>\n      <td>21424.700000</td>\n      <td>1.000000</td>\n    </tr>\n    <tr>\n      <th>max</th>\n      <td>244.000000</td>\n      <td>1632.060000</td>\n      <td>224.000000</td>\n      <td>49745.730000</td>\n      <td>1.000000</td>\n    </tr>\n  </tbody>\n</table>\n</div>"
     },
     "metadata": {},
     "output_type": "display_data"
    }
   ],
   "source": [
    "display(\n",
    "    accu_df.describe()\n",
    ")"
   ],
   "metadata": {
    "collapsed": false,
    "pycharm": {
     "name": "#%%\n"
    }
   }
  },
  {
   "cell_type": "code",
   "execution_count": 8,
   "outputs": [
    {
     "name": "stdout",
     "output_type": "stream",
     "text": [
      "<class 'pandas.core.frame.DataFrame'>\n",
      "RangeIndex: 3214 entries, 0 to 3213\n",
      "Data columns (total 5 columns):\n",
      " #   Column    Non-Null Count  Dtype  \n",
      "---  ------    --------------  -----  \n",
      " 0   calls     3214 non-null   float64\n",
      " 1   minutes   3214 non-null   float64\n",
      " 2   messages  3214 non-null   float64\n",
      " 3   mb_used   3214 non-null   float64\n",
      " 4   is_ultra  3214 non-null   int64  \n",
      "dtypes: float64(4), int64(1)\n",
      "memory usage: 125.7 KB\n"
     ]
    },
    {
     "data": {
      "text/plain": "None"
     },
     "metadata": {},
     "output_type": "display_data"
    }
   ],
   "source": [
    "display(\n",
    "    accu_df.info()\n",
    ")"
   ],
   "metadata": {
    "collapsed": false,
    "pycharm": {
     "name": "#%%\n"
    }
   }
  },
  {
   "cell_type": "code",
   "execution_count": 9,
   "outputs": [],
   "source": [
    "accu_df = accu_df.astype(\n",
    "    {\n",
    "        'calls': 'uint8',\n",
    "        'minutes': 'float32',\n",
    "        'messages': 'uint8',\n",
    "        'mb_used': 'float32',\n",
    "        'is_ultra': 'bool',\n",
    "    }\n",
    ")"
   ],
   "metadata": {
    "collapsed": false,
    "pycharm": {
     "name": "#%%\n"
    }
   }
  },
  {
   "cell_type": "code",
   "execution_count": 10,
   "outputs": [
    {
     "name": "stdout",
     "output_type": "stream",
     "text": [
      "Размер набора данных после замены типов данных: 34.67 KB\n"
     ]
    }
   ],
   "source": [
    "print(f'Размер набора данных после замены типов данных:',\n",
    "    round((getsizeof(accu_df) / 1024), 2)\n",
    "    , 'KB'\n",
    ")"
   ],
   "metadata": {
    "collapsed": false,
    "pycharm": {
     "name": "#%%\n"
    }
   }
  },
  {
   "cell_type": "code",
   "execution_count": 11,
   "outputs": [
    {
     "name": "stdout",
     "output_type": "stream",
     "text": [
      "Поьзователей Ultra: 985\n",
      "Поьзователей Smart: 2229\n"
     ]
    }
   ],
   "source": [
    "print(\n",
    "    'Поьзователей Ultra:',\n",
    "    len(accu_df.loc[accu_df['is_ultra'] == True].index)\n",
    ")\n",
    "print(\n",
    "    'Поьзователей Smart:',\n",
    "    len(accu_df.loc[accu_df['is_ultra'] == False].index)\n",
    ")"
   ],
   "metadata": {
    "collapsed": false,
    "pycharm": {
     "name": "#%%\n"
    }
   }
  },
  {
   "cell_type": "markdown",
   "source": [
    "## Разделите исходные данные на обучающую, валидационную и тестовую выборки."
   ],
   "metadata": {
    "collapsed": false,
    "pycharm": {
     "name": "#%% md\n"
    }
   }
  },
  {
   "cell_type": "code",
   "execution_count": 12,
   "outputs": [],
   "source": [
    "features = accu_df.drop(['is_ultra'], axis=1)\n",
    "target = accu_df['is_ultra']\n"
   ],
   "metadata": {
    "collapsed": false,
    "pycharm": {
     "name": "#%%\n"
    }
   }
  },
  {
   "cell_type": "raw",
   "source": [
    "features_train, features_valid, target_train, target_valid = train_test_split(\n",
    "    features, target, test_size=.25, random_state=108108108)"
   ],
   "metadata": {
    "collapsed": false,
    "pycharm": {
     "name": "#%% raw\n"
    }
   }
  },
  {
   "cell_type": "markdown",
   "source": [
    "> Спрятанной тестовой выборки нет. Значит, данные нужно разбить на три части: обучающую, валидационную и тестовую. Размеры тестового и валидационного наборов обычно равны. Исходные данные разбивают в соотношении 3:1:1.\n"
   ],
   "metadata": {
    "collapsed": false,
    "pycharm": {
     "name": "#%% md\n"
    }
   }
  },
  {
   "cell_type": "markdown",
   "source": [
    "Используем стандартные пропорции для деления набора данных:\n",
    "- обучающая выборка 60%\n",
    "- валидационная выборка 20%\n",
    "- тестовая выборка 20%\n"
   ],
   "metadata": {
    "collapsed": false,
    "pycharm": {
     "name": "#%% md\n"
    }
   }
  },
  {
   "cell_type": "code",
   "execution_count": 13,
   "outputs": [],
   "source": [
    "features_train, features_valid,\\\n",
    "target_train, target_valid = train_test_split(\n",
    "    features, target,\n",
    "    test_size=0.2,\n",
    "    shuffle = True,\n",
    "    random_state=random_seed\n",
    ")\n",
    "\n",
    "features_train, features_test,\\\n",
    "target_train, target_test = train_test_split(\n",
    "    features_train,\n",
    "    target_train,\n",
    "    test_size=0.25,\n",
    "    random_state=random_seed\n",
    ")"
   ],
   "metadata": {
    "collapsed": false,
    "pycharm": {
     "name": "#%%\n"
    }
   }
  },
  {
   "cell_type": "code",
   "execution_count": 14,
   "outputs": [
    {
     "name": "stdout",
     "output_type": "stream",
     "text": [
      "x_train (1928, 4)\n",
      "x_valid (643, 4)\n",
      "x_test (643, 4)\n",
      "\n",
      "y_train (1928,)\n",
      "y_valid (643,)\n",
      "y_test (643,)\n"
     ]
    }
   ],
   "source": [
    "print('x_train', features_train.shape)\n",
    "print('x_valid', features_valid.shape)\n",
    "print('x_test', features_test.shape)\n",
    "print()\n",
    "print('y_train', target_train.shape)\n",
    "print('y_valid', target_valid.shape)\n",
    "print('y_test', target_test.shape)\n"
   ],
   "metadata": {
    "collapsed": false,
    "pycharm": {
     "name": "#%%\n"
    }
   }
  },
  {
   "cell_type": "markdown",
   "source": [
    "Соотношения выборок похожи на правду 👏"
   ],
   "metadata": {
    "collapsed": false,
    "pycharm": {
     "name": "#%% md\n"
    }
   }
  },
  {
   "cell_type": "markdown",
   "source": [
    "## Исследуйте качество разных моделей, меняя гиперпараметры."
   ],
   "metadata": {
    "collapsed": false,
    "pycharm": {
     "name": "#%% md\n"
    }
   }
  },
  {
   "cell_type": "markdown",
   "source": [
    "### DecisionTreeClassifier"
   ],
   "metadata": {
    "collapsed": false,
    "pycharm": {
     "name": "#%% md\n"
    }
   }
  },
  {
   "cell_type": "raw",
   "source": [
    "tree_model = DecisionTreeClassifier(random_state=108108108, max_depth=3)"
   ],
   "metadata": {
    "collapsed": false,
    "pycharm": {
     "name": "#%% raw\n"
    }
   }
  },
  {
   "cell_type": "raw",
   "source": [
    "tree_model.fit(features_train, target_train)"
   ],
   "metadata": {
    "collapsed": false,
    "pycharm": {
     "name": "#%% raw\n"
    }
   }
  },
  {
   "cell_type": "raw",
   "source": [
    "tree_predictions = tree_model.predict(features_valid)"
   ],
   "metadata": {
    "collapsed": false,
    "pycharm": {
     "name": "#%% raw\n"
    }
   }
  },
  {
   "cell_type": "raw",
   "source": [
    "tree_accuracy = accuracy_score(target_valid, tree_predictions)"
   ],
   "metadata": {
    "collapsed": false,
    "pycharm": {
     "name": "#%% raw\n"
    }
   }
  },
  {
   "cell_type": "markdown",
   "source": [],
   "metadata": {
    "collapsed": false,
    "pycharm": {
     "name": "#%% md\n"
    }
   }
  },
  {
   "cell_type": "markdown",
   "source": [
    "Подберём параметр `max_depth`"
   ],
   "metadata": {
    "collapsed": false,
    "pycharm": {
     "name": "#%% md\n"
    }
   }
  },
  {
   "cell_type": "raw",
   "source": [
    "best_model = None\n",
    "best_result = 0\n",
    "for depth in range(1, 6):\n",
    "    model = DecisionTreeClassifier(\n",
    "        random_state=12345,\n",
    "        max_depth=depth)\n",
    "    model.fit(features, target)\n",
    "    predictions = model.predict(features) # получите предсказания модели\n",
    "    result = accuracy_score(target, predictions) # посчитайте качество модели\n",
    "    if result > best_result:\n",
    "        best_model = model\n",
    "        best_result = result\n",
    "\n",
    "print(\"Accuracy лучшей модели:\", best_result)"
   ],
   "metadata": {
    "collapsed": false,
    "pycharm": {
     "name": "#%% raw\n"
    }
   }
  },
  {
   "cell_type": "code",
   "execution_count": 15,
   "outputs": [
    {
     "name": "stdout",
     "output_type": "stream",
     "text": [
      "max_depth = 1 : 0.7060653188180405\n",
      "max_depth = 2 : 0.749611197511664\n",
      "max_depth = 3 : 0.7729393468118196\n",
      "max_depth = 4 : 0.7558320373250389\n",
      "max_depth = 5 : 0.7698289269051322\n",
      "max_depth = 6 : 0.7589424572317263\n",
      "max_depth = 7 : 0.76049766718507\n",
      "max_depth = 8 : 0.7620528771384136\n",
      "max_depth = 9 : 0.7558320373250389\n",
      "max_depth = 10 : 0.7558320373250389\n",
      "best depth: 3\n"
     ]
    }
   ],
   "source": [
    "best_accu = 0\n",
    "best_depth = 0\n",
    "for depth in range(1, 11):\n",
    "    tree_model = DecisionTreeClassifier(\n",
    "        random_state=random_seed,\n",
    "        max_depth=depth\n",
    "    )\n",
    "\n",
    "    tree_model.fit(features_train, target_train)\n",
    "    tree_predictions = tree_model.predict(features_valid)\n",
    "    tree_accuracy = accuracy_score(target_valid, tree_predictions)\n",
    "    print('max_depth =', depth, ':', tree_accuracy)\n",
    "    if tree_accuracy > best_accu:\n",
    "        best_accu = tree_accuracy\n",
    "        best_depth = depth\n",
    "\n",
    "print('best depth:', best_depth)"
   ],
   "metadata": {
    "collapsed": false,
    "pycharm": {
     "name": "#%%\n"
    }
   }
  },
  {
   "cell_type": "markdown",
   "source": [
    "### RandomForestClassifier"
   ],
   "metadata": {
    "collapsed": false,
    "pycharm": {
     "name": "#%% md\n"
    }
   }
  },
  {
   "cell_type": "code",
   "execution_count": 16,
   "outputs": [
    {
     "name": "stdout",
     "output_type": "stream",
     "text": [
      "n_estimators: 1\n",
      "max_depth: 1\n",
      "min_samples_split: 2\n",
      "0.7045\n",
      "n_estimators: 1\n",
      "max_depth: 2\n",
      "min_samples_split: 2\n",
      "0.7465\n",
      "n_estimators: 1\n",
      "max_depth: 3\n",
      "min_samples_split: 2\n",
      "0.7652\n",
      "n_estimators: 1\n",
      "max_depth: 6\n",
      "min_samples_split: 2\n",
      "0.7698\n",
      "n_estimators: 1\n",
      "max_depth: 7\n",
      "min_samples_split: 2\n",
      "0.7729\n",
      "n_estimators: 1\n",
      "max_depth: 8\n",
      "min_samples_split: 2\n",
      "0.7792\n",
      "n_estimators: 3\n",
      "max_depth: 6\n",
      "min_samples_split: 2\n",
      "0.7869\n",
      "n_estimators: 7\n",
      "max_depth: 8\n",
      "min_samples_split: 3\n",
      "0.7885\n",
      "n_estimators: 9\n",
      "max_depth: 10\n",
      "min_samples_split: 2\n",
      "0.79\n",
      "n_estimators: 9\n",
      "max_depth: 10\n",
      "min_samples_split: 3\n",
      "0.7932\n",
      "n_estimators: 10\n",
      "max_depth: 10\n",
      "min_samples_split: 3\n",
      "0.7978\n",
      "Итог:\n",
      "n_estimators: 10\n",
      "max_depth: 10\n",
      "min_samples_split: 6\n",
      "0.7978\n"
     ]
    }
   ],
   "source": [
    "best_est = 0\n",
    "best_depth = 0\n",
    "best_min_sam = 0\n",
    "best_result = 0\n",
    "for est in range(1, 11):\n",
    "    for depth in range(1, 11):\n",
    "        for min_sam in range(2, 7):\n",
    "            forest_model = RandomForestClassifier(\n",
    "                random_state=random_seed,\n",
    "                n_estimators=est,\n",
    "                max_depth=depth,\n",
    "                min_samples_split=min_sam,\n",
    "            )\n",
    "\n",
    "            forest_model.fit(features_train, target_train)\n",
    "            forest_result = forest_model.score(features_valid, target_valid)\n",
    "\n",
    "            if forest_result > best_result:\n",
    "                best_est = est\n",
    "                best_depth = depth\n",
    "                best_min_sam = min_sam\n",
    "                best_result = forest_result\n",
    "                print('n_estimators:', best_est)\n",
    "                print('max_depth:', depth)\n",
    "                print('min_samples_split:', min_sam)\n",
    "                print(round(best_result, 4))\n",
    "\n",
    "print('Итог:')\n",
    "print('n_estimators:', best_est)\n",
    "print('max_depth:', depth)\n",
    "print('min_samples_split:', min_sam)\n",
    "print(round(best_result, 4))"
   ],
   "metadata": {
    "collapsed": false,
    "pycharm": {
     "name": "#%%\n"
    }
   }
  },
  {
   "cell_type": "markdown",
   "source": [
    "Проверим на тестовых данных:"
   ],
   "metadata": {
    "collapsed": false,
    "pycharm": {
     "name": "#%% md\n"
    }
   }
  },
  {
   "cell_type": "code",
   "execution_count": 17,
   "outputs": [
    {
     "name": "stdout",
     "output_type": "stream",
     "text": [
      "Точность RandomForestClassifier: 0.8040435458786936\n"
     ]
    }
   ],
   "source": [
    "forest_model = RandomForestClassifier(\n",
    "    random_state=random_seed,\n",
    "    n_estimators=9,\n",
    "    min_samples_split=4,\n",
    "    # max_features=5,\n",
    ")\n",
    "forest_model.fit(features_train, target_train)\n",
    "\n",
    "forest_predict = forest_model.predict(features_test)\n",
    "forest_accuracy = accuracy_score(target_test, forest_predict)\n",
    "\n",
    "print('Точность RandomForestClassifier:', forest_accuracy)"
   ],
   "metadata": {
    "collapsed": false,
    "pycharm": {
     "name": "#%%\n"
    }
   }
  },
  {
   "cell_type": "markdown",
   "source": [
    "### LogisticRegression"
   ],
   "metadata": {
    "collapsed": false,
    "pycharm": {
     "name": "#%% md\n"
    }
   }
  },
  {
   "cell_type": "code",
   "execution_count": 18,
   "outputs": [
    {
     "name": "stdout",
     "output_type": "stream",
     "text": [
      "0.6609642301710731\n"
     ]
    }
   ],
   "source": [
    "log_reg_model = LogisticRegression(\n",
    "    random_state=random_seed,\n",
    "    solver='lbfgs',\n",
    "    max_iter=3000,\n",
    "    # fit_intercept=False,\n",
    ")\n",
    "\n",
    "log_reg_model.fit(features_train, target_train)\n",
    "\n",
    "log_reg_model.score(features_valid, target_valid)\n",
    "print(log_reg_model.score(features_valid, target_valid))\n",
    "# dump(model, 'model_9_1.joblib')"
   ],
   "metadata": {
    "collapsed": false,
    "pycharm": {
     "name": "#%%\n"
    }
   }
  },
  {
   "cell_type": "markdown",
   "source": [
    "### Support Vector Classifier"
   ],
   "metadata": {
    "collapsed": false,
    "pycharm": {
     "name": "#%% md\n"
    }
   }
  },
  {
   "cell_type": "code",
   "execution_count": 19,
   "outputs": [
    {
     "name": "stdout",
     "output_type": "stream",
     "text": [
      "0.7013996889580093\n",
      "[[410 180]\n",
      " [ 12  41]]\n"
     ]
    }
   ],
   "source": [
    "svc_model = SVC()\n",
    "svc_model.fit(features_train, target_train)\n",
    "\n",
    "svc_prediction = svc_model.predict(features_valid)\n",
    "\n",
    "print(accuracy_score(svc_prediction, target_valid))\n",
    "\n",
    "# But Confusion Matrix and Classification Report give more details about performance\n",
    "print(confusion_matrix(svc_prediction, target_valid))\n"
   ],
   "metadata": {
    "collapsed": false,
    "pycharm": {
     "name": "#%%\n"
    }
   }
  },
  {
   "cell_type": "markdown",
   "source": [
    "### K-Nearest Neighbors Classifier"
   ],
   "metadata": {
    "collapsed": false,
    "pycharm": {
     "name": "#%% md\n"
    }
   }
  },
  {
   "cell_type": "code",
   "execution_count": 20,
   "outputs": [
    {
     "name": "stdout",
     "output_type": "stream",
     "text": [
      "0.6640746500777605\n",
      "0.6951788491446346\n",
      "0.6998444790046656\n",
      "0.7153965785381027\n",
      "0.7200622083981337\n",
      "0.7309486780715396\n",
      "0.7309486780715396\n",
      "0.7278382581648523\n",
      "0.7356143079315708\n"
     ]
    }
   ],
   "source": [
    "for n in range(1, 10):\n",
    "    knn_model = KNeighborsClassifier(n_neighbors=n)\n",
    "    knn_model.fit(features_train, target_train)\n",
    "    knn_prediction = knn_model.predict(features_valid)\n",
    "\n",
    "    print(accuracy_score(knn_prediction, target_valid))\n",
    "    # print(classification_report(knn_prediction, target_valid))"
   ],
   "metadata": {
    "collapsed": false,
    "pycharm": {
     "name": "#%%\n"
    }
   }
  },
  {
   "cell_type": "markdown",
   "source": [
    "### LinearDiscriminantAnalysis"
   ],
   "metadata": {
    "collapsed": false,
    "pycharm": {
     "name": "#%% md\n"
    }
   }
  },
  {
   "cell_type": "code",
   "execution_count": 23,
   "outputs": [
    {
     "name": "stdout",
     "output_type": "stream",
     "text": [
      "0.7216174183514774\n",
      "0.7216174183514774\n",
      "0.7216174183514774\n",
      "best score 0.7216174183514774 best solver eigen\n"
     ]
    }
   ],
   "source": [
    "best_solver = None\n",
    "lda_best_score = 0\n",
    "lda_grid_solver=['svd', 'lsqr', 'eigen']\n",
    "\n",
    "\n",
    "for solver in lda_grid_solver:\n",
    "    lin_discr_an_model = LinearDiscriminantAnalysis(solver=solver)\n",
    "    lin_discr_an_model.fit(features_train, target_train)\n",
    "    lin_discr_an_prediction = lin_discr_an_model.predict(features_valid)\n",
    "    lda_accu = accuracy_score(lin_discr_an_prediction, target_valid)\n",
    "    if lda_accu > lda_best_score:\n",
    "        lda_best_score = lda_accu\n",
    "        best_solver = solver\n",
    "    print(lda_accu)\n",
    "\n",
    "print('best score', lda_best_score,\n",
    "'best solver', solver)"
   ],
   "metadata": {
    "collapsed": false,
    "pycharm": {
     "name": "#%%\n"
    }
   }
  },
  {
   "cell_type": "code",
   "execution_count": null,
   "outputs": [],
   "source": [],
   "metadata": {
    "collapsed": false,
    "pycharm": {
     "name": "#%%\n"
    }
   }
  },
  {
   "cell_type": "markdown",
   "source": [
    "### Кратко напишите выводы исследования."
   ],
   "metadata": {
    "collapsed": false,
    "pycharm": {
     "name": "#%% md\n"
    }
   }
  },
  {
   "cell_type": "markdown",
   "source": [
    "## Проверьте качество модели на тестовой выборке."
   ],
   "metadata": {
    "collapsed": false,
    "pycharm": {
     "name": "#%% md\n"
    }
   }
  },
  {
   "cell_type": "markdown",
   "source": [
    "## Дополнительное задание: проверьте модели на вменяемость."
   ],
   "metadata": {
    "collapsed": false,
    "pycharm": {
     "name": "#%% md\n"
    }
   }
  },
  {
   "cell_type": "markdown",
   "source": [
    "## Описание данных"
   ],
   "metadata": {
    "collapsed": false,
    "pycharm": {
     "name": "#%% md\n"
    }
   }
  },
  {
   "cell_type": "markdown",
   "source": [
    "Каждый объект в наборе данных — это информация о поведении одного пользователя за месяц. Известно:\n",
    "\n",
    "`сalls` — количество звонков,\n",
    "`minutes` — суммарная длительность звонков в минутах,\n",
    "`messages` — количество sms-сообщений,\n",
    "`mb_used` — израсходованный интернет-трафик в Мб,\n",
    "`is_ultra` — каким тарифом пользовался в течение месяца («Ультра» — 1, «Смарт» — 0)."
   ],
   "metadata": {
    "collapsed": false,
    "pycharm": {
     "name": "#%% md\n"
    }
   }
  },
  {
   "cell_type": "markdown",
   "source": [
    "Как будут проверять мой проект?\n",
    "Мы подготовили критерии оценки проекта, которыми руководствуются ревьюеры. Прежде чем приступить к решению кейса, внимательно их изучите.\n",
    "На что обращают внимание ревьюеры, проверяя проект:\n",
    "\n",
    "- Как вы изучаете данные после загрузки?\n",
    "- Корректно ли разделяете данные на выборки?\n",
    "- Как выбираете размеры выборок?\n",
    "- Правильно ли вы оцениваете качество моделей в исследовании?\n",
    "- Какие модели и гиперпараметры вы используете?\n",
    "- Какие выводы об исследовании делаете?\n",
    "- Правильно ли тестируете модели?\n",
    "- Насколько высокое значение accuracy получаете?\n",
    "- Соблюдаете структуру проекта и поддерживаете аккуратность кода?"
   ],
   "metadata": {
    "collapsed": false,
    "pycharm": {
     "name": "#%% md\n"
    }
   }
  },
  {
   "cell_type": "raw",
   "source": [
    "from sklearn.tree import ExtraTreeClassifier\n",
    "from sklearn.tree import DecisionTreeClassifier\n",
    "from sklearn.svm.classes import OneClassSVM\n",
    "from sklearn.neural_network.multilayer_perceptron import MLPClassifier\n",
    "from sklearn.neighbors.classification import RadiusNeighborsClassifier\n",
    "from sklearn.neighbors.classification import KNeighborsClassifier\n",
    "from sklearn.multioutput import ClassifierChain\n",
    "from sklearn.multioutput import MultiOutputClassifier\n",
    "from sklearn.multiclass import OutputCodeClassifier\n",
    "from sklearn.multiclass import OneVsOneClassifier\n",
    "from sklearn.multiclass import OneVsRestClassifier\n",
    "from sklearn.linear_model.stochastic_gradient import SGDClassifier\n",
    "from sklearn.linear_model.ridge import RidgeClassifierCV\n",
    "from sklearn.linear_model.ridge import RidgeClassifier\n",
    "from sklearn.linear_model.passive_aggressive import PassiveAggressiveClassifier\n",
    "from sklearn.gaussian_process.gpc import GaussianProcessClassifier\n",
    "from sklearn.ensemble.voting_classifier import VotingClassifier\n",
    "from sklearn.ensemble.weight_boosting import AdaBoostClassifier\n",
    "from sklearn.ensemble.gradient_boosting import GradientBoostingClassifier\n",
    "from sklearn.ensemble.bagging import BaggingClassifier\n",
    "from sklearn.ensemble.forest import ExtraTreesClassifier\n",
    "from sklearn.ensemble.forest import RandomForestClassifier\n",
    "from sklearn.naive_bayes import BernoulliNB\n",
    "from sklearn.calibration import CalibratedClassifierCV\n",
    "from sklearn.naive_bayes import GaussianNB\n",
    "from sklearn.semi_supervised import LabelPropagation\n",
    "from sklearn.semi_supervised import LabelSpreading\n",
    "from sklearn.discriminant_analysis import LinearDiscriminantAnalysis\n",
    "from sklearn.svm import LinearSVC\n",
    "from sklearn.linear_model import LogisticRegression\n",
    "from sklearn.linear_model import LogisticRegressionCV\n",
    "from sklearn.naive_bayes import MultinomialNB\n",
    "from sklearn.neighbors import NearestCentroid\n",
    "from sklearn.svm import NuSVC\n",
    "from sklearn.linear_model import Perceptron\n",
    "from sklearn.discriminant_analysis import QuadraticDiscriminantAnalysis\n",
    "from sklearn.svm import SVC\n",
    "from sklearn.mixture import DPGMM\n",
    "from sklearn.mixture import GMM\n",
    "from sklearn.mixture import GaussianMixture\n",
    "from sklearn.mixture import VBGMM"
   ],
   "metadata": {
    "collapsed": false,
    "pycharm": {
     "name": "#%% raw\n"
    }
   }
  }
 ],
 "metadata": {
  "kernelspec": {
   "display_name": "Python 3",
   "language": "python",
   "name": "python3"
  },
  "language_info": {
   "codemirror_mode": {
    "name": "ipython",
    "version": 2
   },
   "file_extension": ".py",
   "mimetype": "text/x-python",
   "name": "python",
   "nbconvert_exporter": "python",
   "pygments_lexer": "ipython2",
   "version": "2.7.6"
  }
 },
 "nbformat": 4,
 "nbformat_minor": 0
}