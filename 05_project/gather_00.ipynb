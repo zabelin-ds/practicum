{
 "cells": [
  {
   "cell_type": "markdown",
   "source": [
    "# Сборный проект"
   ],
   "metadata": {
    "collapsed": false,
    "pycharm": {
     "name": "#%% md\n"
    }
   }
  },
  {
   "cell_type": "markdown",
   "source": [
    "## Введение"
   ],
   "metadata": {
    "collapsed": false,
    "pycharm": {
     "name": "#%% md\n"
    }
   }
  },
  {
   "cell_type": "markdown",
   "source": [
    "Выявить определяющие успешность игры закономерности. Это позволит сделать ставку на потенциально популярный продукт и спланировать рекламные кампании."
   ],
   "metadata": {
    "collapsed": false,
    "pycharm": {
     "name": "#%% md\n"
    }
   }
  },
  {
   "cell_type": "markdown",
   "source": [
    "похоже, найден оригинал данных…\n",
    "\n",
    "[video game sales on kaggle.com](https://www.kaggle.com/datasets/gregorut/videogamesales) 🤫"
   ],
   "metadata": {
    "collapsed": false,
    "pycharm": {
     "name": "#%% md\n"
    }
   }
  },
  {
   "cell_type": "markdown",
   "source": [],
   "metadata": {
    "collapsed": false,
    "pycharm": {
     "name": "#%% md\n"
    }
   }
  },
  {
   "cell_type": "markdown",
   "source": [
    "<div class=\"alert alert-info\" role=\"alert\">\n",
    "    <p class=\"mb-0\">В коде использую <code>display()</code>, потомучто это однозначно даёт понять что планируется вывод / печать результатов. То есть использую <code>display()</code> намеренно, хотя понимаю что можно и без него выводить данные. 👌</p>\n",
    "</div>"
   ],
   "metadata": {
    "collapsed": false,
    "pycharm": {
     "name": "#%% md\n"
    }
   }
  },
  {
   "cell_type": "markdown",
   "source": [
    "<hr>"
   ],
   "metadata": {
    "collapsed": false,
    "pycharm": {
     "name": "#%% md\n"
    }
   }
  },
  {
   "cell_type": "markdown",
   "source": [
    "## Шаг 0"
   ],
   "metadata": {
    "collapsed": false,
    "pycharm": {
     "name": "#%% md\n"
    }
   }
  },
  {
   "cell_type": "code",
   "execution_count": 27,
   "outputs": [],
   "source": [
    "import pandas as pd\n",
    "import seaborn as sns\n",
    "import scipy.stats as st\n",
    "import numpy as np\n",
    "\n"
   ],
   "metadata": {
    "collapsed": false,
    "pycharm": {
     "name": "#%%\n"
    }
   }
  },
  {
   "cell_type": "code",
   "execution_count": 28,
   "outputs": [],
   "source": [
    "%config InlineBackend.figure_formats = ['svg']"
   ],
   "metadata": {
    "collapsed": false,
    "pycharm": {
     "name": "#%%\n"
    }
   }
  },
  {
   "cell_type": "code",
   "execution_count": 29,
   "outputs": [],
   "source": [
    "# seaborn style via MATPLOTLIBRC\n",
    "custom_params = {'figure.figsize': (15, 7),\n",
    "                'figure.facecolor': '#232425',\n",
    "                'figure.dpi': 240,\n",
    "\n",
    "                'legend.frameon': False,\n",
    "                'legend.borderpad': 1.4,\n",
    "                'legend.labelspacing': 0.7,\n",
    "                'legend.handlelength': 0.7,\n",
    "                'legend.handleheight': 0.7,\n",
    "\n",
    "                'axes.facecolor': '#232425',\n",
    "                'axes.labelcolor': '#EEEEEE',\n",
    "                'axes.labelpad': 17,\n",
    "                'axes.spines.left': False,\n",
    "                'axes.spines.bottom': False,\n",
    "                'axes.spines.right': False,\n",
    "                'axes.spines.top': False,\n",
    "                'axes.grid': False,\n",
    "\n",
    "                'contour.linewidth': 0.0,\n",
    "\n",
    "                'xtick.color': '#AAAAAA',\n",
    "                'ytick.color': '#AAAAAA',\n",
    "                'xtick.bottom': True,\n",
    "                'xtick.top': False,\n",
    "                'ytick.left': True,\n",
    "                'ytick.right': False,\n",
    "\n",
    "                'text.color': '#EEEEEE',\n",
    "                'font.sans-serif': [\n",
    "                    'Helvetica',\n",
    "                    'Verdana',\n",
    "                    'sans-serif'\n",
    "                    ]\n",
    "                }\n",
    "sns.set_theme(style='darkgrid', rc=custom_params)\n",
    "sns.set_context(\"notebook\", font_scale=1.37)"
   ],
   "metadata": {
    "collapsed": false,
    "pycharm": {
     "name": "#%%\n"
    }
   }
  },
  {
   "cell_type": "markdown",
   "source": [
    "<hr>"
   ],
   "metadata": {
    "collapsed": false,
    "pycharm": {
     "name": "#%% md\n"
    }
   }
  },
  {
   "cell_type": "markdown",
   "source": [
    "## Шаг 1. Откройте файл с данными и изучите общую информацию"
   ],
   "metadata": {
    "collapsed": false,
    "pycharm": {
     "name": "#%% md\n"
    }
   }
  },
  {
   "cell_type": "markdown",
   "source": [
    "Загружаем данные тестового задания."
   ],
   "metadata": {
    "collapsed": false,
    "pycharm": {
     "name": "#%% md\n"
    }
   }
  },
  {
   "cell_type": "code",
   "execution_count": 30,
   "outputs": [],
   "source": [
    "try:\n",
    "    games_df = pd.read_csv('./datasets/games.csv')\n",
    "except FileNotFoundError:\n",
    "    games_df = pd.read_csv('https://code.s3.yandex.net/datasets/games.csv')\n",
    "    print('games_df loaded by url')"
   ],
   "metadata": {
    "collapsed": false,
    "pycharm": {
     "name": "#%%\n"
    }
   }
  },
  {
   "cell_type": "code",
   "execution_count": 39,
   "outputs": [],
   "source": [
    "games_df.columns = games_df.columns.str.lower()"
   ],
   "metadata": {
    "collapsed": false,
    "pycharm": {
     "name": "#%%\n"
    }
   }
  },
  {
   "cell_type": "code",
   "execution_count": 40,
   "outputs": [
    {
     "data": {
      "text/plain": "                                        name platform  year_of_release  \\\n6510                       Babysitting Mania       DS           2008.0   \n12106  Dynasty Warriors DS: Fighter's Battle       DS           2007.0   \n10241                  X-Men: Next Dimension       XB           2002.0   \n4995              Wolfenstein: The New Order     X360           2014.0   \n1835                           Dragon Age II     X360           2011.0   \n935                                 SingStar      PS2           2004.0   \n15524             Devil Survivor: Over Clock      3DS           2015.0   \n\n            genre  na_sales  eu_sales  jp_sales  other_sales  critic_score  \\\n6510   Simulation      0.24      0.00      0.00         0.02           NaN   \n12106      Action      0.04      0.00      0.03         0.00          56.0   \n10241    Fighting      0.08      0.02      0.00         0.00          56.0   \n4995      Shooter      0.18      0.17      0.00         0.03           NaN   \n1835       Action      0.72      0.29      0.01         0.09          79.0   \n935          Misc      0.00      1.37      0.00         0.49           NaN   \n15524    Strategy      0.00      0.00      0.02         0.00           NaN   \n\n      user_score rating  \n6510         tbd      E  \n12106        tbd   E10+  \n10241        tbd      T  \n4995         7.4      M  \n1835         4.5      M  \n935          NaN    NaN  \n15524        NaN    NaN  ",
      "text/html": "<div>\n<style scoped>\n    .dataframe tbody tr th:only-of-type {\n        vertical-align: middle;\n    }\n\n    .dataframe tbody tr th {\n        vertical-align: top;\n    }\n\n    .dataframe thead th {\n        text-align: right;\n    }\n</style>\n<table border=\"1\" class=\"dataframe\">\n  <thead>\n    <tr style=\"text-align: right;\">\n      <th></th>\n      <th>name</th>\n      <th>platform</th>\n      <th>year_of_release</th>\n      <th>genre</th>\n      <th>na_sales</th>\n      <th>eu_sales</th>\n      <th>jp_sales</th>\n      <th>other_sales</th>\n      <th>critic_score</th>\n      <th>user_score</th>\n      <th>rating</th>\n    </tr>\n  </thead>\n  <tbody>\n    <tr>\n      <th>6510</th>\n      <td>Babysitting Mania</td>\n      <td>DS</td>\n      <td>2008.0</td>\n      <td>Simulation</td>\n      <td>0.24</td>\n      <td>0.00</td>\n      <td>0.00</td>\n      <td>0.02</td>\n      <td>NaN</td>\n      <td>tbd</td>\n      <td>E</td>\n    </tr>\n    <tr>\n      <th>12106</th>\n      <td>Dynasty Warriors DS: Fighter's Battle</td>\n      <td>DS</td>\n      <td>2007.0</td>\n      <td>Action</td>\n      <td>0.04</td>\n      <td>0.00</td>\n      <td>0.03</td>\n      <td>0.00</td>\n      <td>56.0</td>\n      <td>tbd</td>\n      <td>E10+</td>\n    </tr>\n    <tr>\n      <th>10241</th>\n      <td>X-Men: Next Dimension</td>\n      <td>XB</td>\n      <td>2002.0</td>\n      <td>Fighting</td>\n      <td>0.08</td>\n      <td>0.02</td>\n      <td>0.00</td>\n      <td>0.00</td>\n      <td>56.0</td>\n      <td>tbd</td>\n      <td>T</td>\n    </tr>\n    <tr>\n      <th>4995</th>\n      <td>Wolfenstein: The New Order</td>\n      <td>X360</td>\n      <td>2014.0</td>\n      <td>Shooter</td>\n      <td>0.18</td>\n      <td>0.17</td>\n      <td>0.00</td>\n      <td>0.03</td>\n      <td>NaN</td>\n      <td>7.4</td>\n      <td>M</td>\n    </tr>\n    <tr>\n      <th>1835</th>\n      <td>Dragon Age II</td>\n      <td>X360</td>\n      <td>2011.0</td>\n      <td>Action</td>\n      <td>0.72</td>\n      <td>0.29</td>\n      <td>0.01</td>\n      <td>0.09</td>\n      <td>79.0</td>\n      <td>4.5</td>\n      <td>M</td>\n    </tr>\n    <tr>\n      <th>935</th>\n      <td>SingStar</td>\n      <td>PS2</td>\n      <td>2004.0</td>\n      <td>Misc</td>\n      <td>0.00</td>\n      <td>1.37</td>\n      <td>0.00</td>\n      <td>0.49</td>\n      <td>NaN</td>\n      <td>NaN</td>\n      <td>NaN</td>\n    </tr>\n    <tr>\n      <th>15524</th>\n      <td>Devil Survivor: Over Clock</td>\n      <td>3DS</td>\n      <td>2015.0</td>\n      <td>Strategy</td>\n      <td>0.00</td>\n      <td>0.00</td>\n      <td>0.02</td>\n      <td>0.00</td>\n      <td>NaN</td>\n      <td>NaN</td>\n      <td>NaN</td>\n    </tr>\n  </tbody>\n</table>\n</div>"
     },
     "metadata": {},
     "output_type": "display_data"
    }
   ],
   "source": [
    "display(\n",
    "    games_df.sample(7)\n",
    ")"
   ],
   "metadata": {
    "collapsed": false,
    "pycharm": {
     "name": "#%%\n"
    }
   }
  },
  {
   "cell_type": "code",
   "execution_count": 41,
   "outputs": [
    {
     "name": "stdout",
     "output_type": "stream",
     "text": [
      "<class 'pandas.core.frame.DataFrame'>\n",
      "RangeIndex: 16715 entries, 0 to 16714\n",
      "Data columns (total 11 columns):\n",
      " #   Column           Non-Null Count  Dtype  \n",
      "---  ------           --------------  -----  \n",
      " 0   name             16713 non-null  object \n",
      " 1   platform         16715 non-null  object \n",
      " 2   year_of_release  16446 non-null  float64\n",
      " 3   genre            16713 non-null  object \n",
      " 4   na_sales         16715 non-null  float64\n",
      " 5   eu_sales         16715 non-null  float64\n",
      " 6   jp_sales         16715 non-null  float64\n",
      " 7   other_sales      16715 non-null  float64\n",
      " 8   critic_score     8137 non-null   float64\n",
      " 9   user_score       10014 non-null  object \n",
      " 10  rating           9949 non-null   object \n",
      "dtypes: float64(6), object(5)\n",
      "memory usage: 1.4+ MB\n"
     ]
    },
    {
     "data": {
      "text/plain": "None"
     },
     "metadata": {},
     "output_type": "display_data"
    }
   ],
   "source": [
    "display(\n",
    "    games_df.info()\n",
    ")"
   ],
   "metadata": {
    "collapsed": false,
    "pycharm": {
     "name": "#%%\n"
    }
   }
  },
  {
   "cell_type": "markdown",
   "source": [
    "Колонки с пропусками:"
   ],
   "metadata": {
    "collapsed": false,
    "pycharm": {
     "name": "#%% md\n"
    }
   }
  },
  {
   "cell_type": "code",
   "execution_count": 42,
   "outputs": [
    {
     "data": {
      "text/plain": "['name', 'year_of_release', 'genre', 'critic_score', 'user_score', 'rating']"
     },
     "metadata": {},
     "output_type": "display_data"
    }
   ],
   "source": [
    "display(\n",
    "    games_df.columns[games_df.isna().any()].tolist()\n",
    ")"
   ],
   "metadata": {
    "collapsed": false,
    "pycharm": {
     "name": "#%%\n"
    }
   }
  },
  {
   "cell_type": "markdown",
   "source": [
    "⭕️ 'name' `NaN`\n",
    "⭕️ 'year_of_release' `NaN`\n",
    "⭕️ 'genre' `NaN`\n",
    "⭕️ 'critic_score' `NaN`\n",
    "⭕️ 'user_score' `NaN`\n",
    "⭕️ 'rating' `NaN`"
   ],
   "metadata": {
    "collapsed": false,
    "pycharm": {
     "name": "#%% md\n"
    }
   }
  },
  {
   "cell_type": "markdown",
   "source": [
    "`name` — название игры"
   ],
   "metadata": {
    "collapsed": false,
    "pycharm": {
     "name": "#%% md\n"
    }
   }
  },
  {
   "cell_type": "code",
   "execution_count": 43,
   "outputs": [
    {
     "data": {
      "text/plain": "      name platform  year_of_release genre  na_sales  eu_sales  jp_sales  \\\n659    NaN      GEN           1993.0   NaN      1.78      0.53      0.00   \n14244  NaN      GEN           1993.0   NaN      0.00      0.00      0.03   \n\n       other_sales  critic_score user_score rating  \n659           0.08           NaN        NaN    NaN  \n14244         0.00           NaN        NaN    NaN  ",
      "text/html": "<div>\n<style scoped>\n    .dataframe tbody tr th:only-of-type {\n        vertical-align: middle;\n    }\n\n    .dataframe tbody tr th {\n        vertical-align: top;\n    }\n\n    .dataframe thead th {\n        text-align: right;\n    }\n</style>\n<table border=\"1\" class=\"dataframe\">\n  <thead>\n    <tr style=\"text-align: right;\">\n      <th></th>\n      <th>name</th>\n      <th>platform</th>\n      <th>year_of_release</th>\n      <th>genre</th>\n      <th>na_sales</th>\n      <th>eu_sales</th>\n      <th>jp_sales</th>\n      <th>other_sales</th>\n      <th>critic_score</th>\n      <th>user_score</th>\n      <th>rating</th>\n    </tr>\n  </thead>\n  <tbody>\n    <tr>\n      <th>659</th>\n      <td>NaN</td>\n      <td>GEN</td>\n      <td>1993.0</td>\n      <td>NaN</td>\n      <td>1.78</td>\n      <td>0.53</td>\n      <td>0.00</td>\n      <td>0.08</td>\n      <td>NaN</td>\n      <td>NaN</td>\n      <td>NaN</td>\n    </tr>\n    <tr>\n      <th>14244</th>\n      <td>NaN</td>\n      <td>GEN</td>\n      <td>1993.0</td>\n      <td>NaN</td>\n      <td>0.00</td>\n      <td>0.00</td>\n      <td>0.03</td>\n      <td>0.00</td>\n      <td>NaN</td>\n      <td>NaN</td>\n      <td>NaN</td>\n    </tr>\n  </tbody>\n</table>\n</div>"
     },
     "metadata": {},
     "output_type": "display_data"
    }
   ],
   "source": [
    "display(\n",
    "    games_df.loc[games_df['name'].isna()]\n",
    ")"
   ],
   "metadata": {
    "collapsed": false,
    "pycharm": {
     "name": "#%%\n"
    }
   }
  },
  {
   "cell_type": "code",
   "execution_count": 46,
   "outputs": [],
   "source": [
    "games_df.dropna(axis=0, subset=['name'], inplace=True)"
   ],
   "metadata": {
    "collapsed": false,
    "pycharm": {
     "name": "#%%\n"
    }
   }
  },
  {
   "cell_type": "code",
   "execution_count": 47,
   "outputs": [
    {
     "name": "stdout",
     "output_type": "stream",
     "text": [
      "<class 'pandas.core.frame.DataFrame'>\n",
      "Int64Index: 16713 entries, 0 to 16714\n",
      "Data columns (total 11 columns):\n",
      " #   Column           Non-Null Count  Dtype  \n",
      "---  ------           --------------  -----  \n",
      " 0   name             16713 non-null  object \n",
      " 1   platform         16713 non-null  object \n",
      " 2   year_of_release  16444 non-null  float64\n",
      " 3   genre            16713 non-null  object \n",
      " 4   na_sales         16713 non-null  float64\n",
      " 5   eu_sales         16713 non-null  float64\n",
      " 6   jp_sales         16713 non-null  float64\n",
      " 7   other_sales      16713 non-null  float64\n",
      " 8   critic_score     8137 non-null   float64\n",
      " 9   user_score       10014 non-null  object \n",
      " 10  rating           9949 non-null   object \n",
      "dtypes: float64(6), object(5)\n",
      "memory usage: 1.5+ MB\n"
     ]
    },
    {
     "data": {
      "text/plain": "None"
     },
     "metadata": {},
     "output_type": "display_data"
    }
   ],
   "source": [
    "display(games_df.info())"
   ],
   "metadata": {
    "collapsed": false,
    "pycharm": {
     "name": "#%%\n"
    }
   }
  },
  {
   "cell_type": "markdown",
   "source": [],
   "metadata": {
    "collapsed": false,
    "pycharm": {
     "name": "#%% md\n"
    }
   }
  },
  {
   "cell_type": "markdown",
   "source": [
    "✅ ‘name’ `NaN`\n",
    "⭕️ 'year_of_release' `NaN`\n",
    "✅ 'genre' `NaN`\n",
    "⭕️ 'critic_score' `NaN`\n",
    "⭕️ 'user_score' `NaN`\n",
    "⭕️ 'rating' `NaN`"
   ],
   "metadata": {
    "collapsed": false,
    "pycharm": {
     "name": "#%% md\n"
    }
   }
  },
  {
   "cell_type": "raw",
   "source": [
    "display(\n",
    "    games_df.loc[\n",
    "        (games_df.duplicated(subset=['name', 'year_of_release', 'platform'], keep=False))\n",
    "        # , ['name', 'year_of_release', 'platform']\n",
    "    ]\n",
    ")"
   ],
   "metadata": {
    "collapsed": false,
    "pycharm": {
     "name": "#%% raw\n"
    }
   }
  },
  {
   "cell_type": "code",
   "execution_count": 67,
   "outputs": [
    {
     "data": {
      "text/plain": "                name platform  year_of_release   genre  na_sales  eu_sales  \\\n507    Madden NFL 13     X360           2012.0  Sports      2.53      0.15   \n604    Madden NFL 13      PS3           2012.0  Sports      2.11      0.22   \n3986   Madden NFL 13      Wii           2012.0  Sports      0.47      0.00   \n5887   Madden NFL 13      PSV           2012.0  Sports      0.28      0.00   \n7066   Madden NFL 13     WiiU           2012.0  Sports      0.21      0.00   \n16230  Madden NFL 13      PS3           2012.0  Sports      0.00      0.01   \n\n       jp_sales  other_sales  critic_score user_score rating  \n507         0.0         0.17          81.0        5.8      E  \n604         0.0         0.23          83.0        5.5      E  \n3986        0.0         0.03           NaN        7.3      E  \n5887        0.0         0.02          63.0        7.3      E  \n7066        0.0         0.02          75.0        6.7      E  \n16230       0.0         0.00          83.0        5.5      E  ",
      "text/html": "<div>\n<style scoped>\n    .dataframe tbody tr th:only-of-type {\n        vertical-align: middle;\n    }\n\n    .dataframe tbody tr th {\n        vertical-align: top;\n    }\n\n    .dataframe thead th {\n        text-align: right;\n    }\n</style>\n<table border=\"1\" class=\"dataframe\">\n  <thead>\n    <tr style=\"text-align: right;\">\n      <th></th>\n      <th>name</th>\n      <th>platform</th>\n      <th>year_of_release</th>\n      <th>genre</th>\n      <th>na_sales</th>\n      <th>eu_sales</th>\n      <th>jp_sales</th>\n      <th>other_sales</th>\n      <th>critic_score</th>\n      <th>user_score</th>\n      <th>rating</th>\n    </tr>\n  </thead>\n  <tbody>\n    <tr>\n      <th>507</th>\n      <td>Madden NFL 13</td>\n      <td>X360</td>\n      <td>2012.0</td>\n      <td>Sports</td>\n      <td>2.53</td>\n      <td>0.15</td>\n      <td>0.0</td>\n      <td>0.17</td>\n      <td>81.0</td>\n      <td>5.8</td>\n      <td>E</td>\n    </tr>\n    <tr>\n      <th>604</th>\n      <td>Madden NFL 13</td>\n      <td>PS3</td>\n      <td>2012.0</td>\n      <td>Sports</td>\n      <td>2.11</td>\n      <td>0.22</td>\n      <td>0.0</td>\n      <td>0.23</td>\n      <td>83.0</td>\n      <td>5.5</td>\n      <td>E</td>\n    </tr>\n    <tr>\n      <th>3986</th>\n      <td>Madden NFL 13</td>\n      <td>Wii</td>\n      <td>2012.0</td>\n      <td>Sports</td>\n      <td>0.47</td>\n      <td>0.00</td>\n      <td>0.0</td>\n      <td>0.03</td>\n      <td>NaN</td>\n      <td>7.3</td>\n      <td>E</td>\n    </tr>\n    <tr>\n      <th>5887</th>\n      <td>Madden NFL 13</td>\n      <td>PSV</td>\n      <td>2012.0</td>\n      <td>Sports</td>\n      <td>0.28</td>\n      <td>0.00</td>\n      <td>0.0</td>\n      <td>0.02</td>\n      <td>63.0</td>\n      <td>7.3</td>\n      <td>E</td>\n    </tr>\n    <tr>\n      <th>7066</th>\n      <td>Madden NFL 13</td>\n      <td>WiiU</td>\n      <td>2012.0</td>\n      <td>Sports</td>\n      <td>0.21</td>\n      <td>0.00</td>\n      <td>0.0</td>\n      <td>0.02</td>\n      <td>75.0</td>\n      <td>6.7</td>\n      <td>E</td>\n    </tr>\n    <tr>\n      <th>16230</th>\n      <td>Madden NFL 13</td>\n      <td>PS3</td>\n      <td>2012.0</td>\n      <td>Sports</td>\n      <td>0.00</td>\n      <td>0.01</td>\n      <td>0.0</td>\n      <td>0.00</td>\n      <td>83.0</td>\n      <td>5.5</td>\n      <td>E</td>\n    </tr>\n  </tbody>\n</table>\n</div>"
     },
     "metadata": {},
     "output_type": "display_data"
    }
   ],
   "source": [
    "display(\n",
    "    games_df.loc[games_df['name'] == 'Madden NFL 13']\n",
    ")"
   ],
   "metadata": {
    "collapsed": false,
    "pycharm": {
     "name": "#%%\n"
    }
   }
  },
  {
   "cell_type": "code",
   "execution_count": 61,
   "outputs": [
    {
     "data": {
      "text/plain": "11559"
     },
     "metadata": {},
     "output_type": "display_data"
    }
   ],
   "source": [
    "display(\n",
    "    len(games_df['name'].unique())\n",
    ")"
   ],
   "metadata": {
    "collapsed": false,
    "pycharm": {
     "name": "#%%\n"
    }
   }
  },
  {
   "cell_type": "markdown",
   "source": [
    "`platform` — платформа"
   ],
   "metadata": {
    "collapsed": false,
    "pycharm": {
     "name": "#%% md\n"
    }
   }
  },
  {
   "cell_type": "code",
   "execution_count": 79,
   "outputs": [
    {
     "data": {
      "text/plain": "['2600',\n '3DO',\n '3DS',\n 'DC',\n 'DS',\n 'GB',\n 'GBA',\n 'GC',\n 'GEN',\n 'GG',\n 'N64',\n 'NES',\n 'NG',\n 'PC',\n 'PCFX',\n 'PS',\n 'PS2',\n 'PS3',\n 'PS4',\n 'PSP',\n 'PSV',\n 'SAT',\n 'SCD',\n 'SNES',\n 'TG16',\n 'WS',\n 'Wii',\n 'WiiU',\n 'X360',\n 'XB',\n 'XOne']"
     },
     "metadata": {},
     "output_type": "display_data"
    },
    {
     "data": {
      "text/plain": "31"
     },
     "metadata": {},
     "output_type": "display_data"
    }
   ],
   "source": [
    "display(\n",
    "    sorted(games_df['platform'].unique()),\n",
    "    len(games_df['platform'].unique()),\n",
    ")"
   ],
   "metadata": {
    "collapsed": false,
    "pycharm": {
     "name": "#%%\n"
    }
   }
  },
  {
   "cell_type": "markdown",
   "source": [
    "`year_of_release` — год выпуска"
   ],
   "metadata": {
    "collapsed": false,
    "pycharm": {
     "name": "#%% md\n"
    }
   }
  },
  {
   "cell_type": "code",
   "execution_count": 128,
   "outputs": [
    {
     "data": {
      "text/plain": "year_of_release\n1980.0       9\n1981.0      46\n1982.0      36\n1983.0      17\n1984.0      14\n1985.0      14\n1986.0      21\n1987.0      16\n1988.0      15\n1989.0      17\n1990.0      16\n1991.0      41\n1992.0      43\n1993.0      60\n1994.0     121\n1995.0     219\n1996.0     263\n1997.0     289\n1998.0     379\n1999.0     338\n2000.0     350\n2001.0     482\n2002.0     829\n2003.0     775\n2004.0     762\n2005.0     939\n2006.0    1006\n2007.0    1197\n2008.0    1427\n2009.0    1426\n2010.0    1255\n2011.0    1136\n2012.0     653\n2013.0     544\n2014.0     581\n2015.0     606\n2016.0     502\nName: name, dtype: int64"
     },
     "metadata": {},
     "output_type": "display_data"
    }
   ],
   "source": [
    "display(\n",
    "    games_df.groupby(\n",
    "        by='year_of_release'\n",
    "    )['name'].count()\n",
    ")"
   ],
   "metadata": {
    "collapsed": false,
    "pycharm": {
     "name": "#%%\n"
    }
   }
  },
  {
   "cell_type": "markdown",
   "source": [
    "`genre` — жанр игры"
   ],
   "metadata": {
    "collapsed": false,
    "pycharm": {
     "name": "#%% md\n"
    }
   }
  },
  {
   "cell_type": "code",
   "execution_count": 132,
   "outputs": [
    {
     "data": {
      "text/plain": "array(['Sports', 'Platform', 'Racing', 'Role-Playing', 'Puzzle', 'Misc',\n       'Shooter', 'Simulation', 'Action', 'Fighting', 'Adventure',\n       'Strategy'], dtype=object)"
     },
     "metadata": {},
     "output_type": "display_data"
    },
    {
     "data": {
      "text/plain": "0"
     },
     "metadata": {},
     "output_type": "display_data"
    }
   ],
   "source": [
    "display(\n",
    "    games_df['genre'].unique(),\n",
    "    games_df.loc[\n",
    "        games_df['genre'].isna()\n",
    "    ]['name'].count()\n",
    ")"
   ],
   "metadata": {
    "collapsed": false,
    "pycharm": {
     "name": "#%%\n"
    }
   }
  },
  {
   "cell_type": "markdown",
   "source": [
    "✅ ‘name’ `NaN`\n",
    "⭕️ 'year_of_release' `NaN`\n",
    "✅ 'genre' `NaN`\n",
    "⭕️ 'critic_score' `NaN`\n",
    "⭕️ 'user_score' `NaN`\n",
    "⭕️ 'rating' `NaN`"
   ],
   "metadata": {
    "collapsed": false,
    "pycharm": {
     "name": "#%% md\n"
    }
   }
  },
  {
   "cell_type": "markdown",
   "source": [
    "`na_sales` — продажи в Северной Америке (миллионы проданных копий)"
   ],
   "metadata": {
    "collapsed": false,
    "pycharm": {
     "name": "#%% md\n"
    }
   }
  },
  {
   "cell_type": "code",
   "execution_count": 136,
   "outputs": [
    {
     "data": {
      "text/plain": "count    16713.000000\nmean         0.263302\nstd          0.813565\nmin          0.000000\n25%          0.000000\n50%          0.080000\n75%          0.240000\nmax         41.360000\nName: na_sales, dtype: float64"
     },
     "metadata": {},
     "output_type": "display_data"
    },
    {
     "data": {
      "text/plain": "                         name platform  year_of_release         genre  \\\n0                  Wii Sports      Wii           2006.0        Sports   \n1           Super Mario Bros.      NES           1985.0      Platform   \n2              Mario Kart Wii      Wii           2008.0        Racing   \n3           Wii Sports Resort      Wii           2009.0        Sports   \n4    Pokemon Red/Pokemon Blue       GB           1996.0  Role-Playing   \n..                        ...      ...              ...           ...   \n145      Sonic the Hedgehog 2      GEN           1992.0      Platform   \n183           Madden NFL 2004      PS2              NaN        Sports   \n238           Madden NFL 2005      PS2           2004.0        Sports   \n240                  Pitfall!     2600           1981.0      Platform   \n284                 Half-Life       PC           1997.0       Shooter   \n\n     na_sales  eu_sales  jp_sales  other_sales  critic_score user_score rating  \n0       41.36     28.96      3.77         8.45          76.0          8      E  \n1       29.08      3.58      6.81         0.77           NaN        NaN    NaN  \n2       15.68     12.76      3.79         3.29          82.0        8.3      E  \n3       15.61     10.93      3.28         2.95          80.0          8      E  \n4       11.27      8.89     10.22         1.00           NaN        NaN    NaN  \n..        ...       ...       ...          ...           ...        ...    ...  \n145      4.47      1.20      0.16         0.19           NaN        NaN    NaN  \n183      4.26      0.26      0.01         0.71          94.0        8.5      E  \n238      4.18      0.26      0.01         0.08          91.0        7.9      E  \n240      4.21      0.24      0.00         0.05           NaN        NaN    NaN  \n284      4.03      0.00      0.09         0.00          96.0        9.1      M  \n\n[88 rows x 11 columns]",
      "text/html": "<div>\n<style scoped>\n    .dataframe tbody tr th:only-of-type {\n        vertical-align: middle;\n    }\n\n    .dataframe tbody tr th {\n        vertical-align: top;\n    }\n\n    .dataframe thead th {\n        text-align: right;\n    }\n</style>\n<table border=\"1\" class=\"dataframe\">\n  <thead>\n    <tr style=\"text-align: right;\">\n      <th></th>\n      <th>name</th>\n      <th>platform</th>\n      <th>year_of_release</th>\n      <th>genre</th>\n      <th>na_sales</th>\n      <th>eu_sales</th>\n      <th>jp_sales</th>\n      <th>other_sales</th>\n      <th>critic_score</th>\n      <th>user_score</th>\n      <th>rating</th>\n    </tr>\n  </thead>\n  <tbody>\n    <tr>\n      <th>0</th>\n      <td>Wii Sports</td>\n      <td>Wii</td>\n      <td>2006.0</td>\n      <td>Sports</td>\n      <td>41.36</td>\n      <td>28.96</td>\n      <td>3.77</td>\n      <td>8.45</td>\n      <td>76.0</td>\n      <td>8</td>\n      <td>E</td>\n    </tr>\n    <tr>\n      <th>1</th>\n      <td>Super Mario Bros.</td>\n      <td>NES</td>\n      <td>1985.0</td>\n      <td>Platform</td>\n      <td>29.08</td>\n      <td>3.58</td>\n      <td>6.81</td>\n      <td>0.77</td>\n      <td>NaN</td>\n      <td>NaN</td>\n      <td>NaN</td>\n    </tr>\n    <tr>\n      <th>2</th>\n      <td>Mario Kart Wii</td>\n      <td>Wii</td>\n      <td>2008.0</td>\n      <td>Racing</td>\n      <td>15.68</td>\n      <td>12.76</td>\n      <td>3.79</td>\n      <td>3.29</td>\n      <td>82.0</td>\n      <td>8.3</td>\n      <td>E</td>\n    </tr>\n    <tr>\n      <th>3</th>\n      <td>Wii Sports Resort</td>\n      <td>Wii</td>\n      <td>2009.0</td>\n      <td>Sports</td>\n      <td>15.61</td>\n      <td>10.93</td>\n      <td>3.28</td>\n      <td>2.95</td>\n      <td>80.0</td>\n      <td>8</td>\n      <td>E</td>\n    </tr>\n    <tr>\n      <th>4</th>\n      <td>Pokemon Red/Pokemon Blue</td>\n      <td>GB</td>\n      <td>1996.0</td>\n      <td>Role-Playing</td>\n      <td>11.27</td>\n      <td>8.89</td>\n      <td>10.22</td>\n      <td>1.00</td>\n      <td>NaN</td>\n      <td>NaN</td>\n      <td>NaN</td>\n    </tr>\n    <tr>\n      <th>...</th>\n      <td>...</td>\n      <td>...</td>\n      <td>...</td>\n      <td>...</td>\n      <td>...</td>\n      <td>...</td>\n      <td>...</td>\n      <td>...</td>\n      <td>...</td>\n      <td>...</td>\n      <td>...</td>\n    </tr>\n    <tr>\n      <th>145</th>\n      <td>Sonic the Hedgehog 2</td>\n      <td>GEN</td>\n      <td>1992.0</td>\n      <td>Platform</td>\n      <td>4.47</td>\n      <td>1.20</td>\n      <td>0.16</td>\n      <td>0.19</td>\n      <td>NaN</td>\n      <td>NaN</td>\n      <td>NaN</td>\n    </tr>\n    <tr>\n      <th>183</th>\n      <td>Madden NFL 2004</td>\n      <td>PS2</td>\n      <td>NaN</td>\n      <td>Sports</td>\n      <td>4.26</td>\n      <td>0.26</td>\n      <td>0.01</td>\n      <td>0.71</td>\n      <td>94.0</td>\n      <td>8.5</td>\n      <td>E</td>\n    </tr>\n    <tr>\n      <th>238</th>\n      <td>Madden NFL 2005</td>\n      <td>PS2</td>\n      <td>2004.0</td>\n      <td>Sports</td>\n      <td>4.18</td>\n      <td>0.26</td>\n      <td>0.01</td>\n      <td>0.08</td>\n      <td>91.0</td>\n      <td>7.9</td>\n      <td>E</td>\n    </tr>\n    <tr>\n      <th>240</th>\n      <td>Pitfall!</td>\n      <td>2600</td>\n      <td>1981.0</td>\n      <td>Platform</td>\n      <td>4.21</td>\n      <td>0.24</td>\n      <td>0.00</td>\n      <td>0.05</td>\n      <td>NaN</td>\n      <td>NaN</td>\n      <td>NaN</td>\n    </tr>\n    <tr>\n      <th>284</th>\n      <td>Half-Life</td>\n      <td>PC</td>\n      <td>1997.0</td>\n      <td>Shooter</td>\n      <td>4.03</td>\n      <td>0.00</td>\n      <td>0.09</td>\n      <td>0.00</td>\n      <td>96.0</td>\n      <td>9.1</td>\n      <td>M</td>\n    </tr>\n  </tbody>\n</table>\n<p>88 rows × 11 columns</p>\n</div>"
     },
     "metadata": {},
     "output_type": "display_data"
    }
   ],
   "source": [
    "display(\n",
    "    games_df['na_sales'].describe(),\n",
    "    games_df.loc[games_df['na_sales'] > 4]\n",
    ")"
   ],
   "metadata": {
    "collapsed": false,
    "pycharm": {
     "name": "#%%\n"
    }
   }
  },
  {
   "cell_type": "markdown",
   "source": [
    "`eu_sales` — продажи в Европе (миллионы проданных копий)"
   ],
   "metadata": {
    "collapsed": false,
    "pycharm": {
     "name": "#%% md\n"
    }
   }
  },
  {
   "cell_type": "code",
   "execution_count": 142,
   "outputs": [
    {
     "data": {
      "text/plain": "count    16713.000000\nmean         0.145045\nstd          0.503359\nmin          0.000000\n25%          0.000000\n50%          0.020000\n75%          0.110000\nmax         28.960000\nName: eu_sales, dtype: float64"
     },
     "metadata": {},
     "output_type": "display_data"
    }
   ],
   "source": [
    "display(\n",
    "    games_df['eu_sales'].describe()\n",
    ")"
   ],
   "metadata": {
    "collapsed": false,
    "pycharm": {
     "name": "#%%\n"
    }
   }
  },
  {
   "cell_type": "markdown",
   "source": [
    "`jp_sales` — продажи в Японии (миллионы проданных копий)"
   ],
   "metadata": {
    "collapsed": false,
    "pycharm": {
     "name": "#%% md\n"
    }
   }
  },
  {
   "cell_type": "code",
   "execution_count": 143,
   "outputs": [
    {
     "data": {
      "text/plain": "count    16713.000000\nmean         0.077625\nstd          0.308871\nmin          0.000000\n25%          0.000000\n50%          0.000000\n75%          0.040000\nmax         10.220000\nName: jp_sales, dtype: float64"
     },
     "metadata": {},
     "output_type": "display_data"
    }
   ],
   "source": [
    "display(\n",
    "    games_df['jp_sales'].describe()\n",
    ")"
   ],
   "metadata": {
    "collapsed": false,
    "pycharm": {
     "name": "#%%\n"
    }
   }
  },
  {
   "cell_type": "markdown",
   "source": [
    "`other_sales` — продажи в других странах (миллионы проданных копий)"
   ],
   "metadata": {
    "collapsed": false,
    "pycharm": {
     "name": "#%% md\n"
    }
   }
  },
  {
   "cell_type": "code",
   "execution_count": 144,
   "outputs": [
    {
     "data": {
      "text/plain": "count    16713.000000\nmean         0.047343\nstd          0.186742\nmin          0.000000\n25%          0.000000\n50%          0.010000\n75%          0.030000\nmax         10.570000\nName: other_sales, dtype: float64"
     },
     "metadata": {},
     "output_type": "display_data"
    }
   ],
   "source": [
    "display(\n",
    "    games_df['other_sales'].describe()\n",
    ")"
   ],
   "metadata": {
    "collapsed": false,
    "pycharm": {
     "name": "#%%\n"
    }
   }
  },
  {
   "cell_type": "markdown",
   "source": [
    "`critic_score` — оценка критиков (максимум 100)"
   ],
   "metadata": {
    "collapsed": false,
    "pycharm": {
     "name": "#%% md\n"
    }
   }
  },
  {
   "cell_type": "code",
   "execution_count": 140,
   "outputs": [
    {
     "data": {
      "text/plain": "count    8137.000000\nmean       68.967679\nstd        13.938165\nmin        13.000000\n25%        60.000000\n50%        71.000000\n75%        79.000000\nmax        98.000000\nName: critic_score, dtype: float64"
     },
     "metadata": {},
     "output_type": "display_data"
    }
   ],
   "source": [
    "display(\n",
    "    games_df['critic_score'].describe()\n",
    ")"
   ],
   "metadata": {
    "collapsed": false,
    "pycharm": {
     "name": "#%%\n"
    }
   }
  },
  {
   "cell_type": "code",
   "execution_count": 139,
   "outputs": [
    {
     "data": {
      "text/plain": "          na_sales     eu_sales     jp_sales  other_sales\ncount  8576.000000  8576.000000  8576.000000  8576.000000\nmean      0.178215     0.085017     0.099065     0.023535\nstd       0.715940     0.321036     0.343974     0.088748\nmin       0.000000     0.000000     0.000000     0.000000\n25%       0.000000     0.000000     0.000000     0.000000\n50%       0.020000     0.000000     0.000000     0.000000\n75%       0.140000     0.050000     0.060000     0.020000\nmax      29.080000    10.950000    10.220000     2.740000",
      "text/html": "<div>\n<style scoped>\n    .dataframe tbody tr th:only-of-type {\n        vertical-align: middle;\n    }\n\n    .dataframe tbody tr th {\n        vertical-align: top;\n    }\n\n    .dataframe thead th {\n        text-align: right;\n    }\n</style>\n<table border=\"1\" class=\"dataframe\">\n  <thead>\n    <tr style=\"text-align: right;\">\n      <th></th>\n      <th>na_sales</th>\n      <th>eu_sales</th>\n      <th>jp_sales</th>\n      <th>other_sales</th>\n    </tr>\n  </thead>\n  <tbody>\n    <tr>\n      <th>count</th>\n      <td>8576.000000</td>\n      <td>8576.000000</td>\n      <td>8576.000000</td>\n      <td>8576.000000</td>\n    </tr>\n    <tr>\n      <th>mean</th>\n      <td>0.178215</td>\n      <td>0.085017</td>\n      <td>0.099065</td>\n      <td>0.023535</td>\n    </tr>\n    <tr>\n      <th>std</th>\n      <td>0.715940</td>\n      <td>0.321036</td>\n      <td>0.343974</td>\n      <td>0.088748</td>\n    </tr>\n    <tr>\n      <th>min</th>\n      <td>0.000000</td>\n      <td>0.000000</td>\n      <td>0.000000</td>\n      <td>0.000000</td>\n    </tr>\n    <tr>\n      <th>25%</th>\n      <td>0.000000</td>\n      <td>0.000000</td>\n      <td>0.000000</td>\n      <td>0.000000</td>\n    </tr>\n    <tr>\n      <th>50%</th>\n      <td>0.020000</td>\n      <td>0.000000</td>\n      <td>0.000000</td>\n      <td>0.000000</td>\n    </tr>\n    <tr>\n      <th>75%</th>\n      <td>0.140000</td>\n      <td>0.050000</td>\n      <td>0.060000</td>\n      <td>0.020000</td>\n    </tr>\n    <tr>\n      <th>max</th>\n      <td>29.080000</td>\n      <td>10.950000</td>\n      <td>10.220000</td>\n      <td>2.740000</td>\n    </tr>\n  </tbody>\n</table>\n</div>"
     },
     "metadata": {},
     "output_type": "display_data"
    },
    {
     "data": {
      "text/plain": "          na_sales     eu_sales     jp_sales  other_sales\ncount  8137.000000  8137.000000  8137.000000  8137.000000\nmean      0.352980     0.208311     0.055028     0.072435\nstd       0.896476     0.635622     0.265075     0.249204\nmin       0.000000     0.000000     0.000000     0.000000\n25%       0.050000     0.010000     0.000000     0.010000\n50%       0.130000     0.050000     0.000000     0.020000\n75%       0.340000     0.180000     0.010000     0.060000\nmax      41.360000    28.960000     6.500000    10.570000",
      "text/html": "<div>\n<style scoped>\n    .dataframe tbody tr th:only-of-type {\n        vertical-align: middle;\n    }\n\n    .dataframe tbody tr th {\n        vertical-align: top;\n    }\n\n    .dataframe thead th {\n        text-align: right;\n    }\n</style>\n<table border=\"1\" class=\"dataframe\">\n  <thead>\n    <tr style=\"text-align: right;\">\n      <th></th>\n      <th>na_sales</th>\n      <th>eu_sales</th>\n      <th>jp_sales</th>\n      <th>other_sales</th>\n    </tr>\n  </thead>\n  <tbody>\n    <tr>\n      <th>count</th>\n      <td>8137.000000</td>\n      <td>8137.000000</td>\n      <td>8137.000000</td>\n      <td>8137.000000</td>\n    </tr>\n    <tr>\n      <th>mean</th>\n      <td>0.352980</td>\n      <td>0.208311</td>\n      <td>0.055028</td>\n      <td>0.072435</td>\n    </tr>\n    <tr>\n      <th>std</th>\n      <td>0.896476</td>\n      <td>0.635622</td>\n      <td>0.265075</td>\n      <td>0.249204</td>\n    </tr>\n    <tr>\n      <th>min</th>\n      <td>0.000000</td>\n      <td>0.000000</td>\n      <td>0.000000</td>\n      <td>0.000000</td>\n    </tr>\n    <tr>\n      <th>25%</th>\n      <td>0.050000</td>\n      <td>0.010000</td>\n      <td>0.000000</td>\n      <td>0.010000</td>\n    </tr>\n    <tr>\n      <th>50%</th>\n      <td>0.130000</td>\n      <td>0.050000</td>\n      <td>0.000000</td>\n      <td>0.020000</td>\n    </tr>\n    <tr>\n      <th>75%</th>\n      <td>0.340000</td>\n      <td>0.180000</td>\n      <td>0.010000</td>\n      <td>0.060000</td>\n    </tr>\n    <tr>\n      <th>max</th>\n      <td>41.360000</td>\n      <td>28.960000</td>\n      <td>6.500000</td>\n      <td>10.570000</td>\n    </tr>\n  </tbody>\n</table>\n</div>"
     },
     "metadata": {},
     "output_type": "display_data"
    }
   ],
   "source": [
    "display(\n",
    "    games_df.loc[\n",
    "        games_df['critic_score'].isna()\n",
    "        , ['na_sales', 'eu_sales', 'jp_sales', 'other_sales']\n",
    "    ].describe(),\n",
    "    games_df.loc[\n",
    "        games_df['critic_score'].notna()\n",
    "        , ['na_sales', 'eu_sales', 'jp_sales', 'other_sales']\n",
    "    ].describe()\n",
    ")"
   ],
   "metadata": {
    "collapsed": false,
    "pycharm": {
     "name": "#%%\n"
    }
   }
  },
  {
   "cell_type": "markdown",
   "source": [
    "`user_score` — оценка пользователей (максимум 10)"
   ],
   "metadata": {
    "collapsed": false,
    "pycharm": {
     "name": "#%% md\n"
    }
   }
  },
  {
   "cell_type": "code",
   "execution_count": 145,
   "outputs": [
    {
     "data": {
      "text/plain": "count     10014\nunique       96\ntop         tbd\nfreq       2424\nName: user_score, dtype: object"
     },
     "metadata": {},
     "output_type": "display_data"
    }
   ],
   "source": [
    "display(\n",
    "    games_df['user_score'].describe()\n",
    ")"
   ],
   "metadata": {
    "collapsed": false,
    "pycharm": {
     "name": "#%%\n"
    }
   }
  },
  {
   "cell_type": "markdown",
   "source": [
    "`rating` — рейтинг от организации ESRB (англ. Entertainment Software Rating Board). Эта ассоциация определяет рейтинг компьютерных игр и присваивает им подходящую возрастную категорию."
   ],
   "metadata": {
    "collapsed": false,
    "pycharm": {
     "name": "#%% md\n"
    }
   }
  },
  {
   "cell_type": "code",
   "execution_count": 18,
   "outputs": [
    {
     "data": {
      "text/plain": "                                    name platform  year_of_release  \\\n183                      Madden NFL 2004      PS2              NaN   \n377                     FIFA Soccer 2004      PS2              NaN   \n456           LEGO Batman: The Videogame      Wii              NaN   \n475           wwe Smackdown vs. Raw 2006      PS2              NaN   \n609                       Space Invaders     2600              NaN   \n...                                  ...      ...              ...   \n16373  PDC World Championship Darts 2008      PSP              NaN   \n16405                      Freaky Flyers       GC              NaN   \n16448                          Inversion       PC              NaN   \n16458        Hakuouki: Shinsengumi Kitan      PS3              NaN   \n16522                       Virtua Quest       GC              NaN   \n\n              genre  na_sales  eu_sales  jp_sales  other_sales  critic_score  \\\n183          Sports      4.26      0.26      0.01         0.71          94.0   \n377          Sports      0.59      2.36      0.04         0.51          84.0   \n456          Action      1.80      0.97      0.00         0.29          74.0   \n475        Fighting      1.57      1.02      0.00         0.41           NaN   \n609         Shooter      2.36      0.14      0.00         0.03           NaN   \n...             ...       ...       ...       ...          ...           ...   \n16373        Sports      0.01      0.00      0.00         0.00          43.0   \n16405        Racing      0.01      0.00      0.00         0.00          69.0   \n16448       Shooter      0.01      0.00      0.00         0.00          59.0   \n16458     Adventure      0.01      0.00      0.00         0.00           NaN   \n16522  Role-Playing      0.01      0.00      0.00         0.00          55.0   \n\n      user_score rating  \n183          8.5      E  \n377          6.4      E  \n456          7.9   E10+  \n475          NaN    NaN  \n609          NaN    NaN  \n...          ...    ...  \n16373        tbd   E10+  \n16405        6.5      T  \n16448        6.7      M  \n16458        NaN    NaN  \n16522        5.5      T  \n\n[269 rows x 11 columns]",
      "text/html": "<div>\n<style scoped>\n    .dataframe tbody tr th:only-of-type {\n        vertical-align: middle;\n    }\n\n    .dataframe tbody tr th {\n        vertical-align: top;\n    }\n\n    .dataframe thead th {\n        text-align: right;\n    }\n</style>\n<table border=\"1\" class=\"dataframe\">\n  <thead>\n    <tr style=\"text-align: right;\">\n      <th></th>\n      <th>name</th>\n      <th>platform</th>\n      <th>year_of_release</th>\n      <th>genre</th>\n      <th>na_sales</th>\n      <th>eu_sales</th>\n      <th>jp_sales</th>\n      <th>other_sales</th>\n      <th>critic_score</th>\n      <th>user_score</th>\n      <th>rating</th>\n    </tr>\n  </thead>\n  <tbody>\n    <tr>\n      <th>183</th>\n      <td>Madden NFL 2004</td>\n      <td>PS2</td>\n      <td>NaN</td>\n      <td>Sports</td>\n      <td>4.26</td>\n      <td>0.26</td>\n      <td>0.01</td>\n      <td>0.71</td>\n      <td>94.0</td>\n      <td>8.5</td>\n      <td>E</td>\n    </tr>\n    <tr>\n      <th>377</th>\n      <td>FIFA Soccer 2004</td>\n      <td>PS2</td>\n      <td>NaN</td>\n      <td>Sports</td>\n      <td>0.59</td>\n      <td>2.36</td>\n      <td>0.04</td>\n      <td>0.51</td>\n      <td>84.0</td>\n      <td>6.4</td>\n      <td>E</td>\n    </tr>\n    <tr>\n      <th>456</th>\n      <td>LEGO Batman: The Videogame</td>\n      <td>Wii</td>\n      <td>NaN</td>\n      <td>Action</td>\n      <td>1.80</td>\n      <td>0.97</td>\n      <td>0.00</td>\n      <td>0.29</td>\n      <td>74.0</td>\n      <td>7.9</td>\n      <td>E10+</td>\n    </tr>\n    <tr>\n      <th>475</th>\n      <td>wwe Smackdown vs. Raw 2006</td>\n      <td>PS2</td>\n      <td>NaN</td>\n      <td>Fighting</td>\n      <td>1.57</td>\n      <td>1.02</td>\n      <td>0.00</td>\n      <td>0.41</td>\n      <td>NaN</td>\n      <td>NaN</td>\n      <td>NaN</td>\n    </tr>\n    <tr>\n      <th>609</th>\n      <td>Space Invaders</td>\n      <td>2600</td>\n      <td>NaN</td>\n      <td>Shooter</td>\n      <td>2.36</td>\n      <td>0.14</td>\n      <td>0.00</td>\n      <td>0.03</td>\n      <td>NaN</td>\n      <td>NaN</td>\n      <td>NaN</td>\n    </tr>\n    <tr>\n      <th>...</th>\n      <td>...</td>\n      <td>...</td>\n      <td>...</td>\n      <td>...</td>\n      <td>...</td>\n      <td>...</td>\n      <td>...</td>\n      <td>...</td>\n      <td>...</td>\n      <td>...</td>\n      <td>...</td>\n    </tr>\n    <tr>\n      <th>16373</th>\n      <td>PDC World Championship Darts 2008</td>\n      <td>PSP</td>\n      <td>NaN</td>\n      <td>Sports</td>\n      <td>0.01</td>\n      <td>0.00</td>\n      <td>0.00</td>\n      <td>0.00</td>\n      <td>43.0</td>\n      <td>tbd</td>\n      <td>E10+</td>\n    </tr>\n    <tr>\n      <th>16405</th>\n      <td>Freaky Flyers</td>\n      <td>GC</td>\n      <td>NaN</td>\n      <td>Racing</td>\n      <td>0.01</td>\n      <td>0.00</td>\n      <td>0.00</td>\n      <td>0.00</td>\n      <td>69.0</td>\n      <td>6.5</td>\n      <td>T</td>\n    </tr>\n    <tr>\n      <th>16448</th>\n      <td>Inversion</td>\n      <td>PC</td>\n      <td>NaN</td>\n      <td>Shooter</td>\n      <td>0.01</td>\n      <td>0.00</td>\n      <td>0.00</td>\n      <td>0.00</td>\n      <td>59.0</td>\n      <td>6.7</td>\n      <td>M</td>\n    </tr>\n    <tr>\n      <th>16458</th>\n      <td>Hakuouki: Shinsengumi Kitan</td>\n      <td>PS3</td>\n      <td>NaN</td>\n      <td>Adventure</td>\n      <td>0.01</td>\n      <td>0.00</td>\n      <td>0.00</td>\n      <td>0.00</td>\n      <td>NaN</td>\n      <td>NaN</td>\n      <td>NaN</td>\n    </tr>\n    <tr>\n      <th>16522</th>\n      <td>Virtua Quest</td>\n      <td>GC</td>\n      <td>NaN</td>\n      <td>Role-Playing</td>\n      <td>0.01</td>\n      <td>0.00</td>\n      <td>0.00</td>\n      <td>0.00</td>\n      <td>55.0</td>\n      <td>5.5</td>\n      <td>T</td>\n    </tr>\n  </tbody>\n</table>\n<p>269 rows × 11 columns</p>\n</div>"
     },
     "metadata": {},
     "output_type": "display_data"
    }
   ],
   "source": [
    "display(\n",
    "    games_df.loc[games_df['year_of_release'].isna()]\n",
    ")"
   ],
   "metadata": {
    "collapsed": false,
    "pycharm": {
     "name": "#%%\n"
    }
   }
  },
  {
   "cell_type": "markdown",
   "source": [
    "<hr>"
   ],
   "metadata": {
    "collapsed": false,
    "pycharm": {
     "name": "#%% md\n"
    }
   }
  },
  {
   "cell_type": "markdown",
   "source": [
    "## Шаг 2. Подготовьте данные"
   ],
   "metadata": {
    "collapsed": false,
    "pycharm": {
     "name": "#%% md\n"
    }
   }
  },
  {
   "cell_type": "markdown",
   "source": [
    "Заменим названия столбцов (приведем к нижнему регистру);"
   ],
   "metadata": {
    "collapsed": false,
    "pycharm": {
     "name": "#%% md\n"
    }
   }
  },
  {
   "cell_type": "code",
   "execution_count": 9,
   "outputs": [
    {
     "data": {
      "text/plain": "Index(['Name', 'Platform', 'Year_of_Release', 'Genre', 'NA_sales', 'EU_sales',\n       'JP_sales', 'Other_sales', 'Critic_Score', 'User_Score', 'Rating'],\n      dtype='object')"
     },
     "metadata": {},
     "output_type": "display_data"
    }
   ],
   "source": [
    "display(\n",
    "    games_df.columns\n",
    ")"
   ],
   "metadata": {
    "collapsed": false,
    "pycharm": {
     "name": "#%%\n"
    }
   }
  },
  {
   "cell_type": "code",
   "execution_count": 10,
   "outputs": [],
   "source": [
    "games_df.columns = games_df.columns.str.lower()"
   ],
   "metadata": {
    "collapsed": false,
    "pycharm": {
     "name": "#%%\n"
    }
   }
  },
  {
   "cell_type": "code",
   "execution_count": 11,
   "outputs": [
    {
     "data": {
      "text/plain": "Index(['name', 'platform', 'year_of_release', 'genre', 'na_sales', 'eu_sales',\n       'jp_sales', 'other_sales', 'critic_score', 'user_score', 'rating'],\n      dtype='object')"
     },
     "metadata": {},
     "output_type": "display_data"
    }
   ],
   "source": [
    "display(\n",
    "    games_df.columns\n",
    ")"
   ],
   "metadata": {
    "collapsed": false,
    "pycharm": {
     "name": "#%%\n"
    }
   }
  },
  {
   "cell_type": "markdown",
   "source": [
    "Преобразуйте данные в нужные типы. Опишите, в каких столбцах заменили тип данных и почему;"
   ],
   "metadata": {
    "collapsed": false,
    "pycharm": {
     "name": "#%% md\n"
    }
   }
  },
  {
   "cell_type": "markdown",
   "source": [
    "Обработайте пропуски при необходимости:\n",
    "- Объясните, почему заполнили пропуски определённым образом или почему не стали это делать;\n",
    "- Опишите причины, которые могли привести к пропускам;"
   ],
   "metadata": {
    "collapsed": false,
    "pycharm": {
     "name": "#%% md\n"
    }
   }
  },
  {
   "cell_type": "markdown",
   "source": [
    "Обратите внимание на аббревиатуру 'tbd' в столбце с оценкой пользователей. Отдельно разберите это значение и опишите, как его обработать;"
   ],
   "metadata": {
    "collapsed": false,
    "pycharm": {
     "name": "#%% md\n"
    }
   }
  },
  {
   "cell_type": "markdown",
   "source": [
    "Посчитайте суммарные продажи во всех регионах и запишите их в отдельный столбец."
   ],
   "metadata": {
    "collapsed": false,
    "pycharm": {
     "name": "#%% md\n"
    }
   }
  },
  {
   "cell_type": "markdown",
   "source": [],
   "metadata": {
    "collapsed": false,
    "pycharm": {
     "name": "#%% md\n"
    }
   }
  },
  {
   "cell_type": "markdown",
   "source": [
    "<hr>"
   ],
   "metadata": {
    "collapsed": false,
    "pycharm": {
     "name": "#%% md\n"
    }
   }
  },
  {
   "cell_type": "markdown",
   "source": [
    "## Шаг 3. Проведите исследовательский анализ данных"
   ],
   "metadata": {
    "collapsed": false,
    "pycharm": {
     "name": "#%% md\n"
    }
   }
  },
  {
   "cell_type": "markdown",
   "source": [],
   "metadata": {
    "collapsed": false,
    "pycharm": {
     "name": "#%% md\n"
    }
   }
  },
  {
   "cell_type": "markdown",
   "source": [
    "<hr>"
   ],
   "metadata": {
    "collapsed": false,
    "pycharm": {
     "name": "#%% md\n"
    }
   }
  },
  {
   "cell_type": "markdown",
   "source": [
    "## Шаг 4. Составьте портрет пользователя каждого региона"
   ],
   "metadata": {
    "collapsed": false,
    "pycharm": {
     "name": "#%% md\n"
    }
   }
  },
  {
   "cell_type": "markdown",
   "source": [],
   "metadata": {
    "collapsed": false,
    "pycharm": {
     "name": "#%% md\n"
    }
   }
  },
  {
   "cell_type": "markdown",
   "source": [
    "<hr>"
   ],
   "metadata": {
    "collapsed": false,
    "pycharm": {
     "name": "#%% md\n"
    }
   }
  },
  {
   "cell_type": "markdown",
   "source": [
    "## Шаг 5. Проверьте гипотезы"
   ],
   "metadata": {
    "collapsed": false,
    "pycharm": {
     "name": "#%% md\n"
    }
   }
  },
  {
   "cell_type": "markdown",
   "source": [],
   "metadata": {
    "collapsed": false,
    "pycharm": {
     "name": "#%% md\n"
    }
   }
  },
  {
   "cell_type": "markdown",
   "source": [
    "<hr>"
   ],
   "metadata": {
    "collapsed": false,
    "pycharm": {
     "name": "#%% md\n"
    }
   }
  },
  {
   "cell_type": "markdown",
   "source": [
    "## Шаг 6. Напишите общий вывод"
   ],
   "metadata": {
    "collapsed": false,
    "pycharm": {
     "name": "#%% md\n"
    }
   }
  },
  {
   "cell_type": "markdown",
   "source": [],
   "metadata": {
    "collapsed": false,
    "pycharm": {
     "name": "#%% md\n"
    }
   }
  },
  {
   "cell_type": "markdown",
   "source": [],
   "metadata": {
    "collapsed": false,
    "pycharm": {
     "name": "#%% md\n"
    }
   }
  }
 ],
 "metadata": {
  "kernelspec": {
   "display_name": "Python 3",
   "language": "python",
   "name": "python3"
  },
  "language_info": {
   "codemirror_mode": {
    "name": "ipython",
    "version": 2
   },
   "file_extension": ".py",
   "mimetype": "text/x-python",
   "name": "python",
   "nbconvert_exporter": "python",
   "pygments_lexer": "ipython2",
   "version": "2.7.6"
  }
 },
 "nbformat": 4,
 "nbformat_minor": 0
}