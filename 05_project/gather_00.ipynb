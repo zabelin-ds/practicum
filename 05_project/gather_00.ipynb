{
 "cells": [
  {
   "cell_type": "markdown",
   "metadata": {
    "pycharm": {
     "name": "#%% md\n"
    }
   },
   "source": [
    "# Сборный проект"
   ]
  },
  {
   "cell_type": "markdown",
   "metadata": {
    "pycharm": {
     "name": "#%% md\n"
    }
   },
   "source": [
    "## Введение"
   ]
  },
  {
   "cell_type": "markdown",
   "metadata": {
    "pycharm": {
     "name": "#%% md\n"
    }
   },
   "source": [
    "Выявить определяющие успешность игры закономерности. Это позволит сделать ставку на потенциально популярный продукт и спланировать рекламные кампании."
   ]
  },
  {
   "cell_type": "markdown",
   "metadata": {
    "pycharm": {
     "name": "#%% md\n"
    }
   },
   "source": [
    "похоже, найден оригинал данных…\n",
    "\n",
    "[video game sales on kaggle.com](https://www.kaggle.com/datasets/gregorut/videogamesales) 🤫"
   ]
  },
  {
   "cell_type": "markdown",
   "metadata": {
    "pycharm": {
     "name": "#%% md\n"
    }
   },
   "source": []
  },
  {
   "cell_type": "markdown",
   "metadata": {
    "pycharm": {
     "name": "#%% md\n"
    }
   },
   "source": [
    "<div class=\"alert alert-info\" role=\"alert\">\n",
    "    <p class=\"mb-0\">В коде использую <code>display()</code>, потомучто это однозначно даёт понять что планируется вывод / печать результатов. То есть использую <code>display()</code> намеренно, хотя понимаю что можно и без него выводить данные. 👌</p>\n",
    "</div>"
   ]
  },
  {
   "cell_type": "markdown",
   "metadata": {
    "pycharm": {
     "name": "#%% md\n"
    }
   },
   "source": [
    "<hr>"
   ]
  },
  {
   "cell_type": "markdown",
   "metadata": {
    "pycharm": {
     "name": "#%% md\n"
    }
   },
   "source": [
    "## Шаг 0"
   ]
  },
  {
   "cell_type": "code",
   "execution_count": 1,
   "metadata": {
    "collapsed": false,
    "jupyter": {
     "outputs_hidden": false
    },
    "pycharm": {
     "name": "#%%\n"
    }
   },
   "outputs": [],
   "source": [
    "import pandas as pd\n",
    "import seaborn as sns\n",
    "import scipy.stats as st\n",
    "import numpy as np\n",
    "\n",
    "from IPython.core.display_functions import display\n"
   ]
  },
  {
   "cell_type": "code",
   "execution_count": 2,
   "metadata": {
    "collapsed": false,
    "jupyter": {
     "outputs_hidden": false
    },
    "pycharm": {
     "name": "#%%\n"
    }
   },
   "outputs": [],
   "source": [
    "%config InlineBackend.figure_formats = ['svg']"
   ]
  },
  {
   "cell_type": "code",
   "execution_count": 3,
   "metadata": {
    "collapsed": false,
    "jupyter": {
     "outputs_hidden": false
    },
    "pycharm": {
     "name": "#%%\n"
    }
   },
   "outputs": [],
   "source": [
    "# seaborn style via MATPLOTLIBRC\n",
    "custom_params = {'figure.figsize': (15, 7),\n",
    "                'figure.facecolor': '#232425',\n",
    "                'figure.dpi': 240,\n",
    "\n",
    "                'legend.frameon': False,\n",
    "                'legend.borderpad': 1.4,\n",
    "                'legend.labelspacing': 0.7,\n",
    "                'legend.handlelength': 0.7,\n",
    "                'legend.handleheight': 0.7,\n",
    "\n",
    "                'axes.facecolor': '#232425',\n",
    "                'axes.labelcolor': '#EEEEEE',\n",
    "                'axes.labelpad': 17,\n",
    "                'axes.spines.left': False,\n",
    "                'axes.spines.bottom': False,\n",
    "                'axes.spines.right': False,\n",
    "                'axes.spines.top': False,\n",
    "                'axes.grid': False,\n",
    "\n",
    "                'contour.linewidth': 0.0,\n",
    "\n",
    "                'xtick.color': '#AAAAAA',\n",
    "                'ytick.color': '#AAAAAA',\n",
    "                'xtick.bottom': True,\n",
    "                'xtick.top': False,\n",
    "                'ytick.left': True,\n",
    "                'ytick.right': False,\n",
    "\n",
    "                'text.color': '#EEEEEE',\n",
    "                'font.sans-serif': [\n",
    "                    'Helvetica',\n",
    "                    'Verdana',\n",
    "                    'sans-serif'\n",
    "                    ]\n",
    "                }\n",
    "sns.set_theme(style='darkgrid', rc=custom_params)\n",
    "sns.set_context(\"notebook\", font_scale=1.37)"
   ]
  },
  {
   "cell_type": "markdown",
   "metadata": {
    "pycharm": {
     "name": "#%% md\n"
    }
   },
   "source": [
    "<hr>"
   ]
  },
  {
   "cell_type": "markdown",
   "metadata": {
    "pycharm": {
     "name": "#%% md\n"
    }
   },
   "source": [
    "## Шаг 1. Откройте файл с данными и изучите общую информацию"
   ]
  },
  {
   "cell_type": "markdown",
   "metadata": {
    "pycharm": {
     "name": "#%% md\n"
    }
   },
   "source": [
    "Загружаем данные тестового задания."
   ]
  },
  {
   "cell_type": "code",
   "execution_count": 4,
   "metadata": {
    "collapsed": false,
    "jupyter": {
     "outputs_hidden": false
    },
    "pycharm": {
     "name": "#%%\n"
    }
   },
   "outputs": [],
   "source": [
    "try:\n",
    "    games_df = pd.read_csv('./datasets/games.csv')\n",
    "except FileNotFoundError:\n",
    "    games_df = pd.read_csv('https://code.s3.yandex.net/datasets/games.csv')\n",
    "    print('games_df loaded by url')"
   ]
  },
  {
   "cell_type": "markdown",
   "source": [
    "Заменим названия столбцов (приведем к нижнему регистру);"
   ],
   "metadata": {
    "collapsed": false,
    "pycharm": {
     "name": "#%% md\n"
    }
   }
  },
  {
   "cell_type": "code",
   "execution_count": 5,
   "metadata": {
    "collapsed": false,
    "jupyter": {
     "outputs_hidden": false
    },
    "pycharm": {
     "name": "#%%\n"
    }
   },
   "outputs": [],
   "source": [
    "games_df.columns = games_df.columns.str.lower()"
   ]
  },
  {
   "cell_type": "code",
   "execution_count": 6,
   "metadata": {
    "collapsed": false,
    "jupyter": {
     "outputs_hidden": false
    },
    "pycharm": {
     "name": "#%%\n"
    }
   },
   "outputs": [
    {
     "data": {
      "text/plain": "                                     name platform  year_of_release  \\\n11759          Party Pigs: Farmyard Games      Wii           2009.0   \n8492                       Curious George      GBA           2006.0   \n3080    Brothers In Arms: Road to Hill 30       XB           2005.0   \n6803                    Disney Stitch Jam       DS           2009.0   \n9988   Cabela's North American Adventures      PS3           2010.0   \n14089                     Just Dance 2017     XOne           2016.0   \n9240                         Shining Soul      GBA           2002.0   \n\n              genre  na_sales  eu_sales  jp_sales  other_sales  critic_score  \\\n11759          Misc      0.07      0.00      0.00         0.00           NaN   \n8492         Action      0.12      0.04      0.00         0.00          65.0   \n3080        Shooter      0.49      0.14      0.00         0.02          88.0   \n6803           Misc      0.07      0.00      0.16         0.01           NaN   \n9988         Sports      0.11      0.00      0.00         0.01           NaN   \n14089          Misc      0.03      0.00      0.00         0.00          75.0   \n9240   Role-Playing      0.03      0.01      0.09         0.00          58.0   \n\n      user_score rating  \n11759        tbd      E  \n8492         tbd      E  \n3080           8      M  \n6803         tbd      E  \n9988         tbd      T  \n14089          8   E10+  \n9240         8.5      E  ",
      "text/html": "<div>\n<style scoped>\n    .dataframe tbody tr th:only-of-type {\n        vertical-align: middle;\n    }\n\n    .dataframe tbody tr th {\n        vertical-align: top;\n    }\n\n    .dataframe thead th {\n        text-align: right;\n    }\n</style>\n<table border=\"1\" class=\"dataframe\">\n  <thead>\n    <tr style=\"text-align: right;\">\n      <th></th>\n      <th>name</th>\n      <th>platform</th>\n      <th>year_of_release</th>\n      <th>genre</th>\n      <th>na_sales</th>\n      <th>eu_sales</th>\n      <th>jp_sales</th>\n      <th>other_sales</th>\n      <th>critic_score</th>\n      <th>user_score</th>\n      <th>rating</th>\n    </tr>\n  </thead>\n  <tbody>\n    <tr>\n      <th>11759</th>\n      <td>Party Pigs: Farmyard Games</td>\n      <td>Wii</td>\n      <td>2009.0</td>\n      <td>Misc</td>\n      <td>0.07</td>\n      <td>0.00</td>\n      <td>0.00</td>\n      <td>0.00</td>\n      <td>NaN</td>\n      <td>tbd</td>\n      <td>E</td>\n    </tr>\n    <tr>\n      <th>8492</th>\n      <td>Curious George</td>\n      <td>GBA</td>\n      <td>2006.0</td>\n      <td>Action</td>\n      <td>0.12</td>\n      <td>0.04</td>\n      <td>0.00</td>\n      <td>0.00</td>\n      <td>65.0</td>\n      <td>tbd</td>\n      <td>E</td>\n    </tr>\n    <tr>\n      <th>3080</th>\n      <td>Brothers In Arms: Road to Hill 30</td>\n      <td>XB</td>\n      <td>2005.0</td>\n      <td>Shooter</td>\n      <td>0.49</td>\n      <td>0.14</td>\n      <td>0.00</td>\n      <td>0.02</td>\n      <td>88.0</td>\n      <td>8</td>\n      <td>M</td>\n    </tr>\n    <tr>\n      <th>6803</th>\n      <td>Disney Stitch Jam</td>\n      <td>DS</td>\n      <td>2009.0</td>\n      <td>Misc</td>\n      <td>0.07</td>\n      <td>0.00</td>\n      <td>0.16</td>\n      <td>0.01</td>\n      <td>NaN</td>\n      <td>tbd</td>\n      <td>E</td>\n    </tr>\n    <tr>\n      <th>9988</th>\n      <td>Cabela's North American Adventures</td>\n      <td>PS3</td>\n      <td>2010.0</td>\n      <td>Sports</td>\n      <td>0.11</td>\n      <td>0.00</td>\n      <td>0.00</td>\n      <td>0.01</td>\n      <td>NaN</td>\n      <td>tbd</td>\n      <td>T</td>\n    </tr>\n    <tr>\n      <th>14089</th>\n      <td>Just Dance 2017</td>\n      <td>XOne</td>\n      <td>2016.0</td>\n      <td>Misc</td>\n      <td>0.03</td>\n      <td>0.00</td>\n      <td>0.00</td>\n      <td>0.00</td>\n      <td>75.0</td>\n      <td>8</td>\n      <td>E10+</td>\n    </tr>\n    <tr>\n      <th>9240</th>\n      <td>Shining Soul</td>\n      <td>GBA</td>\n      <td>2002.0</td>\n      <td>Role-Playing</td>\n      <td>0.03</td>\n      <td>0.01</td>\n      <td>0.09</td>\n      <td>0.00</td>\n      <td>58.0</td>\n      <td>8.5</td>\n      <td>E</td>\n    </tr>\n  </tbody>\n</table>\n</div>"
     },
     "metadata": {},
     "output_type": "display_data"
    }
   ],
   "source": [
    "display(\n",
    "    games_df.sample(7)\n",
    ")"
   ]
  },
  {
   "cell_type": "code",
   "execution_count": 7,
   "metadata": {
    "collapsed": false,
    "jupyter": {
     "outputs_hidden": false
    },
    "pycharm": {
     "name": "#%%\n"
    }
   },
   "outputs": [
    {
     "name": "stdout",
     "output_type": "stream",
     "text": [
      "<class 'pandas.core.frame.DataFrame'>\n",
      "RangeIndex: 16715 entries, 0 to 16714\n",
      "Data columns (total 11 columns):\n",
      " #   Column           Non-Null Count  Dtype  \n",
      "---  ------           --------------  -----  \n",
      " 0   name             16713 non-null  object \n",
      " 1   platform         16715 non-null  object \n",
      " 2   year_of_release  16446 non-null  float64\n",
      " 3   genre            16713 non-null  object \n",
      " 4   na_sales         16715 non-null  float64\n",
      " 5   eu_sales         16715 non-null  float64\n",
      " 6   jp_sales         16715 non-null  float64\n",
      " 7   other_sales      16715 non-null  float64\n",
      " 8   critic_score     8137 non-null   float64\n",
      " 9   user_score       10014 non-null  object \n",
      " 10  rating           9949 non-null   object \n",
      "dtypes: float64(6), object(5)\n",
      "memory usage: 1.4+ MB\n"
     ]
    },
    {
     "data": {
      "text/plain": "None"
     },
     "metadata": {},
     "output_type": "display_data"
    }
   ],
   "source": [
    "display(\n",
    "    games_df.info()\n",
    ")"
   ]
  },
  {
   "cell_type": "markdown",
   "metadata": {
    "pycharm": {
     "name": "#%% md\n"
    }
   },
   "source": [
    "### Колонки с пропусками:"
   ]
  },
  {
   "cell_type": "code",
   "execution_count": 8,
   "metadata": {
    "collapsed": false,
    "jupyter": {
     "outputs_hidden": false
    },
    "pycharm": {
     "name": "#%%\n"
    }
   },
   "outputs": [
    {
     "data": {
      "text/plain": "['name', 'year_of_release', 'genre', 'critic_score', 'user_score', 'rating']"
     },
     "metadata": {},
     "output_type": "display_data"
    }
   ],
   "source": [
    "display(\n",
    "    games_df.columns[games_df.isna().any()].tolist()\n",
    ")"
   ]
  },
  {
   "cell_type": "markdown",
   "metadata": {
    "pycharm": {
     "name": "#%% md\n"
    }
   },
   "source": [
    "⭕️ 'name' `NaN`\n",
    "⭕️ 'year_of_release' `NaN`  \n",
    "⭕️ 'genre' `NaN`  \n",
    "⭕️ 'critic_score' `NaN`  \n",
    "⭕️ 'user_score' `NaN`  \n",
    "⭕️ 'rating' `NaN`  "
   ]
  },
  {
   "cell_type": "markdown",
   "metadata": {
    "pycharm": {
     "name": "#%% md\n"
    }
   },
   "source": [
    "#### `name` — название игры"
   ]
  },
  {
   "cell_type": "code",
   "execution_count": 9,
   "metadata": {
    "collapsed": false,
    "jupyter": {
     "outputs_hidden": false
    },
    "pycharm": {
     "name": "#%%\n"
    }
   },
   "outputs": [
    {
     "data": {
      "text/plain": "      name platform  year_of_release genre  na_sales  eu_sales  jp_sales  \\\n659    NaN      GEN           1993.0   NaN      1.78      0.53      0.00   \n14244  NaN      GEN           1993.0   NaN      0.00      0.00      0.03   \n\n       other_sales  critic_score user_score rating  \n659           0.08           NaN        NaN    NaN  \n14244         0.00           NaN        NaN    NaN  ",
      "text/html": "<div>\n<style scoped>\n    .dataframe tbody tr th:only-of-type {\n        vertical-align: middle;\n    }\n\n    .dataframe tbody tr th {\n        vertical-align: top;\n    }\n\n    .dataframe thead th {\n        text-align: right;\n    }\n</style>\n<table border=\"1\" class=\"dataframe\">\n  <thead>\n    <tr style=\"text-align: right;\">\n      <th></th>\n      <th>name</th>\n      <th>platform</th>\n      <th>year_of_release</th>\n      <th>genre</th>\n      <th>na_sales</th>\n      <th>eu_sales</th>\n      <th>jp_sales</th>\n      <th>other_sales</th>\n      <th>critic_score</th>\n      <th>user_score</th>\n      <th>rating</th>\n    </tr>\n  </thead>\n  <tbody>\n    <tr>\n      <th>659</th>\n      <td>NaN</td>\n      <td>GEN</td>\n      <td>1993.0</td>\n      <td>NaN</td>\n      <td>1.78</td>\n      <td>0.53</td>\n      <td>0.00</td>\n      <td>0.08</td>\n      <td>NaN</td>\n      <td>NaN</td>\n      <td>NaN</td>\n    </tr>\n    <tr>\n      <th>14244</th>\n      <td>NaN</td>\n      <td>GEN</td>\n      <td>1993.0</td>\n      <td>NaN</td>\n      <td>0.00</td>\n      <td>0.00</td>\n      <td>0.03</td>\n      <td>0.00</td>\n      <td>NaN</td>\n      <td>NaN</td>\n      <td>NaN</td>\n    </tr>\n  </tbody>\n</table>\n</div>"
     },
     "metadata": {},
     "output_type": "display_data"
    }
   ],
   "source": [
    "display(\n",
    "    games_df.loc[games_df['name'].isna()]\n",
    ")"
   ]
  },
  {
   "cell_type": "code",
   "execution_count": 10,
   "metadata": {
    "collapsed": false,
    "jupyter": {
     "outputs_hidden": false
    },
    "pycharm": {
     "name": "#%%\n"
    }
   },
   "outputs": [],
   "source": [
    "games_df.dropna(axis=0, subset=['name'], inplace=True)"
   ]
  },
  {
   "cell_type": "code",
   "execution_count": 11,
   "metadata": {
    "collapsed": false,
    "jupyter": {
     "outputs_hidden": false
    },
    "pycharm": {
     "name": "#%%\n"
    }
   },
   "outputs": [
    {
     "name": "stdout",
     "output_type": "stream",
     "text": [
      "<class 'pandas.core.frame.DataFrame'>\n",
      "Int64Index: 16713 entries, 0 to 16714\n",
      "Data columns (total 11 columns):\n",
      " #   Column           Non-Null Count  Dtype  \n",
      "---  ------           --------------  -----  \n",
      " 0   name             16713 non-null  object \n",
      " 1   platform         16713 non-null  object \n",
      " 2   year_of_release  16444 non-null  float64\n",
      " 3   genre            16713 non-null  object \n",
      " 4   na_sales         16713 non-null  float64\n",
      " 5   eu_sales         16713 non-null  float64\n",
      " 6   jp_sales         16713 non-null  float64\n",
      " 7   other_sales      16713 non-null  float64\n",
      " 8   critic_score     8137 non-null   float64\n",
      " 9   user_score       10014 non-null  object \n",
      " 10  rating           9949 non-null   object \n",
      "dtypes: float64(6), object(5)\n",
      "memory usage: 1.5+ MB\n"
     ]
    },
    {
     "data": {
      "text/plain": "None"
     },
     "metadata": {},
     "output_type": "display_data"
    }
   ],
   "source": [
    "display(games_df.info())"
   ]
  },
  {
   "cell_type": "markdown",
   "metadata": {
    "pycharm": {
     "name": "#%% md\n"
    }
   },
   "source": [
    "✅ ‘name’ `NaN`  \n",
    "⭕️ 'year_of_release' `NaN`  \n",
    "✅ 'genre' `NaN`  \n",
    "⭕️ 'critic_score' `NaN`  \n",
    "⭕️ 'user_score' `NaN`  \n",
    "⭕️ 'rating' `NaN`  "
   ]
  },
  {
   "cell_type": "raw",
   "metadata": {
    "pycharm": {
     "name": "#%% raw\n"
    }
   },
   "source": [
    "display(\n",
    "    games_df.loc[\n",
    "        (games_df.duplicated(subset=['name', 'year_of_release', 'platform'], keep=False))\n",
    "        # , ['name', 'year_of_release', 'platform']\n",
    "    ]\n",
    ")"
   ]
  },
  {
   "cell_type": "code",
   "execution_count": 12,
   "metadata": {
    "collapsed": false,
    "jupyter": {
     "outputs_hidden": false
    },
    "pycharm": {
     "name": "#%%\n"
    }
   },
   "outputs": [
    {
     "data": {
      "text/plain": "                name platform  year_of_release   genre  na_sales  eu_sales  \\\n507    Madden NFL 13     X360           2012.0  Sports      2.53      0.15   \n604    Madden NFL 13      PS3           2012.0  Sports      2.11      0.22   \n3986   Madden NFL 13      Wii           2012.0  Sports      0.47      0.00   \n5887   Madden NFL 13      PSV           2012.0  Sports      0.28      0.00   \n7066   Madden NFL 13     WiiU           2012.0  Sports      0.21      0.00   \n16230  Madden NFL 13      PS3           2012.0  Sports      0.00      0.01   \n\n       jp_sales  other_sales  critic_score user_score rating  \n507         0.0         0.17          81.0        5.8      E  \n604         0.0         0.23          83.0        5.5      E  \n3986        0.0         0.03           NaN        7.3      E  \n5887        0.0         0.02          63.0        7.3      E  \n7066        0.0         0.02          75.0        6.7      E  \n16230       0.0         0.00          83.0        5.5      E  ",
      "text/html": "<div>\n<style scoped>\n    .dataframe tbody tr th:only-of-type {\n        vertical-align: middle;\n    }\n\n    .dataframe tbody tr th {\n        vertical-align: top;\n    }\n\n    .dataframe thead th {\n        text-align: right;\n    }\n</style>\n<table border=\"1\" class=\"dataframe\">\n  <thead>\n    <tr style=\"text-align: right;\">\n      <th></th>\n      <th>name</th>\n      <th>platform</th>\n      <th>year_of_release</th>\n      <th>genre</th>\n      <th>na_sales</th>\n      <th>eu_sales</th>\n      <th>jp_sales</th>\n      <th>other_sales</th>\n      <th>critic_score</th>\n      <th>user_score</th>\n      <th>rating</th>\n    </tr>\n  </thead>\n  <tbody>\n    <tr>\n      <th>507</th>\n      <td>Madden NFL 13</td>\n      <td>X360</td>\n      <td>2012.0</td>\n      <td>Sports</td>\n      <td>2.53</td>\n      <td>0.15</td>\n      <td>0.0</td>\n      <td>0.17</td>\n      <td>81.0</td>\n      <td>5.8</td>\n      <td>E</td>\n    </tr>\n    <tr>\n      <th>604</th>\n      <td>Madden NFL 13</td>\n      <td>PS3</td>\n      <td>2012.0</td>\n      <td>Sports</td>\n      <td>2.11</td>\n      <td>0.22</td>\n      <td>0.0</td>\n      <td>0.23</td>\n      <td>83.0</td>\n      <td>5.5</td>\n      <td>E</td>\n    </tr>\n    <tr>\n      <th>3986</th>\n      <td>Madden NFL 13</td>\n      <td>Wii</td>\n      <td>2012.0</td>\n      <td>Sports</td>\n      <td>0.47</td>\n      <td>0.00</td>\n      <td>0.0</td>\n      <td>0.03</td>\n      <td>NaN</td>\n      <td>7.3</td>\n      <td>E</td>\n    </tr>\n    <tr>\n      <th>5887</th>\n      <td>Madden NFL 13</td>\n      <td>PSV</td>\n      <td>2012.0</td>\n      <td>Sports</td>\n      <td>0.28</td>\n      <td>0.00</td>\n      <td>0.0</td>\n      <td>0.02</td>\n      <td>63.0</td>\n      <td>7.3</td>\n      <td>E</td>\n    </tr>\n    <tr>\n      <th>7066</th>\n      <td>Madden NFL 13</td>\n      <td>WiiU</td>\n      <td>2012.0</td>\n      <td>Sports</td>\n      <td>0.21</td>\n      <td>0.00</td>\n      <td>0.0</td>\n      <td>0.02</td>\n      <td>75.0</td>\n      <td>6.7</td>\n      <td>E</td>\n    </tr>\n    <tr>\n      <th>16230</th>\n      <td>Madden NFL 13</td>\n      <td>PS3</td>\n      <td>2012.0</td>\n      <td>Sports</td>\n      <td>0.00</td>\n      <td>0.01</td>\n      <td>0.0</td>\n      <td>0.00</td>\n      <td>83.0</td>\n      <td>5.5</td>\n      <td>E</td>\n    </tr>\n  </tbody>\n</table>\n</div>"
     },
     "metadata": {},
     "output_type": "display_data"
    }
   ],
   "source": [
    "display(\n",
    "    games_df.loc[games_df['name'] == 'Madden NFL 13']\n",
    ")"
   ]
  },
  {
   "cell_type": "code",
   "execution_count": 13,
   "metadata": {
    "collapsed": false,
    "jupyter": {
     "outputs_hidden": false
    },
    "pycharm": {
     "name": "#%%\n"
    }
   },
   "outputs": [
    {
     "data": {
      "text/plain": "11559"
     },
     "metadata": {},
     "output_type": "display_data"
    }
   ],
   "source": [
    "display(\n",
    "    len(games_df['name'].unique())\n",
    ")"
   ]
  },
  {
   "cell_type": "markdown",
   "metadata": {
    "pycharm": {
     "name": "#%% md\n"
    }
   },
   "source": [
    "#### `year_of_release` — год выпуска"
   ]
  },
  {
   "cell_type": "code",
   "execution_count": 14,
   "metadata": {
    "collapsed": false,
    "jupyter": {
     "outputs_hidden": false
    },
    "pycharm": {
     "name": "#%%\n"
    }
   },
   "outputs": [
    {
     "data": {
      "text/plain": "year_of_release\n1980.0       9\n1981.0      46\n1982.0      36\n1983.0      17\n1984.0      14\n1985.0      14\n1986.0      21\n1987.0      16\n1988.0      15\n1989.0      17\n1990.0      16\n1991.0      41\n1992.0      43\n1993.0      60\n1994.0     121\n1995.0     219\n1996.0     263\n1997.0     289\n1998.0     379\n1999.0     338\n2000.0     350\n2001.0     482\n2002.0     829\n2003.0     775\n2004.0     762\n2005.0     939\n2006.0    1006\n2007.0    1197\n2008.0    1427\n2009.0    1426\n2010.0    1255\n2011.0    1136\n2012.0     653\n2013.0     544\n2014.0     581\n2015.0     606\n2016.0     502\nName: name, dtype: int64"
     },
     "metadata": {},
     "output_type": "display_data"
    }
   ],
   "source": [
    "display(\n",
    "    games_df.groupby(\n",
    "        by='year_of_release'\n",
    "    )['name'].count()\n",
    ")"
   ]
  },
  {
   "cell_type": "markdown",
   "metadata": {
    "pycharm": {
     "name": "#%% md\n"
    }
   },
   "source": [
    "`genre` — жанр игры"
   ]
  },
  {
   "cell_type": "code",
   "execution_count": 15,
   "metadata": {
    "collapsed": false,
    "jupyter": {
     "outputs_hidden": false
    },
    "pycharm": {
     "name": "#%%\n"
    }
   },
   "outputs": [
    {
     "data": {
      "text/plain": "array(['Sports', 'Platform', 'Racing', 'Role-Playing', 'Puzzle', 'Misc',\n       'Shooter', 'Simulation', 'Action', 'Fighting', 'Adventure',\n       'Strategy'], dtype=object)"
     },
     "metadata": {},
     "output_type": "display_data"
    },
    {
     "data": {
      "text/plain": "0"
     },
     "metadata": {},
     "output_type": "display_data"
    }
   ],
   "source": [
    "display(\n",
    "    games_df['genre'].unique(),\n",
    "    games_df.loc[\n",
    "        games_df['genre'].isna()\n",
    "    ]['name'].count()\n",
    ")"
   ]
  },
  {
   "cell_type": "markdown",
   "metadata": {
    "pycharm": {
     "name": "#%% md\n"
    }
   },
   "source": [
    "#### `critic_score` — оценка критиков (максимум 100)"
   ]
  },
  {
   "cell_type": "code",
   "execution_count": 16,
   "metadata": {
    "collapsed": false,
    "jupyter": {
     "outputs_hidden": false
    },
    "pycharm": {
     "name": "#%%\n"
    }
   },
   "outputs": [
    {
     "data": {
      "text/plain": "count    8137.000000\nmean       68.967679\nstd        13.938165\nmin        13.000000\n25%        60.000000\n50%        71.000000\n75%        79.000000\nmax        98.000000\nName: critic_score, dtype: float64"
     },
     "metadata": {},
     "output_type": "display_data"
    }
   ],
   "source": [
    "display(\n",
    "    games_df['critic_score'].describe()\n",
    ")"
   ]
  },
  {
   "cell_type": "code",
   "execution_count": 17,
   "metadata": {
    "collapsed": false,
    "jupyter": {
     "outputs_hidden": false
    },
    "pycharm": {
     "name": "#%%\n"
    }
   },
   "outputs": [
    {
     "data": {
      "text/plain": "'Продажи игр, у которых пропущена оценка критиков'"
     },
     "metadata": {},
     "output_type": "display_data"
    },
    {
     "data": {
      "text/plain": "          na_sales     eu_sales     jp_sales  other_sales\ncount  8576.000000  8576.000000  8576.000000  8576.000000\nmean      0.178215     0.085017     0.099065     0.023535\nstd       0.715940     0.321036     0.343974     0.088748\nmin       0.000000     0.000000     0.000000     0.000000\n25%       0.000000     0.000000     0.000000     0.000000\n50%       0.020000     0.000000     0.000000     0.000000\n75%       0.140000     0.050000     0.060000     0.020000\nmax      29.080000    10.950000    10.220000     2.740000",
      "text/html": "<div>\n<style scoped>\n    .dataframe tbody tr th:only-of-type {\n        vertical-align: middle;\n    }\n\n    .dataframe tbody tr th {\n        vertical-align: top;\n    }\n\n    .dataframe thead th {\n        text-align: right;\n    }\n</style>\n<table border=\"1\" class=\"dataframe\">\n  <thead>\n    <tr style=\"text-align: right;\">\n      <th></th>\n      <th>na_sales</th>\n      <th>eu_sales</th>\n      <th>jp_sales</th>\n      <th>other_sales</th>\n    </tr>\n  </thead>\n  <tbody>\n    <tr>\n      <th>count</th>\n      <td>8576.000000</td>\n      <td>8576.000000</td>\n      <td>8576.000000</td>\n      <td>8576.000000</td>\n    </tr>\n    <tr>\n      <th>mean</th>\n      <td>0.178215</td>\n      <td>0.085017</td>\n      <td>0.099065</td>\n      <td>0.023535</td>\n    </tr>\n    <tr>\n      <th>std</th>\n      <td>0.715940</td>\n      <td>0.321036</td>\n      <td>0.343974</td>\n      <td>0.088748</td>\n    </tr>\n    <tr>\n      <th>min</th>\n      <td>0.000000</td>\n      <td>0.000000</td>\n      <td>0.000000</td>\n      <td>0.000000</td>\n    </tr>\n    <tr>\n      <th>25%</th>\n      <td>0.000000</td>\n      <td>0.000000</td>\n      <td>0.000000</td>\n      <td>0.000000</td>\n    </tr>\n    <tr>\n      <th>50%</th>\n      <td>0.020000</td>\n      <td>0.000000</td>\n      <td>0.000000</td>\n      <td>0.000000</td>\n    </tr>\n    <tr>\n      <th>75%</th>\n      <td>0.140000</td>\n      <td>0.050000</td>\n      <td>0.060000</td>\n      <td>0.020000</td>\n    </tr>\n    <tr>\n      <th>max</th>\n      <td>29.080000</td>\n      <td>10.950000</td>\n      <td>10.220000</td>\n      <td>2.740000</td>\n    </tr>\n  </tbody>\n</table>\n</div>"
     },
     "metadata": {},
     "output_type": "display_data"
    },
    {
     "data": {
      "text/plain": "'Продажи игр, у которых известна оценка критиков'"
     },
     "metadata": {},
     "output_type": "display_data"
    },
    {
     "data": {
      "text/plain": "          na_sales     eu_sales     jp_sales  other_sales\ncount  8137.000000  8137.000000  8137.000000  8137.000000\nmean      0.352980     0.208311     0.055028     0.072435\nstd       0.896476     0.635622     0.265075     0.249204\nmin       0.000000     0.000000     0.000000     0.000000\n25%       0.050000     0.010000     0.000000     0.010000\n50%       0.130000     0.050000     0.000000     0.020000\n75%       0.340000     0.180000     0.010000     0.060000\nmax      41.360000    28.960000     6.500000    10.570000",
      "text/html": "<div>\n<style scoped>\n    .dataframe tbody tr th:only-of-type {\n        vertical-align: middle;\n    }\n\n    .dataframe tbody tr th {\n        vertical-align: top;\n    }\n\n    .dataframe thead th {\n        text-align: right;\n    }\n</style>\n<table border=\"1\" class=\"dataframe\">\n  <thead>\n    <tr style=\"text-align: right;\">\n      <th></th>\n      <th>na_sales</th>\n      <th>eu_sales</th>\n      <th>jp_sales</th>\n      <th>other_sales</th>\n    </tr>\n  </thead>\n  <tbody>\n    <tr>\n      <th>count</th>\n      <td>8137.000000</td>\n      <td>8137.000000</td>\n      <td>8137.000000</td>\n      <td>8137.000000</td>\n    </tr>\n    <tr>\n      <th>mean</th>\n      <td>0.352980</td>\n      <td>0.208311</td>\n      <td>0.055028</td>\n      <td>0.072435</td>\n    </tr>\n    <tr>\n      <th>std</th>\n      <td>0.896476</td>\n      <td>0.635622</td>\n      <td>0.265075</td>\n      <td>0.249204</td>\n    </tr>\n    <tr>\n      <th>min</th>\n      <td>0.000000</td>\n      <td>0.000000</td>\n      <td>0.000000</td>\n      <td>0.000000</td>\n    </tr>\n    <tr>\n      <th>25%</th>\n      <td>0.050000</td>\n      <td>0.010000</td>\n      <td>0.000000</td>\n      <td>0.010000</td>\n    </tr>\n    <tr>\n      <th>50%</th>\n      <td>0.130000</td>\n      <td>0.050000</td>\n      <td>0.000000</td>\n      <td>0.020000</td>\n    </tr>\n    <tr>\n      <th>75%</th>\n      <td>0.340000</td>\n      <td>0.180000</td>\n      <td>0.010000</td>\n      <td>0.060000</td>\n    </tr>\n    <tr>\n      <th>max</th>\n      <td>41.360000</td>\n      <td>28.960000</td>\n      <td>6.500000</td>\n      <td>10.570000</td>\n    </tr>\n  </tbody>\n</table>\n</div>"
     },
     "metadata": {},
     "output_type": "display_data"
    }
   ],
   "source": [
    "display('Продажи игр, у которых пропущена оценка критиков',\n",
    "    games_df.loc[\n",
    "        games_df['critic_score'].isna()\n",
    "        , ['na_sales', 'eu_sales', 'jp_sales', 'other_sales']\n",
    "    ].describe(),\n",
    "    'Продажи игр, у которых известна оценка критиков',\n",
    "    games_df.loc[\n",
    "        games_df['critic_score'].notna()\n",
    "        , ['na_sales', 'eu_sales', 'jp_sales', 'other_sales']\n",
    "    ].describe()\n",
    ")"
   ]
  },
  {
   "cell_type": "markdown",
   "source": [
    "#### `platform` — платформа"
   ],
   "metadata": {
    "collapsed": false,
    "pycharm": {
     "name": "#%% md\n"
    }
   }
  },
  {
   "cell_type": "code",
   "execution_count": 18,
   "outputs": [
    {
     "data": {
      "text/plain": "['2600',\n '3DO',\n '3DS',\n 'DC',\n 'DS',\n 'GB',\n 'GBA',\n 'GC',\n 'GEN',\n 'GG',\n 'N64',\n 'NES',\n 'NG',\n 'PC',\n 'PCFX',\n 'PS',\n 'PS2',\n 'PS3',\n 'PS4',\n 'PSP',\n 'PSV',\n 'SAT',\n 'SCD',\n 'SNES',\n 'TG16',\n 'WS',\n 'Wii',\n 'WiiU',\n 'X360',\n 'XB',\n 'XOne']"
     },
     "metadata": {},
     "output_type": "display_data"
    },
    {
     "data": {
      "text/plain": "31"
     },
     "metadata": {},
     "output_type": "display_data"
    }
   ],
   "source": [
    "display(\n",
    "    sorted(games_df['platform'].unique()),\n",
    "    len(games_df['platform'].unique()),\n",
    ")"
   ],
   "metadata": {
    "collapsed": false,
    "pycharm": {
     "name": "#%%\n"
    }
   }
  },
  {
   "cell_type": "markdown",
   "source": [
    "✅ ‘name’ `NaN`\n",
    "⭕️ 'year_of_release' `NaN`\n",
    "✅ 'genre' `NaN`\n",
    "⭕️ 'critic_score' `NaN`\n",
    "⭕️ 'user_score' `NaN`\n",
    "⭕️ 'rating' `NaN`"
   ],
   "metadata": {
    "collapsed": false,
    "pycharm": {
     "name": "#%% md\n"
    }
   }
  },
  {
   "cell_type": "markdown",
   "metadata": {
    "pycharm": {
     "name": "#%% md\n"
    }
   },
   "source": [
    "#### `user_score` — оценка пользователей (максимум 10)"
   ]
  },
  {
   "cell_type": "code",
   "execution_count": 19,
   "metadata": {
    "collapsed": false,
    "jupyter": {
     "outputs_hidden": false
    },
    "pycharm": {
     "name": "#%%\n"
    }
   },
   "outputs": [
    {
     "data": {
      "text/plain": "count     10014\nunique       96\ntop         tbd\nfreq       2424\nName: user_score, dtype: object"
     },
     "metadata": {},
     "output_type": "display_data"
    }
   ],
   "source": [
    "display(\n",
    "    games_df['user_score'].describe()\n",
    ")"
   ]
  },
  {
   "cell_type": "markdown",
   "source": [
    "**tbd — To Be Determined.**\n",
    "В интернетах пишут, что `'tbd'` обозначают оценки у которых недостаточно проголосовавших. То есть например игру оценили менее 4 игроков."
   ],
   "metadata": {
    "collapsed": false,
    "pycharm": {
     "name": "#%% md\n"
    }
   }
  },
  {
   "cell_type": "markdown",
   "source": [
    "Заменим `'tbd'` на `13`, потомучто оценка не можеть быть больше **10**."
   ],
   "metadata": {
    "collapsed": false,
    "pycharm": {
     "name": "#%% md\n"
    }
   }
  },
  {
   "cell_type": "code",
   "execution_count": 54,
   "outputs": [],
   "source": [
    "games_df['user_score'].replace(\n",
    "    to_replace='tbd',\n",
    "    value=13,\n",
    "    inplace=True\n",
    ")"
   ],
   "metadata": {
    "collapsed": false,
    "pycharm": {
     "name": "#%%\n"
    }
   }
  },
  {
   "cell_type": "markdown",
   "source": [
    "Заменим `NaN` на `-1`, то есть значение пропущенно."
   ],
   "metadata": {
    "collapsed": false,
    "pycharm": {
     "name": "#%% md\n"
    }
   }
  },
  {
   "cell_type": "code",
   "execution_count": 56,
   "outputs": [],
   "source": [
    "games_df['user_score'].fillna(\n",
    "    value=-1,\n",
    "    inplace=True\n",
    ")"
   ],
   "metadata": {
    "collapsed": false,
    "pycharm": {
     "name": "#%%\n"
    }
   }
  },
  {
   "cell_type": "code",
   "execution_count": 52,
   "outputs": [
    {
     "data": {
      "text/plain": "count     10014\nunique       96\ntop          13\nfreq       2424\nName: user_score, dtype: int64"
     },
     "metadata": {},
     "output_type": "display_data"
    }
   ],
   "source": [
    "display(\n",
    "    games_df['user_score'].describe()\n",
    ")"
   ],
   "metadata": {
    "collapsed": false,
    "pycharm": {
     "name": "#%%\n"
    }
   }
  },
  {
   "cell_type": "code",
   "execution_count": 20,
   "outputs": [
    {
     "data": {
      "text/plain": "count     7590\nunique      95\ntop        7.8\nfreq       324\nName: user_score, dtype: object"
     },
     "metadata": {},
     "output_type": "display_data"
    }
   ],
   "source": [
    "display(\n",
    "    games_df.loc[\n",
    "        games_df['user_score'] != 'tbd',\n",
    "            'user_score'\n",
    "    ].describe()\n",
    ")"
   ],
   "metadata": {
    "collapsed": false,
    "pycharm": {
     "name": "#%%\n"
    }
   }
  },
  {
   "cell_type": "markdown",
   "metadata": {
    "pycharm": {
     "name": "#%% md\n"
    }
   },
   "source": [
    "#### `rating` — рейтинг от организации ESRB"
   ]
  },
  {
   "cell_type": "markdown",
   "source": [
    "(англ. Entertainment Software Rating Board). Эта ассоциация определяет рейтинг компьютерных игр и присваивает им подходящую возрастную категорию."
   ],
   "metadata": {
    "collapsed": false,
    "pycharm": {
     "name": "#%% md\n"
    }
   }
  },
  {
   "cell_type": "code",
   "execution_count": 36,
   "outputs": [
    {
     "data": {
      "text/plain": "6764"
     },
     "metadata": {},
     "output_type": "display_data"
    }
   ],
   "source": [
    "display(\n",
    "    games_df.loc[\n",
    "        games_df['rating'].isna(),\n",
    "        'name'\n",
    "    ].count()\n",
    ")"
   ],
   "metadata": {
    "collapsed": false,
    "pycharm": {
     "name": "#%%\n"
    }
   }
  },
  {
   "cell_type": "code",
   "execution_count": 23,
   "outputs": [
    {
     "data": {
      "text/plain": "array(['E', 'M', 'T', 'E10+', 'K-A', 'AO', 'EC', 'RP'], dtype=object)"
     },
     "metadata": {},
     "output_type": "display_data"
    }
   ],
   "source": [
    "display(\n",
    "    games_df.loc[\n",
    "        games_df['rating'].notna(),\n",
    "            'rating'\n",
    "    ].unique()\n",
    ")"
   ],
   "metadata": {
    "collapsed": false,
    "pycharm": {
     "name": "#%%\n"
    }
   }
  },
  {
   "cell_type": "markdown",
   "source": [
    "- ` E ` — Everyone → 1994–1998 (as K-A), 1998–present (as E)\n",
    "- ` M ` — Mature 17+ → 1994–present\n",
    "- ` T ` — Teen → 1994–present\n",
    "- ` E10+ ` — Everyone 10+ → 2005–present\n",
    "- ` K-A ` — Everyone → 1994–1998\n",
    "- ` A-0 ` — Adults Only 18+ → 1994–present\n",
    "- ` EC ` — Early Childhood → 1994–2018\n",
    "- ` RP ` — Rating Pending → 1994–present\n",
    "- ` no_ESRB ` — without ESRB"
   ],
   "metadata": {
    "collapsed": false,
    "pycharm": {
     "name": "#%% md\n"
    }
   }
  },
  {
   "cell_type": "code",
   "execution_count": 49,
   "metadata": {
    "collapsed": false,
    "jupyter": {
     "outputs_hidden": false
    },
    "pycharm": {
     "name": "#%%\n"
    }
   },
   "outputs": [],
   "source": [
    "games_df['rating'].fillna(\n",
    "    value='no_ESRB',\n",
    "    inplace=True\n",
    ")"
   ]
  },
  {
   "cell_type": "code",
   "execution_count": 48,
   "outputs": [
    {
     "data": {
      "text/plain": "0"
     },
     "metadata": {},
     "output_type": "display_data"
    }
   ],
   "source": [
    "display(\n",
    "    games_df.loc[\n",
    "        games_df['rating'].isna()\n",
    "        , 'name'\n",
    "    ].count()\n",
    ")"
   ],
   "metadata": {
    "collapsed": false,
    "pycharm": {
     "name": "#%%\n"
    }
   }
  },
  {
   "cell_type": "markdown",
   "source": [
    "✅️ ‘name’ `NaN`\n",
    "⭕️ 'year_of_release' `NaN`\n",
    "✅️ 'genre' `NaN`\n",
    "⭕️ 'critic_score' `NaN`\n",
    "⭕️ 'user_score' `NaN`\n",
    "✅️ 'rating' `NaN`"
   ],
   "metadata": {
    "collapsed": false,
    "pycharm": {
     "name": "#%% md\n"
    }
   }
  },
  {
   "cell_type": "markdown",
   "source": [
    "#### `na_sales` — продажи в Северной Америке (миллионы проданных копий)"
   ],
   "metadata": {
    "collapsed": false,
    "pycharm": {
     "name": "#%% md\n"
    }
   }
  },
  {
   "cell_type": "code",
   "execution_count": 22,
   "outputs": [
    {
     "data": {
      "text/plain": "count    16713.000000\nmean         0.263302\nstd          0.813565\nmin          0.000000\n25%          0.000000\n50%          0.080000\n75%          0.240000\nmax         41.360000\nName: na_sales, dtype: float64"
     },
     "metadata": {},
     "output_type": "display_data"
    },
    {
     "data": {
      "text/plain": "                         name platform  year_of_release         genre  \\\n0                  Wii Sports      Wii           2006.0        Sports   \n1           Super Mario Bros.      NES           1985.0      Platform   \n2              Mario Kart Wii      Wii           2008.0        Racing   \n3           Wii Sports Resort      Wii           2009.0        Sports   \n4    Pokemon Red/Pokemon Blue       GB           1996.0  Role-Playing   \n..                        ...      ...              ...           ...   \n145      Sonic the Hedgehog 2      GEN           1992.0      Platform   \n183           Madden NFL 2004      PS2              NaN        Sports   \n238           Madden NFL 2005      PS2           2004.0        Sports   \n240                  Pitfall!     2600           1981.0      Platform   \n284                 Half-Life       PC           1997.0       Shooter   \n\n     na_sales  eu_sales  jp_sales  other_sales  critic_score user_score rating  \n0       41.36     28.96      3.77         8.45          76.0          8      E  \n1       29.08      3.58      6.81         0.77           NaN        NaN    NaN  \n2       15.68     12.76      3.79         3.29          82.0        8.3      E  \n3       15.61     10.93      3.28         2.95          80.0          8      E  \n4       11.27      8.89     10.22         1.00           NaN        NaN    NaN  \n..        ...       ...       ...          ...           ...        ...    ...  \n145      4.47      1.20      0.16         0.19           NaN        NaN    NaN  \n183      4.26      0.26      0.01         0.71          94.0        8.5      E  \n238      4.18      0.26      0.01         0.08          91.0        7.9      E  \n240      4.21      0.24      0.00         0.05           NaN        NaN    NaN  \n284      4.03      0.00      0.09         0.00          96.0        9.1      M  \n\n[88 rows x 11 columns]",
      "text/html": "<div>\n<style scoped>\n    .dataframe tbody tr th:only-of-type {\n        vertical-align: middle;\n    }\n\n    .dataframe tbody tr th {\n        vertical-align: top;\n    }\n\n    .dataframe thead th {\n        text-align: right;\n    }\n</style>\n<table border=\"1\" class=\"dataframe\">\n  <thead>\n    <tr style=\"text-align: right;\">\n      <th></th>\n      <th>name</th>\n      <th>platform</th>\n      <th>year_of_release</th>\n      <th>genre</th>\n      <th>na_sales</th>\n      <th>eu_sales</th>\n      <th>jp_sales</th>\n      <th>other_sales</th>\n      <th>critic_score</th>\n      <th>user_score</th>\n      <th>rating</th>\n    </tr>\n  </thead>\n  <tbody>\n    <tr>\n      <th>0</th>\n      <td>Wii Sports</td>\n      <td>Wii</td>\n      <td>2006.0</td>\n      <td>Sports</td>\n      <td>41.36</td>\n      <td>28.96</td>\n      <td>3.77</td>\n      <td>8.45</td>\n      <td>76.0</td>\n      <td>8</td>\n      <td>E</td>\n    </tr>\n    <tr>\n      <th>1</th>\n      <td>Super Mario Bros.</td>\n      <td>NES</td>\n      <td>1985.0</td>\n      <td>Platform</td>\n      <td>29.08</td>\n      <td>3.58</td>\n      <td>6.81</td>\n      <td>0.77</td>\n      <td>NaN</td>\n      <td>NaN</td>\n      <td>NaN</td>\n    </tr>\n    <tr>\n      <th>2</th>\n      <td>Mario Kart Wii</td>\n      <td>Wii</td>\n      <td>2008.0</td>\n      <td>Racing</td>\n      <td>15.68</td>\n      <td>12.76</td>\n      <td>3.79</td>\n      <td>3.29</td>\n      <td>82.0</td>\n      <td>8.3</td>\n      <td>E</td>\n    </tr>\n    <tr>\n      <th>3</th>\n      <td>Wii Sports Resort</td>\n      <td>Wii</td>\n      <td>2009.0</td>\n      <td>Sports</td>\n      <td>15.61</td>\n      <td>10.93</td>\n      <td>3.28</td>\n      <td>2.95</td>\n      <td>80.0</td>\n      <td>8</td>\n      <td>E</td>\n    </tr>\n    <tr>\n      <th>4</th>\n      <td>Pokemon Red/Pokemon Blue</td>\n      <td>GB</td>\n      <td>1996.0</td>\n      <td>Role-Playing</td>\n      <td>11.27</td>\n      <td>8.89</td>\n      <td>10.22</td>\n      <td>1.00</td>\n      <td>NaN</td>\n      <td>NaN</td>\n      <td>NaN</td>\n    </tr>\n    <tr>\n      <th>...</th>\n      <td>...</td>\n      <td>...</td>\n      <td>...</td>\n      <td>...</td>\n      <td>...</td>\n      <td>...</td>\n      <td>...</td>\n      <td>...</td>\n      <td>...</td>\n      <td>...</td>\n      <td>...</td>\n    </tr>\n    <tr>\n      <th>145</th>\n      <td>Sonic the Hedgehog 2</td>\n      <td>GEN</td>\n      <td>1992.0</td>\n      <td>Platform</td>\n      <td>4.47</td>\n      <td>1.20</td>\n      <td>0.16</td>\n      <td>0.19</td>\n      <td>NaN</td>\n      <td>NaN</td>\n      <td>NaN</td>\n    </tr>\n    <tr>\n      <th>183</th>\n      <td>Madden NFL 2004</td>\n      <td>PS2</td>\n      <td>NaN</td>\n      <td>Sports</td>\n      <td>4.26</td>\n      <td>0.26</td>\n      <td>0.01</td>\n      <td>0.71</td>\n      <td>94.0</td>\n      <td>8.5</td>\n      <td>E</td>\n    </tr>\n    <tr>\n      <th>238</th>\n      <td>Madden NFL 2005</td>\n      <td>PS2</td>\n      <td>2004.0</td>\n      <td>Sports</td>\n      <td>4.18</td>\n      <td>0.26</td>\n      <td>0.01</td>\n      <td>0.08</td>\n      <td>91.0</td>\n      <td>7.9</td>\n      <td>E</td>\n    </tr>\n    <tr>\n      <th>240</th>\n      <td>Pitfall!</td>\n      <td>2600</td>\n      <td>1981.0</td>\n      <td>Platform</td>\n      <td>4.21</td>\n      <td>0.24</td>\n      <td>0.00</td>\n      <td>0.05</td>\n      <td>NaN</td>\n      <td>NaN</td>\n      <td>NaN</td>\n    </tr>\n    <tr>\n      <th>284</th>\n      <td>Half-Life</td>\n      <td>PC</td>\n      <td>1997.0</td>\n      <td>Shooter</td>\n      <td>4.03</td>\n      <td>0.00</td>\n      <td>0.09</td>\n      <td>0.00</td>\n      <td>96.0</td>\n      <td>9.1</td>\n      <td>M</td>\n    </tr>\n  </tbody>\n</table>\n<p>88 rows × 11 columns</p>\n</div>"
     },
     "metadata": {},
     "output_type": "display_data"
    }
   ],
   "source": [
    "display(\n",
    "    games_df['na_sales'].describe(),\n",
    "    games_df.loc[games_df['na_sales'] > 4]\n",
    ")"
   ],
   "metadata": {
    "collapsed": false,
    "pycharm": {
     "name": "#%%\n"
    }
   }
  },
  {
   "cell_type": "markdown",
   "source": [
    "#### `eu_sales` — продажи в Европе (миллионы проданных копий)"
   ],
   "metadata": {
    "collapsed": false,
    "pycharm": {
     "name": "#%% md\n"
    }
   }
  },
  {
   "cell_type": "code",
   "execution_count": 23,
   "outputs": [
    {
     "data": {
      "text/plain": "count    16713.000000\nmean         0.145045\nstd          0.503359\nmin          0.000000\n25%          0.000000\n50%          0.020000\n75%          0.110000\nmax         28.960000\nName: eu_sales, dtype: float64"
     },
     "metadata": {},
     "output_type": "display_data"
    }
   ],
   "source": [
    "display(\n",
    "    games_df['eu_sales'].describe()\n",
    ")"
   ],
   "metadata": {
    "collapsed": false,
    "pycharm": {
     "name": "#%%\n"
    }
   }
  },
  {
   "cell_type": "markdown",
   "source": [
    "#### `jp_sales` — продажи в Японии (миллионы проданных копий)"
   ],
   "metadata": {
    "collapsed": false,
    "pycharm": {
     "name": "#%% md\n"
    }
   }
  },
  {
   "cell_type": "code",
   "execution_count": 24,
   "outputs": [
    {
     "data": {
      "text/plain": "count    16713.000000\nmean         0.077625\nstd          0.308871\nmin          0.000000\n25%          0.000000\n50%          0.000000\n75%          0.040000\nmax         10.220000\nName: jp_sales, dtype: float64"
     },
     "metadata": {},
     "output_type": "display_data"
    }
   ],
   "source": [
    "display(\n",
    "    games_df['jp_sales'].describe()\n",
    ")"
   ],
   "metadata": {
    "collapsed": false,
    "pycharm": {
     "name": "#%%\n"
    }
   }
  },
  {
   "cell_type": "markdown",
   "source": [
    "#### `other_sales` — продажи в других странах (миллионы проданных копий)"
   ],
   "metadata": {
    "collapsed": false,
    "pycharm": {
     "name": "#%% md\n"
    }
   }
  },
  {
   "cell_type": "code",
   "execution_count": 25,
   "outputs": [
    {
     "data": {
      "text/plain": "count    16713.000000\nmean         0.047343\nstd          0.186742\nmin          0.000000\n25%          0.000000\n50%          0.010000\n75%          0.030000\nmax         10.570000\nName: other_sales, dtype: float64"
     },
     "metadata": {},
     "output_type": "display_data"
    }
   ],
   "source": [
    "display(\n",
    "    games_df['other_sales'].describe()\n",
    ")"
   ],
   "metadata": {
    "collapsed": false,
    "pycharm": {
     "name": "#%%\n"
    }
   }
  },
  {
   "cell_type": "markdown",
   "metadata": {
    "pycharm": {
     "name": "#%% md\n"
    }
   },
   "source": [
    "<hr>"
   ]
  },
  {
   "cell_type": "markdown",
   "metadata": {
    "pycharm": {
     "name": "#%% md\n"
    }
   },
   "source": [
    "## Шаг 2. Подготовьте данные"
   ]
  },
  {
   "cell_type": "code",
   "execution_count": 26,
   "metadata": {
    "collapsed": false,
    "jupyter": {
     "outputs_hidden": false
    },
    "pycharm": {
     "name": "#%%\n"
    }
   },
   "outputs": [
    {
     "data": {
      "text/plain": "Index(['name', 'platform', 'year_of_release', 'genre', 'na_sales', 'eu_sales',\n       'jp_sales', 'other_sales', 'critic_score', 'user_score', 'rating'],\n      dtype='object')"
     },
     "metadata": {},
     "output_type": "display_data"
    }
   ],
   "source": [
    "display(\n",
    "    games_df.columns\n",
    ")"
   ]
  },
  {
   "cell_type": "markdown",
   "metadata": {
    "pycharm": {
     "name": "#%% md\n"
    }
   },
   "source": [
    "Преобразуйте данные в нужные типы. Опишите, в каких столбцах заменили тип данных и почему;"
   ]
  },
  {
   "cell_type": "code",
   "execution_count": null,
   "outputs": [],
   "source": [],
   "metadata": {
    "collapsed": false,
    "pycharm": {
     "name": "#%%\n"
    }
   }
  },
  {
   "cell_type": "code",
   "execution_count": null,
   "outputs": [],
   "source": [
    "games_df = games_df.astype(\n",
    "    {\n",
    "        # 'name': '',\n",
    "        'platform': 'category',\n",
    "        'year_of_release': 'unit16',\n",
    "        'genre': 'category',\n",
    "        'na_sales': '',\n",
    "        'eu_sales': '',\n",
    "        'jp_sales': '',\n",
    "        'other_sales': '',\n",
    "        'critic_score': '',\n",
    "        'user_score': 'float16',\n",
    "        'rating': 'category',\n",
    "    }\n",
    ")"
   ],
   "metadata": {
    "collapsed": false,
    "pycharm": {
     "name": "#%%\n"
    }
   }
  },
  {
   "cell_type": "markdown",
   "metadata": {
    "pycharm": {
     "name": "#%% md\n"
    }
   },
   "source": [
    "Обработайте пропуски при необходимости:\n",
    "- Объясните, почему заполнили пропуски определённым образом или почему не стали это делать;\n",
    "- Опишите причины, которые могли привести к пропускам;"
   ]
  },
  {
   "cell_type": "markdown",
   "metadata": {
    "pycharm": {
     "name": "#%% md\n"
    }
   },
   "source": [
    "Обратите внимание на аббревиатуру 'tbd' в столбце с оценкой пользователей. Отдельно разберите это значение и опишите, как его обработать;"
   ]
  },
  {
   "cell_type": "markdown",
   "metadata": {
    "pycharm": {
     "name": "#%% md\n"
    }
   },
   "source": [
    "Посчитайте суммарные продажи во всех регионах и запишите их в отдельный столбец."
   ]
  },
  {
   "cell_type": "markdown",
   "metadata": {
    "pycharm": {
     "name": "#%% md\n"
    }
   },
   "source": []
  },
  {
   "cell_type": "markdown",
   "metadata": {
    "pycharm": {
     "name": "#%% md\n"
    }
   },
   "source": [
    "<hr>"
   ]
  },
  {
   "cell_type": "markdown",
   "metadata": {
    "pycharm": {
     "name": "#%% md\n"
    }
   },
   "source": [
    "## Шаг 3. Проведите исследовательский анализ данных"
   ]
  },
  {
   "cell_type": "markdown",
   "metadata": {
    "pycharm": {
     "name": "#%% md\n"
    }
   },
   "source": []
  },
  {
   "cell_type": "markdown",
   "metadata": {
    "pycharm": {
     "name": "#%% md\n"
    }
   },
   "source": [
    "<hr>"
   ]
  },
  {
   "cell_type": "markdown",
   "metadata": {
    "pycharm": {
     "name": "#%% md\n"
    }
   },
   "source": [
    "## Шаг 4. Составьте портрет пользователя каждого региона"
   ]
  },
  {
   "cell_type": "markdown",
   "metadata": {
    "pycharm": {
     "name": "#%% md\n"
    }
   },
   "source": []
  },
  {
   "cell_type": "markdown",
   "metadata": {
    "pycharm": {
     "name": "#%% md\n"
    }
   },
   "source": [
    "<hr>"
   ]
  },
  {
   "cell_type": "markdown",
   "metadata": {
    "pycharm": {
     "name": "#%% md\n"
    }
   },
   "source": [
    "## Шаг 5. Проверьте гипотезы"
   ]
  },
  {
   "cell_type": "markdown",
   "metadata": {
    "pycharm": {
     "name": "#%% md\n"
    }
   },
   "source": []
  },
  {
   "cell_type": "markdown",
   "metadata": {
    "pycharm": {
     "name": "#%% md\n"
    }
   },
   "source": [
    "<hr>"
   ]
  },
  {
   "cell_type": "markdown",
   "metadata": {
    "pycharm": {
     "name": "#%% md\n"
    }
   },
   "source": [
    "## Шаг 6. Напишите общий вывод"
   ]
  },
  {
   "cell_type": "markdown",
   "metadata": {
    "pycharm": {
     "name": "#%% md\n"
    }
   },
   "source": []
  },
  {
   "cell_type": "markdown",
   "metadata": {
    "pycharm": {
     "name": "#%% md\n"
    }
   },
   "source": []
  }
 ],
 "metadata": {
  "kernelspec": {
   "display_name": "Python 3 (ipykernel)",
   "language": "python",
   "name": "python3"
  },
  "language_info": {
   "codemirror_mode": {
    "name": "ipython",
    "version": 3
   },
   "file_extension": ".py",
   "mimetype": "text/x-python",
   "name": "python",
   "nbconvert_exporter": "python",
   "pygments_lexer": "ipython3",
   "version": "3.9.12"
  }
 },
 "nbformat": 4,
 "nbformat_minor": 4
}