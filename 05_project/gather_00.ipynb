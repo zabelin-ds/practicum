{
 "cells": [
  {
   "cell_type": "markdown",
   "metadata": {
    "pycharm": {
     "name": "#%% md\n"
    }
   },
   "source": [
    "# Сборный проект"
   ]
  },
  {
   "cell_type": "markdown",
   "metadata": {
    "pycharm": {
     "name": "#%% md\n"
    }
   },
   "source": [
    "## Введение"
   ]
  },
  {
   "cell_type": "markdown",
   "metadata": {
    "pycharm": {
     "name": "#%% md\n"
    }
   },
   "source": [
    "Выявить определяющие успешность игры закономерности. Это позволит сделать ставку на потенциально популярный продукт и спланировать рекламные кампании."
   ]
  },
  {
   "cell_type": "markdown",
   "metadata": {
    "pycharm": {
     "name": "#%% md\n"
    }
   },
   "source": [
    "похоже, найден оригинал данных…\n",
    "\n",
    "[video game sales on kaggle.com](https://www.kaggle.com/datasets/gregorut/videogamesales) 🤫"
   ]
  },
  {
   "cell_type": "markdown",
   "metadata": {
    "pycharm": {
     "name": "#%% md\n"
    }
   },
   "source": []
  },
  {
   "cell_type": "markdown",
   "metadata": {
    "pycharm": {
     "name": "#%% md\n"
    }
   },
   "source": [
    "<div class=\"alert alert-info\" role=\"alert\">\n",
    "    <p class=\"mb-0\">В коде использую <code>display()</code>, потомучто это однозначно даёт понять что планируется вывод / печать результатов. То есть использую <code>display()</code> намеренно, хотя понимаю что можно и без него выводить данные. 👌</p>\n",
    "</div>"
   ]
  },
  {
   "cell_type": "markdown",
   "metadata": {
    "pycharm": {
     "name": "#%% md\n"
    }
   },
   "source": [
    "<hr>"
   ]
  },
  {
   "cell_type": "markdown",
   "metadata": {
    "pycharm": {
     "name": "#%% md\n"
    }
   },
   "source": [
    "## Шаг 0"
   ]
  },
  {
   "cell_type": "code",
   "execution_count": 2,
   "metadata": {
    "collapsed": false,
    "jupyter": {
     "outputs_hidden": false
    },
    "pycharm": {
     "name": "#%%\n"
    }
   },
   "outputs": [],
   "source": [
    "import pandas as pd\n",
    "import seaborn as sns\n",
    "import scipy.stats as st\n",
    "import numpy as np\n",
    "\n",
    "from IPython.core.display_functions import display\n"
   ]
  },
  {
   "cell_type": "code",
   "execution_count": 3,
   "metadata": {
    "collapsed": false,
    "jupyter": {
     "outputs_hidden": false
    },
    "pycharm": {
     "name": "#%%\n"
    }
   },
   "outputs": [],
   "source": [
    "%config InlineBackend.figure_formats = ['svg']"
   ]
  },
  {
   "cell_type": "code",
   "execution_count": 4,
   "metadata": {
    "collapsed": false,
    "jupyter": {
     "outputs_hidden": false
    },
    "pycharm": {
     "name": "#%%\n"
    }
   },
   "outputs": [],
   "source": [
    "# seaborn style via MATPLOTLIBRC\n",
    "custom_params = {'figure.figsize': (15, 7),\n",
    "                'figure.facecolor': '#232425',\n",
    "                'figure.dpi': 240,\n",
    "\n",
    "                'legend.frameon': False,\n",
    "                'legend.borderpad': 1.4,\n",
    "                'legend.labelspacing': 0.7,\n",
    "                'legend.handlelength': 0.7,\n",
    "                'legend.handleheight': 0.7,\n",
    "\n",
    "                'axes.facecolor': '#232425',\n",
    "                'axes.labelcolor': '#EEEEEE',\n",
    "                'axes.labelpad': 17,\n",
    "                'axes.spines.left': False,\n",
    "                'axes.spines.bottom': False,\n",
    "                'axes.spines.right': False,\n",
    "                'axes.spines.top': False,\n",
    "                'axes.grid': False,\n",
    "\n",
    "                'contour.linewidth': 0.0,\n",
    "\n",
    "                'xtick.color': '#AAAAAA',\n",
    "                'ytick.color': '#AAAAAA',\n",
    "                'xtick.bottom': True,\n",
    "                'xtick.top': False,\n",
    "                'ytick.left': True,\n",
    "                'ytick.right': False,\n",
    "\n",
    "                'text.color': '#EEEEEE',\n",
    "                'font.sans-serif': [\n",
    "                    'Helvetica',\n",
    "                    'Verdana',\n",
    "                    'sans-serif'\n",
    "                    ]\n",
    "                }\n",
    "sns.set_theme(style='darkgrid', rc=custom_params)\n",
    "sns.set_context(\"notebook\", font_scale=1.37)"
   ]
  },
  {
   "cell_type": "markdown",
   "metadata": {
    "pycharm": {
     "name": "#%% md\n"
    }
   },
   "source": [
    "<hr>"
   ]
  },
  {
   "cell_type": "markdown",
   "metadata": {
    "pycharm": {
     "name": "#%% md\n"
    }
   },
   "source": [
    "## Шаг 1. Откройте файл с данными и изучите общую информацию"
   ]
  },
  {
   "cell_type": "markdown",
   "metadata": {
    "pycharm": {
     "name": "#%% md\n"
    }
   },
   "source": [
    "Загружаем данные тестового задания."
   ]
  },
  {
   "cell_type": "code",
   "execution_count": 5,
   "metadata": {
    "collapsed": false,
    "jupyter": {
     "outputs_hidden": false
    },
    "pycharm": {
     "name": "#%%\n"
    }
   },
   "outputs": [],
   "source": [
    "try:\n",
    "    games_df = pd.read_csv('./datasets/games.csv')\n",
    "except FileNotFoundError:\n",
    "    games_df = pd.read_csv('https://code.s3.yandex.net/datasets/games.csv')\n",
    "    print('games_df loaded by url')"
   ]
  },
  {
   "cell_type": "markdown",
   "source": [
    "Заменим названия столбцов (приведем к нижнему регистру);"
   ],
   "metadata": {
    "collapsed": false,
    "pycharm": {
     "name": "#%% md\n"
    }
   }
  },
  {
   "cell_type": "code",
   "execution_count": 6,
   "metadata": {
    "collapsed": false,
    "jupyter": {
     "outputs_hidden": false
    },
    "pycharm": {
     "name": "#%%\n"
    }
   },
   "outputs": [],
   "source": [
    "games_df.columns = games_df.columns.str.lower()"
   ]
  },
  {
   "cell_type": "code",
   "execution_count": 7,
   "metadata": {
    "collapsed": false,
    "jupyter": {
     "outputs_hidden": false
    },
    "pycharm": {
     "name": "#%%\n"
    }
   },
   "outputs": [
    {
     "data": {
      "text/plain": "                                         name platform  year_of_release  \\\n462                             Mass Effect 3     X360           2012.0   \n14970   Captain Morgane and the Golden Turtle       PC           2012.0   \n5987                                  Area 51       XB           2005.0   \n6400                           The Dog Island      PS2           2007.0   \n9245   Marvel vs. Capcom 2: New Age of Heroes       XB           2002.0   \n5625              Karaoke Revolution Volume 3      PS2           2004.0   \n1499                 The Witcher 3: Wild Hunt     XOne           2015.0   \n\n              genre  na_sales  eu_sales  jp_sales  other_sales  critic_score  \\\n462    Role-Playing      1.94      0.84      0.03         0.24          93.0   \n14970     Adventure      0.00      0.02      0.00         0.00          54.0   \n5987        Shooter      0.22      0.06      0.00         0.01          72.0   \n6400      Adventure      0.13      0.10      0.00         0.03           NaN   \n9245       Fighting      0.09      0.03      0.01         0.00           NaN   \n5625           Misc      0.16      0.12      0.00         0.04          82.0   \n1499   Role-Playing      0.69      0.50      0.00         0.11          91.0   \n\n      user_score rating  \n462          5.8      M  \n14970        6.2    NaN  \n5987         8.1      M  \n6400           7      E  \n9245         NaN    NaN  \n5625         7.8      E  \n1499         9.2      M  ",
      "text/html": "<div>\n<style scoped>\n    .dataframe tbody tr th:only-of-type {\n        vertical-align: middle;\n    }\n\n    .dataframe tbody tr th {\n        vertical-align: top;\n    }\n\n    .dataframe thead th {\n        text-align: right;\n    }\n</style>\n<table border=\"1\" class=\"dataframe\">\n  <thead>\n    <tr style=\"text-align: right;\">\n      <th></th>\n      <th>name</th>\n      <th>platform</th>\n      <th>year_of_release</th>\n      <th>genre</th>\n      <th>na_sales</th>\n      <th>eu_sales</th>\n      <th>jp_sales</th>\n      <th>other_sales</th>\n      <th>critic_score</th>\n      <th>user_score</th>\n      <th>rating</th>\n    </tr>\n  </thead>\n  <tbody>\n    <tr>\n      <th>462</th>\n      <td>Mass Effect 3</td>\n      <td>X360</td>\n      <td>2012.0</td>\n      <td>Role-Playing</td>\n      <td>1.94</td>\n      <td>0.84</td>\n      <td>0.03</td>\n      <td>0.24</td>\n      <td>93.0</td>\n      <td>5.8</td>\n      <td>M</td>\n    </tr>\n    <tr>\n      <th>14970</th>\n      <td>Captain Morgane and the Golden Turtle</td>\n      <td>PC</td>\n      <td>2012.0</td>\n      <td>Adventure</td>\n      <td>0.00</td>\n      <td>0.02</td>\n      <td>0.00</td>\n      <td>0.00</td>\n      <td>54.0</td>\n      <td>6.2</td>\n      <td>NaN</td>\n    </tr>\n    <tr>\n      <th>5987</th>\n      <td>Area 51</td>\n      <td>XB</td>\n      <td>2005.0</td>\n      <td>Shooter</td>\n      <td>0.22</td>\n      <td>0.06</td>\n      <td>0.00</td>\n      <td>0.01</td>\n      <td>72.0</td>\n      <td>8.1</td>\n      <td>M</td>\n    </tr>\n    <tr>\n      <th>6400</th>\n      <td>The Dog Island</td>\n      <td>PS2</td>\n      <td>2007.0</td>\n      <td>Adventure</td>\n      <td>0.13</td>\n      <td>0.10</td>\n      <td>0.00</td>\n      <td>0.03</td>\n      <td>NaN</td>\n      <td>7</td>\n      <td>E</td>\n    </tr>\n    <tr>\n      <th>9245</th>\n      <td>Marvel vs. Capcom 2: New Age of Heroes</td>\n      <td>XB</td>\n      <td>2002.0</td>\n      <td>Fighting</td>\n      <td>0.09</td>\n      <td>0.03</td>\n      <td>0.01</td>\n      <td>0.00</td>\n      <td>NaN</td>\n      <td>NaN</td>\n      <td>NaN</td>\n    </tr>\n    <tr>\n      <th>5625</th>\n      <td>Karaoke Revolution Volume 3</td>\n      <td>PS2</td>\n      <td>2004.0</td>\n      <td>Misc</td>\n      <td>0.16</td>\n      <td>0.12</td>\n      <td>0.00</td>\n      <td>0.04</td>\n      <td>82.0</td>\n      <td>7.8</td>\n      <td>E</td>\n    </tr>\n    <tr>\n      <th>1499</th>\n      <td>The Witcher 3: Wild Hunt</td>\n      <td>XOne</td>\n      <td>2015.0</td>\n      <td>Role-Playing</td>\n      <td>0.69</td>\n      <td>0.50</td>\n      <td>0.00</td>\n      <td>0.11</td>\n      <td>91.0</td>\n      <td>9.2</td>\n      <td>M</td>\n    </tr>\n  </tbody>\n</table>\n</div>"
     },
     "metadata": {},
     "output_type": "display_data"
    }
   ],
   "source": [
    "display(\n",
    "    games_df.sample(7)\n",
    ")"
   ]
  },
  {
   "cell_type": "code",
   "execution_count": 8,
   "metadata": {
    "collapsed": false,
    "jupyter": {
     "outputs_hidden": false
    },
    "pycharm": {
     "name": "#%%\n"
    }
   },
   "outputs": [
    {
     "name": "stdout",
     "output_type": "stream",
     "text": [
      "<class 'pandas.core.frame.DataFrame'>\n",
      "RangeIndex: 16715 entries, 0 to 16714\n",
      "Data columns (total 11 columns):\n",
      " #   Column           Non-Null Count  Dtype  \n",
      "---  ------           --------------  -----  \n",
      " 0   name             16713 non-null  object \n",
      " 1   platform         16715 non-null  object \n",
      " 2   year_of_release  16446 non-null  float64\n",
      " 3   genre            16713 non-null  object \n",
      " 4   na_sales         16715 non-null  float64\n",
      " 5   eu_sales         16715 non-null  float64\n",
      " 6   jp_sales         16715 non-null  float64\n",
      " 7   other_sales      16715 non-null  float64\n",
      " 8   critic_score     8137 non-null   float64\n",
      " 9   user_score       10014 non-null  object \n",
      " 10  rating           9949 non-null   object \n",
      "dtypes: float64(6), object(5)\n",
      "memory usage: 1.4+ MB\n"
     ]
    },
    {
     "data": {
      "text/plain": "None"
     },
     "metadata": {},
     "output_type": "display_data"
    }
   ],
   "source": [
    "display(\n",
    "    games_df.info()\n",
    ")"
   ]
  },
  {
   "cell_type": "markdown",
   "metadata": {
    "pycharm": {
     "name": "#%% md\n"
    }
   },
   "source": [
    "### Колонки с пропусками:"
   ]
  },
  {
   "cell_type": "code",
   "execution_count": 9,
   "metadata": {
    "collapsed": false,
    "jupyter": {
     "outputs_hidden": false
    },
    "pycharm": {
     "name": "#%%\n"
    }
   },
   "outputs": [
    {
     "data": {
      "text/plain": "['name', 'year_of_release', 'genre', 'critic_score', 'user_score', 'rating']"
     },
     "metadata": {},
     "output_type": "display_data"
    }
   ],
   "source": [
    "display(\n",
    "    games_df.columns[games_df.isna().any()].tolist()\n",
    ")"
   ]
  },
  {
   "cell_type": "markdown",
   "metadata": {
    "pycharm": {
     "name": "#%% md\n"
    }
   },
   "source": [
    "⭕️ 'name' `NaN`\n",
    "⭕️ 'year_of_release' `NaN`  \n",
    "⭕️ 'genre' `NaN`  \n",
    "⭕️ 'critic_score' `NaN`\n",
    "⭕️ 'user_score' `NaN`  \n",
    "⭕️ 'rating' `NaN`  "
   ]
  },
  {
   "cell_type": "markdown",
   "metadata": {
    "pycharm": {
     "name": "#%% md\n"
    }
   },
   "source": [
    "#### `name` — название игры"
   ]
  },
  {
   "cell_type": "code",
   "execution_count": 10,
   "metadata": {
    "collapsed": false,
    "jupyter": {
     "outputs_hidden": false
    },
    "pycharm": {
     "name": "#%%\n"
    }
   },
   "outputs": [
    {
     "data": {
      "text/plain": "      name platform  year_of_release genre  na_sales  eu_sales  jp_sales  \\\n659    NaN      GEN           1993.0   NaN      1.78      0.53      0.00   \n14244  NaN      GEN           1993.0   NaN      0.00      0.00      0.03   \n\n       other_sales  critic_score user_score rating  \n659           0.08           NaN        NaN    NaN  \n14244         0.00           NaN        NaN    NaN  ",
      "text/html": "<div>\n<style scoped>\n    .dataframe tbody tr th:only-of-type {\n        vertical-align: middle;\n    }\n\n    .dataframe tbody tr th {\n        vertical-align: top;\n    }\n\n    .dataframe thead th {\n        text-align: right;\n    }\n</style>\n<table border=\"1\" class=\"dataframe\">\n  <thead>\n    <tr style=\"text-align: right;\">\n      <th></th>\n      <th>name</th>\n      <th>platform</th>\n      <th>year_of_release</th>\n      <th>genre</th>\n      <th>na_sales</th>\n      <th>eu_sales</th>\n      <th>jp_sales</th>\n      <th>other_sales</th>\n      <th>critic_score</th>\n      <th>user_score</th>\n      <th>rating</th>\n    </tr>\n  </thead>\n  <tbody>\n    <tr>\n      <th>659</th>\n      <td>NaN</td>\n      <td>GEN</td>\n      <td>1993.0</td>\n      <td>NaN</td>\n      <td>1.78</td>\n      <td>0.53</td>\n      <td>0.00</td>\n      <td>0.08</td>\n      <td>NaN</td>\n      <td>NaN</td>\n      <td>NaN</td>\n    </tr>\n    <tr>\n      <th>14244</th>\n      <td>NaN</td>\n      <td>GEN</td>\n      <td>1993.0</td>\n      <td>NaN</td>\n      <td>0.00</td>\n      <td>0.00</td>\n      <td>0.03</td>\n      <td>0.00</td>\n      <td>NaN</td>\n      <td>NaN</td>\n      <td>NaN</td>\n    </tr>\n  </tbody>\n</table>\n</div>"
     },
     "metadata": {},
     "output_type": "display_data"
    }
   ],
   "source": [
    "display(\n",
    "    games_df.loc[games_df['name'].isna()]\n",
    ")"
   ]
  },
  {
   "cell_type": "code",
   "execution_count": 11,
   "metadata": {
    "collapsed": false,
    "jupyter": {
     "outputs_hidden": false
    },
    "pycharm": {
     "name": "#%%\n"
    }
   },
   "outputs": [],
   "source": [
    "games_df.dropna(axis=0, subset=['name'], inplace=True)"
   ]
  },
  {
   "cell_type": "code",
   "execution_count": 12,
   "metadata": {
    "collapsed": false,
    "jupyter": {
     "outputs_hidden": false
    },
    "pycharm": {
     "name": "#%%\n"
    }
   },
   "outputs": [
    {
     "name": "stdout",
     "output_type": "stream",
     "text": [
      "<class 'pandas.core.frame.DataFrame'>\n",
      "Int64Index: 16713 entries, 0 to 16714\n",
      "Data columns (total 11 columns):\n",
      " #   Column           Non-Null Count  Dtype  \n",
      "---  ------           --------------  -----  \n",
      " 0   name             16713 non-null  object \n",
      " 1   platform         16713 non-null  object \n",
      " 2   year_of_release  16444 non-null  float64\n",
      " 3   genre            16713 non-null  object \n",
      " 4   na_sales         16713 non-null  float64\n",
      " 5   eu_sales         16713 non-null  float64\n",
      " 6   jp_sales         16713 non-null  float64\n",
      " 7   other_sales      16713 non-null  float64\n",
      " 8   critic_score     8137 non-null   float64\n",
      " 9   user_score       10014 non-null  object \n",
      " 10  rating           9949 non-null   object \n",
      "dtypes: float64(6), object(5)\n",
      "memory usage: 1.5+ MB\n"
     ]
    },
    {
     "data": {
      "text/plain": "None"
     },
     "metadata": {},
     "output_type": "display_data"
    }
   ],
   "source": [
    "display(games_df.info())"
   ]
  },
  {
   "cell_type": "markdown",
   "metadata": {
    "pycharm": {
     "name": "#%% md\n"
    }
   },
   "source": [
    "✅ ‘name’ `NaN`  \n",
    "⭕️ 'year_of_release' `NaN`  \n",
    "✅ 'genre' `NaN`  \n",
    "⭕️ 'critic_score' `NaN`  \n",
    "⭕️ 'user_score' `NaN`  \n",
    "⭕️ 'rating' `NaN`  "
   ]
  },
  {
   "cell_type": "raw",
   "metadata": {
    "pycharm": {
     "name": "#%% raw\n"
    }
   },
   "source": [
    "display(\n",
    "    games_df.loc[\n",
    "        (games_df.duplicated(subset=['name', 'year_of_release', 'platform'], keep=False))\n",
    "        # , ['name', 'year_of_release', 'platform']\n",
    "    ]\n",
    ")"
   ]
  },
  {
   "cell_type": "code",
   "execution_count": 13,
   "metadata": {
    "collapsed": false,
    "jupyter": {
     "outputs_hidden": false
    },
    "pycharm": {
     "name": "#%%\n"
    }
   },
   "outputs": [
    {
     "data": {
      "text/plain": "                name platform  year_of_release   genre  na_sales  eu_sales  \\\n507    Madden NFL 13     X360           2012.0  Sports      2.53      0.15   \n604    Madden NFL 13      PS3           2012.0  Sports      2.11      0.22   \n3986   Madden NFL 13      Wii           2012.0  Sports      0.47      0.00   \n5887   Madden NFL 13      PSV           2012.0  Sports      0.28      0.00   \n7066   Madden NFL 13     WiiU           2012.0  Sports      0.21      0.00   \n16230  Madden NFL 13      PS3           2012.0  Sports      0.00      0.01   \n\n       jp_sales  other_sales  critic_score user_score rating  \n507         0.0         0.17          81.0        5.8      E  \n604         0.0         0.23          83.0        5.5      E  \n3986        0.0         0.03           NaN        7.3      E  \n5887        0.0         0.02          63.0        7.3      E  \n7066        0.0         0.02          75.0        6.7      E  \n16230       0.0         0.00          83.0        5.5      E  ",
      "text/html": "<div>\n<style scoped>\n    .dataframe tbody tr th:only-of-type {\n        vertical-align: middle;\n    }\n\n    .dataframe tbody tr th {\n        vertical-align: top;\n    }\n\n    .dataframe thead th {\n        text-align: right;\n    }\n</style>\n<table border=\"1\" class=\"dataframe\">\n  <thead>\n    <tr style=\"text-align: right;\">\n      <th></th>\n      <th>name</th>\n      <th>platform</th>\n      <th>year_of_release</th>\n      <th>genre</th>\n      <th>na_sales</th>\n      <th>eu_sales</th>\n      <th>jp_sales</th>\n      <th>other_sales</th>\n      <th>critic_score</th>\n      <th>user_score</th>\n      <th>rating</th>\n    </tr>\n  </thead>\n  <tbody>\n    <tr>\n      <th>507</th>\n      <td>Madden NFL 13</td>\n      <td>X360</td>\n      <td>2012.0</td>\n      <td>Sports</td>\n      <td>2.53</td>\n      <td>0.15</td>\n      <td>0.0</td>\n      <td>0.17</td>\n      <td>81.0</td>\n      <td>5.8</td>\n      <td>E</td>\n    </tr>\n    <tr>\n      <th>604</th>\n      <td>Madden NFL 13</td>\n      <td>PS3</td>\n      <td>2012.0</td>\n      <td>Sports</td>\n      <td>2.11</td>\n      <td>0.22</td>\n      <td>0.0</td>\n      <td>0.23</td>\n      <td>83.0</td>\n      <td>5.5</td>\n      <td>E</td>\n    </tr>\n    <tr>\n      <th>3986</th>\n      <td>Madden NFL 13</td>\n      <td>Wii</td>\n      <td>2012.0</td>\n      <td>Sports</td>\n      <td>0.47</td>\n      <td>0.00</td>\n      <td>0.0</td>\n      <td>0.03</td>\n      <td>NaN</td>\n      <td>7.3</td>\n      <td>E</td>\n    </tr>\n    <tr>\n      <th>5887</th>\n      <td>Madden NFL 13</td>\n      <td>PSV</td>\n      <td>2012.0</td>\n      <td>Sports</td>\n      <td>0.28</td>\n      <td>0.00</td>\n      <td>0.0</td>\n      <td>0.02</td>\n      <td>63.0</td>\n      <td>7.3</td>\n      <td>E</td>\n    </tr>\n    <tr>\n      <th>7066</th>\n      <td>Madden NFL 13</td>\n      <td>WiiU</td>\n      <td>2012.0</td>\n      <td>Sports</td>\n      <td>0.21</td>\n      <td>0.00</td>\n      <td>0.0</td>\n      <td>0.02</td>\n      <td>75.0</td>\n      <td>6.7</td>\n      <td>E</td>\n    </tr>\n    <tr>\n      <th>16230</th>\n      <td>Madden NFL 13</td>\n      <td>PS3</td>\n      <td>2012.0</td>\n      <td>Sports</td>\n      <td>0.00</td>\n      <td>0.01</td>\n      <td>0.0</td>\n      <td>0.00</td>\n      <td>83.0</td>\n      <td>5.5</td>\n      <td>E</td>\n    </tr>\n  </tbody>\n</table>\n</div>"
     },
     "metadata": {},
     "output_type": "display_data"
    }
   ],
   "source": [
    "display(\n",
    "    games_df.loc[games_df['name'] == 'Madden NFL 13']\n",
    ")"
   ]
  },
  {
   "cell_type": "code",
   "execution_count": 14,
   "metadata": {
    "collapsed": false,
    "jupyter": {
     "outputs_hidden": false
    },
    "pycharm": {
     "name": "#%%\n"
    }
   },
   "outputs": [
    {
     "data": {
      "text/plain": "11559"
     },
     "metadata": {},
     "output_type": "display_data"
    }
   ],
   "source": [
    "display(\n",
    "    len(games_df['name'].unique())\n",
    ")"
   ]
  },
  {
   "cell_type": "markdown",
   "metadata": {
    "pycharm": {
     "name": "#%% md\n"
    }
   },
   "source": [
    "#### `year_of_release` — год выпуска"
   ]
  },
  {
   "cell_type": "code",
   "execution_count": 15,
   "metadata": {
    "collapsed": false,
    "jupyter": {
     "outputs_hidden": false
    },
    "pycharm": {
     "name": "#%%\n"
    }
   },
   "outputs": [
    {
     "data": {
      "text/plain": "year_of_release\n1980.0       9\n1981.0      46\n1982.0      36\n1983.0      17\n1984.0      14\n1985.0      14\n1986.0      21\n1987.0      16\n1988.0      15\n1989.0      17\n1990.0      16\n1991.0      41\n1992.0      43\n1993.0      60\n1994.0     121\n1995.0     219\n1996.0     263\n1997.0     289\n1998.0     379\n1999.0     338\n2000.0     350\n2001.0     482\n2002.0     829\n2003.0     775\n2004.0     762\n2005.0     939\n2006.0    1006\n2007.0    1197\n2008.0    1427\n2009.0    1426\n2010.0    1255\n2011.0    1136\n2012.0     653\n2013.0     544\n2014.0     581\n2015.0     606\n2016.0     502\nName: name, dtype: int64"
     },
     "metadata": {},
     "output_type": "display_data"
    }
   ],
   "source": [
    "display(\n",
    "    games_df.groupby(\n",
    "        by='year_of_release'\n",
    "    )['name'].count()\n",
    ")"
   ]
  },
  {
   "cell_type": "code",
   "execution_count": 16,
   "outputs": [],
   "source": [
    "games_df[\n",
    "        'year_of_release'\n",
    "    ].fillna(\n",
    "        value=1970,\n",
    "        inplace=True\n",
    "    )"
   ],
   "metadata": {
    "collapsed": false,
    "pycharm": {
     "name": "#%%\n"
    }
   }
  },
  {
   "cell_type": "markdown",
   "metadata": {
    "pycharm": {
     "name": "#%% md\n"
    }
   },
   "source": [
    "`genre` — жанр игры"
   ]
  },
  {
   "cell_type": "code",
   "execution_count": 17,
   "metadata": {
    "collapsed": false,
    "jupyter": {
     "outputs_hidden": false
    },
    "pycharm": {
     "name": "#%%\n"
    }
   },
   "outputs": [
    {
     "data": {
      "text/plain": "array(['Sports', 'Platform', 'Racing', 'Role-Playing', 'Puzzle', 'Misc',\n       'Shooter', 'Simulation', 'Action', 'Fighting', 'Adventure',\n       'Strategy'], dtype=object)"
     },
     "metadata": {},
     "output_type": "display_data"
    },
    {
     "data": {
      "text/plain": "0"
     },
     "metadata": {},
     "output_type": "display_data"
    }
   ],
   "source": [
    "display(\n",
    "    games_df['genre'].unique(),\n",
    "    games_df.loc[\n",
    "        games_df['genre'].isna()\n",
    "    ]['name'].count()\n",
    ")"
   ]
  },
  {
   "cell_type": "markdown",
   "metadata": {
    "pycharm": {
     "name": "#%% md\n"
    }
   },
   "source": [
    "#### `critic_score` — оценка критиков (максимум 100)"
   ]
  },
  {
   "cell_type": "code",
   "execution_count": 18,
   "metadata": {
    "collapsed": false,
    "jupyter": {
     "outputs_hidden": false
    },
    "pycharm": {
     "name": "#%%\n"
    }
   },
   "outputs": [
    {
     "data": {
      "text/plain": "count    8137.000000\nmean       68.967679\nstd        13.938165\nmin        13.000000\n25%        60.000000\n50%        71.000000\n75%        79.000000\nmax        98.000000\nName: critic_score, dtype: float64"
     },
     "metadata": {},
     "output_type": "display_data"
    }
   ],
   "source": [
    "display(\n",
    "    games_df['critic_score'].describe()\n",
    ")"
   ]
  },
  {
   "cell_type": "code",
   "execution_count": 19,
   "metadata": {
    "collapsed": false,
    "jupyter": {
     "outputs_hidden": false
    },
    "pycharm": {
     "name": "#%%\n"
    }
   },
   "outputs": [
    {
     "data": {
      "text/plain": "'Продажи игр, у которых пропущена оценка критиков'"
     },
     "metadata": {},
     "output_type": "display_data"
    },
    {
     "data": {
      "text/plain": "          na_sales     eu_sales     jp_sales  other_sales\ncount  8576.000000  8576.000000  8576.000000  8576.000000\nmean      0.178215     0.085017     0.099065     0.023535\nstd       0.715940     0.321036     0.343974     0.088748\nmin       0.000000     0.000000     0.000000     0.000000\n25%       0.000000     0.000000     0.000000     0.000000\n50%       0.020000     0.000000     0.000000     0.000000\n75%       0.140000     0.050000     0.060000     0.020000\nmax      29.080000    10.950000    10.220000     2.740000",
      "text/html": "<div>\n<style scoped>\n    .dataframe tbody tr th:only-of-type {\n        vertical-align: middle;\n    }\n\n    .dataframe tbody tr th {\n        vertical-align: top;\n    }\n\n    .dataframe thead th {\n        text-align: right;\n    }\n</style>\n<table border=\"1\" class=\"dataframe\">\n  <thead>\n    <tr style=\"text-align: right;\">\n      <th></th>\n      <th>na_sales</th>\n      <th>eu_sales</th>\n      <th>jp_sales</th>\n      <th>other_sales</th>\n    </tr>\n  </thead>\n  <tbody>\n    <tr>\n      <th>count</th>\n      <td>8576.000000</td>\n      <td>8576.000000</td>\n      <td>8576.000000</td>\n      <td>8576.000000</td>\n    </tr>\n    <tr>\n      <th>mean</th>\n      <td>0.178215</td>\n      <td>0.085017</td>\n      <td>0.099065</td>\n      <td>0.023535</td>\n    </tr>\n    <tr>\n      <th>std</th>\n      <td>0.715940</td>\n      <td>0.321036</td>\n      <td>0.343974</td>\n      <td>0.088748</td>\n    </tr>\n    <tr>\n      <th>min</th>\n      <td>0.000000</td>\n      <td>0.000000</td>\n      <td>0.000000</td>\n      <td>0.000000</td>\n    </tr>\n    <tr>\n      <th>25%</th>\n      <td>0.000000</td>\n      <td>0.000000</td>\n      <td>0.000000</td>\n      <td>0.000000</td>\n    </tr>\n    <tr>\n      <th>50%</th>\n      <td>0.020000</td>\n      <td>0.000000</td>\n      <td>0.000000</td>\n      <td>0.000000</td>\n    </tr>\n    <tr>\n      <th>75%</th>\n      <td>0.140000</td>\n      <td>0.050000</td>\n      <td>0.060000</td>\n      <td>0.020000</td>\n    </tr>\n    <tr>\n      <th>max</th>\n      <td>29.080000</td>\n      <td>10.950000</td>\n      <td>10.220000</td>\n      <td>2.740000</td>\n    </tr>\n  </tbody>\n</table>\n</div>"
     },
     "metadata": {},
     "output_type": "display_data"
    },
    {
     "data": {
      "text/plain": "'Продажи игр, у которых известна оценка критиков'"
     },
     "metadata": {},
     "output_type": "display_data"
    },
    {
     "data": {
      "text/plain": "          na_sales     eu_sales     jp_sales  other_sales\ncount  8137.000000  8137.000000  8137.000000  8137.000000\nmean      0.352980     0.208311     0.055028     0.072435\nstd       0.896476     0.635622     0.265075     0.249204\nmin       0.000000     0.000000     0.000000     0.000000\n25%       0.050000     0.010000     0.000000     0.010000\n50%       0.130000     0.050000     0.000000     0.020000\n75%       0.340000     0.180000     0.010000     0.060000\nmax      41.360000    28.960000     6.500000    10.570000",
      "text/html": "<div>\n<style scoped>\n    .dataframe tbody tr th:only-of-type {\n        vertical-align: middle;\n    }\n\n    .dataframe tbody tr th {\n        vertical-align: top;\n    }\n\n    .dataframe thead th {\n        text-align: right;\n    }\n</style>\n<table border=\"1\" class=\"dataframe\">\n  <thead>\n    <tr style=\"text-align: right;\">\n      <th></th>\n      <th>na_sales</th>\n      <th>eu_sales</th>\n      <th>jp_sales</th>\n      <th>other_sales</th>\n    </tr>\n  </thead>\n  <tbody>\n    <tr>\n      <th>count</th>\n      <td>8137.000000</td>\n      <td>8137.000000</td>\n      <td>8137.000000</td>\n      <td>8137.000000</td>\n    </tr>\n    <tr>\n      <th>mean</th>\n      <td>0.352980</td>\n      <td>0.208311</td>\n      <td>0.055028</td>\n      <td>0.072435</td>\n    </tr>\n    <tr>\n      <th>std</th>\n      <td>0.896476</td>\n      <td>0.635622</td>\n      <td>0.265075</td>\n      <td>0.249204</td>\n    </tr>\n    <tr>\n      <th>min</th>\n      <td>0.000000</td>\n      <td>0.000000</td>\n      <td>0.000000</td>\n      <td>0.000000</td>\n    </tr>\n    <tr>\n      <th>25%</th>\n      <td>0.050000</td>\n      <td>0.010000</td>\n      <td>0.000000</td>\n      <td>0.010000</td>\n    </tr>\n    <tr>\n      <th>50%</th>\n      <td>0.130000</td>\n      <td>0.050000</td>\n      <td>0.000000</td>\n      <td>0.020000</td>\n    </tr>\n    <tr>\n      <th>75%</th>\n      <td>0.340000</td>\n      <td>0.180000</td>\n      <td>0.010000</td>\n      <td>0.060000</td>\n    </tr>\n    <tr>\n      <th>max</th>\n      <td>41.360000</td>\n      <td>28.960000</td>\n      <td>6.500000</td>\n      <td>10.570000</td>\n    </tr>\n  </tbody>\n</table>\n</div>"
     },
     "metadata": {},
     "output_type": "display_data"
    }
   ],
   "source": [
    "display('Продажи игр, у которых пропущена оценка критиков',\n",
    "    games_df.loc[\n",
    "        games_df['critic_score'].isna()\n",
    "        , ['na_sales', 'eu_sales', 'jp_sales', 'other_sales']\n",
    "    ].describe(),\n",
    "    'Продажи игр, у которых известна оценка критиков',\n",
    "    games_df.loc[\n",
    "        games_df['critic_score'].notna()\n",
    "        , ['na_sales', 'eu_sales', 'jp_sales', 'other_sales']\n",
    "    ].describe()\n",
    ")"
   ]
  },
  {
   "cell_type": "markdown",
   "source": [
    "Заменим `NaN` на `-1`, то есть значение пропущенно."
   ],
   "metadata": {
    "collapsed": false,
    "pycharm": {
     "name": "#%% md\n"
    }
   }
  },
  {
   "cell_type": "code",
   "execution_count": 20,
   "outputs": [],
   "source": [
    "games_df[\n",
    "        'critic_score'\n",
    "    ].fillna(\n",
    "    value=-1,\n",
    "    inplace=True\n",
    ")"
   ],
   "metadata": {
    "collapsed": false,
    "pycharm": {
     "name": "#%%\n"
    }
   }
  },
  {
   "cell_type": "markdown",
   "source": [
    "#### `platform` — платформа"
   ],
   "metadata": {
    "collapsed": false,
    "pycharm": {
     "name": "#%% md\n"
    }
   }
  },
  {
   "cell_type": "code",
   "execution_count": 21,
   "outputs": [
    {
     "data": {
      "text/plain": "['2600',\n '3DO',\n '3DS',\n 'DC',\n 'DS',\n 'GB',\n 'GBA',\n 'GC',\n 'GEN',\n 'GG',\n 'N64',\n 'NES',\n 'NG',\n 'PC',\n 'PCFX',\n 'PS',\n 'PS2',\n 'PS3',\n 'PS4',\n 'PSP',\n 'PSV',\n 'SAT',\n 'SCD',\n 'SNES',\n 'TG16',\n 'WS',\n 'Wii',\n 'WiiU',\n 'X360',\n 'XB',\n 'XOne']"
     },
     "metadata": {},
     "output_type": "display_data"
    },
    {
     "data": {
      "text/plain": "31"
     },
     "metadata": {},
     "output_type": "display_data"
    }
   ],
   "source": [
    "display(\n",
    "    sorted(games_df['platform'].unique()),\n",
    "    len(games_df['platform'].unique()),\n",
    ")"
   ],
   "metadata": {
    "collapsed": false,
    "pycharm": {
     "name": "#%%\n"
    }
   }
  },
  {
   "cell_type": "markdown",
   "source": [
    "✅ ‘name’ `NaN`\n",
    "⭕️ 'year_of_release' `NaN`\n",
    "✅ 'genre' `NaN`\n",
    "⭕️ 'critic_score' `NaN`\n",
    "⭕️ 'user_score' `NaN`\n",
    "⭕️ 'rating' `NaN`"
   ],
   "metadata": {
    "collapsed": false,
    "pycharm": {
     "name": "#%% md\n"
    }
   }
  },
  {
   "cell_type": "markdown",
   "metadata": {
    "pycharm": {
     "name": "#%% md\n"
    }
   },
   "source": [
    "#### `user_score` — оценка пользователей (максимум 10)"
   ]
  },
  {
   "cell_type": "code",
   "execution_count": 22,
   "metadata": {
    "collapsed": false,
    "jupyter": {
     "outputs_hidden": false
    },
    "pycharm": {
     "name": "#%%\n"
    }
   },
   "outputs": [
    {
     "data": {
      "text/plain": "count     10014\nunique       96\ntop         tbd\nfreq       2424\nName: user_score, dtype: object"
     },
     "metadata": {},
     "output_type": "display_data"
    }
   ],
   "source": [
    "display(\n",
    "    games_df['user_score'].describe()\n",
    ")"
   ]
  },
  {
   "cell_type": "markdown",
   "source": [
    "**tbd — To Be Determined.**\n",
    "В интернетах пишут, что `'tbd'` обозначают оценки у которых недостаточно проголосовавших. То есть например игру оценили менее 4 игроков."
   ],
   "metadata": {
    "collapsed": false,
    "pycharm": {
     "name": "#%% md\n"
    }
   }
  },
  {
   "cell_type": "markdown",
   "source": [
    "Заменим `'tbd'` на `13`, потомучто оценка не можеть быть больше **10**."
   ],
   "metadata": {
    "collapsed": false,
    "pycharm": {
     "name": "#%% md\n"
    }
   }
  },
  {
   "cell_type": "code",
   "execution_count": 23,
   "outputs": [],
   "source": [
    "games_df['user_score'].replace(\n",
    "    to_replace='tbd',\n",
    "    value=13,\n",
    "    inplace=True\n",
    ")"
   ],
   "metadata": {
    "collapsed": false,
    "pycharm": {
     "name": "#%%\n"
    }
   }
  },
  {
   "cell_type": "markdown",
   "source": [
    "Заменим `NaN` на `-1`, то есть значение пропущенно."
   ],
   "metadata": {
    "collapsed": false,
    "pycharm": {
     "name": "#%% md\n"
    }
   }
  },
  {
   "cell_type": "code",
   "execution_count": 24,
   "outputs": [],
   "source": [
    "games_df['user_score'].fillna(\n",
    "    value=-1,\n",
    "    inplace=True\n",
    ")"
   ],
   "metadata": {
    "collapsed": false,
    "pycharm": {
     "name": "#%%\n"
    }
   }
  },
  {
   "cell_type": "code",
   "execution_count": 25,
   "outputs": [
    {
     "data": {
      "text/plain": "count     16713\nunique       97\ntop          -1\nfreq       6699\nName: user_score, dtype: int64"
     },
     "metadata": {},
     "output_type": "display_data"
    }
   ],
   "source": [
    "display(\n",
    "    games_df['user_score'].describe()\n",
    ")"
   ],
   "metadata": {
    "collapsed": false,
    "pycharm": {
     "name": "#%%\n"
    }
   }
  },
  {
   "cell_type": "code",
   "execution_count": 26,
   "outputs": [
    {
     "data": {
      "text/plain": "count     16713\nunique       97\ntop          -1\nfreq       6699\nName: user_score, dtype: int64"
     },
     "metadata": {},
     "output_type": "display_data"
    }
   ],
   "source": [
    "display(\n",
    "    games_df.loc[\n",
    "        games_df['user_score'] != 'tbd',\n",
    "            'user_score'\n",
    "    ].describe()\n",
    ")"
   ],
   "metadata": {
    "collapsed": false,
    "pycharm": {
     "name": "#%%\n"
    }
   }
  },
  {
   "cell_type": "markdown",
   "metadata": {
    "pycharm": {
     "name": "#%% md\n"
    }
   },
   "source": [
    "#### `rating` — рейтинг от организации ESRB"
   ]
  },
  {
   "cell_type": "markdown",
   "source": [
    "(англ. Entertainment Software Rating Board). Эта ассоциация определяет рейтинг компьютерных игр и присваивает им подходящую возрастную категорию."
   ],
   "metadata": {
    "collapsed": false,
    "pycharm": {
     "name": "#%% md\n"
    }
   }
  },
  {
   "cell_type": "code",
   "execution_count": 27,
   "outputs": [
    {
     "data": {
      "text/plain": "6764"
     },
     "metadata": {},
     "output_type": "display_data"
    }
   ],
   "source": [
    "display(\n",
    "    games_df.loc[\n",
    "        games_df['rating'].isna(),\n",
    "        'name'\n",
    "    ].count()\n",
    ")"
   ],
   "metadata": {
    "collapsed": false,
    "pycharm": {
     "name": "#%%\n"
    }
   }
  },
  {
   "cell_type": "code",
   "execution_count": 28,
   "outputs": [
    {
     "data": {
      "text/plain": "array(['E', 'M', 'T', 'E10+', 'K-A', 'AO', 'EC', 'RP'], dtype=object)"
     },
     "metadata": {},
     "output_type": "display_data"
    }
   ],
   "source": [
    "display(\n",
    "    games_df.loc[\n",
    "        games_df['rating'].notna(),\n",
    "            'rating'\n",
    "    ].unique()\n",
    ")"
   ],
   "metadata": {
    "collapsed": false,
    "pycharm": {
     "name": "#%%\n"
    }
   }
  },
  {
   "cell_type": "markdown",
   "source": [
    "- ` E ` — Everyone → 1994–1998 (as K-A), 1998–present (as E)\n",
    "- ` M ` — Mature 17+ → 1994–present\n",
    "- ` T ` — Teen → 1994–present\n",
    "- ` E10+ ` — Everyone 10+ → 2005–present\n",
    "- ` K-A ` — Everyone → 1994–1998\n",
    "- ` A-0 ` — Adults Only 18+ → 1994–present\n",
    "- ` EC ` — Early Childhood → 1994–2018\n",
    "- ` RP ` — Rating Pending → 1994–present\n",
    "- ` no_ESRB ` — without ESRB"
   ],
   "metadata": {
    "collapsed": false,
    "pycharm": {
     "name": "#%% md\n"
    }
   }
  },
  {
   "cell_type": "code",
   "execution_count": 29,
   "metadata": {
    "collapsed": false,
    "jupyter": {
     "outputs_hidden": false
    },
    "pycharm": {
     "name": "#%%\n"
    }
   },
   "outputs": [],
   "source": [
    "games_df['rating'].fillna(\n",
    "    value='no_ESRB',\n",
    "    inplace=True\n",
    ")"
   ]
  },
  {
   "cell_type": "code",
   "execution_count": 30,
   "outputs": [
    {
     "data": {
      "text/plain": "0"
     },
     "metadata": {},
     "output_type": "display_data"
    }
   ],
   "source": [
    "display(\n",
    "    games_df.loc[\n",
    "        games_df['rating'].isna()\n",
    "        , 'name'\n",
    "    ].count()\n",
    ")"
   ],
   "metadata": {
    "collapsed": false,
    "pycharm": {
     "name": "#%%\n"
    }
   }
  },
  {
   "cell_type": "markdown",
   "source": [
    "✅️ ‘name’ `NaN`\n",
    "⭕️ 'year_of_release' `NaN`\n",
    "✅️ 'genre' `NaN`\n",
    "⭕️ 'critic_score' `NaN`\n",
    "⭕️ 'user_score' `NaN`\n",
    "✅️ 'rating' `NaN`"
   ],
   "metadata": {
    "collapsed": false,
    "pycharm": {
     "name": "#%% md\n"
    }
   }
  },
  {
   "cell_type": "markdown",
   "source": [
    "#### `na_sales` — продажи в Северной Америке (миллионы проданных копий)"
   ],
   "metadata": {
    "collapsed": false,
    "pycharm": {
     "name": "#%% md\n"
    }
   }
  },
  {
   "cell_type": "code",
   "execution_count": 31,
   "outputs": [
    {
     "data": {
      "text/plain": "count    16713.000000\nmean         0.263302\nstd          0.813565\nmin          0.000000\n25%          0.000000\n50%          0.080000\n75%          0.240000\nmax         41.360000\nName: na_sales, dtype: float64"
     },
     "metadata": {},
     "output_type": "display_data"
    },
    {
     "data": {
      "text/plain": "                         name platform  year_of_release         genre  \\\n0                  Wii Sports      Wii           2006.0        Sports   \n1           Super Mario Bros.      NES           1985.0      Platform   \n2              Mario Kart Wii      Wii           2008.0        Racing   \n3           Wii Sports Resort      Wii           2009.0        Sports   \n4    Pokemon Red/Pokemon Blue       GB           1996.0  Role-Playing   \n..                        ...      ...              ...           ...   \n145      Sonic the Hedgehog 2      GEN           1992.0      Platform   \n183           Madden NFL 2004      PS2           1970.0        Sports   \n238           Madden NFL 2005      PS2           2004.0        Sports   \n240                  Pitfall!     2600           1981.0      Platform   \n284                 Half-Life       PC           1997.0       Shooter   \n\n     na_sales  eu_sales  jp_sales  other_sales  critic_score user_score  \\\n0       41.36     28.96      3.77         8.45          76.0          8   \n1       29.08      3.58      6.81         0.77          -1.0         -1   \n2       15.68     12.76      3.79         3.29          82.0        8.3   \n3       15.61     10.93      3.28         2.95          80.0          8   \n4       11.27      8.89     10.22         1.00          -1.0         -1   \n..        ...       ...       ...          ...           ...        ...   \n145      4.47      1.20      0.16         0.19          -1.0         -1   \n183      4.26      0.26      0.01         0.71          94.0        8.5   \n238      4.18      0.26      0.01         0.08          91.0        7.9   \n240      4.21      0.24      0.00         0.05          -1.0         -1   \n284      4.03      0.00      0.09         0.00          96.0        9.1   \n\n      rating  \n0          E  \n1    no_ESRB  \n2          E  \n3          E  \n4    no_ESRB  \n..       ...  \n145  no_ESRB  \n183        E  \n238        E  \n240  no_ESRB  \n284        M  \n\n[88 rows x 11 columns]",
      "text/html": "<div>\n<style scoped>\n    .dataframe tbody tr th:only-of-type {\n        vertical-align: middle;\n    }\n\n    .dataframe tbody tr th {\n        vertical-align: top;\n    }\n\n    .dataframe thead th {\n        text-align: right;\n    }\n</style>\n<table border=\"1\" class=\"dataframe\">\n  <thead>\n    <tr style=\"text-align: right;\">\n      <th></th>\n      <th>name</th>\n      <th>platform</th>\n      <th>year_of_release</th>\n      <th>genre</th>\n      <th>na_sales</th>\n      <th>eu_sales</th>\n      <th>jp_sales</th>\n      <th>other_sales</th>\n      <th>critic_score</th>\n      <th>user_score</th>\n      <th>rating</th>\n    </tr>\n  </thead>\n  <tbody>\n    <tr>\n      <th>0</th>\n      <td>Wii Sports</td>\n      <td>Wii</td>\n      <td>2006.0</td>\n      <td>Sports</td>\n      <td>41.36</td>\n      <td>28.96</td>\n      <td>3.77</td>\n      <td>8.45</td>\n      <td>76.0</td>\n      <td>8</td>\n      <td>E</td>\n    </tr>\n    <tr>\n      <th>1</th>\n      <td>Super Mario Bros.</td>\n      <td>NES</td>\n      <td>1985.0</td>\n      <td>Platform</td>\n      <td>29.08</td>\n      <td>3.58</td>\n      <td>6.81</td>\n      <td>0.77</td>\n      <td>-1.0</td>\n      <td>-1</td>\n      <td>no_ESRB</td>\n    </tr>\n    <tr>\n      <th>2</th>\n      <td>Mario Kart Wii</td>\n      <td>Wii</td>\n      <td>2008.0</td>\n      <td>Racing</td>\n      <td>15.68</td>\n      <td>12.76</td>\n      <td>3.79</td>\n      <td>3.29</td>\n      <td>82.0</td>\n      <td>8.3</td>\n      <td>E</td>\n    </tr>\n    <tr>\n      <th>3</th>\n      <td>Wii Sports Resort</td>\n      <td>Wii</td>\n      <td>2009.0</td>\n      <td>Sports</td>\n      <td>15.61</td>\n      <td>10.93</td>\n      <td>3.28</td>\n      <td>2.95</td>\n      <td>80.0</td>\n      <td>8</td>\n      <td>E</td>\n    </tr>\n    <tr>\n      <th>4</th>\n      <td>Pokemon Red/Pokemon Blue</td>\n      <td>GB</td>\n      <td>1996.0</td>\n      <td>Role-Playing</td>\n      <td>11.27</td>\n      <td>8.89</td>\n      <td>10.22</td>\n      <td>1.00</td>\n      <td>-1.0</td>\n      <td>-1</td>\n      <td>no_ESRB</td>\n    </tr>\n    <tr>\n      <th>...</th>\n      <td>...</td>\n      <td>...</td>\n      <td>...</td>\n      <td>...</td>\n      <td>...</td>\n      <td>...</td>\n      <td>...</td>\n      <td>...</td>\n      <td>...</td>\n      <td>...</td>\n      <td>...</td>\n    </tr>\n    <tr>\n      <th>145</th>\n      <td>Sonic the Hedgehog 2</td>\n      <td>GEN</td>\n      <td>1992.0</td>\n      <td>Platform</td>\n      <td>4.47</td>\n      <td>1.20</td>\n      <td>0.16</td>\n      <td>0.19</td>\n      <td>-1.0</td>\n      <td>-1</td>\n      <td>no_ESRB</td>\n    </tr>\n    <tr>\n      <th>183</th>\n      <td>Madden NFL 2004</td>\n      <td>PS2</td>\n      <td>1970.0</td>\n      <td>Sports</td>\n      <td>4.26</td>\n      <td>0.26</td>\n      <td>0.01</td>\n      <td>0.71</td>\n      <td>94.0</td>\n      <td>8.5</td>\n      <td>E</td>\n    </tr>\n    <tr>\n      <th>238</th>\n      <td>Madden NFL 2005</td>\n      <td>PS2</td>\n      <td>2004.0</td>\n      <td>Sports</td>\n      <td>4.18</td>\n      <td>0.26</td>\n      <td>0.01</td>\n      <td>0.08</td>\n      <td>91.0</td>\n      <td>7.9</td>\n      <td>E</td>\n    </tr>\n    <tr>\n      <th>240</th>\n      <td>Pitfall!</td>\n      <td>2600</td>\n      <td>1981.0</td>\n      <td>Platform</td>\n      <td>4.21</td>\n      <td>0.24</td>\n      <td>0.00</td>\n      <td>0.05</td>\n      <td>-1.0</td>\n      <td>-1</td>\n      <td>no_ESRB</td>\n    </tr>\n    <tr>\n      <th>284</th>\n      <td>Half-Life</td>\n      <td>PC</td>\n      <td>1997.0</td>\n      <td>Shooter</td>\n      <td>4.03</td>\n      <td>0.00</td>\n      <td>0.09</td>\n      <td>0.00</td>\n      <td>96.0</td>\n      <td>9.1</td>\n      <td>M</td>\n    </tr>\n  </tbody>\n</table>\n<p>88 rows × 11 columns</p>\n</div>"
     },
     "metadata": {},
     "output_type": "display_data"
    }
   ],
   "source": [
    "display(\n",
    "    games_df['na_sales'].describe(),\n",
    "    games_df.loc[games_df['na_sales'] > 4]\n",
    ")"
   ],
   "metadata": {
    "collapsed": false,
    "pycharm": {
     "name": "#%%\n"
    }
   }
  },
  {
   "cell_type": "markdown",
   "source": [
    "#### `eu_sales` — продажи в Европе (миллионы проданных копий)"
   ],
   "metadata": {
    "collapsed": false,
    "pycharm": {
     "name": "#%% md\n"
    }
   }
  },
  {
   "cell_type": "code",
   "execution_count": 32,
   "outputs": [
    {
     "data": {
      "text/plain": "count    16713.000000\nmean         0.145045\nstd          0.503359\nmin          0.000000\n25%          0.000000\n50%          0.020000\n75%          0.110000\nmax         28.960000\nName: eu_sales, dtype: float64"
     },
     "metadata": {},
     "output_type": "display_data"
    }
   ],
   "source": [
    "display(\n",
    "    games_df['eu_sales'].describe()\n",
    ")"
   ],
   "metadata": {
    "collapsed": false,
    "pycharm": {
     "name": "#%%\n"
    }
   }
  },
  {
   "cell_type": "markdown",
   "source": [
    "#### `jp_sales` — продажи в Японии (миллионы проданных копий)"
   ],
   "metadata": {
    "collapsed": false,
    "pycharm": {
     "name": "#%% md\n"
    }
   }
  },
  {
   "cell_type": "code",
   "execution_count": 33,
   "outputs": [
    {
     "data": {
      "text/plain": "count    16713.000000\nmean         0.077625\nstd          0.308871\nmin          0.000000\n25%          0.000000\n50%          0.000000\n75%          0.040000\nmax         10.220000\nName: jp_sales, dtype: float64"
     },
     "metadata": {},
     "output_type": "display_data"
    }
   ],
   "source": [
    "display(\n",
    "    games_df['jp_sales'].describe()\n",
    ")"
   ],
   "metadata": {
    "collapsed": false,
    "pycharm": {
     "name": "#%%\n"
    }
   }
  },
  {
   "cell_type": "markdown",
   "source": [
    "#### `other_sales` — продажи в других странах (миллионы проданных копий)"
   ],
   "metadata": {
    "collapsed": false,
    "pycharm": {
     "name": "#%% md\n"
    }
   }
  },
  {
   "cell_type": "code",
   "execution_count": 34,
   "outputs": [
    {
     "data": {
      "text/plain": "count    16713.000000\nmean         0.047343\nstd          0.186742\nmin          0.000000\n25%          0.000000\n50%          0.010000\n75%          0.030000\nmax         10.570000\nName: other_sales, dtype: float64"
     },
     "metadata": {},
     "output_type": "display_data"
    }
   ],
   "source": [
    "display(\n",
    "    games_df['other_sales'].describe()\n",
    ")"
   ],
   "metadata": {
    "collapsed": false,
    "pycharm": {
     "name": "#%%\n"
    }
   }
  },
  {
   "cell_type": "markdown",
   "metadata": {
    "pycharm": {
     "name": "#%% md\n"
    }
   },
   "source": [
    "<hr>"
   ]
  },
  {
   "cell_type": "markdown",
   "metadata": {
    "pycharm": {
     "name": "#%% md\n"
    }
   },
   "source": [
    "## Шаг 2. Подготовьте данные"
   ]
  },
  {
   "cell_type": "code",
   "execution_count": 35,
   "metadata": {
    "collapsed": false,
    "jupyter": {
     "outputs_hidden": false
    },
    "pycharm": {
     "name": "#%%\n"
    }
   },
   "outputs": [
    {
     "data": {
      "text/plain": "Index(['name', 'platform', 'year_of_release', 'genre', 'na_sales', 'eu_sales',\n       'jp_sales', 'other_sales', 'critic_score', 'user_score', 'rating'],\n      dtype='object')"
     },
     "metadata": {},
     "output_type": "display_data"
    }
   ],
   "source": [
    "display(\n",
    "    games_df.columns\n",
    ")"
   ]
  },
  {
   "cell_type": "markdown",
   "metadata": {
    "pycharm": {
     "name": "#%% md\n"
    }
   },
   "source": [
    "Преобразуйте данные в нужные типы. Опишите, в каких столбцах заменили тип данных и почему;"
   ]
  },
  {
   "cell_type": "code",
   "execution_count": 35,
   "outputs": [],
   "source": [],
   "metadata": {
    "collapsed": false,
    "pycharm": {
     "name": "#%%\n"
    }
   }
  },
  {
   "cell_type": "code",
   "execution_count": 36,
   "outputs": [],
   "source": [
    "games_df = games_df.astype(\n",
    "    {\n",
    "        # 'name': '',\n",
    "        'platform': 'category',\n",
    "        'year_of_release': 'uint16',\n",
    "        'genre': 'category',\n",
    "        'na_sales': 'float16',\n",
    "        'eu_sales': 'float16',\n",
    "        'jp_sales': 'float16',\n",
    "        'other_sales': 'float16',\n",
    "        'critic_score': 'uint8',\n",
    "        'user_score': 'float16',\n",
    "        'rating': 'category',\n",
    "    }\n",
    ")"
   ],
   "metadata": {
    "collapsed": false,
    "pycharm": {
     "name": "#%%\n"
    }
   }
  },
  {
   "cell_type": "code",
   "execution_count": 37,
   "outputs": [
    {
     "name": "stdout",
     "output_type": "stream",
     "text": [
      "<class 'pandas.core.frame.DataFrame'>\n",
      "Int64Index: 16713 entries, 0 to 16714\n",
      "Data columns (total 11 columns):\n",
      " #   Column           Non-Null Count  Dtype   \n",
      "---  ------           --------------  -----   \n",
      " 0   name             16713 non-null  object  \n",
      " 1   platform         16713 non-null  category\n",
      " 2   year_of_release  16713 non-null  uint16  \n",
      " 3   genre            16713 non-null  category\n",
      " 4   na_sales         16713 non-null  float16 \n",
      " 5   eu_sales         16713 non-null  float16 \n",
      " 6   jp_sales         16713 non-null  float16 \n",
      " 7   other_sales      16713 non-null  float16 \n",
      " 8   critic_score     16713 non-null  uint8   \n",
      " 9   user_score       16713 non-null  float16 \n",
      " 10  rating           16713 non-null  category\n",
      "dtypes: category(3), float16(5), object(1), uint16(1), uint8(1)\n",
      "memory usage: 524.3+ KB\n"
     ]
    },
    {
     "data": {
      "text/plain": "None"
     },
     "metadata": {},
     "output_type": "display_data"
    }
   ],
   "source": [
    "display(\n",
    "    games_df.info()\n",
    " )"
   ],
   "metadata": {
    "collapsed": false,
    "pycharm": {
     "name": "#%%\n"
    }
   }
  },
  {
   "cell_type": "markdown",
   "source": [
    "Присвоили надлежащие типы данных и теперь DataFrame использует в памяти 0.5 Mb вместо 1.4 Mb."
   ],
   "metadata": {
    "collapsed": false,
    "pycharm": {
     "name": "#%% md\n"
    }
   }
  },
  {
   "cell_type": "markdown",
   "metadata": {
    "pycharm": {
     "name": "#%% md\n"
    }
   },
   "source": [
    "Обработайте пропуски при необходимости:\n",
    "- Объясните, почему заполнили пропуски определённым образом или почему не стали это делать;\n",
    "- Опишите причины, которые могли привести к пропускам;"
   ]
  },
  {
   "cell_type": "markdown",
   "metadata": {
    "pycharm": {
     "name": "#%% md\n"
    }
   },
   "source": [
    "Обратите внимание на аббревиатуру 'tbd' в столбце с оценкой пользователей. Отдельно разберите это значение и опишите, как его обработать;"
   ]
  },
  {
   "cell_type": "markdown",
   "metadata": {
    "pycharm": {
     "name": "#%% md\n"
    }
   },
   "source": [
    "Посчитаем суммарные продажи во всех регионах и запишем их в отдельный столбец."
   ]
  },
  {
   "cell_type": "code",
   "execution_count": 40,
   "outputs": [],
   "source": [
    "games_df['sum_sales'] = games_df.loc[\n",
    "    : ,\n",
    "    ['na_sales', 'eu_sales', 'jp_sales', 'other_sales']\n",
    "].sum(axis=1)"
   ],
   "metadata": {
    "collapsed": false,
    "pycharm": {
     "name": "#%%\n"
    }
   }
  },
  {
   "cell_type": "code",
   "execution_count": 42,
   "outputs": [
    {
     "data": {
      "text/plain": "                                              name platform  year_of_release  \\\n7639                                   Dying Light       PC             2015   \n15266  Shippuu Mahou Daisakusen: Kingdom-Grandprix      SAT             1996   \n10298                             Arcade Party Pak       PS             1999   \n6062                             Warriors Orochi 2      PSP             2008   \n1557                       Tony Hawk's Underground       XB             2003   \n4087                       ECW Hardcore Revolution       PS             1999   \n15689                                Puzzle Guzzle      PSP             2007   \n\n          genre  na_sales  eu_sales  jp_sales  other_sales  critic_score  \\\n7639     Action  0.119995  0.059998  0.000000     0.020004            75   \n15266   Shooter  0.000000  0.000000  0.020004     0.000000           255   \n10298      Misc  0.059998  0.040009  0.000000     0.010002           255   \n6062     Action  0.059998  0.000000  0.219971     0.010002            56   \n1557     Sports  0.850098  0.370117  0.000000     0.049988            85   \n4087   Fighting  0.270020  0.180054  0.000000     0.029999           255   \n15689    Puzzle  0.020004  0.000000  0.000000     0.000000            65   \n\n       user_score   rating  sum_sales  \n7639     7.898438        M   0.199951  \n15266   -1.000000  no_ESRB   0.020004  \n10298   -1.000000  no_ESRB   0.109985  \n6062     7.500000        T   0.290039  \n1557     9.101562        T   1.270508  \n4087    -1.000000  no_ESRB   0.480225  \n15689   13.000000        E   0.020004  ",
      "text/html": "<div>\n<style scoped>\n    .dataframe tbody tr th:only-of-type {\n        vertical-align: middle;\n    }\n\n    .dataframe tbody tr th {\n        vertical-align: top;\n    }\n\n    .dataframe thead th {\n        text-align: right;\n    }\n</style>\n<table border=\"1\" class=\"dataframe\">\n  <thead>\n    <tr style=\"text-align: right;\">\n      <th></th>\n      <th>name</th>\n      <th>platform</th>\n      <th>year_of_release</th>\n      <th>genre</th>\n      <th>na_sales</th>\n      <th>eu_sales</th>\n      <th>jp_sales</th>\n      <th>other_sales</th>\n      <th>critic_score</th>\n      <th>user_score</th>\n      <th>rating</th>\n      <th>sum_sales</th>\n    </tr>\n  </thead>\n  <tbody>\n    <tr>\n      <th>7639</th>\n      <td>Dying Light</td>\n      <td>PC</td>\n      <td>2015</td>\n      <td>Action</td>\n      <td>0.119995</td>\n      <td>0.059998</td>\n      <td>0.000000</td>\n      <td>0.020004</td>\n      <td>75</td>\n      <td>7.898438</td>\n      <td>M</td>\n      <td>0.199951</td>\n    </tr>\n    <tr>\n      <th>15266</th>\n      <td>Shippuu Mahou Daisakusen: Kingdom-Grandprix</td>\n      <td>SAT</td>\n      <td>1996</td>\n      <td>Shooter</td>\n      <td>0.000000</td>\n      <td>0.000000</td>\n      <td>0.020004</td>\n      <td>0.000000</td>\n      <td>255</td>\n      <td>-1.000000</td>\n      <td>no_ESRB</td>\n      <td>0.020004</td>\n    </tr>\n    <tr>\n      <th>10298</th>\n      <td>Arcade Party Pak</td>\n      <td>PS</td>\n      <td>1999</td>\n      <td>Misc</td>\n      <td>0.059998</td>\n      <td>0.040009</td>\n      <td>0.000000</td>\n      <td>0.010002</td>\n      <td>255</td>\n      <td>-1.000000</td>\n      <td>no_ESRB</td>\n      <td>0.109985</td>\n    </tr>\n    <tr>\n      <th>6062</th>\n      <td>Warriors Orochi 2</td>\n      <td>PSP</td>\n      <td>2008</td>\n      <td>Action</td>\n      <td>0.059998</td>\n      <td>0.000000</td>\n      <td>0.219971</td>\n      <td>0.010002</td>\n      <td>56</td>\n      <td>7.500000</td>\n      <td>T</td>\n      <td>0.290039</td>\n    </tr>\n    <tr>\n      <th>1557</th>\n      <td>Tony Hawk's Underground</td>\n      <td>XB</td>\n      <td>2003</td>\n      <td>Sports</td>\n      <td>0.850098</td>\n      <td>0.370117</td>\n      <td>0.000000</td>\n      <td>0.049988</td>\n      <td>85</td>\n      <td>9.101562</td>\n      <td>T</td>\n      <td>1.270508</td>\n    </tr>\n    <tr>\n      <th>4087</th>\n      <td>ECW Hardcore Revolution</td>\n      <td>PS</td>\n      <td>1999</td>\n      <td>Fighting</td>\n      <td>0.270020</td>\n      <td>0.180054</td>\n      <td>0.000000</td>\n      <td>0.029999</td>\n      <td>255</td>\n      <td>-1.000000</td>\n      <td>no_ESRB</td>\n      <td>0.480225</td>\n    </tr>\n    <tr>\n      <th>15689</th>\n      <td>Puzzle Guzzle</td>\n      <td>PSP</td>\n      <td>2007</td>\n      <td>Puzzle</td>\n      <td>0.020004</td>\n      <td>0.000000</td>\n      <td>0.000000</td>\n      <td>0.000000</td>\n      <td>65</td>\n      <td>13.000000</td>\n      <td>E</td>\n      <td>0.020004</td>\n    </tr>\n  </tbody>\n</table>\n</div>"
     },
     "metadata": {},
     "output_type": "display_data"
    }
   ],
   "source": [
    "display(\n",
    "    games_df.sample(7)\n",
    ")"
   ],
   "metadata": {
    "collapsed": false,
    "pycharm": {
     "name": "#%%\n"
    }
   }
  },
  {
   "cell_type": "markdown",
   "metadata": {
    "pycharm": {
     "name": "#%% md\n"
    }
   },
   "source": []
  },
  {
   "cell_type": "markdown",
   "metadata": {
    "pycharm": {
     "name": "#%% md\n"
    }
   },
   "source": [
    "<hr>"
   ]
  },
  {
   "cell_type": "markdown",
   "metadata": {
    "pycharm": {
     "name": "#%% md\n"
    }
   },
   "source": [
    "## Шаг 3. Проведите исследовательский анализ данных"
   ]
  },
  {
   "cell_type": "markdown",
   "metadata": {
    "pycharm": {
     "name": "#%% md\n"
    }
   },
   "source": [
    "### Сколько игр выпускалось в разные годы."
   ]
  },
  {
   "cell_type": "markdown",
   "source": [
    " Важны ли данные за все периоды?"
   ],
   "metadata": {
    "collapsed": false,
    "pycharm": {
     "name": "#%% md\n"
    }
   }
  },
  {
   "cell_type": "markdown",
   "source": [
    "### Актуальный период"
   ],
   "metadata": {
    "collapsed": false,
    "pycharm": {
     "name": "#%% md\n"
    }
   }
  },
  {
   "cell_type": "markdown",
   "source": [
    "Актуальный период определите самостоятельно в результате исследования предыдущих вопросов."
   ],
   "metadata": {
    "collapsed": false,
    "pycharm": {
     "name": "#%% md\n"
    }
   }
  },
  {
   "cell_type": "markdown",
   "source": [
    "Возьмите данные за соответствующий актуальный период.  Основной фактор — эти данные помогут построить прогноз на 2017 год.\n",
    "Не учитывайте в работе данные за предыдущие годы."
   ],
   "metadata": {
    "collapsed": false,
    "pycharm": {
     "name": "#%% md\n"
    }
   }
  },
  {
   "cell_type": "markdown",
   "source": [
    "### Как менялись продажи по платформам."
   ],
   "metadata": {
    "collapsed": false,
    "pycharm": {
     "name": "#%% md\n"
    }
   }
  },
  {
   "cell_type": "markdown",
   "source": [
    "Выберите платформы с наибольшими суммарными продажами и постройте распределение по годам. За какой характерный срок появляются новые и исчезают старые платформы?"
   ],
   "metadata": {
    "collapsed": false,
    "pycharm": {
     "name": "#%% md\n"
    }
   }
  },
  {
   "cell_type": "markdown",
   "source": [
    "### Какие платформы лидируют по продажам, растут или падают?"
   ],
   "metadata": {
    "collapsed": false,
    "pycharm": {
     "name": "#%% md\n"
    }
   }
  },
  {
   "cell_type": "markdown",
   "source": [
    " Выберите несколько потенциально прибыльных платформ."
   ],
   "metadata": {
    "collapsed": false,
    "pycharm": {
     "name": "#%% md\n"
    }
   }
  },
  {
   "cell_type": "markdown",
   "source": [
    "### Постройте график «ящик с усами» по глобальным продажам игр в разбивке по платформам. Опишите результат.\n"
   ],
   "metadata": {
    "collapsed": false,
    "pycharm": {
     "name": "#%% md\n"
    }
   }
  },
  {
   "cell_type": "markdown",
   "source": [
    "### Как влияют на продажи внутри одной популярной платформы отзывы пользователей и критиков.\n"
   ],
   "metadata": {
    "collapsed": false,
    "pycharm": {
     "name": "#%% md\n"
    }
   }
  },
  {
   "cell_type": "markdown",
   "source": [
    " Постройте диаграмму рассеяния и посчитайте корреляцию между отзывами и продажами. Сформулируйте выводы."
   ],
   "metadata": {
    "collapsed": false,
    "pycharm": {
     "name": "#%% md\n"
    }
   }
  },
  {
   "cell_type": "markdown",
   "source": [
    "Соотнесите выводы с продажами игр на других платформах.\n"
   ],
   "metadata": {
    "collapsed": false,
    "pycharm": {
     "name": "#%% md\n"
    }
   }
  },
  {
   "cell_type": "markdown",
   "source": [
    "### Общее распределение игр по жанрам."
   ],
   "metadata": {
    "collapsed": false,
    "pycharm": {
     "name": "#%% md\n"
    }
   }
  },
  {
   "cell_type": "markdown",
   "source": [
    " Что можно сказать о самых прибыльных жанрах?"
   ],
   "metadata": {
    "collapsed": false,
    "pycharm": {
     "name": "#%% md\n"
    }
   }
  },
  {
   "cell_type": "markdown",
   "source": [
    "Выделяются ли жанры с высокими и низкими продажами?"
   ],
   "metadata": {
    "collapsed": false,
    "pycharm": {
     "name": "#%% md\n"
    }
   }
  },
  {
   "cell_type": "markdown",
   "source": [
    "###"
   ],
   "metadata": {
    "collapsed": false,
    "pycharm": {
     "name": "#%% md\n"
    }
   }
  },
  {
   "cell_type": "code",
   "execution_count": null,
   "outputs": [],
   "source": [],
   "metadata": {
    "collapsed": false,
    "pycharm": {
     "name": "#%%\n"
    }
   }
  },
  {
   "cell_type": "markdown",
   "metadata": {
    "pycharm": {
     "name": "#%% md\n"
    }
   },
   "source": [
    "<hr>"
   ]
  },
  {
   "cell_type": "markdown",
   "metadata": {
    "pycharm": {
     "name": "#%% md\n"
    }
   },
   "source": [
    "## Шаг 4. Составьте портрет пользователя каждого региона"
   ]
  },
  {
   "cell_type": "markdown",
   "metadata": {
    "pycharm": {
     "name": "#%% md\n"
    }
   },
   "source": []
  },
  {
   "cell_type": "markdown",
   "metadata": {
    "pycharm": {
     "name": "#%% md\n"
    }
   },
   "source": [
    "<hr>"
   ]
  },
  {
   "cell_type": "markdown",
   "metadata": {
    "pycharm": {
     "name": "#%% md\n"
    }
   },
   "source": [
    "## Шаг 5. Проверьте гипотезы"
   ]
  },
  {
   "cell_type": "markdown",
   "metadata": {
    "pycharm": {
     "name": "#%% md\n"
    }
   },
   "source": []
  },
  {
   "cell_type": "markdown",
   "metadata": {
    "pycharm": {
     "name": "#%% md\n"
    }
   },
   "source": [
    "<hr>"
   ]
  },
  {
   "cell_type": "markdown",
   "metadata": {
    "pycharm": {
     "name": "#%% md\n"
    }
   },
   "source": [
    "## Шаг 6. Напишите общий вывод"
   ]
  },
  {
   "cell_type": "markdown",
   "metadata": {
    "pycharm": {
     "name": "#%% md\n"
    }
   },
   "source": []
  },
  {
   "cell_type": "markdown",
   "metadata": {
    "pycharm": {
     "name": "#%% md\n"
    }
   },
   "source": []
  }
 ],
 "metadata": {
  "kernelspec": {
   "display_name": "Python 3 (ipykernel)",
   "language": "python",
   "name": "python3"
  },
  "language_info": {
   "codemirror_mode": {
    "name": "ipython",
    "version": 3
   },
   "file_extension": ".py",
   "mimetype": "text/x-python",
   "name": "python",
   "nbconvert_exporter": "python",
   "pygments_lexer": "ipython3",
   "version": "3.9.12"
  }
 },
 "nbformat": 4,
 "nbformat_minor": 4
}