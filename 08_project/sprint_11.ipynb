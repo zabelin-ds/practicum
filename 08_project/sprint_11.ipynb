{
 "cells": [
  {
   "cell_type": "markdown",
   "id": "cb70ec73-20ed-4f1e-819d-b7f7b64569ac",
   "metadata": {
    "tags": []
   },
   "source": [
    "# Учебный Проект → «ГлавРосГосНефть»"
   ]
  },
  {
   "cell_type": "markdown",
   "id": "8a960982-853b-46bf-b137-7bbce7d0884d",
   "metadata": {},
   "source": [
    "## Описание Проекта"
   ]
  },
  {
   "cell_type": "markdown",
   "id": "61872606-3a69-4707-8ee6-66f3a24c70a1",
   "metadata": {},
   "source": [
    "<div class=\"alert alert-info\" role=\"alert\">\n",
    "    <span style=\"font-size:0.7rem\">Student's note</span>\n",
    "    <p class=\"mb-0\">В коде использую <code>display()</code> намеренно, потомучто это однозначно даёт понять что планируется вывод / печать результатов. 👌</p>\n",
    "</div>"
   ]
  },
  {
   "cell_type": "markdown",
   "id": "fb5c57e7-d228-47ef-98db-3a70ed93b50d",
   "metadata": {},
   "source": [
    "Допустим, вы работаете в добывающей компании «ГлавРосГосНефть». Нужно решить, где бурить новую скважину.\n",
    "Шаги для выбора локации обычно такие:\n",
    "\n",
    "    В избранном регионе собирают характеристики для скважин: качество нефти и объём её запасов;\n",
    "    Строят модель для предсказания объёма запасов в новых скважинах;\n",
    "    Выбирают скважины с самыми высокими оценками значений;\n",
    "    Определяют регион с максимальной суммарной прибылью отобранных скважин.\n",
    "\n",
    "Вам предоставлены пробы нефти в трёх регионах. Характеристики для каждой скважины в регионе уже известны. Постройте модель для определения региона, где добыча принесёт наибольшую прибыль. Проанализируйте возможную прибыль и риски техникой Bootstrap."
   ]
  },
  {
   "cell_type": "markdown",
   "id": "ce01ff0e-0687-4be8-befc-6b8104b480c6",
   "metadata": {},
   "source": [
    "### Условия задачи"
   ]
  },
  {
   "cell_type": "markdown",
   "id": "723e8659-aaae-4751-bbaf-f06aa129a354",
   "metadata": {},
   "source": [
    "- Для обучения модели подходит только линейная регрессия (остальные — недостаточно предсказуемые).\n",
    "- При разведке региона исследуют 500 точек, из которых с помощью машинного обучения выбирают 200 лучших для разработки.\n",
    "- Бюджет на разработку скважин в регионе — 10 млрд рублей.\n",
    "- При нынешних ценах один баррель сырья приносит 450 рублей дохода. Доход с каждой единицы продукта составляет 450 тыс. рублей, поскольку объём указан в тысячах баррелей.\n",
    "- После оценки рисков нужно оставить лишь те регионы, в которых вероятность убытков меньше 2.5%. Среди них выбирают регион с наибольшей средней прибылью."
   ]
  },
  {
   "cell_type": "markdown",
   "id": "314d8d9a-ef5b-40a0-9524-ae63ae9bc44c",
   "metadata": {},
   "source": [
    "## Загрузите и подготовьте данные. Поясните порядок действий."
   ]
  },
  {
   "cell_type": "code",
   "execution_count": 1,
   "id": "89f4c595-b802-453e-92f9-8a94bba4967e",
   "metadata": {
    "collapsed": false,
    "jupyter": {
     "outputs_hidden": false
    }
   },
   "outputs": [],
   "source": [
    "import pandas as pd\n",
    "import sklearn\n",
    "import re\n",
    "import matplotlib as mpl\n",
    "import matplotlib.pyplot as plt\n",
    "import numpy as np\n",
    "\n",
    "from matplotlib import rcParams\n",
    "\n",
    "from sklearn.ensemble import RandomForestClassifier\n",
    "from sklearn.tree import DecisionTreeClassifier\n",
    "from sklearn.linear_model import LogisticRegression\n",
    "\n",
    "# from sklearn.tree import ExtraTreeClassifier\n",
    "# from sklearn.dummy import DummyClassifier\n",
    "# from sklearn.gaussian_process import GaussianProcessClassifier\n",
    "\n",
    "from sklearn.model_selection import train_test_split\n",
    "from sklearn.model_selection import StratifiedShuffleSplit\n",
    "from sklearn.model_selection import GridSearchCV\n",
    "from sklearn.model_selection import RandomizedSearchCV\n",
    "from sklearn.preprocessing import OrdinalEncoder\n",
    "from sklearn.preprocessing import StandardScaler\n",
    "from sklearn.metrics import f1_score\n",
    "from sklearn.metrics import roc_curve\n",
    "from sklearn.metrics import roc_auc_score"
   ]
  },
  {
   "cell_type": "code",
   "execution_count": 2,
   "id": "5038dd1d-929d-41e3-aa91-e62183005168",
   "metadata": {},
   "outputs": [],
   "source": [
    "%config InlineBackend.figure_formats = ['svg']"
   ]
  },
  {
   "cell_type": "code",
   "execution_count": 3,
   "id": "4e6b581b-04f4-4513-a381-ebf6c01f7290",
   "metadata": {},
   "outputs": [],
   "source": [
    "# style MATPLOTLIBRC\n",
    "custom_params = {\n",
    "                'figure.figsize': (10, 6),\n",
    "                'figure.facecolor': '#232425',\n",
    "                'figure.dpi': 240,\n",
    "\n",
    "                'legend.frameon': False,\n",
    "                'legend.borderpad': 1.4,\n",
    "                'legend.labelspacing': 0.7,\n",
    "                'legend.handlelength': 0.7,\n",
    "                'legend.handleheight': 0.7,\n",
    "\n",
    "                'axes.facecolor': '#232425',\n",
    "                'axes.labelcolor': '#EEEEEE',\n",
    "                'axes.labelpad': 17,\n",
    "                'axes.spines.left': False,\n",
    "                'axes.spines.bottom': False,\n",
    "                'axes.spines.right': False,\n",
    "                'axes.spines.top': False,\n",
    "                'axes.grid': False,\n",
    "\n",
    "                'contour.linewidth': 0.0,\n",
    "\n",
    "                'xtick.color': '#AAAAAA',\n",
    "                'ytick.color': '#AAAAAA',\n",
    "                'xtick.bottom': True,\n",
    "                'xtick.top': False,\n",
    "                'ytick.left': True,\n",
    "                'ytick.right': False,\n",
    "    \n",
    "                \"lines.color\": '#EEEEEE',\n",
    "\n",
    "                'text.color': '#EEEEEE',\n",
    "    \n",
    "                'font.family': 'sans-serif',\n",
    "                # 'font.sans-serif': [\n",
    "                #     'Helvetica',\n",
    "                #     'Verdana',\n",
    "                #     'Tahoma',\n",
    "                #     'Trebuchet MS',\n",
    "                #     'Arial',\n",
    "                #     'Chevin'\n",
    "                #     ]\n",
    "                }\n",
    "\n",
    "# rcParams.update(custom_params)"
   ]
  },
  {
   "cell_type": "code",
   "execution_count": 4,
   "id": "a9eaa36f-9b70-4709-a884-ed7e1ab6b61b",
   "metadata": {},
   "outputs": [],
   "source": [
    "random_seed = 108108108"
   ]
  },
  {
   "cell_type": "code",
   "execution_count": 7,
   "id": "a62aff41-55ab-44ef-86d9-b62c02f04340",
   "metadata": {
    "collapsed": false,
    "jupyter": {
     "outputs_hidden": false
    }
   },
   "outputs": [],
   "source": [
    "try:\n",
    "    geo_data_zero = pd.read_csv('./datasets/geo_data_0.csv')\n",
    "    geo_data_one = pd.read_csv('./datasets/geo_data_1.csv')\n",
    "    geo_data_two = pd.read_csv('./datasets/geo_data_2.csv')\n",
    "    \n",
    "except FileNotFoundError:\n",
    "    geo_data_zero = pd.read_csv(\n",
    "        'https://code.s3.yandex.net/datasets/geo_data_0.csv'\n",
    "    )\n",
    "    geo_data_one = pd.read_csv(\n",
    "        'https://code.s3.yandex.net/datasets/geo_data_1.csv'\n",
    "    )\n",
    "    geo_data_two = pd.read_csv(\n",
    "        'https://code.s3.yandex.net/datasets/geo_data_2.csv'\n",
    "    )\n",
    "    print('FYI datasets loaded via url')"
   ]
  },
  {
   "cell_type": "markdown",
   "id": "0c059ee9-0b8b-43b0-b315-6bf3012c761a",
   "metadata": {},
   "source": [
    "- `id` — уникальный идентификатор скважины\n",
    "- `f0`, `f1`, `f2` — три значимы признака точек\n",
    "- `product` — объём запасов в скважине, (тыс. баррелей)"
   ]
  },
  {
   "cell_type": "code",
   "execution_count": null,
   "id": "7f276e67-9e05-4812-9779-23fdf74aa8a5",
   "metadata": {
    "collapsed": false,
    "jupyter": {
     "outputs_hidden": false
    }
   },
   "outputs": [],
   "source": [
    "display(\n",
    "    geo_data_zero.info(),\n",
    "    geo_data_zero.head()\n",
    ")"
   ]
  },
  {
   "cell_type": "code",
   "execution_count": null,
   "id": "22a91f3a-b5f6-4858-8480-e0c297106d97",
   "metadata": {
    "collapsed": false,
    "jupyter": {
     "outputs_hidden": false
    }
   },
   "outputs": [],
   "source": [
    "display(\n",
    "    geo_data_one.info(),\n",
    "    geo_data_one.head()\n",
    ")"
   ]
  },
  {
   "cell_type": "code",
   "execution_count": null,
   "id": "bb3488bc-479c-4d63-a4a0-cd5329a2490e",
   "metadata": {
    "collapsed": false,
    "jupyter": {
     "outputs_hidden": false
    }
   },
   "outputs": [],
   "source": [
    "display(\n",
    "    geo_data_two.info(),\n",
    "    geo_data_two.head()\n",
    ")"
   ]
  },
  {
   "cell_type": "markdown",
   "id": "39ff47cd-8b73-425d-88de-20c87a94fdbf",
   "metadata": {},
   "source": [
    "Сделаем названия столбцов по+красоте -> `snake_case`"
   ]
  },
  {
   "cell_type": "code",
   "execution_count": 10,
   "id": "69241e55-476f-4522-adf1-5a30035eabbd",
   "metadata": {},
   "outputs": [],
   "source": [
    "customers_data.columns  = pd.Series(customers_data.columns).apply(\n",
    "    lambda c: re.sub(r'(?<!^)(?=[A-Z])', '_',  c ).lower()\n",
    ")"
   ]
  },
  {
   "cell_type": "markdown",
   "id": "e6a1e44e-08aa-4c57-8d05-50e8092264df",
   "metadata": {},
   "source": []
  },
  {
   "cell_type": "code",
   "execution_count": null,
   "id": "bf208f61-26d6-48fe-a96e-20ec6e2eb30b",
   "metadata": {},
   "outputs": [],
   "source": []
  },
  {
   "cell_type": "markdown",
   "id": "1e103c4c-5f97-4949-94c8-7eda16cf9a8c",
   "metadata": {},
   "source": [
    "<hr/>"
   ]
  },
  {
   "cell_type": "markdown",
   "id": "070db432-5a03-40a6-9dcd-5152c72ab339",
   "metadata": {},
   "source": [
    "## Обучите и проверьте модель для каждого региона"
   ]
  },
  {
   "cell_type": "markdown",
   "id": "4c6d4dfc-4f28-493c-80e5-488c9d45398c",
   "metadata": {},
   "source": []
  },
  {
   "cell_type": "code",
   "execution_count": null,
   "id": "97d80a01-bcf6-4352-81f1-f6cb3807950a",
   "metadata": {},
   "outputs": [],
   "source": []
  },
  {
   "cell_type": "markdown",
   "id": "40592a36-cdba-41df-b5c7-b0fac976020d",
   "metadata": {},
   "source": [
    "### Разбейте данные на обучающую и валидационную выборки в соотношении 75:25"
   ]
  },
  {
   "cell_type": "markdown",
   "id": "fe8b4a98-0384-404a-aac3-57e9928981db",
   "metadata": {},
   "source": []
  },
  {
   "cell_type": "code",
   "execution_count": null,
   "id": "f99db573-4fc6-46db-b3f6-4cf0a828d2d1",
   "metadata": {},
   "outputs": [],
   "source": []
  },
  {
   "cell_type": "markdown",
   "id": "873f7948-2432-4632-9790-b78af7acfd9c",
   "metadata": {},
   "source": [
    "### Обучите модель и сделайте предсказания на валидационной выборке"
   ]
  },
  {
   "cell_type": "markdown",
   "id": "238bb09a-b79e-4aa6-aca2-34af783700b9",
   "metadata": {},
   "source": []
  },
  {
   "cell_type": "code",
   "execution_count": null,
   "id": "b2501d74-69f3-4a31-a890-f22ff5e8f3f3",
   "metadata": {},
   "outputs": [],
   "source": []
  },
  {
   "cell_type": "markdown",
   "id": "7e8ba03e-cb39-46fa-87cb-0c9127fc48ad",
   "metadata": {},
   "source": [
    "### Сохраните предсказания и правильные ответы на валидационной выборке"
   ]
  },
  {
   "cell_type": "markdown",
   "id": "e18b36a4-49ba-4ce6-bcc9-ceeed4d289a8",
   "metadata": {},
   "source": []
  },
  {
   "cell_type": "code",
   "execution_count": null,
   "id": "0e9fb50f-7917-4055-9784-6250d3ef1631",
   "metadata": {},
   "outputs": [],
   "source": []
  },
  {
   "cell_type": "markdown",
   "id": "7ea594e2-2f40-4805-b94c-a33d0b6c9708",
   "metadata": {},
   "source": [
    "### Напечатайте на экране средний запас предсказанного сырья и RMSE модели"
   ]
  },
  {
   "cell_type": "markdown",
   "id": "a0167fb7-6e7e-4021-968d-070100f98370",
   "metadata": {},
   "source": []
  },
  {
   "cell_type": "code",
   "execution_count": null,
   "id": "9e9ee82e-602e-4e6c-a31a-5de7986e94e9",
   "metadata": {},
   "outputs": [],
   "source": []
  },
  {
   "cell_type": "markdown",
   "id": "7e98a738-a7bd-46a7-be85-0ed9500520a3",
   "metadata": {},
   "source": [
    "### Проанализируйте результаты"
   ]
  },
  {
   "cell_type": "markdown",
   "id": "b1dafdb1-274c-49dc-a5c4-502ed6c1c7de",
   "metadata": {},
   "source": []
  },
  {
   "cell_type": "code",
   "execution_count": null,
   "id": "9ff47d57-0e17-4256-84f3-aa2bdf673a1b",
   "metadata": {},
   "outputs": [],
   "source": []
  },
  {
   "cell_type": "markdown",
   "id": "946b4168-da46-49f1-9df4-e8fb1044182f",
   "metadata": {},
   "source": [
    "<hr/>"
   ]
  },
  {
   "cell_type": "markdown",
   "id": "1be3ae96-52cb-4061-8c4d-99e6e2b076ee",
   "metadata": {},
   "source": [
    "## Подготовьтесь к расчёту прибыли"
   ]
  },
  {
   "cell_type": "markdown",
   "id": "3dc7eedb-ad2e-47df-9a45-4ee20e494b82",
   "metadata": {},
   "source": []
  },
  {
   "cell_type": "code",
   "execution_count": null,
   "id": "e1ae541f-8ad4-4867-8a50-306806922247",
   "metadata": {},
   "outputs": [],
   "source": []
  },
  {
   "cell_type": "markdown",
   "id": "d87532c1-f8a8-4398-9c88-c5472f653024",
   "metadata": {},
   "source": [
    "### Все ключевые значения для расчётов сохраните в отдельных переменных"
   ]
  },
  {
   "cell_type": "markdown",
   "id": "b9f15e06-f467-4829-a1ef-2c5ffd829ee3",
   "metadata": {},
   "source": []
  },
  {
   "cell_type": "code",
   "execution_count": null,
   "id": "6040532b-b0b7-4fc8-a700-aee0fefe6dbc",
   "metadata": {},
   "outputs": [],
   "source": []
  },
  {
   "cell_type": "markdown",
   "id": "17ccd4c0-f7e1-43a3-898c-162ed8bb493c",
   "metadata": {},
   "source": [
    "### Рассчитайте достаточный объём сырья для безубыточной разработки новой скважины"
   ]
  },
  {
   "cell_type": "markdown",
   "id": "a09843e8-8639-4da4-9aab-97de7393ff48",
   "metadata": {},
   "source": []
  },
  {
   "cell_type": "code",
   "execution_count": null,
   "id": "d4966d22-2ffe-4f39-b2c5-8bd2180ceac0",
   "metadata": {},
   "outputs": [],
   "source": []
  },
  {
   "cell_type": "markdown",
   "id": "fc6a78a3-3ad5-4b9d-8c02-b7312bb12c8d",
   "metadata": {},
   "source": [
    "### Сравните полученный объём сырья со средним запасом в каждом регионе"
   ]
  },
  {
   "cell_type": "markdown",
   "id": "9ee15dd8-c5a5-4553-9cbb-51f22d2bf024",
   "metadata": {},
   "source": []
  },
  {
   "cell_type": "code",
   "execution_count": null,
   "id": "8254044b-c451-402f-8423-0ded2e665bcc",
   "metadata": {},
   "outputs": [],
   "source": []
  },
  {
   "cell_type": "markdown",
   "id": "5414ebc9-dcfd-49ee-9fae-a6aa2e30db38",
   "metadata": {},
   "source": [
    "### Напишите выводы по этапу подготовки расчёта прибыли"
   ]
  },
  {
   "cell_type": "markdown",
   "id": "11f7a1c8-e40d-47bd-9d78-1a5647b23bb9",
   "metadata": {},
   "source": []
  },
  {
   "cell_type": "code",
   "execution_count": null,
   "id": "783627a0-90db-44b2-9dfc-ccae99a42597",
   "metadata": {},
   "outputs": [],
   "source": []
  },
  {
   "cell_type": "markdown",
   "id": "de8174b4-46e4-4701-b229-d0163ebf3c60",
   "metadata": {},
   "source": [
    "### "
   ]
  },
  {
   "cell_type": "markdown",
   "id": "60522876-0072-4141-be19-d44d4fc2ec3c",
   "metadata": {},
   "source": [
    "<hr/>"
   ]
  },
  {
   "cell_type": "markdown",
   "id": "d8572d14-0a3b-48cd-8a27-c2ea457095d0",
   "metadata": {},
   "source": [
    "## Напишите функцию для расчёта прибыли по выбранным скважинам и предсказаниям модели"
   ]
  },
  {
   "cell_type": "markdown",
   "id": "1e2f43ef-1aa8-4364-bf7b-1a821563cfb2",
   "metadata": {},
   "source": []
  },
  {
   "cell_type": "code",
   "execution_count": null,
   "id": "a2eb6f11-96d3-481c-97e0-43f7a55f5e00",
   "metadata": {},
   "outputs": [],
   "source": []
  },
  {
   "cell_type": "markdown",
   "id": "1e5c4863-4749-43ba-9b6a-67a453732970",
   "metadata": {},
   "source": [
    "### Выберите скважины с максимальными значениями предсказаний"
   ]
  },
  {
   "cell_type": "markdown",
   "id": "d778862d-fbd7-4b42-9596-b6c411eba0c9",
   "metadata": {},
   "source": []
  },
  {
   "cell_type": "code",
   "execution_count": null,
   "id": "71042996-8bb2-4a98-9933-64483f472a7c",
   "metadata": {},
   "outputs": [],
   "source": []
  },
  {
   "cell_type": "markdown",
   "id": "5a748e5f-e712-4ed9-9d0e-6e7320b93a6b",
   "metadata": {},
   "source": [
    "### Просуммируйте целевое значение объёма сырья, соответствующее этим предсказаниям"
   ]
  },
  {
   "cell_type": "markdown",
   "id": "5b23b487-241b-42d1-a891-0074c7574e36",
   "metadata": {},
   "source": []
  },
  {
   "cell_type": "code",
   "execution_count": null,
   "id": "a316b718-5d0b-421a-8092-7fdfe074021d",
   "metadata": {},
   "outputs": [],
   "source": []
  },
  {
   "cell_type": "markdown",
   "id": "48caf612-6e1c-4f0b-af63-cd03fc03f15d",
   "metadata": {},
   "source": [
    "### Рассчитайте прибыль для полученного объёма сырья"
   ]
  },
  {
   "cell_type": "markdown",
   "id": "ed2f242b-2172-40f9-8669-bc3c38eb14e5",
   "metadata": {},
   "source": []
  },
  {
   "cell_type": "code",
   "execution_count": null,
   "id": "478df9d1-729b-4f55-9409-6c6393e82434",
   "metadata": {},
   "outputs": [],
   "source": []
  },
  {
   "cell_type": "markdown",
   "id": "627821fc-daee-44fd-a3e8-4baed637ae6a",
   "metadata": {},
   "source": [
    "### "
   ]
  },
  {
   "cell_type": "markdown",
   "id": "ca71955d-ebfd-4e57-a2c5-ddcf8c1c5e4b",
   "metadata": {},
   "source": [
    "### "
   ]
  },
  {
   "cell_type": "markdown",
   "id": "f97c5540-3585-4c7d-8eb8-a9c4dfd4d318",
   "metadata": {},
   "source": [
    "<hr/>"
   ]
  },
  {
   "cell_type": "markdown",
   "id": "364de078-ba80-4545-a81c-bd51db32bcfe",
   "metadata": {},
   "source": [
    "## Посчитайте риски и прибыль для каждого региона"
   ]
  },
  {
   "cell_type": "markdown",
   "id": "96eccfa6-6aea-4ccb-9330-790c07561fb4",
   "metadata": {},
   "source": []
  },
  {
   "cell_type": "code",
   "execution_count": null,
   "id": "c68e823d-ff02-4819-91f1-7d52196d1ac0",
   "metadata": {},
   "outputs": [],
   "source": []
  },
  {
   "cell_type": "markdown",
   "id": "56101c39-2ef9-4827-a930-6f7476e640b7",
   "metadata": {},
   "source": [
    "### Примените технику Bootstrap с 1000 выборок, чтобы найти распределение прибыли"
   ]
  },
  {
   "cell_type": "markdown",
   "id": "00754720-0e3d-4649-ac0b-f6f2856d4d78",
   "metadata": {},
   "source": []
  },
  {
   "cell_type": "code",
   "execution_count": null,
   "id": "a2a536f0-395b-407a-9ea2-24e1f03f7f98",
   "metadata": {},
   "outputs": [],
   "source": []
  },
  {
   "cell_type": "markdown",
   "id": "b74ef1da-a8c6-464a-b5e3-8c21a22494ff",
   "metadata": {},
   "source": [
    "### Найдите среднюю прибыль, 95%-й доверительный интервал и риск убытков"
   ]
  },
  {
   "cell_type": "markdown",
   "id": "65ac39b3-25d9-421d-a32b-ff56552bf64c",
   "metadata": {},
   "source": [
    "#### Убыток — это отрицательная прибыль "
   ]
  },
  {
   "cell_type": "markdown",
   "id": "f7f0fb1c-3efa-4b8c-a021-f27e74ae71d8",
   "metadata": {},
   "source": []
  },
  {
   "cell_type": "code",
   "execution_count": null,
   "id": "81d477b6-d139-41c1-a373-15a8af3bedb2",
   "metadata": {},
   "outputs": [],
   "source": []
  },
  {
   "cell_type": "markdown",
   "id": "0cb339c8-1009-4bc9-9684-3e706e9ab45f",
   "metadata": {},
   "source": [
    "### Напишите выводы: предложите регион для разработки скважин и обоснуйте выбор"
   ]
  },
  {
   "cell_type": "markdown",
   "id": "518bb4db-2813-4a38-a383-a85a622feb63",
   "metadata": {},
   "source": []
  },
  {
   "cell_type": "code",
   "execution_count": null,
   "id": "1c8ccb41-40af-4d3c-a70b-33d11b2ac3f5",
   "metadata": {},
   "outputs": [],
   "source": []
  },
  {
   "cell_type": "markdown",
   "id": "53292898-7114-4193-be3d-aeff735b1b5a",
   "metadata": {},
   "source": [
    "### "
   ]
  },
  {
   "cell_type": "markdown",
   "id": "3b809b87-9c5f-4110-9856-6dc0954111fc",
   "metadata": {},
   "source": [
    "<hr/>"
   ]
  },
  {
   "cell_type": "markdown",
   "id": "9203452c-b67b-47ac-888b-541cb312df3a",
   "metadata": {},
   "source": [
    "## "
   ]
  },
  {
   "cell_type": "markdown",
   "id": "4e3c3047-3e47-41b8-8752-549d050b7276",
   "metadata": {},
   "source": [
    "## Как будут проверять мой проект?"
   ]
  },
  {
   "cell_type": "markdown",
   "id": "0de67649-5040-4cb0-b33f-e0907789e303",
   "metadata": {},
   "source": [
    "- Как вы готовите данные к обучению?\n",
    "- Выполнили все шаги по инструкции?\n",
    "- Все ли условия бизнеса учтены?\n",
    "- Какие выводы об исследовании задачи делаете?\n",
    "- Корректно ли выполнена процедура Bootstrap?\n",
    "- Предложен ли регион для разработки скважин? Обоснован ли выбор?\n",
    "- Не дублируете ли код?\n",
    "- Следите ли за структурой проекта и поддерживаете ли аккуратность кода?"
   ]
  }
 ],
 "metadata": {
  "kernelspec": {
   "display_name": "Python 3 (ipykernel)",
   "language": "python",
   "name": "python3"
  },
  "language_info": {
   "codemirror_mode": {
    "name": "ipython",
    "version": 3
   },
   "file_extension": ".py",
   "mimetype": "text/x-python",
   "name": "python",
   "nbconvert_exporter": "python",
   "pygments_lexer": "ipython3",
   "version": "3.10.6"
  }
 },
 "nbformat": 4,
 "nbformat_minor": 5
}
