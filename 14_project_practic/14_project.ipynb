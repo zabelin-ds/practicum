{
 "cells": [
  {
   "cell_type": "markdown",
   "id": "fda86688-6dc3-46a6-8e29-270453273f3d",
   "metadata": {},
   "source": [
    "# Анализ Модели"
   ]
  },
  {
   "cell_type": "markdown",
   "id": "ddc1a6b7-900b-4327-a1bb-a94b4b519136",
   "metadata": {},
   "source": [
    "## Исследовательский анализ данных"
   ]
  },
  {
   "cell_type": "code",
   "execution_count": null,
   "id": "696c65e3-dfaa-462b-89f1-500591f82cf8",
   "metadata": {},
   "outputs": [],
   "source": [
    "import pandas as pd\n",
    "import matplotlib as mpl\n",
    "import numpy as np\n",
    "from tensorflow.keras.preprocessing.image import ImageDataGenerator\n",
    "import matplotlib.pyplot as plt\n",
    "from PIL import Image"
   ]
  },
  {
   "cell_type": "code",
   "execution_count": null,
   "id": "0dea1d12-078c-42bd-9a9c-905a469f324a",
   "metadata": {},
   "outputs": [],
   "source": [
    "PATH_TO = '/datasets/faces/'\n",
    "PATH_TO_CSV = PATH_TO + 'labels.csv'\n",
    "PATH_TO_IMG = PATH_TO + 'final_files'"
   ]
  },
  {
   "cell_type": "code",
   "execution_count": null,
   "id": "7422e07f-500c-4dae-867f-580a98313ff4",
   "metadata": {},
   "outputs": [],
   "source": [
    "labels_df = pd.read_csv(PATH_TO_CSV)\n",
    "display(labels_df.head())"
   ]
  },
  {
   "cell_type": "code",
   "execution_count": null,
   "id": "82ffcc52-633f-40ae-8947-212147944c49",
   "metadata": {},
   "outputs": [],
   "source": [
    "display(\n",
    "    labels_df['real_age'].describe()\n",
    ")"
   ]
  },
  {
   "cell_type": "code",
   "execution_count": null,
   "id": "1143db61-066b-49a2-9d98-25916eb44367",
   "metadata": {},
   "outputs": [],
   "source": [
    " labels_df['real_age'].hist(\n",
    "     bins=len(labels_df['real_age'].unique())\n",
    " )"
   ]
  },
  {
   "cell_type": "code",
   "execution_count": null,
   "id": "83f7b48a-8f20-49cc-be12-bc7c56211ea1",
   "metadata": {},
   "outputs": [],
   "source": [
    "# выводим 16 изображений\n",
    "fig = plt.figure(figsize=(10,10))\n",
    "i=0\n",
    "for name in labels_df['file_name'].sample(16):\n",
    "    i += 1\n",
    "    fig.add_subplot(4, 4, i)\n",
    "    \n",
    "    img = Image.open(PATH_TO_IMG + '/' + name)\n",
    "    plt.imshow(np.array(img))\n",
    "\n",
    "    plt.xticks([])\n",
    "    plt.yticks([])\n",
    "    plt.tight_layout()"
   ]
  },
  {
   "cell_type": "markdown",
   "id": "e1d7eea4-fa97-46c5-9927-f1c73d83cf8b",
   "metadata": {},
   "source": [
    "## Код"
   ]
  },
  {
   "cell_type": "markdown",
   "id": "eb51451d-7341-4866-aaab-a31a9200dfaa",
   "metadata": {},
   "source": [
    "## Вывод Модели Из GPU"
   ]
  },
  {
   "cell_type": "markdown",
   "id": "b3dc521e-52a7-4bce-ad2e-2f5235988cd7",
   "metadata": {},
   "source": [
    "## Анализ Обучения Модели"
   ]
  }
 ],
 "metadata": {
  "kernelspec": {
   "display_name": "Python 3 (ipykernel)",
   "language": "python",
   "name": "python3"
  },
  "language_info": {
   "codemirror_mode": {
    "name": "ipython",
    "version": 3
   },
   "file_extension": ".py",
   "mimetype": "text/x-python",
   "name": "python",
   "nbconvert_exporter": "python",
   "pygments_lexer": "ipython3",
   "version": "3.10.6"
  }
 },
 "nbformat": 4,
 "nbformat_minor": 5
}
