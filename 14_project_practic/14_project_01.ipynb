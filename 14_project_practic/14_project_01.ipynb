{
 "cells": [
  {
   "cell_type": "markdown",
   "id": "1bb85309",
   "metadata": {},
   "source": [
    "<div style=\"border:solid Chocolate 2px; padding: 40px\">\n",
    "\n",
    "Привет, меня зовут Александр Куимов. Я буду ревьюером твоего проекта. Ты можешь обращаться ко мне на \"ты\"😏 Надеюсь, тебя также не смутит, если я буду обращаться к тебе на \"ты\", но если это неудобно, обязательно скажи об этом!\n",
    "\n",
    "Пожалуйста, не удаляй мои комментарии, они будут особенно полезны для нашей работы в случае повторной проверки проекта. \n",
    "\n",
    "Ты также можешь реагировать на мои комментарии своими по шаблону, показанному чуть ниже. Это нужно, чтобы не создавалась путаница😉\n",
    "\n",
    "Ты можешь найти мои комментарии, обозначенные <font color='green'>зеленым</font>, <font color='gold'>желтым</font> и <font color='red'>красным</font> цветами, например:\n",
    "\n",
    "<br/>\n",
    "\n",
    "<div class=\"alert alert-success\">\n",
    "<h2> Комментарий ревьюера <a class=\"tocSkip\"> </h2>\n",
    "\n",
    "<b>Все отлично!👍:</b> В случае, если решение на отдельном шаге является полностью правильным.\n",
    "</div>\n",
    "\n",
    "<br/>\n",
    "\n",
    "<div class=\"alert alert-warning\">\n",
    "    <h2> Комментарий ревьюера <a class=\"tocSkip\"> </h2>\n",
    "    \n",
    "<b>Некоторые замечания и рекомендации💡:</b> В случае, когда решение на отдельном шаге станет еще лучше, если внести небольшие коррективы.\n",
    "</div>\n",
    "\n",
    "\n",
    "<br/>\n",
    "<div class=\"alert alert-block alert-danger\">\n",
    "<h2> Комментарий ревьюера <a class=\"tocSkip\"></h2>\n",
    "\n",
    "    \n",
    "<b>На доработку🤔:</b>\n",
    " В случае, когда решение на отдельном шаге требует существенной переработки и внесения правок. Напоминаю, что проект не может быть принят с первого раза, если ревью содержит комментарии, рекомендующие доработать шаги.\n",
    "</div>\n",
    "    \n",
    "    \n",
    "<br/>    \n",
    "<div class=\"alert alert-info\">\n",
    "<h2> Комментарий студента: <a class=\"tocSkip\"> </h2>\n",
    "\n",
    "<b>👋:</b> В такой цветовой ячейке я прошу тебя оставлять свои комментарии. Если исправляешь проект на второй итерации и выше, не забывай пожалуйста указывать номер итерации, например, \"Комментарий студента v.2\".\n",
    "</div> \n",
    "\n",
    "<br/>    \n",
    "    \n",
    "Увидев у тебя неточность, в первый раз я лишь укажу на ее наличие и дам тебе возможность самому найти и исправить ее. На реальной работе твой руководитель будет поступать также, и я пытаюсь подготовить тебя именно к работе датасаентистом. Но если ты пока не справишься с такой задачей - при следующей проверке я дам более точную подсказку!🤓"
   ]
  },
  {
   "cell_type": "markdown",
   "id": "fda86688-6dc3-46a6-8e29-270453273f3d",
   "metadata": {},
   "source": [
    "# Анализ Модели"
   ]
  },
  {
   "cell_type": "markdown",
   "id": "ddc1a6b7-900b-4327-a1bb-a94b4b519136",
   "metadata": {},
   "source": [
    "## Исследовательский анализ данных"
   ]
  },
  {
   "cell_type": "code",
   "execution_count": 3,
   "id": "696c65e3-dfaa-462b-89f1-500591f82cf8",
   "metadata": {
    "tags": []
   },
   "outputs": [],
   "source": [
    "import os\n",
    "import pandas as pd\n",
    "import matplotlib as mpl\n",
    "import numpy as np\n",
    "import matplotlib.pyplot as plt\n",
    "from PIL import Image\n",
    "from matplotlib import rcParams"
   ]
  },
  {
   "cell_type": "code",
   "execution_count": 8,
   "id": "d387190c-c378-4b1a-8bf8-6a4ffb550d7c",
   "metadata": {
    "tags": []
   },
   "outputs": [],
   "source": [
    "cl = os.path.isfile('/datasets/faces/labels.csv')\n",
    "# try:\n",
    "#     cl = os.path.isfile('/datasets/faces/labels.csv')\n",
    "#     print('in cloud', cl)\n",
    "# except FileNotFoundError:\n",
    "#     lo = os.path.isfile('./datasets/labels.csv')\n",
    "#     print('local', lo)\n",
    "    "
   ]
  },
  {
   "cell_type": "code",
   "execution_count": 9,
   "id": "74051ea9-879f-4518-b47f-b03fd225cbfd",
   "metadata": {
    "tags": []
   },
   "outputs": [
    {
     "name": "stdout",
     "output_type": "stream",
     "text": [
      "in cloud False\n"
     ]
    }
   ],
   "source": [
    "print('in cloud', cl)"
   ]
  },
  {
   "cell_type": "code",
   "execution_count": 2,
   "id": "15da9da1-8686-4359-9df2-9d41d2374789",
   "metadata": {
    "tags": []
   },
   "outputs": [
    {
     "name": "stdout",
     "output_type": "stream",
     "text": [
      "/bin/bash: kaggle: command not found\n"
     ]
    }
   ],
   "source": [
    "!kaggle datasets download -d abhikjha/appa-real-face-cropped"
   ]
  },
  {
   "cell_type": "code",
   "execution_count": 3,
   "id": "a127cb30-71d9-4a1f-8298-1f94c6640311",
   "metadata": {
    "collapsed": true,
    "jupyter": {
     "outputs_hidden": true
    },
    "tags": []
   },
   "outputs": [
    {
     "name": "stdout",
     "output_type": "stream",
     "text": [
      "/bin/bash: unzip: command not found\n"
     ]
    }
   ],
   "source": [
    "!unzip appa-real-face-cropped.zip -d datasets"
   ]
  },
  {
   "cell_type": "code",
   "execution_count": 4,
   "id": "d82c4e9a-2628-4fd9-be4c-5c0f0cc4e73e",
   "metadata": {
    "tags": []
   },
   "outputs": [],
   "source": [
    "%config InlineBackend.figure_formats = ['svg']"
   ]
  },
  {
   "cell_type": "code",
   "execution_count": 5,
   "id": "c61f4f14-f9f0-4c8c-b8a1-b38d9037eedf",
   "metadata": {
    "tags": []
   },
   "outputs": [],
   "source": [
    "# style MATPLOTLIBRC\n",
    "custom_params = {\n",
    "                'figure.figsize': (10, 6),\n",
    "                'figure.facecolor': '#232425',\n",
    "                'figure.dpi': 240,\n",
    "\n",
    "                'legend.frameon': False,\n",
    "                'legend.borderpad': 1.4,\n",
    "                'legend.labelspacing': 0.7,\n",
    "                'legend.handlelength': 0.7,\n",
    "                'legend.handleheight': 0.7,\n",
    "\n",
    "                'axes.facecolor': '#232425',\n",
    "                'axes.labelcolor': '#EEEEEE',\n",
    "                'axes.labelpad': 17,\n",
    "                'axes.spines.left': False,\n",
    "                'axes.spines.bottom': False,\n",
    "                'axes.spines.right': False,\n",
    "                'axes.spines.top': False,\n",
    "                'axes.grid': False,\n",
    "\n",
    "                'contour.linewidth': 0.0,\n",
    "\n",
    "                'xtick.color': '#AAAAAA',\n",
    "                'ytick.color': '#AAAAAA',\n",
    "                'xtick.bottom': True,\n",
    "                'xtick.top': False,\n",
    "                'ytick.left': True,\n",
    "                'ytick.right': False,\n",
    "    \n",
    "                \"lines.color\": '#EEEEEE',\n",
    "\n",
    "                'text.color': '#EEEEEE',\n",
    "    \n",
    "                'font.family': 'sans-serif',\n",
    "            }"
   ]
  },
  {
   "cell_type": "code",
   "execution_count": 6,
   "id": "0dea1d12-078c-42bd-9a9c-905a469f324a",
   "metadata": {
    "tags": []
   },
   "outputs": [],
   "source": [
    "PATH_TO = './datasets/'\n",
    "PATH_TO_CSV = PATH_TO + 'labels.csv'\n",
    "PATH_TO_IMG = PATH_TO + 'final_files/final_files'\n",
    "dpi_k = custom_params['figure.dpi'] / rcParams['figure.dpi']\n",
    "px = 1/custom_params['figure.dpi']"
   ]
  },
  {
   "cell_type": "code",
   "execution_count": 7,
   "id": "2f9eebc0-6906-4216-8bf1-6dcf2546264b",
   "metadata": {
    "tags": []
   },
   "outputs": [],
   "source": [
    "def to_px(size_px):\n",
    "    px_density = int(\n",
    "        round(\n",
    "            size_px * px * dpi_k\n",
    "        )\n",
    "    )\n",
    "    return px_density"
   ]
  },
  {
   "cell_type": "code",
   "execution_count": 8,
   "id": "fa4740a5-31a0-4507-bf0b-fbd642c8d1ce",
   "metadata": {
    "tags": []
   },
   "outputs": [],
   "source": [
    "def plot_hist(data, title='Histogram', custom_params=custom_params):\n",
    "    with mpl.rc_context(custom_params):\n",
    "        plt.hist(\n",
    "            data,\n",
    "            bins=100 #len(data.unique())\n",
    "        )\n",
    "        plt.show()"
   ]
  },
  {
   "cell_type": "code",
   "execution_count": 9,
   "id": "c16b47c2-c9dc-421c-9c33-8d448aea26f2",
   "metadata": {
    "tags": []
   },
   "outputs": [],
   "source": [
    "def plot_16_img(file_names_to_plot):\n",
    "    fig = plt.figure(\n",
    "            figsize=(to_px(560), to_px(560)),\n",
    "            tight_layout=True,\n",
    "        )\n",
    "    i=0\n",
    "    for name in file_names_to_plot:\n",
    "        i += 1\n",
    "        fig.add_subplot(4, 4, i)\n",
    "\n",
    "        img = Image.open(PATH_TO_IMG + '/' + name)\n",
    "        plt.imshow(np.array(img))\n",
    "\n",
    "        plt.xticks([])\n",
    "        plt.yticks([])\n",
    "#         plt.tight_layout()"
   ]
  },
  {
   "cell_type": "code",
   "execution_count": 10,
   "id": "7422e07f-500c-4dae-867f-580a98313ff4",
   "metadata": {
    "tags": []
   },
   "outputs": [
    {
     "ename": "FileNotFoundError",
     "evalue": "[Errno 2] No such file or directory: './datasets/labels.csv'",
     "output_type": "error",
     "traceback": [
      "\u001b[0;31m---------------------------------------------------------------------------\u001b[0m",
      "\u001b[0;31mFileNotFoundError\u001b[0m                         Traceback (most recent call last)",
      "\u001b[0;32m/tmp/ipykernel_229/133044086.py\u001b[0m in \u001b[0;36m<module>\u001b[0;34m\u001b[0m\n\u001b[0;32m----> 1\u001b[0;31m \u001b[0mlabels_df\u001b[0m \u001b[0;34m=\u001b[0m \u001b[0mpd\u001b[0m\u001b[0;34m.\u001b[0m\u001b[0mread_csv\u001b[0m\u001b[0;34m(\u001b[0m\u001b[0mPATH_TO_CSV\u001b[0m\u001b[0;34m)\u001b[0m\u001b[0;34m\u001b[0m\u001b[0;34m\u001b[0m\u001b[0m\n\u001b[0m\u001b[1;32m      2\u001b[0m \u001b[0mdisplay\u001b[0m\u001b[0;34m(\u001b[0m\u001b[0mlabels_df\u001b[0m\u001b[0;34m.\u001b[0m\u001b[0mhead\u001b[0m\u001b[0;34m(\u001b[0m\u001b[0;34m)\u001b[0m\u001b[0;34m)\u001b[0m\u001b[0;34m\u001b[0m\u001b[0;34m\u001b[0m\u001b[0m\n",
      "\u001b[0;32m/opt/conda/lib/python3.9/site-packages/pandas/io/parsers.py\u001b[0m in \u001b[0;36mread_csv\u001b[0;34m(filepath_or_buffer, sep, delimiter, header, names, index_col, usecols, squeeze, prefix, mangle_dupe_cols, dtype, engine, converters, true_values, false_values, skipinitialspace, skiprows, skipfooter, nrows, na_values, keep_default_na, na_filter, verbose, skip_blank_lines, parse_dates, infer_datetime_format, keep_date_col, date_parser, dayfirst, cache_dates, iterator, chunksize, compression, thousands, decimal, lineterminator, quotechar, quoting, doublequote, escapechar, comment, encoding, dialect, error_bad_lines, warn_bad_lines, delim_whitespace, low_memory, memory_map, float_precision, storage_options)\u001b[0m\n\u001b[1;32m    608\u001b[0m     \u001b[0mkwds\u001b[0m\u001b[0;34m.\u001b[0m\u001b[0mupdate\u001b[0m\u001b[0;34m(\u001b[0m\u001b[0mkwds_defaults\u001b[0m\u001b[0;34m)\u001b[0m\u001b[0;34m\u001b[0m\u001b[0;34m\u001b[0m\u001b[0m\n\u001b[1;32m    609\u001b[0m \u001b[0;34m\u001b[0m\u001b[0m\n\u001b[0;32m--> 610\u001b[0;31m     \u001b[0;32mreturn\u001b[0m \u001b[0m_read\u001b[0m\u001b[0;34m(\u001b[0m\u001b[0mfilepath_or_buffer\u001b[0m\u001b[0;34m,\u001b[0m \u001b[0mkwds\u001b[0m\u001b[0;34m)\u001b[0m\u001b[0;34m\u001b[0m\u001b[0;34m\u001b[0m\u001b[0m\n\u001b[0m\u001b[1;32m    611\u001b[0m \u001b[0;34m\u001b[0m\u001b[0m\n\u001b[1;32m    612\u001b[0m \u001b[0;34m\u001b[0m\u001b[0m\n",
      "\u001b[0;32m/opt/conda/lib/python3.9/site-packages/pandas/io/parsers.py\u001b[0m in \u001b[0;36m_read\u001b[0;34m(filepath_or_buffer, kwds)\u001b[0m\n\u001b[1;32m    460\u001b[0m \u001b[0;34m\u001b[0m\u001b[0m\n\u001b[1;32m    461\u001b[0m     \u001b[0;31m# Create the parser.\u001b[0m\u001b[0;34m\u001b[0m\u001b[0;34m\u001b[0m\u001b[0;34m\u001b[0m\u001b[0m\n\u001b[0;32m--> 462\u001b[0;31m     \u001b[0mparser\u001b[0m \u001b[0;34m=\u001b[0m \u001b[0mTextFileReader\u001b[0m\u001b[0;34m(\u001b[0m\u001b[0mfilepath_or_buffer\u001b[0m\u001b[0;34m,\u001b[0m \u001b[0;34m**\u001b[0m\u001b[0mkwds\u001b[0m\u001b[0;34m)\u001b[0m\u001b[0;34m\u001b[0m\u001b[0;34m\u001b[0m\u001b[0m\n\u001b[0m\u001b[1;32m    463\u001b[0m \u001b[0;34m\u001b[0m\u001b[0m\n\u001b[1;32m    464\u001b[0m     \u001b[0;32mif\u001b[0m \u001b[0mchunksize\u001b[0m \u001b[0;32mor\u001b[0m \u001b[0miterator\u001b[0m\u001b[0;34m:\u001b[0m\u001b[0;34m\u001b[0m\u001b[0;34m\u001b[0m\u001b[0m\n",
      "\u001b[0;32m/opt/conda/lib/python3.9/site-packages/pandas/io/parsers.py\u001b[0m in \u001b[0;36m__init__\u001b[0;34m(self, f, engine, **kwds)\u001b[0m\n\u001b[1;32m    817\u001b[0m             \u001b[0mself\u001b[0m\u001b[0;34m.\u001b[0m\u001b[0moptions\u001b[0m\u001b[0;34m[\u001b[0m\u001b[0;34m\"has_index_names\"\u001b[0m\u001b[0;34m]\u001b[0m \u001b[0;34m=\u001b[0m \u001b[0mkwds\u001b[0m\u001b[0;34m[\u001b[0m\u001b[0;34m\"has_index_names\"\u001b[0m\u001b[0;34m]\u001b[0m\u001b[0;34m\u001b[0m\u001b[0;34m\u001b[0m\u001b[0m\n\u001b[1;32m    818\u001b[0m \u001b[0;34m\u001b[0m\u001b[0m\n\u001b[0;32m--> 819\u001b[0;31m         \u001b[0mself\u001b[0m\u001b[0;34m.\u001b[0m\u001b[0m_engine\u001b[0m \u001b[0;34m=\u001b[0m \u001b[0mself\u001b[0m\u001b[0;34m.\u001b[0m\u001b[0m_make_engine\u001b[0m\u001b[0;34m(\u001b[0m\u001b[0mself\u001b[0m\u001b[0;34m.\u001b[0m\u001b[0mengine\u001b[0m\u001b[0;34m)\u001b[0m\u001b[0;34m\u001b[0m\u001b[0;34m\u001b[0m\u001b[0m\n\u001b[0m\u001b[1;32m    820\u001b[0m \u001b[0;34m\u001b[0m\u001b[0m\n\u001b[1;32m    821\u001b[0m     \u001b[0;32mdef\u001b[0m \u001b[0mclose\u001b[0m\u001b[0;34m(\u001b[0m\u001b[0mself\u001b[0m\u001b[0;34m)\u001b[0m\u001b[0;34m:\u001b[0m\u001b[0;34m\u001b[0m\u001b[0;34m\u001b[0m\u001b[0m\n",
      "\u001b[0;32m/opt/conda/lib/python3.9/site-packages/pandas/io/parsers.py\u001b[0m in \u001b[0;36m_make_engine\u001b[0;34m(self, engine)\u001b[0m\n\u001b[1;32m   1048\u001b[0m             )\n\u001b[1;32m   1049\u001b[0m         \u001b[0;31m# error: Too many arguments for \"ParserBase\"\u001b[0m\u001b[0;34m\u001b[0m\u001b[0;34m\u001b[0m\u001b[0;34m\u001b[0m\u001b[0m\n\u001b[0;32m-> 1050\u001b[0;31m         \u001b[0;32mreturn\u001b[0m \u001b[0mmapping\u001b[0m\u001b[0;34m[\u001b[0m\u001b[0mengine\u001b[0m\u001b[0;34m]\u001b[0m\u001b[0;34m(\u001b[0m\u001b[0mself\u001b[0m\u001b[0;34m.\u001b[0m\u001b[0mf\u001b[0m\u001b[0;34m,\u001b[0m \u001b[0;34m**\u001b[0m\u001b[0mself\u001b[0m\u001b[0;34m.\u001b[0m\u001b[0moptions\u001b[0m\u001b[0;34m)\u001b[0m  \u001b[0;31m# type: ignore[call-arg]\u001b[0m\u001b[0;34m\u001b[0m\u001b[0;34m\u001b[0m\u001b[0m\n\u001b[0m\u001b[1;32m   1051\u001b[0m \u001b[0;34m\u001b[0m\u001b[0m\n\u001b[1;32m   1052\u001b[0m     \u001b[0;32mdef\u001b[0m \u001b[0m_failover_to_python\u001b[0m\u001b[0;34m(\u001b[0m\u001b[0mself\u001b[0m\u001b[0;34m)\u001b[0m\u001b[0;34m:\u001b[0m\u001b[0;34m\u001b[0m\u001b[0;34m\u001b[0m\u001b[0m\n",
      "\u001b[0;32m/opt/conda/lib/python3.9/site-packages/pandas/io/parsers.py\u001b[0m in \u001b[0;36m__init__\u001b[0;34m(self, src, **kwds)\u001b[0m\n\u001b[1;32m   1865\u001b[0m \u001b[0;34m\u001b[0m\u001b[0m\n\u001b[1;32m   1866\u001b[0m         \u001b[0;31m# open handles\u001b[0m\u001b[0;34m\u001b[0m\u001b[0;34m\u001b[0m\u001b[0;34m\u001b[0m\u001b[0m\n\u001b[0;32m-> 1867\u001b[0;31m         \u001b[0mself\u001b[0m\u001b[0;34m.\u001b[0m\u001b[0m_open_handles\u001b[0m\u001b[0;34m(\u001b[0m\u001b[0msrc\u001b[0m\u001b[0;34m,\u001b[0m \u001b[0mkwds\u001b[0m\u001b[0;34m)\u001b[0m\u001b[0;34m\u001b[0m\u001b[0;34m\u001b[0m\u001b[0m\n\u001b[0m\u001b[1;32m   1868\u001b[0m         \u001b[0;32massert\u001b[0m \u001b[0mself\u001b[0m\u001b[0;34m.\u001b[0m\u001b[0mhandles\u001b[0m \u001b[0;32mis\u001b[0m \u001b[0;32mnot\u001b[0m \u001b[0;32mNone\u001b[0m\u001b[0;34m\u001b[0m\u001b[0;34m\u001b[0m\u001b[0m\n\u001b[1;32m   1869\u001b[0m         \u001b[0;32mfor\u001b[0m \u001b[0mkey\u001b[0m \u001b[0;32min\u001b[0m \u001b[0;34m(\u001b[0m\u001b[0;34m\"storage_options\"\u001b[0m\u001b[0;34m,\u001b[0m \u001b[0;34m\"encoding\"\u001b[0m\u001b[0;34m,\u001b[0m \u001b[0;34m\"memory_map\"\u001b[0m\u001b[0;34m,\u001b[0m \u001b[0;34m\"compression\"\u001b[0m\u001b[0;34m)\u001b[0m\u001b[0;34m:\u001b[0m\u001b[0;34m\u001b[0m\u001b[0;34m\u001b[0m\u001b[0m\n",
      "\u001b[0;32m/opt/conda/lib/python3.9/site-packages/pandas/io/parsers.py\u001b[0m in \u001b[0;36m_open_handles\u001b[0;34m(self, src, kwds)\u001b[0m\n\u001b[1;32m   1360\u001b[0m         \u001b[0mLet\u001b[0m \u001b[0mthe\u001b[0m \u001b[0mreaders\u001b[0m \u001b[0mopen\u001b[0m \u001b[0mIOHanldes\u001b[0m \u001b[0mafter\u001b[0m \u001b[0mthey\u001b[0m \u001b[0mare\u001b[0m \u001b[0mdone\u001b[0m \u001b[0;32mwith\u001b[0m \u001b[0mtheir\u001b[0m \u001b[0mpotential\u001b[0m \u001b[0mraises\u001b[0m\u001b[0;34m.\u001b[0m\u001b[0;34m\u001b[0m\u001b[0;34m\u001b[0m\u001b[0m\n\u001b[1;32m   1361\u001b[0m         \"\"\"\n\u001b[0;32m-> 1362\u001b[0;31m         self.handles = get_handle(\n\u001b[0m\u001b[1;32m   1363\u001b[0m             \u001b[0msrc\u001b[0m\u001b[0;34m,\u001b[0m\u001b[0;34m\u001b[0m\u001b[0;34m\u001b[0m\u001b[0m\n\u001b[1;32m   1364\u001b[0m             \u001b[0;34m\"r\"\u001b[0m\u001b[0;34m,\u001b[0m\u001b[0;34m\u001b[0m\u001b[0;34m\u001b[0m\u001b[0m\n",
      "\u001b[0;32m/opt/conda/lib/python3.9/site-packages/pandas/io/common.py\u001b[0m in \u001b[0;36mget_handle\u001b[0;34m(path_or_buf, mode, encoding, compression, memory_map, is_text, errors, storage_options)\u001b[0m\n\u001b[1;32m    640\u001b[0m                 \u001b[0merrors\u001b[0m \u001b[0;34m=\u001b[0m \u001b[0;34m\"replace\"\u001b[0m\u001b[0;34m\u001b[0m\u001b[0;34m\u001b[0m\u001b[0m\n\u001b[1;32m    641\u001b[0m             \u001b[0;31m# Encoding\u001b[0m\u001b[0;34m\u001b[0m\u001b[0;34m\u001b[0m\u001b[0;34m\u001b[0m\u001b[0m\n\u001b[0;32m--> 642\u001b[0;31m             handle = open(\n\u001b[0m\u001b[1;32m    643\u001b[0m                 \u001b[0mhandle\u001b[0m\u001b[0;34m,\u001b[0m\u001b[0;34m\u001b[0m\u001b[0;34m\u001b[0m\u001b[0m\n\u001b[1;32m    644\u001b[0m                 \u001b[0mioargs\u001b[0m\u001b[0;34m.\u001b[0m\u001b[0mmode\u001b[0m\u001b[0;34m,\u001b[0m\u001b[0;34m\u001b[0m\u001b[0;34m\u001b[0m\u001b[0m\n",
      "\u001b[0;31mFileNotFoundError\u001b[0m: [Errno 2] No such file or directory: './datasets/labels.csv'"
     ]
    }
   ],
   "source": [
    "labels_df = pd.read_csv(PATH_TO_CSV)\n",
    "display(labels_df.head())"
   ]
  },
  {
   "cell_type": "markdown",
   "id": "12263411",
   "metadata": {},
   "source": [
    "<div style=\"border:solid Chocolate 2px; padding: 40px\">\n",
    "\n",
    "\n",
    "<h2> Итоговый комментарий ревьюера v.0 <a class=\"tocSkip\"> </h2>    \n",
    "\n",
    "Некоторые блоки кода не работают. Посмотри, пожалуйста, что пошло не так. Перед отправкой проекта стоит проверять работоспособность кода - это можно сделать, нажав на панели `Jupiter Hub Kernel` и `Restart & Run All`\n",
    "      \n",
    "    \n",
    "Жду от тебя новую версию проекта.    "
   ]
  },
  {
   "cell_type": "code",
   "execution_count": null,
   "id": "82ffcc52-633f-40ae-8947-212147944c49",
   "metadata": {
    "tags": []
   },
   "outputs": [],
   "source": [
    "display(\n",
    "    labels_df['real_age'].describe()\n",
    ")"
   ]
  },
  {
   "cell_type": "code",
   "execution_count": null,
   "id": "1143db61-066b-49a2-9d98-25916eb44367",
   "metadata": {
    "tags": []
   },
   "outputs": [],
   "source": [
    " plot_hist(labels_df['real_age'])"
   ]
  },
  {
   "cell_type": "code",
   "execution_count": null,
   "id": "89205cf4-d186-4a33-8be0-b72885fedf49",
   "metadata": {
    "tags": []
   },
   "outputs": [],
   "source": [
    "labels_df.groupby(by='real_age').count().sort_values(by='file_name', ascending=False)"
   ]
  },
  {
   "cell_type": "markdown",
   "id": "c60eca0c-e0ce-40ad-8a7a-338f87ebc30f",
   "metadata": {},
   "source": [
    "Интересно что возросты 25 и 30 самые популярные в наборе данных.  \n",
    "Распределение приближено к нормальному, но смещено вправо, а в левой части есть подьём гистограммы на значениях около 5 лет."
   ]
  },
  {
   "cell_type": "code",
   "execution_count": null,
   "id": "83f7b48a-8f20-49cc-be12-bc7c56211ea1",
   "metadata": {},
   "outputs": [],
   "source": [
    "plot_16_img(labels_df['file_name'].sample(16))"
   ]
  },
  {
   "cell_type": "code",
   "execution_count": null,
   "id": "b4db33a6-48a8-4dbd-8c4b-6a07e6c3a6f2",
   "metadata": {},
   "outputs": [],
   "source": [
    "quantile_left = labels_df['real_age'].quantile(0.005)\n",
    "quantile_right = labels_df['real_age'].quantile(0.995)"
   ]
  },
  {
   "cell_type": "code",
   "execution_count": null,
   "id": "01258dcc-4bfe-4dd0-9e70-12439383fc59",
   "metadata": {},
   "outputs": [],
   "source": [
    "print(\n",
    "    quantile_left,\n",
    "    quantile_right,\n",
    "    sep='\\n'\n",
    ")"
   ]
  },
  {
   "cell_type": "code",
   "execution_count": null,
   "id": "b54f3687-6562-44d7-8bd9-d996d5c58edd",
   "metadata": {},
   "outputs": [],
   "source": [
    "faces_outside_quantiles = labels_df.loc[\n",
    "        labels_df['real_age'] >= quantile_right,\n",
    "        'file_name'\n",
    "    ].sample(8)\n",
    "\n",
    "faces_outside_quantiles = pd.concat(\n",
    "        [labels_df.loc[\n",
    "                labels_df['real_age'] <= quantile_left,\n",
    "                'file_name'\n",
    "            ].sample(8),\n",
    "         faces_outside_quantiles\n",
    "        ],\n",
    "        axis=0,\n",
    "        ignore_index=True\n",
    "    )"
   ]
  },
  {
   "cell_type": "code",
   "execution_count": null,
   "id": "fd83a7f1-3981-4eb6-9b8f-11efccf5a4e1",
   "metadata": {},
   "outputs": [],
   "source": [
    "plot_16_img(faces_outside_quantiles)"
   ]
  },
  {
   "cell_type": "markdown",
   "id": "eb51451d-7341-4866-aaab-a31a9200dfaa",
   "metadata": {},
   "source": [
    "## Вывод Модели Из GPU"
   ]
  },
  {
   "cell_type": "raw",
   "id": "3caee111-610d-47f3-b209-8a1786d9790e",
   "metadata": {},
   "source": [
    "Found 6832 validated image filenames.\n",
    "Found 759 validated image filenames.\n",
    "\n",
    "Model: \"sequential\"\n",
    "_________________________________________________________________\n",
    "Layer (type)                 Output Shape              Param #   \n",
    "=================================================================\n",
    "resnet50 (Model)             (None, 8, 8, 2048)        23587712  \n",
    "_________________________________________________________________\n",
    "dropout (Dropout)            (None, 8, 8, 2048)        0         \n",
    "_________________________________________________________________\n",
    "global_average_pooling2d (Gl (None, 2048)              0         \n",
    "_________________________________________________________________\n",
    "dense (Dense)                (None, 1)                 2049      \n",
    "=================================================================\n",
    "Total params: 23,589,761\n",
    "Trainable params: 23,536,641\n",
    "Non-trainable params: 53,120\n",
    "_________________________________________________________________\n",
    "None\n",
    "<class 'tensorflow.python.keras.engine.sequential.Sequential'>\n",
    "\n",
    "Train for 427 steps, validate for 48 steps\n",
    "Epoch 1/20\n",
    "427/427 - 73s - loss: 11.7056 - mae: 11.7056 - val_loss: 14.8198 - val_mae: 14.8361\n",
    "Epoch 2/20\n",
    "427/427 - 48s - loss: 9.5563 - mae: 9.5563 - val_loss: 15.5602 - val_mae: 15.5682\n",
    "Epoch 3/20\n",
    "427/427 - 61s - loss: 8.6732 - mae: 8.6732 - val_loss: 9.1814 - val_mae: 9.1551\n",
    "Epoch 4/20\n",
    "427/427 - 56s - loss: 8.0296 - mae: 8.0296 - val_loss: 12.8108 - val_mae: 12.8271\n",
    "Epoch 5/20\n",
    "427/427 - 52s - loss: 7.3731 - mae: 7.3731 - val_loss: 9.8491 - val_mae: 9.8259\n",
    "Epoch 6/20\n",
    "427/427 - 62s - loss: 6.7018 - mae: 6.7018 - val_loss: 9.4610 - val_mae: 9.4712\n",
    "Epoch 7/20\n",
    "427/427 - 49s - loss: 6.2027 - mae: 6.2027 - val_loss: 7.7771 - val_mae: 7.7521\n",
    "Epoch 8/20\n",
    "427/427 - 60s - loss: 5.8203 - mae: 5.8203 - val_loss: 7.4354 - val_mae: 7.4309\n",
    "Epoch 9/20\n",
    "427/427 - 58s - loss: 5.3900 - mae: 5.3900 - val_loss: 9.4777 - val_mae: 9.4662\n",
    "Epoch 10/20\n",
    "427/427 - 52s - loss: 5.0406 - mae: 5.0406 - val_loss: 7.3713 - val_mae: 7.3833\n",
    "Epoch 11/20\n",
    "427/427 - 63s - loss: 4.7283 - mae: 4.7283 - val_loss: 7.6325 - val_mae: 7.6588\n",
    "Epoch 12/20\n",
    "427/427 - 50s - loss: 4.3319 - mae: 4.3319 - val_loss: 7.7530 - val_mae: 7.7718\n",
    "Epoch 13/20\n",
    "427/427 - 60s - loss: 4.1121 - mae: 4.1121 - val_loss: 6.8989 - val_mae: 6.8871\n",
    "Epoch 14/20\n",
    "427/427 - 59s - loss: 3.9440 - mae: 3.9440 - val_loss: 9.8365 - val_mae: 9.8481\n",
    "Epoch 15/20\n",
    "427/427 - 52s - loss: 3.7057 - mae: 3.7057 - val_loss: 8.6039 - val_mae: 8.6180\n",
    "Epoch 16/20\n",
    "427/427 - 62s - loss: 3.4950 - mae: 3.4950 - val_loss: 6.6663 - val_mae: 6.6723\n",
    "Epoch 17/20\n",
    "427/427 - 50s - loss: 3.3738 - mae: 3.3738 - val_loss: 7.3881 - val_mae: 7.3900\n",
    "Epoch 18/20\n",
    "427/427 - 48s - loss: 3.2403 - mae: 3.2403 - val_loss: 7.3475 - val_mae: 7.3546\n",
    "Epoch 19/20\n",
    "427/427 - 43s - loss: 3.1613 - mae: 3.1613 - val_loss: 7.0517 - val_mae: 7.0741\n",
    "Epoch 20/20\n",
    "427/427 - 45s - loss: 2.9220 - mae: 2.9220 - val_loss: 6.8128 - val_mae: 6.8285\n",
    "\n",
    "48/48 - 4s - loss: 6.8128 - mae: 6.8285\n",
    "Test MAE: 6.8285"
   ]
  },
  {
   "cell_type": "markdown",
   "id": "b3dc521e-52a7-4bce-ad2e-2f5235988cd7",
   "metadata": {},
   "source": [
    "## Анализ Обучения Модели"
   ]
  },
  {
   "cell_type": "markdown",
   "id": "a89c8a1e-6721-4cff-b94f-21ee91414559",
   "metadata": {},
   "source": [
    "Похожего результата можно было добиться и за 14 эпох..  \n",
    "Использовал слой dropout (Dropout), потомучто нашел совет на kaggle, чтобы модель не переобучалась."
   ]
  }
 ],
 "metadata": {
  "ExecuteTimeLog": [
   {
    "duration": 657,
    "start_time": "2023-02-14T06:52:06.708Z"
   },
   {
    "duration": 744,
    "start_time": "2023-02-14T06:52:07.367Z"
   },
   {
    "duration": 1023,
    "start_time": "2023-02-14T06:52:08.114Z"
   },
   {
    "duration": 14,
    "start_time": "2023-02-14T06:52:09.140Z"
   },
   {
    "duration": 5,
    "start_time": "2023-02-14T06:52:09.157Z"
   },
   {
    "duration": 40,
    "start_time": "2023-02-14T06:52:09.164Z"
   },
   {
    "duration": 12,
    "start_time": "2023-02-14T06:52:09.206Z"
   },
   {
    "duration": 5,
    "start_time": "2023-02-14T06:52:09.220Z"
   },
   {
    "duration": 8,
    "start_time": "2023-02-14T06:52:09.227Z"
   },
   {
    "duration": 275,
    "start_time": "2023-02-14T06:52:09.237Z"
   },
   {
    "duration": 0,
    "start_time": "2023-02-14T06:52:09.514Z"
   },
   {
    "duration": 0,
    "start_time": "2023-02-14T06:52:09.515Z"
   },
   {
    "duration": 0,
    "start_time": "2023-02-14T06:52:09.516Z"
   },
   {
    "duration": 0,
    "start_time": "2023-02-14T06:52:09.521Z"
   },
   {
    "duration": 0,
    "start_time": "2023-02-14T06:52:09.522Z"
   },
   {
    "duration": 0,
    "start_time": "2023-02-14T06:52:09.524Z"
   },
   {
    "duration": 0,
    "start_time": "2023-02-14T06:52:09.525Z"
   },
   {
    "duration": 0,
    "start_time": "2023-02-14T06:52:09.527Z"
   },
   {
    "duration": 654,
    "start_time": "2023-02-14T06:52:18.802Z"
   },
   {
    "duration": 636,
    "start_time": "2023-02-14T06:52:19.458Z"
   },
   {
    "duration": 618,
    "start_time": "2023-02-14T06:52:20.095Z"
   },
   {
    "duration": 12,
    "start_time": "2023-02-14T06:52:20.716Z"
   },
   {
    "duration": 15,
    "start_time": "2023-02-14T06:52:20.729Z"
   },
   {
    "duration": 10,
    "start_time": "2023-02-14T06:52:20.746Z"
   },
   {
    "duration": 25,
    "start_time": "2023-02-14T06:52:20.758Z"
   },
   {
    "duration": 8,
    "start_time": "2023-02-14T06:52:20.785Z"
   },
   {
    "duration": 9,
    "start_time": "2023-02-14T06:52:20.795Z"
   },
   {
    "duration": 117,
    "start_time": "2023-02-14T06:52:20.807Z"
   },
   {
    "duration": 0,
    "start_time": "2023-02-14T06:52:20.925Z"
   },
   {
    "duration": 0,
    "start_time": "2023-02-14T06:52:20.927Z"
   },
   {
    "duration": 0,
    "start_time": "2023-02-14T06:52:20.928Z"
   },
   {
    "duration": 0,
    "start_time": "2023-02-14T06:52:20.929Z"
   },
   {
    "duration": 0,
    "start_time": "2023-02-14T06:52:20.930Z"
   },
   {
    "duration": 0,
    "start_time": "2023-02-14T06:52:20.931Z"
   },
   {
    "duration": 0,
    "start_time": "2023-02-14T06:52:20.932Z"
   },
   {
    "duration": 0,
    "start_time": "2023-02-14T06:52:20.933Z"
   },
   {
    "duration": 634,
    "start_time": "2023-02-14T06:53:24.590Z"
   },
   {
    "duration": 652,
    "start_time": "2023-02-14T06:53:25.225Z"
   },
   {
    "duration": 598,
    "start_time": "2023-02-14T06:53:25.879Z"
   },
   {
    "duration": 18,
    "start_time": "2023-02-14T06:53:26.479Z"
   },
   {
    "duration": 7,
    "start_time": "2023-02-14T06:53:26.500Z"
   },
   {
    "duration": 11,
    "start_time": "2023-02-14T06:53:26.509Z"
   },
   {
    "duration": 21,
    "start_time": "2023-02-14T06:53:26.522Z"
   },
   {
    "duration": 6,
    "start_time": "2023-02-14T06:53:26.545Z"
   },
   {
    "duration": 7,
    "start_time": "2023-02-14T06:53:26.552Z"
   },
   {
    "duration": 140,
    "start_time": "2023-02-14T06:53:26.561Z"
   },
   {
    "duration": 0,
    "start_time": "2023-02-14T06:53:26.703Z"
   },
   {
    "duration": 0,
    "start_time": "2023-02-14T06:53:26.705Z"
   },
   {
    "duration": 0,
    "start_time": "2023-02-14T06:53:26.706Z"
   },
   {
    "duration": 0,
    "start_time": "2023-02-14T06:53:26.707Z"
   },
   {
    "duration": 0,
    "start_time": "2023-02-14T06:53:26.709Z"
   },
   {
    "duration": 0,
    "start_time": "2023-02-14T06:53:26.710Z"
   },
   {
    "duration": 0,
    "start_time": "2023-02-14T06:53:26.711Z"
   },
   {
    "duration": 0,
    "start_time": "2023-02-14T06:53:26.712Z"
   },
   {
    "duration": 827,
    "start_time": "2023-02-14T06:53:54.463Z"
   },
   {
    "duration": 667,
    "start_time": "2023-02-14T06:53:55.293Z"
   },
   {
    "duration": 614,
    "start_time": "2023-02-14T06:53:55.962Z"
   },
   {
    "duration": 19,
    "start_time": "2023-02-14T06:53:56.583Z"
   },
   {
    "duration": 60,
    "start_time": "2023-02-14T06:53:56.604Z"
   },
   {
    "duration": 16,
    "start_time": "2023-02-14T06:53:56.667Z"
   },
   {
    "duration": 10,
    "start_time": "2023-02-14T06:53:56.685Z"
   },
   {
    "duration": 38,
    "start_time": "2023-02-14T06:53:56.699Z"
   },
   {
    "duration": 16,
    "start_time": "2023-02-14T06:53:56.740Z"
   },
   {
    "duration": 239,
    "start_time": "2023-02-14T06:53:56.760Z"
   },
   {
    "duration": 0,
    "start_time": "2023-02-14T06:53:57.002Z"
   },
   {
    "duration": 0,
    "start_time": "2023-02-14T06:53:57.004Z"
   },
   {
    "duration": 0,
    "start_time": "2023-02-14T06:53:57.005Z"
   },
   {
    "duration": 0,
    "start_time": "2023-02-14T06:53:57.007Z"
   },
   {
    "duration": 0,
    "start_time": "2023-02-14T06:53:57.009Z"
   },
   {
    "duration": 0,
    "start_time": "2023-02-14T06:53:57.011Z"
   },
   {
    "duration": 0,
    "start_time": "2023-02-14T06:53:57.013Z"
   },
   {
    "duration": 0,
    "start_time": "2023-02-14T06:53:57.015Z"
   }
  ],
  "kernelspec": {
   "display_name": "Python 3 (ipykernel)",
   "language": "python",
   "name": "python3"
  },
  "language_info": {
   "codemirror_mode": {
    "name": "ipython",
    "version": 3
   },
   "file_extension": ".py",
   "mimetype": "text/x-python",
   "name": "python",
   "nbconvert_exporter": "python",
   "pygments_lexer": "ipython3",
   "version": "3.10.6"
  },
  "toc": {
   "base_numbering": 1,
   "nav_menu": {},
   "number_sections": true,
   "sideBar": true,
   "skip_h1_title": true,
   "title_cell": "Table of Contents",
   "title_sidebar": "Contents",
   "toc_cell": false,
   "toc_position": {
    "height": "calc(100% - 180px)",
    "left": "10px",
    "top": "150px",
    "width": "165px"
   },
   "toc_section_display": true,
   "toc_window_display": true
  }
 },
 "nbformat": 4,
 "nbformat_minor": 5
}
