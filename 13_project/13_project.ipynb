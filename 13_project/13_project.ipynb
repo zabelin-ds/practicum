{
 "cells": [
  {
   "cell_type": "markdown",
   "id": "5530efbc-0e51-4404-8695-a7ddf2ae334f",
   "metadata": {},
   "source": [
    "# Учебный Проект → «Викишоп» 📚"
   ]
  },
  {
   "cell_type": "markdown",
   "id": "32a985cd-605f-4979-834e-33d714035bba",
   "metadata": {},
   "source": [
    ">Интернет-магазин «Викишоп» запускает новый сервис. Теперь пользователи могут редактировать и дополнять описания товаров, как в вики-сообществах. То есть клиенты предлагают свои правки и комментируют изменения других. Магазину нужен инструмент, который будет искать токсичные комментарии и отправлять их на модерацию. \n",
    "Обучите модель классифицировать комментарии на позитивные и негативные. В вашем распоряжении набор данных с разметкой о токсичности правок."
   ]
  },
  {
   "cell_type": "markdown",
   "id": "9eb67c11-b0b1-4036-86c9-fdb525ed953b",
   "metadata": {},
   "source": [
    "Импортируем библиотеки 🎒"
   ]
  },
  {
   "cell_type": "code",
   "execution_count": 2,
   "id": "ce5e71ad-20df-41ed-a975-11fc71eb29d0",
   "metadata": {
    "collapsed": false,
    "jupyter": {
     "outputs_hidden": false
    }
   },
   "outputs": [],
   "source": [
    "import pandas as pd\n",
    "import matplotlib as mpl\n",
    "import matplotlib.pyplot as plt\n",
    "import numpy as np\n",
    "\n",
    "from numpy.random import RandomState\n",
    "\n",
    "from matplotlib import rcParams\n",
    "\n",
    "from statsmodels.tsa.seasonal import seasonal_decompose\n",
    "\n",
    "from sklearn.linear_model import LinearRegression\n",
    "from sklearn.model_selection import GridSearchCV\n",
    "from sklearn.model_selection import cross_val_score\n",
    "from sklearn.model_selection import train_test_split\n",
    "from sklearn.metrics import mean_squared_error\n",
    "\n",
    "from catboost import CatBoostRegressor"
   ]
  },
  {
   "cell_type": "markdown",
   "id": "c81a1a96-3b12-41c9-a37c-1013d5d2b2a5",
   "metadata": {},
   "source": [
    "Настроим вид графиков по+красоте ✨"
   ]
  },
  {
   "cell_type": "code",
   "execution_count": 2,
   "id": "cf2c6b88-bdeb-461c-95cc-3504c9a9be6d",
   "metadata": {},
   "outputs": [],
   "source": [
    "%config InlineBackend.figure_formats = ['svg']"
   ]
  },
  {
   "cell_type": "code",
   "execution_count": 3,
   "id": "174dc0e0-625b-40e7-9852-860c17e5c8f2",
   "metadata": {},
   "outputs": [],
   "source": [
    "# style MATPLOTLIBRC\n",
    "custom_params = {\n",
    "                'figure.figsize': (10, 6),\n",
    "                'figure.facecolor': '#232425',\n",
    "                'figure.dpi': 240,\n",
    "\n",
    "                'legend.frameon': False,\n",
    "                'legend.borderpad': 1.4,\n",
    "                'legend.labelspacing': 0.7,\n",
    "                'legend.handlelength': 0.7,\n",
    "                'legend.handleheight': 0.7,\n",
    "\n",
    "                'axes.facecolor': '#232425',\n",
    "                'axes.labelcolor': '#EEEEEE',\n",
    "                'axes.labelpad': 17,\n",
    "                'axes.spines.left': False,\n",
    "                'axes.spines.bottom': False,\n",
    "                'axes.spines.right': False,\n",
    "                'axes.spines.top': False,\n",
    "                'axes.grid': False,\n",
    "\n",
    "                'contour.linewidth': 0.0,\n",
    "\n",
    "                'xtick.color': '#AAAAAA',\n",
    "                'ytick.color': '#AAAAAA',\n",
    "                'xtick.bottom': True,\n",
    "                'xtick.top': False,\n",
    "                'ytick.left': True,\n",
    "                'ytick.right': False,\n",
    "    \n",
    "                \"lines.color\": '#EEEEEE',\n",
    "\n",
    "                'text.color': '#EEEEEE',\n",
    "    \n",
    "                'font.family': 'sans-serif',\n",
    "            }"
   ]
  },
  {
   "cell_type": "code",
   "execution_count": 4,
   "id": "d25fcbc4-b0a6-4383-afbd-3696b61d4751",
   "metadata": {
    "collapsed": false,
    "jupyter": {
     "outputs_hidden": false
    },
    "pycharm": {
     "name": "#%%\n"
    }
   },
   "outputs": [],
   "source": [
    "# set max columns to none\n",
    "pd.set_option(\"display.max_columns\", None)\n",
    "pd.set_option(\"display.max_rows\", 200)"
   ]
  },
  {
   "cell_type": "markdown",
   "id": "b2397a50-8a82-4524-9de4-2a68b0929c28",
   "metadata": {},
   "source": [
    "Константы."
   ]
  },
  {
   "cell_type": "code",
   "execution_count": 5,
   "id": "2ff71385-7456-472e-997c-b973531fe8fe",
   "metadata": {},
   "outputs": [],
   "source": [
    "RANDOM_SEED = 108108108\n",
    "RANDOM_NP = RandomState(128)"
   ]
  },
  {
   "cell_type": "markdown",
   "id": "d4fe211f-7bef-4a89-91da-5a60ad5ef011",
   "metadata": {},
   "source": [
    "Функции."
   ]
  },
  {
   "cell_type": "markdown",
   "id": "e5b38948-461b-462a-b08b-6ccb971f08f5",
   "metadata": {},
   "source": [
    "<hr>"
   ]
  },
  {
   "cell_type": "markdown",
   "id": "a1725498-7dfc-41ac-baac-c969d2b42596",
   "metadata": {},
   "source": [
    "## Загрузим данные"
   ]
  },
  {
   "cell_type": "code",
   "execution_count": 29,
   "id": "69576c5f-91ad-45e9-8fd8-5e556fe2bfaa",
   "metadata": {
    "collapsed": false,
    "jupyter": {
     "outputs_hidden": false
    }
   },
   "outputs": [],
   "source": [
    "try:\n",
    "    comments_df = pd.read_csv(\n",
    "        './datasets/toxic_comments.csv',\n",
    "        usecols=['text', 'toxic']\n",
    "    )\n",
    "    \n",
    "except FileNotFoundError:\n",
    "    comments_df = pd.read_csv(\n",
    "        'https://code.s3.yandex.net/datasets/toxic_comments.csv',\n",
    "        usecols=['text', 'toxic']\n",
    "    )\n",
    "    print('FYI datasets loaded via url')"
   ]
  },
  {
   "cell_type": "markdown",
   "id": "aaf21df4-36ac-42ef-8ad7-7ba0c013364e",
   "metadata": {},
   "source": [
    "Столбец `text` в нём содержит текст комментария, а `toxic` — целевой признак."
   ]
  },
  {
   "cell_type": "code",
   "execution_count": 9,
   "id": "2a2317df-d2c7-43ea-b051-6401770324b5",
   "metadata": {},
   "outputs": [
    {
     "data": {
      "text/html": [
       "<div>\n",
       "<style scoped>\n",
       "    .dataframe tbody tr th:only-of-type {\n",
       "        vertical-align: middle;\n",
       "    }\n",
       "\n",
       "    .dataframe tbody tr th {\n",
       "        vertical-align: top;\n",
       "    }\n",
       "\n",
       "    .dataframe thead th {\n",
       "        text-align: right;\n",
       "    }\n",
       "</style>\n",
       "<table border=\"1\" class=\"dataframe\">\n",
       "  <thead>\n",
       "    <tr style=\"text-align: right;\">\n",
       "      <th></th>\n",
       "      <th>text</th>\n",
       "      <th>toxic</th>\n",
       "    </tr>\n",
       "  </thead>\n",
       "  <tbody>\n",
       "    <tr>\n",
       "      <th>0</th>\n",
       "      <td>Explanation\\nWhy the edits made under my usern...</td>\n",
       "      <td>0</td>\n",
       "    </tr>\n",
       "    <tr>\n",
       "      <th>1</th>\n",
       "      <td>D'aww! He matches this background colour I'm s...</td>\n",
       "      <td>0</td>\n",
       "    </tr>\n",
       "  </tbody>\n",
       "</table>\n",
       "</div>"
      ],
      "text/plain": [
       "                                                text  toxic\n",
       "0  Explanation\\nWhy the edits made under my usern...      0\n",
       "1  D'aww! He matches this background colour I'm s...      0"
      ]
     },
     "metadata": {},
     "output_type": "display_data"
    },
    {
     "data": {
      "text/html": [
       "<div>\n",
       "<style scoped>\n",
       "    .dataframe tbody tr th:only-of-type {\n",
       "        vertical-align: middle;\n",
       "    }\n",
       "\n",
       "    .dataframe tbody tr th {\n",
       "        vertical-align: top;\n",
       "    }\n",
       "\n",
       "    .dataframe thead th {\n",
       "        text-align: right;\n",
       "    }\n",
       "</style>\n",
       "<table border=\"1\" class=\"dataframe\">\n",
       "  <thead>\n",
       "    <tr style=\"text-align: right;\">\n",
       "      <th></th>\n",
       "      <th>text</th>\n",
       "      <th>toxic</th>\n",
       "    </tr>\n",
       "  </thead>\n",
       "  <tbody>\n",
       "    <tr>\n",
       "      <th>36780</th>\n",
       "      <td>Thanks for the reply.  I perceive that I am th...</td>\n",
       "      <td>0</td>\n",
       "    </tr>\n",
       "    <tr>\n",
       "      <th>74842</th>\n",
       "      <td>I fixed it and added a legal video source stra...</td>\n",
       "      <td>0</td>\n",
       "    </tr>\n",
       "  </tbody>\n",
       "</table>\n",
       "</div>"
      ],
      "text/plain": [
       "                                                    text  toxic\n",
       "36780  Thanks for the reply.  I perceive that I am th...      0\n",
       "74842  I fixed it and added a legal video source stra...      0"
      ]
     },
     "metadata": {},
     "output_type": "display_data"
    },
    {
     "data": {
      "text/html": [
       "<div>\n",
       "<style scoped>\n",
       "    .dataframe tbody tr th:only-of-type {\n",
       "        vertical-align: middle;\n",
       "    }\n",
       "\n",
       "    .dataframe tbody tr th {\n",
       "        vertical-align: top;\n",
       "    }\n",
       "\n",
       "    .dataframe thead th {\n",
       "        text-align: right;\n",
       "    }\n",
       "</style>\n",
       "<table border=\"1\" class=\"dataframe\">\n",
       "  <thead>\n",
       "    <tr style=\"text-align: right;\">\n",
       "      <th></th>\n",
       "      <th>text</th>\n",
       "      <th>toxic</th>\n",
       "    </tr>\n",
       "  </thead>\n",
       "  <tbody>\n",
       "    <tr>\n",
       "      <th>159290</th>\n",
       "      <td>And it looks like it was actually you who put ...</td>\n",
       "      <td>0</td>\n",
       "    </tr>\n",
       "    <tr>\n",
       "      <th>159291</th>\n",
       "      <td>\"\\nAnd ... I really don't think you understand...</td>\n",
       "      <td>0</td>\n",
       "    </tr>\n",
       "  </tbody>\n",
       "</table>\n",
       "</div>"
      ],
      "text/plain": [
       "                                                     text  toxic\n",
       "159290  And it looks like it was actually you who put ...      0\n",
       "159291  \"\\nAnd ... I really don't think you understand...      0"
      ]
     },
     "metadata": {},
     "output_type": "display_data"
    }
   ],
   "source": [
    "display(\n",
    "    comments_df.head(2),\n",
    "    comments_df.sample(2),\n",
    "    comments_df.tail(2)\n",
    "    \n",
    ")"
   ]
  },
  {
   "cell_type": "code",
   "execution_count": null,
   "id": "32060a5c-d621-446a-8e2e-9be9d1a36dfc",
   "metadata": {},
   "outputs": [],
   "source": []
  },
  {
   "cell_type": "markdown",
   "id": "1fd05f26-1d10-4f50-8160-7ccea919bc7b",
   "metadata": {},
   "source": [
    "Загрузите и подготовьте данные.\n",
    "Обучите разные модели.\n",
    "Сделайте выводы."
   ]
  },
  {
   "cell_type": "markdown",
   "id": "b747414e-bc09-4442-9af8-7ddebf429abd",
   "metadata": {},
   "source": [
    "import numpy as np\n",
    "import pandas as pd\n",
    "import torch\n",
    "import transformers\n",
    "from tqdm import notebook\n",
    "from sklearn.linear_model import LogisticRegression\n",
    "from sklearn.model_selection import cross_val_score\n",
    "from sklearn.model_selection import train_test_split"
   ]
  },
  {
   "cell_type": "code",
   "execution_count": null,
   "id": "647d3ba5-f196-4786-845d-6ac14963564e",
   "metadata": {},
   "outputs": [],
   "source": [
    "df_tweets = pd.read_csv('/datasets/tweets.csv')"
   ]
  },
  {
   "cell_type": "code",
   "execution_count": null,
   "id": "886f7a07-71b0-41d9-b5e0-bf043b25213a",
   "metadata": {},
   "outputs": [],
   "source": [
    "tokenizer = transformers.BertTokenizer(\n",
    "    vocab_file='/datasets/ds_bert/vocab.txt')\n",
    "\n",
    "tokenized = df_tweets['text'].apply(\n",
    "    lambda x: tokenizer.encode(x, add_special_tokens=True))\n",
    "\n",
    "max_len = 0\n",
    "for i in tokenized.values:\n",
    "    if len(i) > max_len:\n",
    "        max_len = len(i)\n",
    "\n",
    "padded = np.array([i + [0]*(max_len - len(i)) for i in tokenized.values])\n",
    "\n",
    "attention_mask = np.where(padded != 0, 1, 0)"
   ]
  },
  {
   "cell_type": "code",
   "execution_count": null,
   "id": "2f409435-8218-4d98-8ff9-196dbd2f54a8",
   "metadata": {},
   "outputs": [],
   "source": [
    "config = transformers.BertConfig.from_json_file(\n",
    "    '/datasets/ds_bert/bert_config.json')\n",
    "model = transformers.BertModel.from_pretrained(\n",
    "    '/datasets/ds_bert/rubert_model.bin', config=config)"
   ]
  },
  {
   "cell_type": "code",
   "execution_count": null,
   "id": "41e4e0b7-7479-470b-a56b-2c42eeadfaac",
   "metadata": {},
   "outputs": [],
   "source": [
    "batch_size = 100\n",
    "embeddings = []\n",
    "for i in notebook.tqdm(range(padded.shape[0] // batch_size)):\n",
    "        batch = torch.LongTensor(padded[batch_size*i:batch_size*(i+1)]) \n",
    "        attention_mask_batch = torch.LongTensor(attention_mask[batch_size*i:batch_size*(i+1)])\n",
    "        \n",
    "        with torch.no_grad():\n",
    "            batch_embeddings = model(batch, attention_mask=attention_mask_batch)\n",
    "        \n",
    "        embeddings.append(batch_embeddings[0][:,0,:].numpy())"
   ]
  },
  {
   "cell_type": "code",
   "execution_count": null,
   "id": "18b73afb-1c02-48ba-9be2-96ef5545dc25",
   "metadata": {},
   "outputs": [],
   "source": []
  },
  {
   "cell_type": "code",
   "execution_count": null,
   "id": "c41e725f-4d84-4d51-8a86-85cc819e6afe",
   "metadata": {},
   "outputs": [],
   "source": [
    "import pandas as pd\n",
    "from sklearn.feature_extraction.text import CountVectorizer\n",
    "import nltk\n",
    "\n",
    "nltk.download('stopwords')\n",
    "from nltk.corpus import stopwords\n",
    "stop_words = set(stopwords.words('russian'))\n",
    "\n",
    "data = pd.read_csv(\"/datasets/tweets_lemm.csv\")\n",
    "corpus = data['lemm_text'].values.astype('U')\n",
    "\n",
    "# создайте мешок слов без учёта стоп-слов\n",
    "count_vect = CountVectorizer()\n",
    "bow = count_vect.fit_transform(corpus)\n",
    "\n",
    "print(\"Размер мешка без учёта стоп-слов:\", bow.shape)\n",
    "\n",
    "# создайте новый мешок слов с учётом стоп-слов\n",
    "count_vect = CountVectorizer(stop_words=stop_words)\n",
    "bow = count_vect.fit_transform(corpus)\n",
    "\n",
    "print(\"Размер мешка с учётом стоп-слов:\", bow.shape)"
   ]
  },
  {
   "cell_type": "code",
   "execution_count": null,
   "id": "bed808a8-d144-40a3-b6ef-e870ba1a0148",
   "metadata": {},
   "outputs": [],
   "source": [
    "import pandas as pd\n",
    "from sklearn.feature_extraction.text import CountVectorizer\n",
    "\n",
    "data = pd.read_csv(\"/datasets/tweets_lemm.csv\")\n",
    "corpus = list(data['lemm_text'])\n",
    "\n",
    "# создайте n-грамму n_gramm, для которой n=2\n",
    "count_vect = CountVectorizer(ngram_range=(2, 2))\n",
    "n_gramm = count_vect.fit_transform(corpus)\n",
    "print(\"Размер:\", n_gramm.shape)"
   ]
  },
  {
   "cell_type": "markdown",
   "id": "6dd1cca8-7548-4d54-893c-bfa1381edee3",
   "metadata": {},
   "source": [
    "$$ \\large\n",
    "TF = \\dfrac{t}{n}\n",
    "$$"
   ]
  },
  {
   "cell_type": "markdown",
   "id": "9c3b5c7e-1a5a-4593-b66c-af6b5b939cc3",
   "metadata": {},
   "source": [
    ">где t (от англ. term) — количество употребления слова, а n — общее число слов в тексте.  \n",
    "IDF нужна в формуле, чтобы уменьшить вес слов, наиболее распространённых в любом другом тексте заданного корпуса. IDF зависит от общего числа текстов в корпусе (D) и количества текстов, в которых это слово встречается (d). "
   ]
  },
  {
   "cell_type": "markdown",
   "id": "aa499957-59b0-47bd-a6e9-321877a942f2",
   "metadata": {},
   "source": [
    "$$ \\large\n",
    "IDF = \\log_{10}\\dfrac{D}{d}\n",
    "$$"
   ]
  },
  {
   "cell_type": "markdown",
   "id": "af05e834-0564-4c4b-831c-f36dd97cc748",
   "metadata": {},
   "source": [
    "$$ \\large\n",
    "TFIDF = TF * IDF\n",
    "$$"
   ]
  },
  {
   "cell_type": "markdown",
   "id": "a2bc48a5-6103-4353-ab21-3ff98549004b",
   "metadata": {},
   "source": [
    "> Большая величина TF-IDF говорит об уникальности слова в тексте по отношению к корпусу.  \n",
    "Чем чаще оно встречается в конкретном тексте и реже в остальных, тем выше значение TF-IDF."
   ]
  },
  {
   "cell_type": "code",
   "execution_count": 10,
   "id": "847ba8ad-d6b6-4aa8-a7e1-0c886dffd47a",
   "metadata": {},
   "outputs": [],
   "source": [
    "text = [\n",
    "    'Карл у Клара украсть коралл',\n",
    "    'Клара у Карл украсть кларнет',\n",
    "    'Клара строго карать Карл за кража коралл'\n",
    "]"
   ]
  },
  {
   "cell_type": "code",
   "execution_count": 26,
   "id": "bf7b38e4-4395-442c-8dcd-a62d496868d6",
   "metadata": {},
   "outputs": [
    {
     "name": "stdout",
     "output_type": "stream",
     "text": [
      "0.16666666666666666\n"
     ]
    }
   ],
   "source": [
    "tf = 1/(len(text[2].split()) - 1)\n",
    "print(tf)"
   ]
  },
  {
   "cell_type": "code",
   "execution_count": 20,
   "id": "2a59c086-7675-4192-be07-91f2d48e7c74",
   "metadata": {},
   "outputs": [
    {
     "data": {
      "text/plain": [
       "{'Карл',\n",
       " 'Клара',\n",
       " 'за',\n",
       " 'карать',\n",
       " 'кларнет',\n",
       " 'коралл',\n",
       " 'кража',\n",
       " 'строго',\n",
       " 'у',\n",
       " 'украсть'}"
      ]
     },
     "metadata": {},
     "output_type": "display_data"
    },
    {
     "data": {
      "text/plain": [
       "10"
      ]
     },
     "metadata": {},
     "output_type": "display_data"
    }
   ],
   "source": [
    "poem = []\n",
    "poem.extend(text[0].split())\n",
    "poem.extend(text[1].split())\n",
    "poem.extend(text[2].split())\n",
    "display(set(poem))\n",
    "display(len(set(poem)))"
   ]
  },
  {
   "cell_type": "code",
   "execution_count": 28,
   "id": "84dc52fe-83c1-4839-bd88-2c6a7189aa1a",
   "metadata": {},
   "outputs": [
    {
     "name": "stdout",
     "output_type": "stream",
     "text": [
      "0.17609125905568124\n",
      "0.025155894150811604\n"
     ]
    }
   ],
   "source": [
    "import math\n",
    " \n",
    "tf = 1 / len(text[2].split())\n",
    "\n",
    "idf = math.log(3/2,10)\n",
    "print (idf)\n",
    "tfidf = tf * idf\n",
    "print (tfidf)"
   ]
  },
  {
   "cell_type": "code",
   "execution_count": null,
   "id": "d58682b4-5656-42cb-ad49-ef34916b1067",
   "metadata": {},
   "outputs": [],
   "source": [
    "import pandas as pd\n",
    "import nltk\n",
    "from nltk.corpus import stopwords as nltk_stopwords\n",
    "from sklearn.feature_extraction.text import TfidfVectorizer\n",
    "\n",
    "data = pd.read_csv(\"/datasets/tweets_lemm.csv\")\n",
    "corpus = data['lemm_text'].values.astype('U')\n",
    "\n",
    "nltk.download('stopwords')\n",
    "stopwords = set(nltk_stopwords.words('russian'))\n",
    "\n",
    "count_tf_idf = TfidfVectorizer(stop_words=stopwords)\n",
    "tf_idf = count_tf_idf.fit_transform(corpus)\n",
    "\n",
    "print(\"Размер матрицы:\", tf_idf.shape)"
   ]
  },
  {
   "cell_type": "code",
   "execution_count": 30,
   "id": "3a1f757c-10a1-4217-acb9-60837396d255",
   "metadata": {},
   "outputs": [],
   "source": [
    "tweets_lemm_train = pd.read_csv(\n",
    "        './datasets/tweets_lemm_train.csv',\n",
    "    )\n",
    "\n",
    "tweets_lemm_test= pd.read_csv(\n",
    "        './datasets/tweets_lemm_test.csv',\n",
    "    )"
   ]
  },
  {
   "cell_type": "markdown",
   "id": "b120aa92-9526-40b1-bbb0-960dea64951f",
   "metadata": {},
   "source": [
    ">Все ли шаги по инструкции выполняете?  \n",
    "Как готовите данные?  \n",
    "Как анализируете данные?  \n",
    "Какие модели и гиперпараметры рассматриваете?  \n",
    "Не дублируете ли код?  \n",
    "Какие выводы делаете?  \n",
    "Следите ли за структурой проекта?  \n",
    "Поддерживаете аккуратность кода?  "
   ]
  }
 ],
 "metadata": {
  "kernelspec": {
   "display_name": "Python 3 (ipykernel)",
   "language": "python",
   "name": "python3"
  },
  "language_info": {
   "codemirror_mode": {
    "name": "ipython",
    "version": 3
   },
   "file_extension": ".py",
   "mimetype": "text/x-python",
   "name": "python",
   "nbconvert_exporter": "python",
   "pygments_lexer": "ipython3",
   "version": "3.10.6"
  }
 },
 "nbformat": 4,
 "nbformat_minor": 5
}
