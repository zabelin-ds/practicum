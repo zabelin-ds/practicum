{
 "cells": [
  {
   "cell_type": "code",
   "execution_count": 23,
   "id": "22e7a04d-8499-40ad-89e2-3059f84646da",
   "metadata": {},
   "outputs": [],
   "source": [
    "import pandas as pd\n",
    "import nltk\n",
    "\n",
    "from nltk.corpus import stopwords as nltk_stopwords\n",
    "from sklearn.feature_extraction.text import TfidfVectorizer\n",
    "\n",
    "from sklearn.linear_model import LogisticRegression\n",
    "from sklearn.model_selection import cross_val_score\n",
    "from sklearn.metrics import accuracy_score"
   ]
  },
  {
   "cell_type": "markdown",
   "id": "62989f81-b34d-4cda-9024-45d1cea29b24",
   "metadata": {},
   "source": [
    "Обучите логистическую регрессию так, чтобы она определяла тональность текста.  \n",
    "Подсчитайте величину TF-IDF для текстов. Лемматизированные тексты твитов для обучения находятся в файле tweets_lemm_train.csv. Целевой признак вы найдёте в столбце positive.  \n",
    "  \n",
    "Обученной моделью классификации определите результаты предсказания для тестовой выборки твитов, которая лежит в файле tweets_lemm_test.csv. В этой выборке целевого признака нет. Сохраните предсказания в столбце positive. Таблицу с результатом сохраните как csv-файл, но чтобы тренажёр принял файл, не указывайте расширение (например, назовите файл 'predictions')  \n",
    "  \n",
    "Значение accuracy вашей модели должно быть не меньше 0.62."
   ]
  },
  {
   "cell_type": "raw",
   "id": "b38ff7f4-e9f2-41b1-af2f-405881afc74b",
   "metadata": {},
   "source": [
    "data = pd.read_csv(\"/datasets/tweets_lemm.csv\")\n",
    "corpus = data['lemm_text'].values.astype('U')\n",
    "\n",
    "nltk.download('stopwords')\n",
    "stopwords = set(nltk_stopwords.words('russian'))\n",
    "\n",
    "count_tf_idf = TfidfVectorizer(stop_words=stopwords)\n",
    "tf_idf = count_tf_idf.fit_transform(corpus)\n",
    "\n",
    "print(\"Размер матрицы:\", tf_idf.shape)"
   ]
  },
  {
   "cell_type": "code",
   "execution_count": 14,
   "id": "098eff80-3bf7-4860-b6fe-aa675e43718a",
   "metadata": {},
   "outputs": [
    {
     "name": "stderr",
     "output_type": "stream",
     "text": [
      "[nltk_data] Downloading package stopwords to /home/bionic/nltk_data...\n",
      "[nltk_data]   Unzipping corpora/stopwords.zip.\n"
     ]
    }
   ],
   "source": [
    "nltk.download('stopwords')\n",
    "stopwords = set(nltk_stopwords.words('russian'))"
   ]
  },
  {
   "cell_type": "code",
   "execution_count": 31,
   "id": "df7ebc51-98ed-4dcb-a7d3-c15e054a0ddc",
   "metadata": {},
   "outputs": [],
   "source": [
    "tweets_lemm_train = pd.read_csv(\n",
    "        './datasets/tweets_lemm_train.csv',\n",
    "        usecols=['positive', 'lemm_text']\n",
    "    )\n",
    "\n",
    "tweets_lemm_test= pd.read_csv(\n",
    "        './datasets/tweets_lemm_test.csv',\n",
    "        usecols=['lemm_text']\n",
    "    )"
   ]
  },
  {
   "cell_type": "code",
   "execution_count": 32,
   "id": "31500af1-e806-413b-889e-b6dd47935bf3",
   "metadata": {},
   "outputs": [
    {
     "name": "stdout",
     "output_type": "stream",
     "text": [
      "2500 2500 5000\n"
     ]
    }
   ],
   "source": [
    "print(\n",
    "    len(tweets_lemm_train.loc[tweets_lemm_train['positive'] == 1].index),\n",
    "    len(tweets_lemm_train.loc[tweets_lemm_train['positive'] == 0].index),\n",
    "    len(tweets_lemm_train.index),\n",
    "    \n",
    ")"
   ]
  },
  {
   "cell_type": "code",
   "execution_count": null,
   "id": "e760efb0-75ec-41b0-af16-5daacf0ff348",
   "metadata": {},
   "outputs": [],
   "source": []
  },
  {
   "cell_type": "code",
   "execution_count": 33,
   "id": "35bddeef-1bce-4304-a6bc-9e55f0f7bbf7",
   "metadata": {},
   "outputs": [
    {
     "data": {
      "text/html": [
       "<div>\n",
       "<style scoped>\n",
       "    .dataframe tbody tr th:only-of-type {\n",
       "        vertical-align: middle;\n",
       "    }\n",
       "\n",
       "    .dataframe tbody tr th {\n",
       "        vertical-align: top;\n",
       "    }\n",
       "\n",
       "    .dataframe thead th {\n",
       "        text-align: right;\n",
       "    }\n",
       "</style>\n",
       "<table border=\"1\" class=\"dataframe\">\n",
       "  <thead>\n",
       "    <tr style=\"text-align: right;\">\n",
       "      <th></th>\n",
       "      <th>positive</th>\n",
       "      <th>lemm_text</th>\n",
       "    </tr>\n",
       "  </thead>\n",
       "  <tbody>\n",
       "    <tr>\n",
       "      <th>0</th>\n",
       "      <td>1</td>\n",
       "      <td>хоть я и школотый но поверь у мы то же самый о...</td>\n",
       "    </tr>\n",
       "    <tr>\n",
       "      <th>1</th>\n",
       "      <td>1</td>\n",
       "      <td>да весь таки он немного похожий на он но мой м...</td>\n",
       "    </tr>\n",
       "  </tbody>\n",
       "</table>\n",
       "</div>"
      ],
      "text/plain": [
       "   positive                                          lemm_text\n",
       "0         1  хоть я и школотый но поверь у мы то же самый о...\n",
       "1         1  да весь таки он немного похожий на он но мой м..."
      ]
     },
     "metadata": {},
     "output_type": "display_data"
    },
    {
     "data": {
      "text/html": [
       "<div>\n",
       "<style scoped>\n",
       "    .dataframe tbody tr th:only-of-type {\n",
       "        vertical-align: middle;\n",
       "    }\n",
       "\n",
       "    .dataframe tbody tr th {\n",
       "        vertical-align: top;\n",
       "    }\n",
       "\n",
       "    .dataframe thead th {\n",
       "        text-align: right;\n",
       "    }\n",
       "</style>\n",
       "<table border=\"1\" class=\"dataframe\">\n",
       "  <thead>\n",
       "    <tr style=\"text-align: right;\">\n",
       "      <th></th>\n",
       "      <th>lemm_text</th>\n",
       "    </tr>\n",
       "  </thead>\n",
       "  <tbody>\n",
       "    <tr>\n",
       "      <th>0</th>\n",
       "      <td>если крис так интересовать ребёнок то либо они...</td>\n",
       "    </tr>\n",
       "    <tr>\n",
       "      <th>1</th>\n",
       "      <td>по рубль в месяц можно разместить ссылка на те...</td>\n",
       "    </tr>\n",
       "    <tr>\n",
       "      <th>2</th>\n",
       "      <td>учитывать что сейчас преобладать один половина...</td>\n",
       "    </tr>\n",
       "  </tbody>\n",
       "</table>\n",
       "</div>"
      ],
      "text/plain": [
       "                                           lemm_text\n",
       "0  если крис так интересовать ребёнок то либо они...\n",
       "1  по рубль в месяц можно разместить ссылка на те...\n",
       "2  учитывать что сейчас преобладать один половина..."
      ]
     },
     "metadata": {},
     "output_type": "display_data"
    }
   ],
   "source": [
    "display(tweets_lemm_train.head(2))\n",
    "display(tweets_lemm_test.head(3))"
   ]
  },
  {
   "cell_type": "code",
   "execution_count": 35,
   "id": "293bd042-f856-4410-88ef-a91716951936",
   "metadata": {},
   "outputs": [],
   "source": [
    "features_tweets_lemm_train = tweets_lemm_train['lemm_text'].values.astype('U')\n",
    "features_tweets_lemm_test = tweets_lemm_test['lemm_text'].values.astype('U')"
   ]
  },
  {
   "cell_type": "code",
   "execution_count": 36,
   "id": "d520512d-1fc6-4eb7-9bb3-578547e6ddab",
   "metadata": {},
   "outputs": [
    {
     "name": "stdout",
     "output_type": "stream",
     "text": [
      "Размер матрицы: (5000, 9737)\n"
     ]
    }
   ],
   "source": [
    "count_tf_idf = TfidfVectorizer(stop_words=stopwords)\n",
    "count_tf_idf.fit(features_tweets_lemm_train)\n",
    "\n",
    "tf_idf_train = count_tf_idf.transform(features_tweets_lemm_train)\n",
    "tf_idf_test = count_tf_idf.transform(features_tweets_lemm_test)\n",
    "\n",
    "print(\"Размер матрицы:\", tf_idf_train.shape)"
   ]
  },
  {
   "cell_type": "raw",
   "id": "e2c82cf6-9b10-4ad4-9ab5-cc7c721b4904",
   "metadata": {},
   "source": [
    "LogisticRegression(\n",
    "    penalty='l2',\n",
    "    *,\n",
    "    dual=False,\n",
    "    tol=0.0001,\n",
    "    C=1.0,\n",
    "    fit_intercept=True,\n",
    "    intercept_scaling=1,\n",
    "    class_weight=None,\n",
    "    random_state=None,\n",
    "    solver='lbfgs',\n",
    "    max_iter=100,\n",
    "    multi_class='auto',\n",
    "    verbose=0,\n",
    "    warm_start=False,\n",
    "    n_jobs=None,\n",
    "    l1_ratio=None\n",
    ")"
   ]
  },
  {
   "cell_type": "code",
   "execution_count": 20,
   "id": "f3b4d30a-e56a-445a-888d-ce6c903bc35c",
   "metadata": {},
   "outputs": [
    {
     "data": {
      "text/html": [
       "<style>#sk-container-id-1 {color: black;background-color: white;}#sk-container-id-1 pre{padding: 0;}#sk-container-id-1 div.sk-toggleable {background-color: white;}#sk-container-id-1 label.sk-toggleable__label {cursor: pointer;display: block;width: 100%;margin-bottom: 0;padding: 0.3em;box-sizing: border-box;text-align: center;}#sk-container-id-1 label.sk-toggleable__label-arrow:before {content: \"▸\";float: left;margin-right: 0.25em;color: #696969;}#sk-container-id-1 label.sk-toggleable__label-arrow:hover:before {color: black;}#sk-container-id-1 div.sk-estimator:hover label.sk-toggleable__label-arrow:before {color: black;}#sk-container-id-1 div.sk-toggleable__content {max-height: 0;max-width: 0;overflow: hidden;text-align: left;background-color: #f0f8ff;}#sk-container-id-1 div.sk-toggleable__content pre {margin: 0.2em;color: black;border-radius: 0.25em;background-color: #f0f8ff;}#sk-container-id-1 input.sk-toggleable__control:checked~div.sk-toggleable__content {max-height: 200px;max-width: 100%;overflow: auto;}#sk-container-id-1 input.sk-toggleable__control:checked~label.sk-toggleable__label-arrow:before {content: \"▾\";}#sk-container-id-1 div.sk-estimator input.sk-toggleable__control:checked~label.sk-toggleable__label {background-color: #d4ebff;}#sk-container-id-1 div.sk-label input.sk-toggleable__control:checked~label.sk-toggleable__label {background-color: #d4ebff;}#sk-container-id-1 input.sk-hidden--visually {border: 0;clip: rect(1px 1px 1px 1px);clip: rect(1px, 1px, 1px, 1px);height: 1px;margin: -1px;overflow: hidden;padding: 0;position: absolute;width: 1px;}#sk-container-id-1 div.sk-estimator {font-family: monospace;background-color: #f0f8ff;border: 1px dotted black;border-radius: 0.25em;box-sizing: border-box;margin-bottom: 0.5em;}#sk-container-id-1 div.sk-estimator:hover {background-color: #d4ebff;}#sk-container-id-1 div.sk-parallel-item::after {content: \"\";width: 100%;border-bottom: 1px solid gray;flex-grow: 1;}#sk-container-id-1 div.sk-label:hover label.sk-toggleable__label {background-color: #d4ebff;}#sk-container-id-1 div.sk-serial::before {content: \"\";position: absolute;border-left: 1px solid gray;box-sizing: border-box;top: 0;bottom: 0;left: 50%;z-index: 0;}#sk-container-id-1 div.sk-serial {display: flex;flex-direction: column;align-items: center;background-color: white;padding-right: 0.2em;padding-left: 0.2em;position: relative;}#sk-container-id-1 div.sk-item {position: relative;z-index: 1;}#sk-container-id-1 div.sk-parallel {display: flex;align-items: stretch;justify-content: center;background-color: white;position: relative;}#sk-container-id-1 div.sk-item::before, #sk-container-id-1 div.sk-parallel-item::before {content: \"\";position: absolute;border-left: 1px solid gray;box-sizing: border-box;top: 0;bottom: 0;left: 50%;z-index: -1;}#sk-container-id-1 div.sk-parallel-item {display: flex;flex-direction: column;z-index: 1;position: relative;background-color: white;}#sk-container-id-1 div.sk-parallel-item:first-child::after {align-self: flex-end;width: 50%;}#sk-container-id-1 div.sk-parallel-item:last-child::after {align-self: flex-start;width: 50%;}#sk-container-id-1 div.sk-parallel-item:only-child::after {width: 0;}#sk-container-id-1 div.sk-dashed-wrapped {border: 1px dashed gray;margin: 0 0.4em 0.5em 0.4em;box-sizing: border-box;padding-bottom: 0.4em;background-color: white;}#sk-container-id-1 div.sk-label label {font-family: monospace;font-weight: bold;display: inline-block;line-height: 1.2em;}#sk-container-id-1 div.sk-label-container {text-align: center;}#sk-container-id-1 div.sk-container {/* jupyter's `normalize.less` sets `[hidden] { display: none; }` but bootstrap.min.css set `[hidden] { display: none !important; }` so we also need the `!important` here to be able to override the default hidden behavior on the sphinx rendered scikit-learn.org. See: https://github.com/scikit-learn/scikit-learn/issues/21755 */display: inline-block !important;position: relative;}#sk-container-id-1 div.sk-text-repr-fallback {display: none;}</style><div id=\"sk-container-id-1\" class=\"sk-top-container\"><div class=\"sk-text-repr-fallback\"><pre>LogisticRegression()</pre><b>In a Jupyter environment, please rerun this cell to show the HTML representation or trust the notebook. <br />On GitHub, the HTML representation is unable to render, please try loading this page with nbviewer.org.</b></div><div class=\"sk-container\" hidden><div class=\"sk-item\"><div class=\"sk-estimator sk-toggleable\"><input class=\"sk-toggleable__control sk-hidden--visually\" id=\"sk-estimator-id-1\" type=\"checkbox\" checked><label for=\"sk-estimator-id-1\" class=\"sk-toggleable__label sk-toggleable__label-arrow\">LogisticRegression</label><div class=\"sk-toggleable__content\"><pre>LogisticRegression()</pre></div></div></div></div></div>"
      ],
      "text/plain": [
       "LogisticRegression()"
      ]
     },
     "execution_count": 20,
     "metadata": {},
     "output_type": "execute_result"
    }
   ],
   "source": [
    "log_reg = LogisticRegression()\n",
    "log_reg.fit(tf_idf_train, tweets_lemm_train['positive'])"
   ]
  },
  {
   "cell_type": "code",
   "execution_count": 25,
   "id": "d83e6591-43b7-4d1a-9cc6-69affbf1dfb8",
   "metadata": {},
   "outputs": [],
   "source": [
    "scores_log_reg = cross_val_score(\n",
    "        log_reg,\n",
    "        tf_idf_train,\n",
    "        tweets_lemm_train['positive'],\n",
    "        scoring='accuracy',\n",
    "        cv=7\n",
    "    )"
   ]
  },
  {
   "cell_type": "markdown",
   "id": "2adad68a-5137-4efc-9fdd-a2138bfb1836",
   "metadata": {},
   "source": [
    "accuracy = 0.60745098\n",
    "print(accuracy)"
   ]
  },
  {
   "cell_type": "code",
   "execution_count": 26,
   "id": "76daf1ff-e098-4d36-9574-48cf5f530c48",
   "metadata": {},
   "outputs": [
    {
     "name": "stdout",
     "output_type": "stream",
     "text": [
      "[0.62797203 0.63216783 0.67086835 0.6442577  0.62745098 0.60644258\n",
      " 0.60084034]\n"
     ]
    }
   ],
   "source": [
    "print(scores_log_reg)"
   ]
  },
  {
   "cell_type": "code",
   "execution_count": 37,
   "id": "1956d317-f8c4-4026-8a4f-1bc83a8890b1",
   "metadata": {},
   "outputs": [],
   "source": [
    "log_reg_pred = log_reg.predict(tf_idf_test)"
   ]
  },
  {
   "cell_type": "code",
   "execution_count": 38,
   "id": "b1d99baf-22a3-43b8-97db-7ced069ca579",
   "metadata": {},
   "outputs": [
    {
     "data": {
      "text/plain": [
       "array([1, 0, 0, ..., 0, 0, 1])"
      ]
     },
     "metadata": {},
     "output_type": "display_data"
    }
   ],
   "source": [
    "display(log_reg_pred)"
   ]
  },
  {
   "cell_type": "code",
   "execution_count": 48,
   "id": "356bc6f3-04ef-4069-a9b8-6c140c52a928",
   "metadata": {},
   "outputs": [],
   "source": [
    "tweets_lemm_test['positive'] = log_reg_pred"
   ]
  },
  {
   "cell_type": "code",
   "execution_count": 49,
   "id": "026ae80c-37d0-4f47-b607-705087c8b941",
   "metadata": {},
   "outputs": [
    {
     "data": {
      "text/html": [
       "<div>\n",
       "<style scoped>\n",
       "    .dataframe tbody tr th:only-of-type {\n",
       "        vertical-align: middle;\n",
       "    }\n",
       "\n",
       "    .dataframe tbody tr th {\n",
       "        vertical-align: top;\n",
       "    }\n",
       "\n",
       "    .dataframe thead th {\n",
       "        text-align: right;\n",
       "    }\n",
       "</style>\n",
       "<table border=\"1\" class=\"dataframe\">\n",
       "  <thead>\n",
       "    <tr style=\"text-align: right;\">\n",
       "      <th></th>\n",
       "      <th>lemm_text</th>\n",
       "      <th>predictions</th>\n",
       "      <th>positive</th>\n",
       "    </tr>\n",
       "  </thead>\n",
       "  <tbody>\n",
       "    <tr>\n",
       "      <th>0</th>\n",
       "      <td>если крис так интересовать ребёнок то либо они...</td>\n",
       "      <td>1</td>\n",
       "      <td>1</td>\n",
       "    </tr>\n",
       "    <tr>\n",
       "      <th>1</th>\n",
       "      <td>по рубль в месяц можно разместить ссылка на те...</td>\n",
       "      <td>0</td>\n",
       "      <td>0</td>\n",
       "    </tr>\n",
       "    <tr>\n",
       "      <th>2</th>\n",
       "      <td>учитывать что сейчас преобладать один половина...</td>\n",
       "      <td>0</td>\n",
       "      <td>0</td>\n",
       "    </tr>\n",
       "    <tr>\n",
       "      <th>3</th>\n",
       "      <td>товарищ но я никак не мочь отдельно не отметит...</td>\n",
       "      <td>0</td>\n",
       "      <td>0</td>\n",
       "    </tr>\n",
       "    <tr>\n",
       "      <th>4</th>\n",
       "      <td>квн быть отличный оооочень понравиться женский...</td>\n",
       "      <td>1</td>\n",
       "      <td>1</td>\n",
       "    </tr>\n",
       "    <tr>\n",
       "      <th>...</th>\n",
       "      <td>...</td>\n",
       "      <td>...</td>\n",
       "      <td>...</td>\n",
       "    </tr>\n",
       "    <tr>\n",
       "      <th>2995</th>\n",
       "      <td>жуйк ачивка в контра зло мой младший брат втян...</td>\n",
       "      <td>0</td>\n",
       "      <td>0</td>\n",
       "    </tr>\n",
       "    <tr>\n",
       "      <th>2996</th>\n",
       "      <td>не хотеть идти на танец</td>\n",
       "      <td>0</td>\n",
       "      <td>0</td>\n",
       "    </tr>\n",
       "    <tr>\n",
       "      <th>2997</th>\n",
       "      <td>на улица пусто ни человек ни машина наверно хо...</td>\n",
       "      <td>0</td>\n",
       "      <td>0</td>\n",
       "    </tr>\n",
       "    <tr>\n",
       "      <th>2998</th>\n",
       "      <td>по мой мы и ходить за водка в три час за это ч...</td>\n",
       "      <td>0</td>\n",
       "      <td>0</td>\n",
       "    </tr>\n",
       "    <tr>\n",
       "      <th>2999</th>\n",
       "      <td>р в сказать что с утро быть самостоятельный ну...</td>\n",
       "      <td>1</td>\n",
       "      <td>1</td>\n",
       "    </tr>\n",
       "  </tbody>\n",
       "</table>\n",
       "<p>3000 rows × 3 columns</p>\n",
       "</div>"
      ],
      "text/plain": [
       "                                              lemm_text  predictions  positive\n",
       "0     если крис так интересовать ребёнок то либо они...            1         1\n",
       "1     по рубль в месяц можно разместить ссылка на те...            0         0\n",
       "2     учитывать что сейчас преобладать один половина...            0         0\n",
       "3     товарищ но я никак не мочь отдельно не отметит...            0         0\n",
       "4     квн быть отличный оооочень понравиться женский...            1         1\n",
       "...                                                 ...          ...       ...\n",
       "2995  жуйк ачивка в контра зло мой младший брат втян...            0         0\n",
       "2996                           не хотеть идти на танец             0         0\n",
       "2997  на улица пусто ни человек ни машина наверно хо...            0         0\n",
       "2998  по мой мы и ходить за водка в три час за это ч...            0         0\n",
       "2999  р в сказать что с утро быть самостоятельный ну...            1         1\n",
       "\n",
       "[3000 rows x 3 columns]"
      ]
     },
     "metadata": {},
     "output_type": "display_data"
    }
   ],
   "source": [
    "display(tweets_lemm_test)"
   ]
  },
  {
   "cell_type": "code",
   "execution_count": 50,
   "id": "0bf00dcb-abe1-4801-b5d1-5d592fc5cd0e",
   "metadata": {},
   "outputs": [],
   "source": [
    "tweets_lemm_test.to_csv(\n",
    "    path_or_buf='./predictions',\n",
    "    columns=['positive'],\n",
    "    # index=False,\n",
    "    # header=False,\n",
    ")"
   ]
  },
  {
   "cell_type": "raw",
   "id": "a37fa3a4-ca55-48f7-8f2d-26a2eaff700c",
   "metadata": {},
   "source": [
    "DataFrame.to_csv(\n",
    "    path_or_buf=None,\n",
    "    sep=',',\n",
    "    na_rep='',\n",
    "    float_format=None,\n",
    "    columns=None,\n",
    "    header=True,\n",
    "    index=True,\n",
    "    index_label=None,\n",
    "    mode='w',\n",
    "    encoding=None,\n",
    "    compression='infer',\n",
    "    quoting=None,\n",
    "    quotechar='\"',\n",
    "    lineterminator=None,\n",
    "    chunksize=None,\n",
    "    date_format=None,\n",
    "    doublequote=True,\n",
    "    escapechar=None,\n",
    "    decimal='.',\n",
    "    errors='strict',\n",
    "    storage_options=None\n",
    ")"
   ]
  }
 ],
 "metadata": {
  "kernelspec": {
   "display_name": "Python 3 (ipykernel)",
   "language": "python",
   "name": "python3"
  },
  "language_info": {
   "codemirror_mode": {
    "name": "ipython",
    "version": 3
   },
   "file_extension": ".py",
   "mimetype": "text/x-python",
   "name": "python",
   "nbconvert_exporter": "python",
   "pygments_lexer": "ipython3",
   "version": "3.10.6"
  }
 },
 "nbformat": 4,
 "nbformat_minor": 5
}
