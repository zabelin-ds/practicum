{
 "cells": [
  {
   "cell_type": "markdown",
   "id": "00299f70",
   "metadata": {},
   "source": [
    "<img src=\"http://s3.amazonaws.com/pix.iemoji.com/images/emoji/apple/ios-12/256/waving-hand.png\" align=left width=44, heigth=44>\n",
    "<div class=\"alert alert-info\">\n",
    "<b> Комментарий ревьюера</b>\n",
    "\n",
    "\n",
    "Привет, Алексей! Давай знакомиться! Меня зовут Дмитрий Махортов, и я буду проверять твой проект. Сразу предлагаю общение на «ты» 🙂, но если тебе это не комфортно, то дай знать, и мы перейдем на «вы». \n",
    "\n",
    "Моя основная цель — не указать на совершенные тобою ошибки, а поделиться своим опытом и помочь тебе погрузиться в увлекательный мир работы с данными и вырасти в крепкого профи. Это отдаленная цель. А ближайшая - сделать твою работу еще лучше )).\n",
    "   \n",
    "    \n",
    "Все ключевые этапы в работе выполнены, и я вижу что с проектом ты справшяешься. Есть моменты, которые нужно доработать, но я уверен, у тебя все получится.\n",
    "        \n",
    "Расскажу как обычно проходит проверка:    \n",
    "Бывают моменты, которые требуют пристального внимания. Комментарии по ним выделены <span style='background-color:#F7B3A4'> красным цветом </span> и обозначены значком 🛑. После их доработки проект будет принят.  🙂\n",
    " \n",
    "<span style='background-color:#B7EBA7'> Зеленым цветом </span> и значком ✅ отмечены удачные и элегантные решения, на которые можно опираться в будущих проектах. Или советы «со звездочкой», которые помогут тебе в будущем.\n",
    "\n",
    "<span style='background-color:#F9EDA6'>Жёлтым цветом </span> и значком ⚠️ выделено то, что в следующий раз можно сделать по-другому. Ты можешь учесть эти комментарии при выполнении будущих заданий или доработать проект сейчас (однако это не обязательно).\n",
    "\n",
    "Давай работать над проектом в диалоге: **если ты что-то меняешь в проекте по моим рекомендациям — пиши об этом**. Выбери для своих комментариев какой-то заметный цвет, так мне будет легче отследить изменения. Пожалуйста, **не перемещай, не изменяй и не удаляй мои комментарии**. Всё это поможет выполнить повторную проверку твоего проекта оперативнее. \n",
    "</div>"
   ]
  },
  {
   "cell_type": "markdown",
   "id": "e8f776c2-6ffe-42a7-b00c-1bb065b6e259",
   "metadata": {},
   "source": [
    "<div class=\"alert alert-info\" role=\"alert\" style=\"border-radius: 7px\">\n",
    "    <span style=\"font-size:0.7rem\">Student's note 02</span>\n",
    "    <p class=\"mb-0\"><strong>Комментарий:</strong></p>\n",
    "<!--     <p class=\"mb-0\"><strong>Исправление:</strong></p> -->\n",
    "    <p class=\"mb-0\">Здравствуй, Дмитрий, спасибо за проверку. 🔆</p>\n",
    "</div>"
   ]
  },
  {
   "cell_type": "markdown",
   "id": "5530efbc-0e51-4404-8695-a7ddf2ae334f",
   "metadata": {},
   "source": [
    "# Учебный Проект → «Викишоп» 📚"
   ]
  },
  {
   "cell_type": "markdown",
   "id": "32a985cd-605f-4979-834e-33d714035bba",
   "metadata": {},
   "source": [
    ">Интернет-магазин «Викишоп» запускает новый сервис. Теперь пользователи могут редактировать и дополнять описания товаров, как в вики-сообществах. То есть клиенты предлагают свои правки и комментируют изменения других. Магазину нужен инструмент, который будет искать токсичные комментарии и отправлять их на модерацию. \n",
    "Обучите модель классифицировать комментарии на позитивные и негативные. В вашем распоряжении набор данных с разметкой о токсичности правок."
   ]
  },
  {
   "cell_type": "markdown",
   "id": "c5371336-ca53-45b0-980b-ddbd43f763bc",
   "metadata": {},
   "source": [
    "<div class=\"alert alert-info\" role=\"alert\" style=\"border-radius: 7px\">\n",
    "    <span style=\"font-size:0.7rem\">Student's note 01</span>\n",
    "    <p class=\"mb-0\"><strong>Комментарий:</strong></p>\n",
    "<!--     <p class=\"mb-0\"><strong>Исправление:</strong></p> -->\n",
    "    <p class=\"mb-0\">Здравствуй, уважаемый ревьювер.</p>\n",
    "    <p class=\"mb-0\">Делал проект с <code>BERT</code>, но времени не хватило. Сначала импорты <code>transformers</code> и <code>tensorflow</code> раняли <code>kernel</code>. Кстати в тетрадке на kaggle тоже самое. В <code>Google Colab</code> завелись и <code>transformers</code> и <code>tensorflow</code>. Но даже с <code>batch</code> вычисления съели всю оперативку и тетрадка упала..</p>\n",
    "    <p class=\"mb-0\">Нашел библиотеку <code>pytorch_pretrained_bert</code>. В ней, хоть и криво, но работает. Криво потомучто, например у <code>BertTokenizer</code> нет метода <code>encode</code>. И чтобы хоть както токенизировать нужно пройтись двумя методами <code>tokenize</code> и <code>convert_tokens_to_ids</code>. Но теряются метки начала и конца предложения, не нашел отдельный метод для них в классе.. И тут, казалось бы, можно хотябы поробовать без меток, но <code>cuda</code> не нашлась или не понял как на ubuntu прикрутить <code>cuda</code>. В итоге время на вычесление <code>embeddings</code> какоето немыслимое. Попробовал <code>downsampling</code> чтобы хоть как+то добыть <code>embeddings</code>. Но даже на выборке размером 31814 время вычесления 43+ часа. Уже не успеваю, ведь ещё модель нужно будет обучить..</p>\n",
    "<p class=\"mb-0\">Вообщем, делаю по второму варианту. Потуги с <code>BERT</code> в окончании проекта. </p>\n",
    "</div>"
   ]
  },
  {
   "cell_type": "markdown",
   "id": "38c96b7c",
   "metadata": {},
   "source": [
    "<img src=\"http://s3.amazonaws.com/pix.iemoji.com/images/emoji/apple/ios-12/256/waving-hand.png\" align=left width=44, heigth=44>\n",
    "<div class=\"alert alert-info\">\n",
    "<b> Комментарий ревьюера</b>\n",
    "\n",
    "Здесь сложно выделить какую-то одну ошибку. Но на что я советую обратить внимание:\n",
    "\n",
    " - импорт tensorflow. Эта библиотека тебе точно не нужна, используемые нами модели ориентируются на pytorch. \n",
    " - pytorch_pretrained_bert - эта библиотека не поддерживается с 2019 года, и мне кажется что учитывая скорость развития DL библиотек и фреймворков безнадежно устарела. \n",
    "    \n",
    "Решиться на работу с полной базой без GPU это очень смело... Даже если использовать даунсемплинг. Поэтому или работать с очень небольшой выборкой, либо использовать GPU.\n",
    "    \n",
    "В Google Colab все очень хорошо работает и при наличии CUDA векторизация всех текстов занимает около 100 минут. Как еще можно ускорить обработку:\n",
    "    \n",
    " - Уменьшить длину последовательности. Сложность работы растет квадратично с длинной последовательности и при длинне 256 токенов должна уменьшиться в 4 раза. Но фактически составляет 37 минут.\n",
    " -  Использовать более \"легкие\" модели, например distilbert. Время работы уменьшаетя до 16 минут на весь датасет.\n",
    "    \n",
    "\n",
    "Но с моей стороны будет нечестно не предупредить тебя еще об одной \"засаде\". На признаках (векторах) полученных с помощью обычных моделей BERT (или дистилированного BERT), обученных на википедии и книжках сложно обучить модели,хорошо детектящие токсичность. Безусловно, этот подход работает и если взять весь датасет то скорее всего получится преодолеть планку 0,7 или может быть даже приблизиться к 0,75. Но нет гарантии что удастся уверенно побить эту планку. \n",
    "    \n",
    "Было бы неплохо использовать чуть более качественные векторные представления. И получить их можно из моделей, уже видевших задачу токсичности.  Можно конечно дообучить BERT на детекцию токсичности и это не очень сложно, однако это заведомо выходит за рамки проекта. БОлее простым решением будет ипользовать веса модели, которая задачу токсичности уже решала. Я могу рекомендовать \"unitary/toxic-bert\". Кстати эту и другие модели ты можешь найти на HuggingFace по запросу toxic.  \n",
    "    \n",
    "    \n",
    "Кстати,вот ссылка на гугл-колаб, демонстрирующая что все замечательно \"взлетает\" (я проводил эксперименты) \n",
    "    \n",
    "    \n",
    "https://drive.google.com/file/d/1nIurdQ8VJDWUKDEO1GcDq-f04ugTVhDt/view?usp=sharing    \n",
    "</div>"
   ]
  },
  {
   "cell_type": "markdown",
   "id": "3e697c7f",
   "metadata": {},
   "source": [
    "<img src=\"https://upload.wikimedia.org/wikipedia/commons/b/ba/Warning_sign_4.0.png\" align=left width=44, heigth=33>\n",
    "<div class=\"alert alert-warning\">\n",
    "Прошу тебя навести порядок в проекте, удалить лишние ячейки с неудачными экспериментами или просмотрами состояний переменных. </div>"
   ]
  },
  {
   "cell_type": "markdown",
   "id": "6f6b01ed-4c86-4884-999b-fb4adf473652",
   "metadata": {},
   "source": [
    "<div class=\"alert alert-info\" role=\"alert\" style=\"border-radius: 7px\">\n",
    "    <span style=\"font-size:0.7rem\">Student's note 01</span>\n",
    "    <p class=\"mb-0\"><strong>Комментарий:</strong></p>\n",
    "<!--     <p class=\"mb-0\"><strong>Исправление:</strong></p> -->\n",
    "    <p class=\"mb-0\">Почистил. </p>\n",
    "</div>"
   ]
  },
  {
   "cell_type": "markdown",
   "id": "9eb67c11-b0b1-4036-86c9-fdb525ed953b",
   "metadata": {},
   "source": [
    "Импортируем библиотеки 🎒"
   ]
  },
  {
   "cell_type": "code",
   "execution_count": 105,
   "id": "ce5e71ad-20df-41ed-a975-11fc71eb29d0",
   "metadata": {
    "collapsed": false,
    "jupyter": {
     "outputs_hidden": false
    }
   },
   "outputs": [
    {
     "name": "stderr",
     "output_type": "stream",
     "text": [
      "[nltk_data] Downloading package wordnet to /home/bionic/nltk_data...\n",
      "[nltk_data]   Package wordnet is already up-to-date!\n",
      "[nltk_data] Downloading package punkt to /home/bionic/nltk_data...\n",
      "[nltk_data]   Package punkt is already up-to-date!\n",
      "[nltk_data] Downloading package averaged_perceptron_tagger to\n",
      "[nltk_data]     /home/bionic/nltk_data...\n",
      "[nltk_data]   Package averaged_perceptron_tagger is already up-to-\n",
      "[nltk_data]       date!\n"
     ]
    }
   ],
   "source": [
    "import re\n",
    "import pandas as pd\n",
    "import matplotlib as mpl\n",
    "import matplotlib.pyplot as plt\n",
    "import numpy as np\n",
    "import torch\n",
    "import nltk\n",
    "import string\n",
    "\n",
    "nltk.download('wordnet')\n",
    "nltk.download('punkt')\n",
    "nltk.download('averaged_perceptron_tagger')\n",
    "\n",
    "from nltk.stem import WordNetLemmatizer\n",
    "from nltk.corpus import wordnet\n",
    "from nltk.corpus import stopwords\n",
    "\n",
    "from tqdm.notebook import tqdm\n",
    "from tqdm.notebook import trange\n",
    "tqdm.pandas()\n",
    "\n",
    "from numpy.random import RandomState\n",
    "\n",
    "from matplotlib import rcParams\n",
    "\n",
    "from sklearn.linear_model import LogisticRegression\n",
    "from sklearn.model_selection import GridSearchCV\n",
    "from sklearn.model_selection import cross_val_score\n",
    "from sklearn.model_selection import train_test_split\n",
    "from sklearn.model_selection import KFold\n",
    "from sklearn.preprocessing import StandardScaler\n",
    "from sklearn.preprocessing import Normalizer\n",
    "\n",
    "from sklearn.metrics import f1_score\n",
    "from sklearn.feature_extraction.text import TfidfVectorizer\n",
    "from sklearn.feature_extraction.text import CountVectorizer\n",
    "from sklearn.pipeline import make_pipeline\n",
    "\n",
    "from scipy.sparse import hstack\n",
    "\n",
    "from catboost import CatBoostClassifier"
   ]
  },
  {
   "cell_type": "markdown",
   "id": "a2f73086",
   "metadata": {},
   "source": [
    "<img src=\"https://emojigraph.org/media/apple/check-mark-button_2705.png\" align=left width=33, heigth=33>\n",
    "<div class=\"alert alert-success\">\n",
    "Отлично, все нужные библиотеки импортированы в начале ноутбука.Это хорошая практика.</div>"
   ]
  },
  {
   "cell_type": "code",
   "execution_count": 60,
   "id": "d25fcbc4-b0a6-4383-afbd-3696b61d4751",
   "metadata": {
    "collapsed": false,
    "jupyter": {
     "outputs_hidden": false
    },
    "pycharm": {
     "name": "#%%\n"
    }
   },
   "outputs": [],
   "source": [
    "# set max columns to none\n",
    "pd.set_option(\"display.max_columns\", None)\n",
    "pd.set_option(\"display.max_rows\", 200)"
   ]
  },
  {
   "cell_type": "markdown",
   "id": "b2397a50-8a82-4524-9de4-2a68b0929c28",
   "metadata": {},
   "source": [
    "Константы."
   ]
  },
  {
   "cell_type": "code",
   "execution_count": 61,
   "id": "2ff71385-7456-472e-997c-b973531fe8fe",
   "metadata": {},
   "outputs": [],
   "source": [
    "RANDOM_SEED = 108108108\n",
    "RANDOM_NP = RandomState(128)\n",
    "STOPWORDS = stopwords.words('english')"
   ]
  },
  {
   "cell_type": "markdown",
   "id": "d4fe211f-7bef-4a89-91da-5a60ad5ef011",
   "metadata": {},
   "source": [
    "Функции."
   ]
  },
  {
   "cell_type": "code",
   "execution_count": 62,
   "id": "b5662396-90be-411f-82a8-dde2e129dbc3",
   "metadata": {},
   "outputs": [],
   "source": [
    "def get_wordnet_pos(word):\n",
    "    \"\"\"Map POS tag to first character lemmatize() accepts\"\"\"\n",
    "    tag = nltk.pos_tag([word])[0][1][0].upper()\n",
    "    tag_dict = {\n",
    "            \"J\": wordnet.ADJ,\n",
    "            \"N\": wordnet.NOUN,\n",
    "            \"V\": wordnet.VERB,\n",
    "            \"R\": wordnet.ADV\n",
    "        }\n",
    "    return tag_dict.get(tag, wordnet.NOUN)"
   ]
  },
  {
   "cell_type": "markdown",
   "id": "4fc23047-64f5-4dce-9ada-ebbe4f2c02cd",
   "metadata": {},
   "source": [
    "Подсмотрел на https://webdevblog.ru/podhody-lemmatizacii-s-primerami-v-python/"
   ]
  },
  {
   "cell_type": "markdown",
   "id": "fad13d44",
   "metadata": {},
   "source": [
    "<img src=\"https://emojigraph.org/media/apple/check-mark-button_2705.png\" align=left width=33, heigth=33>\n",
    "<div class=\"alert alert-success\">\n",
    " 👍 </div>"
   ]
  },
  {
   "cell_type": "markdown",
   "id": "e5b38948-461b-462a-b08b-6ccb971f08f5",
   "metadata": {},
   "source": [
    "<hr>"
   ]
  },
  {
   "cell_type": "markdown",
   "id": "a1725498-7dfc-41ac-baac-c969d2b42596",
   "metadata": {},
   "source": [
    "## Загрузим данные"
   ]
  },
  {
   "cell_type": "markdown",
   "id": "aaf21df4-36ac-42ef-8ad7-7ba0c013364e",
   "metadata": {},
   "source": [
    "Столбец `text` в нём содержит текст комментария, а `toxic` — целевой признак."
   ]
  },
  {
   "cell_type": "code",
   "execution_count": 63,
   "id": "69576c5f-91ad-45e9-8fd8-5e556fe2bfaa",
   "metadata": {
    "collapsed": false,
    "jupyter": {
     "outputs_hidden": false
    }
   },
   "outputs": [],
   "source": [
    "try:\n",
    "    comments_df = pd.read_csv(\n",
    "        './datasets/toxic_comments.csv',\n",
    "        usecols=['text', 'toxic']\n",
    "    )\n",
    "    \n",
    "except FileNotFoundError:\n",
    "    comments_df = pd.read_csv(\n",
    "        'https://code.s3.yandex.net/datasets/toxic_comments.csv',\n",
    "        usecols=['text', 'toxic']\n",
    "    )\n",
    "    print('FYI datasets loaded via url')"
   ]
  },
  {
   "cell_type": "markdown",
   "id": "ab211521",
   "metadata": {},
   "source": [
    "<img src=\"https://emojigraph.org/media/apple/check-mark-button_2705.png\" align=left width=33, heigth=33>\n",
    "<div class=\"alert alert-success\">\n",
    " 👍 Загрузка из облака это беспроигрышный вариант ))</div>"
   ]
  },
  {
   "cell_type": "code",
   "execution_count": 64,
   "id": "2a2317df-d2c7-43ea-b051-6401770324b5",
   "metadata": {},
   "outputs": [
    {
     "data": {
      "text/html": [
       "<div>\n",
       "<style scoped>\n",
       "    .dataframe tbody tr th:only-of-type {\n",
       "        vertical-align: middle;\n",
       "    }\n",
       "\n",
       "    .dataframe tbody tr th {\n",
       "        vertical-align: top;\n",
       "    }\n",
       "\n",
       "    .dataframe thead th {\n",
       "        text-align: right;\n",
       "    }\n",
       "</style>\n",
       "<table border=\"1\" class=\"dataframe\">\n",
       "  <thead>\n",
       "    <tr style=\"text-align: right;\">\n",
       "      <th></th>\n",
       "      <th>text</th>\n",
       "      <th>toxic</th>\n",
       "    </tr>\n",
       "  </thead>\n",
       "  <tbody>\n",
       "    <tr>\n",
       "      <th>0</th>\n",
       "      <td>Explanation\\nWhy the edits made under my usern...</td>\n",
       "      <td>0</td>\n",
       "    </tr>\n",
       "    <tr>\n",
       "      <th>1</th>\n",
       "      <td>D'aww! He matches this background colour I'm s...</td>\n",
       "      <td>0</td>\n",
       "    </tr>\n",
       "  </tbody>\n",
       "</table>\n",
       "</div>"
      ],
      "text/plain": [
       "                                                text  toxic\n",
       "0  Explanation\\nWhy the edits made under my usern...      0\n",
       "1  D'aww! He matches this background colour I'm s...      0"
      ]
     },
     "metadata": {},
     "output_type": "display_data"
    },
    {
     "data": {
      "text/html": [
       "<div>\n",
       "<style scoped>\n",
       "    .dataframe tbody tr th:only-of-type {\n",
       "        vertical-align: middle;\n",
       "    }\n",
       "\n",
       "    .dataframe tbody tr th {\n",
       "        vertical-align: top;\n",
       "    }\n",
       "\n",
       "    .dataframe thead th {\n",
       "        text-align: right;\n",
       "    }\n",
       "</style>\n",
       "<table border=\"1\" class=\"dataframe\">\n",
       "  <thead>\n",
       "    <tr style=\"text-align: right;\">\n",
       "      <th></th>\n",
       "      <th>text</th>\n",
       "      <th>toxic</th>\n",
       "    </tr>\n",
       "  </thead>\n",
       "  <tbody>\n",
       "    <tr>\n",
       "      <th>81791</th>\n",
       "      <td>\"\\n\\n Systemic risk \\n\\nI have a couple of sug...</td>\n",
       "      <td>0</td>\n",
       "    </tr>\n",
       "    <tr>\n",
       "      <th>104170</th>\n",
       "      <td>\"\\n\\nImage Tagging Image:Aftab2.jpg\\n\\n This m...</td>\n",
       "      <td>0</td>\n",
       "    </tr>\n",
       "  </tbody>\n",
       "</table>\n",
       "</div>"
      ],
      "text/plain": [
       "                                                     text  toxic\n",
       "81791   \"\\n\\n Systemic risk \\n\\nI have a couple of sug...      0\n",
       "104170  \"\\n\\nImage Tagging Image:Aftab2.jpg\\n\\n This m...      0"
      ]
     },
     "metadata": {},
     "output_type": "display_data"
    },
    {
     "data": {
      "text/html": [
       "<div>\n",
       "<style scoped>\n",
       "    .dataframe tbody tr th:only-of-type {\n",
       "        vertical-align: middle;\n",
       "    }\n",
       "\n",
       "    .dataframe tbody tr th {\n",
       "        vertical-align: top;\n",
       "    }\n",
       "\n",
       "    .dataframe thead th {\n",
       "        text-align: right;\n",
       "    }\n",
       "</style>\n",
       "<table border=\"1\" class=\"dataframe\">\n",
       "  <thead>\n",
       "    <tr style=\"text-align: right;\">\n",
       "      <th></th>\n",
       "      <th>text</th>\n",
       "      <th>toxic</th>\n",
       "    </tr>\n",
       "  </thead>\n",
       "  <tbody>\n",
       "    <tr>\n",
       "      <th>159290</th>\n",
       "      <td>And it looks like it was actually you who put ...</td>\n",
       "      <td>0</td>\n",
       "    </tr>\n",
       "    <tr>\n",
       "      <th>159291</th>\n",
       "      <td>\"\\nAnd ... I really don't think you understand...</td>\n",
       "      <td>0</td>\n",
       "    </tr>\n",
       "  </tbody>\n",
       "</table>\n",
       "</div>"
      ],
      "text/plain": [
       "                                                     text  toxic\n",
       "159290  And it looks like it was actually you who put ...      0\n",
       "159291  \"\\nAnd ... I really don't think you understand...      0"
      ]
     },
     "metadata": {},
     "output_type": "display_data"
    },
    {
     "data": {
      "text/plain": [
       "count    159292.000000\n",
       "mean          0.101612\n",
       "std           0.302139\n",
       "min           0.000000\n",
       "25%           0.000000\n",
       "50%           0.000000\n",
       "75%           0.000000\n",
       "max           1.000000\n",
       "Name: toxic, dtype: float64"
      ]
     },
     "metadata": {},
     "output_type": "display_data"
    }
   ],
   "source": [
    "display(\n",
    "    comments_df.head(2),\n",
    "    comments_df.sample(2),\n",
    "    comments_df.tail(2),\n",
    "    comments_df['toxic'].describe(),\n",
    ")"
   ]
  },
  {
   "cell_type": "code",
   "execution_count": 65,
   "id": "5b09fd7e-27b9-4c56-b891-0c9e1bd02091",
   "metadata": {},
   "outputs": [
    {
     "name": "stdout",
     "output_type": "stream",
     "text": [
      "Токсичных комментариев: 10.16%\n"
     ]
    }
   ],
   "source": [
    "print(\n",
    "    'Токсичных комментариев: {:.2%}'.format(\n",
    "            len(comments_df.loc[comments_df['toxic'] == 1].index)\n",
    "            / len(comments_df.index)\n",
    "        )\n",
    ")"
   ]
  },
  {
   "cell_type": "markdown",
   "id": "49f06c69",
   "metadata": {},
   "source": [
    "<img src=\"https://emojigraph.org/media/apple/check-mark-button_2705.png\" align=left width=33, heigth=33>\n",
    "<div class=\"alert alert-success\">\n",
    "Молодец, исследован баланс классов. Это важная информация для задачи классификации.</div>"
   ]
  },
  {
   "cell_type": "markdown",
   "id": "e355eae3-108f-422f-b5bc-b76009557900",
   "metadata": {},
   "source": [
    "Дисбаланс, однако."
   ]
  },
  {
   "cell_type": "markdown",
   "id": "88ee4a2b-1e2d-4641-9cd2-b0bbbc898d1c",
   "metadata": {},
   "source": [
    "Хотел дополнить, но похоже нашел тот же набор данных на kaggle"
   ]
  },
  {
   "cell_type": "markdown",
   "id": "547fd25f-93e7-4e10-9bb6-d54986882666",
   "metadata": {},
   "source": [
    "## Подготовим данные"
   ]
  },
  {
   "cell_type": "markdown",
   "id": "edba828f-65a5-4b4b-81a5-5ce07ef03c4b",
   "metadata": {},
   "source": [
    "### Приведём в нижний регистр и почистим твиты"
   ]
  },
  {
   "cell_type": "code",
   "execution_count": 66,
   "id": "459fa8c6-b956-4712-9983-11b336affe28",
   "metadata": {},
   "outputs": [],
   "source": [
    "comments_df['text'] = comments_df['text'].str.lower()"
   ]
  },
  {
   "cell_type": "markdown",
   "id": "1b47c524-5fcc-47a9-a0ae-a8851281de86",
   "metadata": {},
   "source": [
    "Регулярное выражение для ссылок"
   ]
  },
  {
   "cell_type": "code",
   "execution_count": 67,
   "id": "adc22acb-df81-4bba-8f7d-b3970994f87c",
   "metadata": {},
   "outputs": [],
   "source": [
    "re_url = re.compile(r'http\\S+')"
   ]
  },
  {
   "cell_type": "markdown",
   "id": "e678d0b5-7e91-41cc-aeeb-1ccd73a513a6",
   "metadata": {},
   "source": [
    "Регулярное выражение электропочт"
   ]
  },
  {
   "cell_type": "code",
   "execution_count": 68,
   "id": "5e9fb52f-84e2-45f3-a6a6-42127f802c75",
   "metadata": {},
   "outputs": [],
   "source": [
    "re_email = re.compile(r'\\S*@\\S*\\s?')"
   ]
  },
  {
   "cell_type": "markdown",
   "id": "d71b098e-8608-4607-b71f-3cbe27073f1e",
   "metadata": {},
   "source": [
    "Регулярное выражение для символов"
   ]
  },
  {
   "cell_type": "code",
   "execution_count": 69,
   "id": "0394e4d9-989f-40db-aa7c-d76b36ad0c32",
   "metadata": {},
   "outputs": [],
   "source": [
    "re_symbols = re.compile('[(){}\\[\\]\"\\'~:;><»=|—+-_#0123456789!&?$%^*]')"
   ]
  },
  {
   "cell_type": "markdown",
   "id": "5040db18-c8b3-4c84-aa9d-54977f3b1ed6",
   "metadata": {},
   "source": [
    "Регулярное выражение для сисвола переноса строк"
   ]
  },
  {
   "cell_type": "code",
   "execution_count": 70,
   "id": "51bd3bf8-2191-49c0-884d-0c0644f8ff97",
   "metadata": {},
   "outputs": [],
   "source": [
    "re_new_line = re.compile('(\\n)+')"
   ]
  },
  {
   "cell_type": "markdown",
   "id": "a00ae9ce-3620-4e35-a240-8e185f7b6b17",
   "metadata": {},
   "source": [
    "Регулярное выражение для пробелов"
   ]
  },
  {
   "cell_type": "code",
   "execution_count": 71,
   "id": "f9945a53-d985-4211-b351-379e38f39e0b",
   "metadata": {},
   "outputs": [],
   "source": [
    "re_space = re.compile(r'(\\s)+')"
   ]
  },
  {
   "cell_type": "code",
   "execution_count": 72,
   "id": "a579f051-c856-45c3-be6d-9c32fefe94dd",
   "metadata": {},
   "outputs": [],
   "source": [
    "comments_df['text'] = comments_df['text'].apply(\n",
    "        lambda twt: re.sub(re_url, '', twt)\n",
    "    )"
   ]
  },
  {
   "cell_type": "code",
   "execution_count": 73,
   "id": "f456365e-372c-48fb-a510-f8558a63012c",
   "metadata": {},
   "outputs": [],
   "source": [
    "comments_df['text'] = comments_df['text'].apply(\n",
    "        lambda twt: re.sub(re_email, '', twt)\n",
    "    )"
   ]
  },
  {
   "cell_type": "code",
   "execution_count": 74,
   "id": "42c357d3-4561-4cf2-9a7d-5cd4fcb3420f",
   "metadata": {},
   "outputs": [],
   "source": [
    "comments_df['text'] = comments_df['text'].apply(\n",
    "        lambda twt: re_symbols.sub(' ', twt)\n",
    "    )"
   ]
  },
  {
   "cell_type": "code",
   "execution_count": 75,
   "id": "2c7b0285-738a-431f-88f6-772bca2fb7a7",
   "metadata": {},
   "outputs": [],
   "source": [
    "comments_df['text'] = comments_df['text'].apply(\n",
    "        lambda twt: re.sub(re_new_line, ' ', twt)\n",
    "    )"
   ]
  },
  {
   "cell_type": "code",
   "execution_count": 76,
   "id": "f3bf4cd6-d8c7-4e79-b77a-bc272a4a7196",
   "metadata": {},
   "outputs": [],
   "source": [
    "comments_df['text'] = comments_df['text'].apply(\n",
    "        lambda twt: re.sub(re_space, ' ', twt)\n",
    "    )"
   ]
  },
  {
   "cell_type": "markdown",
   "id": "5afd290f",
   "metadata": {},
   "source": [
    "<img src=\"https://emojigraph.org/media/apple/check-mark-button_2705.png\" align=left width=33, heigth=33>\n",
    "<div class=\"alert alert-success\">\n",
    "Чистка выполнена. Отличная тренировка использованию регулярных выражений.</div>"
   ]
  },
  {
   "cell_type": "markdown",
   "id": "77b32222-62c9-419d-b275-7aea5ab45c75",
   "metadata": {},
   "source": [
    "Lemmatization"
   ]
  },
  {
   "cell_type": "code",
   "execution_count": 77,
   "id": "46e99f67-b4a2-4cac-955d-d3d07695702a",
   "metadata": {},
   "outputs": [],
   "source": [
    "lemmatizer = WordNetLemmatizer()"
   ]
  },
  {
   "cell_type": "code",
   "execution_count": 78,
   "id": "a1d2ce39-0dc1-406a-a061-faecb334bc39",
   "metadata": {},
   "outputs": [],
   "source": [
    "def sentence_lemmatizer(sentence):\n",
    "    return ' '.join(\n",
    "        [\n",
    "            lemmatizer.lemmatize(\n",
    "                w, get_wordnet_pos(w)\n",
    "            ) for w in nltk.word_tokenize(sentence) if w not in string.punctuation and w not in (STOPWORDS)\n",
    "        ]\n",
    "    )"
   ]
  },
  {
   "cell_type": "code",
   "execution_count": 82,
   "id": "550fe7f4-f516-4f97-9374-c00b58d50a8e",
   "metadata": {},
   "outputs": [
    {
     "data": {
      "application/vnd.jupyter.widget-view+json": {
       "model_id": "5741391d3ba54596aa4397639628a22b",
       "version_major": 2,
       "version_minor": 0
      },
      "text/plain": [
       "  0%|          | 0/159292 [00:00<?, ?it/s]"
      ]
     },
     "metadata": {},
     "output_type": "display_data"
    }
   ],
   "source": [
    "comments_df['text'] = comments_df['text'].progress_apply(\n",
    "        lambda twt: sentence_lemmatizer(twt)\n",
    "    )"
   ]
  },
  {
   "cell_type": "raw",
   "id": "cfb24b0a-17a5-470e-94ef-146a1b446fee",
   "metadata": {},
   "source": [
    "CPU times: user 19min 48s, sys: 42.8 s, total: 20min 31s\n",
    "Wall time: 20min 31s"
   ]
  },
  {
   "cell_type": "markdown",
   "id": "0c907970",
   "metadata": {},
   "source": [
    "<img src=\"https://emojigraph.org/media/apple/check-mark-button_2705.png\" align=left width=33, heigth=33>\n",
    "<div class=\"alert alert-success\">\n",
    "Лемматизация выполнена абсолютно верно.</div>"
   ]
  },
  {
   "cell_type": "code",
   "execution_count": 83,
   "id": "8c72557e-ece1-45e7-a798-43d8ebf90ef1",
   "metadata": {},
   "outputs": [
    {
     "data": {
      "text/html": [
       "<div>\n",
       "<style scoped>\n",
       "    .dataframe tbody tr th:only-of-type {\n",
       "        vertical-align: middle;\n",
       "    }\n",
       "\n",
       "    .dataframe tbody tr th {\n",
       "        vertical-align: top;\n",
       "    }\n",
       "\n",
       "    .dataframe thead th {\n",
       "        text-align: right;\n",
       "    }\n",
       "</style>\n",
       "<table border=\"1\" class=\"dataframe\">\n",
       "  <thead>\n",
       "    <tr style=\"text-align: right;\">\n",
       "      <th></th>\n",
       "      <th>text</th>\n",
       "      <th>toxic</th>\n",
       "    </tr>\n",
       "  </thead>\n",
       "  <tbody>\n",
       "    <tr>\n",
       "      <th>70006</th>\n",
       "      <td>addition onih thanks cleaning edit prompt add ...</td>\n",
       "      <td>0</td>\n",
       "    </tr>\n",
       "    <tr>\n",
       "      <th>100572</th>\n",
       "      <td>visible article one good rank university inclu...</td>\n",
       "      <td>0</td>\n",
       "    </tr>\n",
       "    <tr>\n",
       "      <th>95038</th>\n",
       "      <td>reliable source photo annual eminem calender s...</td>\n",
       "      <td>0</td>\n",
       "    </tr>\n",
       "    <tr>\n",
       "      <th>84572</th>\n",
       "      <td>thank support thank support candidacy administ...</td>\n",
       "      <td>0</td>\n",
       "    </tr>\n",
       "    <tr>\n",
       "      <th>64668</th>\n",
       "      <td>bias curious would seem u single complete page...</td>\n",
       "      <td>0</td>\n",
       "    </tr>\n",
       "  </tbody>\n",
       "</table>\n",
       "</div>"
      ],
      "text/plain": [
       "                                                     text  toxic\n",
       "70006   addition onih thanks cleaning edit prompt add ...      0\n",
       "100572  visible article one good rank university inclu...      0\n",
       "95038   reliable source photo annual eminem calender s...      0\n",
       "84572   thank support thank support candidacy administ...      0\n",
       "64668   bias curious would seem u single complete page...      0"
      ]
     },
     "execution_count": 83,
     "metadata": {},
     "output_type": "execute_result"
    }
   ],
   "source": [
    "comments_df.sample(5)"
   ]
  },
  {
   "cell_type": "markdown",
   "id": "c385dab4",
   "metadata": {},
   "source": [
    "<img src=\"https://upload.wikimedia.org/wikipedia/commons/b/ba/Warning_sign_4.0.png\" align=left width=44, heigth=33>\n",
    "<div class=\"alert alert-warning\">\n",
    "Рекомендую собрать все импоры в начале ноутбука.</div>"
   ]
  },
  {
   "cell_type": "markdown",
   "id": "6e28c9ae-2aa8-47a0-a135-a6d9f71ce0b4",
   "metadata": {},
   "source": [
    "<div class=\"alert alert-info\" role=\"alert\" style=\"border-radius: 7px\">\n",
    "    <span style=\"font-size:0.7rem\">Student's note 02</span>\n",
    "<!--     <p class=\"mb-0\"><strong>Комментарий:</strong></p> -->\n",
    "    <p class=\"mb-0\"><strong>Исправление:</strong></p>\n",
    "    <p class=\"mb-0\">Сделал импорты в начале.</p>\n",
    "</div>"
   ]
  },
  {
   "cell_type": "code",
   "execution_count": 84,
   "id": "7b454056-3943-4232-b93e-f395eae981f6",
   "metadata": {},
   "outputs": [],
   "source": [
    "features_train, features_test, target_train, target_test = train_test_split(\n",
    "        comments_df['text'].to_numpy(),\n",
    "        comments_df['toxic'].to_numpy(),\n",
    "        test_size=0.1,\n",
    "        random_state=RANDOM_SEED\n",
    "    )"
   ]
  },
  {
   "cell_type": "markdown",
   "id": "25ebc0a4",
   "metadata": {},
   "source": [
    "<img src=\"https://upload.wikimedia.org/wikipedia/commons/thumb/8/81/Stop_sign.png/240px-Stop_sign.png\" align=left width=35, heigth=35>\n",
    "<div class=\"alert alert-danger\">\n",
    "Векторайзер должен обучаться на обучающем наборе и применяться ко всем остальным.\n",
    "\n",
    "</div>"
   ]
  },
  {
   "cell_type": "markdown",
   "id": "28b48348-3321-44f4-b472-28dd7722dcc1",
   "metadata": {},
   "source": [
    "<div class=\"alert alert-info\" role=\"alert\" style=\"border-radius: 7px\">\n",
    "    <span style=\"font-size:0.7rem\">Student's note 02</span>\n",
    "<!--     <p class=\"mb-0\"><strong>Комментарий:</strong></p> -->\n",
    "    <p class=\"mb-0\"><strong>Исправление:</strong></p>\n",
    "    <p class=\"mb-0\">Делим на <code>train</code> <code>test</code> потом <code>Vectorizer</code>.</p>\n",
    "</div>"
   ]
  },
  {
   "cell_type": "markdown",
   "id": "9ede84df",
   "metadata": {},
   "source": [
    "<img src=\"https://emojigraph.org/media/apple/check-mark-button_2705.png\" align=left width=33, heigth=33>\n",
    "<div class=\"alert alert-success\">\n",
    "    \n",
    "Данные разделены на выборки. Но я бы посоветовал тебе изменить пропорции и выделить на тест 10%. Причина простая - модели, которые мы обучаем чувствительны к объему обучающих данных. Чем больше слов они увидят в процессе обучения, и оценят их вклад в \"токсичность\", тем лучше будут модели. А для корректного тестирования и 10% данных вполне достаточно, учитывая немаленький размер датасета.\n",
    "\n",
    "</div>"
   ]
  },
  {
   "cell_type": "markdown",
   "id": "9fff1ecd-8525-4982-9829-003d69dceb90",
   "metadata": {},
   "source": [
    "<div class=\"alert alert-info\" role=\"alert\" style=\"border-radius: 7px\">\n",
    "    <span style=\"font-size:0.7rem\">Student's note 02</span>\n",
    "<!--     <p class=\"mb-0\"><strong>Комментарий:</strong></p> -->\n",
    "    <p class=\"mb-0\"><strong>Исправление:</strong></p>\n",
    "    <p class=\"mb-0\"><code>test</code> 10%</p>\n",
    "</div>"
   ]
  },
  {
   "cell_type": "code",
   "execution_count": 85,
   "id": "8c0f24d7-d609-4b2e-a3a1-5371500d05ea",
   "metadata": {},
   "outputs": [],
   "source": [
    "tf_idf_vectorizer = TfidfVectorizer()"
   ]
  },
  {
   "cell_type": "code",
   "execution_count": 86,
   "id": "adbe3aba-e5f1-4baf-a2a4-00347dfb2610",
   "metadata": {},
   "outputs": [],
   "source": [
    "tf_idf_vect_fitted = tf_idf_vectorizer.fit(features_train)\n",
    "\n",
    "features_test = tf_idf_vect_fitted.transform(features_test)"
   ]
  },
  {
   "cell_type": "markdown",
   "id": "d9532b5e",
   "metadata": {},
   "source": [
    "<img src=\"https://emojigraph.org/media/apple/check-mark-button_2705.png\" align=left width=33, heigth=33>\n",
    "<div class=\"alert alert-success\">\n",
    "👍 А здесь все совершенно верно,  векторайзер вначале обучен на обучающем наборе и затем применен к тестовому</div>"
   ]
  },
  {
   "cell_type": "markdown",
   "id": "ede61da0",
   "metadata": {},
   "source": [
    "<img src=\"https://upload.wikimedia.org/wikipedia/commons/b/ba/Warning_sign_4.0.png\" align=left width=44, heigth=33>\n",
    "<div class=\"alert alert-warning\">\n",
    "Честно говоря я не вижу большой пользы от объединения признаков... Особенно если учесть, что длина каждого признака около 150_000.</div>"
   ]
  },
  {
   "cell_type": "markdown",
   "id": "32bd2cf8-84c5-4099-91bb-bda97dcc3209",
   "metadata": {},
   "source": [
    "<div class=\"alert alert-info\" role=\"alert\" style=\"border-radius: 7px\">\n",
    "    <span style=\"font-size:0.7rem\">Student's note 02</span>\n",
    "<!--     <p class=\"mb-0\"><strong>Комментарий:</strong></p> -->\n",
    "    <p class=\"mb-0\"><strong>Исправление:</strong></p>\n",
    "    <p class=\"mb-0\">Вот и я не заметил. Ячейки <code>raw</code> удалил.</p>\n",
    "</div>"
   ]
  },
  {
   "cell_type": "code",
   "execution_count": 87,
   "id": "19fc17cb-87c7-4b6f-bafa-14da3da4b123",
   "metadata": {},
   "outputs": [],
   "source": [
    "del comments_df"
   ]
  },
  {
   "cell_type": "markdown",
   "id": "b72ba9c6-8485-4ffd-a834-fbe54ae79bf8",
   "metadata": {},
   "source": [
    "Конечно, здесь бы `GridSearchCV` запустить, но для ускорения просто объявим параметры.  \n",
    "С `GPU` заводится, но памяти не хватает и Jupyter падает.."
   ]
  },
  {
   "cell_type": "code",
   "execution_count": 88,
   "id": "647530ee-3180-4a33-b743-a321391fd285",
   "metadata": {},
   "outputs": [],
   "source": [
    "cat_model = CatBoostClassifier(\n",
    "        iterations=1250,\n",
    "        eval_metric='F1',\n",
    "        # task_type=\"GPU\",\n",
    "        allow_writing_files=True,\n",
    "        verbose=250,\n",
    "    )"
   ]
  },
  {
   "cell_type": "code",
   "execution_count": 91,
   "id": "cc11570d-8961-48e3-9959-27f2018f8009",
   "metadata": {},
   "outputs": [
    {
     "data": {
      "text/plain": [
       "<catboost.core.CatBoostClassifier at 0x7f5ed5c447f0>"
      ]
     },
     "execution_count": 91,
     "metadata": {},
     "output_type": "execute_result"
    }
   ],
   "source": [
    "cat_model.fit(\n",
    "    tf_idf_vect_fitted.transform(features_train),\n",
    "    target_train,\n",
    "    verbose=False\n",
    ")"
   ]
  },
  {
   "cell_type": "code",
   "execution_count": 92,
   "id": "87043c52-74e3-4029-a700-079cfbe2282b",
   "metadata": {},
   "outputs": [],
   "source": [
    "cat_tf_idf_pipe = make_pipeline(\n",
    "    tf_idf_vectorizer,\n",
    "    cat_model,\n",
    "    verbose=True,\n",
    ")"
   ]
  },
  {
   "cell_type": "code",
   "execution_count": 93,
   "id": "9b6be8e2-420c-47ae-906f-24aa80d292c8",
   "metadata": {},
   "outputs": [],
   "source": [
    "folds = KFold(\n",
    "    n_splits=5,\n",
    "    shuffle=True,\n",
    "    random_state=RANDOM_SEED\n",
    ")"
   ]
  },
  {
   "cell_type": "code",
   "execution_count": 94,
   "id": "66def6a7-5e77-455d-8443-69f57fd81606",
   "metadata": {
    "tags": []
   },
   "outputs": [
    {
     "name": "stdout",
     "output_type": "stream",
     "text": [
      "[Pipeline] ... (step 1 of 2) Processing tfidfvectorizer, total=   6.0s\n",
      "Learning rate set to 0.063604\n",
      "0:\tlearn: 0.4995620\ttotal: 1.78s\tremaining: 37m 6s\n",
      "250:\tlearn: 0.7011030\ttotal: 8m 2s\tremaining: 32m 1s\n",
      "500:\tlearn: 0.7520329\ttotal: 16m 30s\tremaining: 24m 40s\n",
      "750:\tlearn: 0.7749748\ttotal: 23m 47s\tremaining: 15m 48s\n",
      "1000:\tlearn: 0.7926125\ttotal: 29m 53s\tremaining: 7m 26s\n",
      "1249:\tlearn: 0.8056568\ttotal: 38m 16s\tremaining: 0us\n",
      "[Pipeline]  (step 2 of 2) Processing catboostclassifier, total=38.8min\n",
      "[Pipeline] ... (step 1 of 2) Processing tfidfvectorizer, total=   7.8s\n",
      "Learning rate set to 0.063604\n",
      "0:\tlearn: 0.4593171\ttotal: 2.65s\tremaining: 55m 11s\n",
      "250:\tlearn: 0.7010797\ttotal: 8m 35s\tremaining: 34m 11s\n",
      "500:\tlearn: 0.7531509\ttotal: 17m 8s\tremaining: 25m 37s\n",
      "750:\tlearn: 0.7746940\ttotal: 24m 17s\tremaining: 16m 8s\n",
      "1000:\tlearn: 0.7901628\ttotal: 32m 26s\tremaining: 8m 4s\n",
      "1249:\tlearn: 0.8036287\ttotal: 40m 54s\tremaining: 0us\n",
      "[Pipeline]  (step 2 of 2) Processing catboostclassifier, total=41.5min\n",
      "[Pipeline] ... (step 1 of 2) Processing tfidfvectorizer, total=   8.0s\n",
      "Learning rate set to 0.063604\n",
      "0:\tlearn: 0.4935639\ttotal: 2.39s\tremaining: 49m 50s\n",
      "250:\tlearn: 0.7067389\ttotal: 8m 32s\tremaining: 33m 58s\n",
      "500:\tlearn: 0.7543574\ttotal: 16m 59s\tremaining: 25m 23s\n",
      "750:\tlearn: 0.7754142\ttotal: 25m 24s\tremaining: 16m 52s\n",
      "1000:\tlearn: 0.7923016\ttotal: 32m 28s\tremaining: 8m 4s\n",
      "1249:\tlearn: 0.8074005\ttotal: 39m 53s\tremaining: 0us\n",
      "[Pipeline]  (step 2 of 2) Processing catboostclassifier, total=40.5min\n",
      "[Pipeline] ... (step 1 of 2) Processing tfidfvectorizer, total=   8.0s\n",
      "Learning rate set to 0.063604\n",
      "0:\tlearn: 0.5087060\ttotal: 2.27s\tremaining: 47m 16s\n",
      "250:\tlearn: 0.6995724\ttotal: 8m 26s\tremaining: 33m 36s\n",
      "500:\tlearn: 0.7510483\ttotal: 16m 47s\tremaining: 25m 5s\n",
      "750:\tlearn: 0.7745307\ttotal: 25m 1s\tremaining: 16m 37s\n",
      "1000:\tlearn: 0.7903339\ttotal: 33m 19s\tremaining: 8m 17s\n",
      "1249:\tlearn: 0.8062568\ttotal: 41m 36s\tremaining: 0us\n",
      "[Pipeline]  (step 2 of 2) Processing catboostclassifier, total=42.2min\n",
      "[Pipeline] ... (step 1 of 2) Processing tfidfvectorizer, total=   8.1s\n",
      "Learning rate set to 0.063604\n",
      "0:\tlearn: 0.4751303\ttotal: 2.37s\tremaining: 49m 14s\n",
      "250:\tlearn: 0.7037474\ttotal: 8m 30s\tremaining: 33m 51s\n",
      "500:\tlearn: 0.7510809\ttotal: 16m 53s\tremaining: 25m 15s\n",
      "750:\tlearn: 0.7747119\ttotal: 23m 9s\tremaining: 15m 23s\n",
      "1000:\tlearn: 0.7885240\ttotal: 29m 39s\tremaining: 7m 22s\n",
      "1249:\tlearn: 0.8020571\ttotal: 37m 47s\tremaining: 0us\n",
      "[Pipeline]  (step 2 of 2) Processing catboostclassifier, total=38.4min\n"
     ]
    }
   ],
   "source": [
    "f1_cat_cv_score = cross_val_score(\n",
    "    cat_tf_idf_pipe,\n",
    "    features_train,\n",
    "    target_train,\n",
    "    scoring='f1',\n",
    "    cv=folds\n",
    ")"
   ]
  },
  {
   "cell_type": "code",
   "execution_count": 95,
   "id": "8ff711be-6475-4310-8158-277b8eea76ce",
   "metadata": {},
   "outputs": [
    {
     "name": "stdout",
     "output_type": "stream",
     "text": [
      "0.7644479872459147\n"
     ]
    }
   ],
   "source": [
    "print(np.median(f1_cat_cv_score))"
   ]
  },
  {
   "cell_type": "markdown",
   "id": "d36602aa",
   "metadata": {},
   "source": [
    "<img src=\"https://upload.wikimedia.org/wikipedia/commons/b/ba/Warning_sign_4.0.png\" align=left width=44, heigth=33>\n",
    "<div class=\"alert alert-warning\">\n",
    "Использование кросс-валидации поверх признаков, полученных с помощью TF-IDF векторайзера порождает утечки.  Как мы получали признаки? Вначале делили на выборки, затем обучали векторайзер только на обучающей выборке и применяли к тестовой. Что происходит при кросс-валидации? Ты разбиваешь большую обучающую выборку на несколько фолдов, из них выделяешь часть на обучение, часть на валидацию.  Но признаки (TF-IDF) уже обучены на всем наборе (обучающий + валидационный). Получается утечка данных. Чтобы избежать её нужно использовать pipeline из векторайзера и модели.\n",
    "    \n",
    "Пример такого пайплайна можно посмотреть в официальной документации\n",
    "    \n",
    "  https://scikit-learn.org/stable/auto_examples/model_selection/plot_grid_search_text_feature_extraction.html\n",
    "    \n",
    "И еще полезные материалы:\n",
    "    \n",
    "  https://newtechaudit.ru/pipeline-v-rabote-s-dannymi/  \n",
    "</div>"
   ]
  },
  {
   "cell_type": "markdown",
   "id": "25bc33d3-b43e-42ea-8df4-bee67907b6f2",
   "metadata": {},
   "source": [
    "<div class=\"alert alert-info\" role=\"alert\" style=\"border-radius: 7px\">\n",
    "    <span style=\"font-size:0.7rem\">Student's note 02</span>\n",
    "<!--     <p class=\"mb-0\"><strong>Комментарий:</strong></p> -->\n",
    "    <p class=\"mb-0\"><strong>Исправление:</strong></p>\n",
    "    <p class=\"mb-0\">Добавил <code>Pipeline</code> для <code>cross_val_score</code></p>\n",
    "</div>"
   ]
  },
  {
   "cell_type": "markdown",
   "id": "42fcabee",
   "metadata": {},
   "source": [
    "<img src=\"https://emojigraph.org/media/apple/check-mark-button_2705.png\" align=left width=33, heigth=33>\n",
    "<div class=\"alert alert-success\">\n",
    "Кстати, catboost умеет работать с исходными текстами, а не только с векторным представлением (сам извлекает признаки из текста). Нужно просто передать ей сырой текст и сообщить, в какой колонке он находится. Подробнее можешь посмотреть в официальной документации или вот в этом туториале \n",
    "    \n",
    "https://github.com/catboost/tutorials/blob/master/text_features/text_features_in_catboost.ipynb\n",
    "\n",
    "Вот еще интересная статья (https://habr.com/ru/post/555064/ )\n",
    "</div>"
   ]
  },
  {
   "cell_type": "markdown",
   "id": "cd17e875",
   "metadata": {},
   "source": [
    "<img src=\"https://emojigraph.org/media/apple/check-mark-button_2705.png\" align=left width=33, heigth=33>\n",
    "<div class=\"alert alert-success\">\n",
    " 👍 </div>"
   ]
  },
  {
   "cell_type": "markdown",
   "id": "efae52bc",
   "metadata": {},
   "source": [
    "<img src=\"https://upload.wikimedia.org/wikipedia/commons/thumb/8/81/Stop_sign.png/240px-Stop_sign.png\" align=left width=35, heigth=35>\n",
    "<div class=\"alert alert-danger\">\n",
    "Не стоит раньше времени подглядывать в тестовую выборку. Вначале обучим все модели и выберем лучшую по оценкам на крос-валидации и только потом протестируем лучшую модель.</div>"
   ]
  },
  {
   "cell_type": "markdown",
   "id": "7fb15334-5ed7-4782-851b-209f5b11e67f",
   "metadata": {},
   "source": [
    "<div class=\"alert alert-info\" role=\"alert\" style=\"border-radius: 7px\">\n",
    "    <span style=\"font-size:0.7rem\">Student's note 02</span>\n",
    "<!--     <p class=\"mb-0\"><strong>Комментарий:</strong></p> -->\n",
    "    <p class=\"mb-0\"><strong>Исправление:</strong></p>\n",
    "    <p class=\"mb-0\">Сделал тест для лучшей модели.</p>\n",
    "</div>"
   ]
  },
  {
   "cell_type": "code",
   "execution_count": 96,
   "id": "9ffbdfe1-d749-4286-8a21-11ae94e3551b",
   "metadata": {},
   "outputs": [],
   "source": [
    "log_reg_model = LogisticRegression(\n",
    "        solver='sag',\n",
    "        C=15,\n",
    "        max_iter=400,\n",
    "        class_weight='balanced',\n",
    "        random_state=RANDOM_SEED,\n",
    "    )"
   ]
  },
  {
   "cell_type": "code",
   "execution_count": 106,
   "id": "db066cfc-df51-455f-a1c9-04c8a2af9ae1",
   "metadata": {},
   "outputs": [],
   "source": [
    "log_reg_norm = Normalizer()"
   ]
  },
  {
   "cell_type": "code",
   "execution_count": 125,
   "id": "d221a39a-1ed9-4fc2-9e6c-28e6f0e181ec",
   "metadata": {},
   "outputs": [],
   "source": [
    "log_reg_norm_fitted = log_reg_norm.fit(\n",
    "        tf_idf_vect_fitted.transform(features_train)\n",
    "    )"
   ]
  },
  {
   "cell_type": "code",
   "execution_count": 116,
   "id": "dcf8a08c-1597-4b3d-b6cd-35e2d04aebe0",
   "metadata": {},
   "outputs": [
    {
     "name": "stdout",
     "output_type": "stream",
     "text": [
      "CPU times: user 1min 48s, sys: 238 ms, total: 1min 48s\n",
      "Wall time: 1min 49s\n"
     ]
    },
    {
     "name": "stderr",
     "output_type": "stream",
     "text": [
      "/home/bionic/.local/lib/python3.10/site-packages/sklearn/linear_model/_sag.py:350: ConvergenceWarning: The max_iter was reached which means the coef_ did not converge\n",
      "  warnings.warn(\n"
     ]
    }
   ],
   "source": [
    "%%time\n",
    "\n",
    "log_reg_model_fitted = log_reg_model.fit(\n",
    "    log_reg_norm_fitted.transform(\n",
    "        tf_idf_vect_fitted.transform(features_train)\n",
    "    ),\n",
    "    target_train,\n",
    ")"
   ]
  },
  {
   "cell_type": "code",
   "execution_count": 110,
   "id": "92a65756-a589-4a44-a65e-859a7cc6f6e7",
   "metadata": {},
   "outputs": [],
   "source": [
    "log_reg_tf_idf_pipe = make_pipeline(\n",
    "    tf_idf_vectorizer,\n",
    "    log_reg_norm,\n",
    "    log_reg_model,\n",
    "    verbose=True,\n",
    ")"
   ]
  },
  {
   "cell_type": "code",
   "execution_count": 111,
   "id": "2e92ba61-439d-4e36-b530-afe7fa79564e",
   "metadata": {
    "tags": []
   },
   "outputs": [
    {
     "name": "stdout",
     "output_type": "stream",
     "text": [
      "[Pipeline] ... (step 1 of 3) Processing tfidfvectorizer, total=   7.7s\n",
      "[Pipeline] ........ (step 2 of 3) Processing normalizer, total=   0.0s\n"
     ]
    },
    {
     "name": "stderr",
     "output_type": "stream",
     "text": [
      "/home/bionic/.local/lib/python3.10/site-packages/sklearn/linear_model/_sag.py:350: ConvergenceWarning: The max_iter was reached which means the coef_ did not converge\n",
      "  warnings.warn(\n"
     ]
    },
    {
     "name": "stdout",
     "output_type": "stream",
     "text": [
      "[Pipeline]  (step 3 of 3) Processing logisticregression, total= 1.3min\n",
      "[Pipeline] ... (step 1 of 3) Processing tfidfvectorizer, total=   7.3s\n",
      "[Pipeline] ........ (step 2 of 3) Processing normalizer, total=   0.0s\n"
     ]
    },
    {
     "name": "stderr",
     "output_type": "stream",
     "text": [
      "/home/bionic/.local/lib/python3.10/site-packages/sklearn/linear_model/_sag.py:350: ConvergenceWarning: The max_iter was reached which means the coef_ did not converge\n",
      "  warnings.warn(\n"
     ]
    },
    {
     "name": "stdout",
     "output_type": "stream",
     "text": [
      "[Pipeline]  (step 3 of 3) Processing logisticregression, total= 1.3min\n",
      "[Pipeline] ... (step 1 of 3) Processing tfidfvectorizer, total=   7.3s\n",
      "[Pipeline] ........ (step 2 of 3) Processing normalizer, total=   0.0s\n"
     ]
    },
    {
     "name": "stderr",
     "output_type": "stream",
     "text": [
      "/home/bionic/.local/lib/python3.10/site-packages/sklearn/linear_model/_sag.py:350: ConvergenceWarning: The max_iter was reached which means the coef_ did not converge\n",
      "  warnings.warn(\n"
     ]
    },
    {
     "name": "stdout",
     "output_type": "stream",
     "text": [
      "[Pipeline]  (step 3 of 3) Processing logisticregression, total= 1.2min\n",
      "[Pipeline] ... (step 1 of 3) Processing tfidfvectorizer, total=   7.5s\n",
      "[Pipeline] ........ (step 2 of 3) Processing normalizer, total=   0.0s\n"
     ]
    },
    {
     "name": "stderr",
     "output_type": "stream",
     "text": [
      "/home/bionic/.local/lib/python3.10/site-packages/sklearn/linear_model/_sag.py:350: ConvergenceWarning: The max_iter was reached which means the coef_ did not converge\n",
      "  warnings.warn(\n"
     ]
    },
    {
     "name": "stdout",
     "output_type": "stream",
     "text": [
      "[Pipeline]  (step 3 of 3) Processing logisticregression, total= 1.3min\n",
      "[Pipeline] ... (step 1 of 3) Processing tfidfvectorizer, total=   7.6s\n",
      "[Pipeline] ........ (step 2 of 3) Processing normalizer, total=   0.0s\n"
     ]
    },
    {
     "name": "stderr",
     "output_type": "stream",
     "text": [
      "/home/bionic/.local/lib/python3.10/site-packages/sklearn/linear_model/_sag.py:350: ConvergenceWarning: The max_iter was reached which means the coef_ did not converge\n",
      "  warnings.warn(\n"
     ]
    },
    {
     "name": "stdout",
     "output_type": "stream",
     "text": [
      "[Pipeline]  (step 3 of 3) Processing logisticregression, total= 1.3min\n"
     ]
    }
   ],
   "source": [
    "f1_log_reg_cv_score = cross_val_score(\n",
    "    log_reg_tf_idf_pipe,\n",
    "    features_train,\n",
    "    target_train,\n",
    "    scoring='f1',\n",
    "    cv=folds\n",
    ")"
   ]
  },
  {
   "cell_type": "code",
   "execution_count": 113,
   "id": "6695f73d-cb43-42c9-addd-56b013c40ece",
   "metadata": {},
   "outputs": [
    {
     "data": {
      "text/plain": [
       "0.762798092209857"
      ]
     },
     "metadata": {},
     "output_type": "display_data"
    }
   ],
   "source": [
    "display(np.median(f1_log_reg_cv_score))"
   ]
  },
  {
   "cell_type": "markdown",
   "id": "ff8c2be0",
   "metadata": {},
   "source": [
    "<img src=\"https://emojigraph.org/media/apple/check-mark-button_2705.png\" align=left width=33, heigth=33>\n",
    "<div class=\"alert alert-success\">\n",
    " Совет: линейные модели очень хорошо работают с признаками, полученными из текстов. С помощью TF-IDF мы получили очень длинные разряженные вектора. И действительно, они очень длинные (длина около 140 000), при этом очень мало значений отличаются от нуля. Так вот, линейные модели гораздо лучше деревьев справляются с такими признаками. Но есть один секрет. Нужно  немного ослабить регуляризацию у логистической регрессии, и сделать это можно подобрав гиперпараметр С (чем он больше тем слабее регуляризация). Оптимальное значение стоит поискать в диапазоне 5-15. </div>"
   ]
  },
  {
   "cell_type": "markdown",
   "id": "0abfe678-ccc1-4c16-b353-486397e41a0c",
   "metadata": {},
   "source": [
    "<div class=\"alert alert-info\" role=\"alert\" style=\"border-radius: 7px\">\n",
    "    <span style=\"font-size:0.7rem\">Student's note 02</span>\n",
    "    <p class=\"mb-0\"><strong>Комментарий:</strong></p>\n",
    "<!--     <p class=\"mb-0\"><strong>Исправление:</strong></p> -->\n",
    "    <p class=\"mb-0\">Спасибо, класс, попробую.</p>\n",
    "</div>"
   ]
  },
  {
   "cell_type": "markdown",
   "id": "7ec98cff",
   "metadata": {},
   "source": [
    "<img src=\"https://upload.wikimedia.org/wikipedia/commons/b/ba/Warning_sign_4.0.png\" align=left width=44, heigth=33>\n",
    "<div class=\"alert alert-warning\">\n",
    "Здесь тоже возникают утечки, вязанные с кросс-валидацией над признаками, полученными применением TfidfVectorizer ко всей обучающей выборке.      \n",
    "</div>"
   ]
  },
  {
   "cell_type": "markdown",
   "id": "a7245c9e-3e81-4743-99b2-2efecb8be3f8",
   "metadata": {},
   "source": [
    "<div class=\"alert alert-info\" role=\"alert\" style=\"border-radius: 7px\">\n",
    "    <span style=\"font-size:0.7rem\">Student's note 02</span>\n",
    "<!--     <p class=\"mb-0\"><strong>Комментарий:</strong></p> -->\n",
    "    <p class=\"mb-0\"><strong>Исправление:</strong></p>\n",
    "    <p class=\"mb-0\">Добавил <code>Pipeline</code> для <code>cross_val_score</code></p>\n",
    "</div>"
   ]
  },
  {
   "cell_type": "markdown",
   "id": "331a2cb1",
   "metadata": {},
   "source": [
    "<img src=\"https://upload.wikimedia.org/wikipedia/commons/b/ba/Warning_sign_4.0.png\" align=left width=44, heigth=33>\n",
    "<div class=\"alert alert-warning\">\n",
    "Ниже возникают предупреждения о том, что выбранный солвер не может сойтись на указаном количестве итераций. Попобуй подобрать пару солвер/количество итераций что-бы модель нашла свой глобальный минимум. Попробуй saga или sag.   \n",
    "</div>"
   ]
  },
  {
   "cell_type": "markdown",
   "id": "57570784",
   "metadata": {},
   "source": [
    "<img src=\"https://upload.wikimedia.org/wikipedia/commons/thumb/8/81/Stop_sign.png/240px-Stop_sign.png\" align=left width=35, heigth=35>\n",
    "<div class=\"alert alert-danger\">\n",
    "Не стоит раньше времени подглядывать в тестовую выборку. Вначале обучим все модели и выберем лучшую по оценкам на крос-валидации и только потом протестируем лучшую модель.</div>"
   ]
  },
  {
   "cell_type": "markdown",
   "id": "349ec3f6-873a-4b36-b911-2e12ac695711",
   "metadata": {},
   "source": [
    "<div class=\"alert alert-info\" role=\"alert\" style=\"border-radius: 7px\">\n",
    "    <span style=\"font-size:0.7rem\">Student's note 02</span>\n",
    "<!--     <p class=\"mb-0\"><strong>Комментарий:</strong></p> -->\n",
    "    <p class=\"mb-0\"><strong>Исправление:</strong></p>\n",
    "    <p class=\"mb-0\">Сделал тест для лучшей модели.</p>\n",
    "</div>"
   ]
  },
  {
   "cell_type": "markdown",
   "id": "2be97be5",
   "metadata": {},
   "source": [
    "<img src=\"https://upload.wikimedia.org/wikipedia/commons/thumb/8/81/Stop_sign.png/240px-Stop_sign.png\" align=left width=35, heigth=35>\n",
    "<div class=\"alert alert-danger\">\n",
    "Ты исследовал две модели, давай выберем лучшую используя оценки полученые с помощью кросс-валидации и протестируем её.</div>"
   ]
  },
  {
   "cell_type": "markdown",
   "id": "2e3df2e4-580f-4408-a842-d2e28bdc554e",
   "metadata": {},
   "source": [
    "<div class=\"alert alert-info\" role=\"alert\" style=\"border-radius: 7px\">\n",
    "    <span style=\"font-size:0.7rem\">Student's note 02</span>\n",
    "<!--     <p class=\"mb-0\"><strong>Комментарий:</strong></p> -->\n",
    "    <p class=\"mb-0\"><strong>Исправление:</strong></p>\n",
    "    <p class=\"mb-0\">Сделал тест для лучшей модели.</p>\n",
    "</div>"
   ]
  },
  {
   "cell_type": "markdown",
   "id": "4b9b8daa-a317-489a-9ef1-9cc8bafba071",
   "metadata": {},
   "source": [
    "## Протесстируем `CatBoostClassifier`"
   ]
  },
  {
   "cell_type": "code",
   "execution_count": 122,
   "id": "23bb59d9-9450-4221-9339-f084d4e0b3aa",
   "metadata": {},
   "outputs": [],
   "source": [
    "cat_pred = cat_model.predict(features_test)"
   ]
  },
  {
   "cell_type": "code",
   "execution_count": 123,
   "id": "704c57bf-c956-480b-a9e0-70b5fa667888",
   "metadata": {},
   "outputs": [],
   "source": [
    "cat_score = f1_score(target_test, cat_pred)"
   ]
  },
  {
   "cell_type": "code",
   "execution_count": 124,
   "id": "9a3aa3e0-da44-4b03-9b13-c4210df64f44",
   "metadata": {},
   "outputs": [
    {
     "data": {
      "text/plain": [
       "0.7640287769784172"
      ]
     },
     "metadata": {},
     "output_type": "display_data"
    }
   ],
   "source": [
    "display(\n",
    "    cat_score\n",
    ")"
   ]
  },
  {
   "cell_type": "markdown",
   "id": "1d0d315e-7e86-42b5-bc21-22fcc4437aef",
   "metadata": {},
   "source": [
    "## Итог"
   ]
  },
  {
   "cell_type": "markdown",
   "id": "d536be2c-2fd6-4daa-8b8d-399fc473552e",
   "metadata": {},
   "source": [
    "`CatBoostClassifier` показала чуть лучший результат `fi-score` = 0.764  \n",
    "`LogisticRegression` всё ёще ругается, дожму её `GridSearch`"
   ]
  },
  {
   "cell_type": "markdown",
   "id": "0ffc660d-acff-4a67-8ae4-ef065d0f25b0",
   "metadata": {},
   "source": [
    "Возможно, если запустить поиск гипперпараметров с `GridSearchCV` то можно улучшить `f1`, но долго, уже не успеваю..  \n",
    "На стандартных параметрах получилось перевалить едва за значение `f1` 0.75.."
   ]
  },
  {
   "cell_type": "markdown",
   "id": "a79f1fbe",
   "metadata": {},
   "source": [
    "<img src=\"http://s3.amazonaws.com/pix.iemoji.com/images/emoji/apple/ios-12/256/waving-hand.png\" align=left width=44, heigth=44>\n",
    "<div class=\"alert alert-info\">\n",
    "<b> Заключительный комментарий</b>\n",
    "Давай подведем итоги. В целом с проектом ты справился - текст предобработан, извлечены признаки и обучены классификаторы. Достигнуто требуемое значение метрики f1.\n",
    "    \n",
    "Молодец, что корректно произвел чистку и лемматизацию. \n",
    "    \n",
    "Свои соображения по поводу BERT я тебе очень подробно расписал в первом комментарии.\n",
    "    \n",
    "Очень прошу тебя привести проект в порядок. Сейчас создается ощущение, что ты очень торопился, быстро получил рабочее решение, но навести порядок в проекте не успел.\n",
    "    \n",
    "Что нужно дорабоать  обязательно (красные комментарии).\n",
    "    \n",
    " - Векторайзеры должны обучаться на обучающей выборке, а не на всех даных.    \n",
    " - Нельзя раньше времени подглядывать в тестовую выборку. Вначале выбираем лучшую модель по кросс-валидации и только потом делаем тестирование лучшей модели.\n",
    " \n",
    "Доработок немного, поэтому уверен, что ты со всем справишься.     \n",
    "    \n",
    "Жду твоих исправлений :)\n",
    "</div>"
   ]
  },
  {
   "cell_type": "markdown",
   "id": "a9754274-a7f5-4931-9fca-1a533c89678c",
   "metadata": {},
   "source": [
    "<hr>"
   ]
  },
  {
   "cell_type": "markdown",
   "id": "b120aa92-9526-40b1-bbb0-960dea64951f",
   "metadata": {},
   "source": [
    ">Все ли шаги по инструкции выполняете?  \n",
    "Как готовите данные?  \n",
    "Как анализируете данные?  \n",
    "Какие модели и гиперпараметры рассматриваете?  \n",
    "Не дублируете ли код?  \n",
    "Какие выводы делаете?  \n",
    "Следите ли за структурой проекта?  \n",
    "Поддерживаете аккуратность кода?  "
   ]
  },
  {
   "cell_type": "markdown",
   "id": "89bcb4fb-e20c-42a6-9c1d-b567a1dae899",
   "metadata": {},
   "source": [
    "$$ \\large\n",
    "TF = \\dfrac{t}{n}\n",
    "$$"
   ]
  },
  {
   "cell_type": "markdown",
   "id": "88330a2c-778f-495d-8dc7-a50e96baf999",
   "metadata": {},
   "source": [
    ">где t (от англ. term) — количество употребления слова, а n — общее число слов в тексте.  \n",
    "IDF нужна в формуле, чтобы уменьшить вес слов, наиболее распространённых в любом другом тексте заданного корпуса. IDF зависит от общего числа текстов в корпусе (D) и количества текстов, в которых это слово встречается (d). "
   ]
  },
  {
   "cell_type": "markdown",
   "id": "749a18ad-08c1-4978-bf08-65654581352a",
   "metadata": {},
   "source": [
    "$$ \\large\n",
    "IDF = \\log_{10}\\dfrac{D}{d}\n",
    "$$"
   ]
  },
  {
   "cell_type": "markdown",
   "id": "000553a6-d20d-4447-9a36-e72da6cfc53d",
   "metadata": {},
   "source": [
    "$$ \\large\n",
    "TFIDF = TF * IDF\n",
    "$$"
   ]
  },
  {
   "cell_type": "markdown",
   "id": "aa7073cc-6321-4ae7-b47c-732781b19732",
   "metadata": {},
   "source": [
    "> Большая величина TF-IDF говорит об уникальности слова в тексте по отношению к корпусу.  \n",
    "Чем чаще оно встречается в конкретном тексте и реже в остальных, тем выше значение TF-IDF."
   ]
  }
 ],
 "metadata": {
  "kernelspec": {
   "display_name": "Python 3 (ipykernel)",
   "language": "python",
   "name": "python3"
  },
  "language_info": {
   "codemirror_mode": {
    "name": "ipython",
    "version": 3
   },
   "file_extension": ".py",
   "mimetype": "text/x-python",
   "name": "python",
   "nbconvert_exporter": "python",
   "pygments_lexer": "ipython3",
   "version": "3.10.6"
  },
  "toc": {
   "base_numbering": 1,
   "nav_menu": {},
   "number_sections": true,
   "sideBar": true,
   "skip_h1_title": true,
   "title_cell": "Table of Contents",
   "title_sidebar": "Contents",
   "toc_cell": false,
   "toc_position": {},
   "toc_section_display": true,
   "toc_window_display": false
  }
 },
 "nbformat": 4,
 "nbformat_minor": 5
}
