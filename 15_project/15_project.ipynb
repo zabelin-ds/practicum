{
 "cells": [
  {
   "cell_type": "markdown",
   "id": "73686359-d474-4dca-ab4c-6bccb62228b1",
   "metadata": {},
   "source": [
    "# Учебный Проект → «Прогнозирование оттока клиентов»"
   ]
  },
  {
   "cell_type": "markdown",
   "id": "6ec8c419-d9df-4989-a7e8-2741a7bd10e2",
   "metadata": {},
   "source": [
    "## План проекта"
   ]
  },
  {
   "cell_type": "markdown",
   "id": "508de267-95af-4fd6-83d1-8c16294045d2",
   "metadata": {},
   "source": [
    "- название и описание проекта, цель проекта\n",
    "- содержание (план) проекта: здесь нужно привести структуру проекта, т.е. основные пункты и подпункты. План должен быть достаточно подробным, обычном минимум 4-5 основных пунктов с подпунктами.\n",
    "- вопросы и комментарии к тимлиду (если вопросов нет, нужно явно про это написать, иначе проект будет возвращен для получения возможных вопросов студента)\n",
    "- все датафреймы должны быть исследованы (методы describe(), info(), можно добавить графики)"
   ]
  },
  {
   "cell_type": "markdown",
   "id": "b9549a93-7dce-4a15-9335-0a811a43cf7f",
   "metadata": {},
   "source": [
    "## Основная часть проекта"
   ]
  },
  {
   "cell_type": "markdown",
   "id": "32eeacc0-2ae3-46bf-a105-2c0e686ae767",
   "metadata": {},
   "source": [
    "## Отчет"
   ]
  }
 ],
 "metadata": {
  "kernelspec": {
   "display_name": "Python 3 (ipykernel)",
   "language": "python",
   "name": "python3"
  },
  "language_info": {
   "codemirror_mode": {
    "name": "ipython",
    "version": 3
   },
   "file_extension": ".py",
   "mimetype": "text/x-python",
   "name": "python",
   "nbconvert_exporter": "python",
   "pygments_lexer": "ipython3",
   "version": "3.10.6"
  }
 },
 "nbformat": 4,
 "nbformat_minor": 5
}
