{
 "cells": [
  {
   "cell_type": "markdown",
   "id": "38641aea",
   "metadata": {},
   "source": [
    "<h1> Комментарий тимлида </h1>\n",
    "\n",
    "👋 **Приветствую, Алексей!** \n",
    "\n",
    "✨ Поздравляю с началом работы над финальным проектом!\n",
    "\n",
    "Меня зовут Арсен Абдулин и я буду проверять твою работу. Предлагаю общаться на «ты», если не против=)\n",
    "\n",
    "При проверке работ я пишу следующие комментарии:\n",
    "\n",
    "<div class=\"alert alert-success\">\n",
    "<b>✔️ Зеленым цветом</b> отмечены удачные решения.</div>\n",
    "\n",
    "<div class=\"alert alert-warning\">\n",
    "<b>⚠️ Желтым цветом</b> я отметил пункты, которые в следующий раз можно сделать по-другому. Одно-два таких замечания в проекте допускается, но если их много — проект следует доработать. </div>\n",
    "\n",
    "<div class=\"alert alert-danger\">\n",
    "<b>🚫 Красным цветом</b> отмечены критические замечания, которые необходимо поправить, чтобы принять проект. </div>\n",
    "\n",
    "Если какие-то моменты в задании для тебя были непонятны и у тебя есть ко мне вопросы — смело спрашивай 😊 Также ты можешь доработать места, где есть желтые комментарии в проекте (однако, это не обязательно).\n",
    "\n",
    "Предлагаю работать в диалоге: если ты решишь что-то поменять по моим рекомендациям — пиши об этом (выбери для своих комментариев определенный цвет - так мне будет легче увидеть изменения). Пожалуйста не перемещай, не изменяй и не удаляй мои комментарии. Все это поможет сделать проверку твоего проекта оперативнее.\n",
    "\n",
    "<div class=\"alert alert-info\"> <b>ℹ️ Комментарий студента: </b> Пример комментария. </div>"
   ]
  },
  {
   "cell_type": "markdown",
   "id": "73686359-d474-4dca-ab4c-6bccb62228b1",
   "metadata": {},
   "source": [
    "# Учебный Проект → «Прогнозирование оттока клиентов»"
   ]
  },
  {
   "cell_type": "markdown",
   "id": "48850e7d-215e-4477-aea2-4288b7d25f8a",
   "metadata": {},
   "source": [
    "<div class=\"alert alert-info\" role=\"alert\" style=\"border-radius: 7px\">\n",
    "    <span style=\"font-size:0.7rem\">Student's note 00</span>\n",
    "    <p class=\"mb-0\"><strong>Комментарий:</strong></p>\n",
    "    <p>Арсен, здравствуй.</p>\n",
    "    <p>Спасибо за <code>вводную консультацию</code>.</p>\n",
    "</div>"
   ]
  },
  {
   "cell_type": "markdown",
   "id": "b17ad4a2",
   "metadata": {},
   "source": [
    "<div class=\"alert alert-success\">\n",
    "<b>✔️ Комментарий тимлида:</b> Всегда пожалуйста 👍\n",
    "    \n",
    "</div>"
   ]
  },
  {
   "cell_type": "markdown",
   "id": "ebc8c639-8328-4f17-920e-31f4af48bc84",
   "metadata": {},
   "source": [
    "## Задача проекта"
   ]
  },
  {
   "cell_type": "markdown",
   "id": "8b6b49d7-ef11-4384-a655-2a025ebab542",
   "metadata": {},
   "source": [
    ">Оператор связи «Ниединогоразрыва.ком» хочет научиться прогнозировать отток клиентов. Если выяснится, что пользователь планирует уйти, ему будут предложены промокоды и специальные условия. Команда оператора собрала персональные данные о некоторых клиентах, информацию об их тарифах и договорах."
   ]
  },
  {
   "cell_type": "markdown",
   "id": "a85e21b7",
   "metadata": {},
   "source": [
    "<div class=\"alert alert-success\">\n",
    "<b>✔️ Комментарий тимлида:</b> Хорошо, когда есть небольшое описание проекта!\n",
    "    \n",
    "Можно также сформулировать цель работы\n",
    "    \n",
    "</div>"
   ]
  },
  {
   "cell_type": "markdown",
   "id": "2b3fd340-0bff-4942-9786-c64e042a71fb",
   "metadata": {},
   "source": [
    "✅ название и описание проекта, цель проекта"
   ]
  },
  {
   "cell_type": "markdown",
   "id": "27360c13-1d87-41a9-86dc-41a36b6a1a7a",
   "metadata": {},
   "source": [
    "## Цель проекта"
   ]
  },
  {
   "cell_type": "markdown",
   "id": "adb48176-c745-4649-aacd-b68c66460ad1",
   "metadata": {},
   "source": [
    "Создать модель для поиска `классификации` пользователей, которые могут прекратить пользоваться услугами связи «Ниединогоразрыва.ком»."
   ]
  },
  {
   "cell_type": "markdown",
   "id": "953e99f2-e8fa-447f-be15-eed9137cef34",
   "metadata": {},
   "source": [
    "<hr>"
   ]
  },
  {
   "cell_type": "code",
   "execution_count": 1,
   "id": "d28d3a79-d579-4906-ad6f-afb1f80a3a13",
   "metadata": {},
   "outputs": [],
   "source": [
    "import pandas as pd\n",
    "import re\n",
    "import matplotlib as mpl\n",
    "import matplotlib.pyplot as plt\n",
    "import numpy as np"
   ]
  },
  {
   "cell_type": "markdown",
   "id": "199b6e9c-b8e1-4dba-975b-de6cee5a61b2",
   "metadata": {},
   "source": [
    "**Настроим вид графиков по+красоте** ✨"
   ]
  },
  {
   "cell_type": "code",
   "execution_count": 2,
   "id": "6ac08eda-88e5-4d4d-a39f-c992cd7140f7",
   "metadata": {},
   "outputs": [],
   "source": [
    "%config InlineBackend.figure_formats = ['svg']"
   ]
  },
  {
   "cell_type": "code",
   "execution_count": 3,
   "id": "44a2c171-34ba-497c-8c3e-7aebafeb8084",
   "metadata": {},
   "outputs": [],
   "source": [
    "# style MATPLOTLIBRC\n",
    "custom_params = {\n",
    "                'figure.figsize': (10, 6),\n",
    "                'figure.facecolor': '#232425',\n",
    "                'figure.dpi': 240,\n",
    "\n",
    "                'legend.frameon': False,\n",
    "                'legend.borderpad': 1.4,\n",
    "                'legend.labelspacing': 0.7,\n",
    "                'legend.handlelength': 0.7,\n",
    "                'legend.handleheight': 0.7,\n",
    "\n",
    "                'axes.facecolor': '#232425',\n",
    "                'axes.labelcolor': '#EEEEEE',\n",
    "                'axes.labelpad': 17,\n",
    "                'axes.spines.left': False,\n",
    "                'axes.spines.bottom': False,\n",
    "                'axes.spines.right': False,\n",
    "                'axes.spines.top': False,\n",
    "                'axes.grid': False,\n",
    "\n",
    "                'contour.linewidth': 0.0,\n",
    "\n",
    "                'xtick.color': '#AAAAAA',\n",
    "                'ytick.color': '#AAAAAA',\n",
    "                'xtick.bottom': True,\n",
    "                'xtick.top': False,\n",
    "                'ytick.left': True,\n",
    "                'ytick.right': False,\n",
    "    \n",
    "                \"lines.color\": '#EEEEEE',\n",
    "\n",
    "                'text.color': '#EEEEEE',\n",
    "    \n",
    "                'font.family': 'sans-serif',\n",
    "            }"
   ]
  },
  {
   "cell_type": "code",
   "execution_count": 4,
   "id": "e8692798-ed8d-4360-b090-63428243ed58",
   "metadata": {
    "collapsed": false,
    "jupyter": {
     "outputs_hidden": false
    },
    "pycharm": {
     "name": "#%%\n"
    }
   },
   "outputs": [],
   "source": [
    "# set max columns to none\n",
    "pd.set_option(\"display.max_columns\", None)\n",
    "pd.set_option(\"display.max_rows\", 200)"
   ]
  },
  {
   "cell_type": "markdown",
   "id": "0e2eab61-df8b-4e22-9367-5f9129447587",
   "metadata": {},
   "source": [
    "**Константы:**"
   ]
  },
  {
   "cell_type": "code",
   "execution_count": 5,
   "id": "d0838f9c-7b27-4433-b95a-5d1ffc6919cc",
   "metadata": {},
   "outputs": [],
   "source": [
    "RANDOM_SEED = 270223\n",
    "DPI_K = custom_params['figure.dpi'] / mpl.rcParams['figure.dpi']\n",
    "PX = 1/custom_params['figure.dpi']\n",
    "PY_CASE = re.compile(r'(?<!^)(?<![A-Z])(?=[A-Z])')\n",
    "TEST_SIZE = 0.25\n",
    "UPDATED_AT = np.datetime64('2020-02-01')"
   ]
  },
  {
   "cell_type": "markdown",
   "id": "e82795ec-f9f6-4380-8249-98eb64aebe11",
   "metadata": {},
   "source": [
    "**Функции:**"
   ]
  },
  {
   "cell_type": "code",
   "execution_count": 6,
   "id": "02a501d1-8772-4cf2-ba4e-f9d6f453bd49",
   "metadata": {},
   "outputs": [],
   "source": [
    "def columns_w_na(data_df):\n",
    "    col_nan = data_df.columns[\n",
    "            data_df.isna().any()\n",
    "        ].tolist()\n",
    "    df_length = len(data_df.index)\n",
    "\n",
    "    if len(col_nan) != 0:\n",
    "        print('Колонки с NaN:')\n",
    "        for col in col_nan:\n",
    "            count_na = len(\n",
    "                    data_df.loc[data_df[col].isna()].index\n",
    "                )\n",
    "\n",
    "            print(\n",
    "                '{: .2%}'.format(count_na/df_length),\n",
    "                end='\\t→ '\n",
    "            )\n",
    "            print(col, end=' → ')\n",
    "            print(count_na)\n",
    "    else:\n",
    "        print('Пропусков NaN в наборе данных нет.\\n')"
   ]
  },
  {
   "cell_type": "code",
   "execution_count": 7,
   "id": "d7bb82cd-5053-448f-bc2d-8631db78be17",
   "metadata": {
    "collapsed": false,
    "jupyter": {
     "outputs_hidden": false
    }
   },
   "outputs": [],
   "source": [
    "def baisic_df_info(data_df, title='Базовая информация'):\n",
    "    print(title,  '→ о наборе данных:', end='\\n\\n')\n",
    "    print('Дубликатов:',\n",
    "             len(data_df.loc[data_df.duplicated()].index),\n",
    "          end='\\n\\n'\n",
    "     )\n",
    "    \n",
    "    columns_w_na(data_df)\n",
    "    \n",
    "    data_df.info()\n",
    "    \n",
    "    print()\n",
    "    display(\n",
    "        data_df.sample(5),\n",
    "        data_df.describe(),\n",
    "    )"
   ]
  },
  {
   "cell_type": "code",
   "execution_count": 8,
   "id": "706fe957-fb6e-4739-8017-05d3c46e9111",
   "metadata": {},
   "outputs": [],
   "source": [
    "def to_snake_case(df_columns, pattern=PY_CASE):\n",
    "    to_return  = pd.Series(df_columns).apply(\n",
    "            lambda c: re.sub(pattern, '_',  c ).lower()\n",
    "        )\n",
    "    \n",
    "    return to_return"
   ]
  },
  {
   "cell_type": "code",
   "execution_count": 9,
   "id": "09b51aa5-562a-42b4-897f-64f72a0af326",
   "metadata": {},
   "outputs": [],
   "source": [
    "def to_px(size_px):\n",
    "    px_density = int(\n",
    "        round(\n",
    "            size_px * PX * DPI_K\n",
    "        )\n",
    "    )\n",
    "    return px_density"
   ]
  },
  {
   "cell_type": "code",
   "execution_count": 10,
   "id": "fa8dd795-0556-4f95-8be4-db3b8a388bac",
   "metadata": {
    "tags": []
   },
   "outputs": [],
   "source": [
    "def plot_hist(data, title='Histogram', custom_params=custom_params):\n",
    "    \n",
    "    num_col = 2\n",
    "    num_row = int(\n",
    "            len(data.columns) / num_col\n",
    "        ) + (len(data.columns) % num_col)\n",
    "    \n",
    "    with mpl.rc_context(custom_params):\n",
    "        fig, axs = plt.subplots(\n",
    "            nrows=num_row,\n",
    "            ncols=num_col,\n",
    "            figsize=(\n",
    "                to_px(960), to_px(960)),\n",
    "            tight_layout=True\n",
    "        )\n",
    "        \n",
    "        for n, col_name in enumerate(data.columns):\n",
    "            ax_row = int(n/2)\n",
    "            ax_col = n%2\n",
    "            n_bins = len(data[col_name].unique())\n",
    "                \n",
    "            axs[ax_row, ax_col].hist(\n",
    "                data[col_name],\n",
    "                bins=n_bins,\n",
    "                color='forestgreen'\n",
    "            )\n",
    "            axs[ax_row, ax_col].set_title(col_name)\n",
    "        \n",
    "        fig.suptitle(title, fontsize=16)\n",
    "        \n",
    "        if len(data.columns) % num_col:\n",
    "            fig.delaxes(axs[-1, -1])\n",
    "\n",
    "        plt.show()"
   ]
  },
  {
   "cell_type": "markdown",
   "id": "edb3d627",
   "metadata": {},
   "source": [
    "<div class=\"alert alert-success\">\n",
    "<b>✔️ Комментарий тимлида:</b> Отличная подготовка проекта! Здорово, что применяешь функции и глобальные настройки 👍\n",
    "    \n",
    "</div>"
   ]
  },
  {
   "cell_type": "markdown",
   "id": "bcce18c7-349d-4c1e-b35b-c01bf712c30b",
   "metadata": {},
   "source": [
    "**Загружаем наборы данных**"
   ]
  },
  {
   "cell_type": "code",
   "execution_count": 11,
   "id": "617d8cb6-9508-459a-b367-270cfc3b883b",
   "metadata": {},
   "outputs": [],
   "source": [
    "try:\n",
    "    contract_df = pd.read_csv(\n",
    "            './datasets/contract.csv',\n",
    "        )\n",
    "    internet_df = pd.read_csv(\n",
    "            './datasets/internet.csv',\n",
    "        )\n",
    "    personal_df = pd.read_csv(\n",
    "            './datasets/personal.csv',\n",
    "        )\n",
    "    phone_df = pd.read_csv(\n",
    "            './datasets/phone.csv',\n",
    "        )\n",
    "except FileNotFoundError:\n",
    "    contract_df = pd.read_csv(\n",
    "            '/datasets/final_provider/contract.csv',\n",
    "        )\n",
    "    internet_df = pd.read_csv(\n",
    "            '/datasets/final_provider/internet.csv',\n",
    "        )\n",
    "    personal_df = pd.read_csv(\n",
    "            '/datasets/final_provider/personal.csv',\n",
    "        )\n",
    "    phone_df = pd.read_csv(\n",
    "            '/datasets/final_provider/phone.csv',\n",
    "        )\n",
    "    print('FYI datasets loaded via urls')"
   ]
  },
  {
   "cell_type": "markdown",
   "id": "ef36dbef-658a-4c5e-81ed-8ab7f562cb13",
   "metadata": {},
   "source": [
    "Сделаем названия столбцов по+красоте → `snake_case`  \n",
    "Во имя Python:  \n",
    "<img src=\"https://s3.dualstack.us-east-2.amazonaws.com/pythondotorg-assets/media/files/python-logo-only.svg\" alt=\"Python logo\" width=\"27px\"/>"
   ]
  },
  {
   "cell_type": "markdown",
   "id": "49ee86e1",
   "metadata": {},
   "source": [
    "<div class=\"alert alert-success\">\n",
    "<b>✔️ Комментарий тимлида:</b> Согласен, правильное решение =)\n",
    "    \n",
    "</div>"
   ]
  },
  {
   "cell_type": "code",
   "execution_count": 12,
   "id": "7f660b7a-4819-40e4-8c5c-9c0f8cf0d0f9",
   "metadata": {
    "tags": []
   },
   "outputs": [],
   "source": [
    "contract_df.columns  = to_snake_case(contract_df.columns)\n",
    "internet_df.columns  = to_snake_case(internet_df.columns)\n",
    "personal_df.columns  = to_snake_case(personal_df.columns)\n",
    "phone_df.columns  = to_snake_case(phone_df.columns)"
   ]
  },
  {
   "cell_type": "code",
   "execution_count": 13,
   "id": "e6ee02a0-ba0e-4b1a-a307-007a01981224",
   "metadata": {
    "tags": []
   },
   "outputs": [
    {
     "name": "stdout",
     "output_type": "stream",
     "text": [
      "Контракты → о наборе данных:\n",
      "\n",
      "Дубликатов: 0\n",
      "\n",
      "Пропусков NaN в наборе данных нет.\n",
      "\n",
      "<class 'pandas.core.frame.DataFrame'>\n",
      "RangeIndex: 7043 entries, 0 to 7042\n",
      "Data columns (total 8 columns):\n",
      " #   Column             Non-Null Count  Dtype  \n",
      "---  ------             --------------  -----  \n",
      " 0   customer_id        7043 non-null   object \n",
      " 1   begin_date         7043 non-null   object \n",
      " 2   end_date           7043 non-null   object \n",
      " 3   type               7043 non-null   object \n",
      " 4   paperless_billing  7043 non-null   object \n",
      " 5   payment_method     7043 non-null   object \n",
      " 6   monthly_charges    7043 non-null   float64\n",
      " 7   total_charges      7043 non-null   object \n",
      "dtypes: float64(1), object(7)\n",
      "memory usage: 440.3+ KB\n",
      "\n"
     ]
    },
    {
     "data": {
      "text/html": [
       "<div>\n",
       "<style scoped>\n",
       "    .dataframe tbody tr th:only-of-type {\n",
       "        vertical-align: middle;\n",
       "    }\n",
       "\n",
       "    .dataframe tbody tr th {\n",
       "        vertical-align: top;\n",
       "    }\n",
       "\n",
       "    .dataframe thead th {\n",
       "        text-align: right;\n",
       "    }\n",
       "</style>\n",
       "<table border=\"1\" class=\"dataframe\">\n",
       "  <thead>\n",
       "    <tr style=\"text-align: right;\">\n",
       "      <th></th>\n",
       "      <th>customer_id</th>\n",
       "      <th>begin_date</th>\n",
       "      <th>end_date</th>\n",
       "      <th>type</th>\n",
       "      <th>paperless_billing</th>\n",
       "      <th>payment_method</th>\n",
       "      <th>monthly_charges</th>\n",
       "      <th>total_charges</th>\n",
       "    </tr>\n",
       "  </thead>\n",
       "  <tbody>\n",
       "    <tr>\n",
       "      <th>498</th>\n",
       "      <td>6235-VDHOM</td>\n",
       "      <td>2019-07-01</td>\n",
       "      <td>2019-12-01 00:00:00</td>\n",
       "      <td>Month-to-month</td>\n",
       "      <td>No</td>\n",
       "      <td>Electronic check</td>\n",
       "      <td>28.45</td>\n",
       "      <td>131.05</td>\n",
       "    </tr>\n",
       "    <tr>\n",
       "      <th>651</th>\n",
       "      <td>2024-BASKD</td>\n",
       "      <td>2019-10-01</td>\n",
       "      <td>2019-11-01 00:00:00</td>\n",
       "      <td>Month-to-month</td>\n",
       "      <td>Yes</td>\n",
       "      <td>Mailed check</td>\n",
       "      <td>74.60</td>\n",
       "      <td>74.6</td>\n",
       "    </tr>\n",
       "    <tr>\n",
       "      <th>4161</th>\n",
       "      <td>4223-WOZCM</td>\n",
       "      <td>2019-12-01</td>\n",
       "      <td>No</td>\n",
       "      <td>Month-to-month</td>\n",
       "      <td>No</td>\n",
       "      <td>Mailed check</td>\n",
       "      <td>49.95</td>\n",
       "      <td>107.1</td>\n",
       "    </tr>\n",
       "    <tr>\n",
       "      <th>5921</th>\n",
       "      <td>0068-FIGTF</td>\n",
       "      <td>2017-11-01</td>\n",
       "      <td>No</td>\n",
       "      <td>One year</td>\n",
       "      <td>No</td>\n",
       "      <td>Mailed check</td>\n",
       "      <td>78.20</td>\n",
       "      <td>2078.95</td>\n",
       "    </tr>\n",
       "    <tr>\n",
       "      <th>2582</th>\n",
       "      <td>7145-FEJWU</td>\n",
       "      <td>2019-02-01</td>\n",
       "      <td>No</td>\n",
       "      <td>Month-to-month</td>\n",
       "      <td>Yes</td>\n",
       "      <td>Electronic check</td>\n",
       "      <td>105.30</td>\n",
       "      <td>1275.65</td>\n",
       "    </tr>\n",
       "  </tbody>\n",
       "</table>\n",
       "</div>"
      ],
      "text/plain": [
       "     customer_id  begin_date             end_date            type  \\\n",
       "498   6235-VDHOM  2019-07-01  2019-12-01 00:00:00  Month-to-month   \n",
       "651   2024-BASKD  2019-10-01  2019-11-01 00:00:00  Month-to-month   \n",
       "4161  4223-WOZCM  2019-12-01                   No  Month-to-month   \n",
       "5921  0068-FIGTF  2017-11-01                   No        One year   \n",
       "2582  7145-FEJWU  2019-02-01                   No  Month-to-month   \n",
       "\n",
       "     paperless_billing    payment_method  monthly_charges total_charges  \n",
       "498                 No  Electronic check            28.45        131.05  \n",
       "651                Yes      Mailed check            74.60          74.6  \n",
       "4161                No      Mailed check            49.95         107.1  \n",
       "5921                No      Mailed check            78.20       2078.95  \n",
       "2582               Yes  Electronic check           105.30       1275.65  "
      ]
     },
     "metadata": {},
     "output_type": "display_data"
    },
    {
     "data": {
      "text/html": [
       "<div>\n",
       "<style scoped>\n",
       "    .dataframe tbody tr th:only-of-type {\n",
       "        vertical-align: middle;\n",
       "    }\n",
       "\n",
       "    .dataframe tbody tr th {\n",
       "        vertical-align: top;\n",
       "    }\n",
       "\n",
       "    .dataframe thead th {\n",
       "        text-align: right;\n",
       "    }\n",
       "</style>\n",
       "<table border=\"1\" class=\"dataframe\">\n",
       "  <thead>\n",
       "    <tr style=\"text-align: right;\">\n",
       "      <th></th>\n",
       "      <th>monthly_charges</th>\n",
       "    </tr>\n",
       "  </thead>\n",
       "  <tbody>\n",
       "    <tr>\n",
       "      <th>count</th>\n",
       "      <td>7043.000000</td>\n",
       "    </tr>\n",
       "    <tr>\n",
       "      <th>mean</th>\n",
       "      <td>64.761692</td>\n",
       "    </tr>\n",
       "    <tr>\n",
       "      <th>std</th>\n",
       "      <td>30.090047</td>\n",
       "    </tr>\n",
       "    <tr>\n",
       "      <th>min</th>\n",
       "      <td>18.250000</td>\n",
       "    </tr>\n",
       "    <tr>\n",
       "      <th>25%</th>\n",
       "      <td>35.500000</td>\n",
       "    </tr>\n",
       "    <tr>\n",
       "      <th>50%</th>\n",
       "      <td>70.350000</td>\n",
       "    </tr>\n",
       "    <tr>\n",
       "      <th>75%</th>\n",
       "      <td>89.850000</td>\n",
       "    </tr>\n",
       "    <tr>\n",
       "      <th>max</th>\n",
       "      <td>118.750000</td>\n",
       "    </tr>\n",
       "  </tbody>\n",
       "</table>\n",
       "</div>"
      ],
      "text/plain": [
       "       monthly_charges\n",
       "count      7043.000000\n",
       "mean         64.761692\n",
       "std          30.090047\n",
       "min          18.250000\n",
       "25%          35.500000\n",
       "50%          70.350000\n",
       "75%          89.850000\n",
       "max         118.750000"
      ]
     },
     "metadata": {},
     "output_type": "display_data"
    }
   ],
   "source": [
    "baisic_df_info(contract_df, title='Контракты')"
   ]
  },
  {
   "cell_type": "code",
   "execution_count": 14,
   "id": "f516fdca-066b-4a7f-9d7c-8ab9317c25f6",
   "metadata": {},
   "outputs": [
    {
     "name": "stdout",
     "output_type": "stream",
     "text": [
      "Ушедших пользователей 1869\n"
     ]
    }
   ],
   "source": [
    "contract_df.loc[\n",
    "        contract_df['end_date'] == 'No',\n",
    "        'end_date'\n",
    "    ] = pd.NaT\n",
    "\n",
    "contract_df['end_date'] = pd.to_datetime(\n",
    "        contract_df['end_date']\n",
    "    )\n",
    "\n",
    "contract_df['end_date'].dt.date\n",
    "\n",
    "print(\n",
    "    'Ушедших пользователей',\n",
    "    contract_df.loc[contract_df['end_date'].notnull(), 'customer_id'].count()\n",
    ")"
   ]
  },
  {
   "cell_type": "code",
   "execution_count": 15,
   "id": "fd37e381-43c9-45ff-976b-ff48852b74a2",
   "metadata": {},
   "outputs": [],
   "source": [
    "contract_df['begin_date'] = pd.to_datetime(\n",
    "        contract_df['begin_date']\n",
    "    )"
   ]
  },
  {
   "cell_type": "code",
   "execution_count": 16,
   "id": "7e05135a-e55d-480a-ae9c-7031b121d90e",
   "metadata": {},
   "outputs": [
    {
     "data": {
      "text/html": [
       "<div>\n",
       "<style scoped>\n",
       "    .dataframe tbody tr th:only-of-type {\n",
       "        vertical-align: middle;\n",
       "    }\n",
       "\n",
       "    .dataframe tbody tr th {\n",
       "        vertical-align: top;\n",
       "    }\n",
       "\n",
       "    .dataframe thead th {\n",
       "        text-align: right;\n",
       "    }\n",
       "</style>\n",
       "<table border=\"1\" class=\"dataframe\">\n",
       "  <thead>\n",
       "    <tr style=\"text-align: right;\">\n",
       "      <th></th>\n",
       "      <th>customer_id</th>\n",
       "      <th>begin_date</th>\n",
       "      <th>end_date</th>\n",
       "      <th>type</th>\n",
       "      <th>paperless_billing</th>\n",
       "      <th>payment_method</th>\n",
       "      <th>monthly_charges</th>\n",
       "      <th>total_charges</th>\n",
       "    </tr>\n",
       "  </thead>\n",
       "  <tbody>\n",
       "    <tr>\n",
       "      <th>488</th>\n",
       "      <td>4472-LVYGI</td>\n",
       "      <td>2020-02-01</td>\n",
       "      <td>NaT</td>\n",
       "      <td>Two year</td>\n",
       "      <td>Yes</td>\n",
       "      <td>Bank transfer (automatic)</td>\n",
       "      <td>52.55</td>\n",
       "      <td></td>\n",
       "    </tr>\n",
       "    <tr>\n",
       "      <th>753</th>\n",
       "      <td>3115-CZMZD</td>\n",
       "      <td>2020-02-01</td>\n",
       "      <td>NaT</td>\n",
       "      <td>Two year</td>\n",
       "      <td>No</td>\n",
       "      <td>Mailed check</td>\n",
       "      <td>20.25</td>\n",
       "      <td></td>\n",
       "    </tr>\n",
       "    <tr>\n",
       "      <th>936</th>\n",
       "      <td>5709-LVOEQ</td>\n",
       "      <td>2020-02-01</td>\n",
       "      <td>NaT</td>\n",
       "      <td>Two year</td>\n",
       "      <td>No</td>\n",
       "      <td>Mailed check</td>\n",
       "      <td>80.85</td>\n",
       "      <td></td>\n",
       "    </tr>\n",
       "    <tr>\n",
       "      <th>1082</th>\n",
       "      <td>4367-NUYAO</td>\n",
       "      <td>2020-02-01</td>\n",
       "      <td>NaT</td>\n",
       "      <td>Two year</td>\n",
       "      <td>No</td>\n",
       "      <td>Mailed check</td>\n",
       "      <td>25.75</td>\n",
       "      <td></td>\n",
       "    </tr>\n",
       "    <tr>\n",
       "      <th>1340</th>\n",
       "      <td>1371-DWPAZ</td>\n",
       "      <td>2020-02-01</td>\n",
       "      <td>NaT</td>\n",
       "      <td>Two year</td>\n",
       "      <td>No</td>\n",
       "      <td>Credit card (automatic)</td>\n",
       "      <td>56.05</td>\n",
       "      <td></td>\n",
       "    </tr>\n",
       "    <tr>\n",
       "      <th>3331</th>\n",
       "      <td>7644-OMVMY</td>\n",
       "      <td>2020-02-01</td>\n",
       "      <td>NaT</td>\n",
       "      <td>Two year</td>\n",
       "      <td>No</td>\n",
       "      <td>Mailed check</td>\n",
       "      <td>19.85</td>\n",
       "      <td></td>\n",
       "    </tr>\n",
       "    <tr>\n",
       "      <th>3826</th>\n",
       "      <td>3213-VVOLG</td>\n",
       "      <td>2020-02-01</td>\n",
       "      <td>NaT</td>\n",
       "      <td>Two year</td>\n",
       "      <td>No</td>\n",
       "      <td>Mailed check</td>\n",
       "      <td>25.35</td>\n",
       "      <td></td>\n",
       "    </tr>\n",
       "    <tr>\n",
       "      <th>4380</th>\n",
       "      <td>2520-SGTTA</td>\n",
       "      <td>2020-02-01</td>\n",
       "      <td>NaT</td>\n",
       "      <td>Two year</td>\n",
       "      <td>No</td>\n",
       "      <td>Mailed check</td>\n",
       "      <td>20.00</td>\n",
       "      <td></td>\n",
       "    </tr>\n",
       "    <tr>\n",
       "      <th>5218</th>\n",
       "      <td>2923-ARZLG</td>\n",
       "      <td>2020-02-01</td>\n",
       "      <td>NaT</td>\n",
       "      <td>One year</td>\n",
       "      <td>Yes</td>\n",
       "      <td>Mailed check</td>\n",
       "      <td>19.70</td>\n",
       "      <td></td>\n",
       "    </tr>\n",
       "    <tr>\n",
       "      <th>6670</th>\n",
       "      <td>4075-WKNIU</td>\n",
       "      <td>2020-02-01</td>\n",
       "      <td>NaT</td>\n",
       "      <td>Two year</td>\n",
       "      <td>No</td>\n",
       "      <td>Mailed check</td>\n",
       "      <td>73.35</td>\n",
       "      <td></td>\n",
       "    </tr>\n",
       "    <tr>\n",
       "      <th>6754</th>\n",
       "      <td>2775-SEFEE</td>\n",
       "      <td>2020-02-01</td>\n",
       "      <td>NaT</td>\n",
       "      <td>Two year</td>\n",
       "      <td>Yes</td>\n",
       "      <td>Bank transfer (automatic)</td>\n",
       "      <td>61.90</td>\n",
       "      <td></td>\n",
       "    </tr>\n",
       "  </tbody>\n",
       "</table>\n",
       "</div>"
      ],
      "text/plain": [
       "     customer_id begin_date end_date      type paperless_billing  \\\n",
       "488   4472-LVYGI 2020-02-01      NaT  Two year               Yes   \n",
       "753   3115-CZMZD 2020-02-01      NaT  Two year                No   \n",
       "936   5709-LVOEQ 2020-02-01      NaT  Two year                No   \n",
       "1082  4367-NUYAO 2020-02-01      NaT  Two year                No   \n",
       "1340  1371-DWPAZ 2020-02-01      NaT  Two year                No   \n",
       "3331  7644-OMVMY 2020-02-01      NaT  Two year                No   \n",
       "3826  3213-VVOLG 2020-02-01      NaT  Two year                No   \n",
       "4380  2520-SGTTA 2020-02-01      NaT  Two year                No   \n",
       "5218  2923-ARZLG 2020-02-01      NaT  One year               Yes   \n",
       "6670  4075-WKNIU 2020-02-01      NaT  Two year                No   \n",
       "6754  2775-SEFEE 2020-02-01      NaT  Two year               Yes   \n",
       "\n",
       "                 payment_method  monthly_charges total_charges  \n",
       "488   Bank transfer (automatic)            52.55                \n",
       "753                Mailed check            20.25                \n",
       "936                Mailed check            80.85                \n",
       "1082               Mailed check            25.75                \n",
       "1340    Credit card (automatic)            56.05                \n",
       "3331               Mailed check            19.85                \n",
       "3826               Mailed check            25.35                \n",
       "4380               Mailed check            20.00                \n",
       "5218               Mailed check            19.70                \n",
       "6670               Mailed check            73.35                \n",
       "6754  Bank transfer (automatic)            61.90                "
      ]
     },
     "metadata": {},
     "output_type": "display_data"
    }
   ],
   "source": [
    "display(\n",
    "    contract_df.loc[\n",
    "        contract_df['total_charges'] == ' '\n",
    "    ]\n",
    ")"
   ]
  },
  {
   "cell_type": "markdown",
   "id": "60440ce7-e633-4143-8a6c-9d6e8283f3d2",
   "metadata": {},
   "source": [
    "`total_charges` «пусто» только у тех пользователей, которые:\n",
    "1. заключили договор на 1 год или 2 года\n",
    "2. подключились в дату вгрузки данных `2020-02-01`"
   ]
  },
  {
   "cell_type": "code",
   "execution_count": 17,
   "id": "e75a0937-683a-4fd4-b63b-822cdc00b32f",
   "metadata": {},
   "outputs": [],
   "source": [
    "long_term = ['Two year', 'One year']"
   ]
  },
  {
   "cell_type": "code",
   "execution_count": 18,
   "id": "3864c945-6732-4a22-98ff-eda449fc1719",
   "metadata": {},
   "outputs": [],
   "source": [
    "long_term_idxs = contract_df.loc[\n",
    "        contract_df['type'].isin(long_term)\n",
    "    ].index"
   ]
  },
  {
   "cell_type": "code",
   "execution_count": 19,
   "id": "fb322fdf-0fb8-4467-9f0c-d14c5bce90a6",
   "metadata": {},
   "outputs": [
    {
     "name": "stdout",
     "output_type": "stream",
     "text": [
      "3168 пользователей заключили договор на год или два\n"
     ]
    }
   ],
   "source": [
    "print(len(long_term_idxs), 'пользователей заключили договор на год или два')"
   ]
  },
  {
   "cell_type": "code",
   "execution_count": 20,
   "id": "bc6d079f-729b-44dd-a34b-d522afb47c44",
   "metadata": {
    "tags": []
   },
   "outputs": [
    {
     "data": {
      "text/html": [
       "<div>\n",
       "<style scoped>\n",
       "    .dataframe tbody tr th:only-of-type {\n",
       "        vertical-align: middle;\n",
       "    }\n",
       "\n",
       "    .dataframe tbody tr th {\n",
       "        vertical-align: top;\n",
       "    }\n",
       "\n",
       "    .dataframe thead th {\n",
       "        text-align: right;\n",
       "    }\n",
       "</style>\n",
       "<table border=\"1\" class=\"dataframe\">\n",
       "  <thead>\n",
       "    <tr style=\"text-align: right;\">\n",
       "      <th></th>\n",
       "      <th>begin_date</th>\n",
       "      <th>end_date</th>\n",
       "      <th>type</th>\n",
       "      <th>monthly_charges</th>\n",
       "      <th>total_charges</th>\n",
       "    </tr>\n",
       "  </thead>\n",
       "  <tbody>\n",
       "    <tr>\n",
       "      <th>1</th>\n",
       "      <td>2017-04-01</td>\n",
       "      <td>NaT</td>\n",
       "      <td>One year</td>\n",
       "      <td>56.95</td>\n",
       "      <td>1889.5</td>\n",
       "    </tr>\n",
       "    <tr>\n",
       "      <th>3</th>\n",
       "      <td>2016-05-01</td>\n",
       "      <td>NaT</td>\n",
       "      <td>One year</td>\n",
       "      <td>42.30</td>\n",
       "      <td>1840.75</td>\n",
       "    </tr>\n",
       "    <tr>\n",
       "      <th>9</th>\n",
       "      <td>2014-12-01</td>\n",
       "      <td>NaT</td>\n",
       "      <td>One year</td>\n",
       "      <td>56.15</td>\n",
       "      <td>3487.95</td>\n",
       "    </tr>\n",
       "    <tr>\n",
       "      <th>11</th>\n",
       "      <td>2018-10-01</td>\n",
       "      <td>NaT</td>\n",
       "      <td>Two year</td>\n",
       "      <td>18.95</td>\n",
       "      <td>326.8</td>\n",
       "    </tr>\n",
       "    <tr>\n",
       "      <th>12</th>\n",
       "      <td>2015-04-01</td>\n",
       "      <td>NaT</td>\n",
       "      <td>One year</td>\n",
       "      <td>100.35</td>\n",
       "      <td>5681.1</td>\n",
       "    </tr>\n",
       "    <tr>\n",
       "      <th>...</th>\n",
       "      <td>...</td>\n",
       "      <td>...</td>\n",
       "      <td>...</td>\n",
       "      <td>...</td>\n",
       "      <td>...</td>\n",
       "    </tr>\n",
       "    <tr>\n",
       "      <th>7036</th>\n",
       "      <td>2019-02-01</td>\n",
       "      <td>NaT</td>\n",
       "      <td>One year</td>\n",
       "      <td>60.65</td>\n",
       "      <td>743.3</td>\n",
       "    </tr>\n",
       "    <tr>\n",
       "      <th>7037</th>\n",
       "      <td>2014-02-01</td>\n",
       "      <td>NaT</td>\n",
       "      <td>Two year</td>\n",
       "      <td>21.15</td>\n",
       "      <td>1419.4</td>\n",
       "    </tr>\n",
       "    <tr>\n",
       "      <th>7038</th>\n",
       "      <td>2018-02-01</td>\n",
       "      <td>NaT</td>\n",
       "      <td>One year</td>\n",
       "      <td>84.80</td>\n",
       "      <td>1990.5</td>\n",
       "    </tr>\n",
       "    <tr>\n",
       "      <th>7039</th>\n",
       "      <td>2014-02-01</td>\n",
       "      <td>NaT</td>\n",
       "      <td>One year</td>\n",
       "      <td>103.20</td>\n",
       "      <td>7362.9</td>\n",
       "    </tr>\n",
       "    <tr>\n",
       "      <th>7042</th>\n",
       "      <td>2014-08-01</td>\n",
       "      <td>NaT</td>\n",
       "      <td>Two year</td>\n",
       "      <td>105.65</td>\n",
       "      <td>6844.5</td>\n",
       "    </tr>\n",
       "  </tbody>\n",
       "</table>\n",
       "<p>3168 rows × 5 columns</p>\n",
       "</div>"
      ],
      "text/plain": [
       "     begin_date end_date      type  monthly_charges total_charges\n",
       "1    2017-04-01      NaT  One year            56.95        1889.5\n",
       "3    2016-05-01      NaT  One year            42.30       1840.75\n",
       "9    2014-12-01      NaT  One year            56.15       3487.95\n",
       "11   2018-10-01      NaT  Two year            18.95         326.8\n",
       "12   2015-04-01      NaT  One year           100.35        5681.1\n",
       "...         ...      ...       ...              ...           ...\n",
       "7036 2019-02-01      NaT  One year            60.65         743.3\n",
       "7037 2014-02-01      NaT  Two year            21.15        1419.4\n",
       "7038 2018-02-01      NaT  One year            84.80        1990.5\n",
       "7039 2014-02-01      NaT  One year           103.20        7362.9\n",
       "7042 2014-08-01      NaT  Two year           105.65        6844.5\n",
       "\n",
       "[3168 rows x 5 columns]"
      ]
     },
     "metadata": {},
     "output_type": "display_data"
    }
   ],
   "source": [
    "display(\n",
    "    contract_df.loc[\n",
    "        long_term_idxs,\n",
    "        (\n",
    "            'begin_date',\n",
    "            'end_date',\n",
    "            'type',\n",
    "            'monthly_charges',\n",
    "            'total_charges'\n",
    "        )\n",
    "    ]\n",
    ")"
   ]
  },
  {
   "cell_type": "code",
   "execution_count": 21,
   "id": "2f66c089-7410-41cb-a3e0-2751acf0e2df",
   "metadata": {},
   "outputs": [
    {
     "name": "stdout",
     "output_type": "stream",
     "text": [
      "Index(['customer_id', 'begin_date', 'end_date', 'type', 'paperless_billing',\n",
      "       'payment_method', 'monthly_charges', 'total_charges'],\n",
      "      dtype='object')\n"
     ]
    }
   ],
   "source": [
    "print(contract_df.columns)"
   ]
  },
  {
   "cell_type": "markdown",
   "id": "e4df121f-198e-4fbb-8b2c-054d9cdf5af9",
   "metadata": {},
   "source": [
    "> За услуги клиенты могут платить каждый месяц или заключить договор на 1–2 года"
   ]
  },
  {
   "cell_type": "code",
   "execution_count": 22,
   "id": "1d2e4820-5421-4260-9f49-f0e6efa6e301",
   "metadata": {},
   "outputs": [
    {
     "name": "stdout",
     "output_type": "stream",
     "text": [
      "Поля ежемесячная плата и всего заплачено совпадают 0 раз\n"
     ]
    }
   ],
   "source": [
    "print(\n",
    "    'Поля ежемесячная плата и всего заплачено совпадают',\n",
    "    len(contract_df.loc[\n",
    "            contract_df['monthly_charges'] == contract_df['total_charges']\n",
    "        ].index),\n",
    "    'раз'\n",
    ")"
   ]
  },
  {
   "cell_type": "markdown",
   "id": "85798286-c158-49a4-9b06-5d453635be4d",
   "metadata": {},
   "source": [
    "Предположим что **«Ниединогоразрыва.ком»** использует **предоплатную** систему расчета.  \n",
    "Тогда прировняем пустые `total_charges` к `monthly_charges`."
   ]
  },
  {
   "cell_type": "markdown",
   "id": "4bd1d45c",
   "metadata": {},
   "source": [
    "<div class=\"alert alert-success\">\n",
    "<b>✔️ Комментарий тимлида:</b> Здорово, что обратил внимание на пустые строки в признаке TotalCharges! Заполнение пропусков выполнено успешно\n",
    "    \n",
    "</div>"
   ]
  },
  {
   "cell_type": "code",
   "execution_count": 23,
   "id": "2122b936-eef3-46f5-bbcd-19fb76380aab",
   "metadata": {},
   "outputs": [],
   "source": [
    "contract_df.loc[\n",
    "            contract_df['total_charges'] == ' ',\n",
    "            'total_charges'\n",
    "    ] = contract_df.loc[\n",
    "            contract_df['total_charges'] == ' ',\n",
    "            'monthly_charges'\n",
    "    ]"
   ]
  },
  {
   "cell_type": "code",
   "execution_count": 24,
   "id": "a671dc49-573a-443d-b711-e601ad91542b",
   "metadata": {},
   "outputs": [
    {
     "name": "stderr",
     "output_type": "stream",
     "text": [
      "/tmp/ipykernel_16464/4100139373.py:1: FutureWarning: In a future version, `df.iloc[:, i] = newvals` will attempt to set the values inplace instead of always setting a new array. To retain the old behavior, use either `df[df.columns[i]] = newvals` or, if columns are non-unique, `df.isetitem(i, newvals)`\n",
      "  contract_df.loc[:,\n"
     ]
    }
   ],
   "source": [
    "contract_df.loc[:, \n",
    "        ['monthly_charges', 'total_charges' ]\n",
    "    ] = contract_df.loc[:, \n",
    "        ['monthly_charges', 'total_charges' ]].astype({\n",
    "            'monthly_charges': 'float16',\n",
    "             'total_charges': 'float32' \n",
    "        })"
   ]
  },
  {
   "cell_type": "code",
   "execution_count": 25,
   "id": "20689f9d-3b34-4ee2-ac32-6f9b262c7215",
   "metadata": {
    "tags": []
   },
   "outputs": [
    {
     "data": {
      "text/html": [
       "<div>\n",
       "<style scoped>\n",
       "    .dataframe tbody tr th:only-of-type {\n",
       "        vertical-align: middle;\n",
       "    }\n",
       "\n",
       "    .dataframe tbody tr th {\n",
       "        vertical-align: top;\n",
       "    }\n",
       "\n",
       "    .dataframe thead th {\n",
       "        text-align: right;\n",
       "    }\n",
       "</style>\n",
       "<table border=\"1\" class=\"dataframe\">\n",
       "  <thead>\n",
       "    <tr style=\"text-align: right;\">\n",
       "      <th></th>\n",
       "      <th>customer_id</th>\n",
       "      <th>begin_date</th>\n",
       "      <th>end_date</th>\n",
       "      <th>type</th>\n",
       "      <th>paperless_billing</th>\n",
       "      <th>payment_method</th>\n",
       "      <th>monthly_charges</th>\n",
       "      <th>total_charges</th>\n",
       "    </tr>\n",
       "  </thead>\n",
       "  <tbody>\n",
       "    <tr>\n",
       "      <th>4461</th>\n",
       "      <td>0082-OQIQY</td>\n",
       "      <td>2017-09-01</td>\n",
       "      <td>NaT</td>\n",
       "      <td>Month-to-month</td>\n",
       "      <td>Yes</td>\n",
       "      <td>Electronic check</td>\n",
       "      <td>94.1875</td>\n",
       "      <td>2607.600098</td>\n",
       "    </tr>\n",
       "    <tr>\n",
       "      <th>6346</th>\n",
       "      <td>9661-MHUMO</td>\n",
       "      <td>2019-12-01</td>\n",
       "      <td>2020-01-01</td>\n",
       "      <td>Month-to-month</td>\n",
       "      <td>Yes</td>\n",
       "      <td>Credit card (automatic)</td>\n",
       "      <td>49.2500</td>\n",
       "      <td>49.250000</td>\n",
       "    </tr>\n",
       "    <tr>\n",
       "      <th>6498</th>\n",
       "      <td>0742-NXBGR</td>\n",
       "      <td>2019-10-01</td>\n",
       "      <td>2019-11-01</td>\n",
       "      <td>Month-to-month</td>\n",
       "      <td>Yes</td>\n",
       "      <td>Electronic check</td>\n",
       "      <td>82.3125</td>\n",
       "      <td>82.300003</td>\n",
       "    </tr>\n",
       "    <tr>\n",
       "      <th>3768</th>\n",
       "      <td>3537-HPKQT</td>\n",
       "      <td>2015-07-01</td>\n",
       "      <td>NaT</td>\n",
       "      <td>Month-to-month</td>\n",
       "      <td>Yes</td>\n",
       "      <td>Credit card (automatic)</td>\n",
       "      <td>77.7500</td>\n",
       "      <td>4266.399902</td>\n",
       "    </tr>\n",
       "    <tr>\n",
       "      <th>7018</th>\n",
       "      <td>1122-JWTJW</td>\n",
       "      <td>2019-10-01</td>\n",
       "      <td>2019-11-01</td>\n",
       "      <td>Month-to-month</td>\n",
       "      <td>Yes</td>\n",
       "      <td>Mailed check</td>\n",
       "      <td>70.6250</td>\n",
       "      <td>70.650002</td>\n",
       "    </tr>\n",
       "  </tbody>\n",
       "</table>\n",
       "</div>"
      ],
      "text/plain": [
       "     customer_id begin_date   end_date            type paperless_billing  \\\n",
       "4461  0082-OQIQY 2017-09-01        NaT  Month-to-month               Yes   \n",
       "6346  9661-MHUMO 2019-12-01 2020-01-01  Month-to-month               Yes   \n",
       "6498  0742-NXBGR 2019-10-01 2019-11-01  Month-to-month               Yes   \n",
       "3768  3537-HPKQT 2015-07-01        NaT  Month-to-month               Yes   \n",
       "7018  1122-JWTJW 2019-10-01 2019-11-01  Month-to-month               Yes   \n",
       "\n",
       "               payment_method  monthly_charges  total_charges  \n",
       "4461         Electronic check          94.1875    2607.600098  \n",
       "6346  Credit card (automatic)          49.2500      49.250000  \n",
       "6498         Electronic check          82.3125      82.300003  \n",
       "3768  Credit card (automatic)          77.7500    4266.399902  \n",
       "7018             Mailed check          70.6250      70.650002  "
      ]
     },
     "metadata": {},
     "output_type": "display_data"
    },
    {
     "name": "stdout",
     "output_type": "stream",
     "text": [
      "<class 'pandas.core.frame.DataFrame'>\n",
      "RangeIndex: 7043 entries, 0 to 7042\n",
      "Data columns (total 8 columns):\n",
      " #   Column             Non-Null Count  Dtype         \n",
      "---  ------             --------------  -----         \n",
      " 0   customer_id        7043 non-null   object        \n",
      " 1   begin_date         7043 non-null   datetime64[ns]\n",
      " 2   end_date           1869 non-null   datetime64[ns]\n",
      " 3   type               7043 non-null   object        \n",
      " 4   paperless_billing  7043 non-null   object        \n",
      " 5   payment_method     7043 non-null   object        \n",
      " 6   monthly_charges    7043 non-null   float16       \n",
      " 7   total_charges      7043 non-null   float32       \n",
      "dtypes: datetime64[ns](2), float16(1), float32(1), object(4)\n",
      "memory usage: 371.5+ KB\n"
     ]
    }
   ],
   "source": [
    "display(\n",
    "    contract_df.sample(5)\n",
    ")\n",
    "contract_df.info()"
   ]
  },
  {
   "cell_type": "code",
   "execution_count": 26,
   "id": "4cfd00ab-ae57-4b79-81c9-2c4e5d1040e3",
   "metadata": {
    "tags": []
   },
   "outputs": [
    {
     "name": "stdout",
     "output_type": "stream",
     "text": [
      "Интернет → о наборе данных:\n",
      "\n",
      "Дубликатов: 0\n",
      "\n",
      "Пропусков NaN в наборе данных нет.\n",
      "\n",
      "<class 'pandas.core.frame.DataFrame'>\n",
      "RangeIndex: 5517 entries, 0 to 5516\n",
      "Data columns (total 8 columns):\n",
      " #   Column             Non-Null Count  Dtype \n",
      "---  ------             --------------  ----- \n",
      " 0   customer_id        5517 non-null   object\n",
      " 1   internet_service   5517 non-null   object\n",
      " 2   online_security    5517 non-null   object\n",
      " 3   online_backup      5517 non-null   object\n",
      " 4   device_protection  5517 non-null   object\n",
      " 5   tech_support       5517 non-null   object\n",
      " 6   streaming_tv       5517 non-null   object\n",
      " 7   streaming_movies   5517 non-null   object\n",
      "dtypes: object(8)\n",
      "memory usage: 344.9+ KB\n",
      "\n"
     ]
    },
    {
     "data": {
      "text/html": [
       "<div>\n",
       "<style scoped>\n",
       "    .dataframe tbody tr th:only-of-type {\n",
       "        vertical-align: middle;\n",
       "    }\n",
       "\n",
       "    .dataframe tbody tr th {\n",
       "        vertical-align: top;\n",
       "    }\n",
       "\n",
       "    .dataframe thead th {\n",
       "        text-align: right;\n",
       "    }\n",
       "</style>\n",
       "<table border=\"1\" class=\"dataframe\">\n",
       "  <thead>\n",
       "    <tr style=\"text-align: right;\">\n",
       "      <th></th>\n",
       "      <th>customer_id</th>\n",
       "      <th>internet_service</th>\n",
       "      <th>online_security</th>\n",
       "      <th>online_backup</th>\n",
       "      <th>device_protection</th>\n",
       "      <th>tech_support</th>\n",
       "      <th>streaming_tv</th>\n",
       "      <th>streaming_movies</th>\n",
       "    </tr>\n",
       "  </thead>\n",
       "  <tbody>\n",
       "    <tr>\n",
       "      <th>2540</th>\n",
       "      <td>4827-LTQRJ</td>\n",
       "      <td>Fiber optic</td>\n",
       "      <td>Yes</td>\n",
       "      <td>Yes</td>\n",
       "      <td>No</td>\n",
       "      <td>Yes</td>\n",
       "      <td>Yes</td>\n",
       "      <td>Yes</td>\n",
       "    </tr>\n",
       "    <tr>\n",
       "      <th>2697</th>\n",
       "      <td>0100-DUVFC</td>\n",
       "      <td>Fiber optic</td>\n",
       "      <td>No</td>\n",
       "      <td>Yes</td>\n",
       "      <td>Yes</td>\n",
       "      <td>No</td>\n",
       "      <td>Yes</td>\n",
       "      <td>Yes</td>\n",
       "    </tr>\n",
       "    <tr>\n",
       "      <th>2813</th>\n",
       "      <td>2260-USTRB</td>\n",
       "      <td>Fiber optic</td>\n",
       "      <td>No</td>\n",
       "      <td>No</td>\n",
       "      <td>No</td>\n",
       "      <td>No</td>\n",
       "      <td>No</td>\n",
       "      <td>No</td>\n",
       "    </tr>\n",
       "    <tr>\n",
       "      <th>2769</th>\n",
       "      <td>1301-LOPVR</td>\n",
       "      <td>DSL</td>\n",
       "      <td>Yes</td>\n",
       "      <td>Yes</td>\n",
       "      <td>Yes</td>\n",
       "      <td>Yes</td>\n",
       "      <td>No</td>\n",
       "      <td>Yes</td>\n",
       "    </tr>\n",
       "    <tr>\n",
       "      <th>1159</th>\n",
       "      <td>3070-BDOQC</td>\n",
       "      <td>Fiber optic</td>\n",
       "      <td>No</td>\n",
       "      <td>Yes</td>\n",
       "      <td>Yes</td>\n",
       "      <td>No</td>\n",
       "      <td>Yes</td>\n",
       "      <td>Yes</td>\n",
       "    </tr>\n",
       "  </tbody>\n",
       "</table>\n",
       "</div>"
      ],
      "text/plain": [
       "     customer_id internet_service online_security online_backup  \\\n",
       "2540  4827-LTQRJ      Fiber optic             Yes           Yes   \n",
       "2697  0100-DUVFC      Fiber optic              No           Yes   \n",
       "2813  2260-USTRB      Fiber optic              No            No   \n",
       "2769  1301-LOPVR              DSL             Yes           Yes   \n",
       "1159  3070-BDOQC      Fiber optic              No           Yes   \n",
       "\n",
       "     device_protection tech_support streaming_tv streaming_movies  \n",
       "2540                No          Yes          Yes              Yes  \n",
       "2697               Yes           No          Yes              Yes  \n",
       "2813                No           No           No               No  \n",
       "2769               Yes          Yes           No              Yes  \n",
       "1159               Yes           No          Yes              Yes  "
      ]
     },
     "metadata": {},
     "output_type": "display_data"
    },
    {
     "data": {
      "text/html": [
       "<div>\n",
       "<style scoped>\n",
       "    .dataframe tbody tr th:only-of-type {\n",
       "        vertical-align: middle;\n",
       "    }\n",
       "\n",
       "    .dataframe tbody tr th {\n",
       "        vertical-align: top;\n",
       "    }\n",
       "\n",
       "    .dataframe thead th {\n",
       "        text-align: right;\n",
       "    }\n",
       "</style>\n",
       "<table border=\"1\" class=\"dataframe\">\n",
       "  <thead>\n",
       "    <tr style=\"text-align: right;\">\n",
       "      <th></th>\n",
       "      <th>customer_id</th>\n",
       "      <th>internet_service</th>\n",
       "      <th>online_security</th>\n",
       "      <th>online_backup</th>\n",
       "      <th>device_protection</th>\n",
       "      <th>tech_support</th>\n",
       "      <th>streaming_tv</th>\n",
       "      <th>streaming_movies</th>\n",
       "    </tr>\n",
       "  </thead>\n",
       "  <tbody>\n",
       "    <tr>\n",
       "      <th>count</th>\n",
       "      <td>5517</td>\n",
       "      <td>5517</td>\n",
       "      <td>5517</td>\n",
       "      <td>5517</td>\n",
       "      <td>5517</td>\n",
       "      <td>5517</td>\n",
       "      <td>5517</td>\n",
       "      <td>5517</td>\n",
       "    </tr>\n",
       "    <tr>\n",
       "      <th>unique</th>\n",
       "      <td>5517</td>\n",
       "      <td>2</td>\n",
       "      <td>2</td>\n",
       "      <td>2</td>\n",
       "      <td>2</td>\n",
       "      <td>2</td>\n",
       "      <td>2</td>\n",
       "      <td>2</td>\n",
       "    </tr>\n",
       "    <tr>\n",
       "      <th>top</th>\n",
       "      <td>7590-VHVEG</td>\n",
       "      <td>Fiber optic</td>\n",
       "      <td>No</td>\n",
       "      <td>No</td>\n",
       "      <td>No</td>\n",
       "      <td>No</td>\n",
       "      <td>No</td>\n",
       "      <td>No</td>\n",
       "    </tr>\n",
       "    <tr>\n",
       "      <th>freq</th>\n",
       "      <td>1</td>\n",
       "      <td>3096</td>\n",
       "      <td>3498</td>\n",
       "      <td>3088</td>\n",
       "      <td>3095</td>\n",
       "      <td>3473</td>\n",
       "      <td>2810</td>\n",
       "      <td>2785</td>\n",
       "    </tr>\n",
       "  </tbody>\n",
       "</table>\n",
       "</div>"
      ],
      "text/plain": [
       "       customer_id internet_service online_security online_backup  \\\n",
       "count         5517             5517            5517          5517   \n",
       "unique        5517                2               2             2   \n",
       "top     7590-VHVEG      Fiber optic              No            No   \n",
       "freq             1             3096            3498          3088   \n",
       "\n",
       "       device_protection tech_support streaming_tv streaming_movies  \n",
       "count               5517         5517         5517             5517  \n",
       "unique                 2            2            2                2  \n",
       "top                   No           No           No               No  \n",
       "freq                3095         3473         2810             2785  "
      ]
     },
     "metadata": {},
     "output_type": "display_data"
    }
   ],
   "source": [
    "baisic_df_info(internet_df, 'Интернет')"
   ]
  },
  {
   "cell_type": "code",
   "execution_count": 27,
   "id": "9340b459-1b69-434b-8b95-fdb4dd0c6e2e",
   "metadata": {
    "tags": []
   },
   "outputs": [
    {
     "name": "stdout",
     "output_type": "stream",
     "text": [
      "Пользователи → о наборе данных:\n",
      "\n",
      "Дубликатов: 0\n",
      "\n",
      "Пропусков NaN в наборе данных нет.\n",
      "\n",
      "<class 'pandas.core.frame.DataFrame'>\n",
      "RangeIndex: 7043 entries, 0 to 7042\n",
      "Data columns (total 5 columns):\n",
      " #   Column          Non-Null Count  Dtype \n",
      "---  ------          --------------  ----- \n",
      " 0   customer_id     7043 non-null   object\n",
      " 1   gender          7043 non-null   object\n",
      " 2   senior_citizen  7043 non-null   int64 \n",
      " 3   partner         7043 non-null   object\n",
      " 4   dependents      7043 non-null   object\n",
      "dtypes: int64(1), object(4)\n",
      "memory usage: 275.2+ KB\n",
      "\n"
     ]
    },
    {
     "data": {
      "text/html": [
       "<div>\n",
       "<style scoped>\n",
       "    .dataframe tbody tr th:only-of-type {\n",
       "        vertical-align: middle;\n",
       "    }\n",
       "\n",
       "    .dataframe tbody tr th {\n",
       "        vertical-align: top;\n",
       "    }\n",
       "\n",
       "    .dataframe thead th {\n",
       "        text-align: right;\n",
       "    }\n",
       "</style>\n",
       "<table border=\"1\" class=\"dataframe\">\n",
       "  <thead>\n",
       "    <tr style=\"text-align: right;\">\n",
       "      <th></th>\n",
       "      <th>customer_id</th>\n",
       "      <th>gender</th>\n",
       "      <th>senior_citizen</th>\n",
       "      <th>partner</th>\n",
       "      <th>dependents</th>\n",
       "    </tr>\n",
       "  </thead>\n",
       "  <tbody>\n",
       "    <tr>\n",
       "      <th>3481</th>\n",
       "      <td>7339-POGZN</td>\n",
       "      <td>Female</td>\n",
       "      <td>0</td>\n",
       "      <td>No</td>\n",
       "      <td>No</td>\n",
       "    </tr>\n",
       "    <tr>\n",
       "      <th>2990</th>\n",
       "      <td>2309-OSFEU</td>\n",
       "      <td>Male</td>\n",
       "      <td>0</td>\n",
       "      <td>No</td>\n",
       "      <td>No</td>\n",
       "    </tr>\n",
       "    <tr>\n",
       "      <th>6793</th>\n",
       "      <td>1320-GVNHT</td>\n",
       "      <td>Male</td>\n",
       "      <td>0</td>\n",
       "      <td>Yes</td>\n",
       "      <td>Yes</td>\n",
       "    </tr>\n",
       "    <tr>\n",
       "      <th>6411</th>\n",
       "      <td>5119-NZPTV</td>\n",
       "      <td>Male</td>\n",
       "      <td>1</td>\n",
       "      <td>Yes</td>\n",
       "      <td>No</td>\n",
       "    </tr>\n",
       "    <tr>\n",
       "      <th>3694</th>\n",
       "      <td>1150-WFARN</td>\n",
       "      <td>Female</td>\n",
       "      <td>0</td>\n",
       "      <td>Yes</td>\n",
       "      <td>Yes</td>\n",
       "    </tr>\n",
       "  </tbody>\n",
       "</table>\n",
       "</div>"
      ],
      "text/plain": [
       "     customer_id  gender  senior_citizen partner dependents\n",
       "3481  7339-POGZN  Female               0      No         No\n",
       "2990  2309-OSFEU    Male               0      No         No\n",
       "6793  1320-GVNHT    Male               0     Yes        Yes\n",
       "6411  5119-NZPTV    Male               1     Yes         No\n",
       "3694  1150-WFARN  Female               0     Yes        Yes"
      ]
     },
     "metadata": {},
     "output_type": "display_data"
    },
    {
     "data": {
      "text/html": [
       "<div>\n",
       "<style scoped>\n",
       "    .dataframe tbody tr th:only-of-type {\n",
       "        vertical-align: middle;\n",
       "    }\n",
       "\n",
       "    .dataframe tbody tr th {\n",
       "        vertical-align: top;\n",
       "    }\n",
       "\n",
       "    .dataframe thead th {\n",
       "        text-align: right;\n",
       "    }\n",
       "</style>\n",
       "<table border=\"1\" class=\"dataframe\">\n",
       "  <thead>\n",
       "    <tr style=\"text-align: right;\">\n",
       "      <th></th>\n",
       "      <th>senior_citizen</th>\n",
       "    </tr>\n",
       "  </thead>\n",
       "  <tbody>\n",
       "    <tr>\n",
       "      <th>count</th>\n",
       "      <td>7043.000000</td>\n",
       "    </tr>\n",
       "    <tr>\n",
       "      <th>mean</th>\n",
       "      <td>0.162147</td>\n",
       "    </tr>\n",
       "    <tr>\n",
       "      <th>std</th>\n",
       "      <td>0.368612</td>\n",
       "    </tr>\n",
       "    <tr>\n",
       "      <th>min</th>\n",
       "      <td>0.000000</td>\n",
       "    </tr>\n",
       "    <tr>\n",
       "      <th>25%</th>\n",
       "      <td>0.000000</td>\n",
       "    </tr>\n",
       "    <tr>\n",
       "      <th>50%</th>\n",
       "      <td>0.000000</td>\n",
       "    </tr>\n",
       "    <tr>\n",
       "      <th>75%</th>\n",
       "      <td>0.000000</td>\n",
       "    </tr>\n",
       "    <tr>\n",
       "      <th>max</th>\n",
       "      <td>1.000000</td>\n",
       "    </tr>\n",
       "  </tbody>\n",
       "</table>\n",
       "</div>"
      ],
      "text/plain": [
       "       senior_citizen\n",
       "count     7043.000000\n",
       "mean         0.162147\n",
       "std          0.368612\n",
       "min          0.000000\n",
       "25%          0.000000\n",
       "50%          0.000000\n",
       "75%          0.000000\n",
       "max          1.000000"
      ]
     },
     "metadata": {},
     "output_type": "display_data"
    }
   ],
   "source": [
    "baisic_df_info(personal_df, title='Пользователи')"
   ]
  },
  {
   "cell_type": "code",
   "execution_count": 28,
   "id": "35ecee0d-e5a6-4656-b62c-7374177fc82a",
   "metadata": {
    "tags": []
   },
   "outputs": [
    {
     "name": "stdout",
     "output_type": "stream",
     "text": [
      "Телефония → о наборе данных:\n",
      "\n",
      "Дубликатов: 0\n",
      "\n",
      "Пропусков NaN в наборе данных нет.\n",
      "\n",
      "<class 'pandas.core.frame.DataFrame'>\n",
      "RangeIndex: 6361 entries, 0 to 6360\n",
      "Data columns (total 2 columns):\n",
      " #   Column          Non-Null Count  Dtype \n",
      "---  ------          --------------  ----- \n",
      " 0   customer_id     6361 non-null   object\n",
      " 1   multiple_lines  6361 non-null   object\n",
      "dtypes: object(2)\n",
      "memory usage: 99.5+ KB\n",
      "\n"
     ]
    },
    {
     "data": {
      "text/html": [
       "<div>\n",
       "<style scoped>\n",
       "    .dataframe tbody tr th:only-of-type {\n",
       "        vertical-align: middle;\n",
       "    }\n",
       "\n",
       "    .dataframe tbody tr th {\n",
       "        vertical-align: top;\n",
       "    }\n",
       "\n",
       "    .dataframe thead th {\n",
       "        text-align: right;\n",
       "    }\n",
       "</style>\n",
       "<table border=\"1\" class=\"dataframe\">\n",
       "  <thead>\n",
       "    <tr style=\"text-align: right;\">\n",
       "      <th></th>\n",
       "      <th>customer_id</th>\n",
       "      <th>multiple_lines</th>\n",
       "    </tr>\n",
       "  </thead>\n",
       "  <tbody>\n",
       "    <tr>\n",
       "      <th>4481</th>\n",
       "      <td>4298-OYIFC</td>\n",
       "      <td>Yes</td>\n",
       "    </tr>\n",
       "    <tr>\n",
       "      <th>6287</th>\n",
       "      <td>3914-FDRHP</td>\n",
       "      <td>No</td>\n",
       "    </tr>\n",
       "    <tr>\n",
       "      <th>655</th>\n",
       "      <td>6549-YMFAW</td>\n",
       "      <td>No</td>\n",
       "    </tr>\n",
       "    <tr>\n",
       "      <th>3803</th>\n",
       "      <td>2961-VNFKL</td>\n",
       "      <td>Yes</td>\n",
       "    </tr>\n",
       "    <tr>\n",
       "      <th>5721</th>\n",
       "      <td>0547-HURJB</td>\n",
       "      <td>No</td>\n",
       "    </tr>\n",
       "  </tbody>\n",
       "</table>\n",
       "</div>"
      ],
      "text/plain": [
       "     customer_id multiple_lines\n",
       "4481  4298-OYIFC            Yes\n",
       "6287  3914-FDRHP             No\n",
       "655   6549-YMFAW             No\n",
       "3803  2961-VNFKL            Yes\n",
       "5721  0547-HURJB             No"
      ]
     },
     "metadata": {},
     "output_type": "display_data"
    },
    {
     "data": {
      "text/html": [
       "<div>\n",
       "<style scoped>\n",
       "    .dataframe tbody tr th:only-of-type {\n",
       "        vertical-align: middle;\n",
       "    }\n",
       "\n",
       "    .dataframe tbody tr th {\n",
       "        vertical-align: top;\n",
       "    }\n",
       "\n",
       "    .dataframe thead th {\n",
       "        text-align: right;\n",
       "    }\n",
       "</style>\n",
       "<table border=\"1\" class=\"dataframe\">\n",
       "  <thead>\n",
       "    <tr style=\"text-align: right;\">\n",
       "      <th></th>\n",
       "      <th>customer_id</th>\n",
       "      <th>multiple_lines</th>\n",
       "    </tr>\n",
       "  </thead>\n",
       "  <tbody>\n",
       "    <tr>\n",
       "      <th>count</th>\n",
       "      <td>6361</td>\n",
       "      <td>6361</td>\n",
       "    </tr>\n",
       "    <tr>\n",
       "      <th>unique</th>\n",
       "      <td>6361</td>\n",
       "      <td>2</td>\n",
       "    </tr>\n",
       "    <tr>\n",
       "      <th>top</th>\n",
       "      <td>5575-GNVDE</td>\n",
       "      <td>No</td>\n",
       "    </tr>\n",
       "    <tr>\n",
       "      <th>freq</th>\n",
       "      <td>1</td>\n",
       "      <td>3390</td>\n",
       "    </tr>\n",
       "  </tbody>\n",
       "</table>\n",
       "</div>"
      ],
      "text/plain": [
       "       customer_id multiple_lines\n",
       "count         6361           6361\n",
       "unique        6361              2\n",
       "top     5575-GNVDE             No\n",
       "freq             1           3390"
      ]
     },
     "metadata": {},
     "output_type": "display_data"
    }
   ],
   "source": [
    "baisic_df_info(phone_df, title='Телефония')"
   ]
  },
  {
   "cell_type": "markdown",
   "id": "64debcc0-64c3-4792-a1b5-dfacd3214e97",
   "metadata": {},
   "source": [
    "✅ все датафреймы должны быть исследованы (методы describe(), info(), можно добавить графики)"
   ]
  },
  {
   "cell_type": "markdown",
   "id": "510fd531",
   "metadata": {},
   "source": [
    "<div class=\"alert alert-success\">\n",
    "<b>✔️ Комментарий тимлида:</b> Предварительный анализ данных выполнен успешно!\n",
    "    \n",
    "</div>"
   ]
  },
  {
   "cell_type": "markdown",
   "id": "6ec8c419-d9df-4989-a7e8-2741a7bd10e2",
   "metadata": {},
   "source": [
    "## План проекта"
   ]
  },
  {
   "cell_type": "markdown",
   "id": "0068940f-8785-4f04-82f4-fbdfc8cc55a5",
   "metadata": {},
   "source": [
    "1. Анализируем наборы данных  \n",
    "    1.1. Предобрабатываем данные\n",
    "2. Выбираем необходимые `features`  \n",
    "    2.1. Смотрим на корреляции  \n",
    "    2.2. Включаем логику  \n",
    "    2.3. Создаём признаки  \n",
    "    2.4. Создаём `targets` из `'end_date'`  \n",
    "    2.5. Объединяем наборы данных в один\n",
    "3. Тестируем разные модели  \n",
    "    3.0. Делим набор данных на тестовую и тренировочную выборки  \n",
    "    3.1. `RandomForestClassifier`  \n",
    "    3.2. `LogisticRegression`  \n",
    "    3.3. `CatBoostClassifier`  \n",
    "4. Тестируем лучшую модель на кроссвалидации модель\n",
    "5. Пишем выводы\n"
   ]
  },
  {
   "cell_type": "markdown",
   "id": "241df364-5b38-44ab-b236-727b54936b9c",
   "metadata": {},
   "source": [
    "✅ содержание (план) проекта: здесь нужно привести структуру проекта, т.е. основные пункты и подпункты. План должен быть достаточно подробным, обычном минимум 4-5 основных пунктов с подпунктами."
   ]
  },
  {
   "cell_type": "markdown",
   "id": "8d1f05bf",
   "metadata": {},
   "source": [
    "<div class=\"alert alert-success\">\n",
    "<b>✔️ Комментарий тимлида:</b> План работ последовательный и понятный, все хорошо! \n",
    "    \n",
    "Единственное, в работе нужно обязательно сделать исследовательский анализ данных (диаграммы) после генерации новых признаков и целевой переменной. Возможно ты и так планировал, но в плане не отражено =)\n",
    "    \n",
    "Перед EDA нужно объединить таблицы и заполнить пропуски\n",
    "    \n",
    "</div>"
   ]
  },
  {
   "cell_type": "markdown",
   "id": "78da8356-65aa-4ee3-a432-1c7e40254716",
   "metadata": {},
   "source": [
    "### Вопросы"
   ]
  },
  {
   "cell_type": "markdown",
   "id": "ec4c97ad-a7b0-427c-a163-002a06d87205",
   "metadata": {},
   "source": [
    "1. Предоплатная ли система расчётов у **«Ниединогоразрыва.ком»?**\n",
    "2. Может ли нейронная сеть быть классификатором, какая, что почитать, пожалуйста?\n",
    "3. Какие действия = пункты плана можно еще выполнить?\n",
    "4. Где раздобыть еще выборку по ушедшим абонентам; Могут ли **«Ниединогоразрыва.ком»** предоставить еще информацию?)\n",
    "5. Есть ли ещё что+то важное что стоит учесть до начала действий, пожалуйста?"
   ]
  },
  {
   "cell_type": "markdown",
   "id": "21d255f6",
   "metadata": {},
   "source": [
    "<div class=\"alert alert-success\">\n",
    "<b>✔️ Комментарий тимлида:</b> По твоим вопросам:\n",
    "    \n",
    "1. Можно считать, что есть предоплата\n",
    "    \n",
    "2. В принципе логистическая регрессия — это простейшая нейронная сеть =) В данном проекте не требуется классификация с помощью нейронки, но ты конечно можешь попробовать, если есть опыт. В целом для решения аналитических задач по классификации в настоящее время используют модели бустингов, именно они дают хорошие результаты. \n",
    "    \n",
    "Нейронки больше используются в компьютерном зрении, анализе текстов. \n",
    "    \n",
    "Неплохой пример с решением задачи классификации с помощью нейросети:\n",
    "    \n",
    "https://www.kaggle.com/code/shrutimechlearn/deep-tutorial-1-ann-and-classification\n",
    "    \n",
    "3. Сделать исследовательский анализ (построить графики) для ушедших и оставшихся клиентов. Скорее всего признаки, например ежемесячные платежи, будут отличаться.\n",
    "    \n",
    "Кодирование признаков делаем после деления на выборки, также масштабирование (требуется для линейных моделей)\n",
    "    \n",
    "4. Пока это все, что есть )) Не забудь учесть дисбаланс классов при обучении моделей. Можно конечно использовать библиотеку imblearn для балансировки, но тогда нужен pipeline\n",
    "    \n",
    "5. Ну вроде бы все, главное чтобы не было утечки данных из теста в обучение. Качество моделей проверяем на кросс-валидации.\n",
    "    \n",
    "Если что, пиши в Пачке по всем вопросам\n",
    "    \n",
    "</div>"
   ]
  },
  {
   "cell_type": "markdown",
   "id": "2ba34eb5-b5b3-4385-a95d-36f196336a65",
   "metadata": {},
   "source": [
    "✅ вопросы и комментарии к тимлиду (если вопросов нет, нужно явно про это написать, иначе проект будет возвращен для получения возможных вопросов студента)"
   ]
  },
  {
   "cell_type": "markdown",
   "id": "7b0aac84",
   "metadata": {},
   "source": [
    "<div class=\"alert alert-success\">\n",
    "<b>✔️ Комментарий тимлида:</b> План работ принят, можно приступать к основному проекту. \n",
    "    \n",
    "Пожалуйста сохрани наши с тобой комментарии, а проект продолжай делать в этом же документе, успехов!\n",
    "    \n",
    "</div>"
   ]
  },
  {
   "cell_type": "markdown",
   "id": "30a0546a-f43a-4b7e-bec6-99fd42e7575e",
   "metadata": {},
   "source": [
    "<hr>"
   ]
  },
  {
   "cell_type": "markdown",
   "id": "b9549a93-7dce-4a15-9335-0a811a43cf7f",
   "metadata": {},
   "source": [
    "## Основная Часть Проекта"
   ]
  },
  {
   "cell_type": "markdown",
   "id": "0ceda6d4-9e69-4619-898b-17b6354ff263",
   "metadata": {},
   "source": [
    "Объединим наборы данных в один"
   ]
  },
  {
   "cell_type": "markdown",
   "id": "cd488284-3235-42a0-85bc-5f43464c72e7",
   "metadata": {},
   "source": [
    "> Joining multiple DataFrames only supported for joining on index  \n",
    "\n",
    "Поэтому индексами назначим `customer_id`"
   ]
  },
  {
   "cell_type": "code",
   "execution_count": 29,
   "id": "fa977466-0705-4f80-944b-f8f102e96bb4",
   "metadata": {},
   "outputs": [],
   "source": [
    "contract_df.set_index('customer_id', drop=True, inplace=True)\n",
    "internet_df.set_index('customer_id', drop=True, inplace=True)\n",
    "personal_df.set_index('customer_id', drop=True, inplace=True)\n",
    "phone_df.set_index('customer_id', drop=True, inplace=True)"
   ]
  },
  {
   "cell_type": "code",
   "execution_count": 30,
   "id": "dd856229-46a6-4724-ad76-0bc05908750b",
   "metadata": {},
   "outputs": [],
   "source": [
    "total_df = personal_df.join(\n",
    "        [contract_df, internet_df, phone_df],\n",
    "        # on='customer_id',\n",
    "        how='left',\n",
    "        sort=False,\n",
    "    )"
   ]
  },
  {
   "cell_type": "code",
   "execution_count": 31,
   "id": "5fe1f290-6ac4-4399-b90a-0feec29835e7",
   "metadata": {},
   "outputs": [
    {
     "data": {
      "text/plain": [
       "['gender',\n",
       " 'senior_citizen',\n",
       " 'partner',\n",
       " 'dependents',\n",
       " 'begin_date',\n",
       " 'end_date',\n",
       " 'type',\n",
       " 'paperless_billing',\n",
       " 'payment_method',\n",
       " 'monthly_charges',\n",
       " 'total_charges',\n",
       " 'internet_service',\n",
       " 'online_security',\n",
       " 'online_backup',\n",
       " 'device_protection',\n",
       " 'tech_support',\n",
       " 'streaming_tv',\n",
       " 'streaming_movies',\n",
       " 'multiple_lines']"
      ]
     },
     "metadata": {},
     "output_type": "display_data"
    }
   ],
   "source": [
    "display(list(total_df.columns))"
   ]
  },
  {
   "cell_type": "code",
   "execution_count": 32,
   "id": "4ab02409-afb3-49d8-b885-f10eb40732c9",
   "metadata": {},
   "outputs": [],
   "source": [
    "cat_features = [\n",
    "    'gender',\n",
    "    'senior_citizen',\n",
    "    'partner',\n",
    "    'dependents',\n",
    "    'type',\n",
    "    'paperless_billing',\n",
    "    'payment_method',\n",
    "    'internet_service',\n",
    "    'online_security',\n",
    "    'online_backup',\n",
    "    'device_protection',\n",
    "    'tech_support',\n",
    "    'streaming_tv',\n",
    "    'streaming_movies',\n",
    "    'multiple_lines',\n",
    "]"
   ]
  },
  {
   "cell_type": "raw",
   "id": "5b2b7206-b112-4250-85b6-5c5244e8e766",
   "metadata": {},
   "source": [
    "DataFrame.join(\n",
    "    other,\n",
    "    on=None,\n",
    "    how='left',\n",
    "    lsuffix='',\n",
    "    suffix='',\n",
    "    sort=False,\n",
    "    validate=None\n",
    ")"
   ]
  },
  {
   "cell_type": "markdown",
   "id": "9a41338d-8edc-443a-a06f-f8e528698343",
   "metadata": {},
   "source": [
    "### Исследовательский Анализ Данных"
   ]
  },
  {
   "cell_type": "code",
   "execution_count": 33,
   "id": "5143d8f5-2610-472f-a31e-966896a66e96",
   "metadata": {},
   "outputs": [
    {
     "name": "stdout",
     "output_type": "stream",
     "text": [
      "<class 'pandas.core.frame.DataFrame'>\n",
      "Index: 7043 entries, 7590-VHVEG to 3186-AJIEK\n",
      "Data columns (total 19 columns):\n",
      " #   Column             Non-Null Count  Dtype         \n",
      "---  ------             --------------  -----         \n",
      " 0   gender             7043 non-null   object        \n",
      " 1   senior_citizen     7043 non-null   int64         \n",
      " 2   partner            7043 non-null   object        \n",
      " 3   dependents         7043 non-null   object        \n",
      " 4   begin_date         7043 non-null   datetime64[ns]\n",
      " 5   end_date           1869 non-null   datetime64[ns]\n",
      " 6   type               7043 non-null   object        \n",
      " 7   paperless_billing  7043 non-null   object        \n",
      " 8   payment_method     7043 non-null   object        \n",
      " 9   monthly_charges    7043 non-null   float16       \n",
      " 10  total_charges      7043 non-null   float32       \n",
      " 11  internet_service   5517 non-null   object        \n",
      " 12  online_security    5517 non-null   object        \n",
      " 13  online_backup      5517 non-null   object        \n",
      " 14  device_protection  5517 non-null   object        \n",
      " 15  tech_support       5517 non-null   object        \n",
      " 16  streaming_tv       5517 non-null   object        \n",
      " 17  streaming_movies   5517 non-null   object        \n",
      " 18  multiple_lines     6361 non-null   object        \n",
      "dtypes: datetime64[ns](2), float16(1), float32(1), int64(1), object(14)\n",
      "memory usage: 1.0+ MB\n"
     ]
    }
   ],
   "source": [
    "total_df.info()"
   ]
  },
  {
   "cell_type": "code",
   "execution_count": 34,
   "id": "2f610b41-236b-4afb-8172-fe5b05154e51",
   "metadata": {},
   "outputs": [
    {
     "name": "stdout",
     "output_type": "stream",
     "text": [
      "gender\n",
      "\t['Female', 'Male']\n",
      "\n",
      "senior_citizen\n",
      "\t[0, 1]\n",
      "\n",
      "partner\n",
      "\t['Yes', 'No']\n",
      "\n",
      "dependents\n",
      "\t['No', 'Yes']\n",
      "\n",
      "type\n",
      "\t['Month-to-month', 'One year', 'Two year']\n",
      "\n",
      "paperless_billing\n",
      "\t['Yes', 'No']\n",
      "\n",
      "payment_method\n",
      "\t['Electronic check', 'Mailed check', 'Bank transfer (automatic)', 'Credit card (automatic)']\n",
      "\n",
      "internet_service\n",
      "\t['DSL', 'Fiber optic', nan]\n",
      "\n",
      "online_security\n",
      "\t['No', 'Yes', nan]\n",
      "\n",
      "online_backup\n",
      "\t['Yes', 'No', nan]\n",
      "\n",
      "device_protection\n",
      "\t['No', 'Yes', nan]\n",
      "\n",
      "tech_support\n",
      "\t['No', 'Yes', nan]\n",
      "\n",
      "streaming_tv\n",
      "\t['No', 'Yes', nan]\n",
      "\n",
      "streaming_movies\n",
      "\t['No', 'Yes', nan]\n",
      "\n",
      "multiple_lines\n",
      "\t[nan, 'No', 'Yes']\n",
      "\n"
     ]
    }
   ],
   "source": [
    "for column in cat_features:\n",
    "    print(\n",
    "        column,\n",
    "        list(total_df[column].unique()),\n",
    "        sep='\\n\\t',\n",
    "        end='\\n'*2\n",
    "    )"
   ]
  },
  {
   "cell_type": "code",
   "execution_count": 35,
   "id": "3c5d3950-9343-4d1a-a408-37b10a254bb4",
   "metadata": {},
   "outputs": [
    {
     "data": {
      "text/plain": [
       "array(['DSL'], dtype=object)"
      ]
     },
     "metadata": {},
     "output_type": "display_data"
    },
    {
     "name": "stdout",
     "output_type": "stream",
     "text": [
      "682 абонента не пользуются телефонией\n"
     ]
    }
   ],
   "source": [
    "cstmrs_without_phone = total_df.loc[\n",
    "        total_df['multiple_lines'].isna()\n",
    "    ].index\n",
    "\n",
    "display(\n",
    "    total_df.loc[\n",
    "        cstmrs_without_phone,\n",
    "        'internet_service'\n",
    "    ].unique()\n",
    ")\n",
    "print(len(cstmrs_without_phone), 'абонента не пользуются телефонией')"
   ]
  },
  {
   "cell_type": "code",
   "execution_count": 36,
   "id": "4cd00b8d-7664-42c4-b224-72c19ac5faf8",
   "metadata": {},
   "outputs": [],
   "source": [
    "total_df.loc[\n",
    "        cstmrs_without_phone,\n",
    "        'multiple_lines'\n",
    "    ] = 'without phone'"
   ]
  },
  {
   "cell_type": "code",
   "execution_count": 37,
   "id": "9449b587-fb4c-43e8-81d1-b9b607e33c17",
   "metadata": {
    "tags": []
   },
   "outputs": [
    {
     "data": {
      "text/plain": [
       "array(['No', 'Yes'], dtype=object)"
      ]
     },
     "metadata": {},
     "output_type": "display_data"
    },
    {
     "name": "stdout",
     "output_type": "stream",
     "text": [
      "1526 абонента не пользуются интернетом\n"
     ]
    }
   ],
   "source": [
    "cstmrs_without_internet = total_df.loc[\n",
    "        total_df['internet_service'].isna()\n",
    "    ].index\n",
    "\n",
    "display(\n",
    "    total_df.loc[\n",
    "        cstmrs_without_internet,\n",
    "        'multiple_lines'\n",
    "    ].unique()\n",
    ")\n",
    "print(len(cstmrs_without_internet), 'абонента не пользуются интернетом')"
   ]
  },
  {
   "cell_type": "code",
   "execution_count": 38,
   "id": "b35f8192-980d-4ad5-a6c7-8c86a58126e7",
   "metadata": {},
   "outputs": [],
   "source": [
    "total_df.loc[\n",
    "        cstmrs_without_internet,\n",
    "        'internet_service'\n",
    "    ] = 'without internet'"
   ]
  },
  {
   "cell_type": "code",
   "execution_count": 39,
   "id": "2177401a-d4ec-4698-905a-c72fab97c2a6",
   "metadata": {},
   "outputs": [
    {
     "data": {
      "text/plain": [
       "['internet_service',\n",
       " 'online_security',\n",
       " 'online_backup',\n",
       " 'device_protection',\n",
       " 'tech_support',\n",
       " 'streaming_tv',\n",
       " 'streaming_movies']"
      ]
     },
     "metadata": {},
     "output_type": "display_data"
    }
   ],
   "source": [
    "display(list(internet_df.columns))"
   ]
  },
  {
   "cell_type": "code",
   "execution_count": 40,
   "id": "bd88a156-4a65-4072-a988-3cccdfc2afa7",
   "metadata": {},
   "outputs": [],
   "source": [
    "add_internet_services = [\n",
    "    'online_security',\n",
    "    'online_backup',\n",
    "    'device_protection',\n",
    "    'tech_support',\n",
    "    'streaming_tv',\n",
    "    'streaming_movies'\n",
    "]"
   ]
  },
  {
   "cell_type": "markdown",
   "id": "dc92c95e-f158-464a-93c9-47ed05d4df38",
   "metadata": {},
   "source": [
    "Об абонетнах, которые не пользуются интернетом мы знаем по `internet_service == 'without internet'`. Поэтому для таких пользователей заполним `NaN` в дополнительных интернет услугах как `No`. Чтобы не раздувать количество признаков."
   ]
  },
  {
   "cell_type": "code",
   "execution_count": 41,
   "id": "74169cce-d16c-44f9-be46-6f2051d4bd81",
   "metadata": {},
   "outputs": [],
   "source": [
    "for add_i_serv in add_internet_services:\n",
    "    total_df.loc[\n",
    "        cstmrs_without_internet,\n",
    "        add_i_serv\n",
    "    ] = 'No'"
   ]
  },
  {
   "cell_type": "code",
   "execution_count": 42,
   "id": "89c4537b-730f-48ec-bb58-a64cbb5570ec",
   "metadata": {},
   "outputs": [
    {
     "name": "stdout",
     "output_type": "stream",
     "text": [
      "<class 'pandas.core.frame.DataFrame'>\n",
      "Index: 7043 entries, 7590-VHVEG to 3186-AJIEK\n",
      "Data columns (total 19 columns):\n",
      " #   Column             Non-Null Count  Dtype         \n",
      "---  ------             --------------  -----         \n",
      " 0   gender             7043 non-null   object        \n",
      " 1   senior_citizen     7043 non-null   int64         \n",
      " 2   partner            7043 non-null   object        \n",
      " 3   dependents         7043 non-null   object        \n",
      " 4   begin_date         7043 non-null   datetime64[ns]\n",
      " 5   end_date           1869 non-null   datetime64[ns]\n",
      " 6   type               7043 non-null   object        \n",
      " 7   paperless_billing  7043 non-null   object        \n",
      " 8   payment_method     7043 non-null   object        \n",
      " 9   monthly_charges    7043 non-null   float16       \n",
      " 10  total_charges      7043 non-null   float32       \n",
      " 11  internet_service   7043 non-null   object        \n",
      " 12  online_security    7043 non-null   object        \n",
      " 13  online_backup      7043 non-null   object        \n",
      " 14  device_protection  7043 non-null   object        \n",
      " 15  tech_support       7043 non-null   object        \n",
      " 16  streaming_tv       7043 non-null   object        \n",
      " 17  streaming_movies   7043 non-null   object        \n",
      " 18  multiple_lines     7043 non-null   object        \n",
      "dtypes: datetime64[ns](2), float16(1), float32(1), int64(1), object(14)\n",
      "memory usage: 1.3+ MB\n"
     ]
    }
   ],
   "source": [
    "total_df.info()"
   ]
  },
  {
   "cell_type": "markdown",
   "id": "f5451325-2ebb-4a25-875e-ca1258d4160c",
   "metadata": {},
   "source": [
    "Создадим признак → `target`"
   ]
  },
  {
   "cell_type": "code",
   "execution_count": 56,
   "id": "fffb990f-5265-46c1-a4b2-f365dc3506f6",
   "metadata": {},
   "outputs": [],
   "source": [
    "# total_df['target'] = 0\n",
    "total_df['target'] = total_df['end_date'].apply(\n",
    "        lambda ed: 1 if pd.notna(ed) else 0\n",
    "    )"
   ]
  },
  {
   "cell_type": "code",
   "execution_count": 57,
   "id": "4c74d0fa-ea9d-4b8e-8c78-f71113986a30",
   "metadata": {},
   "outputs": [
    {
     "data": {
      "text/plain": [
       "count    7043.000000\n",
       "mean        0.265370\n",
       "std         0.441561\n",
       "min         0.000000\n",
       "25%         0.000000\n",
       "50%         0.000000\n",
       "75%         1.000000\n",
       "max         1.000000\n",
       "Name: target, dtype: float64"
      ]
     },
     "metadata": {},
     "output_type": "display_data"
    }
   ],
   "source": [
    "display(total_df['target'].describe())"
   ]
  },
  {
   "cell_type": "markdown",
   "id": "2506b434-7adb-4091-9ac8-8b7967d00084",
   "metadata": {},
   "source": [
    "Создадим новый признак → `months_of_usage` → колличество месяцев которое абонент пользуется услугами **«Ниединогоразрыва.ком»**"
   ]
  },
  {
   "cell_type": "code",
   "execution_count": 43,
   "id": "75c406bf-4d4e-47da-b7ed-02797ecfd2e2",
   "metadata": {},
   "outputs": [],
   "source": [
    "total_df['months_of_usage'] = 0"
   ]
  },
  {
   "cell_type": "code",
   "execution_count": 44,
   "id": "d10badbe-b951-4fa6-897d-5860a0fb9f42",
   "metadata": {},
   "outputs": [],
   "source": [
    "total_df.loc[\n",
    "        total_df['end_date'].notna(),\n",
    "        'months_of_usage'\n",
    "    ] = (\n",
    "            total_df.loc[\n",
    "                total_df['end_date'].notna(),\n",
    "                'end_date'\n",
    "            ]\n",
    "            - total_df.loc[\n",
    "                total_df['end_date'].notna(),\n",
    "                'begin_date'\n",
    "            ]\n",
    "        ) / np.timedelta64(1, 'M')"
   ]
  },
  {
   "cell_type": "code",
   "execution_count": 45,
   "id": "3d3e4c58-4d1a-4719-8aad-441d4dea3a65",
   "metadata": {},
   "outputs": [],
   "source": [
    "total_df.loc[\n",
    "        total_df['end_date'].isna(),\n",
    "        'months_of_usage'\n",
    "    ] = (\n",
    "            UPDATED_AT\n",
    "            - total_df.loc[\n",
    "                total_df['end_date'].isna(),\n",
    "                'begin_date'\n",
    "            ]\n",
    "        ) / np.timedelta64(1, 'M')"
   ]
  },
  {
   "cell_type": "code",
   "execution_count": 46,
   "id": "72b6b083-0d61-45ff-8086-f0c1e5a3ab8c",
   "metadata": {},
   "outputs": [
    {
     "data": {
      "text/plain": [
       "count    7043.000000\n",
       "mean       32.394790\n",
       "std        24.561912\n",
       "min         0.000000\n",
       "25%         8.969383\n",
       "50%        29.010863\n",
       "75%        55.064786\n",
       "max        71.985051\n",
       "Name: months_of_usage, dtype: float64"
      ]
     },
     "metadata": {},
     "output_type": "display_data"
    }
   ],
   "source": [
    "display(\n",
    "    total_df['months_of_usage'].describe()\n",
    ")"
   ]
  },
  {
   "cell_type": "code",
   "execution_count": 47,
   "id": "6a82fda3-5888-4c34-aa50-612faa3f3e50",
   "metadata": {},
   "outputs": [
    {
     "data": {
      "text/plain": [
       "customer_id\n",
       "2834-SPCJV    52.009282\n",
       "8393-DLHGA    25.002567\n",
       "7601-WFVZV     1.018501\n",
       "4369-HTUIF     6.045299\n",
       "8807-OPMBM    55.064786\n",
       "Name: months_of_usage, dtype: float64"
      ]
     },
     "metadata": {},
     "output_type": "display_data"
    }
   ],
   "source": [
    "display(\n",
    "    total_df['months_of_usage'].sample(5)\n",
    ")"
   ]
  },
  {
   "cell_type": "code",
   "execution_count": 60,
   "id": "7bd00b36-0452-46ac-ac52-cea95b8b0c72",
   "metadata": {},
   "outputs": [
    {
     "data": {
      "text/html": [
       "<div>\n",
       "<style scoped>\n",
       "    .dataframe tbody tr th:only-of-type {\n",
       "        vertical-align: middle;\n",
       "    }\n",
       "\n",
       "    .dataframe tbody tr th {\n",
       "        vertical-align: top;\n",
       "    }\n",
       "\n",
       "    .dataframe thead th {\n",
       "        text-align: right;\n",
       "    }\n",
       "</style>\n",
       "<table border=\"1\" class=\"dataframe\">\n",
       "  <thead>\n",
       "    <tr style=\"text-align: right;\">\n",
       "      <th></th>\n",
       "      <th>months_of_usage</th>\n",
       "      <th>monthly_charges</th>\n",
       "      <th>total_charges</th>\n",
       "      <th>target</th>\n",
       "    </tr>\n",
       "    <tr>\n",
       "      <th>customer_id</th>\n",
       "      <th></th>\n",
       "      <th></th>\n",
       "      <th></th>\n",
       "      <th></th>\n",
       "    </tr>\n",
       "  </thead>\n",
       "  <tbody>\n",
       "    <tr>\n",
       "      <th>6959-UWKHF</th>\n",
       "      <td>1.018501</td>\n",
       "      <td>42.906250</td>\n",
       "      <td>42.900002</td>\n",
       "      <td>1</td>\n",
       "    </tr>\n",
       "    <tr>\n",
       "      <th>1496-GGSUK</th>\n",
       "      <td>1.018501</td>\n",
       "      <td>25.703125</td>\n",
       "      <td>25.700001</td>\n",
       "      <td>1</td>\n",
       "    </tr>\n",
       "    <tr>\n",
       "      <th>0817-HSUSE</th>\n",
       "      <td>1.018501</td>\n",
       "      <td>75.500000</td>\n",
       "      <td>75.500000</td>\n",
       "      <td>0</td>\n",
       "    </tr>\n",
       "    <tr>\n",
       "      <th>1942-OQFRW</th>\n",
       "      <td>1.018501</td>\n",
       "      <td>44.000000</td>\n",
       "      <td>44.000000</td>\n",
       "      <td>0</td>\n",
       "    </tr>\n",
       "    <tr>\n",
       "      <th>4702-IOQDC</th>\n",
       "      <td>1.018501</td>\n",
       "      <td>70.125000</td>\n",
       "      <td>70.099998</td>\n",
       "      <td>1</td>\n",
       "    </tr>\n",
       "    <tr>\n",
       "      <th>4786-UKSNZ</th>\n",
       "      <td>1.018501</td>\n",
       "      <td>20.203125</td>\n",
       "      <td>20.200001</td>\n",
       "      <td>1</td>\n",
       "    </tr>\n",
       "    <tr>\n",
       "      <th>8885-QSQBX</th>\n",
       "      <td>1.018501</td>\n",
       "      <td>49.562500</td>\n",
       "      <td>49.549999</td>\n",
       "      <td>0</td>\n",
       "    </tr>\n",
       "    <tr>\n",
       "      <th>8775-ERLNB</th>\n",
       "      <td>1.018501</td>\n",
       "      <td>74.312500</td>\n",
       "      <td>74.300003</td>\n",
       "      <td>0</td>\n",
       "    </tr>\n",
       "    <tr>\n",
       "      <th>5494-HECPR</th>\n",
       "      <td>1.018501</td>\n",
       "      <td>80.250000</td>\n",
       "      <td>80.250000</td>\n",
       "      <td>1</td>\n",
       "    </tr>\n",
       "    <tr>\n",
       "      <th>5088-QZLRL</th>\n",
       "      <td>1.018501</td>\n",
       "      <td>20.656250</td>\n",
       "      <td>20.650000</td>\n",
       "      <td>0</td>\n",
       "    </tr>\n",
       "  </tbody>\n",
       "</table>\n",
       "</div>"
      ],
      "text/plain": [
       "             months_of_usage  monthly_charges  total_charges  target\n",
       "customer_id                                                         \n",
       "6959-UWKHF          1.018501        42.906250      42.900002       1\n",
       "1496-GGSUK          1.018501        25.703125      25.700001       1\n",
       "0817-HSUSE          1.018501        75.500000      75.500000       0\n",
       "1942-OQFRW          1.018501        44.000000      44.000000       0\n",
       "4702-IOQDC          1.018501        70.125000      70.099998       1\n",
       "4786-UKSNZ          1.018501        20.203125      20.200001       1\n",
       "8885-QSQBX          1.018501        49.562500      49.549999       0\n",
       "8775-ERLNB          1.018501        74.312500      74.300003       0\n",
       "5494-HECPR          1.018501        80.250000      80.250000       1\n",
       "5088-QZLRL          1.018501        20.656250      20.650000       0"
      ]
     },
     "metadata": {},
     "output_type": "display_data"
    }
   ],
   "source": [
    "display(\n",
    "    total_df.loc[\n",
    "        (total_df['months_of_usage'] >= 1)\n",
    "        & (total_df['months_of_usage'] < 1.2),\n",
    "        ['months_of_usage', 'monthly_charges', 'total_charges', 'target']\n",
    "    ].sample(10)\n",
    ")"
   ]
  },
  {
   "cell_type": "markdown",
   "id": "275a13c0-d7f2-42ef-a2f3-c0f9e0d7de87",
   "metadata": {},
   "source": [
    "<hr>"
   ]
  },
  {
   "cell_type": "raw",
   "id": "c9961833-fd99-4708-880a-5bbe93b9fbde",
   "metadata": {
    "tags": []
   },
   "source": [
    "pip install pandas-profiling"
   ]
  },
  {
   "cell_type": "markdown",
   "id": "fffe2619-1128-4da0-83f0-144b75915f6a",
   "metadata": {},
   "source": [
    "🔗 [Exploratory Data Analysis with Pandas Profiling](https://towardsdatascience.com/exploratory-data-analysis-with-pandas-profiling-de3aae2ddff3)"
   ]
  },
  {
   "cell_type": "markdown",
   "id": "992580c5-9c8a-48c9-8ab9-f2122cc813c7",
   "metadata": {},
   "source": [
    "<hr>"
   ]
  },
  {
   "cell_type": "markdown",
   "id": "32eeacc0-2ae3-46bf-a105-2c0e686ae767",
   "metadata": {},
   "source": [
    "## Отчет"
   ]
  },
  {
   "cell_type": "markdown",
   "id": "33228dc3-15f6-491f-bf2c-1005b0eb5727",
   "metadata": {},
   "source": [
    "to be continued…"
   ]
  },
  {
   "cell_type": "markdown",
   "id": "f2ed7d41-bbc8-49d3-8122-e6ccb3133931",
   "metadata": {},
   "source": [
    "<hr>"
   ]
  },
  {
   "cell_type": "markdown",
   "id": "db8b3d8c-5fd3-4e23-80a9-a53565ee53a7",
   "metadata": {},
   "source": [
    ">✍️ Основные тезисы вводной консультации:\n",
    "> - фиксируем параметр RANDOM_STATE = 270223 (дата начала финального спринта);\n",
    "> - дедлайн сдачи отчета 11 марта 23:59 по мск (вторая суббота);\n",
    "> - размер тестовой выборки: test_size = 0.25 (строго!!!);\n",
    "> - рекомендуется использовать OneHotEncoder для кодирования категориальных признаков. Кодируем после разделения на train и test, чтобы не было утечки в данных;\n",
    "> - если при кодировании используется get_dummies, то нужно сравнить списки получившихся признаков (должно быть полное совпадение);\n",
    "> - помимо основной части, в проекте нужно сделать визуализацию графиков, исследовать корреляцию признаков. Для числовых признаков используем корреляцию Спирмена, для категориальных - Крамера. Можно применять инструмент фи-корреляции для смешанного набора признаков (библиотека phik);\n",
    "> - для линейных моделей нужно масштабировать числовые признаки;\n",
    "> - про баланс классов: Upsampling использовать не нужно (!!!), лучше используйте балансировку классов внутри модели;\n",
    "> - на выборке test проверяется только одна лучшая модель, а сравнение моделей делаем с использованием кросс-валидации.\n",
    "  \n",
    "© Арсен Абдулин"
   ]
  }
 ],
 "metadata": {
  "ExecuteTimeLog": [
   {
    "duration": 646,
    "start_time": "2023-03-03T09:50:50.714Z"
   },
   {
    "duration": 16,
    "start_time": "2023-03-03T09:50:51.364Z"
   },
   {
    "duration": 5,
    "start_time": "2023-03-03T09:50:51.382Z"
   },
   {
    "duration": 4,
    "start_time": "2023-03-03T09:50:52.096Z"
   },
   {
    "duration": 3,
    "start_time": "2023-03-03T09:50:53.011Z"
   },
   {
    "duration": 7,
    "start_time": "2023-03-03T09:50:54.260Z"
   },
   {
    "duration": 5,
    "start_time": "2023-03-03T09:50:55.033Z"
   },
   {
    "duration": 4,
    "start_time": "2023-03-03T09:50:55.467Z"
   },
   {
    "duration": 4,
    "start_time": "2023-03-03T09:50:55.833Z"
   },
   {
    "duration": 6,
    "start_time": "2023-03-03T09:50:56.194Z"
   },
   {
    "duration": 171,
    "start_time": "2023-03-03T09:50:57.099Z"
   },
   {
    "duration": 8,
    "start_time": "2023-03-03T09:50:58.452Z"
   },
   {
    "duration": 55,
    "start_time": "2023-03-03T09:50:58.962Z"
   },
   {
    "duration": 13,
    "start_time": "2023-03-03T09:50:59.505Z"
   },
   {
    "duration": 6,
    "start_time": "2023-03-03T09:50:59.865Z"
   },
   {
    "duration": 19,
    "start_time": "2023-03-03T09:51:00.113Z"
   },
   {
    "duration": 7,
    "start_time": "2023-03-03T09:51:00.289Z"
   },
   {
    "duration": 6,
    "start_time": "2023-03-03T09:51:00.674Z"
   },
   {
    "duration": 9,
    "start_time": "2023-03-03T09:51:00.873Z"
   },
   {
    "duration": 25,
    "start_time": "2023-03-03T09:51:01.058Z"
   },
   {
    "duration": 50,
    "start_time": "2023-03-03T09:51:01.569Z"
   },
   {
    "duration": 35,
    "start_time": "2023-03-03T09:51:01.969Z"
   },
   {
    "duration": 35,
    "start_time": "2023-03-03T09:51:02.159Z"
   }
  ],
  "kernelspec": {
   "display_name": "Python 3 (ipykernel)",
   "language": "python",
   "name": "python3"
  },
  "language_info": {
   "codemirror_mode": {
    "name": "ipython",
    "version": 3
   },
   "file_extension": ".py",
   "mimetype": "text/x-python",
   "name": "python",
   "nbconvert_exporter": "python",
   "pygments_lexer": "ipython3",
   "version": "3.10.6"
  },
  "toc": {
   "base_numbering": 1,
   "nav_menu": {},
   "number_sections": true,
   "sideBar": true,
   "skip_h1_title": true,
   "title_cell": "Table of Contents",
   "title_sidebar": "Contents",
   "toc_cell": false,
   "toc_position": {},
   "toc_section_display": true,
   "toc_window_display": false
  }
 },
 "nbformat": 4,
 "nbformat_minor": 5
}
