{
 "cells": [
  {
   "cell_type": "markdown",
   "id": "2972db21-d1e3-4783-bef8-94f9bf7f5542",
   "metadata": {},
   "source": [
    "<img scr=\"https://pictures.s3.yandex.net/resources/Recovery_1576238822.jpg\" width=\"189\" height=\"255\">"
   ]
  },
  {
   "cell_type": "markdown",
   "id": "288584c9-5bed-48bf-85f7-a9191fd23c2a",
   "metadata": {},
   "source": [
    "## Описание данных"
   ]
  },
  {
   "cell_type": "markdown",
   "id": "73abc8d4-9806-43da-b8da-89e88b1776bd",
   "metadata": {},
   "source": [
    "### Технологический процесс"
   ]
  },
  {
   "cell_type": "markdown",
   "id": "86806dce-dfa7-4abb-9df8-a1b615afbfab",
   "metadata": {},
   "source": [
    "`Rougher feed` — исходное сырье  \n",
    "`Rougher additions` (или reagent additions) — флотационные реагенты: Xanthate, Sulphate, Depressant  \n",
    "- `Xanthate` **— ксантогенат (промотер, или активатор флотации);  \n",
    "- `Sulphate` — сульфат (на данном производстве сульфид натрия);  \n",
    "- `Depressant` — депрессант (силикат натрия).  \n",
    "\n",
    "`Rougher process` (англ. «грубый процесс») — флотация  \n",
    "`Rougher tails` — отвальные хвосты  \n",
    "`Float banks` — флотационная установка  \n",
    "`Cleaner process` — очистка  \n",
    "`Rougher Au` — черновой концентрат золота  \n",
    "`Final Au` — финальный концентрат золота  "
   ]
  }
 ],
 "metadata": {
  "kernelspec": {
   "display_name": "Python 3 (ipykernel)",
   "language": "python",
   "name": "python3"
  },
  "language_info": {
   "codemirror_mode": {
    "name": "ipython",
    "version": 3
   },
   "file_extension": ".py",
   "mimetype": "text/x-python",
   "name": "python",
   "nbconvert_exporter": "python",
   "pygments_lexer": "ipython3",
   "version": "3.10.6"
  }
 },
 "nbformat": 4,
 "nbformat_minor": 5
}
