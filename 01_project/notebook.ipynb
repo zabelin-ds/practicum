{
 "cells": [
  {
   "cell_type": "markdown",
   "metadata": {},
   "source": [
    "<div class=\"alert alert-success\">\n",
    "<font size=\"4\"><b>Комментарий ревьюера</b></font>\n",
    "    <br /> \n",
    "    <font size=\"3\", color = \"black\">\n",
    "<br />\n",
    "    Привет, Алексей :) Спасибо, что прислал задание :) Меня зовут Ринат Хисамов и я буду проверять твой проект. Предлагаю обращаться друг к другу на ты. Так нам будет гораздо проще и удобней общаться).\n",
    "      \n",
    "Поехали 🚀"
   ]
  },
  {
   "cell_type": "markdown",
   "metadata": {
    "id": "E0vqbgi9ay0H"
   },
   "source": [
    "# Яндекс.Музыка <span id=start></span>"
   ]
  },
  {
   "cell_type": "markdown",
   "metadata": {
    "id": "VUC88oWjTJw2"
   },
   "source": [
    "На данных Яндекс.Музыки сравним поведение пользователей двух столиц.\n",
    "\n",
    "**Цель исследования** — проверим три гипотезы:\n",
    "1. Активность пользователей зависит от дня недели. Причём в Москве и Петербурге это проявляется по-разному.\n",
    "2. В понедельник утром в Москве преобладают одни жанры, а в Петербурге — другие. Так же и вечером пятницы преобладают разные жанры — в зависимости от города. \n",
    "3. Москва и Петербург предпочитают разные жанры музыки. В Москве чаще слушают поп-музыку, в Петербурге — русский рэп.\n",
    "\n",
    "**Ход исследования**\n",
    "\n",
    "Данные о поведении пользователей из файла `yandex_music_project.csv`. О качестве данных ничего не известно. Поэтому перед проверкой гипотез понадобится обзор данных. \n",
    "\n",
    "Проверим данные на ошибки и оценим их влияние на исследование. Затем, на этапе предобработки поищем возможность исправить самые критичные ошибки данных.\n",
    " \n",
    "Таким образом, исследование пройдёт в три этапа:\n",
    " 1. [Обзор данных](#intro)\n",
    " 2. [Предобработка данных](#preprocess)\n",
    " 3. [Проверка гипотез](#analytics)\n",
    "\n"
   ]
  },
  {
   "cell_type": "markdown",
   "metadata": {
    "id": "Ml1hmfXC_Zcs"
   },
   "source": [
    "## Обзор данных <a id=intro></a>\n"
   ]
  },
  {
   "cell_type": "code",
   "execution_count": 1,
   "metadata": {
    "id": "AXN7PHPN_Zcs"
   },
   "outputs": [
    {
     "name": "stderr",
     "output_type": "stream",
     "text": [
      "/opt/conda/lib/python3.7/site-packages/statsmodels/tools/_testing.py:19: FutureWarning: pandas.util.testing is deprecated. Use the functions in the public API at pandas.testing instead.\n",
      "  import pandas.util.testing as tm\n"
     ]
    }
   ],
   "source": [
    "# импорт библиотеки pandas\n",
    "import pandas as pd\n",
    "import seaborn as sns\n",
    "import matplotlib.pyplot as plt\n",
    "from  statistics import median, mode, mean\n",
    "\n",
    "sns.set_style('white')\n",
    "plt.rcParams['figure.dpi'] = 96\n",
    "plt.rcParams['savefig.dpi'] = 96"
   ]
  },
  {
   "cell_type": "markdown",
   "metadata": {},
   "source": [
    "<div class=\"alert alert-success\">\n",
    "<font size=\"4\"><b>✔️ Комментарий ревьюера</b></font>\n",
    "    <br /> \n",
    "    <font size=\"3\", color = \"black\">\n",
    "<br />\n",
    "Первый раз вижу сиборн у студента на первом проекте , круто 💎\n"
   ]
  },
  {
   "cell_type": "code",
   "execution_count": 2,
   "metadata": {
    "id": "fFVu7vqh_Zct"
   },
   "outputs": [],
   "source": [
    "# чтение файла с данными и сохранение в df\n",
    "df = pd.read_csv('/datasets/yandex_music_project.csv')"
   ]
  },
  {
   "cell_type": "code",
   "execution_count": 3,
   "metadata": {
    "id": "oWTVX3gW_Zct"
   },
   "outputs": [
    {
     "data": {
      "text/html": [
       "<div>\n",
       "<style scoped>\n",
       "    .dataframe tbody tr th:only-of-type {\n",
       "        vertical-align: middle;\n",
       "    }\n",
       "\n",
       "    .dataframe tbody tr th {\n",
       "        vertical-align: top;\n",
       "    }\n",
       "\n",
       "    .dataframe thead th {\n",
       "        text-align: right;\n",
       "    }\n",
       "</style>\n",
       "<table border=\"1\" class=\"dataframe\">\n",
       "  <thead>\n",
       "    <tr style=\"text-align: right;\">\n",
       "      <th></th>\n",
       "      <th>userID</th>\n",
       "      <th>Track</th>\n",
       "      <th>artist</th>\n",
       "      <th>genre</th>\n",
       "      <th>City</th>\n",
       "      <th>time</th>\n",
       "      <th>Day</th>\n",
       "    </tr>\n",
       "  </thead>\n",
       "  <tbody>\n",
       "    <tr>\n",
       "      <th>0</th>\n",
       "      <td>FFB692EC</td>\n",
       "      <td>Kamigata To Boots</td>\n",
       "      <td>The Mass Missile</td>\n",
       "      <td>rock</td>\n",
       "      <td>Saint-Petersburg</td>\n",
       "      <td>20:28:33</td>\n",
       "      <td>Wednesday</td>\n",
       "    </tr>\n",
       "    <tr>\n",
       "      <th>1</th>\n",
       "      <td>55204538</td>\n",
       "      <td>Delayed Because of Accident</td>\n",
       "      <td>Andreas Rönnberg</td>\n",
       "      <td>rock</td>\n",
       "      <td>Moscow</td>\n",
       "      <td>14:07:09</td>\n",
       "      <td>Friday</td>\n",
       "    </tr>\n",
       "    <tr>\n",
       "      <th>2</th>\n",
       "      <td>20EC38</td>\n",
       "      <td>Funiculì funiculà</td>\n",
       "      <td>Mario Lanza</td>\n",
       "      <td>pop</td>\n",
       "      <td>Saint-Petersburg</td>\n",
       "      <td>20:58:07</td>\n",
       "      <td>Wednesday</td>\n",
       "    </tr>\n",
       "    <tr>\n",
       "      <th>3</th>\n",
       "      <td>A3DD03C9</td>\n",
       "      <td>Dragons in the Sunset</td>\n",
       "      <td>Fire + Ice</td>\n",
       "      <td>folk</td>\n",
       "      <td>Saint-Petersburg</td>\n",
       "      <td>08:37:09</td>\n",
       "      <td>Monday</td>\n",
       "    </tr>\n",
       "    <tr>\n",
       "      <th>4</th>\n",
       "      <td>E2DC1FAE</td>\n",
       "      <td>Soul People</td>\n",
       "      <td>Space Echo</td>\n",
       "      <td>dance</td>\n",
       "      <td>Moscow</td>\n",
       "      <td>08:34:34</td>\n",
       "      <td>Monday</td>\n",
       "    </tr>\n",
       "    <tr>\n",
       "      <th>5</th>\n",
       "      <td>842029A1</td>\n",
       "      <td>Преданная</td>\n",
       "      <td>IMPERVTOR</td>\n",
       "      <td>rusrap</td>\n",
       "      <td>Saint-Petersburg</td>\n",
       "      <td>13:09:41</td>\n",
       "      <td>Friday</td>\n",
       "    </tr>\n",
       "    <tr>\n",
       "      <th>6</th>\n",
       "      <td>4CB90AA5</td>\n",
       "      <td>True</td>\n",
       "      <td>Roman Messer</td>\n",
       "      <td>dance</td>\n",
       "      <td>Moscow</td>\n",
       "      <td>13:00:07</td>\n",
       "      <td>Wednesday</td>\n",
       "    </tr>\n",
       "    <tr>\n",
       "      <th>7</th>\n",
       "      <td>F03E1C1F</td>\n",
       "      <td>Feeling This Way</td>\n",
       "      <td>Polina Griffith</td>\n",
       "      <td>dance</td>\n",
       "      <td>Moscow</td>\n",
       "      <td>20:47:49</td>\n",
       "      <td>Wednesday</td>\n",
       "    </tr>\n",
       "    <tr>\n",
       "      <th>8</th>\n",
       "      <td>8FA1D3BE</td>\n",
       "      <td>И вновь продолжается бой</td>\n",
       "      <td>NaN</td>\n",
       "      <td>ruspop</td>\n",
       "      <td>Moscow</td>\n",
       "      <td>09:17:40</td>\n",
       "      <td>Friday</td>\n",
       "    </tr>\n",
       "    <tr>\n",
       "      <th>9</th>\n",
       "      <td>E772D5C0</td>\n",
       "      <td>Pessimist</td>\n",
       "      <td>NaN</td>\n",
       "      <td>dance</td>\n",
       "      <td>Saint-Petersburg</td>\n",
       "      <td>21:20:49</td>\n",
       "      <td>Wednesday</td>\n",
       "    </tr>\n",
       "  </tbody>\n",
       "</table>\n",
       "</div>"
      ],
      "text/plain": [
       "     userID                        Track            artist   genre  \\\n",
       "0  FFB692EC            Kamigata To Boots  The Mass Missile    rock   \n",
       "1  55204538  Delayed Because of Accident  Andreas Rönnberg    rock   \n",
       "2    20EC38            Funiculì funiculà       Mario Lanza     pop   \n",
       "3  A3DD03C9        Dragons in the Sunset        Fire + Ice    folk   \n",
       "4  E2DC1FAE                  Soul People        Space Echo   dance   \n",
       "5  842029A1                    Преданная         IMPERVTOR  rusrap   \n",
       "6  4CB90AA5                         True      Roman Messer   dance   \n",
       "7  F03E1C1F             Feeling This Way   Polina Griffith   dance   \n",
       "8  8FA1D3BE     И вновь продолжается бой               NaN  ruspop   \n",
       "9  E772D5C0                    Pessimist               NaN   dance   \n",
       "\n",
       "             City        time        Day  \n",
       "0  Saint-Petersburg  20:28:33  Wednesday  \n",
       "1            Moscow  14:07:09     Friday  \n",
       "2  Saint-Petersburg  20:58:07  Wednesday  \n",
       "3  Saint-Petersburg  08:37:09     Monday  \n",
       "4            Moscow  08:34:34     Monday  \n",
       "5  Saint-Petersburg  13:09:41     Friday  \n",
       "6            Moscow  13:00:07  Wednesday  \n",
       "7            Moscow  20:47:49  Wednesday  \n",
       "8            Moscow  09:17:40     Friday  \n",
       "9  Saint-Petersburg  21:20:49  Wednesday  "
      ]
     },
     "metadata": {},
     "output_type": "display_data"
    }
   ],
   "source": [
    "# получение первых 10 строк таблицы df\n",
    "display(df.head(10))"
   ]
  },
  {
   "cell_type": "code",
   "execution_count": 4,
   "metadata": {
    "id": "DSf2kIb-_Zct"
   },
   "outputs": [
    {
     "name": "stdout",
     "output_type": "stream",
     "text": [
      "<class 'pandas.core.frame.DataFrame'>\n",
      "RangeIndex: 65079 entries, 0 to 65078\n",
      "Data columns (total 7 columns):\n",
      " #   Column    Non-Null Count  Dtype \n",
      "---  ------    --------------  ----- \n",
      " 0     userID  65079 non-null  object\n",
      " 1   Track     63848 non-null  object\n",
      " 2   artist    57876 non-null  object\n",
      " 3   genre     63881 non-null  object\n",
      " 4     City    65079 non-null  object\n",
      " 5   time      65079 non-null  object\n",
      " 6   Day       65079 non-null  object\n",
      "dtypes: object(7)\n",
      "memory usage: 3.5+ MB\n",
      "None\n"
     ]
    }
   ],
   "source": [
    "# получение общей информации о данных в таблице df, можно и без print, но…\n",
    "print(df.info())"
   ]
  },
  {
   "cell_type": "markdown",
   "metadata": {
    "id": "TaQ2Iwbr_Zct"
   },
   "source": [
    "Итак, в таблице семь столбцов. Тип данных во всех столбцах — `object`.\n",
    "\n",
    "Согласно документации к данным:\n",
    "* `userID` — идентификатор пользователя;\n",
    "* `Track` — название трека;  \n",
    "* `artist` — имя исполнителя;\n",
    "* `genre` — название жанра;\n",
    "* `City` — город пользователя;\n",
    "* `time` — время начала прослушивания;\n",
    "* `Day` — день недели.\n",
    "\n",
    "В названиях колонок видны три нарушения стиля:\n",
    "1. Строчные буквы сочетаются с прописными.\n",
    "2. Встречаются пробелы.\n",
    "3. Неинформативные названия:\n",
    "  1. `time` — пусть будет `start_time`.\n",
    "  2. `Track` — пусть будет `track_title`\n",
    "\n",
    "\n",
    "\n",
    "Количество значений в столбцах различается. Значит, в данных есть пропущенные значения.\n"
   ]
  },
  {
   "cell_type": "markdown",
   "metadata": {},
   "source": [
    "<div class=\"alert alert\">\n",
    "<font size=\"4\"><b>❌ Комментарий ревьюера</b></font>\n",
    "    <br /> \n",
    "        <font size=\"3\", color = \"black\">\n",
    "                <br /> \n",
    "Осталось найти другую третью проблему с названиями колонок :) userID "
   ]
  },
  {
   "cell_type": "markdown",
   "metadata": {
    "id": "MCB6-dXG_Zct"
   },
   "source": [
    "**Выводы**\n",
    "\n",
    "В каждой строке таблицы — данные о прослушанном треке. Часть колонок описывает саму композицию: название, исполнителя и жанр. Остальные данные рассказывают о пользователе: из какого он города, когда он слушал музыку. \n",
    "\n",
    "Предварительно можно утверждать, что, данных достаточно для проверки гипотез. Но встречаются пропуски в данных, а в названиях колонок — расхождения с хорошим стилем.\n",
    "\n",
    "Чтобы двигаться дальше, нужно устранить проблемы в данных."
   ]
  },
  {
   "cell_type": "markdown",
   "metadata": {},
   "source": [
    "<div class=\"alert alert-success\">\n",
    "<font size=\"4\"><b>✔️ Комментарий ревьюера</b></font>\n",
    "    <br /> \n",
    "    <font size=\"3\", color = \"black\">\n",
    "<br />\n",
    "Отлично справился с обзором данных 💎, и не только :)"
   ]
  },
  {
   "cell_type": "markdown",
   "metadata": {
    "id": "SjYF6Ub9_Zct"
   },
   "source": [
    "## Предобработка данных <a id=preprocess></a>\n",
    "\n",
    "* исправим заголовки столбцов;\n",
    "* исключим пропуски данных;\n",
    "* проверим данные на дубликаты;"
   ]
  },
  {
   "cell_type": "markdown",
   "metadata": {
    "id": "dIaKXr29_Zct"
   },
   "source": [
    "### Стиль заголовков\n",
    "Посмотрим на названия столбцов **до редактирования**:"
   ]
  },
  {
   "cell_type": "code",
   "execution_count": 5,
   "metadata": {
    "id": "oKOTdF_Q_Zct"
   },
   "outputs": [
    {
     "name": "stdout",
     "output_type": "stream",
     "text": [
      "Index(['  userID', 'Track', 'artist', 'genre', '  City  ', 'time', 'Day'], dtype='object')\n"
     ]
    }
   ],
   "source": [
    "# перечень названий столбцов таблицы df\n",
    "print(df.columns)"
   ]
  },
  {
   "cell_type": "markdown",
   "metadata": {
    "id": "zj5534cv_Zct"
   },
   "source": [
    "Приведём названия в соответствие «хорошему» стилю:\n",
    "* применим «змеиный_регистр»;\n",
    "* все символы сделаем строчными;\n",
    "* устраним пробелы;\n",
    "* добавим информативности;\n",
    "\n",
    "Для этого переименуем колонки:\n",
    "* `'  userID'` → `'user_id'`;\n",
    "* `'Track'` → `'track_title'`;\n",
    "* `'  City  '` → `'city'`;\n",
    "* `'Day'` → `'day'`;\n",
    "* `'time'` → `'start_time'`;"
   ]
  },
  {
   "cell_type": "code",
   "execution_count": 6,
   "metadata": {
    "id": "ISlFqs5y_Zct"
   },
   "outputs": [],
   "source": [
    "# переименование столбцов\n",
    "df.rename({'  userID': 'user_id',\n",
    "           'Track': 'track_title',\n",
    "           '  City  ': 'city',\n",
    "           'Day': 'day',\n",
    "           'time': 'start_time'},\n",
    "          axis='columns', inplace=True)"
   ]
  },
  {
   "cell_type": "markdown",
   "metadata": {
    "id": "1dqbh00J_Zct"
   },
   "source": [
    "Посмотрим на названия столбцов **после редактирования**:"
   ]
  },
  {
   "cell_type": "code",
   "execution_count": 7,
   "metadata": {
    "id": "oKOTdF_Q_Zct",
    "scrolled": true
   },
   "outputs": [
    {
     "name": "stdout",
     "output_type": "stream",
     "text": [
      "Index(['user_id', 'track_title', 'artist', 'genre', 'city', 'start_time',\n",
      "       'day'],\n",
      "      dtype='object')\n"
     ]
    }
   ],
   "source": [
    "# перечень названий столбцов таблицы df\n",
    "print(df.columns)"
   ]
  },
  {
   "cell_type": "code",
   "execution_count": 8,
   "metadata": {
    "id": "oWTVX3gW_Zct"
   },
   "outputs": [
    {
     "data": {
      "text/html": [
       "<div>\n",
       "<style scoped>\n",
       "    .dataframe tbody tr th:only-of-type {\n",
       "        vertical-align: middle;\n",
       "    }\n",
       "\n",
       "    .dataframe tbody tr th {\n",
       "        vertical-align: top;\n",
       "    }\n",
       "\n",
       "    .dataframe thead th {\n",
       "        text-align: right;\n",
       "    }\n",
       "</style>\n",
       "<table border=\"1\" class=\"dataframe\">\n",
       "  <thead>\n",
       "    <tr style=\"text-align: right;\">\n",
       "      <th></th>\n",
       "      <th>user_id</th>\n",
       "      <th>track_title</th>\n",
       "      <th>artist</th>\n",
       "      <th>genre</th>\n",
       "      <th>city</th>\n",
       "      <th>start_time</th>\n",
       "      <th>day</th>\n",
       "    </tr>\n",
       "  </thead>\n",
       "  <tbody>\n",
       "    <tr>\n",
       "      <th>0</th>\n",
       "      <td>FFB692EC</td>\n",
       "      <td>Kamigata To Boots</td>\n",
       "      <td>The Mass Missile</td>\n",
       "      <td>rock</td>\n",
       "      <td>Saint-Petersburg</td>\n",
       "      <td>20:28:33</td>\n",
       "      <td>Wednesday</td>\n",
       "    </tr>\n",
       "    <tr>\n",
       "      <th>1</th>\n",
       "      <td>55204538</td>\n",
       "      <td>Delayed Because of Accident</td>\n",
       "      <td>Andreas Rönnberg</td>\n",
       "      <td>rock</td>\n",
       "      <td>Moscow</td>\n",
       "      <td>14:07:09</td>\n",
       "      <td>Friday</td>\n",
       "    </tr>\n",
       "    <tr>\n",
       "      <th>2</th>\n",
       "      <td>20EC38</td>\n",
       "      <td>Funiculì funiculà</td>\n",
       "      <td>Mario Lanza</td>\n",
       "      <td>pop</td>\n",
       "      <td>Saint-Petersburg</td>\n",
       "      <td>20:58:07</td>\n",
       "      <td>Wednesday</td>\n",
       "    </tr>\n",
       "    <tr>\n",
       "      <th>3</th>\n",
       "      <td>A3DD03C9</td>\n",
       "      <td>Dragons in the Sunset</td>\n",
       "      <td>Fire + Ice</td>\n",
       "      <td>folk</td>\n",
       "      <td>Saint-Petersburg</td>\n",
       "      <td>08:37:09</td>\n",
       "      <td>Monday</td>\n",
       "    </tr>\n",
       "    <tr>\n",
       "      <th>4</th>\n",
       "      <td>E2DC1FAE</td>\n",
       "      <td>Soul People</td>\n",
       "      <td>Space Echo</td>\n",
       "      <td>dance</td>\n",
       "      <td>Moscow</td>\n",
       "      <td>08:34:34</td>\n",
       "      <td>Monday</td>\n",
       "    </tr>\n",
       "    <tr>\n",
       "      <th>5</th>\n",
       "      <td>842029A1</td>\n",
       "      <td>Преданная</td>\n",
       "      <td>IMPERVTOR</td>\n",
       "      <td>rusrap</td>\n",
       "      <td>Saint-Petersburg</td>\n",
       "      <td>13:09:41</td>\n",
       "      <td>Friday</td>\n",
       "    </tr>\n",
       "    <tr>\n",
       "      <th>6</th>\n",
       "      <td>4CB90AA5</td>\n",
       "      <td>True</td>\n",
       "      <td>Roman Messer</td>\n",
       "      <td>dance</td>\n",
       "      <td>Moscow</td>\n",
       "      <td>13:00:07</td>\n",
       "      <td>Wednesday</td>\n",
       "    </tr>\n",
       "    <tr>\n",
       "      <th>7</th>\n",
       "      <td>F03E1C1F</td>\n",
       "      <td>Feeling This Way</td>\n",
       "      <td>Polina Griffith</td>\n",
       "      <td>dance</td>\n",
       "      <td>Moscow</td>\n",
       "      <td>20:47:49</td>\n",
       "      <td>Wednesday</td>\n",
       "    </tr>\n",
       "    <tr>\n",
       "      <th>8</th>\n",
       "      <td>8FA1D3BE</td>\n",
       "      <td>И вновь продолжается бой</td>\n",
       "      <td>NaN</td>\n",
       "      <td>ruspop</td>\n",
       "      <td>Moscow</td>\n",
       "      <td>09:17:40</td>\n",
       "      <td>Friday</td>\n",
       "    </tr>\n",
       "    <tr>\n",
       "      <th>9</th>\n",
       "      <td>E772D5C0</td>\n",
       "      <td>Pessimist</td>\n",
       "      <td>NaN</td>\n",
       "      <td>dance</td>\n",
       "      <td>Saint-Petersburg</td>\n",
       "      <td>21:20:49</td>\n",
       "      <td>Wednesday</td>\n",
       "    </tr>\n",
       "  </tbody>\n",
       "</table>\n",
       "</div>"
      ],
      "text/plain": [
       "    user_id                  track_title            artist   genre  \\\n",
       "0  FFB692EC            Kamigata To Boots  The Mass Missile    rock   \n",
       "1  55204538  Delayed Because of Accident  Andreas Rönnberg    rock   \n",
       "2    20EC38            Funiculì funiculà       Mario Lanza     pop   \n",
       "3  A3DD03C9        Dragons in the Sunset        Fire + Ice    folk   \n",
       "4  E2DC1FAE                  Soul People        Space Echo   dance   \n",
       "5  842029A1                    Преданная         IMPERVTOR  rusrap   \n",
       "6  4CB90AA5                         True      Roman Messer   dance   \n",
       "7  F03E1C1F             Feeling This Way   Polina Griffith   dance   \n",
       "8  8FA1D3BE     И вновь продолжается бой               NaN  ruspop   \n",
       "9  E772D5C0                    Pessimist               NaN   dance   \n",
       "\n",
       "               city start_time        day  \n",
       "0  Saint-Petersburg   20:28:33  Wednesday  \n",
       "1            Moscow   14:07:09     Friday  \n",
       "2  Saint-Petersburg   20:58:07  Wednesday  \n",
       "3  Saint-Petersburg   08:37:09     Monday  \n",
       "4            Moscow   08:34:34     Monday  \n",
       "5  Saint-Petersburg   13:09:41     Friday  \n",
       "6            Moscow   13:00:07  Wednesday  \n",
       "7            Moscow   20:47:49  Wednesday  \n",
       "8            Moscow   09:17:40     Friday  \n",
       "9  Saint-Petersburg   21:20:49  Wednesday  "
      ]
     },
     "metadata": {},
     "output_type": "display_data"
    }
   ],
   "source": [
    "# получение первых 10 строк таблицы df\n",
    "display(df.head(10))"
   ]
  },
  {
   "cell_type": "markdown",
   "metadata": {},
   "source": [
    "Так-то лучше ✨"
   ]
  },
  {
   "cell_type": "markdown",
   "metadata": {},
   "source": [
    "<div class=\"alert alert-success\">\n",
    "<font size=\"4\"><b>✔️ Комментарий ревьюера</b></font>\n",
    "    <br /> \n",
    "    <font size=\"3\", color = \"black\">\n",
    "<br />\n",
    "согласен, 💎"
   ]
  },
  {
   "cell_type": "markdown",
   "metadata": {
    "id": "5ISfbcfY_Zct"
   },
   "source": [
    "### Пропуски значений\n",
    "\n",
    "Посмотрим, сколько в таблице пропущенных значений:"
   ]
  },
  {
   "cell_type": "code",
   "execution_count": 9,
   "metadata": {
    "id": "RskX29qr_Zct"
   },
   "outputs": [
    {
     "data": {
      "text/plain": [
       "user_id           0\n",
       "track_title    1231\n",
       "artist         7203\n",
       "genre          1198\n",
       "city              0\n",
       "start_time        0\n",
       "day               0\n",
       "dtype: int64"
      ]
     },
     "metadata": {},
     "output_type": "display_data"
    }
   ],
   "source": [
    "# подсчёт пропусков\n",
    "display(df.isna().sum())"
   ]
  },
  {
   "cell_type": "markdown",
   "metadata": {},
   "source": [
    "**7203** потерянных артиста 😱"
   ]
  },
  {
   "cell_type": "markdown",
   "metadata": {},
   "source": [
    "<div class=\"alert alert-success\">\n",
    "<font size=\"4\"><b>✔️ Комментарий ревьюера</b></font>\n",
    "    <br /> \n",
    "    <font size=\"3\", color = \"black\">\n",
    "<br />\n",
    "без потеряшек нельзя :) 💎"
   ]
  },
  {
   "cell_type": "markdown",
   "metadata": {
    "id": "qubhgnlO_Zct"
   },
   "source": [
    "Хорошо, что пропуски в `track_title` и `artist` не так важны для нашего исследования. Достаточно заменить их явными обозначениями.\n",
    "\n",
    "Но пропуски в `genre` могут помешать сравнению музыкальных вкусов в Москве и Санкт-Петербурге. На практике было бы правильно установить причину пропусков и восстановить данные. Такой возможности нет в учебном проекте. Придётся:\n",
    "* заполнить и эти пропуски явными обозначениями,\n",
    "* оценить, насколько они повредят расчётам. "
   ]
  },
  {
   "cell_type": "code",
   "execution_count": 10,
   "metadata": {
    "id": "KplB5qWs_Zct"
   },
   "outputs": [],
   "source": [
    "# список столбцов для замены пропущенных значений\n",
    "columns_to_replace = ('track_title', 'artist', 'genre')\n",
    "\n",
    "# перебор названий столбцов в цикле и замена пропущенных значений на 'unknown'\n",
    "for col in columns_to_replace:\n",
    "    df[col].fillna(value='unknown', inplace=True)"
   ]
  },
  {
   "cell_type": "markdown",
   "metadata": {
    "id": "Ilsm-MZo_Zct"
   },
   "source": [
    "Убедимся, что в таблице не осталось пропусков."
   ]
  },
  {
   "cell_type": "code",
   "execution_count": 11,
   "metadata": {
    "id": "RskX29qr_Zct",
    "scrolled": true
   },
   "outputs": [
    {
     "data": {
      "text/plain": [
       "user_id        0\n",
       "track_title    0\n",
       "artist         0\n",
       "genre          0\n",
       "city           0\n",
       "start_time     0\n",
       "day            0\n",
       "dtype: int64"
      ]
     },
     "metadata": {},
     "output_type": "display_data"
    }
   ],
   "source": [
    "# подсчёт пропусков\n",
    "display(df.isna().sum())"
   ]
  },
  {
   "cell_type": "markdown",
   "metadata": {},
   "source": [
    "То что нужно 👌"
   ]
  },
  {
   "cell_type": "markdown",
   "metadata": {},
   "source": [
    "<div class=\"alert alert-success\">\n",
    "<font size=\"4\"><b>✔️ Комментарий ревьюера</b></font>\n",
    "    <br /> \n",
    "    <font size=\"3\", color = \"black\">\n",
    "<br />\n",
    "💎"
   ]
  },
  {
   "cell_type": "markdown",
   "metadata": {
    "id": "BWKRtBJ3_Zct"
   },
   "source": [
    "### Дубликаты\n"
   ]
  },
  {
   "cell_type": "code",
   "execution_count": 12,
   "metadata": {
    "id": "36eES_S0_Zct"
   },
   "outputs": [
    {
     "name": "stdout",
     "output_type": "stream",
     "text": [
      "Одинаковых строк в наборе данных: 3826\n"
     ]
    }
   ],
   "source": [
    "# подсчёт явных дубликатов\n",
    "print('Одинаковых строк в наборе данных:', df.duplicated().sum())"
   ]
  },
  {
   "cell_type": "code",
   "execution_count": 13,
   "metadata": {
    "id": "exFHq6tt_Zct"
   },
   "outputs": [
    {
     "name": "stdout",
     "output_type": "stream",
     "text": [
      "1.3.5\n"
     ]
    }
   ],
   "source": [
    "# удаление явных дубликатов (с удалением старых индексов и формированием новых)\n",
    "df.drop_duplicates(inplace=True)\n",
    "\n",
    "# странно, если добавить ', ignore_index=True', то схлопочем\n",
    "# TypeError: drop_duplicates() got an unexpected keyword argument 'ignore_index'\n",
    "\n",
    "print(pd.__version__)"
   ]
  },
  {
   "cell_type": "markdown",
   "metadata": {},
   "source": [
    "**Версия Pandas в jupyter тренажёра 0.25.1**\n",
    "\n",
    "`ignore_index` — выпустили в версии Pandas 1.0.0 (January 29, 2020)\n",
    "\n",
    "Версия Pandas доступная сейчас 1.4.0 (January 22, 2022)\n",
    "\n",
    "Такая вот аналитика 🤷‍♂️"
   ]
  },
  {
   "cell_type": "markdown",
   "metadata": {},
   "source": [
    "<div class=\"alert alert-success\">\n",
    "<font size=\"4\"><b>✔️ Комментарий ревьюера</b></font>\n",
    "    <br /> \n",
    "    <font size=\"3\", color = \"black\">\n",
    "<br />\n",
    "За изобретательность пять 🙃, за проект — давайте свою зачетку :)\n",
    "        \n",
    "Обновления запланированы, ждем :)"
   ]
  },
  {
   "cell_type": "code",
   "execution_count": 14,
   "metadata": {
    "id": "36eES_S0_Zct"
   },
   "outputs": [
    {
     "data": {
      "text/html": [
       "<div>\n",
       "<style scoped>\n",
       "    .dataframe tbody tr th:only-of-type {\n",
       "        vertical-align: middle;\n",
       "    }\n",
       "\n",
       "    .dataframe tbody tr th {\n",
       "        vertical-align: top;\n",
       "    }\n",
       "\n",
       "    .dataframe thead th {\n",
       "        text-align: right;\n",
       "    }\n",
       "</style>\n",
       "<table border=\"1\" class=\"dataframe\">\n",
       "  <thead>\n",
       "    <tr style=\"text-align: right;\">\n",
       "      <th></th>\n",
       "      <th>user_id</th>\n",
       "      <th>track_title</th>\n",
       "      <th>artist</th>\n",
       "      <th>genre</th>\n",
       "      <th>city</th>\n",
       "      <th>start_time</th>\n",
       "      <th>day</th>\n",
       "    </tr>\n",
       "  </thead>\n",
       "  <tbody>\n",
       "    <tr>\n",
       "      <th>65078</th>\n",
       "      <td>3A64EF84</td>\n",
       "      <td>Tell Me Sweet Little Lies</td>\n",
       "      <td>Monica Lopez</td>\n",
       "      <td>country</td>\n",
       "      <td>Moscow</td>\n",
       "      <td>21:59:46</td>\n",
       "      <td>Friday</td>\n",
       "    </tr>\n",
       "  </tbody>\n",
       "</table>\n",
       "</div>"
      ],
      "text/plain": [
       "        user_id                track_title        artist    genre    city  \\\n",
       "65078  3A64EF84  Tell Me Sweet Little Lies  Monica Lopez  country  Moscow   \n",
       "\n",
       "      start_time     day  \n",
       "65078   21:59:46  Friday  "
      ]
     },
     "metadata": {},
     "output_type": "display_data"
    },
    {
     "data": {
      "text/plain": [
       "(61253, 7)"
      ]
     },
     "metadata": {},
     "output_type": "display_data"
    }
   ],
   "source": [
    "# посмотрим на соответствие индексов\n",
    "display(df.tail(1))\n",
    "display(df.shape)"
   ]
  },
  {
   "cell_type": "markdown",
   "metadata": {},
   "source": [
    "Как там сбрасывали индексы в костёр инквизиции? В далёком 0.25.1\n",
    "\n",
    "🔥"
   ]
  },
  {
   "cell_type": "markdown",
   "metadata": {},
   "source": [
    "<div class=\"alert alert-success\">\n",
    "<font size=\"4\"><b>✔️ Комментарий ревьюера</b></font>\n",
    "    <br /> \n",
    "    <font size=\"5\", color = \"black\">\n",
    "<br />\n",
    "👼"
   ]
  },
  {
   "cell_type": "code",
   "execution_count": 15,
   "metadata": {},
   "outputs": [],
   "source": [
    "# с удалением старых индексов и формированием новых, как просили…\n",
    "df.reset_index(drop=True, inplace=True)"
   ]
  },
  {
   "cell_type": "code",
   "execution_count": 16,
   "metadata": {
    "id": "36eES_S0_Zct",
    "scrolled": true
   },
   "outputs": [
    {
     "data": {
      "text/html": [
       "<div>\n",
       "<style scoped>\n",
       "    .dataframe tbody tr th:only-of-type {\n",
       "        vertical-align: middle;\n",
       "    }\n",
       "\n",
       "    .dataframe tbody tr th {\n",
       "        vertical-align: top;\n",
       "    }\n",
       "\n",
       "    .dataframe thead th {\n",
       "        text-align: right;\n",
       "    }\n",
       "</style>\n",
       "<table border=\"1\" class=\"dataframe\">\n",
       "  <thead>\n",
       "    <tr style=\"text-align: right;\">\n",
       "      <th></th>\n",
       "      <th>user_id</th>\n",
       "      <th>track_title</th>\n",
       "      <th>artist</th>\n",
       "      <th>genre</th>\n",
       "      <th>city</th>\n",
       "      <th>start_time</th>\n",
       "      <th>day</th>\n",
       "    </tr>\n",
       "  </thead>\n",
       "  <tbody>\n",
       "    <tr>\n",
       "      <th>61252</th>\n",
       "      <td>3A64EF84</td>\n",
       "      <td>Tell Me Sweet Little Lies</td>\n",
       "      <td>Monica Lopez</td>\n",
       "      <td>country</td>\n",
       "      <td>Moscow</td>\n",
       "      <td>21:59:46</td>\n",
       "      <td>Friday</td>\n",
       "    </tr>\n",
       "  </tbody>\n",
       "</table>\n",
       "</div>"
      ],
      "text/plain": [
       "        user_id                track_title        artist    genre    city  \\\n",
       "61252  3A64EF84  Tell Me Sweet Little Lies  Monica Lopez  country  Moscow   \n",
       "\n",
       "      start_time     day  \n",
       "61252   21:59:46  Friday  "
      ]
     },
     "metadata": {},
     "output_type": "display_data"
    },
    {
     "data": {
      "text/plain": [
       "(61253, 7)"
      ]
     },
     "metadata": {},
     "output_type": "display_data"
    }
   ],
   "source": [
    "# посмотрим на соответствие индексов\n",
    "display(df.tail(1))\n",
    "display(df.shape)"
   ]
  },
  {
   "cell_type": "markdown",
   "metadata": {},
   "source": [
    "Всё исчезло не осталось и следа…\n",
    "\n",
    "Шестьдесят один двести пятьдесят двааа\n",
    "\n",
    "🎤"
   ]
  },
  {
   "cell_type": "markdown",
   "metadata": {},
   "source": [
    "<div class=\"alert alert-success\">\n",
    "<font size=\"4\"><b>✔️ Комментарий ревьюера</b></font>\n",
    "    <br /> \n",
    "    <font size=\"3\", color = \"black\">\n",
    "<br />\n",
    "Вы справились! Сэррр :)"
   ]
  },
  {
   "cell_type": "code",
   "execution_count": 17,
   "metadata": {
    "id": "36eES_S0_Zct"
   },
   "outputs": [
    {
     "data": {
      "text/plain": [
       "0"
      ]
     },
     "metadata": {},
     "output_type": "display_data"
    }
   ],
   "source": [
    "# подсчёт явных дубликатов\n",
    "display(df.duplicated().sum())"
   ]
  },
  {
   "cell_type": "markdown",
   "metadata": {
    "id": "QlFBsxAr_Zct"
   },
   "source": [
    "Не будем повторять дважды)\n",
    "\n",
    "Поищем неявные дубликаты в столбце `'genre'`:"
   ]
  },
  {
   "cell_type": "code",
   "execution_count": 18,
   "metadata": {
    "id": "JIUcqzZN_Zct",
    "scrolled": true
   },
   "outputs": [
    {
     "data": {
      "text/plain": [
       "array(['acid', 'acoustic', 'action', 'adult', 'africa', 'afrikaans',\n",
       "       'alternative', 'alternativepunk', 'ambient', 'americana',\n",
       "       'animated', 'anime', 'arabesk', 'arabic', 'arena',\n",
       "       'argentinetango', 'art', 'audiobook', 'author', 'avantgarde',\n",
       "       'axé', 'baile', 'balkan', 'beats', 'bigroom', 'black', 'bluegrass',\n",
       "       'blues', 'bollywood', 'bossa', 'brazilian', 'breakbeat', 'breaks',\n",
       "       'broadway', 'cantautori', 'cantopop', 'canzone', 'caribbean',\n",
       "       'caucasian', 'celtic', 'chamber', 'chanson', 'children', 'chill',\n",
       "       'chinese', 'choral', 'christian', 'christmas', 'classical',\n",
       "       'classicmetal', 'club', 'colombian', 'comedy', 'conjazz',\n",
       "       'contemporary', 'country', 'cuban', 'dance', 'dancehall',\n",
       "       'dancepop', 'dark', 'death', 'deep', 'deutschrock', 'deutschspr',\n",
       "       'dirty', 'disco', 'dnb', 'documentary', 'downbeat', 'downtempo',\n",
       "       'drum', 'dub', 'dubstep', 'eastern', 'easy', 'electronic',\n",
       "       'electropop', 'emo', 'entehno', 'epicmetal', 'estrada', 'ethnic',\n",
       "       'eurofolk', 'european', 'experimental', 'extrememetal', 'fado',\n",
       "       'fairytail', 'film', 'fitness', 'flamenco', 'folk', 'folklore',\n",
       "       'folkmetal', 'folkrock', 'folktronica', 'forró', 'frankreich',\n",
       "       'französisch', 'french', 'funk', 'future', 'gangsta', 'garage',\n",
       "       'german', 'ghazal', 'gitarre', 'glitch', 'gospel', 'gothic',\n",
       "       'grime', 'grunge', 'gypsy', 'handsup', \"hard'n'heavy\", 'hardcore',\n",
       "       'hardstyle', 'hardtechno', 'hip', 'hip-hop', 'hiphop',\n",
       "       'historisch', 'holiday', 'hop', 'horror', 'house', 'hymn', 'idm',\n",
       "       'independent', 'indian', 'indie', 'indipop', 'industrial',\n",
       "       'inspirational', 'instrumental', 'international', 'irish', 'jam',\n",
       "       'japanese', 'jazz', 'jewish', 'jpop', 'jungle', 'k-pop',\n",
       "       'karadeniz', 'karaoke', 'kayokyoku', 'korean', 'laiko', 'latin',\n",
       "       'latino', 'leftfield', 'local', 'lounge', 'loungeelectronic',\n",
       "       'lovers', 'malaysian', 'mandopop', 'marschmusik', 'meditative',\n",
       "       'mediterranean', 'melodic', 'metal', 'metalcore', 'mexican',\n",
       "       'middle', 'minimal', 'miscellaneous', 'modern', 'mood', 'mpb',\n",
       "       'muslim', 'native', 'neoklassik', 'neue', 'new', 'newage',\n",
       "       'newwave', 'nu', 'nujazz', 'numetal', 'oceania', 'old', 'opera',\n",
       "       'orchestral', 'other', 'piano', 'podcasts', 'pop', 'popdance',\n",
       "       'popelectronic', 'popeurodance', 'poprussian', 'post',\n",
       "       'posthardcore', 'postrock', 'power', 'progmetal', 'progressive',\n",
       "       'psychedelic', 'punjabi', 'punk', 'quebecois', 'ragga', 'ram',\n",
       "       'rancheras', 'rap', 'rave', 'reggae', 'reggaeton', 'regional',\n",
       "       'relax', 'religious', 'retro', 'rhythm', 'rnb', 'rnr', 'rock',\n",
       "       'rockabilly', 'rockalternative', 'rockindie', 'rockother',\n",
       "       'romance', 'roots', 'ruspop', 'rusrap', 'rusrock', 'russian',\n",
       "       'salsa', 'samba', 'scenic', 'schlager', 'self', 'sertanejo',\n",
       "       'shanson', 'shoegazing', 'showtunes', 'singer', 'ska', 'skarock',\n",
       "       'slow', 'smooth', 'soft', 'soul', 'soulful', 'sound', 'soundtrack',\n",
       "       'southern', 'specialty', 'speech', 'spiritual', 'sport',\n",
       "       'stonerrock', 'surf', 'swing', 'synthpop', 'synthrock',\n",
       "       'sängerportrait', 'tango', 'tanzorchester', 'taraftar', 'tatar',\n",
       "       'tech', 'techno', 'teen', 'thrash', 'top', 'traditional',\n",
       "       'tradjazz', 'trance', 'tribal', 'trip', 'triphop', 'tropical',\n",
       "       'türk', 'türkçe', 'ukrrock', 'unknown', 'urban', 'uzbek',\n",
       "       'variété', 'vi', 'videogame', 'vocal', 'western', 'world',\n",
       "       'worldbeat', 'ïîï', 'электроника'], dtype=object)"
      ]
     },
     "metadata": {},
     "output_type": "display_data"
    }
   ],
   "source": [
    "# Просмотр уникальных названий жанров\n",
    "display(df['genre'].sort_values().unique())\n"
   ]
  },
  {
   "cell_type": "code",
   "execution_count": 19,
   "metadata": {
    "id": "JIUcqzZN_Zct"
   },
   "outputs": [
    {
     "name": "stdout",
     "output_type": "stream",
     "text": [
      "Количество уникальных названий жанров: 290\n"
     ]
    }
   ],
   "source": [
    "# Количество уникальных названий жанров\n",
    "print('Количество уникальных названий жанров:', len(df['genre'].sort_values().unique()))"
   ]
  },
  {
   "cell_type": "markdown",
   "metadata": {},
   "source": [
    "Погуглил и решил заменить:\n",
    "\n",
    "|«Клон»                         |Оригинал       |\n",
    "|:--------------------------    |:------------  |\n",
    "| `'africa'`                    | `'afrikaans'` |\n",
    "| `'deutschspr'`                | `'german'`    |\n",
    "| `'электроника'`               | `'electronic'`|\n",
    "| `'folklore'`                  | `'folk'`      |\n",
    "| `'frankreich', 'französisch'` | `'french'`    |\n",
    "| `'neue'`                      | `'new'`       |\n",
    "| `'poprussian'`                | `'ruspop'`    |\n",
    "| `'türk', 'türkçe'`            | `'turkish'`   |\n",
    "| `'hip', 'hip-hop', 'hop'`     | `'hiphop'`    |\n",
    "    \n",
    "    ну да-да — hip-hop не гуглил)\n",
    "\n",
    "А что делать с этими, лучше спросить у колег или Артемия Троицкого:\n",
    "* `'ïîï'`\n",
    "* `'animated', 'anime'`\n",
    "* `'soul', 'soulful'`"
   ]
  },
  {
   "cell_type": "markdown",
   "metadata": {},
   "source": [
    "<div class=\"alert alert-success\">\n",
    "<font size=\"4\"><b>✔️ Комментарий ревьюера</b></font>\n",
    "    <br /> \n",
    "    <font size=\"5\", color = \"black\">\n",
    "<br />\n",
    "😂"
   ]
  },
  {
   "cell_type": "code",
   "execution_count": 20,
   "metadata": {},
   "outputs": [],
   "source": [
    "genres_correction = (\n",
    "    (('africa',), 'afrikaans'),\n",
    "    (('deutschspr',), 'german'),\n",
    "    (('электроника',), 'electronic'),\n",
    "    (('folklore',), 'folk'),\n",
    "    (('frankreich', 'französisch',), 'french',),\n",
    "    (('hip', 'hip-hop', 'hop',), 'hiphop'),\n",
    "    (('neue',), 'new'),\n",
    "    (('poprussian',), 'ruspop'),\n",
    "    (('türk', 'türkçe',), 'turkish'),\n",
    ")"
   ]
  },
  {
   "cell_type": "code",
   "execution_count": 21,
   "metadata": {
    "id": "ErNDkmns_Zct"
   },
   "outputs": [],
   "source": [
    "# Функция для замены неявных дубликатов\n",
    "# Функция должна исправить колонку `genre` в таблице `df`:\n",
    "#     заменить каждое значение из списка `wrong_genres` на значение из `correct_genre`.\n",
    "def replace_wrong_genres(data_frame, wrong_genres, correct_genre):\n",
    "    for wrong_genre in wrong_genres:\n",
    "        data_frame['genre'].replace(to_replace=wrong_genre, value=correct_genre, inplace=True)\n",
    "    "
   ]
  },
  {
   "cell_type": "code",
   "execution_count": 22,
   "metadata": {
    "id": "YN5i2hpmSo09"
   },
   "outputs": [],
   "source": [
    "# Устранение неявных дубликатов\n",
    "for genre_correction in genres_correction:\n",
    "    replace_wrong_genres(data_frame=df,\n",
    "                         wrong_genres=genre_correction[0],\n",
    "                         correct_genre=genre_correction[1])"
   ]
  },
  {
   "cell_type": "code",
   "execution_count": 23,
   "metadata": {
    "id": "JIUcqzZN_Zct",
    "scrolled": true
   },
   "outputs": [
    {
     "data": {
      "text/plain": [
       "array(['acid', 'acoustic', 'action', 'adult', 'afrikaans', 'alternative',\n",
       "       'alternativepunk', 'ambient', 'americana', 'animated', 'anime',\n",
       "       'arabesk', 'arabic', 'arena', 'argentinetango', 'art', 'audiobook',\n",
       "       'author', 'avantgarde', 'axé', 'baile', 'balkan', 'beats',\n",
       "       'bigroom', 'black', 'bluegrass', 'blues', 'bollywood', 'bossa',\n",
       "       'brazilian', 'breakbeat', 'breaks', 'broadway', 'cantautori',\n",
       "       'cantopop', 'canzone', 'caribbean', 'caucasian', 'celtic',\n",
       "       'chamber', 'chanson', 'children', 'chill', 'chinese', 'choral',\n",
       "       'christian', 'christmas', 'classical', 'classicmetal', 'club',\n",
       "       'colombian', 'comedy', 'conjazz', 'contemporary', 'country',\n",
       "       'cuban', 'dance', 'dancehall', 'dancepop', 'dark', 'death', 'deep',\n",
       "       'deutschrock', 'dirty', 'disco', 'dnb', 'documentary', 'downbeat',\n",
       "       'downtempo', 'drum', 'dub', 'dubstep', 'eastern', 'easy',\n",
       "       'electronic', 'electropop', 'emo', 'entehno', 'epicmetal',\n",
       "       'estrada', 'ethnic', 'eurofolk', 'european', 'experimental',\n",
       "       'extrememetal', 'fado', 'fairytail', 'film', 'fitness', 'flamenco',\n",
       "       'folk', 'folkmetal', 'folkrock', 'folktronica', 'forró', 'french',\n",
       "       'funk', 'future', 'gangsta', 'garage', 'german', 'ghazal',\n",
       "       'gitarre', 'glitch', 'gospel', 'gothic', 'grime', 'grunge',\n",
       "       'gypsy', 'handsup', \"hard'n'heavy\", 'hardcore', 'hardstyle',\n",
       "       'hardtechno', 'hiphop', 'historisch', 'holiday', 'horror', 'house',\n",
       "       'hymn', 'idm', 'independent', 'indian', 'indie', 'indipop',\n",
       "       'industrial', 'inspirational', 'instrumental', 'international',\n",
       "       'irish', 'jam', 'japanese', 'jazz', 'jewish', 'jpop', 'jungle',\n",
       "       'k-pop', 'karadeniz', 'karaoke', 'kayokyoku', 'korean', 'laiko',\n",
       "       'latin', 'latino', 'leftfield', 'local', 'lounge',\n",
       "       'loungeelectronic', 'lovers', 'malaysian', 'mandopop',\n",
       "       'marschmusik', 'meditative', 'mediterranean', 'melodic', 'metal',\n",
       "       'metalcore', 'mexican', 'middle', 'minimal', 'miscellaneous',\n",
       "       'modern', 'mood', 'mpb', 'muslim', 'native', 'neoklassik', 'new',\n",
       "       'newage', 'newwave', 'nu', 'nujazz', 'numetal', 'oceania', 'old',\n",
       "       'opera', 'orchestral', 'other', 'piano', 'podcasts', 'pop',\n",
       "       'popdance', 'popelectronic', 'popeurodance', 'post',\n",
       "       'posthardcore', 'postrock', 'power', 'progmetal', 'progressive',\n",
       "       'psychedelic', 'punjabi', 'punk', 'quebecois', 'ragga', 'ram',\n",
       "       'rancheras', 'rap', 'rave', 'reggae', 'reggaeton', 'regional',\n",
       "       'relax', 'religious', 'retro', 'rhythm', 'rnb', 'rnr', 'rock',\n",
       "       'rockabilly', 'rockalternative', 'rockindie', 'rockother',\n",
       "       'romance', 'roots', 'ruspop', 'rusrap', 'rusrock', 'russian',\n",
       "       'salsa', 'samba', 'scenic', 'schlager', 'self', 'sertanejo',\n",
       "       'shanson', 'shoegazing', 'showtunes', 'singer', 'ska', 'skarock',\n",
       "       'slow', 'smooth', 'soft', 'soul', 'soulful', 'sound', 'soundtrack',\n",
       "       'southern', 'specialty', 'speech', 'spiritual', 'sport',\n",
       "       'stonerrock', 'surf', 'swing', 'synthpop', 'synthrock',\n",
       "       'sängerportrait', 'tango', 'tanzorchester', 'taraftar', 'tatar',\n",
       "       'tech', 'techno', 'teen', 'thrash', 'top', 'traditional',\n",
       "       'tradjazz', 'trance', 'tribal', 'trip', 'triphop', 'tropical',\n",
       "       'turkish', 'ukrrock', 'unknown', 'urban', 'uzbek', 'variété', 'vi',\n",
       "       'videogame', 'vocal', 'western', 'world', 'worldbeat', 'ïîï'],\n",
       "      dtype=object)"
      ]
     },
     "metadata": {},
     "output_type": "display_data"
    }
   ],
   "source": [
    "# Просмотр уникальных названий жанров\n",
    "display(df['genre'].sort_values().unique())\n"
   ]
  },
  {
   "cell_type": "code",
   "execution_count": 24,
   "metadata": {
    "id": "JIUcqzZN_Zct"
   },
   "outputs": [
    {
     "name": "stdout",
     "output_type": "stream",
     "text": [
      "Количество уникальных названий жанров: 278\n"
     ]
    }
   ],
   "source": [
    "# Количество уникальных названий жанров\n",
    "print('Количество уникальных названий жанров:', len(df['genre'].sort_values().unique()))"
   ]
  },
  {
   "cell_type": "markdown",
   "metadata": {
    "id": "zQKF16_RG15m"
   },
   "source": [
    "Похоже, что с hiphop всё тип-топ.\n",
    "\n",
    "Но вот функция из одного лишь `for` и вызов функции выглядят куце… "
   ]
  },
  {
   "cell_type": "markdown",
   "metadata": {
    "id": "jz6a9-7HQUDd"
   },
   "source": [
    "**Выводы**\n",
    "\n",
    "Предобработкой нашли три проблемы в данных:\n",
    "\n",
    "- нарушения в стиле заголовков;\n",
    "- пропущенные значения;\n",
    "- дубликаты — явные и неявные;\n",
    "\n",
    "Чтобы упростить работу с таблицей исправили:\n",
    "- заголовки привели к единому стилю\n",
    "- пропущенные значения заменили на `'unknown'`, но ещё предстоит увидеть, как повлияют эти замены в колонке `genre` на исследование.\n",
    "- устранили дубликаты — явные и неявные;\n",
    "\n",
    "\n",
    "Теперь можно перейти к проверке гипотез. 🚀"
   ]
  },
  {
   "cell_type": "markdown",
   "metadata": {
    "id": "WttZHXH0SqKk"
   },
   "source": [
    "## Проверка гипотез <span id=analytics></span>"
   ]
  },
  {
   "cell_type": "markdown",
   "metadata": {
    "id": "Im936VVi_Zcu"
   },
   "source": [
    "### Сравнение поведения пользователей двух столиц"
   ]
  },
  {
   "cell_type": "markdown",
   "metadata": {},
   "source": [
    "**Гипотеза № 1**\n",
    "\n",
    "> Активность пользователей зависит от дня недели. Причём в Москве и Петербурге это проявляется по-разному."
   ]
  },
  {
   "cell_type": "markdown",
   "metadata": {
    "id": "nwt_MuaL_Zcu"
   },
   "source": [
    "> Первая гипотеза утверждает, что пользователи по-разному слушают музыку в Москве и Санкт- Петербурге. Проверьте это предположение по данным о трёх днях недели — понедельнике, среде и пятнице. Для этого:\n",
    ">\n",
    "> * Разделите пользователей Москвы и Санкт-Петербурга\n",
    "> * Сравните, сколько треков послушала каждая группа пользователей в понедельник, среду и пятницу.\n"
   ]
  },
  {
   "cell_type": "code",
   "execution_count": 25,
   "metadata": {
    "scrolled": true
   },
   "outputs": [
    {
     "name": "stdout",
     "output_type": "stream",
     "text": [
      "['Saint-Petersburg' 'Moscow']\n"
     ]
    }
   ],
   "source": [
    "# точно ли два города, а то может «Питер» где затесался\n",
    "print(df['city'].unique())"
   ]
  },
  {
   "cell_type": "markdown",
   "metadata": {},
   "source": [
    "❤️"
   ]
  },
  {
   "cell_type": "code",
   "execution_count": 26,
   "metadata": {
    "scrolled": true
   },
   "outputs": [
    {
     "name": "stdout",
     "output_type": "stream",
     "text": [
      "['Wednesday' 'Friday' 'Monday']\n"
     ]
    }
   ],
   "source": [
    "# какие дни недели в данных\n",
    "print(df['day'].unique())"
   ]
  },
  {
   "cell_type": "markdown",
   "metadata": {},
   "source": [
    "Как аналитик оптимист, считаю что таблица на 3/7 полна…"
   ]
  },
  {
   "cell_type": "markdown",
   "metadata": {},
   "source": [
    "<div class=\"alert alert-success\">\n",
    "<font size=\"4\"><b>✔️ Комментарий ревьюера</b></font>\n",
    "    <br /> \n",
    "    <font size=\"4\", color = \"black\">\n",
    "<br />\n",
    "хорошо что оптимист, 😅"
   ]
  },
  {
   "cell_type": "code",
   "execution_count": 27,
   "metadata": {
    "id": "0_Qs96oh_Zcu"
   },
   "outputs": [
    {
     "data": {
      "text/plain": [
       "(42741, 7)"
      ]
     },
     "metadata": {},
     "output_type": "display_data"
    },
    {
     "data": {
      "text/plain": [
       "(18512, 7)"
      ]
     },
     "metadata": {},
     "output_type": "display_data"
    }
   ],
   "source": [
    "# Подсчёт прослушиваний в каждом городе\n",
    "msk_df = df.loc[df['city'] == 'Moscow']\n",
    "spb_df = df.loc[df['city'] == 'Saint-Petersburg']\n",
    "msk_df.reset_index(drop=True, inplace=True)\n",
    "spb_df.reset_index(drop=True, inplace=True)\n",
    "display(msk_df.shape)\n",
    "display(spb_df.shape)"
   ]
  },
  {
   "cell_type": "markdown",
   "metadata": {
    "id": "dzli3w8o_Zcu"
   },
   "source": [
    "> В Москве прослушиваний больше, чем в Петербурге. Из этого не следует, что московские пользователи чаще слушают музыку. Просто самих пользователей в Москве больше.\n",
    "\n",
    "© Кэп"
   ]
  },
  {
   "cell_type": "markdown",
   "metadata": {},
   "source": [
    "<div class=\"alert alert-success\">\n",
    "<font size=\"4\"><b>✔️ Комментарий ревьюера</b></font>\n",
    "    <br /> \n",
    "    <font size=\"3\", color = \"black\">\n",
    "<br />\n",
    "все верно 💎"
   ]
  },
  {
   "cell_type": "code",
   "execution_count": 28,
   "metadata": {
    "id": "uZMKjiJz_Zcu",
    "scrolled": true
   },
   "outputs": [
    {
     "name": "stdout",
     "output_type": "stream",
     "text": [
      "Moscow, прослушиваний\n",
      "\tпонедельник: 15740\n",
      "\tсреда: 11056\n",
      "\tпятница: 15945\n",
      "\n",
      "Saint-Petersburg, прослушиваний\n",
      "\tпонедельник: 5614\n",
      "\tсреда: 7003\n",
      "\tпятница: 5895\n"
     ]
    }
   ],
   "source": [
    "# Подсчёт прослушиваний в каждый из трёх дней\n",
    "# MSK\n",
    "msk_count_mon = msk_df['day'].loc[msk_df['day'] == 'Monday'].count()\n",
    "msk_count_wed = msk_df['day'].loc[msk_df['day'] == 'Wednesday'].count()\n",
    "msk_count_fri = msk_df['day'].loc[msk_df['day'] == 'Friday'].count()\n",
    "\n",
    "# SPB\n",
    "spb_count_mon = spb_df['day'].loc[spb_df['day'] == 'Monday'].count()\n",
    "spb_count_wed = spb_df['day'].loc[spb_df['day'] == 'Wednesday'].count()\n",
    "spb_count_fri = spb_df['day'].loc[spb_df['day'] == 'Friday'].count()\n",
    "\n",
    "print('Moscow, прослушиваний')\n",
    "print('\\tпонедельник:', msk_count_mon)\n",
    "print('\\tсреда:', msk_count_wed)\n",
    "print('\\tпятница:', msk_count_fri)\n",
    "print('\\nSaint-Petersburg, прослушиваний')\n",
    "print('\\tпонедельник:', spb_count_mon)\n",
    "print('\\tсреда:', spb_count_wed)\n",
    "print('\\tпятница:', spb_count_fri)"
   ]
  },
  {
   "cell_type": "markdown",
   "metadata": {},
   "source": [
    "Петербург музыкальная среда…\n",
    "\n",
    "Особенно по средам."
   ]
  },
  {
   "cell_type": "markdown",
   "metadata": {
    "id": "POzs8bGa_Zcu"
   },
   "source": [
    "> Вы видели, как работает группировка по городу и по дням недели. Теперь напишите функцию, которая объединит два эти расчёта.\n",
    "> \n",
    "> Создайте функцию `number_tracks()`, которая посчитает прослушивания для заданного дня и города. > Ей понадобятся два параметра:\n",
    "> * день недели,\n",
    "> * название города.\n",
    "> \n",
    "> В функции сохраните в переменную строки исходной таблицы, у которых значение:\n",
    ">   * в колонке `day` равно параметру `day`,\n",
    ">   * в колонке `city` равно параметру `city`.\n",
    "> \n",
    "> Для этого примените последовательную фильтрацию с логической индексацией.\n",
    "> \n",
    "> Затем посчитайте значения в столбце `user_id` получившейся таблицы. Результат сохраните в новую переменную. Верните эту переменную из функции."
   ]
  },
  {
   "cell_type": "code",
   "execution_count": 29,
   "metadata": {
    "id": "Nz3GdQB1_Zcu"
   },
   "outputs": [],
   "source": [
    "# Функция для подсчёта прослушиваний для конкретного города и дня.\n",
    "\n",
    "\n",
    "def number_tracks(day, city):\n",
    "    track_list_count = df.loc[(df['day'] == day) & (df['city'] == city)]['user_id'].count()\n",
    "    return track_list_count\n",
    "\n"
   ]
  },
  {
   "cell_type": "markdown",
   "metadata": {
    "id": "ytf7xFrFJQ2r"
   },
   "source": [
    "> Вызовите `number_tracks()` шесть раз, меняя значение параметров — так, чтобы получить данные для каждого города в каждый из трёх дней."
   ]
  },
  {
   "cell_type": "code",
   "execution_count": 30,
   "metadata": {
    "id": "hq_ncZ5T_Zcu"
   },
   "outputs": [
    {
     "name": "stdout",
     "output_type": "stream",
     "text": [
      "Мск, пн: 15740\n",
      "СПб, пн: 5614\n"
     ]
    }
   ],
   "source": [
    "# количество прослушиваний в Москве по понедельникам\n",
    "print('Мск, пн', end=': ')\n",
    "print(number_tracks('Monday', 'Moscow'))\n",
    "\n",
    "# количество прослушиваний в Санкт-Петербурге по понедельникам\n",
    "print('СПб, пн', end=': ')\n",
    "print(number_tracks('Monday', 'Saint-Petersburg'))"
   ]
  },
  {
   "cell_type": "code",
   "execution_count": 31,
   "metadata": {
    "id": "j2y3TAwo_Zcu"
   },
   "outputs": [
    {
     "name": "stdout",
     "output_type": "stream",
     "text": [
      "Мск, ср: 11056\n",
      "СПб, ср: 7003\n"
     ]
    }
   ],
   "source": [
    "# количество прослушиваний в Москве по средам\n",
    "print('Мск, ср', end=': ')\n",
    "print(number_tracks('Wednesday', 'Moscow'))\n",
    "\n",
    "# количество прослушиваний в Санкт-Петербурге по средам\n",
    "print('СПб, ср', end=': ')\n",
    "print(number_tracks('Wednesday', 'Saint-Petersburg'))"
   ]
  },
  {
   "cell_type": "code",
   "execution_count": 32,
   "metadata": {
    "id": "8_yzFtW3_Zcu"
   },
   "outputs": [
    {
     "name": "stdout",
     "output_type": "stream",
     "text": [
      "Мск, пт: 15945\n",
      "СПб, пт: 5895\n"
     ]
    }
   ],
   "source": [
    "# количество прослушиваний в Москве по пятницам\n",
    "print('Мск, пт', end=': ')\n",
    "print(number_tracks('Friday', 'Moscow'))\n",
    "\n",
    "# количество прослушиваний в Санкт-Петербурге по пятницам\n",
    "print('СПб, пт', end=': ')\n",
    "print(number_tracks('Friday', 'Saint-Petersburg'))"
   ]
  },
  {
   "cell_type": "markdown",
   "metadata": {
    "id": "7QXffbO-_Zcu"
   },
   "source": [
    "> Создайте c помощью конструктора `pd.DataFrame` таблицу, где\n",
    "> * названия колонок — `['city', 'monday', 'wednesday', 'friday']`;\n",
    "> * данные — результаты, которые вы получили с помощью `number_tracks`."
   ]
  },
  {
   "cell_type": "code",
   "execution_count": 33,
   "metadata": {
    "id": "APAcLpOr_Zcu"
   },
   "outputs": [
    {
     "data": {
      "text/html": [
       "<div>\n",
       "<style scoped>\n",
       "    .dataframe tbody tr th:only-of-type {\n",
       "        vertical-align: middle;\n",
       "    }\n",
       "\n",
       "    .dataframe tbody tr th {\n",
       "        vertical-align: top;\n",
       "    }\n",
       "\n",
       "    .dataframe thead th {\n",
       "        text-align: right;\n",
       "    }\n",
       "</style>\n",
       "<table border=\"1\" class=\"dataframe\">\n",
       "  <thead>\n",
       "    <tr style=\"text-align: right;\">\n",
       "      <th></th>\n",
       "      <th>monday</th>\n",
       "      <th>wednesday</th>\n",
       "      <th>friday</th>\n",
       "    </tr>\n",
       "    <tr>\n",
       "      <th>city</th>\n",
       "      <th></th>\n",
       "      <th></th>\n",
       "      <th></th>\n",
       "    </tr>\n",
       "  </thead>\n",
       "  <tbody>\n",
       "    <tr>\n",
       "      <th>Moscow</th>\n",
       "      <td>15740</td>\n",
       "      <td>11056</td>\n",
       "      <td>15945</td>\n",
       "    </tr>\n",
       "    <tr>\n",
       "      <th>Saint-Petersburg</th>\n",
       "      <td>5614</td>\n",
       "      <td>7003</td>\n",
       "      <td>5895</td>\n",
       "    </tr>\n",
       "  </tbody>\n",
       "</table>\n",
       "</div>"
      ],
      "text/plain": [
       "                  monday  wednesday  friday\n",
       "city                                       \n",
       "Moscow             15740      11056   15945\n",
       "Saint-Petersburg    5614       7003    5895"
      ]
     },
     "metadata": {},
     "output_type": "display_data"
    }
   ],
   "source": [
    "# Таблица с результатами\n",
    "city_days_columns = ['city', 'monday', 'wednesday', 'friday']\n",
    "city_days_data = [\n",
    "    ['Moscow', 15740, 11056, 15945],\n",
    "    ['Saint-Petersburg', 5614, 7003, 5895]\n",
    "]\n",
    "\n",
    "city_days_df = pd.DataFrame(data=city_days_data, columns=city_days_columns)\n",
    "city_days_df.set_index('city',inplace=True)\n",
    "display(city_days_df)\n",
    "\n",
    "# Moscow, прослушиваний\n",
    "# \tпонедельник: 15740\n",
    "# \tсреда: 11056\n",
    "# \tпятница: 15945\n",
    "\n",
    "# Saint-Petersburg, прослушиваний\n",
    "# \tпонедельник: 5614\n",
    "# \tсреда: 7003\n",
    "# \tпятница: 5895"
   ]
  },
  {
   "cell_type": "markdown",
   "metadata": {
    "id": "-EgPIHYu_Zcu"
   },
   "source": [
    "**Выводы**\n",
    "\n",
    "Данные показывают разницу поведения пользователей:\n",
    "\n",
    "- В Москве пик прослушиваний приходится на понедельник и пятницу, а в среду заметен спад.\n",
    "- В Петербурге, наоборот, больше слушают музыку по средам. Активность в понедельник и пятницу здесь почти в равной мере уступает среде.\n",
    "\n",
    "Значит, активность пользователей зависит от дня недели. Причём в Москве и Петербурге это проявляется по-разному.\n",
    "Похоже, что подтвердили [первую гипотезу](#start)."
   ]
  },
  {
   "cell_type": "markdown",
   "metadata": {
    "id": "atZAxtq4_Zcu"
   },
   "source": [
    "### Музыка в начале и в конце недели"
   ]
  },
  {
   "cell_type": "markdown",
   "metadata": {
    "id": "S8UcW6Hw_Zcu"
   },
   "source": [
    "**Гипотеза № 2**\n",
    "\n",
    "> В понедельник утром в Москве преобладают одни жанры, а в Петербурге — другие. Так же и вечером пятницы преобладают разные жанры — в зависимости от города."
   ]
  },
  {
   "cell_type": "code",
   "execution_count": 34,
   "metadata": {
    "id": "qeaFfM_P_Zcu"
   },
   "outputs": [],
   "source": [
    "# все данные где 'city' равно 'Moscow'\n",
    "moscow_general = msk_df\n",
    "# display(moscow_general)"
   ]
  },
  {
   "cell_type": "code",
   "execution_count": 35,
   "metadata": {
    "id": "ORaVRKto_Zcu"
   },
   "outputs": [],
   "source": [
    "# все данные где 'city' равно 'Saint-Petersburg'\n",
    "spb_general = spb_df\n",
    "# display(spb_general)"
   ]
  },
  {
   "cell_type": "markdown",
   "metadata": {
    "id": "MEJV-CX2_Zcu"
   },
   "source": [
    "> Функция должна вернуть информацию о топ-10 жанров тех треков, которые прослушивали в указанный день, в промежутке между двумя отметками времени."
   ]
  },
  {
   "cell_type": "code",
   "execution_count": 36,
   "metadata": {
    "id": "laJT9BYl_Zcu"
   },
   "outputs": [],
   "source": [
    "# функция вернёт 10 первых популярных жанров\n",
    "# в указанный день, в заданное время из таблицы для Москва или Петербурга\n",
    "\n",
    "\n",
    "def genre_weekday(city_data, day_2_check, from_time, till_time):\n",
    "    dec_from_time = int(from_time.split(':')[0]) * 3600 + int(from_time.split(':')[1]) * 60\n",
    "    dec_till_time = int(till_time.split(':')[0]) * 3600 + int(till_time.split(':')[1]) * 60\n",
    "    genre_df = city_data.copy()\n",
    "    genre_df['start_time'] = genre_df['start_time'].apply(lambda x: (int(x.split(':')[0]) * 3600) +\n",
    "                                                          (int(x.split(':')[1]) * 60) +\n",
    "                                                          int(x.split(':')[2]))\n",
    "\n",
    "    genre_df = genre_df.loc[(genre_df['day'] == day_2_check) &\n",
    "                            (genre_df['start_time'] > dec_from_time) &\n",
    "                            (genre_df['start_time'] < dec_till_time)]\n",
    "    \n",
    "    genre_df_count = genre_df.groupby(by='genre')['genre'].count()\n",
    "    genre_df_count.sort_values(ascending=False, inplace=True)\n",
    "    \n",
    "    return genre_df_count.head(10)\n",
    "\n"
   ]
  },
  {
   "cell_type": "markdown",
   "metadata": {},
   "source": [
    "<div class=\"alert alert-success\">\n",
    "<font size=\"4\"><b>✔️ Комментарий ревьюера</b></font>\n",
    "    <br /> \n",
    "    <font size=\"3\", color = \"black\">\n",
    "<br />\n",
    "Разминка прошла успешно 😉, \n",
    "        \n",
    "    Не думай о секундах свысока.\n",
    "    Наступит время, сам поймешь, наверное,-\n",
    "    свистят они,\n",
    "    как пули у виска...\n",
    "        Песня: «Мгновения»"
   ]
  },
  {
   "cell_type": "code",
   "execution_count": 37,
   "metadata": {},
   "outputs": [
    {
     "data": {
      "text/plain": [
       "genre\n",
       "pop            781\n",
       "dance          549\n",
       "electronic     480\n",
       "rock           474\n",
       "hiphop         286\n",
       "ruspop         186\n",
       "world          181\n",
       "rusrap         175\n",
       "alternative    164\n",
       "unknown        161\n",
       "Name: genre, dtype: int64"
      ]
     },
     "metadata": {},
     "output_type": "display_data"
    }
   ],
   "source": [
    "# вызов функции для утра понедельника в Москве\n",
    "display(genre_weekday(moscow_general, 'Monday', '7:00',  '11:00'))"
   ]
  },
  {
   "cell_type": "code",
   "execution_count": 38,
   "metadata": {},
   "outputs": [
    {
     "data": {
      "text/plain": [
       "genre\n",
       "pop            218\n",
       "dance          182\n",
       "rock           162\n",
       "electronic     147\n",
       "hiphop          80\n",
       "ruspop          64\n",
       "alternative     58\n",
       "rusrap          55\n",
       "jazz            44\n",
       "classical       40\n",
       "Name: genre, dtype: int64"
      ]
     },
     "metadata": {},
     "output_type": "display_data"
    }
   ],
   "source": [
    "# вызов функции для утра понедельника в Петербурге\n",
    "display(genre_weekday(spb_general, 'Monday', '7:00',  '11:00'))"
   ]
  },
  {
   "cell_type": "code",
   "execution_count": 39,
   "metadata": {},
   "outputs": [
    {
     "data": {
      "text/plain": [
       "genre\n",
       "pop            713\n",
       "rock           517\n",
       "dance          495\n",
       "electronic     482\n",
       "hiphop         273\n",
       "world          208\n",
       "ruspop         170\n",
       "alternative    163\n",
       "classical      163\n",
       "rusrap         142\n",
       "Name: genre, dtype: int64"
      ]
     },
     "metadata": {},
     "output_type": "display_data"
    }
   ],
   "source": [
    "# вызов функции для вечера пятницы в Москве\n",
    "display(genre_weekday(moscow_general, 'Friday', '19:00',  '23:00'))"
   ]
  },
  {
   "cell_type": "code",
   "execution_count": 40,
   "metadata": {},
   "outputs": [
    {
     "data": {
      "text/plain": [
       "genre\n",
       "pop            256\n",
       "electronic     216\n",
       "rock           216\n",
       "dance          210\n",
       "hiphop          97\n",
       "alternative     63\n",
       "jazz            61\n",
       "classical       60\n",
       "rusrap          59\n",
       "world           54\n",
       "Name: genre, dtype: int64"
      ]
     },
     "metadata": {},
     "output_type": "display_data"
    }
   ],
   "source": [
    "# вызов функции для вечера пятницы в Петербурге\n",
    "display(genre_weekday(spb_general, 'Friday', '19:00',  '23:00'))"
   ]
  },
  {
   "cell_type": "markdown",
   "metadata": {
    "id": "wrCe4MNX_Zcu"
   },
   "source": [
    "**Выводы**\n",
    "\n",
    "Если сравнить топ-10 жанров в понедельник утром, можно сделать такие выводы:\n",
    "\n",
    "1. В Москве и Петербурге слушают похожую музыку. Единственное отличие — в московский рейтинг вошёл жанр “world”, а в петербургский — джаз и классика.\n",
    "\n",
    "2. В Москве пропущенных значений оказалось так много, что значение `'unknown'` заняло десятое место среди самых популярных жанров. Значит, пропущенные значения занимают существенную долю в данных и угрожают достоверности исследования.\n",
    "\n",
    "Вечер пятницы не меняет эту картину. Некоторые жанры поднимаются немного выше, другие спускаются, но в целом топ-10 остаётся тем же самым.\n",
    "\n",
    "Таким образом, вторая гипотеза подтвердилась лишь частично:\n",
    "* Пользователи слушают похожую музыку в начале недели и в конце.\n",
    "* Разница между Москвой и Петербургом не слишком выражена. В Москве чаще слушают русскую популярную музыку (— это политкорректное название попсы), в Петербурге — джаз.\n",
    "\n",
    "Однако пропуски в данных ставят под сомнение этот результат. В Москве их так много, что рейтинг топ-10 мог бы выглядеть иначе, если бы не утерянные  данные о жанрах."
   ]
  },
  {
   "cell_type": "markdown",
   "metadata": {
    "id": "JolODAqr_Zcu"
   },
   "source": [
    "### Жанровые предпочтения в Москве и Петербурге\n"
   ]
  },
  {
   "cell_type": "markdown",
   "metadata": {},
   "source": [
    "**Гипотеза № 3**:\n",
    "> Петербург — столица рэпа, музыку этого жанра там слушают чаще, чем в Москве.  А Москва — город контрастов, в котором, тем не менее, преобладает поп-музыка."
   ]
  },
  {
   "cell_type": "code",
   "execution_count": 41,
   "metadata": {
    "id": "r19lIPke_Zcu"
   },
   "outputs": [
    {
     "data": {
      "text/plain": [
       "genre\n",
       "pop            5892\n",
       "dance          4435\n",
       "rock           3965\n",
       "electronic     3786\n",
       "hiphop         2096\n",
       "classical      1616\n",
       "world          1432\n",
       "alternative    1379\n",
       "ruspop         1372\n",
       "rusrap         1161\n",
       "Name: genre, dtype: int64"
      ]
     },
     "metadata": {},
     "output_type": "display_data"
    }
   ],
   "source": [
    "# треки каждого жанра в порядке убывания для Москвы\n",
    "moscow_genres = moscow_general.groupby(by='genre')['genre'].count()\n",
    "moscow_genres.sort_values(ascending=False, inplace=True)\n",
    "\n",
    "top_ten_moscow_genres = moscow_genres.head(10)\n",
    "\n",
    "# просмотр первых 10 строк moscow_genres\n",
    "display(top_ten_moscow_genres)"
   ]
  },
  {
   "cell_type": "code",
   "execution_count": 42,
   "metadata": {},
   "outputs": [
    {
     "data": {
      "text/plain": [
       "<matplotlib.axes._subplots.AxesSubplot at 0x7f725dbfebd0>"
      ]
     },
     "execution_count": 42,
     "metadata": {},
     "output_type": "execute_result"
    },
    {
     "data": {
      "image/png": "[encoded data removed]",
      "text/plain": [
       "<Figure size 576x384 with 1 Axes>"
      ]
     },
     "metadata": {},
     "output_type": "display_data"
    }
   ],
   "source": [
    "# первых 10 жанров в порядке убывания популярности для Москвы\n",
    "sns.barplot(y=top_ten_moscow_genres.index, x=top_ten_moscow_genres, color=\"seagreen\")"
   ]
  },
  {
   "cell_type": "code",
   "execution_count": 43,
   "metadata": {
    "id": "gluLIpE7_Zcv"
   },
   "outputs": [
    {
     "data": {
      "text/plain": [
       "genre\n",
       "pop            5892\n",
       "dance          4435\n",
       "rock           3965\n",
       "electronic     3786\n",
       "hiphop         2096\n",
       "classical      1616\n",
       "world          1432\n",
       "alternative    1379\n",
       "ruspop         1372\n",
       "rusrap         1161\n",
       "Name: genre, dtype: int64"
      ]
     },
     "metadata": {},
     "output_type": "display_data"
    }
   ],
   "source": [
    "# треки каждого жанра в порядке убывания для СПб\n",
    "spb_genres = moscow_general.groupby(by='genre')['genre'].count()\n",
    "spb_genres.sort_values(ascending=False, inplace=True)\n",
    "\n",
    "top_ten_spb_genres = spb_genres.head(10)\n",
    "# просмотр первых 10 строк spb_genres\n",
    "display(top_ten_spb_genres)"
   ]
  },
  {
   "cell_type": "code",
   "execution_count": 44,
   "metadata": {},
   "outputs": [
    {
     "data": {
      "text/plain": [
       "<matplotlib.axes._subplots.AxesSubplot at 0x7f725c172c10>"
      ]
     },
     "execution_count": 44,
     "metadata": {},
     "output_type": "execute_result"
    },
    {
     "data": {
      "image/png": "[encoded data removed]",
      "text/plain": [
       "<Figure size 576x384 with 1 Axes>"
      ]
     },
     "metadata": {},
     "output_type": "display_data"
    }
   ],
   "source": [
    "# график первых 10 жанров в порядке убывания популярности для Петербурга\n",
    "sns.barplot(y=top_ten_spb_genres.index, x=top_ten_spb_genres, color=\"seagreen\")"
   ]
  },
  {
   "cell_type": "markdown",
   "metadata": {
    "id": "RY51YJYu_Zcv"
   },
   "source": [
    "**Выводы**"
   ]
  },
  {
   "cell_type": "markdown",
   "metadata": {
    "id": "nVhnJEm__Zcv"
   },
   "source": [
    "Гипотеза частично подтвердилась:\n",
    "\n",
    "> Москва и Петербург предпочитают разные жанры музыки. В Москве чаще слушают поп-музыку, в Петербурге — русский рэп.\n",
    "\n",
    "* Поп-музыка — самый популярный жанр в Москве, как и предполагала гипотеза. Более того, в топ-10 жанров встречается близкий жанр — русская популярная музыка.\n",
    "* Вопреки ожиданиям, русский рэп одинаково популярен в Москве и Петербурге. На 10 строчке нашего хит-парада. \n"
   ]
  },
  {
   "cell_type": "markdown",
   "metadata": {
    "id": "ykKQ0N65_Zcv"
   },
   "source": [
    "## Итоги исследования"
   ]
  },
  {
   "cell_type": "markdown",
   "metadata": {
    "id": "tjUwbHb3_Zcv"
   },
   "source": [
    "> Вы проверили три гипотезы и установили:\n",
    "> \n",
    "> 1. День недели по-разному влияет на активность пользователей в Москве и Петербурге. \n",
    "> \n",
    "> Первая гипотеза полностью подтвердилась.\n",
    "> \n",
    "> 2. Музыкальные предпочтения не сильно меняются в течение недели — будь то Москва или Петербург. Небольшие различия заметны в начале недели, по понедельникам:\n",
    "> * в Москве слушают музыку жанра “world”,\n",
    "> * в Петербурге — джаз и классику.\n",
    "> \n",
    "> Таким образом, вторая гипотеза подтвердилась лишь отчасти. Этот результат мог оказаться иным, если бы не пропуски в данных.\n",
    "> \n",
    "> 3. Во вкусах пользователей Москвы и Петербурга больше общего чем различий. Вопреки ожиданиям, предпочтения жанров в Петербурге напоминают московские.\n",
    "> \n",
    "> Третья гипотеза не подтвердилась. Если различия в предпочтениях и существуют, на основной массе пользователей они незаметны.\n",
    "> \n",
    "> **На практике исследования содержат проверки статистических гипотез.**\n",
    "> Из данных одного сервиса не всегда можно сделать вывод о всех жителях города.\n",
    "> Проверки статистических гипотез покажут, насколько они достоверны, исходя из имеющихся данных. \n",
    "> С методами проверок гипотез вы ещё познакомитесь в следующих темах."
   ]
  },
  {
   "cell_type": "markdown",
   "metadata": {},
   "source": [
    "## P.S.\n"
   ]
  },
  {
   "cell_type": "markdown",
   "metadata": {},
   "source": [
    "### Сколько пользователь слушет треков в день"
   ]
  },
  {
   "cell_type": "code",
   "execution_count": 45,
   "metadata": {},
   "outputs": [],
   "source": [
    "def how_users_listen(df_by_city):\n",
    "    days_items = ['Monday', 'Wednesday', 'Friday']\n",
    "#     songs_per_day = pd.Series(dtype=int)\n",
    "#     КОСТЫЛЬ с list\n",
    "    songs_per_day = []\n",
    "\n",
    "    for day in days_items:\n",
    "        df_daly = df_by_city.loc[df_by_city['day'] == day]\n",
    "        df_daly = df_daly.groupby(by='user_id')['track_title'].count()\n",
    "\n",
    "#         pd.concat([songs_per_day, df_daly], ignore_index=True)\n",
    "#         songs_per_day.append(df_daly, ignore_index=True)\n",
    "#         append и concat возвращал пустую Series (\n",
    "#         КОСТЫЛЬ с list\n",
    "\n",
    "        df_daly = list(df_daly)\n",
    "        songs_per_day.extend(df_daly)\n",
    "        \n",
    "    songs_per_day = pd.Series(songs_per_day, dtype=int)\n",
    "    \n",
    "    return songs_per_day"
   ]
  },
  {
   "cell_type": "code",
   "execution_count": 46,
   "metadata": {},
   "outputs": [
    {
     "name": "stdout",
     "output_type": "stream",
     "text": [
      "Прослушиваний в день на пользователя Мск:\n",
      "Медиана: 1\n",
      "Мода: 1\n",
      "count    32437.000000\n",
      "mean         1.317662\n",
      "std          1.105553\n",
      "min          1.000000\n",
      "25%          1.000000\n",
      "50%          1.000000\n",
      "75%          1.000000\n",
      "max         57.000000\n",
      "dtype: float64\n"
     ]
    },
    {
     "data": {
      "image/png": "[encoded data removed]",
      "text/plain": [
       "<Figure size 576x384 with 1 Axes>"
      ]
     },
     "metadata": {},
     "output_type": "display_data"
    }
   ],
   "source": [
    "# print(sns.__version__)\n",
    "# histplot неизвестный аргумент seaborn 0.9.0 в тренажере\n",
    "# AttributeError: module 'seaborn' has no attribute 'histplot'\n",
    "\n",
    "to_plot = how_users_listen(msk_df)\n",
    "plt.hist(to_plot, rwidth=0.1250)\n",
    "\n",
    "print('Прослушиваний в день на пользователя Мск:')\n",
    "print('Медиана:', median(to_plot))\n",
    "print('Мода:', mode(to_plot))\n",
    "print(to_plot.describe())"
   ]
  },
  {
   "cell_type": "code",
   "execution_count": 47,
   "metadata": {},
   "outputs": [
    {
     "name": "stdout",
     "output_type": "stream",
     "text": [
      "Прослушиваний в день на пользователя СПб:\n",
      "Медиана: 1\n",
      "Мода: 1\n",
      "count    13971.000000\n",
      "mean         1.325030\n",
      "std          1.024644\n",
      "min          1.000000\n",
      "25%          1.000000\n",
      "50%          1.000000\n",
      "75%          1.000000\n",
      "max         33.000000\n",
      "dtype: float64\n"
     ]
    },
    {
     "data": {
      "image/png": "[encoded data removed]",
      "text/plain": [
       "<Figure size 576x384 with 1 Axes>"
      ]
     },
     "metadata": {},
     "output_type": "display_data"
    }
   ],
   "source": [
    "# print(sns.__version__)\n",
    "# histplot неизвестный аргумент seaborn 0.9.0 в тренажере\n",
    "# AttributeError: module 'seaborn' has no attribute 'histplot'\n",
    "\n",
    "to_plot = how_users_listen(spb_df)\n",
    "plt.hist(to_plot, rwidth=0.1250)\n",
    "\n",
    "print('Прослушиваний в день на пользователя СПб:')\n",
    "print('Медиана:', median(to_plot))\n",
    "print('Мода:', mode(to_plot))\n",
    "print(to_plot.describe())"
   ]
  },
  {
   "cell_type": "markdown",
   "metadata": {},
   "source": [
    "В Москве за день максимально слушали 57 треков, в Петербурге 33.\n",
    "\n",
    "При этом мода 1.\n",
    "\n",
    "* То есть один трек в день!\n",
    "* Помнишь ещё — в наборе данных только три дня в неделе!\n",
    "\n",
    "Похоже, у нас проблемы. Запахло фальсификацией данных.\n",
    "\n",
    "Точно говорю, ну не может в Петербурге попса быть на первом месте…\n",
    "\n",
    "**THE END**\n",
    "To Be Continued..."
   ]
  },
  {
   "cell_type": "code",
   "execution_count": null,
   "metadata": {},
   "outputs": [],
   "source": []
  },
  {
   "cell_type": "markdown",
   "metadata": {},
   "source": [
    "<div class=\"alert alert-success\">\n",
    "<font size=\"5\", color = \"green\"><b>😂😂😂😂😂 Это от радости, что есть такие студенты :) </b></font>"
   ]
  },
  {
   "cell_type": "code",
   "execution_count": 48,
   "metadata": {},
   "outputs": [
    {
     "data": {
      "text/plain": [
       "count    13971.000000\n",
       "mean         1.325030\n",
       "std          1.024644\n",
       "min          1.000000\n",
       "25%          1.000000\n",
       "50%          1.000000\n",
       "75%          1.000000\n",
       "max         33.000000\n",
       "Name: genre, dtype: float64"
      ]
     },
     "execution_count": 48,
     "metadata": {},
     "output_type": "execute_result"
    }
   ],
   "source": [
    "# «без костылей» 😏, воспользовался твоими датасетами :)\n",
    "(\n",
    "    (spb_df\n",
    "         .groupby(['day', 'city', 'user_id'])\n",
    "         .agg({'genre':'count'})\n",
    "         .reset_index()\n",
    "         )\n",
    "    ['genre'].describe()\n",
    ")"
   ]
  },
  {
   "cell_type": "code",
   "execution_count": 49,
   "metadata": {},
   "outputs": [
    {
     "data": {
      "text/plain": [
       "1     26614\n",
       "2      3889\n",
       "3      1075\n",
       "4       379\n",
       "5       192\n",
       "6       100\n",
       "7        50\n",
       "8        39\n",
       "9        25\n",
       "11       15\n",
       "10       13\n",
       "16        8\n",
       "12        7\n",
       "15        5\n",
       "14        5\n",
       "17        3\n",
       "13        2\n",
       "18        2\n",
       "20        2\n",
       "21        2\n",
       "32        1\n",
       "36        1\n",
       "34        1\n",
       "33        1\n",
       "22        1\n",
       "30        1\n",
       "28        1\n",
       "23        1\n",
       "19        1\n",
       "57        1\n",
       "Name: genre, dtype: int64"
      ]
     },
     "execution_count": 49,
     "metadata": {},
     "output_type": "execute_result"
    }
   ],
   "source": [
    "# количество песен, прослушанных за один день одним Пользователем, \n",
    "# период выборки 3 дня, охват выборки 2 города\n",
    "# охват Пользователей для выборки — «через мелкое сито минимального среднего чека» 😁\n",
    "\n",
    "(\n",
    "    (msk_df\n",
    "         .groupby(['day', 'city', 'user_id'])\n",
    "         .agg({'genre':'count'})\n",
    "         .reset_index()\n",
    "         .sort_values(by='genre'))\n",
    "    ['genre'].value_counts()\n",
    ")\n"
   ]
  },
  {
   "cell_type": "code",
   "execution_count": 50,
   "metadata": {},
   "outputs": [
    {
     "data": {
      "text/html": [
       "<div>\n",
       "<style scoped>\n",
       "    .dataframe tbody tr th:only-of-type {\n",
       "        vertical-align: middle;\n",
       "    }\n",
       "\n",
       "    .dataframe tbody tr th {\n",
       "        vertical-align: top;\n",
       "    }\n",
       "\n",
       "    .dataframe thead th {\n",
       "        text-align: right;\n",
       "    }\n",
       "</style>\n",
       "<table border=\"1\" class=\"dataframe\">\n",
       "  <thead>\n",
       "    <tr style=\"text-align: right;\">\n",
       "      <th></th>\n",
       "      <th></th>\n",
       "      <th>amount_user_listen_more_10_track</th>\n",
       "    </tr>\n",
       "    <tr>\n",
       "      <th>city</th>\n",
       "      <th>day</th>\n",
       "      <th></th>\n",
       "    </tr>\n",
       "  </thead>\n",
       "  <tbody>\n",
       "    <tr>\n",
       "      <th rowspan=\"3\" valign=\"top\">Moscow</th>\n",
       "      <th>Friday</th>\n",
       "      <td>24</td>\n",
       "    </tr>\n",
       "    <tr>\n",
       "      <th>Monday</th>\n",
       "      <td>20</td>\n",
       "    </tr>\n",
       "    <tr>\n",
       "      <th>Wednesday</th>\n",
       "      <td>17</td>\n",
       "    </tr>\n",
       "    <tr>\n",
       "      <th rowspan=\"3\" valign=\"top\">Saint-Petersburg</th>\n",
       "      <th>Friday</th>\n",
       "      <td>3</td>\n",
       "    </tr>\n",
       "    <tr>\n",
       "      <th>Monday</th>\n",
       "      <td>8</td>\n",
       "    </tr>\n",
       "    <tr>\n",
       "      <th>Wednesday</th>\n",
       "      <td>13</td>\n",
       "    </tr>\n",
       "  </tbody>\n",
       "</table>\n",
       "</div>"
      ],
      "text/plain": [
       "                            amount_user_listen_more_10_track\n",
       "city             day                                        \n",
       "Moscow           Friday                                   24\n",
       "                 Monday                                   20\n",
       "                 Wednesday                                17\n",
       "Saint-Petersburg Friday                                    3\n",
       "                 Monday                                    8\n",
       "                 Wednesday                                13"
      ]
     },
     "execution_count": 50,
     "metadata": {},
     "output_type": "execute_result"
    }
   ],
   "source": [
    "# Для более близкого знакомства c Пользователями,\n",
    "# сколько Пользователей прослушало больше 10 треков за день в каждом городе 😁 \n",
    "\n",
    "(\n",
    "    (df\n",
    "         .groupby(['day', 'city', 'user_id'])\n",
    "         .agg({'genre':'count'})\n",
    "         .reset_index()\n",
    "         .sort_values(by='genre')\n",
    "         .query('genre > 10')\n",
    "            )\n",
    "                .groupby(['city', 'day'])\n",
    "                .agg({'user_id': 'count'})\n",
    "                .rename(columns={'user_id': 'amount_user_listen_more_10_track'})\n",
    "    \n",
    ")"
   ]
  },
  {
   "cell_type": "markdown",
   "metadata": {},
   "source": [
    "<div class=\"alert alert-success\">\n",
    "<font size=\"5\", color = \"green\"><b>✔️ Комментарий ревьюера</b></font>\n",
    "    <br /> \n",
    "    <font size=\"4\", color = \"black\">\n",
    "<br />    \n",
    "<b>Ты ПЕРЕвыполнил все пункты работы, молодец!</b> \n",
    "        \n",
    "Критических ❌ комментариев нет 😀, их не может просто существовать для тебя на первом проекте\n",
    "        \n",
    "Если будут вопросы про мои комментарии - задавай, если какой-то формат взаимодействия не устраивает или есть какие-то другие пожелания - пиши :)\n",
    "        \n",
    "<p> <font size=\"4\", color = \"black\">\n",
    "<b>Отправляю тебе проект с единственной целью — уточнить не осталось ли каких-либо вопросов по <s>проекту</s> взаимодействию, если есть задавай в своих комментариях 😉</b>\n",
    "\n",
    "<div class=\"alert alert\">\n",
    "    <font size=\"5\", color = \"green\"><b>Жду твой проект и твои комментарии 🤝</b></font><br />"
   ]
  }
 ],
 "metadata": {
  "ExecuteTimeLog": [
   {
    "duration": 645,
    "start_time": "2022-02-07T08:26:27.199Z"
   },
   {
    "duration": 343,
    "start_time": "2022-02-07T08:27:26.040Z"
   },
   {
    "duration": 264,
    "start_time": "2022-02-07T08:27:48.258Z"
   },
   {
    "duration": 147,
    "start_time": "2022-02-07T08:28:11.577Z"
   },
   {
    "duration": 18,
    "start_time": "2022-02-07T08:28:53.803Z"
   },
   {
    "duration": 25,
    "start_time": "2022-02-07T08:29:16.450Z"
   },
   {
    "duration": 26,
    "start_time": "2022-02-07T08:29:28.076Z"
   },
   {
    "duration": 24,
    "start_time": "2022-02-07T08:31:35.032Z"
   },
   {
    "duration": 338,
    "start_time": "2022-02-07T08:48:52.801Z"
   },
   {
    "duration": 4,
    "start_time": "2022-02-07T08:49:01.892Z"
   },
   {
    "duration": 47,
    "start_time": "2022-02-07T08:54:27.478Z"
   },
   {
    "duration": 4,
    "start_time": "2022-02-07T08:55:13.126Z"
   },
   {
    "duration": 43,
    "start_time": "2022-02-07T08:55:34.501Z"
   },
   {
    "duration": 4,
    "start_time": "2022-02-07T08:55:37.664Z"
   },
   {
    "duration": 17,
    "start_time": "2022-02-07T08:57:36.098Z"
   },
   {
    "duration": 4,
    "start_time": "2022-02-07T08:57:39.782Z"
   },
   {
    "duration": 6,
    "start_time": "2022-02-07T08:58:14.132Z"
   },
   {
    "duration": 806,
    "start_time": "2022-02-07T09:04:09.760Z"
   },
   {
    "duration": 637,
    "start_time": "2022-02-07T09:04:58.175Z"
   },
   {
    "duration": 663,
    "start_time": "2022-02-07T09:05:47.701Z"
   },
   {
    "duration": 349,
    "start_time": "2022-02-07T17:52:25.201Z"
   },
   {
    "duration": 551,
    "start_time": "2022-02-07T17:52:47.484Z"
   },
   {
    "duration": 116,
    "start_time": "2022-02-07T17:52:48.037Z"
   },
   {
    "duration": 16,
    "start_time": "2022-02-07T17:52:48.155Z"
   },
   {
    "duration": 23,
    "start_time": "2022-02-07T17:52:48.173Z"
   },
   {
    "duration": 4,
    "start_time": "2022-02-07T17:52:48.197Z"
   },
   {
    "duration": 28,
    "start_time": "2022-02-07T17:52:48.203Z"
   },
   {
    "duration": 6,
    "start_time": "2022-02-07T17:52:48.232Z"
   },
   {
    "duration": 9,
    "start_time": "2022-02-07T17:52:48.240Z"
   },
   {
    "duration": 20,
    "start_time": "2022-02-07T17:52:48.251Z"
   },
   {
    "duration": 12,
    "start_time": "2022-02-07T17:52:48.273Z"
   },
   {
    "duration": 20,
    "start_time": "2022-02-07T17:52:48.286Z"
   },
   {
    "duration": 49,
    "start_time": "2022-02-07T17:52:48.326Z"
   },
   {
    "duration": 65,
    "start_time": "2022-02-07T17:52:48.377Z"
   },
   {
    "duration": 46,
    "start_time": "2022-02-07T17:52:48.444Z"
   },
   {
    "duration": 47,
    "start_time": "2022-02-07T17:52:48.492Z"
   },
   {
    "duration": 35,
    "start_time": "2022-02-07T17:52:48.540Z"
   },
   {
    "duration": 3,
    "start_time": "2022-02-07T17:52:48.577Z"
   },
   {
    "duration": 5,
    "start_time": "2022-02-07T17:52:48.581Z"
   },
   {
    "duration": 39,
    "start_time": "2022-02-07T17:52:48.588Z"
   },
   {
    "duration": 37,
    "start_time": "2022-02-07T17:52:48.629Z"
   },
   {
    "duration": 35,
    "start_time": "2022-02-07T17:52:48.667Z"
   },
   {
    "duration": 3,
    "start_time": "2022-02-07T17:52:48.703Z"
   },
   {
    "duration": 2,
    "start_time": "2022-02-07T17:52:48.728Z"
   },
   {
    "duration": 5,
    "start_time": "2022-02-07T17:52:48.733Z"
   },
   {
    "duration": 4,
    "start_time": "2022-02-07T17:52:48.740Z"
   },
   {
    "duration": 5,
    "start_time": "2022-02-07T17:52:48.745Z"
   },
   {
    "duration": 6,
    "start_time": "2022-02-07T17:52:48.751Z"
   },
   {
    "duration": 4,
    "start_time": "2022-02-07T17:52:48.758Z"
   },
   {
    "duration": 4,
    "start_time": "2022-02-07T17:52:48.764Z"
   },
   {
    "duration": 4,
    "start_time": "2022-02-07T17:52:48.769Z"
   },
   {
    "duration": 4,
    "start_time": "2022-02-07T17:52:48.774Z"
   },
   {
    "duration": 4,
    "start_time": "2022-02-07T17:52:48.780Z"
   },
   {
    "duration": 5,
    "start_time": "2022-02-07T17:52:48.785Z"
   },
   {
    "duration": 4,
    "start_time": "2022-02-07T17:52:48.791Z"
   },
   {
    "duration": 6,
    "start_time": "2022-02-07T17:52:48.797Z"
   },
   {
    "duration": 23,
    "start_time": "2022-02-07T17:52:48.804Z"
   },
   {
    "duration": 6,
    "start_time": "2022-02-07T17:52:48.829Z"
   },
   {
    "duration": 5,
    "start_time": "2022-02-07T17:52:48.836Z"
   },
   {
    "duration": 4,
    "start_time": "2022-02-07T17:52:48.842Z"
   },
   {
    "duration": 8,
    "start_time": "2022-02-07T17:52:48.847Z"
   },
   {
    "duration": 5,
    "start_time": "2022-02-07T17:52:48.856Z"
   },
   {
    "duration": 4,
    "start_time": "2022-02-07T17:52:48.863Z"
   },
   {
    "duration": 386,
    "start_time": "2022-02-07T18:23:15.052Z"
   },
   {
    "duration": 2,
    "start_time": "2022-02-07T18:23:22.910Z"
   },
   {
    "duration": 131,
    "start_time": "2022-02-07T18:23:22.915Z"
   },
   {
    "duration": 9,
    "start_time": "2022-02-07T18:23:23.048Z"
   },
   {
    "duration": 23,
    "start_time": "2022-02-07T18:23:23.058Z"
   },
   {
    "duration": 6,
    "start_time": "2022-02-07T18:23:23.082Z"
   },
   {
    "duration": 8,
    "start_time": "2022-02-07T18:23:23.089Z"
   },
   {
    "duration": 30,
    "start_time": "2022-02-07T18:23:23.099Z"
   },
   {
    "duration": 11,
    "start_time": "2022-02-07T18:23:23.130Z"
   },
   {
    "duration": 20,
    "start_time": "2022-02-07T18:23:23.143Z"
   },
   {
    "duration": 12,
    "start_time": "2022-02-07T18:23:23.165Z"
   },
   {
    "duration": 23,
    "start_time": "2022-02-07T18:23:23.178Z"
   },
   {
    "duration": 71,
    "start_time": "2022-02-07T18:23:23.202Z"
   },
   {
    "duration": 316,
    "start_time": "2022-02-07T18:23:23.275Z"
   },
   {
    "duration": -993,
    "start_time": "2022-02-07T18:23:24.586Z"
   },
   {
    "duration": -997,
    "start_time": "2022-02-07T18:23:24.591Z"
   },
   {
    "duration": -1001,
    "start_time": "2022-02-07T18:23:24.596Z"
   },
   {
    "duration": -1005,
    "start_time": "2022-02-07T18:23:24.600Z"
   },
   {
    "duration": -1009,
    "start_time": "2022-02-07T18:23:24.605Z"
   },
   {
    "duration": -1013,
    "start_time": "2022-02-07T18:23:24.610Z"
   },
   {
    "duration": -1017,
    "start_time": "2022-02-07T18:23:24.615Z"
   },
   {
    "duration": -1020,
    "start_time": "2022-02-07T18:23:24.619Z"
   },
   {
    "duration": -1024,
    "start_time": "2022-02-07T18:23:24.624Z"
   },
   {
    "duration": -1028,
    "start_time": "2022-02-07T18:23:24.629Z"
   },
   {
    "duration": -1032,
    "start_time": "2022-02-07T18:23:24.634Z"
   },
   {
    "duration": -1036,
    "start_time": "2022-02-07T18:23:24.638Z"
   },
   {
    "duration": -1039,
    "start_time": "2022-02-07T18:23:24.643Z"
   },
   {
    "duration": -1043,
    "start_time": "2022-02-07T18:23:24.647Z"
   },
   {
    "duration": -1047,
    "start_time": "2022-02-07T18:23:24.652Z"
   },
   {
    "duration": -1051,
    "start_time": "2022-02-07T18:23:24.657Z"
   },
   {
    "duration": -1055,
    "start_time": "2022-02-07T18:23:24.662Z"
   },
   {
    "duration": -1059,
    "start_time": "2022-02-07T18:23:24.667Z"
   },
   {
    "duration": -1063,
    "start_time": "2022-02-07T18:23:24.672Z"
   },
   {
    "duration": -1066,
    "start_time": "2022-02-07T18:23:24.676Z"
   },
   {
    "duration": -1090,
    "start_time": "2022-02-07T18:23:24.701Z"
   },
   {
    "duration": -1095,
    "start_time": "2022-02-07T18:23:24.706Z"
   },
   {
    "duration": -1099,
    "start_time": "2022-02-07T18:23:24.711Z"
   },
   {
    "duration": -1103,
    "start_time": "2022-02-07T18:23:24.716Z"
   },
   {
    "duration": -1106,
    "start_time": "2022-02-07T18:23:24.720Z"
   },
   {
    "duration": -1110,
    "start_time": "2022-02-07T18:23:24.725Z"
   },
   {
    "duration": -1116,
    "start_time": "2022-02-07T18:23:24.731Z"
   },
   {
    "duration": -1119,
    "start_time": "2022-02-07T18:23:24.735Z"
   },
   {
    "duration": -1123,
    "start_time": "2022-02-07T18:23:24.740Z"
   },
   {
    "duration": 3,
    "start_time": "2022-02-07T18:42:17.530Z"
   },
   {
    "duration": 321,
    "start_time": "2022-02-07T18:43:30.347Z"
   },
   {
    "duration": 609,
    "start_time": "2022-02-07T18:44:20.701Z"
   },
   {
    "duration": 222,
    "start_time": "2022-02-07T18:44:21.312Z"
   },
   {
    "duration": 14,
    "start_time": "2022-02-07T18:44:21.538Z"
   },
   {
    "duration": 22,
    "start_time": "2022-02-07T18:44:21.553Z"
   },
   {
    "duration": 4,
    "start_time": "2022-02-07T18:44:21.577Z"
   },
   {
    "duration": 12,
    "start_time": "2022-02-07T18:44:21.582Z"
   },
   {
    "duration": 5,
    "start_time": "2022-02-07T18:44:21.596Z"
   },
   {
    "duration": 30,
    "start_time": "2022-02-07T18:44:21.602Z"
   },
   {
    "duration": 24,
    "start_time": "2022-02-07T18:44:21.634Z"
   },
   {
    "duration": 12,
    "start_time": "2022-02-07T18:44:21.660Z"
   },
   {
    "duration": 21,
    "start_time": "2022-02-07T18:44:21.674Z"
   },
   {
    "duration": 73,
    "start_time": "2022-02-07T18:44:21.697Z"
   },
   {
    "duration": 348,
    "start_time": "2022-02-07T18:44:21.772Z"
   },
   {
    "duration": -925,
    "start_time": "2022-02-07T18:44:23.047Z"
   },
   {
    "duration": -932,
    "start_time": "2022-02-07T18:44:23.056Z"
   },
   {
    "duration": -937,
    "start_time": "2022-02-07T18:44:23.062Z"
   },
   {
    "duration": -944,
    "start_time": "2022-02-07T18:44:23.070Z"
   },
   {
    "duration": -955,
    "start_time": "2022-02-07T18:44:23.083Z"
   },
   {
    "duration": -960,
    "start_time": "2022-02-07T18:44:23.089Z"
   },
   {
    "duration": -963,
    "start_time": "2022-02-07T18:44:23.093Z"
   },
   {
    "duration": -966,
    "start_time": "2022-02-07T18:44:23.098Z"
   },
   {
    "duration": -969,
    "start_time": "2022-02-07T18:44:23.102Z"
   },
   {
    "duration": -974,
    "start_time": "2022-02-07T18:44:23.108Z"
   },
   {
    "duration": -977,
    "start_time": "2022-02-07T18:44:23.112Z"
   },
   {
    "duration": -980,
    "start_time": "2022-02-07T18:44:23.117Z"
   },
   {
    "duration": -986,
    "start_time": "2022-02-07T18:44:23.124Z"
   },
   {
    "duration": -992,
    "start_time": "2022-02-07T18:44:23.131Z"
   },
   {
    "duration": -996,
    "start_time": "2022-02-07T18:44:23.136Z"
   },
   {
    "duration": -999,
    "start_time": "2022-02-07T18:44:23.141Z"
   },
   {
    "duration": -1002,
    "start_time": "2022-02-07T18:44:23.145Z"
   },
   {
    "duration": -1006,
    "start_time": "2022-02-07T18:44:23.150Z"
   },
   {
    "duration": -1010,
    "start_time": "2022-02-07T18:44:23.155Z"
   },
   {
    "duration": -1012,
    "start_time": "2022-02-07T18:44:23.159Z"
   },
   {
    "duration": -1016,
    "start_time": "2022-02-07T18:44:23.164Z"
   },
   {
    "duration": -1019,
    "start_time": "2022-02-07T18:44:23.168Z"
   },
   {
    "duration": -1023,
    "start_time": "2022-02-07T18:44:23.173Z"
   },
   {
    "duration": -1026,
    "start_time": "2022-02-07T18:44:23.178Z"
   },
   {
    "duration": -1040,
    "start_time": "2022-02-07T18:44:23.193Z"
   },
   {
    "duration": -1044,
    "start_time": "2022-02-07T18:44:23.198Z"
   },
   {
    "duration": -1047,
    "start_time": "2022-02-07T18:44:23.203Z"
   },
   {
    "duration": -1052,
    "start_time": "2022-02-07T18:44:23.209Z"
   },
   {
    "duration": -1055,
    "start_time": "2022-02-07T18:44:23.213Z"
   },
   {
    "duration": 54,
    "start_time": "2022-02-07T18:49:09.026Z"
   },
   {
    "duration": 55,
    "start_time": "2022-02-07T18:49:17.572Z"
   },
   {
    "duration": 45,
    "start_time": "2022-02-07T18:49:17.628Z"
   },
   {
    "duration": 56,
    "start_time": "2022-02-07T18:49:17.675Z"
   },
   {
    "duration": 36,
    "start_time": "2022-02-07T18:49:17.733Z"
   },
   {
    "duration": 4,
    "start_time": "2022-02-07T18:49:17.770Z"
   },
   {
    "duration": 4,
    "start_time": "2022-02-07T18:49:17.776Z"
   },
   {
    "duration": 20,
    "start_time": "2022-02-07T18:49:17.782Z"
   },
   {
    "duration": 57,
    "start_time": "2022-02-07T18:49:17.805Z"
   },
   {
    "duration": 34,
    "start_time": "2022-02-07T18:49:17.864Z"
   },
   {
    "duration": 3,
    "start_time": "2022-02-07T18:49:17.900Z"
   },
   {
    "duration": 23,
    "start_time": "2022-02-07T18:49:17.904Z"
   },
   {
    "duration": 3,
    "start_time": "2022-02-07T18:49:17.928Z"
   },
   {
    "duration": 5,
    "start_time": "2022-02-07T18:49:17.932Z"
   },
   {
    "duration": 6,
    "start_time": "2022-02-07T18:49:17.939Z"
   },
   {
    "duration": 14,
    "start_time": "2022-02-07T18:49:17.946Z"
   },
   {
    "duration": 5,
    "start_time": "2022-02-07T18:49:17.961Z"
   },
   {
    "duration": 5,
    "start_time": "2022-02-07T18:49:17.967Z"
   },
   {
    "duration": 6,
    "start_time": "2022-02-07T18:49:17.973Z"
   },
   {
    "duration": 5,
    "start_time": "2022-02-07T18:49:17.980Z"
   },
   {
    "duration": 6,
    "start_time": "2022-02-07T18:49:17.986Z"
   },
   {
    "duration": 5,
    "start_time": "2022-02-07T18:49:17.993Z"
   },
   {
    "duration": 4,
    "start_time": "2022-02-07T18:49:18.000Z"
   },
   {
    "duration": 7,
    "start_time": "2022-02-07T18:49:18.007Z"
   },
   {
    "duration": 3,
    "start_time": "2022-02-07T18:49:18.016Z"
   },
   {
    "duration": 6,
    "start_time": "2022-02-07T18:49:18.021Z"
   },
   {
    "duration": 4,
    "start_time": "2022-02-07T18:49:18.028Z"
   },
   {
    "duration": 8,
    "start_time": "2022-02-07T18:49:18.033Z"
   },
   {
    "duration": 4,
    "start_time": "2022-02-07T18:49:18.042Z"
   },
   {
    "duration": 5,
    "start_time": "2022-02-07T18:49:18.048Z"
   },
   {
    "duration": 4,
    "start_time": "2022-02-07T18:49:18.054Z"
   },
   {
    "duration": 15,
    "start_time": "2022-02-07T18:50:53.001Z"
   },
   {
    "duration": 11,
    "start_time": "2022-02-07T18:51:14.287Z"
   },
   {
    "duration": 100,
    "start_time": "2022-02-07T18:51:42.889Z"
   },
   {
    "duration": 102,
    "start_time": "2022-02-07T18:51:59.608Z"
   },
   {
    "duration": 17,
    "start_time": "2022-02-07T18:52:16.600Z"
   },
   {
    "duration": 20,
    "start_time": "2022-02-07T18:52:45.539Z"
   },
   {
    "duration": 22,
    "start_time": "2022-02-07T18:52:57.044Z"
   },
   {
    "duration": 358,
    "start_time": "2022-02-07T18:53:11.575Z"
   },
   {
    "duration": 116,
    "start_time": "2022-02-07T18:53:18.579Z"
   },
   {
    "duration": 22,
    "start_time": "2022-02-07T18:53:24.671Z"
   },
   {
    "duration": 17,
    "start_time": "2022-02-07T18:53:57.322Z"
   },
   {
    "duration": 3,
    "start_time": "2022-02-07T18:54:13.531Z"
   },
   {
    "duration": 132,
    "start_time": "2022-02-07T18:54:13.537Z"
   },
   {
    "duration": 9,
    "start_time": "2022-02-07T18:54:13.670Z"
   },
   {
    "duration": 24,
    "start_time": "2022-02-07T18:54:13.681Z"
   },
   {
    "duration": 20,
    "start_time": "2022-02-07T18:54:13.707Z"
   },
   {
    "duration": 9,
    "start_time": "2022-02-07T18:54:13.728Z"
   },
   {
    "duration": 3,
    "start_time": "2022-02-07T18:54:13.738Z"
   },
   {
    "duration": 14,
    "start_time": "2022-02-07T18:54:13.742Z"
   },
   {
    "duration": 20,
    "start_time": "2022-02-07T18:54:13.758Z"
   },
   {
    "duration": 12,
    "start_time": "2022-02-07T18:54:13.780Z"
   },
   {
    "duration": 44,
    "start_time": "2022-02-07T18:54:13.793Z"
   },
   {
    "duration": 52,
    "start_time": "2022-02-07T18:54:13.838Z"
   },
   {
    "duration": 69,
    "start_time": "2022-02-07T18:54:13.891Z"
   },
   {
    "duration": 10,
    "start_time": "2022-02-07T18:54:13.961Z"
   },
   {
    "duration": 56,
    "start_time": "2022-02-07T18:54:13.972Z"
   },
   {
    "duration": 37,
    "start_time": "2022-02-07T18:54:14.029Z"
   },
   {
    "duration": 36,
    "start_time": "2022-02-07T18:54:14.068Z"
   },
   {
    "duration": 3,
    "start_time": "2022-02-07T18:54:14.105Z"
   },
   {
    "duration": 19,
    "start_time": "2022-02-07T18:54:14.110Z"
   },
   {
    "duration": 22,
    "start_time": "2022-02-07T18:54:14.130Z"
   },
   {
    "duration": 38,
    "start_time": "2022-02-07T18:54:14.154Z"
   },
   {
    "duration": 51,
    "start_time": "2022-02-07T18:54:14.193Z"
   },
   {
    "duration": 2,
    "start_time": "2022-02-07T18:54:14.246Z"
   },
   {
    "duration": 2,
    "start_time": "2022-02-07T18:54:14.251Z"
   },
   {
    "duration": 4,
    "start_time": "2022-02-07T18:54:14.255Z"
   },
   {
    "duration": 7,
    "start_time": "2022-02-07T18:54:14.260Z"
   },
   {
    "duration": 5,
    "start_time": "2022-02-07T18:54:14.268Z"
   },
   {
    "duration": 4,
    "start_time": "2022-02-07T18:54:14.274Z"
   },
   {
    "duration": 5,
    "start_time": "2022-02-07T18:54:14.280Z"
   },
   {
    "duration": 4,
    "start_time": "2022-02-07T18:54:14.287Z"
   },
   {
    "duration": 12,
    "start_time": "2022-02-07T18:54:14.292Z"
   },
   {
    "duration": 5,
    "start_time": "2022-02-07T18:54:14.306Z"
   },
   {
    "duration": 16,
    "start_time": "2022-02-07T18:54:14.312Z"
   },
   {
    "duration": 5,
    "start_time": "2022-02-07T18:54:14.329Z"
   },
   {
    "duration": 7,
    "start_time": "2022-02-07T18:54:14.335Z"
   },
   {
    "duration": 8,
    "start_time": "2022-02-07T18:54:14.343Z"
   },
   {
    "duration": 6,
    "start_time": "2022-02-07T18:54:14.352Z"
   },
   {
    "duration": 6,
    "start_time": "2022-02-07T18:54:14.359Z"
   },
   {
    "duration": 5,
    "start_time": "2022-02-07T18:54:14.366Z"
   },
   {
    "duration": 5,
    "start_time": "2022-02-07T18:54:14.372Z"
   },
   {
    "duration": 4,
    "start_time": "2022-02-07T18:54:14.378Z"
   },
   {
    "duration": 4,
    "start_time": "2022-02-07T18:54:14.383Z"
   },
   {
    "duration": 3,
    "start_time": "2022-02-07T18:54:14.389Z"
   },
   {
    "duration": 50,
    "start_time": "2022-02-07T19:04:27.260Z"
   },
   {
    "duration": 55,
    "start_time": "2022-02-07T19:04:30.544Z"
   },
   {
    "duration": 52,
    "start_time": "2022-02-07T19:04:39.352Z"
   },
   {
    "duration": 3,
    "start_time": "2022-02-07T19:18:38.605Z"
   },
   {
    "duration": 10,
    "start_time": "2022-02-07T19:18:51.091Z"
   },
   {
    "duration": 8,
    "start_time": "2022-02-07T19:20:14.384Z"
   },
   {
    "duration": 9,
    "start_time": "2022-02-07T19:20:18.808Z"
   },
   {
    "duration": 4,
    "start_time": "2022-02-07T19:26:54.508Z"
   },
   {
    "duration": 2,
    "start_time": "2022-02-07T19:50:07.068Z"
   },
   {
    "duration": 6,
    "start_time": "2022-02-07T19:51:59.878Z"
   },
   {
    "duration": 22,
    "start_time": "2022-02-07T19:54:38.526Z"
   },
   {
    "duration": 5,
    "start_time": "2022-02-07T19:59:12.813Z"
   },
   {
    "duration": 130,
    "start_time": "2022-02-07T20:06:22.092Z"
   },
   {
    "duration": 31,
    "start_time": "2022-02-07T20:06:32.908Z"
   },
   {
    "duration": 34,
    "start_time": "2022-02-07T20:06:46.083Z"
   },
   {
    "duration": 32,
    "start_time": "2022-02-07T20:12:33.315Z"
   },
   {
    "duration": 32,
    "start_time": "2022-02-07T20:12:48.494Z"
   },
   {
    "duration": 32,
    "start_time": "2022-02-07T20:13:33.450Z"
   },
   {
    "duration": 29,
    "start_time": "2022-02-07T20:15:22.100Z"
   },
   {
    "duration": 20,
    "start_time": "2022-02-07T20:15:59.058Z"
   },
   {
    "duration": 28,
    "start_time": "2022-02-07T20:18:04.054Z"
   },
   {
    "duration": 2,
    "start_time": "2022-02-07T20:29:44.848Z"
   },
   {
    "duration": 15,
    "start_time": "2022-02-07T20:33:52.579Z"
   },
   {
    "duration": 13,
    "start_time": "2022-02-07T20:33:55.525Z"
   },
   {
    "duration": 14,
    "start_time": "2022-02-07T20:33:58.223Z"
   },
   {
    "duration": 13,
    "start_time": "2022-02-07T20:34:00.615Z"
   },
   {
    "duration": 16,
    "start_time": "2022-02-07T20:34:03.573Z"
   },
   {
    "duration": 13,
    "start_time": "2022-02-07T20:34:05.822Z"
   },
   {
    "duration": 3,
    "start_time": "2022-02-07T20:38:38.517Z"
   },
   {
    "duration": 15,
    "start_time": "2022-02-07T20:41:29.461Z"
   },
   {
    "duration": 22,
    "start_time": "2022-02-07T20:42:04.844Z"
   },
   {
    "duration": 13,
    "start_time": "2022-02-07T20:42:07.060Z"
   },
   {
    "duration": 14,
    "start_time": "2022-02-07T20:42:10.861Z"
   },
   {
    "duration": 13,
    "start_time": "2022-02-07T20:42:12.195Z"
   },
   {
    "duration": 16,
    "start_time": "2022-02-07T20:42:13.219Z"
   },
   {
    "duration": 14,
    "start_time": "2022-02-07T20:42:15.731Z"
   },
   {
    "duration": 598,
    "start_time": "2022-02-07T21:01:53.775Z"
   },
   {
    "duration": 135,
    "start_time": "2022-02-07T21:01:54.375Z"
   },
   {
    "duration": 20,
    "start_time": "2022-02-07T21:01:54.514Z"
   },
   {
    "duration": 22,
    "start_time": "2022-02-07T21:01:54.535Z"
   },
   {
    "duration": 6,
    "start_time": "2022-02-07T21:01:54.559Z"
   },
   {
    "duration": 15,
    "start_time": "2022-02-07T21:01:54.567Z"
   },
   {
    "duration": 6,
    "start_time": "2022-02-07T21:01:54.585Z"
   },
   {
    "duration": 11,
    "start_time": "2022-02-07T21:01:54.593Z"
   },
   {
    "duration": 40,
    "start_time": "2022-02-07T21:01:54.605Z"
   },
   {
    "duration": 14,
    "start_time": "2022-02-07T21:01:54.646Z"
   },
   {
    "duration": 22,
    "start_time": "2022-02-07T21:01:54.661Z"
   },
   {
    "duration": 70,
    "start_time": "2022-02-07T21:01:54.685Z"
   },
   {
    "duration": 71,
    "start_time": "2022-02-07T21:01:54.756Z"
   },
   {
    "duration": 9,
    "start_time": "2022-02-07T21:01:54.828Z"
   },
   {
    "duration": 4,
    "start_time": "2022-02-07T21:01:54.839Z"
   },
   {
    "duration": 10,
    "start_time": "2022-02-07T21:01:54.845Z"
   },
   {
    "duration": 79,
    "start_time": "2022-02-07T21:01:54.857Z"
   },
   {
    "duration": 37,
    "start_time": "2022-02-07T21:01:54.937Z"
   },
   {
    "duration": 35,
    "start_time": "2022-02-07T21:01:54.976Z"
   },
   {
    "duration": 4,
    "start_time": "2022-02-07T21:01:55.027Z"
   },
   {
    "duration": 5,
    "start_time": "2022-02-07T21:01:55.032Z"
   },
   {
    "duration": 23,
    "start_time": "2022-02-07T21:01:55.040Z"
   },
   {
    "duration": 37,
    "start_time": "2022-02-07T21:01:55.065Z"
   },
   {
    "duration": 47,
    "start_time": "2022-02-07T21:01:55.104Z"
   },
   {
    "duration": 5,
    "start_time": "2022-02-07T21:01:55.152Z"
   },
   {
    "duration": 7,
    "start_time": "2022-02-07T21:01:55.158Z"
   },
   {
    "duration": 19,
    "start_time": "2022-02-07T21:01:55.167Z"
   },
   {
    "duration": 44,
    "start_time": "2022-02-07T21:01:55.187Z"
   },
   {
    "duration": 3,
    "start_time": "2022-02-07T21:01:55.232Z"
   },
   {
    "duration": 18,
    "start_time": "2022-02-07T21:01:55.236Z"
   },
   {
    "duration": 13,
    "start_time": "2022-02-07T21:01:55.255Z"
   },
   {
    "duration": 11,
    "start_time": "2022-02-07T21:01:55.270Z"
   },
   {
    "duration": 10,
    "start_time": "2022-02-07T21:01:55.283Z"
   },
   {
    "duration": 39,
    "start_time": "2022-02-07T21:01:55.294Z"
   },
   {
    "duration": 11,
    "start_time": "2022-02-07T21:01:55.335Z"
   },
   {
    "duration": 3,
    "start_time": "2022-02-07T21:01:55.347Z"
   },
   {
    "duration": 6,
    "start_time": "2022-02-07T21:01:55.352Z"
   },
   {
    "duration": 5,
    "start_time": "2022-02-07T21:01:55.359Z"
   },
   {
    "duration": 5,
    "start_time": "2022-02-07T21:01:55.365Z"
   },
   {
    "duration": 6,
    "start_time": "2022-02-07T21:01:55.372Z"
   },
   {
    "duration": 4,
    "start_time": "2022-02-07T21:01:55.379Z"
   },
   {
    "duration": 8,
    "start_time": "2022-02-07T21:01:55.384Z"
   },
   {
    "duration": 3,
    "start_time": "2022-02-07T21:01:55.393Z"
   },
   {
    "duration": 3,
    "start_time": "2022-02-07T21:01:55.398Z"
   },
   {
    "duration": 4,
    "start_time": "2022-02-07T21:01:55.403Z"
   },
   {
    "duration": 4,
    "start_time": "2022-02-07T21:01:55.408Z"
   },
   {
    "duration": 2,
    "start_time": "2022-02-07T21:01:55.427Z"
   },
   {
    "duration": 583,
    "start_time": "2022-02-08T04:58:39.249Z"
   },
   {
    "duration": 104313,
    "start_time": "2022-02-08T05:00:03.755Z"
   },
   {
    "duration": 572,
    "start_time": "2022-02-08T05:03:22.401Z"
   },
   {
    "duration": 609,
    "start_time": "2022-02-08T05:03:29.851Z"
   },
   {
    "duration": 138,
    "start_time": "2022-02-08T05:03:30.462Z"
   },
   {
    "duration": 17,
    "start_time": "2022-02-08T05:03:30.603Z"
   },
   {
    "duration": 40,
    "start_time": "2022-02-08T05:03:30.622Z"
   },
   {
    "duration": 3,
    "start_time": "2022-02-08T05:03:30.664Z"
   },
   {
    "duration": 23,
    "start_time": "2022-02-08T05:03:30.669Z"
   },
   {
    "duration": 9,
    "start_time": "2022-02-08T05:03:30.693Z"
   },
   {
    "duration": 15,
    "start_time": "2022-02-08T05:03:30.706Z"
   },
   {
    "duration": 37,
    "start_time": "2022-02-08T05:03:30.723Z"
   },
   {
    "duration": 15,
    "start_time": "2022-02-08T05:03:30.762Z"
   },
   {
    "duration": 32,
    "start_time": "2022-02-08T05:03:30.779Z"
   },
   {
    "duration": 78,
    "start_time": "2022-02-08T05:03:30.813Z"
   },
   {
    "duration": 57,
    "start_time": "2022-02-08T05:03:30.893Z"
   },
   {
    "duration": 9,
    "start_time": "2022-02-08T05:03:30.959Z"
   },
   {
    "duration": 13,
    "start_time": "2022-02-08T05:03:30.970Z"
   },
   {
    "duration": 28,
    "start_time": "2022-02-08T05:03:30.985Z"
   },
   {
    "duration": 66,
    "start_time": "2022-02-08T05:03:31.015Z"
   },
   {
    "duration": 38,
    "start_time": "2022-02-08T05:03:31.083Z"
   },
   {
    "duration": 48,
    "start_time": "2022-02-08T05:03:31.123Z"
   },
   {
    "duration": 4,
    "start_time": "2022-02-08T05:03:31.173Z"
   },
   {
    "duration": 5,
    "start_time": "2022-02-08T05:03:31.179Z"
   },
   {
    "duration": 25,
    "start_time": "2022-02-08T05:03:31.185Z"
   },
   {
    "duration": 60,
    "start_time": "2022-02-08T05:03:31.213Z"
   },
   {
    "duration": 41,
    "start_time": "2022-02-08T05:03:31.275Z"
   },
   {
    "duration": 6,
    "start_time": "2022-02-08T05:03:31.318Z"
   },
   {
    "duration": 11,
    "start_time": "2022-02-08T05:03:31.325Z"
   },
   {
    "duration": 35,
    "start_time": "2022-02-08T05:03:31.337Z"
   },
   {
    "duration": 23,
    "start_time": "2022-02-08T05:03:31.374Z"
   },
   {
    "duration": 3,
    "start_time": "2022-02-08T05:03:31.398Z"
   },
   {
    "duration": 21,
    "start_time": "2022-02-08T05:03:31.402Z"
   },
   {
    "duration": 38,
    "start_time": "2022-02-08T05:03:31.425Z"
   },
   {
    "duration": 15,
    "start_time": "2022-02-08T05:03:31.465Z"
   },
   {
    "duration": 35,
    "start_time": "2022-02-08T05:03:31.481Z"
   },
   {
    "duration": 22,
    "start_time": "2022-02-08T05:03:31.518Z"
   },
   {
    "duration": 21,
    "start_time": "2022-02-08T05:03:31.542Z"
   },
   {
    "duration": 6,
    "start_time": "2022-02-08T05:03:31.564Z"
   },
   {
    "duration": 9,
    "start_time": "2022-02-08T05:03:31.571Z"
   },
   {
    "duration": 14,
    "start_time": "2022-02-08T05:03:31.582Z"
   },
   {
    "duration": 6,
    "start_time": "2022-02-08T05:03:31.598Z"
   },
   {
    "duration": 14,
    "start_time": "2022-02-08T05:03:31.606Z"
   },
   {
    "duration": 6,
    "start_time": "2022-02-08T05:03:31.621Z"
   },
   {
    "duration": 24,
    "start_time": "2022-02-08T05:03:31.629Z"
   },
   {
    "duration": 10,
    "start_time": "2022-02-08T05:03:31.654Z"
   },
   {
    "duration": 6,
    "start_time": "2022-02-08T05:03:31.666Z"
   },
   {
    "duration": 7,
    "start_time": "2022-02-08T05:03:31.674Z"
   },
   {
    "duration": 7,
    "start_time": "2022-02-08T05:03:31.682Z"
   },
   {
    "duration": 6,
    "start_time": "2022-02-08T05:03:31.690Z"
   },
   {
    "duration": 28,
    "start_time": "2022-02-08T05:05:46.425Z"
   },
   {
    "duration": 27,
    "start_time": "2022-02-08T05:06:04.110Z"
   },
   {
    "duration": 28,
    "start_time": "2022-02-08T05:06:24.291Z"
   },
   {
    "duration": 9,
    "start_time": "2022-02-08T05:13:36.464Z"
   },
   {
    "duration": 59,
    "start_time": "2022-02-08T05:15:43.321Z"
   },
   {
    "duration": 555,
    "start_time": "2022-02-08T05:15:51.024Z"
   },
   {
    "duration": 257,
    "start_time": "2022-02-08T05:19:03.617Z"
   },
   {
    "duration": 355,
    "start_time": "2022-02-08T05:21:53.481Z"
   },
   {
    "duration": 9,
    "start_time": "2022-02-08T05:25:05.998Z"
   },
   {
    "duration": 9,
    "start_time": "2022-02-08T05:25:10.818Z"
   },
   {
    "duration": 9,
    "start_time": "2022-02-08T05:25:12.344Z"
   },
   {
    "duration": 9,
    "start_time": "2022-02-08T05:25:14.369Z"
   },
   {
    "duration": 9,
    "start_time": "2022-02-08T05:26:26.512Z"
   },
   {
    "duration": 9,
    "start_time": "2022-02-08T05:26:34.933Z"
   },
   {
    "duration": 9,
    "start_time": "2022-02-08T05:27:23.386Z"
   },
   {
    "duration": 352,
    "start_time": "2022-02-08T05:27:28.289Z"
   },
   {
    "duration": 65,
    "start_time": "2022-02-08T05:31:00.766Z"
   },
   {
    "duration": 188,
    "start_time": "2022-02-08T05:31:06.561Z"
   },
   {
    "duration": 191,
    "start_time": "2022-02-08T05:31:24.351Z"
   },
   {
    "duration": 184,
    "start_time": "2022-02-08T05:31:48.665Z"
   },
   {
    "duration": 173,
    "start_time": "2022-02-08T05:32:25.380Z"
   },
   {
    "duration": 4350,
    "start_time": "2022-02-08T05:33:59.283Z"
   },
   {
    "duration": -1560,
    "start_time": "2022-02-08T05:34:09.830Z"
   },
   {
    "duration": 440,
    "start_time": "2022-02-08T05:35:50.641Z"
   },
   {
    "duration": 376,
    "start_time": "2022-02-08T05:36:18.761Z"
   },
   {
    "duration": 176,
    "start_time": "2022-02-08T05:36:35.675Z"
   },
   {
    "duration": 1359,
    "start_time": "2022-02-08T05:37:05.592Z"
   },
   {
    "duration": 5442,
    "start_time": "2022-02-08T05:37:19.587Z"
   },
   {
    "duration": 168,
    "start_time": "2022-02-08T05:41:31.631Z"
   },
   {
    "duration": 5268,
    "start_time": "2022-02-08T05:42:22.551Z"
   },
   {
    "duration": 180,
    "start_time": "2022-02-08T05:50:03.913Z"
   },
   {
    "duration": 174,
    "start_time": "2022-02-08T06:02:47.637Z"
   },
   {
    "duration": 185,
    "start_time": "2022-02-08T06:06:59.132Z"
   },
   {
    "duration": 212,
    "start_time": "2022-02-08T06:07:13.307Z"
   },
   {
    "duration": 60,
    "start_time": "2022-02-08T06:29:42.958Z"
   },
   {
    "duration": 170,
    "start_time": "2022-02-08T06:29:50.082Z"
   },
   {
    "duration": 280,
    "start_time": "2022-02-08T06:30:02.948Z"
   },
   {
    "duration": 247,
    "start_time": "2022-02-08T06:32:29.370Z"
   },
   {
    "duration": 72,
    "start_time": "2022-02-08T06:51:44.152Z"
   },
   {
    "duration": 101,
    "start_time": "2022-02-08T06:51:53.591Z"
   },
   {
    "duration": 18,
    "start_time": "2022-02-08T06:52:51.581Z"
   },
   {
    "duration": 16,
    "start_time": "2022-02-08T06:53:09.279Z"
   },
   {
    "duration": 15,
    "start_time": "2022-02-08T06:54:56.946Z"
   },
   {
    "duration": 91,
    "start_time": "2022-02-08T06:55:05.485Z"
   },
   {
    "duration": 22,
    "start_time": "2022-02-08T06:55:28.017Z"
   },
   {
    "duration": 96,
    "start_time": "2022-02-08T06:55:39.349Z"
   },
   {
    "duration": 17,
    "start_time": "2022-02-08T06:57:13.918Z"
   },
   {
    "duration": 59,
    "start_time": "2022-02-08T06:57:31.835Z"
   },
   {
    "duration": 14,
    "start_time": "2022-02-08T06:57:43.346Z"
   },
   {
    "duration": 15,
    "start_time": "2022-02-08T06:57:49.501Z"
   },
   {
    "duration": 15,
    "start_time": "2022-02-08T06:57:50.296Z"
   },
   {
    "duration": 1091,
    "start_time": "2022-02-08T06:58:13.725Z"
   },
   {
    "duration": 144,
    "start_time": "2022-02-08T06:58:14.817Z"
   },
   {
    "duration": 13,
    "start_time": "2022-02-08T06:58:14.963Z"
   },
   {
    "duration": 28,
    "start_time": "2022-02-08T06:58:14.978Z"
   },
   {
    "duration": 15,
    "start_time": "2022-02-08T06:58:15.009Z"
   },
   {
    "duration": 17,
    "start_time": "2022-02-08T06:58:15.026Z"
   },
   {
    "duration": 16,
    "start_time": "2022-02-08T06:58:15.045Z"
   },
   {
    "duration": 12,
    "start_time": "2022-02-08T06:58:15.064Z"
   },
   {
    "duration": 27,
    "start_time": "2022-02-08T06:58:15.078Z"
   },
   {
    "duration": 16,
    "start_time": "2022-02-08T06:58:15.106Z"
   },
   {
    "duration": 50,
    "start_time": "2022-02-08T06:58:15.124Z"
   },
   {
    "duration": 59,
    "start_time": "2022-02-08T06:58:15.176Z"
   },
   {
    "duration": 77,
    "start_time": "2022-02-08T06:58:15.236Z"
   },
   {
    "duration": 9,
    "start_time": "2022-02-08T06:58:15.315Z"
   },
   {
    "duration": 4,
    "start_time": "2022-02-08T06:58:15.325Z"
   },
   {
    "duration": 36,
    "start_time": "2022-02-08T06:58:15.331Z"
   },
   {
    "duration": 76,
    "start_time": "2022-02-08T06:58:15.369Z"
   },
   {
    "duration": 50,
    "start_time": "2022-02-08T06:58:15.447Z"
   },
   {
    "duration": 38,
    "start_time": "2022-02-08T06:58:15.499Z"
   },
   {
    "duration": 20,
    "start_time": "2022-02-08T06:58:15.539Z"
   },
   {
    "duration": 3,
    "start_time": "2022-02-08T06:58:15.561Z"
   },
   {
    "duration": 22,
    "start_time": "2022-02-08T06:58:15.566Z"
   },
   {
    "duration": 41,
    "start_time": "2022-02-08T06:58:15.591Z"
   },
   {
    "duration": 60,
    "start_time": "2022-02-08T06:58:15.634Z"
   },
   {
    "duration": 6,
    "start_time": "2022-02-08T06:58:15.695Z"
   },
   {
    "duration": 6,
    "start_time": "2022-02-08T06:58:15.703Z"
   },
   {
    "duration": 24,
    "start_time": "2022-02-08T06:58:15.711Z"
   },
   {
    "duration": 42,
    "start_time": "2022-02-08T06:58:15.736Z"
   },
   {
    "duration": 3,
    "start_time": "2022-02-08T06:58:15.780Z"
   },
   {
    "duration": 32,
    "start_time": "2022-02-08T06:58:15.784Z"
   },
   {
    "duration": 48,
    "start_time": "2022-02-08T06:58:15.817Z"
   },
   {
    "duration": 27,
    "start_time": "2022-02-08T06:58:15.867Z"
   },
   {
    "duration": 7,
    "start_time": "2022-02-08T06:58:15.896Z"
   },
   {
    "duration": 13,
    "start_time": "2022-02-08T06:58:15.905Z"
   },
   {
    "duration": 5,
    "start_time": "2022-02-08T06:58:15.919Z"
   },
   {
    "duration": 5,
    "start_time": "2022-02-08T06:58:15.925Z"
   },
   {
    "duration": 28,
    "start_time": "2022-02-08T06:58:15.931Z"
   },
   {
    "duration": 5,
    "start_time": "2022-02-08T06:58:15.960Z"
   },
   {
    "duration": 8,
    "start_time": "2022-02-08T06:58:15.966Z"
   },
   {
    "duration": 5,
    "start_time": "2022-02-08T06:58:15.975Z"
   },
   {
    "duration": 5,
    "start_time": "2022-02-08T06:58:15.981Z"
   },
   {
    "duration": 6,
    "start_time": "2022-02-08T06:58:15.987Z"
   },
   {
    "duration": 4,
    "start_time": "2022-02-08T06:58:15.994Z"
   },
   {
    "duration": 4,
    "start_time": "2022-02-08T06:58:16.000Z"
   },
   {
    "duration": 99,
    "start_time": "2022-02-08T06:58:33.986Z"
   },
   {
    "duration": 16,
    "start_time": "2022-02-08T07:05:10.576Z"
   },
   {
    "duration": 15,
    "start_time": "2022-02-08T07:05:21.723Z"
   },
   {
    "duration": 1060,
    "start_time": "2022-02-08T07:05:33.716Z"
   },
   {
    "duration": 134,
    "start_time": "2022-02-08T07:05:34.778Z"
   },
   {
    "duration": 13,
    "start_time": "2022-02-08T07:05:34.914Z"
   },
   {
    "duration": 35,
    "start_time": "2022-02-08T07:05:34.928Z"
   },
   {
    "duration": 3,
    "start_time": "2022-02-08T07:05:34.965Z"
   },
   {
    "duration": 16,
    "start_time": "2022-02-08T07:05:34.970Z"
   },
   {
    "duration": 7,
    "start_time": "2022-02-08T07:05:34.988Z"
   },
   {
    "duration": 12,
    "start_time": "2022-02-08T07:05:34.998Z"
   },
   {
    "duration": 28,
    "start_time": "2022-02-08T07:05:35.012Z"
   },
   {
    "duration": 15,
    "start_time": "2022-02-08T07:05:35.059Z"
   },
   {
    "duration": 26,
    "start_time": "2022-02-08T07:05:35.076Z"
   },
   {
    "duration": 70,
    "start_time": "2022-02-08T07:05:35.104Z"
   },
   {
    "duration": 63,
    "start_time": "2022-02-08T07:05:35.175Z"
   },
   {
    "duration": 26,
    "start_time": "2022-02-08T07:05:35.239Z"
   },
   {
    "duration": 4,
    "start_time": "2022-02-08T07:05:35.266Z"
   },
   {
    "duration": 13,
    "start_time": "2022-02-08T07:05:35.272Z"
   },
   {
    "duration": 73,
    "start_time": "2022-02-08T07:05:35.287Z"
   },
   {
    "duration": 39,
    "start_time": "2022-02-08T07:05:35.361Z"
   },
   {
    "duration": 37,
    "start_time": "2022-02-08T07:05:35.401Z"
   },
   {
    "duration": 19,
    "start_time": "2022-02-08T07:05:35.440Z"
   },
   {
    "duration": 4,
    "start_time": "2022-02-08T07:05:35.461Z"
   },
   {
    "duration": 25,
    "start_time": "2022-02-08T07:05:35.467Z"
   },
   {
    "duration": 38,
    "start_time": "2022-02-08T07:05:35.497Z"
   },
   {
    "duration": 38,
    "start_time": "2022-02-08T07:05:35.558Z"
   },
   {
    "duration": 7,
    "start_time": "2022-02-08T07:05:35.598Z"
   },
   {
    "duration": 8,
    "start_time": "2022-02-08T07:05:35.607Z"
   },
   {
    "duration": 52,
    "start_time": "2022-02-08T07:05:35.616Z"
   },
   {
    "duration": 24,
    "start_time": "2022-02-08T07:05:35.670Z"
   },
   {
    "duration": 2,
    "start_time": "2022-02-08T07:05:35.696Z"
   },
   {
    "duration": 29,
    "start_time": "2022-02-08T07:05:35.700Z"
   },
   {
    "duration": 45,
    "start_time": "2022-02-08T07:05:35.731Z"
   },
   {
    "duration": 27,
    "start_time": "2022-02-08T07:05:35.777Z"
   },
   {
    "duration": 8,
    "start_time": "2022-02-08T07:05:35.805Z"
   },
   {
    "duration": 16,
    "start_time": "2022-02-08T07:05:35.814Z"
   },
   {
    "duration": 27,
    "start_time": "2022-02-08T07:05:35.832Z"
   },
   {
    "duration": 2,
    "start_time": "2022-02-08T07:05:35.861Z"
   },
   {
    "duration": 7,
    "start_time": "2022-02-08T07:05:35.864Z"
   },
   {
    "duration": 7,
    "start_time": "2022-02-08T07:05:35.872Z"
   },
   {
    "duration": 6,
    "start_time": "2022-02-08T07:05:35.881Z"
   },
   {
    "duration": 7,
    "start_time": "2022-02-08T07:05:35.889Z"
   },
   {
    "duration": 8,
    "start_time": "2022-02-08T07:05:35.897Z"
   },
   {
    "duration": 4,
    "start_time": "2022-02-08T07:05:35.907Z"
   },
   {
    "duration": 4,
    "start_time": "2022-02-08T07:05:35.912Z"
   },
   {
    "duration": 6,
    "start_time": "2022-02-08T07:05:35.918Z"
   },
   {
    "duration": 56,
    "start_time": "2022-02-08T07:49:57.432Z"
   },
   {
    "duration": 240,
    "start_time": "2022-02-08T07:50:06.176Z"
   },
   {
    "duration": 4,
    "start_time": "2022-02-08T07:50:23.280Z"
   },
   {
    "duration": 10,
    "start_time": "2022-02-08T07:52:30.865Z"
   },
   {
    "duration": 12,
    "start_time": "2022-02-08T07:52:51.336Z"
   },
   {
    "duration": 67,
    "start_time": "2022-02-08T08:01:54.497Z"
   },
   {
    "duration": 12,
    "start_time": "2022-02-08T08:02:40.649Z"
   },
   {
    "duration": 4,
    "start_time": "2022-02-08T08:08:57.399Z"
   },
   {
    "duration": 39,
    "start_time": "2022-02-08T08:12:39.374Z"
   },
   {
    "duration": 1082,
    "start_time": "2022-02-08T08:13:28.166Z"
   },
   {
    "duration": 439,
    "start_time": "2022-02-08T08:15:17.195Z"
   },
   {
    "duration": 1209,
    "start_time": "2022-02-08T08:18:06.797Z"
   },
   {
    "duration": 2,
    "start_time": "2022-02-08T08:19:56.917Z"
   },
   {
    "duration": 163,
    "start_time": "2022-02-08T08:19:56.923Z"
   },
   {
    "duration": 10,
    "start_time": "2022-02-08T08:19:57.088Z"
   },
   {
    "duration": 40,
    "start_time": "2022-02-08T08:19:57.100Z"
   },
   {
    "duration": 17,
    "start_time": "2022-02-08T08:19:57.142Z"
   },
   {
    "duration": 28,
    "start_time": "2022-02-08T08:19:57.161Z"
   },
   {
    "duration": 3,
    "start_time": "2022-02-08T08:19:57.191Z"
   },
   {
    "duration": 16,
    "start_time": "2022-02-08T08:19:57.196Z"
   },
   {
    "duration": 28,
    "start_time": "2022-02-08T08:19:57.215Z"
   },
   {
    "duration": 29,
    "start_time": "2022-02-08T08:19:57.246Z"
   },
   {
    "duration": 29,
    "start_time": "2022-02-08T08:19:57.277Z"
   },
   {
    "duration": 72,
    "start_time": "2022-02-08T08:19:57.308Z"
   },
   {
    "duration": 61,
    "start_time": "2022-02-08T08:19:57.381Z"
   },
   {
    "duration": 22,
    "start_time": "2022-02-08T08:19:57.444Z"
   },
   {
    "duration": 8,
    "start_time": "2022-02-08T08:19:57.468Z"
   },
   {
    "duration": 32,
    "start_time": "2022-02-08T08:19:57.478Z"
   },
   {
    "duration": 57,
    "start_time": "2022-02-08T08:19:57.512Z"
   },
   {
    "duration": 38,
    "start_time": "2022-02-08T08:19:57.571Z"
   },
   {
    "duration": 52,
    "start_time": "2022-02-08T08:19:57.611Z"
   },
   {
    "duration": 4,
    "start_time": "2022-02-08T08:19:57.665Z"
   },
   {
    "duration": 12,
    "start_time": "2022-02-08T08:19:57.670Z"
   },
   {
    "duration": 24,
    "start_time": "2022-02-08T08:19:57.684Z"
   },
   {
    "duration": 50,
    "start_time": "2022-02-08T08:19:57.710Z"
   },
   {
    "duration": 37,
    "start_time": "2022-02-08T08:19:57.764Z"
   },
   {
    "duration": 6,
    "start_time": "2022-02-08T08:19:57.803Z"
   },
   {
    "duration": 8,
    "start_time": "2022-02-08T08:19:57.811Z"
   },
   {
    "duration": 47,
    "start_time": "2022-02-08T08:19:57.821Z"
   },
   {
    "duration": 23,
    "start_time": "2022-02-08T08:19:57.870Z"
   },
   {
    "duration": 3,
    "start_time": "2022-02-08T08:19:57.894Z"
   },
   {
    "duration": 34,
    "start_time": "2022-02-08T08:19:57.899Z"
   },
   {
    "duration": 44,
    "start_time": "2022-02-08T08:19:57.935Z"
   },
   {
    "duration": 25,
    "start_time": "2022-02-08T08:19:57.981Z"
   },
   {
    "duration": 8,
    "start_time": "2022-02-08T08:19:58.007Z"
   },
   {
    "duration": 44,
    "start_time": "2022-02-08T08:19:58.016Z"
   },
   {
    "duration": 19,
    "start_time": "2022-02-08T08:19:58.062Z"
   },
   {
    "duration": 40,
    "start_time": "2022-02-08T08:19:58.083Z"
   },
   {
    "duration": 2,
    "start_time": "2022-02-08T08:19:58.125Z"
   },
   {
    "duration": 5,
    "start_time": "2022-02-08T08:19:58.128Z"
   },
   {
    "duration": 5,
    "start_time": "2022-02-08T08:19:58.135Z"
   },
   {
    "duration": 4,
    "start_time": "2022-02-08T08:19:58.142Z"
   },
   {
    "duration": 11,
    "start_time": "2022-02-08T08:19:58.148Z"
   },
   {
    "duration": 5,
    "start_time": "2022-02-08T08:19:58.161Z"
   },
   {
    "duration": 6,
    "start_time": "2022-02-08T08:19:58.167Z"
   },
   {
    "duration": 7,
    "start_time": "2022-02-08T08:19:58.174Z"
   },
   {
    "duration": 1148,
    "start_time": "2022-02-08T08:20:54.897Z"
   },
   {
    "duration": 335,
    "start_time": "2022-02-08T08:21:07.067Z"
   },
   {
    "duration": 1041,
    "start_time": "2022-02-08T08:21:41.961Z"
   },
   {
    "duration": 2,
    "start_time": "2022-02-08T08:22:12.409Z"
   },
   {
    "duration": 3,
    "start_time": "2022-02-08T08:22:16.495Z"
   },
   {
    "duration": 1692,
    "start_time": "2022-02-08T08:23:01.674Z"
   },
   {
    "duration": 2,
    "start_time": "2022-02-08T08:23:42.693Z"
   },
   {
    "duration": 171,
    "start_time": "2022-02-08T08:23:42.699Z"
   },
   {
    "duration": 12,
    "start_time": "2022-02-08T08:23:42.872Z"
   },
   {
    "duration": 27,
    "start_time": "2022-02-08T08:23:42.885Z"
   },
   {
    "duration": 3,
    "start_time": "2022-02-08T08:23:42.914Z"
   },
   {
    "duration": 44,
    "start_time": "2022-02-08T08:23:42.919Z"
   },
   {
    "duration": 14,
    "start_time": "2022-02-08T08:23:42.964Z"
   },
   {
    "duration": 15,
    "start_time": "2022-02-08T08:23:42.980Z"
   },
   {
    "duration": 31,
    "start_time": "2022-02-08T08:23:42.997Z"
   },
   {
    "duration": 24,
    "start_time": "2022-02-08T08:23:43.030Z"
   },
   {
    "duration": 26,
    "start_time": "2022-02-08T08:23:43.056Z"
   },
   {
    "duration": 55,
    "start_time": "2022-02-08T08:23:43.084Z"
   },
   {
    "duration": 66,
    "start_time": "2022-02-08T08:23:43.141Z"
   },
   {
    "duration": 10,
    "start_time": "2022-02-08T08:23:43.209Z"
   },
   {
    "duration": 4,
    "start_time": "2022-02-08T08:23:43.221Z"
   },
   {
    "duration": 36,
    "start_time": "2022-02-08T08:23:43.226Z"
   },
   {
    "duration": 55,
    "start_time": "2022-02-08T08:23:43.264Z"
   },
   {
    "duration": 57,
    "start_time": "2022-02-08T08:23:43.321Z"
   },
   {
    "duration": 39,
    "start_time": "2022-02-08T08:23:43.380Z"
   },
   {
    "duration": 4,
    "start_time": "2022-02-08T08:23:43.421Z"
   },
   {
    "duration": 33,
    "start_time": "2022-02-08T08:23:43.427Z"
   },
   {
    "duration": 26,
    "start_time": "2022-02-08T08:23:43.462Z"
   },
   {
    "duration": 43,
    "start_time": "2022-02-08T08:23:43.489Z"
   },
   {
    "duration": 39,
    "start_time": "2022-02-08T08:23:43.535Z"
   },
   {
    "duration": 6,
    "start_time": "2022-02-08T08:23:43.576Z"
   },
   {
    "duration": 6,
    "start_time": "2022-02-08T08:23:43.583Z"
   },
   {
    "duration": 19,
    "start_time": "2022-02-08T08:23:43.590Z"
   },
   {
    "duration": 51,
    "start_time": "2022-02-08T08:23:43.611Z"
   },
   {
    "duration": 3,
    "start_time": "2022-02-08T08:23:43.663Z"
   },
   {
    "duration": 33,
    "start_time": "2022-02-08T08:23:43.667Z"
   },
   {
    "duration": 24,
    "start_time": "2022-02-08T08:23:43.702Z"
   },
   {
    "duration": 42,
    "start_time": "2022-02-08T08:23:43.727Z"
   },
   {
    "duration": 9,
    "start_time": "2022-02-08T08:23:43.771Z"
   },
   {
    "duration": 9,
    "start_time": "2022-02-08T08:23:43.782Z"
   },
   {
    "duration": 5,
    "start_time": "2022-02-08T08:23:43.793Z"
   },
   {
    "duration": 348,
    "start_time": "2022-02-08T08:23:43.800Z"
   },
   {
    "duration": -1603,
    "start_time": "2022-02-08T08:23:45.753Z"
   },
   {
    "duration": -1607,
    "start_time": "2022-02-08T08:23:45.758Z"
   },
   {
    "duration": -1613,
    "start_time": "2022-02-08T08:23:45.765Z"
   },
   {
    "duration": -1617,
    "start_time": "2022-02-08T08:23:45.770Z"
   },
   {
    "duration": -1648,
    "start_time": "2022-02-08T08:23:45.802Z"
   },
   {
    "duration": -1653,
    "start_time": "2022-02-08T08:23:45.808Z"
   },
   {
    "duration": -1657,
    "start_time": "2022-02-08T08:23:45.814Z"
   },
   {
    "duration": -1661,
    "start_time": "2022-02-08T08:23:45.819Z"
   },
   {
    "duration": 950,
    "start_time": "2022-02-08T08:24:47.585Z"
   },
   {
    "duration": 2,
    "start_time": "2022-02-08T08:24:56.868Z"
   },
   {
    "duration": 150,
    "start_time": "2022-02-08T08:24:56.872Z"
   },
   {
    "duration": 10,
    "start_time": "2022-02-08T08:24:57.024Z"
   },
   {
    "duration": 48,
    "start_time": "2022-02-08T08:24:57.061Z"
   },
   {
    "duration": 92,
    "start_time": "2022-02-08T08:24:57.112Z"
   },
   {
    "duration": 96,
    "start_time": "2022-02-08T08:24:57.206Z"
   },
   {
    "duration": 73,
    "start_time": "2022-02-08T08:24:57.305Z"
   },
   {
    "duration": 16,
    "start_time": "2022-02-08T08:24:57.380Z"
   },
   {
    "duration": 37,
    "start_time": "2022-02-08T08:24:57.398Z"
   },
   {
    "duration": 17,
    "start_time": "2022-02-08T08:24:57.437Z"
   },
   {
    "duration": 32,
    "start_time": "2022-02-08T08:24:57.456Z"
   },
   {
    "duration": 70,
    "start_time": "2022-02-08T08:24:57.489Z"
   },
   {
    "duration": 73,
    "start_time": "2022-02-08T08:24:57.561Z"
   },
   {
    "duration": 26,
    "start_time": "2022-02-08T08:24:57.636Z"
   },
   {
    "duration": 6,
    "start_time": "2022-02-08T08:24:57.664Z"
   },
   {
    "duration": 15,
    "start_time": "2022-02-08T08:24:57.672Z"
   },
   {
    "duration": 74,
    "start_time": "2022-02-08T08:24:57.689Z"
   },
   {
    "duration": 39,
    "start_time": "2022-02-08T08:24:57.765Z"
   },
   {
    "duration": 55,
    "start_time": "2022-02-08T08:24:57.808Z"
   },
   {
    "duration": 3,
    "start_time": "2022-02-08T08:24:57.866Z"
   },
   {
    "duration": 5,
    "start_time": "2022-02-08T08:24:57.871Z"
   },
   {
    "duration": 31,
    "start_time": "2022-02-08T08:24:57.878Z"
   },
   {
    "duration": 47,
    "start_time": "2022-02-08T08:24:57.911Z"
   },
   {
    "duration": 37,
    "start_time": "2022-02-08T08:24:57.960Z"
   },
   {
    "duration": 6,
    "start_time": "2022-02-08T08:24:57.998Z"
   },
   {
    "duration": 8,
    "start_time": "2022-02-08T08:24:58.006Z"
   },
   {
    "duration": 47,
    "start_time": "2022-02-08T08:24:58.016Z"
   },
   {
    "duration": 23,
    "start_time": "2022-02-08T08:24:58.065Z"
   },
   {
    "duration": 3,
    "start_time": "2022-02-08T08:24:58.090Z"
   },
   {
    "duration": 31,
    "start_time": "2022-02-08T08:24:58.094Z"
   },
   {
    "duration": 49,
    "start_time": "2022-02-08T08:24:58.127Z"
   },
   {
    "duration": 28,
    "start_time": "2022-02-08T08:24:58.178Z"
   },
   {
    "duration": 9,
    "start_time": "2022-02-08T08:24:58.208Z"
   },
   {
    "duration": 12,
    "start_time": "2022-02-08T08:24:58.218Z"
   },
   {
    "duration": 7,
    "start_time": "2022-02-08T08:24:58.232Z"
   },
   {
    "duration": 970,
    "start_time": "2022-02-08T08:24:58.260Z"
   },
   {
    "duration": -1582,
    "start_time": "2022-02-08T08:25:00.814Z"
   },
   {
    "duration": -1587,
    "start_time": "2022-02-08T08:25:00.820Z"
   },
   {
    "duration": -1592,
    "start_time": "2022-02-08T08:25:00.826Z"
   },
   {
    "duration": -1598,
    "start_time": "2022-02-08T08:25:00.833Z"
   },
   {
    "duration": -1604,
    "start_time": "2022-02-08T08:25:00.840Z"
   },
   {
    "duration": -1609,
    "start_time": "2022-02-08T08:25:00.846Z"
   },
   {
    "duration": -1616,
    "start_time": "2022-02-08T08:25:00.853Z"
   },
   {
    "duration": -1620,
    "start_time": "2022-02-08T08:25:00.858Z"
   },
   {
    "duration": 1050,
    "start_time": "2022-02-08T08:28:26.622Z"
   },
   {
    "duration": 134,
    "start_time": "2022-02-08T08:28:27.674Z"
   },
   {
    "duration": 12,
    "start_time": "2022-02-08T08:28:27.812Z"
   },
   {
    "duration": 33,
    "start_time": "2022-02-08T08:28:27.826Z"
   },
   {
    "duration": 3,
    "start_time": "2022-02-08T08:28:27.861Z"
   },
   {
    "duration": 16,
    "start_time": "2022-02-08T08:28:27.865Z"
   },
   {
    "duration": 6,
    "start_time": "2022-02-08T08:28:27.883Z"
   },
   {
    "duration": 13,
    "start_time": "2022-02-08T08:28:27.891Z"
   },
   {
    "duration": 24,
    "start_time": "2022-02-08T08:28:27.906Z"
   },
   {
    "duration": 34,
    "start_time": "2022-02-08T08:28:27.932Z"
   },
   {
    "duration": 27,
    "start_time": "2022-02-08T08:28:27.968Z"
   },
   {
    "duration": 62,
    "start_time": "2022-02-08T08:28:27.997Z"
   },
   {
    "duration": 65,
    "start_time": "2022-02-08T08:28:28.060Z"
   },
   {
    "duration": 9,
    "start_time": "2022-02-08T08:28:28.127Z"
   },
   {
    "duration": 22,
    "start_time": "2022-02-08T08:28:28.138Z"
   },
   {
    "duration": 11,
    "start_time": "2022-02-08T08:28:28.162Z"
   },
   {
    "duration": 57,
    "start_time": "2022-02-08T08:28:28.174Z"
   },
   {
    "duration": 53,
    "start_time": "2022-02-08T08:28:28.233Z"
   },
   {
    "duration": 37,
    "start_time": "2022-02-08T08:28:28.287Z"
   },
   {
    "duration": 3,
    "start_time": "2022-02-08T08:28:28.326Z"
   },
   {
    "duration": 7,
    "start_time": "2022-02-08T08:28:28.331Z"
   },
   {
    "duration": 35,
    "start_time": "2022-02-08T08:28:28.341Z"
   },
   {
    "duration": 40,
    "start_time": "2022-02-08T08:28:28.378Z"
   },
   {
    "duration": 45,
    "start_time": "2022-02-08T08:28:28.420Z"
   },
   {
    "duration": 6,
    "start_time": "2022-02-08T08:28:28.466Z"
   },
   {
    "duration": 7,
    "start_time": "2022-02-08T08:28:28.474Z"
   },
   {
    "duration": 22,
    "start_time": "2022-02-08T08:28:28.483Z"
   },
   {
    "duration": 24,
    "start_time": "2022-02-08T08:28:28.507Z"
   },
   {
    "duration": 28,
    "start_time": "2022-02-08T08:28:28.532Z"
   },
   {
    "duration": 28,
    "start_time": "2022-02-08T08:28:28.562Z"
   },
   {
    "duration": 25,
    "start_time": "2022-02-08T08:28:28.592Z"
   },
   {
    "duration": 52,
    "start_time": "2022-02-08T08:28:28.619Z"
   },
   {
    "duration": 9,
    "start_time": "2022-02-08T08:28:28.672Z"
   },
   {
    "duration": 5,
    "start_time": "2022-02-08T08:28:28.683Z"
   },
   {
    "duration": 6,
    "start_time": "2022-02-08T08:28:28.690Z"
   },
   {
    "duration": 524,
    "start_time": "2022-02-08T08:28:28.698Z"
   },
   {
    "duration": -1585,
    "start_time": "2022-02-08T08:28:30.809Z"
   },
   {
    "duration": -1602,
    "start_time": "2022-02-08T08:28:30.827Z"
   },
   {
    "duration": -1606,
    "start_time": "2022-02-08T08:28:30.832Z"
   },
   {
    "duration": -1611,
    "start_time": "2022-02-08T08:28:30.838Z"
   },
   {
    "duration": -1616,
    "start_time": "2022-02-08T08:28:30.844Z"
   },
   {
    "duration": -1620,
    "start_time": "2022-02-08T08:28:30.849Z"
   },
   {
    "duration": -1626,
    "start_time": "2022-02-08T08:28:30.856Z"
   },
   {
    "duration": -1632,
    "start_time": "2022-02-08T08:28:30.863Z"
   },
   {
    "duration": 1117,
    "start_time": "2022-02-08T08:30:53.234Z"
   },
   {
    "duration": 127,
    "start_time": "2022-02-08T08:30:54.352Z"
   },
   {
    "duration": 13,
    "start_time": "2022-02-08T08:30:54.481Z"
   },
   {
    "duration": 22,
    "start_time": "2022-02-08T08:30:54.496Z"
   },
   {
    "duration": 4,
    "start_time": "2022-02-08T08:30:54.519Z"
   },
   {
    "duration": 35,
    "start_time": "2022-02-08T08:30:54.524Z"
   },
   {
    "duration": 3,
    "start_time": "2022-02-08T08:30:54.560Z"
   },
   {
    "duration": 11,
    "start_time": "2022-02-08T08:30:54.566Z"
   },
   {
    "duration": 22,
    "start_time": "2022-02-08T08:30:54.579Z"
   },
   {
    "duration": 14,
    "start_time": "2022-02-08T08:30:54.603Z"
   },
   {
    "duration": 44,
    "start_time": "2022-02-08T08:30:54.618Z"
   },
   {
    "duration": 63,
    "start_time": "2022-02-08T08:30:54.664Z"
   },
   {
    "duration": 70,
    "start_time": "2022-02-08T08:30:54.728Z"
   },
   {
    "duration": 9,
    "start_time": "2022-02-08T08:30:54.800Z"
   },
   {
    "duration": 6,
    "start_time": "2022-02-08T08:30:54.810Z"
   },
   {
    "duration": 14,
    "start_time": "2022-02-08T08:30:54.817Z"
   },
   {
    "duration": 70,
    "start_time": "2022-02-08T08:30:54.833Z"
   },
   {
    "duration": 37,
    "start_time": "2022-02-08T08:30:54.904Z"
   },
   {
    "duration": 44,
    "start_time": "2022-02-08T08:30:54.943Z"
   },
   {
    "duration": 3,
    "start_time": "2022-02-08T08:30:54.989Z"
   },
   {
    "duration": 10,
    "start_time": "2022-02-08T08:30:54.994Z"
   },
   {
    "duration": 24,
    "start_time": "2022-02-08T08:30:55.005Z"
   },
   {
    "duration": 55,
    "start_time": "2022-02-08T08:30:55.032Z"
   },
   {
    "duration": 37,
    "start_time": "2022-02-08T08:30:55.090Z"
   },
   {
    "duration": 6,
    "start_time": "2022-02-08T08:30:55.129Z"
   },
   {
    "duration": 25,
    "start_time": "2022-02-08T08:30:55.137Z"
   },
   {
    "duration": 22,
    "start_time": "2022-02-08T08:30:55.163Z"
   },
   {
    "duration": 21,
    "start_time": "2022-02-08T08:30:55.187Z"
   },
   {
    "duration": 3,
    "start_time": "2022-02-08T08:30:55.210Z"
   },
   {
    "duration": 53,
    "start_time": "2022-02-08T08:30:55.214Z"
   },
   {
    "duration": 23,
    "start_time": "2022-02-08T08:30:55.268Z"
   },
   {
    "duration": 25,
    "start_time": "2022-02-08T08:30:55.292Z"
   },
   {
    "duration": 8,
    "start_time": "2022-02-08T08:30:55.318Z"
   },
   {
    "duration": 32,
    "start_time": "2022-02-08T08:30:55.327Z"
   },
   {
    "duration": 5,
    "start_time": "2022-02-08T08:30:55.361Z"
   },
   {
    "duration": 383,
    "start_time": "2022-02-08T08:30:55.368Z"
   },
   {
    "duration": -1589,
    "start_time": "2022-02-08T08:30:57.342Z"
   },
   {
    "duration": -1595,
    "start_time": "2022-02-08T08:30:57.349Z"
   },
   {
    "duration": -1599,
    "start_time": "2022-02-08T08:30:57.354Z"
   },
   {
    "duration": -1604,
    "start_time": "2022-02-08T08:30:57.360Z"
   },
   {
    "duration": -1609,
    "start_time": "2022-02-08T08:30:57.366Z"
   },
   {
    "duration": -1613,
    "start_time": "2022-02-08T08:30:57.371Z"
   },
   {
    "duration": -1618,
    "start_time": "2022-02-08T08:30:57.377Z"
   },
   {
    "duration": -1622,
    "start_time": "2022-02-08T08:30:57.382Z"
   },
   {
    "duration": 3,
    "start_time": "2022-02-08T08:32:17.228Z"
   },
   {
    "duration": 160,
    "start_time": "2022-02-08T08:32:17.233Z"
   },
   {
    "duration": 9,
    "start_time": "2022-02-08T08:32:17.395Z"
   },
   {
    "duration": 52,
    "start_time": "2022-02-08T08:32:17.406Z"
   },
   {
    "duration": 3,
    "start_time": "2022-02-08T08:32:17.460Z"
   },
   {
    "duration": 32,
    "start_time": "2022-02-08T08:32:17.465Z"
   },
   {
    "duration": 11,
    "start_time": "2022-02-08T08:32:17.499Z"
   },
   {
    "duration": 26,
    "start_time": "2022-02-08T08:32:17.512Z"
   },
   {
    "duration": 33,
    "start_time": "2022-02-08T08:32:17.539Z"
   },
   {
    "duration": 34,
    "start_time": "2022-02-08T08:32:17.574Z"
   },
   {
    "duration": 29,
    "start_time": "2022-02-08T08:32:17.610Z"
   },
   {
    "duration": 68,
    "start_time": "2022-02-08T08:32:17.641Z"
   },
   {
    "duration": 63,
    "start_time": "2022-02-08T08:32:17.711Z"
   },
   {
    "duration": 10,
    "start_time": "2022-02-08T08:32:17.776Z"
   },
   {
    "duration": 5,
    "start_time": "2022-02-08T08:32:17.787Z"
   },
   {
    "duration": 11,
    "start_time": "2022-02-08T08:32:17.793Z"
   },
   {
    "duration": 74,
    "start_time": "2022-02-08T08:32:17.806Z"
   },
   {
    "duration": 51,
    "start_time": "2022-02-08T08:32:17.882Z"
   },
   {
    "duration": 52,
    "start_time": "2022-02-08T08:32:17.937Z"
   },
   {
    "duration": 3,
    "start_time": "2022-02-08T08:32:17.991Z"
   },
   {
    "duration": 5,
    "start_time": "2022-02-08T08:32:17.995Z"
   },
   {
    "duration": 25,
    "start_time": "2022-02-08T08:32:18.001Z"
   },
   {
    "duration": 50,
    "start_time": "2022-02-08T08:32:18.027Z"
   },
   {
    "duration": 35,
    "start_time": "2022-02-08T08:32:18.079Z"
   },
   {
    "duration": 6,
    "start_time": "2022-02-08T08:32:18.116Z"
   },
   {
    "duration": 8,
    "start_time": "2022-02-08T08:32:18.123Z"
   },
   {
    "duration": 44,
    "start_time": "2022-02-08T08:32:18.132Z"
   },
   {
    "duration": 21,
    "start_time": "2022-02-08T08:32:18.177Z"
   },
   {
    "duration": 3,
    "start_time": "2022-02-08T08:32:18.199Z"
   },
   {
    "duration": 27,
    "start_time": "2022-02-08T08:32:18.203Z"
   },
   {
    "duration": 45,
    "start_time": "2022-02-08T08:32:18.232Z"
   },
   {
    "duration": 25,
    "start_time": "2022-02-08T08:32:18.278Z"
   },
   {
    "duration": 20,
    "start_time": "2022-02-08T08:32:18.304Z"
   },
   {
    "duration": 13,
    "start_time": "2022-02-08T08:32:18.325Z"
   },
   {
    "duration": 4,
    "start_time": "2022-02-08T08:32:18.340Z"
   },
   {
    "duration": 333,
    "start_time": "2022-02-08T08:32:18.345Z"
   },
   {
    "duration": -1601,
    "start_time": "2022-02-08T08:32:20.281Z"
   },
   {
    "duration": -1606,
    "start_time": "2022-02-08T08:32:20.287Z"
   },
   {
    "duration": -1610,
    "start_time": "2022-02-08T08:32:20.292Z"
   },
   {
    "duration": -1614,
    "start_time": "2022-02-08T08:32:20.297Z"
   },
   {
    "duration": -1618,
    "start_time": "2022-02-08T08:32:20.302Z"
   },
   {
    "duration": -1623,
    "start_time": "2022-02-08T08:32:20.308Z"
   },
   {
    "duration": -1627,
    "start_time": "2022-02-08T08:32:20.313Z"
   },
   {
    "duration": -1633,
    "start_time": "2022-02-08T08:32:20.319Z"
   },
   {
    "duration": 1648,
    "start_time": "2022-02-08T08:32:44.845Z"
   },
   {
    "duration": 139,
    "start_time": "2022-02-08T08:32:46.495Z"
   },
   {
    "duration": 14,
    "start_time": "2022-02-08T08:32:46.636Z"
   },
   {
    "duration": 24,
    "start_time": "2022-02-08T08:32:46.658Z"
   },
   {
    "duration": 3,
    "start_time": "2022-02-08T08:32:46.684Z"
   },
   {
    "duration": 16,
    "start_time": "2022-02-08T08:32:46.689Z"
   },
   {
    "duration": 8,
    "start_time": "2022-02-08T08:32:46.706Z"
   },
   {
    "duration": 11,
    "start_time": "2022-02-08T08:32:46.717Z"
   },
   {
    "duration": 50,
    "start_time": "2022-02-08T08:32:46.730Z"
   },
   {
    "duration": 14,
    "start_time": "2022-02-08T08:32:46.782Z"
   },
   {
    "duration": 24,
    "start_time": "2022-02-08T08:32:46.799Z"
   },
   {
    "duration": 77,
    "start_time": "2022-02-08T08:32:46.825Z"
   },
   {
    "duration": 79,
    "start_time": "2022-02-08T08:32:46.904Z"
   },
   {
    "duration": 11,
    "start_time": "2022-02-08T08:32:46.985Z"
   },
   {
    "duration": 8,
    "start_time": "2022-02-08T08:32:46.998Z"
   },
   {
    "duration": 12,
    "start_time": "2022-02-08T08:32:47.008Z"
   },
   {
    "duration": 86,
    "start_time": "2022-02-08T08:32:47.022Z"
   },
   {
    "duration": 49,
    "start_time": "2022-02-08T08:32:47.110Z"
   },
   {
    "duration": 39,
    "start_time": "2022-02-08T08:32:47.161Z"
   },
   {
    "duration": 4,
    "start_time": "2022-02-08T08:32:47.202Z"
   },
   {
    "duration": 5,
    "start_time": "2022-02-08T08:32:47.208Z"
   },
   {
    "duration": 45,
    "start_time": "2022-02-08T08:32:47.214Z"
   },
   {
    "duration": 40,
    "start_time": "2022-02-08T08:32:47.262Z"
   },
   {
    "duration": 38,
    "start_time": "2022-02-08T08:32:47.304Z"
   },
   {
    "duration": 18,
    "start_time": "2022-02-08T08:32:47.344Z"
   },
   {
    "duration": 5,
    "start_time": "2022-02-08T08:32:47.364Z"
   },
   {
    "duration": 23,
    "start_time": "2022-02-08T08:32:47.370Z"
   },
   {
    "duration": 24,
    "start_time": "2022-02-08T08:32:47.395Z"
   },
   {
    "duration": 3,
    "start_time": "2022-02-08T08:32:47.421Z"
   },
   {
    "duration": 62,
    "start_time": "2022-02-08T08:32:47.425Z"
   },
   {
    "duration": 26,
    "start_time": "2022-02-08T08:32:47.489Z"
   },
   {
    "duration": 53,
    "start_time": "2022-02-08T08:32:47.517Z"
   },
   {
    "duration": 10,
    "start_time": "2022-02-08T08:32:47.572Z"
   },
   {
    "duration": 11,
    "start_time": "2022-02-08T08:32:47.583Z"
   },
   {
    "duration": 6,
    "start_time": "2022-02-08T08:32:47.596Z"
   },
   {
    "duration": 449,
    "start_time": "2022-02-08T08:32:47.603Z"
   },
   {
    "duration": -1566,
    "start_time": "2022-02-08T08:32:49.620Z"
   },
   {
    "duration": -1571,
    "start_time": "2022-02-08T08:32:49.626Z"
   },
   {
    "duration": -1577,
    "start_time": "2022-02-08T08:32:49.632Z"
   },
   {
    "duration": -1581,
    "start_time": "2022-02-08T08:32:49.637Z"
   },
   {
    "duration": -1604,
    "start_time": "2022-02-08T08:32:49.661Z"
   },
   {
    "duration": -1610,
    "start_time": "2022-02-08T08:32:49.668Z"
   },
   {
    "duration": -1615,
    "start_time": "2022-02-08T08:32:49.674Z"
   },
   {
    "duration": -1630,
    "start_time": "2022-02-08T08:32:49.690Z"
   },
   {
    "duration": 1137,
    "start_time": "2022-02-08T08:33:41.224Z"
   },
   {
    "duration": 138,
    "start_time": "2022-02-08T08:33:42.363Z"
   },
   {
    "duration": 13,
    "start_time": "2022-02-08T08:33:42.503Z"
   },
   {
    "duration": 27,
    "start_time": "2022-02-08T08:33:42.518Z"
   },
   {
    "duration": 3,
    "start_time": "2022-02-08T08:33:42.559Z"
   },
   {
    "duration": 18,
    "start_time": "2022-02-08T08:33:42.564Z"
   },
   {
    "duration": 6,
    "start_time": "2022-02-08T08:33:42.584Z"
   },
   {
    "duration": 12,
    "start_time": "2022-02-08T08:33:42.592Z"
   },
   {
    "duration": 27,
    "start_time": "2022-02-08T08:33:42.606Z"
   },
   {
    "duration": 26,
    "start_time": "2022-02-08T08:33:42.635Z"
   },
   {
    "duration": 28,
    "start_time": "2022-02-08T08:33:42.663Z"
   },
   {
    "duration": 56,
    "start_time": "2022-02-08T08:33:42.693Z"
   },
   {
    "duration": 66,
    "start_time": "2022-02-08T08:33:42.751Z"
   },
   {
    "duration": 9,
    "start_time": "2022-02-08T08:33:42.819Z"
   },
   {
    "duration": 6,
    "start_time": "2022-02-08T08:33:42.829Z"
   },
   {
    "duration": 11,
    "start_time": "2022-02-08T08:33:42.859Z"
   },
   {
    "duration": 56,
    "start_time": "2022-02-08T08:33:42.871Z"
   },
   {
    "duration": 50,
    "start_time": "2022-02-08T08:33:42.929Z"
   },
   {
    "duration": 36,
    "start_time": "2022-02-08T08:33:42.981Z"
   },
   {
    "duration": 3,
    "start_time": "2022-02-08T08:33:43.018Z"
   },
   {
    "duration": 12,
    "start_time": "2022-02-08T08:33:43.023Z"
   },
   {
    "duration": 37,
    "start_time": "2022-02-08T08:33:43.037Z"
   },
   {
    "duration": 40,
    "start_time": "2022-02-08T08:33:43.077Z"
   },
   {
    "duration": 48,
    "start_time": "2022-02-08T08:33:43.119Z"
   },
   {
    "duration": 6,
    "start_time": "2022-02-08T08:33:43.168Z"
   },
   {
    "duration": 8,
    "start_time": "2022-02-08T08:33:43.175Z"
   },
   {
    "duration": 23,
    "start_time": "2022-02-08T08:33:43.184Z"
   },
   {
    "duration": 56,
    "start_time": "2022-02-08T08:33:43.209Z"
   },
   {
    "duration": 4,
    "start_time": "2022-02-08T08:33:43.267Z"
   },
   {
    "duration": 29,
    "start_time": "2022-02-08T08:33:43.273Z"
   },
   {
    "duration": 25,
    "start_time": "2022-02-08T08:33:43.304Z"
   },
   {
    "duration": 54,
    "start_time": "2022-02-08T08:33:43.331Z"
   },
   {
    "duration": 9,
    "start_time": "2022-02-08T08:33:43.387Z"
   },
   {
    "duration": 6,
    "start_time": "2022-02-08T08:33:43.397Z"
   },
   {
    "duration": 5,
    "start_time": "2022-02-08T08:33:43.405Z"
   },
   {
    "duration": 443,
    "start_time": "2022-02-08T08:33:43.412Z"
   },
   {
    "duration": -1581,
    "start_time": "2022-02-08T08:33:45.438Z"
   },
   {
    "duration": -1586,
    "start_time": "2022-02-08T08:33:45.444Z"
   },
   {
    "duration": -1590,
    "start_time": "2022-02-08T08:33:45.449Z"
   },
   {
    "duration": -1596,
    "start_time": "2022-02-08T08:33:45.456Z"
   },
   {
    "duration": -1602,
    "start_time": "2022-02-08T08:33:45.462Z"
   },
   {
    "duration": -1606,
    "start_time": "2022-02-08T08:33:45.467Z"
   },
   {
    "duration": -1610,
    "start_time": "2022-02-08T08:33:45.472Z"
   },
   {
    "duration": -1615,
    "start_time": "2022-02-08T08:33:45.478Z"
   },
   {
    "duration": 1118,
    "start_time": "2022-02-08T08:35:55.971Z"
   },
   {
    "duration": 146,
    "start_time": "2022-02-08T08:35:57.091Z"
   },
   {
    "duration": 20,
    "start_time": "2022-02-08T08:35:57.239Z"
   },
   {
    "duration": 36,
    "start_time": "2022-02-08T08:35:57.261Z"
   },
   {
    "duration": 6,
    "start_time": "2022-02-08T08:35:57.298Z"
   },
   {
    "duration": 19,
    "start_time": "2022-02-08T08:35:57.305Z"
   },
   {
    "duration": 7,
    "start_time": "2022-02-08T08:35:57.326Z"
   },
   {
    "duration": 12,
    "start_time": "2022-02-08T08:35:57.335Z"
   },
   {
    "duration": 27,
    "start_time": "2022-02-08T08:35:57.348Z"
   },
   {
    "duration": 14,
    "start_time": "2022-02-08T08:35:57.377Z"
   },
   {
    "duration": 25,
    "start_time": "2022-02-08T08:35:57.392Z"
   },
   {
    "duration": 75,
    "start_time": "2022-02-08T08:35:57.418Z"
   },
   {
    "duration": 74,
    "start_time": "2022-02-08T08:35:57.495Z"
   },
   {
    "duration": 11,
    "start_time": "2022-02-08T08:35:57.571Z"
   },
   {
    "duration": 6,
    "start_time": "2022-02-08T08:35:57.584Z"
   },
   {
    "duration": 12,
    "start_time": "2022-02-08T08:35:57.592Z"
   },
   {
    "duration": 70,
    "start_time": "2022-02-08T08:35:57.606Z"
   },
   {
    "duration": 38,
    "start_time": "2022-02-08T08:35:57.678Z"
   },
   {
    "duration": 49,
    "start_time": "2022-02-08T08:35:57.718Z"
   },
   {
    "duration": 4,
    "start_time": "2022-02-08T08:35:57.769Z"
   },
   {
    "duration": 5,
    "start_time": "2022-02-08T08:35:57.774Z"
   },
   {
    "duration": 22,
    "start_time": "2022-02-08T08:35:57.781Z"
   },
   {
    "duration": 59,
    "start_time": "2022-02-08T08:35:57.807Z"
   },
   {
    "duration": 37,
    "start_time": "2022-02-08T08:35:57.868Z"
   },
   {
    "duration": 6,
    "start_time": "2022-02-08T08:35:57.906Z"
   },
   {
    "duration": 5,
    "start_time": "2022-02-08T08:35:57.914Z"
   },
   {
    "duration": 47,
    "start_time": "2022-02-08T08:35:57.921Z"
   },
   {
    "duration": 23,
    "start_time": "2022-02-08T08:35:57.970Z"
   },
   {
    "duration": 3,
    "start_time": "2022-02-08T08:35:57.994Z"
   },
   {
    "duration": 29,
    "start_time": "2022-02-08T08:35:57.999Z"
   },
   {
    "duration": 45,
    "start_time": "2022-02-08T08:35:58.030Z"
   },
   {
    "duration": 25,
    "start_time": "2022-02-08T08:35:58.076Z"
   },
   {
    "duration": 8,
    "start_time": "2022-02-08T08:35:58.103Z"
   },
   {
    "duration": 14,
    "start_time": "2022-02-08T08:35:58.112Z"
   },
   {
    "duration": 39,
    "start_time": "2022-02-08T08:35:58.128Z"
   },
   {
    "duration": 422,
    "start_time": "2022-02-08T08:35:58.169Z"
   },
   {
    "duration": -1573,
    "start_time": "2022-02-08T08:36:00.165Z"
   },
   {
    "duration": -1577,
    "start_time": "2022-02-08T08:36:00.170Z"
   },
   {
    "duration": -1582,
    "start_time": "2022-02-08T08:36:00.176Z"
   },
   {
    "duration": -1587,
    "start_time": "2022-02-08T08:36:00.182Z"
   },
   {
    "duration": -1591,
    "start_time": "2022-02-08T08:36:00.187Z"
   },
   {
    "duration": -1597,
    "start_time": "2022-02-08T08:36:00.194Z"
   },
   {
    "duration": -1601,
    "start_time": "2022-02-08T08:36:00.199Z"
   },
   {
    "duration": -1606,
    "start_time": "2022-02-08T08:36:00.205Z"
   },
   {
    "duration": 1140,
    "start_time": "2022-02-08T08:37:54.954Z"
   },
   {
    "duration": 132,
    "start_time": "2022-02-08T08:37:56.096Z"
   },
   {
    "duration": 13,
    "start_time": "2022-02-08T08:37:56.230Z"
   },
   {
    "duration": 37,
    "start_time": "2022-02-08T08:37:56.245Z"
   },
   {
    "duration": 4,
    "start_time": "2022-02-08T08:37:56.283Z"
   },
   {
    "duration": 17,
    "start_time": "2022-02-08T08:37:56.288Z"
   },
   {
    "duration": 6,
    "start_time": "2022-02-08T08:37:56.307Z"
   },
   {
    "duration": 14,
    "start_time": "2022-02-08T08:37:56.315Z"
   },
   {
    "duration": 39,
    "start_time": "2022-02-08T08:37:56.331Z"
   },
   {
    "duration": 14,
    "start_time": "2022-02-08T08:37:56.371Z"
   },
   {
    "duration": 28,
    "start_time": "2022-02-08T08:37:56.387Z"
   },
   {
    "duration": 62,
    "start_time": "2022-02-08T08:37:56.416Z"
   },
   {
    "duration": 79,
    "start_time": "2022-02-08T08:37:56.480Z"
   },
   {
    "duration": 12,
    "start_time": "2022-02-08T08:37:56.561Z"
   },
   {
    "duration": 275,
    "start_time": "2022-02-08T08:37:56.575Z"
   },
   {
    "duration": -1596,
    "start_time": "2022-02-08T08:37:58.448Z"
   },
   {
    "duration": -1602,
    "start_time": "2022-02-08T08:37:58.455Z"
   },
   {
    "duration": -1606,
    "start_time": "2022-02-08T08:37:58.460Z"
   },
   {
    "duration": -1611,
    "start_time": "2022-02-08T08:37:58.466Z"
   },
   {
    "duration": -1615,
    "start_time": "2022-02-08T08:37:58.471Z"
   },
   {
    "duration": -1620,
    "start_time": "2022-02-08T08:37:58.477Z"
   },
   {
    "duration": -1625,
    "start_time": "2022-02-08T08:37:58.482Z"
   },
   {
    "duration": -1630,
    "start_time": "2022-02-08T08:37:58.488Z"
   },
   {
    "duration": -1634,
    "start_time": "2022-02-08T08:37:58.493Z"
   },
   {
    "duration": -1640,
    "start_time": "2022-02-08T08:37:58.500Z"
   },
   {
    "duration": -1644,
    "start_time": "2022-02-08T08:37:58.505Z"
   },
   {
    "duration": -1649,
    "start_time": "2022-02-08T08:37:58.511Z"
   },
   {
    "duration": -1653,
    "start_time": "2022-02-08T08:37:58.516Z"
   },
   {
    "duration": -1658,
    "start_time": "2022-02-08T08:37:58.522Z"
   },
   {
    "duration": -1662,
    "start_time": "2022-02-08T08:37:58.527Z"
   },
   {
    "duration": -1695,
    "start_time": "2022-02-08T08:37:58.561Z"
   },
   {
    "duration": -1699,
    "start_time": "2022-02-08T08:37:58.566Z"
   },
   {
    "duration": -1704,
    "start_time": "2022-02-08T08:37:58.572Z"
   },
   {
    "duration": -1708,
    "start_time": "2022-02-08T08:37:58.577Z"
   },
   {
    "duration": -1713,
    "start_time": "2022-02-08T08:37:58.583Z"
   },
   {
    "duration": -1718,
    "start_time": "2022-02-08T08:37:58.588Z"
   },
   {
    "duration": -1722,
    "start_time": "2022-02-08T08:37:58.593Z"
   },
   {
    "duration": -1726,
    "start_time": "2022-02-08T08:37:58.598Z"
   },
   {
    "duration": -1731,
    "start_time": "2022-02-08T08:37:58.604Z"
   },
   {
    "duration": -1735,
    "start_time": "2022-02-08T08:37:58.609Z"
   },
   {
    "duration": -1740,
    "start_time": "2022-02-08T08:37:58.615Z"
   },
   {
    "duration": -1745,
    "start_time": "2022-02-08T08:37:58.620Z"
   },
   {
    "duration": -1751,
    "start_time": "2022-02-08T08:37:58.627Z"
   },
   {
    "duration": -1755,
    "start_time": "2022-02-08T08:37:58.632Z"
   },
   {
    "duration": 3,
    "start_time": "2022-02-08T08:39:53.765Z"
   },
   {
    "duration": 10,
    "start_time": "2022-02-08T08:40:00.060Z"
   },
   {
    "duration": 2255,
    "start_time": "2022-02-08T08:40:28.439Z"
   },
   {
    "duration": 146,
    "start_time": "2022-02-08T08:40:30.696Z"
   },
   {
    "duration": 19,
    "start_time": "2022-02-08T08:40:30.846Z"
   },
   {
    "duration": 38,
    "start_time": "2022-02-08T08:40:30.866Z"
   },
   {
    "duration": 15,
    "start_time": "2022-02-08T08:40:30.906Z"
   },
   {
    "duration": 61,
    "start_time": "2022-02-08T08:40:30.923Z"
   },
   {
    "duration": 48,
    "start_time": "2022-02-08T08:40:30.986Z"
   },
   {
    "duration": 24,
    "start_time": "2022-02-08T08:40:31.036Z"
   },
   {
    "duration": 38,
    "start_time": "2022-02-08T08:40:31.062Z"
   },
   {
    "duration": 33,
    "start_time": "2022-02-08T08:40:31.102Z"
   },
   {
    "duration": 31,
    "start_time": "2022-02-08T08:40:31.137Z"
   },
   {
    "duration": 72,
    "start_time": "2022-02-08T08:40:31.170Z"
   },
   {
    "duration": 69,
    "start_time": "2022-02-08T08:40:31.243Z"
   },
   {
    "duration": 9,
    "start_time": "2022-02-08T08:40:31.314Z"
   },
   {
    "duration": 10,
    "start_time": "2022-02-08T08:40:31.325Z"
   },
   {
    "duration": 22,
    "start_time": "2022-02-08T08:40:31.337Z"
   },
   {
    "duration": 52,
    "start_time": "2022-02-08T08:40:31.361Z"
   },
   {
    "duration": 50,
    "start_time": "2022-02-08T08:40:31.415Z"
   },
   {
    "duration": 36,
    "start_time": "2022-02-08T08:40:31.467Z"
   },
   {
    "duration": 4,
    "start_time": "2022-02-08T08:40:31.505Z"
   },
   {
    "duration": 7,
    "start_time": "2022-02-08T08:40:31.510Z"
   },
   {
    "duration": 44,
    "start_time": "2022-02-08T08:40:31.520Z"
   },
   {
    "duration": 38,
    "start_time": "2022-02-08T08:40:31.566Z"
   },
   {
    "duration": 39,
    "start_time": "2022-02-08T08:40:31.605Z"
   },
   {
    "duration": 18,
    "start_time": "2022-02-08T08:40:31.645Z"
   },
   {
    "duration": 8,
    "start_time": "2022-02-08T08:40:31.664Z"
   },
   {
    "duration": 24,
    "start_time": "2022-02-08T08:40:31.674Z"
   },
   {
    "duration": 22,
    "start_time": "2022-02-08T08:40:31.700Z"
   },
   {
    "duration": 2,
    "start_time": "2022-02-08T08:40:31.724Z"
   },
   {
    "duration": 50,
    "start_time": "2022-02-08T08:40:31.728Z"
   },
   {
    "duration": 24,
    "start_time": "2022-02-08T08:40:31.780Z"
   },
   {
    "duration": 26,
    "start_time": "2022-02-08T08:40:31.806Z"
   },
   {
    "duration": 31,
    "start_time": "2022-02-08T08:40:31.833Z"
   },
   {
    "duration": 15,
    "start_time": "2022-02-08T08:40:31.866Z"
   },
   {
    "duration": 13,
    "start_time": "2022-02-08T08:40:31.883Z"
   },
   {
    "duration": 435,
    "start_time": "2022-02-08T08:40:31.898Z"
   },
   {
    "duration": -1567,
    "start_time": "2022-02-08T08:40:33.902Z"
   },
   {
    "duration": -1573,
    "start_time": "2022-02-08T08:40:33.908Z"
   },
   {
    "duration": -1589,
    "start_time": "2022-02-08T08:40:33.925Z"
   },
   {
    "duration": -1594,
    "start_time": "2022-02-08T08:40:33.931Z"
   },
   {
    "duration": -1599,
    "start_time": "2022-02-08T08:40:33.937Z"
   },
   {
    "duration": -1604,
    "start_time": "2022-02-08T08:40:33.943Z"
   },
   {
    "duration": -1608,
    "start_time": "2022-02-08T08:40:33.948Z"
   },
   {
    "duration": -1614,
    "start_time": "2022-02-08T08:40:33.955Z"
   },
   {
    "duration": 1031,
    "start_time": "2022-02-08T08:42:23.856Z"
   },
   {
    "duration": 1092,
    "start_time": "2022-02-08T08:42:33.378Z"
   },
   {
    "duration": 22,
    "start_time": "2022-02-08T08:44:52.376Z"
   },
   {
    "duration": 23,
    "start_time": "2022-02-08T08:44:57.473Z"
   },
   {
    "duration": 4,
    "start_time": "2022-02-08T08:45:03.038Z"
   },
   {
    "duration": 14,
    "start_time": "2022-02-08T08:45:15.520Z"
   },
   {
    "duration": 12,
    "start_time": "2022-02-08T08:45:21.559Z"
   },
   {
    "duration": 349,
    "start_time": "2022-02-08T08:45:27.448Z"
   },
   {
    "duration": 1190,
    "start_time": "2022-02-08T08:48:37.161Z"
   },
   {
    "duration": 949,
    "start_time": "2022-02-08T08:51:42.810Z"
   },
   {
    "duration": 1091,
    "start_time": "2022-02-08T08:52:11.481Z"
   },
   {
    "duration": 134,
    "start_time": "2022-02-08T08:52:12.574Z"
   },
   {
    "duration": 13,
    "start_time": "2022-02-08T08:52:12.710Z"
   },
   {
    "duration": 26,
    "start_time": "2022-02-08T08:52:12.725Z"
   },
   {
    "duration": 3,
    "start_time": "2022-02-08T08:52:12.759Z"
   },
   {
    "duration": 20,
    "start_time": "2022-02-08T08:52:12.764Z"
   },
   {
    "duration": 6,
    "start_time": "2022-02-08T08:52:12.786Z"
   },
   {
    "duration": 13,
    "start_time": "2022-02-08T08:52:12.795Z"
   },
   {
    "duration": 26,
    "start_time": "2022-02-08T08:52:12.809Z"
   },
   {
    "duration": 33,
    "start_time": "2022-02-08T08:52:12.836Z"
   },
   {
    "duration": 25,
    "start_time": "2022-02-08T08:52:12.870Z"
   },
   {
    "duration": 67,
    "start_time": "2022-02-08T08:52:12.896Z"
   },
   {
    "duration": 62,
    "start_time": "2022-02-08T08:52:12.964Z"
   },
   {
    "duration": 10,
    "start_time": "2022-02-08T08:52:13.028Z"
   },
   {
    "duration": 3,
    "start_time": "2022-02-08T08:52:13.059Z"
   },
   {
    "duration": 12,
    "start_time": "2022-02-08T08:52:13.064Z"
   },
   {
    "duration": 53,
    "start_time": "2022-02-08T08:52:13.078Z"
   },
   {
    "duration": 54,
    "start_time": "2022-02-08T08:52:13.132Z"
   },
   {
    "duration": 36,
    "start_time": "2022-02-08T08:52:13.187Z"
   },
   {
    "duration": 9,
    "start_time": "2022-02-08T08:52:13.225Z"
   },
   {
    "duration": 8,
    "start_time": "2022-02-08T08:52:13.237Z"
   },
   {
    "duration": 21,
    "start_time": "2022-02-08T08:52:13.259Z"
   },
   {
    "duration": 37,
    "start_time": "2022-02-08T08:52:13.284Z"
   },
   {
    "duration": 57,
    "start_time": "2022-02-08T08:52:13.323Z"
   },
   {
    "duration": 12,
    "start_time": "2022-02-08T08:52:13.381Z"
   },
   {
    "duration": 8,
    "start_time": "2022-02-08T08:52:13.394Z"
   },
   {
    "duration": 21,
    "start_time": "2022-02-08T08:52:13.404Z"
   },
   {
    "duration": 43,
    "start_time": "2022-02-08T08:52:13.426Z"
   },
   {
    "duration": 3,
    "start_time": "2022-02-08T08:52:13.470Z"
   },
   {
    "duration": 28,
    "start_time": "2022-02-08T08:52:13.474Z"
   },
   {
    "duration": 25,
    "start_time": "2022-02-08T08:52:13.504Z"
   },
   {
    "duration": 42,
    "start_time": "2022-02-08T08:52:13.530Z"
   },
   {
    "duration": 8,
    "start_time": "2022-02-08T08:52:13.574Z"
   },
   {
    "duration": 12,
    "start_time": "2022-02-08T08:52:13.584Z"
   },
   {
    "duration": 12,
    "start_time": "2022-02-08T08:52:13.597Z"
   },
   {
    "duration": 469,
    "start_time": "2022-02-08T08:52:13.611Z"
   },
   {
    "duration": -1569,
    "start_time": "2022-02-08T08:52:15.651Z"
   },
   {
    "duration": -1575,
    "start_time": "2022-02-08T08:52:15.658Z"
   },
   {
    "duration": -1580,
    "start_time": "2022-02-08T08:52:15.664Z"
   },
   {
    "duration": -1585,
    "start_time": "2022-02-08T08:52:15.670Z"
   },
   {
    "duration": -1589,
    "start_time": "2022-02-08T08:52:15.675Z"
   },
   {
    "duration": -1595,
    "start_time": "2022-02-08T08:52:15.682Z"
   },
   {
    "duration": -1600,
    "start_time": "2022-02-08T08:52:15.687Z"
   },
   {
    "duration": -1605,
    "start_time": "2022-02-08T08:52:15.693Z"
   },
   {
    "duration": 5,
    "start_time": "2022-02-08T08:52:34.769Z"
   },
   {
    "duration": 1065,
    "start_time": "2022-02-08T08:53:11.814Z"
   },
   {
    "duration": 133,
    "start_time": "2022-02-08T08:53:12.881Z"
   },
   {
    "duration": 13,
    "start_time": "2022-02-08T08:53:13.016Z"
   },
   {
    "duration": 37,
    "start_time": "2022-02-08T08:53:13.031Z"
   },
   {
    "duration": 6,
    "start_time": "2022-02-08T08:53:13.070Z"
   },
   {
    "duration": 19,
    "start_time": "2022-02-08T08:53:13.078Z"
   },
   {
    "duration": 6,
    "start_time": "2022-02-08T08:53:13.099Z"
   },
   {
    "duration": 12,
    "start_time": "2022-02-08T08:53:13.107Z"
   },
   {
    "duration": 38,
    "start_time": "2022-02-08T08:53:13.121Z"
   },
   {
    "duration": 14,
    "start_time": "2022-02-08T08:53:13.161Z"
   },
   {
    "duration": 24,
    "start_time": "2022-02-08T08:53:13.177Z"
   },
   {
    "duration": 75,
    "start_time": "2022-02-08T08:53:13.203Z"
   },
   {
    "duration": 62,
    "start_time": "2022-02-08T08:53:13.279Z"
   },
   {
    "duration": 23,
    "start_time": "2022-02-08T08:53:13.342Z"
   },
   {
    "duration": 8,
    "start_time": "2022-02-08T08:53:13.367Z"
   },
   {
    "duration": 16,
    "start_time": "2022-02-08T08:53:13.377Z"
   },
   {
    "duration": 66,
    "start_time": "2022-02-08T08:53:13.394Z"
   },
   {
    "duration": 40,
    "start_time": "2022-02-08T08:53:13.462Z"
   },
   {
    "duration": 59,
    "start_time": "2022-02-08T08:53:13.504Z"
   },
   {
    "duration": 4,
    "start_time": "2022-02-08T08:53:13.565Z"
   },
   {
    "duration": 26,
    "start_time": "2022-02-08T08:53:13.570Z"
   },
   {
    "duration": 31,
    "start_time": "2022-02-08T08:53:13.598Z"
   },
   {
    "duration": 42,
    "start_time": "2022-02-08T08:53:13.632Z"
   },
   {
    "duration": 37,
    "start_time": "2022-02-08T08:53:13.676Z"
   },
   {
    "duration": 5,
    "start_time": "2022-02-08T08:53:13.715Z"
   },
   {
    "duration": 7,
    "start_time": "2022-02-08T08:53:13.722Z"
   },
   {
    "duration": 45,
    "start_time": "2022-02-08T08:53:13.731Z"
   },
   {
    "duration": 26,
    "start_time": "2022-02-08T08:53:13.777Z"
   },
   {
    "duration": 4,
    "start_time": "2022-02-08T08:53:13.805Z"
   },
   {
    "duration": 53,
    "start_time": "2022-02-08T08:53:13.811Z"
   },
   {
    "duration": 25,
    "start_time": "2022-02-08T08:53:13.867Z"
   },
   {
    "duration": 27,
    "start_time": "2022-02-08T08:53:13.894Z"
   },
   {
    "duration": 37,
    "start_time": "2022-02-08T08:53:13.923Z"
   },
   {
    "duration": 13,
    "start_time": "2022-02-08T08:53:13.963Z"
   },
   {
    "duration": 19,
    "start_time": "2022-02-08T08:53:13.978Z"
   },
   {
    "duration": 7,
    "start_time": "2022-02-08T08:53:13.999Z"
   },
   {
    "duration": 503,
    "start_time": "2022-02-08T08:53:14.007Z"
   },
   {
    "duration": -1578,
    "start_time": "2022-02-08T08:53:16.090Z"
   },
   {
    "duration": -1582,
    "start_time": "2022-02-08T08:53:16.095Z"
   },
   {
    "duration": -1588,
    "start_time": "2022-02-08T08:53:16.102Z"
   },
   {
    "duration": -1592,
    "start_time": "2022-02-08T08:53:16.108Z"
   },
   {
    "duration": -1596,
    "start_time": "2022-02-08T08:53:16.113Z"
   },
   {
    "duration": -1612,
    "start_time": "2022-02-08T08:53:16.130Z"
   },
   {
    "duration": -1618,
    "start_time": "2022-02-08T08:53:16.137Z"
   },
   {
    "duration": -1622,
    "start_time": "2022-02-08T08:53:16.142Z"
   },
   {
    "duration": 5,
    "start_time": "2022-02-08T09:01:23.063Z"
   },
   {
    "duration": 1066,
    "start_time": "2022-02-08T09:01:27.591Z"
   },
   {
    "duration": 1066,
    "start_time": "2022-02-08T09:01:52.327Z"
   },
   {
    "duration": 132,
    "start_time": "2022-02-08T09:01:53.394Z"
   },
   {
    "duration": 13,
    "start_time": "2022-02-08T09:01:53.528Z"
   },
   {
    "duration": 43,
    "start_time": "2022-02-08T09:01:53.543Z"
   },
   {
    "duration": 22,
    "start_time": "2022-02-08T09:01:53.587Z"
   },
   {
    "duration": 22,
    "start_time": "2022-02-08T09:01:53.610Z"
   },
   {
    "duration": 7,
    "start_time": "2022-02-08T09:01:53.633Z"
   },
   {
    "duration": 28,
    "start_time": "2022-02-08T09:01:53.643Z"
   },
   {
    "duration": 28,
    "start_time": "2022-02-08T09:01:53.673Z"
   },
   {
    "duration": 36,
    "start_time": "2022-02-08T09:01:53.703Z"
   },
   {
    "duration": 26,
    "start_time": "2022-02-08T09:01:53.741Z"
   },
   {
    "duration": 68,
    "start_time": "2022-02-08T09:01:53.769Z"
   },
   {
    "duration": 76,
    "start_time": "2022-02-08T09:01:53.839Z"
   },
   {
    "duration": 9,
    "start_time": "2022-02-08T09:01:53.917Z"
   },
   {
    "duration": 15,
    "start_time": "2022-02-08T09:01:53.928Z"
   },
   {
    "duration": 28,
    "start_time": "2022-02-08T09:01:53.945Z"
   },
   {
    "duration": 60,
    "start_time": "2022-02-08T09:01:53.975Z"
   },
   {
    "duration": 37,
    "start_time": "2022-02-08T09:01:54.037Z"
   },
   {
    "duration": 42,
    "start_time": "2022-02-08T09:01:54.076Z"
   },
   {
    "duration": 11,
    "start_time": "2022-02-08T09:01:54.119Z"
   },
   {
    "duration": 11,
    "start_time": "2022-02-08T09:01:54.132Z"
   },
   {
    "duration": 38,
    "start_time": "2022-02-08T09:01:54.144Z"
   },
   {
    "duration": 41,
    "start_time": "2022-02-08T09:01:54.186Z"
   },
   {
    "duration": 37,
    "start_time": "2022-02-08T09:01:54.229Z"
   },
   {
    "duration": 9,
    "start_time": "2022-02-08T09:01:54.268Z"
   },
   {
    "duration": 19,
    "start_time": "2022-02-08T09:01:54.279Z"
   },
   {
    "duration": 31,
    "start_time": "2022-02-08T09:01:54.300Z"
   },
   {
    "duration": 27,
    "start_time": "2022-02-08T09:01:54.333Z"
   },
   {
    "duration": 4,
    "start_time": "2022-02-08T09:01:54.362Z"
   },
   {
    "duration": 35,
    "start_time": "2022-02-08T09:01:54.367Z"
   },
   {
    "duration": 30,
    "start_time": "2022-02-08T09:01:54.404Z"
   },
   {
    "duration": 34,
    "start_time": "2022-02-08T09:01:54.436Z"
   },
   {
    "duration": 9,
    "start_time": "2022-02-08T09:01:54.472Z"
   },
   {
    "duration": 33,
    "start_time": "2022-02-08T09:01:54.483Z"
   },
   {
    "duration": 19,
    "start_time": "2022-02-08T09:01:54.518Z"
   },
   {
    "duration": 17,
    "start_time": "2022-02-08T09:01:54.539Z"
   },
   {
    "duration": 511,
    "start_time": "2022-02-08T09:01:54.558Z"
   },
   {
    "duration": -1566,
    "start_time": "2022-02-08T09:01:56.637Z"
   },
   {
    "duration": -1583,
    "start_time": "2022-02-08T09:01:56.656Z"
   },
   {
    "duration": -1598,
    "start_time": "2022-02-08T09:01:56.672Z"
   },
   {
    "duration": -1604,
    "start_time": "2022-02-08T09:01:56.680Z"
   },
   {
    "duration": -1608,
    "start_time": "2022-02-08T09:01:56.685Z"
   },
   {
    "duration": -1612,
    "start_time": "2022-02-08T09:01:56.691Z"
   },
   {
    "duration": -1616,
    "start_time": "2022-02-08T09:01:56.696Z"
   },
   {
    "duration": -1621,
    "start_time": "2022-02-08T09:01:56.702Z"
   },
   {
    "duration": 1079,
    "start_time": "2022-02-08T09:02:20.804Z"
   },
   {
    "duration": 133,
    "start_time": "2022-02-08T09:02:21.885Z"
   },
   {
    "duration": 13,
    "start_time": "2022-02-08T09:02:22.023Z"
   },
   {
    "duration": 38,
    "start_time": "2022-02-08T09:02:22.038Z"
   },
   {
    "duration": 3,
    "start_time": "2022-02-08T09:02:22.078Z"
   },
   {
    "duration": 18,
    "start_time": "2022-02-08T09:02:22.082Z"
   },
   {
    "duration": 14,
    "start_time": "2022-02-08T09:02:22.102Z"
   },
   {
    "duration": 12,
    "start_time": "2022-02-08T09:02:22.118Z"
   },
   {
    "duration": 45,
    "start_time": "2022-02-08T09:02:22.132Z"
   },
   {
    "duration": 15,
    "start_time": "2022-02-08T09:02:22.179Z"
   },
   {
    "duration": 25,
    "start_time": "2022-02-08T09:02:22.195Z"
   },
   {
    "duration": 81,
    "start_time": "2022-02-08T09:02:22.222Z"
   },
   {
    "duration": 75,
    "start_time": "2022-02-08T09:02:22.305Z"
   },
   {
    "duration": 11,
    "start_time": "2022-02-08T09:02:22.383Z"
   },
   {
    "duration": 3,
    "start_time": "2022-02-08T09:02:22.396Z"
   },
   {
    "duration": 14,
    "start_time": "2022-02-08T09:02:22.401Z"
   },
   {
    "duration": 76,
    "start_time": "2022-02-08T09:02:22.417Z"
   },
   {
    "duration": 39,
    "start_time": "2022-02-08T09:02:22.495Z"
   },
   {
    "duration": 59,
    "start_time": "2022-02-08T09:02:22.535Z"
   },
   {
    "duration": 15,
    "start_time": "2022-02-08T09:02:22.596Z"
   },
   {
    "duration": 23,
    "start_time": "2022-02-08T09:02:22.615Z"
   },
   {
    "duration": 34,
    "start_time": "2022-02-08T09:02:22.642Z"
   },
   {
    "duration": 53,
    "start_time": "2022-02-08T09:02:22.679Z"
   },
   {
    "duration": 53,
    "start_time": "2022-02-08T09:02:22.734Z"
   },
   {
    "duration": 24,
    "start_time": "2022-02-08T09:02:22.789Z"
   },
   {
    "duration": 18,
    "start_time": "2022-02-08T09:02:22.814Z"
   },
   {
    "duration": 29,
    "start_time": "2022-02-08T09:02:22.834Z"
   },
   {
    "duration": 24,
    "start_time": "2022-02-08T09:02:22.864Z"
   },
   {
    "duration": 17,
    "start_time": "2022-02-08T09:02:22.890Z"
   },
   {
    "duration": 40,
    "start_time": "2022-02-08T09:02:22.908Z"
   },
   {
    "duration": 24,
    "start_time": "2022-02-08T09:02:22.949Z"
   },
   {
    "duration": 25,
    "start_time": "2022-02-08T09:02:22.975Z"
   },
   {
    "duration": 8,
    "start_time": "2022-02-08T09:02:23.001Z"
   },
   {
    "duration": 14,
    "start_time": "2022-02-08T09:02:23.011Z"
   },
   {
    "duration": 37,
    "start_time": "2022-02-08T09:02:23.027Z"
   },
   {
    "duration": 7,
    "start_time": "2022-02-08T09:02:23.066Z"
   },
   {
    "duration": 497,
    "start_time": "2022-02-08T09:02:23.074Z"
   },
   {
    "duration": -1619,
    "start_time": "2022-02-08T09:02:25.192Z"
   },
   {
    "duration": -1631,
    "start_time": "2022-02-08T09:02:25.205Z"
   },
   {
    "duration": -1653,
    "start_time": "2022-02-08T09:02:25.228Z"
   },
   {
    "duration": -1660,
    "start_time": "2022-02-08T09:02:25.236Z"
   },
   {
    "duration": -1667,
    "start_time": "2022-02-08T09:02:25.244Z"
   },
   {
    "duration": -1673,
    "start_time": "2022-02-08T09:02:25.251Z"
   },
   {
    "duration": -1681,
    "start_time": "2022-02-08T09:02:25.259Z"
   },
   {
    "duration": -1687,
    "start_time": "2022-02-08T09:02:25.266Z"
   },
   {
    "duration": 6,
    "start_time": "2022-02-08T09:06:22.500Z"
   },
   {
    "duration": 6,
    "start_time": "2022-02-08T09:06:24.780Z"
   },
   {
    "duration": 540,
    "start_time": "2022-02-08T09:06:28.516Z"
   },
   {
    "duration": 1192,
    "start_time": "2022-02-08T09:07:00.944Z"
   },
   {
    "duration": 138,
    "start_time": "2022-02-08T09:07:02.138Z"
   },
   {
    "duration": 13,
    "start_time": "2022-02-08T09:07:02.278Z"
   },
   {
    "duration": 27,
    "start_time": "2022-02-08T09:07:02.293Z"
   },
   {
    "duration": 10,
    "start_time": "2022-02-08T09:07:02.322Z"
   },
   {
    "duration": 29,
    "start_time": "2022-02-08T09:07:02.333Z"
   },
   {
    "duration": 5,
    "start_time": "2022-02-08T09:07:02.364Z"
   },
   {
    "duration": 17,
    "start_time": "2022-02-08T09:07:02.372Z"
   },
   {
    "duration": 41,
    "start_time": "2022-02-08T09:07:02.391Z"
   },
   {
    "duration": 19,
    "start_time": "2022-02-08T09:07:02.434Z"
   },
   {
    "duration": 27,
    "start_time": "2022-02-08T09:07:02.455Z"
   },
   {
    "duration": 57,
    "start_time": "2022-02-08T09:07:02.484Z"
   },
   {
    "duration": 72,
    "start_time": "2022-02-08T09:07:02.543Z"
   },
   {
    "duration": 10,
    "start_time": "2022-02-08T09:07:02.617Z"
   },
   {
    "duration": 32,
    "start_time": "2022-02-08T09:07:02.628Z"
   },
   {
    "duration": 37,
    "start_time": "2022-02-08T09:07:02.662Z"
   },
   {
    "duration": 65,
    "start_time": "2022-02-08T09:07:02.701Z"
   },
   {
    "duration": 38,
    "start_time": "2022-02-08T09:07:02.768Z"
   },
   {
    "duration": 53,
    "start_time": "2022-02-08T09:07:02.808Z"
   },
   {
    "duration": 5,
    "start_time": "2022-02-08T09:07:02.863Z"
   },
   {
    "duration": 34,
    "start_time": "2022-02-08T09:07:02.870Z"
   },
   {
    "duration": 37,
    "start_time": "2022-02-08T09:07:02.906Z"
   },
   {
    "duration": 50,
    "start_time": "2022-02-08T09:07:02.947Z"
   },
   {
    "duration": 42,
    "start_time": "2022-02-08T09:07:03.000Z"
   },
   {
    "duration": 12,
    "start_time": "2022-02-08T09:07:03.045Z"
   },
   {
    "duration": 8,
    "start_time": "2022-02-08T09:07:03.059Z"
   },
   {
    "duration": 28,
    "start_time": "2022-02-08T09:07:03.068Z"
   },
   {
    "duration": 24,
    "start_time": "2022-02-08T09:07:03.098Z"
   },
   {
    "duration": 4,
    "start_time": "2022-02-08T09:07:03.124Z"
   },
   {
    "duration": 56,
    "start_time": "2022-02-08T09:07:03.129Z"
   },
   {
    "duration": 26,
    "start_time": "2022-02-08T09:07:03.187Z"
   },
   {
    "duration": 52,
    "start_time": "2022-02-08T09:07:03.215Z"
   },
   {
    "duration": 9,
    "start_time": "2022-02-08T09:07:03.268Z"
   },
   {
    "duration": 13,
    "start_time": "2022-02-08T09:07:03.279Z"
   },
   {
    "duration": 12,
    "start_time": "2022-02-08T09:07:03.294Z"
   },
   {
    "duration": 7,
    "start_time": "2022-02-08T09:07:03.308Z"
   },
   {
    "duration": 611,
    "start_time": "2022-02-08T09:07:03.316Z"
   },
   {
    "duration": -1576,
    "start_time": "2022-02-08T09:07:05.505Z"
   },
   {
    "duration": -1582,
    "start_time": "2022-02-08T09:07:05.512Z"
   },
   {
    "duration": -1587,
    "start_time": "2022-02-08T09:07:05.518Z"
   },
   {
    "duration": -1591,
    "start_time": "2022-02-08T09:07:05.523Z"
   },
   {
    "duration": -1597,
    "start_time": "2022-02-08T09:07:05.529Z"
   },
   {
    "duration": -1614,
    "start_time": "2022-02-08T09:07:05.548Z"
   },
   {
    "duration": -1618,
    "start_time": "2022-02-08T09:07:05.553Z"
   },
   {
    "duration": -1625,
    "start_time": "2022-02-08T09:07:05.562Z"
   },
   {
    "duration": 1096,
    "start_time": "2022-02-08T09:08:16.869Z"
   },
   {
    "duration": 127,
    "start_time": "2022-02-08T09:08:17.967Z"
   },
   {
    "duration": 13,
    "start_time": "2022-02-08T09:08:18.096Z"
   },
   {
    "duration": 39,
    "start_time": "2022-02-08T09:08:18.110Z"
   },
   {
    "duration": 8,
    "start_time": "2022-02-08T09:08:18.151Z"
   },
   {
    "duration": 17,
    "start_time": "2022-02-08T09:08:18.161Z"
   },
   {
    "duration": 7,
    "start_time": "2022-02-08T09:08:18.179Z"
   },
   {
    "duration": 12,
    "start_time": "2022-02-08T09:08:18.188Z"
   },
   {
    "duration": 24,
    "start_time": "2022-02-08T09:08:18.202Z"
   },
   {
    "duration": 31,
    "start_time": "2022-02-08T09:08:18.228Z"
   },
   {
    "duration": 24,
    "start_time": "2022-02-08T09:08:18.261Z"
   },
   {
    "duration": 55,
    "start_time": "2022-02-08T09:08:18.287Z"
   },
   {
    "duration": 63,
    "start_time": "2022-02-08T09:08:18.358Z"
   },
   {
    "duration": 9,
    "start_time": "2022-02-08T09:08:18.423Z"
   },
   {
    "duration": 10,
    "start_time": "2022-02-08T09:08:18.434Z"
   },
   {
    "duration": 21,
    "start_time": "2022-02-08T09:08:18.446Z"
   },
   {
    "duration": 54,
    "start_time": "2022-02-08T09:08:18.469Z"
   },
   {
    "duration": 53,
    "start_time": "2022-02-08T09:08:18.525Z"
   },
   {
    "duration": 37,
    "start_time": "2022-02-08T09:08:18.579Z"
   },
   {
    "duration": 3,
    "start_time": "2022-02-08T09:08:18.617Z"
   },
   {
    "duration": 6,
    "start_time": "2022-02-08T09:08:18.622Z"
   },
   {
    "duration": 46,
    "start_time": "2022-02-08T09:08:18.629Z"
   },
   {
    "duration": 39,
    "start_time": "2022-02-08T09:08:18.678Z"
   },
   {
    "duration": 49,
    "start_time": "2022-02-08T09:08:18.719Z"
   },
   {
    "duration": 5,
    "start_time": "2022-02-08T09:08:18.770Z"
   },
   {
    "duration": 10,
    "start_time": "2022-02-08T09:08:18.776Z"
   },
   {
    "duration": 19,
    "start_time": "2022-02-08T09:08:18.788Z"
   },
   {
    "duration": 22,
    "start_time": "2022-02-08T09:08:18.809Z"
   },
   {
    "duration": 3,
    "start_time": "2022-02-08T09:08:18.859Z"
   },
   {
    "duration": 29,
    "start_time": "2022-02-08T09:08:18.864Z"
   },
   {
    "duration": 24,
    "start_time": "2022-02-08T09:08:18.894Z"
   },
   {
    "duration": 46,
    "start_time": "2022-02-08T09:08:18.920Z"
   },
   {
    "duration": 8,
    "start_time": "2022-02-08T09:08:18.968Z"
   },
   {
    "duration": 17,
    "start_time": "2022-02-08T09:08:18.978Z"
   },
   {
    "duration": 15,
    "start_time": "2022-02-08T09:08:18.997Z"
   },
   {
    "duration": 8,
    "start_time": "2022-02-08T09:08:19.014Z"
   },
   {
    "duration": 1153,
    "start_time": "2022-02-08T09:08:19.024Z"
   },
   {
    "duration": -1581,
    "start_time": "2022-02-08T09:08:21.760Z"
   },
   {
    "duration": -1587,
    "start_time": "2022-02-08T09:08:21.767Z"
   },
   {
    "duration": -1591,
    "start_time": "2022-02-08T09:08:21.772Z"
   },
   {
    "duration": -1597,
    "start_time": "2022-02-08T09:08:21.779Z"
   },
   {
    "duration": -1601,
    "start_time": "2022-02-08T09:08:21.784Z"
   },
   {
    "duration": -1605,
    "start_time": "2022-02-08T09:08:21.789Z"
   },
   {
    "duration": -1610,
    "start_time": "2022-02-08T09:08:21.795Z"
   },
   {
    "duration": -1616,
    "start_time": "2022-02-08T09:08:21.801Z"
   },
   {
    "duration": 1081,
    "start_time": "2022-02-08T09:10:25.794Z"
   },
   {
    "duration": 133,
    "start_time": "2022-02-08T09:10:26.876Z"
   },
   {
    "duration": 14,
    "start_time": "2022-02-08T09:10:27.011Z"
   },
   {
    "duration": 34,
    "start_time": "2022-02-08T09:10:27.027Z"
   },
   {
    "duration": 3,
    "start_time": "2022-02-08T09:10:27.063Z"
   },
   {
    "duration": 16,
    "start_time": "2022-02-08T09:10:27.068Z"
   },
   {
    "duration": 16,
    "start_time": "2022-02-08T09:10:27.085Z"
   },
   {
    "duration": 31,
    "start_time": "2022-02-08T09:10:27.103Z"
   },
   {
    "duration": 31,
    "start_time": "2022-02-08T09:10:27.136Z"
   },
   {
    "duration": 19,
    "start_time": "2022-02-08T09:10:27.169Z"
   },
   {
    "duration": 39,
    "start_time": "2022-02-08T09:10:27.190Z"
   },
   {
    "duration": 74,
    "start_time": "2022-02-08T09:10:27.231Z"
   },
   {
    "duration": 75,
    "start_time": "2022-02-08T09:10:27.307Z"
   },
   {
    "duration": 9,
    "start_time": "2022-02-08T09:10:27.384Z"
   },
   {
    "duration": 16,
    "start_time": "2022-02-08T09:10:27.395Z"
   },
   {
    "duration": 15,
    "start_time": "2022-02-08T09:10:27.413Z"
   },
   {
    "duration": 72,
    "start_time": "2022-02-08T09:10:27.429Z"
   },
   {
    "duration": 38,
    "start_time": "2022-02-08T09:10:27.503Z"
   },
   {
    "duration": 48,
    "start_time": "2022-02-08T09:10:27.543Z"
   },
   {
    "duration": 3,
    "start_time": "2022-02-08T09:10:27.592Z"
   },
   {
    "duration": 9,
    "start_time": "2022-02-08T09:10:27.597Z"
   },
   {
    "duration": 36,
    "start_time": "2022-02-08T09:10:27.607Z"
   },
   {
    "duration": 59,
    "start_time": "2022-02-08T09:10:27.647Z"
   },
   {
    "duration": 45,
    "start_time": "2022-02-08T09:10:27.708Z"
   },
   {
    "duration": 18,
    "start_time": "2022-02-08T09:10:27.754Z"
   },
   {
    "duration": 15,
    "start_time": "2022-02-08T09:10:27.774Z"
   },
   {
    "duration": 35,
    "start_time": "2022-02-08T09:10:27.790Z"
   },
   {
    "duration": 25,
    "start_time": "2022-02-08T09:10:27.827Z"
   },
   {
    "duration": 3,
    "start_time": "2022-02-08T09:10:27.854Z"
   },
   {
    "duration": 34,
    "start_time": "2022-02-08T09:10:27.859Z"
   },
   {
    "duration": 25,
    "start_time": "2022-02-08T09:10:27.895Z"
   },
   {
    "duration": 36,
    "start_time": "2022-02-08T09:10:27.923Z"
   },
   {
    "duration": 8,
    "start_time": "2022-02-08T09:10:27.961Z"
   },
   {
    "duration": 25,
    "start_time": "2022-02-08T09:10:27.970Z"
   },
   {
    "duration": 26,
    "start_time": "2022-02-08T09:10:27.996Z"
   },
   {
    "duration": 6,
    "start_time": "2022-02-08T09:10:28.024Z"
   },
   {
    "duration": 576,
    "start_time": "2022-02-08T09:10:28.031Z"
   },
   {
    "duration": -1573,
    "start_time": "2022-02-08T09:10:30.183Z"
   },
   {
    "duration": -1588,
    "start_time": "2022-02-08T09:10:30.199Z"
   },
   {
    "duration": -1593,
    "start_time": "2022-02-08T09:10:30.206Z"
   },
   {
    "duration": -1598,
    "start_time": "2022-02-08T09:10:30.212Z"
   },
   {
    "duration": -1603,
    "start_time": "2022-02-08T09:10:30.218Z"
   },
   {
    "duration": -1608,
    "start_time": "2022-02-08T09:10:30.224Z"
   },
   {
    "duration": -1612,
    "start_time": "2022-02-08T09:10:30.230Z"
   },
   {
    "duration": -1617,
    "start_time": "2022-02-08T09:10:30.236Z"
   },
   {
    "duration": 1238,
    "start_time": "2022-02-08T09:22:00.686Z"
   },
   {
    "duration": 155,
    "start_time": "2022-02-08T09:22:01.926Z"
   },
   {
    "duration": 17,
    "start_time": "2022-02-08T09:22:02.083Z"
   },
   {
    "duration": 43,
    "start_time": "2022-02-08T09:22:02.103Z"
   },
   {
    "duration": 12,
    "start_time": "2022-02-08T09:22:02.148Z"
   },
   {
    "duration": 25,
    "start_time": "2022-02-08T09:22:02.163Z"
   },
   {
    "duration": 14,
    "start_time": "2022-02-08T09:22:02.191Z"
   },
   {
    "duration": 18,
    "start_time": "2022-02-08T09:22:02.208Z"
   },
   {
    "duration": 39,
    "start_time": "2022-02-08T09:22:02.229Z"
   },
   {
    "duration": 27,
    "start_time": "2022-02-08T09:22:02.271Z"
   },
   {
    "duration": 35,
    "start_time": "2022-02-08T09:22:02.300Z"
   },
   {
    "duration": 78,
    "start_time": "2022-02-08T09:22:02.337Z"
   },
   {
    "duration": 73,
    "start_time": "2022-02-08T09:22:02.417Z"
   },
   {
    "duration": 11,
    "start_time": "2022-02-08T09:22:02.492Z"
   },
   {
    "duration": 18,
    "start_time": "2022-02-08T09:22:02.505Z"
   },
   {
    "duration": 41,
    "start_time": "2022-02-08T09:22:02.525Z"
   },
   {
    "duration": 79,
    "start_time": "2022-02-08T09:22:02.568Z"
   },
   {
    "duration": 42,
    "start_time": "2022-02-08T09:22:02.648Z"
   },
   {
    "duration": 38,
    "start_time": "2022-02-08T09:22:02.692Z"
   },
   {
    "duration": 28,
    "start_time": "2022-02-08T09:22:02.732Z"
   },
   {
    "duration": 29,
    "start_time": "2022-02-08T09:22:02.762Z"
   },
   {
    "duration": 42,
    "start_time": "2022-02-08T09:22:02.793Z"
   },
   {
    "duration": 58,
    "start_time": "2022-02-08T09:22:02.839Z"
   },
   {
    "duration": 49,
    "start_time": "2022-02-08T09:22:02.899Z"
   },
   {
    "duration": 18,
    "start_time": "2022-02-08T09:22:02.950Z"
   },
   {
    "duration": 18,
    "start_time": "2022-02-08T09:22:02.970Z"
   },
   {
    "duration": 28,
    "start_time": "2022-02-08T09:22:02.990Z"
   },
   {
    "duration": 32,
    "start_time": "2022-02-08T09:22:03.020Z"
   },
   {
    "duration": 24,
    "start_time": "2022-02-08T09:22:03.054Z"
   },
   {
    "duration": 48,
    "start_time": "2022-02-08T09:22:03.080Z"
   },
   {
    "duration": 31,
    "start_time": "2022-02-08T09:22:03.131Z"
   },
   {
    "duration": 32,
    "start_time": "2022-02-08T09:22:03.164Z"
   },
   {
    "duration": 16,
    "start_time": "2022-02-08T09:22:03.198Z"
   },
   {
    "duration": 36,
    "start_time": "2022-02-08T09:22:03.216Z"
   },
   {
    "duration": 26,
    "start_time": "2022-02-08T09:22:03.254Z"
   },
   {
    "duration": 24,
    "start_time": "2022-02-08T09:22:03.282Z"
   },
   {
    "duration": 2282,
    "start_time": "2022-02-08T09:22:03.308Z"
   },
   {
    "duration": -1582,
    "start_time": "2022-02-08T09:22:07.174Z"
   },
   {
    "duration": -1587,
    "start_time": "2022-02-08T09:22:07.180Z"
   },
   {
    "duration": -1593,
    "start_time": "2022-02-08T09:22:07.187Z"
   },
   {
    "duration": -1597,
    "start_time": "2022-02-08T09:22:07.192Z"
   },
   {
    "duration": -1602,
    "start_time": "2022-02-08T09:22:07.198Z"
   },
   {
    "duration": -1607,
    "start_time": "2022-02-08T09:22:07.203Z"
   },
   {
    "duration": -1612,
    "start_time": "2022-02-08T09:22:07.209Z"
   },
   {
    "duration": -1616,
    "start_time": "2022-02-08T09:22:07.214Z"
   },
   {
    "duration": 7,
    "start_time": "2022-02-08T09:22:46.989Z"
   },
   {
    "duration": 53,
    "start_time": "2022-02-08T09:22:51.373Z"
   },
   {
    "duration": 5,
    "start_time": "2022-02-08T09:24:26.047Z"
   },
   {
    "duration": 1016,
    "start_time": "2022-02-08T09:24:36.533Z"
   },
   {
    "duration": 1080,
    "start_time": "2022-02-08T09:29:02.003Z"
   },
   {
    "duration": 143,
    "start_time": "2022-02-08T09:29:03.085Z"
   },
   {
    "duration": 13,
    "start_time": "2022-02-08T09:29:03.233Z"
   },
   {
    "duration": 30,
    "start_time": "2022-02-08T09:29:03.248Z"
   },
   {
    "duration": 4,
    "start_time": "2022-02-08T09:29:03.280Z"
   },
   {
    "duration": 17,
    "start_time": "2022-02-08T09:29:03.285Z"
   },
   {
    "duration": 13,
    "start_time": "2022-02-08T09:29:03.305Z"
   },
   {
    "duration": 16,
    "start_time": "2022-02-08T09:29:03.320Z"
   },
   {
    "duration": 41,
    "start_time": "2022-02-08T09:29:03.338Z"
   },
   {
    "duration": 14,
    "start_time": "2022-02-08T09:29:03.381Z"
   },
   {
    "duration": 29,
    "start_time": "2022-02-08T09:29:03.397Z"
   },
   {
    "duration": 77,
    "start_time": "2022-02-08T09:29:03.428Z"
   },
   {
    "duration": 74,
    "start_time": "2022-02-08T09:29:03.507Z"
   },
   {
    "duration": 11,
    "start_time": "2022-02-08T09:29:03.583Z"
   },
   {
    "duration": 3,
    "start_time": "2022-02-08T09:29:03.596Z"
   },
   {
    "duration": 13,
    "start_time": "2022-02-08T09:29:03.600Z"
   },
   {
    "duration": 79,
    "start_time": "2022-02-08T09:29:03.614Z"
   },
   {
    "duration": 37,
    "start_time": "2022-02-08T09:29:03.695Z"
   },
   {
    "duration": 49,
    "start_time": "2022-02-08T09:29:03.734Z"
   },
   {
    "duration": 4,
    "start_time": "2022-02-08T09:29:03.785Z"
   },
   {
    "duration": 13,
    "start_time": "2022-02-08T09:29:03.790Z"
   },
   {
    "duration": 28,
    "start_time": "2022-02-08T09:29:03.806Z"
   },
   {
    "duration": 44,
    "start_time": "2022-02-08T09:29:03.836Z"
   },
   {
    "duration": 38,
    "start_time": "2022-02-08T09:29:03.882Z"
   },
   {
    "duration": 6,
    "start_time": "2022-02-08T09:29:03.921Z"
   },
   {
    "duration": 34,
    "start_time": "2022-02-08T09:29:03.929Z"
   },
   {
    "duration": 24,
    "start_time": "2022-02-08T09:29:03.965Z"
   },
   {
    "duration": 26,
    "start_time": "2022-02-08T09:29:03.991Z"
   },
   {
    "duration": 4,
    "start_time": "2022-02-08T09:29:04.019Z"
   },
   {
    "duration": 59,
    "start_time": "2022-02-08T09:29:04.024Z"
   },
   {
    "duration": 25,
    "start_time": "2022-02-08T09:29:04.085Z"
   },
   {
    "duration": 51,
    "start_time": "2022-02-08T09:29:04.112Z"
   },
   {
    "duration": 8,
    "start_time": "2022-02-08T09:29:04.165Z"
   },
   {
    "duration": 18,
    "start_time": "2022-02-08T09:29:04.175Z"
   },
   {
    "duration": 13,
    "start_time": "2022-02-08T09:29:04.194Z"
   },
   {
    "duration": 5,
    "start_time": "2022-02-08T09:29:04.208Z"
   },
   {
    "duration": 107,
    "start_time": "2022-02-08T09:29:04.215Z"
   },
   {
    "duration": 2,
    "start_time": "2022-02-08T09:29:04.323Z"
   },
   {
    "duration": 7,
    "start_time": "2022-02-08T09:29:04.327Z"
   },
   {
    "duration": 58,
    "start_time": "2022-02-08T09:29:04.336Z"
   },
   {
    "duration": 2,
    "start_time": "2022-02-08T09:29:04.396Z"
   },
   {
    "duration": 9,
    "start_time": "2022-02-08T09:29:04.400Z"
   },
   {
    "duration": 5,
    "start_time": "2022-02-08T09:29:04.411Z"
   },
   {
    "duration": 6,
    "start_time": "2022-02-08T09:29:04.417Z"
   },
   {
    "duration": 5,
    "start_time": "2022-02-08T09:29:04.424Z"
   },
   {
    "duration": 5,
    "start_time": "2022-02-08T09:29:04.430Z"
   },
   {
    "duration": 1071,
    "start_time": "2022-02-08T09:29:33.819Z"
   },
   {
    "duration": 140,
    "start_time": "2022-02-08T09:29:34.892Z"
   },
   {
    "duration": 14,
    "start_time": "2022-02-08T09:29:35.034Z"
   },
   {
    "duration": 30,
    "start_time": "2022-02-08T09:29:35.051Z"
   },
   {
    "duration": 6,
    "start_time": "2022-02-08T09:29:35.082Z"
   },
   {
    "duration": 45,
    "start_time": "2022-02-08T09:29:35.089Z"
   },
   {
    "duration": 16,
    "start_time": "2022-02-08T09:29:35.136Z"
   },
   {
    "duration": 17,
    "start_time": "2022-02-08T09:29:35.154Z"
   },
   {
    "duration": 27,
    "start_time": "2022-02-08T09:29:35.174Z"
   },
   {
    "duration": 15,
    "start_time": "2022-02-08T09:29:35.203Z"
   },
   {
    "duration": 29,
    "start_time": "2022-02-08T09:29:35.220Z"
   },
   {
    "duration": 62,
    "start_time": "2022-02-08T09:29:35.258Z"
   },
   {
    "duration": 83,
    "start_time": "2022-02-08T09:29:35.321Z"
   },
   {
    "duration": 11,
    "start_time": "2022-02-08T09:29:35.406Z"
   },
   {
    "duration": 5,
    "start_time": "2022-02-08T09:29:35.419Z"
   },
   {
    "duration": 34,
    "start_time": "2022-02-08T09:29:35.426Z"
   },
   {
    "duration": 57,
    "start_time": "2022-02-08T09:29:35.462Z"
   },
   {
    "duration": 57,
    "start_time": "2022-02-08T09:29:35.521Z"
   },
   {
    "duration": 37,
    "start_time": "2022-02-08T09:29:35.579Z"
   },
   {
    "duration": 4,
    "start_time": "2022-02-08T09:29:35.618Z"
   },
   {
    "duration": 7,
    "start_time": "2022-02-08T09:29:35.623Z"
   },
   {
    "duration": 44,
    "start_time": "2022-02-08T09:29:35.631Z"
   },
   {
    "duration": 40,
    "start_time": "2022-02-08T09:29:35.677Z"
   },
   {
    "duration": 48,
    "start_time": "2022-02-08T09:29:35.719Z"
   },
   {
    "duration": 7,
    "start_time": "2022-02-08T09:29:35.769Z"
   },
   {
    "duration": 9,
    "start_time": "2022-02-08T09:29:35.777Z"
   },
   {
    "duration": 23,
    "start_time": "2022-02-08T09:29:35.789Z"
   },
   {
    "duration": 47,
    "start_time": "2022-02-08T09:29:35.814Z"
   },
   {
    "duration": 3,
    "start_time": "2022-02-08T09:29:35.863Z"
   },
   {
    "duration": 31,
    "start_time": "2022-02-08T09:29:35.868Z"
   },
   {
    "duration": 23,
    "start_time": "2022-02-08T09:29:35.900Z"
   },
   {
    "duration": 52,
    "start_time": "2022-02-08T09:29:35.924Z"
   },
   {
    "duration": 10,
    "start_time": "2022-02-08T09:29:35.977Z"
   },
   {
    "duration": 8,
    "start_time": "2022-02-08T09:29:35.988Z"
   },
   {
    "duration": 15,
    "start_time": "2022-02-08T09:29:35.997Z"
   },
   {
    "duration": 14,
    "start_time": "2022-02-08T09:29:36.014Z"
   },
   {
    "duration": 90,
    "start_time": "2022-02-08T09:29:36.030Z"
   },
   {
    "duration": 2,
    "start_time": "2022-02-08T09:29:36.122Z"
   },
   {
    "duration": 13,
    "start_time": "2022-02-08T09:29:36.126Z"
   },
   {
    "duration": 56,
    "start_time": "2022-02-08T09:29:36.141Z"
   },
   {
    "duration": 2,
    "start_time": "2022-02-08T09:29:36.198Z"
   },
   {
    "duration": 8,
    "start_time": "2022-02-08T09:29:36.202Z"
   },
   {
    "duration": 8,
    "start_time": "2022-02-08T09:29:36.212Z"
   },
   {
    "duration": 6,
    "start_time": "2022-02-08T09:29:36.221Z"
   },
   {
    "duration": 13,
    "start_time": "2022-02-08T09:29:36.228Z"
   },
   {
    "duration": 27,
    "start_time": "2022-02-08T09:29:36.242Z"
   },
   {
    "duration": 1142,
    "start_time": "2022-02-08T09:34:38.441Z"
   },
   {
    "duration": 138,
    "start_time": "2022-02-08T09:34:39.585Z"
   },
   {
    "duration": 14,
    "start_time": "2022-02-08T09:34:39.727Z"
   },
   {
    "duration": 66,
    "start_time": "2022-02-08T09:34:39.743Z"
   },
   {
    "duration": 4,
    "start_time": "2022-02-08T09:34:39.810Z"
   },
   {
    "duration": 16,
    "start_time": "2022-02-08T09:34:39.815Z"
   },
   {
    "duration": 5,
    "start_time": "2022-02-08T09:34:39.833Z"
   },
   {
    "duration": 25,
    "start_time": "2022-02-08T09:34:39.840Z"
   },
   {
    "duration": 55,
    "start_time": "2022-02-08T09:34:39.867Z"
   },
   {
    "duration": 41,
    "start_time": "2022-02-08T09:34:39.923Z"
   },
   {
    "duration": 52,
    "start_time": "2022-02-08T09:34:39.966Z"
   },
   {
    "duration": 76,
    "start_time": "2022-02-08T09:34:40.020Z"
   },
   {
    "duration": 70,
    "start_time": "2022-02-08T09:34:40.098Z"
   },
   {
    "duration": 10,
    "start_time": "2022-02-08T09:34:40.170Z"
   },
   {
    "duration": 5,
    "start_time": "2022-02-08T09:34:40.182Z"
   },
   {
    "duration": 15,
    "start_time": "2022-02-08T09:34:40.189Z"
   },
   {
    "duration": 76,
    "start_time": "2022-02-08T09:34:40.206Z"
   },
   {
    "duration": 46,
    "start_time": "2022-02-08T09:34:40.284Z"
   },
   {
    "duration": 56,
    "start_time": "2022-02-08T09:34:40.332Z"
   },
   {
    "duration": 4,
    "start_time": "2022-02-08T09:34:40.390Z"
   },
   {
    "duration": 6,
    "start_time": "2022-02-08T09:34:40.395Z"
   },
   {
    "duration": 34,
    "start_time": "2022-02-08T09:34:40.404Z"
   },
   {
    "duration": 54,
    "start_time": "2022-02-08T09:34:40.440Z"
   },
   {
    "duration": 43,
    "start_time": "2022-02-08T09:34:40.495Z"
   },
   {
    "duration": 20,
    "start_time": "2022-02-08T09:34:40.540Z"
   },
   {
    "duration": 5,
    "start_time": "2022-02-08T09:34:40.562Z"
   },
   {
    "duration": 31,
    "start_time": "2022-02-08T09:34:40.568Z"
   },
   {
    "duration": 60,
    "start_time": "2022-02-08T09:34:40.600Z"
   },
   {
    "duration": 3,
    "start_time": "2022-02-08T09:34:40.662Z"
   },
   {
    "duration": 54,
    "start_time": "2022-02-08T09:34:40.668Z"
   },
   {
    "duration": 56,
    "start_time": "2022-02-08T09:34:40.723Z"
   },
   {
    "duration": 46,
    "start_time": "2022-02-08T09:34:40.780Z"
   },
   {
    "duration": 32,
    "start_time": "2022-02-08T09:34:40.828Z"
   },
   {
    "duration": 3,
    "start_time": "2022-02-08T09:34:40.862Z"
   },
   {
    "duration": 7,
    "start_time": "2022-02-08T09:34:40.867Z"
   },
   {
    "duration": 10,
    "start_time": "2022-02-08T09:34:40.876Z"
   },
   {
    "duration": 1725,
    "start_time": "2022-02-08T09:34:40.888Z"
   },
   {
    "duration": -1589,
    "start_time": "2022-02-08T09:34:44.204Z"
   },
   {
    "duration": -1621,
    "start_time": "2022-02-08T09:34:44.237Z"
   },
   {
    "duration": -1626,
    "start_time": "2022-02-08T09:34:44.243Z"
   },
   {
    "duration": -1631,
    "start_time": "2022-02-08T09:34:44.249Z"
   },
   {
    "duration": -1636,
    "start_time": "2022-02-08T09:34:44.255Z"
   },
   {
    "duration": -1667,
    "start_time": "2022-02-08T09:34:44.287Z"
   },
   {
    "duration": -1672,
    "start_time": "2022-02-08T09:34:44.293Z"
   },
   {
    "duration": -1676,
    "start_time": "2022-02-08T09:34:44.298Z"
   },
   {
    "duration": -1682,
    "start_time": "2022-02-08T09:34:44.305Z"
   },
   {
    "duration": 1098,
    "start_time": "2022-02-08T09:36:10.803Z"
   },
   {
    "duration": 143,
    "start_time": "2022-02-08T09:36:11.903Z"
   },
   {
    "duration": 18,
    "start_time": "2022-02-08T09:36:12.049Z"
   },
   {
    "duration": 28,
    "start_time": "2022-02-08T09:36:12.069Z"
   },
   {
    "duration": 2,
    "start_time": "2022-02-08T09:36:12.099Z"
   },
   {
    "duration": 16,
    "start_time": "2022-02-08T09:36:12.103Z"
   },
   {
    "duration": 6,
    "start_time": "2022-02-08T09:36:12.121Z"
   },
   {
    "duration": 33,
    "start_time": "2022-02-08T09:36:12.129Z"
   },
   {
    "duration": 23,
    "start_time": "2022-02-08T09:36:12.164Z"
   },
   {
    "duration": 20,
    "start_time": "2022-02-08T09:36:12.188Z"
   },
   {
    "duration": 24,
    "start_time": "2022-02-08T09:36:12.209Z"
   },
   {
    "duration": 73,
    "start_time": "2022-02-08T09:36:12.235Z"
   },
   {
    "duration": 80,
    "start_time": "2022-02-08T09:36:12.310Z"
   },
   {
    "duration": 11,
    "start_time": "2022-02-08T09:36:12.392Z"
   },
   {
    "duration": 4,
    "start_time": "2022-02-08T09:36:12.405Z"
   },
   {
    "duration": 12,
    "start_time": "2022-02-08T09:36:12.410Z"
   },
   {
    "duration": 79,
    "start_time": "2022-02-08T09:36:12.424Z"
   },
   {
    "duration": 41,
    "start_time": "2022-02-08T09:36:12.504Z"
   },
   {
    "duration": 38,
    "start_time": "2022-02-08T09:36:12.558Z"
   },
   {
    "duration": 5,
    "start_time": "2022-02-08T09:36:12.597Z"
   },
   {
    "duration": 5,
    "start_time": "2022-02-08T09:36:12.603Z"
   },
   {
    "duration": 21,
    "start_time": "2022-02-08T09:36:12.610Z"
   },
   {
    "duration": 37,
    "start_time": "2022-02-08T09:36:12.659Z"
   },
   {
    "duration": 37,
    "start_time": "2022-02-08T09:36:12.699Z"
   },
   {
    "duration": 26,
    "start_time": "2022-02-08T09:36:12.738Z"
   },
   {
    "duration": 7,
    "start_time": "2022-02-08T09:36:12.766Z"
   },
   {
    "duration": 21,
    "start_time": "2022-02-08T09:36:12.775Z"
   },
   {
    "duration": 23,
    "start_time": "2022-02-08T09:36:12.798Z"
   },
   {
    "duration": 36,
    "start_time": "2022-02-08T09:36:12.823Z"
   },
   {
    "duration": 28,
    "start_time": "2022-02-08T09:36:12.861Z"
   },
   {
    "duration": 24,
    "start_time": "2022-02-08T09:36:12.890Z"
   },
   {
    "duration": 44,
    "start_time": "2022-02-08T09:36:12.916Z"
   },
   {
    "duration": 8,
    "start_time": "2022-02-08T09:36:12.962Z"
   },
   {
    "duration": 5,
    "start_time": "2022-02-08T09:36:12.972Z"
   },
   {
    "duration": 6,
    "start_time": "2022-02-08T09:36:12.979Z"
   },
   {
    "duration": 7,
    "start_time": "2022-02-08T09:36:12.987Z"
   },
   {
    "duration": 91,
    "start_time": "2022-02-08T09:36:12.996Z"
   },
   {
    "duration": 2,
    "start_time": "2022-02-08T09:36:13.088Z"
   },
   {
    "duration": 5,
    "start_time": "2022-02-08T09:36:13.092Z"
   },
   {
    "duration": 39,
    "start_time": "2022-02-08T09:36:13.098Z"
   },
   {
    "duration": 20,
    "start_time": "2022-02-08T09:36:13.139Z"
   },
   {
    "duration": 5,
    "start_time": "2022-02-08T09:36:13.161Z"
   },
   {
    "duration": 6,
    "start_time": "2022-02-08T09:36:13.167Z"
   },
   {
    "duration": 9,
    "start_time": "2022-02-08T09:36:13.175Z"
   },
   {
    "duration": 5,
    "start_time": "2022-02-08T09:36:13.185Z"
   },
   {
    "duration": 7,
    "start_time": "2022-02-08T09:36:13.191Z"
   },
   {
    "duration": 6,
    "start_time": "2022-02-08T09:48:47.084Z"
   },
   {
    "duration": 1161,
    "start_time": "2022-02-08T09:48:56.472Z"
   },
   {
    "duration": 145,
    "start_time": "2022-02-08T09:48:57.635Z"
   },
   {
    "duration": 15,
    "start_time": "2022-02-08T09:48:57.782Z"
   },
   {
    "duration": 38,
    "start_time": "2022-02-08T09:48:57.799Z"
   },
   {
    "duration": 29,
    "start_time": "2022-02-08T09:48:57.839Z"
   },
   {
    "duration": 16,
    "start_time": "2022-02-08T09:48:57.870Z"
   },
   {
    "duration": 7,
    "start_time": "2022-02-08T09:48:57.888Z"
   },
   {
    "duration": 15,
    "start_time": "2022-02-08T09:48:57.898Z"
   },
   {
    "duration": 26,
    "start_time": "2022-02-08T09:48:57.915Z"
   },
   {
    "duration": 31,
    "start_time": "2022-02-08T09:48:57.943Z"
   },
   {
    "duration": 31,
    "start_time": "2022-02-08T09:48:57.976Z"
   },
   {
    "duration": 57,
    "start_time": "2022-02-08T09:48:58.009Z"
   },
   {
    "duration": 60,
    "start_time": "2022-02-08T09:48:58.068Z"
   },
   {
    "duration": 29,
    "start_time": "2022-02-08T09:48:58.130Z"
   },
   {
    "duration": 3,
    "start_time": "2022-02-08T09:48:58.161Z"
   },
   {
    "duration": 11,
    "start_time": "2022-02-08T09:48:58.166Z"
   },
   {
    "duration": 56,
    "start_time": "2022-02-08T09:48:58.179Z"
   },
   {
    "duration": 58,
    "start_time": "2022-02-08T09:48:58.237Z"
   },
   {
    "duration": 64,
    "start_time": "2022-02-08T09:48:58.296Z"
   },
   {
    "duration": 5,
    "start_time": "2022-02-08T09:48:58.362Z"
   },
   {
    "duration": 11,
    "start_time": "2022-02-08T09:48:58.369Z"
   },
   {
    "duration": 24,
    "start_time": "2022-02-08T09:48:58.382Z"
   },
   {
    "duration": 50,
    "start_time": "2022-02-08T09:48:58.410Z"
   },
   {
    "duration": 40,
    "start_time": "2022-02-08T09:48:58.463Z"
   },
   {
    "duration": 6,
    "start_time": "2022-02-08T09:48:58.505Z"
   },
   {
    "duration": 9,
    "start_time": "2022-02-08T09:48:58.512Z"
   },
   {
    "duration": 50,
    "start_time": "2022-02-08T09:48:58.522Z"
   },
   {
    "duration": 23,
    "start_time": "2022-02-08T09:48:58.573Z"
   },
   {
    "duration": 3,
    "start_time": "2022-02-08T09:48:58.598Z"
   },
   {
    "duration": 32,
    "start_time": "2022-02-08T09:48:58.603Z"
   },
   {
    "duration": 25,
    "start_time": "2022-02-08T09:48:58.659Z"
   },
   {
    "duration": 29,
    "start_time": "2022-02-08T09:48:58.685Z"
   },
   {
    "duration": 9,
    "start_time": "2022-02-08T09:48:58.716Z"
   },
   {
    "duration": 2,
    "start_time": "2022-02-08T09:48:58.759Z"
   },
   {
    "duration": 7,
    "start_time": "2022-02-08T09:48:58.763Z"
   },
   {
    "duration": 5,
    "start_time": "2022-02-08T09:48:58.772Z"
   },
   {
    "duration": 514,
    "start_time": "2022-02-08T09:48:58.779Z"
   },
   {
    "duration": -1575,
    "start_time": "2022-02-08T09:49:00.870Z"
   },
   {
    "duration": -1590,
    "start_time": "2022-02-08T09:49:00.886Z"
   },
   {
    "duration": -1594,
    "start_time": "2022-02-08T09:49:00.891Z"
   },
   {
    "duration": -1599,
    "start_time": "2022-02-08T09:49:00.897Z"
   },
   {
    "duration": -1604,
    "start_time": "2022-02-08T09:49:00.903Z"
   },
   {
    "duration": -1609,
    "start_time": "2022-02-08T09:49:00.909Z"
   },
   {
    "duration": -1614,
    "start_time": "2022-02-08T09:49:00.915Z"
   },
   {
    "duration": -1619,
    "start_time": "2022-02-08T09:49:00.921Z"
   },
   {
    "duration": -1623,
    "start_time": "2022-02-08T09:49:00.926Z"
   },
   {
    "duration": 1086,
    "start_time": "2022-02-08T09:49:30.015Z"
   },
   {
    "duration": 145,
    "start_time": "2022-02-08T09:49:31.103Z"
   },
   {
    "duration": 18,
    "start_time": "2022-02-08T09:49:31.252Z"
   },
   {
    "duration": 45,
    "start_time": "2022-02-08T09:49:31.271Z"
   },
   {
    "duration": 21,
    "start_time": "2022-02-08T09:49:31.317Z"
   },
   {
    "duration": 41,
    "start_time": "2022-02-08T09:49:31.340Z"
   },
   {
    "duration": 13,
    "start_time": "2022-02-08T09:49:31.384Z"
   },
   {
    "duration": 31,
    "start_time": "2022-02-08T09:49:31.399Z"
   },
   {
    "duration": 39,
    "start_time": "2022-02-08T09:49:31.432Z"
   },
   {
    "duration": 29,
    "start_time": "2022-02-08T09:49:31.473Z"
   },
   {
    "duration": 46,
    "start_time": "2022-02-08T09:49:31.504Z"
   },
   {
    "duration": 69,
    "start_time": "2022-02-08T09:49:31.552Z"
   },
   {
    "duration": 62,
    "start_time": "2022-02-08T09:49:31.623Z"
   },
   {
    "duration": 9,
    "start_time": "2022-02-08T09:49:31.687Z"
   },
   {
    "duration": 30,
    "start_time": "2022-02-08T09:49:31.698Z"
   },
   {
    "duration": 30,
    "start_time": "2022-02-08T09:49:31.729Z"
   },
   {
    "duration": 68,
    "start_time": "2022-02-08T09:49:31.760Z"
   },
   {
    "duration": 38,
    "start_time": "2022-02-08T09:49:31.829Z"
   },
   {
    "duration": 44,
    "start_time": "2022-02-08T09:49:31.868Z"
   },
   {
    "duration": 10,
    "start_time": "2022-02-08T09:49:31.914Z"
   },
   {
    "duration": 9,
    "start_time": "2022-02-08T09:49:31.926Z"
   },
   {
    "duration": 27,
    "start_time": "2022-02-08T09:49:31.939Z"
   },
   {
    "duration": 53,
    "start_time": "2022-02-08T09:49:31.968Z"
   },
   {
    "duration": 47,
    "start_time": "2022-02-08T09:49:32.023Z"
   },
   {
    "duration": 18,
    "start_time": "2022-02-08T09:49:32.072Z"
   },
   {
    "duration": 20,
    "start_time": "2022-02-08T09:49:32.092Z"
   },
   {
    "duration": 26,
    "start_time": "2022-02-08T09:49:32.114Z"
   },
   {
    "duration": 28,
    "start_time": "2022-02-08T09:49:32.141Z"
   },
   {
    "duration": 3,
    "start_time": "2022-02-08T09:49:32.170Z"
   },
   {
    "duration": 47,
    "start_time": "2022-02-08T09:49:32.175Z"
   },
   {
    "duration": 30,
    "start_time": "2022-02-08T09:49:32.223Z"
   },
   {
    "duration": 38,
    "start_time": "2022-02-08T09:49:32.255Z"
   },
   {
    "duration": 9,
    "start_time": "2022-02-08T09:49:32.294Z"
   },
   {
    "duration": 28,
    "start_time": "2022-02-08T09:49:32.305Z"
   },
   {
    "duration": 27,
    "start_time": "2022-02-08T09:49:32.335Z"
   },
   {
    "duration": 39,
    "start_time": "2022-02-08T09:49:32.364Z"
   },
   {
    "duration": 107,
    "start_time": "2022-02-08T09:49:32.404Z"
   },
   {
    "duration": 2,
    "start_time": "2022-02-08T09:49:32.513Z"
   },
   {
    "duration": 19,
    "start_time": "2022-02-08T09:49:32.516Z"
   },
   {
    "duration": 66,
    "start_time": "2022-02-08T09:49:32.537Z"
   },
   {
    "duration": 7,
    "start_time": "2022-02-08T09:49:32.604Z"
   },
   {
    "duration": 14,
    "start_time": "2022-02-08T09:49:32.612Z"
   },
   {
    "duration": 22,
    "start_time": "2022-02-08T09:49:32.627Z"
   },
   {
    "duration": 18,
    "start_time": "2022-02-08T09:49:32.651Z"
   },
   {
    "duration": 22,
    "start_time": "2022-02-08T09:49:32.670Z"
   },
   {
    "duration": 17,
    "start_time": "2022-02-08T09:49:32.694Z"
   },
   {
    "duration": 1155,
    "start_time": "2022-02-08T09:50:21.152Z"
   },
   {
    "duration": 142,
    "start_time": "2022-02-08T09:50:22.309Z"
   },
   {
    "duration": 17,
    "start_time": "2022-02-08T09:50:22.453Z"
   },
   {
    "duration": 25,
    "start_time": "2022-02-08T09:50:22.472Z"
   },
   {
    "duration": 3,
    "start_time": "2022-02-08T09:50:22.499Z"
   },
   {
    "duration": 15,
    "start_time": "2022-02-08T09:50:22.504Z"
   },
   {
    "duration": 11,
    "start_time": "2022-02-08T09:50:22.521Z"
   },
   {
    "duration": 28,
    "start_time": "2022-02-08T09:50:22.535Z"
   },
   {
    "duration": 25,
    "start_time": "2022-02-08T09:50:22.565Z"
   },
   {
    "duration": 15,
    "start_time": "2022-02-08T09:50:22.592Z"
   },
   {
    "duration": 26,
    "start_time": "2022-02-08T09:50:22.609Z"
   },
   {
    "duration": 76,
    "start_time": "2022-02-08T09:50:22.637Z"
   },
   {
    "duration": 77,
    "start_time": "2022-02-08T09:50:22.715Z"
   },
   {
    "duration": 10,
    "start_time": "2022-02-08T09:50:22.794Z"
   },
   {
    "duration": 4,
    "start_time": "2022-02-08T09:50:22.806Z"
   },
   {
    "duration": 14,
    "start_time": "2022-02-08T09:50:22.812Z"
   },
   {
    "duration": 71,
    "start_time": "2022-02-08T09:50:22.828Z"
   },
   {
    "duration": 38,
    "start_time": "2022-02-08T09:50:22.901Z"
   },
   {
    "duration": 49,
    "start_time": "2022-02-08T09:50:22.941Z"
   },
   {
    "duration": 11,
    "start_time": "2022-02-08T09:50:22.991Z"
   },
   {
    "duration": 18,
    "start_time": "2022-02-08T09:50:23.004Z"
   },
   {
    "duration": 30,
    "start_time": "2022-02-08T09:50:23.023Z"
   },
   {
    "duration": 42,
    "start_time": "2022-02-08T09:50:23.056Z"
   },
   {
    "duration": 47,
    "start_time": "2022-02-08T09:50:23.100Z"
   },
   {
    "duration": 11,
    "start_time": "2022-02-08T09:50:23.149Z"
   },
   {
    "duration": 21,
    "start_time": "2022-02-08T09:50:23.161Z"
   },
   {
    "duration": 36,
    "start_time": "2022-02-08T09:50:23.183Z"
   },
   {
    "duration": 23,
    "start_time": "2022-02-08T09:50:23.221Z"
   },
   {
    "duration": 3,
    "start_time": "2022-02-08T09:50:23.245Z"
   },
   {
    "duration": 28,
    "start_time": "2022-02-08T09:50:23.250Z"
   },
   {
    "duration": 23,
    "start_time": "2022-02-08T09:50:23.279Z"
   },
   {
    "duration": 24,
    "start_time": "2022-02-08T09:50:23.304Z"
   },
   {
    "duration": 34,
    "start_time": "2022-02-08T09:50:23.329Z"
   },
   {
    "duration": 4,
    "start_time": "2022-02-08T09:50:23.364Z"
   },
   {
    "duration": 7,
    "start_time": "2022-02-08T09:50:23.370Z"
   },
   {
    "duration": 26,
    "start_time": "2022-02-08T09:50:23.378Z"
   },
   {
    "duration": 521,
    "start_time": "2022-02-08T09:50:23.406Z"
   },
   {
    "duration": -1580,
    "start_time": "2022-02-08T09:50:25.509Z"
   },
   {
    "duration": -1586,
    "start_time": "2022-02-08T09:50:25.516Z"
   },
   {
    "duration": -1602,
    "start_time": "2022-02-08T09:50:25.533Z"
   },
   {
    "duration": -1606,
    "start_time": "2022-02-08T09:50:25.538Z"
   },
   {
    "duration": -1611,
    "start_time": "2022-02-08T09:50:25.544Z"
   },
   {
    "duration": -1615,
    "start_time": "2022-02-08T09:50:25.549Z"
   },
   {
    "duration": -1620,
    "start_time": "2022-02-08T09:50:25.555Z"
   },
   {
    "duration": -1625,
    "start_time": "2022-02-08T09:50:25.561Z"
   },
   {
    "duration": -1629,
    "start_time": "2022-02-08T09:50:25.566Z"
   },
   {
    "duration": 1104,
    "start_time": "2022-02-08T09:50:50.566Z"
   },
   {
    "duration": 128,
    "start_time": "2022-02-08T09:50:51.672Z"
   },
   {
    "duration": 13,
    "start_time": "2022-02-08T09:50:51.805Z"
   },
   {
    "duration": 24,
    "start_time": "2022-02-08T09:50:51.819Z"
   },
   {
    "duration": 4,
    "start_time": "2022-02-08T09:50:51.859Z"
   },
   {
    "duration": 16,
    "start_time": "2022-02-08T09:50:51.864Z"
   },
   {
    "duration": 6,
    "start_time": "2022-02-08T09:50:51.882Z"
   },
   {
    "duration": 12,
    "start_time": "2022-02-08T09:50:51.890Z"
   },
   {
    "duration": 22,
    "start_time": "2022-02-08T09:50:51.903Z"
   },
   {
    "duration": 34,
    "start_time": "2022-02-08T09:50:51.926Z"
   },
   {
    "duration": 23,
    "start_time": "2022-02-08T09:50:51.961Z"
   },
   {
    "duration": 53,
    "start_time": "2022-02-08T09:50:51.986Z"
   },
   {
    "duration": 75,
    "start_time": "2022-02-08T09:50:52.041Z"
   },
   {
    "duration": 9,
    "start_time": "2022-02-08T09:50:52.118Z"
   },
   {
    "duration": 7,
    "start_time": "2022-02-08T09:50:52.129Z"
   },
   {
    "duration": 27,
    "start_time": "2022-02-08T09:50:52.137Z"
   },
   {
    "duration": 54,
    "start_time": "2022-02-08T09:50:52.166Z"
   },
   {
    "duration": 45,
    "start_time": "2022-02-08T09:50:52.222Z"
   },
   {
    "duration": 36,
    "start_time": "2022-02-08T09:50:52.269Z"
   },
   {
    "duration": 3,
    "start_time": "2022-02-08T09:50:52.307Z"
   },
   {
    "duration": 5,
    "start_time": "2022-02-08T09:50:52.312Z"
   },
   {
    "duration": 42,
    "start_time": "2022-02-08T09:50:52.320Z"
   },
   {
    "duration": 39,
    "start_time": "2022-02-08T09:50:52.364Z"
   },
   {
    "duration": 43,
    "start_time": "2022-02-08T09:50:52.405Z"
   },
   {
    "duration": 6,
    "start_time": "2022-02-08T09:50:52.458Z"
   },
   {
    "duration": 7,
    "start_time": "2022-02-08T09:50:52.465Z"
   },
   {
    "duration": 21,
    "start_time": "2022-02-08T09:50:52.474Z"
   },
   {
    "duration": 23,
    "start_time": "2022-02-08T09:50:52.496Z"
   },
   {
    "duration": 3,
    "start_time": "2022-02-08T09:50:52.520Z"
   },
   {
    "duration": 55,
    "start_time": "2022-02-08T09:50:52.525Z"
   },
   {
    "duration": 24,
    "start_time": "2022-02-08T09:50:52.581Z"
   },
   {
    "duration": 24,
    "start_time": "2022-02-08T09:50:52.606Z"
   },
   {
    "duration": 33,
    "start_time": "2022-02-08T09:50:52.631Z"
   },
   {
    "duration": 6,
    "start_time": "2022-02-08T09:50:52.665Z"
   },
   {
    "duration": 6,
    "start_time": "2022-02-08T09:50:52.672Z"
   },
   {
    "duration": 7,
    "start_time": "2022-02-08T09:50:52.679Z"
   },
   {
    "duration": 87,
    "start_time": "2022-02-08T09:50:52.688Z"
   },
   {
    "duration": 2,
    "start_time": "2022-02-08T09:50:52.777Z"
   },
   {
    "duration": 6,
    "start_time": "2022-02-08T09:50:52.780Z"
   },
   {
    "duration": 42,
    "start_time": "2022-02-08T09:50:52.787Z"
   },
   {
    "duration": 2,
    "start_time": "2022-02-08T09:50:52.830Z"
   },
   {
    "duration": 25,
    "start_time": "2022-02-08T09:50:52.834Z"
   },
   {
    "duration": 5,
    "start_time": "2022-02-08T09:50:52.861Z"
   },
   {
    "duration": 4,
    "start_time": "2022-02-08T09:50:52.868Z"
   },
   {
    "duration": 4,
    "start_time": "2022-02-08T09:50:52.874Z"
   },
   {
    "duration": 7,
    "start_time": "2022-02-08T09:50:52.880Z"
   },
   {
    "duration": 1149,
    "start_time": "2022-02-08T11:57:19.948Z"
   },
   {
    "duration": 143,
    "start_time": "2022-02-08T11:57:21.099Z"
   },
   {
    "duration": 17,
    "start_time": "2022-02-08T11:57:21.244Z"
   },
   {
    "duration": 34,
    "start_time": "2022-02-08T11:57:21.262Z"
   },
   {
    "duration": 4,
    "start_time": "2022-02-08T11:57:21.298Z"
   },
   {
    "duration": 17,
    "start_time": "2022-02-08T11:57:21.303Z"
   },
   {
    "duration": 6,
    "start_time": "2022-02-08T11:57:21.322Z"
   },
   {
    "duration": 11,
    "start_time": "2022-02-08T11:57:21.331Z"
   },
   {
    "duration": 32,
    "start_time": "2022-02-08T11:57:21.344Z"
   },
   {
    "duration": 14,
    "start_time": "2022-02-08T11:57:21.378Z"
   },
   {
    "duration": 24,
    "start_time": "2022-02-08T11:57:21.393Z"
   },
   {
    "duration": 76,
    "start_time": "2022-02-08T11:57:21.419Z"
   },
   {
    "duration": 68,
    "start_time": "2022-02-08T11:57:21.497Z"
   },
   {
    "duration": 10,
    "start_time": "2022-02-08T11:57:21.566Z"
   },
   {
    "duration": 7,
    "start_time": "2022-02-08T11:57:21.578Z"
   },
   {
    "duration": 18,
    "start_time": "2022-02-08T11:57:21.586Z"
   },
   {
    "duration": 73,
    "start_time": "2022-02-08T11:57:21.605Z"
   },
   {
    "duration": 38,
    "start_time": "2022-02-08T11:57:21.680Z"
   },
   {
    "duration": 53,
    "start_time": "2022-02-08T11:57:21.720Z"
   },
   {
    "duration": 6,
    "start_time": "2022-02-08T11:57:21.774Z"
   },
   {
    "duration": 26,
    "start_time": "2022-02-08T11:57:21.781Z"
   },
   {
    "duration": 46,
    "start_time": "2022-02-08T11:57:21.809Z"
   },
   {
    "duration": 41,
    "start_time": "2022-02-08T11:57:21.859Z"
   },
   {
    "duration": 36,
    "start_time": "2022-02-08T11:57:21.902Z"
   },
   {
    "duration": 19,
    "start_time": "2022-02-08T11:57:21.941Z"
   },
   {
    "duration": 6,
    "start_time": "2022-02-08T11:57:21.961Z"
   },
   {
    "duration": 21,
    "start_time": "2022-02-08T11:57:21.968Z"
   },
   {
    "duration": 21,
    "start_time": "2022-02-08T11:57:21.991Z"
   },
   {
    "duration": 3,
    "start_time": "2022-02-08T11:57:22.014Z"
   },
   {
    "duration": 60,
    "start_time": "2022-02-08T11:57:22.018Z"
   },
   {
    "duration": 26,
    "start_time": "2022-02-08T11:57:22.080Z"
   },
   {
    "duration": 51,
    "start_time": "2022-02-08T11:57:22.108Z"
   },
   {
    "duration": 10,
    "start_time": "2022-02-08T11:57:22.161Z"
   },
   {
    "duration": 8,
    "start_time": "2022-02-08T11:57:22.173Z"
   },
   {
    "duration": 11,
    "start_time": "2022-02-08T11:57:22.183Z"
   },
   {
    "duration": 7,
    "start_time": "2022-02-08T11:57:22.196Z"
   },
   {
    "duration": 557,
    "start_time": "2022-02-08T11:57:22.204Z"
   },
   {
    "duration": 32,
    "start_time": "2022-02-08T11:57:22.731Z"
   },
   {
    "duration": -4,
    "start_time": "2022-02-08T11:57:22.768Z"
   },
   {
    "duration": -10,
    "start_time": "2022-02-08T11:57:22.775Z"
   },
   {
    "duration": -14,
    "start_time": "2022-02-08T11:57:22.780Z"
   },
   {
    "duration": -21,
    "start_time": "2022-02-08T11:57:22.788Z"
   },
   {
    "duration": -25,
    "start_time": "2022-02-08T11:57:22.793Z"
   },
   {
    "duration": -32,
    "start_time": "2022-02-08T11:57:22.800Z"
   },
   {
    "duration": -37,
    "start_time": "2022-02-08T11:57:22.806Z"
   },
   {
    "duration": -43,
    "start_time": "2022-02-08T11:57:22.813Z"
   },
   {
    "duration": 1091,
    "start_time": "2022-02-08T11:58:25.000Z"
   },
   {
    "duration": 146,
    "start_time": "2022-02-08T11:58:26.093Z"
   },
   {
    "duration": 22,
    "start_time": "2022-02-08T11:58:26.241Z"
   },
   {
    "duration": 24,
    "start_time": "2022-02-08T11:58:26.265Z"
   },
   {
    "duration": 3,
    "start_time": "2022-02-08T11:58:26.290Z"
   },
   {
    "duration": 18,
    "start_time": "2022-02-08T11:58:26.295Z"
   },
   {
    "duration": 6,
    "start_time": "2022-02-08T11:58:26.315Z"
   },
   {
    "duration": 12,
    "start_time": "2022-02-08T11:58:26.323Z"
   },
   {
    "duration": 45,
    "start_time": "2022-02-08T11:58:26.336Z"
   },
   {
    "duration": 18,
    "start_time": "2022-02-08T11:58:26.382Z"
   },
   {
    "duration": 32,
    "start_time": "2022-02-08T11:58:26.402Z"
   },
   {
    "duration": 94,
    "start_time": "2022-02-08T11:58:26.436Z"
   },
   {
    "duration": 65,
    "start_time": "2022-02-08T11:58:26.532Z"
   },
   {
    "duration": 10,
    "start_time": "2022-02-08T11:58:26.598Z"
   },
   {
    "duration": 14,
    "start_time": "2022-02-08T11:58:26.610Z"
   },
   {
    "duration": 15,
    "start_time": "2022-02-08T11:58:26.625Z"
   },
   {
    "duration": 66,
    "start_time": "2022-02-08T11:58:26.642Z"
   },
   {
    "duration": 50,
    "start_time": "2022-02-08T11:58:26.710Z"
   },
   {
    "duration": 38,
    "start_time": "2022-02-08T11:58:26.761Z"
   },
   {
    "duration": 5,
    "start_time": "2022-02-08T11:58:26.800Z"
   },
   {
    "duration": 9,
    "start_time": "2022-02-08T11:58:26.807Z"
   },
   {
    "duration": 28,
    "start_time": "2022-02-08T11:58:26.817Z"
   },
   {
    "duration": 54,
    "start_time": "2022-02-08T11:58:26.848Z"
   },
   {
    "duration": 40,
    "start_time": "2022-02-08T11:58:26.904Z"
   },
   {
    "duration": 15,
    "start_time": "2022-02-08T11:58:26.946Z"
   },
   {
    "duration": 7,
    "start_time": "2022-02-08T11:58:26.962Z"
   },
   {
    "duration": 28,
    "start_time": "2022-02-08T11:58:26.970Z"
   },
   {
    "duration": 23,
    "start_time": "2022-02-08T11:58:26.999Z"
   },
   {
    "duration": 3,
    "start_time": "2022-02-08T11:58:27.024Z"
   },
   {
    "duration": 27,
    "start_time": "2022-02-08T11:58:27.059Z"
   },
   {
    "duration": 24,
    "start_time": "2022-02-08T11:58:27.088Z"
   },
   {
    "duration": 52,
    "start_time": "2022-02-08T11:58:27.114Z"
   },
   {
    "duration": 9,
    "start_time": "2022-02-08T11:58:27.168Z"
   },
   {
    "duration": 8,
    "start_time": "2022-02-08T11:58:27.178Z"
   },
   {
    "duration": 9,
    "start_time": "2022-02-08T11:58:27.188Z"
   },
   {
    "duration": 13,
    "start_time": "2022-02-08T11:58:27.198Z"
   },
   {
    "duration": 100,
    "start_time": "2022-02-08T11:58:27.213Z"
   },
   {
    "duration": 2,
    "start_time": "2022-02-08T11:58:27.315Z"
   },
   {
    "duration": 9,
    "start_time": "2022-02-08T11:58:27.318Z"
   },
   {
    "duration": 49,
    "start_time": "2022-02-08T11:58:27.329Z"
   },
   {
    "duration": 3,
    "start_time": "2022-02-08T11:58:27.379Z"
   },
   {
    "duration": 6,
    "start_time": "2022-02-08T11:58:27.383Z"
   },
   {
    "duration": 22,
    "start_time": "2022-02-08T11:58:27.390Z"
   },
   {
    "duration": 12,
    "start_time": "2022-02-08T11:58:27.413Z"
   },
   {
    "duration": 22,
    "start_time": "2022-02-08T11:58:27.426Z"
   },
   {
    "duration": 29,
    "start_time": "2022-02-08T11:58:27.450Z"
   },
   {
    "duration": 1118,
    "start_time": "2022-02-08T12:01:09.083Z"
   },
   {
    "duration": 143,
    "start_time": "2022-02-08T12:01:10.204Z"
   },
   {
    "duration": 16,
    "start_time": "2022-02-08T12:01:10.349Z"
   },
   {
    "duration": 34,
    "start_time": "2022-02-08T12:01:10.367Z"
   },
   {
    "duration": 11,
    "start_time": "2022-02-08T12:01:10.403Z"
   },
   {
    "duration": 30,
    "start_time": "2022-02-08T12:01:10.416Z"
   },
   {
    "duration": 10,
    "start_time": "2022-02-08T12:01:10.448Z"
   },
   {
    "duration": 38,
    "start_time": "2022-02-08T12:01:10.461Z"
   },
   {
    "duration": 41,
    "start_time": "2022-02-08T12:01:10.502Z"
   },
   {
    "duration": 31,
    "start_time": "2022-02-08T12:01:10.545Z"
   },
   {
    "duration": 33,
    "start_time": "2022-02-08T12:01:10.578Z"
   },
   {
    "duration": 71,
    "start_time": "2022-02-08T12:01:10.612Z"
   },
   {
    "duration": 78,
    "start_time": "2022-02-08T12:01:10.685Z"
   },
   {
    "duration": 10,
    "start_time": "2022-02-08T12:01:10.765Z"
   },
   {
    "duration": 4,
    "start_time": "2022-02-08T12:01:10.776Z"
   },
   {
    "duration": 13,
    "start_time": "2022-02-08T12:01:10.782Z"
   },
   {
    "duration": 81,
    "start_time": "2022-02-08T12:01:10.797Z"
   },
   {
    "duration": 41,
    "start_time": "2022-02-08T12:01:10.879Z"
   },
   {
    "duration": 51,
    "start_time": "2022-02-08T12:01:10.922Z"
   },
   {
    "duration": 12,
    "start_time": "2022-02-08T12:01:10.975Z"
   },
   {
    "duration": 16,
    "start_time": "2022-02-08T12:01:10.989Z"
   },
   {
    "duration": 48,
    "start_time": "2022-02-08T12:01:11.007Z"
   },
   {
    "duration": 51,
    "start_time": "2022-02-08T12:01:11.058Z"
   },
   {
    "duration": 40,
    "start_time": "2022-02-08T12:01:11.112Z"
   },
   {
    "duration": 27,
    "start_time": "2022-02-08T12:01:11.154Z"
   },
   {
    "duration": 40,
    "start_time": "2022-02-08T12:01:11.183Z"
   },
   {
    "duration": 41,
    "start_time": "2022-02-08T12:01:11.225Z"
   },
   {
    "duration": 37,
    "start_time": "2022-02-08T12:01:11.268Z"
   },
   {
    "duration": 31,
    "start_time": "2022-02-08T12:01:11.307Z"
   },
   {
    "duration": 54,
    "start_time": "2022-02-08T12:01:11.340Z"
   },
   {
    "duration": 37,
    "start_time": "2022-02-08T12:01:11.397Z"
   },
   {
    "duration": 55,
    "start_time": "2022-02-08T12:01:11.437Z"
   },
   {
    "duration": 9,
    "start_time": "2022-02-08T12:01:11.494Z"
   },
   {
    "duration": 23,
    "start_time": "2022-02-08T12:01:11.505Z"
   },
   {
    "duration": 29,
    "start_time": "2022-02-08T12:01:11.529Z"
   },
   {
    "duration": 35,
    "start_time": "2022-02-08T12:01:11.560Z"
   },
   {
    "duration": 38,
    "start_time": "2022-02-08T12:01:11.596Z"
   },
   {
    "duration": 125,
    "start_time": "2022-02-08T12:01:11.635Z"
   },
   {
    "duration": 2,
    "start_time": "2022-02-08T12:01:11.762Z"
   },
   {
    "duration": 66,
    "start_time": "2022-02-08T12:01:11.766Z"
   },
   {
    "duration": 21,
    "start_time": "2022-02-08T12:01:11.833Z"
   },
   {
    "duration": 2592,
    "start_time": "2022-02-08T12:01:11.855Z"
   },
   {
    "duration": -11,
    "start_time": "2022-02-08T12:01:14.460Z"
   },
   {
    "duration": -28,
    "start_time": "2022-02-08T12:01:14.478Z"
   },
   {
    "duration": -57,
    "start_time": "2022-02-08T12:01:14.508Z"
   },
   {
    "duration": -87,
    "start_time": "2022-02-08T12:01:14.539Z"
   },
   {
    "duration": -94,
    "start_time": "2022-02-08T12:01:14.547Z"
   },
   {
    "duration": -98,
    "start_time": "2022-02-08T12:01:14.552Z"
   },
   {
    "duration": 1073,
    "start_time": "2022-02-08T12:03:15.913Z"
   },
   {
    "duration": 140,
    "start_time": "2022-02-08T12:03:16.988Z"
   },
   {
    "duration": 13,
    "start_time": "2022-02-08T12:03:17.130Z"
   },
   {
    "duration": 34,
    "start_time": "2022-02-08T12:03:17.144Z"
   },
   {
    "duration": 4,
    "start_time": "2022-02-08T12:03:17.180Z"
   },
   {
    "duration": 16,
    "start_time": "2022-02-08T12:03:17.186Z"
   },
   {
    "duration": 6,
    "start_time": "2022-02-08T12:03:17.203Z"
   },
   {
    "duration": 13,
    "start_time": "2022-02-08T12:03:17.212Z"
   },
   {
    "duration": 49,
    "start_time": "2022-02-08T12:03:17.228Z"
   },
   {
    "duration": 17,
    "start_time": "2022-02-08T12:03:17.279Z"
   },
   {
    "duration": 27,
    "start_time": "2022-02-08T12:03:17.297Z"
   },
   {
    "duration": 86,
    "start_time": "2022-02-08T12:03:17.327Z"
   },
   {
    "duration": 79,
    "start_time": "2022-02-08T12:03:17.415Z"
   },
   {
    "duration": 12,
    "start_time": "2022-02-08T12:03:17.496Z"
   },
   {
    "duration": 3,
    "start_time": "2022-02-08T12:03:17.510Z"
   },
   {
    "duration": 12,
    "start_time": "2022-02-08T12:03:17.515Z"
   },
   {
    "duration": 82,
    "start_time": "2022-02-08T12:03:17.529Z"
   },
   {
    "duration": 51,
    "start_time": "2022-02-08T12:03:17.613Z"
   },
   {
    "duration": 38,
    "start_time": "2022-02-08T12:03:17.665Z"
   },
   {
    "duration": 3,
    "start_time": "2022-02-08T12:03:17.705Z"
   },
   {
    "duration": 11,
    "start_time": "2022-02-08T12:03:17.710Z"
   },
   {
    "duration": 36,
    "start_time": "2022-02-08T12:03:17.723Z"
   },
   {
    "duration": 40,
    "start_time": "2022-02-08T12:03:17.763Z"
   },
   {
    "duration": 38,
    "start_time": "2022-02-08T12:03:17.805Z"
   },
   {
    "duration": 6,
    "start_time": "2022-02-08T12:03:17.859Z"
   },
   {
    "duration": 12,
    "start_time": "2022-02-08T12:03:17.867Z"
   },
   {
    "duration": 22,
    "start_time": "2022-02-08T12:03:17.881Z"
   },
   {
    "duration": 22,
    "start_time": "2022-02-08T12:03:17.905Z"
   },
   {
    "duration": 3,
    "start_time": "2022-02-08T12:03:17.928Z"
   },
   {
    "duration": 51,
    "start_time": "2022-02-08T12:03:17.932Z"
   },
   {
    "duration": 25,
    "start_time": "2022-02-08T12:03:17.984Z"
   },
   {
    "duration": 49,
    "start_time": "2022-02-08T12:03:18.010Z"
   },
   {
    "duration": 9,
    "start_time": "2022-02-08T12:03:18.061Z"
   },
   {
    "duration": 6,
    "start_time": "2022-02-08T12:03:18.072Z"
   },
   {
    "duration": 8,
    "start_time": "2022-02-08T12:03:18.080Z"
   },
   {
    "duration": 7,
    "start_time": "2022-02-08T12:03:18.090Z"
   },
   {
    "duration": 7,
    "start_time": "2022-02-08T12:03:18.099Z"
   },
   {
    "duration": 90,
    "start_time": "2022-02-08T12:03:18.108Z"
   },
   {
    "duration": 2,
    "start_time": "2022-02-08T12:03:18.200Z"
   },
   {
    "duration": 46,
    "start_time": "2022-02-08T12:03:18.203Z"
   },
   {
    "duration": 2,
    "start_time": "2022-02-08T12:03:18.258Z"
   },
   {
    "duration": 1199,
    "start_time": "2022-02-08T12:03:18.262Z"
   },
   {
    "duration": -18,
    "start_time": "2022-02-08T12:03:19.481Z"
   },
   {
    "duration": -25,
    "start_time": "2022-02-08T12:03:19.489Z"
   },
   {
    "duration": -31,
    "start_time": "2022-02-08T12:03:19.496Z"
   },
   {
    "duration": -38,
    "start_time": "2022-02-08T12:03:19.504Z"
   },
   {
    "duration": -44,
    "start_time": "2022-02-08T12:03:19.511Z"
   },
   {
    "duration": -50,
    "start_time": "2022-02-08T12:03:19.518Z"
   },
   {
    "duration": 1120,
    "start_time": "2022-02-08T12:06:24.286Z"
   },
   {
    "duration": 149,
    "start_time": "2022-02-08T12:06:25.408Z"
   },
   {
    "duration": 15,
    "start_time": "2022-02-08T12:06:25.559Z"
   },
   {
    "duration": 26,
    "start_time": "2022-02-08T12:06:25.577Z"
   },
   {
    "duration": 6,
    "start_time": "2022-02-08T12:06:25.605Z"
   },
   {
    "duration": 19,
    "start_time": "2022-02-08T12:06:25.612Z"
   },
   {
    "duration": 27,
    "start_time": "2022-02-08T12:06:25.633Z"
   },
   {
    "duration": 16,
    "start_time": "2022-02-08T12:06:25.664Z"
   },
   {
    "duration": 26,
    "start_time": "2022-02-08T12:06:25.682Z"
   },
   {
    "duration": 19,
    "start_time": "2022-02-08T12:06:25.710Z"
   },
   {
    "duration": 42,
    "start_time": "2022-02-08T12:06:25.731Z"
   },
   {
    "duration": 61,
    "start_time": "2022-02-08T12:06:25.775Z"
   },
   {
    "duration": 86,
    "start_time": "2022-02-08T12:06:25.838Z"
   },
   {
    "duration": 12,
    "start_time": "2022-02-08T12:06:25.926Z"
   },
   {
    "duration": 22,
    "start_time": "2022-02-08T12:06:25.939Z"
   },
   {
    "duration": 19,
    "start_time": "2022-02-08T12:06:25.963Z"
   },
   {
    "duration": 76,
    "start_time": "2022-02-08T12:06:25.984Z"
   },
   {
    "duration": 41,
    "start_time": "2022-02-08T12:06:26.062Z"
   },
   {
    "duration": 59,
    "start_time": "2022-02-08T12:06:26.105Z"
   },
   {
    "duration": 4,
    "start_time": "2022-02-08T12:06:26.167Z"
   },
   {
    "duration": 12,
    "start_time": "2022-02-08T12:06:26.172Z"
   },
   {
    "duration": 24,
    "start_time": "2022-02-08T12:06:26.186Z"
   },
   {
    "duration": 51,
    "start_time": "2022-02-08T12:06:26.214Z"
   },
   {
    "duration": 36,
    "start_time": "2022-02-08T12:06:26.268Z"
   },
   {
    "duration": 6,
    "start_time": "2022-02-08T12:06:26.306Z"
   },
   {
    "duration": 8,
    "start_time": "2022-02-08T12:06:26.313Z"
   },
   {
    "duration": 48,
    "start_time": "2022-02-08T12:06:26.322Z"
   },
   {
    "duration": 23,
    "start_time": "2022-02-08T12:06:26.372Z"
   },
   {
    "duration": 3,
    "start_time": "2022-02-08T12:06:26.396Z"
   },
   {
    "duration": 33,
    "start_time": "2022-02-08T12:06:26.401Z"
   },
   {
    "duration": 28,
    "start_time": "2022-02-08T12:06:26.460Z"
   },
   {
    "duration": 33,
    "start_time": "2022-02-08T12:06:26.490Z"
   },
   {
    "duration": 36,
    "start_time": "2022-02-08T12:06:26.525Z"
   },
   {
    "duration": 9,
    "start_time": "2022-02-08T12:06:26.563Z"
   },
   {
    "duration": 6,
    "start_time": "2022-02-08T12:06:26.574Z"
   },
   {
    "duration": 9,
    "start_time": "2022-02-08T12:06:26.581Z"
   },
   {
    "duration": 15,
    "start_time": "2022-02-08T12:06:26.592Z"
   },
   {
    "duration": 91,
    "start_time": "2022-02-08T12:06:26.609Z"
   },
   {
    "duration": 3,
    "start_time": "2022-02-08T12:06:26.701Z"
   },
   {
    "duration": 43,
    "start_time": "2022-02-08T12:06:26.705Z"
   },
   {
    "duration": 2,
    "start_time": "2022-02-08T12:06:26.759Z"
   },
   {
    "duration": 1143,
    "start_time": "2022-02-08T12:06:26.763Z"
   },
   {
    "duration": 27,
    "start_time": "2022-02-08T12:06:27.880Z"
   },
   {
    "duration": 21,
    "start_time": "2022-02-08T12:06:27.887Z"
   },
   {
    "duration": 16,
    "start_time": "2022-02-08T12:06:27.893Z"
   },
   {
    "duration": 11,
    "start_time": "2022-02-08T12:06:27.899Z"
   },
   {
    "duration": 7,
    "start_time": "2022-02-08T12:06:27.904Z"
   },
   {
    "duration": 1,
    "start_time": "2022-02-08T12:06:27.910Z"
   },
   {
    "duration": 1128,
    "start_time": "2022-02-08T12:06:58.152Z"
   },
   {
    "duration": 138,
    "start_time": "2022-02-08T12:06:59.282Z"
   },
   {
    "duration": 13,
    "start_time": "2022-02-08T12:06:59.422Z"
   },
   {
    "duration": 35,
    "start_time": "2022-02-08T12:06:59.437Z"
   },
   {
    "duration": 6,
    "start_time": "2022-02-08T12:06:59.474Z"
   },
   {
    "duration": 17,
    "start_time": "2022-02-08T12:06:59.481Z"
   },
   {
    "duration": 7,
    "start_time": "2022-02-08T12:06:59.500Z"
   },
   {
    "duration": 11,
    "start_time": "2022-02-08T12:06:59.509Z"
   },
   {
    "duration": 38,
    "start_time": "2022-02-08T12:06:59.522Z"
   },
   {
    "duration": 15,
    "start_time": "2022-02-08T12:06:59.561Z"
   },
   {
    "duration": 29,
    "start_time": "2022-02-08T12:06:59.578Z"
   },
   {
    "duration": 68,
    "start_time": "2022-02-08T12:06:59.609Z"
   },
   {
    "duration": 63,
    "start_time": "2022-02-08T12:06:59.679Z"
   },
   {
    "duration": 22,
    "start_time": "2022-02-08T12:06:59.744Z"
   },
   {
    "duration": 4,
    "start_time": "2022-02-08T12:06:59.768Z"
   },
   {
    "duration": 17,
    "start_time": "2022-02-08T12:06:59.774Z"
   },
   {
    "duration": 69,
    "start_time": "2022-02-08T12:06:59.792Z"
   },
   {
    "duration": 38,
    "start_time": "2022-02-08T12:06:59.863Z"
   },
   {
    "duration": 38,
    "start_time": "2022-02-08T12:06:59.903Z"
   },
   {
    "duration": 17,
    "start_time": "2022-02-08T12:06:59.943Z"
   },
   {
    "duration": 19,
    "start_time": "2022-02-08T12:06:59.962Z"
   },
   {
    "duration": 36,
    "start_time": "2022-02-08T12:06:59.983Z"
   },
   {
    "duration": 50,
    "start_time": "2022-02-08T12:07:00.022Z"
   },
   {
    "duration": 46,
    "start_time": "2022-02-08T12:07:00.074Z"
   },
   {
    "duration": 21,
    "start_time": "2022-02-08T12:07:00.122Z"
   },
   {
    "duration": 39,
    "start_time": "2022-02-08T12:07:00.144Z"
   },
   {
    "duration": 63,
    "start_time": "2022-02-08T12:07:00.185Z"
   },
   {
    "duration": 23,
    "start_time": "2022-02-08T12:07:00.250Z"
   },
   {
    "duration": 6,
    "start_time": "2022-02-08T12:07:00.275Z"
   },
   {
    "duration": 45,
    "start_time": "2022-02-08T12:07:00.282Z"
   },
   {
    "duration": 30,
    "start_time": "2022-02-08T12:07:00.329Z"
   },
   {
    "duration": 29,
    "start_time": "2022-02-08T12:07:00.360Z"
   },
   {
    "duration": 9,
    "start_time": "2022-02-08T12:07:00.391Z"
   },
   {
    "duration": 18,
    "start_time": "2022-02-08T12:07:00.402Z"
   },
   {
    "duration": 6,
    "start_time": "2022-02-08T12:07:00.422Z"
   },
   {
    "duration": 13,
    "start_time": "2022-02-08T12:07:00.430Z"
   },
   {
    "duration": 33,
    "start_time": "2022-02-08T12:07:00.444Z"
   },
   {
    "duration": 530,
    "start_time": "2022-02-08T12:07:00.479Z"
   },
   {
    "duration": 24,
    "start_time": "2022-02-08T12:07:00.987Z"
   },
   {
    "duration": 19,
    "start_time": "2022-02-08T12:07:00.993Z"
   },
   {
    "duration": 14,
    "start_time": "2022-02-08T12:07:00.999Z"
   },
   {
    "duration": 10,
    "start_time": "2022-02-08T12:07:01.004Z"
   },
   {
    "duration": 4,
    "start_time": "2022-02-08T12:07:01.011Z"
   },
   {
    "duration": 0,
    "start_time": "2022-02-08T12:07:01.016Z"
   },
   {
    "duration": -4,
    "start_time": "2022-02-08T12:07:01.021Z"
   },
   {
    "duration": -9,
    "start_time": "2022-02-08T12:07:01.027Z"
   },
   {
    "duration": -13,
    "start_time": "2022-02-08T12:07:01.032Z"
   },
   {
    "duration": -19,
    "start_time": "2022-02-08T12:07:01.038Z"
   },
   {
    "duration": 1117,
    "start_time": "2022-02-08T12:07:57.866Z"
   },
   {
    "duration": 131,
    "start_time": "2022-02-08T12:07:58.984Z"
   },
   {
    "duration": 13,
    "start_time": "2022-02-08T12:07:59.120Z"
   },
   {
    "duration": 35,
    "start_time": "2022-02-08T12:07:59.135Z"
   },
   {
    "duration": 3,
    "start_time": "2022-02-08T12:07:59.171Z"
   },
   {
    "duration": 16,
    "start_time": "2022-02-08T12:07:59.176Z"
   },
   {
    "duration": 6,
    "start_time": "2022-02-08T12:07:59.195Z"
   },
   {
    "duration": 11,
    "start_time": "2022-02-08T12:07:59.203Z"
   },
   {
    "duration": 46,
    "start_time": "2022-02-08T12:07:59.216Z"
   },
   {
    "duration": 53,
    "start_time": "2022-02-08T12:07:59.264Z"
   },
   {
    "duration": 52,
    "start_time": "2022-02-08T12:07:59.319Z"
   },
   {
    "duration": 68,
    "start_time": "2022-02-08T12:07:59.373Z"
   },
   {
    "duration": 70,
    "start_time": "2022-02-08T12:07:59.443Z"
   },
   {
    "duration": 10,
    "start_time": "2022-02-08T12:07:59.515Z"
   },
   {
    "duration": 17,
    "start_time": "2022-02-08T12:07:59.527Z"
   },
   {
    "duration": 26,
    "start_time": "2022-02-08T12:07:59.546Z"
   },
   {
    "duration": 74,
    "start_time": "2022-02-08T12:07:59.574Z"
   },
   {
    "duration": 38,
    "start_time": "2022-02-08T12:07:59.650Z"
   },
   {
    "duration": 53,
    "start_time": "2022-02-08T12:07:59.690Z"
   },
   {
    "duration": 8,
    "start_time": "2022-02-08T12:07:59.744Z"
   },
   {
    "duration": 18,
    "start_time": "2022-02-08T12:07:59.753Z"
   },
   {
    "duration": 56,
    "start_time": "2022-02-08T12:07:59.774Z"
   },
   {
    "duration": 53,
    "start_time": "2022-02-08T12:07:59.833Z"
   },
   {
    "duration": 46,
    "start_time": "2022-02-08T12:07:59.888Z"
   },
   {
    "duration": 34,
    "start_time": "2022-02-08T12:07:59.936Z"
   },
   {
    "duration": 56,
    "start_time": "2022-02-08T12:07:59.972Z"
   },
   {
    "duration": 40,
    "start_time": "2022-02-08T12:08:00.030Z"
   },
   {
    "duration": 34,
    "start_time": "2022-02-08T12:08:00.072Z"
   },
   {
    "duration": 25,
    "start_time": "2022-02-08T12:08:00.108Z"
   },
   {
    "duration": 36,
    "start_time": "2022-02-08T12:08:00.135Z"
   },
   {
    "duration": 41,
    "start_time": "2022-02-08T12:08:00.173Z"
   },
   {
    "duration": 32,
    "start_time": "2022-02-08T12:08:00.216Z"
   },
   {
    "duration": 27,
    "start_time": "2022-02-08T12:08:00.250Z"
   },
   {
    "duration": 28,
    "start_time": "2022-02-08T12:08:00.278Z"
   },
   {
    "duration": 30,
    "start_time": "2022-02-08T12:08:00.307Z"
   },
   {
    "duration": 51,
    "start_time": "2022-02-08T12:08:00.339Z"
   },
   {
    "duration": 46,
    "start_time": "2022-02-08T12:08:00.392Z"
   },
   {
    "duration": 117,
    "start_time": "2022-02-08T12:08:00.440Z"
   },
   {
    "duration": 3,
    "start_time": "2022-02-08T12:08:00.558Z"
   },
   {
    "duration": 65,
    "start_time": "2022-02-08T12:08:00.562Z"
   },
   {
    "duration": 4,
    "start_time": "2022-02-08T12:08:00.630Z"
   },
   {
    "duration": 1147,
    "start_time": "2022-02-08T12:08:00.635Z"
   },
   {
    "duration": 31,
    "start_time": "2022-02-08T12:08:01.753Z"
   },
   {
    "duration": 26,
    "start_time": "2022-02-08T12:08:01.759Z"
   },
   {
    "duration": 21,
    "start_time": "2022-02-08T12:08:01.765Z"
   },
   {
    "duration": 16,
    "start_time": "2022-02-08T12:08:01.771Z"
   },
   {
    "duration": 12,
    "start_time": "2022-02-08T12:08:01.776Z"
   },
   {
    "duration": 8,
    "start_time": "2022-02-08T12:08:01.781Z"
   },
   {
    "duration": 1222,
    "start_time": "2022-02-08T12:09:57.837Z"
   },
   {
    "duration": 142,
    "start_time": "2022-02-08T12:09:59.061Z"
   },
   {
    "duration": 13,
    "start_time": "2022-02-08T12:09:59.205Z"
   },
   {
    "duration": 26,
    "start_time": "2022-02-08T12:09:59.219Z"
   },
   {
    "duration": 12,
    "start_time": "2022-02-08T12:09:59.247Z"
   },
   {
    "duration": 17,
    "start_time": "2022-02-08T12:09:59.260Z"
   },
   {
    "duration": 7,
    "start_time": "2022-02-08T12:09:59.279Z"
   },
   {
    "duration": 16,
    "start_time": "2022-02-08T12:09:59.289Z"
   },
   {
    "duration": 25,
    "start_time": "2022-02-08T12:09:59.307Z"
   },
   {
    "duration": 26,
    "start_time": "2022-02-08T12:09:59.333Z"
   },
   {
    "duration": 27,
    "start_time": "2022-02-08T12:09:59.361Z"
   },
   {
    "duration": 70,
    "start_time": "2022-02-08T12:09:59.390Z"
   },
   {
    "duration": 64,
    "start_time": "2022-02-08T12:09:59.461Z"
   },
   {
    "duration": 10,
    "start_time": "2022-02-08T12:09:59.527Z"
   },
   {
    "duration": 22,
    "start_time": "2022-02-08T12:09:59.538Z"
   },
   {
    "duration": 11,
    "start_time": "2022-02-08T12:09:59.562Z"
   },
   {
    "duration": 54,
    "start_time": "2022-02-08T12:09:59.575Z"
   },
   {
    "duration": 60,
    "start_time": "2022-02-08T12:09:59.631Z"
   },
   {
    "duration": 39,
    "start_time": "2022-02-08T12:09:59.693Z"
   },
   {
    "duration": 3,
    "start_time": "2022-02-08T12:09:59.734Z"
   },
   {
    "duration": 21,
    "start_time": "2022-02-08T12:09:59.739Z"
   },
   {
    "duration": 23,
    "start_time": "2022-02-08T12:09:59.761Z"
   },
   {
    "duration": 51,
    "start_time": "2022-02-08T12:09:59.788Z"
   },
   {
    "duration": 41,
    "start_time": "2022-02-08T12:09:59.841Z"
   },
   {
    "duration": 8,
    "start_time": "2022-02-08T12:09:59.884Z"
   },
   {
    "duration": 7,
    "start_time": "2022-02-08T12:09:59.893Z"
   },
   {
    "duration": 21,
    "start_time": "2022-02-08T12:09:59.901Z"
   },
   {
    "duration": 48,
    "start_time": "2022-02-08T12:09:59.923Z"
   },
   {
    "duration": 3,
    "start_time": "2022-02-08T12:09:59.974Z"
   },
   {
    "duration": 45,
    "start_time": "2022-02-08T12:09:59.979Z"
   },
   {
    "duration": 42,
    "start_time": "2022-02-08T12:10:00.026Z"
   },
   {
    "duration": 27,
    "start_time": "2022-02-08T12:10:00.069Z"
   },
   {
    "duration": 9,
    "start_time": "2022-02-08T12:10:00.097Z"
   },
   {
    "duration": 7,
    "start_time": "2022-02-08T12:10:00.107Z"
   },
   {
    "duration": 12,
    "start_time": "2022-02-08T12:10:00.116Z"
   },
   {
    "duration": 7,
    "start_time": "2022-02-08T12:10:00.129Z"
   },
   {
    "duration": 10,
    "start_time": "2022-02-08T12:10:00.137Z"
   },
   {
    "duration": 88,
    "start_time": "2022-02-08T12:10:00.159Z"
   },
   {
    "duration": 10,
    "start_time": "2022-02-08T12:10:00.249Z"
   },
   {
    "duration": 46,
    "start_time": "2022-02-08T12:10:00.261Z"
   },
   {
    "duration": 2,
    "start_time": "2022-02-08T12:10:00.309Z"
   },
   {
    "duration": 84,
    "start_time": "2022-02-08T12:10:00.312Z"
   },
   {
    "duration": 3,
    "start_time": "2022-02-08T12:10:00.398Z"
   },
   {
    "duration": 55,
    "start_time": "2022-02-08T12:10:00.402Z"
   },
   {
    "duration": 3,
    "start_time": "2022-02-08T12:10:00.459Z"
   },
   {
    "duration": 22,
    "start_time": "2022-02-08T12:10:00.463Z"
   },
   {
    "duration": 24,
    "start_time": "2022-02-08T12:10:00.487Z"
   },
   {
    "duration": 22,
    "start_time": "2022-02-08T12:10:00.512Z"
   },
   {
    "duration": 1424,
    "start_time": "2022-02-08T13:54:04.058Z"
   },
   {
    "duration": 169,
    "start_time": "2022-02-08T13:54:05.485Z"
   },
   {
    "duration": 20,
    "start_time": "2022-02-08T13:54:05.657Z"
   },
   {
    "duration": 47,
    "start_time": "2022-02-08T13:54:05.680Z"
   },
   {
    "duration": 4,
    "start_time": "2022-02-08T13:54:05.730Z"
   },
   {
    "duration": 20,
    "start_time": "2022-02-08T13:54:05.737Z"
   },
   {
    "duration": 16,
    "start_time": "2022-02-08T13:54:05.760Z"
   },
   {
    "duration": 17,
    "start_time": "2022-02-08T13:54:05.778Z"
   },
   {
    "duration": 28,
    "start_time": "2022-02-08T13:54:05.823Z"
   },
   {
    "duration": 19,
    "start_time": "2022-02-08T13:54:05.854Z"
   },
   {
    "duration": 54,
    "start_time": "2022-02-08T13:54:05.875Z"
   },
   {
    "duration": 91,
    "start_time": "2022-02-08T13:54:05.932Z"
   },
   {
    "duration": 99,
    "start_time": "2022-02-08T13:54:06.026Z"
   },
   {
    "duration": 15,
    "start_time": "2022-02-08T13:54:06.128Z"
   },
   {
    "duration": 6,
    "start_time": "2022-02-08T13:54:06.145Z"
   },
   {
    "duration": 19,
    "start_time": "2022-02-08T13:54:06.154Z"
   },
   {
    "duration": 115,
    "start_time": "2022-02-08T13:54:06.175Z"
   },
   {
    "duration": 62,
    "start_time": "2022-02-08T13:54:06.292Z"
   },
   {
    "duration": 72,
    "start_time": "2022-02-08T13:54:06.356Z"
   },
   {
    "duration": 5,
    "start_time": "2022-02-08T13:54:06.431Z"
   },
   {
    "duration": 6,
    "start_time": "2022-02-08T13:54:06.438Z"
   },
   {
    "duration": 33,
    "start_time": "2022-02-08T13:54:06.447Z"
   },
   {
    "duration": 94,
    "start_time": "2022-02-08T13:54:06.482Z"
   },
   {
    "duration": 72,
    "start_time": "2022-02-08T13:54:06.579Z"
   },
   {
    "duration": 10,
    "start_time": "2022-02-08T13:54:06.654Z"
   },
   {
    "duration": 15,
    "start_time": "2022-02-08T13:54:06.666Z"
   },
   {
    "duration": 61,
    "start_time": "2022-02-08T13:54:06.688Z"
   },
   {
    "duration": 34,
    "start_time": "2022-02-08T13:54:06.751Z"
   },
   {
    "duration": 4,
    "start_time": "2022-02-08T13:54:06.788Z"
   },
   {
    "duration": 70,
    "start_time": "2022-02-08T13:54:06.795Z"
   },
   {
    "duration": 32,
    "start_time": "2022-02-08T13:54:06.868Z"
   },
   {
    "duration": 36,
    "start_time": "2022-02-08T13:54:06.924Z"
   },
   {
    "duration": 13,
    "start_time": "2022-02-08T13:54:06.962Z"
   },
   {
    "duration": 5,
    "start_time": "2022-02-08T13:54:06.977Z"
   },
   {
    "duration": 38,
    "start_time": "2022-02-08T13:54:06.985Z"
   },
   {
    "duration": 12,
    "start_time": "2022-02-08T13:54:07.026Z"
   },
   {
    "duration": 11,
    "start_time": "2022-02-08T13:54:07.040Z"
   },
   {
    "duration": 132,
    "start_time": "2022-02-08T13:54:07.053Z"
   },
   {
    "duration": 3,
    "start_time": "2022-02-08T13:54:07.187Z"
   },
   {
    "duration": 78,
    "start_time": "2022-02-08T13:54:07.193Z"
   },
   {
    "duration": 3,
    "start_time": "2022-02-08T13:54:07.273Z"
   },
   {
    "duration": 131,
    "start_time": "2022-02-08T13:54:07.278Z"
   },
   {
    "duration": 12,
    "start_time": "2022-02-08T13:54:07.411Z"
   },
   {
    "duration": 60,
    "start_time": "2022-02-08T13:54:07.425Z"
   },
   {
    "duration": 3,
    "start_time": "2022-02-08T13:54:07.487Z"
   },
   {
    "duration": 15,
    "start_time": "2022-02-08T13:54:07.493Z"
   },
   {
    "duration": 2,
    "start_time": "2022-02-08T13:54:07.524Z"
   },
   {
    "duration": 11,
    "start_time": "2022-02-08T13:54:07.529Z"
   },
   {
    "duration": 5,
    "start_time": "2022-02-08T13:56:39.343Z"
   },
   {
    "duration": 7,
    "start_time": "2022-02-08T13:57:21.320Z"
   },
   {
    "duration": 9,
    "start_time": "2022-02-08T13:57:37.445Z"
   },
   {
    "duration": 10,
    "start_time": "2022-02-08T13:57:54.766Z"
   },
   {
    "duration": 1451,
    "start_time": "2022-02-08T14:02:57.536Z"
   },
   {
    "duration": 177,
    "start_time": "2022-02-08T14:02:58.990Z"
   },
   {
    "duration": 20,
    "start_time": "2022-02-08T14:02:59.171Z"
   },
   {
    "duration": 48,
    "start_time": "2022-02-08T14:02:59.194Z"
   },
   {
    "duration": 5,
    "start_time": "2022-02-08T14:02:59.244Z"
   },
   {
    "duration": 17,
    "start_time": "2022-02-08T14:02:59.251Z"
   },
   {
    "duration": 9,
    "start_time": "2022-02-08T14:02:59.271Z"
   },
   {
    "duration": 43,
    "start_time": "2022-02-08T14:02:59.284Z"
   },
   {
    "duration": 31,
    "start_time": "2022-02-08T14:02:59.330Z"
   },
   {
    "duration": 17,
    "start_time": "2022-02-08T14:02:59.364Z"
   },
   {
    "duration": 60,
    "start_time": "2022-02-08T14:02:59.384Z"
   },
   {
    "duration": 96,
    "start_time": "2022-02-08T14:02:59.447Z"
   },
   {
    "duration": 105,
    "start_time": "2022-02-08T14:02:59.547Z"
   },
   {
    "duration": 16,
    "start_time": "2022-02-08T14:02:59.655Z"
   },
   {
    "duration": 4,
    "start_time": "2022-02-08T14:02:59.674Z"
   },
   {
    "duration": 47,
    "start_time": "2022-02-08T14:02:59.680Z"
   },
   {
    "duration": 94,
    "start_time": "2022-02-08T14:02:59.730Z"
   },
   {
    "duration": 55,
    "start_time": "2022-02-08T14:02:59.827Z"
   },
   {
    "duration": 69,
    "start_time": "2022-02-08T14:02:59.884Z"
   },
   {
    "duration": 5,
    "start_time": "2022-02-08T14:02:59.956Z"
   },
   {
    "duration": 6,
    "start_time": "2022-02-08T14:02:59.963Z"
   },
   {
    "duration": 57,
    "start_time": "2022-02-08T14:02:59.972Z"
   },
   {
    "duration": 57,
    "start_time": "2022-02-08T14:03:00.034Z"
   },
   {
    "duration": 70,
    "start_time": "2022-02-08T14:03:00.094Z"
   },
   {
    "duration": 11,
    "start_time": "2022-02-08T14:03:00.167Z"
   },
   {
    "duration": 9,
    "start_time": "2022-02-08T14:03:00.181Z"
   },
   {
    "duration": 30,
    "start_time": "2022-02-08T14:03:00.225Z"
   },
   {
    "duration": 68,
    "start_time": "2022-02-08T14:03:00.258Z"
   },
   {
    "duration": 5,
    "start_time": "2022-02-08T14:03:00.329Z"
   },
   {
    "duration": 40,
    "start_time": "2022-02-08T14:03:00.337Z"
   },
   {
    "duration": 61,
    "start_time": "2022-02-08T14:03:00.379Z"
   },
   {
    "duration": 36,
    "start_time": "2022-02-08T14:03:00.443Z"
   },
   {
    "duration": 41,
    "start_time": "2022-02-08T14:03:00.482Z"
   },
   {
    "duration": 3,
    "start_time": "2022-02-08T14:03:00.526Z"
   },
   {
    "duration": 20,
    "start_time": "2022-02-08T14:03:00.532Z"
   },
   {
    "duration": 22,
    "start_time": "2022-02-08T14:03:00.555Z"
   },
   {
    "duration": 25,
    "start_time": "2022-02-08T14:03:00.579Z"
   },
   {
    "duration": 125,
    "start_time": "2022-02-08T14:03:00.607Z"
   },
   {
    "duration": 3,
    "start_time": "2022-02-08T14:03:00.734Z"
   },
   {
    "duration": 64,
    "start_time": "2022-02-08T14:03:00.740Z"
   },
   {
    "duration": 3,
    "start_time": "2022-02-08T14:03:00.823Z"
   },
   {
    "duration": 124,
    "start_time": "2022-02-08T14:03:00.828Z"
   },
   {
    "duration": 3,
    "start_time": "2022-02-08T14:03:00.955Z"
   },
   {
    "duration": 78,
    "start_time": "2022-02-08T14:03:00.960Z"
   },
   {
    "duration": 15,
    "start_time": "2022-02-08T14:03:01.040Z"
   },
   {
    "duration": 12,
    "start_time": "2022-02-08T14:03:01.058Z"
   },
   {
    "duration": 10,
    "start_time": "2022-02-08T14:03:01.072Z"
   },
   {
    "duration": 19,
    "start_time": "2022-02-08T14:03:01.085Z"
   },
   {
    "duration": 14,
    "start_time": "2022-02-08T14:03:44.393Z"
   },
   {
    "duration": 14,
    "start_time": "2022-02-08T14:04:25.483Z"
   },
   {
    "duration": 15,
    "start_time": "2022-02-08T14:07:33.873Z"
   },
   {
    "duration": 431,
    "start_time": "2022-02-08T14:07:42.781Z"
   },
   {
    "duration": 95,
    "start_time": "2022-02-08T14:07:47.944Z"
   },
   {
    "duration": 289,
    "start_time": "2022-02-08T14:08:21.014Z"
   },
   {
    "duration": 356,
    "start_time": "2022-02-08T14:08:25.804Z"
   },
   {
    "duration": 320,
    "start_time": "2022-02-08T14:08:34.153Z"
   },
   {
    "duration": 288,
    "start_time": "2022-02-08T14:08:40.733Z"
   },
   {
    "duration": 14,
    "start_time": "2022-02-08T14:09:50.642Z"
   },
   {
    "duration": 198,
    "start_time": "2022-02-08T14:12:13.300Z"
   },
   {
    "duration": 564,
    "start_time": "2022-02-08T14:13:24.432Z"
   },
   {
    "duration": 5,
    "start_time": "2022-02-08T14:13:55.364Z"
   },
   {
    "duration": 740,
    "start_time": "2022-02-08T14:14:22.149Z"
   },
   {
    "duration": 288,
    "start_time": "2022-02-08T14:15:11.295Z"
   },
   {
    "duration": 201,
    "start_time": "2022-02-08T14:15:58.439Z"
   },
   {
    "duration": 354,
    "start_time": "2022-02-08T14:16:03.599Z"
   },
   {
    "duration": 5,
    "start_time": "2022-02-08T14:16:07.321Z"
   },
   {
    "duration": 9981,
    "start_time": "2022-02-08T14:16:40.052Z"
   },
   {
    "duration": 461,
    "start_time": "2022-02-08T14:17:20.179Z"
   },
   {
    "duration": 455,
    "start_time": "2022-02-08T14:17:49.412Z"
   },
   {
    "duration": 624,
    "start_time": "2022-02-08T14:20:18.322Z"
   },
   {
    "duration": 302,
    "start_time": "2022-02-08T14:21:26.005Z"
   },
   {
    "duration": 521,
    "start_time": "2022-02-08T14:22:01.365Z"
   },
   {
    "duration": 451,
    "start_time": "2022-02-08T14:22:17.245Z"
   },
   {
    "duration": 455,
    "start_time": "2022-02-08T14:23:16.058Z"
   },
   {
    "duration": 284,
    "start_time": "2022-02-08T14:26:12.941Z"
   },
   {
    "duration": 376,
    "start_time": "2022-02-08T14:27:16.477Z"
   },
   {
    "duration": 459,
    "start_time": "2022-02-08T14:27:37.001Z"
   },
   {
    "duration": 462,
    "start_time": "2022-02-08T14:29:58.463Z"
   },
   {
    "duration": 704,
    "start_time": "2022-02-08T14:34:11.175Z"
   },
   {
    "duration": 295,
    "start_time": "2022-02-08T14:35:45.032Z"
   },
   {
    "duration": 3,
    "start_time": "2022-02-08T14:36:22.963Z"
   },
   {
    "duration": 1414,
    "start_time": "2022-02-08T14:36:33.660Z"
   },
   {
    "duration": 175,
    "start_time": "2022-02-08T14:36:35.076Z"
   },
   {
    "duration": 21,
    "start_time": "2022-02-08T14:36:35.254Z"
   },
   {
    "duration": 48,
    "start_time": "2022-02-08T14:36:35.277Z"
   },
   {
    "duration": 5,
    "start_time": "2022-02-08T14:36:35.327Z"
   },
   {
    "duration": 20,
    "start_time": "2022-02-08T14:36:35.334Z"
   },
   {
    "duration": 9,
    "start_time": "2022-02-08T14:36:35.357Z"
   },
   {
    "duration": 18,
    "start_time": "2022-02-08T14:36:35.369Z"
   },
   {
    "duration": 31,
    "start_time": "2022-02-08T14:36:35.423Z"
   },
   {
    "duration": 23,
    "start_time": "2022-02-08T14:36:35.456Z"
   },
   {
    "duration": 55,
    "start_time": "2022-02-08T14:36:35.481Z"
   },
   {
    "duration": 95,
    "start_time": "2022-02-08T14:36:35.538Z"
   },
   {
    "duration": 91,
    "start_time": "2022-02-08T14:36:35.635Z"
   },
   {
    "duration": 15,
    "start_time": "2022-02-08T14:36:35.729Z"
   },
   {
    "duration": 8,
    "start_time": "2022-02-08T14:36:35.746Z"
   },
   {
    "duration": 27,
    "start_time": "2022-02-08T14:36:35.756Z"
   },
   {
    "duration": 100,
    "start_time": "2022-02-08T14:36:35.785Z"
   },
   {
    "duration": 60,
    "start_time": "2022-02-08T14:36:35.887Z"
   },
   {
    "duration": 77,
    "start_time": "2022-02-08T14:36:35.950Z"
   },
   {
    "duration": 5,
    "start_time": "2022-02-08T14:36:36.030Z"
   },
   {
    "duration": 6,
    "start_time": "2022-02-08T14:36:36.038Z"
   },
   {
    "duration": 30,
    "start_time": "2022-02-08T14:36:36.047Z"
   },
   {
    "duration": 80,
    "start_time": "2022-02-08T14:36:36.082Z"
   },
   {
    "duration": 65,
    "start_time": "2022-02-08T14:36:36.165Z"
   },
   {
    "duration": 7,
    "start_time": "2022-02-08T14:36:36.233Z"
   },
   {
    "duration": 8,
    "start_time": "2022-02-08T14:36:36.243Z"
   },
   {
    "duration": 30,
    "start_time": "2022-02-08T14:36:36.254Z"
   },
   {
    "duration": 64,
    "start_time": "2022-02-08T14:36:36.287Z"
   },
   {
    "duration": 4,
    "start_time": "2022-02-08T14:36:36.353Z"
   },
   {
    "duration": 34,
    "start_time": "2022-02-08T14:36:36.359Z"
   },
   {
    "duration": 55,
    "start_time": "2022-02-08T14:36:36.396Z"
   },
   {
    "duration": 32,
    "start_time": "2022-02-08T14:36:36.454Z"
   },
   {
    "duration": 41,
    "start_time": "2022-02-08T14:36:36.489Z"
   },
   {
    "duration": 3,
    "start_time": "2022-02-08T14:36:36.533Z"
   },
   {
    "duration": 5,
    "start_time": "2022-02-08T14:36:36.539Z"
   },
   {
    "duration": 9,
    "start_time": "2022-02-08T14:36:36.546Z"
   },
   {
    "duration": 7,
    "start_time": "2022-02-08T14:36:36.558Z"
   },
   {
    "duration": 158,
    "start_time": "2022-02-08T14:36:36.567Z"
   },
   {
    "duration": 3,
    "start_time": "2022-02-08T14:36:36.728Z"
   },
   {
    "duration": 59,
    "start_time": "2022-02-08T14:36:36.733Z"
   },
   {
    "duration": 3,
    "start_time": "2022-02-08T14:36:36.794Z"
   },
   {
    "duration": 121,
    "start_time": "2022-02-08T14:36:36.823Z"
   },
   {
    "duration": 3,
    "start_time": "2022-02-08T14:36:36.947Z"
   },
   {
    "duration": 75,
    "start_time": "2022-02-08T14:36:36.952Z"
   },
   {
    "duration": 13,
    "start_time": "2022-02-08T14:36:37.029Z"
   },
   {
    "duration": 490,
    "start_time": "2022-02-08T14:36:37.045Z"
   },
   {
    "duration": 15,
    "start_time": "2022-02-08T14:36:37.538Z"
   },
   {
    "duration": 15,
    "start_time": "2022-02-08T14:40:55.496Z"
   },
   {
    "duration": 655,
    "start_time": "2022-02-08T14:41:08.615Z"
   },
   {
    "duration": 1453,
    "start_time": "2022-02-08T14:42:40.447Z"
   },
   {
    "duration": 175,
    "start_time": "2022-02-08T14:42:41.903Z"
   },
   {
    "duration": 21,
    "start_time": "2022-02-08T14:42:42.081Z"
   },
   {
    "duration": 43,
    "start_time": "2022-02-08T14:42:42.105Z"
   },
   {
    "duration": 5,
    "start_time": "2022-02-08T14:42:42.151Z"
   },
   {
    "duration": 18,
    "start_time": "2022-02-08T14:42:42.158Z"
   },
   {
    "duration": 46,
    "start_time": "2022-02-08T14:42:42.179Z"
   },
   {
    "duration": 18,
    "start_time": "2022-02-08T14:42:42.228Z"
   },
   {
    "duration": 31,
    "start_time": "2022-02-08T14:42:42.251Z"
   },
   {
    "duration": 49,
    "start_time": "2022-02-08T14:42:42.285Z"
   },
   {
    "duration": 31,
    "start_time": "2022-02-08T14:42:42.336Z"
   },
   {
    "duration": 139,
    "start_time": "2022-02-08T14:42:42.370Z"
   },
   {
    "duration": 124,
    "start_time": "2022-02-08T14:42:42.512Z"
   },
   {
    "duration": 17,
    "start_time": "2022-02-08T14:42:42.640Z"
   },
   {
    "duration": 5,
    "start_time": "2022-02-08T14:42:42.660Z"
   },
   {
    "duration": 17,
    "start_time": "2022-02-08T14:42:42.668Z"
   },
   {
    "duration": 75,
    "start_time": "2022-02-08T14:42:42.722Z"
   },
   {
    "duration": 70,
    "start_time": "2022-02-08T14:42:42.800Z"
   },
   {
    "duration": 72,
    "start_time": "2022-02-08T14:42:42.873Z"
   },
   {
    "duration": 6,
    "start_time": "2022-02-08T14:42:42.947Z"
   },
   {
    "duration": 17,
    "start_time": "2022-02-08T14:42:42.956Z"
   },
   {
    "duration": 57,
    "start_time": "2022-02-08T14:42:42.976Z"
   },
   {
    "duration": 64,
    "start_time": "2022-02-08T14:42:43.035Z"
   },
   {
    "duration": 67,
    "start_time": "2022-02-08T14:42:43.102Z"
   },
   {
    "duration": 9,
    "start_time": "2022-02-08T14:42:43.172Z"
   },
   {
    "duration": 18,
    "start_time": "2022-02-08T14:42:43.183Z"
   },
   {
    "duration": 31,
    "start_time": "2022-02-08T14:42:43.229Z"
   },
   {
    "duration": 67,
    "start_time": "2022-02-08T14:42:43.264Z"
   },
   {
    "duration": 6,
    "start_time": "2022-02-08T14:42:43.333Z"
   },
   {
    "duration": 41,
    "start_time": "2022-02-08T14:42:43.341Z"
   },
   {
    "duration": 59,
    "start_time": "2022-02-08T14:42:43.384Z"
   },
   {
    "duration": 35,
    "start_time": "2022-02-08T14:42:43.446Z"
   },
   {
    "duration": 43,
    "start_time": "2022-02-08T14:42:43.484Z"
   },
   {
    "duration": 5,
    "start_time": "2022-02-08T14:42:43.529Z"
   },
   {
    "duration": 6,
    "start_time": "2022-02-08T14:42:43.537Z"
   },
   {
    "duration": 9,
    "start_time": "2022-02-08T14:42:43.545Z"
   },
   {
    "duration": 8,
    "start_time": "2022-02-08T14:42:43.557Z"
   },
   {
    "duration": 157,
    "start_time": "2022-02-08T14:42:43.568Z"
   },
   {
    "duration": 4,
    "start_time": "2022-02-08T14:42:43.728Z"
   },
   {
    "duration": 58,
    "start_time": "2022-02-08T14:42:43.735Z"
   },
   {
    "duration": 27,
    "start_time": "2022-02-08T14:42:43.796Z"
   },
   {
    "duration": 127,
    "start_time": "2022-02-08T14:42:43.826Z"
   },
   {
    "duration": 3,
    "start_time": "2022-02-08T14:42:43.955Z"
   },
   {
    "duration": 76,
    "start_time": "2022-02-08T14:42:43.961Z"
   },
   {
    "duration": 14,
    "start_time": "2022-02-08T14:42:44.039Z"
   },
   {
    "duration": 499,
    "start_time": "2022-02-08T14:42:44.056Z"
   },
   {
    "duration": 15,
    "start_time": "2022-02-08T14:42:44.557Z"
   },
   {
    "duration": 4,
    "start_time": "2022-02-08T14:43:14.185Z"
   },
   {
    "duration": 1622,
    "start_time": "2022-02-08T14:43:34.132Z"
   },
   {
    "duration": 181,
    "start_time": "2022-02-08T14:43:35.757Z"
   },
   {
    "duration": 20,
    "start_time": "2022-02-08T14:43:35.942Z"
   },
   {
    "duration": 37,
    "start_time": "2022-02-08T14:43:35.965Z"
   },
   {
    "duration": 6,
    "start_time": "2022-02-08T14:43:36.025Z"
   },
   {
    "duration": 29,
    "start_time": "2022-02-08T14:43:36.034Z"
   },
   {
    "duration": 10,
    "start_time": "2022-02-08T14:43:36.066Z"
   },
   {
    "duration": 20,
    "start_time": "2022-02-08T14:43:36.080Z"
   },
   {
    "duration": 46,
    "start_time": "2022-02-08T14:43:36.104Z"
   },
   {
    "duration": 27,
    "start_time": "2022-02-08T14:43:36.153Z"
   },
   {
    "duration": 45,
    "start_time": "2022-02-08T14:43:36.182Z"
   },
   {
    "duration": 101,
    "start_time": "2022-02-08T14:43:36.229Z"
   },
   {
    "duration": 100,
    "start_time": "2022-02-08T14:43:36.332Z"
   },
   {
    "duration": 15,
    "start_time": "2022-02-08T14:43:36.434Z"
   },
   {
    "duration": 3,
    "start_time": "2022-02-08T14:43:36.452Z"
   },
   {
    "duration": 18,
    "start_time": "2022-02-08T14:43:36.458Z"
   },
   {
    "duration": 116,
    "start_time": "2022-02-08T14:43:36.479Z"
   },
   {
    "duration": 106,
    "start_time": "2022-02-08T14:43:36.597Z"
   },
   {
    "duration": 68,
    "start_time": "2022-02-08T14:43:36.705Z"
   },
   {
    "duration": 5,
    "start_time": "2022-02-08T14:43:36.776Z"
   },
   {
    "duration": 6,
    "start_time": "2022-02-08T14:43:36.784Z"
   },
   {
    "duration": 58,
    "start_time": "2022-02-08T14:43:36.793Z"
   },
   {
    "duration": 71,
    "start_time": "2022-02-08T14:43:36.857Z"
   },
   {
    "duration": 57,
    "start_time": "2022-02-08T14:43:36.931Z"
   },
   {
    "duration": 8,
    "start_time": "2022-02-08T14:43:36.990Z"
   },
   {
    "duration": 8,
    "start_time": "2022-02-08T14:43:37.024Z"
   },
   {
    "duration": 27,
    "start_time": "2022-02-08T14:43:37.035Z"
   },
   {
    "duration": 61,
    "start_time": "2022-02-08T14:43:37.064Z"
   },
   {
    "duration": 5,
    "start_time": "2022-02-08T14:43:37.128Z"
   },
   {
    "duration": 38,
    "start_time": "2022-02-08T14:43:37.136Z"
   },
   {
    "duration": 70,
    "start_time": "2022-02-08T14:43:37.177Z"
   },
   {
    "duration": 33,
    "start_time": "2022-02-08T14:43:37.249Z"
   },
   {
    "duration": 40,
    "start_time": "2022-02-08T14:43:37.284Z"
   },
   {
    "duration": 3,
    "start_time": "2022-02-08T14:43:37.326Z"
   },
   {
    "duration": 5,
    "start_time": "2022-02-08T14:43:37.332Z"
   },
   {
    "duration": 9,
    "start_time": "2022-02-08T14:43:37.340Z"
   },
   {
    "duration": 14,
    "start_time": "2022-02-08T14:43:37.351Z"
   },
   {
    "duration": 148,
    "start_time": "2022-02-08T14:43:37.368Z"
   },
   {
    "duration": 3,
    "start_time": "2022-02-08T14:43:37.523Z"
   },
   {
    "duration": 59,
    "start_time": "2022-02-08T14:43:37.528Z"
   },
   {
    "duration": 3,
    "start_time": "2022-02-08T14:43:37.590Z"
   },
   {
    "duration": 247,
    "start_time": "2022-02-08T14:43:37.596Z"
   },
   {
    "duration": 3,
    "start_time": "2022-02-08T14:43:37.846Z"
   },
   {
    "duration": 123,
    "start_time": "2022-02-08T14:43:37.852Z"
   },
   {
    "duration": 19,
    "start_time": "2022-02-08T14:43:37.978Z"
   },
   {
    "duration": 482,
    "start_time": "2022-02-08T14:43:38.000Z"
   },
   {
    "duration": 14,
    "start_time": "2022-02-08T14:43:38.484Z"
   },
   {
    "duration": 602,
    "start_time": "2022-02-08T15:16:47.891Z"
   },
   {
    "duration": 4,
    "start_time": "2022-02-08T15:19:51.217Z"
   },
   {
    "duration": 1748,
    "start_time": "2022-02-08T15:20:01.783Z"
   },
   {
    "duration": 1132,
    "start_time": "2022-02-08T15:20:14.971Z"
   },
   {
    "duration": 4,
    "start_time": "2022-02-08T15:20:31.323Z"
   },
   {
    "duration": 982,
    "start_time": "2022-02-08T15:20:42.603Z"
   },
   {
    "duration": 802,
    "start_time": "2022-02-08T15:22:21.043Z"
   },
   {
    "duration": 4,
    "start_time": "2022-02-08T15:22:45.099Z"
   },
   {
    "duration": 580,
    "start_time": "2022-02-08T15:22:55.885Z"
   },
   {
    "duration": 578,
    "start_time": "2022-02-08T15:23:19.348Z"
   },
   {
    "duration": 5,
    "start_time": "2022-02-08T15:23:43.511Z"
   },
   {
    "duration": 667,
    "start_time": "2022-02-08T15:23:54.669Z"
   },
   {
    "duration": 415,
    "start_time": "2022-02-08T15:28:07.339Z"
   },
   {
    "duration": 13,
    "start_time": "2022-02-08T15:28:14.579Z"
   },
   {
    "duration": 508,
    "start_time": "2022-02-08T15:28:18.192Z"
   },
   {
    "duration": 533,
    "start_time": "2022-02-08T15:29:32.347Z"
   },
   {
    "duration": 5,
    "start_time": "2022-02-08T15:30:00.699Z"
   },
   {
    "duration": 4,
    "start_time": "2022-02-08T15:30:30.992Z"
   },
   {
    "duration": 443,
    "start_time": "2022-02-08T15:30:41.547Z"
   },
   {
    "duration": 458,
    "start_time": "2022-02-08T15:30:45.679Z"
   },
   {
    "duration": 16,
    "start_time": "2022-02-08T15:31:08.589Z"
   },
   {
    "duration": 16,
    "start_time": "2022-02-08T15:31:47.681Z"
   },
   {
    "duration": 93,
    "start_time": "2022-02-08T15:42:49.781Z"
   },
   {
    "duration": 8,
    "start_time": "2022-02-08T15:52:16.832Z"
   },
   {
    "duration": 7,
    "start_time": "2022-02-08T15:52:40.753Z"
   },
   {
    "duration": 4,
    "start_time": "2022-02-08T16:01:15.244Z"
   },
   {
    "duration": 19,
    "start_time": "2022-02-08T16:01:52.226Z"
   },
   {
    "duration": 19,
    "start_time": "2022-02-08T16:02:01.424Z"
   },
   {
    "duration": 92,
    "start_time": "2022-02-08T16:03:37.742Z"
   },
   {
    "duration": 11,
    "start_time": "2022-02-08T16:04:48.892Z"
   },
   {
    "duration": 13,
    "start_time": "2022-02-08T16:07:57.882Z"
   },
   {
    "duration": 61,
    "start_time": "2022-02-08T16:10:44.013Z"
   },
   {
    "duration": 106,
    "start_time": "2022-02-08T16:12:37.254Z"
   },
   {
    "duration": 60,
    "start_time": "2022-02-08T16:14:36.534Z"
   },
   {
    "duration": 42,
    "start_time": "2022-02-08T16:14:40.301Z"
   },
   {
    "duration": 328,
    "start_time": "2022-02-08T16:16:22.441Z"
   },
   {
    "duration": 397,
    "start_time": "2022-02-08T16:17:30.921Z"
   },
   {
    "duration": 13,
    "start_time": "2022-02-08T16:17:45.533Z"
   },
   {
    "duration": 31,
    "start_time": "2022-02-08T16:17:51.020Z"
   },
   {
    "duration": 5,
    "start_time": "2022-02-08T16:21:01.892Z"
   },
   {
    "duration": 35,
    "start_time": "2022-02-08T16:22:09.212Z"
   },
   {
    "duration": 44,
    "start_time": "2022-02-08T16:22:30.582Z"
   },
   {
    "duration": 102,
    "start_time": "2022-02-08T16:23:58.662Z"
   },
   {
    "duration": 334,
    "start_time": "2022-02-08T20:10:40.054Z"
   },
   {
    "duration": 1253,
    "start_time": "2022-02-08T20:11:19.627Z"
   },
   {
    "duration": 146,
    "start_time": "2022-02-08T20:11:20.882Z"
   },
   {
    "duration": 16,
    "start_time": "2022-02-08T20:11:21.030Z"
   },
   {
    "duration": 27,
    "start_time": "2022-02-08T20:11:21.048Z"
   },
   {
    "duration": 32,
    "start_time": "2022-02-08T20:11:21.077Z"
   },
   {
    "duration": 28,
    "start_time": "2022-02-08T20:11:21.111Z"
   },
   {
    "duration": 8,
    "start_time": "2022-02-08T20:11:21.141Z"
   },
   {
    "duration": 16,
    "start_time": "2022-02-08T20:11:21.151Z"
   },
   {
    "duration": 31,
    "start_time": "2022-02-08T20:11:21.169Z"
   },
   {
    "duration": 16,
    "start_time": "2022-02-08T20:11:21.207Z"
   },
   {
    "duration": 29,
    "start_time": "2022-02-08T20:11:21.226Z"
   },
   {
    "duration": 80,
    "start_time": "2022-02-08T20:11:21.257Z"
   },
   {
    "duration": 76,
    "start_time": "2022-02-08T20:11:21.340Z"
   },
   {
    "duration": 13,
    "start_time": "2022-02-08T20:11:21.419Z"
   },
   {
    "duration": 5,
    "start_time": "2022-02-08T20:11:21.435Z"
   },
   {
    "duration": 14,
    "start_time": "2022-02-08T20:11:21.442Z"
   },
   {
    "duration": 94,
    "start_time": "2022-02-08T20:11:21.459Z"
   },
   {
    "duration": 54,
    "start_time": "2022-02-08T20:11:21.555Z"
   },
   {
    "duration": 41,
    "start_time": "2022-02-08T20:11:21.611Z"
   },
   {
    "duration": 5,
    "start_time": "2022-02-08T20:11:21.653Z"
   },
   {
    "duration": 6,
    "start_time": "2022-02-08T20:11:21.660Z"
   },
   {
    "duration": 45,
    "start_time": "2022-02-08T20:11:21.668Z"
   },
   {
    "duration": 54,
    "start_time": "2022-02-08T20:11:21.718Z"
   },
   {
    "duration": 47,
    "start_time": "2022-02-08T20:11:21.774Z"
   },
   {
    "duration": 6,
    "start_time": "2022-02-08T20:11:21.823Z"
   },
   {
    "duration": 7,
    "start_time": "2022-02-08T20:11:21.831Z"
   },
   {
    "duration": 27,
    "start_time": "2022-02-08T20:11:21.840Z"
   },
   {
    "duration": 46,
    "start_time": "2022-02-08T20:11:21.869Z"
   },
   {
    "duration": 3,
    "start_time": "2022-02-08T20:11:21.917Z"
   },
   {
    "duration": 43,
    "start_time": "2022-02-08T20:11:21.922Z"
   },
   {
    "duration": 27,
    "start_time": "2022-02-08T20:11:21.966Z"
   },
   {
    "duration": 30,
    "start_time": "2022-02-08T20:11:22.007Z"
   },
   {
    "duration": 10,
    "start_time": "2022-02-08T20:11:22.039Z"
   },
   {
    "duration": 11,
    "start_time": "2022-02-08T20:11:22.051Z"
   },
   {
    "duration": 21,
    "start_time": "2022-02-08T20:11:22.064Z"
   },
   {
    "duration": 14,
    "start_time": "2022-02-08T20:11:22.087Z"
   },
   {
    "duration": 111,
    "start_time": "2022-02-08T20:11:22.103Z"
   },
   {
    "duration": 43,
    "start_time": "2022-02-08T20:11:22.216Z"
   },
   {
    "duration": 100,
    "start_time": "2022-02-08T20:11:22.261Z"
   },
   {
    "duration": 55,
    "start_time": "2022-02-08T20:11:22.363Z"
   },
   {
    "duration": 11,
    "start_time": "2022-02-08T20:11:22.421Z"
   },
   {
    "duration": 325,
    "start_time": "2022-02-08T20:11:22.434Z"
   },
   {
    "duration": 11,
    "start_time": "2022-02-08T20:11:22.760Z"
   },
   {
    "duration": 315,
    "start_time": "2022-02-08T20:11:22.773Z"
   },
   {
    "duration": 78,
    "start_time": "2022-02-08T20:11:23.090Z"
   },
   {
    "duration": 40,
    "start_time": "2022-02-08T20:11:23.170Z"
   },
   {
    "duration": 380,
    "start_time": "2022-02-08T20:22:39.244Z"
   },
   {
    "duration": 315,
    "start_time": "2022-02-08T20:26:28.621Z"
   },
   {
    "duration": 699,
    "start_time": "2022-02-08T20:32:04.017Z"
   },
   {
    "duration": 782,
    "start_time": "2022-02-08T20:34:56.304Z"
   },
   {
    "duration": 284,
    "start_time": "2022-02-08T20:43:22.845Z"
   },
   {
    "duration": 431,
    "start_time": "2022-02-08T20:59:11.643Z"
   },
   {
    "duration": 299,
    "start_time": "2022-02-08T21:00:06.897Z"
   },
   {
    "duration": 304,
    "start_time": "2022-02-08T21:05:27.025Z"
   },
   {
    "duration": 388,
    "start_time": "2022-02-08T21:09:49.059Z"
   },
   {
    "duration": 343,
    "start_time": "2022-02-08T21:10:02.417Z"
   },
   {
    "duration": 519,
    "start_time": "2022-02-08T21:10:47.026Z"
   },
   {
    "duration": 328,
    "start_time": "2022-02-08T21:11:17.952Z"
   },
   {
    "duration": 438,
    "start_time": "2022-02-09T07:24:22.523Z"
   },
   {
    "duration": 1511,
    "start_time": "2022-02-09T07:24:37.326Z"
   },
   {
    "duration": 184,
    "start_time": "2022-02-09T07:24:38.840Z"
   },
   {
    "duration": 32,
    "start_time": "2022-02-09T07:24:39.027Z"
   },
   {
    "duration": 36,
    "start_time": "2022-02-09T07:24:39.063Z"
   },
   {
    "duration": 4,
    "start_time": "2022-02-09T07:24:39.102Z"
   },
   {
    "duration": 17,
    "start_time": "2022-02-09T07:24:39.108Z"
   },
   {
    "duration": 40,
    "start_time": "2022-02-09T07:24:39.127Z"
   },
   {
    "duration": 18,
    "start_time": "2022-02-09T07:24:39.171Z"
   },
   {
    "duration": 29,
    "start_time": "2022-02-09T07:24:39.192Z"
   },
   {
    "duration": 55,
    "start_time": "2022-02-09T07:24:39.224Z"
   },
   {
    "duration": 37,
    "start_time": "2022-02-09T07:24:39.282Z"
   },
   {
    "duration": 97,
    "start_time": "2022-02-09T07:24:39.321Z"
   },
   {
    "duration": 105,
    "start_time": "2022-02-09T07:24:39.420Z"
   },
   {
    "duration": 15,
    "start_time": "2022-02-09T07:24:39.528Z"
   },
   {
    "duration": 11,
    "start_time": "2022-02-09T07:24:39.559Z"
   },
   {
    "duration": 15,
    "start_time": "2022-02-09T07:24:39.573Z"
   },
   {
    "duration": 96,
    "start_time": "2022-02-09T07:24:39.590Z"
   },
   {
    "duration": 73,
    "start_time": "2022-02-09T07:24:39.689Z"
   },
   {
    "duration": 60,
    "start_time": "2022-02-09T07:24:39.764Z"
   },
   {
    "duration": 6,
    "start_time": "2022-02-09T07:24:39.826Z"
   },
   {
    "duration": 33,
    "start_time": "2022-02-09T07:24:39.834Z"
   },
   {
    "duration": 35,
    "start_time": "2022-02-09T07:24:39.870Z"
   },
   {
    "duration": 65,
    "start_time": "2022-02-09T07:24:39.913Z"
   },
   {
    "duration": 55,
    "start_time": "2022-02-09T07:24:39.981Z"
   },
   {
    "duration": 13,
    "start_time": "2022-02-09T07:24:40.059Z"
   },
   {
    "duration": 11,
    "start_time": "2022-02-09T07:24:40.074Z"
   },
   {
    "duration": 28,
    "start_time": "2022-02-09T07:24:40.088Z"
   },
   {
    "duration": 68,
    "start_time": "2022-02-09T07:24:40.119Z"
   },
   {
    "duration": 4,
    "start_time": "2022-02-09T07:24:40.189Z"
   },
   {
    "duration": 33,
    "start_time": "2022-02-09T07:24:40.195Z"
   },
   {
    "duration": 62,
    "start_time": "2022-02-09T07:24:40.231Z"
   },
   {
    "duration": 31,
    "start_time": "2022-02-09T07:24:40.296Z"
   },
   {
    "duration": 47,
    "start_time": "2022-02-09T07:24:40.330Z"
   },
   {
    "duration": 3,
    "start_time": "2022-02-09T07:24:40.379Z"
   },
   {
    "duration": 5,
    "start_time": "2022-02-09T07:24:40.385Z"
   },
   {
    "duration": 10,
    "start_time": "2022-02-09T07:24:40.392Z"
   },
   {
    "duration": 171,
    "start_time": "2022-02-09T07:24:40.405Z"
   },
   {
    "duration": 58,
    "start_time": "2022-02-09T07:24:40.578Z"
   },
   {
    "duration": 143,
    "start_time": "2022-02-09T07:24:40.638Z"
   },
   {
    "duration": 79,
    "start_time": "2022-02-09T07:24:40.784Z"
   },
   {
    "duration": 17,
    "start_time": "2022-02-09T07:24:40.866Z"
   },
   {
    "duration": 536,
    "start_time": "2022-02-09T07:24:40.886Z"
   },
   {
    "duration": 15,
    "start_time": "2022-02-09T07:24:41.424Z"
   },
   {
    "duration": 479,
    "start_time": "2022-02-09T07:24:41.441Z"
   },
   {
    "duration": 109,
    "start_time": "2022-02-09T07:24:41.922Z"
   },
   {
    "duration": 574,
    "start_time": "2022-02-09T07:24:42.033Z"
   },
   {
    "duration": 422,
    "start_time": "2022-02-09T07:26:03.256Z"
   },
   {
    "duration": 462,
    "start_time": "2022-02-09T07:27:15.184Z"
   },
   {
    "duration": 574,
    "start_time": "2022-02-09T07:28:10.872Z"
   },
   {
    "duration": 474,
    "start_time": "2022-02-09T07:28:27.897Z"
   },
   {
    "duration": 476,
    "start_time": "2022-02-09T07:29:04.337Z"
   },
   {
    "duration": 470,
    "start_time": "2022-02-09T07:31:02.523Z"
   },
   {
    "duration": 11,
    "start_time": "2022-02-09T07:32:53.328Z"
   },
   {
    "duration": 13,
    "start_time": "2022-02-09T07:33:19.588Z"
   },
   {
    "duration": 12,
    "start_time": "2022-02-09T07:33:27.576Z"
   },
   {
    "duration": 383,
    "start_time": "2022-02-09T07:34:33.960Z"
   },
   {
    "duration": 5,
    "start_time": "2022-02-09T07:45:30.615Z"
   },
   {
    "duration": 894,
    "start_time": "2022-02-09T07:46:07.757Z"
   },
   {
    "duration": 5,
    "start_time": "2022-02-09T07:46:33.644Z"
   },
   {
    "duration": 418,
    "start_time": "2022-02-09T07:46:37.103Z"
   },
   {
    "duration": 8,
    "start_time": "2022-02-09T07:55:44.555Z"
   },
   {
    "duration": 667,
    "start_time": "2022-02-09T07:55:47.126Z"
   },
   {
    "duration": 5,
    "start_time": "2022-02-09T07:56:24.618Z"
   },
   {
    "duration": 390,
    "start_time": "2022-02-09T07:56:27.555Z"
   },
   {
    "duration": 71,
    "start_time": "2022-02-09T07:57:39.110Z"
   },
   {
    "duration": 428,
    "start_time": "2022-02-09T07:57:42.988Z"
   },
   {
    "duration": 5,
    "start_time": "2022-02-09T07:59:46.874Z"
   },
   {
    "duration": 444,
    "start_time": "2022-02-09T07:59:49.505Z"
   },
   {
    "duration": 6,
    "start_time": "2022-02-09T08:00:54.443Z"
   },
   {
    "duration": 1051,
    "start_time": "2022-02-09T08:01:02.171Z"
   },
   {
    "duration": 652,
    "start_time": "2022-02-09T08:02:16.132Z"
   },
   {
    "duration": 943,
    "start_time": "2022-02-09T08:03:47.659Z"
   },
   {
    "duration": 5,
    "start_time": "2022-02-09T08:03:52.003Z"
   },
   {
    "duration": 457,
    "start_time": "2022-02-09T08:03:54.530Z"
   },
   {
    "duration": 478,
    "start_time": "2022-02-09T08:04:53.457Z"
   },
   {
    "duration": 6,
    "start_time": "2022-02-09T08:05:48.619Z"
   },
   {
    "duration": 470,
    "start_time": "2022-02-09T08:05:53.936Z"
   },
   {
    "duration": 6,
    "start_time": "2022-02-09T08:16:56.952Z"
   },
   {
    "duration": 491,
    "start_time": "2022-02-09T08:17:00.471Z"
   },
   {
    "duration": 471,
    "start_time": "2022-02-09T08:17:37.272Z"
   },
   {
    "duration": 6,
    "start_time": "2022-02-09T08:19:15.046Z"
   },
   {
    "duration": 506,
    "start_time": "2022-02-09T08:19:19.741Z"
   },
   {
    "duration": 5,
    "start_time": "2022-02-09T08:24:08.189Z"
   },
   {
    "duration": 572,
    "start_time": "2022-02-09T08:24:11.477Z"
   },
   {
    "duration": 6,
    "start_time": "2022-02-09T08:24:23.581Z"
   },
   {
    "duration": 581,
    "start_time": "2022-02-09T08:24:25.085Z"
   },
   {
    "duration": 5,
    "start_time": "2022-02-09T08:25:01.438Z"
   },
   {
    "duration": 666,
    "start_time": "2022-02-09T08:25:03.502Z"
   },
   {
    "duration": 6,
    "start_time": "2022-02-09T08:25:15.533Z"
   },
   {
    "duration": 610,
    "start_time": "2022-02-09T08:25:18.860Z"
   },
   {
    "duration": 7,
    "start_time": "2022-02-09T08:26:46.239Z"
   },
   {
    "duration": 571,
    "start_time": "2022-02-09T08:26:50.476Z"
   },
   {
    "duration": 6,
    "start_time": "2022-02-09T08:27:08.805Z"
   },
   {
    "duration": 579,
    "start_time": "2022-02-09T08:27:10.445Z"
   },
   {
    "duration": 6,
    "start_time": "2022-02-09T08:27:58.180Z"
   },
   {
    "duration": 5,
    "start_time": "2022-02-09T08:28:14.453Z"
   },
   {
    "duration": 572,
    "start_time": "2022-02-09T08:28:18.429Z"
   },
   {
    "duration": 6,
    "start_time": "2022-02-09T08:33:13.148Z"
   },
   {
    "duration": 516,
    "start_time": "2022-02-09T08:33:14.476Z"
   },
   {
    "duration": 6,
    "start_time": "2022-02-09T08:34:59.572Z"
   },
   {
    "duration": 643,
    "start_time": "2022-02-09T08:35:02.476Z"
   },
   {
    "duration": 6,
    "start_time": "2022-02-09T08:35:19.804Z"
   },
   {
    "duration": 485,
    "start_time": "2022-02-09T08:35:22.923Z"
   },
   {
    "duration": 3103,
    "start_time": "2022-02-09T08:35:37.623Z"
   },
   {
    "duration": 170,
    "start_time": "2022-02-09T08:35:40.729Z"
   },
   {
    "duration": 19,
    "start_time": "2022-02-09T08:35:40.901Z"
   },
   {
    "duration": 37,
    "start_time": "2022-02-09T08:35:40.923Z"
   },
   {
    "duration": 4,
    "start_time": "2022-02-09T08:35:40.962Z"
   },
   {
    "duration": 16,
    "start_time": "2022-02-09T08:35:40.968Z"
   },
   {
    "duration": 6,
    "start_time": "2022-02-09T08:35:40.987Z"
   },
   {
    "duration": 16,
    "start_time": "2022-02-09T08:35:40.996Z"
   },
   {
    "duration": 36,
    "start_time": "2022-02-09T08:35:41.015Z"
   },
   {
    "duration": 20,
    "start_time": "2022-02-09T08:35:41.058Z"
   },
   {
    "duration": 33,
    "start_time": "2022-02-09T08:35:41.081Z"
   },
   {
    "duration": 86,
    "start_time": "2022-02-09T08:35:41.116Z"
   },
   {
    "duration": 95,
    "start_time": "2022-02-09T08:35:41.204Z"
   },
   {
    "duration": 15,
    "start_time": "2022-02-09T08:35:41.301Z"
   },
   {
    "duration": 3,
    "start_time": "2022-02-09T08:35:41.318Z"
   },
   {
    "duration": 15,
    "start_time": "2022-02-09T08:35:41.324Z"
   },
   {
    "duration": 83,
    "start_time": "2022-02-09T08:35:41.341Z"
   },
   {
    "duration": 66,
    "start_time": "2022-02-09T08:35:41.426Z"
   },
   {
    "duration": 54,
    "start_time": "2022-02-09T08:35:41.494Z"
   },
   {
    "duration": 9,
    "start_time": "2022-02-09T08:35:41.550Z"
   },
   {
    "duration": 8,
    "start_time": "2022-02-09T08:35:41.561Z"
   },
   {
    "duration": 33,
    "start_time": "2022-02-09T08:35:41.571Z"
   },
   {
    "duration": 64,
    "start_time": "2022-02-09T08:35:41.610Z"
   },
   {
    "duration": 55,
    "start_time": "2022-02-09T08:35:41.677Z"
   },
   {
    "duration": 7,
    "start_time": "2022-02-09T08:35:41.735Z"
   },
   {
    "duration": 15,
    "start_time": "2022-02-09T08:35:41.744Z"
   },
   {
    "duration": 27,
    "start_time": "2022-02-09T08:35:41.761Z"
   },
   {
    "duration": 31,
    "start_time": "2022-02-09T08:35:41.790Z"
   },
   {
    "duration": 4,
    "start_time": "2022-02-09T08:35:41.823Z"
   },
   {
    "duration": 43,
    "start_time": "2022-02-09T08:35:41.829Z"
   },
   {
    "duration": 31,
    "start_time": "2022-02-09T08:35:41.874Z"
   },
   {
    "duration": 31,
    "start_time": "2022-02-09T08:35:41.908Z"
   },
   {
    "duration": 25,
    "start_time": "2022-02-09T08:35:41.942Z"
   },
   {
    "duration": 3,
    "start_time": "2022-02-09T08:35:41.970Z"
   },
   {
    "duration": 3,
    "start_time": "2022-02-09T08:35:41.976Z"
   },
   {
    "duration": 8,
    "start_time": "2022-02-09T08:35:41.982Z"
   },
   {
    "duration": 130,
    "start_time": "2022-02-09T08:35:41.992Z"
   },
   {
    "duration": 55,
    "start_time": "2022-02-09T08:35:42.124Z"
   },
   {
    "duration": 120,
    "start_time": "2022-02-09T08:35:42.182Z"
   },
   {
    "duration": 63,
    "start_time": "2022-02-09T08:35:42.304Z"
   },
   {
    "duration": 13,
    "start_time": "2022-02-09T08:35:42.369Z"
   },
   {
    "duration": 488,
    "start_time": "2022-02-09T08:35:42.385Z"
   },
   {
    "duration": 15,
    "start_time": "2022-02-09T08:35:42.875Z"
   },
   {
    "duration": 600,
    "start_time": "2022-02-09T08:35:42.892Z"
   },
   {
    "duration": 5,
    "start_time": "2022-02-09T08:35:43.495Z"
   },
   {
    "duration": 115,
    "start_time": "2022-02-09T08:35:43.502Z"
   },
   {
    "duration": 748,
    "start_time": "2022-02-09T08:35:43.620Z"
   },
   {
    "duration": 6,
    "start_time": "2022-02-09T08:37:17.780Z"
   },
   {
    "duration": 490,
    "start_time": "2022-02-09T08:37:19.275Z"
   },
   {
    "duration": 489,
    "start_time": "2022-02-09T08:39:38.675Z"
   },
   {
    "duration": 6,
    "start_time": "2022-02-09T08:45:37.881Z"
   },
   {
    "duration": 441,
    "start_time": "2022-02-09T08:45:41.109Z"
   },
   {
    "duration": 6,
    "start_time": "2022-02-09T08:45:51.417Z"
   },
   {
    "duration": 512,
    "start_time": "2022-02-09T08:45:52.928Z"
   },
   {
    "duration": 6,
    "start_time": "2022-02-09T08:50:08.641Z"
   },
   {
    "duration": 89,
    "start_time": "2022-02-09T08:50:11.772Z"
   },
   {
    "duration": 5,
    "start_time": "2022-02-09T08:51:24.688Z"
   },
   {
    "duration": 79,
    "start_time": "2022-02-09T08:51:26.224Z"
   },
   {
    "duration": 6,
    "start_time": "2022-02-09T08:52:38.537Z"
   },
   {
    "duration": 476,
    "start_time": "2022-02-09T08:52:50.416Z"
   },
   {
    "duration": 604,
    "start_time": "2022-02-09T09:11:20.819Z"
   },
   {
    "duration": 1016,
    "start_time": "2022-02-09T09:14:50.861Z"
   },
   {
    "duration": 824,
    "start_time": "2022-02-09T09:15:22.059Z"
   },
   {
    "duration": 489,
    "start_time": "2022-02-09T09:15:56.435Z"
   },
   {
    "duration": 530,
    "start_time": "2022-02-09T09:18:52.230Z"
   },
   {
    "duration": 589,
    "start_time": "2022-02-09T09:25:32.882Z"
   },
   {
    "duration": 577,
    "start_time": "2022-02-09T09:25:57.378Z"
   },
   {
    "duration": 502,
    "start_time": "2022-02-09T09:26:30.124Z"
   },
   {
    "duration": 481,
    "start_time": "2022-02-09T09:27:33.930Z"
   },
   {
    "duration": 802,
    "start_time": "2022-02-09T09:27:48.857Z"
   },
   {
    "duration": 643,
    "start_time": "2022-02-09T09:27:58.843Z"
   },
   {
    "duration": 88,
    "start_time": "2022-02-13T21:06:37.505Z"
   },
   {
    "duration": 84,
    "start_time": "2022-02-13T21:10:24.576Z"
   },
   {
    "duration": 91,
    "start_time": "2022-02-13T21:19:39.192Z"
   },
   {
    "duration": 90,
    "start_time": "2022-02-13T21:23:08.297Z"
   },
   {
    "duration": 78,
    "start_time": "2022-02-13T21:23:53.484Z"
   },
   {
    "duration": 90,
    "start_time": "2022-02-13T21:30:12.936Z"
   },
   {
    "duration": 2716,
    "start_time": "2022-02-13T21:40:18.896Z"
   },
   {
    "duration": 127,
    "start_time": "2022-02-13T21:40:21.613Z"
   },
   {
    "duration": 12,
    "start_time": "2022-02-13T21:40:21.742Z"
   },
   {
    "duration": 29,
    "start_time": "2022-02-13T21:40:21.755Z"
   },
   {
    "duration": 3,
    "start_time": "2022-02-13T21:40:21.785Z"
   },
   {
    "duration": 4,
    "start_time": "2022-02-13T21:40:21.790Z"
   },
   {
    "duration": 4,
    "start_time": "2022-02-13T21:40:21.796Z"
   },
   {
    "duration": 14,
    "start_time": "2022-02-13T21:40:21.804Z"
   },
   {
    "duration": 41,
    "start_time": "2022-02-13T21:40:21.820Z"
   },
   {
    "duration": 19,
    "start_time": "2022-02-13T21:40:21.862Z"
   },
   {
    "duration": 39,
    "start_time": "2022-02-13T21:40:21.883Z"
   },
   {
    "duration": 65,
    "start_time": "2022-02-13T21:40:21.923Z"
   },
   {
    "duration": 61,
    "start_time": "2022-02-13T21:40:21.989Z"
   },
   {
    "duration": 10,
    "start_time": "2022-02-13T21:40:22.052Z"
   },
   {
    "duration": 17,
    "start_time": "2022-02-13T21:40:22.063Z"
   },
   {
    "duration": 31,
    "start_time": "2022-02-13T21:40:22.081Z"
   },
   {
    "duration": 62,
    "start_time": "2022-02-13T21:40:22.113Z"
   },
   {
    "duration": 37,
    "start_time": "2022-02-13T21:40:22.176Z"
   },
   {
    "duration": 40,
    "start_time": "2022-02-13T21:40:22.215Z"
   },
   {
    "duration": 3,
    "start_time": "2022-02-13T21:40:22.257Z"
   },
   {
    "duration": 10,
    "start_time": "2022-02-13T21:40:22.262Z"
   },
   {
    "duration": 22,
    "start_time": "2022-02-13T21:40:22.274Z"
   },
   {
    "duration": 36,
    "start_time": "2022-02-13T21:40:22.299Z"
   },
   {
    "duration": 35,
    "start_time": "2022-02-13T21:40:22.337Z"
   },
   {
    "duration": 6,
    "start_time": "2022-02-13T21:40:22.373Z"
   },
   {
    "duration": 6,
    "start_time": "2022-02-13T21:40:22.380Z"
   },
   {
    "duration": 19,
    "start_time": "2022-02-13T21:40:22.388Z"
   },
   {
    "duration": 23,
    "start_time": "2022-02-13T21:40:22.408Z"
   },
   {
    "duration": 3,
    "start_time": "2022-02-13T21:40:22.432Z"
   },
   {
    "duration": 37,
    "start_time": "2022-02-13T21:40:22.436Z"
   },
   {
    "duration": 26,
    "start_time": "2022-02-13T21:40:22.474Z"
   },
   {
    "duration": 28,
    "start_time": "2022-02-13T21:40:22.501Z"
   },
   {
    "duration": 8,
    "start_time": "2022-02-13T21:40:22.530Z"
   },
   {
    "duration": 6,
    "start_time": "2022-02-13T21:40:22.540Z"
   },
   {
    "duration": 7,
    "start_time": "2022-02-13T21:40:22.547Z"
   },
   {
    "duration": 9,
    "start_time": "2022-02-13T21:40:22.556Z"
   },
   {
    "duration": 86,
    "start_time": "2022-02-13T21:40:22.567Z"
   },
   {
    "duration": 36,
    "start_time": "2022-02-13T21:40:22.654Z"
   },
   {
    "duration": 71,
    "start_time": "2022-02-13T21:40:22.692Z"
   },
   {
    "duration": 42,
    "start_time": "2022-02-13T21:40:22.765Z"
   },
   {
    "duration": 10,
    "start_time": "2022-02-13T21:40:22.809Z"
   },
   {
    "duration": 266,
    "start_time": "2022-02-13T21:40:22.820Z"
   },
   {
    "duration": 9,
    "start_time": "2022-02-13T21:40:23.088Z"
   },
   {
    "duration": 261,
    "start_time": "2022-02-13T21:40:23.099Z"
   },
   {
    "duration": 3,
    "start_time": "2022-02-13T21:40:23.362Z"
   },
   {
    "duration": 303,
    "start_time": "2022-02-13T21:40:23.366Z"
   },
   {
    "duration": 279,
    "start_time": "2022-02-13T21:40:23.671Z"
   },
   {
    "duration": 335,
    "start_time": "2022-02-13T21:43:28.507Z"
   },
   {
    "duration": 12,
    "start_time": "2022-02-13T21:43:31.811Z"
   },
   {
    "duration": 8,
    "start_time": "2022-02-13T21:43:41.916Z"
   },
   {
    "duration": 10,
    "start_time": "2022-02-13T21:43:44.589Z"
   },
   {
    "duration": 21,
    "start_time": "2022-02-13T21:46:15.608Z"
   },
   {
    "duration": 78,
    "start_time": "2022-02-13T21:47:01.539Z"
   },
   {
    "duration": 78,
    "start_time": "2022-02-13T21:47:17.519Z"
   },
   {
    "duration": 78,
    "start_time": "2022-02-13T21:47:59.574Z"
   },
   {
    "duration": 77,
    "start_time": "2022-02-13T21:48:24.158Z"
   },
   {
    "duration": 84,
    "start_time": "2022-02-13T21:51:04.819Z"
   },
   {
    "duration": 78,
    "start_time": "2022-02-13T21:53:13.297Z"
   },
   {
    "duration": 84,
    "start_time": "2022-02-13T21:54:22.795Z"
   },
   {
    "duration": 83,
    "start_time": "2022-02-13T21:55:10.876Z"
   },
   {
    "duration": 76,
    "start_time": "2022-02-13T21:55:16.781Z"
   },
   {
    "duration": 77,
    "start_time": "2022-02-13T21:55:27.709Z"
   },
   {
    "duration": 82,
    "start_time": "2022-02-13T21:57:00.427Z"
   },
   {
    "duration": 79,
    "start_time": "2022-02-13T21:57:11.610Z"
   },
   {
    "duration": 86,
    "start_time": "2022-02-13T21:57:29.977Z"
   },
   {
    "duration": 89,
    "start_time": "2022-02-13T21:58:03.098Z"
   },
   {
    "duration": 83,
    "start_time": "2022-02-13T21:58:08.995Z"
   },
   {
    "duration": 82,
    "start_time": "2022-02-13T21:58:13.587Z"
   },
   {
    "duration": 86,
    "start_time": "2022-02-13T21:58:18.003Z"
   },
   {
    "duration": 85,
    "start_time": "2022-02-13T21:58:24.245Z"
   },
   {
    "duration": 85,
    "start_time": "2022-02-13T21:58:30.563Z"
   },
   {
    "duration": 253,
    "start_time": "2022-02-13T21:59:22.813Z"
   },
   {
    "duration": 56,
    "start_time": "2022-02-13T21:59:26.399Z"
   },
   {
    "duration": 55,
    "start_time": "2022-02-13T22:03:18.047Z"
   },
   {
    "duration": 56,
    "start_time": "2022-02-13T22:03:57.088Z"
   },
   {
    "duration": 86,
    "start_time": "2022-02-13T22:05:33.970Z"
   },
   {
    "duration": 62,
    "start_time": "2022-02-13T22:05:50.843Z"
   },
   {
    "duration": 69,
    "start_time": "2022-02-13T22:07:04.736Z"
   },
   {
    "duration": 29,
    "start_time": "2022-02-13T22:15:51.522Z"
   },
   {
    "duration": 29,
    "start_time": "2022-02-13T22:18:17.543Z"
   },
   {
    "duration": 63,
    "start_time": "2022-02-13T22:22:27.455Z"
   },
   {
    "duration": 59,
    "start_time": "2022-02-13T22:22:30.608Z"
   },
   {
    "duration": 31,
    "start_time": "2022-02-13T22:22:33.168Z"
   },
   {
    "duration": 32,
    "start_time": "2022-02-13T22:23:02.050Z"
   },
   {
    "duration": 31,
    "start_time": "2022-02-13T22:23:19.625Z"
   },
   {
    "duration": 55,
    "start_time": "2022-02-13T22:23:42.883Z"
   },
   {
    "duration": 56,
    "start_time": "2022-02-13T22:23:50.626Z"
   },
   {
    "duration": 55,
    "start_time": "2022-02-13T22:24:11.708Z"
   },
   {
    "duration": 54,
    "start_time": "2022-02-13T22:24:21.881Z"
   },
   {
    "duration": 58,
    "start_time": "2022-02-13T22:24:29.700Z"
   },
   {
    "duration": 53,
    "start_time": "2022-02-13T22:24:38.645Z"
   },
   {
    "duration": 61,
    "start_time": "2022-02-13T22:24:48.533Z"
   },
   {
    "duration": 85,
    "start_time": "2022-02-13T22:25:26.581Z"
   },
   {
    "duration": 80,
    "start_time": "2022-02-13T22:26:24.081Z"
   },
   {
    "duration": 84,
    "start_time": "2022-02-13T22:27:19.748Z"
   },
   {
    "duration": 86,
    "start_time": "2022-02-13T22:30:54.675Z"
   },
   {
    "duration": 89,
    "start_time": "2022-02-13T22:31:41.076Z"
   },
   {
    "duration": 89,
    "start_time": "2022-02-13T22:32:01.309Z"
   },
   {
    "duration": 85,
    "start_time": "2022-02-13T22:32:29.009Z"
   },
   {
    "duration": 89,
    "start_time": "2022-02-13T22:32:38.238Z"
   },
   {
    "duration": 116,
    "start_time": "2022-02-13T22:34:55.293Z"
   },
   {
    "duration": 1588,
    "start_time": "2022-02-13T22:35:27.244Z"
   },
   {
    "duration": 91,
    "start_time": "2022-02-13T22:36:31.301Z"
   },
   {
    "duration": 84,
    "start_time": "2022-02-13T22:36:53.023Z"
   },
   {
    "duration": 89,
    "start_time": "2022-02-13T22:37:25.864Z"
   },
   {
    "duration": 1110,
    "start_time": "2022-02-13T22:37:52.105Z"
   },
   {
    "duration": 127,
    "start_time": "2022-02-13T22:37:53.216Z"
   },
   {
    "duration": 12,
    "start_time": "2022-02-13T22:37:53.345Z"
   },
   {
    "duration": 29,
    "start_time": "2022-02-13T22:37:53.358Z"
   },
   {
    "duration": 2,
    "start_time": "2022-02-13T22:37:53.389Z"
   },
   {
    "duration": 5,
    "start_time": "2022-02-13T22:37:53.393Z"
   },
   {
    "duration": 5,
    "start_time": "2022-02-13T22:37:53.399Z"
   },
   {
    "duration": 8,
    "start_time": "2022-02-13T22:37:53.406Z"
   },
   {
    "duration": 22,
    "start_time": "2022-02-13T22:37:53.416Z"
   },
   {
    "duration": 42,
    "start_time": "2022-02-13T22:37:53.440Z"
   },
   {
    "duration": 24,
    "start_time": "2022-02-13T22:37:53.483Z"
   },
   {
    "duration": 65,
    "start_time": "2022-02-13T22:37:53.508Z"
   },
   {
    "duration": 58,
    "start_time": "2022-02-13T22:37:53.575Z"
   },
   {
    "duration": 9,
    "start_time": "2022-02-13T22:37:53.635Z"
   },
   {
    "duration": 2,
    "start_time": "2022-02-13T22:37:53.646Z"
   },
   {
    "duration": 8,
    "start_time": "2022-02-13T22:37:53.672Z"
   },
   {
    "duration": 49,
    "start_time": "2022-02-13T22:37:53.682Z"
   },
   {
    "duration": 53,
    "start_time": "2022-02-13T22:37:53.733Z"
   },
   {
    "duration": 35,
    "start_time": "2022-02-13T22:37:53.787Z"
   },
   {
    "duration": 3,
    "start_time": "2022-02-13T22:37:53.823Z"
   },
   {
    "duration": 4,
    "start_time": "2022-02-13T22:37:53.828Z"
   },
   {
    "duration": 41,
    "start_time": "2022-02-13T22:37:53.833Z"
   },
   {
    "duration": 39,
    "start_time": "2022-02-13T22:37:53.877Z"
   },
   {
    "duration": 35,
    "start_time": "2022-02-13T22:37:53.917Z"
   },
   {
    "duration": 18,
    "start_time": "2022-02-13T22:37:53.954Z"
   },
   {
    "duration": 9,
    "start_time": "2022-02-13T22:37:53.974Z"
   },
   {
    "duration": 18,
    "start_time": "2022-02-13T22:37:53.985Z"
   },
   {
    "duration": 22,
    "start_time": "2022-02-13T22:37:54.005Z"
   },
   {
    "duration": 3,
    "start_time": "2022-02-13T22:37:54.028Z"
   },
   {
    "duration": 58,
    "start_time": "2022-02-13T22:37:54.032Z"
   },
   {
    "duration": 23,
    "start_time": "2022-02-13T22:37:54.091Z"
   },
   {
    "duration": 23,
    "start_time": "2022-02-13T22:37:54.116Z"
   },
   {
    "duration": 8,
    "start_time": "2022-02-13T22:37:54.141Z"
   },
   {
    "duration": 22,
    "start_time": "2022-02-13T22:37:54.150Z"
   },
   {
    "duration": 3,
    "start_time": "2022-02-13T22:37:54.173Z"
   },
   {
    "duration": 5,
    "start_time": "2022-02-13T22:37:54.178Z"
   },
   {
    "duration": 91,
    "start_time": "2022-02-13T22:37:54.184Z"
   },
   {
    "duration": 34,
    "start_time": "2022-02-13T22:37:54.276Z"
   },
   {
    "duration": 82,
    "start_time": "2022-02-13T22:37:54.311Z"
   },
   {
    "duration": 35,
    "start_time": "2022-02-13T22:37:54.394Z"
   },
   {
    "duration": 8,
    "start_time": "2022-02-13T22:37:54.431Z"
   },
   {
    "duration": 281,
    "start_time": "2022-02-13T22:37:54.440Z"
   },
   {
    "duration": 9,
    "start_time": "2022-02-13T22:37:54.723Z"
   },
   {
    "duration": 278,
    "start_time": "2022-02-13T22:37:54.734Z"
   },
   {
    "duration": 3,
    "start_time": "2022-02-13T22:37:55.014Z"
   },
   {
    "duration": 297,
    "start_time": "2022-02-13T22:37:55.018Z"
   },
   {
    "duration": 279,
    "start_time": "2022-02-13T22:37:55.317Z"
   },
   {
    "duration": 31,
    "start_time": "2022-02-13T22:37:55.598Z"
   },
   {
    "duration": 78,
    "start_time": "2022-02-13T22:37:55.631Z"
   },
   {
    "duration": 97,
    "start_time": "2022-02-13T22:37:55.711Z"
   }
  ],
  "colab": {
   "collapsed_sections": [
    "E0vqbgi9ay0H",
    "VUC88oWjTJw2"
   ],
   "name": "yandex_music_project_2021.2.ipynb",
   "provenance": []
  },
  "kernelspec": {
   "display_name": "Python 3 (ipykernel)",
   "language": "python",
   "name": "python3"
  },
  "language_info": {
   "codemirror_mode": {
    "name": "ipython",
    "version": 3
   },
   "file_extension": ".py",
   "mimetype": "text/x-python",
   "name": "python",
   "nbconvert_exporter": "python",
   "pygments_lexer": "ipython3",
   "version": "3.8.10"
  },
  "toc": {
   "base_numbering": 1,
   "nav_menu": {},
   "number_sections": true,
   "sideBar": true,
   "skip_h1_title": true,
   "title_cell": "Table of Contents",
   "title_sidebar": "Contents",
   "toc_cell": false,
   "toc_position": {
    "height": "calc(100% - 180px)",
    "left": "10px",
    "top": "150px",
    "width": "165px"
   },
   "toc_section_display": true,
   "toc_window_display": true
  }
 },
 "nbformat": 4,
 "nbformat_minor": 4
}
