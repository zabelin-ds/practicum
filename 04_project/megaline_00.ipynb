{
 "cells": [
  {
   "cell_type": "markdown",
   "source": [
    "# Определяем перспективный тариф для телеком-компании «Мегалайн»"
   ],
   "metadata": {
    "collapsed": false,
    "pycharm": {
     "name": "#%% md\n"
    }
   }
  },
  {
   "cell_type": "code",
   "execution_count": 333,
   "outputs": [],
   "source": [
    "import numpy as np\n",
    "import pandas as pd\n",
    "import scipy.stats as st\n",
    "import matplotlib as mpl\n",
    "import seaborn as sns"
   ],
   "metadata": {
    "collapsed": false,
    "pycharm": {
     "name": "#%%\n"
    }
   }
  },
  {
   "cell_type": "markdown",
   "source": [
    "<div class=\"alert alert-info\" role=\"alert\">\n",
    "    <p class=\"mb-0\">В коде использую <code>display()</code>, потомучто это однозначно даёт понять что планируется вывод / печать результатов. То есть использую <code>display()</code> намеренно, хотя понимаю что можно и без него выводить данные. 👌</p>\n",
    "</div>"
   ],
   "metadata": {
    "collapsed": false,
    "pycharm": {
     "name": "#%% md\n"
    }
   }
  },
  {
   "cell_type": "markdown",
   "source": [
    "## Шаг 0. Введение"
   ],
   "metadata": {
    "collapsed": false,
    "pycharm": {
     "name": "#%% md\n"
    }
   }
  },
  {
   "cell_type": "markdown",
   "source": [
    "В этом учебном проекте сделаем предварительный анализ тарифов на выборке данных 500 пользователей «Мегалайна». Клиентам предлагают два тарифных плана: «Смарт» и «Ультра». Чтобы скорректировать рекламный бюджет, коммерческий департамент хочет понять, какой тариф приносит больше денег. Нужно проанализировать поведение клиентов и сделать вывод — какой тариф лучше."
   ],
   "metadata": {
    "collapsed": false,
    "pycharm": {
     "name": "#%% md\n"
    }
   }
  },
  {
   "cell_type": "markdown",
   "source": [
    "<hr>"
   ],
   "metadata": {
    "collapsed": false,
    "pycharm": {
     "name": "#%% md\n"
    }
   }
  },
  {
   "cell_type": "markdown",
   "source": [
    "## Шаг 1. Знакомимся с данными изучаем общую информацию"
   ],
   "metadata": {
    "collapsed": false,
    "pycharm": {
     "name": "#%% md\n"
    }
   }
  },
  {
   "cell_type": "markdown",
   "source": [
    "Откройте файл с данными и изучите общую информацию"
   ],
   "metadata": {
    "collapsed": false,
    "pycharm": {
     "name": "#%% md\n"
    }
   }
  },
  {
   "cell_type": "code",
   "execution_count": 334,
   "outputs": [],
   "source": [
    "calls_df = pd.read_csv('./datasets/calls.csv')\n",
    "internet_df = pd.read_csv('./datasets/internet.csv', index_col=0)\n",
    "messages_df = pd.read_csv('./datasets/messages.csv')\n",
    "tariffs_df = pd.read_csv('./datasets/tariffs.csv')\n",
    "users_df = pd.read_csv('./datasets/users.csv')"
   ],
   "metadata": {
    "collapsed": false,
    "pycharm": {
     "name": "#%%\n"
    }
   }
  },
  {
   "cell_type": "markdown",
   "source": [
    "### Описание данных"
   ],
   "metadata": {
    "collapsed": false,
    "pycharm": {
     "name": "#%% md\n"
    }
   }
  },
  {
   "cell_type": "markdown",
   "source": [
    "#### Таблица calls (информация о звонках):\n",
    "`id` — уникальный номер звонка\n",
    "`call_date` — дата звонка\n",
    "`duration` — длительность звонка в минутах\n",
    "`user_id` — идентификатор пользователя, сделавшего звонок"
   ],
   "metadata": {
    "collapsed": false,
    "pycharm": {
     "name": "#%% md\n"
    }
   }
  },
  {
   "cell_type": "code",
   "execution_count": 335,
   "outputs": [
    {
     "name": "stdout",
     "output_type": "stream",
     "text": [
      "<class 'pandas.core.frame.DataFrame'>\n",
      "RangeIndex: 202607 entries, 0 to 202606\n",
      "Data columns (total 4 columns):\n",
      " #   Column     Non-Null Count   Dtype  \n",
      "---  ------     --------------   -----  \n",
      " 0   id         202607 non-null  object \n",
      " 1   call_date  202607 non-null  object \n",
      " 2   duration   202607 non-null  float64\n",
      " 3   user_id    202607 non-null  int64  \n",
      "dtypes: float64(1), int64(1), object(2)\n",
      "memory usage: 6.2+ MB\n"
     ]
    },
    {
     "data": {
      "text/plain": "None"
     },
     "metadata": {},
     "output_type": "display_data"
    },
    {
     "data": {
      "text/plain": "              id   call_date  duration  user_id\n121067   1313_31  2018-12-11      9.42     1313\n108999  1281_432  2018-08-01     20.23     1281\n70947   1177_127  2018-10-19      0.23     1177",
      "text/html": "<div>\n<style scoped>\n    .dataframe tbody tr th:only-of-type {\n        vertical-align: middle;\n    }\n\n    .dataframe tbody tr th {\n        vertical-align: top;\n    }\n\n    .dataframe thead th {\n        text-align: right;\n    }\n</style>\n<table border=\"1\" class=\"dataframe\">\n  <thead>\n    <tr style=\"text-align: right;\">\n      <th></th>\n      <th>id</th>\n      <th>call_date</th>\n      <th>duration</th>\n      <th>user_id</th>\n    </tr>\n  </thead>\n  <tbody>\n    <tr>\n      <th>121067</th>\n      <td>1313_31</td>\n      <td>2018-12-11</td>\n      <td>9.42</td>\n      <td>1313</td>\n    </tr>\n    <tr>\n      <th>108999</th>\n      <td>1281_432</td>\n      <td>2018-08-01</td>\n      <td>20.23</td>\n      <td>1281</td>\n    </tr>\n    <tr>\n      <th>70947</th>\n      <td>1177_127</td>\n      <td>2018-10-19</td>\n      <td>0.23</td>\n      <td>1177</td>\n    </tr>\n  </tbody>\n</table>\n</div>"
     },
     "metadata": {},
     "output_type": "display_data"
    }
   ],
   "source": [
    "display(\n",
    "    calls_df.info(),\n",
    "    calls_df.sample(3)\n",
    ")"
   ],
   "metadata": {
    "collapsed": false,
    "pycharm": {
     "name": "#%%\n"
    }
   }
  },
  {
   "cell_type": "markdown",
   "source": [
    "#### Таблица internet (информация об интернет-сессиях):\n",
    "`id` — уникальный номер сессии\n",
    "`mb_used` — объём потраченного за сессию интернет-трафика (в мегабайтах)\n",
    "`session_date` — дата интернет-сессии\n",
    "`user_id` — идентификатор пользователя"
   ],
   "metadata": {
    "collapsed": false,
    "pycharm": {
     "name": "#%% md\n"
    }
   }
  },
  {
   "cell_type": "code",
   "execution_count": 336,
   "outputs": [
    {
     "name": "stdout",
     "output_type": "stream",
     "text": [
      "<class 'pandas.core.frame.DataFrame'>\n",
      "Int64Index: 149396 entries, 0 to 149395\n",
      "Data columns (total 4 columns):\n",
      " #   Column        Non-Null Count   Dtype  \n",
      "---  ------        --------------   -----  \n",
      " 0   id            149396 non-null  object \n",
      " 1   mb_used       149396 non-null  float64\n",
      " 2   session_date  149396 non-null  object \n",
      " 3   user_id       149396 non-null  int64  \n",
      "dtypes: float64(1), int64(1), object(2)\n",
      "memory usage: 5.7+ MB\n"
     ]
    },
    {
     "data": {
      "text/plain": "None"
     },
     "metadata": {},
     "output_type": "display_data"
    },
    {
     "data": {
      "text/plain": "              id  mb_used session_date  user_id\n12832     1045_8   502.71   2018-05-25     1045\n101814  1340_525   442.14   2018-05-21     1340\n38402   1134_457     0.00   2018-10-29     1134",
      "text/html": "<div>\n<style scoped>\n    .dataframe tbody tr th:only-of-type {\n        vertical-align: middle;\n    }\n\n    .dataframe tbody tr th {\n        vertical-align: top;\n    }\n\n    .dataframe thead th {\n        text-align: right;\n    }\n</style>\n<table border=\"1\" class=\"dataframe\">\n  <thead>\n    <tr style=\"text-align: right;\">\n      <th></th>\n      <th>id</th>\n      <th>mb_used</th>\n      <th>session_date</th>\n      <th>user_id</th>\n    </tr>\n  </thead>\n  <tbody>\n    <tr>\n      <th>12832</th>\n      <td>1045_8</td>\n      <td>502.71</td>\n      <td>2018-05-25</td>\n      <td>1045</td>\n    </tr>\n    <tr>\n      <th>101814</th>\n      <td>1340_525</td>\n      <td>442.14</td>\n      <td>2018-05-21</td>\n      <td>1340</td>\n    </tr>\n    <tr>\n      <th>38402</th>\n      <td>1134_457</td>\n      <td>0.00</td>\n      <td>2018-10-29</td>\n      <td>1134</td>\n    </tr>\n  </tbody>\n</table>\n</div>"
     },
     "metadata": {},
     "output_type": "display_data"
    }
   ],
   "source": [
    "display(\n",
    "    internet_df.info(),\n",
    "    internet_df.sample(3),\n",
    "    # len(list(internet_df['id'].unique()))\n",
    ")"
   ],
   "metadata": {
    "collapsed": false,
    "pycharm": {
     "name": "#%%\n"
    }
   }
  },
  {
   "cell_type": "markdown",
   "source": [
    "#### Таблица messages (информация о сообщениях):\n",
    "`id` — уникальный номер сообщения\n",
    "`message_date` — дата сообщения\n",
    "`user_id` — идентификатор пользователя, отправившего сообщение"
   ],
   "metadata": {
    "collapsed": false,
    "pycharm": {
     "name": "#%% md\n"
    }
   }
  },
  {
   "cell_type": "code",
   "execution_count": 337,
   "outputs": [
    {
     "name": "stdout",
     "output_type": "stream",
     "text": [
      "<class 'pandas.core.frame.DataFrame'>\n",
      "RangeIndex: 123036 entries, 0 to 123035\n",
      "Data columns (total 3 columns):\n",
      " #   Column        Non-Null Count   Dtype \n",
      "---  ------        --------------   ----- \n",
      " 0   id            123036 non-null  object\n",
      " 1   message_date  123036 non-null  object\n",
      " 2   user_id       123036 non-null  int64 \n",
      "dtypes: int64(1), object(2)\n",
      "memory usage: 2.8+ MB\n"
     ]
    },
    {
     "data": {
      "text/plain": "None"
     },
     "metadata": {},
     "output_type": "display_data"
    },
    {
     "data": {
      "text/plain": "             id message_date  user_id\n2570   1005_432   2018-04-26     1005\n6069     1026_3   2018-12-26     1026\n12580  1054_136   2018-03-22     1054",
      "text/html": "<div>\n<style scoped>\n    .dataframe tbody tr th:only-of-type {\n        vertical-align: middle;\n    }\n\n    .dataframe tbody tr th {\n        vertical-align: top;\n    }\n\n    .dataframe thead th {\n        text-align: right;\n    }\n</style>\n<table border=\"1\" class=\"dataframe\">\n  <thead>\n    <tr style=\"text-align: right;\">\n      <th></th>\n      <th>id</th>\n      <th>message_date</th>\n      <th>user_id</th>\n    </tr>\n  </thead>\n  <tbody>\n    <tr>\n      <th>2570</th>\n      <td>1005_432</td>\n      <td>2018-04-26</td>\n      <td>1005</td>\n    </tr>\n    <tr>\n      <th>6069</th>\n      <td>1026_3</td>\n      <td>2018-12-26</td>\n      <td>1026</td>\n    </tr>\n    <tr>\n      <th>12580</th>\n      <td>1054_136</td>\n      <td>2018-03-22</td>\n      <td>1054</td>\n    </tr>\n  </tbody>\n</table>\n</div>"
     },
     "metadata": {},
     "output_type": "display_data"
    }
   ],
   "source": [
    "display(\n",
    "    messages_df.info(),\n",
    "    messages_df.sample(3),\n",
    ")"
   ],
   "metadata": {
    "collapsed": false,
    "pycharm": {
     "name": "#%%\n"
    }
   }
  },
  {
   "cell_type": "markdown",
   "source": [
    "#### Таблица tariffs (информация о тарифах):\n",
    "`tariff_name` — название тарифа\n",
    "`rub_monthly_fee` — ежемесячная абонентская плата в рублях\n",
    "`minutes_included` — количество минут разговора в месяц, включённых в абонентскую плату\n",
    "`messages_included` — количество сообщений в месяц, включённых в абонентскую плату\n",
    "`mb_per_month_included` — объём интернет-трафика, включённого в абонентскую плату (в мегабайтах)\n",
    "`rub_per_minute` — стоимость минуты разговора сверх тарифного пакета (например, если в тарифе 100 минут разговора в месяц, то со 101 минуты будет взиматься плата)\n",
    "`rub_per_message` — стоимость отправки сообщения сверх тарифного пакета\n",
    "`rub_per_gb` — стоимость дополнительного гигабайта интернет-трафика сверх тарифного пакета (1 гигабайт = 1024 мегабайта)"
   ],
   "metadata": {
    "collapsed": false,
    "pycharm": {
     "name": "#%% md\n"
    }
   }
  },
  {
   "cell_type": "code",
   "execution_count": 338,
   "outputs": [
    {
     "data": {
      "text/plain": "   messages_included  mb_per_month_included  minutes_included  \\\n0                 50                  15360               500   \n1               1000                  30720              3000   \n\n   rub_monthly_fee  rub_per_gb  rub_per_message  rub_per_minute tariff_name  \n0              550         200                3               3       smart  \n1             1950         150                1               1       ultra  ",
      "text/html": "<div>\n<style scoped>\n    .dataframe tbody tr th:only-of-type {\n        vertical-align: middle;\n    }\n\n    .dataframe tbody tr th {\n        vertical-align: top;\n    }\n\n    .dataframe thead th {\n        text-align: right;\n    }\n</style>\n<table border=\"1\" class=\"dataframe\">\n  <thead>\n    <tr style=\"text-align: right;\">\n      <th></th>\n      <th>messages_included</th>\n      <th>mb_per_month_included</th>\n      <th>minutes_included</th>\n      <th>rub_monthly_fee</th>\n      <th>rub_per_gb</th>\n      <th>rub_per_message</th>\n      <th>rub_per_minute</th>\n      <th>tariff_name</th>\n    </tr>\n  </thead>\n  <tbody>\n    <tr>\n      <th>0</th>\n      <td>50</td>\n      <td>15360</td>\n      <td>500</td>\n      <td>550</td>\n      <td>200</td>\n      <td>3</td>\n      <td>3</td>\n      <td>smart</td>\n    </tr>\n    <tr>\n      <th>1</th>\n      <td>1000</td>\n      <td>30720</td>\n      <td>3000</td>\n      <td>1950</td>\n      <td>150</td>\n      <td>1</td>\n      <td>1</td>\n      <td>ultra</td>\n    </tr>\n  </tbody>\n</table>\n</div>"
     },
     "metadata": {},
     "output_type": "display_data"
    },
    {
     "data": {
      "text/plain": "array(['smart', 'ultra'], dtype=object)"
     },
     "metadata": {},
     "output_type": "display_data"
    }
   ],
   "source": [
    "display(\n",
    "    tariffs_df,\n",
    "    tariffs_df['tariff_name'].unique(),\n",
    ")"
   ],
   "metadata": {
    "collapsed": false,
    "pycharm": {
     "name": "#%%\n"
    }
   }
  },
  {
   "cell_type": "markdown",
   "source": [
    "#### Таблица users (информация о пользователях):\n",
    "`user_id` — уникальный идентификатор пользователя\n",
    "`first_name` — имя пользователя\n",
    "`last_name` — фамилия пользователя\n",
    "`age` — возраст пользователя (годы)\n",
    "`reg_date` — дата подключения тарифа (день, месяц, год)\n",
    "`churn_date` — дата прекращения пользования тарифом (если значение пропущено, то тариф ещё действовал на момент выгрузки данных)\n",
    "`city` — город проживания пользователя\n",
    "`tariff` — название тарифного плана"
   ],
   "metadata": {
    "collapsed": false,
    "pycharm": {
     "name": "#%% md\n"
    }
   }
  },
  {
   "cell_type": "code",
   "execution_count": 339,
   "outputs": [
    {
     "name": "stdout",
     "output_type": "stream",
     "text": [
      "<class 'pandas.core.frame.DataFrame'>\n",
      "RangeIndex: 500 entries, 0 to 499\n",
      "Data columns (total 8 columns):\n",
      " #   Column      Non-Null Count  Dtype \n",
      "---  ------      --------------  ----- \n",
      " 0   user_id     500 non-null    int64 \n",
      " 1   age         500 non-null    int64 \n",
      " 2   churn_date  38 non-null     object\n",
      " 3   city        500 non-null    object\n",
      " 4   first_name  500 non-null    object\n",
      " 5   last_name   500 non-null    object\n",
      " 6   reg_date    500 non-null    object\n",
      " 7   tariff      500 non-null    object\n",
      "dtypes: int64(2), object(6)\n",
      "memory usage: 31.4+ KB\n"
     ]
    },
    {
     "data": {
      "text/plain": "None"
     },
     "metadata": {},
     "output_type": "display_data"
    },
    {
     "data": {
      "text/plain": "     user_id  age churn_date             city first_name  last_name  \\\n492     1492   63        NaN  Санкт-Петербург    Руслана  Артёменко   \n29      1029   51        NaN     Екатеринбург    Алексей   Селезнев   \n363     1363   69        NaN     Нижний Тагил     Оксана  Болдырева   \n\n       reg_date tariff  \n492  2018-06-26  smart  \n29   2018-09-15  smart  \n363  2018-03-04  ultra  ",
      "text/html": "<div>\n<style scoped>\n    .dataframe tbody tr th:only-of-type {\n        vertical-align: middle;\n    }\n\n    .dataframe tbody tr th {\n        vertical-align: top;\n    }\n\n    .dataframe thead th {\n        text-align: right;\n    }\n</style>\n<table border=\"1\" class=\"dataframe\">\n  <thead>\n    <tr style=\"text-align: right;\">\n      <th></th>\n      <th>user_id</th>\n      <th>age</th>\n      <th>churn_date</th>\n      <th>city</th>\n      <th>first_name</th>\n      <th>last_name</th>\n      <th>reg_date</th>\n      <th>tariff</th>\n    </tr>\n  </thead>\n  <tbody>\n    <tr>\n      <th>492</th>\n      <td>1492</td>\n      <td>63</td>\n      <td>NaN</td>\n      <td>Санкт-Петербург</td>\n      <td>Руслана</td>\n      <td>Артёменко</td>\n      <td>2018-06-26</td>\n      <td>smart</td>\n    </tr>\n    <tr>\n      <th>29</th>\n      <td>1029</td>\n      <td>51</td>\n      <td>NaN</td>\n      <td>Екатеринбург</td>\n      <td>Алексей</td>\n      <td>Селезнев</td>\n      <td>2018-09-15</td>\n      <td>smart</td>\n    </tr>\n    <tr>\n      <th>363</th>\n      <td>1363</td>\n      <td>69</td>\n      <td>NaN</td>\n      <td>Нижний Тагил</td>\n      <td>Оксана</td>\n      <td>Болдырева</td>\n      <td>2018-03-04</td>\n      <td>ultra</td>\n    </tr>\n  </tbody>\n</table>\n</div>"
     },
     "metadata": {},
     "output_type": "display_data"
    }
   ],
   "source": [
    "display(\n",
    "    users_df.info(),\n",
    "    users_df.sample(3),\n",
    ")"
   ],
   "metadata": {
    "collapsed": false,
    "pycharm": {
     "name": "#%%\n"
    }
   }
  },
  {
   "cell_type": "code",
   "execution_count": 339,
   "outputs": [],
   "source": [],
   "metadata": {
    "collapsed": false,
    "pycharm": {
     "name": "#%%\n"
    }
   }
  },
  {
   "cell_type": "markdown",
   "source": [
    "<hr>"
   ],
   "metadata": {
    "collapsed": false,
    "pycharm": {
     "name": "#%% md\n"
    }
   }
  },
  {
   "cell_type": "markdown",
   "source": [
    "## Шаг 2. Подготавливаем данные"
   ],
   "metadata": {
    "collapsed": false,
    "pycharm": {
     "name": "#%% md\n"
    }
   }
  },
  {
   "cell_type": "markdown",
   "source": [],
   "metadata": {
    "collapsed": false,
    "pycharm": {
     "name": "#%% md\n"
    }
   }
  },
  {
   "cell_type": "markdown",
   "source": [
    "calls_df"
   ],
   "metadata": {
    "collapsed": false,
    "pycharm": {
     "name": "#%% md\n"
    }
   }
  },
  {
   "cell_type": "markdown",
   "source": [
    "internet_df"
   ],
   "metadata": {
    "collapsed": false,
    "pycharm": {
     "name": "#%% md\n"
    }
   }
  },
  {
   "cell_type": "markdown",
   "source": [
    "messages_df"
   ],
   "metadata": {
    "collapsed": false,
    "pycharm": {
     "name": "#%% md\n"
    }
   }
  },
  {
   "cell_type": "markdown",
   "source": [
    "tariffs_df"
   ],
   "metadata": {
    "collapsed": false,
    "pycharm": {
     "name": "#%% md\n"
    }
   }
  },
  {
   "cell_type": "code",
   "execution_count": 340,
   "outputs": [
    {
     "data": {
      "text/plain": "     user_id  age  churn_date         city first_name  last_name    reg_date  \\\n0       1000   52         NaN    Краснодар     Рафаил  Верещагин  2018-05-25   \n1       1001   41         NaN       Москва       Иван       Ежов  2018-11-01   \n2       1002   59         NaN  Стерлитамак    Евгений  Абрамович  2018-06-17   \n3       1003   23         NaN       Москва      Белла   Белякова  2018-08-17   \n4       1004   68         NaN  Новокузнецк    Татьяна   Авдеенко  2018-05-14   \n..       ...  ...         ...          ...        ...        ...         ...   \n495     1495   65         NaN      Иркутск  Авксентий      Фокин  2018-08-28   \n496     1496   36         NaN      Вологда     Трифон     Блохин  2018-01-27   \n497     1497   32         NaN    Челябинск   Каролина     Агеева  2018-10-09   \n498     1498   68  2018-10-25  Владикавказ   Всеволод    Акимчин  2018-07-19   \n499     1499   35         NaN        Пермь     Гектор   Корнилов  2018-09-27   \n\n    tariff  \n0    ultra  \n1    smart  \n2    smart  \n3    ultra  \n4    ultra  \n..     ...  \n495  ultra  \n496  smart  \n497  smart  \n498  smart  \n499  smart  \n\n[500 rows x 8 columns]",
      "text/html": "<div>\n<style scoped>\n    .dataframe tbody tr th:only-of-type {\n        vertical-align: middle;\n    }\n\n    .dataframe tbody tr th {\n        vertical-align: top;\n    }\n\n    .dataframe thead th {\n        text-align: right;\n    }\n</style>\n<table border=\"1\" class=\"dataframe\">\n  <thead>\n    <tr style=\"text-align: right;\">\n      <th></th>\n      <th>user_id</th>\n      <th>age</th>\n      <th>churn_date</th>\n      <th>city</th>\n      <th>first_name</th>\n      <th>last_name</th>\n      <th>reg_date</th>\n      <th>tariff</th>\n    </tr>\n  </thead>\n  <tbody>\n    <tr>\n      <th>0</th>\n      <td>1000</td>\n      <td>52</td>\n      <td>NaN</td>\n      <td>Краснодар</td>\n      <td>Рафаил</td>\n      <td>Верещагин</td>\n      <td>2018-05-25</td>\n      <td>ultra</td>\n    </tr>\n    <tr>\n      <th>1</th>\n      <td>1001</td>\n      <td>41</td>\n      <td>NaN</td>\n      <td>Москва</td>\n      <td>Иван</td>\n      <td>Ежов</td>\n      <td>2018-11-01</td>\n      <td>smart</td>\n    </tr>\n    <tr>\n      <th>2</th>\n      <td>1002</td>\n      <td>59</td>\n      <td>NaN</td>\n      <td>Стерлитамак</td>\n      <td>Евгений</td>\n      <td>Абрамович</td>\n      <td>2018-06-17</td>\n      <td>smart</td>\n    </tr>\n    <tr>\n      <th>3</th>\n      <td>1003</td>\n      <td>23</td>\n      <td>NaN</td>\n      <td>Москва</td>\n      <td>Белла</td>\n      <td>Белякова</td>\n      <td>2018-08-17</td>\n      <td>ultra</td>\n    </tr>\n    <tr>\n      <th>4</th>\n      <td>1004</td>\n      <td>68</td>\n      <td>NaN</td>\n      <td>Новокузнецк</td>\n      <td>Татьяна</td>\n      <td>Авдеенко</td>\n      <td>2018-05-14</td>\n      <td>ultra</td>\n    </tr>\n    <tr>\n      <th>...</th>\n      <td>...</td>\n      <td>...</td>\n      <td>...</td>\n      <td>...</td>\n      <td>...</td>\n      <td>...</td>\n      <td>...</td>\n      <td>...</td>\n    </tr>\n    <tr>\n      <th>495</th>\n      <td>1495</td>\n      <td>65</td>\n      <td>NaN</td>\n      <td>Иркутск</td>\n      <td>Авксентий</td>\n      <td>Фокин</td>\n      <td>2018-08-28</td>\n      <td>ultra</td>\n    </tr>\n    <tr>\n      <th>496</th>\n      <td>1496</td>\n      <td>36</td>\n      <td>NaN</td>\n      <td>Вологда</td>\n      <td>Трифон</td>\n      <td>Блохин</td>\n      <td>2018-01-27</td>\n      <td>smart</td>\n    </tr>\n    <tr>\n      <th>497</th>\n      <td>1497</td>\n      <td>32</td>\n      <td>NaN</td>\n      <td>Челябинск</td>\n      <td>Каролина</td>\n      <td>Агеева</td>\n      <td>2018-10-09</td>\n      <td>smart</td>\n    </tr>\n    <tr>\n      <th>498</th>\n      <td>1498</td>\n      <td>68</td>\n      <td>2018-10-25</td>\n      <td>Владикавказ</td>\n      <td>Всеволод</td>\n      <td>Акимчин</td>\n      <td>2018-07-19</td>\n      <td>smart</td>\n    </tr>\n    <tr>\n      <th>499</th>\n      <td>1499</td>\n      <td>35</td>\n      <td>NaN</td>\n      <td>Пермь</td>\n      <td>Гектор</td>\n      <td>Корнилов</td>\n      <td>2018-09-27</td>\n      <td>smart</td>\n    </tr>\n  </tbody>\n</table>\n<p>500 rows × 8 columns</p>\n</div>"
     },
     "execution_count": 340,
     "metadata": {},
     "output_type": "execute_result"
    }
   ],
   "source": [
    "users_df"
   ],
   "metadata": {
    "collapsed": false,
    "pycharm": {
     "name": "#%%\n"
    }
   }
  },
  {
   "cell_type": "code",
   "execution_count": 340,
   "outputs": [],
   "source": [],
   "metadata": {
    "collapsed": false,
    "pycharm": {
     "name": "#%%\n"
    }
   }
  },
  {
   "cell_type": "markdown",
   "source": [
    "calls_df\n",
    "internet_df\n",
    "messages_df\n",
    "tariffs_df\n",
    "users_df"
   ],
   "metadata": {
    "collapsed": false,
    "pycharm": {
     "name": "#%% md\n"
    }
   }
  },
  {
   "cell_type": "markdown",
   "source": [
    "### U"
   ],
   "metadata": {
    "collapsed": false,
    "pycharm": {
     "name": "#%% md\n"
    }
   }
  },
  {
   "cell_type": "raw",
   "source": [
    "display(\n",
    "    sorted(users_df['city'].unique())\n",
    ")"
   ],
   "metadata": {
    "collapsed": false,
    "pycharm": {
     "name": "#%% raw\n"
    }
   }
  },
  {
   "cell_type": "code",
   "execution_count": 341,
   "outputs": [
    {
     "data": {
      "text/plain": "     user_id  age  churn_date              city  first_name   last_name  \\\n19      1019   63  2018-10-05             Томск     Игнатий     Круглов   \n20      1020   59  2018-12-18              Чита        Тала     Костина   \n34      1034   66  2018-11-21           Вологда   Святослав    Бондарев   \n50      1050   44  2018-10-03            Тюмень      Рузана    Аничкина   \n51      1051   37  2018-10-14            Москва    Кристина      Сомова   \n56      1056   73  2018-10-14           Иркутск    Радислав    Артемьев   \n62      1062   24  2018-12-09            Москва   Александр    Коршунов   \n63      1063   45  2018-12-11              Тула       Таира     Климова   \n64      1064   55  2018-12-26            Якутск      Динара     Алфеева   \n65      1065   53  2018-12-09            Москва        Роза    Игнатова   \n71      1071   20  2018-08-31              Омск      Гектор     Чумаков   \n90      1090   54  2018-12-03         Череповец   Екатерина   Астафьева   \n128     1128   51  2018-12-23          Волжский      Ксения      Агаева   \n161     1161   65  2018-11-07  Набережные Челны     Татьяна  Голованова   \n163     1163   21  2018-12-16            Москва         Лев  Вишневский   \n191     1191   64  2018-10-03  Набережные Челны   Александр   Акиндинов   \n201     1201   32  2018-12-03            Москва    Геннадий     Веселов   \n206     1206   35  2018-12-20            Москва       Елена    Шарапова   \n232     1232   60  2018-11-30             Томск    Виктория      Ларина   \n242     1242   39  2018-12-21         Хабаровск       Радим    Федосеев   \n254     1254   75  2018-08-17            Москва  Александра    Сухарева   \n255     1255   40  2018-09-02           Саранск    Серафима  Пономарева   \n265     1265   24  2018-10-04              Омск       Радим      Адамов   \n271     1271   69  2018-11-13         Челябинск     Аурелия      Чижова   \n293     1293   39  2018-11-22   Санкт-Петербург       Эдита    Дубинина   \n343     1343   30  2018-10-28          Кострома       Анита  Верещагина   \n353     1353   57  2018-11-26   Санкт-Петербург    Доминика    Анищенко   \n355     1355   33  2018-11-27             Киров        Сара  Абрикосова   \n367     1367   43  2018-11-16            Москва    Всеволод   Антоненко   \n370     1370   48  2018-10-27      Новороссийск      Гектор      Сысоев   \n371     1371   50  2018-12-30              Омск      Ириней    Трофимов   \n392     1392   54  2018-09-27         Челябинск        Алла    Беликова   \n399     1399   31  2018-12-25               Уфа       Алиса    Абрашина   \n416     1416   50  2018-12-14   Санкт-Петербург     Валерия      Ёлчина   \n422     1422   60  2018-12-21            Москва       Клара    Устинова   \n438     1438   24  2018-12-24      Екатеринбург     Нателла    Бородина   \n480     1480   29  2018-09-26       Новокузнецк      Гелена  Емельянова   \n498     1498   68  2018-10-25       Владикавказ    Всеволод     Акимчин   \n\n       reg_date tariff  \n19   2018-05-16  ultra  \n20   2018-10-22  smart  \n34   2018-08-26  smart  \n50   2018-06-16  ultra  \n51   2018-05-28  smart  \n56   2018-04-13  smart  \n62   2018-11-16  smart  \n63   2018-04-12  ultra  \n64   2018-03-17  smart  \n65   2018-03-08  smart  \n71   2018-01-09  smart  \n90   2018-10-11  ultra  \n128  2018-12-15  ultra  \n161  2018-07-03  smart  \n163  2018-11-03  smart  \n191  2018-06-30  smart  \n201  2018-08-06  ultra  \n206  2018-11-03  smart  \n232  2018-10-07  smart  \n242  2018-11-18  smart  \n254  2018-01-04  ultra  \n255  2018-02-19  ultra  \n265  2018-06-24  ultra  \n271  2018-07-14  ultra  \n293  2018-09-05  smart  \n343  2018-08-15  ultra  \n353  2018-04-22  smart  \n355  2018-07-21  smart  \n367  2018-09-14  ultra  \n370  2018-02-06  smart  \n371  2018-12-25  smart  \n392  2018-02-27  ultra  \n399  2018-11-06  ultra  \n416  2018-07-16  ultra  \n422  2018-10-12  smart  \n438  2018-10-05  smart  \n480  2018-02-14  smart  \n498  2018-07-19  smart  ",
      "text/html": "<div>\n<style scoped>\n    .dataframe tbody tr th:only-of-type {\n        vertical-align: middle;\n    }\n\n    .dataframe tbody tr th {\n        vertical-align: top;\n    }\n\n    .dataframe thead th {\n        text-align: right;\n    }\n</style>\n<table border=\"1\" class=\"dataframe\">\n  <thead>\n    <tr style=\"text-align: right;\">\n      <th></th>\n      <th>user_id</th>\n      <th>age</th>\n      <th>churn_date</th>\n      <th>city</th>\n      <th>first_name</th>\n      <th>last_name</th>\n      <th>reg_date</th>\n      <th>tariff</th>\n    </tr>\n  </thead>\n  <tbody>\n    <tr>\n      <th>19</th>\n      <td>1019</td>\n      <td>63</td>\n      <td>2018-10-05</td>\n      <td>Томск</td>\n      <td>Игнатий</td>\n      <td>Круглов</td>\n      <td>2018-05-16</td>\n      <td>ultra</td>\n    </tr>\n    <tr>\n      <th>20</th>\n      <td>1020</td>\n      <td>59</td>\n      <td>2018-12-18</td>\n      <td>Чита</td>\n      <td>Тала</td>\n      <td>Костина</td>\n      <td>2018-10-22</td>\n      <td>smart</td>\n    </tr>\n    <tr>\n      <th>34</th>\n      <td>1034</td>\n      <td>66</td>\n      <td>2018-11-21</td>\n      <td>Вологда</td>\n      <td>Святослав</td>\n      <td>Бондарев</td>\n      <td>2018-08-26</td>\n      <td>smart</td>\n    </tr>\n    <tr>\n      <th>50</th>\n      <td>1050</td>\n      <td>44</td>\n      <td>2018-10-03</td>\n      <td>Тюмень</td>\n      <td>Рузана</td>\n      <td>Аничкина</td>\n      <td>2018-06-16</td>\n      <td>ultra</td>\n    </tr>\n    <tr>\n      <th>51</th>\n      <td>1051</td>\n      <td>37</td>\n      <td>2018-10-14</td>\n      <td>Москва</td>\n      <td>Кристина</td>\n      <td>Сомова</td>\n      <td>2018-05-28</td>\n      <td>smart</td>\n    </tr>\n    <tr>\n      <th>56</th>\n      <td>1056</td>\n      <td>73</td>\n      <td>2018-10-14</td>\n      <td>Иркутск</td>\n      <td>Радислав</td>\n      <td>Артемьев</td>\n      <td>2018-04-13</td>\n      <td>smart</td>\n    </tr>\n    <tr>\n      <th>62</th>\n      <td>1062</td>\n      <td>24</td>\n      <td>2018-12-09</td>\n      <td>Москва</td>\n      <td>Александр</td>\n      <td>Коршунов</td>\n      <td>2018-11-16</td>\n      <td>smart</td>\n    </tr>\n    <tr>\n      <th>63</th>\n      <td>1063</td>\n      <td>45</td>\n      <td>2018-12-11</td>\n      <td>Тула</td>\n      <td>Таира</td>\n      <td>Климова</td>\n      <td>2018-04-12</td>\n      <td>ultra</td>\n    </tr>\n    <tr>\n      <th>64</th>\n      <td>1064</td>\n      <td>55</td>\n      <td>2018-12-26</td>\n      <td>Якутск</td>\n      <td>Динара</td>\n      <td>Алфеева</td>\n      <td>2018-03-17</td>\n      <td>smart</td>\n    </tr>\n    <tr>\n      <th>65</th>\n      <td>1065</td>\n      <td>53</td>\n      <td>2018-12-09</td>\n      <td>Москва</td>\n      <td>Роза</td>\n      <td>Игнатова</td>\n      <td>2018-03-08</td>\n      <td>smart</td>\n    </tr>\n    <tr>\n      <th>71</th>\n      <td>1071</td>\n      <td>20</td>\n      <td>2018-08-31</td>\n      <td>Омск</td>\n      <td>Гектор</td>\n      <td>Чумаков</td>\n      <td>2018-01-09</td>\n      <td>smart</td>\n    </tr>\n    <tr>\n      <th>90</th>\n      <td>1090</td>\n      <td>54</td>\n      <td>2018-12-03</td>\n      <td>Череповец</td>\n      <td>Екатерина</td>\n      <td>Астафьева</td>\n      <td>2018-10-11</td>\n      <td>ultra</td>\n    </tr>\n    <tr>\n      <th>128</th>\n      <td>1128</td>\n      <td>51</td>\n      <td>2018-12-23</td>\n      <td>Волжский</td>\n      <td>Ксения</td>\n      <td>Агаева</td>\n      <td>2018-12-15</td>\n      <td>ultra</td>\n    </tr>\n    <tr>\n      <th>161</th>\n      <td>1161</td>\n      <td>65</td>\n      <td>2018-11-07</td>\n      <td>Набережные Челны</td>\n      <td>Татьяна</td>\n      <td>Голованова</td>\n      <td>2018-07-03</td>\n      <td>smart</td>\n    </tr>\n    <tr>\n      <th>163</th>\n      <td>1163</td>\n      <td>21</td>\n      <td>2018-12-16</td>\n      <td>Москва</td>\n      <td>Лев</td>\n      <td>Вишневский</td>\n      <td>2018-11-03</td>\n      <td>smart</td>\n    </tr>\n    <tr>\n      <th>191</th>\n      <td>1191</td>\n      <td>64</td>\n      <td>2018-10-03</td>\n      <td>Набережные Челны</td>\n      <td>Александр</td>\n      <td>Акиндинов</td>\n      <td>2018-06-30</td>\n      <td>smart</td>\n    </tr>\n    <tr>\n      <th>201</th>\n      <td>1201</td>\n      <td>32</td>\n      <td>2018-12-03</td>\n      <td>Москва</td>\n      <td>Геннадий</td>\n      <td>Веселов</td>\n      <td>2018-08-06</td>\n      <td>ultra</td>\n    </tr>\n    <tr>\n      <th>206</th>\n      <td>1206</td>\n      <td>35</td>\n      <td>2018-12-20</td>\n      <td>Москва</td>\n      <td>Елена</td>\n      <td>Шарапова</td>\n      <td>2018-11-03</td>\n      <td>smart</td>\n    </tr>\n    <tr>\n      <th>232</th>\n      <td>1232</td>\n      <td>60</td>\n      <td>2018-11-30</td>\n      <td>Томск</td>\n      <td>Виктория</td>\n      <td>Ларина</td>\n      <td>2018-10-07</td>\n      <td>smart</td>\n    </tr>\n    <tr>\n      <th>242</th>\n      <td>1242</td>\n      <td>39</td>\n      <td>2018-12-21</td>\n      <td>Хабаровск</td>\n      <td>Радим</td>\n      <td>Федосеев</td>\n      <td>2018-11-18</td>\n      <td>smart</td>\n    </tr>\n    <tr>\n      <th>254</th>\n      <td>1254</td>\n      <td>75</td>\n      <td>2018-08-17</td>\n      <td>Москва</td>\n      <td>Александра</td>\n      <td>Сухарева</td>\n      <td>2018-01-04</td>\n      <td>ultra</td>\n    </tr>\n    <tr>\n      <th>255</th>\n      <td>1255</td>\n      <td>40</td>\n      <td>2018-09-02</td>\n      <td>Саранск</td>\n      <td>Серафима</td>\n      <td>Пономарева</td>\n      <td>2018-02-19</td>\n      <td>ultra</td>\n    </tr>\n    <tr>\n      <th>265</th>\n      <td>1265</td>\n      <td>24</td>\n      <td>2018-10-04</td>\n      <td>Омск</td>\n      <td>Радим</td>\n      <td>Адамов</td>\n      <td>2018-06-24</td>\n      <td>ultra</td>\n    </tr>\n    <tr>\n      <th>271</th>\n      <td>1271</td>\n      <td>69</td>\n      <td>2018-11-13</td>\n      <td>Челябинск</td>\n      <td>Аурелия</td>\n      <td>Чижова</td>\n      <td>2018-07-14</td>\n      <td>ultra</td>\n    </tr>\n    <tr>\n      <th>293</th>\n      <td>1293</td>\n      <td>39</td>\n      <td>2018-11-22</td>\n      <td>Санкт-Петербург</td>\n      <td>Эдита</td>\n      <td>Дубинина</td>\n      <td>2018-09-05</td>\n      <td>smart</td>\n    </tr>\n    <tr>\n      <th>343</th>\n      <td>1343</td>\n      <td>30</td>\n      <td>2018-10-28</td>\n      <td>Кострома</td>\n      <td>Анита</td>\n      <td>Верещагина</td>\n      <td>2018-08-15</td>\n      <td>ultra</td>\n    </tr>\n    <tr>\n      <th>353</th>\n      <td>1353</td>\n      <td>57</td>\n      <td>2018-11-26</td>\n      <td>Санкт-Петербург</td>\n      <td>Доминика</td>\n      <td>Анищенко</td>\n      <td>2018-04-22</td>\n      <td>smart</td>\n    </tr>\n    <tr>\n      <th>355</th>\n      <td>1355</td>\n      <td>33</td>\n      <td>2018-11-27</td>\n      <td>Киров</td>\n      <td>Сара</td>\n      <td>Абрикосова</td>\n      <td>2018-07-21</td>\n      <td>smart</td>\n    </tr>\n    <tr>\n      <th>367</th>\n      <td>1367</td>\n      <td>43</td>\n      <td>2018-11-16</td>\n      <td>Москва</td>\n      <td>Всеволод</td>\n      <td>Антоненко</td>\n      <td>2018-09-14</td>\n      <td>ultra</td>\n    </tr>\n    <tr>\n      <th>370</th>\n      <td>1370</td>\n      <td>48</td>\n      <td>2018-10-27</td>\n      <td>Новороссийск</td>\n      <td>Гектор</td>\n      <td>Сысоев</td>\n      <td>2018-02-06</td>\n      <td>smart</td>\n    </tr>\n    <tr>\n      <th>371</th>\n      <td>1371</td>\n      <td>50</td>\n      <td>2018-12-30</td>\n      <td>Омск</td>\n      <td>Ириней</td>\n      <td>Трофимов</td>\n      <td>2018-12-25</td>\n      <td>smart</td>\n    </tr>\n    <tr>\n      <th>392</th>\n      <td>1392</td>\n      <td>54</td>\n      <td>2018-09-27</td>\n      <td>Челябинск</td>\n      <td>Алла</td>\n      <td>Беликова</td>\n      <td>2018-02-27</td>\n      <td>ultra</td>\n    </tr>\n    <tr>\n      <th>399</th>\n      <td>1399</td>\n      <td>31</td>\n      <td>2018-12-25</td>\n      <td>Уфа</td>\n      <td>Алиса</td>\n      <td>Абрашина</td>\n      <td>2018-11-06</td>\n      <td>ultra</td>\n    </tr>\n    <tr>\n      <th>416</th>\n      <td>1416</td>\n      <td>50</td>\n      <td>2018-12-14</td>\n      <td>Санкт-Петербург</td>\n      <td>Валерия</td>\n      <td>Ёлчина</td>\n      <td>2018-07-16</td>\n      <td>ultra</td>\n    </tr>\n    <tr>\n      <th>422</th>\n      <td>1422</td>\n      <td>60</td>\n      <td>2018-12-21</td>\n      <td>Москва</td>\n      <td>Клара</td>\n      <td>Устинова</td>\n      <td>2018-10-12</td>\n      <td>smart</td>\n    </tr>\n    <tr>\n      <th>438</th>\n      <td>1438</td>\n      <td>24</td>\n      <td>2018-12-24</td>\n      <td>Екатеринбург</td>\n      <td>Нателла</td>\n      <td>Бородина</td>\n      <td>2018-10-05</td>\n      <td>smart</td>\n    </tr>\n    <tr>\n      <th>480</th>\n      <td>1480</td>\n      <td>29</td>\n      <td>2018-09-26</td>\n      <td>Новокузнецк</td>\n      <td>Гелена</td>\n      <td>Емельянова</td>\n      <td>2018-02-14</td>\n      <td>smart</td>\n    </tr>\n    <tr>\n      <th>498</th>\n      <td>1498</td>\n      <td>68</td>\n      <td>2018-10-25</td>\n      <td>Владикавказ</td>\n      <td>Всеволод</td>\n      <td>Акимчин</td>\n      <td>2018-07-19</td>\n      <td>smart</td>\n    </tr>\n  </tbody>\n</table>\n</div>"
     },
     "metadata": {},
     "output_type": "display_data"
    }
   ],
   "source": [
    "display(\n",
    "    users_df.loc[users_df['churn_date'].notna()]\n",
    ")"
   ],
   "metadata": {
    "collapsed": false,
    "pycharm": {
     "name": "#%%\n"
    }
   }
  },
  {
   "cell_type": "markdown",
   "source": [
    "### Дубликаты"
   ],
   "metadata": {
    "collapsed": false,
    "pycharm": {
     "name": "#%% md\n"
    }
   }
  },
  {
   "cell_type": "code",
   "execution_count": 342,
   "outputs": [
    {
     "data": {
      "text/plain": "id           0\ncall_date    0\nduration     0\nuser_id      0\ndtype: int64"
     },
     "metadata": {},
     "output_type": "display_data"
    }
   ],
   "source": [
    "display(\n",
    "    calls_df.loc[calls_df.duplicated()].count()\n",
    ")"
   ],
   "metadata": {
    "collapsed": false,
    "pycharm": {
     "name": "#%%\n"
    }
   }
  },
  {
   "cell_type": "code",
   "execution_count": 343,
   "outputs": [
    {
     "data": {
      "text/plain": "id              0\nmb_used         0\nsession_date    0\nuser_id         0\ndtype: int64"
     },
     "metadata": {},
     "output_type": "display_data"
    }
   ],
   "source": [
    "display(\n",
    "    internet_df.loc[internet_df.duplicated()].count()\n",
    ")"
   ],
   "metadata": {
    "collapsed": false,
    "pycharm": {
     "name": "#%%\n"
    }
   }
  },
  {
   "cell_type": "code",
   "execution_count": 344,
   "outputs": [
    {
     "data": {
      "text/plain": "id              0\nmessage_date    0\nuser_id         0\ndtype: int64"
     },
     "metadata": {},
     "output_type": "display_data"
    }
   ],
   "source": [
    "display(\n",
    "    messages_df.loc[messages_df.duplicated()].count()\n",
    ")"
   ],
   "metadata": {
    "collapsed": false,
    "pycharm": {
     "name": "#%%\n"
    }
   }
  },
  {
   "cell_type": "code",
   "execution_count": 345,
   "outputs": [
    {
     "data": {
      "text/plain": "user_id       0\nage           0\nchurn_date    0\ncity          0\nfirst_name    0\nlast_name     0\nreg_date      0\ntariff        0\ndtype: int64"
     },
     "metadata": {},
     "output_type": "display_data"
    },
    {
     "data": {
      "text/plain": "500"
     },
     "metadata": {},
     "output_type": "display_data"
    }
   ],
   "source": [
    "display(\n",
    "    users_df.loc[users_df.duplicated()].count(),\n",
    "    users_df['user_id'].value_counts().sum()\n",
    ")"
   ],
   "metadata": {
    "collapsed": false,
    "pycharm": {
     "name": "#%%\n"
    }
   }
  },
  {
   "cell_type": "markdown",
   "source": [
    "### Найдите и исправьте ошибки в данных, если они есть."
   ],
   "metadata": {
    "collapsed": false,
    "pycharm": {
     "name": "#%% md\n"
    }
   }
  },
  {
   "cell_type": "code",
   "execution_count": 346,
   "outputs": [],
   "source": [
    "users_df['churn_date'] = pd.to_datetime(users_df['churn_date'], errors='coerce', format='%Y-%m-%d')"
   ],
   "metadata": {
    "collapsed": false,
    "pycharm": {
     "name": "#%%\n"
    }
   }
  },
  {
   "cell_type": "code",
   "execution_count": 347,
   "outputs": [],
   "source": [
    "users_df['reg_date'] = pd.to_datetime(users_df['reg_date'], errors='coerce', format='%Y-%m-%d')"
   ],
   "metadata": {
    "collapsed": false,
    "pycharm": {
     "name": "#%%\n"
    }
   }
  },
  {
   "cell_type": "code",
   "execution_count": 348,
   "outputs": [
    {
     "name": "stdout",
     "output_type": "stream",
     "text": [
      "columns\n",
      "['user_id', 'age', 'churn_date', 'city', 'first_name', 'last_name', 'reg_date', 'tariff']\n",
      "\n",
      "age description\n",
      "count    500.00000\n",
      "mean      46.58800\n",
      "std       16.66763\n",
      "min       18.00000\n",
      "25%       32.00000\n",
      "50%       46.00000\n",
      "75%       62.00000\n",
      "max       75.00000\n",
      "Name: age, dtype: float64\n",
      "\n",
      "registration date min → max\n",
      "2018-01-01\n",
      "2018-12-31\n",
      "\n",
      "count of unique city\n",
      "76\n",
      "\n",
      "count of unique first name\n",
      "246\n",
      "\n",
      "count of unique last name\n",
      "419\n",
      "\n",
      "unique tariffs\n",
      "['ultra' 'smart']\n"
     ]
    }
   ],
   "source": [
    "print(\n",
    "    'columns',\n",
    "    list(users_df.columns),\n",
    "\n",
    "    '\\nage description',\n",
    "    users_df['age'].describe(),\n",
    "\n",
    "    '\\nregistration date min → max',\n",
    "    users_df['reg_date'].min().strftime('%Y-%m-%d'),\n",
    "    users_df['reg_date'].max().strftime('%Y-%m-%d'),\n",
    "\n",
    "    '\\ncount of unique city',\n",
    "    len(users_df['city'].unique()),\n",
    "\n",
    "    '\\ncount of unique first name',\n",
    "    len(users_df['first_name'].unique()),\n",
    "\n",
    "    '\\ncount of unique last name',\n",
    "    len(users_df['last_name'].unique()),\n",
    "\n",
    "    '\\nunique tariffs',\n",
    "    users_df['tariff'].unique(),\n",
    "    sep='\\n'\n",
    ")"
   ],
   "metadata": {
    "collapsed": false,
    "pycharm": {
     "name": "#%%\n"
    }
   }
  },
  {
   "cell_type": "markdown",
   "source": [
    "Проверим `'last_name'`, `'first_name'` и `'city'` на пробелы в начале и окончании."
   ],
   "metadata": {
    "collapsed": false,
    "pycharm": {
     "name": "#%% md\n"
    }
   }
  },
  {
   "cell_type": "code",
   "execution_count": 349,
   "outputs": [
    {
     "name": "stdout",
     "output_type": "stream",
     "text": [
      "first_name → 0 \n",
      "last_name → 0 \n",
      "city →  0\n"
     ]
    }
   ],
   "source": [
    "print(\n",
    "    'first_name →',\n",
    "    users_df['first_name'].apply(lambda fnm: fnm if ' ' in [fnm[0], fnm[-1]] else np.NaN).count(),\n",
    "    '\\nlast_name →',\n",
    "    users_df['last_name'].apply(lambda fnm: fnm if ' ' in [fnm[0], fnm[-1]] else np.NaN).count(),\n",
    "    '\\ncity → ',\n",
    "    users_df['city'].apply(lambda fnm: fnm if ' ' in [fnm[0], fnm[-1]] else np.NaN).count(),\n",
    ")"
   ],
   "metadata": {
    "collapsed": false,
    "pycharm": {
     "name": "#%%\n"
    }
   }
  },
  {
   "cell_type": "markdown",
   "source": [
    "Пробелов нет."
   ],
   "metadata": {
    "collapsed": false,
    "pycharm": {
     "name": "#%% md\n"
    }
   }
  },
  {
   "cell_type": "markdown",
   "source": [
    "#### Поясните, какие ошибки вы нашли и как их исправили."
   ],
   "metadata": {
    "collapsed": false,
    "pycharm": {
     "name": "#%% md\n"
    }
   }
  },
  {
   "cell_type": "code",
   "execution_count": 349,
   "outputs": [],
   "source": [],
   "metadata": {
    "collapsed": false,
    "pycharm": {
     "name": "#%%\n"
    }
   }
  },
  {
   "cell_type": "markdown",
   "source": [
    "### Приведите данные к нужным типам;"
   ],
   "metadata": {
    "collapsed": false,
    "pycharm": {
     "name": "#%% md\n"
    }
   }
  },
  {
   "cell_type": "markdown",
   "source": [
    "#### `tariffs_df`"
   ],
   "metadata": {
    "collapsed": false,
    "pycharm": {
     "name": "#%% md\n"
    }
   }
  },
  {
   "cell_type": "markdown",
   "source": [
    "#### `messages_df`"
   ],
   "metadata": {
    "collapsed": false,
    "pycharm": {
     "name": "#%% md\n"
    }
   }
  },
  {
   "cell_type": "code",
   "execution_count": 350,
   "outputs": [],
   "source": [
    "messages_df['message_date'] = pd.to_datetime(\n",
    "    messages_df['message_date'],\n",
    "    errors='coerce',\n",
    "    format='%Y-%m-%d'\n",
    ")\n",
    "\n",
    "# messages_df = messages_df.astype(\n",
    "#     {\n",
    "#         'user_id': 'uint16',\n",
    "#         'message_date': 'uint8',\n",
    "#         # 'churn_date': '',\n",
    "#         'city': 'category',\n",
    "#         'first_name': 'category',\n",
    "#         # 'last_name': '',\n",
    "#         # 'reg_date': '',\n",
    "#         'tariff': 'bool',\n",
    "#     }\n",
    "# )"
   ],
   "metadata": {
    "collapsed": false,
    "pycharm": {
     "name": "#%%\n"
    }
   }
  },
  {
   "cell_type": "markdown",
   "source": [
    "#### `internet_df`"
   ],
   "metadata": {
    "collapsed": false,
    "pycharm": {
     "name": "#%% md\n"
    }
   }
  },
  {
   "cell_type": "code",
   "execution_count": 351,
   "outputs": [],
   "source": [
    "internet_df['session_date'] = pd.to_datetime(\n",
    "    internet_df['session_date'],\n",
    "    errors='coerce',\n",
    "    format='%Y-%m-%d'\n",
    ")\n",
    "\n",
    "# internet_df = internet_df.astype(\n",
    "#     {\n",
    "#         'user_id': 'uint16',\n",
    "#         'message_date': 'uint8',\n",
    "#         # 'churn_date': '',\n",
    "#         'city': 'category',\n",
    "#         'first_name': 'category',\n",
    "#         # 'last_name': '',\n",
    "#         # 'reg_date': '',\n",
    "#         'tariff': 'bool',\n",
    "#     }\n",
    "# )"
   ],
   "metadata": {
    "collapsed": false,
    "pycharm": {
     "name": "#%%\n"
    }
   }
  },
  {
   "cell_type": "markdown",
   "source": [
    "#### `calls_df`"
   ],
   "metadata": {
    "collapsed": false,
    "pycharm": {
     "name": "#%% md\n"
    }
   }
  },
  {
   "cell_type": "code",
   "execution_count": 352,
   "outputs": [],
   "source": [
    "calls_df['call_date'] = pd.to_datetime(\n",
    "    calls_df['call_date'],\n",
    "    errors='coerce',\n",
    "    format='%Y-%m-%d'\n",
    ")\n",
    "\n",
    "# calls_df = calls_df.astype(\n",
    "#     {\n",
    "#         'user_id': 'uint16',\n",
    "#         'message_date': 'uint8',\n",
    "#         # 'churn_date': '',\n",
    "#         'city': 'category',\n",
    "#         'first_name': 'category',\n",
    "#         # 'last_name': '',\n",
    "#         # 'reg_date': '',\n",
    "#         'tariff': 'bool',\n",
    "#     }\n",
    "# )"
   ],
   "metadata": {
    "collapsed": false,
    "pycharm": {
     "name": "#%%\n"
    }
   }
  },
  {
   "cell_type": "markdown",
   "source": [
    "#### `users_df`"
   ],
   "metadata": {
    "collapsed": false,
    "pycharm": {
     "name": "#%% md\n"
    }
   }
  },
  {
   "cell_type": "code",
   "execution_count": 353,
   "outputs": [],
   "source": [
    "users_df['tariff'] = (\n",
    "    users_df['tariff'].apply(\n",
    "        lambda tn: tariffs_df.loc[\n",
    "            tariffs_df['tariff_name'] == tn\n",
    "        ].index.values[0]\n",
    "    )\n",
    ")"
   ],
   "metadata": {
    "collapsed": false,
    "pycharm": {
     "name": "#%%\n"
    }
   }
  },
  {
   "cell_type": "code",
   "execution_count": 354,
   "outputs": [
    {
     "data": {
      "text/plain": "313    0\n352    1\n349    1\nName: tariff, dtype: int64"
     },
     "metadata": {},
     "output_type": "display_data"
    }
   ],
   "source": [
    "display(\n",
    "    users_df['tariff'].sample(3)\n",
    ")"
   ],
   "metadata": {
    "collapsed": false,
    "pycharm": {
     "name": "#%%\n"
    }
   }
  },
  {
   "cell_type": "code",
   "execution_count": 355,
   "outputs": [],
   "source": [
    "users_df = users_df.astype(\n",
    "    {\n",
    "        'user_id': 'uint16',\n",
    "        'age': 'uint8',\n",
    "        # 'churn_date': '',\n",
    "        'city': 'category',\n",
    "        'first_name': 'category',\n",
    "        # 'last_name': '',\n",
    "        # 'reg_date': '',\n",
    "        'tariff': 'bool',\n",
    "    }\n",
    ")"
   ],
   "metadata": {
    "collapsed": false,
    "pycharm": {
     "name": "#%%\n"
    }
   }
  },
  {
   "cell_type": "code",
   "execution_count": 356,
   "outputs": [
    {
     "name": "stdout",
     "output_type": "stream",
     "text": [
      "<class 'pandas.core.frame.DataFrame'>\n",
      "RangeIndex: 500 entries, 0 to 499\n",
      "Data columns (total 8 columns):\n",
      " #   Column      Non-Null Count  Dtype         \n",
      "---  ------      --------------  -----         \n",
      " 0   user_id     500 non-null    uint16        \n",
      " 1   age         500 non-null    uint8         \n",
      " 2   churn_date  38 non-null     datetime64[ns]\n",
      " 3   city        500 non-null    category      \n",
      " 4   first_name  500 non-null    category      \n",
      " 5   last_name   500 non-null    object        \n",
      " 6   reg_date    500 non-null    datetime64[ns]\n",
      " 7   tariff      500 non-null    bool          \n",
      "dtypes: bool(1), category(2), datetime64[ns](2), object(1), uint16(1), uint8(1)\n",
      "memory usage: 27.9+ KB\n"
     ]
    },
    {
     "data": {
      "text/plain": "None"
     },
     "metadata": {},
     "output_type": "display_data"
    }
   ],
   "source": [
    "display(\n",
    "    users_df.info()\n",
    ")"
   ],
   "metadata": {
    "collapsed": false,
    "pycharm": {
     "name": "#%%\n"
    }
   }
  },
  {
   "cell_type": "code",
   "execution_count": 357,
   "outputs": [
    {
     "data": {
      "text/plain": "     user_id  age churn_date              city first_name      last_name  \\\n257     1257   21        NaT   Санкт-Петербург   Габриель         Жданов   \n166     1166   48        NaT   Нижний Новгород  Святослав         Жданов   \n421     1421   30        NaT       Калининград     Гайдар  Александрович   \n225     1225   71        NaT          Оренбург    Даниэла      Горбачева   \n477     1477   70        NaT  Набережные Челны    Геральд          Серов   \n\n      reg_date  tariff  \n257 2018-06-17    True  \n166 2018-08-17    True  \n421 2018-02-22   False  \n225 2018-04-26    True  \n477 2018-04-24   False  ",
      "text/html": "<div>\n<style scoped>\n    .dataframe tbody tr th:only-of-type {\n        vertical-align: middle;\n    }\n\n    .dataframe tbody tr th {\n        vertical-align: top;\n    }\n\n    .dataframe thead th {\n        text-align: right;\n    }\n</style>\n<table border=\"1\" class=\"dataframe\">\n  <thead>\n    <tr style=\"text-align: right;\">\n      <th></th>\n      <th>user_id</th>\n      <th>age</th>\n      <th>churn_date</th>\n      <th>city</th>\n      <th>first_name</th>\n      <th>last_name</th>\n      <th>reg_date</th>\n      <th>tariff</th>\n    </tr>\n  </thead>\n  <tbody>\n    <tr>\n      <th>257</th>\n      <td>1257</td>\n      <td>21</td>\n      <td>NaT</td>\n      <td>Санкт-Петербург</td>\n      <td>Габриель</td>\n      <td>Жданов</td>\n      <td>2018-06-17</td>\n      <td>True</td>\n    </tr>\n    <tr>\n      <th>166</th>\n      <td>1166</td>\n      <td>48</td>\n      <td>NaT</td>\n      <td>Нижний Новгород</td>\n      <td>Святослав</td>\n      <td>Жданов</td>\n      <td>2018-08-17</td>\n      <td>True</td>\n    </tr>\n    <tr>\n      <th>421</th>\n      <td>1421</td>\n      <td>30</td>\n      <td>NaT</td>\n      <td>Калининград</td>\n      <td>Гайдар</td>\n      <td>Александрович</td>\n      <td>2018-02-22</td>\n      <td>False</td>\n    </tr>\n    <tr>\n      <th>225</th>\n      <td>1225</td>\n      <td>71</td>\n      <td>NaT</td>\n      <td>Оренбург</td>\n      <td>Даниэла</td>\n      <td>Горбачева</td>\n      <td>2018-04-26</td>\n      <td>True</td>\n    </tr>\n    <tr>\n      <th>477</th>\n      <td>1477</td>\n      <td>70</td>\n      <td>NaT</td>\n      <td>Набережные Челны</td>\n      <td>Геральд</td>\n      <td>Серов</td>\n      <td>2018-04-24</td>\n      <td>False</td>\n    </tr>\n  </tbody>\n</table>\n</div>"
     },
     "metadata": {},
     "output_type": "display_data"
    }
   ],
   "source": [
    "display(\n",
    "    users_df.sample(5)\n",
    ")"
   ],
   "metadata": {
    "collapsed": false,
    "pycharm": {
     "name": "#%%\n"
    }
   }
  },
  {
   "cell_type": "markdown",
   "source": [
    "<hr>"
   ],
   "metadata": {
    "collapsed": false,
    "pycharm": {
     "name": "#%% md\n"
    }
   }
  },
  {
   "cell_type": "markdown",
   "source": [
    "### Посчитайте для каждого пользователя:"
   ],
   "metadata": {
    "collapsed": false,
    "pycharm": {
     "name": "#%% md\n"
    }
   }
  },
  {
   "cell_type": "code",
   "execution_count": 521,
   "outputs": [],
   "source": [
    "internet_latest_date = internet_df['session_date'].max()\n",
    "messages_latest_date = messages_df['message_date'].max()\n",
    "calls_latest_date = calls_df['call_date'].max()\n",
    "latest_update = max(\n",
    "    [\n",
    "        internet_latest_date,\n",
    "        messages_latest_date,\n",
    "        calls_latest_date\n",
    "    ]\n",
    ")"
   ],
   "metadata": {
    "collapsed": false,
    "pycharm": {
     "name": "#%%\n"
    }
   }
  },
  {
   "cell_type": "code",
   "execution_count": 522,
   "outputs": [],
   "source": [
    "user_profit = pd.DataFrame(data=users_df['user_id'])"
   ],
   "metadata": {
    "collapsed": false,
    "pycharm": {
     "name": "#%%\n"
    }
   }
  },
  {
   "cell_type": "code",
   "execution_count": 523,
   "outputs": [],
   "source": [
    "\n",
    "\n",
    "def month_in_use_gone(id):\n",
    "    month_usage = (\n",
    "        users_df.loc[(users_df['user_id'] == id)\n",
    "            , 'churn_date']\n",
    "        - users_df.loc[(users_df['user_id'] == id)\n",
    "            , 'reg_date']\n",
    "    )\n",
    "    month_usage = month_usage / np.timedelta64(1, 'M')\n",
    "    month_usage = int(month_usage)\n",
    "\n",
    "    return month_usage"
   ],
   "metadata": {
    "collapsed": false,
    "pycharm": {
     "name": "#%%\n"
    }
   }
  },
  {
   "cell_type": "code",
   "execution_count": 524,
   "outputs": [],
   "source": [
    "\n",
    "\n",
    "def month_in_use_on(id):\n",
    "    month_usage = (\n",
    "        latest_update\n",
    "        - users_df.loc[(users_df['user_id'] == id)\n",
    "            , 'reg_date'].item()\n",
    "    )\n",
    "\n",
    "    month_usage = month_usage / np.timedelta64(1, 'M')\n",
    "    month_usage = int(month_usage)\n",
    "\n",
    "    return month_usage"
   ],
   "metadata": {
    "collapsed": false,
    "pycharm": {
     "name": "#%%\n"
    }
   }
  },
  {
   "cell_type": "code",
   "execution_count": 525,
   "outputs": [],
   "source": [
    "user_profit.loc[\n",
    "    users_df['churn_date'].notna()\n",
    "    ,'month_usage'\n",
    "] = (\n",
    "        user_profit.loc[\n",
    "            users_df['churn_date'].notna()\n",
    "            , 'user_id'\n",
    "        ].apply(month_in_use_gone)\n",
    "    )"
   ],
   "metadata": {
    "collapsed": false,
    "pycharm": {
     "name": "#%%\n"
    }
   }
  },
  {
   "cell_type": "code",
   "execution_count": 526,
   "outputs": [],
   "source": [
    "user_profit.loc[\n",
    "    users_df['churn_date'].isna()\n",
    "    ,'month_usage'\n",
    "] = (\n",
    "        user_profit.loc[\n",
    "            users_df['churn_date'].isna()\n",
    "            , 'user_id'\n",
    "        ].apply(month_in_use_on)\n",
    "    )"
   ],
   "metadata": {
    "collapsed": false,
    "pycharm": {
     "name": "#%%\n"
    }
   }
  },
  {
   "cell_type": "code",
   "execution_count": 528,
   "outputs": [],
   "source": [
    "user_profit = user_profit.astype(\n",
    "    {\n",
    "        'user_id': 'uint16',\n",
    "        'month_usage': 'uint8',\n",
    "    }\n",
    ")"
   ],
   "metadata": {
    "collapsed": false,
    "pycharm": {
     "name": "#%%\n"
    }
   }
  },
  {
   "cell_type": "code",
   "execution_count": 531,
   "outputs": [
    {
     "data": {
      "text/plain": "     user_id  month_usage\n130     1130            9\n108     1108            1\n147     1147            5\n152     1152           10\n195     1195            2\n109     1109           10\n312     1312            5\n485     1485            0\n283     1283            3\n17      1017            7\n455     1455            9\n438     1438            2\n451     1451            4\n212     1212            1\n95      1095            0\n404     1404            8\n293     1293            2\n409     1409            9\n319     1319            4\n107     1107            5\n177     1177            6\n46      1046            4\n2       1002            6\n186     1186           10\n139     1139            1\n80      1080            4\n71      1071            7\n153     1153            2\n297     1297            0\n238     1238           11\n267     1267            4\n88      1088            6\n287     1287            3\n421     1421           10\n417     1417            5",
      "text/html": "<div>\n<style scoped>\n    .dataframe tbody tr th:only-of-type {\n        vertical-align: middle;\n    }\n\n    .dataframe tbody tr th {\n        vertical-align: top;\n    }\n\n    .dataframe thead th {\n        text-align: right;\n    }\n</style>\n<table border=\"1\" class=\"dataframe\">\n  <thead>\n    <tr style=\"text-align: right;\">\n      <th></th>\n      <th>user_id</th>\n      <th>month_usage</th>\n    </tr>\n  </thead>\n  <tbody>\n    <tr>\n      <th>130</th>\n      <td>1130</td>\n      <td>9</td>\n    </tr>\n    <tr>\n      <th>108</th>\n      <td>1108</td>\n      <td>1</td>\n    </tr>\n    <tr>\n      <th>147</th>\n      <td>1147</td>\n      <td>5</td>\n    </tr>\n    <tr>\n      <th>152</th>\n      <td>1152</td>\n      <td>10</td>\n    </tr>\n    <tr>\n      <th>195</th>\n      <td>1195</td>\n      <td>2</td>\n    </tr>\n    <tr>\n      <th>109</th>\n      <td>1109</td>\n      <td>10</td>\n    </tr>\n    <tr>\n      <th>312</th>\n      <td>1312</td>\n      <td>5</td>\n    </tr>\n    <tr>\n      <th>485</th>\n      <td>1485</td>\n      <td>0</td>\n    </tr>\n    <tr>\n      <th>283</th>\n      <td>1283</td>\n      <td>3</td>\n    </tr>\n    <tr>\n      <th>17</th>\n      <td>1017</td>\n      <td>7</td>\n    </tr>\n    <tr>\n      <th>455</th>\n      <td>1455</td>\n      <td>9</td>\n    </tr>\n    <tr>\n      <th>438</th>\n      <td>1438</td>\n      <td>2</td>\n    </tr>\n    <tr>\n      <th>451</th>\n      <td>1451</td>\n      <td>4</td>\n    </tr>\n    <tr>\n      <th>212</th>\n      <td>1212</td>\n      <td>1</td>\n    </tr>\n    <tr>\n      <th>95</th>\n      <td>1095</td>\n      <td>0</td>\n    </tr>\n    <tr>\n      <th>404</th>\n      <td>1404</td>\n      <td>8</td>\n    </tr>\n    <tr>\n      <th>293</th>\n      <td>1293</td>\n      <td>2</td>\n    </tr>\n    <tr>\n      <th>409</th>\n      <td>1409</td>\n      <td>9</td>\n    </tr>\n    <tr>\n      <th>319</th>\n      <td>1319</td>\n      <td>4</td>\n    </tr>\n    <tr>\n      <th>107</th>\n      <td>1107</td>\n      <td>5</td>\n    </tr>\n    <tr>\n      <th>177</th>\n      <td>1177</td>\n      <td>6</td>\n    </tr>\n    <tr>\n      <th>46</th>\n      <td>1046</td>\n      <td>4</td>\n    </tr>\n    <tr>\n      <th>2</th>\n      <td>1002</td>\n      <td>6</td>\n    </tr>\n    <tr>\n      <th>186</th>\n      <td>1186</td>\n      <td>10</td>\n    </tr>\n    <tr>\n      <th>139</th>\n      <td>1139</td>\n      <td>1</td>\n    </tr>\n    <tr>\n      <th>80</th>\n      <td>1080</td>\n      <td>4</td>\n    </tr>\n    <tr>\n      <th>71</th>\n      <td>1071</td>\n      <td>7</td>\n    </tr>\n    <tr>\n      <th>153</th>\n      <td>1153</td>\n      <td>2</td>\n    </tr>\n    <tr>\n      <th>297</th>\n      <td>1297</td>\n      <td>0</td>\n    </tr>\n    <tr>\n      <th>238</th>\n      <td>1238</td>\n      <td>11</td>\n    </tr>\n    <tr>\n      <th>267</th>\n      <td>1267</td>\n      <td>4</td>\n    </tr>\n    <tr>\n      <th>88</th>\n      <td>1088</td>\n      <td>6</td>\n    </tr>\n    <tr>\n      <th>287</th>\n      <td>1287</td>\n      <td>3</td>\n    </tr>\n    <tr>\n      <th>421</th>\n      <td>1421</td>\n      <td>10</td>\n    </tr>\n    <tr>\n      <th>417</th>\n      <td>1417</td>\n      <td>5</td>\n    </tr>\n  </tbody>\n</table>\n</div>"
     },
     "metadata": {},
     "output_type": "display_data"
    }
   ],
   "source": [
    "display(\n",
    "    user_profit.sample(35)\n",
    ")"
   ],
   "metadata": {
    "collapsed": false,
    "pycharm": {
     "name": "#%%\n"
    }
   }
  },
  {
   "cell_type": "code",
   "execution_count": 537,
   "outputs": [
    {
     "data": {
      "text/plain": "<AxesSubplot:xlabel='month_usage', ylabel='Count'>"
     },
     "execution_count": 537,
     "metadata": {},
     "output_type": "execute_result"
    },
    {
     "data": {
      "text/plain": "<Figure size 432x288 with 1 Axes>",
      "image/png": "[encoded data removed]"
     },
     "metadata": {},
     "output_type": "display_data"
    }
   ],
   "source": [
    "sns.histplot(\n",
    "    data=user_profit['month_usage'],\n",
    "    bins=(1+user_profit['month_usage'].max())\n",
    ")"
   ],
   "metadata": {
    "collapsed": false,
    "pycharm": {
     "name": "#%%\n"
    }
   }
  },
  {
   "cell_type": "code",
   "execution_count": 546,
   "outputs": [
    {
     "data": {
      "text/plain": "Timestamp('2018-03-29 00:00:00')"
     },
     "metadata": {},
     "output_type": "display_data"
    }
   ],
   "source": [
    "display(\n",
    "    pd.Timestamp(np.datetime64('2018-01-29')) + pd.DateOffset(months=2)\n",
    ")"
   ],
   "metadata": {
    "collapsed": false,
    "pycharm": {
     "name": "#%%\n"
    }
   }
  },
  {
   "cell_type": "markdown",
   "source": [
    "#### количество сделанных звонков и израсходованных минут разговора по месяцам;"
   ],
   "metadata": {
    "collapsed": false,
    "pycharm": {
     "name": "#%% md\n"
    }
   }
  },
  {
   "cell_type": "code",
   "execution_count": null,
   "outputs": [],
   "source": [
    "def calls_mins(u_id, u_mnth):\n",
    "    print(u_id, u_mnth)"
   ],
   "metadata": {
    "collapsed": false,
    "pycharm": {
     "name": "#%%\n"
    }
   }
  },
  {
   "cell_type": "code",
   "execution_count": 494,
   "outputs": [
    {
     "data": {
      "text/plain": "482"
     },
     "metadata": {},
     "output_type": "display_data"
    }
   ],
   "source": [
    "display(\n",
    "    user_profit.loc[\n",
    "        user_profit['month_usage'] > 0\n",
    "        , 'user_id'\n",
    "    ].count()\n",
    ")"
   ],
   "metadata": {
    "collapsed": false,
    "pycharm": {
     "name": "#%%\n"
    }
   }
  },
  {
   "cell_type": "markdown",
   "source": [
    "#### количество отправленных сообщений по месяцам;"
   ],
   "metadata": {
    "collapsed": false,
    "pycharm": {
     "name": "#%% md\n"
    }
   }
  },
  {
   "cell_type": "code",
   "execution_count": null,
   "outputs": [],
   "source": [],
   "metadata": {
    "collapsed": false,
    "pycharm": {
     "name": "#%%\n"
    }
   }
  },
  {
   "cell_type": "markdown",
   "source": [
    "#### объем израсходованного интернет-трафика по месяцам;"
   ],
   "metadata": {
    "collapsed": false,
    "pycharm": {
     "name": "#%% md\n"
    }
   }
  },
  {
   "cell_type": "code",
   "execution_count": null,
   "outputs": [],
   "source": [],
   "metadata": {
    "collapsed": false,
    "pycharm": {
     "name": "#%%\n"
    }
   }
  },
  {
   "cell_type": "markdown",
   "source": [
    "#### помесячную выручку с каждого пользователя"
   ],
   "metadata": {
    "collapsed": false,
    "pycharm": {
     "name": "#%% md\n"
    }
   }
  },
  {
   "cell_type": "markdown",
   "source": [
    "(вычтите бесплатный лимит из суммарного количества звонков, сообщений и интернет-трафика; остаток умножьте на значение из тарифного плана; прибавьте абонентскую плату, соответствующую тарифному плану)."
   ],
   "metadata": {
    "collapsed": false,
    "pycharm": {
     "name": "#%% md\n"
    }
   }
  },
  {
   "cell_type": "code",
   "execution_count": null,
   "outputs": [],
   "source": [],
   "metadata": {
    "collapsed": false,
    "pycharm": {
     "name": "#%%\n"
    }
   }
  },
  {
   "cell_type": "code",
   "execution_count": null,
   "outputs": [],
   "source": [],
   "metadata": {
    "collapsed": false,
    "pycharm": {
     "name": "#%%\n"
    }
   }
  },
  {
   "cell_type": "markdown",
   "source": [],
   "metadata": {
    "collapsed": false,
    "pycharm": {
     "name": "#%% md\n"
    }
   }
  },
  {
   "cell_type": "markdown",
   "source": [],
   "metadata": {
    "collapsed": false,
    "pycharm": {
     "name": "#%% md\n"
    }
   }
  },
  {
   "cell_type": "markdown",
   "source": [
    "<hr>"
   ],
   "metadata": {
    "collapsed": false,
    "pycharm": {
     "name": "#%% md\n"
    }
   }
  },
  {
   "cell_type": "markdown",
   "source": [
    "## Шаг 3. Анализ данных"
   ],
   "metadata": {
    "collapsed": false,
    "pycharm": {
     "name": "#%% md\n"
    }
   }
  },
  {
   "cell_type": "code",
   "execution_count": null,
   "outputs": [],
   "source": [],
   "metadata": {
    "collapsed": false,
    "pycharm": {
     "name": "#%%\n"
    }
   }
  },
  {
   "cell_type": "markdown",
   "source": [
    "### Описание поведения клиентов оператора, исходя из выборки."
   ],
   "metadata": {
    "collapsed": false,
    "pycharm": {
     "name": "#%% md\n"
    }
   }
  },
  {
   "cell_type": "markdown",
   "source": [],
   "metadata": {
    "collapsed": false,
    "pycharm": {
     "name": "#%% md\n"
    }
   }
  },
  {
   "cell_type": "markdown",
   "source": [
    "#### Сколько минут разговора требуется пользователям каждого тарифа в месяц?"
   ],
   "metadata": {
    "collapsed": false,
    "pycharm": {
     "name": "#%% md\n"
    }
   }
  },
  {
   "cell_type": "markdown",
   "source": [
    " ##### Среднее количество минут, дисперсия и стандартное отклонение."
   ],
   "metadata": {
    "collapsed": false,
    "pycharm": {
     "name": "#%% md\n"
    }
   }
  },
  {
   "cell_type": "code",
   "execution_count": null,
   "outputs": [],
   "source": [],
   "metadata": {
    "collapsed": false,
    "pycharm": {
     "name": "#%%\n"
    }
   }
  },
  {
   "cell_type": "markdown",
   "source": [
    "##### Гистограммы минут разговора."
   ],
   "metadata": {
    "collapsed": false,
    "pycharm": {
     "name": "#%% md\n"
    }
   }
  },
  {
   "cell_type": "code",
   "execution_count": null,
   "outputs": [],
   "source": [],
   "metadata": {
    "collapsed": false,
    "pycharm": {
     "name": "#%%\n"
    }
   }
  },
  {
   "cell_type": "markdown",
   "source": [
    "##### Описание распределений минут разговора."
   ],
   "metadata": {
    "collapsed": false,
    "pycharm": {
     "name": "#%% md\n"
    }
   }
  },
  {
   "cell_type": "markdown",
   "source": [],
   "metadata": {
    "collapsed": false,
    "pycharm": {
     "name": "#%% md\n"
    }
   }
  },
  {
   "cell_type": "markdown",
   "source": [
    "<hr>"
   ],
   "metadata": {
    "collapsed": false,
    "pycharm": {
     "name": "#%% md\n"
    }
   }
  },
  {
   "cell_type": "markdown",
   "source": [
    "#### Сколько сообщений требуется пользователям каждого тарифа в месяц?"
   ],
   "metadata": {
    "collapsed": false,
    "pycharm": {
     "name": "#%% md\n"
    }
   }
  },
  {
   "cell_type": "markdown",
   "source": [
    " ##### Среднее количество сообщений, дисперсия и стандартное отклонение."
   ],
   "metadata": {
    "collapsed": false,
    "pycharm": {
     "name": "#%% md\n"
    }
   }
  },
  {
   "cell_type": "code",
   "execution_count": null,
   "outputs": [],
   "source": [],
   "metadata": {
    "collapsed": false,
    "pycharm": {
     "name": "#%%\n"
    }
   }
  },
  {
   "cell_type": "markdown",
   "source": [
    "##### Гистограммы сообщений."
   ],
   "metadata": {
    "collapsed": false,
    "pycharm": {
     "name": "#%% md\n"
    }
   }
  },
  {
   "cell_type": "code",
   "execution_count": null,
   "outputs": [],
   "source": [],
   "metadata": {
    "collapsed": false,
    "pycharm": {
     "name": "#%%\n"
    }
   }
  },
  {
   "cell_type": "markdown",
   "source": [
    "##### Описание распределений сообщений."
   ],
   "metadata": {
    "collapsed": false,
    "pycharm": {
     "name": "#%% md\n"
    }
   }
  },
  {
   "cell_type": "markdown",
   "source": [],
   "metadata": {
    "collapsed": false,
    "pycharm": {
     "name": "#%% md\n"
    }
   }
  },
  {
   "cell_type": "markdown",
   "source": [
    "<hr>"
   ],
   "metadata": {
    "collapsed": false,
    "pycharm": {
     "name": "#%% md\n"
    }
   }
  },
  {
   "cell_type": "markdown",
   "source": [
    "#### Какой объём интернет-трафика требуется пользователям каждого тарифа в месяц?"
   ],
   "metadata": {
    "collapsed": false,
    "pycharm": {
     "name": "#%% md\n"
    }
   }
  },
  {
   "cell_type": "markdown",
   "source": [
    " Посчитайте среднее количество интернет-трафика, дисперсию и стандартное отклонение."
   ],
   "metadata": {
    "collapsed": false,
    "pycharm": {
     "name": "#%% md\n"
    }
   }
  },
  {
   "cell_type": "code",
   "execution_count": null,
   "outputs": [],
   "source": [],
   "metadata": {
    "collapsed": false,
    "pycharm": {
     "name": "#%%\n"
    }
   }
  },
  {
   "cell_type": "markdown",
   "source": [
    "##### Гистограммы интернет-трафика."
   ],
   "metadata": {
    "collapsed": false,
    "pycharm": {
     "name": "#%% md\n"
    }
   }
  },
  {
   "cell_type": "code",
   "execution_count": null,
   "outputs": [],
   "source": [],
   "metadata": {
    "collapsed": false,
    "pycharm": {
     "name": "#%%\n"
    }
   }
  },
  {
   "cell_type": "markdown",
   "source": [
    "##### Описание распределений интернет-трафика."
   ],
   "metadata": {
    "collapsed": false,
    "pycharm": {
     "name": "#%% md\n"
    }
   }
  },
  {
   "cell_type": "markdown",
   "source": [],
   "metadata": {
    "collapsed": false,
    "pycharm": {
     "name": "#%% md\n"
    }
   }
  },
  {
   "cell_type": "code",
   "execution_count": null,
   "outputs": [],
   "source": [],
   "metadata": {
    "collapsed": false,
    "pycharm": {
     "name": "#%%\n"
    }
   }
  },
  {
   "cell_type": "markdown",
   "source": [
    "<hr>"
   ],
   "metadata": {
    "collapsed": false,
    "pycharm": {
     "name": "#%% md\n"
    }
   }
  },
  {
   "cell_type": "markdown",
   "source": [
    "## Шаг 4. Проверьте гипотезы"
   ],
   "metadata": {
    "collapsed": false,
    "pycharm": {
     "name": "#%% md\n"
    }
   }
  },
  {
   "cell_type": "code",
   "execution_count": null,
   "outputs": [],
   "source": [],
   "metadata": {
    "collapsed": false,
    "pycharm": {
     "name": "#%%\n"
    }
   }
  },
  {
   "cell_type": "markdown",
   "source": [
    "### Средняя выручка пользователей тарифов «Ультра» и «Смарт» различаются"
   ],
   "metadata": {
    "collapsed": false,
    "pycharm": {
     "name": "#%% md\n"
    }
   }
  },
  {
   "cell_type": "code",
   "execution_count": null,
   "outputs": [],
   "source": [],
   "metadata": {
    "collapsed": false,
    "pycharm": {
     "name": "#%%\n"
    }
   }
  },
  {
   "cell_type": "markdown",
   "source": [
    "### Средняя выручка пользователей из Москвы отличается от выручки пользователей из других регионов"
   ],
   "metadata": {
    "collapsed": false,
    "pycharm": {
     "name": "#%% md\n"
    }
   }
  },
  {
   "cell_type": "code",
   "execution_count": null,
   "outputs": [],
   "source": [],
   "metadata": {
    "collapsed": false,
    "pycharm": {
     "name": "#%%\n"
    }
   }
  },
  {
   "cell_type": "code",
   "execution_count": null,
   "outputs": [],
   "source": [],
   "metadata": {
    "collapsed": false,
    "pycharm": {
     "name": "#%%\n"
    }
   }
  },
  {
   "cell_type": "code",
   "execution_count": null,
   "outputs": [],
   "source": [],
   "metadata": {
    "collapsed": false,
    "pycharm": {
     "name": "#%%\n"
    }
   }
  },
  {
   "cell_type": "markdown",
   "source": [
    "Поясните:\n",
    "как вы формулировали нулевую и альтернативную гипотезы;\n",
    "какой критерий использовали для проверки гипотез и почему."
   ],
   "metadata": {
    "collapsed": false,
    "pycharm": {
     "name": "#%% md\n"
    }
   }
  },
  {
   "cell_type": "markdown",
   "source": [
    "<hr>"
   ],
   "metadata": {
    "collapsed": false,
    "pycharm": {
     "name": "#%% md\n"
    }
   }
  },
  {
   "cell_type": "markdown",
   "source": [
    "## Шаг 5. Общий вывод"
   ],
   "metadata": {
    "collapsed": false,
    "pycharm": {
     "name": "#%% md\n"
    }
   }
  },
  {
   "cell_type": "markdown",
   "source": [],
   "metadata": {
    "collapsed": false,
    "pycharm": {
     "name": "#%% md\n"
    }
   }
  },
  {
   "cell_type": "markdown",
   "source": [
    "Описание данных\n",
    "Таблица users (информация о пользователях):\n",
    "user_id — уникальный идентификатор пользователя\n",
    "first_name — имя пользователя\n",
    "last_name — фамилия пользователя\n",
    "age — возраст пользователя (годы)\n",
    "reg_date — дата подключения тарифа (день, месяц, год)\n",
    "churn_date — дата прекращения пользования тарифом (если значение пропущено, то тариф ещё действовал на момент выгрузки данных)\n",
    "city — город проживания пользователя\n",
    "tariff — название тарифного плана\n",
    "Таблица calls (информация о звонках):\n",
    "id — уникальный номер звонка\n",
    "call_date — дата звонка\n",
    "duration — длительность звонка в минутах\n",
    "user_id — идентификатор пользователя, сделавшего звонок\n",
    "Таблица messages (информация о сообщениях):\n",
    "id — уникальный номер сообщения\n",
    "message_date — дата сообщения\n",
    "user_id — идентификатор пользователя, отправившего сообщение\n",
    "Таблица internet (информация об интернет-сессиях):\n",
    "id — уникальный номер сессии\n",
    "mb_used — объём потраченного за сессию интернет-трафика (в мегабайтах)\n",
    "session_date — дата интернет-сессии\n",
    "user_id — идентификатор пользователя\n",
    "Таблица tariffs (информация о тарифах):\n",
    "tariff_name — название тарифа\n",
    "rub_monthly_fee — ежемесячная абонентская плата в рублях\n",
    "minutes_included — количество минут разговора в месяц, включённых в абонентскую плату\n",
    "messages_included — количество сообщений в месяц, включённых в абонентскую плату\n",
    "mb_per_month_included — объём интернет-трафика, включённого в абонентскую плату (в мегабайтах)\n",
    "rub_per_minute — стоимость минуты разговора сверх тарифного пакета (например, если в тарифе 100 минут разговора в месяц, то со 101 минуты будет взиматься плата)\n",
    "rub_per_message — стоимость отправки сообщения сверх тарифного пакета\n",
    "rub_per_gb — стоимость дополнительного гигабайта интернет-трафика сверх тарифного пакета (1 гигабайт = 1024 мегабайта)"
   ],
   "metadata": {
    "collapsed": false,
    "pycharm": {
     "name": "#%% md\n"
    }
   }
  }
 ],
 "metadata": {
  "kernelspec": {
   "display_name": "Python 3",
   "language": "python",
   "name": "python3"
  },
  "language_info": {
   "codemirror_mode": {
    "name": "ipython",
    "version": 2
   },
   "file_extension": ".py",
   "mimetype": "text/x-python",
   "name": "python",
   "nbconvert_exporter": "python",
   "pygments_lexer": "ipython2",
   "version": "2.7.6"
  }
 },
 "nbformat": 4,
 "nbformat_minor": 0
}