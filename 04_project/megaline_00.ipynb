{
 "cells": [
  {
   "cell_type": "markdown",
   "source": [
    "# Определяем перспективный тариф для телеком-компании «Мегалайн»"
   ],
   "metadata": {
    "collapsed": false,
    "pycharm": {
     "name": "#%% md\n"
    }
   }
  },
  {
   "cell_type": "code",
   "execution_count": 623,
   "outputs": [],
   "source": [
    "import numpy as np\n",
    "import pandas as pd\n",
    "import scipy.stats as st\n",
    "import matplotlib as mpl\n",
    "import matplotlib.pyplot as plt\n",
    "import seaborn as sns"
   ],
   "metadata": {
    "collapsed": false,
    "pycharm": {
     "name": "#%%\n"
    }
   }
  },
  {
   "cell_type": "code",
   "execution_count": 726,
   "outputs": [],
   "source": [
    "# seaborn theme\n",
    "custom_params = {'figure.figsize':(15, 7),\n",
    "                'axes.spines.right': False,\n",
    "                'axes.spines.top': False,\n",
    "                'axes.grid': False,\n",
    "                'font.sans-serif': ['Helvetica',\n",
    "                                     'Verdana',\n",
    "                                     'sans-serif']\n",
    "                }\n",
    "sns.set_theme(style=\"ticks\", rc=custom_params)\n",
    "# sns.set(rc={'figure.figsize':(15, 7)})"
   ],
   "metadata": {
    "collapsed": false,
    "pycharm": {
     "name": "#%%\n"
    }
   }
  },
  {
   "cell_type": "code",
   "execution_count": 727,
   "outputs": [],
   "source": [
    "mb_in_gb = 1024"
   ],
   "metadata": {
    "collapsed": false,
    "pycharm": {
     "name": "#%%\n"
    }
   }
  },
  {
   "cell_type": "markdown",
   "source": [
    "<div class=\"alert alert-info\" role=\"alert\">\n",
    "    <p class=\"mb-0\">В коде использую <code>display()</code>, потомучто это однозначно даёт понять что планируется вывод / печать результатов. То есть использую <code>display()</code> намеренно, хотя понимаю что можно и без него выводить данные. 👌</p>\n",
    "</div>"
   ],
   "metadata": {
    "collapsed": false,
    "pycharm": {
     "name": "#%% md\n"
    }
   }
  },
  {
   "cell_type": "markdown",
   "source": [
    "## Шаг 0. Введение"
   ],
   "metadata": {
    "collapsed": false,
    "pycharm": {
     "name": "#%% md\n"
    }
   }
  },
  {
   "cell_type": "markdown",
   "source": [
    "В этом учебном проекте сделаем предварительный анализ тарифов на выборке данных 500 пользователей «Мегалайна». Клиентам предлагают два тарифных плана: «Смарт» и «Ультра». Чтобы скорректировать рекламный бюджет, коммерческий департамент хочет понять, какой тариф приносит больше денег. Нужно проанализировать поведение клиентов и сделать вывод — какой тариф лучше."
   ],
   "metadata": {
    "collapsed": false,
    "pycharm": {
     "name": "#%% md\n"
    }
   }
  },
  {
   "cell_type": "markdown",
   "source": [
    "<hr>"
   ],
   "metadata": {
    "collapsed": false,
    "pycharm": {
     "name": "#%% md\n"
    }
   }
  },
  {
   "cell_type": "markdown",
   "source": [
    "## Шаг 1. Знакомимся с данными изучаем общую информацию"
   ],
   "metadata": {
    "collapsed": false,
    "pycharm": {
     "name": "#%% md\n"
    }
   }
  },
  {
   "cell_type": "markdown",
   "source": [
    "Откройте файл с данными и изучите общую информацию"
   ],
   "metadata": {
    "collapsed": false,
    "pycharm": {
     "name": "#%% md\n"
    }
   }
  },
  {
   "cell_type": "code",
   "execution_count": 626,
   "outputs": [],
   "source": [
    "calls_df = pd.read_csv('./datasets/calls.csv')\n",
    "internet_df = pd.read_csv('./datasets/internet.csv', index_col=0)\n",
    "messages_df = pd.read_csv('./datasets/messages.csv')\n",
    "tariffs_df = pd.read_csv('./datasets/tariffs.csv')\n",
    "users_df = pd.read_csv('./datasets/users.csv')"
   ],
   "metadata": {
    "collapsed": false,
    "pycharm": {
     "name": "#%%\n"
    }
   }
  },
  {
   "cell_type": "markdown",
   "source": [
    "### Описание данных"
   ],
   "metadata": {
    "collapsed": false,
    "pycharm": {
     "name": "#%% md\n"
    }
   }
  },
  {
   "cell_type": "markdown",
   "source": [
    "#### Таблица calls (информация о звонках):\n",
    "`id` — уникальный номер звонка\n",
    "`call_date` — дата звонка\n",
    "`duration` — длительность звонка в минутах\n",
    "`user_id` — идентификатор пользователя, сделавшего звонок"
   ],
   "metadata": {
    "collapsed": false,
    "pycharm": {
     "name": "#%% md\n"
    }
   }
  },
  {
   "cell_type": "code",
   "execution_count": 627,
   "outputs": [
    {
     "name": "stdout",
     "output_type": "stream",
     "text": [
      "<class 'pandas.core.frame.DataFrame'>\n",
      "RangeIndex: 202607 entries, 0 to 202606\n",
      "Data columns (total 4 columns):\n",
      " #   Column     Non-Null Count   Dtype  \n",
      "---  ------     --------------   -----  \n",
      " 0   id         202607 non-null  object \n",
      " 1   call_date  202607 non-null  object \n",
      " 2   duration   202607 non-null  float64\n",
      " 3   user_id    202607 non-null  int64  \n",
      "dtypes: float64(1), int64(1), object(2)\n",
      "memory usage: 6.2+ MB\n"
     ]
    },
    {
     "data": {
      "text/plain": "None"
     },
     "metadata": {},
     "output_type": "display_data"
    },
    {
     "data": {
      "text/plain": "              id   call_date  duration  user_id\n81590   1203_163  2018-11-02      9.30     1203\n174100  1430_149  2018-09-15      9.64     1430\n118228  1304_106  2018-11-21     19.61     1304",
      "text/html": "<div>\n<style scoped>\n    .dataframe tbody tr th:only-of-type {\n        vertical-align: middle;\n    }\n\n    .dataframe tbody tr th {\n        vertical-align: top;\n    }\n\n    .dataframe thead th {\n        text-align: right;\n    }\n</style>\n<table border=\"1\" class=\"dataframe\">\n  <thead>\n    <tr style=\"text-align: right;\">\n      <th></th>\n      <th>id</th>\n      <th>call_date</th>\n      <th>duration</th>\n      <th>user_id</th>\n    </tr>\n  </thead>\n  <tbody>\n    <tr>\n      <th>81590</th>\n      <td>1203_163</td>\n      <td>2018-11-02</td>\n      <td>9.30</td>\n      <td>1203</td>\n    </tr>\n    <tr>\n      <th>174100</th>\n      <td>1430_149</td>\n      <td>2018-09-15</td>\n      <td>9.64</td>\n      <td>1430</td>\n    </tr>\n    <tr>\n      <th>118228</th>\n      <td>1304_106</td>\n      <td>2018-11-21</td>\n      <td>19.61</td>\n      <td>1304</td>\n    </tr>\n  </tbody>\n</table>\n</div>"
     },
     "metadata": {},
     "output_type": "display_data"
    }
   ],
   "source": [
    "display(\n",
    "    calls_df.info(),\n",
    "    calls_df.sample(3)\n",
    ")"
   ],
   "metadata": {
    "collapsed": false,
    "pycharm": {
     "name": "#%%\n"
    }
   }
  },
  {
   "cell_type": "markdown",
   "source": [
    "#### Таблица internet (информация об интернет-сессиях):\n",
    "`id` — уникальный номер сессии\n",
    "`mb_used` — объём потраченного за сессию интернет-трафика (в мегабайтах)\n",
    "`session_date` — дата интернет-сессии\n",
    "`user_id` — идентификатор пользователя"
   ],
   "metadata": {
    "collapsed": false,
    "pycharm": {
     "name": "#%% md\n"
    }
   }
  },
  {
   "cell_type": "code",
   "execution_count": 628,
   "outputs": [
    {
     "name": "stdout",
     "output_type": "stream",
     "text": [
      "<class 'pandas.core.frame.DataFrame'>\n",
      "Int64Index: 149396 entries, 0 to 149395\n",
      "Data columns (total 4 columns):\n",
      " #   Column        Non-Null Count   Dtype  \n",
      "---  ------        --------------   -----  \n",
      " 0   id            149396 non-null  object \n",
      " 1   mb_used       149396 non-null  float64\n",
      " 2   session_date  149396 non-null  object \n",
      " 3   user_id       149396 non-null  int64  \n",
      "dtypes: float64(1), int64(1), object(2)\n",
      "memory usage: 5.7+ MB\n"
     ]
    },
    {
     "data": {
      "text/plain": "None"
     },
     "metadata": {},
     "output_type": "display_data"
    },
    {
     "data": {
      "text/plain": "              id  mb_used session_date  user_id\n117044    1394_2   472.22   2018-04-11     1394\n91925    1311_35   949.69   2018-08-11     1311\n23955   1081_250   293.05   2018-08-09     1081",
      "text/html": "<div>\n<style scoped>\n    .dataframe tbody tr th:only-of-type {\n        vertical-align: middle;\n    }\n\n    .dataframe tbody tr th {\n        vertical-align: top;\n    }\n\n    .dataframe thead th {\n        text-align: right;\n    }\n</style>\n<table border=\"1\" class=\"dataframe\">\n  <thead>\n    <tr style=\"text-align: right;\">\n      <th></th>\n      <th>id</th>\n      <th>mb_used</th>\n      <th>session_date</th>\n      <th>user_id</th>\n    </tr>\n  </thead>\n  <tbody>\n    <tr>\n      <th>117044</th>\n      <td>1394_2</td>\n      <td>472.22</td>\n      <td>2018-04-11</td>\n      <td>1394</td>\n    </tr>\n    <tr>\n      <th>91925</th>\n      <td>1311_35</td>\n      <td>949.69</td>\n      <td>2018-08-11</td>\n      <td>1311</td>\n    </tr>\n    <tr>\n      <th>23955</th>\n      <td>1081_250</td>\n      <td>293.05</td>\n      <td>2018-08-09</td>\n      <td>1081</td>\n    </tr>\n  </tbody>\n</table>\n</div>"
     },
     "metadata": {},
     "output_type": "display_data"
    }
   ],
   "source": [
    "display(\n",
    "    internet_df.info(),\n",
    "    internet_df.sample(3),\n",
    "    # len(list(internet_df['id'].unique()))\n",
    ")"
   ],
   "metadata": {
    "collapsed": false,
    "pycharm": {
     "name": "#%%\n"
    }
   }
  },
  {
   "cell_type": "markdown",
   "source": [
    "#### Таблица messages (информация о сообщениях):\n",
    "`id` — уникальный номер сообщения\n",
    "`message_date` — дата сообщения\n",
    "`user_id` — идентификатор пользователя, отправившего сообщение"
   ],
   "metadata": {
    "collapsed": false,
    "pycharm": {
     "name": "#%% md\n"
    }
   }
  },
  {
   "cell_type": "code",
   "execution_count": 629,
   "outputs": [
    {
     "name": "stdout",
     "output_type": "stream",
     "text": [
      "<class 'pandas.core.frame.DataFrame'>\n",
      "RangeIndex: 123036 entries, 0 to 123035\n",
      "Data columns (total 3 columns):\n",
      " #   Column        Non-Null Count   Dtype \n",
      "---  ------        --------------   ----- \n",
      " 0   id            123036 non-null  object\n",
      " 1   message_date  123036 non-null  object\n",
      " 2   user_id       123036 non-null  int64 \n",
      "dtypes: int64(1), object(2)\n",
      "memory usage: 2.8+ MB\n"
     ]
    },
    {
     "data": {
      "text/plain": "None"
     },
     "metadata": {},
     "output_type": "display_data"
    },
    {
     "data": {
      "text/plain": "              id message_date  user_id\n102588    1418_6   2018-10-28     1418\n39696   1168_474   2018-11-05     1168\n15263     1066_5   2018-09-25     1066",
      "text/html": "<div>\n<style scoped>\n    .dataframe tbody tr th:only-of-type {\n        vertical-align: middle;\n    }\n\n    .dataframe tbody tr th {\n        vertical-align: top;\n    }\n\n    .dataframe thead th {\n        text-align: right;\n    }\n</style>\n<table border=\"1\" class=\"dataframe\">\n  <thead>\n    <tr style=\"text-align: right;\">\n      <th></th>\n      <th>id</th>\n      <th>message_date</th>\n      <th>user_id</th>\n    </tr>\n  </thead>\n  <tbody>\n    <tr>\n      <th>102588</th>\n      <td>1418_6</td>\n      <td>2018-10-28</td>\n      <td>1418</td>\n    </tr>\n    <tr>\n      <th>39696</th>\n      <td>1168_474</td>\n      <td>2018-11-05</td>\n      <td>1168</td>\n    </tr>\n    <tr>\n      <th>15263</th>\n      <td>1066_5</td>\n      <td>2018-09-25</td>\n      <td>1066</td>\n    </tr>\n  </tbody>\n</table>\n</div>"
     },
     "metadata": {},
     "output_type": "display_data"
    }
   ],
   "source": [
    "display(\n",
    "    messages_df.info(),\n",
    "    messages_df.sample(3),\n",
    ")"
   ],
   "metadata": {
    "collapsed": false,
    "pycharm": {
     "name": "#%%\n"
    }
   }
  },
  {
   "cell_type": "markdown",
   "source": [
    "#### Таблица tariffs (информация о тарифах):\n",
    "`tariff_name` — название тарифа\n",
    "`rub_monthly_fee` — ежемесячная абонентская плата в рублях\n",
    "`minutes_included` — количество минут разговора в месяц, включённых в абонентскую плату\n",
    "`messages_included` — количество сообщений в месяц, включённых в абонентскую плату\n",
    "`mb_per_month_included` — объём интернет-трафика, включённого в абонентскую плату (в мегабайтах)\n",
    "`rub_per_minute` — стоимость минуты разговора сверх тарифного пакета (например, если в тарифе 100 минут разговора в месяц, то со 101 минуты будет взиматься плата)\n",
    "`rub_per_message` — стоимость отправки сообщения сверх тарифного пакета\n",
    "`rub_per_gb` — стоимость дополнительного гигабайта интернет-трафика сверх тарифного пакета (1 гигабайт = 1024 мегабайта)"
   ],
   "metadata": {
    "collapsed": false,
    "pycharm": {
     "name": "#%% md\n"
    }
   }
  },
  {
   "cell_type": "code",
   "execution_count": 630,
   "outputs": [
    {
     "data": {
      "text/plain": "   messages_included  mb_per_month_included  minutes_included  \\\n0                 50                  15360               500   \n1               1000                  30720              3000   \n\n   rub_monthly_fee  rub_per_gb  rub_per_message  rub_per_minute tariff_name  \n0              550         200                3               3       smart  \n1             1950         150                1               1       ultra  ",
      "text/html": "<div>\n<style scoped>\n    .dataframe tbody tr th:only-of-type {\n        vertical-align: middle;\n    }\n\n    .dataframe tbody tr th {\n        vertical-align: top;\n    }\n\n    .dataframe thead th {\n        text-align: right;\n    }\n</style>\n<table border=\"1\" class=\"dataframe\">\n  <thead>\n    <tr style=\"text-align: right;\">\n      <th></th>\n      <th>messages_included</th>\n      <th>mb_per_month_included</th>\n      <th>minutes_included</th>\n      <th>rub_monthly_fee</th>\n      <th>rub_per_gb</th>\n      <th>rub_per_message</th>\n      <th>rub_per_minute</th>\n      <th>tariff_name</th>\n    </tr>\n  </thead>\n  <tbody>\n    <tr>\n      <th>0</th>\n      <td>50</td>\n      <td>15360</td>\n      <td>500</td>\n      <td>550</td>\n      <td>200</td>\n      <td>3</td>\n      <td>3</td>\n      <td>smart</td>\n    </tr>\n    <tr>\n      <th>1</th>\n      <td>1000</td>\n      <td>30720</td>\n      <td>3000</td>\n      <td>1950</td>\n      <td>150</td>\n      <td>1</td>\n      <td>1</td>\n      <td>ultra</td>\n    </tr>\n  </tbody>\n</table>\n</div>"
     },
     "metadata": {},
     "output_type": "display_data"
    },
    {
     "data": {
      "text/plain": "0    smart\n1    ultra\nName: tariff_name, dtype: object"
     },
     "metadata": {},
     "output_type": "display_data"
    }
   ],
   "source": [
    "display(\n",
    "    tariffs_df,\n",
    "    tariffs_df['tariff_name'],\n",
    ")"
   ],
   "metadata": {
    "collapsed": false,
    "pycharm": {
     "name": "#%%\n"
    }
   }
  },
  {
   "cell_type": "markdown",
   "source": [
    "#### Таблица users (информация о пользователях):\n",
    "`user_id` — уникальный идентификатор пользователя\n",
    "`first_name` — имя пользователя\n",
    "`last_name` — фамилия пользователя\n",
    "`age` — возраст пользователя (годы)\n",
    "`reg_date` — дата подключения тарифа (день, месяц, год)\n",
    "`churn_date` — дата прекращения пользования тарифом (если значение пропущено, то тариф ещё действовал на момент выгрузки данных)\n",
    "`city` — город проживания пользователя\n",
    "`tariff` — название тарифного плана"
   ],
   "metadata": {
    "collapsed": false,
    "pycharm": {
     "name": "#%% md\n"
    }
   }
  },
  {
   "cell_type": "code",
   "execution_count": 631,
   "outputs": [
    {
     "name": "stdout",
     "output_type": "stream",
     "text": [
      "<class 'pandas.core.frame.DataFrame'>\n",
      "RangeIndex: 500 entries, 0 to 499\n",
      "Data columns (total 8 columns):\n",
      " #   Column      Non-Null Count  Dtype \n",
      "---  ------      --------------  ----- \n",
      " 0   user_id     500 non-null    int64 \n",
      " 1   age         500 non-null    int64 \n",
      " 2   churn_date  38 non-null     object\n",
      " 3   city        500 non-null    object\n",
      " 4   first_name  500 non-null    object\n",
      " 5   last_name   500 non-null    object\n",
      " 6   reg_date    500 non-null    object\n",
      " 7   tariff      500 non-null    object\n",
      "dtypes: int64(2), object(6)\n",
      "memory usage: 31.4+ KB\n"
     ]
    },
    {
     "data": {
      "text/plain": "None"
     },
     "metadata": {},
     "output_type": "display_data"
    },
    {
     "data": {
      "text/plain": "     user_id  age churn_date       city first_name   last_name    reg_date  \\\n285     1285   44        NaN  Краснодар       Ефим  Амельченко  2018-02-20   \n122     1122   60        NaN    Воронеж     Иулиан    Булгаков  2018-11-07   \n430     1430   22        NaN      Тверь     Андрей     Авроров  2018-04-23   \n\n    tariff  \n285  smart  \n122  ultra  \n430  ultra  ",
      "text/html": "<div>\n<style scoped>\n    .dataframe tbody tr th:only-of-type {\n        vertical-align: middle;\n    }\n\n    .dataframe tbody tr th {\n        vertical-align: top;\n    }\n\n    .dataframe thead th {\n        text-align: right;\n    }\n</style>\n<table border=\"1\" class=\"dataframe\">\n  <thead>\n    <tr style=\"text-align: right;\">\n      <th></th>\n      <th>user_id</th>\n      <th>age</th>\n      <th>churn_date</th>\n      <th>city</th>\n      <th>first_name</th>\n      <th>last_name</th>\n      <th>reg_date</th>\n      <th>tariff</th>\n    </tr>\n  </thead>\n  <tbody>\n    <tr>\n      <th>285</th>\n      <td>1285</td>\n      <td>44</td>\n      <td>NaN</td>\n      <td>Краснодар</td>\n      <td>Ефим</td>\n      <td>Амельченко</td>\n      <td>2018-02-20</td>\n      <td>smart</td>\n    </tr>\n    <tr>\n      <th>122</th>\n      <td>1122</td>\n      <td>60</td>\n      <td>NaN</td>\n      <td>Воронеж</td>\n      <td>Иулиан</td>\n      <td>Булгаков</td>\n      <td>2018-11-07</td>\n      <td>ultra</td>\n    </tr>\n    <tr>\n      <th>430</th>\n      <td>1430</td>\n      <td>22</td>\n      <td>NaN</td>\n      <td>Тверь</td>\n      <td>Андрей</td>\n      <td>Авроров</td>\n      <td>2018-04-23</td>\n      <td>ultra</td>\n    </tr>\n  </tbody>\n</table>\n</div>"
     },
     "metadata": {},
     "output_type": "display_data"
    }
   ],
   "source": [
    "display(\n",
    "    users_df.info(),\n",
    "    users_df.sample(3),\n",
    ")"
   ],
   "metadata": {
    "collapsed": false,
    "pycharm": {
     "name": "#%%\n"
    }
   }
  },
  {
   "cell_type": "code",
   "execution_count": 631,
   "outputs": [],
   "source": [],
   "metadata": {
    "collapsed": false,
    "pycharm": {
     "name": "#%%\n"
    }
   }
  },
  {
   "cell_type": "markdown",
   "source": [
    "<hr>"
   ],
   "metadata": {
    "collapsed": false,
    "pycharm": {
     "name": "#%% md\n"
    }
   }
  },
  {
   "cell_type": "markdown",
   "source": [
    "## Шаг 2. Подготавливаем данные"
   ],
   "metadata": {
    "collapsed": false,
    "pycharm": {
     "name": "#%% md\n"
    }
   }
  },
  {
   "cell_type": "markdown",
   "source": [],
   "metadata": {
    "collapsed": false,
    "pycharm": {
     "name": "#%% md\n"
    }
   }
  },
  {
   "cell_type": "markdown",
   "source": [
    "calls_df"
   ],
   "metadata": {
    "collapsed": false,
    "pycharm": {
     "name": "#%% md\n"
    }
   }
  },
  {
   "cell_type": "markdown",
   "source": [
    "internet_df"
   ],
   "metadata": {
    "collapsed": false,
    "pycharm": {
     "name": "#%% md\n"
    }
   }
  },
  {
   "cell_type": "markdown",
   "source": [
    "messages_df"
   ],
   "metadata": {
    "collapsed": false,
    "pycharm": {
     "name": "#%% md\n"
    }
   }
  },
  {
   "cell_type": "markdown",
   "source": [
    "tariffs_df"
   ],
   "metadata": {
    "collapsed": false,
    "pycharm": {
     "name": "#%% md\n"
    }
   }
  },
  {
   "cell_type": "code",
   "execution_count": 632,
   "outputs": [
    {
     "data": {
      "text/plain": "     user_id  age  churn_date         city first_name  last_name    reg_date  \\\n0       1000   52         NaN    Краснодар     Рафаил  Верещагин  2018-05-25   \n1       1001   41         NaN       Москва       Иван       Ежов  2018-11-01   \n2       1002   59         NaN  Стерлитамак    Евгений  Абрамович  2018-06-17   \n3       1003   23         NaN       Москва      Белла   Белякова  2018-08-17   \n4       1004   68         NaN  Новокузнецк    Татьяна   Авдеенко  2018-05-14   \n..       ...  ...         ...          ...        ...        ...         ...   \n495     1495   65         NaN      Иркутск  Авксентий      Фокин  2018-08-28   \n496     1496   36         NaN      Вологда     Трифон     Блохин  2018-01-27   \n497     1497   32         NaN    Челябинск   Каролина     Агеева  2018-10-09   \n498     1498   68  2018-10-25  Владикавказ   Всеволод    Акимчин  2018-07-19   \n499     1499   35         NaN        Пермь     Гектор   Корнилов  2018-09-27   \n\n    tariff  \n0    ultra  \n1    smart  \n2    smart  \n3    ultra  \n4    ultra  \n..     ...  \n495  ultra  \n496  smart  \n497  smart  \n498  smart  \n499  smart  \n\n[500 rows x 8 columns]",
      "text/html": "<div>\n<style scoped>\n    .dataframe tbody tr th:only-of-type {\n        vertical-align: middle;\n    }\n\n    .dataframe tbody tr th {\n        vertical-align: top;\n    }\n\n    .dataframe thead th {\n        text-align: right;\n    }\n</style>\n<table border=\"1\" class=\"dataframe\">\n  <thead>\n    <tr style=\"text-align: right;\">\n      <th></th>\n      <th>user_id</th>\n      <th>age</th>\n      <th>churn_date</th>\n      <th>city</th>\n      <th>first_name</th>\n      <th>last_name</th>\n      <th>reg_date</th>\n      <th>tariff</th>\n    </tr>\n  </thead>\n  <tbody>\n    <tr>\n      <th>0</th>\n      <td>1000</td>\n      <td>52</td>\n      <td>NaN</td>\n      <td>Краснодар</td>\n      <td>Рафаил</td>\n      <td>Верещагин</td>\n      <td>2018-05-25</td>\n      <td>ultra</td>\n    </tr>\n    <tr>\n      <th>1</th>\n      <td>1001</td>\n      <td>41</td>\n      <td>NaN</td>\n      <td>Москва</td>\n      <td>Иван</td>\n      <td>Ежов</td>\n      <td>2018-11-01</td>\n      <td>smart</td>\n    </tr>\n    <tr>\n      <th>2</th>\n      <td>1002</td>\n      <td>59</td>\n      <td>NaN</td>\n      <td>Стерлитамак</td>\n      <td>Евгений</td>\n      <td>Абрамович</td>\n      <td>2018-06-17</td>\n      <td>smart</td>\n    </tr>\n    <tr>\n      <th>3</th>\n      <td>1003</td>\n      <td>23</td>\n      <td>NaN</td>\n      <td>Москва</td>\n      <td>Белла</td>\n      <td>Белякова</td>\n      <td>2018-08-17</td>\n      <td>ultra</td>\n    </tr>\n    <tr>\n      <th>4</th>\n      <td>1004</td>\n      <td>68</td>\n      <td>NaN</td>\n      <td>Новокузнецк</td>\n      <td>Татьяна</td>\n      <td>Авдеенко</td>\n      <td>2018-05-14</td>\n      <td>ultra</td>\n    </tr>\n    <tr>\n      <th>...</th>\n      <td>...</td>\n      <td>...</td>\n      <td>...</td>\n      <td>...</td>\n      <td>...</td>\n      <td>...</td>\n      <td>...</td>\n      <td>...</td>\n    </tr>\n    <tr>\n      <th>495</th>\n      <td>1495</td>\n      <td>65</td>\n      <td>NaN</td>\n      <td>Иркутск</td>\n      <td>Авксентий</td>\n      <td>Фокин</td>\n      <td>2018-08-28</td>\n      <td>ultra</td>\n    </tr>\n    <tr>\n      <th>496</th>\n      <td>1496</td>\n      <td>36</td>\n      <td>NaN</td>\n      <td>Вологда</td>\n      <td>Трифон</td>\n      <td>Блохин</td>\n      <td>2018-01-27</td>\n      <td>smart</td>\n    </tr>\n    <tr>\n      <th>497</th>\n      <td>1497</td>\n      <td>32</td>\n      <td>NaN</td>\n      <td>Челябинск</td>\n      <td>Каролина</td>\n      <td>Агеева</td>\n      <td>2018-10-09</td>\n      <td>smart</td>\n    </tr>\n    <tr>\n      <th>498</th>\n      <td>1498</td>\n      <td>68</td>\n      <td>2018-10-25</td>\n      <td>Владикавказ</td>\n      <td>Всеволод</td>\n      <td>Акимчин</td>\n      <td>2018-07-19</td>\n      <td>smart</td>\n    </tr>\n    <tr>\n      <th>499</th>\n      <td>1499</td>\n      <td>35</td>\n      <td>NaN</td>\n      <td>Пермь</td>\n      <td>Гектор</td>\n      <td>Корнилов</td>\n      <td>2018-09-27</td>\n      <td>smart</td>\n    </tr>\n  </tbody>\n</table>\n<p>500 rows × 8 columns</p>\n</div>"
     },
     "execution_count": 632,
     "metadata": {},
     "output_type": "execute_result"
    }
   ],
   "source": [
    "users_df"
   ],
   "metadata": {
    "collapsed": false,
    "pycharm": {
     "name": "#%%\n"
    }
   }
  },
  {
   "cell_type": "code",
   "execution_count": 632,
   "outputs": [],
   "source": [],
   "metadata": {
    "collapsed": false,
    "pycharm": {
     "name": "#%%\n"
    }
   }
  },
  {
   "cell_type": "markdown",
   "source": [
    "calls_df\n",
    "internet_df\n",
    "messages_df\n",
    "tariffs_df\n",
    "users_df"
   ],
   "metadata": {
    "collapsed": false,
    "pycharm": {
     "name": "#%% md\n"
    }
   }
  },
  {
   "cell_type": "markdown",
   "source": [
    "### U"
   ],
   "metadata": {
    "collapsed": false,
    "pycharm": {
     "name": "#%% md\n"
    }
   }
  },
  {
   "cell_type": "raw",
   "source": [
    "display(\n",
    "    sorted(users_df['city'].unique())\n",
    ")"
   ],
   "metadata": {
    "collapsed": false,
    "pycharm": {
     "name": "#%% raw\n"
    }
   }
  },
  {
   "cell_type": "code",
   "execution_count": 633,
   "outputs": [
    {
     "data": {
      "text/plain": "     user_id  age  churn_date              city  first_name   last_name  \\\n19      1019   63  2018-10-05             Томск     Игнатий     Круглов   \n20      1020   59  2018-12-18              Чита        Тала     Костина   \n34      1034   66  2018-11-21           Вологда   Святослав    Бондарев   \n50      1050   44  2018-10-03            Тюмень      Рузана    Аничкина   \n51      1051   37  2018-10-14            Москва    Кристина      Сомова   \n56      1056   73  2018-10-14           Иркутск    Радислав    Артемьев   \n62      1062   24  2018-12-09            Москва   Александр    Коршунов   \n63      1063   45  2018-12-11              Тула       Таира     Климова   \n64      1064   55  2018-12-26            Якутск      Динара     Алфеева   \n65      1065   53  2018-12-09            Москва        Роза    Игнатова   \n71      1071   20  2018-08-31              Омск      Гектор     Чумаков   \n90      1090   54  2018-12-03         Череповец   Екатерина   Астафьева   \n128     1128   51  2018-12-23          Волжский      Ксения      Агаева   \n161     1161   65  2018-11-07  Набережные Челны     Татьяна  Голованова   \n163     1163   21  2018-12-16            Москва         Лев  Вишневский   \n191     1191   64  2018-10-03  Набережные Челны   Александр   Акиндинов   \n201     1201   32  2018-12-03            Москва    Геннадий     Веселов   \n206     1206   35  2018-12-20            Москва       Елена    Шарапова   \n232     1232   60  2018-11-30             Томск    Виктория      Ларина   \n242     1242   39  2018-12-21         Хабаровск       Радим    Федосеев   \n254     1254   75  2018-08-17            Москва  Александра    Сухарева   \n255     1255   40  2018-09-02           Саранск    Серафима  Пономарева   \n265     1265   24  2018-10-04              Омск       Радим      Адамов   \n271     1271   69  2018-11-13         Челябинск     Аурелия      Чижова   \n293     1293   39  2018-11-22   Санкт-Петербург       Эдита    Дубинина   \n343     1343   30  2018-10-28          Кострома       Анита  Верещагина   \n353     1353   57  2018-11-26   Санкт-Петербург    Доминика    Анищенко   \n355     1355   33  2018-11-27             Киров        Сара  Абрикосова   \n367     1367   43  2018-11-16            Москва    Всеволод   Антоненко   \n370     1370   48  2018-10-27      Новороссийск      Гектор      Сысоев   \n371     1371   50  2018-12-30              Омск      Ириней    Трофимов   \n392     1392   54  2018-09-27         Челябинск        Алла    Беликова   \n399     1399   31  2018-12-25               Уфа       Алиса    Абрашина   \n416     1416   50  2018-12-14   Санкт-Петербург     Валерия      Ёлчина   \n422     1422   60  2018-12-21            Москва       Клара    Устинова   \n438     1438   24  2018-12-24      Екатеринбург     Нателла    Бородина   \n480     1480   29  2018-09-26       Новокузнецк      Гелена  Емельянова   \n498     1498   68  2018-10-25       Владикавказ    Всеволод     Акимчин   \n\n       reg_date tariff  \n19   2018-05-16  ultra  \n20   2018-10-22  smart  \n34   2018-08-26  smart  \n50   2018-06-16  ultra  \n51   2018-05-28  smart  \n56   2018-04-13  smart  \n62   2018-11-16  smart  \n63   2018-04-12  ultra  \n64   2018-03-17  smart  \n65   2018-03-08  smart  \n71   2018-01-09  smart  \n90   2018-10-11  ultra  \n128  2018-12-15  ultra  \n161  2018-07-03  smart  \n163  2018-11-03  smart  \n191  2018-06-30  smart  \n201  2018-08-06  ultra  \n206  2018-11-03  smart  \n232  2018-10-07  smart  \n242  2018-11-18  smart  \n254  2018-01-04  ultra  \n255  2018-02-19  ultra  \n265  2018-06-24  ultra  \n271  2018-07-14  ultra  \n293  2018-09-05  smart  \n343  2018-08-15  ultra  \n353  2018-04-22  smart  \n355  2018-07-21  smart  \n367  2018-09-14  ultra  \n370  2018-02-06  smart  \n371  2018-12-25  smart  \n392  2018-02-27  ultra  \n399  2018-11-06  ultra  \n416  2018-07-16  ultra  \n422  2018-10-12  smart  \n438  2018-10-05  smart  \n480  2018-02-14  smart  \n498  2018-07-19  smart  ",
      "text/html": "<div>\n<style scoped>\n    .dataframe tbody tr th:only-of-type {\n        vertical-align: middle;\n    }\n\n    .dataframe tbody tr th {\n        vertical-align: top;\n    }\n\n    .dataframe thead th {\n        text-align: right;\n    }\n</style>\n<table border=\"1\" class=\"dataframe\">\n  <thead>\n    <tr style=\"text-align: right;\">\n      <th></th>\n      <th>user_id</th>\n      <th>age</th>\n      <th>churn_date</th>\n      <th>city</th>\n      <th>first_name</th>\n      <th>last_name</th>\n      <th>reg_date</th>\n      <th>tariff</th>\n    </tr>\n  </thead>\n  <tbody>\n    <tr>\n      <th>19</th>\n      <td>1019</td>\n      <td>63</td>\n      <td>2018-10-05</td>\n      <td>Томск</td>\n      <td>Игнатий</td>\n      <td>Круглов</td>\n      <td>2018-05-16</td>\n      <td>ultra</td>\n    </tr>\n    <tr>\n      <th>20</th>\n      <td>1020</td>\n      <td>59</td>\n      <td>2018-12-18</td>\n      <td>Чита</td>\n      <td>Тала</td>\n      <td>Костина</td>\n      <td>2018-10-22</td>\n      <td>smart</td>\n    </tr>\n    <tr>\n      <th>34</th>\n      <td>1034</td>\n      <td>66</td>\n      <td>2018-11-21</td>\n      <td>Вологда</td>\n      <td>Святослав</td>\n      <td>Бондарев</td>\n      <td>2018-08-26</td>\n      <td>smart</td>\n    </tr>\n    <tr>\n      <th>50</th>\n      <td>1050</td>\n      <td>44</td>\n      <td>2018-10-03</td>\n      <td>Тюмень</td>\n      <td>Рузана</td>\n      <td>Аничкина</td>\n      <td>2018-06-16</td>\n      <td>ultra</td>\n    </tr>\n    <tr>\n      <th>51</th>\n      <td>1051</td>\n      <td>37</td>\n      <td>2018-10-14</td>\n      <td>Москва</td>\n      <td>Кристина</td>\n      <td>Сомова</td>\n      <td>2018-05-28</td>\n      <td>smart</td>\n    </tr>\n    <tr>\n      <th>56</th>\n      <td>1056</td>\n      <td>73</td>\n      <td>2018-10-14</td>\n      <td>Иркутск</td>\n      <td>Радислав</td>\n      <td>Артемьев</td>\n      <td>2018-04-13</td>\n      <td>smart</td>\n    </tr>\n    <tr>\n      <th>62</th>\n      <td>1062</td>\n      <td>24</td>\n      <td>2018-12-09</td>\n      <td>Москва</td>\n      <td>Александр</td>\n      <td>Коршунов</td>\n      <td>2018-11-16</td>\n      <td>smart</td>\n    </tr>\n    <tr>\n      <th>63</th>\n      <td>1063</td>\n      <td>45</td>\n      <td>2018-12-11</td>\n      <td>Тула</td>\n      <td>Таира</td>\n      <td>Климова</td>\n      <td>2018-04-12</td>\n      <td>ultra</td>\n    </tr>\n    <tr>\n      <th>64</th>\n      <td>1064</td>\n      <td>55</td>\n      <td>2018-12-26</td>\n      <td>Якутск</td>\n      <td>Динара</td>\n      <td>Алфеева</td>\n      <td>2018-03-17</td>\n      <td>smart</td>\n    </tr>\n    <tr>\n      <th>65</th>\n      <td>1065</td>\n      <td>53</td>\n      <td>2018-12-09</td>\n      <td>Москва</td>\n      <td>Роза</td>\n      <td>Игнатова</td>\n      <td>2018-03-08</td>\n      <td>smart</td>\n    </tr>\n    <tr>\n      <th>71</th>\n      <td>1071</td>\n      <td>20</td>\n      <td>2018-08-31</td>\n      <td>Омск</td>\n      <td>Гектор</td>\n      <td>Чумаков</td>\n      <td>2018-01-09</td>\n      <td>smart</td>\n    </tr>\n    <tr>\n      <th>90</th>\n      <td>1090</td>\n      <td>54</td>\n      <td>2018-12-03</td>\n      <td>Череповец</td>\n      <td>Екатерина</td>\n      <td>Астафьева</td>\n      <td>2018-10-11</td>\n      <td>ultra</td>\n    </tr>\n    <tr>\n      <th>128</th>\n      <td>1128</td>\n      <td>51</td>\n      <td>2018-12-23</td>\n      <td>Волжский</td>\n      <td>Ксения</td>\n      <td>Агаева</td>\n      <td>2018-12-15</td>\n      <td>ultra</td>\n    </tr>\n    <tr>\n      <th>161</th>\n      <td>1161</td>\n      <td>65</td>\n      <td>2018-11-07</td>\n      <td>Набережные Челны</td>\n      <td>Татьяна</td>\n      <td>Голованова</td>\n      <td>2018-07-03</td>\n      <td>smart</td>\n    </tr>\n    <tr>\n      <th>163</th>\n      <td>1163</td>\n      <td>21</td>\n      <td>2018-12-16</td>\n      <td>Москва</td>\n      <td>Лев</td>\n      <td>Вишневский</td>\n      <td>2018-11-03</td>\n      <td>smart</td>\n    </tr>\n    <tr>\n      <th>191</th>\n      <td>1191</td>\n      <td>64</td>\n      <td>2018-10-03</td>\n      <td>Набережные Челны</td>\n      <td>Александр</td>\n      <td>Акиндинов</td>\n      <td>2018-06-30</td>\n      <td>smart</td>\n    </tr>\n    <tr>\n      <th>201</th>\n      <td>1201</td>\n      <td>32</td>\n      <td>2018-12-03</td>\n      <td>Москва</td>\n      <td>Геннадий</td>\n      <td>Веселов</td>\n      <td>2018-08-06</td>\n      <td>ultra</td>\n    </tr>\n    <tr>\n      <th>206</th>\n      <td>1206</td>\n      <td>35</td>\n      <td>2018-12-20</td>\n      <td>Москва</td>\n      <td>Елена</td>\n      <td>Шарапова</td>\n      <td>2018-11-03</td>\n      <td>smart</td>\n    </tr>\n    <tr>\n      <th>232</th>\n      <td>1232</td>\n      <td>60</td>\n      <td>2018-11-30</td>\n      <td>Томск</td>\n      <td>Виктория</td>\n      <td>Ларина</td>\n      <td>2018-10-07</td>\n      <td>smart</td>\n    </tr>\n    <tr>\n      <th>242</th>\n      <td>1242</td>\n      <td>39</td>\n      <td>2018-12-21</td>\n      <td>Хабаровск</td>\n      <td>Радим</td>\n      <td>Федосеев</td>\n      <td>2018-11-18</td>\n      <td>smart</td>\n    </tr>\n    <tr>\n      <th>254</th>\n      <td>1254</td>\n      <td>75</td>\n      <td>2018-08-17</td>\n      <td>Москва</td>\n      <td>Александра</td>\n      <td>Сухарева</td>\n      <td>2018-01-04</td>\n      <td>ultra</td>\n    </tr>\n    <tr>\n      <th>255</th>\n      <td>1255</td>\n      <td>40</td>\n      <td>2018-09-02</td>\n      <td>Саранск</td>\n      <td>Серафима</td>\n      <td>Пономарева</td>\n      <td>2018-02-19</td>\n      <td>ultra</td>\n    </tr>\n    <tr>\n      <th>265</th>\n      <td>1265</td>\n      <td>24</td>\n      <td>2018-10-04</td>\n      <td>Омск</td>\n      <td>Радим</td>\n      <td>Адамов</td>\n      <td>2018-06-24</td>\n      <td>ultra</td>\n    </tr>\n    <tr>\n      <th>271</th>\n      <td>1271</td>\n      <td>69</td>\n      <td>2018-11-13</td>\n      <td>Челябинск</td>\n      <td>Аурелия</td>\n      <td>Чижова</td>\n      <td>2018-07-14</td>\n      <td>ultra</td>\n    </tr>\n    <tr>\n      <th>293</th>\n      <td>1293</td>\n      <td>39</td>\n      <td>2018-11-22</td>\n      <td>Санкт-Петербург</td>\n      <td>Эдита</td>\n      <td>Дубинина</td>\n      <td>2018-09-05</td>\n      <td>smart</td>\n    </tr>\n    <tr>\n      <th>343</th>\n      <td>1343</td>\n      <td>30</td>\n      <td>2018-10-28</td>\n      <td>Кострома</td>\n      <td>Анита</td>\n      <td>Верещагина</td>\n      <td>2018-08-15</td>\n      <td>ultra</td>\n    </tr>\n    <tr>\n      <th>353</th>\n      <td>1353</td>\n      <td>57</td>\n      <td>2018-11-26</td>\n      <td>Санкт-Петербург</td>\n      <td>Доминика</td>\n      <td>Анищенко</td>\n      <td>2018-04-22</td>\n      <td>smart</td>\n    </tr>\n    <tr>\n      <th>355</th>\n      <td>1355</td>\n      <td>33</td>\n      <td>2018-11-27</td>\n      <td>Киров</td>\n      <td>Сара</td>\n      <td>Абрикосова</td>\n      <td>2018-07-21</td>\n      <td>smart</td>\n    </tr>\n    <tr>\n      <th>367</th>\n      <td>1367</td>\n      <td>43</td>\n      <td>2018-11-16</td>\n      <td>Москва</td>\n      <td>Всеволод</td>\n      <td>Антоненко</td>\n      <td>2018-09-14</td>\n      <td>ultra</td>\n    </tr>\n    <tr>\n      <th>370</th>\n      <td>1370</td>\n      <td>48</td>\n      <td>2018-10-27</td>\n      <td>Новороссийск</td>\n      <td>Гектор</td>\n      <td>Сысоев</td>\n      <td>2018-02-06</td>\n      <td>smart</td>\n    </tr>\n    <tr>\n      <th>371</th>\n      <td>1371</td>\n      <td>50</td>\n      <td>2018-12-30</td>\n      <td>Омск</td>\n      <td>Ириней</td>\n      <td>Трофимов</td>\n      <td>2018-12-25</td>\n      <td>smart</td>\n    </tr>\n    <tr>\n      <th>392</th>\n      <td>1392</td>\n      <td>54</td>\n      <td>2018-09-27</td>\n      <td>Челябинск</td>\n      <td>Алла</td>\n      <td>Беликова</td>\n      <td>2018-02-27</td>\n      <td>ultra</td>\n    </tr>\n    <tr>\n      <th>399</th>\n      <td>1399</td>\n      <td>31</td>\n      <td>2018-12-25</td>\n      <td>Уфа</td>\n      <td>Алиса</td>\n      <td>Абрашина</td>\n      <td>2018-11-06</td>\n      <td>ultra</td>\n    </tr>\n    <tr>\n      <th>416</th>\n      <td>1416</td>\n      <td>50</td>\n      <td>2018-12-14</td>\n      <td>Санкт-Петербург</td>\n      <td>Валерия</td>\n      <td>Ёлчина</td>\n      <td>2018-07-16</td>\n      <td>ultra</td>\n    </tr>\n    <tr>\n      <th>422</th>\n      <td>1422</td>\n      <td>60</td>\n      <td>2018-12-21</td>\n      <td>Москва</td>\n      <td>Клара</td>\n      <td>Устинова</td>\n      <td>2018-10-12</td>\n      <td>smart</td>\n    </tr>\n    <tr>\n      <th>438</th>\n      <td>1438</td>\n      <td>24</td>\n      <td>2018-12-24</td>\n      <td>Екатеринбург</td>\n      <td>Нателла</td>\n      <td>Бородина</td>\n      <td>2018-10-05</td>\n      <td>smart</td>\n    </tr>\n    <tr>\n      <th>480</th>\n      <td>1480</td>\n      <td>29</td>\n      <td>2018-09-26</td>\n      <td>Новокузнецк</td>\n      <td>Гелена</td>\n      <td>Емельянова</td>\n      <td>2018-02-14</td>\n      <td>smart</td>\n    </tr>\n    <tr>\n      <th>498</th>\n      <td>1498</td>\n      <td>68</td>\n      <td>2018-10-25</td>\n      <td>Владикавказ</td>\n      <td>Всеволод</td>\n      <td>Акимчин</td>\n      <td>2018-07-19</td>\n      <td>smart</td>\n    </tr>\n  </tbody>\n</table>\n</div>"
     },
     "metadata": {},
     "output_type": "display_data"
    }
   ],
   "source": [
    "display(\n",
    "    users_df.loc[users_df['churn_date'].notna()]\n",
    ")"
   ],
   "metadata": {
    "collapsed": false,
    "pycharm": {
     "name": "#%%\n"
    }
   }
  },
  {
   "cell_type": "markdown",
   "source": [
    "### Дубликаты"
   ],
   "metadata": {
    "collapsed": false,
    "pycharm": {
     "name": "#%% md\n"
    }
   }
  },
  {
   "cell_type": "code",
   "execution_count": 634,
   "outputs": [
    {
     "data": {
      "text/plain": "id           0\ncall_date    0\nduration     0\nuser_id      0\ndtype: int64"
     },
     "metadata": {},
     "output_type": "display_data"
    }
   ],
   "source": [
    "display(\n",
    "    calls_df.loc[calls_df.duplicated()].count()\n",
    ")"
   ],
   "metadata": {
    "collapsed": false,
    "pycharm": {
     "name": "#%%\n"
    }
   }
  },
  {
   "cell_type": "code",
   "execution_count": 635,
   "outputs": [
    {
     "data": {
      "text/plain": "id              0\nmb_used         0\nsession_date    0\nuser_id         0\ndtype: int64"
     },
     "metadata": {},
     "output_type": "display_data"
    }
   ],
   "source": [
    "display(\n",
    "    internet_df.loc[internet_df.duplicated()].count()\n",
    ")"
   ],
   "metadata": {
    "collapsed": false,
    "pycharm": {
     "name": "#%%\n"
    }
   }
  },
  {
   "cell_type": "code",
   "execution_count": 636,
   "outputs": [
    {
     "data": {
      "text/plain": "id              0\nmessage_date    0\nuser_id         0\ndtype: int64"
     },
     "metadata": {},
     "output_type": "display_data"
    }
   ],
   "source": [
    "display(\n",
    "    messages_df.loc[messages_df.duplicated()].count()\n",
    ")"
   ],
   "metadata": {
    "collapsed": false,
    "pycharm": {
     "name": "#%%\n"
    }
   }
  },
  {
   "cell_type": "code",
   "execution_count": 637,
   "outputs": [
    {
     "data": {
      "text/plain": "user_id       0\nage           0\nchurn_date    0\ncity          0\nfirst_name    0\nlast_name     0\nreg_date      0\ntariff        0\ndtype: int64"
     },
     "metadata": {},
     "output_type": "display_data"
    },
    {
     "data": {
      "text/plain": "500"
     },
     "metadata": {},
     "output_type": "display_data"
    }
   ],
   "source": [
    "display(\n",
    "    users_df.loc[users_df.duplicated()].count(),\n",
    "    users_df['user_id'].value_counts().sum()\n",
    ")"
   ],
   "metadata": {
    "collapsed": false,
    "pycharm": {
     "name": "#%%\n"
    }
   }
  },
  {
   "cell_type": "markdown",
   "source": [
    "### Найдите и исправьте ошибки в данных, если они есть."
   ],
   "metadata": {
    "collapsed": false,
    "pycharm": {
     "name": "#%% md\n"
    }
   }
  },
  {
   "cell_type": "code",
   "execution_count": 638,
   "outputs": [],
   "source": [
    "users_df['churn_date'] = pd.to_datetime(users_df['churn_date'], errors='coerce', format='%Y-%m-%d')"
   ],
   "metadata": {
    "collapsed": false,
    "pycharm": {
     "name": "#%%\n"
    }
   }
  },
  {
   "cell_type": "code",
   "execution_count": 639,
   "outputs": [],
   "source": [
    "users_df['reg_date'] = pd.to_datetime(users_df['reg_date'], errors='coerce', format='%Y-%m-%d')"
   ],
   "metadata": {
    "collapsed": false,
    "pycharm": {
     "name": "#%%\n"
    }
   }
  },
  {
   "cell_type": "code",
   "execution_count": 640,
   "outputs": [
    {
     "name": "stdout",
     "output_type": "stream",
     "text": [
      "columns\n",
      "['user_id', 'age', 'churn_date', 'city', 'first_name', 'last_name', 'reg_date', 'tariff']\n",
      "\n",
      "age description\n",
      "count    500.00000\n",
      "mean      46.58800\n",
      "std       16.66763\n",
      "min       18.00000\n",
      "25%       32.00000\n",
      "50%       46.00000\n",
      "75%       62.00000\n",
      "max       75.00000\n",
      "Name: age, dtype: float64\n",
      "\n",
      "registration date min → max\n",
      "2018-01-01\n",
      "2018-12-31\n",
      "\n",
      "count of unique city\n",
      "76\n",
      "\n",
      "count of unique first name\n",
      "246\n",
      "\n",
      "count of unique last name\n",
      "419\n",
      "\n",
      "unique tariffs\n",
      "['ultra' 'smart']\n"
     ]
    }
   ],
   "source": [
    "print(\n",
    "    'columns',\n",
    "    list(users_df.columns),\n",
    "\n",
    "    '\\nage description',\n",
    "    users_df['age'].describe(),\n",
    "\n",
    "    '\\nregistration date min → max',\n",
    "    users_df['reg_date'].min().strftime('%Y-%m-%d'),\n",
    "    users_df['reg_date'].max().strftime('%Y-%m-%d'),\n",
    "\n",
    "    '\\ncount of unique city',\n",
    "    len(users_df['city'].unique()),\n",
    "\n",
    "    '\\ncount of unique first name',\n",
    "    len(users_df['first_name'].unique()),\n",
    "\n",
    "    '\\ncount of unique last name',\n",
    "    len(users_df['last_name'].unique()),\n",
    "\n",
    "    '\\nunique tariffs',\n",
    "    users_df['tariff'].unique(),\n",
    "    sep='\\n'\n",
    ")"
   ],
   "metadata": {
    "collapsed": false,
    "pycharm": {
     "name": "#%%\n"
    }
   }
  },
  {
   "cell_type": "markdown",
   "source": [
    "Проверим `'last_name'`, `'first_name'` и `'city'` на пробелы в начале и окончании."
   ],
   "metadata": {
    "collapsed": false,
    "pycharm": {
     "name": "#%% md\n"
    }
   }
  },
  {
   "cell_type": "code",
   "execution_count": 641,
   "outputs": [
    {
     "name": "stdout",
     "output_type": "stream",
     "text": [
      "first_name → 0 \n",
      "last_name → 0 \n",
      "city →  0\n"
     ]
    }
   ],
   "source": [
    "print(\n",
    "    'first_name →',\n",
    "    users_df['first_name'].apply(lambda fnm: fnm if ' ' in [fnm[0], fnm[-1]] else np.NaN).count(),\n",
    "    '\\nlast_name →',\n",
    "    users_df['last_name'].apply(lambda fnm: fnm if ' ' in [fnm[0], fnm[-1]] else np.NaN).count(),\n",
    "    '\\ncity → ',\n",
    "    users_df['city'].apply(lambda fnm: fnm if ' ' in [fnm[0], fnm[-1]] else np.NaN).count(),\n",
    ")"
   ],
   "metadata": {
    "collapsed": false,
    "pycharm": {
     "name": "#%%\n"
    }
   }
  },
  {
   "cell_type": "markdown",
   "source": [
    "Пробелов нет."
   ],
   "metadata": {
    "collapsed": false,
    "pycharm": {
     "name": "#%% md\n"
    }
   }
  },
  {
   "cell_type": "markdown",
   "source": [
    "#### Поясните, какие ошибки вы нашли и как их исправили."
   ],
   "metadata": {
    "collapsed": false,
    "pycharm": {
     "name": "#%% md\n"
    }
   }
  },
  {
   "cell_type": "code",
   "execution_count": 641,
   "outputs": [],
   "source": [],
   "metadata": {
    "collapsed": false,
    "pycharm": {
     "name": "#%%\n"
    }
   }
  },
  {
   "cell_type": "markdown",
   "source": [
    "### Приведите данные к нужным типам;"
   ],
   "metadata": {
    "collapsed": false,
    "pycharm": {
     "name": "#%% md\n"
    }
   }
  },
  {
   "cell_type": "markdown",
   "source": [
    "#### `tariffs_df`"
   ],
   "metadata": {
    "collapsed": false,
    "pycharm": {
     "name": "#%% md\n"
    }
   }
  },
  {
   "cell_type": "markdown",
   "source": [
    "#### `messages_df`"
   ],
   "metadata": {
    "collapsed": false,
    "pycharm": {
     "name": "#%% md\n"
    }
   }
  },
  {
   "cell_type": "code",
   "execution_count": 642,
   "outputs": [],
   "source": [
    "messages_df['message_date'] = pd.to_datetime(\n",
    "    messages_df['message_date'],\n",
    "    errors='coerce',\n",
    "    format='%Y-%m-%d'\n",
    ")\n",
    "\n",
    "# messages_df = messages_df.astype(\n",
    "#     {\n",
    "#         'user_id': 'uint16',\n",
    "#         'message_date': 'uint8',\n",
    "#         # 'churn_date': '',\n",
    "#         'city': 'category',\n",
    "#         'first_name': 'category',\n",
    "#         # 'last_name': '',\n",
    "#         # 'reg_date': '',\n",
    "#         'tariff': 'bool',\n",
    "#     }\n",
    "# )"
   ],
   "metadata": {
    "collapsed": false,
    "pycharm": {
     "name": "#%%\n"
    }
   }
  },
  {
   "cell_type": "markdown",
   "source": [
    "#### `internet_df`"
   ],
   "metadata": {
    "collapsed": false,
    "pycharm": {
     "name": "#%% md\n"
    }
   }
  },
  {
   "cell_type": "code",
   "execution_count": 643,
   "outputs": [],
   "source": [
    "internet_df['session_date'] = pd.to_datetime(\n",
    "    internet_df['session_date'],\n",
    "    errors='coerce',\n",
    "    format='%Y-%m-%d'\n",
    ")\n",
    "\n",
    "# internet_df = internet_df.astype(\n",
    "#     {\n",
    "#         'user_id': 'uint16',\n",
    "#         'message_date': 'uint8',\n",
    "#         # 'churn_date': '',\n",
    "#         'city': 'category',\n",
    "#         'first_name': 'category',\n",
    "#         # 'last_name': '',\n",
    "#         # 'reg_date': '',\n",
    "#         'tariff': 'bool',\n",
    "#     }\n",
    "# )"
   ],
   "metadata": {
    "collapsed": false,
    "pycharm": {
     "name": "#%%\n"
    }
   }
  },
  {
   "cell_type": "markdown",
   "source": [
    "#### `calls_df`"
   ],
   "metadata": {
    "collapsed": false,
    "pycharm": {
     "name": "#%% md\n"
    }
   }
  },
  {
   "cell_type": "code",
   "execution_count": 644,
   "outputs": [
    {
     "data": {
      "text/plain": "137151     2.0\n189512     0.0\n189053     0.0\n174874    11.0\n179642    15.0\n151311     8.0\n19557     13.0\n185144     3.0\n132097     1.0\n156585     5.0\nName: duration, dtype: float64"
     },
     "metadata": {},
     "output_type": "display_data"
    },
    {
     "data": {
      "text/plain": "38.0"
     },
     "metadata": {},
     "output_type": "display_data"
    }
   ],
   "source": [
    "calls_df.loc[\n",
    "    calls_df['duration'] > 0\n",
    "    , 'duration'\n",
    "] = calls_df.loc[\n",
    "        calls_df['duration'] > 0\n",
    "        , 'duration'\n",
    "    ].apply(np.ceil)\n",
    "\n",
    "display(\n",
    "    calls_df['duration'].sample(10),\n",
    "    calls_df['duration'].max(),\n",
    ")"
   ],
   "metadata": {
    "collapsed": false,
    "pycharm": {
     "name": "#%%\n"
    }
   }
  },
  {
   "cell_type": "code",
   "execution_count": 645,
   "outputs": [],
   "source": [
    "calls_df['call_date'] = pd.to_datetime(\n",
    "    calls_df['call_date'],\n",
    "    errors='coerce',\n",
    "    format='%Y-%m-%d'\n",
    ")\n",
    "\n",
    "calls_df = calls_df.astype(\n",
    "    {\n",
    "        'duration': 'uint8',\n",
    "#         'message_date': 'uint8',\n",
    "#         # 'churn_date': '',\n",
    "#         'city': 'category',\n",
    "#         'first_name': 'category',\n",
    "#         # 'last_name': '',\n",
    "#         # 'reg_date': '',\n",
    "#         'tariff': 'bool',\n",
    "    }\n",
    ")"
   ],
   "metadata": {
    "collapsed": false,
    "pycharm": {
     "name": "#%%\n"
    }
   }
  },
  {
   "cell_type": "markdown",
   "source": [
    "#### `users_df`"
   ],
   "metadata": {
    "collapsed": false,
    "pycharm": {
     "name": "#%% md\n"
    }
   }
  },
  {
   "cell_type": "code",
   "execution_count": 646,
   "outputs": [],
   "source": [
    "users_df['tariff'] = (\n",
    "    users_df['tariff'].apply(\n",
    "        lambda tn: tariffs_df.loc[\n",
    "            tariffs_df['tariff_name'] == tn\n",
    "        ].index.values[0]\n",
    "    )\n",
    ")"
   ],
   "metadata": {
    "collapsed": false,
    "pycharm": {
     "name": "#%%\n"
    }
   }
  },
  {
   "cell_type": "code",
   "execution_count": 647,
   "outputs": [
    {
     "data": {
      "text/plain": "286    0\n244    0\n335    1\nName: tariff, dtype: int64"
     },
     "metadata": {},
     "output_type": "display_data"
    }
   ],
   "source": [
    "display(\n",
    "    users_df['tariff'].sample(3)\n",
    ")"
   ],
   "metadata": {
    "collapsed": false,
    "pycharm": {
     "name": "#%%\n"
    }
   }
  },
  {
   "cell_type": "code",
   "execution_count": 648,
   "outputs": [],
   "source": [
    "users_df = users_df.astype(\n",
    "    {\n",
    "        'user_id': 'uint16',\n",
    "        'age': 'uint8',\n",
    "        # 'churn_date': '',\n",
    "        'city': 'category',\n",
    "        'first_name': 'category',\n",
    "        # 'last_name': '',\n",
    "        # 'reg_date': '',\n",
    "        'tariff': 'bool',\n",
    "    }\n",
    ")"
   ],
   "metadata": {
    "collapsed": false,
    "pycharm": {
     "name": "#%%\n"
    }
   }
  },
  {
   "cell_type": "code",
   "execution_count": 649,
   "outputs": [
    {
     "name": "stdout",
     "output_type": "stream",
     "text": [
      "<class 'pandas.core.frame.DataFrame'>\n",
      "RangeIndex: 500 entries, 0 to 499\n",
      "Data columns (total 8 columns):\n",
      " #   Column      Non-Null Count  Dtype         \n",
      "---  ------      --------------  -----         \n",
      " 0   user_id     500 non-null    uint16        \n",
      " 1   age         500 non-null    uint8         \n",
      " 2   churn_date  38 non-null     datetime64[ns]\n",
      " 3   city        500 non-null    category      \n",
      " 4   first_name  500 non-null    category      \n",
      " 5   last_name   500 non-null    object        \n",
      " 6   reg_date    500 non-null    datetime64[ns]\n",
      " 7   tariff      500 non-null    bool          \n",
      "dtypes: bool(1), category(2), datetime64[ns](2), object(1), uint16(1), uint8(1)\n",
      "memory usage: 27.9+ KB\n"
     ]
    },
    {
     "data": {
      "text/plain": "None"
     },
     "metadata": {},
     "output_type": "display_data"
    }
   ],
   "source": [
    "display(\n",
    "    users_df.info()\n",
    ")"
   ],
   "metadata": {
    "collapsed": false,
    "pycharm": {
     "name": "#%%\n"
    }
   }
  },
  {
   "cell_type": "code",
   "execution_count": 650,
   "outputs": [
    {
     "data": {
      "text/plain": "     user_id  age churn_date         city first_name last_name   reg_date  \\\n483     1483   28        NaT    Ульяновск   Серафима  Борисова 2018-04-11   \n219     1219   75        NaT        Киров     Кузьма  Некрасов 2018-01-21   \n391     1391   47        NaT  Стерлитамак    Герасим  Аркадьев 2018-05-12   \n334     1334   45        NaT  Владивосток       Пётр    Минаев 2018-11-16   \n321     1321   29        NaT       Москва     Онисим  Софронов 2018-02-04   \n\n     tariff  \n483   False  \n219   False  \n391    True  \n334   False  \n321   False  ",
      "text/html": "<div>\n<style scoped>\n    .dataframe tbody tr th:only-of-type {\n        vertical-align: middle;\n    }\n\n    .dataframe tbody tr th {\n        vertical-align: top;\n    }\n\n    .dataframe thead th {\n        text-align: right;\n    }\n</style>\n<table border=\"1\" class=\"dataframe\">\n  <thead>\n    <tr style=\"text-align: right;\">\n      <th></th>\n      <th>user_id</th>\n      <th>age</th>\n      <th>churn_date</th>\n      <th>city</th>\n      <th>first_name</th>\n      <th>last_name</th>\n      <th>reg_date</th>\n      <th>tariff</th>\n    </tr>\n  </thead>\n  <tbody>\n    <tr>\n      <th>483</th>\n      <td>1483</td>\n      <td>28</td>\n      <td>NaT</td>\n      <td>Ульяновск</td>\n      <td>Серафима</td>\n      <td>Борисова</td>\n      <td>2018-04-11</td>\n      <td>False</td>\n    </tr>\n    <tr>\n      <th>219</th>\n      <td>1219</td>\n      <td>75</td>\n      <td>NaT</td>\n      <td>Киров</td>\n      <td>Кузьма</td>\n      <td>Некрасов</td>\n      <td>2018-01-21</td>\n      <td>False</td>\n    </tr>\n    <tr>\n      <th>391</th>\n      <td>1391</td>\n      <td>47</td>\n      <td>NaT</td>\n      <td>Стерлитамак</td>\n      <td>Герасим</td>\n      <td>Аркадьев</td>\n      <td>2018-05-12</td>\n      <td>True</td>\n    </tr>\n    <tr>\n      <th>334</th>\n      <td>1334</td>\n      <td>45</td>\n      <td>NaT</td>\n      <td>Владивосток</td>\n      <td>Пётр</td>\n      <td>Минаев</td>\n      <td>2018-11-16</td>\n      <td>False</td>\n    </tr>\n    <tr>\n      <th>321</th>\n      <td>1321</td>\n      <td>29</td>\n      <td>NaT</td>\n      <td>Москва</td>\n      <td>Онисим</td>\n      <td>Софронов</td>\n      <td>2018-02-04</td>\n      <td>False</td>\n    </tr>\n  </tbody>\n</table>\n</div>"
     },
     "metadata": {},
     "output_type": "display_data"
    }
   ],
   "source": [
    "display(\n",
    "    users_df.sample(5)\n",
    ")"
   ],
   "metadata": {
    "collapsed": false,
    "pycharm": {
     "name": "#%%\n"
    }
   }
  },
  {
   "cell_type": "markdown",
   "source": [
    "<hr>"
   ],
   "metadata": {
    "collapsed": false,
    "pycharm": {
     "name": "#%% md\n"
    }
   }
  },
  {
   "cell_type": "markdown",
   "source": [
    "### Посчитайте для каждого пользователя:"
   ],
   "metadata": {
    "collapsed": false,
    "pycharm": {
     "name": "#%% md\n"
    }
   }
  },
  {
   "cell_type": "code",
   "execution_count": 651,
   "outputs": [
    {
     "data": {
      "text/plain": "0          NaN\n1          NaN\n2          3.0\n3         14.0\n4          6.0\n          ... \n202602     1.0\n202603    19.0\n202604    11.0\n202605     5.0\n202606    20.0\nName: duration, Length: 202607, dtype: float16"
     },
     "metadata": {},
     "output_type": "display_data"
    }
   ],
   "source": [
    "calls_df['duration'] = calls_df.loc[\n",
    "    calls_df['duration'] > 0\n",
    "    , 'duration'\n",
    "].apply(np.ceil)\n",
    "display(\n",
    "    calls_df['duration']\n",
    ")"
   ],
   "metadata": {
    "collapsed": false,
    "pycharm": {
     "name": "#%%\n"
    }
   }
  },
  {
   "cell_type": "code",
   "execution_count": 652,
   "outputs": [],
   "source": [
    "internet_latest_date = internet_df['session_date'].max()\n",
    "messages_latest_date = messages_df['message_date'].max()\n",
    "calls_latest_date = calls_df['call_date'].max()\n",
    "latest_update = max(\n",
    "    [\n",
    "        internet_latest_date,\n",
    "        messages_latest_date,\n",
    "        calls_latest_date\n",
    "    ]\n",
    ")"
   ],
   "metadata": {
    "collapsed": false,
    "pycharm": {
     "name": "#%%\n"
    }
   }
  },
  {
   "cell_type": "code",
   "execution_count": 653,
   "outputs": [],
   "source": [
    "user_profit = pd.DataFrame(data=users_df['user_id'])"
   ],
   "metadata": {
    "collapsed": false,
    "pycharm": {
     "name": "#%%\n"
    }
   }
  },
  {
   "cell_type": "code",
   "execution_count": 654,
   "outputs": [],
   "source": [
    "\n",
    "\n",
    "def month_in_use_gone(id):\n",
    "    month_usage = (\n",
    "        users_df.loc[(users_df['user_id'] == id)\n",
    "            , 'churn_date']\n",
    "        - users_df.loc[(users_df['user_id'] == id)\n",
    "            , 'reg_date']\n",
    "    )\n",
    "    month_usage = month_usage / np.timedelta64(1, 'M')\n",
    "    month_usage = int(month_usage)\n",
    "\n",
    "    return month_usage"
   ],
   "metadata": {
    "collapsed": false,
    "pycharm": {
     "name": "#%%\n"
    }
   }
  },
  {
   "cell_type": "code",
   "execution_count": 655,
   "outputs": [],
   "source": [
    "\n",
    "\n",
    "def month_in_use_on(id):\n",
    "    month_usage = (\n",
    "        latest_update\n",
    "        - users_df.loc[(users_df['user_id'] == id)\n",
    "            , 'reg_date'].item()\n",
    "    )\n",
    "\n",
    "    month_usage = month_usage / np.timedelta64(1, 'M')\n",
    "    month_usage = int(month_usage)\n",
    "\n",
    "    return month_usage"
   ],
   "metadata": {
    "collapsed": false,
    "pycharm": {
     "name": "#%%\n"
    }
   }
  },
  {
   "cell_type": "code",
   "execution_count": 656,
   "outputs": [],
   "source": [
    "user_profit.loc[\n",
    "    users_df['churn_date'].notna()\n",
    "    ,'month_usage'\n",
    "] = (\n",
    "        user_profit.loc[\n",
    "            users_df['churn_date'].notna()\n",
    "            , 'user_id'\n",
    "        ].apply(month_in_use_gone)\n",
    "    )"
   ],
   "metadata": {
    "collapsed": false,
    "pycharm": {
     "name": "#%%\n"
    }
   }
  },
  {
   "cell_type": "code",
   "execution_count": 657,
   "outputs": [],
   "source": [
    "user_profit.loc[\n",
    "    users_df['churn_date'].isna()\n",
    "    ,'month_usage'\n",
    "] = (\n",
    "        user_profit.loc[\n",
    "            users_df['churn_date'].isna()\n",
    "            , 'user_id'\n",
    "        ].apply(month_in_use_on)\n",
    "    )"
   ],
   "metadata": {
    "collapsed": false,
    "pycharm": {
     "name": "#%%\n"
    }
   }
  },
  {
   "cell_type": "code",
   "execution_count": 658,
   "outputs": [],
   "source": [
    "user_profit = user_profit.astype(\n",
    "    {\n",
    "        'user_id': 'uint16',\n",
    "        'month_usage': 'uint8',\n",
    "    }\n",
    ")"
   ],
   "metadata": {
    "collapsed": false,
    "pycharm": {
     "name": "#%%\n"
    }
   }
  },
  {
   "cell_type": "code",
   "execution_count": 659,
   "outputs": [
    {
     "data": {
      "text/plain": "     user_id  month_usage\n154     1154            6\n484     1484            4\n157     1157           10",
      "text/html": "<div>\n<style scoped>\n    .dataframe tbody tr th:only-of-type {\n        vertical-align: middle;\n    }\n\n    .dataframe tbody tr th {\n        vertical-align: top;\n    }\n\n    .dataframe thead th {\n        text-align: right;\n    }\n</style>\n<table border=\"1\" class=\"dataframe\">\n  <thead>\n    <tr style=\"text-align: right;\">\n      <th></th>\n      <th>user_id</th>\n      <th>month_usage</th>\n    </tr>\n  </thead>\n  <tbody>\n    <tr>\n      <th>154</th>\n      <td>1154</td>\n      <td>6</td>\n    </tr>\n    <tr>\n      <th>484</th>\n      <td>1484</td>\n      <td>4</td>\n    </tr>\n    <tr>\n      <th>157</th>\n      <td>1157</td>\n      <td>10</td>\n    </tr>\n  </tbody>\n</table>\n</div>"
     },
     "metadata": {},
     "output_type": "display_data"
    }
   ],
   "source": [
    "display(\n",
    "    user_profit.sample(3)\n",
    ")"
   ],
   "metadata": {
    "collapsed": false,
    "pycharm": {
     "name": "#%%\n"
    }
   }
  },
  {
   "cell_type": "code",
   "execution_count": 660,
   "outputs": [
    {
     "data": {
      "text/plain": "<AxesSubplot:xlabel='month_usage', ylabel='Count'>"
     },
     "execution_count": 660,
     "metadata": {},
     "output_type": "execute_result"
    },
    {
     "data": {
      "text/plain": "<Figure size 1080x504 with 1 Axes>",
      "image/png": "[encoded data removed]"
     },
     "metadata": {},
     "output_type": "display_data"
    }
   ],
   "source": [
    "sns.histplot(\n",
    "    data=user_profit['month_usage'],\n",
    "    bins=(1+user_profit['month_usage'].max())\n",
    ")"
   ],
   "metadata": {
    "collapsed": false,
    "pycharm": {
     "name": "#%%\n"
    }
   }
  },
  {
   "cell_type": "raw",
   "source": [
    "display(\n",
    "    pd.Timestamp(np.datetime64('2018-01-29')) + pd.DateOffset(months=2)\n",
    ")"
   ],
   "metadata": {
    "collapsed": false,
    "pycharm": {
     "name": "#%% raw\n"
    }
   }
  },
  {
   "cell_type": "markdown",
   "source": [
    "#### количество сделанных звонков и израсходованных минут разговора по месяцам;"
   ],
   "metadata": {
    "collapsed": false,
    "pycharm": {
     "name": "#%% md\n"
    }
   }
  },
  {
   "cell_type": "code",
   "execution_count": 661,
   "outputs": [],
   "source": [
    "\n",
    "\n",
    "def count_monthly(number_of_month, u_id, u_reg_date):\n",
    "    end_month = u_reg_date + pd.DateOffset(months=number_of_month)\n",
    "    start_month = end_month - pd.DateOffset(months=1)\n",
    "    calls_gt_zero = calls_df['duration'] != 0\n",
    "\n",
    "    pick_user_month = (\n",
    "        (calls_df['user_id'] == u_id)\n",
    "        & (calls_df['call_date'] < end_month)\n",
    "        & (calls_df['call_date'] >= start_month)\n",
    "    )\n",
    "\n",
    "    count_of_calls = (calls_df.loc[\n",
    "            pick_user_month\n",
    "            & calls_gt_zero\n",
    "            , 'duration'\n",
    "        ].count()\n",
    "    )\n",
    "\n",
    "    count_of_minutes = (calls_df.loc[\n",
    "            pick_user_month\n",
    "            & calls_gt_zero\n",
    "            , 'duration'\n",
    "        ].sum()\n",
    "    )\n",
    "\n",
    "    count_of_messages = (messages_df.loc[\n",
    "            pick_user_month\n",
    "            , 'id'\n",
    "        ].count()\n",
    "    )\n",
    "\n",
    "    count_of_mb = (internet_df.loc[\n",
    "            pick_user_month\n",
    "            , 'mb_used'\n",
    "        ].sum()\n",
    "    )\n",
    "\n",
    "    count_of_session = (internet_df.loc[\n",
    "            pick_user_month\n",
    "            , 'id'\n",
    "        ].count()\n",
    "    )\n",
    "    return count_of_calls,\\\n",
    "           count_of_minutes,\\\n",
    "           count_of_messages,\\\n",
    "           count_of_mb,\\\n",
    "           count_of_session\n",
    "\n"
   ],
   "metadata": {
    "collapsed": false,
    "pycharm": {
     "name": "#%%\n"
    }
   }
  },
  {
   "cell_type": "code",
   "execution_count": 662,
   "outputs": [],
   "source": [
    "\n",
    "\n",
    "def spend_monthly(u_id):\n",
    "    picked_user = user_profit['user_id'] == u_id\n",
    "\n",
    "    u_month_usage = user_profit.loc[\n",
    "            picked_user\n",
    "            , 'month_usage'\n",
    "        ].item()\n",
    "\n",
    "    u_reg_date = users_df.loc[\n",
    "            picked_user\n",
    "            , 'reg_date'\n",
    "        ].item()\n",
    "\n",
    "    months_range = pd.Series(\n",
    "            data=range(1, u_month_usage + 1),\n",
    "            name='month',\n",
    "            dtype='uint8',\n",
    "        )\n",
    "\n",
    "    count_of_calls_monthly\\\n",
    "        , count_of_minutes_monthly\\\n",
    "        , count_of_messages_monthly\\\n",
    "        , count_of_mb_monthly\\\n",
    "        , count_of_session_monthly  = zip(\n",
    "        * months_range.apply(\n",
    "            count_monthly,\n",
    "            u_id=u_id,\n",
    "            u_reg_date=u_reg_date\n",
    "        )\n",
    "    )\n",
    "\n",
    "    return count_of_calls_monthly,\\\n",
    "           count_of_minutes_monthly,\\\n",
    "           count_of_messages_monthly,\\\n",
    "           count_of_mb_monthly,\\\n",
    "           count_of_session_monthly\n",
    "\n"
   ],
   "metadata": {
    "collapsed": false,
    "pycharm": {
     "name": "#%%\n"
    }
   }
  },
  {
   "cell_type": "code",
   "execution_count": 663,
   "outputs": [],
   "source": [
    "use_gt_month = user_profit['month_usage'] > 0"
   ],
   "metadata": {
    "collapsed": false,
    "pycharm": {
     "name": "#%%\n"
    }
   }
  },
  {
   "cell_type": "code",
   "execution_count": 664,
   "outputs": [
    {
     "name": "stderr",
     "output_type": "stream",
     "text": [
      "/Users/bionic/opt/anaconda3/lib/python3.9/site-packages/pandas/core/dtypes/missing.py:531: VisibleDeprecationWarning: Creating an ndarray from ragged nested sequences (which is a list-or-tuple of lists-or-tuples-or ndarrays with different lengths or shapes) is deprecated. If you meant to do this, you must specify 'dtype=object' when creating the ndarray.\n",
      "  val = np.array(val, copy=False)\n",
      "/Users/bionic/opt/anaconda3/lib/python3.9/site-packages/numpy/core/_asarray.py:102: VisibleDeprecationWarning: Creating an ndarray from ragged nested sequences (which is a list-or-tuple of lists-or-tuples-or ndarrays with different lengths or shapes) is deprecated. If you meant to do this, you must specify 'dtype=object' when creating the ndarray.\n",
      "  return array(a, dtype, copy=False, order=order)\n"
     ]
    }
   ],
   "source": [
    "user_profit.loc[use_gt_month\n",
    "    ,'calls_monthly'\n",
    "], user_profit.loc[use_gt_month\n",
    "    ,'minutes_monthly'\n",
    "], user_profit.loc[use_gt_month\n",
    "    ,'messages_monthly'\n",
    "], user_profit.loc[use_gt_month\n",
    "    ,'mb_monthly'\n",
    "], user_profit.loc[use_gt_month\n",
    "    ,'session_monthly'\n",
    "] =  zip(\n",
    "    * user_profit.loc[use_gt_month\n",
    "        , 'user_id'\n",
    "    ].apply(spend_monthly)\n",
    ")"
   ],
   "metadata": {
    "collapsed": false,
    "pycharm": {
     "name": "#%%\n"
    }
   }
  },
  {
   "cell_type": "code",
   "execution_count": 665,
   "outputs": [
    {
     "data": {
      "text/plain": "     user_id  month_usage                     calls_monthly  \\\n62      1062            0                               NaN   \n428     1428            4                  (50, 42, 45, 33)   \n430     1430            8  (37, 32, 38, 32, 32, 37, 39, 30)   \n298     1298            5              (53, 74, 64, 55, 71)   \n257     1257            6                (2, 0, 0, 1, 2, 0)   \n\n                                       minutes_monthly  \\\n62                                                 NaN   \n428                       (436.0, 379.0, 431.0, 309.0)   \n430  (314.0, 245.0, 323.0, 336.0, 309.0, 318.0, 357...   \n298                (461.0, 598.0, 506.0, 494.0, 629.0)   \n257                   (35.0, 0.0, 0.0, 15.0, 7.0, 0.0)   \n\n             messages_monthly  \\\n62                        NaN   \n428              (0, 0, 0, 0)   \n430  (0, 0, 0, 0, 0, 0, 0, 0)   \n298      (68, 83, 81, 71, 83)   \n257        (3, 3, 0, 2, 2, 1)   \n\n                                            mb_monthly  \\\n62                                                 NaN   \n428                               (0.0, 0.0, 0.0, 0.0)   \n430           (0.0, 0.0, 0.0, 0.0, 0.0, 0.0, 0.0, 0.0)   \n298  (20574.37, 29164.440000000002, 29756.34, 22725...   \n257  (1056.0900000000001, 10.23, 0.0, 1670.03, 463....   \n\n              session_monthly  \n62                        NaN  \n428              (0, 0, 0, 0)  \n430  (0, 0, 0, 0, 0, 0, 0, 0)  \n298      (68, 83, 81, 71, 83)  \n257        (3, 3, 0, 2, 2, 1)  ",
      "text/html": "<div>\n<style scoped>\n    .dataframe tbody tr th:only-of-type {\n        vertical-align: middle;\n    }\n\n    .dataframe tbody tr th {\n        vertical-align: top;\n    }\n\n    .dataframe thead th {\n        text-align: right;\n    }\n</style>\n<table border=\"1\" class=\"dataframe\">\n  <thead>\n    <tr style=\"text-align: right;\">\n      <th></th>\n      <th>user_id</th>\n      <th>month_usage</th>\n      <th>calls_monthly</th>\n      <th>minutes_monthly</th>\n      <th>messages_monthly</th>\n      <th>mb_monthly</th>\n      <th>session_monthly</th>\n    </tr>\n  </thead>\n  <tbody>\n    <tr>\n      <th>62</th>\n      <td>1062</td>\n      <td>0</td>\n      <td>NaN</td>\n      <td>NaN</td>\n      <td>NaN</td>\n      <td>NaN</td>\n      <td>NaN</td>\n    </tr>\n    <tr>\n      <th>428</th>\n      <td>1428</td>\n      <td>4</td>\n      <td>(50, 42, 45, 33)</td>\n      <td>(436.0, 379.0, 431.0, 309.0)</td>\n      <td>(0, 0, 0, 0)</td>\n      <td>(0.0, 0.0, 0.0, 0.0)</td>\n      <td>(0, 0, 0, 0)</td>\n    </tr>\n    <tr>\n      <th>430</th>\n      <td>1430</td>\n      <td>8</td>\n      <td>(37, 32, 38, 32, 32, 37, 39, 30)</td>\n      <td>(314.0, 245.0, 323.0, 336.0, 309.0, 318.0, 357...</td>\n      <td>(0, 0, 0, 0, 0, 0, 0, 0)</td>\n      <td>(0.0, 0.0, 0.0, 0.0, 0.0, 0.0, 0.0, 0.0)</td>\n      <td>(0, 0, 0, 0, 0, 0, 0, 0)</td>\n    </tr>\n    <tr>\n      <th>298</th>\n      <td>1298</td>\n      <td>5</td>\n      <td>(53, 74, 64, 55, 71)</td>\n      <td>(461.0, 598.0, 506.0, 494.0, 629.0)</td>\n      <td>(68, 83, 81, 71, 83)</td>\n      <td>(20574.37, 29164.440000000002, 29756.34, 22725...</td>\n      <td>(68, 83, 81, 71, 83)</td>\n    </tr>\n    <tr>\n      <th>257</th>\n      <td>1257</td>\n      <td>6</td>\n      <td>(2, 0, 0, 1, 2, 0)</td>\n      <td>(35.0, 0.0, 0.0, 15.0, 7.0, 0.0)</td>\n      <td>(3, 3, 0, 2, 2, 1)</td>\n      <td>(1056.0900000000001, 10.23, 0.0, 1670.03, 463....</td>\n      <td>(3, 3, 0, 2, 2, 1)</td>\n    </tr>\n  </tbody>\n</table>\n</div>"
     },
     "metadata": {},
     "output_type": "display_data"
    }
   ],
   "source": [
    "display(\n",
    "    user_profit.sample(5)\n",
    ")"
   ],
   "metadata": {
    "collapsed": false,
    "pycharm": {
     "name": "#%%\n"
    }
   }
  },
  {
   "cell_type": "code",
   "execution_count": 666,
   "outputs": [
    {
     "data": {
      "text/plain": "   messages_included  mb_per_month_included  minutes_included  \\\n0                 50                  15360               500   \n1               1000                  30720              3000   \n\n   rub_monthly_fee  rub_per_gb  rub_per_message  rub_per_minute tariff_name  \n0              550         200                3               3       smart  \n1             1950         150                1               1       ultra  ",
      "text/html": "<div>\n<style scoped>\n    .dataframe tbody tr th:only-of-type {\n        vertical-align: middle;\n    }\n\n    .dataframe tbody tr th {\n        vertical-align: top;\n    }\n\n    .dataframe thead th {\n        text-align: right;\n    }\n</style>\n<table border=\"1\" class=\"dataframe\">\n  <thead>\n    <tr style=\"text-align: right;\">\n      <th></th>\n      <th>messages_included</th>\n      <th>mb_per_month_included</th>\n      <th>minutes_included</th>\n      <th>rub_monthly_fee</th>\n      <th>rub_per_gb</th>\n      <th>rub_per_message</th>\n      <th>rub_per_minute</th>\n      <th>tariff_name</th>\n    </tr>\n  </thead>\n  <tbody>\n    <tr>\n      <th>0</th>\n      <td>50</td>\n      <td>15360</td>\n      <td>500</td>\n      <td>550</td>\n      <td>200</td>\n      <td>3</td>\n      <td>3</td>\n      <td>smart</td>\n    </tr>\n    <tr>\n      <th>1</th>\n      <td>1000</td>\n      <td>30720</td>\n      <td>3000</td>\n      <td>1950</td>\n      <td>150</td>\n      <td>1</td>\n      <td>1</td>\n      <td>ultra</td>\n    </tr>\n  </tbody>\n</table>\n</div>"
     },
     "metadata": {},
     "output_type": "display_data"
    }
   ],
   "source": [
    "display(\n",
    "    tariffs_df\n",
    ")\n"
   ],
   "metadata": {
    "collapsed": false,
    "pycharm": {
     "name": "#%%\n"
    }
   }
  },
  {
   "cell_type": "code",
   "execution_count": 667,
   "outputs": [],
   "source": [
    "name_smart = tariffs_df.loc[0, 'tariff_name']\n",
    "only_smart = tariffs_df['tariff_name'] == name_smart\n",
    "\n",
    "sm_sms_pckg = tariffs_df.loc[only_smart\n",
    "    , 'messages_included'].item()\n",
    "\n",
    "sm_mb_pckg = tariffs_df.loc[only_smart\n",
    "    , 'mb_per_month_included'].item()\n",
    "\n",
    "sm_min_pckg = tariffs_df.loc[only_smart\n",
    "    , 'minutes_included'].item()\n",
    "\n",
    "sm_fee_pckg = tariffs_df.loc[only_smart\n",
    "    , 'rub_monthly_fee'].item()\n",
    "\n",
    "sm_per_gb_fee = tariffs_df.loc[only_smart\n",
    "    , 'rub_per_gb'].item()\n",
    "\n",
    "sm_per_sms_fee = tariffs_df.loc[only_smart\n",
    "    , 'rub_per_message'].item()\n",
    "\n",
    "sm_per_min_fee = tariffs_df.loc[only_smart\n",
    "    , 'rub_per_minute'].item()"
   ],
   "metadata": {
    "collapsed": false,
    "pycharm": {
     "name": "#%%\n"
    }
   }
  },
  {
   "cell_type": "code",
   "execution_count": 668,
   "outputs": [],
   "source": [
    "name_ultra = tariffs_df.loc[1, 'tariff_name']\n",
    "only_ultra = tariffs_df['tariff_name'] == name_ultra\n",
    "\n",
    "ul_sms_pckg = tariffs_df.loc[only_ultra\n",
    "    , 'messages_included'].item()\n",
    "\n",
    "ul_mb_pckg = tariffs_df.loc[only_ultra\n",
    "    , 'mb_per_month_included'].item()\n",
    "\n",
    "ul_min_pckg = tariffs_df.loc[only_ultra\n",
    "    , 'minutes_included'].item()\n",
    "\n",
    "ul_fee_pckg = tariffs_df.loc[only_ultra\n",
    "    , 'rub_monthly_fee'].item()\n",
    "\n",
    "ul_per_gb_fee = tariffs_df.loc[only_ultra\n",
    "    , 'rub_per_gb'].item()\n",
    "\n",
    "ul_per_sms_fee = tariffs_df.loc[only_ultra\n",
    "    , 'rub_per_message'].item()\n",
    "\n",
    "ul_per_min_fee = tariffs_df.loc[only_ultra\n",
    "    , 'rub_per_minute'].item()"
   ],
   "metadata": {
    "collapsed": false,
    "pycharm": {
     "name": "#%%\n"
    }
   }
  },
  {
   "cell_type": "code",
   "execution_count": 669,
   "outputs": [
    {
     "data": {
      "text/plain": "1950"
     },
     "metadata": {},
     "output_type": "display_data"
    }
   ],
   "source": [
    "display(ul_fee_pckg)"
   ],
   "metadata": {
    "collapsed": false,
    "pycharm": {
     "name": "#%%\n"
    }
   }
  },
  {
   "cell_type": "code",
   "execution_count": 670,
   "outputs": [
    {
     "data": {
      "text/plain": "     user_id  age churn_date       city first_name  last_name   reg_date  \\\n455     1455   38        NaT   Балашиха      Рубен  Авринский 2018-03-22   \n264     1264   47        NaT  Хабаровск      Саида     Жукова 2018-04-22   \n\n     tariff  \n455    True  \n264   False  ",
      "text/html": "<div>\n<style scoped>\n    .dataframe tbody tr th:only-of-type {\n        vertical-align: middle;\n    }\n\n    .dataframe tbody tr th {\n        vertical-align: top;\n    }\n\n    .dataframe thead th {\n        text-align: right;\n    }\n</style>\n<table border=\"1\" class=\"dataframe\">\n  <thead>\n    <tr style=\"text-align: right;\">\n      <th></th>\n      <th>user_id</th>\n      <th>age</th>\n      <th>churn_date</th>\n      <th>city</th>\n      <th>first_name</th>\n      <th>last_name</th>\n      <th>reg_date</th>\n      <th>tariff</th>\n    </tr>\n  </thead>\n  <tbody>\n    <tr>\n      <th>455</th>\n      <td>1455</td>\n      <td>38</td>\n      <td>NaT</td>\n      <td>Балашиха</td>\n      <td>Рубен</td>\n      <td>Авринский</td>\n      <td>2018-03-22</td>\n      <td>True</td>\n    </tr>\n    <tr>\n      <th>264</th>\n      <td>1264</td>\n      <td>47</td>\n      <td>NaT</td>\n      <td>Хабаровск</td>\n      <td>Саида</td>\n      <td>Жукова</td>\n      <td>2018-04-22</td>\n      <td>False</td>\n    </tr>\n  </tbody>\n</table>\n</div>"
     },
     "metadata": {},
     "output_type": "display_data"
    }
   ],
   "source": [
    "display(\n",
    "    users_df.sample(2)\n",
    ")"
   ],
   "metadata": {
    "collapsed": false,
    "pycharm": {
     "name": "#%%\n"
    }
   }
  },
  {
   "cell_type": "code",
   "execution_count": 671,
   "outputs": [
    {
     "data": {
      "text/plain": "     user_id  month_usage             calls_monthly  \\\n75      1075            1                     (47,)   \n415     1415            6  (58, 76, 85, 76, 79, 74)   \n\n                                minutes_monthly    messages_monthly  \\\n75                                     (480.0,)               (52,)   \n415  (547.0, 638.0, 766.0, 743.0, 668.0, 628.0)  (0, 0, 0, 0, 0, 0)   \n\n                         mb_monthly     session_monthly  \n75            (25031.660000000003,)               (52,)  \n415  (0.0, 0.0, 0.0, 0.0, 0.0, 0.0)  (0, 0, 0, 0, 0, 0)  ",
      "text/html": "<div>\n<style scoped>\n    .dataframe tbody tr th:only-of-type {\n        vertical-align: middle;\n    }\n\n    .dataframe tbody tr th {\n        vertical-align: top;\n    }\n\n    .dataframe thead th {\n        text-align: right;\n    }\n</style>\n<table border=\"1\" class=\"dataframe\">\n  <thead>\n    <tr style=\"text-align: right;\">\n      <th></th>\n      <th>user_id</th>\n      <th>month_usage</th>\n      <th>calls_monthly</th>\n      <th>minutes_monthly</th>\n      <th>messages_monthly</th>\n      <th>mb_monthly</th>\n      <th>session_monthly</th>\n    </tr>\n  </thead>\n  <tbody>\n    <tr>\n      <th>75</th>\n      <td>1075</td>\n      <td>1</td>\n      <td>(47,)</td>\n      <td>(480.0,)</td>\n      <td>(52,)</td>\n      <td>(25031.660000000003,)</td>\n      <td>(52,)</td>\n    </tr>\n    <tr>\n      <th>415</th>\n      <td>1415</td>\n      <td>6</td>\n      <td>(58, 76, 85, 76, 79, 74)</td>\n      <td>(547.0, 638.0, 766.0, 743.0, 668.0, 628.0)</td>\n      <td>(0, 0, 0, 0, 0, 0)</td>\n      <td>(0.0, 0.0, 0.0, 0.0, 0.0, 0.0)</td>\n      <td>(0, 0, 0, 0, 0, 0)</td>\n    </tr>\n  </tbody>\n</table>\n</div>"
     },
     "metadata": {},
     "output_type": "display_data"
    }
   ],
   "source": [
    "display(\n",
    "    user_profit.sample(2)\n",
    ")"
   ],
   "metadata": {
    "collapsed": false,
    "pycharm": {
     "name": "#%%\n"
    }
   }
  },
  {
   "cell_type": "code",
   "execution_count": 672,
   "outputs": [],
   "source": [
    "\n",
    "\n",
    "def calc_profit_smart(monthly_profit):\n",
    "    extra_min_monthly = pd.Series(\n",
    "            monthly_profit.loc['minutes_monthly']\n",
    "        ).apply(\n",
    "            lambda mn: (mn - sm_min_pckg)\n",
    "                if (mn - sm_min_pckg) > 0 else 0\n",
    "        )\n",
    "\n",
    "    extra_sms_monthly = pd.Series(\n",
    "            monthly_profit.loc['messages_monthly']\n",
    "        ).apply(\n",
    "            lambda sm: (sm - sm_sms_pckg)\n",
    "                if (sm - sm_sms_pckg) > 0 else 0\n",
    "        )\n",
    "\n",
    "    extra_gb_monthly = pd.Series(\n",
    "            monthly_profit.loc['mb_monthly']\n",
    "        ).apply(\n",
    "            lambda mb: np.ceil((mb - sm_mb_pckg) / mb_in_gb)\n",
    "                if (mb - sm_mb_pckg) > 0 else 0\n",
    "        )\n",
    "\n",
    "    extra_fee_min_monthly = extra_min_monthly * sm_per_min_fee\n",
    "    extra_fee_sms_monthly = extra_sms_monthly * sm_per_sms_fee\n",
    "    extra_fee_gb_monthly = extra_gb_monthly * sm_per_gb_fee\n",
    "\n",
    "    total_extra_fee_monthly = pd.Series(\n",
    "        np.sum(\n",
    "            [extra_fee_min_monthly,\n",
    "            extra_fee_sms_monthly,\n",
    "            extra_fee_gb_monthly]\n",
    "            , axis=0\n",
    "        )\n",
    "    )\n",
    "\n",
    "    total_fee_monthly = total_extra_fee_monthly + sm_fee_pckg\n",
    "\n",
    "    return np.array(object=extra_fee_min_monthly, dtype=object),\\\n",
    "           np.array(object=extra_fee_sms_monthly, dtype=object),\\\n",
    "           np.array(object=extra_fee_gb_monthly, dtype=object),\\\n",
    "           np.array(object=total_extra_fee_monthly, dtype=object),\\\n",
    "           np.array(object=total_fee_monthly, dtype=object)\n",
    "\n"
   ],
   "metadata": {
    "collapsed": false,
    "pycharm": {
     "name": "#%%\n"
    }
   }
  },
  {
   "cell_type": "code",
   "execution_count": 673,
   "outputs": [],
   "source": [
    "\n",
    "\n",
    "def calc_profit_ultra(monthly_profit):\n",
    "    extra_min_monthly = pd.Series(\n",
    "            monthly_profit.loc['minutes_monthly']\n",
    "        ).apply(\n",
    "            lambda mn: (mn - ul_min_pckg)\n",
    "                if (mn - ul_min_pckg) > 0 else 0\n",
    "        )\n",
    "\n",
    "    extra_sms_monthly = pd.Series(\n",
    "            monthly_profit.loc['messages_monthly']\n",
    "        ).apply(\n",
    "            lambda sm: (sm - ul_sms_pckg)\n",
    "                if (sm - ul_sms_pckg) > 0 else 0\n",
    "        )\n",
    "\n",
    "    extra_gb_monthly = pd.Series(\n",
    "            monthly_profit.loc['mb_monthly']\n",
    "        ).apply(\n",
    "            lambda mb: np.ceil((mb - ul_mb_pckg) / mb_in_gb)\n",
    "                if (mb - ul_mb_pckg) > 0 else 0\n",
    "        )\n",
    "\n",
    "    extra_fee_min_monthly = extra_min_monthly * ul_per_min_fee\n",
    "    extra_fee_sms_monthly = extra_sms_monthly * ul_per_sms_fee\n",
    "    extra_fee_gb_monthly = extra_gb_monthly * ul_per_gb_fee\n",
    "\n",
    "    total_extra_fee_monthly = pd.Series(\n",
    "        np.sum(\n",
    "            [extra_fee_min_monthly,\n",
    "            extra_fee_sms_monthly,\n",
    "            extra_fee_gb_monthly]\n",
    "            , axis=0\n",
    "        )\n",
    "    )\n",
    "\n",
    "    total_fee_monthly = total_extra_fee_monthly + ul_fee_pckg\n",
    "    \n",
    "    return np.array(object=extra_fee_min_monthly, dtype=object),\\\n",
    "           np.array(object=extra_fee_sms_monthly, dtype=object),\\\n",
    "           np.array(object=extra_fee_gb_monthly, dtype=object),\\\n",
    "           np.array(object=total_extra_fee_monthly, dtype=object),\\\n",
    "           np.array(object=total_fee_monthly, dtype=object)\n",
    "\n"
   ],
   "metadata": {
    "collapsed": false,
    "pycharm": {
     "name": "#%%\n"
    }
   }
  },
  {
   "cell_type": "markdown",
   "source": [
    "##### users of «smart»"
   ],
   "metadata": {
    "collapsed": false,
    "pycharm": {
     "name": "#%% md\n"
    }
   }
  },
  {
   "cell_type": "code",
   "execution_count": 674,
   "outputs": [],
   "source": [
    "users_of_smart = users_df['tariff'] == False"
   ],
   "metadata": {
    "collapsed": false,
    "pycharm": {
     "name": "#%%\n"
    }
   }
  },
  {
   "cell_type": "code",
   "execution_count": 675,
   "outputs": [],
   "source": [
    "users_of_smart_gt_month = users_of_smart & use_gt_month"
   ],
   "metadata": {
    "collapsed": false,
    "pycharm": {
     "name": "#%%\n"
    }
   }
  },
  {
   "cell_type": "code",
   "execution_count": 676,
   "outputs": [
    {
     "name": "stderr",
     "output_type": "stream",
     "text": [
      "/Users/bionic/opt/anaconda3/lib/python3.9/site-packages/pandas/core/dtypes/missing.py:531: VisibleDeprecationWarning: Creating an ndarray from ragged nested sequences (which is a list-or-tuple of lists-or-tuples-or ndarrays with different lengths or shapes) is deprecated. If you meant to do this, you must specify 'dtype=object' when creating the ndarray.\n",
      "  val = np.array(val, copy=False)\n",
      "/Users/bionic/opt/anaconda3/lib/python3.9/site-packages/numpy/core/_asarray.py:102: VisibleDeprecationWarning: Creating an ndarray from ragged nested sequences (which is a list-or-tuple of lists-or-tuples-or ndarrays with different lengths or shapes) is deprecated. If you meant to do this, you must specify 'dtype=object' when creating the ndarray.\n",
      "  return array(a, dtype, copy=False, order=order)\n"
     ]
    }
   ],
   "source": [
    "user_profit.loc[users_of_smart_gt_month\n",
    "    , 'extra_fee_min_monthly'\n",
    "], user_profit.loc[users_of_smart_gt_month\n",
    "    , 'extra_fee_sms_monthly'\n",
    "], user_profit.loc[users_of_smart_gt_month\n",
    "    , 'extra_fee_gb_monthly'\n",
    "], user_profit.loc[users_of_smart_gt_month\n",
    "    , 'total_extra_fee_monthly'\n",
    "], user_profit.loc[users_of_smart_gt_month\n",
    ", 'total_fee_monthly'\n",
    "] = zip(\n",
    "    * user_profit.loc[users_of_smart_gt_month\n",
    "        , ['minutes_monthly',\n",
    "           'messages_monthly',\n",
    "           'mb_monthly']\n",
    "    ].apply(calc_profit_smart, axis=1)\n",
    ")"
   ],
   "metadata": {
    "collapsed": false,
    "pycharm": {
     "name": "#%%\n"
    }
   }
  },
  {
   "cell_type": "markdown",
   "source": [
    "##### users of «ultra»"
   ],
   "metadata": {
    "collapsed": false,
    "pycharm": {
     "name": "#%% md\n"
    }
   }
  },
  {
   "cell_type": "code",
   "execution_count": 677,
   "outputs": [],
   "source": [
    "users_of_ultra = users_df['tariff'] == True"
   ],
   "metadata": {
    "collapsed": false,
    "pycharm": {
     "name": "#%%\n"
    }
   }
  },
  {
   "cell_type": "code",
   "execution_count": 678,
   "outputs": [],
   "source": [
    "users_of_ultra_gt_month = users_of_ultra & use_gt_month"
   ],
   "metadata": {
    "collapsed": false,
    "pycharm": {
     "name": "#%%\n"
    }
   }
  },
  {
   "cell_type": "code",
   "execution_count": 679,
   "outputs": [],
   "source": [
    "user_profit.loc[users_of_ultra_gt_month\n",
    ", 'extra_fee_min_monthly'\n",
    "], user_profit.loc[users_of_ultra_gt_month\n",
    ", 'extra_fee_sms_monthly'\n",
    "], user_profit.loc[users_of_ultra_gt_month\n",
    ", 'extra_fee_gb_monthly'\n",
    "], user_profit.loc[users_of_ultra_gt_month\n",
    ", 'total_extra_fee_monthly'\n",
    "], user_profit.loc[users_of_ultra_gt_month\n",
    ", 'total_fee_monthly'\n",
    "] = zip(\n",
    "    * user_profit.loc[users_of_ultra_gt_month\n",
    "    , ['minutes_monthly',\n",
    "       'messages_monthly',\n",
    "       'mb_monthly']\n",
    "    ].apply(calc_profit_ultra, axis=1)\n",
    ")"
   ],
   "metadata": {
    "collapsed": false,
    "pycharm": {
     "name": "#%%\n"
    }
   }
  },
  {
   "cell_type": "markdown",
   "source": [
    "#### количество отправленных сообщений по месяцам;"
   ],
   "metadata": {
    "collapsed": false,
    "pycharm": {
     "name": "#%% md\n"
    }
   }
  },
  {
   "cell_type": "code",
   "execution_count": 680,
   "outputs": [
    {
     "data": {
      "text/plain": "     user_id  month_usage                         calls_monthly  \\\n461     1461            1                                 (88,)   \n373     1373           11     (1, 1, 1, 1, 1, 1, 1, 3, 3, 2, 2)   \n280     1280            5                  (84, 79, 64, 88, 50)   \n326     1326            7          (31, 25, 40, 35, 30, 39, 26)   \n80      1080            4                     (101, 93, 99, 74)   \n318     1318            9  (75, 66, 82, 79, 67, 79, 52, 77, 77)   \n289     1289            3                       (140, 137, 144)   \n\n                                       minutes_monthly  \\\n461                                           (830.0,)   \n373  (2.0, 7.0, 15.0, 5.0, 8.0, 8.0, 3.0, 21.0, 22....   \n280                (793.0, 695.0, 526.0, 751.0, 343.0)   \n326  (295.0, 275.0, 370.0, 311.0, 285.0, 395.0, 254.0)   \n80                        (905.0, 799.0, 812.0, 626.0)   \n318  (636.0, 566.0, 789.0, 667.0, 603.0, 676.0, 385...   \n289                           (1186.0, 1053.0, 1257.0)   \n\n                      messages_monthly  \\\n461                               (0,)   \n373  (0, 0, 0, 0, 0, 0, 0, 0, 0, 0, 0)   \n280             (101, 92, 80, 106, 68)   \n326              (0, 0, 0, 0, 0, 0, 0)   \n80                (125, 118, 119, 100)   \n318        (2, 5, 7, 3, 4, 4, 2, 5, 2)   \n289                    (163, 164, 182)   \n\n                                            mb_monthly  \\\n461                                             (0.0,)   \n373  (397.12, 174.84, 318.88, 525.7, 620.95, 333.02...   \n280  (32809.909999999996, 33560.95, 28270.239999999...   \n326  (13773.869999999999, 10373.98, 16207.380000000...   \n80   (45635.57000000001, 41440.55, 35319.6300000000...   \n318  (41925.72, 37037.350000000006, 44016.11, 38880...   \n289             (81717.17, 81301.68000000002, 87760.0)   \n\n                          session_monthly              extra_fee_min_monthly  \\\n461                                  (0,)                                [0]   \n373     (3, 1, 1, 2, 1, 1, 1, 3, 4, 5, 2)  [0, 0, 0, 0, 0, 0, 0, 0, 0, 0, 0]   \n280                (101, 92, 80, 106, 68)   [879.0, 585.0, 78.0, 753.0, 0.0]   \n326          (42, 30, 44, 44, 38, 48, 37)              [0, 0, 0, 0, 0, 0, 0]   \n80                   (125, 118, 119, 100)                       [0, 0, 0, 0]   \n318  (92, 90, 99, 92, 88, 92, 73, 91, 95)        [0, 0, 0, 0, 0, 0, 0, 0, 0]   \n289                       (163, 164, 182)                          [0, 0, 0]   \n\n                 extra_fee_sms_monthly  \\\n461                                [0]   \n373  [0, 0, 0, 0, 0, 0, 0, 0, 0, 0, 0]   \n280            [153, 126, 90, 168, 54]   \n326              [0, 0, 0, 0, 0, 0, 0]   \n80                        [0, 0, 0, 0]   \n318        [0, 0, 0, 0, 0, 0, 0, 0, 0]   \n289                          [0, 0, 0]   \n\n                                  extra_fee_gb_monthly  \\\n461                                                [0]   \n373                  [0, 0, 0, 0, 0, 0, 0, 0, 0, 0, 0]   \n280           [3600.0, 3600.0, 2600.0, 5000.0, 1800.0]   \n326              [0.0, 0.0, 200.0, 0.0, 0.0, 0.0, 0.0]   \n80                        [2250.0, 1650.0, 750.0, 0.0]   \n318  [1650.0, 1050.0, 1950.0, 1200.0, 600.0, 1050.0...   \n289                           [7500.0, 7500.0, 8400.0]   \n\n                               total_extra_fee_monthly  \\\n461                                                [0]   \n373                  [0, 0, 0, 0, 0, 0, 0, 0, 0, 0, 0]   \n280           [4632.0, 4311.0, 2768.0, 5921.0, 1854.0]   \n326              [0.0, 0.0, 200.0, 0.0, 0.0, 0.0, 0.0]   \n80                        [2250.0, 1650.0, 750.0, 0.0]   \n318  [1650.0, 1050.0, 1950.0, 1200.0, 600.0, 1050.0...   \n289                           [7500.0, 7500.0, 8400.0]   \n\n                                     total_fee_monthly  \n461                                             [1950]  \n373  [550, 550, 550, 550, 550, 550, 550, 550, 550, ...  \n280           [5182.0, 4861.0, 3318.0, 6471.0, 2404.0]  \n326  [550.0, 550.0, 750.0, 550.0, 550.0, 550.0, 550.0]  \n80                    [4200.0, 3600.0, 2700.0, 1950.0]  \n318  [3600.0, 3000.0, 3900.0, 3150.0, 2550.0, 3000....  \n289                          [9450.0, 9450.0, 10350.0]  ",
      "text/html": "<div>\n<style scoped>\n    .dataframe tbody tr th:only-of-type {\n        vertical-align: middle;\n    }\n\n    .dataframe tbody tr th {\n        vertical-align: top;\n    }\n\n    .dataframe thead th {\n        text-align: right;\n    }\n</style>\n<table border=\"1\" class=\"dataframe\">\n  <thead>\n    <tr style=\"text-align: right;\">\n      <th></th>\n      <th>user_id</th>\n      <th>month_usage</th>\n      <th>calls_monthly</th>\n      <th>minutes_monthly</th>\n      <th>messages_monthly</th>\n      <th>mb_monthly</th>\n      <th>session_monthly</th>\n      <th>extra_fee_min_monthly</th>\n      <th>extra_fee_sms_monthly</th>\n      <th>extra_fee_gb_monthly</th>\n      <th>total_extra_fee_monthly</th>\n      <th>total_fee_monthly</th>\n    </tr>\n  </thead>\n  <tbody>\n    <tr>\n      <th>461</th>\n      <td>1461</td>\n      <td>1</td>\n      <td>(88,)</td>\n      <td>(830.0,)</td>\n      <td>(0,)</td>\n      <td>(0.0,)</td>\n      <td>(0,)</td>\n      <td>[0]</td>\n      <td>[0]</td>\n      <td>[0]</td>\n      <td>[0]</td>\n      <td>[1950]</td>\n    </tr>\n    <tr>\n      <th>373</th>\n      <td>1373</td>\n      <td>11</td>\n      <td>(1, 1, 1, 1, 1, 1, 1, 3, 3, 2, 2)</td>\n      <td>(2.0, 7.0, 15.0, 5.0, 8.0, 8.0, 3.0, 21.0, 22....</td>\n      <td>(0, 0, 0, 0, 0, 0, 0, 0, 0, 0, 0)</td>\n      <td>(397.12, 174.84, 318.88, 525.7, 620.95, 333.02...</td>\n      <td>(3, 1, 1, 2, 1, 1, 1, 3, 4, 5, 2)</td>\n      <td>[0, 0, 0, 0, 0, 0, 0, 0, 0, 0, 0]</td>\n      <td>[0, 0, 0, 0, 0, 0, 0, 0, 0, 0, 0]</td>\n      <td>[0, 0, 0, 0, 0, 0, 0, 0, 0, 0, 0]</td>\n      <td>[0, 0, 0, 0, 0, 0, 0, 0, 0, 0, 0]</td>\n      <td>[550, 550, 550, 550, 550, 550, 550, 550, 550, ...</td>\n    </tr>\n    <tr>\n      <th>280</th>\n      <td>1280</td>\n      <td>5</td>\n      <td>(84, 79, 64, 88, 50)</td>\n      <td>(793.0, 695.0, 526.0, 751.0, 343.0)</td>\n      <td>(101, 92, 80, 106, 68)</td>\n      <td>(32809.909999999996, 33560.95, 28270.239999999...</td>\n      <td>(101, 92, 80, 106, 68)</td>\n      <td>[879.0, 585.0, 78.0, 753.0, 0.0]</td>\n      <td>[153, 126, 90, 168, 54]</td>\n      <td>[3600.0, 3600.0, 2600.0, 5000.0, 1800.0]</td>\n      <td>[4632.0, 4311.0, 2768.0, 5921.0, 1854.0]</td>\n      <td>[5182.0, 4861.0, 3318.0, 6471.0, 2404.0]</td>\n    </tr>\n    <tr>\n      <th>326</th>\n      <td>1326</td>\n      <td>7</td>\n      <td>(31, 25, 40, 35, 30, 39, 26)</td>\n      <td>(295.0, 275.0, 370.0, 311.0, 285.0, 395.0, 254.0)</td>\n      <td>(0, 0, 0, 0, 0, 0, 0)</td>\n      <td>(13773.869999999999, 10373.98, 16207.380000000...</td>\n      <td>(42, 30, 44, 44, 38, 48, 37)</td>\n      <td>[0, 0, 0, 0, 0, 0, 0]</td>\n      <td>[0, 0, 0, 0, 0, 0, 0]</td>\n      <td>[0.0, 0.0, 200.0, 0.0, 0.0, 0.0, 0.0]</td>\n      <td>[0.0, 0.0, 200.0, 0.0, 0.0, 0.0, 0.0]</td>\n      <td>[550.0, 550.0, 750.0, 550.0, 550.0, 550.0, 550.0]</td>\n    </tr>\n    <tr>\n      <th>80</th>\n      <td>1080</td>\n      <td>4</td>\n      <td>(101, 93, 99, 74)</td>\n      <td>(905.0, 799.0, 812.0, 626.0)</td>\n      <td>(125, 118, 119, 100)</td>\n      <td>(45635.57000000001, 41440.55, 35319.6300000000...</td>\n      <td>(125, 118, 119, 100)</td>\n      <td>[0, 0, 0, 0]</td>\n      <td>[0, 0, 0, 0]</td>\n      <td>[2250.0, 1650.0, 750.0, 0.0]</td>\n      <td>[2250.0, 1650.0, 750.0, 0.0]</td>\n      <td>[4200.0, 3600.0, 2700.0, 1950.0]</td>\n    </tr>\n    <tr>\n      <th>318</th>\n      <td>1318</td>\n      <td>9</td>\n      <td>(75, 66, 82, 79, 67, 79, 52, 77, 77)</td>\n      <td>(636.0, 566.0, 789.0, 667.0, 603.0, 676.0, 385...</td>\n      <td>(2, 5, 7, 3, 4, 4, 2, 5, 2)</td>\n      <td>(41925.72, 37037.350000000006, 44016.11, 38880...</td>\n      <td>(92, 90, 99, 92, 88, 92, 73, 91, 95)</td>\n      <td>[0, 0, 0, 0, 0, 0, 0, 0, 0]</td>\n      <td>[0, 0, 0, 0, 0, 0, 0, 0, 0]</td>\n      <td>[1650.0, 1050.0, 1950.0, 1200.0, 600.0, 1050.0...</td>\n      <td>[1650.0, 1050.0, 1950.0, 1200.0, 600.0, 1050.0...</td>\n      <td>[3600.0, 3000.0, 3900.0, 3150.0, 2550.0, 3000....</td>\n    </tr>\n    <tr>\n      <th>289</th>\n      <td>1289</td>\n      <td>3</td>\n      <td>(140, 137, 144)</td>\n      <td>(1186.0, 1053.0, 1257.0)</td>\n      <td>(163, 164, 182)</td>\n      <td>(81717.17, 81301.68000000002, 87760.0)</td>\n      <td>(163, 164, 182)</td>\n      <td>[0, 0, 0]</td>\n      <td>[0, 0, 0]</td>\n      <td>[7500.0, 7500.0, 8400.0]</td>\n      <td>[7500.0, 7500.0, 8400.0]</td>\n      <td>[9450.0, 9450.0, 10350.0]</td>\n    </tr>\n  </tbody>\n</table>\n</div>"
     },
     "metadata": {},
     "output_type": "display_data"
    }
   ],
   "source": [
    "display(\n",
    "    user_profit.sample(7)\n",
    ")"
   ],
   "metadata": {
    "collapsed": false,
    "pycharm": {
     "name": "#%%\n"
    }
   }
  },
  {
   "cell_type": "code",
   "execution_count": 680,
   "outputs": [],
   "source": [],
   "metadata": {
    "collapsed": false,
    "pycharm": {
     "name": "#%%\n"
    }
   }
  },
  {
   "cell_type": "markdown",
   "source": [
    "#### объем израсходованного интернет-трафика по месяцам;"
   ],
   "metadata": {
    "collapsed": false,
    "pycharm": {
     "name": "#%% md\n"
    }
   }
  },
  {
   "cell_type": "code",
   "execution_count": 680,
   "outputs": [],
   "source": [],
   "metadata": {
    "collapsed": false,
    "pycharm": {
     "name": "#%%\n"
    }
   }
  },
  {
   "cell_type": "markdown",
   "source": [
    "#### помесячную выручку с каждого пользователя"
   ],
   "metadata": {
    "collapsed": false,
    "pycharm": {
     "name": "#%% md\n"
    }
   }
  },
  {
   "cell_type": "markdown",
   "source": [
    "(вычтите бесплатный лимит из суммарного количества звонков, сообщений и интернет-трафика; остаток умножьте на значение из тарифного плана; прибавьте абонентскую плату, соответствующую тарифному плану)."
   ],
   "metadata": {
    "collapsed": false,
    "pycharm": {
     "name": "#%% md\n"
    }
   }
  },
  {
   "cell_type": "code",
   "execution_count": 680,
   "outputs": [],
   "source": [],
   "metadata": {
    "collapsed": false,
    "pycharm": {
     "name": "#%%\n"
    }
   }
  },
  {
   "cell_type": "code",
   "execution_count": 680,
   "outputs": [],
   "source": [],
   "metadata": {
    "collapsed": false,
    "pycharm": {
     "name": "#%%\n"
    }
   }
  },
  {
   "cell_type": "markdown",
   "source": [],
   "metadata": {
    "collapsed": false,
    "pycharm": {
     "name": "#%% md\n"
    }
   }
  },
  {
   "cell_type": "markdown",
   "source": [],
   "metadata": {
    "collapsed": false,
    "pycharm": {
     "name": "#%% md\n"
    }
   }
  },
  {
   "cell_type": "markdown",
   "source": [
    "<hr>"
   ],
   "metadata": {
    "collapsed": false,
    "pycharm": {
     "name": "#%% md\n"
    }
   }
  },
  {
   "cell_type": "markdown",
   "source": [
    "## Шаг 3. Анализ данных"
   ],
   "metadata": {
    "collapsed": false,
    "pycharm": {
     "name": "#%% md\n"
    }
   }
  },
  {
   "cell_type": "code",
   "execution_count": 680,
   "outputs": [],
   "source": [],
   "metadata": {
    "collapsed": false,
    "pycharm": {
     "name": "#%%\n"
    }
   }
  },
  {
   "cell_type": "markdown",
   "source": [
    "### Описание поведения клиентов оператора, исходя из выборки."
   ],
   "metadata": {
    "collapsed": false,
    "pycharm": {
     "name": "#%% md\n"
    }
   }
  },
  {
   "cell_type": "markdown",
   "source": [
    "#### Сколько минут разговора требуется пользователям каждого тарифа в месяц?"
   ],
   "metadata": {
    "collapsed": false,
    "pycharm": {
     "name": "#%% md\n"
    }
   }
  },
  {
   "cell_type": "markdown",
   "source": [
    "###### users of «smart»"
   ],
   "metadata": {
    "collapsed": false,
    "pycharm": {
     "name": "#%% md\n"
    }
   }
  },
  {
   "cell_type": "code",
   "execution_count": 681,
   "outputs": [
    {
     "data": {
      "text/plain": "<AxesSubplot:ylabel='Count'>"
     },
     "execution_count": 681,
     "metadata": {},
     "output_type": "execute_result"
    },
    {
     "data": {
      "text/plain": "<Figure size 1080x504 with 1 Axes>",
      "image/png": "[encoded data removed]"
     },
     "metadata": {},
     "output_type": "display_data"
    }
   ],
   "source": [
    "sm_min_arr = []\n",
    "\n",
    "user_profit.loc[users_of_smart_gt_month\n",
    "    , 'minutes_monthly'\n",
    "    ].apply(\n",
    "        lambda ma: sm_min_arr.extend(ma)\n",
    "    )\n",
    "\n",
    "sns.histplot(sm_min_arr,\n",
    "    bins=int(len(sm_min_arr)),\n",
    "    color='salmon',\n",
    "    kde=True,\n",
    " )"
   ],
   "metadata": {
    "collapsed": false,
    "pycharm": {
     "name": "#%%\n"
    }
   }
  },
  {
   "cell_type": "markdown",
   "source": [],
   "metadata": {
    "collapsed": false,
    "pycharm": {
     "name": "#%% md\n"
    }
   }
  },
  {
   "cell_type": "code",
   "execution_count": 682,
   "outputs": [],
   "source": [
    "sm_min_ser = pd.Series(sm_min_arr, dtype=int)"
   ],
   "metadata": {
    "collapsed": false,
    "pycharm": {
     "name": "#%%\n"
    }
   }
  },
  {
   "cell_type": "code",
   "execution_count": 683,
   "outputs": [
    {
     "data": {
      "text/plain": "count    1876.000000\nmean      450.265458\nstd       174.036091\nmin         0.000000\n25%       330.000000\n50%       449.000000\n75%       563.000000\nmax      1378.000000\ndtype: float64"
     },
     "metadata": {},
     "output_type": "display_data"
    }
   ],
   "source": [
    "display(\n",
    "    sm_min_ser.describe()\n",
    ")"
   ],
   "metadata": {
    "collapsed": false,
    "pycharm": {
     "name": "#%%\n"
    }
   }
  },
  {
   "cell_type": "code",
   "execution_count": 684,
   "outputs": [],
   "source": [
    "sm_dispersion = np.var(sm_min_ser, ddof=1)"
   ],
   "metadata": {
    "collapsed": false,
    "pycharm": {
     "name": "#%%\n"
    }
   }
  },
  {
   "cell_type": "code",
   "execution_count": 685,
   "outputs": [],
   "source": [
    "sm_standard_deviation = np.std(sm_min_ser, ddof=1)"
   ],
   "metadata": {
    "collapsed": false,
    "pycharm": {
     "name": "#%%\n"
    }
   }
  },
  {
   "cell_type": "code",
   "execution_count": 686,
   "outputs": [
    {
     "name": "stdout",
     "output_type": "stream",
     "text": [
      "«smart» dispersion 30288.56\n",
      "«smart» standard deviation 174.04\n"
     ]
    }
   ],
   "source": [
    "print('«smart» dispersion',\n",
    "    round(sm_dispersion, 2)\n",
    ")\n",
    "print('«smart» standard deviation',\n",
    "      round(sm_standard_deviation, 2)\n",
    "      )"
   ],
   "metadata": {
    "collapsed": false,
    "pycharm": {
     "name": "#%%\n"
    }
   }
  },
  {
   "cell_type": "markdown",
   "source": [
    "###### users of «ultra»"
   ],
   "metadata": {
    "collapsed": false,
    "pycharm": {
     "name": "#%% md\n"
    }
   }
  },
  {
   "cell_type": "code",
   "execution_count": 687,
   "outputs": [
    {
     "data": {
      "text/plain": "<AxesSubplot:ylabel='Count'>"
     },
     "execution_count": 687,
     "metadata": {},
     "output_type": "execute_result"
    },
    {
     "data": {
      "text/plain": "<Figure size 1080x504 with 1 Axes>",
      "image/png": "[encoded data removed]"
     },
     "metadata": {},
     "output_type": "display_data"
    }
   ],
   "source": [
    "ul_min_arr = []\n",
    "\n",
    "user_profit.loc[users_of_ultra_gt_month\n",
    "    , 'minutes_monthly'\n",
    "    ].apply(\n",
    "        lambda ma: ul_min_arr.extend(ma)\n",
    "    )\n",
    "\n",
    "sns.histplot(ul_min_arr,\n",
    "    bins=int(len(ul_min_arr)),\n",
    "    color='aquamarine',\n",
    "    kde=True,\n",
    " )"
   ],
   "metadata": {
    "collapsed": false,
    "pycharm": {
     "name": "#%%\n"
    }
   }
  },
  {
   "cell_type": "code",
   "execution_count": 688,
   "outputs": [],
   "source": [
    "ul_min_ser = pd.Series(ul_min_arr, dtype=int)"
   ],
   "metadata": {
    "collapsed": false,
    "pycharm": {
     "name": "#%%\n"
    }
   }
  },
  {
   "cell_type": "code",
   "execution_count": 689,
   "outputs": [
    {
     "data": {
      "text/plain": "count     831.000000\nmean      568.814681\nstd       304.278268\nmin         0.000000\n25%       349.500000\n50%       556.000000\n75%       771.000000\nmax      1593.000000\ndtype: float64"
     },
     "metadata": {},
     "output_type": "display_data"
    }
   ],
   "source": [
    "display(\n",
    "    ul_min_ser.describe()\n",
    ")"
   ],
   "metadata": {
    "collapsed": false,
    "pycharm": {
     "name": "#%%\n"
    }
   }
  },
  {
   "cell_type": "code",
   "execution_count": 690,
   "outputs": [],
   "source": [
    "ul_dispersion = np.var(ul_min_ser, ddof=1)"
   ],
   "metadata": {
    "collapsed": false,
    "pycharm": {
     "name": "#%%\n"
    }
   }
  },
  {
   "cell_type": "code",
   "execution_count": 691,
   "outputs": [],
   "source": [
    "ul_standard_deviation = np.std(ul_min_ser, ddof=1)"
   ],
   "metadata": {
    "collapsed": false,
    "pycharm": {
     "name": "#%%\n"
    }
   }
  },
  {
   "cell_type": "code",
   "execution_count": 692,
   "outputs": [
    {
     "name": "stdout",
     "output_type": "stream",
     "text": [
      "«ultra» dispersion 92585.26\n",
      "«ultra» standard deviation 304.28\n"
     ]
    }
   ],
   "source": [
    "print('«ultra» dispersion',\n",
    "    round(ul_dispersion, 2)\n",
    ")\n",
    "print('«ultra» standard deviation',\n",
    "    round(ul_standard_deviation, 2)\n",
    ")"
   ],
   "metadata": {
    "collapsed": false,
    "pycharm": {
     "name": "#%%\n"
    }
   }
  },
  {
   "cell_type": "markdown",
   "source": [],
   "metadata": {
    "collapsed": false,
    "pycharm": {
     "name": "#%% md\n"
    }
   }
  },
  {
   "cell_type": "markdown",
   "source": [
    " ##### Среднее количество минут, дисперсия и стандартное отклонение."
   ],
   "metadata": {
    "collapsed": false,
    "pycharm": {
     "name": "#%% md\n"
    }
   }
  },
  {
   "cell_type": "code",
   "execution_count": 692,
   "outputs": [],
   "source": [],
   "metadata": {
    "collapsed": false,
    "pycharm": {
     "name": "#%%\n"
    }
   }
  },
  {
   "cell_type": "markdown",
   "source": [
    "##### Гистограммы минут разговора."
   ],
   "metadata": {
    "collapsed": false,
    "pycharm": {
     "name": "#%% md\n"
    }
   }
  },
  {
   "cell_type": "code",
   "execution_count": 692,
   "outputs": [],
   "source": [],
   "metadata": {
    "collapsed": false,
    "pycharm": {
     "name": "#%%\n"
    }
   }
  },
  {
   "cell_type": "markdown",
   "source": [
    "##### Описание распределений минут разговора."
   ],
   "metadata": {
    "collapsed": false,
    "pycharm": {
     "name": "#%% md\n"
    }
   }
  },
  {
   "cell_type": "markdown",
   "source": [],
   "metadata": {
    "collapsed": false,
    "pycharm": {
     "name": "#%% md\n"
    }
   }
  },
  {
   "cell_type": "markdown",
   "source": [
    "<hr>"
   ],
   "metadata": {
    "collapsed": false,
    "pycharm": {
     "name": "#%% md\n"
    }
   }
  },
  {
   "cell_type": "markdown",
   "source": [
    "#### Сколько сообщений требуется пользователям каждого тарифа в месяц?"
   ],
   "metadata": {
    "collapsed": false,
    "pycharm": {
     "name": "#%% md\n"
    }
   }
  },
  {
   "cell_type": "markdown",
   "source": [
    "###### users of «smart»"
   ],
   "metadata": {
    "collapsed": false,
    "pycharm": {
     "name": "#%% md\n"
    }
   }
  },
  {
   "cell_type": "code",
   "execution_count": 693,
   "outputs": [],
   "source": [
    "sm_sms_arr = []\n",
    "\n",
    "user_profit.loc[users_of_smart_gt_month\n",
    "        , 'messages_monthly'\n",
    "    ].apply(\n",
    "        lambda sms: sm_sms_arr.extend(sms)\n",
    ")\n",
    "\n",
    "sm_sms_monthly = pd.Series(data=sm_sms_arr, dtype=int)"
   ],
   "metadata": {
    "collapsed": false,
    "pycharm": {
     "name": "#%%\n"
    }
   }
  },
  {
   "cell_type": "markdown",
   "source": [
    "###### users of «ultra»"
   ],
   "metadata": {
    "collapsed": false,
    "pycharm": {
     "name": "#%% md\n"
    }
   }
  },
  {
   "cell_type": "code",
   "execution_count": 694,
   "outputs": [],
   "source": [
    "ul_sms_arr = []\n",
    "\n",
    "user_profit.loc[users_of_ultra_gt_month\n",
    "        , 'messages_monthly'\n",
    "    ].apply(\n",
    "        lambda sms: ul_sms_arr.extend(sms)\n",
    ")\n",
    "\n",
    "ul_sms_monthly = pd.Series(data=ul_sms_arr, dtype=int)"
   ],
   "metadata": {
    "collapsed": false,
    "pycharm": {
     "name": "#%%\n"
    }
   }
  },
  {
   "cell_type": "markdown",
   "source": [
    "##### Гистограммы сообщений."
   ],
   "metadata": {
    "collapsed": false,
    "pycharm": {
     "name": "#%% md\n"
    }
   }
  },
  {
   "cell_type": "markdown",
   "source": [
    "###### users of «smart»"
   ],
   "metadata": {
    "collapsed": false,
    "pycharm": {
     "name": "#%% md\n"
    }
   }
  },
  {
   "cell_type": "code",
   "execution_count": 695,
   "outputs": [
    {
     "data": {
      "text/plain": "<AxesSubplot:ylabel='Count'>"
     },
     "execution_count": 695,
     "metadata": {},
     "output_type": "execute_result"
    },
    {
     "data": {
      "text/plain": "<Figure size 1080x504 with 1 Axes>",
      "image/png": "[encoded data removed]"
     },
     "metadata": {},
     "output_type": "display_data"
    }
   ],
   "source": [
    "sns.histplot(sm_sms_arr,\n",
    "             bins=int(len(sm_sms_arr)),\n",
    "             color='salmon',\n",
    "             kde=True,\n",
    "             )"
   ],
   "metadata": {
    "collapsed": false,
    "pycharm": {
     "name": "#%%\n"
    }
   }
  },
  {
   "cell_type": "code",
   "execution_count": 696,
   "outputs": [
    {
     "data": {
      "text/plain": "<AxesSubplot:ylabel='Count'>"
     },
     "execution_count": 696,
     "metadata": {},
     "output_type": "execute_result"
    },
    {
     "data": {
      "text/plain": "<Figure size 1080x504 with 1 Axes>",
      "image/png": "[encoded data removed]"
     },
     "metadata": {},
     "output_type": "display_data"
    }
   ],
   "source": [
    "sm_sms_wo_zero = list(sm_sms_monthly.loc[sm_sms_monthly != 0])\n",
    "\n",
    "sns.histplot(sm_sms_wo_zero,\n",
    "             bins=int(len(sm_sms_wo_zero)),\n",
    "             color='salmon',\n",
    "             kde=True,\n",
    "             )"
   ],
   "metadata": {
    "collapsed": false,
    "pycharm": {
     "name": "#%%\n"
    }
   }
  },
  {
   "cell_type": "markdown",
   "source": [
    "###### users of «ultra»"
   ],
   "metadata": {
    "collapsed": false,
    "pycharm": {
     "name": "#%% md\n"
    }
   }
  },
  {
   "cell_type": "code",
   "execution_count": 697,
   "outputs": [
    {
     "data": {
      "text/plain": "<AxesSubplot:ylabel='Count'>"
     },
     "execution_count": 697,
     "metadata": {},
     "output_type": "execute_result"
    },
    {
     "data": {
      "text/plain": "<Figure size 1080x504 with 1 Axes>",
      "image/png": "[encoded data removed]"
     },
     "metadata": {},
     "output_type": "display_data"
    }
   ],
   "source": [
    "sns.histplot(ul_sms_arr,\n",
    "    bins=int(len(ul_sms_arr)),\n",
    "    color='aquamarine',\n",
    "    kde=True,\n",
    ")"
   ],
   "metadata": {
    "collapsed": false,
    "pycharm": {
     "name": "#%%\n"
    }
   }
  },
  {
   "cell_type": "code",
   "execution_count": 698,
   "outputs": [
    {
     "data": {
      "text/plain": "<AxesSubplot:ylabel='Count'>"
     },
     "execution_count": 698,
     "metadata": {},
     "output_type": "execute_result"
    },
    {
     "data": {
      "text/plain": "<Figure size 1080x504 with 1 Axes>",
      "image/png": "[encoded data removed]"
     },
     "metadata": {},
     "output_type": "display_data"
    }
   ],
   "source": [
    "ul_sms_wo_zero = list(ul_sms_monthly.loc[ul_sms_monthly != 0])\n",
    "\n",
    "sns.histplot(ul_sms_wo_zero,\n",
    "    bins=int(len(ul_sms_wo_zero)),\n",
    "    color='aquamarine',\n",
    "    kde=True,\n",
    ")"
   ],
   "metadata": {
    "collapsed": false,
    "pycharm": {
     "name": "#%%\n"
    }
   }
  },
  {
   "cell_type": "markdown",
   "source": [
    " ##### Среднее количество сообщений, дисперсия и стандартное отклонение."
   ],
   "metadata": {
    "collapsed": false,
    "pycharm": {
     "name": "#%% md\n"
    }
   }
  },
  {
   "cell_type": "markdown",
   "source": [
    "###### users of «smart»"
   ],
   "metadata": {
    "collapsed": false,
    "pycharm": {
     "name": "#%% md\n"
    }
   }
  },
  {
   "cell_type": "code",
   "execution_count": 699,
   "outputs": [],
   "source": [
    "sm_sms_dispersion = np.var(sm_sms_arr, ddof=1)"
   ],
   "metadata": {
    "collapsed": false,
    "pycharm": {
     "name": "#%%\n"
    }
   }
  },
  {
   "cell_type": "code",
   "execution_count": 700,
   "outputs": [],
   "source": [
    "sm_sms_standard_deviation = np.std(sm_sms_arr, ddof=1)"
   ],
   "metadata": {
    "collapsed": false,
    "pycharm": {
     "name": "#%%\n"
    }
   }
  },
  {
   "cell_type": "code",
   "execution_count": 700,
   "outputs": [],
   "source": [],
   "metadata": {
    "collapsed": false,
    "pycharm": {
     "name": "#%%\n"
    }
   }
  },
  {
   "cell_type": "code",
   "execution_count": 701,
   "outputs": [
    {
     "name": "stdout",
     "output_type": "stream",
     "text": [
      "«smart» sms\n",
      "\n",
      "var\t\t1241.641\n",
      "std\t\t35.237\n",
      "\n",
      "count    1876.000000\n",
      "mean       41.278785\n",
      "std        35.236929\n",
      "min         0.000000\n",
      "25%         0.000000\n",
      "50%        48.000000\n",
      "75%        70.000000\n",
      "max       183.000000\n",
      "dtype: float64\n"
     ]
    }
   ],
   "source": [
    "print('«smart» sms', end='\\n\\n')\n",
    "print('var'\n",
    "    , round(sm_sms_dispersion, 3)\n",
    "    , sep='\\t\\t'\n",
    ")\n",
    "print('std'\n",
    "    , round(sm_sms_standard_deviation, 3)\n",
    "    , sep='\\t\\t'\n",
    "    , end='\\n\\n'\n",
    ")\n",
    "print(sm_sms_monthly.describe())"
   ],
   "metadata": {
    "collapsed": false,
    "pycharm": {
     "name": "#%%\n"
    }
   }
  },
  {
   "cell_type": "markdown",
   "source": [
    "###### users of «ultra»"
   ],
   "metadata": {
    "collapsed": false,
    "pycharm": {
     "name": "#%% md\n"
    }
   }
  },
  {
   "cell_type": "code",
   "execution_count": 702,
   "outputs": [],
   "source": [
    "ul_sms_dispersion = np.var(ul_sms_arr, ddof=1)"
   ],
   "metadata": {
    "collapsed": false,
    "pycharm": {
     "name": "#%%\n"
    }
   }
  },
  {
   "cell_type": "code",
   "execution_count": 703,
   "outputs": [],
   "source": [
    "ul_sms_standard_deviation = np.std(ul_sms_arr, ddof=1)"
   ],
   "metadata": {
    "collapsed": false,
    "pycharm": {
     "name": "#%%\n"
    }
   }
  },
  {
   "cell_type": "code",
   "execution_count": 703,
   "outputs": [],
   "source": [],
   "metadata": {
    "collapsed": false,
    "pycharm": {
     "name": "#%%\n"
    }
   }
  },
  {
   "cell_type": "code",
   "execution_count": 704,
   "outputs": [
    {
     "name": "stdout",
     "output_type": "stream",
     "text": [
      "«ultra» sms\n",
      "\n",
      "var\t\t2299.4\n",
      "std\t\t47.952\n",
      "\n",
      "count    831.000000\n",
      "mean      40.936221\n",
      "std       47.952055\n",
      "min        0.000000\n",
      "25%        0.000000\n",
      "50%       26.000000\n",
      "75%       76.500000\n",
      "max      188.000000\n",
      "dtype: float64\n"
     ]
    }
   ],
   "source": [
    "print('«ultra» sms', end='\\n\\n')\n",
    "print('var'\n",
    "    , round(ul_sms_dispersion, 3)\n",
    "    , sep='\\t\\t'\n",
    ")\n",
    "print('std'\n",
    "    , round(ul_sms_standard_deviation, 3)\n",
    "    , sep='\\t\\t'\n",
    "    , end='\\n\\n'\n",
    ")\n",
    "print(ul_sms_monthly.describe())"
   ],
   "metadata": {
    "collapsed": false,
    "pycharm": {
     "name": "#%%\n"
    }
   }
  },
  {
   "cell_type": "markdown",
   "source": [
    "##### Описание распределений сообщений."
   ],
   "metadata": {
    "collapsed": false,
    "pycharm": {
     "name": "#%% md\n"
    }
   }
  },
  {
   "cell_type": "markdown",
   "source": [
    "###### users of «smart»"
   ],
   "metadata": {
    "collapsed": false,
    "pycharm": {
     "name": "#%% md\n"
    }
   }
  },
  {
   "cell_type": "markdown",
   "source": [
    "###### users of «ultra»"
   ],
   "metadata": {
    "collapsed": false,
    "pycharm": {
     "name": "#%% md\n"
    }
   }
  },
  {
   "cell_type": "markdown",
   "source": [],
   "metadata": {
    "collapsed": false,
    "pycharm": {
     "name": "#%% md\n"
    }
   }
  },
  {
   "cell_type": "markdown",
   "source": [
    "<hr>"
   ],
   "metadata": {
    "collapsed": false,
    "pycharm": {
     "name": "#%% md\n"
    }
   }
  },
  {
   "cell_type": "markdown",
   "source": [
    "#### Какой объём интернет-трафика требуется пользователям каждого тарифа в месяц?"
   ],
   "metadata": {
    "collapsed": false,
    "pycharm": {
     "name": "#%% md\n"
    }
   }
  },
  {
   "cell_type": "markdown",
   "source": [
    "#### Какая выручка от каждого тарифа в месяц?"
   ],
   "metadata": {
    "collapsed": false,
    "pycharm": {
     "name": "#%% md\n"
    }
   }
  },
  {
   "cell_type": "markdown",
   "source": [
    "###### users of «smart»"
   ],
   "metadata": {
    "collapsed": false,
    "pycharm": {
     "name": "#%% md\n"
    }
   }
  },
  {
   "cell_type": "code",
   "execution_count": 705,
   "outputs": [],
   "source": [
    "sm_gb_arr = []\n",
    "\n",
    "user_profit.loc[users_of_smart_gt_month\n",
    "        , 'mb_monthly'\n",
    "    ].apply(\n",
    "        lambda mb: sm_gb_arr.extend(\n",
    "            np.round(\n",
    "                np.array(mb) / mb_in_gb\n",
    "            )\n",
    "        )\n",
    ")\n",
    "\n",
    "sm_gb_monthly = pd.Series(data=sm_gb_arr, dtype=int)"
   ],
   "metadata": {
    "collapsed": false,
    "pycharm": {
     "name": "#%%\n"
    }
   }
  },
  {
   "cell_type": "markdown",
   "source": [
    "###### users of «ultra»"
   ],
   "metadata": {
    "collapsed": false,
    "pycharm": {
     "name": "#%% md\n"
    }
   }
  },
  {
   "cell_type": "code",
   "execution_count": 706,
   "outputs": [],
   "source": [
    "ul_gb_arr = []\n",
    "\n",
    "user_profit.loc[users_of_ultra_gt_month\n",
    "        , 'mb_monthly'\n",
    "    ].apply(\n",
    "        lambda mb: ul_gb_arr.extend(\n",
    "            np.round(\n",
    "                np.array(mb) / mb_in_gb\n",
    "            )\n",
    "        )\n",
    ")\n",
    "\n",
    "ul_gb_monthly = pd.Series(data=ul_gb_arr, dtype=int)"
   ],
   "metadata": {
    "collapsed": false,
    "pycharm": {
     "name": "#%%\n"
    }
   }
  },
  {
   "cell_type": "markdown",
   "source": [
    "##### Гистограммы интернет-трафика."
   ],
   "metadata": {
    "collapsed": false,
    "pycharm": {
     "name": "#%% md\n"
    }
   }
  },
  {
   "cell_type": "markdown",
   "source": [
    "###### users of «smart»"
   ],
   "metadata": {
    "collapsed": false,
    "pycharm": {
     "name": "#%% md\n"
    }
   }
  },
  {
   "cell_type": "code",
   "execution_count": 707,
   "outputs": [
    {
     "data": {
      "text/plain": "<AxesSubplot:ylabel='Count'>"
     },
     "execution_count": 707,
     "metadata": {},
     "output_type": "execute_result"
    },
    {
     "data": {
      "text/plain": "<Figure size 1080x504 with 1 Axes>",
      "image/png": "[encoded data removed]"
     },
     "metadata": {},
     "output_type": "display_data"
    }
   ],
   "source": [
    "sns.histplot(sm_gb_arr,\n",
    "             bins=int(len(sm_gb_arr)),\n",
    "             color='salmon',\n",
    "             kde=True,\n",
    "             )"
   ],
   "metadata": {
    "collapsed": false,
    "pycharm": {
     "name": "#%%\n"
    }
   }
  },
  {
   "cell_type": "code",
   "execution_count": 708,
   "outputs": [
    {
     "data": {
      "text/plain": "<AxesSubplot:ylabel='Count'>"
     },
     "execution_count": 708,
     "metadata": {},
     "output_type": "execute_result"
    },
    {
     "data": {
      "text/plain": "<Figure size 1080x504 with 1 Axes>",
      "image/png": "[encoded data removed]"
     },
     "metadata": {},
     "output_type": "display_data"
    }
   ],
   "source": [
    "sm_gb_wo_zero = list(sm_gb_monthly.loc[sm_gb_monthly != 0])\n",
    "\n",
    "\n",
    "sns.histplot(sm_gb_wo_zero,\n",
    "             bins=int(len(sm_gb_wo_zero)),\n",
    "             color='salmon',\n",
    "             kde=True,\n",
    "             )"
   ],
   "metadata": {
    "collapsed": false,
    "pycharm": {
     "name": "#%%\n"
    }
   }
  },
  {
   "cell_type": "markdown",
   "source": [
    "###### users of «ultra»"
   ],
   "metadata": {
    "collapsed": false,
    "pycharm": {
     "name": "#%% md\n"
    }
   }
  },
  {
   "cell_type": "code",
   "execution_count": 709,
   "outputs": [
    {
     "data": {
      "text/plain": "<AxesSubplot:ylabel='Count'>"
     },
     "execution_count": 709,
     "metadata": {},
     "output_type": "execute_result"
    },
    {
     "data": {
      "text/plain": "<Figure size 1080x504 with 1 Axes>",
      "image/png": "[encoded data removed]"
     },
     "metadata": {},
     "output_type": "display_data"
    }
   ],
   "source": [
    "sns.histplot(ul_gb_arr,\n",
    "    bins=int(len(ul_gb_arr)),\n",
    "    color='aquamarine',\n",
    "    kde=True,\n",
    ")"
   ],
   "metadata": {
    "collapsed": false,
    "pycharm": {
     "name": "#%%\n"
    }
   }
  },
  {
   "cell_type": "code",
   "execution_count": 710,
   "outputs": [
    {
     "data": {
      "text/plain": "<AxesSubplot:ylabel='Count'>"
     },
     "execution_count": 710,
     "metadata": {},
     "output_type": "execute_result"
    },
    {
     "data": {
      "text/plain": "<Figure size 1080x504 with 1 Axes>",
      "image/png": "[encoded data removed]"
     },
     "metadata": {},
     "output_type": "display_data"
    }
   ],
   "source": [
    "ul_gb_wo_zero = list(ul_gb_monthly.loc[ul_gb_monthly != 0])\n",
    "\n",
    "sns.histplot(ul_gb_wo_zero,\n",
    "    bins=int(len(ul_gb_wo_zero)),\n",
    "    color='aquamarine',\n",
    "    kde=True,\n",
    ")"
   ],
   "metadata": {
    "collapsed": false,
    "pycharm": {
     "name": "#%%\n"
    }
   }
  },
  {
   "cell_type": "code",
   "execution_count": 710,
   "outputs": [],
   "source": [],
   "metadata": {
    "collapsed": false,
    "pycharm": {
     "name": "#%%\n"
    }
   }
  },
  {
   "cell_type": "markdown",
   "source": [
    " Посчитайте среднее количество интернет-трафика, дисперсию и стандартное отклонение."
   ],
   "metadata": {
    "collapsed": false,
    "pycharm": {
     "name": "#%% md\n"
    }
   }
  },
  {
   "cell_type": "markdown",
   "source": [
    "###### users of «smart»"
   ],
   "metadata": {
    "collapsed": false,
    "pycharm": {
     "name": "#%% md\n"
    }
   }
  },
  {
   "cell_type": "code",
   "execution_count": 711,
   "outputs": [],
   "source": [
    "sm_gb_dispersion = np.var(sm_gb_arr, ddof=1)"
   ],
   "metadata": {
    "collapsed": false,
    "pycharm": {
     "name": "#%%\n"
    }
   }
  },
  {
   "cell_type": "code",
   "execution_count": 712,
   "outputs": [],
   "source": [
    "sm_gb_standard_deviation = np.std(sm_gb_arr, ddof=1)"
   ],
   "metadata": {
    "collapsed": false,
    "pycharm": {
     "name": "#%%\n"
    }
   }
  },
  {
   "cell_type": "code",
   "execution_count": 712,
   "outputs": [],
   "source": [],
   "metadata": {
    "collapsed": false,
    "pycharm": {
     "name": "#%%\n"
    }
   }
  },
  {
   "cell_type": "code",
   "execution_count": 713,
   "outputs": [
    {
     "name": "stdout",
     "output_type": "stream",
     "text": [
      "«smart» gb\n",
      "\n",
      "var\t\t160.973\n",
      "std\t\t12.688\n",
      "\n",
      "count    1876.000000\n",
      "mean       16.924840\n",
      "std        12.687514\n",
      "min         0.000000\n",
      "25%         0.000000\n",
      "50%        18.000000\n",
      "75%        26.000000\n",
      "max        94.000000\n",
      "dtype: float64\n"
     ]
    }
   ],
   "source": [
    "print('«smart» gb', end='\\n\\n')\n",
    "print('var'\n",
    "      , round(sm_gb_dispersion, 3)\n",
    "      , sep='\\t\\t'\n",
    "      )\n",
    "print('std'\n",
    "      , round(sm_gb_standard_deviation, 3)\n",
    "      , sep='\\t\\t'\n",
    "      , end='\\n\\n'\n",
    "      )\n",
    "print(sm_gb_monthly.describe())"
   ],
   "metadata": {
    "collapsed": false,
    "pycharm": {
     "name": "#%%\n"
    }
   }
  },
  {
   "cell_type": "markdown",
   "source": [
    "###### users of «ultra»"
   ],
   "metadata": {
    "collapsed": false,
    "pycharm": {
     "name": "#%% md\n"
    }
   }
  },
  {
   "cell_type": "code",
   "execution_count": 714,
   "outputs": [],
   "source": [
    "ul_gb_dispersion = np.var(ul_gb_arr, ddof=1)"
   ],
   "metadata": {
    "collapsed": false,
    "pycharm": {
     "name": "#%%\n"
    }
   }
  },
  {
   "cell_type": "code",
   "execution_count": 715,
   "outputs": [],
   "source": [
    "ul_gb_standard_deviation = np.std(ul_gb_arr, ddof=1)"
   ],
   "metadata": {
    "collapsed": false,
    "pycharm": {
     "name": "#%%\n"
    }
   }
  },
  {
   "cell_type": "code",
   "execution_count": 715,
   "outputs": [],
   "source": [],
   "metadata": {
    "collapsed": false,
    "pycharm": {
     "name": "#%%\n"
    }
   }
  },
  {
   "cell_type": "code",
   "execution_count": 716,
   "outputs": [
    {
     "name": "stdout",
     "output_type": "stream",
     "text": [
      "«ultra» gb\n",
      "\n",
      "var\t\t2299.4\n",
      "std\t\t47.952\n",
      "\n",
      "count    831.000000\n",
      "mean      40.936221\n",
      "std       47.952055\n",
      "min        0.000000\n",
      "25%        0.000000\n",
      "50%       26.000000\n",
      "75%       76.500000\n",
      "max      188.000000\n",
      "dtype: float64\n"
     ]
    }
   ],
   "source": [
    "print('«ultra» gb', end='\\n\\n')\n",
    "print('var'\n",
    "    , round(ul_sms_dispersion, 3)\n",
    "    , sep='\\t\\t'\n",
    ")\n",
    "print('std'\n",
    "    , round(ul_sms_standard_deviation, 3)\n",
    "    , sep='\\t\\t'\n",
    "    , end='\\n\\n'\n",
    ")\n",
    "print(ul_sms_monthly.describe())"
   ],
   "metadata": {
    "collapsed": false,
    "pycharm": {
     "name": "#%%\n"
    }
   }
  },
  {
   "cell_type": "code",
   "execution_count": 716,
   "outputs": [],
   "source": [],
   "metadata": {
    "collapsed": false,
    "pycharm": {
     "name": "#%%\n"
    }
   }
  },
  {
   "cell_type": "markdown",
   "source": [
    "##### Описание распределений интернет-трафика."
   ],
   "metadata": {
    "collapsed": false,
    "pycharm": {
     "name": "#%% md\n"
    }
   }
  },
  {
   "cell_type": "code",
   "execution_count": 717,
   "outputs": [
    {
     "data": {
      "text/plain": "Index(['user_id', 'month_usage', 'calls_monthly', 'minutes_monthly',\n       'messages_monthly', 'mb_monthly', 'session_monthly',\n       'extra_fee_min_monthly', 'extra_fee_sms_monthly',\n       'extra_fee_gb_monthly', 'total_extra_fee_monthly', 'total_fee_monthly'],\n      dtype='object')"
     },
     "metadata": {},
     "output_type": "display_data"
    }
   ],
   "source": [
    "display(\n",
    "    user_profit.columns\n",
    ")"
   ],
   "metadata": {
    "collapsed": false,
    "pycharm": {
     "name": "#%%\n"
    }
   }
  },
  {
   "cell_type": "markdown",
   "source": [],
   "metadata": {
    "collapsed": false,
    "pycharm": {
     "name": "#%% md\n"
    }
   }
  },
  {
   "cell_type": "markdown",
   "source": [
    "#### Какая выручка от каждого тарифа в месяц?"
   ],
   "metadata": {
    "collapsed": false,
    "pycharm": {
     "name": "#%% md\n"
    }
   }
  },
  {
   "cell_type": "markdown",
   "source": [
    "###### users of «smart»"
   ],
   "metadata": {
    "collapsed": false,
    "pycharm": {
     "name": "#%% md\n"
    }
   }
  },
  {
   "cell_type": "code",
   "execution_count": 718,
   "outputs": [],
   "source": [
    "sm_total_fee_arr = []\n",
    "\n",
    "user_profit.loc[users_of_smart_gt_month\n",
    "        , 'total_fee_monthly'\n",
    "    ].apply(\n",
    "        lambda tf: sm_total_fee_arr.extend(tf)\n",
    "    )\n",
    "\n",
    "sm_total_fee_monthly = pd.Series(data=sm_total_fee_arr, dtype=int)"
   ],
   "metadata": {
    "collapsed": false,
    "pycharm": {
     "name": "#%%\n"
    }
   }
  },
  {
   "cell_type": "markdown",
   "source": [
    "###### users of «ultra»"
   ],
   "metadata": {
    "collapsed": false,
    "pycharm": {
     "name": "#%% md\n"
    }
   }
  },
  {
   "cell_type": "code",
   "execution_count": 719,
   "outputs": [],
   "source": [
    "ul_total_fee_arr = []\n",
    "\n",
    "user_profit.loc[users_of_ultra_gt_month\n",
    "        , 'total_fee_monthly'\n",
    "    ].apply(\n",
    "        lambda tf: ul_total_fee_arr.extend(tf)\n",
    ")\n",
    "\n",
    "ul_total_fee_monthly = pd.Series(data=ul_total_fee_arr, dtype=int)"
   ],
   "metadata": {
    "collapsed": false,
    "pycharm": {
     "name": "#%%\n"
    }
   }
  },
  {
   "cell_type": "markdown",
   "source": [],
   "metadata": {
    "collapsed": false,
    "pycharm": {
     "name": "#%% md\n"
    }
   }
  },
  {
   "cell_type": "code",
   "execution_count": 719,
   "outputs": [],
   "source": [],
   "metadata": {
    "collapsed": false,
    "pycharm": {
     "name": "#%%\n"
    }
   }
  },
  {
   "cell_type": "markdown",
   "source": [
    "##### Гистограммы выручки"
   ],
   "metadata": {
    "collapsed": false,
    "pycharm": {
     "name": "#%% md\n"
    }
   }
  },
  {
   "cell_type": "markdown",
   "source": [
    "###### users of «smart»"
   ],
   "metadata": {
    "collapsed": false,
    "pycharm": {
     "name": "#%% md\n"
    }
   }
  },
  {
   "cell_type": "code",
   "execution_count": 720,
   "outputs": [
    {
     "data": {
      "text/plain": "<AxesSubplot:ylabel='Count'>"
     },
     "execution_count": 720,
     "metadata": {},
     "output_type": "execute_result"
    },
    {
     "data": {
      "text/plain": "<Figure size 1080x504 with 1 Axes>",
      "image/png": "[encoded data removed]"
     },
     "metadata": {},
     "output_type": "display_data"
    }
   ],
   "source": [
    "sns.histplot(sm_total_fee_arr,\n",
    "             bins=int(len(sm_total_fee_arr)),\n",
    "             color='salmon',\n",
    "             kde=True,\n",
    "             )"
   ],
   "metadata": {
    "collapsed": false,
    "pycharm": {
     "name": "#%%\n"
    }
   }
  },
  {
   "cell_type": "code",
   "execution_count": 721,
   "outputs": [
    {
     "data": {
      "text/plain": "<AxesSubplot:ylabel='Count'>"
     },
     "execution_count": 721,
     "metadata": {},
     "output_type": "execute_result"
    },
    {
     "data": {
      "text/plain": "<Figure size 1080x504 with 1 Axes>",
      "image/png": "[encoded data removed]"
     },
     "metadata": {},
     "output_type": "display_data"
    }
   ],
   "source": [
    "sm_fee_wo_pckg = sm_total_fee_monthly.loc[\n",
    "        sm_total_fee_monthly > sm_fee_pckg\n",
    "    ]\n",
    "sns.histplot(sm_fee_wo_pckg,\n",
    "             bins=int(len(sm_fee_wo_pckg)),\n",
    "             color='salmon',\n",
    "             kde=True,\n",
    "             )"
   ],
   "metadata": {
    "collapsed": false,
    "pycharm": {
     "name": "#%%\n"
    }
   }
  },
  {
   "cell_type": "code",
   "execution_count": 722,
   "outputs": [
    {
     "data": {
      "text/plain": "count     1876.000000\nmean      2062.711620\nstd       1794.698497\nmin        550.000000\n25%        550.000000\n50%       1363.500000\n75%       3064.500000\nmax      19383.000000\ndtype: float64"
     },
     "metadata": {},
     "output_type": "display_data"
    }
   ],
   "source": [
    "display(sm_total_fee_monthly.describe())"
   ],
   "metadata": {
    "collapsed": false,
    "pycharm": {
     "name": "#%%\n"
    }
   }
  },
  {
   "cell_type": "markdown",
   "source": [
    "###### users of «ultra»"
   ],
   "metadata": {
    "collapsed": false,
    "pycharm": {
     "name": "#%% md\n"
    }
   }
  },
  {
   "cell_type": "code",
   "execution_count": 723,
   "outputs": [
    {
     "data": {
      "text/plain": "<AxesSubplot:ylabel='Count'>"
     },
     "execution_count": 723,
     "metadata": {},
     "output_type": "execute_result"
    },
    {
     "data": {
      "text/plain": "<Figure size 1080x504 with 1 Axes>",
      "image/png": "[encoded data removed]"
     },
     "metadata": {},
     "output_type": "display_data"
    }
   ],
   "source": [
    "sns.histplot(ul_total_fee_arr,\n",
    "    bins=int(len(ul_total_fee_arr)),\n",
    "    color='aquamarine',\n",
    "    kde=True,\n",
    ")"
   ],
   "metadata": {
    "collapsed": false,
    "pycharm": {
     "name": "#%%\n"
    }
   }
  },
  {
   "cell_type": "code",
   "execution_count": 728,
   "outputs": [
    {
     "data": {
      "text/plain": "<AxesSubplot:ylabel='Count'>"
     },
     "execution_count": 728,
     "metadata": {},
     "output_type": "execute_result"
    },
    {
     "data": {
      "text/plain": "<Figure size 1080x504 with 1 Axes>",
      "image/png": "[encoded data removed]"
     },
     "metadata": {},
     "output_type": "display_data"
    }
   ],
   "source": [
    "ul_fee_wo_pckg = ul_total_fee_monthly.loc[\n",
    "        ul_total_fee_monthly > ul_fee_pckg\n",
    "    ]\n",
    "\n",
    "sns.histplot(ul_fee_wo_pckg,\n",
    "    bins=int(len(ul_fee_wo_pckg)),\n",
    "    color='aquamarine',\n",
    "    kde=True,\n",
    ")"
   ],
   "metadata": {
    "collapsed": false,
    "pycharm": {
     "name": "#%%\n"
    }
   }
  },
  {
   "cell_type": "code",
   "execution_count": 725,
   "outputs": [
    {
     "data": {
      "text/plain": "count      831.000000\nmean      2591.335740\nstd       1307.316122\nmin       1950.000000\n25%       1950.000000\n50%       1950.000000\n75%       2700.000000\nmax      11250.000000\ndtype: float64"
     },
     "metadata": {},
     "output_type": "display_data"
    }
   ],
   "source": [
    "display(ul_total_fee_monthly.describe())"
   ],
   "metadata": {
    "collapsed": false,
    "pycharm": {
     "name": "#%%\n"
    }
   }
  },
  {
   "cell_type": "markdown",
   "source": [
    "<hr>"
   ],
   "metadata": {
    "collapsed": false,
    "pycharm": {
     "name": "#%% md\n"
    }
   }
  },
  {
   "cell_type": "markdown",
   "source": [
    "## Шаг 4. Проверьте гипотезы"
   ],
   "metadata": {
    "collapsed": false,
    "pycharm": {
     "name": "#%% md\n"
    }
   }
  },
  {
   "cell_type": "code",
   "execution_count": 725,
   "outputs": [],
   "source": [],
   "metadata": {
    "collapsed": false,
    "pycharm": {
     "name": "#%%\n"
    }
   }
  },
  {
   "cell_type": "markdown",
   "source": [
    "### Средняя выручка пользователей тарифов «Ультра» и «Смарт» различаются"
   ],
   "metadata": {
    "collapsed": false,
    "pycharm": {
     "name": "#%% md\n"
    }
   }
  },
  {
   "cell_type": "code",
   "execution_count": 729,
   "outputs": [
    {
     "data": {
      "text/plain": "Ttest_indResult(statistic=-8.605394701141936, pvalue=1.4488265075885714e-17)"
     },
     "metadata": {},
     "output_type": "display_data"
    }
   ],
   "source": [
    "display(\n",
    "st.ttest_ind(sm_total_fee_monthly, ul_total_fee_monthly, equal_var = False)\n",
    ")"
   ],
   "metadata": {
    "collapsed": false,
    "pycharm": {
     "name": "#%%\n"
    }
   }
  },
  {
   "cell_type": "markdown",
   "source": [
    "### Средняя выручка пользователей из Москвы отличается от выручки пользователей из других регионов"
   ],
   "metadata": {
    "collapsed": false,
    "pycharm": {
     "name": "#%% md\n"
    }
   }
  },
  {
   "cell_type": "code",
   "execution_count": 734,
   "outputs": [],
   "source": [
    "user_msk = users_df['city'] == 'Москва'"
   ],
   "metadata": {
    "collapsed": false,
    "pycharm": {
     "name": "#%%\n"
    }
   }
  },
  {
   "cell_type": "code",
   "execution_count": 735,
   "outputs": [],
   "source": [
    "user_no_msk  = users_df['city'] != 'Москва'"
   ],
   "metadata": {
    "collapsed": false,
    "pycharm": {
     "name": "#%%\n"
    }
   }
  },
  {
   "cell_type": "markdown",
   "source": [
    "use_gt_month"
   ],
   "metadata": {
    "collapsed": false,
    "pycharm": {
     "name": "#%% md\n"
    }
   }
  },
  {
   "cell_type": "code",
   "execution_count": 737,
   "outputs": [],
   "source": [
    "fee_msk_use_gt_month = []\n",
    "\n",
    "user_profit.loc[\n",
    "    user_msk\n",
    "    & use_gt_month\n",
    "    ,'total_fee_monthly'\n",
    "].apply(\n",
    "    lambda fee: fee_msk_use_gt_month.extend(fee)\n",
    ")\n",
    "\n",
    "fee_msk_use_gt_month = pd.Series(fee_msk_use_gt_month)"
   ],
   "metadata": {
    "collapsed": false,
    "pycharm": {
     "name": "#%%\n"
    }
   }
  },
  {
   "cell_type": "code",
   "execution_count": 738,
   "outputs": [],
   "source": [
    "fee_no_msk_use_gt_month = []\n",
    "\n",
    "user_profit.loc[\n",
    "    user_no_msk\n",
    "    & use_gt_month\n",
    "    ,'total_fee_monthly'\n",
    "].apply(\n",
    "    lambda fee: fee_no_msk_use_gt_month.extend(fee)\n",
    ")\n",
    "\n",
    "fee_no_msk_use_gt_month = pd.Series(fee_no_msk_use_gt_month)"
   ],
   "metadata": {
    "collapsed": false,
    "pycharm": {
     "name": "#%%\n"
    }
   }
  },
  {
   "cell_type": "code",
   "execution_count": 751,
   "outputs": [
    {
     "data": {
      "text/plain": "<AxesSubplot:ylabel='Count'>"
     },
     "execution_count": 751,
     "metadata": {},
     "output_type": "execute_result"
    },
    {
     "data": {
      "text/plain": "<Figure size 1080x504 with 1 Axes>",
      "image/png": "[encoded data removed]"
     },
     "metadata": {},
     "output_type": "display_data"
    }
   ],
   "source": [
    "sns.histplot(fee_msk_use_gt_month,\n",
    "    bins=len(fee_msk_use_gt_month),\n",
    "    color='aquamarine',\n",
    "    kde=True,\n",
    "    log_scale=(False, True)\n",
    ")"
   ],
   "metadata": {
    "collapsed": false,
    "pycharm": {
     "name": "#%%\n"
    }
   }
  },
  {
   "cell_type": "code",
   "execution_count": 747,
   "outputs": [
    {
     "name": "stdout",
     "output_type": "stream",
     "text": [
      "пользователей из Москвы 99\n",
      "\n",
      "count      509.000000\n",
      "mean      2271.599214\n",
      "std       1693.874511\n",
      "min        550.000000\n",
      "25%        950.000000\n",
      "50%       1950.000000\n",
      "75%       2715.000000\n",
      "max      10350.000000\n",
      "dtype: float64\n"
     ]
    }
   ],
   "source": [
    "print('пользователей из Москвы',\n",
    "    users_df.loc[\n",
    "        user_msk\n",
    "        , 'user_id'\n",
    "    ].count()\n",
    "    , end='\\n\\n'\n",
    ")\n",
    "print(\n",
    "    fee_msk_use_gt_month.describe()\n",
    ")"
   ],
   "metadata": {
    "collapsed": false,
    "pycharm": {
     "name": "#%%\n"
    }
   }
  },
  {
   "cell_type": "code",
   "execution_count": 754,
   "outputs": [
    {
     "data": {
      "text/plain": "<AxesSubplot:ylabel='Count'>"
     },
     "execution_count": 754,
     "metadata": {},
     "output_type": "execute_result"
    },
    {
     "data": {
      "text/plain": "<Figure size 1080x504 with 1 Axes>",
      "image/png": "[encoded data removed]"
     },
     "metadata": {},
     "output_type": "display_data"
    }
   ],
   "source": [
    "sns.histplot(fee_no_msk_use_gt_month,\n",
    "    bins=len(fee_no_msk_use_gt_month),\n",
    "    color='aquamarine',\n",
    "    kde=True,\n",
    "    log_scale=(False, True)\n",
    ")"
   ],
   "metadata": {
    "collapsed": false,
    "pycharm": {
     "name": "#%%\n"
    }
   }
  },
  {
   "cell_type": "code",
   "execution_count": 748,
   "outputs": [
    {
     "name": "stdout",
     "output_type": "stream",
     "text": [
      "пользователей не из Москвы 401\n",
      "\n",
      "count     2198.000000\n",
      "mean      2214.196087\n",
      "std       1674.436318\n",
      "min        550.000000\n",
      "25%        750.000000\n",
      "50%       1950.000000\n",
      "75%       3000.000000\n",
      "max      19383.000000\n",
      "dtype: float64\n"
     ]
    }
   ],
   "source": [
    "print('пользователей не из Москвы',\n",
    "    users_df.loc[\n",
    "        user_no_msk\n",
    "        , 'user_id'\n",
    "    ].count()\n",
    "    , end='\\n\\n'\n",
    ")\n",
    "print(\n",
    "    fee_no_msk_use_gt_month.describe()\n",
    ")"
   ],
   "metadata": {
    "collapsed": false,
    "pycharm": {
     "name": "#%%\n"
    }
   }
  },
  {
   "cell_type": "markdown",
   "source": [
    "Поясните:\n",
    "как вы формулировали нулевую и альтернативную гипотезы;\n",
    "какой критерий использовали для проверки гипотез и почему."
   ],
   "metadata": {
    "collapsed": false,
    "pycharm": {
     "name": "#%% md\n"
    }
   }
  },
  {
   "cell_type": "markdown",
   "source": [
    "<hr>"
   ],
   "metadata": {
    "collapsed": false,
    "pycharm": {
     "name": "#%% md\n"
    }
   }
  },
  {
   "cell_type": "markdown",
   "source": [
    "## Шаг 5. Общий вывод"
   ],
   "metadata": {
    "collapsed": false,
    "pycharm": {
     "name": "#%% md\n"
    }
   }
  },
  {
   "cell_type": "markdown",
   "source": [],
   "metadata": {
    "collapsed": false,
    "pycharm": {
     "name": "#%% md\n"
    }
   }
  },
  {
   "cell_type": "markdown",
   "source": [
    "Описание данных\n",
    "Таблица users (информация о пользователях):\n",
    "user_id — уникальный идентификатор пользователя\n",
    "first_name — имя пользователя\n",
    "last_name — фамилия пользователя\n",
    "age — возраст пользователя (годы)\n",
    "reg_date — дата подключения тарифа (день, месяц, год)\n",
    "churn_date — дата прекращения пользования тарифом (если значение пропущено, то тариф ещё действовал на момент выгрузки данных)\n",
    "city — город проживания пользователя\n",
    "tariff — название тарифного плана\n",
    "Таблица calls (информация о звонках):\n",
    "id — уникальный номер звонка\n",
    "call_date — дата звонка\n",
    "duration — длительность звонка в минутах\n",
    "user_id — идентификатор пользователя, сделавшего звонок\n",
    "Таблица messages (информация о сообщениях):\n",
    "id — уникальный номер сообщения\n",
    "message_date — дата сообщения\n",
    "user_id — идентификатор пользователя, отправившего сообщение\n",
    "Таблица internet (информация об интернет-сессиях):\n",
    "id — уникальный номер сессии\n",
    "mb_used — объём потраченного за сессию интернет-трафика (в мегабайтах)\n",
    "session_date — дата интернет-сессии\n",
    "user_id — идентификатор пользователя\n",
    "Таблица tariffs (информация о тарифах):\n",
    "tariff_name — название тарифа\n",
    "rub_monthly_fee — ежемесячная абонентская плата в рублях\n",
    "minutes_included — количество минут разговора в месяц, включённых в абонентскую плату\n",
    "messages_included — количество сообщений в месяц, включённых в абонентскую плату\n",
    "mb_per_month_included — объём интернет-трафика, включённого в абонентскую плату (в мегабайтах)\n",
    "rub_per_minute — стоимость минуты разговора сверх тарифного пакета (например, если в тарифе 100 минут разговора в месяц, то со 101 минуты будет взиматься плата)\n",
    "rub_per_message — стоимость отправки сообщения сверх тарифного пакета\n",
    "rub_per_gb — стоимость дополнительного гигабайта интернет-трафика сверх тарифного пакета (1 гигабайт = 1024 мегабайта)"
   ],
   "metadata": {
    "collapsed": false,
    "pycharm": {
     "name": "#%% md\n"
    }
   }
  }
 ],
 "metadata": {
  "kernelspec": {
   "display_name": "Python 3",
   "language": "python",
   "name": "python3"
  },
  "language_info": {
   "codemirror_mode": {
    "name": "ipython",
    "version": 2
   },
   "file_extension": ".py",
   "mimetype": "text/x-python",
   "name": "python",
   "nbconvert_exporter": "python",
   "pygments_lexer": "ipython2",
   "version": "2.7.6"
  }
 },
 "nbformat": 4,
 "nbformat_minor": 0
}