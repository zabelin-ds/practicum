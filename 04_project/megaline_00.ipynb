{
 "cells": [
  {
   "cell_type": "markdown",
   "source": [
    "# Определяем перспективный тариф для телеком-компании «Мегалайн»"
   ],
   "metadata": {
    "collapsed": false,
    "pycharm": {
     "name": "#%% md\n"
    }
   }
  },
  {
   "cell_type": "code",
   "execution_count": 242,
   "outputs": [],
   "source": [
    "import numpy as np\n",
    "import pandas as pd\n",
    "import scipy.stats as st\n",
    "import matplotlib as mpl\n",
    "import matplotlib.pyplot as plt\n",
    "import seaborn as sns"
   ],
   "metadata": {
    "collapsed": false,
    "pycharm": {
     "name": "#%%\n"
    }
   }
  },
  {
   "cell_type": "code",
   "execution_count": 243,
   "outputs": [],
   "source": [
    "# seaborn theme\n",
    "custom_params = {\"axes.spines.right\": False,\n",
    "                 \"axes.spines.top\": False,\n",
    "                 'font.sans-serif': ['Helvetica',\n",
    "                                     'Verdana',\n",
    "                                     'sans-serif']\n",
    "                 }\n",
    "sns.set_theme(style=\"ticks\", rc=custom_params)"
   ],
   "metadata": {
    "collapsed": false,
    "pycharm": {
     "name": "#%%\n"
    }
   }
  },
  {
   "cell_type": "code",
   "execution_count": 248,
   "outputs": [
    {
     "data": {
      "text/plain": "<Figure size 1080x504 with 1 Axes>",
      "image/png": "[encoded data removed]"
     },
     "metadata": {},
     "output_type": "display_data"
    }
   ],
   "source": [
    "# setting the dimensions of the plot\n",
    "fig, ax = plt.subplots(figsize=(15, 7))"
   ],
   "metadata": {
    "collapsed": false,
    "pycharm": {
     "name": "#%%\n"
    }
   }
  },
  {
   "cell_type": "code",
   "execution_count": 106,
   "outputs": [],
   "source": [
    "mb_in_gb = 1024"
   ],
   "metadata": {
    "collapsed": false,
    "pycharm": {
     "name": "#%%\n"
    }
   }
  },
  {
   "cell_type": "markdown",
   "source": [
    "<div class=\"alert alert-info\" role=\"alert\">\n",
    "    <p class=\"mb-0\">В коде использую <code>display()</code>, потомучто это однозначно даёт понять что планируется вывод / печать результатов. То есть использую <code>display()</code> намеренно, хотя понимаю что можно и без него выводить данные. 👌</p>\n",
    "</div>"
   ],
   "metadata": {
    "collapsed": false,
    "pycharm": {
     "name": "#%% md\n"
    }
   }
  },
  {
   "cell_type": "markdown",
   "source": [
    "## Шаг 0. Введение"
   ],
   "metadata": {
    "collapsed": false,
    "pycharm": {
     "name": "#%% md\n"
    }
   }
  },
  {
   "cell_type": "markdown",
   "source": [
    "В этом учебном проекте сделаем предварительный анализ тарифов на выборке данных 500 пользователей «Мегалайна». Клиентам предлагают два тарифных плана: «Смарт» и «Ультра». Чтобы скорректировать рекламный бюджет, коммерческий департамент хочет понять, какой тариф приносит больше денег. Нужно проанализировать поведение клиентов и сделать вывод — какой тариф лучше."
   ],
   "metadata": {
    "collapsed": false,
    "pycharm": {
     "name": "#%% md\n"
    }
   }
  },
  {
   "cell_type": "markdown",
   "source": [
    "<hr>"
   ],
   "metadata": {
    "collapsed": false,
    "pycharm": {
     "name": "#%% md\n"
    }
   }
  },
  {
   "cell_type": "markdown",
   "source": [
    "## Шаг 1. Знакомимся с данными изучаем общую информацию"
   ],
   "metadata": {
    "collapsed": false,
    "pycharm": {
     "name": "#%% md\n"
    }
   }
  },
  {
   "cell_type": "markdown",
   "source": [
    "Откройте файл с данными и изучите общую информацию"
   ],
   "metadata": {
    "collapsed": false,
    "pycharm": {
     "name": "#%% md\n"
    }
   }
  },
  {
   "cell_type": "code",
   "execution_count": 107,
   "outputs": [],
   "source": [
    "calls_df = pd.read_csv('./datasets/calls.csv')\n",
    "internet_df = pd.read_csv('./datasets/internet.csv', index_col=0)\n",
    "messages_df = pd.read_csv('./datasets/messages.csv')\n",
    "tariffs_df = pd.read_csv('./datasets/tariffs.csv')\n",
    "users_df = pd.read_csv('./datasets/users.csv')"
   ],
   "metadata": {
    "collapsed": false,
    "pycharm": {
     "name": "#%%\n"
    }
   }
  },
  {
   "cell_type": "markdown",
   "source": [
    "### Описание данных"
   ],
   "metadata": {
    "collapsed": false,
    "pycharm": {
     "name": "#%% md\n"
    }
   }
  },
  {
   "cell_type": "markdown",
   "source": [
    "#### Таблица calls (информация о звонках):\n",
    "`id` — уникальный номер звонка\n",
    "`call_date` — дата звонка\n",
    "`duration` — длительность звонка в минутах\n",
    "`user_id` — идентификатор пользователя, сделавшего звонок"
   ],
   "metadata": {
    "collapsed": false,
    "pycharm": {
     "name": "#%% md\n"
    }
   }
  },
  {
   "cell_type": "code",
   "execution_count": 108,
   "outputs": [
    {
     "name": "stdout",
     "output_type": "stream",
     "text": [
      "<class 'pandas.core.frame.DataFrame'>\n",
      "RangeIndex: 202607 entries, 0 to 202606\n",
      "Data columns (total 4 columns):\n",
      " #   Column     Non-Null Count   Dtype  \n",
      "---  ------     --------------   -----  \n",
      " 0   id         202607 non-null  object \n",
      " 1   call_date  202607 non-null  object \n",
      " 2   duration   202607 non-null  float64\n",
      " 3   user_id    202607 non-null  int64  \n",
      "dtypes: float64(1), int64(1), object(2)\n",
      "memory usage: 6.2+ MB\n"
     ]
    },
    {
     "data": {
      "text/plain": "None"
     },
     "metadata": {},
     "output_type": "display_data"
    },
    {
     "data": {
      "text/plain": "              id   call_date  duration  user_id\n156800   1387_20  2018-12-24      0.00     1387\n163181    1402_4  2018-12-16     10.02     1402\n41805   1102_232  2018-06-18     19.37     1102",
      "text/html": "<div>\n<style scoped>\n    .dataframe tbody tr th:only-of-type {\n        vertical-align: middle;\n    }\n\n    .dataframe tbody tr th {\n        vertical-align: top;\n    }\n\n    .dataframe thead th {\n        text-align: right;\n    }\n</style>\n<table border=\"1\" class=\"dataframe\">\n  <thead>\n    <tr style=\"text-align: right;\">\n      <th></th>\n      <th>id</th>\n      <th>call_date</th>\n      <th>duration</th>\n      <th>user_id</th>\n    </tr>\n  </thead>\n  <tbody>\n    <tr>\n      <th>156800</th>\n      <td>1387_20</td>\n      <td>2018-12-24</td>\n      <td>0.00</td>\n      <td>1387</td>\n    </tr>\n    <tr>\n      <th>163181</th>\n      <td>1402_4</td>\n      <td>2018-12-16</td>\n      <td>10.02</td>\n      <td>1402</td>\n    </tr>\n    <tr>\n      <th>41805</th>\n      <td>1102_232</td>\n      <td>2018-06-18</td>\n      <td>19.37</td>\n      <td>1102</td>\n    </tr>\n  </tbody>\n</table>\n</div>"
     },
     "metadata": {},
     "output_type": "display_data"
    }
   ],
   "source": [
    "display(\n",
    "    calls_df.info(),\n",
    "    calls_df.sample(3)\n",
    ")"
   ],
   "metadata": {
    "collapsed": false,
    "pycharm": {
     "name": "#%%\n"
    }
   }
  },
  {
   "cell_type": "markdown",
   "source": [
    "#### Таблица internet (информация об интернет-сессиях):\n",
    "`id` — уникальный номер сессии\n",
    "`mb_used` — объём потраченного за сессию интернет-трафика (в мегабайтах)\n",
    "`session_date` — дата интернет-сессии\n",
    "`user_id` — идентификатор пользователя"
   ],
   "metadata": {
    "collapsed": false,
    "pycharm": {
     "name": "#%% md\n"
    }
   }
  },
  {
   "cell_type": "code",
   "execution_count": 109,
   "outputs": [
    {
     "name": "stdout",
     "output_type": "stream",
     "text": [
      "<class 'pandas.core.frame.DataFrame'>\n",
      "Int64Index: 149396 entries, 0 to 149395\n",
      "Data columns (total 4 columns):\n",
      " #   Column        Non-Null Count   Dtype  \n",
      "---  ------        --------------   -----  \n",
      " 0   id            149396 non-null  object \n",
      " 1   mb_used       149396 non-null  float64\n",
      " 2   session_date  149396 non-null  object \n",
      " 3   user_id       149396 non-null  int64  \n",
      "dtypes: float64(1), int64(1), object(2)\n",
      "memory usage: 5.7+ MB\n"
     ]
    },
    {
     "data": {
      "text/plain": "None"
     },
     "metadata": {},
     "output_type": "display_data"
    },
    {
     "data": {
      "text/plain": "             id  mb_used session_date  user_id\n29374  1102_248     0.00   2018-07-10     1102\n98165  1330_373   326.94   2018-04-21     1330\n23448   1079_51   650.20   2018-12-09     1079",
      "text/html": "<div>\n<style scoped>\n    .dataframe tbody tr th:only-of-type {\n        vertical-align: middle;\n    }\n\n    .dataframe tbody tr th {\n        vertical-align: top;\n    }\n\n    .dataframe thead th {\n        text-align: right;\n    }\n</style>\n<table border=\"1\" class=\"dataframe\">\n  <thead>\n    <tr style=\"text-align: right;\">\n      <th></th>\n      <th>id</th>\n      <th>mb_used</th>\n      <th>session_date</th>\n      <th>user_id</th>\n    </tr>\n  </thead>\n  <tbody>\n    <tr>\n      <th>29374</th>\n      <td>1102_248</td>\n      <td>0.00</td>\n      <td>2018-07-10</td>\n      <td>1102</td>\n    </tr>\n    <tr>\n      <th>98165</th>\n      <td>1330_373</td>\n      <td>326.94</td>\n      <td>2018-04-21</td>\n      <td>1330</td>\n    </tr>\n    <tr>\n      <th>23448</th>\n      <td>1079_51</td>\n      <td>650.20</td>\n      <td>2018-12-09</td>\n      <td>1079</td>\n    </tr>\n  </tbody>\n</table>\n</div>"
     },
     "metadata": {},
     "output_type": "display_data"
    }
   ],
   "source": [
    "display(\n",
    "    internet_df.info(),\n",
    "    internet_df.sample(3),\n",
    "    # len(list(internet_df['id'].unique()))\n",
    ")"
   ],
   "metadata": {
    "collapsed": false,
    "pycharm": {
     "name": "#%%\n"
    }
   }
  },
  {
   "cell_type": "markdown",
   "source": [
    "#### Таблица messages (информация о сообщениях):\n",
    "`id` — уникальный номер сообщения\n",
    "`message_date` — дата сообщения\n",
    "`user_id` — идентификатор пользователя, отправившего сообщение"
   ],
   "metadata": {
    "collapsed": false,
    "pycharm": {
     "name": "#%% md\n"
    }
   }
  },
  {
   "cell_type": "code",
   "execution_count": 110,
   "outputs": [
    {
     "name": "stdout",
     "output_type": "stream",
     "text": [
      "<class 'pandas.core.frame.DataFrame'>\n",
      "RangeIndex: 123036 entries, 0 to 123035\n",
      "Data columns (total 3 columns):\n",
      " #   Column        Non-Null Count   Dtype \n",
      "---  ------        --------------   ----- \n",
      " 0   id            123036 non-null  object\n",
      " 1   message_date  123036 non-null  object\n",
      " 2   user_id       123036 non-null  int64 \n",
      "dtypes: int64(1), object(2)\n",
      "memory usage: 2.8+ MB\n"
     ]
    },
    {
     "data": {
      "text/plain": "None"
     },
     "metadata": {},
     "output_type": "display_data"
    },
    {
     "data": {
      "text/plain": "              id message_date  user_id\n119434  1483_369   2018-05-11     1483\n14292     1062_5   2018-12-04     1062\n50635   1226_311   2018-11-23     1226",
      "text/html": "<div>\n<style scoped>\n    .dataframe tbody tr th:only-of-type {\n        vertical-align: middle;\n    }\n\n    .dataframe tbody tr th {\n        vertical-align: top;\n    }\n\n    .dataframe thead th {\n        text-align: right;\n    }\n</style>\n<table border=\"1\" class=\"dataframe\">\n  <thead>\n    <tr style=\"text-align: right;\">\n      <th></th>\n      <th>id</th>\n      <th>message_date</th>\n      <th>user_id</th>\n    </tr>\n  </thead>\n  <tbody>\n    <tr>\n      <th>119434</th>\n      <td>1483_369</td>\n      <td>2018-05-11</td>\n      <td>1483</td>\n    </tr>\n    <tr>\n      <th>14292</th>\n      <td>1062_5</td>\n      <td>2018-12-04</td>\n      <td>1062</td>\n    </tr>\n    <tr>\n      <th>50635</th>\n      <td>1226_311</td>\n      <td>2018-11-23</td>\n      <td>1226</td>\n    </tr>\n  </tbody>\n</table>\n</div>"
     },
     "metadata": {},
     "output_type": "display_data"
    }
   ],
   "source": [
    "display(\n",
    "    messages_df.info(),\n",
    "    messages_df.sample(3),\n",
    ")"
   ],
   "metadata": {
    "collapsed": false,
    "pycharm": {
     "name": "#%%\n"
    }
   }
  },
  {
   "cell_type": "markdown",
   "source": [
    "#### Таблица tariffs (информация о тарифах):\n",
    "`tariff_name` — название тарифа\n",
    "`rub_monthly_fee` — ежемесячная абонентская плата в рублях\n",
    "`minutes_included` — количество минут разговора в месяц, включённых в абонентскую плату\n",
    "`messages_included` — количество сообщений в месяц, включённых в абонентскую плату\n",
    "`mb_per_month_included` — объём интернет-трафика, включённого в абонентскую плату (в мегабайтах)\n",
    "`rub_per_minute` — стоимость минуты разговора сверх тарифного пакета (например, если в тарифе 100 минут разговора в месяц, то со 101 минуты будет взиматься плата)\n",
    "`rub_per_message` — стоимость отправки сообщения сверх тарифного пакета\n",
    "`rub_per_gb` — стоимость дополнительного гигабайта интернет-трафика сверх тарифного пакета (1 гигабайт = 1024 мегабайта)"
   ],
   "metadata": {
    "collapsed": false,
    "pycharm": {
     "name": "#%% md\n"
    }
   }
  },
  {
   "cell_type": "code",
   "execution_count": 111,
   "outputs": [
    {
     "data": {
      "text/plain": "   messages_included  mb_per_month_included  minutes_included  \\\n0                 50                  15360               500   \n1               1000                  30720              3000   \n\n   rub_monthly_fee  rub_per_gb  rub_per_message  rub_per_minute tariff_name  \n0              550         200                3               3       smart  \n1             1950         150                1               1       ultra  ",
      "text/html": "<div>\n<style scoped>\n    .dataframe tbody tr th:only-of-type {\n        vertical-align: middle;\n    }\n\n    .dataframe tbody tr th {\n        vertical-align: top;\n    }\n\n    .dataframe thead th {\n        text-align: right;\n    }\n</style>\n<table border=\"1\" class=\"dataframe\">\n  <thead>\n    <tr style=\"text-align: right;\">\n      <th></th>\n      <th>messages_included</th>\n      <th>mb_per_month_included</th>\n      <th>minutes_included</th>\n      <th>rub_monthly_fee</th>\n      <th>rub_per_gb</th>\n      <th>rub_per_message</th>\n      <th>rub_per_minute</th>\n      <th>tariff_name</th>\n    </tr>\n  </thead>\n  <tbody>\n    <tr>\n      <th>0</th>\n      <td>50</td>\n      <td>15360</td>\n      <td>500</td>\n      <td>550</td>\n      <td>200</td>\n      <td>3</td>\n      <td>3</td>\n      <td>smart</td>\n    </tr>\n    <tr>\n      <th>1</th>\n      <td>1000</td>\n      <td>30720</td>\n      <td>3000</td>\n      <td>1950</td>\n      <td>150</td>\n      <td>1</td>\n      <td>1</td>\n      <td>ultra</td>\n    </tr>\n  </tbody>\n</table>\n</div>"
     },
     "metadata": {},
     "output_type": "display_data"
    },
    {
     "data": {
      "text/plain": "0    smart\n1    ultra\nName: tariff_name, dtype: object"
     },
     "metadata": {},
     "output_type": "display_data"
    }
   ],
   "source": [
    "display(\n",
    "    tariffs_df,\n",
    "    tariffs_df['tariff_name'],\n",
    ")"
   ],
   "metadata": {
    "collapsed": false,
    "pycharm": {
     "name": "#%%\n"
    }
   }
  },
  {
   "cell_type": "markdown",
   "source": [
    "#### Таблица users (информация о пользователях):\n",
    "`user_id` — уникальный идентификатор пользователя\n",
    "`first_name` — имя пользователя\n",
    "`last_name` — фамилия пользователя\n",
    "`age` — возраст пользователя (годы)\n",
    "`reg_date` — дата подключения тарифа (день, месяц, год)\n",
    "`churn_date` — дата прекращения пользования тарифом (если значение пропущено, то тариф ещё действовал на момент выгрузки данных)\n",
    "`city` — город проживания пользователя\n",
    "`tariff` — название тарифного плана"
   ],
   "metadata": {
    "collapsed": false,
    "pycharm": {
     "name": "#%% md\n"
    }
   }
  },
  {
   "cell_type": "code",
   "execution_count": 112,
   "outputs": [
    {
     "name": "stdout",
     "output_type": "stream",
     "text": [
      "<class 'pandas.core.frame.DataFrame'>\n",
      "RangeIndex: 500 entries, 0 to 499\n",
      "Data columns (total 8 columns):\n",
      " #   Column      Non-Null Count  Dtype \n",
      "---  ------      --------------  ----- \n",
      " 0   user_id     500 non-null    int64 \n",
      " 1   age         500 non-null    int64 \n",
      " 2   churn_date  38 non-null     object\n",
      " 3   city        500 non-null    object\n",
      " 4   first_name  500 non-null    object\n",
      " 5   last_name   500 non-null    object\n",
      " 6   reg_date    500 non-null    object\n",
      " 7   tariff      500 non-null    object\n",
      "dtypes: int64(2), object(6)\n",
      "memory usage: 31.4+ KB\n"
     ]
    },
    {
     "data": {
      "text/plain": "None"
     },
     "metadata": {},
     "output_type": "display_data"
    },
    {
     "data": {
      "text/plain": "     user_id  age churn_date         city first_name last_name    reg_date  \\\n248     1248   51        NaN       Москва   Анатолий    Минаев  2018-05-28   \n458     1458   36        NaN      Барнаул     Роберт    Азаров  2018-02-13   \n334     1334   45        NaN  Владивосток       Пётр    Минаев  2018-11-16   \n\n    tariff  \n248  smart  \n458  ultra  \n334  smart  ",
      "text/html": "<div>\n<style scoped>\n    .dataframe tbody tr th:only-of-type {\n        vertical-align: middle;\n    }\n\n    .dataframe tbody tr th {\n        vertical-align: top;\n    }\n\n    .dataframe thead th {\n        text-align: right;\n    }\n</style>\n<table border=\"1\" class=\"dataframe\">\n  <thead>\n    <tr style=\"text-align: right;\">\n      <th></th>\n      <th>user_id</th>\n      <th>age</th>\n      <th>churn_date</th>\n      <th>city</th>\n      <th>first_name</th>\n      <th>last_name</th>\n      <th>reg_date</th>\n      <th>tariff</th>\n    </tr>\n  </thead>\n  <tbody>\n    <tr>\n      <th>248</th>\n      <td>1248</td>\n      <td>51</td>\n      <td>NaN</td>\n      <td>Москва</td>\n      <td>Анатолий</td>\n      <td>Минаев</td>\n      <td>2018-05-28</td>\n      <td>smart</td>\n    </tr>\n    <tr>\n      <th>458</th>\n      <td>1458</td>\n      <td>36</td>\n      <td>NaN</td>\n      <td>Барнаул</td>\n      <td>Роберт</td>\n      <td>Азаров</td>\n      <td>2018-02-13</td>\n      <td>ultra</td>\n    </tr>\n    <tr>\n      <th>334</th>\n      <td>1334</td>\n      <td>45</td>\n      <td>NaN</td>\n      <td>Владивосток</td>\n      <td>Пётр</td>\n      <td>Минаев</td>\n      <td>2018-11-16</td>\n      <td>smart</td>\n    </tr>\n  </tbody>\n</table>\n</div>"
     },
     "metadata": {},
     "output_type": "display_data"
    }
   ],
   "source": [
    "display(\n",
    "    users_df.info(),\n",
    "    users_df.sample(3),\n",
    ")"
   ],
   "metadata": {
    "collapsed": false,
    "pycharm": {
     "name": "#%%\n"
    }
   }
  },
  {
   "cell_type": "code",
   "execution_count": 112,
   "outputs": [],
   "source": [],
   "metadata": {
    "collapsed": false,
    "pycharm": {
     "name": "#%%\n"
    }
   }
  },
  {
   "cell_type": "markdown",
   "source": [
    "<hr>"
   ],
   "metadata": {
    "collapsed": false,
    "pycharm": {
     "name": "#%% md\n"
    }
   }
  },
  {
   "cell_type": "markdown",
   "source": [
    "## Шаг 2. Подготавливаем данные"
   ],
   "metadata": {
    "collapsed": false,
    "pycharm": {
     "name": "#%% md\n"
    }
   }
  },
  {
   "cell_type": "markdown",
   "source": [],
   "metadata": {
    "collapsed": false,
    "pycharm": {
     "name": "#%% md\n"
    }
   }
  },
  {
   "cell_type": "markdown",
   "source": [
    "calls_df"
   ],
   "metadata": {
    "collapsed": false,
    "pycharm": {
     "name": "#%% md\n"
    }
   }
  },
  {
   "cell_type": "markdown",
   "source": [
    "internet_df"
   ],
   "metadata": {
    "collapsed": false,
    "pycharm": {
     "name": "#%% md\n"
    }
   }
  },
  {
   "cell_type": "markdown",
   "source": [
    "messages_df"
   ],
   "metadata": {
    "collapsed": false,
    "pycharm": {
     "name": "#%% md\n"
    }
   }
  },
  {
   "cell_type": "markdown",
   "source": [
    "tariffs_df"
   ],
   "metadata": {
    "collapsed": false,
    "pycharm": {
     "name": "#%% md\n"
    }
   }
  },
  {
   "cell_type": "code",
   "execution_count": 113,
   "outputs": [
    {
     "data": {
      "text/plain": "     user_id  age  churn_date         city first_name  last_name    reg_date  \\\n0       1000   52         NaN    Краснодар     Рафаил  Верещагин  2018-05-25   \n1       1001   41         NaN       Москва       Иван       Ежов  2018-11-01   \n2       1002   59         NaN  Стерлитамак    Евгений  Абрамович  2018-06-17   \n3       1003   23         NaN       Москва      Белла   Белякова  2018-08-17   \n4       1004   68         NaN  Новокузнецк    Татьяна   Авдеенко  2018-05-14   \n..       ...  ...         ...          ...        ...        ...         ...   \n495     1495   65         NaN      Иркутск  Авксентий      Фокин  2018-08-28   \n496     1496   36         NaN      Вологда     Трифон     Блохин  2018-01-27   \n497     1497   32         NaN    Челябинск   Каролина     Агеева  2018-10-09   \n498     1498   68  2018-10-25  Владикавказ   Всеволод    Акимчин  2018-07-19   \n499     1499   35         NaN        Пермь     Гектор   Корнилов  2018-09-27   \n\n    tariff  \n0    ultra  \n1    smart  \n2    smart  \n3    ultra  \n4    ultra  \n..     ...  \n495  ultra  \n496  smart  \n497  smart  \n498  smart  \n499  smart  \n\n[500 rows x 8 columns]",
      "text/html": "<div>\n<style scoped>\n    .dataframe tbody tr th:only-of-type {\n        vertical-align: middle;\n    }\n\n    .dataframe tbody tr th {\n        vertical-align: top;\n    }\n\n    .dataframe thead th {\n        text-align: right;\n    }\n</style>\n<table border=\"1\" class=\"dataframe\">\n  <thead>\n    <tr style=\"text-align: right;\">\n      <th></th>\n      <th>user_id</th>\n      <th>age</th>\n      <th>churn_date</th>\n      <th>city</th>\n      <th>first_name</th>\n      <th>last_name</th>\n      <th>reg_date</th>\n      <th>tariff</th>\n    </tr>\n  </thead>\n  <tbody>\n    <tr>\n      <th>0</th>\n      <td>1000</td>\n      <td>52</td>\n      <td>NaN</td>\n      <td>Краснодар</td>\n      <td>Рафаил</td>\n      <td>Верещагин</td>\n      <td>2018-05-25</td>\n      <td>ultra</td>\n    </tr>\n    <tr>\n      <th>1</th>\n      <td>1001</td>\n      <td>41</td>\n      <td>NaN</td>\n      <td>Москва</td>\n      <td>Иван</td>\n      <td>Ежов</td>\n      <td>2018-11-01</td>\n      <td>smart</td>\n    </tr>\n    <tr>\n      <th>2</th>\n      <td>1002</td>\n      <td>59</td>\n      <td>NaN</td>\n      <td>Стерлитамак</td>\n      <td>Евгений</td>\n      <td>Абрамович</td>\n      <td>2018-06-17</td>\n      <td>smart</td>\n    </tr>\n    <tr>\n      <th>3</th>\n      <td>1003</td>\n      <td>23</td>\n      <td>NaN</td>\n      <td>Москва</td>\n      <td>Белла</td>\n      <td>Белякова</td>\n      <td>2018-08-17</td>\n      <td>ultra</td>\n    </tr>\n    <tr>\n      <th>4</th>\n      <td>1004</td>\n      <td>68</td>\n      <td>NaN</td>\n      <td>Новокузнецк</td>\n      <td>Татьяна</td>\n      <td>Авдеенко</td>\n      <td>2018-05-14</td>\n      <td>ultra</td>\n    </tr>\n    <tr>\n      <th>...</th>\n      <td>...</td>\n      <td>...</td>\n      <td>...</td>\n      <td>...</td>\n      <td>...</td>\n      <td>...</td>\n      <td>...</td>\n      <td>...</td>\n    </tr>\n    <tr>\n      <th>495</th>\n      <td>1495</td>\n      <td>65</td>\n      <td>NaN</td>\n      <td>Иркутск</td>\n      <td>Авксентий</td>\n      <td>Фокин</td>\n      <td>2018-08-28</td>\n      <td>ultra</td>\n    </tr>\n    <tr>\n      <th>496</th>\n      <td>1496</td>\n      <td>36</td>\n      <td>NaN</td>\n      <td>Вологда</td>\n      <td>Трифон</td>\n      <td>Блохин</td>\n      <td>2018-01-27</td>\n      <td>smart</td>\n    </tr>\n    <tr>\n      <th>497</th>\n      <td>1497</td>\n      <td>32</td>\n      <td>NaN</td>\n      <td>Челябинск</td>\n      <td>Каролина</td>\n      <td>Агеева</td>\n      <td>2018-10-09</td>\n      <td>smart</td>\n    </tr>\n    <tr>\n      <th>498</th>\n      <td>1498</td>\n      <td>68</td>\n      <td>2018-10-25</td>\n      <td>Владикавказ</td>\n      <td>Всеволод</td>\n      <td>Акимчин</td>\n      <td>2018-07-19</td>\n      <td>smart</td>\n    </tr>\n    <tr>\n      <th>499</th>\n      <td>1499</td>\n      <td>35</td>\n      <td>NaN</td>\n      <td>Пермь</td>\n      <td>Гектор</td>\n      <td>Корнилов</td>\n      <td>2018-09-27</td>\n      <td>smart</td>\n    </tr>\n  </tbody>\n</table>\n<p>500 rows × 8 columns</p>\n</div>"
     },
     "execution_count": 113,
     "metadata": {},
     "output_type": "execute_result"
    }
   ],
   "source": [
    "users_df"
   ],
   "metadata": {
    "collapsed": false,
    "pycharm": {
     "name": "#%%\n"
    }
   }
  },
  {
   "cell_type": "code",
   "execution_count": 113,
   "outputs": [],
   "source": [],
   "metadata": {
    "collapsed": false,
    "pycharm": {
     "name": "#%%\n"
    }
   }
  },
  {
   "cell_type": "markdown",
   "source": [
    "calls_df\n",
    "internet_df\n",
    "messages_df\n",
    "tariffs_df\n",
    "users_df"
   ],
   "metadata": {
    "collapsed": false,
    "pycharm": {
     "name": "#%% md\n"
    }
   }
  },
  {
   "cell_type": "markdown",
   "source": [
    "### U"
   ],
   "metadata": {
    "collapsed": false,
    "pycharm": {
     "name": "#%% md\n"
    }
   }
  },
  {
   "cell_type": "raw",
   "source": [
    "display(\n",
    "    sorted(users_df['city'].unique())\n",
    ")"
   ],
   "metadata": {
    "collapsed": false,
    "pycharm": {
     "name": "#%% raw\n"
    }
   }
  },
  {
   "cell_type": "code",
   "execution_count": 114,
   "outputs": [
    {
     "data": {
      "text/plain": "     user_id  age  churn_date              city  first_name   last_name  \\\n19      1019   63  2018-10-05             Томск     Игнатий     Круглов   \n20      1020   59  2018-12-18              Чита        Тала     Костина   \n34      1034   66  2018-11-21           Вологда   Святослав    Бондарев   \n50      1050   44  2018-10-03            Тюмень      Рузана    Аничкина   \n51      1051   37  2018-10-14            Москва    Кристина      Сомова   \n56      1056   73  2018-10-14           Иркутск    Радислав    Артемьев   \n62      1062   24  2018-12-09            Москва   Александр    Коршунов   \n63      1063   45  2018-12-11              Тула       Таира     Климова   \n64      1064   55  2018-12-26            Якутск      Динара     Алфеева   \n65      1065   53  2018-12-09            Москва        Роза    Игнатова   \n71      1071   20  2018-08-31              Омск      Гектор     Чумаков   \n90      1090   54  2018-12-03         Череповец   Екатерина   Астафьева   \n128     1128   51  2018-12-23          Волжский      Ксения      Агаева   \n161     1161   65  2018-11-07  Набережные Челны     Татьяна  Голованова   \n163     1163   21  2018-12-16            Москва         Лев  Вишневский   \n191     1191   64  2018-10-03  Набережные Челны   Александр   Акиндинов   \n201     1201   32  2018-12-03            Москва    Геннадий     Веселов   \n206     1206   35  2018-12-20            Москва       Елена    Шарапова   \n232     1232   60  2018-11-30             Томск    Виктория      Ларина   \n242     1242   39  2018-12-21         Хабаровск       Радим    Федосеев   \n254     1254   75  2018-08-17            Москва  Александра    Сухарева   \n255     1255   40  2018-09-02           Саранск    Серафима  Пономарева   \n265     1265   24  2018-10-04              Омск       Радим      Адамов   \n271     1271   69  2018-11-13         Челябинск     Аурелия      Чижова   \n293     1293   39  2018-11-22   Санкт-Петербург       Эдита    Дубинина   \n343     1343   30  2018-10-28          Кострома       Анита  Верещагина   \n353     1353   57  2018-11-26   Санкт-Петербург    Доминика    Анищенко   \n355     1355   33  2018-11-27             Киров        Сара  Абрикосова   \n367     1367   43  2018-11-16            Москва    Всеволод   Антоненко   \n370     1370   48  2018-10-27      Новороссийск      Гектор      Сысоев   \n371     1371   50  2018-12-30              Омск      Ириней    Трофимов   \n392     1392   54  2018-09-27         Челябинск        Алла    Беликова   \n399     1399   31  2018-12-25               Уфа       Алиса    Абрашина   \n416     1416   50  2018-12-14   Санкт-Петербург     Валерия      Ёлчина   \n422     1422   60  2018-12-21            Москва       Клара    Устинова   \n438     1438   24  2018-12-24      Екатеринбург     Нателла    Бородина   \n480     1480   29  2018-09-26       Новокузнецк      Гелена  Емельянова   \n498     1498   68  2018-10-25       Владикавказ    Всеволод     Акимчин   \n\n       reg_date tariff  \n19   2018-05-16  ultra  \n20   2018-10-22  smart  \n34   2018-08-26  smart  \n50   2018-06-16  ultra  \n51   2018-05-28  smart  \n56   2018-04-13  smart  \n62   2018-11-16  smart  \n63   2018-04-12  ultra  \n64   2018-03-17  smart  \n65   2018-03-08  smart  \n71   2018-01-09  smart  \n90   2018-10-11  ultra  \n128  2018-12-15  ultra  \n161  2018-07-03  smart  \n163  2018-11-03  smart  \n191  2018-06-30  smart  \n201  2018-08-06  ultra  \n206  2018-11-03  smart  \n232  2018-10-07  smart  \n242  2018-11-18  smart  \n254  2018-01-04  ultra  \n255  2018-02-19  ultra  \n265  2018-06-24  ultra  \n271  2018-07-14  ultra  \n293  2018-09-05  smart  \n343  2018-08-15  ultra  \n353  2018-04-22  smart  \n355  2018-07-21  smart  \n367  2018-09-14  ultra  \n370  2018-02-06  smart  \n371  2018-12-25  smart  \n392  2018-02-27  ultra  \n399  2018-11-06  ultra  \n416  2018-07-16  ultra  \n422  2018-10-12  smart  \n438  2018-10-05  smart  \n480  2018-02-14  smart  \n498  2018-07-19  smart  ",
      "text/html": "<div>\n<style scoped>\n    .dataframe tbody tr th:only-of-type {\n        vertical-align: middle;\n    }\n\n    .dataframe tbody tr th {\n        vertical-align: top;\n    }\n\n    .dataframe thead th {\n        text-align: right;\n    }\n</style>\n<table border=\"1\" class=\"dataframe\">\n  <thead>\n    <tr style=\"text-align: right;\">\n      <th></th>\n      <th>user_id</th>\n      <th>age</th>\n      <th>churn_date</th>\n      <th>city</th>\n      <th>first_name</th>\n      <th>last_name</th>\n      <th>reg_date</th>\n      <th>tariff</th>\n    </tr>\n  </thead>\n  <tbody>\n    <tr>\n      <th>19</th>\n      <td>1019</td>\n      <td>63</td>\n      <td>2018-10-05</td>\n      <td>Томск</td>\n      <td>Игнатий</td>\n      <td>Круглов</td>\n      <td>2018-05-16</td>\n      <td>ultra</td>\n    </tr>\n    <tr>\n      <th>20</th>\n      <td>1020</td>\n      <td>59</td>\n      <td>2018-12-18</td>\n      <td>Чита</td>\n      <td>Тала</td>\n      <td>Костина</td>\n      <td>2018-10-22</td>\n      <td>smart</td>\n    </tr>\n    <tr>\n      <th>34</th>\n      <td>1034</td>\n      <td>66</td>\n      <td>2018-11-21</td>\n      <td>Вологда</td>\n      <td>Святослав</td>\n      <td>Бондарев</td>\n      <td>2018-08-26</td>\n      <td>smart</td>\n    </tr>\n    <tr>\n      <th>50</th>\n      <td>1050</td>\n      <td>44</td>\n      <td>2018-10-03</td>\n      <td>Тюмень</td>\n      <td>Рузана</td>\n      <td>Аничкина</td>\n      <td>2018-06-16</td>\n      <td>ultra</td>\n    </tr>\n    <tr>\n      <th>51</th>\n      <td>1051</td>\n      <td>37</td>\n      <td>2018-10-14</td>\n      <td>Москва</td>\n      <td>Кристина</td>\n      <td>Сомова</td>\n      <td>2018-05-28</td>\n      <td>smart</td>\n    </tr>\n    <tr>\n      <th>56</th>\n      <td>1056</td>\n      <td>73</td>\n      <td>2018-10-14</td>\n      <td>Иркутск</td>\n      <td>Радислав</td>\n      <td>Артемьев</td>\n      <td>2018-04-13</td>\n      <td>smart</td>\n    </tr>\n    <tr>\n      <th>62</th>\n      <td>1062</td>\n      <td>24</td>\n      <td>2018-12-09</td>\n      <td>Москва</td>\n      <td>Александр</td>\n      <td>Коршунов</td>\n      <td>2018-11-16</td>\n      <td>smart</td>\n    </tr>\n    <tr>\n      <th>63</th>\n      <td>1063</td>\n      <td>45</td>\n      <td>2018-12-11</td>\n      <td>Тула</td>\n      <td>Таира</td>\n      <td>Климова</td>\n      <td>2018-04-12</td>\n      <td>ultra</td>\n    </tr>\n    <tr>\n      <th>64</th>\n      <td>1064</td>\n      <td>55</td>\n      <td>2018-12-26</td>\n      <td>Якутск</td>\n      <td>Динара</td>\n      <td>Алфеева</td>\n      <td>2018-03-17</td>\n      <td>smart</td>\n    </tr>\n    <tr>\n      <th>65</th>\n      <td>1065</td>\n      <td>53</td>\n      <td>2018-12-09</td>\n      <td>Москва</td>\n      <td>Роза</td>\n      <td>Игнатова</td>\n      <td>2018-03-08</td>\n      <td>smart</td>\n    </tr>\n    <tr>\n      <th>71</th>\n      <td>1071</td>\n      <td>20</td>\n      <td>2018-08-31</td>\n      <td>Омск</td>\n      <td>Гектор</td>\n      <td>Чумаков</td>\n      <td>2018-01-09</td>\n      <td>smart</td>\n    </tr>\n    <tr>\n      <th>90</th>\n      <td>1090</td>\n      <td>54</td>\n      <td>2018-12-03</td>\n      <td>Череповец</td>\n      <td>Екатерина</td>\n      <td>Астафьева</td>\n      <td>2018-10-11</td>\n      <td>ultra</td>\n    </tr>\n    <tr>\n      <th>128</th>\n      <td>1128</td>\n      <td>51</td>\n      <td>2018-12-23</td>\n      <td>Волжский</td>\n      <td>Ксения</td>\n      <td>Агаева</td>\n      <td>2018-12-15</td>\n      <td>ultra</td>\n    </tr>\n    <tr>\n      <th>161</th>\n      <td>1161</td>\n      <td>65</td>\n      <td>2018-11-07</td>\n      <td>Набережные Челны</td>\n      <td>Татьяна</td>\n      <td>Голованова</td>\n      <td>2018-07-03</td>\n      <td>smart</td>\n    </tr>\n    <tr>\n      <th>163</th>\n      <td>1163</td>\n      <td>21</td>\n      <td>2018-12-16</td>\n      <td>Москва</td>\n      <td>Лев</td>\n      <td>Вишневский</td>\n      <td>2018-11-03</td>\n      <td>smart</td>\n    </tr>\n    <tr>\n      <th>191</th>\n      <td>1191</td>\n      <td>64</td>\n      <td>2018-10-03</td>\n      <td>Набережные Челны</td>\n      <td>Александр</td>\n      <td>Акиндинов</td>\n      <td>2018-06-30</td>\n      <td>smart</td>\n    </tr>\n    <tr>\n      <th>201</th>\n      <td>1201</td>\n      <td>32</td>\n      <td>2018-12-03</td>\n      <td>Москва</td>\n      <td>Геннадий</td>\n      <td>Веселов</td>\n      <td>2018-08-06</td>\n      <td>ultra</td>\n    </tr>\n    <tr>\n      <th>206</th>\n      <td>1206</td>\n      <td>35</td>\n      <td>2018-12-20</td>\n      <td>Москва</td>\n      <td>Елена</td>\n      <td>Шарапова</td>\n      <td>2018-11-03</td>\n      <td>smart</td>\n    </tr>\n    <tr>\n      <th>232</th>\n      <td>1232</td>\n      <td>60</td>\n      <td>2018-11-30</td>\n      <td>Томск</td>\n      <td>Виктория</td>\n      <td>Ларина</td>\n      <td>2018-10-07</td>\n      <td>smart</td>\n    </tr>\n    <tr>\n      <th>242</th>\n      <td>1242</td>\n      <td>39</td>\n      <td>2018-12-21</td>\n      <td>Хабаровск</td>\n      <td>Радим</td>\n      <td>Федосеев</td>\n      <td>2018-11-18</td>\n      <td>smart</td>\n    </tr>\n    <tr>\n      <th>254</th>\n      <td>1254</td>\n      <td>75</td>\n      <td>2018-08-17</td>\n      <td>Москва</td>\n      <td>Александра</td>\n      <td>Сухарева</td>\n      <td>2018-01-04</td>\n      <td>ultra</td>\n    </tr>\n    <tr>\n      <th>255</th>\n      <td>1255</td>\n      <td>40</td>\n      <td>2018-09-02</td>\n      <td>Саранск</td>\n      <td>Серафима</td>\n      <td>Пономарева</td>\n      <td>2018-02-19</td>\n      <td>ultra</td>\n    </tr>\n    <tr>\n      <th>265</th>\n      <td>1265</td>\n      <td>24</td>\n      <td>2018-10-04</td>\n      <td>Омск</td>\n      <td>Радим</td>\n      <td>Адамов</td>\n      <td>2018-06-24</td>\n      <td>ultra</td>\n    </tr>\n    <tr>\n      <th>271</th>\n      <td>1271</td>\n      <td>69</td>\n      <td>2018-11-13</td>\n      <td>Челябинск</td>\n      <td>Аурелия</td>\n      <td>Чижова</td>\n      <td>2018-07-14</td>\n      <td>ultra</td>\n    </tr>\n    <tr>\n      <th>293</th>\n      <td>1293</td>\n      <td>39</td>\n      <td>2018-11-22</td>\n      <td>Санкт-Петербург</td>\n      <td>Эдита</td>\n      <td>Дубинина</td>\n      <td>2018-09-05</td>\n      <td>smart</td>\n    </tr>\n    <tr>\n      <th>343</th>\n      <td>1343</td>\n      <td>30</td>\n      <td>2018-10-28</td>\n      <td>Кострома</td>\n      <td>Анита</td>\n      <td>Верещагина</td>\n      <td>2018-08-15</td>\n      <td>ultra</td>\n    </tr>\n    <tr>\n      <th>353</th>\n      <td>1353</td>\n      <td>57</td>\n      <td>2018-11-26</td>\n      <td>Санкт-Петербург</td>\n      <td>Доминика</td>\n      <td>Анищенко</td>\n      <td>2018-04-22</td>\n      <td>smart</td>\n    </tr>\n    <tr>\n      <th>355</th>\n      <td>1355</td>\n      <td>33</td>\n      <td>2018-11-27</td>\n      <td>Киров</td>\n      <td>Сара</td>\n      <td>Абрикосова</td>\n      <td>2018-07-21</td>\n      <td>smart</td>\n    </tr>\n    <tr>\n      <th>367</th>\n      <td>1367</td>\n      <td>43</td>\n      <td>2018-11-16</td>\n      <td>Москва</td>\n      <td>Всеволод</td>\n      <td>Антоненко</td>\n      <td>2018-09-14</td>\n      <td>ultra</td>\n    </tr>\n    <tr>\n      <th>370</th>\n      <td>1370</td>\n      <td>48</td>\n      <td>2018-10-27</td>\n      <td>Новороссийск</td>\n      <td>Гектор</td>\n      <td>Сысоев</td>\n      <td>2018-02-06</td>\n      <td>smart</td>\n    </tr>\n    <tr>\n      <th>371</th>\n      <td>1371</td>\n      <td>50</td>\n      <td>2018-12-30</td>\n      <td>Омск</td>\n      <td>Ириней</td>\n      <td>Трофимов</td>\n      <td>2018-12-25</td>\n      <td>smart</td>\n    </tr>\n    <tr>\n      <th>392</th>\n      <td>1392</td>\n      <td>54</td>\n      <td>2018-09-27</td>\n      <td>Челябинск</td>\n      <td>Алла</td>\n      <td>Беликова</td>\n      <td>2018-02-27</td>\n      <td>ultra</td>\n    </tr>\n    <tr>\n      <th>399</th>\n      <td>1399</td>\n      <td>31</td>\n      <td>2018-12-25</td>\n      <td>Уфа</td>\n      <td>Алиса</td>\n      <td>Абрашина</td>\n      <td>2018-11-06</td>\n      <td>ultra</td>\n    </tr>\n    <tr>\n      <th>416</th>\n      <td>1416</td>\n      <td>50</td>\n      <td>2018-12-14</td>\n      <td>Санкт-Петербург</td>\n      <td>Валерия</td>\n      <td>Ёлчина</td>\n      <td>2018-07-16</td>\n      <td>ultra</td>\n    </tr>\n    <tr>\n      <th>422</th>\n      <td>1422</td>\n      <td>60</td>\n      <td>2018-12-21</td>\n      <td>Москва</td>\n      <td>Клара</td>\n      <td>Устинова</td>\n      <td>2018-10-12</td>\n      <td>smart</td>\n    </tr>\n    <tr>\n      <th>438</th>\n      <td>1438</td>\n      <td>24</td>\n      <td>2018-12-24</td>\n      <td>Екатеринбург</td>\n      <td>Нателла</td>\n      <td>Бородина</td>\n      <td>2018-10-05</td>\n      <td>smart</td>\n    </tr>\n    <tr>\n      <th>480</th>\n      <td>1480</td>\n      <td>29</td>\n      <td>2018-09-26</td>\n      <td>Новокузнецк</td>\n      <td>Гелена</td>\n      <td>Емельянова</td>\n      <td>2018-02-14</td>\n      <td>smart</td>\n    </tr>\n    <tr>\n      <th>498</th>\n      <td>1498</td>\n      <td>68</td>\n      <td>2018-10-25</td>\n      <td>Владикавказ</td>\n      <td>Всеволод</td>\n      <td>Акимчин</td>\n      <td>2018-07-19</td>\n      <td>smart</td>\n    </tr>\n  </tbody>\n</table>\n</div>"
     },
     "metadata": {},
     "output_type": "display_data"
    }
   ],
   "source": [
    "display(\n",
    "    users_df.loc[users_df['churn_date'].notna()]\n",
    ")"
   ],
   "metadata": {
    "collapsed": false,
    "pycharm": {
     "name": "#%%\n"
    }
   }
  },
  {
   "cell_type": "markdown",
   "source": [
    "### Дубликаты"
   ],
   "metadata": {
    "collapsed": false,
    "pycharm": {
     "name": "#%% md\n"
    }
   }
  },
  {
   "cell_type": "code",
   "execution_count": 115,
   "outputs": [
    {
     "data": {
      "text/plain": "id           0\ncall_date    0\nduration     0\nuser_id      0\ndtype: int64"
     },
     "metadata": {},
     "output_type": "display_data"
    }
   ],
   "source": [
    "display(\n",
    "    calls_df.loc[calls_df.duplicated()].count()\n",
    ")"
   ],
   "metadata": {
    "collapsed": false,
    "pycharm": {
     "name": "#%%\n"
    }
   }
  },
  {
   "cell_type": "code",
   "execution_count": 116,
   "outputs": [
    {
     "data": {
      "text/plain": "id              0\nmb_used         0\nsession_date    0\nuser_id         0\ndtype: int64"
     },
     "metadata": {},
     "output_type": "display_data"
    }
   ],
   "source": [
    "display(\n",
    "    internet_df.loc[internet_df.duplicated()].count()\n",
    ")"
   ],
   "metadata": {
    "collapsed": false,
    "pycharm": {
     "name": "#%%\n"
    }
   }
  },
  {
   "cell_type": "code",
   "execution_count": 117,
   "outputs": [
    {
     "data": {
      "text/plain": "id              0\nmessage_date    0\nuser_id         0\ndtype: int64"
     },
     "metadata": {},
     "output_type": "display_data"
    }
   ],
   "source": [
    "display(\n",
    "    messages_df.loc[messages_df.duplicated()].count()\n",
    ")"
   ],
   "metadata": {
    "collapsed": false,
    "pycharm": {
     "name": "#%%\n"
    }
   }
  },
  {
   "cell_type": "code",
   "execution_count": 118,
   "outputs": [
    {
     "data": {
      "text/plain": "user_id       0\nage           0\nchurn_date    0\ncity          0\nfirst_name    0\nlast_name     0\nreg_date      0\ntariff        0\ndtype: int64"
     },
     "metadata": {},
     "output_type": "display_data"
    },
    {
     "data": {
      "text/plain": "500"
     },
     "metadata": {},
     "output_type": "display_data"
    }
   ],
   "source": [
    "display(\n",
    "    users_df.loc[users_df.duplicated()].count(),\n",
    "    users_df['user_id'].value_counts().sum()\n",
    ")"
   ],
   "metadata": {
    "collapsed": false,
    "pycharm": {
     "name": "#%%\n"
    }
   }
  },
  {
   "cell_type": "markdown",
   "source": [
    "### Найдите и исправьте ошибки в данных, если они есть."
   ],
   "metadata": {
    "collapsed": false,
    "pycharm": {
     "name": "#%% md\n"
    }
   }
  },
  {
   "cell_type": "code",
   "execution_count": 119,
   "outputs": [],
   "source": [
    "users_df['churn_date'] = pd.to_datetime(users_df['churn_date'], errors='coerce', format='%Y-%m-%d')"
   ],
   "metadata": {
    "collapsed": false,
    "pycharm": {
     "name": "#%%\n"
    }
   }
  },
  {
   "cell_type": "code",
   "execution_count": 120,
   "outputs": [],
   "source": [
    "users_df['reg_date'] = pd.to_datetime(users_df['reg_date'], errors='coerce', format='%Y-%m-%d')"
   ],
   "metadata": {
    "collapsed": false,
    "pycharm": {
     "name": "#%%\n"
    }
   }
  },
  {
   "cell_type": "code",
   "execution_count": 121,
   "outputs": [
    {
     "name": "stdout",
     "output_type": "stream",
     "text": [
      "columns\n",
      "['user_id', 'age', 'churn_date', 'city', 'first_name', 'last_name', 'reg_date', 'tariff']\n",
      "\n",
      "age description\n",
      "count    500.00000\n",
      "mean      46.58800\n",
      "std       16.66763\n",
      "min       18.00000\n",
      "25%       32.00000\n",
      "50%       46.00000\n",
      "75%       62.00000\n",
      "max       75.00000\n",
      "Name: age, dtype: float64\n",
      "\n",
      "registration date min → max\n",
      "2018-01-01\n",
      "2018-12-31\n",
      "\n",
      "count of unique city\n",
      "76\n",
      "\n",
      "count of unique first name\n",
      "246\n",
      "\n",
      "count of unique last name\n",
      "419\n",
      "\n",
      "unique tariffs\n",
      "['ultra' 'smart']\n"
     ]
    }
   ],
   "source": [
    "print(\n",
    "    'columns',\n",
    "    list(users_df.columns),\n",
    "\n",
    "    '\\nage description',\n",
    "    users_df['age'].describe(),\n",
    "\n",
    "    '\\nregistration date min → max',\n",
    "    users_df['reg_date'].min().strftime('%Y-%m-%d'),\n",
    "    users_df['reg_date'].max().strftime('%Y-%m-%d'),\n",
    "\n",
    "    '\\ncount of unique city',\n",
    "    len(users_df['city'].unique()),\n",
    "\n",
    "    '\\ncount of unique first name',\n",
    "    len(users_df['first_name'].unique()),\n",
    "\n",
    "    '\\ncount of unique last name',\n",
    "    len(users_df['last_name'].unique()),\n",
    "\n",
    "    '\\nunique tariffs',\n",
    "    users_df['tariff'].unique(),\n",
    "    sep='\\n'\n",
    ")"
   ],
   "metadata": {
    "collapsed": false,
    "pycharm": {
     "name": "#%%\n"
    }
   }
  },
  {
   "cell_type": "markdown",
   "source": [
    "Проверим `'last_name'`, `'first_name'` и `'city'` на пробелы в начале и окончании."
   ],
   "metadata": {
    "collapsed": false,
    "pycharm": {
     "name": "#%% md\n"
    }
   }
  },
  {
   "cell_type": "code",
   "execution_count": 122,
   "outputs": [
    {
     "name": "stdout",
     "output_type": "stream",
     "text": [
      "first_name → 0 \n",
      "last_name → 0 \n",
      "city →  0\n"
     ]
    }
   ],
   "source": [
    "print(\n",
    "    'first_name →',\n",
    "    users_df['first_name'].apply(lambda fnm: fnm if ' ' in [fnm[0], fnm[-1]] else np.NaN).count(),\n",
    "    '\\nlast_name →',\n",
    "    users_df['last_name'].apply(lambda fnm: fnm if ' ' in [fnm[0], fnm[-1]] else np.NaN).count(),\n",
    "    '\\ncity → ',\n",
    "    users_df['city'].apply(lambda fnm: fnm if ' ' in [fnm[0], fnm[-1]] else np.NaN).count(),\n",
    ")"
   ],
   "metadata": {
    "collapsed": false,
    "pycharm": {
     "name": "#%%\n"
    }
   }
  },
  {
   "cell_type": "markdown",
   "source": [
    "Пробелов нет."
   ],
   "metadata": {
    "collapsed": false,
    "pycharm": {
     "name": "#%% md\n"
    }
   }
  },
  {
   "cell_type": "markdown",
   "source": [
    "#### Поясните, какие ошибки вы нашли и как их исправили."
   ],
   "metadata": {
    "collapsed": false,
    "pycharm": {
     "name": "#%% md\n"
    }
   }
  },
  {
   "cell_type": "code",
   "execution_count": 122,
   "outputs": [],
   "source": [],
   "metadata": {
    "collapsed": false,
    "pycharm": {
     "name": "#%%\n"
    }
   }
  },
  {
   "cell_type": "markdown",
   "source": [
    "### Приведите данные к нужным типам;"
   ],
   "metadata": {
    "collapsed": false,
    "pycharm": {
     "name": "#%% md\n"
    }
   }
  },
  {
   "cell_type": "markdown",
   "source": [
    "#### `tariffs_df`"
   ],
   "metadata": {
    "collapsed": false,
    "pycharm": {
     "name": "#%% md\n"
    }
   }
  },
  {
   "cell_type": "markdown",
   "source": [
    "#### `messages_df`"
   ],
   "metadata": {
    "collapsed": false,
    "pycharm": {
     "name": "#%% md\n"
    }
   }
  },
  {
   "cell_type": "code",
   "execution_count": 123,
   "outputs": [],
   "source": [
    "messages_df['message_date'] = pd.to_datetime(\n",
    "    messages_df['message_date'],\n",
    "    errors='coerce',\n",
    "    format='%Y-%m-%d'\n",
    ")\n",
    "\n",
    "# messages_df = messages_df.astype(\n",
    "#     {\n",
    "#         'user_id': 'uint16',\n",
    "#         'message_date': 'uint8',\n",
    "#         # 'churn_date': '',\n",
    "#         'city': 'category',\n",
    "#         'first_name': 'category',\n",
    "#         # 'last_name': '',\n",
    "#         # 'reg_date': '',\n",
    "#         'tariff': 'bool',\n",
    "#     }\n",
    "# )"
   ],
   "metadata": {
    "collapsed": false,
    "pycharm": {
     "name": "#%%\n"
    }
   }
  },
  {
   "cell_type": "markdown",
   "source": [
    "#### `internet_df`"
   ],
   "metadata": {
    "collapsed": false,
    "pycharm": {
     "name": "#%% md\n"
    }
   }
  },
  {
   "cell_type": "code",
   "execution_count": 124,
   "outputs": [],
   "source": [
    "internet_df['session_date'] = pd.to_datetime(\n",
    "    internet_df['session_date'],\n",
    "    errors='coerce',\n",
    "    format='%Y-%m-%d'\n",
    ")\n",
    "\n",
    "# internet_df = internet_df.astype(\n",
    "#     {\n",
    "#         'user_id': 'uint16',\n",
    "#         'message_date': 'uint8',\n",
    "#         # 'churn_date': '',\n",
    "#         'city': 'category',\n",
    "#         'first_name': 'category',\n",
    "#         # 'last_name': '',\n",
    "#         # 'reg_date': '',\n",
    "#         'tariff': 'bool',\n",
    "#     }\n",
    "# )"
   ],
   "metadata": {
    "collapsed": false,
    "pycharm": {
     "name": "#%%\n"
    }
   }
  },
  {
   "cell_type": "markdown",
   "source": [
    "#### `calls_df`"
   ],
   "metadata": {
    "collapsed": false,
    "pycharm": {
     "name": "#%% md\n"
    }
   }
  },
  {
   "cell_type": "code",
   "execution_count": 125,
   "outputs": [
    {
     "data": {
      "text/plain": "172484     9.0\n159268    11.0\n200130     0.0\n151600     0.0\n26821      8.0\n120290     9.0\n41025      0.0\n52251      0.0\n101912     1.0\n154552     6.0\nName: duration, dtype: float64"
     },
     "metadata": {},
     "output_type": "display_data"
    },
    {
     "data": {
      "text/plain": "38.0"
     },
     "metadata": {},
     "output_type": "display_data"
    }
   ],
   "source": [
    "calls_df.loc[\n",
    "    calls_df['duration'] > 0\n",
    "    , 'duration'\n",
    "] = calls_df.loc[\n",
    "        calls_df['duration'] > 0\n",
    "        , 'duration'\n",
    "    ].apply(np.ceil)\n",
    "\n",
    "display(\n",
    "    calls_df['duration'].sample(10),\n",
    "    calls_df['duration'].max(),\n",
    ")"
   ],
   "metadata": {
    "collapsed": false,
    "pycharm": {
     "name": "#%%\n"
    }
   }
  },
  {
   "cell_type": "code",
   "execution_count": 126,
   "outputs": [],
   "source": [
    "calls_df['call_date'] = pd.to_datetime(\n",
    "    calls_df['call_date'],\n",
    "    errors='coerce',\n",
    "    format='%Y-%m-%d'\n",
    ")\n",
    "\n",
    "calls_df = calls_df.astype(\n",
    "    {\n",
    "        'duration': 'uint8',\n",
    "#         'message_date': 'uint8',\n",
    "#         # 'churn_date': '',\n",
    "#         'city': 'category',\n",
    "#         'first_name': 'category',\n",
    "#         # 'last_name': '',\n",
    "#         # 'reg_date': '',\n",
    "#         'tariff': 'bool',\n",
    "    }\n",
    ")"
   ],
   "metadata": {
    "collapsed": false,
    "pycharm": {
     "name": "#%%\n"
    }
   }
  },
  {
   "cell_type": "markdown",
   "source": [
    "#### `users_df`"
   ],
   "metadata": {
    "collapsed": false,
    "pycharm": {
     "name": "#%% md\n"
    }
   }
  },
  {
   "cell_type": "code",
   "execution_count": 127,
   "outputs": [],
   "source": [
    "users_df['tariff'] = (\n",
    "    users_df['tariff'].apply(\n",
    "        lambda tn: tariffs_df.loc[\n",
    "            tariffs_df['tariff_name'] == tn\n",
    "        ].index.values[0]\n",
    "    )\n",
    ")"
   ],
   "metadata": {
    "collapsed": false,
    "pycharm": {
     "name": "#%%\n"
    }
   }
  },
  {
   "cell_type": "code",
   "execution_count": 128,
   "outputs": [
    {
     "data": {
      "text/plain": "218    0\n85     1\n149    0\nName: tariff, dtype: int64"
     },
     "metadata": {},
     "output_type": "display_data"
    }
   ],
   "source": [
    "display(\n",
    "    users_df['tariff'].sample(3)\n",
    ")"
   ],
   "metadata": {
    "collapsed": false,
    "pycharm": {
     "name": "#%%\n"
    }
   }
  },
  {
   "cell_type": "code",
   "execution_count": 129,
   "outputs": [],
   "source": [
    "users_df = users_df.astype(\n",
    "    {\n",
    "        'user_id': 'uint16',\n",
    "        'age': 'uint8',\n",
    "        # 'churn_date': '',\n",
    "        'city': 'category',\n",
    "        'first_name': 'category',\n",
    "        # 'last_name': '',\n",
    "        # 'reg_date': '',\n",
    "        'tariff': 'bool',\n",
    "    }\n",
    ")"
   ],
   "metadata": {
    "collapsed": false,
    "pycharm": {
     "name": "#%%\n"
    }
   }
  },
  {
   "cell_type": "code",
   "execution_count": 130,
   "outputs": [
    {
     "name": "stdout",
     "output_type": "stream",
     "text": [
      "<class 'pandas.core.frame.DataFrame'>\n",
      "RangeIndex: 500 entries, 0 to 499\n",
      "Data columns (total 8 columns):\n",
      " #   Column      Non-Null Count  Dtype         \n",
      "---  ------      --------------  -----         \n",
      " 0   user_id     500 non-null    uint16        \n",
      " 1   age         500 non-null    uint8         \n",
      " 2   churn_date  38 non-null     datetime64[ns]\n",
      " 3   city        500 non-null    category      \n",
      " 4   first_name  500 non-null    category      \n",
      " 5   last_name   500 non-null    object        \n",
      " 6   reg_date    500 non-null    datetime64[ns]\n",
      " 7   tariff      500 non-null    bool          \n",
      "dtypes: bool(1), category(2), datetime64[ns](2), object(1), uint16(1), uint8(1)\n",
      "memory usage: 27.9+ KB\n"
     ]
    },
    {
     "data": {
      "text/plain": "None"
     },
     "metadata": {},
     "output_type": "display_data"
    }
   ],
   "source": [
    "display(\n",
    "    users_df.info()\n",
    ")"
   ],
   "metadata": {
    "collapsed": false,
    "pycharm": {
     "name": "#%%\n"
    }
   }
  },
  {
   "cell_type": "code",
   "execution_count": 131,
   "outputs": [
    {
     "data": {
      "text/plain": "     user_id  age churn_date       city first_name last_name   reg_date  \\\n98      1098   39        NaT  Челябинск   Элеонора   Озерова 2018-06-23   \n77      1077   18        NaT     Москва     Марица  Кольцова 2018-10-23   \n7       1007   65        NaT     Москва        Юна  Березина 2018-04-19   \n106     1106   67        NaT     Калуга      Исаак    Костин 2018-04-26   \n78      1078   70        NaT  Волгоград    Харитон  Литвинов 2018-06-19   \n\n     tariff  \n98    False  \n77    False  \n7     False  \n106    True  \n78     True  ",
      "text/html": "<div>\n<style scoped>\n    .dataframe tbody tr th:only-of-type {\n        vertical-align: middle;\n    }\n\n    .dataframe tbody tr th {\n        vertical-align: top;\n    }\n\n    .dataframe thead th {\n        text-align: right;\n    }\n</style>\n<table border=\"1\" class=\"dataframe\">\n  <thead>\n    <tr style=\"text-align: right;\">\n      <th></th>\n      <th>user_id</th>\n      <th>age</th>\n      <th>churn_date</th>\n      <th>city</th>\n      <th>first_name</th>\n      <th>last_name</th>\n      <th>reg_date</th>\n      <th>tariff</th>\n    </tr>\n  </thead>\n  <tbody>\n    <tr>\n      <th>98</th>\n      <td>1098</td>\n      <td>39</td>\n      <td>NaT</td>\n      <td>Челябинск</td>\n      <td>Элеонора</td>\n      <td>Озерова</td>\n      <td>2018-06-23</td>\n      <td>False</td>\n    </tr>\n    <tr>\n      <th>77</th>\n      <td>1077</td>\n      <td>18</td>\n      <td>NaT</td>\n      <td>Москва</td>\n      <td>Марица</td>\n      <td>Кольцова</td>\n      <td>2018-10-23</td>\n      <td>False</td>\n    </tr>\n    <tr>\n      <th>7</th>\n      <td>1007</td>\n      <td>65</td>\n      <td>NaT</td>\n      <td>Москва</td>\n      <td>Юна</td>\n      <td>Березина</td>\n      <td>2018-04-19</td>\n      <td>False</td>\n    </tr>\n    <tr>\n      <th>106</th>\n      <td>1106</td>\n      <td>67</td>\n      <td>NaT</td>\n      <td>Калуга</td>\n      <td>Исаак</td>\n      <td>Костин</td>\n      <td>2018-04-26</td>\n      <td>True</td>\n    </tr>\n    <tr>\n      <th>78</th>\n      <td>1078</td>\n      <td>70</td>\n      <td>NaT</td>\n      <td>Волгоград</td>\n      <td>Харитон</td>\n      <td>Литвинов</td>\n      <td>2018-06-19</td>\n      <td>True</td>\n    </tr>\n  </tbody>\n</table>\n</div>"
     },
     "metadata": {},
     "output_type": "display_data"
    }
   ],
   "source": [
    "display(\n",
    "    users_df.sample(5)\n",
    ")"
   ],
   "metadata": {
    "collapsed": false,
    "pycharm": {
     "name": "#%%\n"
    }
   }
  },
  {
   "cell_type": "markdown",
   "source": [
    "<hr>"
   ],
   "metadata": {
    "collapsed": false,
    "pycharm": {
     "name": "#%% md\n"
    }
   }
  },
  {
   "cell_type": "markdown",
   "source": [
    "### Посчитайте для каждого пользователя:"
   ],
   "metadata": {
    "collapsed": false,
    "pycharm": {
     "name": "#%% md\n"
    }
   }
  },
  {
   "cell_type": "code",
   "execution_count": 132,
   "outputs": [
    {
     "data": {
      "text/plain": "0          NaN\n1          NaN\n2          3.0\n3         14.0\n4          6.0\n          ... \n202602     1.0\n202603    19.0\n202604    11.0\n202605     5.0\n202606    20.0\nName: duration, Length: 202607, dtype: float16"
     },
     "metadata": {},
     "output_type": "display_data"
    }
   ],
   "source": [
    "calls_df['duration'] = calls_df.loc[\n",
    "    calls_df['duration'] > 0\n",
    "    , 'duration'\n",
    "].apply(np.ceil)\n",
    "display(\n",
    "    calls_df['duration']\n",
    ")"
   ],
   "metadata": {
    "collapsed": false,
    "pycharm": {
     "name": "#%%\n"
    }
   }
  },
  {
   "cell_type": "code",
   "execution_count": 133,
   "outputs": [],
   "source": [
    "internet_latest_date = internet_df['session_date'].max()\n",
    "messages_latest_date = messages_df['message_date'].max()\n",
    "calls_latest_date = calls_df['call_date'].max()\n",
    "latest_update = max(\n",
    "    [\n",
    "        internet_latest_date,\n",
    "        messages_latest_date,\n",
    "        calls_latest_date\n",
    "    ]\n",
    ")"
   ],
   "metadata": {
    "collapsed": false,
    "pycharm": {
     "name": "#%%\n"
    }
   }
  },
  {
   "cell_type": "code",
   "execution_count": 134,
   "outputs": [],
   "source": [
    "user_profit = pd.DataFrame(data=users_df['user_id'])"
   ],
   "metadata": {
    "collapsed": false,
    "pycharm": {
     "name": "#%%\n"
    }
   }
  },
  {
   "cell_type": "code",
   "execution_count": 135,
   "outputs": [],
   "source": [
    "\n",
    "\n",
    "def month_in_use_gone(id):\n",
    "    month_usage = (\n",
    "        users_df.loc[(users_df['user_id'] == id)\n",
    "            , 'churn_date']\n",
    "        - users_df.loc[(users_df['user_id'] == id)\n",
    "            , 'reg_date']\n",
    "    )\n",
    "    month_usage = month_usage / np.timedelta64(1, 'M')\n",
    "    month_usage = int(month_usage)\n",
    "\n",
    "    return month_usage"
   ],
   "metadata": {
    "collapsed": false,
    "pycharm": {
     "name": "#%%\n"
    }
   }
  },
  {
   "cell_type": "code",
   "execution_count": 136,
   "outputs": [],
   "source": [
    "\n",
    "\n",
    "def month_in_use_on(id):\n",
    "    month_usage = (\n",
    "        latest_update\n",
    "        - users_df.loc[(users_df['user_id'] == id)\n",
    "            , 'reg_date'].item()\n",
    "    )\n",
    "\n",
    "    month_usage = month_usage / np.timedelta64(1, 'M')\n",
    "    month_usage = int(month_usage)\n",
    "\n",
    "    return month_usage"
   ],
   "metadata": {
    "collapsed": false,
    "pycharm": {
     "name": "#%%\n"
    }
   }
  },
  {
   "cell_type": "code",
   "execution_count": 137,
   "outputs": [],
   "source": [
    "user_profit.loc[\n",
    "    users_df['churn_date'].notna()\n",
    "    ,'month_usage'\n",
    "] = (\n",
    "        user_profit.loc[\n",
    "            users_df['churn_date'].notna()\n",
    "            , 'user_id'\n",
    "        ].apply(month_in_use_gone)\n",
    "    )"
   ],
   "metadata": {
    "collapsed": false,
    "pycharm": {
     "name": "#%%\n"
    }
   }
  },
  {
   "cell_type": "code",
   "execution_count": 138,
   "outputs": [],
   "source": [
    "user_profit.loc[\n",
    "    users_df['churn_date'].isna()\n",
    "    ,'month_usage'\n",
    "] = (\n",
    "        user_profit.loc[\n",
    "            users_df['churn_date'].isna()\n",
    "            , 'user_id'\n",
    "        ].apply(month_in_use_on)\n",
    "    )"
   ],
   "metadata": {
    "collapsed": false,
    "pycharm": {
     "name": "#%%\n"
    }
   }
  },
  {
   "cell_type": "code",
   "execution_count": 139,
   "outputs": [],
   "source": [
    "user_profit = user_profit.astype(\n",
    "    {\n",
    "        'user_id': 'uint16',\n",
    "        'month_usage': 'uint8',\n",
    "    }\n",
    ")"
   ],
   "metadata": {
    "collapsed": false,
    "pycharm": {
     "name": "#%%\n"
    }
   }
  },
  {
   "cell_type": "code",
   "execution_count": 140,
   "outputs": [
    {
     "data": {
      "text/plain": "     user_id  month_usage\n279     1279            4\n353     1353            7\n457     1457            9",
      "text/html": "<div>\n<style scoped>\n    .dataframe tbody tr th:only-of-type {\n        vertical-align: middle;\n    }\n\n    .dataframe tbody tr th {\n        vertical-align: top;\n    }\n\n    .dataframe thead th {\n        text-align: right;\n    }\n</style>\n<table border=\"1\" class=\"dataframe\">\n  <thead>\n    <tr style=\"text-align: right;\">\n      <th></th>\n      <th>user_id</th>\n      <th>month_usage</th>\n    </tr>\n  </thead>\n  <tbody>\n    <tr>\n      <th>279</th>\n      <td>1279</td>\n      <td>4</td>\n    </tr>\n    <tr>\n      <th>353</th>\n      <td>1353</td>\n      <td>7</td>\n    </tr>\n    <tr>\n      <th>457</th>\n      <td>1457</td>\n      <td>9</td>\n    </tr>\n  </tbody>\n</table>\n</div>"
     },
     "metadata": {},
     "output_type": "display_data"
    }
   ],
   "source": [
    "display(\n",
    "    user_profit.sample(3)\n",
    ")"
   ],
   "metadata": {
    "collapsed": false,
    "pycharm": {
     "name": "#%%\n"
    }
   }
  },
  {
   "cell_type": "code",
   "execution_count": 141,
   "outputs": [
    {
     "data": {
      "text/plain": "<AxesSubplot:xlabel='month_usage', ylabel='Count'>"
     },
     "execution_count": 141,
     "metadata": {},
     "output_type": "execute_result"
    },
    {
     "data": {
      "text/plain": "<Figure size 432x288 with 1 Axes>",
      "image/png": "[encoded data removed]"
     },
     "metadata": {},
     "output_type": "display_data"
    }
   ],
   "source": [
    "sns.histplot(\n",
    "    data=user_profit['month_usage'],\n",
    "    bins=(1+user_profit['month_usage'].max())\n",
    ")"
   ],
   "metadata": {
    "collapsed": false,
    "pycharm": {
     "name": "#%%\n"
    }
   }
  },
  {
   "cell_type": "raw",
   "source": [
    "display(\n",
    "    pd.Timestamp(np.datetime64('2018-01-29')) + pd.DateOffset(months=2)\n",
    ")"
   ],
   "metadata": {
    "collapsed": false,
    "pycharm": {
     "name": "#%% raw\n"
    }
   }
  },
  {
   "cell_type": "markdown",
   "source": [
    "#### количество сделанных звонков и израсходованных минут разговора по месяцам;"
   ],
   "metadata": {
    "collapsed": false,
    "pycharm": {
     "name": "#%% md\n"
    }
   }
  },
  {
   "cell_type": "code",
   "execution_count": 170,
   "outputs": [],
   "source": [
    "\n",
    "\n",
    "def count_monthly(number_of_month, u_id, u_reg_date):\n",
    "    end_month = u_reg_date + pd.DateOffset(months=number_of_month)\n",
    "    start_month = end_month - pd.DateOffset(months=1)\n",
    "    calls_gt_zero = calls_df['duration'] != 0\n",
    "\n",
    "    pick_user_month = (\n",
    "        (calls_df['user_id'] == u_id)\n",
    "        & (calls_df['call_date'] < end_month)\n",
    "        & (calls_df['call_date'] >= start_month)\n",
    "    )\n",
    "\n",
    "    count_of_calls = (calls_df.loc[\n",
    "            pick_user_month\n",
    "            & calls_gt_zero\n",
    "            , 'duration'\n",
    "        ].count()\n",
    "    )\n",
    "\n",
    "    count_of_minutes = (calls_df.loc[\n",
    "            pick_user_month\n",
    "            & calls_gt_zero\n",
    "            , 'duration'\n",
    "        ].sum()\n",
    "    )\n",
    "\n",
    "    count_of_messages = (messages_df.loc[\n",
    "            pick_user_month\n",
    "            , 'id'\n",
    "        ].count()\n",
    "    )\n",
    "\n",
    "    count_of_mb = (internet_df.loc[\n",
    "            pick_user_month\n",
    "            , 'mb_used'\n",
    "        ].sum()\n",
    "    )\n",
    "\n",
    "    count_of_session = (internet_df.loc[\n",
    "            pick_user_month\n",
    "            , 'id'\n",
    "        ].count()\n",
    "    )\n",
    "    return count_of_calls,\\\n",
    "           count_of_minutes,\\\n",
    "           count_of_messages,\\\n",
    "           count_of_mb,\\\n",
    "           count_of_session\n",
    "\n"
   ],
   "metadata": {
    "collapsed": false,
    "pycharm": {
     "name": "#%%\n"
    }
   }
  },
  {
   "cell_type": "code",
   "execution_count": 171,
   "outputs": [],
   "source": [
    "\n",
    "\n",
    "def spend_monthly(u_id):\n",
    "    picked_user = user_profit['user_id'] == u_id\n",
    "\n",
    "    u_month_usage = user_profit.loc[\n",
    "            picked_user\n",
    "            , 'month_usage'\n",
    "        ].item()\n",
    "\n",
    "    u_reg_date = users_df.loc[\n",
    "            picked_user\n",
    "            , 'reg_date'\n",
    "        ].item()\n",
    "\n",
    "    months_range = pd.Series(\n",
    "            data=range(1, u_month_usage + 1),\n",
    "            name='month',\n",
    "            dtype='uint8',\n",
    "        )\n",
    "\n",
    "    count_of_calls_monthly\\\n",
    "        , count_of_minutes_monthly\\\n",
    "        , count_of_messages_monthly\\\n",
    "        , count_of_mb_monthly\\\n",
    "        , count_of_session_monthly  = zip(\n",
    "        * months_range.apply(\n",
    "            count_monthly,\n",
    "            u_id=u_id,\n",
    "            u_reg_date=u_reg_date\n",
    "        )\n",
    "    )\n",
    "\n",
    "    return count_of_calls_monthly,\\\n",
    "           count_of_minutes_monthly,\\\n",
    "           count_of_messages_monthly,\\\n",
    "           count_of_mb_monthly,\\\n",
    "           count_of_session_monthly\n",
    "\n"
   ],
   "metadata": {
    "collapsed": false,
    "pycharm": {
     "name": "#%%\n"
    }
   }
  },
  {
   "cell_type": "code",
   "execution_count": 172,
   "outputs": [],
   "source": [
    "use_gt_month = user_profit['month_usage'] > 0"
   ],
   "metadata": {
    "collapsed": false,
    "pycharm": {
     "name": "#%%\n"
    }
   }
  },
  {
   "cell_type": "code",
   "execution_count": 173,
   "outputs": [
    {
     "name": "stderr",
     "output_type": "stream",
     "text": [
      "/Users/bionic/opt/anaconda3/lib/python3.9/site-packages/numpy/core/_asarray.py:102: VisibleDeprecationWarning: Creating an ndarray from ragged nested sequences (which is a list-or-tuple of lists-or-tuples-or ndarrays with different lengths or shapes) is deprecated. If you meant to do this, you must specify 'dtype=object' when creating the ndarray.\n",
      "  return array(a, dtype, copy=False, order=order)\n"
     ]
    }
   ],
   "source": [
    "user_profit.loc[use_gt_month\n",
    "    ,'calls_monthly'\n",
    "], user_profit.loc[use_gt_month\n",
    "    ,'minutes_monthly'\n",
    "], user_profit.loc[use_gt_month\n",
    "    ,'messages_monthly'\n",
    "], user_profit.loc[use_gt_month\n",
    "    ,'mb_monthly'\n",
    "], user_profit.loc[use_gt_month\n",
    "    ,'session_monthly'\n",
    "] =  zip(\n",
    "    * user_profit.loc[use_gt_month\n",
    "        , 'user_id'\n",
    "    ].apply(spend_monthly)\n",
    ")"
   ],
   "metadata": {
    "collapsed": false,
    "pycharm": {
     "name": "#%%\n"
    }
   }
  },
  {
   "cell_type": "code",
   "execution_count": 174,
   "outputs": [
    {
     "data": {
      "text/plain": "     user_id  month_usage                 calls_monthly  \\\n424     1424            6            (2, 3, 8, 4, 4, 7)   \n416     1416            4           (111, 83, 118, 129)   \n182     1182            2                      (22, 31)   \n332     1332            7  (64, 50, 53, 43, 51, 56, 52)   \n195     1195            2                      (55, 56)   \n\n                                       minutes_monthly       messages_monthly  \\\n424               (13.0, 28.0, 65.0, 21.0, 20.0, 87.0)     (0, 0, 0, 0, 0, 0)   \n416                      (940.0, 727.0, 994.0, 1056.0)           (0, 0, 0, 0)   \n182                                     (215.0, 268.0)               (29, 34)   \n332  (564.0, 468.0, 456.0, 404.0, 453.0, 567.0, 539.0)  (0, 0, 0, 0, 0, 0, 0)   \n195                                     (461.0, 458.0)               (73, 73)   \n\n                                            mb_monthly  \\\n424                     (0.0, 0.0, 0.0, 0.0, 0.0, 0.0)   \n416                               (0.0, 0.0, 0.0, 0.0)   \n182                     (10980.740000000003, 12179.13)   \n332  (24224.96, 18376.799999999996, 15073.730000000...   \n195                               (23816.14, 20836.72)   \n\n                  session_monthly  \n424            (0, 0, 0, 0, 0, 0)  \n416                  (0, 0, 0, 0)  \n182                      (29, 34)  \n332  (78, 60, 65, 56, 60, 72, 66)  \n195                      (73, 73)  ",
      "text/html": "<div>\n<style scoped>\n    .dataframe tbody tr th:only-of-type {\n        vertical-align: middle;\n    }\n\n    .dataframe tbody tr th {\n        vertical-align: top;\n    }\n\n    .dataframe thead th {\n        text-align: right;\n    }\n</style>\n<table border=\"1\" class=\"dataframe\">\n  <thead>\n    <tr style=\"text-align: right;\">\n      <th></th>\n      <th>user_id</th>\n      <th>month_usage</th>\n      <th>calls_monthly</th>\n      <th>minutes_monthly</th>\n      <th>messages_monthly</th>\n      <th>mb_monthly</th>\n      <th>session_monthly</th>\n    </tr>\n  </thead>\n  <tbody>\n    <tr>\n      <th>424</th>\n      <td>1424</td>\n      <td>6</td>\n      <td>(2, 3, 8, 4, 4, 7)</td>\n      <td>(13.0, 28.0, 65.0, 21.0, 20.0, 87.0)</td>\n      <td>(0, 0, 0, 0, 0, 0)</td>\n      <td>(0.0, 0.0, 0.0, 0.0, 0.0, 0.0)</td>\n      <td>(0, 0, 0, 0, 0, 0)</td>\n    </tr>\n    <tr>\n      <th>416</th>\n      <td>1416</td>\n      <td>4</td>\n      <td>(111, 83, 118, 129)</td>\n      <td>(940.0, 727.0, 994.0, 1056.0)</td>\n      <td>(0, 0, 0, 0)</td>\n      <td>(0.0, 0.0, 0.0, 0.0)</td>\n      <td>(0, 0, 0, 0)</td>\n    </tr>\n    <tr>\n      <th>182</th>\n      <td>1182</td>\n      <td>2</td>\n      <td>(22, 31)</td>\n      <td>(215.0, 268.0)</td>\n      <td>(29, 34)</td>\n      <td>(10980.740000000003, 12179.13)</td>\n      <td>(29, 34)</td>\n    </tr>\n    <tr>\n      <th>332</th>\n      <td>1332</td>\n      <td>7</td>\n      <td>(64, 50, 53, 43, 51, 56, 52)</td>\n      <td>(564.0, 468.0, 456.0, 404.0, 453.0, 567.0, 539.0)</td>\n      <td>(0, 0, 0, 0, 0, 0, 0)</td>\n      <td>(24224.96, 18376.799999999996, 15073.730000000...</td>\n      <td>(78, 60, 65, 56, 60, 72, 66)</td>\n    </tr>\n    <tr>\n      <th>195</th>\n      <td>1195</td>\n      <td>2</td>\n      <td>(55, 56)</td>\n      <td>(461.0, 458.0)</td>\n      <td>(73, 73)</td>\n      <td>(23816.14, 20836.72)</td>\n      <td>(73, 73)</td>\n    </tr>\n  </tbody>\n</table>\n</div>"
     },
     "metadata": {},
     "output_type": "display_data"
    }
   ],
   "source": [
    "display(\n",
    "    user_profit.sample(5)\n",
    ")"
   ],
   "metadata": {
    "collapsed": false,
    "pycharm": {
     "name": "#%%\n"
    }
   }
  },
  {
   "cell_type": "code",
   "execution_count": 175,
   "outputs": [
    {
     "data": {
      "text/plain": "   messages_included  mb_per_month_included  minutes_included  \\\n0                 50                  15360               500   \n1               1000                  30720              3000   \n\n   rub_monthly_fee  rub_per_gb  rub_per_message  rub_per_minute tariff_name  \n0              550         200                3               3       smart  \n1             1950         150                1               1       ultra  ",
      "text/html": "<div>\n<style scoped>\n    .dataframe tbody tr th:only-of-type {\n        vertical-align: middle;\n    }\n\n    .dataframe tbody tr th {\n        vertical-align: top;\n    }\n\n    .dataframe thead th {\n        text-align: right;\n    }\n</style>\n<table border=\"1\" class=\"dataframe\">\n  <thead>\n    <tr style=\"text-align: right;\">\n      <th></th>\n      <th>messages_included</th>\n      <th>mb_per_month_included</th>\n      <th>minutes_included</th>\n      <th>rub_monthly_fee</th>\n      <th>rub_per_gb</th>\n      <th>rub_per_message</th>\n      <th>rub_per_minute</th>\n      <th>tariff_name</th>\n    </tr>\n  </thead>\n  <tbody>\n    <tr>\n      <th>0</th>\n      <td>50</td>\n      <td>15360</td>\n      <td>500</td>\n      <td>550</td>\n      <td>200</td>\n      <td>3</td>\n      <td>3</td>\n      <td>smart</td>\n    </tr>\n    <tr>\n      <th>1</th>\n      <td>1000</td>\n      <td>30720</td>\n      <td>3000</td>\n      <td>1950</td>\n      <td>150</td>\n      <td>1</td>\n      <td>1</td>\n      <td>ultra</td>\n    </tr>\n  </tbody>\n</table>\n</div>"
     },
     "metadata": {},
     "output_type": "display_data"
    }
   ],
   "source": [
    "display(\n",
    "    tariffs_df\n",
    ")\n"
   ],
   "metadata": {
    "collapsed": false,
    "pycharm": {
     "name": "#%%\n"
    }
   }
  },
  {
   "cell_type": "code",
   "execution_count": 176,
   "outputs": [],
   "source": [
    "name_smart = tariffs_df.loc[0, 'tariff_name']\n",
    "only_smart = tariffs_df['tariff_name'] == name_smart\n",
    "\n",
    "sm_sms_pckg = tariffs_df.loc[only_smart\n",
    "    , 'messages_included'].item()\n",
    "\n",
    "sm_mb_pckg = tariffs_df.loc[only_smart\n",
    "    , 'mb_per_month_included'].item()\n",
    "\n",
    "sm_min_pckg = tariffs_df.loc[only_smart\n",
    "    , 'minutes_included'].item()\n",
    "\n",
    "sm_fee_pckg = tariffs_df.loc[only_smart\n",
    "    , 'rub_monthly_fee'].item()\n",
    "\n",
    "sm_per_gb_fee = tariffs_df.loc[only_smart\n",
    "    , 'rub_per_gb'].item()\n",
    "\n",
    "sm_per_sms_fee = tariffs_df.loc[only_smart\n",
    "    , 'rub_per_message'].item()\n",
    "\n",
    "sm_per_min_fee = tariffs_df.loc[only_smart\n",
    "    , 'rub_per_minute'].item()"
   ],
   "metadata": {
    "collapsed": false,
    "pycharm": {
     "name": "#%%\n"
    }
   }
  },
  {
   "cell_type": "code",
   "execution_count": 177,
   "outputs": [],
   "source": [
    "name_ultra = tariffs_df.loc[1, 'tariff_name']\n",
    "only_ultra = tariffs_df['tariff_name'] == name_ultra\n",
    "\n",
    "ul_sms_pckg = tariffs_df.loc[only_ultra\n",
    "    , 'messages_included'].item()\n",
    "\n",
    "ul_mb_pckg = tariffs_df.loc[only_ultra\n",
    "    , 'mb_per_month_included'].item()\n",
    "\n",
    "ul_min_pckg = tariffs_df.loc[only_ultra\n",
    "    , 'minutes_included'].item()\n",
    "\n",
    "ul_fee_pckg = tariffs_df.loc[only_ultra\n",
    "    , 'rub_monthly_fee'].item()\n",
    "\n",
    "ul_per_gb_fee = tariffs_df.loc[only_ultra\n",
    "    , 'rub_per_gb'].item()\n",
    "\n",
    "ul_per_sms_fee = tariffs_df.loc[only_ultra\n",
    "    , 'rub_per_message'].item()\n",
    "\n",
    "ul_per_min_fee = tariffs_df.loc[only_ultra\n",
    "    , 'rub_per_minute'].item()"
   ],
   "metadata": {
    "collapsed": false,
    "pycharm": {
     "name": "#%%\n"
    }
   }
  },
  {
   "cell_type": "code",
   "execution_count": 178,
   "outputs": [
    {
     "data": {
      "text/plain": "     user_id  age churn_date             city first_name  last_name  \\\n479     1479   40        NaT        Хабаровск      Игорь   Богданов   \n36      1036   47        NaT  Санкт-Петербург   Анжелика  Андропова   \n\n      reg_date  tariff  \n479 2018-07-03   False  \n36  2018-07-14   False  ",
      "text/html": "<div>\n<style scoped>\n    .dataframe tbody tr th:only-of-type {\n        vertical-align: middle;\n    }\n\n    .dataframe tbody tr th {\n        vertical-align: top;\n    }\n\n    .dataframe thead th {\n        text-align: right;\n    }\n</style>\n<table border=\"1\" class=\"dataframe\">\n  <thead>\n    <tr style=\"text-align: right;\">\n      <th></th>\n      <th>user_id</th>\n      <th>age</th>\n      <th>churn_date</th>\n      <th>city</th>\n      <th>first_name</th>\n      <th>last_name</th>\n      <th>reg_date</th>\n      <th>tariff</th>\n    </tr>\n  </thead>\n  <tbody>\n    <tr>\n      <th>479</th>\n      <td>1479</td>\n      <td>40</td>\n      <td>NaT</td>\n      <td>Хабаровск</td>\n      <td>Игорь</td>\n      <td>Богданов</td>\n      <td>2018-07-03</td>\n      <td>False</td>\n    </tr>\n    <tr>\n      <th>36</th>\n      <td>1036</td>\n      <td>47</td>\n      <td>NaT</td>\n      <td>Санкт-Петербург</td>\n      <td>Анжелика</td>\n      <td>Андропова</td>\n      <td>2018-07-14</td>\n      <td>False</td>\n    </tr>\n  </tbody>\n</table>\n</div>"
     },
     "metadata": {},
     "output_type": "display_data"
    }
   ],
   "source": [
    "display(\n",
    "    users_df.sample(2)\n",
    ")"
   ],
   "metadata": {
    "collapsed": false,
    "pycharm": {
     "name": "#%%\n"
    }
   }
  },
  {
   "cell_type": "code",
   "execution_count": 179,
   "outputs": [
    {
     "data": {
      "text/plain": "     user_id  month_usage                         calls_monthly  \\\n411     1411            5                  (66, 69, 55, 66, 78)   \n123     1123            9  (57, 63, 55, 60, 71, 80, 62, 59, 82)   \n\n                                       minutes_monthly  \\\n411                (636.0, 611.0, 513.0, 578.0, 691.0)   \n123  (528.0, 570.0, 472.0, 594.0, 677.0, 695.0, 548...   \n\n                           messages_monthly  \\\n411                         (0, 0, 0, 0, 0)   \n123  (77, 76, 74, 76, 86, 107, 76, 79, 101)   \n\n                                            mb_monthly  \\\n411                          (0.0, 0.0, 0.0, 0.0, 0.0)   \n123  (26490.53, 25631.390000000003, 26427.06, 26351...   \n\n                            session_monthly  \n411                         (0, 0, 0, 0, 0)  \n123  (77, 76, 74, 76, 86, 107, 76, 79, 101)  ",
      "text/html": "<div>\n<style scoped>\n    .dataframe tbody tr th:only-of-type {\n        vertical-align: middle;\n    }\n\n    .dataframe tbody tr th {\n        vertical-align: top;\n    }\n\n    .dataframe thead th {\n        text-align: right;\n    }\n</style>\n<table border=\"1\" class=\"dataframe\">\n  <thead>\n    <tr style=\"text-align: right;\">\n      <th></th>\n      <th>user_id</th>\n      <th>month_usage</th>\n      <th>calls_monthly</th>\n      <th>minutes_monthly</th>\n      <th>messages_monthly</th>\n      <th>mb_monthly</th>\n      <th>session_monthly</th>\n    </tr>\n  </thead>\n  <tbody>\n    <tr>\n      <th>411</th>\n      <td>1411</td>\n      <td>5</td>\n      <td>(66, 69, 55, 66, 78)</td>\n      <td>(636.0, 611.0, 513.0, 578.0, 691.0)</td>\n      <td>(0, 0, 0, 0, 0)</td>\n      <td>(0.0, 0.0, 0.0, 0.0, 0.0)</td>\n      <td>(0, 0, 0, 0, 0)</td>\n    </tr>\n    <tr>\n      <th>123</th>\n      <td>1123</td>\n      <td>9</td>\n      <td>(57, 63, 55, 60, 71, 80, 62, 59, 82)</td>\n      <td>(528.0, 570.0, 472.0, 594.0, 677.0, 695.0, 548...</td>\n      <td>(77, 76, 74, 76, 86, 107, 76, 79, 101)</td>\n      <td>(26490.53, 25631.390000000003, 26427.06, 26351...</td>\n      <td>(77, 76, 74, 76, 86, 107, 76, 79, 101)</td>\n    </tr>\n  </tbody>\n</table>\n</div>"
     },
     "metadata": {},
     "output_type": "display_data"
    }
   ],
   "source": [
    "display(\n",
    "    user_profit.sample(2)\n",
    ")"
   ],
   "metadata": {
    "collapsed": false,
    "pycharm": {
     "name": "#%%\n"
    }
   }
  },
  {
   "cell_type": "code",
   "execution_count": 201,
   "outputs": [],
   "source": [
    "\n",
    "\n",
    "def calc_profit_smart(monthly_profit):\n",
    "    extra_min_monthly = pd.Series(\n",
    "            monthly_profit.loc['minutes_monthly']\n",
    "        ).apply(\n",
    "            lambda mn: (mn - sm_min_pckg)\n",
    "                if (mn - sm_min_pckg) > 0 else 0\n",
    "        )\n",
    "\n",
    "    extra_sms_monthly = pd.Series(\n",
    "            monthly_profit.loc['messages_monthly']\n",
    "        ).apply(\n",
    "            lambda sm: (sm - sm_sms_pckg)\n",
    "                if (sm - sm_sms_pckg) > 0 else 0\n",
    "        )\n",
    "\n",
    "    extra_gb_monthly = pd.Series(\n",
    "            monthly_profit.loc['mb_monthly']\n",
    "        ).apply(\n",
    "            lambda mb: np.ceil((mb - sm_mb_pckg) / mb_in_gb)\n",
    "                if (mb - sm_mb_pckg) > 0 else 0\n",
    "        )\n",
    "\n",
    "    extra_fee_min_monthly = extra_min_monthly * sm_per_min_fee\n",
    "    extra_fee_sms_monthly = extra_sms_monthly * sm_per_sms_fee\n",
    "    extra_fee_gb_monthly = extra_gb_monthly * sm_per_gb_fee\n",
    "\n",
    "    total_extra_fee_monthly = pd.Series(\n",
    "        np.sum(\n",
    "            [extra_fee_min_monthly,\n",
    "            extra_fee_sms_monthly,\n",
    "            extra_fee_gb_monthly]\n",
    "            , axis=0\n",
    "        )\n",
    "    )\n",
    "\n",
    "    total_fee_monthly = total_extra_fee_monthly + sm_fee_pckg\n",
    "\n",
    "    return np.array(object=extra_fee_min_monthly, dtype=object),\\\n",
    "           np.array(object=extra_fee_sms_monthly, dtype=object),\\\n",
    "           np.array(object=extra_fee_gb_monthly, dtype=object),\\\n",
    "           np.array(object=total_extra_fee_monthly, dtype=object),\\\n",
    "           np.array(object=total_fee_monthly, dtype=object)\n",
    "\n"
   ],
   "metadata": {
    "collapsed": false,
    "pycharm": {
     "name": "#%%\n"
    }
   }
  },
  {
   "cell_type": "code",
   "execution_count": 202,
   "outputs": [],
   "source": [
    "\n",
    "\n",
    "def calc_profit_ultra(monthly_profit):\n",
    "    extra_min_monthly = pd.Series(\n",
    "            monthly_profit.loc['minutes_monthly']\n",
    "        ).apply(\n",
    "            lambda mn: (mn - ul_min_pckg)\n",
    "                if (mn - ul_min_pckg) > 0 else 0\n",
    "        )\n",
    "\n",
    "    extra_sms_monthly = pd.Series(\n",
    "            monthly_profit.loc['messages_monthly']\n",
    "        ).apply(\n",
    "            lambda sm: (sm - ul_sms_pckg)\n",
    "                if (sm - ul_sms_pckg) > 0 else 0\n",
    "        )\n",
    "\n",
    "    extra_gb_monthly = pd.Series(\n",
    "            monthly_profit.loc['mb_monthly']\n",
    "        ).apply(\n",
    "            lambda mb: np.ceil((mb - ul_mb_pckg) / mb_in_gb)\n",
    "                if (mb - ul_mb_pckg) > 0 else 0\n",
    "        )\n",
    "\n",
    "    extra_fee_min_monthly = extra_min_monthly * ul_per_min_fee\n",
    "    extra_fee_sms_monthly = extra_sms_monthly * ul_per_sms_fee\n",
    "    extra_fee_gb_monthly = extra_gb_monthly * ul_per_gb_fee\n",
    "\n",
    "    total_extra_fee_monthly = pd.Series(\n",
    "        np.sum(\n",
    "            [extra_fee_min_monthly,\n",
    "            extra_fee_sms_monthly,\n",
    "            extra_fee_gb_monthly]\n",
    "            , axis=0\n",
    "        )\n",
    "    )\n",
    "\n",
    "    total_fee_monthly = total_extra_fee_monthly + ul_fee_pckg\n",
    "    \n",
    "    return np.array(object=extra_fee_min_monthly, dtype=object),\\\n",
    "           np.array(object=extra_fee_sms_monthly, dtype=object),\\\n",
    "           np.array(object=extra_fee_gb_monthly, dtype=object),\\\n",
    "           np.array(object=total_extra_fee_monthly, dtype=object),\\\n",
    "           np.array(object=total_fee_monthly, dtype=object)\n",
    "\n"
   ],
   "metadata": {
    "collapsed": false,
    "pycharm": {
     "name": "#%%\n"
    }
   }
  },
  {
   "cell_type": "markdown",
   "source": [
    "##### users of «smart»"
   ],
   "metadata": {
    "collapsed": false,
    "pycharm": {
     "name": "#%% md\n"
    }
   }
  },
  {
   "cell_type": "code",
   "execution_count": 203,
   "outputs": [],
   "source": [
    "users_of_smart = users_df['tariff'] == False"
   ],
   "metadata": {
    "collapsed": false,
    "pycharm": {
     "name": "#%%\n"
    }
   }
  },
  {
   "cell_type": "code",
   "execution_count": 204,
   "outputs": [],
   "source": [
    "users_of_smart_gt_month = users_of_smart & use_gt_month"
   ],
   "metadata": {
    "collapsed": false,
    "pycharm": {
     "name": "#%%\n"
    }
   }
  },
  {
   "cell_type": "code",
   "execution_count": 205,
   "outputs": [
    {
     "name": "stderr",
     "output_type": "stream",
     "text": [
      "/Users/bionic/opt/anaconda3/lib/python3.9/site-packages/numpy/core/_asarray.py:102: VisibleDeprecationWarning: Creating an ndarray from ragged nested sequences (which is a list-or-tuple of lists-or-tuples-or ndarrays with different lengths or shapes) is deprecated. If you meant to do this, you must specify 'dtype=object' when creating the ndarray.\n",
      "  return array(a, dtype, copy=False, order=order)\n",
      "/Users/bionic/opt/anaconda3/lib/python3.9/site-packages/pandas/core/dtypes/missing.py:531: VisibleDeprecationWarning: Creating an ndarray from ragged nested sequences (which is a list-or-tuple of lists-or-tuples-or ndarrays with different lengths or shapes) is deprecated. If you meant to do this, you must specify 'dtype=object' when creating the ndarray.\n",
      "  val = np.array(val, copy=False)\n"
     ]
    }
   ],
   "source": [
    "user_profit.loc[users_of_smart_gt_month\n",
    "    , 'extra_fee_min_monthly'\n",
    "], user_profit.loc[users_of_smart_gt_month\n",
    "    , 'extra_fee_sms_monthly'\n",
    "], user_profit.loc[users_of_smart_gt_month\n",
    "    , 'extra_fee_gb_monthly'\n",
    "], user_profit.loc[users_of_smart_gt_month\n",
    "    , 'total_extra_fee_monthly'\n",
    "], user_profit.loc[users_of_smart_gt_month\n",
    ", 'total_fee_monthly'\n",
    "] = zip(\n",
    "    * user_profit.loc[users_of_smart_gt_month\n",
    "        , ['minutes_monthly',\n",
    "           'messages_monthly',\n",
    "           'mb_monthly']\n",
    "    ].apply(calc_profit_smart, axis=1)\n",
    ")"
   ],
   "metadata": {
    "collapsed": false,
    "pycharm": {
     "name": "#%%\n"
    }
   }
  },
  {
   "cell_type": "markdown",
   "source": [
    "##### users of «ultra»"
   ],
   "metadata": {
    "collapsed": false,
    "pycharm": {
     "name": "#%% md\n"
    }
   }
  },
  {
   "cell_type": "code",
   "execution_count": 206,
   "outputs": [],
   "source": [
    "users_of_ultra = users_df['tariff'] == True"
   ],
   "metadata": {
    "collapsed": false,
    "pycharm": {
     "name": "#%%\n"
    }
   }
  },
  {
   "cell_type": "code",
   "execution_count": 207,
   "outputs": [],
   "source": [
    "users_of_ultra_gt_month = users_of_ultra & use_gt_month"
   ],
   "metadata": {
    "collapsed": false,
    "pycharm": {
     "name": "#%%\n"
    }
   }
  },
  {
   "cell_type": "code",
   "execution_count": 208,
   "outputs": [],
   "source": [
    "user_profit.loc[users_of_ultra_gt_month\n",
    ", 'extra_fee_min_monthly'\n",
    "], user_profit.loc[users_of_ultra_gt_month\n",
    ", 'extra_fee_sms_monthly'\n",
    "], user_profit.loc[users_of_ultra_gt_month\n",
    ", 'extra_fee_gb_monthly'\n",
    "], user_profit.loc[users_of_ultra_gt_month\n",
    ", 'total_extra_fee_monthly'\n",
    "], user_profit.loc[users_of_ultra_gt_month\n",
    ", 'total_fee_monthly'\n",
    "] = zip(\n",
    "    * user_profit.loc[users_of_ultra_gt_month\n",
    "    , ['minutes_monthly',\n",
    "       'messages_monthly',\n",
    "       'mb_monthly']\n",
    "    ].apply(calc_profit_smart, axis=1)\n",
    ")"
   ],
   "metadata": {
    "collapsed": false,
    "pycharm": {
     "name": "#%%\n"
    }
   }
  },
  {
   "cell_type": "markdown",
   "source": [
    "#### количество отправленных сообщений по месяцам;"
   ],
   "metadata": {
    "collapsed": false,
    "pycharm": {
     "name": "#%% md\n"
    }
   }
  },
  {
   "cell_type": "code",
   "execution_count": 209,
   "outputs": [
    {
     "data": {
      "text/plain": "     user_id  month_usage                                 calls_monthly  \\\n150     1150            4                              (44, 43, 40, 47)   \n256     1256            3                                  (72, 54, 70)   \n112     1112            3                                  (54, 57, 58)   \n5       1005           11  (63, 52, 78, 59, 70, 61, 66, 57, 75, 66, 59)   \n40      1040            6                      (28, 45, 35, 19, 38, 48)   \n491     1491            8              (59, 64, 64, 65, 54, 70, 61, 70)   \n437     1437            4                              (33, 28, 33, 29)   \n\n                                       minutes_monthly  \\\n150                       (457.0, 389.0, 351.0, 462.0)   \n256                              (646.0, 572.0, 563.0)   \n112                              (536.0, 520.0, 455.0)   \n5    (519.0, 477.0, 763.0, 538.0, 635.0, 584.0, 608...   \n40          (235.0, 414.0, 365.0, 196.0, 316.0, 413.0)   \n491  (486.0, 543.0, 558.0, 630.0, 481.0, 624.0, 543...   \n437                       (330.0, 203.0, 268.0, 241.0)   \n\n                                  messages_monthly  \\\n150                               (57, 50, 51, 55)   \n256                                   (89, 72, 85)   \n112                                   (75, 72, 76)   \n5    (80, 64, 104, 70, 80, 77, 72, 67, 92, 85, 74)   \n40                        (35, 53, 42, 24, 46, 55)   \n491                       (0, 0, 0, 0, 0, 0, 0, 0)   \n437                                   (0, 0, 0, 0)   \n\n                                            mb_monthly  \\\n150  (24306.37, 27087.789999999997, 24161.710000000...   \n256  (27273.839999999997, 25762.65, 24961.449999999...   \n112           (23792.079999999998, 21733.21, 27023.97)   \n5    (23920.489999999998, 17581.37, 35444.76, 20573...   \n40   (10653.859999999999, 15059.460000000001, 15950...   \n491           (0.0, 0.0, 0.0, 0.0, 0.0, 0.0, 0.0, 0.0)   \n437                               (0.0, 0.0, 0.0, 0.0)   \n\n                                   session_monthly  \\\n150                               (57, 50, 51, 55)   \n256                                   (89, 72, 85)   \n112                                   (75, 72, 76)   \n5    (80, 64, 104, 70, 80, 77, 72, 67, 92, 85, 74)   \n40                        (35, 53, 42, 24, 46, 55)   \n491                       (0, 0, 0, 0, 0, 0, 0, 0)   \n437                                   (0, 0, 0, 0)   \n\n                                 extra_fee_min_monthly  \\\n150                                       [0, 0, 0, 0]   \n256                              [438.0, 216.0, 189.0]   \n112                                 [108.0, 60.0, 0.0]   \n5    [57.0, 0.0, 789.0, 114.0, 405.0, 252.0, 324.0,...   \n40                                  [0, 0, 0, 0, 0, 0]   \n491  [0.0, 129.0, 174.0, 390.0, 0.0, 372.0, 129.0, ...   \n437                                       [0, 0, 0, 0]   \n\n                               extra_fee_sms_monthly  \\\n150                                   [21, 0, 3, 15]   \n256                                   [117, 66, 105]   \n112                                     [75, 66, 78]   \n5    [90, 42, 162, 60, 90, 81, 66, 51, 126, 105, 72]   \n40                               [0, 9, 0, 0, 0, 15]   \n491                         [0, 0, 0, 0, 0, 0, 0, 0]   \n437                                     [0, 0, 0, 0]   \n\n                                  extra_fee_gb_monthly  \\\n150                   [1800.0, 2400.0, 1800.0, 1200.0]   \n256                           [2400.0, 2200.0, 2000.0]   \n112                           [1800.0, 1400.0, 2400.0]   \n5    [1800.0, 600.0, 4000.0, 1200.0, 2600.0, 2000.0...   \n40                  [0.0, 0.0, 200.0, 0.0, 0.0, 800.0]   \n491                           [0, 0, 0, 0, 0, 0, 0, 0]   \n437                                       [0, 0, 0, 0]   \n\n                               total_extra_fee_monthly  \\\n150                   [1821.0, 2400.0, 1803.0, 1215.0]   \n256                           [2955.0, 2482.0, 2294.0]   \n112                           [1983.0, 1526.0, 2478.0]   \n5    [1947.0, 642.0, 4951.0, 1374.0, 3095.0, 2333.0...   \n40                  [0.0, 9.0, 200.0, 0.0, 0.0, 815.0]   \n491  [0.0, 129.0, 174.0, 390.0, 0.0, 372.0, 129.0, ...   \n437                                       [0, 0, 0, 0]   \n\n                                     total_fee_monthly  \n150                   [2371.0, 2950.0, 2353.0, 1765.0]  \n256                           [3505.0, 3032.0, 2844.0]  \n112                           [2533.0, 2076.0, 3028.0]  \n5    [2497.0, 1192.0, 5501.0, 1924.0, 3645.0, 2883....  \n40         [550.0, 559.0, 750.0, 550.0, 550.0, 1365.0]  \n491  [550.0, 679.0, 724.0, 940.0, 550.0, 922.0, 679...  \n437                               [550, 550, 550, 550]  ",
      "text/html": "<div>\n<style scoped>\n    .dataframe tbody tr th:only-of-type {\n        vertical-align: middle;\n    }\n\n    .dataframe tbody tr th {\n        vertical-align: top;\n    }\n\n    .dataframe thead th {\n        text-align: right;\n    }\n</style>\n<table border=\"1\" class=\"dataframe\">\n  <thead>\n    <tr style=\"text-align: right;\">\n      <th></th>\n      <th>user_id</th>\n      <th>month_usage</th>\n      <th>calls_monthly</th>\n      <th>minutes_monthly</th>\n      <th>messages_monthly</th>\n      <th>mb_monthly</th>\n      <th>session_monthly</th>\n      <th>extra_fee_min_monthly</th>\n      <th>extra_fee_sms_monthly</th>\n      <th>extra_fee_gb_monthly</th>\n      <th>total_extra_fee_monthly</th>\n      <th>total_fee_monthly</th>\n    </tr>\n  </thead>\n  <tbody>\n    <tr>\n      <th>150</th>\n      <td>1150</td>\n      <td>4</td>\n      <td>(44, 43, 40, 47)</td>\n      <td>(457.0, 389.0, 351.0, 462.0)</td>\n      <td>(57, 50, 51, 55)</td>\n      <td>(24306.37, 27087.789999999997, 24161.710000000...</td>\n      <td>(57, 50, 51, 55)</td>\n      <td>[0, 0, 0, 0]</td>\n      <td>[21, 0, 3, 15]</td>\n      <td>[1800.0, 2400.0, 1800.0, 1200.0]</td>\n      <td>[1821.0, 2400.0, 1803.0, 1215.0]</td>\n      <td>[2371.0, 2950.0, 2353.0, 1765.0]</td>\n    </tr>\n    <tr>\n      <th>256</th>\n      <td>1256</td>\n      <td>3</td>\n      <td>(72, 54, 70)</td>\n      <td>(646.0, 572.0, 563.0)</td>\n      <td>(89, 72, 85)</td>\n      <td>(27273.839999999997, 25762.65, 24961.449999999...</td>\n      <td>(89, 72, 85)</td>\n      <td>[438.0, 216.0, 189.0]</td>\n      <td>[117, 66, 105]</td>\n      <td>[2400.0, 2200.0, 2000.0]</td>\n      <td>[2955.0, 2482.0, 2294.0]</td>\n      <td>[3505.0, 3032.0, 2844.0]</td>\n    </tr>\n    <tr>\n      <th>112</th>\n      <td>1112</td>\n      <td>3</td>\n      <td>(54, 57, 58)</td>\n      <td>(536.0, 520.0, 455.0)</td>\n      <td>(75, 72, 76)</td>\n      <td>(23792.079999999998, 21733.21, 27023.97)</td>\n      <td>(75, 72, 76)</td>\n      <td>[108.0, 60.0, 0.0]</td>\n      <td>[75, 66, 78]</td>\n      <td>[1800.0, 1400.0, 2400.0]</td>\n      <td>[1983.0, 1526.0, 2478.0]</td>\n      <td>[2533.0, 2076.0, 3028.0]</td>\n    </tr>\n    <tr>\n      <th>5</th>\n      <td>1005</td>\n      <td>11</td>\n      <td>(63, 52, 78, 59, 70, 61, 66, 57, 75, 66, 59)</td>\n      <td>(519.0, 477.0, 763.0, 538.0, 635.0, 584.0, 608...</td>\n      <td>(80, 64, 104, 70, 80, 77, 72, 67, 92, 85, 74)</td>\n      <td>(23920.489999999998, 17581.37, 35444.76, 20573...</td>\n      <td>(80, 64, 104, 70, 80, 77, 72, 67, 92, 85, 74)</td>\n      <td>[57.0, 0.0, 789.0, 114.0, 405.0, 252.0, 324.0,...</td>\n      <td>[90, 42, 162, 60, 90, 81, 66, 51, 126, 105, 72]</td>\n      <td>[1800.0, 600.0, 4000.0, 1200.0, 2600.0, 2000.0...</td>\n      <td>[1947.0, 642.0, 4951.0, 1374.0, 3095.0, 2333.0...</td>\n      <td>[2497.0, 1192.0, 5501.0, 1924.0, 3645.0, 2883....</td>\n    </tr>\n    <tr>\n      <th>40</th>\n      <td>1040</td>\n      <td>6</td>\n      <td>(28, 45, 35, 19, 38, 48)</td>\n      <td>(235.0, 414.0, 365.0, 196.0, 316.0, 413.0)</td>\n      <td>(35, 53, 42, 24, 46, 55)</td>\n      <td>(10653.859999999999, 15059.460000000001, 15950...</td>\n      <td>(35, 53, 42, 24, 46, 55)</td>\n      <td>[0, 0, 0, 0, 0, 0]</td>\n      <td>[0, 9, 0, 0, 0, 15]</td>\n      <td>[0.0, 0.0, 200.0, 0.0, 0.0, 800.0]</td>\n      <td>[0.0, 9.0, 200.0, 0.0, 0.0, 815.0]</td>\n      <td>[550.0, 559.0, 750.0, 550.0, 550.0, 1365.0]</td>\n    </tr>\n    <tr>\n      <th>491</th>\n      <td>1491</td>\n      <td>8</td>\n      <td>(59, 64, 64, 65, 54, 70, 61, 70)</td>\n      <td>(486.0, 543.0, 558.0, 630.0, 481.0, 624.0, 543...</td>\n      <td>(0, 0, 0, 0, 0, 0, 0, 0)</td>\n      <td>(0.0, 0.0, 0.0, 0.0, 0.0, 0.0, 0.0, 0.0)</td>\n      <td>(0, 0, 0, 0, 0, 0, 0, 0)</td>\n      <td>[0.0, 129.0, 174.0, 390.0, 0.0, 372.0, 129.0, ...</td>\n      <td>[0, 0, 0, 0, 0, 0, 0, 0]</td>\n      <td>[0, 0, 0, 0, 0, 0, 0, 0]</td>\n      <td>[0.0, 129.0, 174.0, 390.0, 0.0, 372.0, 129.0, ...</td>\n      <td>[550.0, 679.0, 724.0, 940.0, 550.0, 922.0, 679...</td>\n    </tr>\n    <tr>\n      <th>437</th>\n      <td>1437</td>\n      <td>4</td>\n      <td>(33, 28, 33, 29)</td>\n      <td>(330.0, 203.0, 268.0, 241.0)</td>\n      <td>(0, 0, 0, 0)</td>\n      <td>(0.0, 0.0, 0.0, 0.0)</td>\n      <td>(0, 0, 0, 0)</td>\n      <td>[0, 0, 0, 0]</td>\n      <td>[0, 0, 0, 0]</td>\n      <td>[0, 0, 0, 0]</td>\n      <td>[0, 0, 0, 0]</td>\n      <td>[550, 550, 550, 550]</td>\n    </tr>\n  </tbody>\n</table>\n</div>"
     },
     "metadata": {},
     "output_type": "display_data"
    }
   ],
   "source": [
    "display(\n",
    "    user_profit.sample(7)\n",
    ")"
   ],
   "metadata": {
    "collapsed": false,
    "pycharm": {
     "name": "#%%\n"
    }
   }
  },
  {
   "cell_type": "code",
   "execution_count": null,
   "outputs": [],
   "source": [],
   "metadata": {
    "collapsed": false,
    "pycharm": {
     "name": "#%%\n"
    }
   }
  },
  {
   "cell_type": "markdown",
   "source": [
    "#### объем израсходованного интернет-трафика по месяцам;"
   ],
   "metadata": {
    "collapsed": false,
    "pycharm": {
     "name": "#%% md\n"
    }
   }
  },
  {
   "cell_type": "code",
   "execution_count": null,
   "outputs": [],
   "source": [],
   "metadata": {
    "collapsed": false,
    "pycharm": {
     "name": "#%%\n"
    }
   }
  },
  {
   "cell_type": "markdown",
   "source": [
    "#### помесячную выручку с каждого пользователя"
   ],
   "metadata": {
    "collapsed": false,
    "pycharm": {
     "name": "#%% md\n"
    }
   }
  },
  {
   "cell_type": "markdown",
   "source": [
    "(вычтите бесплатный лимит из суммарного количества звонков, сообщений и интернет-трафика; остаток умножьте на значение из тарифного плана; прибавьте абонентскую плату, соответствующую тарифному плану)."
   ],
   "metadata": {
    "collapsed": false,
    "pycharm": {
     "name": "#%% md\n"
    }
   }
  },
  {
   "cell_type": "code",
   "execution_count": null,
   "outputs": [],
   "source": [],
   "metadata": {
    "collapsed": false,
    "pycharm": {
     "name": "#%%\n"
    }
   }
  },
  {
   "cell_type": "code",
   "execution_count": null,
   "outputs": [],
   "source": [],
   "metadata": {
    "collapsed": false,
    "pycharm": {
     "name": "#%%\n"
    }
   }
  },
  {
   "cell_type": "markdown",
   "source": [],
   "metadata": {
    "collapsed": false,
    "pycharm": {
     "name": "#%% md\n"
    }
   }
  },
  {
   "cell_type": "markdown",
   "source": [],
   "metadata": {
    "collapsed": false,
    "pycharm": {
     "name": "#%% md\n"
    }
   }
  },
  {
   "cell_type": "markdown",
   "source": [
    "<hr>"
   ],
   "metadata": {
    "collapsed": false,
    "pycharm": {
     "name": "#%% md\n"
    }
   }
  },
  {
   "cell_type": "markdown",
   "source": [
    "## Шаг 3. Анализ данных"
   ],
   "metadata": {
    "collapsed": false,
    "pycharm": {
     "name": "#%% md\n"
    }
   }
  },
  {
   "cell_type": "code",
   "execution_count": null,
   "outputs": [],
   "source": [],
   "metadata": {
    "collapsed": false,
    "pycharm": {
     "name": "#%%\n"
    }
   }
  },
  {
   "cell_type": "markdown",
   "source": [
    "### Описание поведения клиентов оператора, исходя из выборки."
   ],
   "metadata": {
    "collapsed": false,
    "pycharm": {
     "name": "#%% md\n"
    }
   }
  },
  {
   "cell_type": "markdown",
   "source": [
    "#### Сколько минут разговора требуется пользователям каждого тарифа в месяц?"
   ],
   "metadata": {
    "collapsed": false,
    "pycharm": {
     "name": "#%% md\n"
    }
   }
  },
  {
   "cell_type": "markdown",
   "source": [
    "###### users of «smart»"
   ],
   "metadata": {
    "collapsed": false,
    "pycharm": {
     "name": "#%% md\n"
    }
   }
  },
  {
   "cell_type": "code",
   "execution_count": 374,
   "outputs": [
    {
     "data": {
      "text/plain": "<AxesSubplot:ylabel='Count'>"
     },
     "execution_count": 374,
     "metadata": {},
     "output_type": "execute_result"
    },
    {
     "data": {
      "text/plain": "<Figure size 1080x504 with 1 Axes>",
      "image/png": "[encoded data removed]"
     },
     "metadata": {},
     "output_type": "display_data"
    }
   ],
   "source": [
    "sm_min_arr = []\n",
    "\n",
    "user_profit.loc[users_of_smart_gt_month\n",
    "    , 'minutes_monthly'\n",
    "    ].apply(\n",
    "        lambda ma: sm_min_arr.extend(ma)\n",
    "    )\n",
    "\n",
    "# setting the dimensions of the plot\n",
    "_, sm = plt.subplots(figsize=(15, 7))\n",
    "sns.histplot(sm_min_arr,\n",
    "    bins=int(len(sm_min_arr)),\n",
    "    color='salmon',\n",
    "    kde=True,\n",
    "    ax=sm,\n",
    " )"
   ],
   "metadata": {
    "collapsed": false,
    "pycharm": {
     "name": "#%%\n"
    }
   }
  },
  {
   "cell_type": "markdown",
   "source": [],
   "metadata": {
    "collapsed": false,
    "pycharm": {
     "name": "#%% md\n"
    }
   }
  },
  {
   "cell_type": "code",
   "execution_count": 375,
   "outputs": [],
   "source": [
    "sm_min_ser = pd.Series(sm_min_arr, dtype=int)"
   ],
   "metadata": {
    "collapsed": false,
    "pycharm": {
     "name": "#%%\n"
    }
   }
  },
  {
   "cell_type": "code",
   "execution_count": 376,
   "outputs": [
    {
     "data": {
      "text/plain": "count    1876.000000\nmean      450.265458\nstd       174.036091\nmin         0.000000\n25%       330.000000\n50%       449.000000\n75%       563.000000\nmax      1378.000000\ndtype: float64"
     },
     "metadata": {},
     "output_type": "display_data"
    }
   ],
   "source": [
    "display(\n",
    "    sm_min_ser.describe()\n",
    ")"
   ],
   "metadata": {
    "collapsed": false,
    "pycharm": {
     "name": "#%%\n"
    }
   }
  },
  {
   "cell_type": "code",
   "execution_count": 377,
   "outputs": [],
   "source": [
    "sm_dispersion = np.var(sm_min_ser, ddof=1)"
   ],
   "metadata": {
    "collapsed": false,
    "pycharm": {
     "name": "#%%\n"
    }
   }
  },
  {
   "cell_type": "code",
   "execution_count": 378,
   "outputs": [],
   "source": [
    "sm_standard_deviation = np.std(sm_min_ser, ddof=1)"
   ],
   "metadata": {
    "collapsed": false,
    "pycharm": {
     "name": "#%%\n"
    }
   }
  },
  {
   "cell_type": "code",
   "execution_count": 379,
   "outputs": [
    {
     "name": "stdout",
     "output_type": "stream",
     "text": [
      "«smart» dispersion 30288.56\n",
      "«smart» standard deviation 174.04\n"
     ]
    }
   ],
   "source": [
    "print('«smart» dispersion',\n",
    "    round(sm_dispersion, 2)\n",
    ")\n",
    "print('«smart» standard deviation',\n",
    "      round(sm_standard_deviation, 2)\n",
    "      )"
   ],
   "metadata": {
    "collapsed": false,
    "pycharm": {
     "name": "#%%\n"
    }
   }
  },
  {
   "cell_type": "markdown",
   "source": [
    "###### users of «ultra»"
   ],
   "metadata": {
    "collapsed": false,
    "pycharm": {
     "name": "#%% md\n"
    }
   }
  },
  {
   "cell_type": "code",
   "execution_count": 380,
   "outputs": [
    {
     "data": {
      "text/plain": "<AxesSubplot:ylabel='Count'>"
     },
     "execution_count": 380,
     "metadata": {},
     "output_type": "execute_result"
    },
    {
     "data": {
      "text/plain": "<Figure size 1080x504 with 1 Axes>",
      "image/png": "[encoded data removed]"
     },
     "metadata": {},
     "output_type": "display_data"
    }
   ],
   "source": [
    "ul_min_arr = []\n",
    "\n",
    "user_profit.loc[users_of_ultra_gt_month\n",
    "    , 'minutes_monthly'\n",
    "    ].apply(\n",
    "        lambda ma: ul_min_arr.extend(ma)\n",
    "    )\n",
    "\n",
    "# setting the dimensions of the plot\n",
    "_, ul = plt.subplots(figsize=(15, 7))\n",
    "sns.histplot(ul_min_arr,\n",
    "    bins=int(len(ul_min_arr)),\n",
    "    color='aquamarine',\n",
    "    kde=True,\n",
    "    ax=ul,\n",
    " )"
   ],
   "metadata": {
    "collapsed": false,
    "pycharm": {
     "name": "#%%\n"
    }
   }
  },
  {
   "cell_type": "code",
   "execution_count": 381,
   "outputs": [],
   "source": [
    "ul_min_ser = pd.Series(ul_min_arr, dtype=int)"
   ],
   "metadata": {
    "collapsed": false,
    "pycharm": {
     "name": "#%%\n"
    }
   }
  },
  {
   "cell_type": "code",
   "execution_count": 382,
   "outputs": [
    {
     "data": {
      "text/plain": "count     831.000000\nmean      568.814681\nstd       304.278268\nmin         0.000000\n25%       349.500000\n50%       556.000000\n75%       771.000000\nmax      1593.000000\ndtype: float64"
     },
     "metadata": {},
     "output_type": "display_data"
    }
   ],
   "source": [
    "display(\n",
    "    ul_min_ser.describe()\n",
    ")"
   ],
   "metadata": {
    "collapsed": false,
    "pycharm": {
     "name": "#%%\n"
    }
   }
  },
  {
   "cell_type": "code",
   "execution_count": 383,
   "outputs": [],
   "source": [
    "ul_dispersion = np.var(ul_min_ser, ddof=1)"
   ],
   "metadata": {
    "collapsed": false,
    "pycharm": {
     "name": "#%%\n"
    }
   }
  },
  {
   "cell_type": "code",
   "execution_count": 384,
   "outputs": [],
   "source": [
    "ul_standard_deviation = np.std(ul_min_ser, ddof=1)"
   ],
   "metadata": {
    "collapsed": false,
    "pycharm": {
     "name": "#%%\n"
    }
   }
  },
  {
   "cell_type": "code",
   "execution_count": 385,
   "outputs": [
    {
     "name": "stdout",
     "output_type": "stream",
     "text": [
      "«ultra» dispersion 92585.26\n",
      "«ultra» standard deviation 304.28\n"
     ]
    }
   ],
   "source": [
    "print('«ultra» dispersion',\n",
    "    round(ul_dispersion, 2)\n",
    ")\n",
    "print('«ultra» standard deviation',\n",
    "    round(ul_standard_deviation, 2)\n",
    ")"
   ],
   "metadata": {
    "collapsed": false,
    "pycharm": {
     "name": "#%%\n"
    }
   }
  },
  {
   "cell_type": "markdown",
   "source": [],
   "metadata": {
    "collapsed": false,
    "pycharm": {
     "name": "#%% md\n"
    }
   }
  },
  {
   "cell_type": "markdown",
   "source": [
    " ##### Среднее количество минут, дисперсия и стандартное отклонение."
   ],
   "metadata": {
    "collapsed": false,
    "pycharm": {
     "name": "#%% md\n"
    }
   }
  },
  {
   "cell_type": "code",
   "execution_count": 385,
   "outputs": [],
   "source": [],
   "metadata": {
    "collapsed": false,
    "pycharm": {
     "name": "#%%\n"
    }
   }
  },
  {
   "cell_type": "markdown",
   "source": [
    "##### Гистограммы минут разговора."
   ],
   "metadata": {
    "collapsed": false,
    "pycharm": {
     "name": "#%% md\n"
    }
   }
  },
  {
   "cell_type": "code",
   "execution_count": 385,
   "outputs": [],
   "source": [],
   "metadata": {
    "collapsed": false,
    "pycharm": {
     "name": "#%%\n"
    }
   }
  },
  {
   "cell_type": "markdown",
   "source": [
    "##### Описание распределений минут разговора."
   ],
   "metadata": {
    "collapsed": false,
    "pycharm": {
     "name": "#%% md\n"
    }
   }
  },
  {
   "cell_type": "markdown",
   "source": [],
   "metadata": {
    "collapsed": false,
    "pycharm": {
     "name": "#%% md\n"
    }
   }
  },
  {
   "cell_type": "markdown",
   "source": [
    "<hr>"
   ],
   "metadata": {
    "collapsed": false,
    "pycharm": {
     "name": "#%% md\n"
    }
   }
  },
  {
   "cell_type": "markdown",
   "source": [
    "#### Сколько сообщений требуется пользователям каждого тарифа в месяц?"
   ],
   "metadata": {
    "collapsed": false,
    "pycharm": {
     "name": "#%% md\n"
    }
   }
  },
  {
   "cell_type": "markdown",
   "source": [
    "###### users of «smart»"
   ],
   "metadata": {
    "collapsed": false,
    "pycharm": {
     "name": "#%% md\n"
    }
   }
  },
  {
   "cell_type": "code",
   "execution_count": 386,
   "outputs": [],
   "source": [
    "sm_sms_arr = []\n",
    "\n",
    "user_profit.loc[users_of_smart_gt_month\n",
    "        , 'messages_monthly'\n",
    "    ].apply(\n",
    "        lambda sms: sm_sms_arr.extend(sms)\n",
    ")\n",
    "\n",
    "sm_sms_monthly = pd.Series(data=sm_sms_arr, dtype=int)"
   ],
   "metadata": {
    "collapsed": false,
    "pycharm": {
     "name": "#%%\n"
    }
   }
  },
  {
   "cell_type": "markdown",
   "source": [
    "###### users of «ultra»"
   ],
   "metadata": {
    "collapsed": false,
    "pycharm": {
     "name": "#%% md\n"
    }
   }
  },
  {
   "cell_type": "code",
   "execution_count": 387,
   "outputs": [],
   "source": [
    "ul_sms_arr = []\n",
    "\n",
    "user_profit.loc[users_of_ultra_gt_month\n",
    "        , 'messages_monthly'\n",
    "    ].apply(\n",
    "        lambda sms: ul_sms_arr.extend(sms)\n",
    ")\n",
    "\n",
    "ul_sms_monthly = pd.Series(data=ul_sms_arr, dtype=int)"
   ],
   "metadata": {
    "collapsed": false,
    "pycharm": {
     "name": "#%%\n"
    }
   }
  },
  {
   "cell_type": "markdown",
   "source": [
    "##### Гистограммы сообщений."
   ],
   "metadata": {
    "collapsed": false,
    "pycharm": {
     "name": "#%% md\n"
    }
   }
  },
  {
   "cell_type": "markdown",
   "source": [
    "###### users of «smart»"
   ],
   "metadata": {
    "collapsed": false,
    "pycharm": {
     "name": "#%% md\n"
    }
   }
  },
  {
   "cell_type": "code",
   "execution_count": 388,
   "outputs": [
    {
     "data": {
      "text/plain": "<AxesSubplot:ylabel='Count'>"
     },
     "execution_count": 388,
     "metadata": {},
     "output_type": "execute_result"
    },
    {
     "data": {
      "text/plain": "<Figure size 1080x504 with 1 Axes>",
      "image/png": "[encoded data removed]"
     },
     "metadata": {},
     "output_type": "display_data"
    }
   ],
   "source": [
    "_, sm = plt.subplots(figsize=(15, 7))\n",
    "sns.histplot(sm_sms_arr,\n",
    "             bins=int(len(sm_sms_arr)),\n",
    "             color='salmon',\n",
    "             kde=True,\n",
    "             ax=sm,\n",
    "             )"
   ],
   "metadata": {
    "collapsed": false,
    "pycharm": {
     "name": "#%%\n"
    }
   }
  },
  {
   "cell_type": "code",
   "execution_count": 389,
   "outputs": [
    {
     "data": {
      "text/plain": "<AxesSubplot:ylabel='Count'>"
     },
     "execution_count": 389,
     "metadata": {},
     "output_type": "execute_result"
    },
    {
     "data": {
      "text/plain": "<Figure size 1080x504 with 1 Axes>",
      "image/png": "[encoded data removed]"
     },
     "metadata": {},
     "output_type": "display_data"
    }
   ],
   "source": [
    "sm_sms_wo_zero = list(sm_sms_monthly.loc[sm_sms_monthly != 0])\n",
    "\n",
    "_, sm = plt.subplots(figsize=(15, 7))\n",
    "sns.histplot(sm_sms_wo_zero,\n",
    "             bins=int(len(sm_sms_wo_zero)),\n",
    "             color='salmon',\n",
    "             kde=True,\n",
    "             ax=sm,\n",
    "             )"
   ],
   "metadata": {
    "collapsed": false,
    "pycharm": {
     "name": "#%%\n"
    }
   }
  },
  {
   "cell_type": "markdown",
   "source": [
    "###### users of «ultra»"
   ],
   "metadata": {
    "collapsed": false,
    "pycharm": {
     "name": "#%% md\n"
    }
   }
  },
  {
   "cell_type": "code",
   "execution_count": 390,
   "outputs": [
    {
     "data": {
      "text/plain": "<AxesSubplot:ylabel='Count'>"
     },
     "execution_count": 390,
     "metadata": {},
     "output_type": "execute_result"
    },
    {
     "data": {
      "text/plain": "<Figure size 1080x504 with 1 Axes>",
      "image/png": "[encoded data removed]"
     },
     "metadata": {},
     "output_type": "display_data"
    }
   ],
   "source": [
    "_, ul = plt.subplots(figsize=(15, 7))\n",
    "sns.histplot(ul_sms_arr,\n",
    "    bins=int(len(ul_sms_arr)),\n",
    "    color='aquamarine',\n",
    "    kde=True,\n",
    "    ax=ul,\n",
    "    # log_scale=(False, True)\n",
    ")"
   ],
   "metadata": {
    "collapsed": false,
    "pycharm": {
     "name": "#%%\n"
    }
   }
  },
  {
   "cell_type": "code",
   "execution_count": 391,
   "outputs": [
    {
     "data": {
      "text/plain": "<AxesSubplot:ylabel='Count'>"
     },
     "execution_count": 391,
     "metadata": {},
     "output_type": "execute_result"
    },
    {
     "data": {
      "text/plain": "<Figure size 1080x504 with 1 Axes>",
      "image/png": "[encoded data removed]"
     },
     "metadata": {},
     "output_type": "display_data"
    }
   ],
   "source": [
    "ul_sms_wo_zero = list(ul_sms_monthly.loc[ul_sms_monthly != 0])\n",
    "\n",
    "_, ul = plt.subplots(figsize=(15, 7))\n",
    "sns.histplot(ul_sms_wo_zero,\n",
    "    bins=int(len(ul_sms_wo_zero)),\n",
    "    color='aquamarine',\n",
    "    kde=True,\n",
    "    ax=ul,\n",
    ")"
   ],
   "metadata": {
    "collapsed": false,
    "pycharm": {
     "name": "#%%\n"
    }
   }
  },
  {
   "cell_type": "markdown",
   "source": [
    " ##### Среднее количество сообщений, дисперсия и стандартное отклонение."
   ],
   "metadata": {
    "collapsed": false,
    "pycharm": {
     "name": "#%% md\n"
    }
   }
  },
  {
   "cell_type": "markdown",
   "source": [
    "###### users of «smart»"
   ],
   "metadata": {
    "collapsed": false,
    "pycharm": {
     "name": "#%% md\n"
    }
   }
  },
  {
   "cell_type": "code",
   "execution_count": 392,
   "outputs": [],
   "source": [
    "sm_sms_dispersion = np.var(sm_sms_arr, ddof=1)"
   ],
   "metadata": {
    "collapsed": false,
    "pycharm": {
     "name": "#%%\n"
    }
   }
  },
  {
   "cell_type": "code",
   "execution_count": 393,
   "outputs": [],
   "source": [
    "sm_sms_standard_deviation = np.std(sm_sms_arr, ddof=1)"
   ],
   "metadata": {
    "collapsed": false,
    "pycharm": {
     "name": "#%%\n"
    }
   }
  },
  {
   "cell_type": "code",
   "execution_count": 393,
   "outputs": [],
   "source": [],
   "metadata": {
    "collapsed": false,
    "pycharm": {
     "name": "#%%\n"
    }
   }
  },
  {
   "cell_type": "code",
   "execution_count": 426,
   "outputs": [
    {
     "name": "stdout",
     "output_type": "stream",
     "text": [
      "«smart» sms\n",
      "\n",
      "var\t\t1241.641\n",
      "std\t\t35.237\n",
      "\n",
      "count    1876.000000\n",
      "mean       41.278785\n",
      "std        35.236929\n",
      "min         0.000000\n",
      "25%         0.000000\n",
      "50%        48.000000\n",
      "75%        70.000000\n",
      "max       183.000000\n",
      "dtype: float64\n"
     ]
    }
   ],
   "source": [
    "print('«smart» sms', end='\\n\\n')\n",
    "print('var'\n",
    "    , round(sm_sms_dispersion, 3)\n",
    "    , sep='\\t\\t'\n",
    ")\n",
    "print('std'\n",
    "    , round(sm_sms_standard_deviation, 3)\n",
    "    , sep='\\t\\t'\n",
    "    , end='\\n\\n'\n",
    ")\n",
    "print(sm_sms_monthly.describe())"
   ],
   "metadata": {
    "collapsed": false,
    "pycharm": {
     "name": "#%%\n"
    }
   }
  },
  {
   "cell_type": "markdown",
   "source": [
    "###### users of «ultra»"
   ],
   "metadata": {
    "collapsed": false,
    "pycharm": {
     "name": "#%% md\n"
    }
   }
  },
  {
   "cell_type": "code",
   "execution_count": 395,
   "outputs": [],
   "source": [
    "ul_sms_dispersion = np.var(ul_sms_arr, ddof=1)"
   ],
   "metadata": {
    "collapsed": false,
    "pycharm": {
     "name": "#%%\n"
    }
   }
  },
  {
   "cell_type": "code",
   "execution_count": 396,
   "outputs": [],
   "source": [
    "ul_sms_standard_deviation = np.std(ul_sms_arr, ddof=1)"
   ],
   "metadata": {
    "collapsed": false,
    "pycharm": {
     "name": "#%%\n"
    }
   }
  },
  {
   "cell_type": "code",
   "execution_count": 396,
   "outputs": [],
   "source": [],
   "metadata": {
    "collapsed": false,
    "pycharm": {
     "name": "#%%\n"
    }
   }
  },
  {
   "cell_type": "code",
   "execution_count": 397,
   "outputs": [
    {
     "name": "stdout",
     "output_type": "stream",
     "text": [
      "«ultra» sms dispersion\n",
      "\n",
      "var\t\t2299.4\n",
      "std\t\t47.952\n",
      "\n",
      "count    831.000000\n",
      "mean      40.936221\n",
      "std       47.952055\n",
      "min        0.000000\n",
      "25%        0.000000\n",
      "50%       26.000000\n",
      "75%       76.500000\n",
      "max      188.000000\n",
      "dtype: float64\n"
     ]
    }
   ],
   "source": [
    "print('«ultra» sms', end='\\n\\n')\n",
    "print('var'\n",
    "    , round(ul_sms_dispersion, 3)\n",
    "    , sep='\\t\\t'\n",
    ")\n",
    "print('std'\n",
    "    , round(ul_sms_standard_deviation, 3)\n",
    "    , sep='\\t\\t'\n",
    "    , end='\\n\\n'\n",
    ")\n",
    "print(ul_sms_monthly.describe())"
   ],
   "metadata": {
    "collapsed": false,
    "pycharm": {
     "name": "#%%\n"
    }
   }
  },
  {
   "cell_type": "markdown",
   "source": [
    "##### Описание распределений сообщений."
   ],
   "metadata": {
    "collapsed": false,
    "pycharm": {
     "name": "#%% md\n"
    }
   }
  },
  {
   "cell_type": "markdown",
   "source": [
    "###### users of «smart»"
   ],
   "metadata": {
    "collapsed": false,
    "pycharm": {
     "name": "#%% md\n"
    }
   }
  },
  {
   "cell_type": "markdown",
   "source": [
    "###### users of «ultra»"
   ],
   "metadata": {
    "collapsed": false,
    "pycharm": {
     "name": "#%% md\n"
    }
   }
  },
  {
   "cell_type": "markdown",
   "source": [],
   "metadata": {
    "collapsed": false,
    "pycharm": {
     "name": "#%% md\n"
    }
   }
  },
  {
   "cell_type": "markdown",
   "source": [
    "<hr>"
   ],
   "metadata": {
    "collapsed": false,
    "pycharm": {
     "name": "#%% md\n"
    }
   }
  },
  {
   "cell_type": "markdown",
   "source": [
    "#### Какой объём интернет-трафика требуется пользователям каждого тарифа в месяц?"
   ],
   "metadata": {
    "collapsed": false,
    "pycharm": {
     "name": "#%% md\n"
    }
   }
  },
  {
   "cell_type": "markdown",
   "source": [
    "###### users of «smart»"
   ],
   "metadata": {
    "collapsed": false,
    "pycharm": {
     "name": "#%% md\n"
    }
   }
  },
  {
   "cell_type": "code",
   "execution_count": 420,
   "outputs": [],
   "source": [
    "sm_gb_arr = []\n",
    "\n",
    "user_profit.loc[users_of_smart_gt_month\n",
    "        , 'mb_monthly'\n",
    "    ].apply(\n",
    "        lambda mb: sm_gb_arr.extend(\n",
    "            np.round(\n",
    "                np.array(mb) / mb_in_gb\n",
    "            )\n",
    "        )\n",
    ")\n",
    "\n",
    "sm_gb_monthly = pd.Series(data=sm_gb_arr, dtype=int)"
   ],
   "metadata": {
    "collapsed": false,
    "pycharm": {
     "name": "#%%\n"
    }
   }
  },
  {
   "cell_type": "markdown",
   "source": [
    "###### users of «ultra»"
   ],
   "metadata": {
    "collapsed": false,
    "pycharm": {
     "name": "#%% md\n"
    }
   }
  },
  {
   "cell_type": "code",
   "execution_count": 421,
   "outputs": [],
   "source": [
    "ul_gb_arr = []\n",
    "\n",
    "user_profit.loc[users_of_ultra_gt_month\n",
    "        , 'mb_monthly'\n",
    "    ].apply(\n",
    "        lambda mb: ul_gb_arr.extend(\n",
    "            np.round(\n",
    "                np.array(mb) / mb_in_gb\n",
    "            )\n",
    "        )\n",
    ")\n",
    "\n",
    "ul_gb_monthly = pd.Series(data=ul_gb_arr, dtype=int)"
   ],
   "metadata": {
    "collapsed": false,
    "pycharm": {
     "name": "#%%\n"
    }
   }
  },
  {
   "cell_type": "markdown",
   "source": [
    "##### Гистограммы интернет-трафика."
   ],
   "metadata": {
    "collapsed": false,
    "pycharm": {
     "name": "#%% md\n"
    }
   }
  },
  {
   "cell_type": "markdown",
   "source": [
    "###### users of «smart»"
   ],
   "metadata": {
    "collapsed": false,
    "pycharm": {
     "name": "#%% md\n"
    }
   }
  },
  {
   "cell_type": "code",
   "execution_count": 422,
   "outputs": [
    {
     "data": {
      "text/plain": "<AxesSubplot:ylabel='Count'>"
     },
     "execution_count": 422,
     "metadata": {},
     "output_type": "execute_result"
    },
    {
     "data": {
      "text/plain": "<Figure size 1080x504 with 1 Axes>",
      "image/png": "[encoded data removed]"
     },
     "metadata": {},
     "output_type": "display_data"
    }
   ],
   "source": [
    "_, sm = plt.subplots(figsize=(15, 7))\n",
    "sns.histplot(sm_gb_arr,\n",
    "             bins=int(len(sm_gb_arr)),\n",
    "             color='salmon',\n",
    "             kde=True,\n",
    "             ax=sm,\n",
    "             )"
   ],
   "metadata": {
    "collapsed": false,
    "pycharm": {
     "name": "#%%\n"
    }
   }
  },
  {
   "cell_type": "code",
   "execution_count": 423,
   "outputs": [
    {
     "data": {
      "text/plain": "<AxesSubplot:ylabel='Count'>"
     },
     "execution_count": 423,
     "metadata": {},
     "output_type": "execute_result"
    },
    {
     "data": {
      "text/plain": "<Figure size 1080x504 with 1 Axes>",
      "image/png": "[encoded data removed]"
     },
     "metadata": {},
     "output_type": "display_data"
    }
   ],
   "source": [
    "sm_gb_wo_zero = list(sm_gb_monthly.loc[sm_gb_monthly != 0])\n",
    "\n",
    "\n",
    "_, sm = plt.subplots(figsize=(15, 7))\n",
    "sns.histplot(sm_gb_wo_zero,\n",
    "             bins=int(len(sm_gb_wo_zero)),\n",
    "             color='salmon',\n",
    "             kde=True,\n",
    "             ax=sm,\n",
    "             )"
   ],
   "metadata": {
    "collapsed": false,
    "pycharm": {
     "name": "#%%\n"
    }
   }
  },
  {
   "cell_type": "markdown",
   "source": [
    "###### users of «ultra»"
   ],
   "metadata": {
    "collapsed": false,
    "pycharm": {
     "name": "#%% md\n"
    }
   }
  },
  {
   "cell_type": "code",
   "execution_count": 424,
   "outputs": [
    {
     "data": {
      "text/plain": "<AxesSubplot:ylabel='Count'>"
     },
     "execution_count": 424,
     "metadata": {},
     "output_type": "execute_result"
    },
    {
     "data": {
      "text/plain": "<Figure size 1080x504 with 1 Axes>",
      "image/png": "[encoded data removed]"
     },
     "metadata": {},
     "output_type": "display_data"
    }
   ],
   "source": [
    "_, ul = plt.subplots(figsize=(15, 7))\n",
    "sns.histplot(ul_gb_arr,\n",
    "    bins=int(len(ul_gb_arr)),\n",
    "    color='aquamarine',\n",
    "    kde=True,\n",
    "    ax=ul,\n",
    ")"
   ],
   "metadata": {
    "collapsed": false,
    "pycharm": {
     "name": "#%%\n"
    }
   }
  },
  {
   "cell_type": "code",
   "execution_count": 427,
   "outputs": [
    {
     "data": {
      "text/plain": "<AxesSubplot:ylabel='Count'>"
     },
     "execution_count": 427,
     "metadata": {},
     "output_type": "execute_result"
    },
    {
     "data": {
      "text/plain": "<Figure size 1080x504 with 1 Axes>",
      "image/png": "[encoded data removed]"
     },
     "metadata": {},
     "output_type": "display_data"
    }
   ],
   "source": [
    "ul_gb_wo_zero = list(ul_gb_monthly.loc[ul_gb_monthly != 0])\n",
    "\n",
    "_, ul = plt.subplots(figsize=(15, 7))\n",
    "sns.histplot(ul_gb_wo_zero,\n",
    "    bins=int(len(ul_gb_wo_zero)),\n",
    "    color='aquamarine',\n",
    "    kde=True,\n",
    "    ax=ul,\n",
    ")"
   ],
   "metadata": {
    "collapsed": false,
    "pycharm": {
     "name": "#%%\n"
    }
   }
  },
  {
   "cell_type": "code",
   "execution_count": null,
   "outputs": [],
   "source": [],
   "metadata": {
    "collapsed": false,
    "pycharm": {
     "name": "#%%\n"
    }
   }
  },
  {
   "cell_type": "markdown",
   "source": [
    " Посчитайте среднее количество интернет-трафика, дисперсию и стандартное отклонение."
   ],
   "metadata": {
    "collapsed": false,
    "pycharm": {
     "name": "#%% md\n"
    }
   }
  },
  {
   "cell_type": "markdown",
   "source": [
    "###### users of «smart»"
   ],
   "metadata": {
    "collapsed": false,
    "pycharm": {
     "name": "#%% md\n"
    }
   }
  },
  {
   "cell_type": "code",
   "execution_count": 411,
   "outputs": [],
   "source": [
    "sm_gb_dispersion = np.var(sm_gb_arr, ddof=1)"
   ],
   "metadata": {
    "collapsed": false,
    "pycharm": {
     "name": "#%%\n"
    }
   }
  },
  {
   "cell_type": "code",
   "execution_count": 412,
   "outputs": [],
   "source": [
    "sm_gb_standard_deviation = np.std(sm_gb_arr, ddof=1)"
   ],
   "metadata": {
    "collapsed": false,
    "pycharm": {
     "name": "#%%\n"
    }
   }
  },
  {
   "cell_type": "code",
   "execution_count": 393,
   "outputs": [],
   "source": [],
   "metadata": {
    "collapsed": false,
    "pycharm": {
     "name": "#%%\n"
    }
   }
  },
  {
   "cell_type": "code",
   "execution_count": 417,
   "outputs": [
    {
     "name": "stdout",
     "output_type": "stream",
     "text": [
      "«smart» gb\n",
      "\n",
      "var\t\t168804443.692\n",
      "std\t\t12992.476\n",
      "\n",
      "count     1876.000000\n",
      "mean     17334.728678\n",
      "std      12992.476426\n",
      "min          0.000000\n",
      "25%          0.000000\n",
      "50%      18626.500000\n",
      "75%      26885.250000\n",
      "max      95902.000000\n",
      "dtype: float64\n"
     ]
    }
   ],
   "source": [
    "print('«smart» gb', end='\\n\\n')\n",
    "print('var'\n",
    "      , round(sm_gb_dispersion, 3)\n",
    "      , sep='\\t\\t'\n",
    "      )\n",
    "print('std'\n",
    "      , round(sm_gb_standard_deviation, 3)\n",
    "      , sep='\\t\\t'\n",
    "      , end='\\n\\n'\n",
    "      )\n",
    "print(sm_gb_monthly.describe())"
   ],
   "metadata": {
    "collapsed": false,
    "pycharm": {
     "name": "#%%\n"
    }
   }
  },
  {
   "cell_type": "markdown",
   "source": [
    "###### users of «ultra»"
   ],
   "metadata": {
    "collapsed": false,
    "pycharm": {
     "name": "#%% md\n"
    }
   }
  },
  {
   "cell_type": "code",
   "execution_count": 395,
   "outputs": [],
   "source": [
    "ul_gb_dispersion = np.var(ul_gb_arr, ddof=1)"
   ],
   "metadata": {
    "collapsed": false,
    "pycharm": {
     "name": "#%%\n"
    }
   }
  },
  {
   "cell_type": "code",
   "execution_count": 396,
   "outputs": [],
   "source": [
    "ul_gb_standard_deviation = np.std(ul_gb_arr, ddof=1)"
   ],
   "metadata": {
    "collapsed": false,
    "pycharm": {
     "name": "#%%\n"
    }
   }
  },
  {
   "cell_type": "code",
   "execution_count": 396,
   "outputs": [],
   "source": [],
   "metadata": {
    "collapsed": false,
    "pycharm": {
     "name": "#%%\n"
    }
   }
  },
  {
   "cell_type": "code",
   "execution_count": 425,
   "outputs": [
    {
     "name": "stdout",
     "output_type": "stream",
     "text": [
      "«ultra» gb\n",
      "\n",
      "var\t\t2299.4\n",
      "std\t\t47.952\n",
      "\n",
      "count    831.000000\n",
      "mean      40.936221\n",
      "std       47.952055\n",
      "min        0.000000\n",
      "25%        0.000000\n",
      "50%       26.000000\n",
      "75%       76.500000\n",
      "max      188.000000\n",
      "dtype: float64\n"
     ]
    }
   ],
   "source": [
    "print('«ultra» gb', end='\\n\\n')\n",
    "print('var'\n",
    "    , round(ul_sms_dispersion, 3)\n",
    "    , sep='\\t\\t'\n",
    ")\n",
    "print('std'\n",
    "    , round(ul_sms_standard_deviation, 3)\n",
    "    , sep='\\t\\t'\n",
    "    , end='\\n\\n'\n",
    ")\n",
    "print(ul_sms_monthly.describe())"
   ],
   "metadata": {
    "collapsed": false,
    "pycharm": {
     "name": "#%%\n"
    }
   }
  },
  {
   "cell_type": "code",
   "execution_count": null,
   "outputs": [],
   "source": [],
   "metadata": {
    "collapsed": false,
    "pycharm": {
     "name": "#%%\n"
    }
   }
  },
  {
   "cell_type": "markdown",
   "source": [
    "##### Описание распределений интернет-трафика."
   ],
   "metadata": {
    "collapsed": false,
    "pycharm": {
     "name": "#%% md\n"
    }
   }
  },
  {
   "cell_type": "markdown",
   "source": [],
   "metadata": {
    "collapsed": false,
    "pycharm": {
     "name": "#%% md\n"
    }
   }
  },
  {
   "cell_type": "code",
   "execution_count": null,
   "outputs": [],
   "source": [],
   "metadata": {
    "collapsed": false,
    "pycharm": {
     "name": "#%%\n"
    }
   }
  },
  {
   "cell_type": "markdown",
   "source": [
    "<hr>"
   ],
   "metadata": {
    "collapsed": false,
    "pycharm": {
     "name": "#%% md\n"
    }
   }
  },
  {
   "cell_type": "markdown",
   "source": [
    "## Шаг 4. Проверьте гипотезы"
   ],
   "metadata": {
    "collapsed": false,
    "pycharm": {
     "name": "#%% md\n"
    }
   }
  },
  {
   "cell_type": "code",
   "execution_count": null,
   "outputs": [],
   "source": [],
   "metadata": {
    "collapsed": false,
    "pycharm": {
     "name": "#%%\n"
    }
   }
  },
  {
   "cell_type": "markdown",
   "source": [
    "### Средняя выручка пользователей тарифов «Ультра» и «Смарт» различаются"
   ],
   "metadata": {
    "collapsed": false,
    "pycharm": {
     "name": "#%% md\n"
    }
   }
  },
  {
   "cell_type": "code",
   "execution_count": null,
   "outputs": [],
   "source": [],
   "metadata": {
    "collapsed": false,
    "pycharm": {
     "name": "#%%\n"
    }
   }
  },
  {
   "cell_type": "markdown",
   "source": [
    "### Средняя выручка пользователей из Москвы отличается от выручки пользователей из других регионов"
   ],
   "metadata": {
    "collapsed": false,
    "pycharm": {
     "name": "#%% md\n"
    }
   }
  },
  {
   "cell_type": "code",
   "execution_count": null,
   "outputs": [],
   "source": [],
   "metadata": {
    "collapsed": false,
    "pycharm": {
     "name": "#%%\n"
    }
   }
  },
  {
   "cell_type": "code",
   "execution_count": null,
   "outputs": [],
   "source": [],
   "metadata": {
    "collapsed": false,
    "pycharm": {
     "name": "#%%\n"
    }
   }
  },
  {
   "cell_type": "code",
   "execution_count": null,
   "outputs": [],
   "source": [],
   "metadata": {
    "collapsed": false,
    "pycharm": {
     "name": "#%%\n"
    }
   }
  },
  {
   "cell_type": "markdown",
   "source": [
    "Поясните:\n",
    "как вы формулировали нулевую и альтернативную гипотезы;\n",
    "какой критерий использовали для проверки гипотез и почему."
   ],
   "metadata": {
    "collapsed": false,
    "pycharm": {
     "name": "#%% md\n"
    }
   }
  },
  {
   "cell_type": "markdown",
   "source": [
    "<hr>"
   ],
   "metadata": {
    "collapsed": false,
    "pycharm": {
     "name": "#%% md\n"
    }
   }
  },
  {
   "cell_type": "markdown",
   "source": [
    "## Шаг 5. Общий вывод"
   ],
   "metadata": {
    "collapsed": false,
    "pycharm": {
     "name": "#%% md\n"
    }
   }
  },
  {
   "cell_type": "markdown",
   "source": [],
   "metadata": {
    "collapsed": false,
    "pycharm": {
     "name": "#%% md\n"
    }
   }
  },
  {
   "cell_type": "markdown",
   "source": [
    "Описание данных\n",
    "Таблица users (информация о пользователях):\n",
    "user_id — уникальный идентификатор пользователя\n",
    "first_name — имя пользователя\n",
    "last_name — фамилия пользователя\n",
    "age — возраст пользователя (годы)\n",
    "reg_date — дата подключения тарифа (день, месяц, год)\n",
    "churn_date — дата прекращения пользования тарифом (если значение пропущено, то тариф ещё действовал на момент выгрузки данных)\n",
    "city — город проживания пользователя\n",
    "tariff — название тарифного плана\n",
    "Таблица calls (информация о звонках):\n",
    "id — уникальный номер звонка\n",
    "call_date — дата звонка\n",
    "duration — длительность звонка в минутах\n",
    "user_id — идентификатор пользователя, сделавшего звонок\n",
    "Таблица messages (информация о сообщениях):\n",
    "id — уникальный номер сообщения\n",
    "message_date — дата сообщения\n",
    "user_id — идентификатор пользователя, отправившего сообщение\n",
    "Таблица internet (информация об интернет-сессиях):\n",
    "id — уникальный номер сессии\n",
    "mb_used — объём потраченного за сессию интернет-трафика (в мегабайтах)\n",
    "session_date — дата интернет-сессии\n",
    "user_id — идентификатор пользователя\n",
    "Таблица tariffs (информация о тарифах):\n",
    "tariff_name — название тарифа\n",
    "rub_monthly_fee — ежемесячная абонентская плата в рублях\n",
    "minutes_included — количество минут разговора в месяц, включённых в абонентскую плату\n",
    "messages_included — количество сообщений в месяц, включённых в абонентскую плату\n",
    "mb_per_month_included — объём интернет-трафика, включённого в абонентскую плату (в мегабайтах)\n",
    "rub_per_minute — стоимость минуты разговора сверх тарифного пакета (например, если в тарифе 100 минут разговора в месяц, то со 101 минуты будет взиматься плата)\n",
    "rub_per_message — стоимость отправки сообщения сверх тарифного пакета\n",
    "rub_per_gb — стоимость дополнительного гигабайта интернет-трафика сверх тарифного пакета (1 гигабайт = 1024 мегабайта)"
   ],
   "metadata": {
    "collapsed": false,
    "pycharm": {
     "name": "#%% md\n"
    }
   }
  }
 ],
 "metadata": {
  "kernelspec": {
   "display_name": "Python 3",
   "language": "python",
   "name": "python3"
  },
  "language_info": {
   "codemirror_mode": {
    "name": "ipython",
    "version": 2
   },
   "file_extension": ".py",
   "mimetype": "text/x-python",
   "name": "python",
   "nbconvert_exporter": "python",
   "pygments_lexer": "ipython2",
   "version": "2.7.6"
  }
 },
 "nbformat": 4,
 "nbformat_minor": 0
}