{
 "cells": [
  {
   "cell_type": "markdown",
   "source": [
    "# Определяем перспективный тариф для телеком-компании «Мегалайн»"
   ],
   "metadata": {
    "collapsed": false,
    "pycharm": {
     "name": "#%% md\n"
    }
   }
  },
  {
   "cell_type": "code",
   "execution_count": 2,
   "outputs": [],
   "source": [
    "import pandas as pd\n",
    "import scipy.stats as st\n",
    "import matplotlib as mpl\n",
    "import seaborn as sns"
   ],
   "metadata": {
    "collapsed": false,
    "pycharm": {
     "name": "#%%\n"
    }
   }
  },
  {
   "cell_type": "markdown",
   "source": [
    "<div class=\"alert alert-info\" role=\"alert\">\n",
    "    <p class=\"mb-0\">В коде использую <code>display()</code>, потомучто это однозначно даёт понять что планируется вывод / печать результатов. То есть использую <code>display()</code> намеренно, хотя понимаю что можно и без него выводить данные. 👌</p>\n",
    "</div>"
   ],
   "metadata": {
    "collapsed": false,
    "pycharm": {
     "name": "#%% md\n"
    }
   }
  },
  {
   "cell_type": "code",
   "execution_count": 13,
   "outputs": [],
   "source": [
    "calls_df = pd.read_csv('./datasets/calls.csv')\n",
    "internet_df = pd.read_csv('./datasets/internet.csv', index_col=0)\n",
    "messages_df = pd.read_csv('./datasets/messages.csv')\n",
    "tariffs_df = pd.read_csv('./datasets/tariffs.csv')\n",
    "users_df = pd.read_csv('./datasets/users.csv')"
   ],
   "metadata": {
    "collapsed": false,
    "pycharm": {
     "name": "#%%\n"
    }
   }
  },
  {
   "cell_type": "code",
   "execution_count": 11,
   "outputs": [
    {
     "data": {
      "text/plain": "              id   call_date  duration  user_id\n128848  1330_712  2018-08-28      2.31     1330\n38818   1097_150  2018-11-07     24.71     1097\n100879   1260_43  2018-09-27     17.63     1260",
      "text/html": "<div>\n<style scoped>\n    .dataframe tbody tr th:only-of-type {\n        vertical-align: middle;\n    }\n\n    .dataframe tbody tr th {\n        vertical-align: top;\n    }\n\n    .dataframe thead th {\n        text-align: right;\n    }\n</style>\n<table border=\"1\" class=\"dataframe\">\n  <thead>\n    <tr style=\"text-align: right;\">\n      <th></th>\n      <th>id</th>\n      <th>call_date</th>\n      <th>duration</th>\n      <th>user_id</th>\n    </tr>\n  </thead>\n  <tbody>\n    <tr>\n      <th>128848</th>\n      <td>1330_712</td>\n      <td>2018-08-28</td>\n      <td>2.31</td>\n      <td>1330</td>\n    </tr>\n    <tr>\n      <th>38818</th>\n      <td>1097_150</td>\n      <td>2018-11-07</td>\n      <td>24.71</td>\n      <td>1097</td>\n    </tr>\n    <tr>\n      <th>100879</th>\n      <td>1260_43</td>\n      <td>2018-09-27</td>\n      <td>17.63</td>\n      <td>1260</td>\n    </tr>\n  </tbody>\n</table>\n</div>"
     },
     "metadata": {},
     "output_type": "display_data"
    },
    {
     "data": {
      "text/plain": "            duration        user_id\ncount  202607.000000  202607.000000\nmean        6.755887    1253.940619\nstd         5.843365     144.722751\nmin         0.000000    1000.000000\n25%         1.300000    1126.000000\n50%         6.000000    1260.000000\n75%        10.700000    1379.000000\nmax        38.000000    1499.000000",
      "text/html": "<div>\n<style scoped>\n    .dataframe tbody tr th:only-of-type {\n        vertical-align: middle;\n    }\n\n    .dataframe tbody tr th {\n        vertical-align: top;\n    }\n\n    .dataframe thead th {\n        text-align: right;\n    }\n</style>\n<table border=\"1\" class=\"dataframe\">\n  <thead>\n    <tr style=\"text-align: right;\">\n      <th></th>\n      <th>duration</th>\n      <th>user_id</th>\n    </tr>\n  </thead>\n  <tbody>\n    <tr>\n      <th>count</th>\n      <td>202607.000000</td>\n      <td>202607.000000</td>\n    </tr>\n    <tr>\n      <th>mean</th>\n      <td>6.755887</td>\n      <td>1253.940619</td>\n    </tr>\n    <tr>\n      <th>std</th>\n      <td>5.843365</td>\n      <td>144.722751</td>\n    </tr>\n    <tr>\n      <th>min</th>\n      <td>0.000000</td>\n      <td>1000.000000</td>\n    </tr>\n    <tr>\n      <th>25%</th>\n      <td>1.300000</td>\n      <td>1126.000000</td>\n    </tr>\n    <tr>\n      <th>50%</th>\n      <td>6.000000</td>\n      <td>1260.000000</td>\n    </tr>\n    <tr>\n      <th>75%</th>\n      <td>10.700000</td>\n      <td>1379.000000</td>\n    </tr>\n    <tr>\n      <th>max</th>\n      <td>38.000000</td>\n      <td>1499.000000</td>\n    </tr>\n  </tbody>\n</table>\n</div>"
     },
     "metadata": {},
     "output_type": "display_data"
    }
   ],
   "source": [
    "display(\n",
    "    calls_df.sample(3),\n",
    "    calls_df.describe()\n",
    ")"
   ],
   "metadata": {
    "collapsed": false,
    "pycharm": {
     "name": "#%%\n"
    }
   }
  },
  {
   "cell_type": "code",
   "execution_count": 14,
   "outputs": [
    {
     "data": {
      "text/plain": "             id  mb_used session_date  user_id\n39410   1138_88   456.01   2018-08-02     1138\n4630   1014_236    83.36   2018-10-22     1014\n86355  1292_471  1059.20   2018-05-08     1292",
      "text/html": "<div>\n<style scoped>\n    .dataframe tbody tr th:only-of-type {\n        vertical-align: middle;\n    }\n\n    .dataframe tbody tr th {\n        vertical-align: top;\n    }\n\n    .dataframe thead th {\n        text-align: right;\n    }\n</style>\n<table border=\"1\" class=\"dataframe\">\n  <thead>\n    <tr style=\"text-align: right;\">\n      <th></th>\n      <th>id</th>\n      <th>mb_used</th>\n      <th>session_date</th>\n      <th>user_id</th>\n    </tr>\n  </thead>\n  <tbody>\n    <tr>\n      <th>39410</th>\n      <td>1138_88</td>\n      <td>456.01</td>\n      <td>2018-08-02</td>\n      <td>1138</td>\n    </tr>\n    <tr>\n      <th>4630</th>\n      <td>1014_236</td>\n      <td>83.36</td>\n      <td>2018-10-22</td>\n      <td>1014</td>\n    </tr>\n    <tr>\n      <th>86355</th>\n      <td>1292_471</td>\n      <td>1059.20</td>\n      <td>2018-05-08</td>\n      <td>1292</td>\n    </tr>\n  </tbody>\n</table>\n</div>"
     },
     "metadata": {},
     "output_type": "display_data"
    },
    {
     "data": {
      "text/plain": "             mb_used        user_id\ncount  149396.000000  149396.000000\nmean      370.192426    1252.099842\nstd       278.300951     144.050823\nmin         0.000000    1000.000000\n25%       138.187500    1130.000000\n50%       348.015000    1251.000000\n75%       559.552500    1380.000000\nmax      1724.830000    1499.000000",
      "text/html": "<div>\n<style scoped>\n    .dataframe tbody tr th:only-of-type {\n        vertical-align: middle;\n    }\n\n    .dataframe tbody tr th {\n        vertical-align: top;\n    }\n\n    .dataframe thead th {\n        text-align: right;\n    }\n</style>\n<table border=\"1\" class=\"dataframe\">\n  <thead>\n    <tr style=\"text-align: right;\">\n      <th></th>\n      <th>mb_used</th>\n      <th>user_id</th>\n    </tr>\n  </thead>\n  <tbody>\n    <tr>\n      <th>count</th>\n      <td>149396.000000</td>\n      <td>149396.000000</td>\n    </tr>\n    <tr>\n      <th>mean</th>\n      <td>370.192426</td>\n      <td>1252.099842</td>\n    </tr>\n    <tr>\n      <th>std</th>\n      <td>278.300951</td>\n      <td>144.050823</td>\n    </tr>\n    <tr>\n      <th>min</th>\n      <td>0.000000</td>\n      <td>1000.000000</td>\n    </tr>\n    <tr>\n      <th>25%</th>\n      <td>138.187500</td>\n      <td>1130.000000</td>\n    </tr>\n    <tr>\n      <th>50%</th>\n      <td>348.015000</td>\n      <td>1251.000000</td>\n    </tr>\n    <tr>\n      <th>75%</th>\n      <td>559.552500</td>\n      <td>1380.000000</td>\n    </tr>\n    <tr>\n      <th>max</th>\n      <td>1724.830000</td>\n      <td>1499.000000</td>\n    </tr>\n  </tbody>\n</table>\n</div>"
     },
     "metadata": {},
     "output_type": "display_data"
    }
   ],
   "source": [
    "display(\n",
    "    internet_df.sample(3),\n",
    "    internet_df.describe()\n",
    ")"
   ],
   "metadata": {
    "collapsed": false,
    "pycharm": {
     "name": "#%%\n"
    }
   }
  },
  {
   "cell_type": "code",
   "execution_count": 15,
   "outputs": [
    {
     "data": {
      "text/plain": "              id message_date  user_id\n110317    1447_2   2018-09-30     1447\n45308   1196_758   2018-06-18     1196\n50805   1226_481   2018-09-11     1226",
      "text/html": "<div>\n<style scoped>\n    .dataframe tbody tr th:only-of-type {\n        vertical-align: middle;\n    }\n\n    .dataframe tbody tr th {\n        vertical-align: top;\n    }\n\n    .dataframe thead th {\n        text-align: right;\n    }\n</style>\n<table border=\"1\" class=\"dataframe\">\n  <thead>\n    <tr style=\"text-align: right;\">\n      <th></th>\n      <th>id</th>\n      <th>message_date</th>\n      <th>user_id</th>\n    </tr>\n  </thead>\n  <tbody>\n    <tr>\n      <th>110317</th>\n      <td>1447_2</td>\n      <td>2018-09-30</td>\n      <td>1447</td>\n    </tr>\n    <tr>\n      <th>45308</th>\n      <td>1196_758</td>\n      <td>2018-06-18</td>\n      <td>1196</td>\n    </tr>\n    <tr>\n      <th>50805</th>\n      <td>1226_481</td>\n      <td>2018-09-11</td>\n      <td>1226</td>\n    </tr>\n  </tbody>\n</table>\n</div>"
     },
     "metadata": {},
     "output_type": "display_data"
    },
    {
     "data": {
      "text/plain": "             user_id\ncount  123036.000000\nmean     1256.989410\nstd       143.523967\nmin      1000.000000\n25%      1134.000000\n50%      1271.000000\n75%      1381.000000\nmax      1499.000000",
      "text/html": "<div>\n<style scoped>\n    .dataframe tbody tr th:only-of-type {\n        vertical-align: middle;\n    }\n\n    .dataframe tbody tr th {\n        vertical-align: top;\n    }\n\n    .dataframe thead th {\n        text-align: right;\n    }\n</style>\n<table border=\"1\" class=\"dataframe\">\n  <thead>\n    <tr style=\"text-align: right;\">\n      <th></th>\n      <th>user_id</th>\n    </tr>\n  </thead>\n  <tbody>\n    <tr>\n      <th>count</th>\n      <td>123036.000000</td>\n    </tr>\n    <tr>\n      <th>mean</th>\n      <td>1256.989410</td>\n    </tr>\n    <tr>\n      <th>std</th>\n      <td>143.523967</td>\n    </tr>\n    <tr>\n      <th>min</th>\n      <td>1000.000000</td>\n    </tr>\n    <tr>\n      <th>25%</th>\n      <td>1134.000000</td>\n    </tr>\n    <tr>\n      <th>50%</th>\n      <td>1271.000000</td>\n    </tr>\n    <tr>\n      <th>75%</th>\n      <td>1381.000000</td>\n    </tr>\n    <tr>\n      <th>max</th>\n      <td>1499.000000</td>\n    </tr>\n  </tbody>\n</table>\n</div>"
     },
     "metadata": {},
     "output_type": "display_data"
    }
   ],
   "source": [
    "display(\n",
    "    messages_df.sample(3),\n",
    "    messages_df.describe()\n",
    ")"
   ],
   "metadata": {
    "collapsed": false,
    "pycharm": {
     "name": "#%%\n"
    }
   }
  },
  {
   "cell_type": "code",
   "execution_count": 9,
   "outputs": [
    {
     "data": {
      "text/plain": "   messages_included  mb_per_month_included  minutes_included  \\\n0                 50                  15360               500   \n1               1000                  30720              3000   \n\n   rub_monthly_fee  rub_per_gb  rub_per_message  rub_per_minute tariff_name  \n0              550         200                3               3       smart  \n1             1950         150                1               1       ultra  ",
      "text/html": "<div>\n<style scoped>\n    .dataframe tbody tr th:only-of-type {\n        vertical-align: middle;\n    }\n\n    .dataframe tbody tr th {\n        vertical-align: top;\n    }\n\n    .dataframe thead th {\n        text-align: right;\n    }\n</style>\n<table border=\"1\" class=\"dataframe\">\n  <thead>\n    <tr style=\"text-align: right;\">\n      <th></th>\n      <th>messages_included</th>\n      <th>mb_per_month_included</th>\n      <th>minutes_included</th>\n      <th>rub_monthly_fee</th>\n      <th>rub_per_gb</th>\n      <th>rub_per_message</th>\n      <th>rub_per_minute</th>\n      <th>tariff_name</th>\n    </tr>\n  </thead>\n  <tbody>\n    <tr>\n      <th>0</th>\n      <td>50</td>\n      <td>15360</td>\n      <td>500</td>\n      <td>550</td>\n      <td>200</td>\n      <td>3</td>\n      <td>3</td>\n      <td>smart</td>\n    </tr>\n    <tr>\n      <th>1</th>\n      <td>1000</td>\n      <td>30720</td>\n      <td>3000</td>\n      <td>1950</td>\n      <td>150</td>\n      <td>1</td>\n      <td>1</td>\n      <td>ultra</td>\n    </tr>\n  </tbody>\n</table>\n</div>"
     },
     "metadata": {},
     "output_type": "display_data"
    }
   ],
   "source": [
    "display(\n",
    "    tariffs_df\n",
    ")"
   ],
   "metadata": {
    "collapsed": false,
    "pycharm": {
     "name": "#%%\n"
    }
   }
  },
  {
   "cell_type": "code",
   "execution_count": 16,
   "outputs": [
    {
     "data": {
      "text/plain": "     user_id  age churn_date    city first_name   last_name    reg_date tariff\n23      1023   42        NaN   Томск    Людмила  Мельникова  2018-10-22  smart\n300     1300   40        NaN  Москва      Тихон   Азерников  2018-07-26  ultra\n307     1307   53        NaN  Самара     Симона   Авсейкина  2018-05-04  smart",
      "text/html": "<div>\n<style scoped>\n    .dataframe tbody tr th:only-of-type {\n        vertical-align: middle;\n    }\n\n    .dataframe tbody tr th {\n        vertical-align: top;\n    }\n\n    .dataframe thead th {\n        text-align: right;\n    }\n</style>\n<table border=\"1\" class=\"dataframe\">\n  <thead>\n    <tr style=\"text-align: right;\">\n      <th></th>\n      <th>user_id</th>\n      <th>age</th>\n      <th>churn_date</th>\n      <th>city</th>\n      <th>first_name</th>\n      <th>last_name</th>\n      <th>reg_date</th>\n      <th>tariff</th>\n    </tr>\n  </thead>\n  <tbody>\n    <tr>\n      <th>23</th>\n      <td>1023</td>\n      <td>42</td>\n      <td>NaN</td>\n      <td>Томск</td>\n      <td>Людмила</td>\n      <td>Мельникова</td>\n      <td>2018-10-22</td>\n      <td>smart</td>\n    </tr>\n    <tr>\n      <th>300</th>\n      <td>1300</td>\n      <td>40</td>\n      <td>NaN</td>\n      <td>Москва</td>\n      <td>Тихон</td>\n      <td>Азерников</td>\n      <td>2018-07-26</td>\n      <td>ultra</td>\n    </tr>\n    <tr>\n      <th>307</th>\n      <td>1307</td>\n      <td>53</td>\n      <td>NaN</td>\n      <td>Самара</td>\n      <td>Симона</td>\n      <td>Авсейкина</td>\n      <td>2018-05-04</td>\n      <td>smart</td>\n    </tr>\n  </tbody>\n</table>\n</div>"
     },
     "metadata": {},
     "output_type": "display_data"
    },
    {
     "data": {
      "text/plain": "           user_id        age\ncount   500.000000  500.00000\nmean   1249.500000   46.58800\nstd     144.481833   16.66763\nmin    1000.000000   18.00000\n25%    1124.750000   32.00000\n50%    1249.500000   46.00000\n75%    1374.250000   62.00000\nmax    1499.000000   75.00000",
      "text/html": "<div>\n<style scoped>\n    .dataframe tbody tr th:only-of-type {\n        vertical-align: middle;\n    }\n\n    .dataframe tbody tr th {\n        vertical-align: top;\n    }\n\n    .dataframe thead th {\n        text-align: right;\n    }\n</style>\n<table border=\"1\" class=\"dataframe\">\n  <thead>\n    <tr style=\"text-align: right;\">\n      <th></th>\n      <th>user_id</th>\n      <th>age</th>\n    </tr>\n  </thead>\n  <tbody>\n    <tr>\n      <th>count</th>\n      <td>500.000000</td>\n      <td>500.00000</td>\n    </tr>\n    <tr>\n      <th>mean</th>\n      <td>1249.500000</td>\n      <td>46.58800</td>\n    </tr>\n    <tr>\n      <th>std</th>\n      <td>144.481833</td>\n      <td>16.66763</td>\n    </tr>\n    <tr>\n      <th>min</th>\n      <td>1000.000000</td>\n      <td>18.00000</td>\n    </tr>\n    <tr>\n      <th>25%</th>\n      <td>1124.750000</td>\n      <td>32.00000</td>\n    </tr>\n    <tr>\n      <th>50%</th>\n      <td>1249.500000</td>\n      <td>46.00000</td>\n    </tr>\n    <tr>\n      <th>75%</th>\n      <td>1374.250000</td>\n      <td>62.00000</td>\n    </tr>\n    <tr>\n      <th>max</th>\n      <td>1499.000000</td>\n      <td>75.00000</td>\n    </tr>\n  </tbody>\n</table>\n</div>"
     },
     "metadata": {},
     "output_type": "display_data"
    }
   ],
   "source": [
    "display(\n",
    "    users_df.sample(3),\n",
    "    users_df.describe()\n",
    ")"
   ],
   "metadata": {
    "collapsed": false,
    "pycharm": {
     "name": "#%%\n"
    }
   }
  },
  {
   "cell_type": "markdown",
   "source": [
    "## Шаг 0. Введение"
   ],
   "metadata": {
    "collapsed": false,
    "pycharm": {
     "name": "#%% md\n"
    }
   }
  },
  {
   "cell_type": "markdown",
   "source": [
    "В этом учебном проекте сделаем предварительный анализ тарифов на выборке данных 500 пользователей «Мегалайна». Клиентам предлагают два тарифных плана: «Смарт» и «Ультра». Чтобы скорректировать рекламный бюджет, коммерческий департамент хочет понять, какой тариф приносит больше денег. Нужно проанализировать поведение клиентов и сделать вывод — какой тариф лучше."
   ],
   "metadata": {
    "collapsed": false,
    "pycharm": {
     "name": "#%% md\n"
    }
   }
  },
  {
   "cell_type": "markdown",
   "source": [
    "<hr>"
   ],
   "metadata": {
    "collapsed": false,
    "pycharm": {
     "name": "#%% md\n"
    }
   }
  },
  {
   "cell_type": "markdown",
   "source": [
    "## Шаг 1. Знакомимся с данными изучаем общую информацию"
   ],
   "metadata": {
    "collapsed": false,
    "pycharm": {
     "name": "#%% md\n"
    }
   }
  },
  {
   "cell_type": "markdown",
   "source": [
    "Откройте файл с данными и изучите общую информацию"
   ],
   "metadata": {
    "collapsed": false,
    "pycharm": {
     "name": "#%% md\n"
    }
   }
  },
  {
   "cell_type": "code",
   "execution_count": null,
   "outputs": [],
   "source": [],
   "metadata": {
    "collapsed": false,
    "pycharm": {
     "name": "#%%\n"
    }
   }
  },
  {
   "cell_type": "markdown",
   "source": [
    "<hr>"
   ],
   "metadata": {
    "collapsed": false,
    "pycharm": {
     "name": "#%% md\n"
    }
   }
  },
  {
   "cell_type": "markdown",
   "source": [
    "## Шаг 2. Подготавливаем данные"
   ],
   "metadata": {
    "collapsed": false,
    "pycharm": {
     "name": "#%% md\n"
    }
   }
  },
  {
   "cell_type": "code",
   "execution_count": null,
   "outputs": [],
   "source": [],
   "metadata": {
    "collapsed": false,
    "pycharm": {
     "name": "#%%\n"
    }
   }
  },
  {
   "cell_type": "markdown",
   "source": [
    "### Найдите и исправьте ошибки в данных, если они есть."
   ],
   "metadata": {
    "collapsed": false,
    "pycharm": {
     "name": "#%% md\n"
    }
   }
  },
  {
   "cell_type": "code",
   "execution_count": null,
   "outputs": [],
   "source": [],
   "metadata": {
    "collapsed": false,
    "pycharm": {
     "name": "#%%\n"
    }
   }
  },
  {
   "cell_type": "markdown",
   "source": [
    "#### Поясните, какие ошибки вы нашли и как их исправили."
   ],
   "metadata": {
    "collapsed": false,
    "pycharm": {
     "name": "#%% md\n"
    }
   }
  },
  {
   "cell_type": "code",
   "execution_count": null,
   "outputs": [],
   "source": [],
   "metadata": {
    "collapsed": false,
    "pycharm": {
     "name": "#%%\n"
    }
   }
  },
  {
   "cell_type": "markdown",
   "source": [
    "### Приведите данные к нужным типам;"
   ],
   "metadata": {
    "collapsed": false,
    "pycharm": {
     "name": "#%% md\n"
    }
   }
  },
  {
   "cell_type": "code",
   "execution_count": null,
   "outputs": [],
   "source": [],
   "metadata": {
    "collapsed": false,
    "pycharm": {
     "name": "#%%\n"
    }
   }
  },
  {
   "cell_type": "markdown",
   "source": [
    "<hr>"
   ],
   "metadata": {
    "collapsed": false,
    "pycharm": {
     "name": "#%% md\n"
    }
   }
  },
  {
   "cell_type": "markdown",
   "source": [
    "### Посчитайте для каждого пользователя:"
   ],
   "metadata": {
    "collapsed": false,
    "pycharm": {
     "name": "#%% md\n"
    }
   }
  },
  {
   "cell_type": "code",
   "execution_count": null,
   "outputs": [],
   "source": [],
   "metadata": {
    "collapsed": false,
    "pycharm": {
     "name": "#%%\n"
    }
   }
  },
  {
   "cell_type": "markdown",
   "source": [
    "#### количество сделанных звонков и израсходованных минут разговора по месяцам;"
   ],
   "metadata": {
    "collapsed": false,
    "pycharm": {
     "name": "#%% md\n"
    }
   }
  },
  {
   "cell_type": "code",
   "execution_count": null,
   "outputs": [],
   "source": [],
   "metadata": {
    "collapsed": false,
    "pycharm": {
     "name": "#%%\n"
    }
   }
  },
  {
   "cell_type": "markdown",
   "source": [
    "#### количество отправленных сообщений по месяцам;"
   ],
   "metadata": {
    "collapsed": false,
    "pycharm": {
     "name": "#%% md\n"
    }
   }
  },
  {
   "cell_type": "code",
   "execution_count": null,
   "outputs": [],
   "source": [],
   "metadata": {
    "collapsed": false,
    "pycharm": {
     "name": "#%%\n"
    }
   }
  },
  {
   "cell_type": "markdown",
   "source": [
    "#### объем израсходованного интернет-трафика по месяцам;"
   ],
   "metadata": {
    "collapsed": false,
    "pycharm": {
     "name": "#%% md\n"
    }
   }
  },
  {
   "cell_type": "code",
   "execution_count": null,
   "outputs": [],
   "source": [],
   "metadata": {
    "collapsed": false,
    "pycharm": {
     "name": "#%%\n"
    }
   }
  },
  {
   "cell_type": "markdown",
   "source": [
    "#### помесячную выручку с каждого пользователя"
   ],
   "metadata": {
    "collapsed": false,
    "pycharm": {
     "name": "#%% md\n"
    }
   }
  },
  {
   "cell_type": "markdown",
   "source": [
    "(вычтите бесплатный лимит из суммарного количества звонков, сообщений и интернет-трафика; остаток умножьте на значение из тарифного плана; прибавьте абонентскую плату, соответствующую тарифному плану)."
   ],
   "metadata": {
    "collapsed": false,
    "pycharm": {
     "name": "#%% md\n"
    }
   }
  },
  {
   "cell_type": "code",
   "execution_count": null,
   "outputs": [],
   "source": [],
   "metadata": {
    "collapsed": false,
    "pycharm": {
     "name": "#%%\n"
    }
   }
  },
  {
   "cell_type": "code",
   "execution_count": null,
   "outputs": [],
   "source": [],
   "metadata": {
    "collapsed": false,
    "pycharm": {
     "name": "#%%\n"
    }
   }
  },
  {
   "cell_type": "markdown",
   "source": [],
   "metadata": {
    "collapsed": false,
    "pycharm": {
     "name": "#%% md\n"
    }
   }
  },
  {
   "cell_type": "markdown",
   "source": [],
   "metadata": {
    "collapsed": false,
    "pycharm": {
     "name": "#%% md\n"
    }
   }
  },
  {
   "cell_type": "markdown",
   "source": [
    "<hr>"
   ],
   "metadata": {
    "collapsed": false,
    "pycharm": {
     "name": "#%% md\n"
    }
   }
  },
  {
   "cell_type": "markdown",
   "source": [
    "## Шаг 3. Анализ данных"
   ],
   "metadata": {
    "collapsed": false,
    "pycharm": {
     "name": "#%% md\n"
    }
   }
  },
  {
   "cell_type": "code",
   "execution_count": null,
   "outputs": [],
   "source": [],
   "metadata": {
    "collapsed": false,
    "pycharm": {
     "name": "#%%\n"
    }
   }
  },
  {
   "cell_type": "markdown",
   "source": [
    "### Описание поведения клиентов оператора, исходя из выборки."
   ],
   "metadata": {
    "collapsed": false,
    "pycharm": {
     "name": "#%% md\n"
    }
   }
  },
  {
   "cell_type": "markdown",
   "source": [],
   "metadata": {
    "collapsed": false,
    "pycharm": {
     "name": "#%% md\n"
    }
   }
  },
  {
   "cell_type": "markdown",
   "source": [
    "#### Сколько минут разговора требуется пользователям каждого тарифа в месяц?"
   ],
   "metadata": {
    "collapsed": false,
    "pycharm": {
     "name": "#%% md\n"
    }
   }
  },
  {
   "cell_type": "markdown",
   "source": [
    " ##### Среднее количество минут, дисперсия и стандартное отклонение."
   ],
   "metadata": {
    "collapsed": false,
    "pycharm": {
     "name": "#%% md\n"
    }
   }
  },
  {
   "cell_type": "code",
   "execution_count": null,
   "outputs": [],
   "source": [],
   "metadata": {
    "collapsed": false,
    "pycharm": {
     "name": "#%%\n"
    }
   }
  },
  {
   "cell_type": "markdown",
   "source": [
    "##### Гистограммы минут разговора."
   ],
   "metadata": {
    "collapsed": false,
    "pycharm": {
     "name": "#%% md\n"
    }
   }
  },
  {
   "cell_type": "code",
   "execution_count": null,
   "outputs": [],
   "source": [],
   "metadata": {
    "collapsed": false,
    "pycharm": {
     "name": "#%%\n"
    }
   }
  },
  {
   "cell_type": "markdown",
   "source": [
    "##### Описание распределений минут разговора."
   ],
   "metadata": {
    "collapsed": false,
    "pycharm": {
     "name": "#%% md\n"
    }
   }
  },
  {
   "cell_type": "markdown",
   "source": [],
   "metadata": {
    "collapsed": false,
    "pycharm": {
     "name": "#%% md\n"
    }
   }
  },
  {
   "cell_type": "markdown",
   "source": [
    "<hr>"
   ],
   "metadata": {
    "collapsed": false,
    "pycharm": {
     "name": "#%% md\n"
    }
   }
  },
  {
   "cell_type": "markdown",
   "source": [
    "#### Сколько сообщений требуется пользователям каждого тарифа в месяц?"
   ],
   "metadata": {
    "collapsed": false,
    "pycharm": {
     "name": "#%% md\n"
    }
   }
  },
  {
   "cell_type": "markdown",
   "source": [
    " ##### Среднее количество сообщений, дисперсия и стандартное отклонение."
   ],
   "metadata": {
    "collapsed": false,
    "pycharm": {
     "name": "#%% md\n"
    }
   }
  },
  {
   "cell_type": "code",
   "execution_count": null,
   "outputs": [],
   "source": [],
   "metadata": {
    "collapsed": false,
    "pycharm": {
     "name": "#%%\n"
    }
   }
  },
  {
   "cell_type": "markdown",
   "source": [
    "##### Гистограммы сообщений."
   ],
   "metadata": {
    "collapsed": false,
    "pycharm": {
     "name": "#%% md\n"
    }
   }
  },
  {
   "cell_type": "code",
   "execution_count": null,
   "outputs": [],
   "source": [],
   "metadata": {
    "collapsed": false,
    "pycharm": {
     "name": "#%%\n"
    }
   }
  },
  {
   "cell_type": "markdown",
   "source": [
    "##### Описание распределений сообщений."
   ],
   "metadata": {
    "collapsed": false,
    "pycharm": {
     "name": "#%% md\n"
    }
   }
  },
  {
   "cell_type": "markdown",
   "source": [],
   "metadata": {
    "collapsed": false,
    "pycharm": {
     "name": "#%% md\n"
    }
   }
  },
  {
   "cell_type": "markdown",
   "source": [
    "<hr>"
   ],
   "metadata": {
    "collapsed": false,
    "pycharm": {
     "name": "#%% md\n"
    }
   }
  },
  {
   "cell_type": "markdown",
   "source": [
    "#### Какой объём интернет-трафика требуется пользователям каждого тарифа в месяц?"
   ],
   "metadata": {
    "collapsed": false,
    "pycharm": {
     "name": "#%% md\n"
    }
   }
  },
  {
   "cell_type": "markdown",
   "source": [
    " Посчитайте среднее количество интернет-трафика, дисперсию и стандартное отклонение."
   ],
   "metadata": {
    "collapsed": false,
    "pycharm": {
     "name": "#%% md\n"
    }
   }
  },
  {
   "cell_type": "code",
   "execution_count": null,
   "outputs": [],
   "source": [],
   "metadata": {
    "collapsed": false,
    "pycharm": {
     "name": "#%%\n"
    }
   }
  },
  {
   "cell_type": "markdown",
   "source": [
    "##### Гистограммы интернет-трафика."
   ],
   "metadata": {
    "collapsed": false,
    "pycharm": {
     "name": "#%% md\n"
    }
   }
  },
  {
   "cell_type": "code",
   "execution_count": null,
   "outputs": [],
   "source": [],
   "metadata": {
    "collapsed": false,
    "pycharm": {
     "name": "#%%\n"
    }
   }
  },
  {
   "cell_type": "markdown",
   "source": [
    "##### Описание распределений интернет-трафика."
   ],
   "metadata": {
    "collapsed": false,
    "pycharm": {
     "name": "#%% md\n"
    }
   }
  },
  {
   "cell_type": "markdown",
   "source": [],
   "metadata": {
    "collapsed": false,
    "pycharm": {
     "name": "#%% md\n"
    }
   }
  },
  {
   "cell_type": "code",
   "execution_count": null,
   "outputs": [],
   "source": [],
   "metadata": {
    "collapsed": false,
    "pycharm": {
     "name": "#%%\n"
    }
   }
  },
  {
   "cell_type": "markdown",
   "source": [
    "<hr>"
   ],
   "metadata": {
    "collapsed": false,
    "pycharm": {
     "name": "#%% md\n"
    }
   }
  },
  {
   "cell_type": "markdown",
   "source": [
    "## Шаг 4. Проверьте гипотезы"
   ],
   "metadata": {
    "collapsed": false,
    "pycharm": {
     "name": "#%% md\n"
    }
   }
  },
  {
   "cell_type": "code",
   "execution_count": null,
   "outputs": [],
   "source": [],
   "metadata": {
    "collapsed": false,
    "pycharm": {
     "name": "#%%\n"
    }
   }
  },
  {
   "cell_type": "markdown",
   "source": [
    "### Средняя выручка пользователей тарифов «Ультра» и «Смарт» различаются"
   ],
   "metadata": {
    "collapsed": false,
    "pycharm": {
     "name": "#%% md\n"
    }
   }
  },
  {
   "cell_type": "code",
   "execution_count": null,
   "outputs": [],
   "source": [],
   "metadata": {
    "collapsed": false,
    "pycharm": {
     "name": "#%%\n"
    }
   }
  },
  {
   "cell_type": "markdown",
   "source": [
    "### Средняя выручка пользователей из Москвы отличается от выручки пользователей из других регионов"
   ],
   "metadata": {
    "collapsed": false,
    "pycharm": {
     "name": "#%% md\n"
    }
   }
  },
  {
   "cell_type": "code",
   "execution_count": null,
   "outputs": [],
   "source": [],
   "metadata": {
    "collapsed": false,
    "pycharm": {
     "name": "#%%\n"
    }
   }
  },
  {
   "cell_type": "code",
   "execution_count": null,
   "outputs": [],
   "source": [],
   "metadata": {
    "collapsed": false,
    "pycharm": {
     "name": "#%%\n"
    }
   }
  },
  {
   "cell_type": "code",
   "execution_count": null,
   "outputs": [],
   "source": [],
   "metadata": {
    "collapsed": false,
    "pycharm": {
     "name": "#%%\n"
    }
   }
  },
  {
   "cell_type": "markdown",
   "source": [
    "Поясните:\n",
    "как вы формулировали нулевую и альтернативную гипотезы;\n",
    "какой критерий использовали для проверки гипотез и почему."
   ],
   "metadata": {
    "collapsed": false,
    "pycharm": {
     "name": "#%% md\n"
    }
   }
  },
  {
   "cell_type": "markdown",
   "source": [
    "<hr>"
   ],
   "metadata": {
    "collapsed": false,
    "pycharm": {
     "name": "#%% md\n"
    }
   }
  },
  {
   "cell_type": "markdown",
   "source": [
    "## Шаг 5. Общий вывод"
   ],
   "metadata": {
    "collapsed": false,
    "pycharm": {
     "name": "#%% md\n"
    }
   }
  },
  {
   "cell_type": "markdown",
   "source": [],
   "metadata": {
    "collapsed": false,
    "pycharm": {
     "name": "#%% md\n"
    }
   }
  },
  {
   "cell_type": "markdown",
   "source": [
    "Описание данных\n",
    "Таблица users (информация о пользователях):\n",
    "user_id — уникальный идентификатор пользователя\n",
    "first_name — имя пользователя\n",
    "last_name — фамилия пользователя\n",
    "age — возраст пользователя (годы)\n",
    "reg_date — дата подключения тарифа (день, месяц, год)\n",
    "churn_date — дата прекращения пользования тарифом (если значение пропущено, то тариф ещё действовал на момент выгрузки данных)\n",
    "city — город проживания пользователя\n",
    "tariff — название тарифного плана\n",
    "Таблица calls (информация о звонках):\n",
    "id — уникальный номер звонка\n",
    "call_date — дата звонка\n",
    "duration — длительность звонка в минутах\n",
    "user_id — идентификатор пользователя, сделавшего звонок\n",
    "Таблица messages (информация о сообщениях):\n",
    "id — уникальный номер сообщения\n",
    "message_date — дата сообщения\n",
    "user_id — идентификатор пользователя, отправившего сообщение\n",
    "Таблица internet (информация об интернет-сессиях):\n",
    "id — уникальный номер сессии\n",
    "mb_used — объём потраченного за сессию интернет-трафика (в мегабайтах)\n",
    "session_date — дата интернет-сессии\n",
    "user_id — идентификатор пользователя\n",
    "Таблица tariffs (информация о тарифах):\n",
    "tariff_name — название тарифа\n",
    "rub_monthly_fee — ежемесячная абонентская плата в рублях\n",
    "minutes_included — количество минут разговора в месяц, включённых в абонентскую плату\n",
    "messages_included — количество сообщений в месяц, включённых в абонентскую плату\n",
    "mb_per_month_included — объём интернет-трафика, включённого в абонентскую плату (в мегабайтах)\n",
    "rub_per_minute — стоимость минуты разговора сверх тарифного пакета (например, если в тарифе 100 минут разговора в месяц, то со 101 минуты будет взиматься плата)\n",
    "rub_per_message — стоимость отправки сообщения сверх тарифного пакета\n",
    "rub_per_gb — стоимость дополнительного гигабайта интернет-трафика сверх тарифного пакета (1 гигабайт = 1024 мегабайта)"
   ],
   "metadata": {
    "collapsed": false,
    "pycharm": {
     "name": "#%% md\n"
    }
   }
  }
 ],
 "metadata": {
  "kernelspec": {
   "display_name": "Python 3",
   "language": "python",
   "name": "python3"
  },
  "language_info": {
   "codemirror_mode": {
    "name": "ipython",
    "version": 2
   },
   "file_extension": ".py",
   "mimetype": "text/x-python",
   "name": "python",
   "nbconvert_exporter": "python",
   "pygments_lexer": "ipython2",
   "version": "2.7.6"
  }
 },
 "nbformat": 4,
 "nbformat_minor": 0
}