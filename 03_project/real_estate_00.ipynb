{
 "cells": [
  {
   "cell_type": "markdown",
   "id": "70fffcea-4e44-411a-9c1d-d8f1c0871384",
   "metadata": {
    "pycharm": {
     "name": "#%% md\n"
    }
   },
   "source": [
    "# Яндекс Недвижимость"
   ]
  },
  {
   "cell_type": "markdown",
   "id": "6fbe0e76-5e2e-4122-9159-3c9d703e5215",
   "metadata": {
    "pycharm": {
     "name": "#%% md\n"
    }
   },
   "source": [
    "## Шаг 1. Откройте файл с данными и изучите общую информацию"
   ]
  },
  {
   "cell_type": "code",
   "execution_count": null,
   "id": "27108e9f-f25a-42f5-a2e7-1bba050c8427",
   "metadata": {
    "pycharm": {
     "name": "#%%\n"
    }
   },
   "outputs": [],
   "source": [
    "import pandas as pd\n",
    "import re\n",
    "import random\n",
    "import math\n",
    "import numpy as np\n",
    "# from IPython.core.display_functions import display\n",
    "\n",
    "import matplotlib.pyplot as plt\n",
    "import seaborn as sns"
   ]
  },
  {
   "cell_type": "code",
   "execution_count": null,
   "id": "5df45683",
   "metadata": {
    "collapsed": false,
    "jupyter": {
     "outputs_hidden": false
    },
    "pycharm": {
     "name": "#%%\n"
    }
   },
   "outputs": [],
   "source": [
    "import requests\n",
    "# from api_key import api_key\n",
    "import json\n",
    "from geopy import distance"
   ]
  },
  {
   "cell_type": "markdown",
   "id": "66d5007d-d398-4af1-aaff-76861298653f",
   "metadata": {
    "pycharm": {
     "name": "#%% md\n"
    }
   },
   "source": [
    "<div class=\"alert alert-info\" role=\"alert\">\n",
    "    <p class=\"mb-0\">В коде использую <code>display()</code>, потомучто это однозначно даёт понять что планируется вывод / печать результатов. То есть использую <code>display()</code> намеренно, хотя понимаю что можно и без него выводить данные. 👌</p>\n",
    "</div>"
   ]
  },
  {
   "cell_type": "code",
   "execution_count": null,
   "id": "6fac5ee8-a1f4-4e99-9f64-f2dfe64ae886",
   "metadata": {
    "pycharm": {
     "name": "#%%\n"
    }
   },
   "outputs": [],
   "source": [
    "pd.__version__"
   ]
  },
  {
   "cell_type": "code",
   "execution_count": null,
   "id": "4ab6be83-8aaf-4357-8032-c657fea1b93b",
   "metadata": {
    "pycharm": {
     "name": "#%%\n"
    }
   },
   "outputs": [],
   "source": [
    "# set max columns to none\n",
    "pd.set_option(\"display.max_columns\", None)"
   ]
  },
  {
   "cell_type": "code",
   "execution_count": null,
   "id": "c58c4370",
   "metadata": {
    "collapsed": false,
    "jupyter": {
     "outputs_hidden": false
    },
    "pycharm": {
     "name": "#%%\n"
    }
   },
   "outputs": [],
   "source": [
    "#  api key for Yandex.Maps 1_000 requests per day\n",
    "api_key = '3d3d28e1-3201-4972-a5c6-9683ae982984'\n",
    "\n",
    "pulkovo_long_lat = (30.270441, 59.799816)\n",
    "hares_island_long_lat = (30.321948, 59.951103)"
   ]
  },
  {
   "cell_type": "markdown",
   "id": "e98edfc8-fc0e-4bf8-94f6-4b3c83829717",
   "metadata": {
    "pycharm": {
     "name": "#%% md\n"
    }
   },
   "source": [
    "if type of location not set assumming that its town"
   ]
  },
  {
   "cell_type": "markdown",
   "id": "1901a200-180d-4980-9e0c-f3a29a5988a2",
   "metadata": {},
   "source": [
    "Функция разделяет название населённого пункта на имя и тип. Предпологается, что имя с большой буквы…"
   ]
  },
  {
   "cell_type": "code",
   "execution_count": null,
   "id": "fff11d03-9495-46e5-8267-78d2f7ddec5b",
   "metadata": {
    "pycharm": {
     "name": "#%%\n"
    }
   },
   "outputs": [],
   "source": [
    "def name_n_type(text):\n",
    "        whole_words = text.split()\n",
    "        type_list = []\n",
    "        name_list = []\n",
    "        name_loc = \" \"\n",
    "        type_loc = \" \"\n",
    "        \n",
    "        # regex\n",
    "        pattern = '[А-ЯЁ]+[а-яё]'\n",
    "        \n",
    "        for word in whole_words:\n",
    "            \n",
    "            # searching pattern\n",
    "            if re.search(pattern, word):\n",
    "                name_list.append(word)\n",
    "            else:\n",
    "                type_list.append(word)\n",
    "        \n",
    "        name_loc = name_loc.join(name_list)\n",
    "        \n",
    "        if len(type_list) == 0:\n",
    "            type_loc = 'город'\n",
    "        else:\n",
    "            type_loc = type_loc.join(type_list)\n",
    "        \n",
    "        return name_loc, type_loc"
   ]
  },
  {
   "cell_type": "code",
   "execution_count": null,
   "id": "557226a0",
   "metadata": {
    "collapsed": false,
    "jupyter": {
     "outputs_hidden": false
    },
    "pycharm": {
     "name": "#%%\n"
    }
   },
   "outputs": [],
   "source": [
    "def correct_name(to_correct):\n",
    "    if 'поселок' in to_correct:\n",
    "        to_correct = to_correct.replace('поселок', 'посёлок')\n",
    "    return to_correct"
   ]
  },
  {
   "cell_type": "code",
   "execution_count": null,
   "id": "2aa42744",
   "metadata": {
    "collapsed": false,
    "jupyter": {
     "outputs_hidden": false
    },
    "pycharm": {
     "name": "#%%\n"
    }
   },
   "outputs": [],
   "source": [
    "def get_length_2_arprt(\n",
    "        locality_name,\n",
    "        locality_type,\n",
    "        region='ленинградская область'):\n",
    "\n",
    "    address = (region, locality_type, locality_name)\n",
    "    address = ', '.join(address)\n",
    "    maps_url = 'https://geocode-maps.yandex.ru/1.x/'\n",
    "    keys = {'apikey': api_key,\n",
    "            'geocode': address,\n",
    "            'format': 'json',\n",
    "            'results': '1',\n",
    "            }\n",
    "\n",
    "    row_data = requests.get(maps_url, params=keys)\n",
    "    parsed = json.loads(row_data.text)\n",
    "    locality_position = (json.dumps(\n",
    "        parsed['response']['GeoObjectCollection']\n",
    "        ['featureMember'][0]['GeoObject']['Point']['pos']\n",
    "        , indent=4, ensure_ascii=False\n",
    "    )\n",
    "    )\n",
    "    locality_position = locality_position.replace('\\\"', '')\n",
    "    long, lat = locality_position.split(' ')\n",
    "    locality_long_lat = (float(long), float(lat))\n",
    "    dist_in_m = distance.distance(\n",
    "        locality_long_lat,\n",
    "        pulkovo_long_lat\n",
    "    ).m\n",
    "    return (float(round(dist_in_m)))"
   ]
  },
  {
   "cell_type": "code",
   "execution_count": null,
   "id": "430c2fd6-8ff0-45e4-b76f-be5ef7dd0718",
   "metadata": {
    "pycharm": {
     "name": "#%%\n"
    }
   },
   "outputs": [],
   "source": [
    "real_estate_data = pd.read_csv('./datasets/real_estate_data.csv', sep='\\t')"
   ]
  },
  {
   "cell_type": "code",
   "execution_count": null,
   "id": "d6e32cf8-1d41-47fb-a157-8988304dfb52",
   "metadata": {
    "pycharm": {
     "name": "#%%\n"
    }
   },
   "outputs": [],
   "source": [
    "display(real_estate_data['balcony'].unique())"
   ]
  },
  {
   "cell_type": "code",
   "execution_count": null,
   "id": "30bbf488-1da5-4998-8461-d039ca6099f8",
   "metadata": {
    "pycharm": {
     "name": "#%%\n"
    }
   },
   "outputs": [],
   "source": [
    "display(real_estate_data.head())"
   ]
  },
  {
   "cell_type": "markdown",
   "id": "abe153e8-9b1e-4ae5-8813-4602336bb9fe",
   "metadata": {
    "pycharm": {
     "name": "#%% md\n"
    }
   },
   "source": [
    "`'cityCenters_nearest'` → convert to snake case"
   ]
  },
  {
   "cell_type": "code",
   "execution_count": null,
   "id": "482cb0fa-c405-41d3-9985-681d47679d09",
   "metadata": {
    "pycharm": {
     "name": "#%%\n"
    }
   },
   "outputs": [],
   "source": [
    "real_estate_data.rename(columns={'cityCenters_nearest': 'city_centers_nearest'}, inplace=True)"
   ]
  },
  {
   "cell_type": "code",
   "execution_count": null,
   "id": "be05ce32-3653-48dc-9a00-2b0008ab25e7",
   "metadata": {
    "pycharm": {
     "name": "#%%\n"
    }
   },
   "outputs": [],
   "source": [
    "display(real_estate_data['is_apartment'].unique())"
   ]
  },
  {
   "cell_type": "code",
   "execution_count": null,
   "id": "a71ff794-c622-49bd-bdba-b6ffb3200aad",
   "metadata": {
    "pycharm": {
     "name": "#%%\n"
    }
   },
   "outputs": [],
   "source": [
    "display(real_estate_data['balcony'].unique())"
   ]
  },
  {
   "cell_type": "markdown",
   "id": "5175fda4-b2c8-4224-a156-19b4902a8458",
   "metadata": {
    "pycharm": {
     "name": "#%% md\n"
    }
   },
   "source": [
    "<div class=\"alert alert-info\" role=\"alert\">\n",
    "    <p class=\"mb-0\">Как получить <code>list</code> колонок с <code>NaN</code> нашёл на <code>stackoverflow</code> 👌</p>\n",
    "</div>"
   ]
  },
  {
   "cell_type": "code",
   "execution_count": null,
   "id": "77b68f07-b44e-4251-890f-3f883528d90b",
   "metadata": {
    "pycharm": {
     "name": "#%%\n"
    }
   },
   "outputs": [],
   "source": [
    "display(\n",
    "    real_estate_data.columns[real_estate_data.isna().any()].tolist()\n",
    ")"
   ]
  },
  {
   "cell_type": "markdown",
   "id": "7e7ce3df-ca13-4fe1-8ac0-327c6a022978",
   "metadata": {
    "pycharm": {
     "name": "#%% md\n"
    }
   },
   "source": [
    "Добро, вот с этими колонками нужно разобраться в них пропуски — `NaN`"
   ]
  },
  {
   "cell_type": "code",
   "execution_count": null,
   "id": "710b4b8e-f4cb-48fe-912b-f9d6f3d17d36",
   "metadata": {
    "pycharm": {
     "name": "#%%\n"
    }
   },
   "outputs": [],
   "source": [
    "display(real_estate_data.info())"
   ]
  },
  {
   "cell_type": "code",
   "execution_count": null,
   "id": "6d5deab3-2504-4439-983d-bd6a18189292",
   "metadata": {
    "pycharm": {
     "name": "#%%\n"
    }
   },
   "outputs": [],
   "source": [
    "\n",
    "for column in real_estate_data.columns:\n",
    "    count_of_nan = len(real_estate_data.loc[real_estate_data[column].isna()][column])\n",
    "    if count_of_nan > 0:\n",
    "        print(column, end=' NaN = ')\n",
    "        print(count_of_nan)\n",
    "        print(real_estate_data[column].describe(), end='\\n\\n')"
   ]
  },
  {
   "cell_type": "markdown",
   "id": "f018aba0-39ef-4403-a949-e3e3cb152abc",
   "metadata": {
    "pycharm": {
     "name": "#%% md\n"
    }
   },
   "source": [
    "## Шаг 2. Предобработка данных"
   ]
  },
  {
   "cell_type": "markdown",
   "id": "9ccfa6ec-5d03-48ab-a808-af3438bff92e",
   "metadata": {
    "pycharm": {
     "name": "#%% md\n"
    }
   },
   "source": [
    "### Определяем и изучаем пропущенные значения:"
   ]
  },
  {
   "cell_type": "code",
   "execution_count": null,
   "id": "1b2dcfae-848c-4830-a3fe-c72be1ac67bc",
   "metadata": {
    "pycharm": {
     "name": "#%%\n"
    }
   },
   "outputs": [],
   "source": [
    "display(\n",
    "    real_estate_data.columns[real_estate_data.isna().any()].tolist()\n",
    ")"
   ]
  },
  {
   "cell_type": "markdown",
   "id": "b1bdfa7c-e192-4fb5-b3be-d8933e759574",
   "metadata": {
    "pycharm": {
     "name": "#%% md\n"
    }
   },
   "source": [
    "    ❌ 'ceiling_height'\n",
    "    ❌ 'floors_total'\n",
    "    ❌ 'living_area'\n",
    "    ❌ 'is_apartment'\n",
    "    ❌ 'kitchen_area'\n",
    "    ❌ 'balcony'\n",
    "    ❌ 'locality_name'\n",
    "    ❌ 'airports_nearest'\n",
    "    ❌ 'city_centers_nearest'\n",
    "    ❌ 'parks_around3000'\n",
    "    ❌ 'parks_nearest'\n",
    "    ❌ 'ponds_around3000'\n",
    "    ❌ 'ponds_nearest'\n",
    "    ❌ 'days_exposition'"
   ]
  },
  {
   "cell_type": "markdown",
   "id": "506357ce-acb2-4cac-ac88-2ee9425b07b5",
   "metadata": {},
   "source": [
    "#### `is_apartment` NaN ❌"
   ]
  },
  {
   "cell_type": "markdown",
   "id": "04f88e1c-d62f-4e25-9a83-1e9fd89a4c95",
   "metadata": {
    "pycharm": {
     "name": "#%% md\n"
    }
   },
   "source": [
    "Скорее всего в `'is_apartment'` `NaN` там, где не отмечено `True`. То есть `NaN` — это просто `False`"
   ]
  },
  {
   "cell_type": "code",
   "execution_count": null,
   "id": "5371fec9-30af-49f8-b22d-8b333c437ef5",
   "metadata": {
    "pycharm": {
     "name": "#%%\n"
    }
   },
   "outputs": [],
   "source": [
    "real_estate_data['is_apartment'].fillna(value=False, inplace=True)"
   ]
  },
  {
   "cell_type": "markdown",
   "id": "3b0f2c83-351d-47d0-95cb-40c1e64547a2",
   "metadata": {},
   "source": [
    "#### `floor` NaN ❌"
   ]
  },
  {
   "cell_type": "markdown",
   "id": "7673d24a-1795-41ea-9887-c7ef7fde56f3",
   "metadata": {},
   "source": [
    "Проверим как связаны этаж и наличие балкона. Скорее всего, на первом этаже нет балкона."
   ]
  },
  {
   "cell_type": "code",
   "execution_count": null,
   "id": "30464d21-2f98-4143-bf85-bdbfe4219bbe",
   "metadata": {
    "pycharm": {
     "name": "#%%\n"
    }
   },
   "outputs": [],
   "source": [
    "display(\n",
    "    real_estate_data['floor'].loc[\n",
    "        (real_estate_data['balcony'].isna())\n",
    "    ].describe()\n",
    ")\n",
    "\n",
    "display(\n",
    "    real_estate_data['floor'].loc[\n",
    "        ~(real_estate_data['balcony'].isna())\n",
    "    ].describe()\n",
    ")\n",
    "\n",
    "display(\n",
    "    real_estate_data['floor'].loc[\n",
    "        (real_estate_data['balcony'].isna())\n",
    "        & (real_estate_data['floor'] == 1)\n",
    "    ].count()\n",
    ")"
   ]
  },
  {
   "cell_type": "markdown",
   "id": "b5355f20-0592-4a2d-b273-b412cfbc1f5e",
   "metadata": {
    "tags": []
   },
   "source": [
    "✔️ `'floor'`"
   ]
  },
  {
   "cell_type": "markdown",
   "id": "34697ce4-7025-4e00-b0af-1ba8f2945ac9",
   "metadata": {},
   "source": [
    "<hr>"
   ]
  },
  {
   "cell_type": "markdown",
   "id": "02f43656-5a35-4c0b-801b-a22a52f08e60",
   "metadata": {},
   "source": [
    "#### `balcony` NaN ❌"
   ]
  },
  {
   "cell_type": "code",
   "execution_count": null,
   "id": "4bf970fc-c9d4-4d82-b3ed-b56a9392836f",
   "metadata": {
    "pycharm": {
     "name": "#%%\n"
    }
   },
   "outputs": [],
   "source": [
    "(\n",
    "    real_estate_data['balcony'].loc[\n",
    "        (real_estate_data['balcony'].isna())\n",
    "        & (real_estate_data['floor'] == 1)\n",
    "    ].fillna(value=0, inplace=True)\n",
    ")"
   ]
  },
  {
   "cell_type": "code",
   "execution_count": null,
   "id": "a281eb93-47e5-4bfd-a913-5754a0ad686d",
   "metadata": {
    "pycharm": {
     "name": "#%%\n"
    }
   },
   "outputs": [],
   "source": [
    "display(\n",
    "    real_estate_data['balcony'].unique()\n",
    ")"
   ]
  },
  {
   "cell_type": "markdown",
   "id": "af7df53b-e720-4ed2-8f79-bc1121c8403c",
   "metadata": {
    "pycharm": {
     "name": "#%% md\n"
    }
   },
   "source": [
    "Временно заменим `NaN`в `balcony` на 108."
   ]
  },
  {
   "cell_type": "code",
   "execution_count": null,
   "id": "6fa82621-0a9e-4a3e-9f09-cd801bfc1a6f",
   "metadata": {
    "pycharm": {
     "name": "#%%\n"
    }
   },
   "outputs": [],
   "source": [
    "real_estate_data['balcony'].fillna(value=108, inplace=True)"
   ]
  },
  {
   "cell_type": "code",
   "execution_count": null,
   "id": "89427e9f-d1be-4492-9ddc-fd035a3f83a9",
   "metadata": {
    "pycharm": {
     "name": "#%%\n"
    }
   },
   "outputs": [],
   "source": [
    "display(\n",
    "    real_estate_data['balcony'].unique()\n",
    ")"
   ]
  },
  {
   "cell_type": "markdown",
   "id": "781f975e-9f8e-4f31-8050-d32b48d2268b",
   "metadata": {},
   "source": [
    "<hr>"
   ]
  },
  {
   "cell_type": "markdown",
   "id": "0947c6cf-c1cb-4b04-8c37-5752b4e32e44",
   "metadata": {},
   "source": [
    "#### `is_apartment` NaN ❌"
   ]
  },
  {
   "cell_type": "markdown",
   "id": "cd73f11d-94df-451d-be13-054688d43655",
   "metadata": {
    "pycharm": {
     "name": "#%% md\n"
    }
   },
   "source": [
    "Скорее всего в `'is_apartment'` `NaN` там, где не отмечено `True`. То есть `NaN` — это просто `False`"
   ]
  },
  {
   "cell_type": "code",
   "execution_count": null,
   "id": "9038fbc7-b96d-489b-89e9-7cce1f9eccdf",
   "metadata": {
    "pycharm": {
     "name": "#%%\n"
    },
    "tags": []
   },
   "outputs": [],
   "source": [
    "real_estate_data['is_apartment'].fillna(value=False, inplace=True)"
   ]
  },
  {
   "cell_type": "markdown",
   "id": "7595ba04-fe25-4ef6-8293-604fb8f5d008",
   "metadata": {
    "tags": []
   },
   "source": [
    "✔️ `'is_apartment'`"
   ]
  },
  {
   "cell_type": "markdown",
   "id": "13a9f11b-0879-424f-9409-d523d174dc34",
   "metadata": {},
   "source": [
    "<hr>"
   ]
  },
  {
   "cell_type": "markdown",
   "id": "af971707-e704-4029-9fcd-8bc49f20db2c",
   "metadata": {},
   "source": [
    "#### `locality_name` NaN ❌"
   ]
  },
  {
   "cell_type": "code",
   "execution_count": null,
   "id": "f3755c48-9c9c-432b-b38f-56f6e9a659b8",
   "metadata": {
    "pycharm": {
     "name": "#%%\n"
    }
   },
   "outputs": [],
   "source": [
    "display(\n",
    "    real_estate_data.loc[real_estate_data['locality_name'].isna()]\n",
    "                        .head(10)\n",
    ")"
   ]
  },
  {
   "cell_type": "markdown",
   "id": "d9a99ceb-9dfe-4d87-9646-5121ce9a5755",
   "metadata": {
    "pycharm": {
     "name": "#%% md\n"
    }
   },
   "source": [
    "**Предполагаю:**\n",
    "\n",
    "что стоит заменить пропущенные высоту потолков и количество этажей на медиану районных значений."
   ]
  },
  {
   "cell_type": "markdown",
   "id": "0a9610c8-a8ae-46bd-8c9d-55e8d934386d",
   "metadata": {
    "pycharm": {
     "name": "#%% md\n"
    }
   },
   "source": [
    "##### `'locality_name'` — сначала удалим неявные дубликаты"
   ]
  },
  {
   "cell_type": "code",
   "execution_count": null,
   "id": "d49946cc-06ef-4b89-ba98-7676b99a920e",
   "metadata": {
    "pycharm": {
     "name": "#%%\n"
    },
    "tags": []
   },
   "outputs": [],
   "source": [
    "real_estate_data['locality_name'].describe()"
   ]
  },
  {
   "cell_type": "markdown",
   "id": "31f685c8-dd2f-4ff1-ad4d-795bb0acb120",
   "metadata": {},
   "source": [
    "Заменим `NaN` в `'locality_name'` → на `'Санкт-Петербург'`.\n",
    "\n",
    "Пропусков всего 49 и `'Санкт-Петербург'` самое популярное значение. "
   ]
  },
  {
   "cell_type": "code",
   "execution_count": null,
   "id": "aa81f3c9-56d7-47fc-a309-a7123492da2d",
   "metadata": {
    "pycharm": {
     "name": "#%%\n"
    }
   },
   "outputs": [],
   "source": [
    "real_estate_data['locality_name'].fillna('Санкт-Петербург', inplace=True)"
   ]
  },
  {
   "cell_type": "markdown",
   "id": "a38222cf-bf11-4ad5-93ef-eb12b4616961",
   "metadata": {},
   "source": [
    "Функция `correct_name` меняет `'поселок'` на `'посёлок'`."
   ]
  },
  {
   "cell_type": "code",
   "execution_count": null,
   "id": "9c599702-86c7-4ea1-967f-cae15d4f3225",
   "metadata": {
    "pycharm": {
     "name": "#%%\n"
    }
   },
   "outputs": [],
   "source": [
    "print('уникальных названий всего:')\n",
    "print('используются поселок и посёлок:', len(real_estate_data['locality_name'].unique()))\n",
    "real_estate_data['locality_name'] = real_estate_data['locality_name'].apply(correct_name)\n",
    "print('используется только посёлок:', len(real_estate_data['locality_name'].unique()))"
   ]
  },
  {
   "cell_type": "markdown",
   "id": "a4f8dc62-a176-45cb-9fb9-21af5929c395",
   "metadata": {
    "pycharm": {
     "name": "#%% md\n"
    }
   },
   "source": [
    "type of location:\n",
    "'деревня'\n",
    "'садовое товарищество'\n",
    "'городской посёлок'\n",
    "'посёлок городского типа'\n",
    "'коттеджный посёлок'\n",
    "'посёлок при железнодорожной станции'\n",
    "'посёлок станции'\n",
    "'посёлок'\n",
    "'село'\n",
    "'садоводческое некоммерческое товарищество'"
   ]
  },
  {
   "cell_type": "markdown",
   "id": "4eaa04db-8a00-4755-bef1-0c1f3e549ec7",
   "metadata": {},
   "source": [
    "##### Добавим столбец с типом населённого пункта"
   ]
  },
  {
   "cell_type": "markdown",
   "id": "bb58e7e6-5649-4033-8ccb-4340af6807a5",
   "metadata": {
    "tags": []
   },
   "source": [
    "Функция `name_n_type` делит название `'locality_name'` на **название** и **тип** населённого пункта."
   ]
  },
  {
   "cell_type": "code",
   "execution_count": null,
   "id": "d3fd1a54-e95f-4fa5-94a9-8512b789cd91",
   "metadata": {
    "pycharm": {
     "name": "#%%\n"
    }
   },
   "outputs": [],
   "source": [
    "real_estate_data['locality_name'], real_estate_data['locality_type'] = (\n",
    "    zip(*real_estate_data['locality_name']\n",
    "    .apply(name_n_type))\n",
    ")"
   ]
  },
  {
   "cell_type": "code",
   "execution_count": null,
   "id": "6877acc9-cd79-4898-b407-8f07055d77af",
   "metadata": {
    "pycharm": {
     "name": "#%%\n"
    }
   },
   "outputs": [],
   "source": [
    "display(\n",
    "    real_estate_data.head()\n",
    ")"
   ]
  },
  {
   "cell_type": "code",
   "execution_count": null,
   "id": "fa09c97a-d9ec-4458-83e2-2735d1a7523c",
   "metadata": {
    "pycharm": {
     "name": "#%%\n"
    }
   },
   "outputs": [],
   "source": [
    "display(\n",
    "    real_estate_data['locality_type'].unique()\n",
    ")"
   ]
  },
  {
   "cell_type": "code",
   "execution_count": null,
   "id": "3eac3da5-a263-4d81-92af-57045dd9b58a",
   "metadata": {
    "pycharm": {
     "name": "#%%\n"
    }
   },
   "outputs": [],
   "source": [
    "real_estate_data.loc[real_estate_data['locality_name'] == 'посёлок 69-й километр', 'locality_name'] = '69-й километр'\n",
    "real_estate_data.loc[real_estate_data['locality_type'] == 'посёлок 69-й километр', 'locality_type'] = 'посёлок'"
   ]
  },
  {
   "cell_type": "code",
   "execution_count": null,
   "id": "9b2d790a-1d4a-443c-8e08-b9443f5a572d",
   "metadata": {
    "pycharm": {
     "name": "#%%\n"
    }
   },
   "outputs": [],
   "source": [
    "display(\n",
    "    real_estate_data['locality_type'].unique()\n",
    ")"
   ]
  },
  {
   "cell_type": "markdown",
   "id": "257c487f-207f-48c0-984a-e3ee0fd814b5",
   "metadata": {},
   "source": [
    "Сделаем справочник по типам населённых пунктов."
   ]
  },
  {
   "cell_type": "code",
   "execution_count": null,
   "id": "303ac006-05fc-40d9-a8ad-a48a912fa271",
   "metadata": {
    "pycharm": {
     "name": "#%%\n"
    }
   },
   "outputs": [],
   "source": [
    "locality_type_series = pd.Series(real_estate_data['locality_type'].unique())\n",
    "display(\n",
    "    locality_type_series\n",
    ")"
   ]
  },
  {
   "cell_type": "markdown",
   "id": "e7b1b401-eaf4-497b-8fed-7811e154b4a3",
   "metadata": {},
   "source": [
    "<hr>"
   ]
  },
  {
   "cell_type": "markdown",
   "id": "3163d71e-bb1d-4d4e-8909-3d63ed5a08ed",
   "metadata": {},
   "source": [
    "Переведём строковый тип населённого пункта `'locality_type'` в числовой."
   ]
  },
  {
   "cell_type": "code",
   "execution_count": null,
   "id": "614dd6e8-7be5-4b5f-bc1d-5102b8e8e371",
   "metadata": {
    "pycharm": {
     "name": "#%%\n"
    }
   },
   "outputs": [],
   "source": [
    "real_estate_data['locality_type'] = (\n",
    "    real_estate_data['locality_type'].apply(lambda x: \n",
    "        list(locality_type_series[locality_type_series == x].index)[0]\n",
    "    )\n",
    ")"
   ]
  },
  {
   "cell_type": "code",
   "execution_count": null,
   "id": "cd85c961-2add-4bec-923a-48be7f2c9578",
   "metadata": {
    "pycharm": {
     "name": "#%%\n"
    }
   },
   "outputs": [],
   "source": [
    "display(\n",
    "    real_estate_data.head()\n",
    ")"
   ]
  },
  {
   "cell_type": "code",
   "execution_count": null,
   "id": "d82bc808-6f3e-492c-8f27-684db9bef342",
   "metadata": {
    "pycharm": {
     "name": "#%%\n"
    }
   },
   "outputs": [],
   "source": [
    "real_estate_data = real_estate_data.astype(\n",
    "    {\n",
    "        'locality_name': 'category',\n",
    "        'locality_type': 'category',\n",
    "    }\n",
    ")"
   ]
  },
  {
   "cell_type": "markdown",
   "id": "ca5b1e4c-207f-4ab7-a280-7780104ce744",
   "metadata": {
    "pycharm": {
     "name": "#%% md\n"
    }
   },
   "source": [
    "Жаль что нет параметра `inplace` у функции `astype()`"
   ]
  },
  {
   "cell_type": "code",
   "execution_count": null,
   "id": "4a714f26-52df-4259-a0d8-5e9835b30a1a",
   "metadata": {
    "pycharm": {
     "name": "#%%\n"
    }
   },
   "outputs": [],
   "source": [
    "display(\n",
    "    real_estate_data['balcony'].unique()\n",
    ")"
   ]
  },
  {
   "cell_type": "code",
   "execution_count": null,
   "id": "395c93b5-9ab5-4233-a3cd-7cbfce6dd97c",
   "metadata": {
    "pycharm": {
     "name": "#%%\n"
    }
   },
   "outputs": [],
   "source": [
    "display(\n",
    "    real_estate_data.groupby(by=['locality_type'])['balcony'].median()\n",
    ")"
   ]
  },
  {
   "cell_type": "code",
   "execution_count": null,
   "id": "20c068a6-0f30-4ab2-882d-d6947c36afdc",
   "metadata": {
    "pycharm": {
     "name": "#%%\n"
    }
   },
   "outputs": [],
   "source": [
    "types_na_balcony = (\n",
    "    list(real_estate_data['locality_type']\n",
    "             .loc[real_estate_data['balcony'] == 108]\n",
    "             .unique())\n",
    ")\n",
    "\n",
    "for type_loc in types_na_balcony:\n",
    "    \n",
    "    balcony_mode_by_type = (\n",
    "        real_estate_data\n",
    "            .loc[(real_estate_data['locality_type'] == type_loc)\n",
    "                & ~(real_estate_data['balcony'] == 108), ['balcony']]\n",
    "            .mode()\n",
    "    )\n",
    "    \n",
    "    if len(balcony_mode_by_type.index) == 0:\n",
    "        balcony_mode_by_type = 0\n",
    "    elif len(balcony_mode_by_type.index) == 1:\n",
    "        balcony_mode_by_type = balcony_mode_by_type.iloc[0].item()\n",
    "    else:\n",
    "        balcony_mode_by_type = balcony_mode_by_type.sample().iloc[0].item()\n",
    "    \n",
    "    real_estate_data.loc[(real_estate_data['locality_type'] == type_loc)\n",
    "                & (real_estate_data['balcony'] == 108), 'balcony'] = (\n",
    "        real_estate_data\n",
    "            .loc[(real_estate_data['locality_type'] == type_loc)\n",
    "                & (real_estate_data['balcony'] == 108), 'balcony']\n",
    "            .apply(lambda x: balcony_mode_by_type if bool(random.getrandbits(1)) else 0)\n",
    "    )\n"
   ]
  },
  {
   "cell_type": "markdown",
   "id": "51713d0d-c17b-4a0c-b566-ed7c121fd15d",
   "metadata": {
    "pycharm": {
     "name": "#%%\n"
    },
    "tags": []
   },
   "source": [
    "display(\n",
    "    real_estate_data['balcony'].unique()\n",
    ")"
   ]
  },
  {
   "cell_type": "raw",
   "id": "456ca534-d09f-4b14-8ca0-632da5e7e045",
   "metadata": {
    "pycharm": {
     "name": "#%%\n"
    },
    "tags": []
   },
   "source": [
    "real_estate_data = real_estate_data.astype(\n",
    "    {'balcony': 'uint8'}\n",
    ")"
   ]
  },
  {
   "cell_type": "markdown",
   "id": "55917c3f-26c0-4e8d-853e-830b19b0385a",
   "metadata": {},
   "source": [
    "✔️ `'balcony'`"
   ]
  },
  {
   "cell_type": "markdown",
   "id": "6e7144f2-bf6a-4960-80c2-1b2ad7abc910",
   "metadata": {},
   "source": [
    "<hr>"
   ]
  },
  {
   "cell_type": "markdown",
   "id": "1add2c56-f35f-49dc-a920-bcc2b8779379",
   "metadata": {},
   "source": [
    "#### `ceiling_height` NaN ❌"
   ]
  },
  {
   "cell_type": "markdown",
   "id": "3df2f2ca-dd00-4250-af46-bbea07074fff",
   "metadata": {
    "pycharm": {
     "name": "#%% md\n"
    }
   },
   "source": [
    "Сделаем `NaN` медианным значением `ceiling_height` по типу населённого пункта."
   ]
  },
  {
   "cell_type": "code",
   "execution_count": null,
   "id": "6ee80d4b-0895-4d1c-a7ef-132021c810a2",
   "metadata": {
    "pycharm": {
     "name": "#%%\n"
    }
   },
   "outputs": [],
   "source": [
    "types_na_ceiling = (\n",
    "    list(real_estate_data['locality_type']\n",
    "             .loc[real_estate_data['ceiling_height'].isna()]\n",
    "             .unique())\n",
    ")\n",
    "\n",
    "for type_ceiling in types_na_ceiling:\n",
    "    \n",
    "    ceiling_median_by_type = (\n",
    "        real_estate_data\n",
    "            .loc[(real_estate_data['locality_type'] == type_ceiling)\n",
    "                & ~(real_estate_data['ceiling_height'].isna()), 'ceiling_height']\n",
    "            .median()\n",
    "    )\n",
    "    \n",
    "    if math.isnan(ceiling_median_by_type):\n",
    "        ceiling_median_by_type = real_estate_data['ceiling_height'].median()\n",
    "\n",
    "    real_estate_data.loc[\n",
    "        real_estate_data['locality_type'] == type_ceiling, \n",
    "        'ceiling_height'\n",
    "    ] = real_estate_data.loc[\n",
    "            real_estate_data['locality_type'] == type_ceiling, \n",
    "            'ceiling_height'\n",
    "        ].fillna(value=ceiling_median_by_type)\n",
    "\n",
    "# somehow .fillna(inplace=True) didn't work"
   ]
  },
  {
   "cell_type": "code",
   "execution_count": null,
   "id": "963a1720-8496-41d4-9aae-abf2fb754984",
   "metadata": {
    "pycharm": {
     "name": "#%%\n"
    }
   },
   "outputs": [],
   "source": [
    "display(\n",
    "    real_estate_data['ceiling_height'].describe()\n",
    ")"
   ]
  },
  {
   "cell_type": "markdown",
   "id": "a565b100-b813-4a87-886f-38428d55ae44",
   "metadata": {},
   "source": [
    "В `'ceiling_height'` есть значения, которые выглядят неправдоподобно.\n",
    "\n",
    "Например, меньше 2 метров или больше 20 метров…"
   ]
  },
  {
   "cell_type": "code",
   "execution_count": null,
   "id": "ab70d225-4390-4a44-b347-ae88a356834b",
   "metadata": {
    "pycharm": {
     "name": "#%%\n"
    }
   },
   "outputs": [],
   "source": [
    "types_odd_ceiling = (\n",
    "    list(real_estate_data.loc[\n",
    "            (real_estate_data['ceiling_height'] <= 2)\n",
    "            | (real_estate_data['ceiling_height'] > 60)\n",
    "            | ((real_estate_data['ceiling_height'] > 6)\n",
    "                & (real_estate_data['ceiling_height'] < 20)\n",
    "              ), 'locality_type'\n",
    "        ].unique()\n",
    "    )\n",
    ")\n",
    "\n",
    "for type_ceiling in types_odd_ceiling:\n",
    "    \n",
    "    ceiling_median_by_type = (\n",
    "        real_estate_data.loc[\n",
    "            (real_estate_data['locality_type'] == type_ceiling)\n",
    "                & (real_estate_data['ceiling_height'] <= 6)\n",
    "                & (real_estate_data['ceiling_height'] > 2)\n",
    "            , 'ceiling_height'\n",
    "        ].median()\n",
    "    )\n",
    "\n",
    "    display(ceiling_median_by_type)\n",
    "\n",
    "    if math.isnan(ceiling_median_by_type):\n",
    "        ceiling_median_by_type = real_estate_data['ceiling_height'].median()\n",
    "\n",
    "    real_estate_data.loc[\n",
    "            (real_estate_data['locality_type'] == type_ceiling)\n",
    "            & (real_estate_data['ceiling_height'] <= 2)\n",
    "            | (real_estate_data['ceiling_height'] > 60)\n",
    "            | ((real_estate_data['ceiling_height'] > 6)\n",
    "                & (real_estate_data['ceiling_height'] < 20)\n",
    "              )\n",
    "            , 'ceiling_height'\n",
    "    ] = ceiling_median_by_type"
   ]
  },
  {
   "cell_type": "code",
   "execution_count": null,
   "id": "67a7097a-c152-4ca5-8827-13e14880a2c9",
   "metadata": {
    "pycharm": {
     "name": "#%%\n"
    }
   },
   "outputs": [],
   "source": [
    "display(\n",
    "    real_estate_data['ceiling_height'].describe()\n",
    ")"
   ]
  },
  {
   "cell_type": "code",
   "execution_count": null,
   "id": "4b1691f3-7251-4848-977a-18900ba44259",
   "metadata": {
    "pycharm": {
     "name": "#%%\n"
    }
   },
   "outputs": [],
   "source": [
    "real_estate_data.loc[\n",
    "            (real_estate_data['ceiling_height'] >= 20)\n",
    "            & (real_estate_data['ceiling_height'] <= 60)\n",
    "            , 'ceiling_height'\n",
    "] = real_estate_data.loc[\n",
    "            (real_estate_data['ceiling_height'] >= 20)\n",
    "            & (real_estate_data['ceiling_height'] <= 60)\n",
    "            , 'ceiling_height'\n",
    "    ].apply(lambda x: x / 10)"
   ]
  },
  {
   "cell_type": "code",
   "execution_count": null,
   "id": "666f3d84-e36f-4c78-a85e-fe2b075b9e41",
   "metadata": {
    "pycharm": {
     "name": "#%%\n"
    }
   },
   "outputs": [],
   "source": [
    "display(\n",
    "    real_estate_data['ceiling_height'].describe()\n",
    ")"
   ]
  },
  {
   "cell_type": "markdown",
   "id": "198fdce8-773b-4fa3-8c85-d838ac81f151",
   "metadata": {},
   "source": [
    "✔️ `'ceiling_height'`"
   ]
  },
  {
   "cell_type": "markdown",
   "id": "33bdd6f5-45b8-4481-8ea5-d9b623acafbc",
   "metadata": {},
   "source": [
    "<hr>"
   ]
  },
  {
   "cell_type": "markdown",
   "id": "0b82ce71-3821-47f5-814e-9fbd15ce5f51",
   "metadata": {
    "toc-hr-collapsed": true
   },
   "source": [
    "#### `floors_total` NaN ❌"
   ]
  },
  {
   "cell_type": "markdown",
   "id": "e4f997ed-abe8-4544-88f2-692a908f3426",
   "metadata": {
    "pycharm": {
     "name": "#%% md\n"
    }
   },
   "source": [
    "сделаем `NaN` медианным значением `floors_total` по типу населённого пункта."
   ]
  },
  {
   "cell_type": "code",
   "execution_count": null,
   "id": "2a60893e-6eea-480e-853e-623925f69dbd",
   "metadata": {
    "pycharm": {
     "name": "#%%\n"
    }
   },
   "outputs": [],
   "source": [
    "display(\n",
    "    real_estate_data.loc[\n",
    "        real_estate_data['floors_total'].isna()\n",
    "    ].groupby(by='floor')['floor'].count()\n",
    ")"
   ]
  },
  {
   "cell_type": "markdown",
   "id": "aca04dfe-d19e-4bc2-904c-b90057b5f4aa",
   "metadata": {
    "pycharm": {
     "name": "#%% md\n"
    }
   },
   "source": [
    "Похоже, `'floors_total'` не зависит от `'floor'`."
   ]
  },
  {
   "cell_type": "code",
   "execution_count": null,
   "id": "c8b61f61-5fbf-499a-b023-d6cbc10629b8",
   "metadata": {
    "pycharm": {
     "name": "#%%\n"
    }
   },
   "outputs": [],
   "source": [
    "display(\n",
    "    real_estate_data.loc[real_estate_data['floor'] > real_estate_data['floors_total']]\n",
    ")"
   ]
  },
  {
   "cell_type": "markdown",
   "id": "0ff7549e-57a1-4da9-b173-dc3956fe6f46",
   "metadata": {},
   "source": [
    "Класс, значения `'floor'` не больше `'floors_total'`, явных противоречий нет."
   ]
  },
  {
   "cell_type": "code",
   "execution_count": null,
   "id": "9ac5e0da-18f0-420d-9abc-955378003127",
   "metadata": {
    "pycharm": {
     "name": "#%%\n"
    }
   },
   "outputs": [],
   "source": [
    "# display(\n",
    "#     real_estate_data.loc[\n",
    "#         real_estate_data['floors_total'].isna()\n",
    "#     ].sample(10)\n",
    "# )"
   ]
  },
  {
   "cell_type": "code",
   "execution_count": null,
   "id": "de7a7580-e21b-456c-9de2-bff284e96f10",
   "metadata": {
    "pycharm": {
     "name": "#%%\n"
    }
   },
   "outputs": [],
   "source": [
    "types_na_flrs_ttl = (\n",
    "    list(real_estate_data.loc[\n",
    "            (real_estate_data['floors_total'].isna())\n",
    "            , 'locality_type'\n",
    "        ].unique()\n",
    "    )\n",
    ")\n",
    "\n",
    "print(types_na_flrs_ttl)\n",
    "\n",
    "for type_flrs_ttl in types_na_flrs_ttl:\n",
    "    \n",
    "    flrs_ttl_median_by_type = (\n",
    "        real_estate_data.loc[\n",
    "            (real_estate_data['locality_type'] == type_flrs_ttl)\n",
    "            & ~(real_estate_data['floors_total'].isna())\n",
    "            , 'floors_total'\n",
    "        ].median()\n",
    "    )\n",
    "\n",
    "    print(flrs_ttl_median_by_type)\n",
    "    \n",
    "    if math.isnan(flrs_ttl_median_by_type):\n",
    "        flrs_ttl_median_by_type = real_estate_data['floors_total'].median()\n",
    "        print('NANы', flrs_ttl_median_by_type)\n",
    "   \n",
    "    real_estate_data.loc[\n",
    "            (real_estate_data['locality_type'] == type_flrs_ttl)\n",
    "            & (real_estate_data['floors_total'].isna())\n",
    "            , 'floors_total'\n",
    "    ] = flrs_ttl_median_by_type"
   ]
  },
  {
   "cell_type": "markdown",
   "id": "3a9c7877-ce4c-4c1e-8eda-648b7ea571ed",
   "metadata": {
    "pycharm": {
     "name": "#%% md\n"
    }
   },
   "source": [
    "🤦‍♂️"
   ]
  },
  {
   "cell_type": "code",
   "execution_count": null,
   "id": "990a89e0-9deb-453b-b99e-49e7378d0ac1",
   "metadata": {
    "pycharm": {
     "name": "#%%\n"
    }
   },
   "outputs": [],
   "source": [
    "#     why ↓ it's not working in for loop!?\n",
    "    \n",
    "    # real_estate_data.loc[\n",
    "    #     (real_estate_data['locality_type'] == type_flrs_ttl)\n",
    "    #     & (real_estate_data['floors_total'].isna())\n",
    "    #     , 'floors_total'\n",
    "    # ].fillna(value=flrs_ttl_median_by_type, inplace=True)"
   ]
  },
  {
   "cell_type": "code",
   "execution_count": null,
   "id": "626cd873-3e13-4799-a4a1-64081d619d50",
   "metadata": {
    "pycharm": {
     "name": "#%%\n"
    }
   },
   "outputs": [],
   "source": [
    "display(\n",
    "        real_estate_data['floors_total'].describe()\n",
    ")"
   ]
  },
  {
   "cell_type": "code",
   "execution_count": null,
   "id": "bd3fed4e-ab1a-4fad-b4f0-809b754b31f4",
   "metadata": {
    "pycharm": {
     "name": "#%%\n"
    }
   },
   "outputs": [],
   "source": [
    "display(\n",
    "    real_estate_data.loc[\n",
    "        real_estate_data['floor'] > real_estate_data['floors_total']\n",
    "        , 'floor'\n",
    "    ].describe()\n",
    ")"
   ]
  },
  {
   "cell_type": "code",
   "execution_count": null,
   "id": "0dae5de0-d660-4ad2-87a6-9069f5f3b611",
   "metadata": {
    "pycharm": {
     "name": "#%%\n"
    }
   },
   "outputs": [],
   "source": [
    "real_estate_data.loc[\n",
    "    (real_estate_data['floor'] > real_estate_data['floors_total'])\n",
    "    , 'floor'\n",
    "] = real_estate_data.loc[\n",
    "        (real_estate_data['floor'] > real_estate_data['floors_total'])\n",
    "        , 'floors_total'\n",
    "    ]"
   ]
  },
  {
   "cell_type": "code",
   "execution_count": null,
   "id": "6955fd46-df4d-4b83-a79e-b81593a31f5f",
   "metadata": {
    "pycharm": {
     "name": "#%%\n"
    }
   },
   "outputs": [],
   "source": [
    "display(\n",
    "    real_estate_data.loc[real_estate_data['floor'] > real_estate_data['floors_total'], 'floor'].count()\n",
    ")"
   ]
  },
  {
   "cell_type": "code",
   "execution_count": null,
   "id": "ab3660c7-671f-440b-b3b8-cebfdda6c312",
   "metadata": {
    "pycharm": {
     "name": "#%%\n"
    }
   },
   "outputs": [],
   "source": [
    "real_estate_data = real_estate_data.astype(\n",
    "    {'floors_total': 'uint8',}\n",
    ")"
   ]
  },
  {
   "cell_type": "markdown",
   "id": "480b5271-8ff1-4140-9753-21257d1d11b1",
   "metadata": {},
   "source": [
    "✔️ `'floors_total'`"
   ]
  },
  {
   "cell_type": "markdown",
   "id": "664657ba-cca5-467d-bf78-583a011c93c1",
   "metadata": {},
   "source": [
    "<hr>"
   ]
  },
  {
   "cell_type": "markdown",
   "id": "11d4cb05-4338-458b-ae44-cb47e70cb2ac",
   "metadata": {},
   "source": [
    "#### `living_area` NaN ❌"
   ]
  },
  {
   "cell_type": "markdown",
   "id": "6c77f486-1bd9-4eb5-9991-49d37ad42f32",
   "metadata": {
    "pycharm": {
     "name": "#%% md\n"
    }
   },
   "source": [
    "сделаем `NaN` медианным значением 'living_area' по диапазонам цен и по типу населённого пункта."
   ]
  },
  {
   "cell_type": "code",
   "execution_count": null,
   "id": "389d71ca-604d-4774-b607-ebc147990a50",
   "metadata": {
    "pycharm": {
     "name": "#%%\n"
    }
   },
   "outputs": [],
   "source": [
    "# display(\n",
    "#     real_estate_data.loc[\n",
    "#         real_estate_data['living_area'].isna()\n",
    "#         , 'floor'\n",
    "#     ].count()\n",
    "# )"
   ]
  },
  {
   "cell_type": "code",
   "execution_count": null,
   "id": "56cba6c3-837d-4c24-8e27-23dc90e055eb",
   "metadata": {
    "pycharm": {
     "name": "#%%\n"
    }
   },
   "outputs": [],
   "source": [
    "display(\n",
    "    real_estate_data['total_area'].describe()\n",
    ")"
   ]
  },
  {
   "cell_type": "code",
   "execution_count": null,
   "id": "02fe2057-e61e-4b14-be3b-8d3025c1e617",
   "metadata": {
    "pycharm": {
     "name": "#%%\n"
    }
   },
   "outputs": [],
   "source": [
    "display(\n",
    "    real_estate_data.loc[\n",
    "        real_estate_data['total_area'] > 450\n",
    "    ]\n",
    ")"
   ]
  },
  {
   "cell_type": "code",
   "execution_count": null,
   "id": "8b9557db-eb8c-4923-bad5-89a177073fad",
   "metadata": {
    "pycharm": {
     "name": "#%%\n"
    }
   },
   "outputs": [],
   "source": [
    "display(\n",
    "    real_estate_data['living_area'].describe()\n",
    ")"
   ]
  },
  {
   "cell_type": "raw",
   "id": "7bfa5e2e-ce2f-43d8-9792-d3b5ad534e50",
   "metadata": {
    "pycharm": {
     "name": "#%% raw\n"
    }
   },
   "source": [
    "# SKIPED\n",
    "\n",
    "types_na_living_area = (\n",
    "    list(real_estate_data.loc[\n",
    "            (real_estate_data['living_area'].isna())\n",
    "            , 'locality_type'\n",
    "        ].unique()\n",
    "    )\n",
    ")\n",
    "\n",
    "print(types_na_living_area)\n",
    "\n",
    "for type_living_area in types_na_living_area:\n",
    "    \n",
    "    living_area_median_by_type = (\n",
    "        real_estate_data.loc[\n",
    "            (real_estate_data['locality_type'] == type_living_area)\n",
    "            & ~(real_estate_data['living_area'].isna())\n",
    "            , 'living_area'\n",
    "        ].median()\n",
    "    )\n",
    "\n",
    "    print(living_area_median_by_type)\n",
    "    \n",
    "    \n",
    "    if math.isnan(living_area_median_by_type):\n",
    "        living_area_median_by_type = real_estate_data['living_area'].median()\n",
    "        print('NANы')\n",
    "        \n",
    "    real_estate_data.loc[\n",
    "            (real_estate_data['locality_type'] == type_living_area)\n",
    "            & (real_estate_data['living_area'].isna())\n",
    "            , 'living_area'\n",
    "    ] = living_area_median_by_type\n",
    "\n",
    "\n",
    "#     ¯\\_ツ_/¯ → inplace=True\n",
    "\n",
    "    # real_estate_data.loc[\n",
    "    #     (real_estate_data['locality_type'] == type_living_area)\n",
    "    #     & (real_estate_data['living_area'].isna())\n",
    "    #        , 'living_area'\n",
    "    # ].fillna(value=living_area_median_by_type, inplace=True)\n",
    "    \n",
    "    # real_estate_data.loc[\n",
    "    #     real_estate_data['locality_type'] == type_living_area\n",
    "    #        , 'living_area'\n",
    "    # ].fillna(value=living_area_median_by_type, inplace=True)"
   ]
  },
  {
   "cell_type": "code",
   "execution_count": null,
   "id": "f99c8ca4-d9b5-4966-b1a8-fb51df488734",
   "metadata": {
    "pycharm": {
     "name": "#%%\n"
    }
   },
   "outputs": [],
   "source": [
    "types_na_living_area = (\n",
    "    list(real_estate_data.loc[\n",
    "            (real_estate_data['living_area'].isna())\n",
    "            , 'locality_type'\n",
    "        ].unique()\n",
    "    )\n",
    ")\n",
    "\n",
    "for type_living_area in types_na_living_area:\n",
    "    \n",
    "    living_area_median_by_type = (\n",
    "        real_estate_data.loc[\n",
    "            (real_estate_data['locality_type'] == type_living_area)\n",
    "            & ~(real_estate_data['living_area'].isna())\n",
    "            , 'living_area'\n",
    "        ].median()\n",
    "    )\n",
    "    \n",
    "    living_part_median_by_type = round(pd.Series(\n",
    "        real_estate_data.loc[\n",
    "            (real_estate_data['locality_type'] == type_living_area)\n",
    "            & (real_estate_data['living_area'] > 8)\n",
    "            & ~(real_estate_data['living_area'].isna())\n",
    "            , 'living_area'\n",
    "        ] / real_estate_data.loc[\n",
    "            (real_estate_data['locality_type'] == type_living_area)\n",
    "            & (real_estate_data['living_area'] > 8)\n",
    "            & ~(real_estate_data['living_area'].isna())\n",
    "            , 'total_area'\n",
    "        ]\n",
    "    ).median(), 2)\n",
    "\n",
    "    if math.isnan(living_area_median_by_type):\n",
    "        living_area_median_by_type = real_estate_data['living_area'].median()\n",
    "        print('NANы')\n",
    "        \n",
    "    real_estate_data.loc[\n",
    "            (real_estate_data['locality_type'] == type_living_area)\n",
    "            & ((real_estate_data['living_area'].isna())\n",
    "            | (real_estate_data['living_area'] < 8))\n",
    "            , 'living_area'\n",
    "    ] = real_estate_data.loc[\n",
    "            (real_estate_data['locality_type'] == type_living_area)\n",
    "            & ((real_estate_data['living_area'].isna())\n",
    "            | (real_estate_data['living_area'] < 8))\n",
    "            , 'total_area'\n",
    "        ].apply(lambda x: x * living_part_median_by_type)"
   ]
  },
  {
   "cell_type": "code",
   "execution_count": null,
   "id": "88752809-7e48-4ee5-b185-e577aa63fde3",
   "metadata": {
    "pycharm": {
     "name": "#%%\n"
    }
   },
   "outputs": [],
   "source": [
    "display(\n",
    "    real_estate_data['living_area'].describe()\n",
    ")"
   ]
  },
  {
   "cell_type": "markdown",
   "id": "5f71cf48-9ce7-4e38-aa33-4736a584883d",
   "metadata": {},
   "source": [
    "✔️ `'living_area'`"
   ]
  },
  {
   "cell_type": "markdown",
   "id": "5844b890-3e91-41ba-a52f-d4209a559710",
   "metadata": {},
   "source": [
    "<hr>"
   ]
  },
  {
   "cell_type": "markdown",
   "id": "f9d85047-dee2-40da-929b-37c02a721f0e",
   "metadata": {},
   "source": [
    "#### `kitchen_area` NaN ❌"
   ]
  },
  {
   "cell_type": "markdown",
   "id": "f95247b8-8968-46af-8464-4383354e0564",
   "metadata": {
    "pycharm": {
     "name": "#%% md\n"
    }
   },
   "source": [
    "Допустим, если студия то `kitchen_area` → `NaN`, проверим.\n",
    "\n",
    "Если да, то сделаем `kitchen_area` → 0."
   ]
  },
  {
   "cell_type": "code",
   "execution_count": null,
   "id": "308115d9-16a8-4178-9618-7cfd4cf11cfd",
   "metadata": {
    "pycharm": {
     "name": "#%%\n"
    }
   },
   "outputs": [],
   "source": [
    "display(\n",
    "    real_estate_data.loc[real_estate_data['kitchen_area'].isna()\n",
    "        , 'living_area'\n",
    "    ].count()\n",
    ")"
   ]
  },
  {
   "cell_type": "code",
   "execution_count": null,
   "id": "da2f9853-efc8-4210-88e1-8edee0edc3db",
   "metadata": {
    "pycharm": {
     "name": "#%%\n"
    }
   },
   "outputs": [],
   "source": [
    "display(\n",
    "    real_estate_data.loc[\n",
    "        (real_estate_data['kitchen_area'].isna())\n",
    "        & (real_estate_data['studio'])\n",
    "        , 'living_area'\n",
    "    ].count()\n",
    ")"
   ]
  },
  {
   "cell_type": "code",
   "execution_count": null,
   "id": "a078d57b-971a-4617-83bf-607c5d03ed27",
   "metadata": {
    "pycharm": {
     "name": "#%%\n"
    }
   },
   "outputs": [],
   "source": [
    "display(\n",
    "    real_estate_data.loc[\n",
    "        ~ (real_estate_data['kitchen_area'].isna())\n",
    "        & (real_estate_data['studio'])\n",
    "        , 'living_area'\n",
    "    ].count()\n",
    ")"
   ]
  },
  {
   "cell_type": "markdown",
   "id": "7d0bf7d1-c527-4556-8c04-c8d641f0db85",
   "metadata": {
    "pycharm": {
     "name": "#%% md\n"
    }
   },
   "source": [
    "😏"
   ]
  },
  {
   "cell_type": "code",
   "execution_count": null,
   "id": "4dbbf68b-98ad-44a8-8b61-829d686777a2",
   "metadata": {
    "pycharm": {
     "name": "#%%\n"
    }
   },
   "outputs": [],
   "source": [
    "display(\n",
    "    real_estate_data.loc[\n",
    "        (real_estate_data['kitchen_area'].isna())\n",
    "        & (real_estate_data['is_apartment'])\n",
    "        , 'living_area'\n",
    "    ].count()\n",
    ")"
   ]
  },
  {
   "cell_type": "code",
   "execution_count": null,
   "id": "67da6036-6efd-4949-9ad3-c3f1681d6e8b",
   "metadata": {
    "pycharm": {
     "name": "#%%\n"
    }
   },
   "outputs": [],
   "source": [
    "display(\n",
    "    real_estate_data.loc[\n",
    "        ~ (real_estate_data['kitchen_area'].isna())\n",
    "        & (real_estate_data['is_apartment'])\n",
    "    ].sample(10)\n",
    ")"
   ]
  },
  {
   "cell_type": "code",
   "execution_count": null,
   "id": "6f45509d-5cc6-49f4-862b-bda92b4d4971",
   "metadata": {
    "pycharm": {
     "name": "#%%\n"
    }
   },
   "outputs": [],
   "source": [
    "real_estate_data.loc[\n",
    "        (real_estate_data['kitchen_area'].isna())\n",
    "        & ((real_estate_data['studio'])\n",
    "          | (real_estate_data['is_apartment']))\n",
    "        , 'kitchen_area'\n",
    "] = 0"
   ]
  },
  {
   "cell_type": "code",
   "execution_count": null,
   "id": "729fecd7-440f-4177-8f13-cdfaef85b36f",
   "metadata": {
    "pycharm": {
     "name": "#%%\n"
    }
   },
   "outputs": [],
   "source": [
    "types_na_kitchen_area = (\n",
    "    list(real_estate_data.loc[\n",
    "            (real_estate_data['kitchen_area'].isna())\n",
    "            , 'locality_type'\n",
    "        ].unique()\n",
    "    )\n",
    ")\n",
    "\n",
    "for type_kitchen_area in types_na_kitchen_area:\n",
    "    \n",
    "    kitchen_area_part_mdn_by_type = round(pd.Series(\n",
    "        real_estate_data.loc[\n",
    "            (real_estate_data['locality_type'] == type_kitchen_area)\n",
    "            & ~(real_estate_data['kitchen_area'].isna())\n",
    "            , 'kitchen_area'\n",
    "        ] / real_estate_data.loc[\n",
    "            (real_estate_data['locality_type'] == type_kitchen_area)\n",
    "            & ~(real_estate_data['kitchen_area'].isna())\n",
    "            , 'total_area'\n",
    "        ]\n",
    "    ).median(), 2)\n",
    "    \n",
    "    if math.isnan(kitchen_area_part_mdn_by_type):\n",
    "        print('NANы kitchen_area_part_mdn_by_type', type_kitchen_area)\n",
    "        \n",
    "    real_estate_data.loc[\n",
    "            (real_estate_data['locality_type'] == type_kitchen_area)\n",
    "            & (real_estate_data['kitchen_area'].isna())\n",
    "            , 'kitchen_area'\n",
    "    ] = real_estate_data.loc[\n",
    "            (real_estate_data['locality_type'] == type_kitchen_area)\n",
    "            & (real_estate_data['kitchen_area'].isna())\n",
    "            , 'total_area'\n",
    "        ].apply(lambda x: x * kitchen_area_part_mdn_by_type)"
   ]
  },
  {
   "cell_type": "code",
   "execution_count": null,
   "id": "688f10b2-3297-446b-be73-d674fa04aa4b",
   "metadata": {
    "pycharm": {
     "name": "#%%\n"
    }
   },
   "outputs": [],
   "source": [
    "display(\n",
    "    real_estate_data['kitchen_area'].describe()\n",
    ")"
   ]
  },
  {
   "cell_type": "markdown",
   "id": "722e547d-3c5a-4a44-be16-42b90cdddd0d",
   "metadata": {},
   "source": [
    "✔️ `'kitchen_area'`"
   ]
  },
  {
   "cell_type": "markdown",
   "id": "cfc355ba-2449-41d0-a2e7-497221330f10",
   "metadata": {},
   "source": [
    "<hr>"
   ]
  },
  {
   "cell_type": "markdown",
   "id": "b10fb34e-af6b-4d2e-990a-003e891a96fc",
   "metadata": {},
   "source": [
    "#### `airports_nearest` NaN ❌"
   ]
  },
  {
   "cell_type": "markdown",
   "id": "2a7ef3b2-ed22-44c6-9549-211e06e29936",
   "metadata": {
    "pycharm": {
     "name": "#%% md\n"
    }
   },
   "source": [
    "Проверим по типу населённого пункта.\n",
    "\n",
    "Может и нет ближайших аэропортов тогда `airports_nearest` → `NaN` сделаем 0."
   ]
  },
  {
   "cell_type": "code",
   "execution_count": null,
   "id": "6ff95363-6cfa-473f-b4ef-9bfbb9d757ad",
   "metadata": {
    "pycharm": {
     "name": "#%%\n"
    }
   },
   "outputs": [],
   "source": [
    "display(\n",
    "    real_estate_data['airports_nearest'].describe()\n",
    ")"
   ]
  },
  {
   "cell_type": "code",
   "execution_count": null,
   "id": "374824aa-8944-4857-b017-b6f1aae14a04",
   "metadata": {
    "pycharm": {
     "name": "#%%\n"
    }
   },
   "outputs": [],
   "source": [
    "# display(\n",
    "#     real_estate_data['airports_nearest'].info()\n",
    "# )"
   ]
  },
  {
   "cell_type": "code",
   "execution_count": null,
   "id": "7c7bf19d-8ec5-48b5-9a35-12e1feb0450c",
   "metadata": {
    "pycharm": {
     "name": "#%%\n"
    }
   },
   "outputs": [],
   "source": [
    "display(\n",
    "    real_estate_data.loc[\n",
    "        real_estate_data['airports_nearest'].isna()\n",
    "        , 'locality_type'\n",
    "    ].unique()\n",
    ")"
   ]
  },
  {
   "cell_type": "code",
   "execution_count": null,
   "id": "7f32c088-2aaa-44ee-8af6-4eacb1bd0c4a",
   "metadata": {
    "pycharm": {
     "name": "#%%\n"
    }
   },
   "outputs": [],
   "source": [
    "real_estate_data.loc[\n",
    "    real_estate_data['airports_nearest'] <= 3000\n",
    "    , 'airports_nearest'\n",
    "] = np.nan"
   ]
  },
  {
   "cell_type": "markdown",
   "id": "48dfc462",
   "metadata": {
    "pycharm": {
     "name": "#%% md\n"
    }
   },
   "source": [
    "geo :)\n",
    "Сделаем `DataFrame` расстояниями от центра населённого пункта до аэропорта «Пулково».\n",
    "\n",
    "Предпоожим, что это единственный аэропорт в Ленинградской Области и Санкт-Петербурге."
   ]
  },
  {
   "cell_type": "code",
   "execution_count": null,
   "id": "4dcaf34a",
   "metadata": {
    "collapsed": false,
    "jupyter": {
     "outputs_hidden": false
    },
    "pycharm": {
     "name": "#%%\n"
    }
   },
   "outputs": [],
   "source": [
    "airprt_columns = ('locality_name', 'locality_type', 'airprt_pulkovo')\n",
    "airprt_pulkovo_nrst = pd.DataFrame(columns=airprt_columns)\n",
    "airprt_pulkovo_nrst['locality_name'] = real_estate_data['locality_name'].unique()\n",
    "\n",
    "airprt_pulkovo_nrst['locality_type'] = (\n",
    "    airprt_pulkovo_nrst['locality_name']\n",
    "        .apply(lambda x:\n",
    "            locality_type_series.iloc[\n",
    "               real_estate_data.loc[\n",
    "                    real_estate_data['locality_name'] == x\n",
    "                    , 'locality_type'\n",
    "                ].sample(1).item()\n",
    "            ]\n",
    "        )\n",
    ")\n",
    "\n",
    "airprt_pulkovo_nrst['airprt_pulkovo'] = airprt_pulkovo_nrst.apply(\n",
    "    lambda x: get_length_2_arprt(locality_type=str(x[1]),  locality_name=str(x[0]))\n",
    "    ,axis=1\n",
    ")\n",
    "\n",
    "display(\n",
    "    airprt_pulkovo_nrst\n",
    ")"
   ]
  },
  {
   "cell_type": "markdown",
   "id": "e244c5ad-b13a-4907-8a9c-3816bd22071f",
   "metadata": {},
   "source": [
    "Словарь, на случай если закончились запросы к Yandex.Maps."
   ]
  },
  {
   "cell_type": "code",
   "execution_count": null,
   "id": "c1919477",
   "metadata": {
    "collapsed": false,
    "jupyter": {
     "outputs_hidden": false
    },
    "pycharm": {
     "name": "#%%\n"
    }
   },
   "outputs": [],
   "source": [
    "without_geo = {'Санкт-Петербург': 14315.0, 'Шушары': 12114.0, 'Янино-1': 35175.0, 'Парголово': 27207.0, 'Мурино': 30528.0, 'Ломоносов': 55794.0, 'Сертолово': 33605.0, 'Петергоф': 41071.0, 'Пушкин': 17850.0, 'Кудрово': 28907.0, 'Коммунар': 21903.0, 'Колпино': 36388.0, 'Красный Бор': 46244.0, 'Гатчина': 27642.0, 'Фёдоровское': 31725.0, 'Выборг': 190280.0, 'Кронштадт': 57870.0, 'Кировск': 79157.0, 'Новое Девяткино': 33673.0, 'Металлострой': 33632.0, 'Лебяжье': 85865.0, 'Сиверский': 48425.0, 'Молодцово': 92246.0, 'Кузьмоловский': 38805.0, 'Новая Ропша': 45108.0, 'Павловск': 21110.0, 'Пикколово': 17590.0, 'Всеволожск': 47554.0, 'Волхов': 231067.0, 'Кингисепп': 189494.0, 'Приозерск': 120272.0, 'Сестрорецк': 43533.0, 'Куттузи': 22949.0, 'Аннино': 24353.0, 'Ефимовский': 488800.0, 'Плодовое': 100751.0, 'Заклинье': 111442.0, 'Торковичи': 91185.0, 'Первомайское': 79893.0, 'Красное Село': 21392.0, 'Понтонный': 39635.0, 'Сясьстрой': 256016.0, 'Старая': 41209.0, 'Лесколово': 50172.0, 'Новый Свет': 24625.0, 'Сланцы': 250814.0, 'Путилово': 130547.0, 'Ивангород': 230997.0, 'Шлиссельбург': 85869.0, 'Никольское': 58207.0, 'Зеленогорск': 73307.0, 'Сосновый Бор': 130994.0, 'Оржицы': 62089.0, 'Кальтино': 46444.0, 'Романовка': 53296.0, 'Бугры': 29253.0, 'Рощино': 86119.0, 'Кириши': 195596.0, 'Луга': 112837.0, 'Волосово': 93509.0, 'Отрадное': 58156.0, 'Павлово': 67502.0, 'Оредеж': 94884.0, 'Копорье': 135738.0, 'Молодёжное': 97068.0, 'Тихвин': 363078.0, 'Победа': 106560.0, 'Нурма': 85336.0, 'Синявино': 104581.0, 'Тосно': 71468.0, 'Стрельна': 26735.0, 'Бокситогорск': 397866.0, 'Александровская': 197079.0, 'Лопухинка': 95449.0, 'Пикалёво': 434099.0, 'Терволово': 43181.0, 'Советский': 191244.0, 'Подпорожье': 444725.0, 'Петровское': 81636.0, 'Токсово': 43003.0, 'Сельцо': 113022.0, 'Вырица': 38084.0, 'Кипень': 47803.0, 'Келози': 50620.0, 'Вартемяги': 37207.0, 'Тельмана': 38545.0, 'Севастьяново': 132162.0, 'Большая Ижора': 78980.0, 'Агалатово': 40356.0, 'Новогорелово': 11587.0, 'Лесогорский': 196306.0, 'Лаголово': 29116.0, 'Цвелодубово': 97120.0, 'Рахья': 68928.0, 'Белогорка': 45992.0, 'Заводской': 55107.0, 'Новоселье': 21400.0, 'Большие Колпаны': 34343.0, 'Горбунки': 32156.0, 'Батово': 61927.0, 'Заневка': 30089.0, 'Иссад': 231778.0, 'Приморск': 191692.0, 'Мистолово': 34083.0, 'Новая Ладога': 228691.0, 'Зимитицы': 130114.0, 'Барышево': 114926.0, 'Разметелево': 45776.0, 'Свердлова': 40593.0, 'Пеники': 70569.0, 'Рябово': 101811.0, 'Пудомяги': 20058.0, 'Корнево': 58291.0, 'Низино': 43884.0, 'Бегуницы': 109020.0, 'Поляны': 123240.0, 'Мга': 87824.0, 'Елизаветино': 60776.0, 'Кузнечное': 134822.0, 'Колтуши': 44547.0, 'Запорожское': 79018.0, 'Гостилицы': 71972.0, 'Малое Карлино': 7278.0, 'Мичуринское': 85984.0, 'Морозова': 86398.0, 'Песочный': 88151.0, 'Сосново': 72957.0, 'Аро': 44388.0, 'Ильичёво': 73136.0, 'Тайцы': 21796.0, 'Малое Верево': 21382.0, 'Извара': 93307.0, 'Вещево': 145529.0, 'Паша': 310720.0, 'Калитино': 80290.0, 'Ульяновка': 85865.0, 'Чудской Бор': 134235.0, 'Дубровка': 73585.0, 'Мины': 38939.0, 'Войсковицы': 43548.0, 'Коркино': 113887.0, 'Ропша': 45740.0, 'Приладожский': 117497.0, 'Щеглово': 57841.0, 'Гаврилово': 156394.0, 'Лодейное Поле': 373503.0, 'Рабитицы': 104970.0, 'Никольский': 434204.0, 'Кузьмолово': 40057.0, 'Малые Колпаны': 33291.0, 'Петро-Славянка': 26751.0, 'Назия': 146004.0, 'Репино': 58800.0, 'Углово': 57897.0, 'Старая Малукса': 122944.0, 'Меньково': 44754.0, 'Старые Бегуницы': 106739.0, 'Сапёрный': 94240.0, 'Семрино': 27973.0, 'Глажево': 205228.0, 'Кобринское': 39560.0, 'Гарболово': 57689.0, 'Юкки': 30385.0, 'Приветнинское': 100485.0, 'Мануйлово': 162125.0, 'Пчева': 205365.0, 'Цвылёво': 325948.0, 'Мельниково': 122112.0, 'Пудость': 30912.0, 'Усть-Луга': 222531.0, 'Светогорск': 201116.0, 'Любань': 116705.0, 'Селезнёво': 205214.0, 'Каменногорск': 168411.0, 'Кривко': 75697.0, 'Глебычево': 183269.0, 'Парицы': 36148.0, 'Жилпосёлок': 562916.0, 'Войскорово': 33921.0, 'Стеклянный': 56440.0, 'Важины': 430627.0, 'Мыза-Ивановка': 28149.0, 'Русско-Высоцкое': 37727.0, 'Форносово': 38199.0, 'Старая Ладога': 225005.0, 'Житково': 135273.0, 'Виллози': 20780.0, 'Лампово': 53853.0, 'Шпаньково': 55595.0, 'Лаврики': 32934.0, 'Сумино': 92843.0, 'Возрождение': 177566.0, 'Старосиверская': 46211.0, 'Кикерино': 78050.0, 'Старое Хинколово': 50636.0, 'Пригородный': 28993.0, 'Торфяное': 107371.0, 'Будогощь': 246142.0, 'Суходолье': 92057.0, 'Красная Долина': 152144.0, 'Хапо-Ое': 53189.0, 'Дружная Горка': 52524.0, 'Лисий Нос': 35558.0, 'Яльгелево': 36992.0, 'Рождествено': 58092.0, 'Старополье': 200154.0, 'Левашово': 30104.0, 'Сяськелево': 53081.0, 'Камышовка': 146994.0, 'Лесная Поляна': 46710.0, 'Хязельки': 47880.0, 'Жилгородок': 42240.0, 'Ялгино': 340851.0, 'Новый Учхоз': 44620.0, 'Гончарово': 171460.0, 'Почап': 96293.0, 'Сапёрное': 94240.0, 'Платформа': 68493.0, 'Каложицы': 140887.0, 'Фалилеево': 150362.0, 'Пельгора': 112937.0, 'Торошковичи': 119943.0, 'Белоостров': 45330.0, 'Алексеевка': 169198.0, 'Серебрянский': 138481.0, 'Лукаши': 20202.0, 'Тарасово': 80842.0, 'Кингисеппский': 193006.0, 'Ушаки': 75003.0, 'Котлы': 168986.0, 'Сижно': 238349.0, 'Торосово': 82779.0, 'Форт Красная Горка': 104958.0, 'Новолисино': 59515.0, 'Громово': 86634.0, 'Глинка': 28120.0, 'Старая Пустошь': 49271.0, 'Коммунары': 108652.0, 'Починок': 113176.0, 'Вознесенье': 589006.0, 'Разбегаево': 37812.0, 'Гладкое': 66698.0, 'Тёсово-4': 101535.0, 'Бор': 355091.0, 'Коробицыно': 92007.0, 'Большая Вруда': 120252.0, 'Курковицы': 75929.0, 'Кобралово': 24984.0, 'Суоранда': 40220.0, 'Кондратьево': 247473.0, 'Счастье': 30682.0, 'Реброво': 258246.0, 'Тойворово': 50101.0, 'Семиозерье': 118854.0, 'Лесное': 56363.0, 'Совхозный': 446162.0, 'Ленинское': 62068.0, 'Суйда': 36242.0, 'Нижние Осельки': 44339.0, 'Свирь': 436789.0, 'Перово': 169523.0, 'Высоцк': 204984.0, 'Шум': 167635.0, 'Котельский': 169541.0, 'Лужайка': 220989.0, 'Большая Пустомержа': 158569.0, 'Красносельское': 112292.0, 'Вахнова Кара': 320440.0, 'Пижма': 30906.0, 'Кивеннапа Север': 77634.0, 'Ромашки': 102443.0, 'Каськово': 86794.0, 'Куровицы': 41973.0, 'Плоское': 100421.0, 'Кирпичное': 119228.0, 'Ям-Тесово': 93623.0, 'Раздолье': 75413.0, 'Терпилицы': 105090.0, 'Шугозеро': 436666.0, 'Ваганово': 87528.0, 'Пушное': 106081.0, 'Садко': 84687.0, 'Усть-Ижора': 37056.0, 'Выскатка': 243401.0, 'Свирьстрой': 394972.0, 'Кисельня': 208270.0, 'Трубников Бор': 134785.0, 'Высокоключевой': 36944.0, 'Пансионат Зелёный Бор': 116992.0, 'Ненимяки': 54384.0, 'Снегирёвка': 72608.0, 'Рапполово': 39316.0, 'Пустынка': 61528.0, 'Большой Сабск': 154145.0, 'Русско': 212440.0, 'Лупполово': 33824.0, 'Большое Рейзино': 30860.0, 'Малая Романовка': 55468.0, 'Дружноселье': 51307.0, 'Пчевжа': 233813.0, 'Володарское': 130361.0, 'Нижняя': 22336.0, 'Тихковицы': 51005.0, 'Борисова Грива': 81305.0, 'Дзержинского': 117110.0}"
   ]
  },
  {
   "cell_type": "code",
   "execution_count": null,
   "id": "10add619",
   "metadata": {
    "collapsed": false,
    "jupyter": {
     "outputs_hidden": false
    },
    "pycharm": {
     "name": "#%%\n"
    }
   },
   "outputs": [],
   "source": [
    "real_estate_data.loc[\n",
    "    real_estate_data['airports_nearest'].isna()\n",
    "    , 'airports_nearest'\n",
    "] = real_estate_data.loc[\n",
    "        real_estate_data['airports_nearest'].isna()\n",
    "        , 'locality_name'\n",
    "    ].apply(lambda x:\n",
    "                airprt_pulkovo_nrst.loc[\n",
    "                    airprt_pulkovo_nrst['locality_name'] == x\n",
    "                    , 'airprt_pulkovo'\n",
    "                ].item()\n",
    "            )"
   ]
  },
  {
   "cell_type": "code",
   "execution_count": null,
   "id": "472d02c2",
   "metadata": {
    "collapsed": false,
    "jupyter": {
     "outputs_hidden": false
    },
    "pycharm": {
     "name": "#%%\n"
    }
   },
   "outputs": [],
   "source": [
    "display(\n",
    "    real_estate_data['airports_nearest'].describe(),\n",
    "    \n",
    "    real_estate_data.loc[\n",
    "        real_estate_data['airports_nearest'] >= 300_000\n",
    "        , 'airports_nearest'\n",
    "    ]\n",
    ")"
   ]
  },
  {
   "cell_type": "raw",
   "id": "f45ef434-4cf7-46f4-8628-b948ab17cb14",
   "metadata": {
    "jupyter": {
     "outputs_hidden": false
    },
    "pycharm": {
     "name": "#%%\n"
    }
   },
   "source": [
    "print(\n",
    "    airprt_pulkovo_nrst.set_index('locality_name')['airprt_pulkovo'].to_dict()\n",
    ")"
   ]
  },
  {
   "cell_type": "code",
   "execution_count": null,
   "id": "63ca71ba-f43e-4288-8ce3-1f71fc9bed74",
   "metadata": {
    "pycharm": {
     "name": "#%%\n"
    }
   },
   "outputs": [],
   "source": [
    "# real_estate_data = real_estate_data.astype(\n",
    "#     {'airports_nearest': 'int32', }\n",
    "# )"
   ]
  },
  {
   "cell_type": "markdown",
   "id": "618c3d8f-7b9a-4323-8d6a-73e78fcf67de",
   "metadata": {},
   "source": [
    "✔️ `'airports_nearest'`"
   ]
  },
  {
   "cell_type": "markdown",
   "id": "604f56e5-3a5c-4e10-ad46-a9331327bc12",
   "metadata": {},
   "source": [
    "<hr>"
   ]
  },
  {
   "cell_type": "markdown",
   "id": "49fe28b8-dc9f-4e4b-b3c5-62148b47b86d",
   "metadata": {},
   "source": [
    "#### `city_centers_nearest` NaN ❌"
   ]
  },
  {
   "cell_type": "markdown",
   "id": "e95e8e86",
   "metadata": {
    "pycharm": {
     "name": "#%% md\n"
    }
   },
   "source": [
    "Проверим по типу населённого пункта, может и нет ближайших центров города тогда `city_centers_nearest` → `NaN` = 0."
   ]
  },
  {
   "cell_type": "code",
   "execution_count": null,
   "id": "f9871fae-f5e3-47df-ab51-600d32667460",
   "metadata": {
    "pycharm": {
     "name": "#%%\n"
    }
   },
   "outputs": [],
   "source": [
    "display(\n",
    "    len(real_estate_data.loc[\n",
    "        ~real_estate_data['city_centers_nearest'].isna()\n",
    "        , 'locality_name'\n",
    "    ].unique())\n",
    ")"
   ]
  },
  {
   "cell_type": "code",
   "execution_count": null,
   "id": "d2eb74f4",
   "metadata": {
    "collapsed": false,
    "jupyter": {
     "outputs_hidden": false
    },
    "pycharm": {
     "name": "#%%\n"
    }
   },
   "outputs": [],
   "source": [
    "display(\n",
    "    len(\n",
    "        real_estate_data.loc[\n",
    "            real_estate_data['city_centers_nearest'].isna()\n",
    "            , 'locality_name'\n",
    "        ].unique()\n",
    "    )\n",
    ")"
   ]
  },
  {
   "cell_type": "markdown",
   "id": "ce8b6a3f-f6b7-4542-b552-e63c839471d1",
   "metadata": {},
   "source": [
    "Локаций с пропущенным `'city_centers_nearest'` явно больше…"
   ]
  },
  {
   "cell_type": "markdown",
   "id": "6b310f25-0cdb-4952-90c3-227a37afb70b",
   "metadata": {},
   "source": [
    "Для локации `'Санкт-Петербург'` заменим `NaN` на медиану."
   ]
  },
  {
   "cell_type": "code",
   "execution_count": null,
   "id": "8cd3fce9",
   "metadata": {
    "collapsed": false,
    "jupyter": {
     "outputs_hidden": false
    },
    "pycharm": {
     "name": "#%%\n"
    }
   },
   "outputs": [],
   "source": [
    "real_estate_data.loc[\n",
    "    (real_estate_data['city_centers_nearest'].isna())\n",
    "    & (real_estate_data['locality_name'] == 'Санкт-Петербург')\n",
    "    , 'city_centers_nearest'\n",
    "] = real_estate_data.loc[\n",
    "        (~real_estate_data['city_centers_nearest'].isna())\n",
    "        & (real_estate_data['locality_name'] == 'Санкт-Петербург')\n",
    "        , 'city_centers_nearest'\n",
    "    ].median()"
   ]
  },
  {
   "cell_type": "markdown",
   "id": "b4ae5cb8-e168-43c4-b00a-05b5e2b7b19b",
   "metadata": {},
   "source": [
    "Создадим `DataFrame` где будут имя локации, тип населённого пункта, расстояние до Заячьего Острова в СПб."
   ]
  },
  {
   "cell_type": "code",
   "execution_count": null,
   "id": "5fa10d99",
   "metadata": {
    "collapsed": false,
    "jupyter": {
     "outputs_hidden": false
    },
    "pycharm": {
     "name": "#%%\n"
    }
   },
   "outputs": [],
   "source": [
    "columns = ('locality_name', 'locality_type', 'dist_to_center')\n",
    "dist_to_hares_island = pd.DataFrame(columns=columns)\n",
    "\n",
    "dist_to_hares_island['locality_name'] = (\n",
    "    real_estate_data.loc[\n",
    "        real_estate_data['city_centers_nearest'].isna()\n",
    "        , 'locality_name'\n",
    "    ].unique()\n",
    ")\n",
    "dist_to_hares_island.reset_index(drop=True, inplace=True)\n",
    "\n",
    "# airprt_pulkovo_nrst['locality_type'] = (\n",
    "#     airprt_pulkovo_nrst['locality_name']\n",
    "#         .apply(lambda x:\n",
    "#                locality_type_series.iloc[\n",
    "#                    real_estate_data.loc[\n",
    "#                        real_estate_data['locality_name'] == x\n",
    "#                        , 'locality_type'\n",
    "#                    ].sample(1).item()\n",
    "#                ]\n",
    "#                )\n",
    "# )\n",
    "\n",
    "dist_to_hares_island['locality_type'] = (\n",
    "    dist_to_hares_island['locality_name']\n",
    "        .apply(lambda z: locality_type_series.iloc[\n",
    "                real_estate_data.loc[\n",
    "                    real_estate_data['locality_name'] == z\n",
    "                    , 'locality_type'\n",
    "                ].sample(1).item()\n",
    "            ]\n",
    "        )\n",
    ")\n",
    "\n",
    "display(\n",
    "    dist_to_hares_island.sample(7)\n",
    ")"
   ]
  },
  {
   "cell_type": "markdown",
   "id": "c30a5382-1a95-455e-9641-5f1cefcbc2ab",
   "metadata": {},
   "source": [
    "Функция возвращает расстояние от центра населённого пункта до Заячьего Острова в Санкт-Петербурге.\n",
    "\n",
    "Конечно, `API` **Yandex.Maps** можно использовать более умело. То есть искать расстояние до центра ближайшего города, а не только до Заячьего Острова. В этом решении только обозначим возможность получить данные, чтобы заполнить `NaN` в `'city_centers_nearest'`."
   ]
  },
  {
   "cell_type": "code",
   "execution_count": null,
   "id": "704c35d1",
   "metadata": {
    "collapsed": false,
    "jupyter": {
     "outputs_hidden": false
    },
    "pycharm": {
     "name": "#%%\n"
    }
   },
   "outputs": [],
   "source": [
    "def to_hares_island(\n",
    "        locality_name,\n",
    "        locality_type,\n",
    "        region='ленинградская область'):\n",
    "\n",
    "    address = (region, locality_type, locality_name)\n",
    "    address = ', '.join(address)\n",
    "    maps_url = 'https://geocode-maps.yandex.ru/1.x/'\n",
    "    keys = {'apikey': api_key,\n",
    "            'geocode': address,\n",
    "            'format': 'json',\n",
    "            'results': '1',\n",
    "            }\n",
    "\n",
    "    row_data = requests.get(maps_url, params=keys)\n",
    "    parsed = json.loads(row_data.text)\n",
    "    locality_position = (json.dumps(\n",
    "        parsed['response']['GeoObjectCollection']\n",
    "        ['featureMember'][0]['GeoObject']['Point']['pos']\n",
    "        , indent=4, ensure_ascii=False\n",
    "    )\n",
    "    )\n",
    "    locality_position = locality_position.replace('\\\"', '')\n",
    "    long, lat = locality_position.split(' ')\n",
    "    locality_long_lat = (float(long), float(lat))\n",
    "    dist_in_m = distance.distance(\n",
    "        locality_long_lat,\n",
    "        hares_island_long_lat\n",
    "    ).m\n",
    "    return (float(round(dist_in_m)))"
   ]
  },
  {
   "cell_type": "code",
   "execution_count": null,
   "id": "295cc49f",
   "metadata": {
    "collapsed": false,
    "jupyter": {
     "outputs_hidden": false
    },
    "pycharm": {
     "name": "#%%\n"
    }
   },
   "outputs": [],
   "source": [
    "dist_to_hares_island['dist_to_center'] = dist_to_hares_island.apply(\n",
    "    lambda x: to_hares_island(locality_type=str(x[1]),  locality_name=str(x[0]))\n",
    "    ,axis=1\n",
    ")"
   ]
  },
  {
   "cell_type": "code",
   "execution_count": null,
   "id": "04c43c9a",
   "metadata": {
    "collapsed": false,
    "jupyter": {
     "outputs_hidden": false
    },
    "pycharm": {
     "name": "#%%\n"
    }
   },
   "outputs": [],
   "source": [
    "# display(\n",
    "#     dist_to_hares_island.sample(7)\n",
    "# )"
   ]
  },
  {
   "cell_type": "raw",
   "id": "e23f9c84",
   "metadata": {
    "pycharm": {
     "name": "#%% raw\n"
    }
   },
   "source": [
    "dist_to_hares_island.set_index('locality_name', inplace=True)\n",
    "display(dist_to_hares_island)"
   ]
  },
  {
   "cell_type": "raw",
   "id": "5a4edbbe",
   "metadata": {
    "pycharm": {
     "name": "#%% raw\n"
    }
   },
   "source": [
    "dist_to_hares_island.reset_index(drop=True, inplace=True)\n",
    "display(dist_to_hares_island)"
   ]
  },
  {
   "cell_type": "code",
   "execution_count": null,
   "id": "bbc2daa6",
   "metadata": {
    "pycharm": {
     "name": "#%%\n"
    },
    "tags": []
   },
   "outputs": [],
   "source": [
    "real_estate_data.loc[\n",
    "    real_estate_data['city_centers_nearest'].isna()\n",
    "    , 'city_centers_nearest'\n",
    "] = real_estate_data.loc[\n",
    "        real_estate_data['city_centers_nearest'].isna()\n",
    "        , ['locality_name', 'locality_type']\n",
    "    ].apply(lambda x:\n",
    "                dist_to_hares_island.loc[\n",
    "                    dist_to_hares_island['locality_name'] == x['locality_name']\n",
    "                    , 'dist_to_center'\n",
    "                ].item()\n",
    "            , axis=1\n",
    "            )\n",
    "\n",
    "display(\n",
    "    real_estate_data['city_centers_nearest'].describe()\n",
    ")"
   ]
  },
  {
   "cell_type": "markdown",
   "id": "bf4c6f76-83eb-4fba-9a6b-a3398022e5ec",
   "metadata": {},
   "source": [
    "✔️ `'city_centers_nearest'`"
   ]
  },
  {
   "cell_type": "markdown",
   "id": "3909e0d9-4d27-4f03-840d-7c45ca26220d",
   "metadata": {},
   "source": [
    "<hr>"
   ]
  },
  {
   "cell_type": "markdown",
   "id": "5df95c22-696c-4ac9-9690-22b216cb6f5e",
   "metadata": {},
   "source": [
    "#### `parks_around3000` NaN ❌"
   ]
  },
  {
   "cell_type": "code",
   "execution_count": null,
   "id": "bd9e3436",
   "metadata": {
    "collapsed": false,
    "jupyter": {
     "outputs_hidden": false
    },
    "pycharm": {
     "name": "#%%\n"
    }
   },
   "outputs": [],
   "source": [
    "display(\n",
    "    real_estate_data.loc[\n",
    "        ~(real_estate_data['parks_around3000'].isna())\n",
    "        & (real_estate_data['locality_name'] == 'Санкт-Петербург')\n",
    "        # , 'parks_around3000'\n",
    "    ].groupby(by='parks_around3000')['parks_around3000'].count()\n",
    ")"
   ]
  },
  {
   "cell_type": "code",
   "execution_count": null,
   "id": "84977485",
   "metadata": {
    "collapsed": false,
    "jupyter": {
     "outputs_hidden": false
    },
    "pycharm": {
     "name": "#%%\n"
    }
   },
   "outputs": [],
   "source": [
    "display(\n",
    "    list(real_estate_data.loc[\n",
    "             real_estate_data['parks_around3000'].isna(),\n",
    "             'locality_type'\n",
    "         ].unique()\n",
    "     )\n",
    ")"
   ]
  },
  {
   "cell_type": "markdown",
   "id": "4c26bedb-1b5b-400a-81a7-8c990a89590c",
   "metadata": {},
   "source": [
    "Для городов заполним `NaN` в `parks_around3000` значениями из выборки.\n",
    "\n",
    "Для этого посчитаем \"вес\" или вероятность каждого уникального значения `parks_around3000` для **городов**."
   ]
  },
  {
   "cell_type": "code",
   "execution_count": null,
   "id": "05013048",
   "metadata": {
    "collapsed": false,
    "jupyter": {
     "outputs_hidden": false
    },
    "pycharm": {
     "name": "#%%\n"
    }
   },
   "outputs": [],
   "source": [
    "parks_prbblt_columns = ('parks_nrst', 'items_count', 'item_probability')\n",
    "parks_probability_df = pd.DataFrame(columns=parks_prbblt_columns)\n",
    "\n",
    "parks_probability_df['parks_nrst'] = (\n",
    "    real_estate_data.loc[\n",
    "        (real_estate_data['locality_type'] == 0)\n",
    "        & ~(real_estate_data['parks_around3000'].isna())\n",
    "        , 'parks_around3000'\n",
    "    ].unique()\n",
    ")\n",
    "\n",
    "parks_probability_df['items_count'] = (\n",
    "    parks_probability_df['parks_nrst'].apply(\n",
    "        lambda x: real_estate_data.loc[\n",
    "            (real_estate_data['locality_type'] == 0)\n",
    "            & (real_estate_data['parks_around3000'] == x)\n",
    "            , 'parks_around3000'\n",
    "        ].count()\n",
    "    )\n",
    ")\n",
    "\n",
    "parks_probability_df['item_probability'] = (\n",
    "    parks_probability_df['items_count'].apply(\n",
    "        lambda x: round(x / parks_probability_df['items_count'].sum(), 3)\n",
    "    )\n",
    ")"
   ]
  },
  {
   "cell_type": "code",
   "execution_count": null,
   "id": "fefa21b6",
   "metadata": {
    "collapsed": false,
    "jupyter": {
     "outputs_hidden": false
    },
    "pycharm": {
     "name": "#%%\n"
    }
   },
   "outputs": [],
   "source": [
    "display(\n",
    "    parks_probability_df\n",
    ")"
   ]
  },
  {
   "cell_type": "markdown",
   "id": "f972d2e1-bd5c-4cba-b32f-dca903cae786",
   "metadata": {},
   "source": [
    "Теперь заполним `NaN` в `parks_around3000` значениями из выборки.\n",
    "\n",
    "Случайным выбором из возможных вариантов. Выбор варианта обусловлен вероятностью его появления в выборке."
   ]
  },
  {
   "cell_type": "code",
   "execution_count": null,
   "id": "8beb2814",
   "metadata": {
    "collapsed": false,
    "jupyter": {
     "outputs_hidden": false
    },
    "pycharm": {
     "name": "#%%\n"
    }
   },
   "outputs": [],
   "source": [
    "real_estate_data.loc[\n",
    "    (real_estate_data['locality_type'] == 0)\n",
    "    & (real_estate_data['parks_around3000'].isna())\n",
    "    , 'parks_around3000'\n",
    "] = random.choices(\n",
    "        parks_probability_df['parks_nrst']\n",
    "        , weights=parks_probability_df['item_probability']\n",
    "        , k=len(real_estate_data.loc[\n",
    "                    (real_estate_data['locality_type'] == 0)\n",
    "                    & (real_estate_data['parks_around3000'].isna())\n",
    "                    , 'parks_around3000'\n",
    "                ]\n",
    "            )\n",
    "    )"
   ]
  },
  {
   "cell_type": "markdown",
   "id": "90cc85f4-ff4a-480e-807c-18b887466ffe",
   "metadata": {},
   "source": [
    "Для остальных типов населённых пунктов, кроме городов заполним `median()` по типу населённого пункта. Если `median()` опроеделить не возможно, то заполняем `NaN` → `0`. "
   ]
  },
  {
   "cell_type": "code",
   "execution_count": null,
   "id": "1d998f82",
   "metadata": {
    "pycharm": {
     "name": "#%%\n"
    },
    "tags": []
   },
   "outputs": [],
   "source": [
    "real_estate_data.loc[\n",
    "    (real_estate_data['locality_type'] != 0)\n",
    "    & (real_estate_data['parks_around3000'].isna())\n",
    "    ,'parks_around3000'\n",
    "] = real_estate_data.loc[\n",
    "                (real_estate_data['locality_type'] != 0)\n",
    "                & (real_estate_data['parks_around3000'].isna())\n",
    "                ,'locality_name'\n",
    "            ].apply(lambda x: 0\n",
    "                if np.isnan(real_estate_data.loc[\n",
    "                            (real_estate_data['locality_name'] == x)\n",
    "                            , 'parks_around3000'\n",
    "                        ].median())\n",
    "                else (real_estate_data.loc[\n",
    "                          (real_estate_data['locality_name'] == x)\n",
    "                          , 'parks_around3000'\n",
    "                      ].median())\n",
    "            )\n"
   ]
  },
  {
   "cell_type": "code",
   "execution_count": null,
   "id": "c375b55f",
   "metadata": {
    "collapsed": false,
    "jupyter": {
     "outputs_hidden": false
    },
    "pycharm": {
     "name": "#%%\n"
    }
   },
   "outputs": [],
   "source": [
    "# display(\n",
    "#     real_estate_data['parks_around3000'].describe()\n",
    "# )"
   ]
  },
  {
   "cell_type": "markdown",
   "id": "b2562a24-4260-4bca-b9d8-76a084e578a5",
   "metadata": {},
   "source": [
    "✔️ `'parks_around3000'`"
   ]
  },
  {
   "cell_type": "markdown",
   "id": "b9578680-57f3-4dd0-a628-c84bb51d5802",
   "metadata": {},
   "source": [
    "<hr>"
   ]
  },
  {
   "cell_type": "markdown",
   "id": "7e87aad5-2a58-4631-8d9b-ed17ffe45eb2",
   "metadata": {},
   "source": [
    "#### `parks_nearest` NaN ❌"
   ]
  },
  {
   "cell_type": "code",
   "execution_count": null,
   "id": "503ea0f9",
   "metadata": {
    "collapsed": false,
    "jupyter": {
     "outputs_hidden": false
    },
    "pycharm": {
     "name": "#%%\n"
    }
   },
   "outputs": [],
   "source": [
    "display(\n",
    "    real_estate_data.loc[real_estate_data['parks_nearest'] <= 10],\n",
    "    real_estate_data['parks_nearest'].describe()\n",
    ")"
   ]
  },
  {
   "cell_type": "markdown",
   "id": "f29c2554-292a-4a10-b112-4c03ac30ae3b",
   "metadata": {},
   "source": [
    "Если парков в округе нет, то поставим заведомо невозможное значение. То есть `8888` м значительно больше `3000` м."
   ]
  },
  {
   "cell_type": "code",
   "execution_count": null,
   "id": "22ce8f68",
   "metadata": {
    "collapsed": false,
    "jupyter": {
     "outputs_hidden": false
    },
    "pycharm": {
     "name": "#%%\n"
    }
   },
   "outputs": [],
   "source": [
    "real_estate_data.loc[(real_estate_data['parks_nearest'].isna())\n",
    "                    & (real_estate_data['parks_around3000'] == 0)\n",
    "                    , 'parks_nearest'\n",
    "] = 8888\n"
   ]
  },
  {
   "cell_type": "code",
   "execution_count": null,
   "id": "3ccb2dff",
   "metadata": {
    "collapsed": false,
    "jupyter": {
     "outputs_hidden": false
    },
    "pycharm": {
     "name": "#%%\n"
    }
   },
   "outputs": [],
   "source": [
    "types_na_parks_nrst = pd.Series(\n",
    "                real_estate_data.loc[\n",
    "                    real_estate_data['parks_nearest'].isna()\n",
    "                    , 'locality_name'\n",
    "                ].unique()\n",
    ")\n",
    "\n",
    "display(types_na_parks_nrst)\n",
    "\n",
    "real_estate_data.loc[real_estate_data['parks_nearest'].isna()\n",
    "                    , 'parks_nearest'\n",
    "] = types_na_parks_nrst.apply(lambda pt:\n",
    "        real_estate_data.loc[\n",
    "            (real_estate_data['parks_nearest'].isna())\n",
    "            & (real_estate_data['locality_name'] == pt)\n",
    "            , 'parks_nearest'\n",
    "        ].median()\n",
    "    )\n",
    "\n",
    "real_estate_data[\n",
    "    'parks_nearest'\n",
    "].fillna(value=8888, inplace=True)\n",
    "\n",
    "# display(\n",
    "#     real_estate_data['parks_nearest'].describe()\n",
    "# )"
   ]
  },
  {
   "cell_type": "markdown",
   "id": "6144130f-7add-47c8-86d3-c8d0f47fff83",
   "metadata": {
    "pycharm": {
     "name": "#%% md\n"
    }
   },
   "source": [
    "✔️ `'parks_nearest'`"
   ]
  },
  {
   "cell_type": "markdown",
   "id": "d30bd7bf-a928-4088-82e3-6e7ec87d9600",
   "metadata": {},
   "source": [
    "<hr>"
   ]
  },
  {
   "cell_type": "markdown",
   "id": "f4171668-0455-421c-a4df-17da4a17943e",
   "metadata": {
    "tags": []
   },
   "source": [
    "#### `ponds_around3000` NaN ❌"
   ]
  },
  {
   "cell_type": "markdown",
   "id": "e4d06343",
   "metadata": {
    "pycharm": {
     "name": "#%% md\n"
    }
   },
   "source": [
    "Проверим по типу населённого пункта, может и нет ближайших прудов тогда `NaN` = 0"
   ]
  },
  {
   "cell_type": "code",
   "execution_count": null,
   "id": "18b61f71",
   "metadata": {
    "collapsed": false,
    "jupyter": {
     "outputs_hidden": false
    },
    "pycharm": {
     "name": "#%%\n"
    }
   },
   "outputs": [],
   "source": [
    "lclt_2_pnds_mdn = list(\n",
    "    real_estate_data.loc[\n",
    "        real_estate_data['ponds_around3000'].notna()\n",
    "        , 'locality_name'\n",
    "    ].unique()\n",
    ")\n",
    "\n",
    "real_estate_data.loc[\n",
    "    real_estate_data['ponds_around3000'].isna()\n",
    "    , 'ponds_around3000'\n",
    "] = real_estate_data.loc[\n",
    "        real_estate_data['ponds_around3000'].isna()\n",
    "        , 'locality_name'\n",
    "    ].apply(lambda lctn:\n",
    "        round(\n",
    "            real_estate_data.loc[\n",
    "                real_estate_data['locality_name'] == lctn\n",
    "                , 'ponds_around3000'\n",
    "            ].median()\n",
    "        ) if lctn in lclt_2_pnds_mdn else 0)\n",
    "\n",
    "# display(\n",
    "#   real_estate_data['ponds_around3000'].info()\n",
    "# )"
   ]
  },
  {
   "cell_type": "markdown",
   "id": "a7f1d0ef-9825-4e36-a893-02bed0e720a8",
   "metadata": {
    "tags": []
   },
   "source": [
    "✔️ `'ponds_around3000'`"
   ]
  },
  {
   "cell_type": "markdown",
   "id": "c55ddefb-7ad1-487d-b7a5-a0b6bda903de",
   "metadata": {},
   "source": [
    "<hr>"
   ]
  },
  {
   "cell_type": "markdown",
   "id": "3626fcd6-d23d-47e0-b9be-dc0874d67fc1",
   "metadata": {
    "tags": []
   },
   "source": [
    "#### `ponds_nearest` NaN ❌"
   ]
  },
  {
   "cell_type": "code",
   "execution_count": null,
   "id": "68e315dd",
   "metadata": {
    "collapsed": false,
    "jupyter": {
     "outputs_hidden": false
    },
    "pycharm": {
     "name": "#%%\n"
    }
   },
   "outputs": [],
   "source": [
    "lclt_2_pnds_nrst_mdn = list(\n",
    "    real_estate_data.loc[\n",
    "        real_estate_data['ponds_nearest'].notna()\n",
    "        , 'locality_name'\n",
    "    ].unique()\n",
    ")\n",
    "\n",
    "real_estate_data.loc[\n",
    "    real_estate_data['ponds_around3000'] == 0\n",
    "    , 'ponds_nearest'\n",
    "].fillna(8888, inplace=True)\n",
    "\n",
    "real_estate_data.loc[\n",
    "    real_estate_data['ponds_nearest'].isna()\n",
    "    , 'ponds_nearest'\n",
    "] = real_estate_data.loc[\n",
    "        real_estate_data['ponds_nearest'].isna()\n",
    "        , 'locality_name'\n",
    "    ].apply(lambda lcpn:\n",
    "                round(\n",
    "                    real_estate_data.loc[\n",
    "                        real_estate_data['locality_name'] == lcpn\n",
    "                        , 'ponds_nearest'\n",
    "                    ].median()\n",
    "                )\n",
    "                if lcpn in lclt_2_pnds_nrst_mdn\n",
    "                else 8888\n",
    "            )\n",
    "\n",
    "# display(\n",
    "#     real_estate_data['ponds_nearest'].info()\n",
    "# )"
   ]
  },
  {
   "cell_type": "markdown",
   "id": "6b023f87-c221-469f-9907-721ad30f4968",
   "metadata": {
    "tags": []
   },
   "source": [
    "✔️ `'ponds_nearest'`"
   ]
  },
  {
   "cell_type": "markdown",
   "id": "a54123d8-44e5-4aac-8e34-5f1d7ea27343",
   "metadata": {},
   "source": [
    "<hr>"
   ]
  },
  {
   "cell_type": "markdown",
   "id": "4ffa11a3-48ac-46bb-91ee-40c13cff2324",
   "metadata": {
    "tags": []
   },
   "source": [
    "#### `days_exposition` NaN ❌"
   ]
  },
  {
   "cell_type": "markdown",
   "id": "94e01bdb",
   "metadata": {
    "pycharm": {
     "name": "#%% md\n"
    }
   },
   "source": [
    "Посмотрим как связан столбец с `first_day_exposition`"
   ]
  },
  {
   "cell_type": "code",
   "execution_count": null,
   "id": "41bc05c0",
   "metadata": {
    "collapsed": false,
    "jupyter": {
     "outputs_hidden": false
    },
    "pycharm": {
     "name": "#%%\n"
    }
   },
   "outputs": [],
   "source": [
    "display(\n",
    "    real_estate_data.sample(7)\n",
    " )\n",
    "\n",
    "real_estate_data['first_day_exposition'] = (\n",
    "    pd.to_datetime(real_estate_data['first_day_exposition']\n",
    "                   , yearfirst=True\n",
    "                   , format='%Y-%m-%d'\n",
    "                   )\n",
    ")\n",
    "\n",
    "first_last = (\n",
    "                real_estate_data['first_day_exposition'].max()\n",
    "                - real_estate_data['first_day_exposition'].min()\n",
    ")\n",
    "\n",
    "display(\n",
    "    # real_estate_data['first_day_exposition'].info()\n",
    "    real_estate_data['first_day_exposition'].max()\n",
    "    , real_estate_data['first_day_exposition'].min()\n",
    "    , real_estate_data['days_exposition'].max()\n",
    "    , real_estate_data['days_exposition'].min()\n",
    "    , len(real_estate_data['days_exposition'].unique())\n",
    "    , first_last.days\n",
    "    , real_estate_data['days_exposition'].max()\n",
    ")\n",
    "\n",
    "display(\n",
    "    real_estate_data.loc[\n",
    "        real_estate_data['first_day_exposition']\n",
    "            == real_estate_data['first_day_exposition'].min()\n",
    "        , 'days_exposition'\n",
    "    ]\n",
    ")\n",
    "\n",
    "real_estate_data['days_exposition'].fillna(0, inplace=True)\n",
    "\n",
    "# display(\n",
    "#     real_estate_data['days_exposition'].info()\n",
    "# )"
   ]
  },
  {
   "cell_type": "markdown",
   "id": "6ffc3648-9b20-498d-92b5-bd2366e8f9a3",
   "metadata": {
    "tags": []
   },
   "source": [
    "✔️ `'days_exposition'`"
   ]
  },
  {
   "cell_type": "markdown",
   "id": "08ed5743-ba9c-4c7d-bc2f-7b445b320eec",
   "metadata": {},
   "source": [
    "<hr>"
   ]
  },
  {
   "cell_type": "markdown",
   "id": "0de1c333",
   "metadata": {
    "pycharm": {
     "name": "#%% md\n"
    }
   },
   "source": [
    "### Приведите данные к нужным типам:"
   ]
  },
  {
   "cell_type": "code",
   "execution_count": null,
   "id": "fe2553ba",
   "metadata": {
    "collapsed": false,
    "jupyter": {
     "outputs_hidden": false
    },
    "pycharm": {
     "name": "#%%\n"
    }
   },
   "outputs": [],
   "source": [
    "display(\n",
    "    real_estate_data.head(7)\n",
    "    , real_estate_data.info()\n",
    ")"
   ]
  },
  {
   "cell_type": "code",
   "execution_count": null,
   "id": "8f4cf35e",
   "metadata": {
    "collapsed": false,
    "jupyter": {
     "outputs_hidden": false
    },
    "pycharm": {
     "name": "#%%\n"
    }
   },
   "outputs": [],
   "source": [
    "real_estate_data = real_estate_data.astype(\n",
    "                        {\n",
    "                            'total_images': 'uint8',\n",
    "                            'last_price': 'uint32',\n",
    "                            'total_area': 'uint16',\n",
    "                            # 'first_day_exposition': '',\n",
    "                            'rooms': 'uint8',\n",
    "                            'ceiling_height': 'float16',\n",
    "                            'floors_total': 'uint16',\n",
    "                            'living_area': 'float32',\n",
    "                            'floor': 'uint8',\n",
    "                            'is_apartment': 'bool',\n",
    "                            'studio': 'bool',\n",
    "                            'open_plan': 'bool',\n",
    "                            'kitchen_area': 'float32',\n",
    "                            'balcony': 'uint8',\n",
    "                            'locality_name': 'category',\n",
    "                            'airports_nearest': 'uint32',\n",
    "                            'city_centers_nearest': 'uint32',\n",
    "                            'parks_around3000': 'uint8',\n",
    "                            'parks_nearest': 'uint16',\n",
    "                            'ponds_around3000': 'uint8',\n",
    "                            'ponds_nearest': 'uint16',\n",
    "                            'days_exposition': 'uint16',\n",
    "                            'locality_type': 'category',\n",
    "                        }\n",
    ")\n"
   ]
  },
  {
   "cell_type": "code",
   "execution_count": null,
   "id": "9ca697bc",
   "metadata": {
    "collapsed": false,
    "jupyter": {
     "outputs_hidden": false
    },
    "pycharm": {
     "name": "#%%\n"
    }
   },
   "outputs": [],
   "source": [
    "display(\n",
    "    real_estate_data.info()\n",
    ")"
   ]
  },
  {
   "cell_type": "markdown",
   "id": "0dd3a561-db02-4b8a-b5b0-93c71d279431",
   "metadata": {},
   "source": [
    "**1.9 Mb** спасли заменой типа переменных"
   ]
  },
  {
   "cell_type": "markdown",
   "id": "91561446-176d-42e4-b7ea-5fdf0aec1903",
   "metadata": {},
   "source": [
    "<hr>"
   ]
  },
  {
   "cell_type": "markdown",
   "id": "ad3aa7e6",
   "metadata": {
    "pycharm": {
     "name": "#%% md\n"
    }
   },
   "source": [
    "## Шаг 3. Посчитаем и добавим в таблицу"
   ]
  },
  {
   "cell_type": "markdown",
   "id": "b1db8167",
   "metadata": {
    "pycharm": {
     "name": "#%% md\n"
    }
   },
   "source": [
    "### ➕ цену квадратного метра"
   ]
  },
  {
   "cell_type": "code",
   "execution_count": null,
   "id": "3ebea185",
   "metadata": {
    "collapsed": false,
    "jupyter": {
     "outputs_hidden": false
    },
    "pycharm": {
     "name": "#%%\n"
    }
   },
   "outputs": [],
   "source": [
    "real_estate_data['square_price'] = (\n",
    "    round(\n",
    "        real_estate_data['last_price']\n",
    "        / real_estate_data['total_area']\n",
    "        , 2\n",
    "    )\n",
    ")\n",
    "\n",
    "display(\n",
    "    real_estate_data['square_price'].describe()\n",
    "    , real_estate_data['square_price'].max()\n",
    "    , real_estate_data.loc[\n",
    "        real_estate_data['square_price'] >= 500_000\n",
    "    ]\n",
    ")"
   ]
  },
  {
   "cell_type": "markdown",
   "id": "f54a2558",
   "metadata": {
    "pycharm": {
     "name": "#%% md\n"
    }
   },
   "source": [
    "### ➕ день недели, месяц и год публикации объявления"
   ]
  },
  {
   "cell_type": "code",
   "execution_count": null,
   "id": "cbf5bc1b",
   "metadata": {
    "collapsed": false,
    "jupyter": {
     "outputs_hidden": false
    },
    "pycharm": {
     "name": "#%%\n"
    }
   },
   "outputs": [],
   "source": [
    "real_estate_data['date_name'] = (\n",
    "    real_estate_data['first_day_exposition'].dt.strftime('%A, %B %Y')\n",
    ")\n",
    "\n",
    "display(\n",
    "    real_estate_data['date_name'].sample(5)\n",
    ")"
   ]
  },
  {
   "cell_type": "markdown",
   "id": "1f42ffec",
   "metadata": {
    "pycharm": {
     "name": "#%% md\n"
    }
   },
   "source": [
    "### ➕ этаж квартиры"
   ]
  },
  {
   "cell_type": "markdown",
   "id": "1edc9760-d015-4c20-8db9-2ced8f961e1c",
   "metadata": {},
   "source": [
    "варианты — `первый`, `последний`, `другой`;"
   ]
  },
  {
   "cell_type": "code",
   "execution_count": null,
   "id": "dd057198",
   "metadata": {
    "collapsed": false,
    "jupyter": {
     "outputs_hidden": false
    },
    "pycharm": {
     "name": "#%%\n"
    }
   },
   "outputs": [],
   "source": [
    "def type_of_floor(floors):\n",
    "    if floors['floor'] == 1:\n",
    "        return 'first'\n",
    "    elif floors['floor'] == floors['floors_total']:\n",
    "        return 'last'\n",
    "    else:\n",
    "        return 'other'\n",
    "\n",
    "\n",
    "real_estate_data['floor_type'] = (\n",
    "    real_estate_data.loc[:\n",
    "        , ('floor', 'floors_total')\n",
    "    ].apply(type_of_floor, axis=1)\n",
    ")\n",
    "\n",
    "display(\n",
    "    real_estate_data['floor_type'].describe()\n",
    ")"
   ]
  },
  {
   "cell_type": "markdown",
   "id": "4b135e01",
   "metadata": {
    "pycharm": {
     "name": "#%% md\n"
    }
   },
   "source": [
    "### ➕ отношение жилой и общей площади"
   ]
  },
  {
   "cell_type": "code",
   "execution_count": null,
   "id": "8d809922",
   "metadata": {
    "collapsed": false,
    "jupyter": {
     "outputs_hidden": false
    },
    "pycharm": {
     "name": "#%%\n"
    }
   },
   "outputs": [],
   "source": [
    "real_estate_data.loc[\n",
    "    real_estate_data['living_area']\n",
    "    > real_estate_data['total_area']\n",
    "    , 'living_area'\n",
    "] = real_estate_data.loc[\n",
    "        real_estate_data['living_area']\n",
    "        > real_estate_data['total_area']\n",
    "        , 'total_area'\n",
    "    ]"
   ]
  },
  {
   "cell_type": "code",
   "execution_count": null,
   "id": "14390b9f",
   "metadata": {
    "collapsed": false,
    "jupyter": {
     "outputs_hidden": false
    },
    "pycharm": {
     "name": "#%%\n"
    }
   },
   "outputs": [],
   "source": [
    "real_estate_data['living_2_total'] = (\n",
    "    round(\n",
    "        real_estate_data['living_area']\n",
    "        / real_estate_data['total_area']\n",
    "        , 2\n",
    "    )\n",
    ")\n",
    "\n",
    "display(\n",
    "    real_estate_data['living_2_total'].describe()\n",
    ")"
   ]
  },
  {
   "cell_type": "markdown",
   "id": "8c27f785",
   "metadata": {
    "pycharm": {
     "name": "#%% md\n"
    }
   },
   "source": [
    "### ➕ отношение площади кухни к общей площади"
   ]
  },
  {
   "cell_type": "code",
   "execution_count": null,
   "id": "8c31103f",
   "metadata": {
    "collapsed": false,
    "jupyter": {
     "outputs_hidden": false
    },
    "pycharm": {
     "name": "#%%\n"
    }
   },
   "outputs": [],
   "source": [
    "real_estate_data['kitchen_2_total'] = (\n",
    "    round(\n",
    "        real_estate_data['kitchen_area']\n",
    "        / real_estate_data['total_area']\n",
    "        , 2\n",
    "    )\n",
    ")\n",
    "\n",
    "display(\n",
    "    real_estate_data['kitchen_2_total'].describe()\n",
    ")"
   ]
  },
  {
   "cell_type": "code",
   "execution_count": null,
   "id": "6f6d59e4",
   "metadata": {
    "collapsed": false,
    "jupyter": {
     "outputs_hidden": false
    },
    "pycharm": {
     "name": "#%%\n"
    }
   },
   "outputs": [],
   "source": [
    "real_estate_data = real_estate_data.astype(\n",
    "    {\n",
    "        # 'date_name': '',\n",
    "        'floor_type': 'category',\n",
    "        'living_2_total': 'float16',\n",
    "        'kitchen_2_total': 'float16',\n",
    "\n",
    "    }\n",
    ")"
   ]
  },
  {
   "cell_type": "code",
   "execution_count": null,
   "id": "25faba5f",
   "metadata": {
    "collapsed": false,
    "jupyter": {
     "outputs_hidden": false
    },
    "pycharm": {
     "name": "#%%\n"
    }
   },
   "outputs": [],
   "source": [
    "display(\n",
    "    real_estate_data.info()\n",
    ")"
   ]
  },
  {
   "cell_type": "code",
   "execution_count": null,
   "id": "2e4960c8",
   "metadata": {
    "collapsed": false,
    "jupyter": {
     "outputs_hidden": false
    },
    "pycharm": {
     "name": "#%%\n"
    }
   },
   "outputs": [],
   "source": [
    "display(\n",
    "    real_estate_data.duplicated().sum()\n",
    ")"
   ]
  },
  {
   "cell_type": "markdown",
   "id": "04261686",
   "metadata": {
    "pycharm": {
     "name": "#%% md\n"
    }
   },
   "source": [
    "## Шаг 4. Проведём исследовательский анализ данных по инструкции"
   ]
  },
  {
   "cell_type": "markdown",
   "id": "1b559d1d",
   "metadata": {
    "pycharm": {
     "name": "#%% md\n"
    }
   },
   "source": [
    "#### 📊 площадь"
   ]
  },
  {
   "cell_type": "code",
   "execution_count": null,
   "id": "63d35d39",
   "metadata": {
    "collapsed": false,
    "jupyter": {
     "outputs_hidden": false
    },
    "pycharm": {
     "name": "#%%\n"
    }
   },
   "outputs": [],
   "source": [
    "f, ax = plt.subplots(figsize=(15, 8))\n",
    "sns.despine(f)\n",
    "plt.title ('площадь', fontsize=22)\n",
    "plt.xlabel('last price', fontsize=18)\n",
    "plt.ylabel('количество', fontsize=18)\n",
    "sns.histplot(\n",
    "    real_estate_data['total_area'],\n",
    "    edgecolor=\".3\",\n",
    "    linewidth=.5,\n",
    "    log_scale=(False, False),\n",
    ")\n"
   ]
  },
  {
   "cell_type": "markdown",
   "id": "885613b8-a199-4e0a-8b88-9d81b7c27ac3",
   "metadata": {
    "jupyter": {
     "outputs_hidden": false
    },
    "pycharm": {
     "name": "#%%\n"
    }
   },
   "source": [
    "<hr>"
   ]
  },
  {
   "cell_type": "markdown",
   "id": "ba2219b0",
   "metadata": {
    "pycharm": {
     "name": "#%% md\n"
    }
   },
   "source": [
    "#### 📊 цена"
   ]
  },
  {
   "cell_type": "code",
   "execution_count": null,
   "id": "8d810012",
   "metadata": {
    "collapsed": false,
    "jupyter": {
     "outputs_hidden": false
    },
    "pycharm": {
     "name": "#%%\n"
    }
   },
   "outputs": [],
   "source": [
    "import matplotlib as mpl\n",
    "\n",
    "sns.set_theme(style=\"ticks\")\n",
    "\n",
    "print(\n",
    "    real_estate_data['last_price'].describe()\n",
    ")\n",
    "print(\n",
    "    real_estate_data['last_price'].max()\n",
    ")\n",
    "\n",
    "print(\n",
    "    real_estate_data['last_price'].median()\n",
    ")\n",
    "\n",
    "f, ax = plt.subplots(figsize=(15, 8))\n",
    "sns.despine(f)\n",
    "plt.title ('цена', fontsize=22)\n",
    "plt.xlabel('last price', fontsize=18)\n",
    "plt.ylabel('количество', fontsize=18)\n",
    "sns.histplot(\n",
    "    real_estate_data['last_price'],\n",
    "    edgecolor=\".3\",\n",
    "    linewidth=.5,\n",
    "    log_scale=(True, True),\n",
    ")\n",
    "ax.xaxis.set_major_formatter(mpl.ticker.ScalarFormatter())\n",
    "ax.set_xticks([12190, 4_650_000, 100_000_000, 763_000_000])"
   ]
  },
  {
   "cell_type": "markdown",
   "id": "50886651-72a0-4296-bc58-620307c57c50",
   "metadata": {
    "jupyter": {
     "outputs_hidden": false
    },
    "pycharm": {
     "name": "#%%\n"
    }
   },
   "source": [
    "<hr>"
   ]
  },
  {
   "cell_type": "markdown",
   "id": "0d44ef73",
   "metadata": {
    "pycharm": {
     "name": "#%% md\n"
    }
   },
   "source": [
    "#### 📊 число комнат"
   ]
  },
  {
   "cell_type": "code",
   "execution_count": null,
   "id": "acaee023",
   "metadata": {
    "collapsed": false,
    "jupyter": {
     "outputs_hidden": false
    },
    "pycharm": {
     "name": "#%%\n"
    }
   },
   "outputs": [],
   "source": [
    "f, ax = plt.subplots(figsize=(15, 8))\n",
    "sns.despine(f)\n",
    "plt.title ('число комнат', fontsize=22)\n",
    "plt.xlabel('rooms', fontsize=18)\n",
    "plt.ylabel('количество', fontsize=18)\n",
    "sns.histplot(\n",
    "    real_estate_data['rooms'],\n",
    "    discrete='True',\n",
    "    linewidth=.5,\n",
    "    log_scale=(False, True),\n",
    ")\n",
    "ax.xaxis.set_major_formatter(mpl.ticker.ScalarFormatter())"
   ]
  },
  {
   "cell_type": "markdown",
   "id": "85de49cc-854b-4c0d-a17c-6eff77c52db8",
   "metadata": {
    "jupyter": {
     "outputs_hidden": false
    },
    "pycharm": {
     "name": "#%%\n"
    }
   },
   "source": [
    "<hr>"
   ]
  },
  {
   "cell_type": "markdown",
   "id": "22d4e5c4",
   "metadata": {
    "pycharm": {
     "name": "#%% md\n"
    }
   },
   "source": [
    "#### 📊 высота потолков"
   ]
  },
  {
   "cell_type": "code",
   "execution_count": null,
   "id": "97598b64",
   "metadata": {
    "collapsed": false,
    "jupyter": {
     "outputs_hidden": false
    },
    "pycharm": {
     "name": "#%%\n"
    }
   },
   "outputs": [],
   "source": [
    "f, ax = plt.subplots(figsize=(15, 8))\n",
    "sns.despine(f)\n",
    "plt.title ('высота потолков', fontsize=22)\n",
    "plt.xlabel('ceiling_height', fontsize=18)\n",
    "plt.ylabel('количество', fontsize=18)\n",
    "sns.histplot(\n",
    "    real_estate_data['ceiling_height'],\n",
    "    bins=15,\n",
    "    binwidth=0.25,\n",
    "    # edgecolor=\".3\",\n",
    "    discrete='True',\n",
    "    linewidth=.5,\n",
    "    log_scale=(False, True),\n",
    ")\n",
    "ax.xaxis.set_major_formatter(mpl.ticker.ScalarFormatter())"
   ]
  },
  {
   "cell_type": "markdown",
   "id": "7a258524-e9f8-4849-ab17-9c9135b18b25",
   "metadata": {
    "jupyter": {
     "outputs_hidden": false
    },
    "pycharm": {
     "name": "#%%\n"
    }
   },
   "source": [
    "<hr>"
   ]
  },
  {
   "cell_type": "markdown",
   "id": "6c816824",
   "metadata": {
    "pycharm": {
     "name": "#%% md\n"
    }
   },
   "source": [
    "### Время продажи квартиры."
   ]
  },
  {
   "cell_type": "markdown",
   "id": "bd616ff3-b826-46cb-b3ba-551fcb29e4a2",
   "metadata": {},
   "source": [
    "#### 📊 Построим гистограмму"
   ]
  },
  {
   "cell_type": "code",
   "execution_count": null,
   "id": "13ab62d0",
   "metadata": {
    "collapsed": false,
    "jupyter": {
     "outputs_hidden": false
    },
    "pycharm": {
     "name": "#%%\n"
    }
   },
   "outputs": [],
   "source": [
    "to_plot = real_estate_data.loc[\n",
    "    real_estate_data['days_exposition'] != 0\n",
    "    , 'days_exposition'\n",
    "]\n",
    "\n",
    "f, ax = plt.subplots(nrows=2, sharex=True, figsize=(15, 16))\n",
    "f.suptitle('время продажи')\n",
    "ax[0].set_title('histogram')\n",
    "sns.histplot(\n",
    "    data=to_plot,\n",
    "    ax=ax[0],\n",
    "    bins=15,\n",
    "    binwidth=0.25,\n",
    "    # edgecolor=\".3\",\n",
    "    discrete='True',\n",
    "    linewidth=.5,\n",
    "    log_scale=(False, True)\n",
    ")\n",
    "ax[1].set_title('barplot')\n",
    "sns.boxplot(\n",
    "    x=to_plot,\n",
    "    ax=ax[1],\n",
    "    orient=1\n",
    ")"
   ]
  },
  {
   "cell_type": "markdown",
   "id": "6772a4e4-4c5b-4c9a-a3ef-e00866253f14",
   "metadata": {},
   "source": [
    "#### Посчитаем среднее и медиану"
   ]
  },
  {
   "cell_type": "code",
   "execution_count": null,
   "id": "1dde283d-a85a-444e-be8d-71668ee04edd",
   "metadata": {},
   "outputs": [],
   "source": []
  },
  {
   "cell_type": "markdown",
   "id": "4ee0df0c-2caa-40eb-b1ac-af128000b68a",
   "metadata": {},
   "source": [
    "#### Сколько обычно занимает продажа"
   ]
  },
  {
   "cell_type": "code",
   "execution_count": null,
   "id": "751edee2-84f4-4a95-85b2-6b3314462f36",
   "metadata": {},
   "outputs": [],
   "source": []
  },
  {
   "cell_type": "markdown",
   "id": "eaeabea2-ac3d-4d9d-8ed9-91c9ffa734e1",
   "metadata": {},
   "source": [
    "#### Когда продажи прошли очень быстро, а когда необычно долго?"
   ]
  },
  {
   "cell_type": "code",
   "execution_count": null,
   "id": "b0ddd10e-922d-4367-80c8-b146d547a220",
   "metadata": {},
   "outputs": [],
   "source": []
  },
  {
   "cell_type": "markdown",
   "id": "38ed9780",
   "metadata": {
    "pycharm": {
     "name": "#%% md\n"
    }
   },
   "source": [
    "Уберите редкие и выбивающиеся значения. Опишите, какие особенности обнаружили."
   ]
  },
  {
   "cell_type": "code",
   "execution_count": null,
   "id": "2b3bcf21",
   "metadata": {
    "collapsed": false,
    "jupyter": {
     "outputs_hidden": false
    },
    "pycharm": {
     "name": "#%%\n"
    }
   },
   "outputs": [],
   "source": [
    "display(\n",
    "    (to_plot.describe()['std'] * 3)\n",
    "    + to_plot.describe()['50%'],\n",
    "\n",
    "    to_plot.describe()\n",
    "\n",
    ")\n",
    "\n",
    "display(\n",
    "    to_plot.mode()\n",
    ")"
   ]
  },
  {
   "cell_type": "markdown",
   "id": "78483841",
   "metadata": {
    "pycharm": {
     "name": "#%% md\n"
    }
   },
   "source": [
    "### Факторы, которые больше всего влияют на стоимость квартиры"
   ]
  },
  {
   "cell_type": "markdown",
   "id": "98d7a46c-55aa-4850-8472-887971e25306",
   "metadata": {},
   "source": [
    "#### 🔎 Зависит ли цена от площади"
   ]
  },
  {
   "cell_type": "code",
   "execution_count": null,
   "id": "03d8b1d7",
   "metadata": {
    "collapsed": false,
    "jupyter": {
     "outputs_hidden": false
    },
    "pycharm": {
     "name": "#%%\n"
    }
   },
   "outputs": [],
   "source": [
    "sns.pairplot(data=real_estate_data.loc[\n",
    "                    real_estate_data['locality_type'] == 1\n",
    "                    , ['last_price', 'total_area']\n",
    "                ],\n",
    "             height=7,\n",
    "             aspect=1,\n",
    "             )"
   ]
  },
  {
   "cell_type": "markdown",
   "id": "9c25336c-1666-4c41-a4aa-5cc6b721895a",
   "metadata": {},
   "source": [
    "#### 🔎 Зависит ли цена от числа комнат"
   ]
  },
  {
   "cell_type": "code",
   "execution_count": null,
   "id": "e88c20fe",
   "metadata": {
    "collapsed": false,
    "jupyter": {
     "outputs_hidden": false
    },
    "pycharm": {
     "name": "#%%\n"
    }
   },
   "outputs": [],
   "source": [
    "sns.pairplot(data=real_estate_data.loc[\n",
    "                    # :\n",
    "                    (real_estate_data['last_price']\n",
    "                        <= 200_000_000\n",
    "                    )\n",
    "                   #  & (real_estate_data['last_price']\n",
    "                   #     <= real_estate_data['last_price']\n",
    "                   #     .describe()['75%']\n",
    "                   # )\n",
    "                    , ['last_price', 'rooms']\n",
    "                  ],\n",
    "            height=7,\n",
    "            aspect=1,\n",
    "         )"
   ]
  },
  {
   "cell_type": "markdown",
   "id": "0788d1df-ebf6-488c-978b-14fcce6335ec",
   "metadata": {},
   "source": [
    "В целом видно что зависимость цены от числа комнат есть, но разброс цен очень большой для каждого количества комнат. Логика подсказывает что местоположение вносит эти «шумы»."
   ]
  },
  {
   "cell_type": "markdown",
   "id": "3fc26dfe-0c1e-4f4a-9917-1fe6dd182984",
   "metadata": {},
   "source": [
    "#### 🔎 Зависит ли цена от удалённости от центра"
   ]
  },
  {
   "cell_type": "code",
   "execution_count": null,
   "id": "fb0be726",
   "metadata": {
    "collapsed": false,
    "jupyter": {
     "outputs_hidden": false
    },
    "pycharm": {
     "name": "#%%\n"
    }
   },
   "outputs": [],
   "source": [
    "sns.pairplot(data=real_estate_data.loc[\n",
    "    real_estate_data['locality_type'] != 0\n",
    "    , ['last_price', 'city_centers_nearest']\n",
    "],\n",
    "             height=7,\n",
    "             aspect=1,\n",
    "             )"
   ]
  },
  {
   "cell_type": "markdown",
   "id": "1d0dc626-2e7a-4792-a565-586c21d7eee7",
   "metadata": {},
   "source": [
    "Очень похоже на обратную корреляцию ну и по логике оно так. Но хорошо бы сравнивать зависимость цены от удалённости при прочих равных: площадь, количество комнат, высота потолков."
   ]
  },
  {
   "cell_type": "markdown",
   "id": "421bc5f6-b0c3-4144-a473-b4ca28f6df34",
   "metadata": {},
   "source": [
    "#### 🔎 Зависит ли цена от этажа квартиры: первый, последний или другой"
   ]
  },
  {
   "cell_type": "code",
   "execution_count": null,
   "id": "268e0944",
   "metadata": {
    "collapsed": false,
    "jupyter": {
     "outputs_hidden": false
    },
    "pycharm": {
     "name": "#%%\n"
    }
   },
   "outputs": [],
   "source": [
    "# to_plot = pd.DataFrame(real_estate_data.loc[: , ['last_price', 'floor_type']])\n",
    "\n",
    "sns.pairplot(data=real_estate_data,\n",
    "    vars=['last_price', 'floor_type'],\n",
    "\n",
    "        # , ['last_price', 'floor_type']\n",
    "    height=7,\n",
    "    aspect=1,\n",
    ")\n",
    "\n"
   ]
  },
  {
   "cell_type": "markdown",
   "id": "fade5cfc-4dc3-4eda-a1d9-5bbf096eba2c",
   "metadata": {},
   "source": [
    "Трудно сказать о зависимости цены от этажа, но видно что цена за `последние` этажы может быть выше чем за `другие` и `первые` этажи. Считаю, что нужно сравнивать при прочих равных…"
   ]
  },
  {
   "cell_type": "markdown",
   "id": "90229345-94fe-44d2-9c37-4b501abc04fd",
   "metadata": {},
   "source": [
    "#### 🔎 Зависит ли цена от даты размещения: дня недели, месяца и года"
   ]
  },
  {
   "cell_type": "code",
   "execution_count": null,
   "id": "7d035075",
   "metadata": {
    "collapsed": false,
    "jupyter": {
     "outputs_hidden": false
    },
    "pycharm": {
     "name": "#%%\n"
    }
   },
   "outputs": [],
   "source": [
    "# to_plot = pd.DataFrame(real_estate_data.loc[: , ['last_price', 'floor_type']])\n",
    "\n",
    "sns.pairplot(data=real_estate_data.loc[\n",
    "            real_estate_data['locality_type'] == 2\n",
    "        ],\n",
    "    vars=['last_price', 'date_name'],\n",
    "\n",
    "        # , ['last_price', 'floor_type']\n",
    "    height=7,\n",
    "    aspect=1,\n",
    ")\n",
    "# real_estate_data['first_day_exposition'].dt.strftime('%A, %B %Y')\n"
   ]
  },
  {
   "cell_type": "markdown",
   "id": "002d30c3-107b-4794-a663-26c662cea202",
   "metadata": {},
   "source": [
    "Похоже, что не зависит цена от даты публикации"
   ]
  },
  {
   "cell_type": "markdown",
   "id": "e17bcdff-f5d9-4777-9bd7-3a19795e7caa",
   "metadata": {},
   "source": [
    "<hr>"
   ]
  },
  {
   "cell_type": "markdown",
   "id": "e83c505d",
   "metadata": {
    "pycharm": {
     "name": "#%% md\n"
    }
   },
   "source": [
    "### 10 населённых пунктов с наибольшим числом объявлений"
   ]
  },
  {
   "cell_type": "markdown",
   "id": "cdf0e767-d8f6-49b3-997d-6d4088053cf6",
   "metadata": {},
   "source": [
    "#### 🧮 Средняя цена квадратного метра в TOP 10 населённых пунктах"
   ]
  },
  {
   "cell_type": "code",
   "execution_count": null,
   "id": "6f6fff86",
   "metadata": {
    "collapsed": false,
    "jupyter": {
     "outputs_hidden": false
    },
    "pycharm": {
     "name": "#%%\n"
    }
   },
   "outputs": [],
   "source": [
    "top_ten = pd.DataFrame(\n",
    "    real_estate_data.groupby(by='locality_name')['last_price']\n",
    "        .count()\n",
    "        .sort_values(ascending=False)\n",
    "        .head(10)\n",
    ")\n",
    "\n",
    "top_ten.reset_index(inplace=True)\n",
    "top_ten.rename(columns = {'last_price':'advert_count'}, inplace=True)\n",
    "\n",
    "top_ten['median_price'] = top_ten['locality_name'].apply(\n",
    "    lambda nm: real_estate_data.loc[\n",
    "        real_estate_data['locality_name'] == nm\n",
    "        , 'last_price'\n",
    "    ].median()\n",
    ")\n",
    "\n",
    "display(top_ten.sort_values(by='median_price', ascending=False))\n"
   ]
  },
  {
   "cell_type": "markdown",
   "id": "50297bc9-cc1a-4a16-9453-c506b32b9053",
   "metadata": {},
   "source": [
    "#### 🧮 Населённые пункты с самой высокой и низкой стоимостью жилья"
   ]
  },
  {
   "cell_type": "markdown",
   "id": "5fcd6692-9600-4c63-9b3a-eed9dfc35ae8",
   "metadata": {},
   "source": [
    "Если выбирать из **10 самых популярных** населённых пунктов, то:\n",
    "\n",
    "Санкт-Петербург → самая высокая медианная стоимость.\n",
    "\n",
    "Выборг → самая низкая медианная стоимость."
   ]
  },
  {
   "cell_type": "markdown",
   "id": "857e2340-d519-438f-bd6b-4c14c04f0594",
   "metadata": {},
   "source": [
    "<hr>"
   ]
  },
  {
   "cell_type": "markdown",
   "id": "2a6ab511",
   "metadata": {
    "pycharm": {
     "name": "#%% md\n"
    }
   },
   "source": [
    "### Квартиры в Санкт-Петербурге"
   ]
  },
  {
   "cell_type": "markdown",
   "id": "625b059b-7fd5-48e5-b60d-db80a0059ea4",
   "metadata": {},
   "source": [
    "#### 🔎 Какая область входит в центр"
   ]
  },
  {
   "cell_type": "markdown",
   "id": "fe81d587-24e7-4286-87cc-132ebfe29feb",
   "metadata": {},
   "source": [
    "#### ➕ Столбец с расстоянием до центра в километрах"
   ]
  },
  {
   "cell_type": "code",
   "execution_count": null,
   "id": "bccdb83d",
   "metadata": {
    "collapsed": false,
    "jupyter": {
     "outputs_hidden": false
    },
    "pycharm": {
     "name": "#%%\n"
    }
   },
   "outputs": [],
   "source": [
    "spb_center = pd.DataFrame(\n",
    "    real_estate_data.loc[\n",
    "        real_estate_data['locality_name'] == 'Санкт-Петербург'\n",
    "        ,['last_price', 'city_centers_nearest']\n",
    "    ]\n",
    ")\n",
    "\n",
    "spb_center.reset_index(drop=True, inplace=True)\n",
    "\n",
    "spb_center['city_centers_nearest'] = spb_center['city_centers_nearest'].apply(\n",
    "    lambda mtr: round(mtr / 1000)\n",
    ")\n",
    "\n",
    "display(spb_center)"
   ]
  },
  {
   "cell_type": "markdown",
   "id": "5dd5da64-c14f-48c2-b3b9-b56f25b953e2",
   "metadata": {},
   "source": [
    "#### 🧮 Определим менианную цену для каждого километра"
   ]
  },
  {
   "cell_type": "code",
   "execution_count": null,
   "id": "64bb7f6f",
   "metadata": {
    "collapsed": false,
    "jupyter": {
     "outputs_hidden": false
    },
    "pycharm": {
     "name": "#%%\n"
    }
   },
   "outputs": [],
   "source": [
    "spb_price_for_km = pd.DataFrame(\n",
    "    spb_center.groupby(by='city_centers_nearest')\n",
    "    ['last_price']\n",
    "    .median()\n",
    ")\n",
    "\n",
    "spb_price_for_km.reset_index(inplace=True)\n",
    "spb_price_for_km.rename(columns = {'city_centers_nearest':'km_to_center'}, inplace=True)\n",
    "\n",
    "display(\n",
    "    spb_price_for_km\n",
    ")\n",
    "\n",
    "sns.lineplot(x=\"km_to_center\", y=\"last_price\",\n",
    "             data=spb_price_for_km)"
   ]
  },
  {
   "cell_type": "markdown",
   "id": "53e46a20-a80f-480f-b23b-fa46a016d918",
   "metadata": {},
   "source": [
    "#### 📊 Как цена зависит от удалённости от центра"
   ]
  },
  {
   "cell_type": "markdown",
   "id": "fb1ceb89-28b9-4d3a-b142-412cdf9a6b5e",
   "metadata": {},
   "source": [
    "На графике ↑ видно, что до 25–ти км цена снижается при удалении от центра, а вот дальше начинает увеличиваться, но как–то не очень равномерно. Выбросы…?"
   ]
  },
  {
   "cell_type": "markdown",
   "id": "72f8ab4b-edd6-4cf3-9951-4c5fe50459a0",
   "metadata": {},
   "source": [
    "#### 🔎 Определим границу, где график сильно меняется, — это и будет центральная зона"
   ]
  },
  {
   "cell_type": "markdown",
   "id": "e1290f56",
   "metadata": {
    "pycharm": {
     "name": "#%% md\n"
    }
   },
   "source": [
    "На 8-ом км медианная цена меняется с 5,3 млн ₽ до 7,44 млн ₽. Похоже, что это граница «центра»."
   ]
  },
  {
   "cell_type": "markdown",
   "id": "50446f2b-4267-42ab-86d2-889af9bd70af",
   "metadata": {},
   "source": [
    "<hr>"
   ]
  },
  {
   "cell_type": "markdown",
   "id": "30a61f21",
   "metadata": {
    "pycharm": {
     "name": "#%% md\n"
    }
   },
   "source": [
    "### Выделим сегмент квартир в центре"
   ]
  },
  {
   "cell_type": "markdown",
   "id": "1002bd64-b000-4042-b52f-cab7525fcbd9",
   "metadata": {},
   "source": [
    "#### 🔎 🎯 Площадь"
   ]
  },
  {
   "cell_type": "markdown",
   "id": "08c76fd3-7684-407a-b454-15c97532e2ed",
   "metadata": {},
   "source": [
    "#### 🔎 🎯 Цена"
   ]
  },
  {
   "cell_type": "markdown",
   "id": "0572e51c-ab8a-4b50-8d63-467d1644437a",
   "metadata": {},
   "source": [
    "#### 🔎 🎯 Число комнат"
   ]
  },
  {
   "cell_type": "markdown",
   "id": "32ceba0e-165d-40d3-9202-bb94050c2559",
   "metadata": {},
   "source": [
    "#### 🔎 🎯 Высота потолков"
   ]
  },
  {
   "cell_type": "code",
   "execution_count": null,
   "id": "4f42dd0a",
   "metadata": {
    "collapsed": false,
    "jupyter": {
     "outputs_hidden": false
    },
    "pycharm": {
     "name": "#%%\n"
    }
   },
   "outputs": [],
   "source": [
    "to_plot = (\n",
    "    real_estate_data.loc[\n",
    "        (real_estate_data['locality_name'] == 'Санкт-Петербург')\n",
    "        & (real_estate_data['city_centers_nearest'] <= 8000)\n",
    "        , ['total_area',\n",
    "           'last_price',\n",
    "           'rooms',\n",
    "           'ceiling_height',\n",
    "           'floor',\n",
    "           'city_centers_nearest',\n",
    "           'first_day_exposition'\n",
    "        ]\n",
    "    ]\n",
    ")\n",
    "\n",
    "f, ax = plt.subplots(nrows=2, ncols=2, figsize=(15, 17), gridspec_kw={'hspace': 0.37, })\n",
    "f.suptitle('квартиры в центре')\n",
    "\n",
    "ax[0, 0].set_title('total_area')\n",
    "sns.histplot(\n",
    "    data=to_plot['total_area'],\n",
    "    ax=ax[0, 0],\n",
    ")\n",
    "ax[0, 1].set_title('last_price')\n",
    "sns.histplot(\n",
    "    data=to_plot['last_price'],\n",
    "    ax=ax[0, 1],\n",
    "    log_scale=(True, True),\n",
    ")\n",
    "ax[1, 0].set_title('rooms')\n",
    "sns.histplot(\n",
    "    data=to_plot['rooms'],\n",
    "    ax=ax[1, 0],\n",
    "    log_scale=(False, True)\n",
    ")\n",
    "ax[1, 1].set_title('ceiling_height')\n",
    "sns.histplot(\n",
    "    data=to_plot['ceiling_height'],\n",
    "    ax=ax[1, 1],\n",
    "    log_scale=(False, True)\n",
    ")"
   ]
  },
  {
   "cell_type": "markdown",
   "id": "099bb280",
   "metadata": {
    "pycharm": {
     "name": "#%% md\n"
    }
   },
   "source": [
    "<hr>"
   ]
  },
  {
   "cell_type": "markdown",
   "id": "45b38ad4",
   "metadata": {
    "pycharm": {
     "name": "#%% md\n"
    }
   },
   "source": [
    "### Выделим факторы, которые влияют на стоимость квартиры"
   ]
  },
  {
   "cell_type": "markdown",
   "id": "5c265f4f-eb3a-4c5f-9dfd-79c6c7a9539b",
   "metadata": {},
   "source": [
    "Сделайте выводы. Отличаются ли они от общих выводов по всей базе?"
   ]
  },
  {
   "cell_type": "markdown",
   "id": "cc1ccc18-8248-492d-9e0d-f309be2c65fb",
   "metadata": {},
   "source": [
    "#### 🔎 число комнат"
   ]
  },
  {
   "cell_type": "code",
   "execution_count": null,
   "id": "c9b9e296",
   "metadata": {
    "collapsed": false,
    "jupyter": {
     "outputs_hidden": false
    },
    "pycharm": {
     "name": "#%%\n"
    }
   },
   "outputs": [],
   "source": [
    "sns.pairplot(data=to_plot,\n",
    "    vars=['last_price', 'rooms'],\n",
    "    height=7,\n",
    "    aspect=1,\n",
    ")"
   ]
  },
  {
   "cell_type": "markdown",
   "id": "11ad7033-46ae-422f-85e9-632b02b08db7",
   "metadata": {},
   "source": [
    "Интересно, что высокая цена у 4–5 комнатных квартир. То есть от студий и однокомнатных цена растёт с ростом количества комнат. Пик цены у 4–5 комнатных, далее цена снижается с увеличением количества комнат. Видимо, коммуналки не очень ценятся)"
   ]
  },
  {
   "cell_type": "markdown",
   "id": "b958a3ce-ddaa-441f-9cde-3790863c547d",
   "metadata": {},
   "source": [
    "#### 🔎 этаж"
   ]
  },
  {
   "cell_type": "code",
   "execution_count": null,
   "id": "e89b5d18",
   "metadata": {
    "collapsed": false,
    "jupyter": {
     "outputs_hidden": false
    },
    "pycharm": {
     "name": "#%%\n"
    }
   },
   "outputs": [],
   "source": [
    "sns.pairplot(data=to_plot,\n",
    "             vars=['last_price', 'floor'],\n",
    "             height=7,\n",
    "             aspect=1,\n",
    "             )"
   ]
  },
  {
   "cell_type": "markdown",
   "id": "11850d68-0295-4e5e-90cd-f8900fd6f106",
   "metadata": {},
   "source": [
    "#### 🔎 удалённость от центра"
   ]
  },
  {
   "cell_type": "code",
   "execution_count": null,
   "id": "4cf555d9",
   "metadata": {
    "collapsed": false,
    "jupyter": {
     "outputs_hidden": false
    },
    "pycharm": {
     "name": "#%%\n"
    }
   },
   "outputs": [],
   "source": [
    "sns.pairplot(data=to_plot,\n",
    "             vars=['last_price', 'city_centers_nearest'],\n",
    "             height=7,\n",
    "             aspect=1,\n",
    "             )"
   ]
  },
  {
   "cell_type": "markdown",
   "id": "c61e3822-a6c6-4677-8add-88049270e917",
   "metadata": {},
   "source": [
    "Явной зависимости цены от удалённости от центра в центре города не видно. Оно и понятно, в центре так в центре. Эрмитаж, Аврора или Александро–Невская Лавра рядом уже не так важно: цена будет высокой)"
   ]
  },
  {
   "cell_type": "markdown",
   "id": "bc140b94-31b3-4879-a329-2ac1f01604a0",
   "metadata": {},
   "source": [
    "#### 🔎 дата размещения объявления"
   ]
  },
  {
   "cell_type": "code",
   "execution_count": null,
   "id": "2695f910",
   "metadata": {
    "collapsed": false,
    "jupyter": {
     "outputs_hidden": false
    },
    "pycharm": {
     "name": "#%%\n"
    }
   },
   "outputs": [],
   "source": [
    "sns.pairplot(data=to_plot,\n",
    "             vars=['last_price', 'first_day_exposition'],\n",
    "             height=7,\n",
    "             aspect=1,\n",
    "             )"
   ]
  },
  {
   "cell_type": "markdown",
   "id": "c93e9870-900e-4e60-b164-26dc89260a14",
   "metadata": {},
   "source": [
    "Не похоже, что дата размещения влияет на цену."
   ]
  },
  {
   "cell_type": "code",
   "execution_count": null,
   "id": "88b143e6",
   "metadata": {
    "collapsed": false,
    "jupyter": {
     "outputs_hidden": false
    },
    "pycharm": {
     "name": "#%%\n"
    }
   },
   "outputs": [],
   "source": [
    "sns.pairplot(data=to_plot,\n",
    "             vars=['last_price', 'rooms', 'city_centers_nearest', 'first_day_exposition'],\n",
    "             height=5,\n",
    "             aspect=1,\n",
    "             )"
   ]
  },
  {
   "cell_type": "code",
   "execution_count": null,
   "id": "23d2eaac-87d0-411d-8e2c-f3717c07fe42",
   "metadata": {},
   "outputs": [],
   "source": []
  },
  {
   "cell_type": "markdown",
   "id": "9b4b4e58-b0ed-4915-8171-2c99b379af6c",
   "metadata": {},
   "source": [
    "Видно, что есть промежутки с малой активностью публикаций объавлений о квартирах в центре."
   ]
  },
  {
   "cell_type": "code",
   "execution_count": null,
   "id": "9f0dbd14-541c-4602-af83-a7cc27f18aae",
   "metadata": {},
   "outputs": [],
   "source": []
  },
  {
   "cell_type": "code",
   "execution_count": null,
   "id": "2a80fb3f-fb54-4695-95f0-6cc601d04cfb",
   "metadata": {},
   "outputs": [],
   "source": []
  },
  {
   "cell_type": "markdown",
   "id": "de664fc1",
   "metadata": {
    "pycharm": {
     "name": "#%% md\n"
    }
   },
   "source": [
    "## Шаг 5. Общий вывод"
   ]
  },
  {
   "cell_type": "markdown",
   "id": "d6880528-3412-4779-848f-e70868ef75f6",
   "metadata": {
    "pycharm": {
     "name": "#%% md\n"
    }
   },
   "source": [
    "## Описание данных"
   ]
  },
  {
   "cell_type": "markdown",
   "id": "e0a7df0f-acd8-4bd7-a3d8-db264d88876b",
   "metadata": {
    "pycharm": {
     "name": "#%% md\n"
    }
   },
   "source": [
    "`airports_nearest` — расстояние до ближайшего аэропорта в метрах (м)\n",
    "\n",
    "`balcony` — число балконов\n",
    "\n",
    "`ceiling_height` — высота потолков (м)\n",
    "\n",
    "`cityCenters_nearest` — расстояние до центра города (м)\n",
    "\n",
    "`days_exposition` — сколько дней было размещено объявление (от публикации до снятия)\n",
    "\n",
    "`first_day_exposition` — дата публикации\n",
    "\n",
    "`floor` — этаж\n",
    "\n",
    "`floors_total` — всего этажей в доме\n",
    "\n",
    "`is_apartment` — апартаменты (булев тип)\n",
    "\n",
    "`kitchen_area` — площадь кухни в квадратных метрах (м²)\n",
    "\n",
    "`last_price` — цена на момент снятия с публикации\n",
    "\n",
    "`living_area` — жилая площадь в квадратных метрах (м²)\n",
    "\n",
    "`locality_name` — название населённого пункта\n",
    "\n",
    "`open_plan` — свободная планировка (булев тип)\n",
    "\n",
    "`parks_around3000` — число парков в радиусе 3 км\n",
    "\n",
    "`parks_nearest` — расстояние до ближайшего парка (м)\n",
    "\n",
    "`ponds_around3000` — число водоёмов в радиусе 3 км\n",
    "\n",
    "`ponds_nearest` — расстояние до ближайшего водоёма (м)\n",
    "\n",
    "`rooms` — число комнат\n",
    "\n",
    "`studio` — квартира-студия (булев тип)\n",
    "\n",
    "`total_area` — площадь квартиры в квадратных метрах (м²)\n",
    "\n",
    "`total_images` — число фотографий квартиры в объявлении"
   ]
  }
 ],
 "metadata": {
  "kernelspec": {
   "display_name": "Python 3 (ipykernel)",
   "language": "python",
   "name": "python3"
  },
  "language_info": {
   "codemirror_mode": {
    "name": "ipython",
    "version": 3
   },
   "file_extension": ".py",
   "mimetype": "text/x-python",
   "name": "python",
   "nbconvert_exporter": "python",
   "pygments_lexer": "ipython3",
   "version": "3.8.10"
  }
 },
 "nbformat": 4,
 "nbformat_minor": 5
}
