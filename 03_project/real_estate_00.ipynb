{
 "cells": [
  {
   "cell_type": "markdown",
   "id": "70fffcea-4e44-411a-9c1d-d8f1c0871384",
   "metadata": {
    "pycharm": {
     "name": "#%% md\n"
    }
   },
   "source": [
    "# Яндекс Недвижимость"
   ]
  },
  {
   "cell_type": "markdown",
   "id": "6fbe0e76-5e2e-4122-9159-3c9d703e5215",
   "metadata": {
    "pycharm": {
     "name": "#%% md\n"
    }
   },
   "source": [
    "## Шаг 1. Откройте файл с данными и изучите общую информацию"
   ]
  },
  {
   "cell_type": "code",
   "execution_count": 1,
   "id": "27108e9f-f25a-42f5-a2e7-1bba050c8427",
   "metadata": {
    "pycharm": {
     "name": "#%%\n"
    }
   },
   "outputs": [],
   "source": [
    "import pandas as pd\n",
    "import re\n",
    "import random\n",
    "import math\n",
    "import numpy as np\n",
    "from IPython.core.display_functions import display"
   ]
  },
  {
   "cell_type": "code",
   "execution_count": 2,
   "outputs": [],
   "source": [
    "import requests\n",
    "from api_key import api_key\n",
    "import json\n",
    "from geopy import distance"
   ],
   "metadata": {
    "collapsed": false,
    "pycharm": {
     "name": "#%%\n"
    }
   }
  },
  {
   "cell_type": "code",
   "execution_count": 3,
   "id": "6fac5ee8-a1f4-4e99-9f64-f2dfe64ae886",
   "metadata": {
    "pycharm": {
     "name": "#%%\n"
    }
   },
   "outputs": [
    {
     "data": {
      "text/plain": "'1.4.2'"
     },
     "execution_count": 3,
     "metadata": {},
     "output_type": "execute_result"
    }
   ],
   "source": [
    "pd.__version__"
   ]
  },
  {
   "cell_type": "code",
   "execution_count": 3,
   "id": "1ccbfd6e-e8b3-42d6-ab74-eafee9027b39",
   "metadata": {
    "pycharm": {
     "name": "#%%\n"
    }
   },
   "outputs": [],
   "source": []
  },
  {
   "cell_type": "code",
   "execution_count": 4,
   "id": "4ab6be83-8aaf-4357-8032-c657fea1b93b",
   "metadata": {
    "pycharm": {
     "name": "#%%\n"
    }
   },
   "outputs": [],
   "source": [
    "# set max columns to none\n",
    "pd.set_option(\"display.max_columns\", None)"
   ]
  },
  {
   "cell_type": "code",
   "execution_count": 5,
   "outputs": [],
   "source": [
    "pulkovo_long_lat = (30.270441, 59.799816)\n",
    "hares_island_long_lat = (30.321948, 59.951103)"
   ],
   "metadata": {
    "collapsed": false,
    "pycharm": {
     "name": "#%%\n"
    }
   }
  },
  {
   "cell_type": "markdown",
   "id": "e98edfc8-fc0e-4bf8-94f6-4b3c83829717",
   "metadata": {
    "pycharm": {
     "name": "#%% md\n"
    }
   },
   "source": [
    "if type of location not set assumming that its town"
   ]
  },
  {
   "cell_type": "code",
   "execution_count": 6,
   "id": "fff11d03-9495-46e5-8267-78d2f7ddec5b",
   "metadata": {
    "pycharm": {
     "name": "#%%\n"
    }
   },
   "outputs": [],
   "source": [
    "def name_n_type(text):\n",
    "        whole_words = text.split()\n",
    "        type_list = []\n",
    "        name_list = []\n",
    "        name_loc = \" \"\n",
    "        type_loc = \" \"\n",
    "        \n",
    "        # regex\n",
    "        pattern = '[А-ЯЁ]+[а-яё]'\n",
    "        \n",
    "        for word in whole_words:\n",
    "            \n",
    "            # searching pattern\n",
    "            if re.search(pattern, word):\n",
    "                name_list.append(word)\n",
    "            else:\n",
    "                type_list.append(word)\n",
    "        \n",
    "        name_loc = name_loc.join(name_list)\n",
    "        \n",
    "        if len(type_list) == 0:\n",
    "            type_loc = 'город'\n",
    "        else:\n",
    "            type_loc = type_loc.join(type_list)\n",
    "        \n",
    "        return name_loc, type_loc"
   ]
  },
  {
   "cell_type": "code",
   "execution_count": 7,
   "outputs": [],
   "source": [
    "def correct_name(to_correct):\n",
    "    if 'поселок' in to_correct:\n",
    "        to_correct = to_correct.replace('поселок', 'посёлок')\n",
    "    return to_correct"
   ],
   "metadata": {
    "collapsed": false,
    "pycharm": {
     "name": "#%%\n"
    }
   }
  },
  {
   "cell_type": "code",
   "execution_count": 8,
   "outputs": [],
   "source": [
    "def get_length_2_arprt(\n",
    "        locality_name,\n",
    "        locality_type,\n",
    "        region='ленинградская область'):\n",
    "\n",
    "    address = (region, locality_type, locality_name)\n",
    "    address = ', '.join(address)\n",
    "    maps_url = 'https://geocode-maps.yandex.ru/1.x/'\n",
    "    keys = {'apikey': api_key,\n",
    "            'geocode': address,\n",
    "            'format': 'json',\n",
    "            'results': '1',\n",
    "            }\n",
    "\n",
    "    row_data = requests.get(maps_url, params=keys)\n",
    "    parsed = json.loads(row_data.text)\n",
    "    locality_position = (json.dumps(\n",
    "        parsed['response']['GeoObjectCollection']\n",
    "        ['featureMember'][0]['GeoObject']['Point']['pos']\n",
    "        , indent=4, ensure_ascii=False\n",
    "    )\n",
    "    )\n",
    "    locality_position = locality_position.replace('\\\"', '')\n",
    "    long, lat = locality_position.split(' ')\n",
    "    locality_long_lat = (float(long), float(lat))\n",
    "    dist_in_m = distance.distance(\n",
    "        locality_long_lat,\n",
    "        pulkovo_long_lat\n",
    "    ).m\n",
    "    return (float(round(dist_in_m)))"
   ],
   "metadata": {
    "collapsed": false,
    "pycharm": {
     "name": "#%%\n"
    }
   }
  },
  {
   "cell_type": "code",
   "execution_count": 9,
   "id": "430c2fd6-8ff0-45e4-b76f-be5ef7dd0718",
   "metadata": {
    "pycharm": {
     "name": "#%%\n"
    }
   },
   "outputs": [],
   "source": [
    "real_estate_data = pd.read_csv('./datasets/real_estate_data.csv', sep='\\t')"
   ]
  },
  {
   "cell_type": "code",
   "execution_count": 10,
   "id": "d6e32cf8-1d41-47fb-a157-8988304dfb52",
   "metadata": {
    "pycharm": {
     "name": "#%%\n"
    }
   },
   "outputs": [
    {
     "data": {
      "text/plain": "array([nan,  2.,  0.,  1.,  5.,  4.,  3.])"
     },
     "metadata": {},
     "output_type": "display_data"
    }
   ],
   "source": [
    "display(real_estate_data['balcony'].unique())"
   ]
  },
  {
   "cell_type": "code",
   "execution_count": 11,
   "id": "30bbf488-1da5-4998-8461-d039ca6099f8",
   "metadata": {
    "pycharm": {
     "name": "#%%\n"
    }
   },
   "outputs": [
    {
     "data": {
      "text/plain": "   total_images  last_price  total_area first_day_exposition  rooms  \\\n0            20  13000000.0       108.0  2019-03-07T00:00:00      3   \n1             7   3350000.0        40.4  2018-12-04T00:00:00      1   \n2            10   5196000.0        56.0  2015-08-20T00:00:00      2   \n3             0  64900000.0       159.0  2015-07-24T00:00:00      3   \n4             2  10000000.0       100.0  2018-06-19T00:00:00      2   \n\n   ceiling_height  floors_total  living_area  floor is_apartment  studio  \\\n0            2.70          16.0         51.0      8          NaN   False   \n1             NaN          11.0         18.6      1          NaN   False   \n2             NaN           5.0         34.3      4          NaN   False   \n3             NaN          14.0          NaN      9          NaN   False   \n4            3.03          14.0         32.0     13          NaN   False   \n\n   open_plan  kitchen_area  balcony    locality_name  airports_nearest  \\\n0      False          25.0      NaN  Санкт-Петербург           18863.0   \n1      False          11.0      2.0   посёлок Шушары           12817.0   \n2      False           8.3      0.0  Санкт-Петербург           21741.0   \n3      False           NaN      0.0  Санкт-Петербург           28098.0   \n4      False          41.0      NaN  Санкт-Петербург           31856.0   \n\n   cityCenters_nearest  parks_around3000  parks_nearest  ponds_around3000  \\\n0              16028.0               1.0          482.0               2.0   \n1              18603.0               0.0            NaN               0.0   \n2              13933.0               1.0           90.0               2.0   \n3               6800.0               2.0           84.0               3.0   \n4               8098.0               2.0          112.0               1.0   \n\n   ponds_nearest  days_exposition  \n0          755.0              NaN  \n1            NaN             81.0  \n2          574.0            558.0  \n3          234.0            424.0  \n4           48.0            121.0  ",
      "text/html": "<div>\n<style scoped>\n    .dataframe tbody tr th:only-of-type {\n        vertical-align: middle;\n    }\n\n    .dataframe tbody tr th {\n        vertical-align: top;\n    }\n\n    .dataframe thead th {\n        text-align: right;\n    }\n</style>\n<table border=\"1\" class=\"dataframe\">\n  <thead>\n    <tr style=\"text-align: right;\">\n      <th></th>\n      <th>total_images</th>\n      <th>last_price</th>\n      <th>total_area</th>\n      <th>first_day_exposition</th>\n      <th>rooms</th>\n      <th>ceiling_height</th>\n      <th>floors_total</th>\n      <th>living_area</th>\n      <th>floor</th>\n      <th>is_apartment</th>\n      <th>studio</th>\n      <th>open_plan</th>\n      <th>kitchen_area</th>\n      <th>balcony</th>\n      <th>locality_name</th>\n      <th>airports_nearest</th>\n      <th>cityCenters_nearest</th>\n      <th>parks_around3000</th>\n      <th>parks_nearest</th>\n      <th>ponds_around3000</th>\n      <th>ponds_nearest</th>\n      <th>days_exposition</th>\n    </tr>\n  </thead>\n  <tbody>\n    <tr>\n      <th>0</th>\n      <td>20</td>\n      <td>13000000.0</td>\n      <td>108.0</td>\n      <td>2019-03-07T00:00:00</td>\n      <td>3</td>\n      <td>2.70</td>\n      <td>16.0</td>\n      <td>51.0</td>\n      <td>8</td>\n      <td>NaN</td>\n      <td>False</td>\n      <td>False</td>\n      <td>25.0</td>\n      <td>NaN</td>\n      <td>Санкт-Петербург</td>\n      <td>18863.0</td>\n      <td>16028.0</td>\n      <td>1.0</td>\n      <td>482.0</td>\n      <td>2.0</td>\n      <td>755.0</td>\n      <td>NaN</td>\n    </tr>\n    <tr>\n      <th>1</th>\n      <td>7</td>\n      <td>3350000.0</td>\n      <td>40.4</td>\n      <td>2018-12-04T00:00:00</td>\n      <td>1</td>\n      <td>NaN</td>\n      <td>11.0</td>\n      <td>18.6</td>\n      <td>1</td>\n      <td>NaN</td>\n      <td>False</td>\n      <td>False</td>\n      <td>11.0</td>\n      <td>2.0</td>\n      <td>посёлок Шушары</td>\n      <td>12817.0</td>\n      <td>18603.0</td>\n      <td>0.0</td>\n      <td>NaN</td>\n      <td>0.0</td>\n      <td>NaN</td>\n      <td>81.0</td>\n    </tr>\n    <tr>\n      <th>2</th>\n      <td>10</td>\n      <td>5196000.0</td>\n      <td>56.0</td>\n      <td>2015-08-20T00:00:00</td>\n      <td>2</td>\n      <td>NaN</td>\n      <td>5.0</td>\n      <td>34.3</td>\n      <td>4</td>\n      <td>NaN</td>\n      <td>False</td>\n      <td>False</td>\n      <td>8.3</td>\n      <td>0.0</td>\n      <td>Санкт-Петербург</td>\n      <td>21741.0</td>\n      <td>13933.0</td>\n      <td>1.0</td>\n      <td>90.0</td>\n      <td>2.0</td>\n      <td>574.0</td>\n      <td>558.0</td>\n    </tr>\n    <tr>\n      <th>3</th>\n      <td>0</td>\n      <td>64900000.0</td>\n      <td>159.0</td>\n      <td>2015-07-24T00:00:00</td>\n      <td>3</td>\n      <td>NaN</td>\n      <td>14.0</td>\n      <td>NaN</td>\n      <td>9</td>\n      <td>NaN</td>\n      <td>False</td>\n      <td>False</td>\n      <td>NaN</td>\n      <td>0.0</td>\n      <td>Санкт-Петербург</td>\n      <td>28098.0</td>\n      <td>6800.0</td>\n      <td>2.0</td>\n      <td>84.0</td>\n      <td>3.0</td>\n      <td>234.0</td>\n      <td>424.0</td>\n    </tr>\n    <tr>\n      <th>4</th>\n      <td>2</td>\n      <td>10000000.0</td>\n      <td>100.0</td>\n      <td>2018-06-19T00:00:00</td>\n      <td>2</td>\n      <td>3.03</td>\n      <td>14.0</td>\n      <td>32.0</td>\n      <td>13</td>\n      <td>NaN</td>\n      <td>False</td>\n      <td>False</td>\n      <td>41.0</td>\n      <td>NaN</td>\n      <td>Санкт-Петербург</td>\n      <td>31856.0</td>\n      <td>8098.0</td>\n      <td>2.0</td>\n      <td>112.0</td>\n      <td>1.0</td>\n      <td>48.0</td>\n      <td>121.0</td>\n    </tr>\n  </tbody>\n</table>\n</div>"
     },
     "metadata": {},
     "output_type": "display_data"
    }
   ],
   "source": [
    "display(real_estate_data.head())"
   ]
  },
  {
   "cell_type": "markdown",
   "id": "abe153e8-9b1e-4ae5-8813-4602336bb9fe",
   "metadata": {
    "pycharm": {
     "name": "#%% md\n"
    }
   },
   "source": [
    "`'cityCenters_nearest'` → convert to snake case"
   ]
  },
  {
   "cell_type": "code",
   "execution_count": 12,
   "id": "482cb0fa-c405-41d3-9985-681d47679d09",
   "metadata": {
    "pycharm": {
     "name": "#%%\n"
    }
   },
   "outputs": [],
   "source": [
    "real_estate_data.rename(columns={'cityCenters_nearest': 'city_centers_nearest'}, inplace=True)"
   ]
  },
  {
   "cell_type": "code",
   "execution_count": 13,
   "id": "be05ce32-3653-48dc-9a00-2b0008ab25e7",
   "metadata": {
    "pycharm": {
     "name": "#%%\n"
    }
   },
   "outputs": [
    {
     "data": {
      "text/plain": "array([nan, False, True], dtype=object)"
     },
     "metadata": {},
     "output_type": "display_data"
    }
   ],
   "source": [
    "display(real_estate_data['is_apartment'].unique())"
   ]
  },
  {
   "cell_type": "code",
   "execution_count": 14,
   "id": "a71ff794-c622-49bd-bdba-b6ffb3200aad",
   "metadata": {
    "pycharm": {
     "name": "#%%\n"
    }
   },
   "outputs": [
    {
     "data": {
      "text/plain": "array([nan,  2.,  0.,  1.,  5.,  4.,  3.])"
     },
     "metadata": {},
     "output_type": "display_data"
    }
   ],
   "source": [
    "display(real_estate_data['balcony'].unique())"
   ]
  },
  {
   "cell_type": "markdown",
   "id": "ffb69bd7-097d-47dc-ad5b-52f0826c9842",
   "metadata": {
    "pycharm": {
     "name": "#%% md\n"
    }
   },
   "source": [
    "<div class=\"alert alert-info\" role=\"alert\">\n",
    "    <p class=\"mb-0\">Как получить <code>list</code> колонок с <code>NaN</code> нашёл на <code>stackoverflow</code> 👌</p>\n",
    "</div>"
   ]
  },
  {
   "cell_type": "code",
   "execution_count": 15,
   "id": "77b68f07-b44e-4251-890f-3f883528d90b",
   "metadata": {
    "pycharm": {
     "name": "#%%\n"
    }
   },
   "outputs": [
    {
     "data": {
      "text/plain": "['ceiling_height',\n 'floors_total',\n 'living_area',\n 'is_apartment',\n 'kitchen_area',\n 'balcony',\n 'locality_name',\n 'airports_nearest',\n 'city_centers_nearest',\n 'parks_around3000',\n 'parks_nearest',\n 'ponds_around3000',\n 'ponds_nearest',\n 'days_exposition']"
     },
     "metadata": {},
     "output_type": "display_data"
    }
   ],
   "source": [
    "display(\n",
    "    real_estate_data.columns[real_estate_data.isna().any()].tolist()\n",
    ")"
   ]
  },
  {
   "cell_type": "markdown",
   "id": "7e7ce3df-ca13-4fe1-8ac0-327c6a022978",
   "metadata": {
    "pycharm": {
     "name": "#%% md\n"
    }
   },
   "source": [
    "Добро, вот с этими колонками нужно разобраться в них пропуски — `NaN`"
   ]
  },
  {
   "cell_type": "code",
   "execution_count": 16,
   "id": "710b4b8e-f4cb-48fe-912b-f9d6f3d17d36",
   "metadata": {
    "pycharm": {
     "name": "#%%\n"
    }
   },
   "outputs": [
    {
     "name": "stdout",
     "output_type": "stream",
     "text": [
      "<class 'pandas.core.frame.DataFrame'>\n",
      "RangeIndex: 23699 entries, 0 to 23698\n",
      "Data columns (total 22 columns):\n",
      " #   Column                Non-Null Count  Dtype  \n",
      "---  ------                --------------  -----  \n",
      " 0   total_images          23699 non-null  int64  \n",
      " 1   last_price            23699 non-null  float64\n",
      " 2   total_area            23699 non-null  float64\n",
      " 3   first_day_exposition  23699 non-null  object \n",
      " 4   rooms                 23699 non-null  int64  \n",
      " 5   ceiling_height        14504 non-null  float64\n",
      " 6   floors_total          23613 non-null  float64\n",
      " 7   living_area           21796 non-null  float64\n",
      " 8   floor                 23699 non-null  int64  \n",
      " 9   is_apartment          2775 non-null   object \n",
      " 10  studio                23699 non-null  bool   \n",
      " 11  open_plan             23699 non-null  bool   \n",
      " 12  kitchen_area          21421 non-null  float64\n",
      " 13  balcony               12180 non-null  float64\n",
      " 14  locality_name         23650 non-null  object \n",
      " 15  airports_nearest      18157 non-null  float64\n",
      " 16  city_centers_nearest  18180 non-null  float64\n",
      " 17  parks_around3000      18181 non-null  float64\n",
      " 18  parks_nearest         8079 non-null   float64\n",
      " 19  ponds_around3000      18181 non-null  float64\n",
      " 20  ponds_nearest         9110 non-null   float64\n",
      " 21  days_exposition       20518 non-null  float64\n",
      "dtypes: bool(2), float64(14), int64(3), object(3)\n",
      "memory usage: 3.7+ MB\n"
     ]
    },
    {
     "data": {
      "text/plain": "None"
     },
     "metadata": {},
     "output_type": "display_data"
    }
   ],
   "source": [
    "display(real_estate_data.info())"
   ]
  },
  {
   "cell_type": "code",
   "execution_count": 17,
   "id": "6d5deab3-2504-4439-983d-bd6a18189292",
   "metadata": {
    "pycharm": {
     "name": "#%%\n"
    }
   },
   "outputs": [
    {
     "name": "stdout",
     "output_type": "stream",
     "text": [
      "ceiling_height NaN = 9195\n",
      "count    14504.000000\n",
      "mean         2.771499\n",
      "std          1.261056\n",
      "min          1.000000\n",
      "25%          2.520000\n",
      "50%          2.650000\n",
      "75%          2.800000\n",
      "max        100.000000\n",
      "Name: ceiling_height, dtype: float64\n",
      "\n",
      "floors_total NaN = 86\n",
      "count    23613.000000\n",
      "mean        10.673824\n",
      "std          6.597173\n",
      "min          1.000000\n",
      "25%          5.000000\n",
      "50%          9.000000\n",
      "75%         16.000000\n",
      "max         60.000000\n",
      "Name: floors_total, dtype: float64\n",
      "\n",
      "living_area NaN = 1903\n",
      "count    21796.000000\n",
      "mean        34.457852\n",
      "std         22.030445\n",
      "min          2.000000\n",
      "25%         18.600000\n",
      "50%         30.000000\n",
      "75%         42.300000\n",
      "max        409.700000\n",
      "Name: living_area, dtype: float64\n",
      "\n",
      "is_apartment NaN = 20924\n",
      "count      2775\n",
      "unique        2\n",
      "top       False\n",
      "freq       2725\n",
      "Name: is_apartment, dtype: object\n",
      "\n",
      "kitchen_area NaN = 2278\n",
      "count    21421.000000\n",
      "mean        10.569807\n",
      "std          5.905438\n",
      "min          1.300000\n",
      "25%          7.000000\n",
      "50%          9.100000\n",
      "75%         12.000000\n",
      "max        112.000000\n",
      "Name: kitchen_area, dtype: float64\n",
      "\n",
      "balcony NaN = 11519\n",
      "count    12180.000000\n",
      "mean         1.150082\n",
      "std          1.071300\n",
      "min          0.000000\n",
      "25%          0.000000\n",
      "50%          1.000000\n",
      "75%          2.000000\n",
      "max          5.000000\n",
      "Name: balcony, dtype: float64\n",
      "\n",
      "locality_name NaN = 49\n",
      "count               23650\n",
      "unique                364\n",
      "top       Санкт-Петербург\n",
      "freq                15721\n",
      "Name: locality_name, dtype: object\n",
      "\n",
      "airports_nearest NaN = 5542\n",
      "count    18157.000000\n",
      "mean     28793.672193\n",
      "std      12630.880622\n",
      "min          0.000000\n",
      "25%      18585.000000\n",
      "50%      26726.000000\n",
      "75%      37273.000000\n",
      "max      84869.000000\n",
      "Name: airports_nearest, dtype: float64\n",
      "\n",
      "city_centers_nearest NaN = 5519\n",
      "count    18180.000000\n",
      "mean     14191.277833\n",
      "std       8608.386210\n",
      "min        181.000000\n",
      "25%       9238.000000\n",
      "50%      13098.500000\n",
      "75%      16293.000000\n",
      "max      65968.000000\n",
      "Name: city_centers_nearest, dtype: float64\n",
      "\n",
      "parks_around3000 NaN = 5518\n",
      "count    18181.000000\n",
      "mean         0.611408\n",
      "std          0.802074\n",
      "min          0.000000\n",
      "25%          0.000000\n",
      "50%          0.000000\n",
      "75%          1.000000\n",
      "max          3.000000\n",
      "Name: parks_around3000, dtype: float64\n",
      "\n",
      "parks_nearest NaN = 15620\n",
      "count    8079.000000\n",
      "mean      490.804555\n",
      "std       342.317995\n",
      "min         1.000000\n",
      "25%       288.000000\n",
      "50%       455.000000\n",
      "75%       612.000000\n",
      "max      3190.000000\n",
      "Name: parks_nearest, dtype: float64\n",
      "\n",
      "ponds_around3000 NaN = 5518\n",
      "count    18181.000000\n",
      "mean         0.770255\n",
      "std          0.938346\n",
      "min          0.000000\n",
      "25%          0.000000\n",
      "50%          1.000000\n",
      "75%          1.000000\n",
      "max          3.000000\n",
      "Name: ponds_around3000, dtype: float64\n",
      "\n",
      "ponds_nearest NaN = 14589\n",
      "count    9110.000000\n",
      "mean      517.980900\n",
      "std       277.720643\n",
      "min        13.000000\n",
      "25%       294.000000\n",
      "50%       502.000000\n",
      "75%       729.000000\n",
      "max      1344.000000\n",
      "Name: ponds_nearest, dtype: float64\n",
      "\n",
      "days_exposition NaN = 3181\n",
      "count    20518.000000\n",
      "mean       180.888634\n",
      "std        219.727988\n",
      "min          1.000000\n",
      "25%         45.000000\n",
      "50%         95.000000\n",
      "75%        232.000000\n",
      "max       1580.000000\n",
      "Name: days_exposition, dtype: float64\n",
      "\n"
     ]
    }
   ],
   "source": [
    "\n",
    "for column in real_estate_data.columns:\n",
    "    count_of_nan = len(real_estate_data.loc[real_estate_data[column].isna()][column])\n",
    "    if count_of_nan > 0:\n",
    "        print(column, end=' NaN = ')\n",
    "        print(count_of_nan)\n",
    "        print(real_estate_data[column].describe(), end='\\n\\n')"
   ]
  },
  {
   "cell_type": "markdown",
   "id": "f018aba0-39ef-4403-a949-e3e3cb152abc",
   "metadata": {
    "pycharm": {
     "name": "#%% md\n"
    }
   },
   "source": [
    "## Шаг 2. Предобработка данных"
   ]
  },
  {
   "cell_type": "markdown",
   "id": "9ccfa6ec-5d03-48ab-a808-af3438bff92e",
   "metadata": {
    "pycharm": {
     "name": "#%% md\n"
    }
   },
   "source": [
    "Определите и изучите пропущенные значения:\n",
    "Для некоторых пропущенных значений можно предположить логичную замену. Например, если человек не указал число балконов — скорее всего, их нет. Такие пропуски правильно заменить на 0. Для других типов данных нет подходящего значения на замену. В этом случае правильно оставить эти значения пустыми. Отсутствие значения — тоже важный сигнал, который не нужно прятать.\n",
    "\n"
   ]
  },
  {
   "cell_type": "markdown",
   "id": "04f88e1c-d62f-4e25-9a83-1e9fd89a4c95",
   "metadata": {
    "pycharm": {
     "name": "#%% md\n"
    }
   },
   "source": [
    "Заполните пропуски, где это уместно. Опишите, почему вы решили заполнить пропуски именно в этих столбцах и как выбрали значения.\n",
    "Укажите причины, которые могли привести к пропускам в данных."
   ]
  },
  {
   "cell_type": "code",
   "execution_count": 18,
   "id": "5371fec9-30af-49f8-b22d-8b333c437ef5",
   "metadata": {
    "pycharm": {
     "name": "#%%\n"
    }
   },
   "outputs": [],
   "source": [
    "real_estate_data['is_apartment'].fillna(value=False, inplace=True)"
   ]
  },
  {
   "cell_type": "code",
   "execution_count": 19,
   "id": "30464d21-2f98-4143-bf85-bdbfe4219bbe",
   "metadata": {
    "pycharm": {
     "name": "#%%\n"
    }
   },
   "outputs": [
    {
     "data": {
      "text/plain": "count    11519.000000\nmean         5.314003\nstd          4.667232\nmin          1.000000\n25%          2.000000\n50%          4.000000\n75%          7.000000\nmax         31.000000\nName: floor, dtype: float64"
     },
     "metadata": {},
     "output_type": "display_data"
    },
    {
     "data": {
      "text/plain": "count    12180.000000\nmean         6.439327\nstd          5.022114\nmin          1.000000\n25%          3.000000\n50%          5.000000\n75%          9.000000\nmax         33.000000\nName: floor, dtype: float64"
     },
     "metadata": {},
     "output_type": "display_data"
    },
    {
     "data": {
      "text/plain": "1926"
     },
     "metadata": {},
     "output_type": "display_data"
    }
   ],
   "source": [
    "display(\n",
    "    real_estate_data['floor'].loc[(real_estate_data['balcony'].isna())].describe()\n",
    ")\n",
    "\n",
    "display(\n",
    "    real_estate_data['floor'].loc[~(real_estate_data['balcony'].isna())].describe()\n",
    ")\n",
    "\n",
    "display(\n",
    "    real_estate_data['floor']\n",
    "        .loc[(real_estate_data['balcony'].isna())\n",
    "            & (real_estate_data['floor'] == 1)]\n",
    "        .count()\n",
    ")"
   ]
  },
  {
   "cell_type": "code",
   "execution_count": 20,
   "id": "4bf970fc-c9d4-4d82-b3ed-b56a9392836f",
   "metadata": {
    "pycharm": {
     "name": "#%%\n"
    }
   },
   "outputs": [],
   "source": [
    "(\n",
    "    real_estate_data['balcony'].loc[(real_estate_data['balcony'].isna())\n",
    "                                & (real_estate_data['floor'] == 1)]\n",
    "                            .fillna(value=0, inplace=True)\n",
    ")"
   ]
  },
  {
   "cell_type": "code",
   "execution_count": 21,
   "id": "a281eb93-47e5-4bfd-a913-5754a0ad686d",
   "metadata": {
    "pycharm": {
     "name": "#%%\n"
    }
   },
   "outputs": [
    {
     "data": {
      "text/plain": "array([nan,  2.,  0.,  1.,  5.,  4.,  3.])"
     },
     "metadata": {},
     "output_type": "display_data"
    }
   ],
   "source": [
    "display(\n",
    "    real_estate_data['balcony'].unique()\n",
    ")"
   ]
  },
  {
   "cell_type": "markdown",
   "id": "af7df53b-e720-4ed2-8f79-bc1121c8403c",
   "metadata": {
    "pycharm": {
     "name": "#%% md\n"
    }
   },
   "source": [
    "next step is temp"
   ]
  },
  {
   "cell_type": "code",
   "execution_count": 22,
   "id": "6fa82621-0a9e-4a3e-9f09-cd801bfc1a6f",
   "metadata": {
    "pycharm": {
     "name": "#%%\n"
    }
   },
   "outputs": [],
   "source": [
    "real_estate_data['balcony'].fillna(value=108, inplace=True)"
   ]
  },
  {
   "cell_type": "code",
   "execution_count": 23,
   "id": "89427e9f-d1be-4492-9ddc-fd035a3f83a9",
   "metadata": {
    "pycharm": {
     "name": "#%%\n"
    }
   },
   "outputs": [
    {
     "data": {
      "text/plain": "array([108.,   2.,   0.,   1.,   5.,   4.,   3.])"
     },
     "metadata": {},
     "output_type": "display_data"
    }
   ],
   "source": [
    "display(\n",
    "    real_estate_data['balcony'].unique()\n",
    ")"
   ]
  },
  {
   "cell_type": "code",
   "execution_count": 24,
   "id": "9038fbc7-b96d-489b-89e9-7cce1f9eccdf",
   "metadata": {
    "pycharm": {
     "name": "#%%\n"
    }
   },
   "outputs": [],
   "source": [
    "real_estate_data['is_apartment'].fillna(value=False, inplace=True)"
   ]
  },
  {
   "cell_type": "code",
   "execution_count": 25,
   "id": "f3755c48-9c9c-432b-b38f-56f6e9a659b8",
   "metadata": {
    "pycharm": {
     "name": "#%%\n"
    }
   },
   "outputs": [
    {
     "data": {
      "text/plain": "      total_images  last_price  total_area first_day_exposition  rooms  \\\n1097             3   8600000.0        81.7  2016-04-15T00:00:00      3   \n2033             6   5398000.0        80.0  2017-05-30T00:00:00      3   \n2603            20   3351765.0        42.7  2015-09-20T00:00:00      1   \n2632             2   5130593.0        62.4  2015-10-11T00:00:00      2   \n3574            10   4200000.0        46.5  2016-05-28T00:00:00      2   \n4151            17  17600000.0        89.5  2014-12-09T00:00:00      2   \n4189             7   9200000.0        80.0  2015-12-10T00:00:00      3   \n4670             1   5500000.0        83.0  2015-08-14T00:00:00      3   \n5343            19  13540000.0        85.5  2016-01-20T00:00:00      3   \n5707             7   3700000.0        30.0  2016-04-29T00:00:00      1   \n\n      ceiling_height  floors_total  living_area  floor  is_apartment  studio  \\\n1097            3.55           5.0        50.80      2         False   False   \n2033             NaN           4.0        42.60      2         False   False   \n2603             NaN          24.0        15.60      3         False   False   \n2632             NaN          24.0        33.10     21         False   False   \n3574             NaN           5.0        30.80      5         False   False   \n4151            3.00           8.0        39.62      7         False   False   \n4189            4.00           4.0        52.30      3         False   False   \n4670             NaN           7.0          NaN      6         False   False   \n5343             NaN           7.0        59.10      5         False   False   \n5707             NaN          24.0        20.00     23         False   False   \n\n      open_plan  kitchen_area  balcony locality_name  airports_nearest  \\\n1097      False          8.80      0.0           NaN           23478.0   \n2033      False         18.60      0.0           NaN               NaN   \n2603      False         10.70      0.0           NaN           22041.0   \n2632      False          8.20      0.0           NaN           22041.0   \n3574      False          6.50      0.0           NaN           27419.0   \n4151      False         13.38      0.0           NaN           25054.0   \n4189      False         10.40      0.0           NaN           21774.0   \n4670      False           NaN      0.0           NaN           26534.0   \n5343      False          8.30      4.0           NaN           10556.0   \n5707      False           NaN      0.0           NaN           21460.0   \n\n      city_centers_nearest  parks_around3000  parks_nearest  ponds_around3000  \\\n1097                4258.0               0.0            NaN               0.0   \n2033                   NaN               NaN            NaN               NaN   \n2603               17369.0               0.0            NaN               1.0   \n2632               17369.0               0.0            NaN               1.0   \n3574                8127.0               0.0            NaN               1.0   \n4151                3902.0               1.0          485.0               3.0   \n4189                3039.0               1.0          690.0               1.0   \n4670                5382.0               1.0          446.0               1.0   \n5343                9538.0               1.0           67.0               0.0   \n5707               16788.0               0.0            NaN               1.0   \n\n      ponds_nearest  days_exposition  \n1097            NaN            147.0  \n2033            NaN             34.0  \n2603          374.0            276.0  \n2632          374.0            256.0  \n3574          603.0             45.0  \n4151          722.0            869.0  \n4189          953.0            223.0  \n4670          376.0            350.0  \n5343            NaN            303.0  \n5707          170.0             49.0  ",
      "text/html": "<div>\n<style scoped>\n    .dataframe tbody tr th:only-of-type {\n        vertical-align: middle;\n    }\n\n    .dataframe tbody tr th {\n        vertical-align: top;\n    }\n\n    .dataframe thead th {\n        text-align: right;\n    }\n</style>\n<table border=\"1\" class=\"dataframe\">\n  <thead>\n    <tr style=\"text-align: right;\">\n      <th></th>\n      <th>total_images</th>\n      <th>last_price</th>\n      <th>total_area</th>\n      <th>first_day_exposition</th>\n      <th>rooms</th>\n      <th>ceiling_height</th>\n      <th>floors_total</th>\n      <th>living_area</th>\n      <th>floor</th>\n      <th>is_apartment</th>\n      <th>studio</th>\n      <th>open_plan</th>\n      <th>kitchen_area</th>\n      <th>balcony</th>\n      <th>locality_name</th>\n      <th>airports_nearest</th>\n      <th>city_centers_nearest</th>\n      <th>parks_around3000</th>\n      <th>parks_nearest</th>\n      <th>ponds_around3000</th>\n      <th>ponds_nearest</th>\n      <th>days_exposition</th>\n    </tr>\n  </thead>\n  <tbody>\n    <tr>\n      <th>1097</th>\n      <td>3</td>\n      <td>8600000.0</td>\n      <td>81.7</td>\n      <td>2016-04-15T00:00:00</td>\n      <td>3</td>\n      <td>3.55</td>\n      <td>5.0</td>\n      <td>50.80</td>\n      <td>2</td>\n      <td>False</td>\n      <td>False</td>\n      <td>False</td>\n      <td>8.80</td>\n      <td>0.0</td>\n      <td>NaN</td>\n      <td>23478.0</td>\n      <td>4258.0</td>\n      <td>0.0</td>\n      <td>NaN</td>\n      <td>0.0</td>\n      <td>NaN</td>\n      <td>147.0</td>\n    </tr>\n    <tr>\n      <th>2033</th>\n      <td>6</td>\n      <td>5398000.0</td>\n      <td>80.0</td>\n      <td>2017-05-30T00:00:00</td>\n      <td>3</td>\n      <td>NaN</td>\n      <td>4.0</td>\n      <td>42.60</td>\n      <td>2</td>\n      <td>False</td>\n      <td>False</td>\n      <td>False</td>\n      <td>18.60</td>\n      <td>0.0</td>\n      <td>NaN</td>\n      <td>NaN</td>\n      <td>NaN</td>\n      <td>NaN</td>\n      <td>NaN</td>\n      <td>NaN</td>\n      <td>NaN</td>\n      <td>34.0</td>\n    </tr>\n    <tr>\n      <th>2603</th>\n      <td>20</td>\n      <td>3351765.0</td>\n      <td>42.7</td>\n      <td>2015-09-20T00:00:00</td>\n      <td>1</td>\n      <td>NaN</td>\n      <td>24.0</td>\n      <td>15.60</td>\n      <td>3</td>\n      <td>False</td>\n      <td>False</td>\n      <td>False</td>\n      <td>10.70</td>\n      <td>0.0</td>\n      <td>NaN</td>\n      <td>22041.0</td>\n      <td>17369.0</td>\n      <td>0.0</td>\n      <td>NaN</td>\n      <td>1.0</td>\n      <td>374.0</td>\n      <td>276.0</td>\n    </tr>\n    <tr>\n      <th>2632</th>\n      <td>2</td>\n      <td>5130593.0</td>\n      <td>62.4</td>\n      <td>2015-10-11T00:00:00</td>\n      <td>2</td>\n      <td>NaN</td>\n      <td>24.0</td>\n      <td>33.10</td>\n      <td>21</td>\n      <td>False</td>\n      <td>False</td>\n      <td>False</td>\n      <td>8.20</td>\n      <td>0.0</td>\n      <td>NaN</td>\n      <td>22041.0</td>\n      <td>17369.0</td>\n      <td>0.0</td>\n      <td>NaN</td>\n      <td>1.0</td>\n      <td>374.0</td>\n      <td>256.0</td>\n    </tr>\n    <tr>\n      <th>3574</th>\n      <td>10</td>\n      <td>4200000.0</td>\n      <td>46.5</td>\n      <td>2016-05-28T00:00:00</td>\n      <td>2</td>\n      <td>NaN</td>\n      <td>5.0</td>\n      <td>30.80</td>\n      <td>5</td>\n      <td>False</td>\n      <td>False</td>\n      <td>False</td>\n      <td>6.50</td>\n      <td>0.0</td>\n      <td>NaN</td>\n      <td>27419.0</td>\n      <td>8127.0</td>\n      <td>0.0</td>\n      <td>NaN</td>\n      <td>1.0</td>\n      <td>603.0</td>\n      <td>45.0</td>\n    </tr>\n    <tr>\n      <th>4151</th>\n      <td>17</td>\n      <td>17600000.0</td>\n      <td>89.5</td>\n      <td>2014-12-09T00:00:00</td>\n      <td>2</td>\n      <td>3.00</td>\n      <td>8.0</td>\n      <td>39.62</td>\n      <td>7</td>\n      <td>False</td>\n      <td>False</td>\n      <td>False</td>\n      <td>13.38</td>\n      <td>0.0</td>\n      <td>NaN</td>\n      <td>25054.0</td>\n      <td>3902.0</td>\n      <td>1.0</td>\n      <td>485.0</td>\n      <td>3.0</td>\n      <td>722.0</td>\n      <td>869.0</td>\n    </tr>\n    <tr>\n      <th>4189</th>\n      <td>7</td>\n      <td>9200000.0</td>\n      <td>80.0</td>\n      <td>2015-12-10T00:00:00</td>\n      <td>3</td>\n      <td>4.00</td>\n      <td>4.0</td>\n      <td>52.30</td>\n      <td>3</td>\n      <td>False</td>\n      <td>False</td>\n      <td>False</td>\n      <td>10.40</td>\n      <td>0.0</td>\n      <td>NaN</td>\n      <td>21774.0</td>\n      <td>3039.0</td>\n      <td>1.0</td>\n      <td>690.0</td>\n      <td>1.0</td>\n      <td>953.0</td>\n      <td>223.0</td>\n    </tr>\n    <tr>\n      <th>4670</th>\n      <td>1</td>\n      <td>5500000.0</td>\n      <td>83.0</td>\n      <td>2015-08-14T00:00:00</td>\n      <td>3</td>\n      <td>NaN</td>\n      <td>7.0</td>\n      <td>NaN</td>\n      <td>6</td>\n      <td>False</td>\n      <td>False</td>\n      <td>False</td>\n      <td>NaN</td>\n      <td>0.0</td>\n      <td>NaN</td>\n      <td>26534.0</td>\n      <td>5382.0</td>\n      <td>1.0</td>\n      <td>446.0</td>\n      <td>1.0</td>\n      <td>376.0</td>\n      <td>350.0</td>\n    </tr>\n    <tr>\n      <th>5343</th>\n      <td>19</td>\n      <td>13540000.0</td>\n      <td>85.5</td>\n      <td>2016-01-20T00:00:00</td>\n      <td>3</td>\n      <td>NaN</td>\n      <td>7.0</td>\n      <td>59.10</td>\n      <td>5</td>\n      <td>False</td>\n      <td>False</td>\n      <td>False</td>\n      <td>8.30</td>\n      <td>4.0</td>\n      <td>NaN</td>\n      <td>10556.0</td>\n      <td>9538.0</td>\n      <td>1.0</td>\n      <td>67.0</td>\n      <td>0.0</td>\n      <td>NaN</td>\n      <td>303.0</td>\n    </tr>\n    <tr>\n      <th>5707</th>\n      <td>7</td>\n      <td>3700000.0</td>\n      <td>30.0</td>\n      <td>2016-04-29T00:00:00</td>\n      <td>1</td>\n      <td>NaN</td>\n      <td>24.0</td>\n      <td>20.00</td>\n      <td>23</td>\n      <td>False</td>\n      <td>False</td>\n      <td>False</td>\n      <td>NaN</td>\n      <td>0.0</td>\n      <td>NaN</td>\n      <td>21460.0</td>\n      <td>16788.0</td>\n      <td>0.0</td>\n      <td>NaN</td>\n      <td>1.0</td>\n      <td>170.0</td>\n      <td>49.0</td>\n    </tr>\n  </tbody>\n</table>\n</div>"
     },
     "metadata": {},
     "output_type": "display_data"
    }
   ],
   "source": [
    "display(\n",
    "    real_estate_data.loc[real_estate_data['locality_name'].isna()]\n",
    "                        .head(10)\n",
    ")"
   ]
  },
  {
   "cell_type": "code",
   "execution_count": 26,
   "id": "b7aa02f1-4d3b-4823-ba20-2bc094088d12",
   "metadata": {
    "pycharm": {
     "name": "#%%\n"
    }
   },
   "outputs": [
    {
     "data": {
      "text/plain": "['ceiling_height',\n 'floors_total',\n 'living_area',\n 'kitchen_area',\n 'locality_name',\n 'airports_nearest',\n 'city_centers_nearest',\n 'parks_around3000',\n 'parks_nearest',\n 'ponds_around3000',\n 'ponds_nearest',\n 'days_exposition']"
     },
     "metadata": {},
     "output_type": "display_data"
    }
   ],
   "source": [
    "display(\n",
    "    real_estate_data.columns[real_estate_data.isna().any()].tolist()\n",
    ")"
   ]
  },
  {
   "cell_type": "markdown",
   "id": "6e91e33a-eac7-41b7-8c19-1e5562a13f70",
   "metadata": {
    "pycharm": {
     "name": "#%% md\n"
    }
   },
   "source": [
    "    ❌ 'ceiling_height' — сделаем `NaN` медианным значением по району\n",
    "    ❌ 'floors_total' — сделаем `NaN` медианным значением по району\n",
    "    ❌ 'living_area' — сделаем `NaN` медианным значением по диапазонам цен и рай\n",
    "    ✅ 'is_apartment'\n",
    "    ❌ 'kitchen_area' — если студия то кухня `NaN` проверим, если да то сделаем 0\n",
    "    ✅ 'balcony'\n",
    "    ❌ 'locality_name' — сначала удалим неявные дубликаты\n",
    "    ❌ 'airports_nearest' — проверим по районам, может и нет ближайших аэропортов тогда `NaN` = 0\n",
    "    ❌ 'city_centers_nearest' — проверим по районам, может и нет ближайших центров города тогда `NaN` = 0\n",
    "    ❌ 'parks_around3000' — проверим по районам, может и нет ближайших парков тогда `NaN` = 0\n",
    "    ❌ 'parks_nearest'\n",
    "    ❌ 'ponds_around3000' — проверим по районам, может и нет ближайших прудов тогда `NaN` = 0\n",
    "    ❌ 'ponds_nearest'\n",
    "    ❌ 'days_exposition' — посмотрим как связан столбец с `first_day_exposition`"
   ]
  },
  {
   "cell_type": "markdown",
   "id": "d9a99ceb-9dfe-4d87-9646-5121ce9a5755",
   "metadata": {
    "pycharm": {
     "name": "#%% md\n"
    }
   },
   "source": [
    "**Предполагаю**\n",
    "\n",
    "что стоит заменить пропущенные высоту потолков и количество этажей на медиану районных значений."
   ]
  },
  {
   "cell_type": "markdown",
   "id": "0a9610c8-a8ae-46bd-8c9d-55e8d934386d",
   "metadata": {
    "pycharm": {
     "name": "#%% md\n"
    }
   },
   "source": [
    "### `'locality_name'` — сначала удалим неявные дубликаты"
   ]
  },
  {
   "cell_type": "markdown",
   "id": "d5e7c29d-606d-4211-987c-d24e404608a6",
   "metadata": {
    "pycharm": {
     "name": "#%% md\n"
    }
   },
   "source": [
    "func to reduce dublicates"
   ]
  },
  {
   "cell_type": "code",
   "execution_count": 27,
   "id": "aa81f3c9-56d7-47fc-a309-a7123492da2d",
   "metadata": {
    "pycharm": {
     "name": "#%%\n"
    }
   },
   "outputs": [],
   "source": [
    "real_estate_data['locality_name'].fillna('Санкт-Петербург', inplace=True)"
   ]
  },
  {
   "cell_type": "code",
   "execution_count": 28,
   "id": "9c599702-86c7-4ea1-967f-cae15d4f3225",
   "metadata": {
    "pycharm": {
     "name": "#%%\n"
    }
   },
   "outputs": [
    {
     "name": "stdout",
     "output_type": "stream",
     "text": [
      "364\n",
      "330\n"
     ]
    }
   ],
   "source": [
    "print(len(real_estate_data['locality_name'].unique()))\n",
    "real_estate_data['locality_name'] = real_estate_data['locality_name'].apply(correct_name)\n",
    "print(len(real_estate_data['locality_name'].unique()))"
   ]
  },
  {
   "cell_type": "markdown",
   "id": "a4f8dc62-a176-45cb-9fb9-21af5929c395",
   "metadata": {
    "pycharm": {
     "name": "#%% md\n"
    }
   },
   "source": [
    "type of location:\n",
    "'деревня'\n",
    "'садовое товарищество'\n",
    "'городской посёлок'\n",
    "'посёлок городского типа'\n",
    "'коттеджный посёлок'\n",
    "'посёлок при железнодорожной станции'\n",
    "'посёлок станции'\n",
    "'посёлок'\n",
    "'село'\n",
    "'садоводческое некоммерческое товарищество'"
   ]
  },
  {
   "cell_type": "code",
   "execution_count": 29,
   "id": "d49946cc-06ef-4b89-ba98-7676b99a920e",
   "metadata": {
    "pycharm": {
     "name": "#%%\n"
    }
   },
   "outputs": [
    {
     "data": {
      "text/plain": "count               23699\nunique                330\ntop       Санкт-Петербург\nfreq                15770\nName: locality_name, dtype: object"
     },
     "execution_count": 29,
     "metadata": {},
     "output_type": "execute_result"
    }
   ],
   "source": [
    "real_estate_data['locality_name'].describe()"
   ]
  },
  {
   "cell_type": "code",
   "execution_count": 30,
   "id": "d3fd1a54-e95f-4fa5-94a9-8512b789cd91",
   "metadata": {
    "pycharm": {
     "name": "#%%\n"
    }
   },
   "outputs": [],
   "source": [
    "real_estate_data['locality_name'], real_estate_data['locality_type'] = (\n",
    "    zip(*real_estate_data['locality_name'].apply(name_n_type))\n",
    ")"
   ]
  },
  {
   "cell_type": "code",
   "execution_count": 31,
   "id": "6877acc9-cd79-4898-b407-8f07055d77af",
   "metadata": {
    "pycharm": {
     "name": "#%%\n"
    }
   },
   "outputs": [
    {
     "data": {
      "text/plain": "   total_images  last_price  total_area first_day_exposition  rooms  \\\n0            20  13000000.0       108.0  2019-03-07T00:00:00      3   \n1             7   3350000.0        40.4  2018-12-04T00:00:00      1   \n2            10   5196000.0        56.0  2015-08-20T00:00:00      2   \n3             0  64900000.0       159.0  2015-07-24T00:00:00      3   \n4             2  10000000.0       100.0  2018-06-19T00:00:00      2   \n\n   ceiling_height  floors_total  living_area  floor  is_apartment  studio  \\\n0            2.70          16.0         51.0      8         False   False   \n1             NaN          11.0         18.6      1         False   False   \n2             NaN           5.0         34.3      4         False   False   \n3             NaN          14.0          NaN      9         False   False   \n4            3.03          14.0         32.0     13         False   False   \n\n   open_plan  kitchen_area  balcony    locality_name  airports_nearest  \\\n0      False          25.0    108.0  Санкт-Петербург           18863.0   \n1      False          11.0      2.0           Шушары           12817.0   \n2      False           8.3      0.0  Санкт-Петербург           21741.0   \n3      False           NaN      0.0  Санкт-Петербург           28098.0   \n4      False          41.0    108.0  Санкт-Петербург           31856.0   \n\n   city_centers_nearest  parks_around3000  parks_nearest  ponds_around3000  \\\n0               16028.0               1.0          482.0               2.0   \n1               18603.0               0.0            NaN               0.0   \n2               13933.0               1.0           90.0               2.0   \n3                6800.0               2.0           84.0               3.0   \n4                8098.0               2.0          112.0               1.0   \n\n   ponds_nearest  days_exposition locality_type  \n0          755.0              NaN         город  \n1            NaN             81.0       посёлок  \n2          574.0            558.0         город  \n3          234.0            424.0         город  \n4           48.0            121.0         город  ",
      "text/html": "<div>\n<style scoped>\n    .dataframe tbody tr th:only-of-type {\n        vertical-align: middle;\n    }\n\n    .dataframe tbody tr th {\n        vertical-align: top;\n    }\n\n    .dataframe thead th {\n        text-align: right;\n    }\n</style>\n<table border=\"1\" class=\"dataframe\">\n  <thead>\n    <tr style=\"text-align: right;\">\n      <th></th>\n      <th>total_images</th>\n      <th>last_price</th>\n      <th>total_area</th>\n      <th>first_day_exposition</th>\n      <th>rooms</th>\n      <th>ceiling_height</th>\n      <th>floors_total</th>\n      <th>living_area</th>\n      <th>floor</th>\n      <th>is_apartment</th>\n      <th>studio</th>\n      <th>open_plan</th>\n      <th>kitchen_area</th>\n      <th>balcony</th>\n      <th>locality_name</th>\n      <th>airports_nearest</th>\n      <th>city_centers_nearest</th>\n      <th>parks_around3000</th>\n      <th>parks_nearest</th>\n      <th>ponds_around3000</th>\n      <th>ponds_nearest</th>\n      <th>days_exposition</th>\n      <th>locality_type</th>\n    </tr>\n  </thead>\n  <tbody>\n    <tr>\n      <th>0</th>\n      <td>20</td>\n      <td>13000000.0</td>\n      <td>108.0</td>\n      <td>2019-03-07T00:00:00</td>\n      <td>3</td>\n      <td>2.70</td>\n      <td>16.0</td>\n      <td>51.0</td>\n      <td>8</td>\n      <td>False</td>\n      <td>False</td>\n      <td>False</td>\n      <td>25.0</td>\n      <td>108.0</td>\n      <td>Санкт-Петербург</td>\n      <td>18863.0</td>\n      <td>16028.0</td>\n      <td>1.0</td>\n      <td>482.0</td>\n      <td>2.0</td>\n      <td>755.0</td>\n      <td>NaN</td>\n      <td>город</td>\n    </tr>\n    <tr>\n      <th>1</th>\n      <td>7</td>\n      <td>3350000.0</td>\n      <td>40.4</td>\n      <td>2018-12-04T00:00:00</td>\n      <td>1</td>\n      <td>NaN</td>\n      <td>11.0</td>\n      <td>18.6</td>\n      <td>1</td>\n      <td>False</td>\n      <td>False</td>\n      <td>False</td>\n      <td>11.0</td>\n      <td>2.0</td>\n      <td>Шушары</td>\n      <td>12817.0</td>\n      <td>18603.0</td>\n      <td>0.0</td>\n      <td>NaN</td>\n      <td>0.0</td>\n      <td>NaN</td>\n      <td>81.0</td>\n      <td>посёлок</td>\n    </tr>\n    <tr>\n      <th>2</th>\n      <td>10</td>\n      <td>5196000.0</td>\n      <td>56.0</td>\n      <td>2015-08-20T00:00:00</td>\n      <td>2</td>\n      <td>NaN</td>\n      <td>5.0</td>\n      <td>34.3</td>\n      <td>4</td>\n      <td>False</td>\n      <td>False</td>\n      <td>False</td>\n      <td>8.3</td>\n      <td>0.0</td>\n      <td>Санкт-Петербург</td>\n      <td>21741.0</td>\n      <td>13933.0</td>\n      <td>1.0</td>\n      <td>90.0</td>\n      <td>2.0</td>\n      <td>574.0</td>\n      <td>558.0</td>\n      <td>город</td>\n    </tr>\n    <tr>\n      <th>3</th>\n      <td>0</td>\n      <td>64900000.0</td>\n      <td>159.0</td>\n      <td>2015-07-24T00:00:00</td>\n      <td>3</td>\n      <td>NaN</td>\n      <td>14.0</td>\n      <td>NaN</td>\n      <td>9</td>\n      <td>False</td>\n      <td>False</td>\n      <td>False</td>\n      <td>NaN</td>\n      <td>0.0</td>\n      <td>Санкт-Петербург</td>\n      <td>28098.0</td>\n      <td>6800.0</td>\n      <td>2.0</td>\n      <td>84.0</td>\n      <td>3.0</td>\n      <td>234.0</td>\n      <td>424.0</td>\n      <td>город</td>\n    </tr>\n    <tr>\n      <th>4</th>\n      <td>2</td>\n      <td>10000000.0</td>\n      <td>100.0</td>\n      <td>2018-06-19T00:00:00</td>\n      <td>2</td>\n      <td>3.03</td>\n      <td>14.0</td>\n      <td>32.0</td>\n      <td>13</td>\n      <td>False</td>\n      <td>False</td>\n      <td>False</td>\n      <td>41.0</td>\n      <td>108.0</td>\n      <td>Санкт-Петербург</td>\n      <td>31856.0</td>\n      <td>8098.0</td>\n      <td>2.0</td>\n      <td>112.0</td>\n      <td>1.0</td>\n      <td>48.0</td>\n      <td>121.0</td>\n      <td>город</td>\n    </tr>\n  </tbody>\n</table>\n</div>"
     },
     "metadata": {},
     "output_type": "display_data"
    }
   ],
   "source": [
    "display(\n",
    "    real_estate_data.head()\n",
    ")"
   ]
  },
  {
   "cell_type": "code",
   "execution_count": 32,
   "id": "fa09c97a-d9ec-4458-83e2-2735d1a7523c",
   "metadata": {
    "pycharm": {
     "name": "#%%\n"
    }
   },
   "outputs": [
    {
     "data": {
      "text/plain": "array(['город', 'посёлок', 'городской посёлок', 'деревня',\n       'посёлок городского типа', 'садовое товарищество', 'село',\n       'посёлок городского типа имени', 'посёлок станции',\n       'садоводческое некоммерческое товарищество',\n       'посёлок 69-й километр', 'посёлок при железнодорожной станции',\n       'коттеджный посёлок'], dtype=object)"
     },
     "metadata": {},
     "output_type": "display_data"
    }
   ],
   "source": [
    "display(\n",
    "    real_estate_data['locality_type'].unique()\n",
    ")"
   ]
  },
  {
   "cell_type": "code",
   "execution_count": 33,
   "id": "3eac3da5-a263-4d81-92af-57045dd9b58a",
   "metadata": {
    "pycharm": {
     "name": "#%%\n"
    }
   },
   "outputs": [],
   "source": [
    "real_estate_data.loc[real_estate_data['locality_name'] == 'посёлок 69-й километр', 'locality_name'] = '69-й километр'\n",
    "real_estate_data.loc[real_estate_data['locality_type'] == 'посёлок 69-й километр', 'locality_type'] = 'посёлок'"
   ]
  },
  {
   "cell_type": "code",
   "execution_count": 34,
   "id": "9b2d790a-1d4a-443c-8e08-b9443f5a572d",
   "metadata": {
    "pycharm": {
     "name": "#%%\n"
    }
   },
   "outputs": [
    {
     "data": {
      "text/plain": "array(['город', 'посёлок', 'городской посёлок', 'деревня',\n       'посёлок городского типа', 'садовое товарищество', 'село',\n       'посёлок городского типа имени', 'посёлок станции',\n       'садоводческое некоммерческое товарищество',\n       'посёлок при железнодорожной станции', 'коттеджный посёлок'],\n      dtype=object)"
     },
     "metadata": {},
     "output_type": "display_data"
    }
   ],
   "source": [
    "display(\n",
    "    real_estate_data['locality_type'].unique()\n",
    ")"
   ]
  },
  {
   "cell_type": "code",
   "execution_count": 35,
   "id": "303ac006-05fc-40d9-a8ad-a48a912fa271",
   "metadata": {
    "pycharm": {
     "name": "#%%\n"
    }
   },
   "outputs": [
    {
     "data": {
      "text/plain": "0                                         город\n1                                       посёлок\n2                             городской посёлок\n3                                       деревня\n4                       посёлок городского типа\n5                          садовое товарищество\n6                                          село\n7                 посёлок городского типа имени\n8                               посёлок станции\n9     садоводческое некоммерческое товарищество\n10          посёлок при железнодорожной станции\n11                           коттеджный посёлок\ndtype: object"
     },
     "metadata": {},
     "output_type": "display_data"
    }
   ],
   "source": [
    "locality_type_series = pd.Series(real_estate_data['locality_type'].unique())\n",
    "display(\n",
    "    locality_type_series\n",
    ")"
   ]
  },
  {
   "cell_type": "code",
   "execution_count": 36,
   "id": "614dd6e8-7be5-4b5f-bc1d-5102b8e8e371",
   "metadata": {
    "pycharm": {
     "name": "#%%\n"
    }
   },
   "outputs": [],
   "source": [
    "real_estate_data['locality_type'] = (\n",
    "    real_estate_data['locality_type'].apply(lambda x: \n",
    "        list(locality_type_series[locality_type_series == x].index)[0]\n",
    "    )\n",
    ")"
   ]
  },
  {
   "cell_type": "code",
   "execution_count": 37,
   "id": "cd85c961-2add-4bec-923a-48be7f2c9578",
   "metadata": {
    "pycharm": {
     "name": "#%%\n"
    }
   },
   "outputs": [
    {
     "data": {
      "text/plain": "   total_images  last_price  total_area first_day_exposition  rooms  \\\n0            20  13000000.0       108.0  2019-03-07T00:00:00      3   \n1             7   3350000.0        40.4  2018-12-04T00:00:00      1   \n2            10   5196000.0        56.0  2015-08-20T00:00:00      2   \n3             0  64900000.0       159.0  2015-07-24T00:00:00      3   \n4             2  10000000.0       100.0  2018-06-19T00:00:00      2   \n\n   ceiling_height  floors_total  living_area  floor  is_apartment  studio  \\\n0            2.70          16.0         51.0      8         False   False   \n1             NaN          11.0         18.6      1         False   False   \n2             NaN           5.0         34.3      4         False   False   \n3             NaN          14.0          NaN      9         False   False   \n4            3.03          14.0         32.0     13         False   False   \n\n   open_plan  kitchen_area  balcony    locality_name  airports_nearest  \\\n0      False          25.0    108.0  Санкт-Петербург           18863.0   \n1      False          11.0      2.0           Шушары           12817.0   \n2      False           8.3      0.0  Санкт-Петербург           21741.0   \n3      False           NaN      0.0  Санкт-Петербург           28098.0   \n4      False          41.0    108.0  Санкт-Петербург           31856.0   \n\n   city_centers_nearest  parks_around3000  parks_nearest  ponds_around3000  \\\n0               16028.0               1.0          482.0               2.0   \n1               18603.0               0.0            NaN               0.0   \n2               13933.0               1.0           90.0               2.0   \n3                6800.0               2.0           84.0               3.0   \n4                8098.0               2.0          112.0               1.0   \n\n   ponds_nearest  days_exposition  locality_type  \n0          755.0              NaN              0  \n1            NaN             81.0              1  \n2          574.0            558.0              0  \n3          234.0            424.0              0  \n4           48.0            121.0              0  ",
      "text/html": "<div>\n<style scoped>\n    .dataframe tbody tr th:only-of-type {\n        vertical-align: middle;\n    }\n\n    .dataframe tbody tr th {\n        vertical-align: top;\n    }\n\n    .dataframe thead th {\n        text-align: right;\n    }\n</style>\n<table border=\"1\" class=\"dataframe\">\n  <thead>\n    <tr style=\"text-align: right;\">\n      <th></th>\n      <th>total_images</th>\n      <th>last_price</th>\n      <th>total_area</th>\n      <th>first_day_exposition</th>\n      <th>rooms</th>\n      <th>ceiling_height</th>\n      <th>floors_total</th>\n      <th>living_area</th>\n      <th>floor</th>\n      <th>is_apartment</th>\n      <th>studio</th>\n      <th>open_plan</th>\n      <th>kitchen_area</th>\n      <th>balcony</th>\n      <th>locality_name</th>\n      <th>airports_nearest</th>\n      <th>city_centers_nearest</th>\n      <th>parks_around3000</th>\n      <th>parks_nearest</th>\n      <th>ponds_around3000</th>\n      <th>ponds_nearest</th>\n      <th>days_exposition</th>\n      <th>locality_type</th>\n    </tr>\n  </thead>\n  <tbody>\n    <tr>\n      <th>0</th>\n      <td>20</td>\n      <td>13000000.0</td>\n      <td>108.0</td>\n      <td>2019-03-07T00:00:00</td>\n      <td>3</td>\n      <td>2.70</td>\n      <td>16.0</td>\n      <td>51.0</td>\n      <td>8</td>\n      <td>False</td>\n      <td>False</td>\n      <td>False</td>\n      <td>25.0</td>\n      <td>108.0</td>\n      <td>Санкт-Петербург</td>\n      <td>18863.0</td>\n      <td>16028.0</td>\n      <td>1.0</td>\n      <td>482.0</td>\n      <td>2.0</td>\n      <td>755.0</td>\n      <td>NaN</td>\n      <td>0</td>\n    </tr>\n    <tr>\n      <th>1</th>\n      <td>7</td>\n      <td>3350000.0</td>\n      <td>40.4</td>\n      <td>2018-12-04T00:00:00</td>\n      <td>1</td>\n      <td>NaN</td>\n      <td>11.0</td>\n      <td>18.6</td>\n      <td>1</td>\n      <td>False</td>\n      <td>False</td>\n      <td>False</td>\n      <td>11.0</td>\n      <td>2.0</td>\n      <td>Шушары</td>\n      <td>12817.0</td>\n      <td>18603.0</td>\n      <td>0.0</td>\n      <td>NaN</td>\n      <td>0.0</td>\n      <td>NaN</td>\n      <td>81.0</td>\n      <td>1</td>\n    </tr>\n    <tr>\n      <th>2</th>\n      <td>10</td>\n      <td>5196000.0</td>\n      <td>56.0</td>\n      <td>2015-08-20T00:00:00</td>\n      <td>2</td>\n      <td>NaN</td>\n      <td>5.0</td>\n      <td>34.3</td>\n      <td>4</td>\n      <td>False</td>\n      <td>False</td>\n      <td>False</td>\n      <td>8.3</td>\n      <td>0.0</td>\n      <td>Санкт-Петербург</td>\n      <td>21741.0</td>\n      <td>13933.0</td>\n      <td>1.0</td>\n      <td>90.0</td>\n      <td>2.0</td>\n      <td>574.0</td>\n      <td>558.0</td>\n      <td>0</td>\n    </tr>\n    <tr>\n      <th>3</th>\n      <td>0</td>\n      <td>64900000.0</td>\n      <td>159.0</td>\n      <td>2015-07-24T00:00:00</td>\n      <td>3</td>\n      <td>NaN</td>\n      <td>14.0</td>\n      <td>NaN</td>\n      <td>9</td>\n      <td>False</td>\n      <td>False</td>\n      <td>False</td>\n      <td>NaN</td>\n      <td>0.0</td>\n      <td>Санкт-Петербург</td>\n      <td>28098.0</td>\n      <td>6800.0</td>\n      <td>2.0</td>\n      <td>84.0</td>\n      <td>3.0</td>\n      <td>234.0</td>\n      <td>424.0</td>\n      <td>0</td>\n    </tr>\n    <tr>\n      <th>4</th>\n      <td>2</td>\n      <td>10000000.0</td>\n      <td>100.0</td>\n      <td>2018-06-19T00:00:00</td>\n      <td>2</td>\n      <td>3.03</td>\n      <td>14.0</td>\n      <td>32.0</td>\n      <td>13</td>\n      <td>False</td>\n      <td>False</td>\n      <td>False</td>\n      <td>41.0</td>\n      <td>108.0</td>\n      <td>Санкт-Петербург</td>\n      <td>31856.0</td>\n      <td>8098.0</td>\n      <td>2.0</td>\n      <td>112.0</td>\n      <td>1.0</td>\n      <td>48.0</td>\n      <td>121.0</td>\n      <td>0</td>\n    </tr>\n  </tbody>\n</table>\n</div>"
     },
     "metadata": {},
     "output_type": "display_data"
    }
   ],
   "source": [
    "display(\n",
    "    real_estate_data.head()\n",
    ")"
   ]
  },
  {
   "cell_type": "code",
   "execution_count": 38,
   "id": "c7d5b2ba-055a-4752-bb17-b31284f8fcfa",
   "metadata": {
    "pycharm": {
     "name": "#%%\n"
    }
   },
   "outputs": [
    {
     "data": {
      "text/plain": "array([ 0,  1,  2,  3,  4,  5,  6,  7,  8,  9, 10, 11])"
     },
     "metadata": {},
     "output_type": "display_data"
    }
   ],
   "source": [
    "display(\n",
    "    real_estate_data['locality_type'].unique()\n",
    ")"
   ]
  },
  {
   "cell_type": "code",
   "execution_count": 39,
   "id": "d82bc808-6f3e-492c-8f27-684db9bef342",
   "metadata": {
    "pycharm": {
     "name": "#%%\n"
    }
   },
   "outputs": [],
   "source": [
    "real_estate_data = real_estate_data.astype(\n",
    "    {\n",
    "        'locality_name': 'category',\n",
    "        'locality_type': 'category',\n",
    "    }\n",
    ")"
   ]
  },
  {
   "cell_type": "markdown",
   "id": "ca5b1e4c-207f-4ab7-a280-7780104ce744",
   "metadata": {
    "pycharm": {
     "name": "#%% md\n"
    }
   },
   "source": [
    "why there is no inplace parameter in astype"
   ]
  },
  {
   "cell_type": "code",
   "execution_count": 40,
   "id": "4a714f26-52df-4259-a0d8-5e9835b30a1a",
   "metadata": {
    "pycharm": {
     "name": "#%%\n"
    }
   },
   "outputs": [
    {
     "data": {
      "text/plain": "array([108.,   2.,   0.,   1.,   5.,   4.,   3.])"
     },
     "metadata": {},
     "output_type": "display_data"
    }
   ],
   "source": [
    "display(\n",
    "    real_estate_data['balcony'].unique()\n",
    ")"
   ]
  },
  {
   "cell_type": "code",
   "execution_count": 41,
   "id": "395c93b5-9ab5-4233-a3cd-7cbfce6dd97c",
   "metadata": {
    "pycharm": {
     "name": "#%%\n"
    }
   },
   "outputs": [
    {
     "data": {
      "text/plain": "locality_type\n0       5.0\n1       2.0\n2     108.0\n3       2.0\n4       4.5\n5      54.5\n6     108.0\n7       2.0\n8     108.0\n9     108.0\n10    108.0\n11      1.0\nName: balcony, dtype: float64"
     },
     "metadata": {},
     "output_type": "display_data"
    }
   ],
   "source": [
    "display(\n",
    "    real_estate_data.groupby(by=['locality_type'])['balcony'].median()\n",
    ")"
   ]
  },
  {
   "cell_type": "code",
   "execution_count": 42,
   "id": "78a219c2-febf-4833-b8ab-d408f3df53ce",
   "metadata": {
    "pycharm": {
     "name": "#%%\n"
    }
   },
   "outputs": [
    {
     "data": {
      "text/plain": "Index(['total_images', 'last_price', 'total_area', 'first_day_exposition',\n       'rooms', 'ceiling_height', 'floors_total', 'living_area', 'floor',\n       'is_apartment', 'studio', 'open_plan', 'kitchen_area', 'balcony',\n       'locality_name', 'airports_nearest', 'city_centers_nearest',\n       'parks_around3000', 'parks_nearest', 'ponds_around3000',\n       'ponds_nearest', 'days_exposition', 'locality_type'],\n      dtype='object')"
     },
     "metadata": {},
     "output_type": "display_data"
    }
   ],
   "source": [
    "display(\n",
    "    real_estate_data.columns\n",
    ")"
   ]
  },
  {
   "cell_type": "code",
   "execution_count": 43,
   "id": "20c068a6-0f30-4ab2-882d-d6947c36afdc",
   "metadata": {
    "pycharm": {
     "name": "#%%\n"
    }
   },
   "outputs": [],
   "source": [
    "types_na_balcony = (\n",
    "    list(real_estate_data['locality_type']\n",
    "             .loc[real_estate_data['balcony'] == 108]\n",
    "             .unique())\n",
    ")\n",
    "\n",
    "for type_loc in types_na_balcony:\n",
    "    \n",
    "    balcony_mode_by_type = (\n",
    "        real_estate_data\n",
    "            .loc[(real_estate_data['locality_type'] == type_loc)\n",
    "                & ~(real_estate_data['balcony'] == 108), ['balcony']]\n",
    "            .mode()\n",
    "    )\n",
    "    \n",
    "    if len(balcony_mode_by_type.index) == 0:\n",
    "        balcony_mode_by_type = 0\n",
    "    elif len(balcony_mode_by_type.index) == 1:\n",
    "        balcony_mode_by_type = balcony_mode_by_type.iloc[0].item()\n",
    "    else:\n",
    "        balcony_mode_by_type = balcony_mode_by_type.sample().iloc[0].item()\n",
    "    \n",
    "    real_estate_data.loc[(real_estate_data['locality_type'] == type_loc)\n",
    "                & (real_estate_data['balcony'] == 108), 'balcony'] = (\n",
    "        real_estate_data\n",
    "            .loc[(real_estate_data['locality_type'] == type_loc)\n",
    "                & (real_estate_data['balcony'] == 108), 'balcony']\n",
    "            .apply(lambda x: balcony_mode_by_type if bool(random.getrandbits(1)) else 0)\n",
    "    )\n"
   ]
  },
  {
   "cell_type": "code",
   "execution_count": 44,
   "id": "6beada6d-a250-4d9d-bbb8-dd6b346b43d9",
   "metadata": {
    "pycharm": {
     "name": "#%%\n"
    }
   },
   "outputs": [
    {
     "data": {
      "text/plain": "array([1., 2., 0., 5., 4., 3.])"
     },
     "metadata": {},
     "output_type": "display_data"
    }
   ],
   "source": [
    "display(\n",
    "    real_estate_data['balcony'].unique()\n",
    ")"
   ]
  },
  {
   "cell_type": "code",
   "execution_count": 45,
   "id": "6242534b-3793-4171-a040-7d8794fe2e73",
   "metadata": {
    "pycharm": {
     "name": "#%%\n"
    }
   },
   "outputs": [],
   "source": [
    "real_estate_data = real_estate_data.astype(\n",
    "    {'balcony': 'uint8'}\n",
    ")"
   ]
  },
  {
   "cell_type": "code",
   "execution_count": 46,
   "id": "507987f5-99d0-4d05-bc52-d35e1e21ee12",
   "metadata": {
    "pycharm": {
     "name": "#%%\n"
    }
   },
   "outputs": [
    {
     "name": "stdout",
     "output_type": "stream",
     "text": [
      "<class 'pandas.core.series.Series'>\n",
      "RangeIndex: 23699 entries, 0 to 23698\n",
      "Series name: balcony\n",
      "Non-Null Count  Dtype\n",
      "--------------  -----\n",
      "23699 non-null  uint8\n",
      "dtypes: uint8(1)\n",
      "memory usage: 23.3 KB\n"
     ]
    },
    {
     "data": {
      "text/plain": "None"
     },
     "metadata": {},
     "output_type": "display_data"
    }
   ],
   "source": [
    "display(\n",
    "    real_estate_data['balcony'].info()\n",
    ")"
   ]
  },
  {
   "cell_type": "markdown",
   "id": "3df2f2ca-dd00-4250-af46-bbea07074fff",
   "metadata": {
    "pycharm": {
     "name": "#%% md\n"
    }
   },
   "source": [
    "    ❌ 'ceiling_height' — сделаем `NaN` медианным значением по району"
   ]
  },
  {
   "cell_type": "code",
   "execution_count": 47,
   "id": "6ee80d4b-0895-4d1c-a7ef-132021c810a2",
   "metadata": {
    "pycharm": {
     "name": "#%%\n"
    }
   },
   "outputs": [],
   "source": [
    "types_na_ceiling = (\n",
    "    list(real_estate_data['locality_type']\n",
    "             .loc[real_estate_data['ceiling_height'].isna()]\n",
    "             .unique())\n",
    ")\n",
    "\n",
    "for type_ceiling in types_na_ceiling:\n",
    "    \n",
    "    ceiling_median_by_type = (\n",
    "        real_estate_data\n",
    "            .loc[(real_estate_data['locality_type'] == type_ceiling)\n",
    "                & ~(real_estate_data['ceiling_height'].isna()), 'ceiling_height']\n",
    "            .median()\n",
    "    )\n",
    "    \n",
    "    if math.isnan(ceiling_median_by_type):\n",
    "        ceiling_median_by_type = real_estate_data['ceiling_height'].median()\n",
    "\n",
    "    real_estate_data.loc[\n",
    "        real_estate_data['locality_type'] == type_ceiling, \n",
    "        'ceiling_height'\n",
    "    ] = real_estate_data.loc[\n",
    "            real_estate_data['locality_type'] == type_ceiling, \n",
    "            'ceiling_height'\n",
    "        ].fillna(value=ceiling_median_by_type)\n",
    "\n",
    "# somehow .fillna(inplace=True) didn't work"
   ]
  },
  {
   "cell_type": "code",
   "execution_count": 48,
   "id": "a2384455-1656-4c4d-afe8-4d6fd50933cf",
   "metadata": {
    "pycharm": {
     "name": "#%%\n"
    }
   },
   "outputs": [
    {
     "name": "stdout",
     "output_type": "stream",
     "text": [
      "<class 'pandas.core.series.Series'>\n",
      "RangeIndex: 23699 entries, 0 to 23698\n",
      "Series name: ceiling_height\n",
      "Non-Null Count  Dtype  \n",
      "--------------  -----  \n",
      "23699 non-null  float64\n",
      "dtypes: float64(1)\n",
      "memory usage: 185.3 KB\n"
     ]
    }
   ],
   "source": [
    "real_estate_data['ceiling_height'].info()"
   ]
  },
  {
   "cell_type": "code",
   "execution_count": 49,
   "id": "963a1720-8496-41d4-9aae-abf2fb754984",
   "metadata": {
    "pycharm": {
     "name": "#%%\n"
    }
   },
   "outputs": [
    {
     "data": {
      "text/plain": "count    23699.000000\nmean         2.721105\nstd          0.988643\nmin          1.000000\n25%          2.600000\n50%          2.650000\n75%          2.700000\nmax        100.000000\nName: ceiling_height, dtype: float64"
     },
     "metadata": {},
     "output_type": "display_data"
    }
   ],
   "source": [
    "display(\n",
    "    real_estate_data['ceiling_height'].describe()\n",
    ")"
   ]
  },
  {
   "cell_type": "code",
   "execution_count": 50,
   "id": "ab70d225-4390-4a44-b347-ae88a356834b",
   "metadata": {
    "pycharm": {
     "name": "#%%\n"
    }
   },
   "outputs": [
    {
     "data": {
      "text/plain": "2.65"
     },
     "metadata": {},
     "output_type": "display_data"
    },
    {
     "data": {
      "text/plain": "2.65"
     },
     "metadata": {},
     "output_type": "display_data"
    },
    {
     "data": {
      "text/plain": "2.56"
     },
     "metadata": {},
     "output_type": "display_data"
    },
    {
     "data": {
      "text/plain": "2.6"
     },
     "metadata": {},
     "output_type": "display_data"
    }
   ],
   "source": [
    "types_odd_ceiling = (\n",
    "    list(real_estate_data.loc[\n",
    "            (real_estate_data['ceiling_height'] <= 2)\n",
    "            | (real_estate_data['ceiling_height'] > 60)\n",
    "            | ((real_estate_data['ceiling_height'] > 6)\n",
    "                & (real_estate_data['ceiling_height'] < 20)\n",
    "              ), 'locality_type'\n",
    "        ].unique()\n",
    "    )\n",
    ")\n",
    "\n",
    "for type_ceiling in types_odd_ceiling:\n",
    "    \n",
    "    ceiling_median_by_type = (\n",
    "        real_estate_data.loc[\n",
    "            (real_estate_data['locality_type'] == type_ceiling)\n",
    "                & (real_estate_data['ceiling_height'] <= 6)\n",
    "                & (real_estate_data['ceiling_height'] > 2)\n",
    "            , 'ceiling_height'\n",
    "        ].median()\n",
    "    )\n",
    "\n",
    "    display(ceiling_median_by_type)\n",
    "\n",
    "    if math.isnan(ceiling_median_by_type):\n",
    "        ceiling_median_by_type = real_estate_data['ceiling_height'].median()\n",
    "\n",
    "    real_estate_data.loc[\n",
    "            (real_estate_data['locality_type'] == type_ceiling)\n",
    "            & (real_estate_data['ceiling_height'] <= 2)\n",
    "            | (real_estate_data['ceiling_height'] > 60)\n",
    "            | ((real_estate_data['ceiling_height'] > 6)\n",
    "                & (real_estate_data['ceiling_height'] < 20)\n",
    "              )\n",
    "            , 'ceiling_height'\n",
    "    ] = ceiling_median_by_type"
   ]
  },
  {
   "cell_type": "code",
   "execution_count": 51,
   "id": "67a7097a-c152-4ca5-8827-13e14880a2c9",
   "metadata": {
    "pycharm": {
     "name": "#%%\n"
    }
   },
   "outputs": [
    {
     "data": {
      "text/plain": "count    23699.000000\nmean         2.715745\nstd          0.751619\nmin          2.200000\n25%          2.600000\n50%          2.650000\n75%          2.700000\nmax         32.000000\nName: ceiling_height, dtype: float64"
     },
     "metadata": {},
     "output_type": "display_data"
    }
   ],
   "source": [
    "display(\n",
    "    real_estate_data['ceiling_height'].describe()\n",
    ")"
   ]
  },
  {
   "cell_type": "code",
   "execution_count": 52,
   "id": "4b1691f3-7251-4848-977a-18900ba44259",
   "metadata": {
    "pycharm": {
     "name": "#%%\n"
    }
   },
   "outputs": [],
   "source": [
    "real_estate_data.loc[\n",
    "            (real_estate_data['ceiling_height'] >= 20)\n",
    "            & (real_estate_data['ceiling_height'] <= 60)\n",
    "            , 'ceiling_height'\n",
    "] = real_estate_data.loc[\n",
    "            (real_estate_data['ceiling_height'] >= 20)\n",
    "            & (real_estate_data['ceiling_height'] <= 60)\n",
    "            , 'ceiling_height'\n",
    "    ].apply(lambda x: x / 10)"
   ]
  },
  {
   "cell_type": "code",
   "execution_count": 53,
   "id": "666f3d84-e36f-4c78-a85e-fe2b075b9e41",
   "metadata": {
    "pycharm": {
     "name": "#%%\n"
    }
   },
   "outputs": [
    {
     "data": {
      "text/plain": "count    23699.000000\nmean         2.693905\nstd          0.221764\nmin          2.000000\n25%          2.600000\n50%          2.650000\n75%          2.700000\nmax          6.000000\nName: ceiling_height, dtype: float64"
     },
     "metadata": {},
     "output_type": "display_data"
    }
   ],
   "source": [
    "display(\n",
    "    real_estate_data['ceiling_height'].describe()\n",
    ")"
   ]
  },
  {
   "cell_type": "markdown",
   "id": "e4f997ed-abe8-4544-88f2-692a908f3426",
   "metadata": {
    "pycharm": {
     "name": "#%% md\n"
    }
   },
   "source": [
    "    ❌ 'floors_total' — сделаем `NaN` медианным значением по району"
   ]
  },
  {
   "cell_type": "code",
   "execution_count": 54,
   "id": "2a60893e-6eea-480e-853e-623925f69dbd",
   "metadata": {
    "pycharm": {
     "name": "#%%\n"
    }
   },
   "outputs": [
    {
     "data": {
      "text/plain": "floor\n1      3\n2      2\n3      4\n4     10\n5      4\n6      9\n7      4\n8      8\n9      5\n10     3\n11     3\n12     6\n13     3\n14     2\n15     3\n17     1\n18     3\n19     3\n20     2\n21     4\n22     1\n23     1\n24     2\nName: floor, dtype: int64"
     },
     "metadata": {},
     "output_type": "display_data"
    }
   ],
   "source": [
    "display(\n",
    "    real_estate_data.loc[\n",
    "        real_estate_data['floors_total'].isna()\n",
    "    ].groupby(by='floor')['floor'].count()\n",
    ")"
   ]
  },
  {
   "cell_type": "markdown",
   "id": "aca04dfe-d19e-4bc2-904c-b90057b5f4aa",
   "metadata": {
    "pycharm": {
     "name": "#%% md\n"
    }
   },
   "source": [
    "seems missing `'floors_total'` not depends on `'floor'`"
   ]
  },
  {
   "cell_type": "code",
   "execution_count": 55,
   "id": "c8b61f61-5fbf-499a-b023-d6cbc10629b8",
   "metadata": {
    "pycharm": {
     "name": "#%%\n"
    }
   },
   "outputs": [
    {
     "data": {
      "text/plain": "Empty DataFrame\nColumns: [total_images, last_price, total_area, first_day_exposition, rooms, ceiling_height, floors_total, living_area, floor, is_apartment, studio, open_plan, kitchen_area, balcony, locality_name, airports_nearest, city_centers_nearest, parks_around3000, parks_nearest, ponds_around3000, ponds_nearest, days_exposition, locality_type]\nIndex: []",
      "text/html": "<div>\n<style scoped>\n    .dataframe tbody tr th:only-of-type {\n        vertical-align: middle;\n    }\n\n    .dataframe tbody tr th {\n        vertical-align: top;\n    }\n\n    .dataframe thead th {\n        text-align: right;\n    }\n</style>\n<table border=\"1\" class=\"dataframe\">\n  <thead>\n    <tr style=\"text-align: right;\">\n      <th></th>\n      <th>total_images</th>\n      <th>last_price</th>\n      <th>total_area</th>\n      <th>first_day_exposition</th>\n      <th>rooms</th>\n      <th>ceiling_height</th>\n      <th>floors_total</th>\n      <th>living_area</th>\n      <th>floor</th>\n      <th>is_apartment</th>\n      <th>studio</th>\n      <th>open_plan</th>\n      <th>kitchen_area</th>\n      <th>balcony</th>\n      <th>locality_name</th>\n      <th>airports_nearest</th>\n      <th>city_centers_nearest</th>\n      <th>parks_around3000</th>\n      <th>parks_nearest</th>\n      <th>ponds_around3000</th>\n      <th>ponds_nearest</th>\n      <th>days_exposition</th>\n      <th>locality_type</th>\n    </tr>\n  </thead>\n  <tbody>\n  </tbody>\n</table>\n</div>"
     },
     "metadata": {},
     "output_type": "display_data"
    }
   ],
   "source": [
    "display(\n",
    "    real_estate_data.loc[real_estate_data['floor'] > real_estate_data['floors_total']]\n",
    ")"
   ]
  },
  {
   "cell_type": "code",
   "execution_count": 56,
   "id": "9ac5e0da-18f0-420d-9abc-955378003127",
   "metadata": {
    "pycharm": {
     "name": "#%%\n"
    }
   },
   "outputs": [
    {
     "data": {
      "text/plain": "       total_images  last_price  total_area first_day_exposition  rooms  \\\n14094             5   3290000.0       33.00  2018-02-01T00:00:00      1   \n2846              4   2325000.0       27.80  2016-09-21T00:00:00      1   \n10058             9   3350000.0       25.00  2018-09-10T00:00:00      1   \n186              12  11640000.0       65.20  2018-10-02T00:00:00      2   \n12739             5   9150000.0       46.00  2015-10-02T00:00:00      1   \n11328            10   5386325.0       58.13  2018-10-10T00:00:00      3   \n22656             4   4574160.0       64.50  2017-04-02T00:00:00      2   \n10013             4   4558637.0       64.40  2016-09-21T00:00:00      2   \n457               4   9788348.0       70.80  2015-08-01T00:00:00      2   \n17498             4   4252249.0       60.20  2017-04-01T00:00:00      2   \n\n       ceiling_height  floors_total  living_area  floor  is_apartment  studio  \\\n14094            2.65           NaN          NaN     17         False   False   \n2846             2.65           NaN         19.4     15         False   False   \n10058            2.65           NaN         17.0     21         False   False   \n186              2.65           NaN         30.8      4         False   False   \n12739            2.65           NaN          NaN      5         False   False   \n11328            2.65           NaN         31.0      9         False   False   \n22656            2.65           NaN         31.7     20         False   False   \n10013            2.65           NaN         31.7     19         False   False   \n457              2.65           NaN         38.4     12         False   False   \n17498            2.65           NaN         31.8     13         False   False   \n\n       open_plan  kitchen_area  balcony    locality_name  airports_nearest  \\\n14094      False           NaN        2  Новое Девяткино               NaN   \n2846       False           NaN        0  Санкт-Петербург           22041.0   \n10058      False          3.50        0           Шушары               NaN   \n186        False         12.00        0  Санкт-Петербург           39197.0   \n12739      False           NaN        1  Санкт-Петербург           39412.0   \n11328      False           NaN        0  Санкт-Петербург           47303.0   \n22656      False         14.40        0  Санкт-Петербург           22041.0   \n10013      False         14.40        0  Санкт-Петербург           22041.0   \n457        False         10.63        0  Санкт-Петербург           37364.0   \n17498      False         12.10        0  Санкт-Петербург           22041.0   \n\n       city_centers_nearest  parks_around3000  parks_nearest  \\\n14094                   NaN               NaN            NaN   \n2846                17369.0               0.0            NaN   \n10058                   NaN               NaN            NaN   \n186                 12373.0               1.0          123.0   \n12739               10186.0               1.0         1424.0   \n11328               25865.0               1.0          400.0   \n22656               17369.0               0.0            NaN   \n10013               17369.0               0.0            NaN   \n457                  8322.0               2.0          309.0   \n17498               17369.0               0.0            NaN   \n\n       ponds_around3000  ponds_nearest  days_exposition locality_type  \n14094               NaN            NaN            440.0             3  \n2846                1.0          374.0            307.0             0  \n10058               NaN            NaN             23.0             1  \n186                 0.0            NaN             49.0             0  \n12739               3.0          204.0           1151.0             0  \n11328               1.0          492.0            135.0             0  \n22656               1.0          374.0            127.0             0  \n10013               1.0          374.0            320.0             0  \n457                 2.0          706.0            727.0             0  \n17498               1.0          374.0            128.0             0  ",
      "text/html": "<div>\n<style scoped>\n    .dataframe tbody tr th:only-of-type {\n        vertical-align: middle;\n    }\n\n    .dataframe tbody tr th {\n        vertical-align: top;\n    }\n\n    .dataframe thead th {\n        text-align: right;\n    }\n</style>\n<table border=\"1\" class=\"dataframe\">\n  <thead>\n    <tr style=\"text-align: right;\">\n      <th></th>\n      <th>total_images</th>\n      <th>last_price</th>\n      <th>total_area</th>\n      <th>first_day_exposition</th>\n      <th>rooms</th>\n      <th>ceiling_height</th>\n      <th>floors_total</th>\n      <th>living_area</th>\n      <th>floor</th>\n      <th>is_apartment</th>\n      <th>studio</th>\n      <th>open_plan</th>\n      <th>kitchen_area</th>\n      <th>balcony</th>\n      <th>locality_name</th>\n      <th>airports_nearest</th>\n      <th>city_centers_nearest</th>\n      <th>parks_around3000</th>\n      <th>parks_nearest</th>\n      <th>ponds_around3000</th>\n      <th>ponds_nearest</th>\n      <th>days_exposition</th>\n      <th>locality_type</th>\n    </tr>\n  </thead>\n  <tbody>\n    <tr>\n      <th>14094</th>\n      <td>5</td>\n      <td>3290000.0</td>\n      <td>33.00</td>\n      <td>2018-02-01T00:00:00</td>\n      <td>1</td>\n      <td>2.65</td>\n      <td>NaN</td>\n      <td>NaN</td>\n      <td>17</td>\n      <td>False</td>\n      <td>False</td>\n      <td>False</td>\n      <td>NaN</td>\n      <td>2</td>\n      <td>Новое Девяткино</td>\n      <td>NaN</td>\n      <td>NaN</td>\n      <td>NaN</td>\n      <td>NaN</td>\n      <td>NaN</td>\n      <td>NaN</td>\n      <td>440.0</td>\n      <td>3</td>\n    </tr>\n    <tr>\n      <th>2846</th>\n      <td>4</td>\n      <td>2325000.0</td>\n      <td>27.80</td>\n      <td>2016-09-21T00:00:00</td>\n      <td>1</td>\n      <td>2.65</td>\n      <td>NaN</td>\n      <td>19.4</td>\n      <td>15</td>\n      <td>False</td>\n      <td>False</td>\n      <td>False</td>\n      <td>NaN</td>\n      <td>0</td>\n      <td>Санкт-Петербург</td>\n      <td>22041.0</td>\n      <td>17369.0</td>\n      <td>0.0</td>\n      <td>NaN</td>\n      <td>1.0</td>\n      <td>374.0</td>\n      <td>307.0</td>\n      <td>0</td>\n    </tr>\n    <tr>\n      <th>10058</th>\n      <td>9</td>\n      <td>3350000.0</td>\n      <td>25.00</td>\n      <td>2018-09-10T00:00:00</td>\n      <td>1</td>\n      <td>2.65</td>\n      <td>NaN</td>\n      <td>17.0</td>\n      <td>21</td>\n      <td>False</td>\n      <td>False</td>\n      <td>False</td>\n      <td>3.50</td>\n      <td>0</td>\n      <td>Шушары</td>\n      <td>NaN</td>\n      <td>NaN</td>\n      <td>NaN</td>\n      <td>NaN</td>\n      <td>NaN</td>\n      <td>NaN</td>\n      <td>23.0</td>\n      <td>1</td>\n    </tr>\n    <tr>\n      <th>186</th>\n      <td>12</td>\n      <td>11640000.0</td>\n      <td>65.20</td>\n      <td>2018-10-02T00:00:00</td>\n      <td>2</td>\n      <td>2.65</td>\n      <td>NaN</td>\n      <td>30.8</td>\n      <td>4</td>\n      <td>False</td>\n      <td>False</td>\n      <td>False</td>\n      <td>12.00</td>\n      <td>0</td>\n      <td>Санкт-Петербург</td>\n      <td>39197.0</td>\n      <td>12373.0</td>\n      <td>1.0</td>\n      <td>123.0</td>\n      <td>0.0</td>\n      <td>NaN</td>\n      <td>49.0</td>\n      <td>0</td>\n    </tr>\n    <tr>\n      <th>12739</th>\n      <td>5</td>\n      <td>9150000.0</td>\n      <td>46.00</td>\n      <td>2015-10-02T00:00:00</td>\n      <td>1</td>\n      <td>2.65</td>\n      <td>NaN</td>\n      <td>NaN</td>\n      <td>5</td>\n      <td>False</td>\n      <td>False</td>\n      <td>False</td>\n      <td>NaN</td>\n      <td>1</td>\n      <td>Санкт-Петербург</td>\n      <td>39412.0</td>\n      <td>10186.0</td>\n      <td>1.0</td>\n      <td>1424.0</td>\n      <td>3.0</td>\n      <td>204.0</td>\n      <td>1151.0</td>\n      <td>0</td>\n    </tr>\n    <tr>\n      <th>11328</th>\n      <td>10</td>\n      <td>5386325.0</td>\n      <td>58.13</td>\n      <td>2018-10-10T00:00:00</td>\n      <td>3</td>\n      <td>2.65</td>\n      <td>NaN</td>\n      <td>31.0</td>\n      <td>9</td>\n      <td>False</td>\n      <td>False</td>\n      <td>False</td>\n      <td>NaN</td>\n      <td>0</td>\n      <td>Санкт-Петербург</td>\n      <td>47303.0</td>\n      <td>25865.0</td>\n      <td>1.0</td>\n      <td>400.0</td>\n      <td>1.0</td>\n      <td>492.0</td>\n      <td>135.0</td>\n      <td>0</td>\n    </tr>\n    <tr>\n      <th>22656</th>\n      <td>4</td>\n      <td>4574160.0</td>\n      <td>64.50</td>\n      <td>2017-04-02T00:00:00</td>\n      <td>2</td>\n      <td>2.65</td>\n      <td>NaN</td>\n      <td>31.7</td>\n      <td>20</td>\n      <td>False</td>\n      <td>False</td>\n      <td>False</td>\n      <td>14.40</td>\n      <td>0</td>\n      <td>Санкт-Петербург</td>\n      <td>22041.0</td>\n      <td>17369.0</td>\n      <td>0.0</td>\n      <td>NaN</td>\n      <td>1.0</td>\n      <td>374.0</td>\n      <td>127.0</td>\n      <td>0</td>\n    </tr>\n    <tr>\n      <th>10013</th>\n      <td>4</td>\n      <td>4558637.0</td>\n      <td>64.40</td>\n      <td>2016-09-21T00:00:00</td>\n      <td>2</td>\n      <td>2.65</td>\n      <td>NaN</td>\n      <td>31.7</td>\n      <td>19</td>\n      <td>False</td>\n      <td>False</td>\n      <td>False</td>\n      <td>14.40</td>\n      <td>0</td>\n      <td>Санкт-Петербург</td>\n      <td>22041.0</td>\n      <td>17369.0</td>\n      <td>0.0</td>\n      <td>NaN</td>\n      <td>1.0</td>\n      <td>374.0</td>\n      <td>320.0</td>\n      <td>0</td>\n    </tr>\n    <tr>\n      <th>457</th>\n      <td>4</td>\n      <td>9788348.0</td>\n      <td>70.80</td>\n      <td>2015-08-01T00:00:00</td>\n      <td>2</td>\n      <td>2.65</td>\n      <td>NaN</td>\n      <td>38.4</td>\n      <td>12</td>\n      <td>False</td>\n      <td>False</td>\n      <td>False</td>\n      <td>10.63</td>\n      <td>0</td>\n      <td>Санкт-Петербург</td>\n      <td>37364.0</td>\n      <td>8322.0</td>\n      <td>2.0</td>\n      <td>309.0</td>\n      <td>2.0</td>\n      <td>706.0</td>\n      <td>727.0</td>\n      <td>0</td>\n    </tr>\n    <tr>\n      <th>17498</th>\n      <td>4</td>\n      <td>4252249.0</td>\n      <td>60.20</td>\n      <td>2017-04-01T00:00:00</td>\n      <td>2</td>\n      <td>2.65</td>\n      <td>NaN</td>\n      <td>31.8</td>\n      <td>13</td>\n      <td>False</td>\n      <td>False</td>\n      <td>False</td>\n      <td>12.10</td>\n      <td>0</td>\n      <td>Санкт-Петербург</td>\n      <td>22041.0</td>\n      <td>17369.0</td>\n      <td>0.0</td>\n      <td>NaN</td>\n      <td>1.0</td>\n      <td>374.0</td>\n      <td>128.0</td>\n      <td>0</td>\n    </tr>\n  </tbody>\n</table>\n</div>"
     },
     "metadata": {},
     "output_type": "display_data"
    }
   ],
   "source": [
    "display(\n",
    "    real_estate_data.loc[\n",
    "        real_estate_data['floors_total'].isna()\n",
    "    ].sample(n=10)\n",
    ")"
   ]
  },
  {
   "cell_type": "code",
   "execution_count": 57,
   "id": "de7a7580-e21b-456c-9de2-bff284e96f10",
   "metadata": {
    "pycharm": {
     "name": "#%%\n"
    }
   },
   "outputs": [
    {
     "name": "stdout",
     "output_type": "stream",
     "text": [
      "[0, 1, 2, 4, 3]\n",
      "9.0\n",
      "12.0\n",
      "5.0\n",
      "5.0\n",
      "9.0\n"
     ]
    }
   ],
   "source": [
    "types_na_flrs_ttl = (\n",
    "    list(real_estate_data.loc[\n",
    "            (real_estate_data['floors_total'].isna())\n",
    "            , 'locality_type'\n",
    "        ].unique()\n",
    "    )\n",
    ")\n",
    "\n",
    "print(types_na_flrs_ttl)\n",
    "\n",
    "for type_flrs_ttl in types_na_flrs_ttl:\n",
    "    \n",
    "    flrs_ttl_median_by_type = (\n",
    "        real_estate_data.loc[\n",
    "            (real_estate_data['locality_type'] == type_flrs_ttl)\n",
    "            & ~(real_estate_data['floors_total'].isna())\n",
    "            , 'floors_total'\n",
    "        ].median()\n",
    "    )\n",
    "\n",
    "    print(flrs_ttl_median_by_type)\n",
    "    \n",
    "    if math.isnan(flrs_ttl_median_by_type):\n",
    "        flrs_ttl_median_by_type = real_estate_data['floors_total'].median()\n",
    "        print('NANы', flrs_ttl_median_by_type)\n",
    "        \n",
    "#     real_estate_data.loc[\n",
    "#         (real_estate_data['locality_type'] == type_flrs_ttl)\n",
    "#         & (real_estate_data['floors_total'].isna())\n",
    "#         , 'floors_total'\n",
    "#     ].fillna(value=flrs_ttl_median_by_type, inplace=True)\n",
    "    \n",
    "    real_estate_data.loc[\n",
    "            (real_estate_data['locality_type'] == type_flrs_ttl)\n",
    "            & (real_estate_data['floors_total'].isna())\n",
    "            , 'floors_total'\n",
    "    ] = flrs_ttl_median_by_type\n",
    "    \n",
    "    # real_estate_data.loc[\n",
    "    #     (real_estate_data['locality_type'] == type_flrs_ttl)\n",
    "    #     & (real_estate_data['floors_total'].isna())\n",
    "    #     , 'floors_total'\n",
    "    # ] = real_estate_data.loc[\n",
    "    #         (real_estate_data['locality_type'] == type_flrs_ttl)\n",
    "    #         & (real_estate_data['floors_total'].isna())\n",
    "    #         , 'floors_total'\n",
    "    #     ].fillna(value=flrs_ttl_median_by_type)"
   ]
  },
  {
   "cell_type": "markdown",
   "id": "3a9c7877-ce4c-4c1e-8eda-648b7ea571ed",
   "metadata": {
    "pycharm": {
     "name": "#%% md\n"
    }
   },
   "source": [
    "🤦‍♂️"
   ]
  },
  {
   "cell_type": "code",
   "execution_count": 58,
   "id": "990a89e0-9deb-453b-b99e-49e7378d0ac1",
   "metadata": {
    "pycharm": {
     "name": "#%%\n"
    }
   },
   "outputs": [],
   "source": [
    "#     why ↓ it's not working in for loop!?\n",
    "    \n",
    "    # real_estate_data.loc[\n",
    "    #     (real_estate_data['locality_type'] == type_flrs_ttl)\n",
    "    #     & (real_estate_data['floors_total'].isna())\n",
    "    #     , 'floors_total'\n",
    "    # ].fillna(value=flrs_ttl_median_by_type, inplace=True)"
   ]
  },
  {
   "cell_type": "code",
   "execution_count": 59,
   "id": "626cd873-3e13-4799-a4a1-64081d619d50",
   "metadata": {
    "pycharm": {
     "name": "#%%\n"
    }
   },
   "outputs": [
    {
     "name": "stdout",
     "output_type": "stream",
     "text": [
      "<class 'pandas.core.series.Series'>\n",
      "RangeIndex: 23699 entries, 0 to 23698\n",
      "Series name: floors_total\n",
      "Non-Null Count  Dtype  \n",
      "--------------  -----  \n",
      "23699 non-null  float64\n",
      "dtypes: float64(1)\n",
      "memory usage: 185.3 KB\n"
     ]
    },
    {
     "data": {
      "text/plain": "count    23699.000000\nmean        10.668425\nstd          6.586123\nmin          1.000000\n25%          5.000000\n50%          9.000000\n75%         16.000000\nmax         60.000000\nName: floors_total, dtype: float64"
     },
     "metadata": {},
     "output_type": "display_data"
    },
    {
     "data": {
      "text/plain": "None"
     },
     "metadata": {},
     "output_type": "display_data"
    }
   ],
   "source": [
    "display(\n",
    "        real_estate_data['floors_total'].describe(),\n",
    "        real_estate_data['floors_total'].info()\n",
    ")"
   ]
  },
  {
   "cell_type": "code",
   "execution_count": 60,
   "id": "bd3fed4e-ab1a-4fad-b4f0-809b754b31f4",
   "metadata": {
    "pycharm": {
     "name": "#%%\n"
    }
   },
   "outputs": [
    {
     "data": {
      "text/plain": "count    36.000000\nmean     16.166667\nstd       4.358899\nmin      10.000000\n25%      12.000000\n50%      15.000000\n75%      20.000000\nmax      24.000000\nName: floor, dtype: float64"
     },
     "metadata": {},
     "output_type": "display_data"
    }
   ],
   "source": [
    "display(\n",
    "    real_estate_data.loc[\n",
    "        real_estate_data['floor'] > real_estate_data['floors_total']\n",
    "        , 'floor'\n",
    "    ].describe()\n",
    ")"
   ]
  },
  {
   "cell_type": "code",
   "execution_count": 61,
   "id": "0dae5de0-d660-4ad2-87a6-9069f5f3b611",
   "metadata": {
    "pycharm": {
     "name": "#%%\n"
    }
   },
   "outputs": [],
   "source": [
    "real_estate_data.loc[\n",
    "    (real_estate_data['floor'] > real_estate_data['floors_total'])\n",
    "    , 'floor'\n",
    "] = real_estate_data.loc[\n",
    "        (real_estate_data['floor'] > real_estate_data['floors_total'])\n",
    "        , 'floors_total'\n",
    "    ]"
   ]
  },
  {
   "cell_type": "code",
   "execution_count": 62,
   "id": "6955fd46-df4d-4b83-a79e-b81593a31f5f",
   "metadata": {
    "pycharm": {
     "name": "#%%\n"
    }
   },
   "outputs": [
    {
     "data": {
      "text/plain": "0"
     },
     "metadata": {},
     "output_type": "display_data"
    }
   ],
   "source": [
    "display(\n",
    "    real_estate_data.loc[real_estate_data['floor'] > real_estate_data['floors_total'], 'floor'].count()\n",
    ")"
   ]
  },
  {
   "cell_type": "code",
   "execution_count": 63,
   "id": "ab3660c7-671f-440b-b3b8-cebfdda6c312",
   "metadata": {
    "pycharm": {
     "name": "#%%\n"
    }
   },
   "outputs": [],
   "source": [
    "real_estate_data = real_estate_data.astype(\n",
    "    {'floors_total': 'uint8',}\n",
    ")"
   ]
  },
  {
   "cell_type": "markdown",
   "id": "6c77f486-1bd9-4eb5-9991-49d37ad42f32",
   "metadata": {
    "pycharm": {
     "name": "#%% md\n"
    }
   },
   "source": [
    "    ❌ 'living_area' — сделаем `NaN` медианным значением по диапазонам цен и району"
   ]
  },
  {
   "cell_type": "code",
   "execution_count": 64,
   "id": "389d71ca-604d-4774-b607-ebc147990a50",
   "metadata": {
    "pycharm": {
     "name": "#%%\n"
    }
   },
   "outputs": [],
   "source": [
    "# display(\n",
    "#     real_estate_data.loc[\n",
    "#         real_estate_data['living_area'].isna()\n",
    "#         , 'floor'\n",
    "#     ].count()\n",
    "# )"
   ]
  },
  {
   "cell_type": "code",
   "execution_count": 65,
   "id": "56cba6c3-837d-4c24-8e27-23dc90e055eb",
   "metadata": {
    "pycharm": {
     "name": "#%%\n"
    }
   },
   "outputs": [
    {
     "data": {
      "text/plain": "count    23699.000000\nmean        60.348651\nstd         35.654083\nmin         12.000000\n25%         40.000000\n50%         52.000000\n75%         69.900000\nmax        900.000000\nName: total_area, dtype: float64"
     },
     "metadata": {},
     "output_type": "display_data"
    }
   ],
   "source": [
    "display(\n",
    "    real_estate_data['total_area'].describe()\n",
    ")"
   ]
  },
  {
   "cell_type": "code",
   "execution_count": 66,
   "id": "02fe2057-e61e-4b14-be3b-8d3025c1e617",
   "metadata": {
    "pycharm": {
     "name": "#%%\n"
    }
   },
   "outputs": [
    {
     "data": {
      "text/plain": "       total_images   last_price  total_area first_day_exposition  rooms  \\\n660               3   49950000.0       483.9  2017-10-04T00:00:00      7   \n3117             19  140000000.0       631.0  2019-03-30T00:00:00      7   \n4237              1   50000000.0       517.0  2017-10-14T00:00:00      7   \n5358             20   65000000.0       590.0  2019-02-14T00:00:00     15   \n5893              3  230000000.0       500.0  2017-05-31T00:00:00      6   \n6221              8   34000000.0       470.3  2018-01-14T00:00:00      4   \n6621             20   99000000.0       488.0  2017-04-09T00:00:00      5   \n8018             20   84000000.0       507.0  2015-12-17T00:00:00      5   \n9826              1   43185328.0       494.1  2017-05-12T00:00:00      1   \n12401            20   91500000.0       495.0  2017-06-19T00:00:00      7   \n12859            20  140000000.0       631.2  2019-04-09T00:00:00      7   \n15016             8  150000000.0       500.0  2016-01-13T00:00:00      4   \n15651            20  300000000.0       618.0  2017-12-18T00:00:00      7   \n19540             8  420000000.0       900.0  2017-12-06T00:00:00     12   \n20273            12   20000000.0       460.8  2019-03-20T00:00:00      6   \n22494             7   91075000.0       491.0  2017-05-27T00:00:00      5   \n\n       ceiling_height  floors_total  living_area  floor  is_apartment  studio  \\\n660              3.20             6        312.5      4         False   False   \n3117             2.65             5          NaN      5         False   False   \n4237             2.65             4        332.0      3         False   False   \n5358             3.50             6        409.0      3         False   False   \n5893             2.65             7          NaN      7         False   False   \n6221             2.65             3        248.7      3         False   False   \n6621             2.95            20        216.0     17         False   False   \n8018             4.45             7        301.5      7          True   False   \n9826             2.85            12          NaN      3         False   False   \n12401            4.65             7        347.5      7         False   False   \n12859            3.90             4        322.3      4         False   False   \n15016            3.20             7          NaN      7         False   False   \n15651            3.40             7        258.0      5         False   False   \n19540            2.80            25        409.7     25         False   False   \n20273            3.10             3        279.6      1         False   False   \n22494            4.20             9        274.0      9         False   False   \n\n       open_plan  kitchen_area  balcony    locality_name  airports_nearest  \\\n660        False          26.4        0  Санкт-Петербург           23079.0   \n3117       False          60.0        0  Санкт-Петербург           25707.0   \n4237       False          22.0        0  Санкт-Петербург           22835.0   \n5358       False         100.0        1  Санкт-Петербург           24447.0   \n5893       False          40.0        0  Санкт-Петербург           32440.0   \n6221       False          40.0        1  Санкт-Петербург           43756.0   \n6621       False          50.0        0  Санкт-Петербург           27641.0   \n8018       False          45.5        1  Санкт-Петербург               NaN   \n9826       False           NaN        0  Санкт-Петербург           28529.0   \n12401      False          25.0        0  Санкт-Петербург               NaN   \n12859      False          19.5        1  Санкт-Петербург           25707.0   \n15016      False           NaN        0  Санкт-Петербург           33058.0   \n15651      False          70.0        0  Санкт-Петербург           32440.0   \n19540      False         112.0        1  Санкт-Петербург           30706.0   \n20273      False          55.5        1  Санкт-Петербург           43756.0   \n22494      False          45.0        0  Санкт-Петербург           25525.0   \n\n       city_centers_nearest  parks_around3000  parks_nearest  \\\n660                   945.0               3.0          461.0   \n3117                 4972.0               0.0            NaN   \n4237                 1847.0               2.0          477.0   \n5358                 4666.0               1.0          767.0   \n5893                 5297.0               0.0            NaN   \n6221                15459.0               1.0          852.0   \n6621                 4598.0               1.0          646.0   \n8018                 5735.0               2.0          110.0   \n9826                 6832.0               1.0          592.0   \n12401                5735.0               2.0          110.0   \n12859                4972.0               0.0            NaN   \n15016                6150.0               3.0          209.0   \n15651                5297.0               0.0            NaN   \n19540                7877.0               0.0            NaN   \n20273               15459.0               1.0          852.0   \n22494                5845.0               2.0          116.0   \n\n       ponds_around3000  ponds_nearest  days_exposition locality_type  \n660                 3.0           22.0            391.0             0  \n3117                2.0          210.0              NaN             0  \n4237                2.0          540.0              NaN             0  \n5358                0.0            NaN             14.0             0  \n5893                2.0          198.0             50.0             0  \n6221                3.0          122.0            179.0             0  \n6621                1.0          368.0            351.0             0  \n8018                0.0            NaN           1078.0             0  \n9826                0.0            NaN              5.0             0  \n12401               0.0            NaN             14.0             0  \n12859               2.0          210.0              NaN             0  \n15016               3.0          531.0            303.0             0  \n15651               2.0          198.0            111.0             0  \n19540               2.0          318.0            106.0             0  \n20273               3.0          122.0             21.0             0  \n22494               0.0            NaN            115.0             0  ",
      "text/html": "<div>\n<style scoped>\n    .dataframe tbody tr th:only-of-type {\n        vertical-align: middle;\n    }\n\n    .dataframe tbody tr th {\n        vertical-align: top;\n    }\n\n    .dataframe thead th {\n        text-align: right;\n    }\n</style>\n<table border=\"1\" class=\"dataframe\">\n  <thead>\n    <tr style=\"text-align: right;\">\n      <th></th>\n      <th>total_images</th>\n      <th>last_price</th>\n      <th>total_area</th>\n      <th>first_day_exposition</th>\n      <th>rooms</th>\n      <th>ceiling_height</th>\n      <th>floors_total</th>\n      <th>living_area</th>\n      <th>floor</th>\n      <th>is_apartment</th>\n      <th>studio</th>\n      <th>open_plan</th>\n      <th>kitchen_area</th>\n      <th>balcony</th>\n      <th>locality_name</th>\n      <th>airports_nearest</th>\n      <th>city_centers_nearest</th>\n      <th>parks_around3000</th>\n      <th>parks_nearest</th>\n      <th>ponds_around3000</th>\n      <th>ponds_nearest</th>\n      <th>days_exposition</th>\n      <th>locality_type</th>\n    </tr>\n  </thead>\n  <tbody>\n    <tr>\n      <th>660</th>\n      <td>3</td>\n      <td>49950000.0</td>\n      <td>483.9</td>\n      <td>2017-10-04T00:00:00</td>\n      <td>7</td>\n      <td>3.20</td>\n      <td>6</td>\n      <td>312.5</td>\n      <td>4</td>\n      <td>False</td>\n      <td>False</td>\n      <td>False</td>\n      <td>26.4</td>\n      <td>0</td>\n      <td>Санкт-Петербург</td>\n      <td>23079.0</td>\n      <td>945.0</td>\n      <td>3.0</td>\n      <td>461.0</td>\n      <td>3.0</td>\n      <td>22.0</td>\n      <td>391.0</td>\n      <td>0</td>\n    </tr>\n    <tr>\n      <th>3117</th>\n      <td>19</td>\n      <td>140000000.0</td>\n      <td>631.0</td>\n      <td>2019-03-30T00:00:00</td>\n      <td>7</td>\n      <td>2.65</td>\n      <td>5</td>\n      <td>NaN</td>\n      <td>5</td>\n      <td>False</td>\n      <td>False</td>\n      <td>False</td>\n      <td>60.0</td>\n      <td>0</td>\n      <td>Санкт-Петербург</td>\n      <td>25707.0</td>\n      <td>4972.0</td>\n      <td>0.0</td>\n      <td>NaN</td>\n      <td>2.0</td>\n      <td>210.0</td>\n      <td>NaN</td>\n      <td>0</td>\n    </tr>\n    <tr>\n      <th>4237</th>\n      <td>1</td>\n      <td>50000000.0</td>\n      <td>517.0</td>\n      <td>2017-10-14T00:00:00</td>\n      <td>7</td>\n      <td>2.65</td>\n      <td>4</td>\n      <td>332.0</td>\n      <td>3</td>\n      <td>False</td>\n      <td>False</td>\n      <td>False</td>\n      <td>22.0</td>\n      <td>0</td>\n      <td>Санкт-Петербург</td>\n      <td>22835.0</td>\n      <td>1847.0</td>\n      <td>2.0</td>\n      <td>477.0</td>\n      <td>2.0</td>\n      <td>540.0</td>\n      <td>NaN</td>\n      <td>0</td>\n    </tr>\n    <tr>\n      <th>5358</th>\n      <td>20</td>\n      <td>65000000.0</td>\n      <td>590.0</td>\n      <td>2019-02-14T00:00:00</td>\n      <td>15</td>\n      <td>3.50</td>\n      <td>6</td>\n      <td>409.0</td>\n      <td>3</td>\n      <td>False</td>\n      <td>False</td>\n      <td>False</td>\n      <td>100.0</td>\n      <td>1</td>\n      <td>Санкт-Петербург</td>\n      <td>24447.0</td>\n      <td>4666.0</td>\n      <td>1.0</td>\n      <td>767.0</td>\n      <td>0.0</td>\n      <td>NaN</td>\n      <td>14.0</td>\n      <td>0</td>\n    </tr>\n    <tr>\n      <th>5893</th>\n      <td>3</td>\n      <td>230000000.0</td>\n      <td>500.0</td>\n      <td>2017-05-31T00:00:00</td>\n      <td>6</td>\n      <td>2.65</td>\n      <td>7</td>\n      <td>NaN</td>\n      <td>7</td>\n      <td>False</td>\n      <td>False</td>\n      <td>False</td>\n      <td>40.0</td>\n      <td>0</td>\n      <td>Санкт-Петербург</td>\n      <td>32440.0</td>\n      <td>5297.0</td>\n      <td>0.0</td>\n      <td>NaN</td>\n      <td>2.0</td>\n      <td>198.0</td>\n      <td>50.0</td>\n      <td>0</td>\n    </tr>\n    <tr>\n      <th>6221</th>\n      <td>8</td>\n      <td>34000000.0</td>\n      <td>470.3</td>\n      <td>2018-01-14T00:00:00</td>\n      <td>4</td>\n      <td>2.65</td>\n      <td>3</td>\n      <td>248.7</td>\n      <td>3</td>\n      <td>False</td>\n      <td>False</td>\n      <td>False</td>\n      <td>40.0</td>\n      <td>1</td>\n      <td>Санкт-Петербург</td>\n      <td>43756.0</td>\n      <td>15459.0</td>\n      <td>1.0</td>\n      <td>852.0</td>\n      <td>3.0</td>\n      <td>122.0</td>\n      <td>179.0</td>\n      <td>0</td>\n    </tr>\n    <tr>\n      <th>6621</th>\n      <td>20</td>\n      <td>99000000.0</td>\n      <td>488.0</td>\n      <td>2017-04-09T00:00:00</td>\n      <td>5</td>\n      <td>2.95</td>\n      <td>20</td>\n      <td>216.0</td>\n      <td>17</td>\n      <td>False</td>\n      <td>False</td>\n      <td>False</td>\n      <td>50.0</td>\n      <td>0</td>\n      <td>Санкт-Петербург</td>\n      <td>27641.0</td>\n      <td>4598.0</td>\n      <td>1.0</td>\n      <td>646.0</td>\n      <td>1.0</td>\n      <td>368.0</td>\n      <td>351.0</td>\n      <td>0</td>\n    </tr>\n    <tr>\n      <th>8018</th>\n      <td>20</td>\n      <td>84000000.0</td>\n      <td>507.0</td>\n      <td>2015-12-17T00:00:00</td>\n      <td>5</td>\n      <td>4.45</td>\n      <td>7</td>\n      <td>301.5</td>\n      <td>7</td>\n      <td>True</td>\n      <td>False</td>\n      <td>False</td>\n      <td>45.5</td>\n      <td>1</td>\n      <td>Санкт-Петербург</td>\n      <td>NaN</td>\n      <td>5735.0</td>\n      <td>2.0</td>\n      <td>110.0</td>\n      <td>0.0</td>\n      <td>NaN</td>\n      <td>1078.0</td>\n      <td>0</td>\n    </tr>\n    <tr>\n      <th>9826</th>\n      <td>1</td>\n      <td>43185328.0</td>\n      <td>494.1</td>\n      <td>2017-05-12T00:00:00</td>\n      <td>1</td>\n      <td>2.85</td>\n      <td>12</td>\n      <td>NaN</td>\n      <td>3</td>\n      <td>False</td>\n      <td>False</td>\n      <td>False</td>\n      <td>NaN</td>\n      <td>0</td>\n      <td>Санкт-Петербург</td>\n      <td>28529.0</td>\n      <td>6832.0</td>\n      <td>1.0</td>\n      <td>592.0</td>\n      <td>0.0</td>\n      <td>NaN</td>\n      <td>5.0</td>\n      <td>0</td>\n    </tr>\n    <tr>\n      <th>12401</th>\n      <td>20</td>\n      <td>91500000.0</td>\n      <td>495.0</td>\n      <td>2017-06-19T00:00:00</td>\n      <td>7</td>\n      <td>4.65</td>\n      <td>7</td>\n      <td>347.5</td>\n      <td>7</td>\n      <td>False</td>\n      <td>False</td>\n      <td>False</td>\n      <td>25.0</td>\n      <td>0</td>\n      <td>Санкт-Петербург</td>\n      <td>NaN</td>\n      <td>5735.0</td>\n      <td>2.0</td>\n      <td>110.0</td>\n      <td>0.0</td>\n      <td>NaN</td>\n      <td>14.0</td>\n      <td>0</td>\n    </tr>\n    <tr>\n      <th>12859</th>\n      <td>20</td>\n      <td>140000000.0</td>\n      <td>631.2</td>\n      <td>2019-04-09T00:00:00</td>\n      <td>7</td>\n      <td>3.90</td>\n      <td>4</td>\n      <td>322.3</td>\n      <td>4</td>\n      <td>False</td>\n      <td>False</td>\n      <td>False</td>\n      <td>19.5</td>\n      <td>1</td>\n      <td>Санкт-Петербург</td>\n      <td>25707.0</td>\n      <td>4972.0</td>\n      <td>0.0</td>\n      <td>NaN</td>\n      <td>2.0</td>\n      <td>210.0</td>\n      <td>NaN</td>\n      <td>0</td>\n    </tr>\n    <tr>\n      <th>15016</th>\n      <td>8</td>\n      <td>150000000.0</td>\n      <td>500.0</td>\n      <td>2016-01-13T00:00:00</td>\n      <td>4</td>\n      <td>3.20</td>\n      <td>7</td>\n      <td>NaN</td>\n      <td>7</td>\n      <td>False</td>\n      <td>False</td>\n      <td>False</td>\n      <td>NaN</td>\n      <td>0</td>\n      <td>Санкт-Петербург</td>\n      <td>33058.0</td>\n      <td>6150.0</td>\n      <td>3.0</td>\n      <td>209.0</td>\n      <td>3.0</td>\n      <td>531.0</td>\n      <td>303.0</td>\n      <td>0</td>\n    </tr>\n    <tr>\n      <th>15651</th>\n      <td>20</td>\n      <td>300000000.0</td>\n      <td>618.0</td>\n      <td>2017-12-18T00:00:00</td>\n      <td>7</td>\n      <td>3.40</td>\n      <td>7</td>\n      <td>258.0</td>\n      <td>5</td>\n      <td>False</td>\n      <td>False</td>\n      <td>False</td>\n      <td>70.0</td>\n      <td>0</td>\n      <td>Санкт-Петербург</td>\n      <td>32440.0</td>\n      <td>5297.0</td>\n      <td>0.0</td>\n      <td>NaN</td>\n      <td>2.0</td>\n      <td>198.0</td>\n      <td>111.0</td>\n      <td>0</td>\n    </tr>\n    <tr>\n      <th>19540</th>\n      <td>8</td>\n      <td>420000000.0</td>\n      <td>900.0</td>\n      <td>2017-12-06T00:00:00</td>\n      <td>12</td>\n      <td>2.80</td>\n      <td>25</td>\n      <td>409.7</td>\n      <td>25</td>\n      <td>False</td>\n      <td>False</td>\n      <td>False</td>\n      <td>112.0</td>\n      <td>1</td>\n      <td>Санкт-Петербург</td>\n      <td>30706.0</td>\n      <td>7877.0</td>\n      <td>0.0</td>\n      <td>NaN</td>\n      <td>2.0</td>\n      <td>318.0</td>\n      <td>106.0</td>\n      <td>0</td>\n    </tr>\n    <tr>\n      <th>20273</th>\n      <td>12</td>\n      <td>20000000.0</td>\n      <td>460.8</td>\n      <td>2019-03-20T00:00:00</td>\n      <td>6</td>\n      <td>3.10</td>\n      <td>3</td>\n      <td>279.6</td>\n      <td>1</td>\n      <td>False</td>\n      <td>False</td>\n      <td>False</td>\n      <td>55.5</td>\n      <td>1</td>\n      <td>Санкт-Петербург</td>\n      <td>43756.0</td>\n      <td>15459.0</td>\n      <td>1.0</td>\n      <td>852.0</td>\n      <td>3.0</td>\n      <td>122.0</td>\n      <td>21.0</td>\n      <td>0</td>\n    </tr>\n    <tr>\n      <th>22494</th>\n      <td>7</td>\n      <td>91075000.0</td>\n      <td>491.0</td>\n      <td>2017-05-27T00:00:00</td>\n      <td>5</td>\n      <td>4.20</td>\n      <td>9</td>\n      <td>274.0</td>\n      <td>9</td>\n      <td>False</td>\n      <td>False</td>\n      <td>False</td>\n      <td>45.0</td>\n      <td>0</td>\n      <td>Санкт-Петербург</td>\n      <td>25525.0</td>\n      <td>5845.0</td>\n      <td>2.0</td>\n      <td>116.0</td>\n      <td>0.0</td>\n      <td>NaN</td>\n      <td>115.0</td>\n      <td>0</td>\n    </tr>\n  </tbody>\n</table>\n</div>"
     },
     "metadata": {},
     "output_type": "display_data"
    }
   ],
   "source": [
    "display(\n",
    "    real_estate_data.loc[\n",
    "        real_estate_data['total_area'] > 450\n",
    "    ]\n",
    ")"
   ]
  },
  {
   "cell_type": "code",
   "execution_count": 67,
   "id": "8b9557db-eb8c-4923-bad5-89a177073fad",
   "metadata": {
    "pycharm": {
     "name": "#%%\n"
    }
   },
   "outputs": [
    {
     "data": {
      "text/plain": "count    21796.000000\nmean        34.457852\nstd         22.030445\nmin          2.000000\n25%         18.600000\n50%         30.000000\n75%         42.300000\nmax        409.700000\nName: living_area, dtype: float64"
     },
     "metadata": {},
     "output_type": "display_data"
    }
   ],
   "source": [
    "display(\n",
    "    real_estate_data['living_area'].describe()\n",
    ")"
   ]
  },
  {
   "cell_type": "raw",
   "id": "7bfa5e2e-ce2f-43d8-9792-d3b5ad534e50",
   "metadata": {
    "pycharm": {
     "name": "#%% raw\n"
    }
   },
   "source": [
    "# SKIPED\n",
    "\n",
    "types_na_living_area = (\n",
    "    list(real_estate_data.loc[\n",
    "            (real_estate_data['living_area'].isna())\n",
    "            , 'locality_type'\n",
    "        ].unique()\n",
    "    )\n",
    ")\n",
    "\n",
    "print(types_na_living_area)\n",
    "\n",
    "for type_living_area in types_na_living_area:\n",
    "    \n",
    "    living_area_median_by_type = (\n",
    "        real_estate_data.loc[\n",
    "            (real_estate_data['locality_type'] == type_living_area)\n",
    "            & ~(real_estate_data['living_area'].isna())\n",
    "            , 'living_area'\n",
    "        ].median()\n",
    "    )\n",
    "\n",
    "    print(living_area_median_by_type)\n",
    "    \n",
    "    \n",
    "    if math.isnan(living_area_median_by_type):\n",
    "        living_area_median_by_type = real_estate_data['living_area'].median()\n",
    "        print('NANы')\n",
    "        \n",
    "    real_estate_data.loc[\n",
    "            (real_estate_data['locality_type'] == type_living_area)\n",
    "            & (real_estate_data['living_area'].isna())\n",
    "            , 'living_area'\n",
    "    ] = living_area_median_by_type\n",
    "\n",
    "\n",
    "#     ¯\\_ツ_/¯ → inplace=True\n",
    "\n",
    "    # real_estate_data.loc[\n",
    "    #     (real_estate_data['locality_type'] == type_living_area)\n",
    "    #     & (real_estate_data['living_area'].isna())\n",
    "    #        , 'living_area'\n",
    "    # ].fillna(value=living_area_median_by_type, inplace=True)\n",
    "    \n",
    "    # real_estate_data.loc[\n",
    "    #     real_estate_data['locality_type'] == type_living_area\n",
    "    #        , 'living_area'\n",
    "    # ].fillna(value=living_area_median_by_type, inplace=True)"
   ]
  },
  {
   "cell_type": "code",
   "execution_count": 68,
   "id": "f99c8ca4-d9b5-4966-b1a8-fb51df488734",
   "metadata": {
    "pycharm": {
     "name": "#%%\n"
    }
   },
   "outputs": [],
   "source": [
    "types_na_living_area = (\n",
    "    list(real_estate_data.loc[\n",
    "            (real_estate_data['living_area'].isna())\n",
    "            , 'locality_type'\n",
    "        ].unique()\n",
    "    )\n",
    ")\n",
    "\n",
    "for type_living_area in types_na_living_area:\n",
    "    \n",
    "    living_area_median_by_type = (\n",
    "        real_estate_data.loc[\n",
    "            (real_estate_data['locality_type'] == type_living_area)\n",
    "            & ~(real_estate_data['living_area'].isna())\n",
    "            , 'living_area'\n",
    "        ].median()\n",
    "    )\n",
    "    \n",
    "    living_part_median_by_type = round(pd.Series(\n",
    "        real_estate_data.loc[\n",
    "            (real_estate_data['locality_type'] == type_living_area)\n",
    "            & (real_estate_data['living_area'] > 8)\n",
    "            & ~(real_estate_data['living_area'].isna())\n",
    "            , 'living_area'\n",
    "        ] / real_estate_data.loc[\n",
    "            (real_estate_data['locality_type'] == type_living_area)\n",
    "            & (real_estate_data['living_area'] > 8)\n",
    "            & ~(real_estate_data['living_area'].isna())\n",
    "            , 'total_area'\n",
    "        ]\n",
    "    ).median(), 2)\n",
    "\n",
    "    if math.isnan(living_area_median_by_type):\n",
    "        living_area_median_by_type = real_estate_data['living_area'].median()\n",
    "        print('NANы')\n",
    "        \n",
    "    real_estate_data.loc[\n",
    "            (real_estate_data['locality_type'] == type_living_area)\n",
    "            & ((real_estate_data['living_area'].isna())\n",
    "            | (real_estate_data['living_area'] < 8))\n",
    "            , 'living_area'\n",
    "    ] = real_estate_data.loc[\n",
    "            (real_estate_data['locality_type'] == type_living_area)\n",
    "            & ((real_estate_data['living_area'].isna())\n",
    "            | (real_estate_data['living_area'] < 8))\n",
    "            , 'total_area'\n",
    "        ].apply(lambda x: x * living_part_median_by_type)"
   ]
  },
  {
   "cell_type": "code",
   "execution_count": 69,
   "id": "88752809-7e48-4ee5-b185-e577aa63fde3",
   "metadata": {
    "pycharm": {
     "name": "#%%\n"
    }
   },
   "outputs": [
    {
     "data": {
      "text/plain": "count    23699.000000\nmean        34.579383\nstd         22.347244\nmin          7.410000\n25%         19.000000\n50%         30.000000\n75%         42.100000\nmax        409.700000\nName: living_area, dtype: float64"
     },
     "metadata": {},
     "output_type": "display_data"
    }
   ],
   "source": [
    "display(\n",
    "    real_estate_data['living_area'].describe()\n",
    ")"
   ]
  },
  {
   "cell_type": "markdown",
   "id": "f95247b8-8968-46af-8464-4383354e0564",
   "metadata": {
    "pycharm": {
     "name": "#%% md\n"
    }
   },
   "source": [
    "❌ 'kitchen_area' — если студия то кухня `NaN` проверим, если да то сделаем 0"
   ]
  },
  {
   "cell_type": "code",
   "execution_count": 70,
   "id": "308115d9-16a8-4178-9618-7cfd4cf11cfd",
   "metadata": {
    "pycharm": {
     "name": "#%%\n"
    }
   },
   "outputs": [
    {
     "data": {
      "text/plain": "2278"
     },
     "metadata": {},
     "output_type": "display_data"
    }
   ],
   "source": [
    "display(\n",
    "    real_estate_data.loc[real_estate_data['kitchen_area'].isna()\n",
    "        , 'living_area'\n",
    "    ].count()\n",
    ")"
   ]
  },
  {
   "cell_type": "code",
   "execution_count": 71,
   "id": "da2f9853-efc8-4210-88e1-8edee0edc3db",
   "metadata": {
    "pycharm": {
     "name": "#%%\n"
    }
   },
   "outputs": [
    {
     "data": {
      "text/plain": "149"
     },
     "metadata": {},
     "output_type": "display_data"
    }
   ],
   "source": [
    "display(\n",
    "    real_estate_data.loc[\n",
    "        (real_estate_data['kitchen_area'].isna())\n",
    "        & (real_estate_data['studio'])\n",
    "        , 'living_area'\n",
    "    ].count()\n",
    ")"
   ]
  },
  {
   "cell_type": "code",
   "execution_count": 72,
   "id": "a078d57b-971a-4617-83bf-607c5d03ed27",
   "metadata": {
    "pycharm": {
     "name": "#%%\n"
    }
   },
   "outputs": [
    {
     "data": {
      "text/plain": "0"
     },
     "metadata": {},
     "output_type": "display_data"
    }
   ],
   "source": [
    "display(\n",
    "    real_estate_data.loc[\n",
    "        ~ (real_estate_data['kitchen_area'].isna())\n",
    "        & (real_estate_data['studio'])\n",
    "        , 'living_area'\n",
    "    ].count()\n",
    ")"
   ]
  },
  {
   "cell_type": "markdown",
   "id": "7d0bf7d1-c527-4556-8c04-c8d641f0db85",
   "metadata": {
    "pycharm": {
     "name": "#%% md\n"
    }
   },
   "source": [
    "😏"
   ]
  },
  {
   "cell_type": "code",
   "execution_count": 73,
   "id": "4dbbf68b-98ad-44a8-8b61-829d686777a2",
   "metadata": {
    "pycharm": {
     "name": "#%%\n"
    }
   },
   "outputs": [
    {
     "data": {
      "text/plain": "15"
     },
     "metadata": {},
     "output_type": "display_data"
    }
   ],
   "source": [
    "display(\n",
    "    real_estate_data.loc[\n",
    "        (real_estate_data['kitchen_area'].isna())\n",
    "        & (real_estate_data['is_apartment'])\n",
    "        , 'living_area'\n",
    "    ].count()\n",
    ")"
   ]
  },
  {
   "cell_type": "code",
   "execution_count": 74,
   "id": "67da6036-6efd-4949-9ad3-c3f1681d6e8b",
   "metadata": {
    "pycharm": {
     "name": "#%%\n"
    }
   },
   "outputs": [
    {
     "data": {
      "text/plain": "       total_images  last_price  total_area first_day_exposition  rooms  \\\n8611              6   6030000.0        50.4  2018-02-20T00:00:00      2   \n8018             20  84000000.0       507.0  2015-12-17T00:00:00      5   \n3951             10   4300000.0        50.0  2019-04-20T00:00:00      1   \n6523             11   7500000.0        82.0  2019-04-20T00:00:00      2   \n3067             13   6600000.0        95.0  2018-09-08T00:00:00      2   \n5654             20   9200000.0       116.0  2019-04-26T00:00:00      3   \n10867             1  56844500.0       177.9  2015-01-15T00:00:00      3   \n1109              1  34878556.0        95.8  2014-12-09T00:00:00      2   \n10390            18  30000000.0       137.0  2018-08-07T00:00:00      3   \n22560            15   5500000.0        98.0  2018-12-09T00:00:00      3   \n\n       ceiling_height  floors_total  living_area  floor  is_apartment  studio  \\\n8611             3.10             4        37.00      2          True   False   \n8018             4.45             7       301.50      7          True   False   \n3951             3.00            11        17.00      9          True   False   \n6523             3.00            11        30.00      9          True   False   \n3067             4.50             7        45.00      7          True   False   \n5654             3.20             5        68.00      5          True   False   \n10867            2.65             6        87.20      5          True   False   \n1109             2.65             6        58.30      5          True   False   \n10390            3.00             5        90.00      4          True   False   \n22560            2.60             8        55.86      2          True   False   \n\n       open_plan  kitchen_area  balcony    locality_name  airports_nearest  \\\n8611       False          11.0        1  Санкт-Петербург           45767.0   \n8018       False          45.5        1  Санкт-Петербург               NaN   \n3951       False          12.0        2  Санкт-Петербург           10143.0   \n6523       False          31.0        2  Санкт-Петербург           10143.0   \n3067       False          25.0        2           Выборг               NaN   \n5654       False          32.0        2           Выборг               NaN   \n10867      False          87.2        1  Санкт-Петербург           21860.0   \n1109       False          20.0        1  Санкт-Петербург           21860.0   \n10390      False          12.0        1  Санкт-Петербург           23832.0   \n22560      False          28.0        1     Красное Село           27164.0   \n\n       city_centers_nearest  parks_around3000  parks_nearest  \\\n8611                21700.0               0.0            NaN   \n8018                 5735.0               2.0          110.0   \n3951                11367.0               0.0            NaN   \n6523                11367.0               0.0            NaN   \n3067                    NaN               NaN            NaN   \n5654                    NaN               NaN            NaN   \n10867                 318.0               2.0          160.0   \n1109                  318.0               2.0          160.0   \n10390                1285.0               3.0          374.0   \n22560               30589.0               0.0            NaN   \n\n       ponds_around3000  ponds_nearest  days_exposition locality_type  \n8611                1.0          576.0              NaN             0  \n8018                0.0            NaN           1078.0             0  \n3951                0.0            NaN              NaN             0  \n6523                0.0            NaN              NaN             0  \n3067                NaN            NaN             96.0             0  \n5654                NaN            NaN              NaN             0  \n10867               3.0          569.0              NaN             0  \n1109                3.0          569.0           1572.0             0  \n10390               3.0           32.0             34.0             0  \n22560               0.0            NaN              7.0             0  ",
      "text/html": "<div>\n<style scoped>\n    .dataframe tbody tr th:only-of-type {\n        vertical-align: middle;\n    }\n\n    .dataframe tbody tr th {\n        vertical-align: top;\n    }\n\n    .dataframe thead th {\n        text-align: right;\n    }\n</style>\n<table border=\"1\" class=\"dataframe\">\n  <thead>\n    <tr style=\"text-align: right;\">\n      <th></th>\n      <th>total_images</th>\n      <th>last_price</th>\n      <th>total_area</th>\n      <th>first_day_exposition</th>\n      <th>rooms</th>\n      <th>ceiling_height</th>\n      <th>floors_total</th>\n      <th>living_area</th>\n      <th>floor</th>\n      <th>is_apartment</th>\n      <th>studio</th>\n      <th>open_plan</th>\n      <th>kitchen_area</th>\n      <th>balcony</th>\n      <th>locality_name</th>\n      <th>airports_nearest</th>\n      <th>city_centers_nearest</th>\n      <th>parks_around3000</th>\n      <th>parks_nearest</th>\n      <th>ponds_around3000</th>\n      <th>ponds_nearest</th>\n      <th>days_exposition</th>\n      <th>locality_type</th>\n    </tr>\n  </thead>\n  <tbody>\n    <tr>\n      <th>8611</th>\n      <td>6</td>\n      <td>6030000.0</td>\n      <td>50.4</td>\n      <td>2018-02-20T00:00:00</td>\n      <td>2</td>\n      <td>3.10</td>\n      <td>4</td>\n      <td>37.00</td>\n      <td>2</td>\n      <td>True</td>\n      <td>False</td>\n      <td>False</td>\n      <td>11.0</td>\n      <td>1</td>\n      <td>Санкт-Петербург</td>\n      <td>45767.0</td>\n      <td>21700.0</td>\n      <td>0.0</td>\n      <td>NaN</td>\n      <td>1.0</td>\n      <td>576.0</td>\n      <td>NaN</td>\n      <td>0</td>\n    </tr>\n    <tr>\n      <th>8018</th>\n      <td>20</td>\n      <td>84000000.0</td>\n      <td>507.0</td>\n      <td>2015-12-17T00:00:00</td>\n      <td>5</td>\n      <td>4.45</td>\n      <td>7</td>\n      <td>301.50</td>\n      <td>7</td>\n      <td>True</td>\n      <td>False</td>\n      <td>False</td>\n      <td>45.5</td>\n      <td>1</td>\n      <td>Санкт-Петербург</td>\n      <td>NaN</td>\n      <td>5735.0</td>\n      <td>2.0</td>\n      <td>110.0</td>\n      <td>0.0</td>\n      <td>NaN</td>\n      <td>1078.0</td>\n      <td>0</td>\n    </tr>\n    <tr>\n      <th>3951</th>\n      <td>10</td>\n      <td>4300000.0</td>\n      <td>50.0</td>\n      <td>2019-04-20T00:00:00</td>\n      <td>1</td>\n      <td>3.00</td>\n      <td>11</td>\n      <td>17.00</td>\n      <td>9</td>\n      <td>True</td>\n      <td>False</td>\n      <td>False</td>\n      <td>12.0</td>\n      <td>2</td>\n      <td>Санкт-Петербург</td>\n      <td>10143.0</td>\n      <td>11367.0</td>\n      <td>0.0</td>\n      <td>NaN</td>\n      <td>0.0</td>\n      <td>NaN</td>\n      <td>NaN</td>\n      <td>0</td>\n    </tr>\n    <tr>\n      <th>6523</th>\n      <td>11</td>\n      <td>7500000.0</td>\n      <td>82.0</td>\n      <td>2019-04-20T00:00:00</td>\n      <td>2</td>\n      <td>3.00</td>\n      <td>11</td>\n      <td>30.00</td>\n      <td>9</td>\n      <td>True</td>\n      <td>False</td>\n      <td>False</td>\n      <td>31.0</td>\n      <td>2</td>\n      <td>Санкт-Петербург</td>\n      <td>10143.0</td>\n      <td>11367.0</td>\n      <td>0.0</td>\n      <td>NaN</td>\n      <td>0.0</td>\n      <td>NaN</td>\n      <td>NaN</td>\n      <td>0</td>\n    </tr>\n    <tr>\n      <th>3067</th>\n      <td>13</td>\n      <td>6600000.0</td>\n      <td>95.0</td>\n      <td>2018-09-08T00:00:00</td>\n      <td>2</td>\n      <td>4.50</td>\n      <td>7</td>\n      <td>45.00</td>\n      <td>7</td>\n      <td>True</td>\n      <td>False</td>\n      <td>False</td>\n      <td>25.0</td>\n      <td>2</td>\n      <td>Выборг</td>\n      <td>NaN</td>\n      <td>NaN</td>\n      <td>NaN</td>\n      <td>NaN</td>\n      <td>NaN</td>\n      <td>NaN</td>\n      <td>96.0</td>\n      <td>0</td>\n    </tr>\n    <tr>\n      <th>5654</th>\n      <td>20</td>\n      <td>9200000.0</td>\n      <td>116.0</td>\n      <td>2019-04-26T00:00:00</td>\n      <td>3</td>\n      <td>3.20</td>\n      <td>5</td>\n      <td>68.00</td>\n      <td>5</td>\n      <td>True</td>\n      <td>False</td>\n      <td>False</td>\n      <td>32.0</td>\n      <td>2</td>\n      <td>Выборг</td>\n      <td>NaN</td>\n      <td>NaN</td>\n      <td>NaN</td>\n      <td>NaN</td>\n      <td>NaN</td>\n      <td>NaN</td>\n      <td>NaN</td>\n      <td>0</td>\n    </tr>\n    <tr>\n      <th>10867</th>\n      <td>1</td>\n      <td>56844500.0</td>\n      <td>177.9</td>\n      <td>2015-01-15T00:00:00</td>\n      <td>3</td>\n      <td>2.65</td>\n      <td>6</td>\n      <td>87.20</td>\n      <td>5</td>\n      <td>True</td>\n      <td>False</td>\n      <td>False</td>\n      <td>87.2</td>\n      <td>1</td>\n      <td>Санкт-Петербург</td>\n      <td>21860.0</td>\n      <td>318.0</td>\n      <td>2.0</td>\n      <td>160.0</td>\n      <td>3.0</td>\n      <td>569.0</td>\n      <td>NaN</td>\n      <td>0</td>\n    </tr>\n    <tr>\n      <th>1109</th>\n      <td>1</td>\n      <td>34878556.0</td>\n      <td>95.8</td>\n      <td>2014-12-09T00:00:00</td>\n      <td>2</td>\n      <td>2.65</td>\n      <td>6</td>\n      <td>58.30</td>\n      <td>5</td>\n      <td>True</td>\n      <td>False</td>\n      <td>False</td>\n      <td>20.0</td>\n      <td>1</td>\n      <td>Санкт-Петербург</td>\n      <td>21860.0</td>\n      <td>318.0</td>\n      <td>2.0</td>\n      <td>160.0</td>\n      <td>3.0</td>\n      <td>569.0</td>\n      <td>1572.0</td>\n      <td>0</td>\n    </tr>\n    <tr>\n      <th>10390</th>\n      <td>18</td>\n      <td>30000000.0</td>\n      <td>137.0</td>\n      <td>2018-08-07T00:00:00</td>\n      <td>3</td>\n      <td>3.00</td>\n      <td>5</td>\n      <td>90.00</td>\n      <td>4</td>\n      <td>True</td>\n      <td>False</td>\n      <td>False</td>\n      <td>12.0</td>\n      <td>1</td>\n      <td>Санкт-Петербург</td>\n      <td>23832.0</td>\n      <td>1285.0</td>\n      <td>3.0</td>\n      <td>374.0</td>\n      <td>3.0</td>\n      <td>32.0</td>\n      <td>34.0</td>\n      <td>0</td>\n    </tr>\n    <tr>\n      <th>22560</th>\n      <td>15</td>\n      <td>5500000.0</td>\n      <td>98.0</td>\n      <td>2018-12-09T00:00:00</td>\n      <td>3</td>\n      <td>2.60</td>\n      <td>8</td>\n      <td>55.86</td>\n      <td>2</td>\n      <td>True</td>\n      <td>False</td>\n      <td>False</td>\n      <td>28.0</td>\n      <td>1</td>\n      <td>Красное Село</td>\n      <td>27164.0</td>\n      <td>30589.0</td>\n      <td>0.0</td>\n      <td>NaN</td>\n      <td>0.0</td>\n      <td>NaN</td>\n      <td>7.0</td>\n      <td>0</td>\n    </tr>\n  </tbody>\n</table>\n</div>"
     },
     "metadata": {},
     "output_type": "display_data"
    }
   ],
   "source": [
    "display(\n",
    "    real_estate_data.loc[\n",
    "        ~ (real_estate_data['kitchen_area'].isna())\n",
    "        & (real_estate_data['is_apartment'])\n",
    "    ].sample(10)\n",
    ")"
   ]
  },
  {
   "cell_type": "code",
   "execution_count": 75,
   "id": "6f45509d-5cc6-49f4-862b-bda92b4d4971",
   "metadata": {
    "pycharm": {
     "name": "#%%\n"
    }
   },
   "outputs": [],
   "source": [
    "real_estate_data.loc[\n",
    "        (real_estate_data['kitchen_area'].isna())\n",
    "        & ((real_estate_data['studio'])\n",
    "          | (real_estate_data['is_apartment']))\n",
    "        , 'kitchen_area'\n",
    "] = 0"
   ]
  },
  {
   "cell_type": "code",
   "execution_count": 76,
   "id": "729fecd7-440f-4177-8f13-cdfaef85b36f",
   "metadata": {
    "pycharm": {
     "name": "#%%\n"
    }
   },
   "outputs": [],
   "source": [
    "types_na_kitchen_area = (\n",
    "    list(real_estate_data.loc[\n",
    "            (real_estate_data['kitchen_area'].isna())\n",
    "            , 'locality_type'\n",
    "        ].unique()\n",
    "    )\n",
    ")\n",
    "\n",
    "for type_kitchen_area in types_na_kitchen_area:\n",
    "    \n",
    "    kitchen_area_part_mdn_by_type = round(pd.Series(\n",
    "        real_estate_data.loc[\n",
    "            (real_estate_data['locality_type'] == type_kitchen_area)\n",
    "            & ~(real_estate_data['kitchen_area'].isna())\n",
    "            , 'kitchen_area'\n",
    "        ] / real_estate_data.loc[\n",
    "            (real_estate_data['locality_type'] == type_kitchen_area)\n",
    "            & ~(real_estate_data['kitchen_area'].isna())\n",
    "            , 'total_area'\n",
    "        ]\n",
    "    ).median(), 2)\n",
    "    \n",
    "    if math.isnan(kitchen_area_part_mdn_by_type):\n",
    "        print('NANы kitchen_area_part_mdn_by_type', type_kitchen_area)\n",
    "        \n",
    "    real_estate_data.loc[\n",
    "            (real_estate_data['locality_type'] == type_kitchen_area)\n",
    "            & (real_estate_data['kitchen_area'].isna())\n",
    "            , 'kitchen_area'\n",
    "    ] = real_estate_data.loc[\n",
    "            (real_estate_data['locality_type'] == type_kitchen_area)\n",
    "            & (real_estate_data['kitchen_area'].isna())\n",
    "            , 'total_area'\n",
    "        ].apply(lambda x: x * kitchen_area_part_mdn_by_type)"
   ]
  },
  {
   "cell_type": "code",
   "execution_count": 78,
   "id": "688f10b2-3297-446b-be73-d674fa04aa4b",
   "metadata": {
    "pycharm": {
     "name": "#%%\n"
    }
   },
   "outputs": [
    {
     "data": {
      "text/plain": "count    23699.000000\nmean        10.460818\nstd          6.062755\nmin          0.000000\n25%          7.000000\n50%          9.000000\n75%         12.000000\nmax        112.000000\nName: kitchen_area, dtype: float64"
     },
     "metadata": {},
     "output_type": "display_data"
    }
   ],
   "source": [
    "display(\n",
    "    real_estate_data['kitchen_area'].describe()\n",
    ")"
   ]
  },
  {
   "cell_type": "code",
   "execution_count": 78,
   "outputs": [
    {
     "data": {
      "text/plain": "array([False])"
     },
     "metadata": {},
     "output_type": "display_data"
    }
   ],
   "source": [
    "\n",
    "display(\n",
    "    np.unique(real_estate_data['locality_name'].unique().isna())\n",
    ")"
   ],
   "metadata": {
    "collapsed": false,
    "pycharm": {
     "name": "#%%\n"
    }
   }
  },
  {
   "cell_type": "markdown",
   "id": "2a7ef3b2-ed22-44c6-9549-211e06e29936",
   "metadata": {
    "pycharm": {
     "name": "#%% md\n"
    }
   },
   "source": [
    "❌ 'airports_nearest' — проверим по районам, может и нет ближайших аэропортов тогда `NaN` = 0"
   ]
  },
  {
   "cell_type": "code",
   "execution_count": 78,
   "id": "e32ad84a-f8c2-4b8c-a74f-f946802b7d31",
   "metadata": {
    "pycharm": {
     "name": "#%%\n"
    }
   },
   "outputs": [],
   "source": []
  },
  {
   "cell_type": "code",
   "execution_count": 79,
   "id": "6ff95363-6cfa-473f-b4ef-9bfbb9d757ad",
   "metadata": {
    "pycharm": {
     "name": "#%%\n"
    }
   },
   "outputs": [
    {
     "data": {
      "text/plain": "count    18157.000000\nmean     28793.672193\nstd      12630.880622\nmin          0.000000\n25%      18585.000000\n50%      26726.000000\n75%      37273.000000\nmax      84869.000000\nName: airports_nearest, dtype: float64"
     },
     "metadata": {},
     "output_type": "display_data"
    }
   ],
   "source": [
    "display(\n",
    "    real_estate_data['airports_nearest'].describe()\n",
    ")"
   ]
  },
  {
   "cell_type": "code",
   "execution_count": 80,
   "id": "374824aa-8944-4857-b017-b6f1aae14a04",
   "metadata": {
    "pycharm": {
     "name": "#%%\n"
    }
   },
   "outputs": [
    {
     "name": "stdout",
     "output_type": "stream",
     "text": [
      "<class 'pandas.core.series.Series'>\n",
      "RangeIndex: 23699 entries, 0 to 23698\n",
      "Series name: airports_nearest\n",
      "Non-Null Count  Dtype  \n",
      "--------------  -----  \n",
      "18157 non-null  float64\n",
      "dtypes: float64(1)\n",
      "memory usage: 185.3 KB\n"
     ]
    },
    {
     "data": {
      "text/plain": "None"
     },
     "metadata": {},
     "output_type": "display_data"
    }
   ],
   "source": [
    "display(\n",
    "    real_estate_data['airports_nearest'].info()\n",
    ")"
   ]
  },
  {
   "cell_type": "code",
   "execution_count": 81,
   "id": "7c7bf19d-8ec5-48b5-9a35-12e1feb0450c",
   "metadata": {
    "pycharm": {
     "name": "#%%\n"
    }
   },
   "outputs": [
    {
     "data": {
      "text/plain": "[2, 1, 0, 3, 4, ..., 7, 8, 9, 10, 11]\nLength: 12\nCategories (12, int64): [0, 1, 2, 3, ..., 8, 9, 10, 11]"
     },
     "metadata": {},
     "output_type": "display_data"
    }
   ],
   "source": [
    "display(\n",
    "    real_estate_data.loc[\n",
    "        real_estate_data['airports_nearest'].isna()\n",
    "        , 'locality_type'\n",
    "    ].unique()\n",
    ")"
   ]
  },
  {
   "cell_type": "raw",
   "source": [
    "print(\n",
    "    real_estate_data.loc[\n",
    "        real_estate_data['airports_nearest'].isna()\n",
    "        , 'locality_name'\n",
    "    ].unique().isna()\n",
    ")"
   ],
   "metadata": {
    "collapsed": false,
    "pycharm": {
     "name": "#%% raw\n"
    }
   }
  },
  {
   "cell_type": "code",
   "execution_count": 82,
   "id": "7f32c088-2aaa-44ee-8af6-4eacb1bd0c4a",
   "metadata": {
    "pycharm": {
     "name": "#%%\n"
    }
   },
   "outputs": [],
   "source": [
    "real_estate_data.loc[\n",
    "    real_estate_data['airports_nearest'] <= 3000\n",
    "    , 'airports_nearest'\n",
    "] = np.nan\n"
   ]
  },
  {
   "cell_type": "code",
   "execution_count": 83,
   "outputs": [],
   "source": [
    "# SKIPPED\n",
    "\n",
    "# names_na_airprts_nrst = (\n",
    "#     list(real_estate_data.loc[\n",
    "#             (real_estate_data['airports_nearest'].isna())\n",
    "#             , 'locality_name'\n",
    "#         ].unique()\n",
    "#     )\n",
    "# )\n",
    "#\n",
    "# for name_airprts_nrst in names_na_airprts_nrst:\n",
    "#\n",
    "#     airprts_nrst_median_by_names = (\n",
    "#         real_estate_data.loc[\n",
    "#             (real_estate_data['locality_name'] == name_airprts_nrst)\n",
    "#             & ~(real_estate_data['airports_nearest'].isna())\n",
    "#             , 'airports_nearest'\n",
    "#         ].median()\n",
    "#     )\n",
    "#\n",
    "#     if math.isnan(airprts_nrst_median_by_names):\n",
    "#\n",
    "#         type_airprts_nrst = real_estate_data.loc[\n",
    "#                 (real_estate_data['locality_name'] == name_airprts_nrst)\n",
    "#                 , 'locality_type'\n",
    "#             ].iloc[0].item()\n",
    "#         airprts_nrst_median_by_names = real_estate_data.loc[\n",
    "#                 (real_estate_data['locality_type'] == type_airprts_nrst)\n",
    "#                 , 'airports_nearest'\n",
    "#             ]\n",
    "#         if not airprts_nrst_median_by_names.isna().all():\n",
    "#             airprts_nrst_median_by_names = airprts_nrst_median_by_names.median(skipna=True)\n",
    "#         else:\n",
    "#             airprts_nrst_median_by_names = np.nan\n",
    "#\n",
    "#     real_estate_data.loc[\n",
    "#             (real_estate_data['locality_name'] == name_airprts_nrst)\n",
    "#             & (real_estate_data['airports_nearest'].isna())\n",
    "#             , 'airports_nearest'\n",
    "#     ] = airprts_nrst_median_by_names"
   ],
   "metadata": {
    "collapsed": false,
    "pycharm": {
     "name": "#%%\n"
    }
   }
  },
  {
   "cell_type": "code",
   "execution_count": 84,
   "outputs": [
    {
     "data": {
      "text/plain": "array([False])"
     },
     "metadata": {},
     "output_type": "display_data"
    }
   ],
   "source": [
    "\n",
    "display(\n",
    "    np.unique(real_estate_data['locality_name'].unique().isna())\n",
    ")"
   ],
   "metadata": {
    "collapsed": false,
    "pycharm": {
     "name": "#%%\n"
    }
   }
  },
  {
   "cell_type": "markdown",
   "source": [
    "geo :)"
   ],
   "metadata": {
    "collapsed": false,
    "pycharm": {
     "name": "#%% md\n"
    }
   }
  },
  {
   "cell_type": "code",
   "execution_count": 85,
   "outputs": [
    {
     "data": {
      "text/plain": "       locality_name      locality_type  airprt_pulkovo\n0    Санкт-Петербург              город         14315.0\n1             Шушары            посёлок         12114.0\n2            Янино-1  городской посёлок         35175.0\n3          Парголово            посёлок         27207.0\n4             Мурино            посёлок         30528.0\n..               ...                ...             ...\n300      Володарское            посёлок        130361.0\n301           Нижняя            деревня         22336.0\n302        Тихковицы            деревня         51005.0\n303   Борисова Грива            деревня         81305.0\n304     Дзержинского            посёлок        117110.0\n\n[305 rows x 3 columns]",
      "text/html": "<div>\n<style scoped>\n    .dataframe tbody tr th:only-of-type {\n        vertical-align: middle;\n    }\n\n    .dataframe tbody tr th {\n        vertical-align: top;\n    }\n\n    .dataframe thead th {\n        text-align: right;\n    }\n</style>\n<table border=\"1\" class=\"dataframe\">\n  <thead>\n    <tr style=\"text-align: right;\">\n      <th></th>\n      <th>locality_name</th>\n      <th>locality_type</th>\n      <th>airprt_pulkovo</th>\n    </tr>\n  </thead>\n  <tbody>\n    <tr>\n      <th>0</th>\n      <td>Санкт-Петербург</td>\n      <td>город</td>\n      <td>14315.0</td>\n    </tr>\n    <tr>\n      <th>1</th>\n      <td>Шушары</td>\n      <td>посёлок</td>\n      <td>12114.0</td>\n    </tr>\n    <tr>\n      <th>2</th>\n      <td>Янино-1</td>\n      <td>городской посёлок</td>\n      <td>35175.0</td>\n    </tr>\n    <tr>\n      <th>3</th>\n      <td>Парголово</td>\n      <td>посёлок</td>\n      <td>27207.0</td>\n    </tr>\n    <tr>\n      <th>4</th>\n      <td>Мурино</td>\n      <td>посёлок</td>\n      <td>30528.0</td>\n    </tr>\n    <tr>\n      <th>...</th>\n      <td>...</td>\n      <td>...</td>\n      <td>...</td>\n    </tr>\n    <tr>\n      <th>300</th>\n      <td>Володарское</td>\n      <td>посёлок</td>\n      <td>130361.0</td>\n    </tr>\n    <tr>\n      <th>301</th>\n      <td>Нижняя</td>\n      <td>деревня</td>\n      <td>22336.0</td>\n    </tr>\n    <tr>\n      <th>302</th>\n      <td>Тихковицы</td>\n      <td>деревня</td>\n      <td>51005.0</td>\n    </tr>\n    <tr>\n      <th>303</th>\n      <td>Борисова Грива</td>\n      <td>деревня</td>\n      <td>81305.0</td>\n    </tr>\n    <tr>\n      <th>304</th>\n      <td>Дзержинского</td>\n      <td>посёлок</td>\n      <td>117110.0</td>\n    </tr>\n  </tbody>\n</table>\n<p>305 rows × 3 columns</p>\n</div>"
     },
     "metadata": {},
     "output_type": "display_data"
    }
   ],
   "source": [
    "airprt_columns = ('locality_name', 'locality_type', 'airprt_pulkovo')\n",
    "airprt_pulkovo_nrst = pd.DataFrame(columns=airprt_columns)\n",
    "airprt_pulkovo_nrst['locality_name'] = real_estate_data['locality_name'].unique()\n",
    "\n",
    "airprt_pulkovo_nrst['locality_type'] = (\n",
    "    airprt_pulkovo_nrst['locality_name']\n",
    "        .apply(lambda x:\n",
    "            locality_type_series.iloc[\n",
    "               real_estate_data.loc[\n",
    "                    real_estate_data['locality_name'] == x\n",
    "                    , 'locality_type'\n",
    "                ].sample(1).item()\n",
    "            ]\n",
    "        )\n",
    ")\n",
    "\n",
    "airprt_pulkovo_nrst['airprt_pulkovo'] = airprt_pulkovo_nrst.apply(\n",
    "    lambda x: get_length_2_arprt(locality_type=str(x[1]),  locality_name=str(x[0]))\n",
    "    ,axis=1\n",
    ")\n",
    "\n",
    "display(\n",
    "    airprt_pulkovo_nrst\n",
    ")"
   ],
   "metadata": {
    "collapsed": false,
    "pycharm": {
     "name": "#%%\n"
    }
   }
  },
  {
   "cell_type": "code",
   "execution_count": 86,
   "outputs": [],
   "source": [
    "without_geo = {'Санкт-Петербург': 14315.0, 'Шушары': 12114.0, 'Янино-1': 35175.0, 'Парголово': 27207.0, 'Мурино': 30528.0, 'Ломоносов': 55794.0, 'Сертолово': 33605.0, 'Петергоф': 41071.0, 'Пушкин': 17850.0, 'Кудрово': 28907.0, 'Коммунар': 21903.0, 'Колпино': 36388.0, 'Красный Бор': 46244.0, 'Гатчина': 27642.0, 'Фёдоровское': 31725.0, 'Выборг': 190280.0, 'Кронштадт': 57870.0, 'Кировск': 79157.0, 'Новое Девяткино': 33673.0, 'Металлострой': 33632.0, 'Лебяжье': 85865.0, 'Сиверский': 48425.0, 'Молодцово': 92246.0, 'Кузьмоловский': 38805.0, 'Новая Ропша': 45108.0, 'Павловск': 21110.0, 'Пикколово': 17590.0, 'Всеволожск': 47554.0, 'Волхов': 231067.0, 'Кингисепп': 189494.0, 'Приозерск': 120272.0, 'Сестрорецк': 43533.0, 'Куттузи': 22949.0, 'Аннино': 24353.0, 'Ефимовский': 488800.0, 'Плодовое': 100751.0, 'Заклинье': 111442.0, 'Торковичи': 91185.0, 'Первомайское': 79893.0, 'Красное Село': 21392.0, 'Понтонный': 39635.0, 'Сясьстрой': 256016.0, 'Старая': 41209.0, 'Лесколово': 50172.0, 'Новый Свет': 24625.0, 'Сланцы': 250814.0, 'Путилово': 130547.0, 'Ивангород': 230997.0, 'Шлиссельбург': 85869.0, 'Никольское': 58207.0, 'Зеленогорск': 73307.0, 'Сосновый Бор': 130994.0, 'Оржицы': 62089.0, 'Кальтино': 46444.0, 'Романовка': 53296.0, 'Бугры': 29253.0, 'Рощино': 86119.0, 'Кириши': 195596.0, 'Луга': 112837.0, 'Волосово': 93509.0, 'Отрадное': 58156.0, 'Павлово': 67502.0, 'Оредеж': 94884.0, 'Копорье': 135738.0, 'Молодёжное': 97068.0, 'Тихвин': 363078.0, 'Победа': 106560.0, 'Нурма': 85336.0, 'Синявино': 104581.0, 'Тосно': 71468.0, 'Стрельна': 26735.0, 'Бокситогорск': 397866.0, 'Александровская': 197079.0, 'Лопухинка': 95449.0, 'Пикалёво': 434099.0, 'Терволово': 43181.0, 'Советский': 191244.0, 'Подпорожье': 444725.0, 'Петровское': 81636.0, 'Токсово': 43003.0, 'Сельцо': 113022.0, 'Вырица': 38084.0, 'Кипень': 47803.0, 'Келози': 50620.0, 'Вартемяги': 37207.0, 'Тельмана': 38545.0, 'Севастьяново': 132162.0, 'Большая Ижора': 78980.0, 'Агалатово': 40356.0, 'Новогорелово': 11587.0, 'Лесогорский': 196306.0, 'Лаголово': 29116.0, 'Цвелодубово': 97120.0, 'Рахья': 68928.0, 'Белогорка': 45992.0, 'Заводской': 55107.0, 'Новоселье': 21400.0, 'Большие Колпаны': 34343.0, 'Горбунки': 32156.0, 'Батово': 61927.0, 'Заневка': 30089.0, 'Иссад': 231778.0, 'Приморск': 191692.0, 'Мистолово': 34083.0, 'Новая Ладога': 228691.0, 'Зимитицы': 130114.0, 'Барышево': 114926.0, 'Разметелево': 45776.0, 'Свердлова': 40593.0, 'Пеники': 70569.0, 'Рябово': 101811.0, 'Пудомяги': 20058.0, 'Корнево': 58291.0, 'Низино': 43884.0, 'Бегуницы': 109020.0, 'Поляны': 123240.0, 'Мга': 87824.0, 'Елизаветино': 60776.0, 'Кузнечное': 134822.0, 'Колтуши': 44547.0, 'Запорожское': 79018.0, 'Гостилицы': 71972.0, 'Малое Карлино': 7278.0, 'Мичуринское': 85984.0, 'Морозова': 86398.0, 'Песочный': 88151.0, 'Сосново': 72957.0, 'Аро': 44388.0, 'Ильичёво': 73136.0, 'Тайцы': 21796.0, 'Малое Верево': 21382.0, 'Извара': 93307.0, 'Вещево': 145529.0, 'Паша': 310720.0, 'Калитино': 80290.0, 'Ульяновка': 85865.0, 'Чудской Бор': 134235.0, 'Дубровка': 73585.0, 'Мины': 38939.0, 'Войсковицы': 43548.0, 'Коркино': 113887.0, 'Ропша': 45740.0, 'Приладожский': 117497.0, 'Щеглово': 57841.0, 'Гаврилово': 156394.0, 'Лодейное Поле': 373503.0, 'Рабитицы': 104970.0, 'Никольский': 434204.0, 'Кузьмолово': 40057.0, 'Малые Колпаны': 33291.0, 'Петро-Славянка': 26751.0, 'Назия': 146004.0, 'Репино': 58800.0, 'Углово': 57897.0, 'Старая Малукса': 122944.0, 'Меньково': 44754.0, 'Старые Бегуницы': 106739.0, 'Сапёрный': 94240.0, 'Семрино': 27973.0, 'Глажево': 205228.0, 'Кобринское': 39560.0, 'Гарболово': 57689.0, 'Юкки': 30385.0, 'Приветнинское': 100485.0, 'Мануйлово': 162125.0, 'Пчева': 205365.0, 'Цвылёво': 325948.0, 'Мельниково': 122112.0, 'Пудость': 30912.0, 'Усть-Луга': 222531.0, 'Светогорск': 201116.0, 'Любань': 116705.0, 'Селезнёво': 205214.0, 'Каменногорск': 168411.0, 'Кривко': 75697.0, 'Глебычево': 183269.0, 'Парицы': 36148.0, 'Жилпосёлок': 562916.0, 'Войскорово': 33921.0, 'Стеклянный': 56440.0, 'Важины': 430627.0, 'Мыза-Ивановка': 28149.0, 'Русско-Высоцкое': 37727.0, 'Форносово': 38199.0, 'Старая Ладога': 225005.0, 'Житково': 135273.0, 'Виллози': 20780.0, 'Лампово': 53853.0, 'Шпаньково': 55595.0, 'Лаврики': 32934.0, 'Сумино': 92843.0, 'Возрождение': 177566.0, 'Старосиверская': 46211.0, 'Кикерино': 78050.0, 'Старое Хинколово': 50636.0, 'Пригородный': 28993.0, 'Торфяное': 107371.0, 'Будогощь': 246142.0, 'Суходолье': 92057.0, 'Красная Долина': 152144.0, 'Хапо-Ое': 53189.0, 'Дружная Горка': 52524.0, 'Лисий Нос': 35558.0, 'Яльгелево': 36992.0, 'Рождествено': 58092.0, 'Старополье': 200154.0, 'Левашово': 30104.0, 'Сяськелево': 53081.0, 'Камышовка': 146994.0, 'Лесная Поляна': 46710.0, 'Хязельки': 47880.0, 'Жилгородок': 42240.0, 'Ялгино': 340851.0, 'Новый Учхоз': 44620.0, 'Гончарово': 171460.0, 'Почап': 96293.0, 'Сапёрное': 94240.0, 'Платформа': 68493.0, 'Каложицы': 140887.0, 'Фалилеево': 150362.0, 'Пельгора': 112937.0, 'Торошковичи': 119943.0, 'Белоостров': 45330.0, 'Алексеевка': 169198.0, 'Серебрянский': 138481.0, 'Лукаши': 20202.0, 'Тарасово': 80842.0, 'Кингисеппский': 193006.0, 'Ушаки': 75003.0, 'Котлы': 168986.0, 'Сижно': 238349.0, 'Торосово': 82779.0, 'Форт Красная Горка': 104958.0, 'Новолисино': 59515.0, 'Громово': 86634.0, 'Глинка': 28120.0, 'Старая Пустошь': 49271.0, 'Коммунары': 108652.0, 'Починок': 113176.0, 'Вознесенье': 589006.0, 'Разбегаево': 37812.0, 'Гладкое': 66698.0, 'Тёсово-4': 101535.0, 'Бор': 355091.0, 'Коробицыно': 92007.0, 'Большая Вруда': 120252.0, 'Курковицы': 75929.0, 'Кобралово': 24984.0, 'Суоранда': 40220.0, 'Кондратьево': 247473.0, 'Счастье': 30682.0, 'Реброво': 258246.0, 'Тойворово': 50101.0, 'Семиозерье': 118854.0, 'Лесное': 56363.0, 'Совхозный': 446162.0, 'Ленинское': 62068.0, 'Суйда': 36242.0, 'Нижние Осельки': 44339.0, 'Свирь': 436789.0, 'Перово': 169523.0, 'Высоцк': 204984.0, 'Шум': 167635.0, 'Котельский': 169541.0, 'Лужайка': 220989.0, 'Большая Пустомержа': 158569.0, 'Красносельское': 112292.0, 'Вахнова Кара': 320440.0, 'Пижма': 30906.0, 'Кивеннапа Север': 77634.0, 'Ромашки': 102443.0, 'Каськово': 86794.0, 'Куровицы': 41973.0, 'Плоское': 100421.0, 'Кирпичное': 119228.0, 'Ям-Тесово': 93623.0, 'Раздолье': 75413.0, 'Терпилицы': 105090.0, 'Шугозеро': 436666.0, 'Ваганово': 87528.0, 'Пушное': 106081.0, 'Садко': 84687.0, 'Усть-Ижора': 37056.0, 'Выскатка': 243401.0, 'Свирьстрой': 394972.0, 'Кисельня': 208270.0, 'Трубников Бор': 134785.0, 'Высокоключевой': 36944.0, 'Пансионат Зелёный Бор': 116992.0, 'Ненимяки': 54384.0, 'Снегирёвка': 72608.0, 'Рапполово': 39316.0, 'Пустынка': 61528.0, 'Большой Сабск': 154145.0, 'Русско': 212440.0, 'Лупполово': 33824.0, 'Большое Рейзино': 30860.0, 'Малая Романовка': 55468.0, 'Дружноселье': 51307.0, 'Пчевжа': 233813.0, 'Володарское': 130361.0, 'Нижняя': 22336.0, 'Тихковицы': 51005.0, 'Борисова Грива': 81305.0, 'Дзержинского': 117110.0}"
   ],
   "metadata": {
    "collapsed": false,
    "pycharm": {
     "name": "#%%\n"
    }
   }
  },
  {
   "cell_type": "code",
   "execution_count": 87,
   "outputs": [],
   "source": [
    "real_estate_data.loc[\n",
    "    real_estate_data['airports_nearest'].isna()\n",
    "    , 'airports_nearest'\n",
    "] = real_estate_data.loc[\n",
    "        real_estate_data['airports_nearest'].isna()\n",
    "        , 'locality_name'\n",
    "    ].apply(lambda x:\n",
    "                airprt_pulkovo_nrst.loc[\n",
    "                    airprt_pulkovo_nrst['locality_name'] == x\n",
    "                    , 'airprt_pulkovo'\n",
    "                ].item()\n",
    "            )"
   ],
   "metadata": {
    "collapsed": false,
    "pycharm": {
     "name": "#%%\n"
    }
   }
  },
  {
   "cell_type": "code",
   "execution_count": 88,
   "outputs": [
    {
     "data": {
      "text/plain": "count     23699.000000\nmean      41760.130259\nstd       48162.940223\nmin        6450.000000\n25%       20885.000000\n50%       30528.000000\n75%       42662.000000\nmax      589006.000000\nName: airports_nearest, dtype: float64"
     },
     "metadata": {},
     "output_type": "display_data"
    }
   ],
   "source": [
    "display(\n",
    "    real_estate_data['airports_nearest'].describe()\n",
    ")"
   ],
   "metadata": {
    "collapsed": false,
    "pycharm": {
     "name": "#%%\n"
    }
   }
  },
  {
   "cell_type": "code",
   "execution_count": 89,
   "outputs": [
    {
     "name": "stdout",
     "output_type": "stream",
     "text": [
      "{'Санкт-Петербург': 14315.0, 'Шушары': 12114.0, 'Янино-1': 35175.0, 'Парголово': 27207.0, 'Мурино': 30528.0, 'Ломоносов': 55794.0, 'Сертолово': 33605.0, 'Петергоф': 41071.0, 'Пушкин': 17850.0, 'Кудрово': 28907.0, 'Коммунар': 21903.0, 'Колпино': 36388.0, 'Красный Бор': 46244.0, 'Гатчина': 27642.0, 'Фёдоровское': 31725.0, 'Выборг': 190280.0, 'Кронштадт': 57870.0, 'Кировск': 79157.0, 'Новое Девяткино': 33673.0, 'Металлострой': 33632.0, 'Лебяжье': 85865.0, 'Сиверский': 48425.0, 'Молодцово': 92246.0, 'Кузьмоловский': 38805.0, 'Новая Ропша': 45108.0, 'Павловск': 21110.0, 'Пикколово': 17590.0, 'Всеволожск': 47554.0, 'Волхов': 231067.0, 'Кингисепп': 189494.0, 'Приозерск': 120272.0, 'Сестрорецк': 43533.0, 'Куттузи': 22949.0, 'Аннино': 24353.0, 'Ефимовский': 488800.0, 'Плодовое': 100751.0, 'Заклинье': 111442.0, 'Торковичи': 91185.0, 'Первомайское': 79893.0, 'Красное Село': 21392.0, 'Понтонный': 39635.0, 'Сясьстрой': 256016.0, 'Старая': 41209.0, 'Лесколово': 50172.0, 'Новый Свет': 24625.0, 'Сланцы': 250814.0, 'Путилово': 130547.0, 'Ивангород': 230997.0, 'Шлиссельбург': 85869.0, 'Никольское': 58207.0, 'Зеленогорск': 73307.0, 'Сосновый Бор': 130994.0, 'Оржицы': 62089.0, 'Кальтино': 46444.0, 'Романовка': 53296.0, 'Бугры': 29253.0, 'Рощино': 86119.0, 'Кириши': 195596.0, 'Луга': 112837.0, 'Волосово': 93509.0, 'Отрадное': 58156.0, 'Павлово': 43811.0, 'Оредеж': 94884.0, 'Копорье': 135738.0, 'Молодёжное': 97068.0, 'Тихвин': 363078.0, 'Победа': 106560.0, 'Нурма': 85336.0, 'Синявино': 104581.0, 'Тосно': 71468.0, 'Стрельна': 26735.0, 'Бокситогорск': 397866.0, 'Александровская': 197079.0, 'Лопухинка': 95449.0, 'Пикалёво': 434099.0, 'Терволово': 43181.0, 'Советский': 191244.0, 'Подпорожье': 444725.0, 'Петровское': 81636.0, 'Токсово': 43003.0, 'Сельцо': 113022.0, 'Вырица': 38084.0, 'Кипень': 47803.0, 'Келози': 50620.0, 'Вартемяги': 37207.0, 'Тельмана': 38545.0, 'Севастьяново': 132162.0, 'Большая Ижора': 78980.0, 'Агалатово': 40356.0, 'Новогорелово': 11587.0, 'Лесогорский': 196306.0, 'Лаголово': 29116.0, 'Цвелодубово': 97120.0, 'Рахья': 68928.0, 'Белогорка': 45992.0, 'Заводской': 55107.0, 'Новоселье': 21400.0, 'Большие Колпаны': 34343.0, 'Горбунки': 32156.0, 'Батово': 61927.0, 'Заневка': 30089.0, 'Иссад': 231778.0, 'Приморск': 191692.0, 'Мистолово': 34083.0, 'Новая Ладога': 228691.0, 'Зимитицы': 128209.0, 'Барышево': 114926.0, 'Разметелево': 45776.0, 'Свердлова': 40593.0, 'Пеники': 70569.0, 'Рябово': 152499.0, 'Пудомяги': 20058.0, 'Корнево': 58291.0, 'Низино': 43884.0, 'Бегуницы': 109020.0, 'Поляны': 123240.0, 'Мга': 87824.0, 'Елизаветино': 60776.0, 'Кузнечное': 134822.0, 'Колтуши': 44547.0, 'Запорожское': 79018.0, 'Гостилицы': 71972.0, 'Малое Карлино': 7278.0, 'Мичуринское': 85984.0, 'Морозова': 86398.0, 'Песочный': 88151.0, 'Сосново': 72957.0, 'Аро': 44388.0, 'Ильичёво': 73136.0, 'Тайцы': 21796.0, 'Малое Верево': 21382.0, 'Извара': 93307.0, 'Вещево': 145529.0, 'Паша': 310720.0, 'Калитино': 80290.0, 'Ульяновка': 85865.0, 'Чудской Бор': 134235.0, 'Дубровка': 73585.0, 'Мины': 38939.0, 'Войсковицы': 43548.0, 'Коркино': 113887.0, 'Ропша': 45740.0, 'Приладожский': 117497.0, 'Щеглово': 57841.0, 'Гаврилово': 156394.0, 'Лодейное Поле': 373503.0, 'Рабитицы': 104970.0, 'Никольский': 434204.0, 'Кузьмолово': 40057.0, 'Малые Колпаны': 33291.0, 'Петро-Славянка': 26751.0, 'Назия': 146004.0, 'Репино': 58800.0, 'Углово': 57897.0, 'Старая Малукса': 122944.0, 'Меньково': 44754.0, 'Старые Бегуницы': 106739.0, 'Сапёрный': 94240.0, 'Семрино': 27973.0, 'Глажево': 205228.0, 'Кобринское': 39560.0, 'Гарболово': 57689.0, 'Юкки': 30385.0, 'Приветнинское': 100485.0, 'Мануйлово': 162125.0, 'Пчева': 205365.0, 'Цвылёво': 325948.0, 'Мельниково': 122112.0, 'Пудость': 30912.0, 'Усть-Луга': 222531.0, 'Светогорск': 201116.0, 'Любань': 116705.0, 'Селезнёво': 205214.0, 'Каменногорск': 168411.0, 'Кривко': 75697.0, 'Глебычево': 183269.0, 'Парицы': 36148.0, 'Жилпосёлок': 562916.0, 'Войскорово': 33921.0, 'Стеклянный': 56440.0, 'Важины': 430627.0, 'Мыза-Ивановка': 28149.0, 'Русско-Высоцкое': 37727.0, 'Форносово': 38199.0, 'Старая Ладога': 225005.0, 'Житково': 135273.0, 'Виллози': 20780.0, 'Лампово': 53853.0, 'Шпаньково': 55595.0, 'Лаврики': 32934.0, 'Сумино': 92843.0, 'Возрождение': 177566.0, 'Старосиверская': 46211.0, 'Кикерино': 78050.0, 'Старое Хинколово': 50636.0, 'Пригородный': 28993.0, 'Торфяное': 107371.0, 'Будогощь': 246142.0, 'Суходолье': 92057.0, 'Красная Долина': 152144.0, 'Хапо-Ое': 53189.0, 'Дружная Горка': 52524.0, 'Лисий Нос': 35558.0, 'Яльгелево': 36992.0, 'Рождествено': 58092.0, 'Старополье': 200154.0, 'Левашово': 30104.0, 'Сяськелево': 53081.0, 'Камышовка': 146994.0, 'Лесная Поляна': 46710.0, 'Хязельки': 47880.0, 'Жилгородок': 42240.0, 'Ялгино': 340851.0, 'Новый Учхоз': 44620.0, 'Гончарово': 171460.0, 'Почап': 96293.0, 'Сапёрное': 94240.0, 'Платформа': 68493.0, 'Каложицы': 140887.0, 'Фалилеево': 150362.0, 'Пельгора': 112937.0, 'Торошковичи': 119943.0, 'Белоостров': 45330.0, 'Алексеевка': 169198.0, 'Серебрянский': 138481.0, 'Лукаши': 20202.0, 'Тарасово': 80842.0, 'Кингисеппский': 193006.0, 'Ушаки': 75003.0, 'Котлы': 168986.0, 'Сижно': 238349.0, 'Торосово': 82779.0, 'Форт Красная Горка': 104958.0, 'Новолисино': 59515.0, 'Громово': 86634.0, 'Глинка': 28120.0, 'Старая Пустошь': 49271.0, 'Коммунары': 108652.0, 'Починок': 113176.0, 'Вознесенье': 589006.0, 'Разбегаево': 37812.0, 'Гладкое': 66698.0, 'Тёсово-4': 101535.0, 'Бор': 355091.0, 'Коробицыно': 92007.0, 'Большая Вруда': 120252.0, 'Курковицы': 75929.0, 'Кобралово': 24984.0, 'Суоранда': 40220.0, 'Кондратьево': 247473.0, 'Счастье': 30682.0, 'Реброво': 258246.0, 'Тойворово': 50101.0, 'Семиозерье': 118854.0, 'Лесное': 56363.0, 'Совхозный': 446162.0, 'Ленинское': 62068.0, 'Суйда': 36242.0, 'Нижние Осельки': 44339.0, 'Свирь': 436789.0, 'Перово': 169523.0, 'Высоцк': 204984.0, 'Шум': 167635.0, 'Котельский': 169541.0, 'Лужайка': 220989.0, 'Большая Пустомержа': 158569.0, 'Красносельское': 112292.0, 'Вахнова Кара': 320440.0, 'Пижма': 30906.0, 'Кивеннапа Север': 77634.0, 'Ромашки': 102443.0, 'Каськово': 86794.0, 'Куровицы': 41973.0, 'Плоское': 100421.0, 'Кирпичное': 119228.0, 'Ям-Тесово': 93623.0, 'Раздолье': 75413.0, 'Терпилицы': 105090.0, 'Шугозеро': 436666.0, 'Ваганово': 87528.0, 'Пушное': 106081.0, 'Садко': 84687.0, 'Усть-Ижора': 37056.0, 'Выскатка': 243401.0, 'Свирьстрой': 394972.0, 'Кисельня': 208270.0, 'Трубников Бор': 134785.0, 'Высокоключевой': 36944.0, 'Пансионат Зелёный Бор': 116992.0, 'Ненимяки': 54384.0, 'Снегирёвка': 72608.0, 'Рапполово': 39316.0, 'Пустынка': 61528.0, 'Большой Сабск': 154145.0, 'Русско': 212440.0, 'Лупполово': 33824.0, 'Большое Рейзино': 30860.0, 'Малая Романовка': 55468.0, 'Дружноселье': 51307.0, 'Пчевжа': 233813.0, 'Володарское': 130361.0, 'Нижняя': 22336.0, 'Тихковицы': 51005.0, 'Борисова Грива': 81305.0, 'Дзержинского': 117110.0}\n"
     ]
    }
   ],
   "source": [
    "print(\n",
    "    airprt_pulkovo_nrst.set_index('locality_name')['airprt_pulkovo'].to_dict()\n",
    ")"
   ],
   "metadata": {
    "collapsed": false,
    "pycharm": {
     "name": "#%%\n"
    }
   }
  },
  {
   "cell_type": "code",
   "execution_count": 90,
   "id": "63ca71ba-f43e-4288-8ce3-1f71fc9bed74",
   "metadata": {
    "pycharm": {
     "name": "#%%\n"
    }
   },
   "outputs": [],
   "source": [
    "# real_estate_data = real_estate_data.astype(\n",
    "#     {'airports_nearest': 'int32', }\n",
    "# )"
   ]
  },
  {
   "cell_type": "markdown",
   "source": [
    "❌ 'city_centers_nearest' — проверим по районам, может и нет ближайших центров города тогда `NaN` = 0"
   ],
   "metadata": {
    "collapsed": false,
    "pycharm": {
     "name": "#%% md\n"
    }
   }
  },
  {
   "cell_type": "code",
   "execution_count": 91,
   "id": "f9871fae-f5e3-47df-ab51-600d32667460",
   "metadata": {
    "pycharm": {
     "name": "#%%\n"
    }
   },
   "outputs": [
    {
     "data": {
      "text/plain": "27"
     },
     "metadata": {},
     "output_type": "display_data"
    }
   ],
   "source": [
    "display(\n",
    "    len(real_estate_data.loc[\n",
    "        ~real_estate_data['city_centers_nearest'].isna()\n",
    "        , 'locality_name'\n",
    "    ].unique())\n",
    ")"
   ]
  },
  {
   "cell_type": "code",
   "execution_count": 92,
   "outputs": [
    {
     "data": {
      "text/plain": "287"
     },
     "metadata": {},
     "output_type": "display_data"
    }
   ],
   "source": [
    "display(\n",
    "    len(\n",
    "        real_estate_data.loc[\n",
    "            real_estate_data['city_centers_nearest'].isna()\n",
    "            , 'locality_name'\n",
    "        ].unique()\n",
    "    )\n",
    ")"
   ],
   "metadata": {
    "collapsed": false,
    "pycharm": {
     "name": "#%%\n"
    }
   }
  },
  {
   "cell_type": "code",
   "execution_count": 93,
   "outputs": [],
   "source": [
    "real_estate_data.loc[\n",
    "    (real_estate_data['city_centers_nearest'].isna())\n",
    "    & (real_estate_data['locality_name'] == 'Санкт-Петербург')\n",
    "    , 'city_centers_nearest'\n",
    "] = real_estate_data.loc[\n",
    "        (~real_estate_data['city_centers_nearest'].isna())\n",
    "        & (real_estate_data['locality_name'] == 'Санкт-Петербург')\n",
    "        , 'city_centers_nearest'\n",
    "    ].median()"
   ],
   "metadata": {
    "collapsed": false,
    "pycharm": {
     "name": "#%%\n"
    }
   }
  },
  {
   "cell_type": "code",
   "execution_count": 94,
   "outputs": [
    {
     "data": {
      "text/plain": "     locality_name            locality_type dist_to_center\n128  Лодейное Поле                    город            NaN\n20       Приозерск                    город            NaN\n79       Заводской                  посёлок            NaN\n53        Синявино  посёлок городского типа            NaN\n127      Гаврилово                  посёлок            NaN\n100            Мга        городской посёлок            NaN\n21         Куттузи                  деревня            NaN",
      "text/html": "<div>\n<style scoped>\n    .dataframe tbody tr th:only-of-type {\n        vertical-align: middle;\n    }\n\n    .dataframe tbody tr th {\n        vertical-align: top;\n    }\n\n    .dataframe thead th {\n        text-align: right;\n    }\n</style>\n<table border=\"1\" class=\"dataframe\">\n  <thead>\n    <tr style=\"text-align: right;\">\n      <th></th>\n      <th>locality_name</th>\n      <th>locality_type</th>\n      <th>dist_to_center</th>\n    </tr>\n  </thead>\n  <tbody>\n    <tr>\n      <th>128</th>\n      <td>Лодейное Поле</td>\n      <td>город</td>\n      <td>NaN</td>\n    </tr>\n    <tr>\n      <th>20</th>\n      <td>Приозерск</td>\n      <td>город</td>\n      <td>NaN</td>\n    </tr>\n    <tr>\n      <th>79</th>\n      <td>Заводской</td>\n      <td>посёлок</td>\n      <td>NaN</td>\n    </tr>\n    <tr>\n      <th>53</th>\n      <td>Синявино</td>\n      <td>посёлок городского типа</td>\n      <td>NaN</td>\n    </tr>\n    <tr>\n      <th>127</th>\n      <td>Гаврилово</td>\n      <td>посёлок</td>\n      <td>NaN</td>\n    </tr>\n    <tr>\n      <th>100</th>\n      <td>Мга</td>\n      <td>городской посёлок</td>\n      <td>NaN</td>\n    </tr>\n    <tr>\n      <th>21</th>\n      <td>Куттузи</td>\n      <td>деревня</td>\n      <td>NaN</td>\n    </tr>\n  </tbody>\n</table>\n</div>"
     },
     "metadata": {},
     "output_type": "display_data"
    }
   ],
   "source": [
    "columns = ('locality_name', 'locality_type', 'dist_to_center')\n",
    "dist_to_hares_island = pd.DataFrame(columns=columns)\n",
    "\n",
    "dist_to_hares_island['locality_name'] = (\n",
    "    real_estate_data.loc[\n",
    "        real_estate_data['city_centers_nearest'].isna()\n",
    "        , 'locality_name'\n",
    "    ].unique()\n",
    ")\n",
    "dist_to_hares_island.reset_index(drop=True, inplace=True)\n",
    "\n",
    "# airprt_pulkovo_nrst['locality_type'] = (\n",
    "#     airprt_pulkovo_nrst['locality_name']\n",
    "#         .apply(lambda x:\n",
    "#                locality_type_series.iloc[\n",
    "#                    real_estate_data.loc[\n",
    "#                        real_estate_data['locality_name'] == x\n",
    "#                        , 'locality_type'\n",
    "#                    ].sample(1).item()\n",
    "#                ]\n",
    "#                )\n",
    "# )\n",
    "\n",
    "dist_to_hares_island['locality_type'] = (\n",
    "    dist_to_hares_island['locality_name']\n",
    "        .apply(lambda z: locality_type_series.iloc[\n",
    "                real_estate_data.loc[\n",
    "                    real_estate_data['locality_name'] == z\n",
    "                    , 'locality_type'\n",
    "                ].sample(1).item()\n",
    "            ]\n",
    "        )\n",
    ")\n",
    "\n",
    "display(\n",
    "    dist_to_hares_island.sample(7)\n",
    ")"
   ],
   "metadata": {
    "collapsed": false,
    "pycharm": {
     "name": "#%%\n"
    }
   }
  },
  {
   "cell_type": "code",
   "execution_count": 95,
   "outputs": [],
   "source": [
    "def to_hares_island(\n",
    "        locality_name,\n",
    "        locality_type,\n",
    "        region='ленинградская область'):\n",
    "\n",
    "    address = (region, locality_type, locality_name)\n",
    "    address = ', '.join(address)\n",
    "    maps_url = 'https://geocode-maps.yandex.ru/1.x/'\n",
    "    keys = {'apikey': api_key,\n",
    "            'geocode': address,\n",
    "            'format': 'json',\n",
    "            'results': '1',\n",
    "            }\n",
    "\n",
    "    row_data = requests.get(maps_url, params=keys)\n",
    "    parsed = json.loads(row_data.text)\n",
    "    locality_position = (json.dumps(\n",
    "        parsed['response']['GeoObjectCollection']\n",
    "        ['featureMember'][0]['GeoObject']['Point']['pos']\n",
    "        , indent=4, ensure_ascii=False\n",
    "    )\n",
    "    )\n",
    "    locality_position = locality_position.replace('\\\"', '')\n",
    "    long, lat = locality_position.split(' ')\n",
    "    locality_long_lat = (float(long), float(lat))\n",
    "    dist_in_m = distance.distance(\n",
    "        locality_long_lat,\n",
    "        hares_island_long_lat\n",
    "    ).m\n",
    "    return (float(round(dist_in_m)))"
   ],
   "metadata": {
    "collapsed": false,
    "pycharm": {
     "name": "#%%\n"
    }
   }
  },
  {
   "cell_type": "code",
   "execution_count": 96,
   "outputs": [],
   "source": [
    "dist_to_hares_island['dist_to_center'] = dist_to_hares_island.apply(\n",
    "    lambda x: to_hares_island(locality_type=str(x[1]),  locality_name=str(x[0]))\n",
    "    ,axis=1\n",
    ")"
   ],
   "metadata": {
    "collapsed": false,
    "pycharm": {
     "name": "#%%\n"
    }
   }
  },
  {
   "cell_type": "code",
   "execution_count": 97,
   "outputs": [
    {
     "data": {
      "text/plain": "    locality_name            locality_type  dist_to_center\n53       Синявино  посёлок городского типа         98924.0\n205     Кронштадт                    город         60664.0\n272      Пустынка                  деревня         61077.0\n244       Лужайка          посёлок станции        220171.0\n142          Юкки                  деревня         16570.0\n250       Ромашки                  посёлок         93488.0\n115        Вещево          посёлок станции        142353.0",
      "text/html": "<div>\n<style scoped>\n    .dataframe tbody tr th:only-of-type {\n        vertical-align: middle;\n    }\n\n    .dataframe tbody tr th {\n        vertical-align: top;\n    }\n\n    .dataframe thead th {\n        text-align: right;\n    }\n</style>\n<table border=\"1\" class=\"dataframe\">\n  <thead>\n    <tr style=\"text-align: right;\">\n      <th></th>\n      <th>locality_name</th>\n      <th>locality_type</th>\n      <th>dist_to_center</th>\n    </tr>\n  </thead>\n  <tbody>\n    <tr>\n      <th>53</th>\n      <td>Синявино</td>\n      <td>посёлок городского типа</td>\n      <td>98924.0</td>\n    </tr>\n    <tr>\n      <th>205</th>\n      <td>Кронштадт</td>\n      <td>город</td>\n      <td>60664.0</td>\n    </tr>\n    <tr>\n      <th>272</th>\n      <td>Пустынка</td>\n      <td>деревня</td>\n      <td>61077.0</td>\n    </tr>\n    <tr>\n      <th>244</th>\n      <td>Лужайка</td>\n      <td>посёлок станции</td>\n      <td>220171.0</td>\n    </tr>\n    <tr>\n      <th>142</th>\n      <td>Юкки</td>\n      <td>деревня</td>\n      <td>16570.0</td>\n    </tr>\n    <tr>\n      <th>250</th>\n      <td>Ромашки</td>\n      <td>посёлок</td>\n      <td>93488.0</td>\n    </tr>\n    <tr>\n      <th>115</th>\n      <td>Вещево</td>\n      <td>посёлок станции</td>\n      <td>142353.0</td>\n    </tr>\n  </tbody>\n</table>\n</div>"
     },
     "metadata": {},
     "output_type": "display_data"
    }
   ],
   "source": [
    "display(\n",
    "    dist_to_hares_island.sample(7)\n",
    ")"
   ],
   "metadata": {
    "collapsed": false,
    "pycharm": {
     "name": "#%%\n"
    }
   }
  },
  {
   "cell_type": "raw",
   "source": [
    "dist_to_hares_island.set_index('locality_name', inplace=True)\n",
    "display(dist_to_hares_island)"
   ],
   "metadata": {
    "collapsed": false,
    "pycharm": {
     "name": "#%% raw\n"
    }
   }
  },
  {
   "cell_type": "raw",
   "source": [
    "dist_to_hares_island.reset_index(drop=True, inplace=True)\n",
    "display(dist_to_hares_island)"
   ],
   "metadata": {
    "collapsed": false,
    "pycharm": {
     "name": "#%% raw\n"
    }
   }
  },
  {
   "cell_type": "code",
   "execution_count": 98,
   "outputs": [
    {
     "data": {
      "text/plain": "count     23699.000000\nmean      29922.447403\nstd       50782.970333\nmin         181.000000\n25%       10927.000000\n50%       14886.000000\n75%       24137.000000\nmax      580820.000000\nName: city_centers_nearest, dtype: float64"
     },
     "metadata": {},
     "output_type": "display_data"
    }
   ],
   "source": [
    "real_estate_data.loc[\n",
    "    real_estate_data['city_centers_nearest'].isna()\n",
    "    , 'city_centers_nearest'\n",
    "] = real_estate_data.loc[\n",
    "        real_estate_data['city_centers_nearest'].isna()\n",
    "        , ['locality_name', 'locality_type']\n",
    "    ].apply(lambda x:\n",
    "            # print(x['locality_type'], x['locality_name'])\n",
    "                dist_to_hares_island.loc[\n",
    "                    dist_to_hares_island['locality_name'] == x['locality_name']\n",
    "                    , 'dist_to_center'\n",
    "                ].item()\n",
    "            , axis=1\n",
    "            )\n",
    "\n",
    "display(\n",
    "    real_estate_data['city_centers_nearest'].describe()\n",
    ")"
   ],
   "metadata": {
    "collapsed": false,
    "pycharm": {
     "name": "#%%\n"
    }
   }
  },
  {
   "cell_type": "code",
   "execution_count": 99,
   "outputs": [
    {
     "data": {
      "text/plain": "parks_around3000\n0.0    8406\n1.0    5224\n2.0    1587\n3.0     484\nName: parks_around3000, dtype: int64"
     },
     "metadata": {},
     "output_type": "display_data"
    }
   ],
   "source": [
    "display(\n",
    "    real_estate_data.loc[\n",
    "        ~(real_estate_data['parks_around3000'].isna())\n",
    "        & (real_estate_data['locality_name'] == 'Санкт-Петербург')\n",
    "        # , 'parks_around3000'\n",
    "    ].groupby(by='parks_around3000')['parks_around3000'].count()\n",
    ")"
   ],
   "metadata": {
    "collapsed": false,
    "pycharm": {
     "name": "#%%\n"
    }
   }
  },
  {
   "cell_type": "code",
   "execution_count": 100,
   "outputs": [
    {
     "data": {
      "text/plain": "[2, 1, 0, 3, 4, 5, 6, 7, 8, 9, 10, 11]"
     },
     "metadata": {},
     "output_type": "display_data"
    }
   ],
   "source": [
    "display(\n",
    "    list(real_estate_data.loc[\n",
    "             real_estate_data['parks_around3000'].isna(),\n",
    "             'locality_type'\n",
    "         ].unique()\n",
    "     )\n",
    ")"
   ],
   "metadata": {
    "collapsed": false,
    "pycharm": {
     "name": "#%%\n"
    }
   }
  },
  {
   "cell_type": "code",
   "execution_count": 101,
   "outputs": [],
   "source": [
    "parks_prbblt_columns = ('parks_nrst', 'items_count', 'item_probability')\n",
    "parks_probability_df = pd.DataFrame(columns=parks_prbblt_columns)\n",
    "\n",
    "parks_probability_df['parks_nrst'] = (\n",
    "    real_estate_data.loc[\n",
    "        (real_estate_data['locality_type'] == 0)\n",
    "        & ~(real_estate_data['parks_around3000'].isna())\n",
    "        , 'parks_around3000'\n",
    "    ].unique()\n",
    ")\n",
    "\n",
    "parks_probability_df['items_count'] = (\n",
    "    parks_probability_df['parks_nrst'].apply(\n",
    "        lambda x: real_estate_data.loc[\n",
    "            (real_estate_data['locality_type'] == 0)\n",
    "            & (real_estate_data['parks_around3000'] == x)\n",
    "            , 'parks_around3000'\n",
    "        ].count()\n",
    "    )\n",
    ")\n",
    "\n",
    "parks_probability_df['item_probability'] = (\n",
    "    parks_probability_df['items_count'].apply(\n",
    "        lambda x: round(x / parks_probability_df['items_count'].sum(), 3)\n",
    "    )\n",
    ")"
   ],
   "metadata": {
    "collapsed": false,
    "pycharm": {
     "name": "#%%\n"
    }
   }
  },
  {
   "cell_type": "code",
   "execution_count": 102,
   "outputs": [
    {
     "data": {
      "text/plain": "   parks_nrst  items_count  item_probability\n0         1.0         5664             0.328\n1         2.0         1735             0.101\n2         0.0         9210             0.534\n3         3.0          647             0.037",
      "text/html": "<div>\n<style scoped>\n    .dataframe tbody tr th:only-of-type {\n        vertical-align: middle;\n    }\n\n    .dataframe tbody tr th {\n        vertical-align: top;\n    }\n\n    .dataframe thead th {\n        text-align: right;\n    }\n</style>\n<table border=\"1\" class=\"dataframe\">\n  <thead>\n    <tr style=\"text-align: right;\">\n      <th></th>\n      <th>parks_nrst</th>\n      <th>items_count</th>\n      <th>item_probability</th>\n    </tr>\n  </thead>\n  <tbody>\n    <tr>\n      <th>0</th>\n      <td>1.0</td>\n      <td>5664</td>\n      <td>0.328</td>\n    </tr>\n    <tr>\n      <th>1</th>\n      <td>2.0</td>\n      <td>1735</td>\n      <td>0.101</td>\n    </tr>\n    <tr>\n      <th>2</th>\n      <td>0.0</td>\n      <td>9210</td>\n      <td>0.534</td>\n    </tr>\n    <tr>\n      <th>3</th>\n      <td>3.0</td>\n      <td>647</td>\n      <td>0.037</td>\n    </tr>\n  </tbody>\n</table>\n</div>"
     },
     "metadata": {},
     "output_type": "display_data"
    }
   ],
   "source": [
    "display(\n",
    "    parks_probability_df\n",
    ")"
   ],
   "metadata": {
    "collapsed": false,
    "pycharm": {
     "name": "#%%\n"
    }
   }
  },
  {
   "cell_type": "code",
   "execution_count": 103,
   "outputs": [],
   "source": [
    "real_estate_data.loc[\n",
    "    (real_estate_data['locality_type'] == 0)\n",
    "    & (real_estate_data['parks_around3000'].isna())\n",
    "    , 'parks_around3000'\n",
    "] = random.choices(\n",
    "        parks_probability_df['parks_nrst']\n",
    "        , weights=parks_probability_df['item_probability']\n",
    "        , k=len(real_estate_data.loc[\n",
    "                    (real_estate_data['locality_type'] == 0)\n",
    "                    & (real_estate_data['parks_around3000'].isna())\n",
    "                    , 'parks_around3000'\n",
    "                ]\n",
    "            )\n",
    "    )"
   ],
   "metadata": {
    "collapsed": false,
    "pycharm": {
     "name": "#%%\n"
    }
   }
  },
  {
   "cell_type": "code",
   "execution_count": 104,
   "outputs": [
    {
     "name": "stderr",
     "output_type": "stream",
     "text": [
      "/Library/Frameworks/Python.framework/Versions/3.9/lib/python3.9/site-packages/numpy/lib/nanfunctions.py:1216: RuntimeWarning: Mean of empty slice\n",
      "  return np.nanmean(a, axis, out=out, keepdims=keepdims)\n",
      "/Library/Frameworks/Python.framework/Versions/3.9/lib/python3.9/site-packages/numpy/lib/nanfunctions.py:1216: RuntimeWarning: Mean of empty slice\n",
      "  return np.nanmean(a, axis, out=out, keepdims=keepdims)\n",
      "/Library/Frameworks/Python.framework/Versions/3.9/lib/python3.9/site-packages/numpy/lib/nanfunctions.py:1216: RuntimeWarning: Mean of empty slice\n",
      "  return np.nanmean(a, axis, out=out, keepdims=keepdims)\n",
      "/Library/Frameworks/Python.framework/Versions/3.9/lib/python3.9/site-packages/numpy/lib/nanfunctions.py:1216: RuntimeWarning: Mean of empty slice\n",
      "  return np.nanmean(a, axis, out=out, keepdims=keepdims)\n",
      "/Library/Frameworks/Python.framework/Versions/3.9/lib/python3.9/site-packages/numpy/lib/nanfunctions.py:1216: RuntimeWarning: Mean of empty slice\n",
      "  return np.nanmean(a, axis, out=out, keepdims=keepdims)\n",
      "/Library/Frameworks/Python.framework/Versions/3.9/lib/python3.9/site-packages/numpy/lib/nanfunctions.py:1216: RuntimeWarning: Mean of empty slice\n",
      "  return np.nanmean(a, axis, out=out, keepdims=keepdims)\n",
      "/Library/Frameworks/Python.framework/Versions/3.9/lib/python3.9/site-packages/numpy/lib/nanfunctions.py:1216: RuntimeWarning: Mean of empty slice\n",
      "  return np.nanmean(a, axis, out=out, keepdims=keepdims)\n",
      "/Library/Frameworks/Python.framework/Versions/3.9/lib/python3.9/site-packages/numpy/lib/nanfunctions.py:1216: RuntimeWarning: Mean of empty slice\n",
      "  return np.nanmean(a, axis, out=out, keepdims=keepdims)\n",
      "/Library/Frameworks/Python.framework/Versions/3.9/lib/python3.9/site-packages/numpy/lib/nanfunctions.py:1216: RuntimeWarning: Mean of empty slice\n",
      "  return np.nanmean(a, axis, out=out, keepdims=keepdims)\n",
      "/Library/Frameworks/Python.framework/Versions/3.9/lib/python3.9/site-packages/numpy/lib/nanfunctions.py:1216: RuntimeWarning: Mean of empty slice\n",
      "  return np.nanmean(a, axis, out=out, keepdims=keepdims)\n",
      "/Library/Frameworks/Python.framework/Versions/3.9/lib/python3.9/site-packages/numpy/lib/nanfunctions.py:1216: RuntimeWarning: Mean of empty slice\n",
      "  return np.nanmean(a, axis, out=out, keepdims=keepdims)\n",
      "/Library/Frameworks/Python.framework/Versions/3.9/lib/python3.9/site-packages/numpy/lib/nanfunctions.py:1216: RuntimeWarning: Mean of empty slice\n",
      "  return np.nanmean(a, axis, out=out, keepdims=keepdims)\n",
      "/Library/Frameworks/Python.framework/Versions/3.9/lib/python3.9/site-packages/numpy/lib/nanfunctions.py:1216: RuntimeWarning: Mean of empty slice\n",
      "  return np.nanmean(a, axis, out=out, keepdims=keepdims)\n",
      "/Library/Frameworks/Python.framework/Versions/3.9/lib/python3.9/site-packages/numpy/lib/nanfunctions.py:1216: RuntimeWarning: Mean of empty slice\n",
      "  return np.nanmean(a, axis, out=out, keepdims=keepdims)\n",
      "/Library/Frameworks/Python.framework/Versions/3.9/lib/python3.9/site-packages/numpy/lib/nanfunctions.py:1216: RuntimeWarning: Mean of empty slice\n",
      "  return np.nanmean(a, axis, out=out, keepdims=keepdims)\n",
      "/Library/Frameworks/Python.framework/Versions/3.9/lib/python3.9/site-packages/numpy/lib/nanfunctions.py:1216: RuntimeWarning: Mean of empty slice\n",
      "  return np.nanmean(a, axis, out=out, keepdims=keepdims)\n",
      "/Library/Frameworks/Python.framework/Versions/3.9/lib/python3.9/site-packages/numpy/lib/nanfunctions.py:1216: RuntimeWarning: Mean of empty slice\n",
      "  return np.nanmean(a, axis, out=out, keepdims=keepdims)\n",
      "/Library/Frameworks/Python.framework/Versions/3.9/lib/python3.9/site-packages/numpy/lib/nanfunctions.py:1216: RuntimeWarning: Mean of empty slice\n",
      "  return np.nanmean(a, axis, out=out, keepdims=keepdims)\n",
      "/Library/Frameworks/Python.framework/Versions/3.9/lib/python3.9/site-packages/numpy/lib/nanfunctions.py:1216: RuntimeWarning: Mean of empty slice\n",
      "  return np.nanmean(a, axis, out=out, keepdims=keepdims)\n",
      "/Library/Frameworks/Python.framework/Versions/3.9/lib/python3.9/site-packages/numpy/lib/nanfunctions.py:1216: RuntimeWarning: Mean of empty slice\n",
      "  return np.nanmean(a, axis, out=out, keepdims=keepdims)\n",
      "/Library/Frameworks/Python.framework/Versions/3.9/lib/python3.9/site-packages/numpy/lib/nanfunctions.py:1216: RuntimeWarning: Mean of empty slice\n",
      "  return np.nanmean(a, axis, out=out, keepdims=keepdims)\n",
      "/Library/Frameworks/Python.framework/Versions/3.9/lib/python3.9/site-packages/numpy/lib/nanfunctions.py:1216: RuntimeWarning: Mean of empty slice\n",
      "  return np.nanmean(a, axis, out=out, keepdims=keepdims)\n",
      "/Library/Frameworks/Python.framework/Versions/3.9/lib/python3.9/site-packages/numpy/lib/nanfunctions.py:1216: RuntimeWarning: Mean of empty slice\n",
      "  return np.nanmean(a, axis, out=out, keepdims=keepdims)\n",
      "/Library/Frameworks/Python.framework/Versions/3.9/lib/python3.9/site-packages/numpy/lib/nanfunctions.py:1216: RuntimeWarning: Mean of empty slice\n",
      "  return np.nanmean(a, axis, out=out, keepdims=keepdims)\n",
      "/Library/Frameworks/Python.framework/Versions/3.9/lib/python3.9/site-packages/numpy/lib/nanfunctions.py:1216: RuntimeWarning: Mean of empty slice\n",
      "  return np.nanmean(a, axis, out=out, keepdims=keepdims)\n",
      "/Library/Frameworks/Python.framework/Versions/3.9/lib/python3.9/site-packages/numpy/lib/nanfunctions.py:1216: RuntimeWarning: Mean of empty slice\n",
      "  return np.nanmean(a, axis, out=out, keepdims=keepdims)\n",
      "/Library/Frameworks/Python.framework/Versions/3.9/lib/python3.9/site-packages/numpy/lib/nanfunctions.py:1216: RuntimeWarning: Mean of empty slice\n",
      "  return np.nanmean(a, axis, out=out, keepdims=keepdims)\n",
      "/Library/Frameworks/Python.framework/Versions/3.9/lib/python3.9/site-packages/numpy/lib/nanfunctions.py:1216: RuntimeWarning: Mean of empty slice\n",
      "  return np.nanmean(a, axis, out=out, keepdims=keepdims)\n",
      "/Library/Frameworks/Python.framework/Versions/3.9/lib/python3.9/site-packages/numpy/lib/nanfunctions.py:1216: RuntimeWarning: Mean of empty slice\n",
      "  return np.nanmean(a, axis, out=out, keepdims=keepdims)\n",
      "/Library/Frameworks/Python.framework/Versions/3.9/lib/python3.9/site-packages/numpy/lib/nanfunctions.py:1216: RuntimeWarning: Mean of empty slice\n",
      "  return np.nanmean(a, axis, out=out, keepdims=keepdims)\n",
      "/Library/Frameworks/Python.framework/Versions/3.9/lib/python3.9/site-packages/numpy/lib/nanfunctions.py:1216: RuntimeWarning: Mean of empty slice\n",
      "  return np.nanmean(a, axis, out=out, keepdims=keepdims)\n",
      "/Library/Frameworks/Python.framework/Versions/3.9/lib/python3.9/site-packages/numpy/lib/nanfunctions.py:1216: RuntimeWarning: Mean of empty slice\n",
      "  return np.nanmean(a, axis, out=out, keepdims=keepdims)\n",
      "/Library/Frameworks/Python.framework/Versions/3.9/lib/python3.9/site-packages/numpy/lib/nanfunctions.py:1216: RuntimeWarning: Mean of empty slice\n",
      "  return np.nanmean(a, axis, out=out, keepdims=keepdims)\n",
      "/Library/Frameworks/Python.framework/Versions/3.9/lib/python3.9/site-packages/numpy/lib/nanfunctions.py:1216: RuntimeWarning: Mean of empty slice\n",
      "  return np.nanmean(a, axis, out=out, keepdims=keepdims)\n",
      "/Library/Frameworks/Python.framework/Versions/3.9/lib/python3.9/site-packages/numpy/lib/nanfunctions.py:1216: RuntimeWarning: Mean of empty slice\n",
      "  return np.nanmean(a, axis, out=out, keepdims=keepdims)\n",
      "/Library/Frameworks/Python.framework/Versions/3.9/lib/python3.9/site-packages/numpy/lib/nanfunctions.py:1216: RuntimeWarning: Mean of empty slice\n",
      "  return np.nanmean(a, axis, out=out, keepdims=keepdims)\n",
      "/Library/Frameworks/Python.framework/Versions/3.9/lib/python3.9/site-packages/numpy/lib/nanfunctions.py:1216: RuntimeWarning: Mean of empty slice\n",
      "  return np.nanmean(a, axis, out=out, keepdims=keepdims)\n",
      "/Library/Frameworks/Python.framework/Versions/3.9/lib/python3.9/site-packages/numpy/lib/nanfunctions.py:1216: RuntimeWarning: Mean of empty slice\n",
      "  return np.nanmean(a, axis, out=out, keepdims=keepdims)\n",
      "/Library/Frameworks/Python.framework/Versions/3.9/lib/python3.9/site-packages/numpy/lib/nanfunctions.py:1216: RuntimeWarning: Mean of empty slice\n",
      "  return np.nanmean(a, axis, out=out, keepdims=keepdims)\n",
      "/Library/Frameworks/Python.framework/Versions/3.9/lib/python3.9/site-packages/numpy/lib/nanfunctions.py:1216: RuntimeWarning: Mean of empty slice\n",
      "  return np.nanmean(a, axis, out=out, keepdims=keepdims)\n",
      "/Library/Frameworks/Python.framework/Versions/3.9/lib/python3.9/site-packages/numpy/lib/nanfunctions.py:1216: RuntimeWarning: Mean of empty slice\n",
      "  return np.nanmean(a, axis, out=out, keepdims=keepdims)\n",
      "/Library/Frameworks/Python.framework/Versions/3.9/lib/python3.9/site-packages/numpy/lib/nanfunctions.py:1216: RuntimeWarning: Mean of empty slice\n",
      "  return np.nanmean(a, axis, out=out, keepdims=keepdims)\n",
      "/Library/Frameworks/Python.framework/Versions/3.9/lib/python3.9/site-packages/numpy/lib/nanfunctions.py:1216: RuntimeWarning: Mean of empty slice\n",
      "  return np.nanmean(a, axis, out=out, keepdims=keepdims)\n",
      "/Library/Frameworks/Python.framework/Versions/3.9/lib/python3.9/site-packages/numpy/lib/nanfunctions.py:1216: RuntimeWarning: Mean of empty slice\n",
      "  return np.nanmean(a, axis, out=out, keepdims=keepdims)\n",
      "/Library/Frameworks/Python.framework/Versions/3.9/lib/python3.9/site-packages/numpy/lib/nanfunctions.py:1216: RuntimeWarning: Mean of empty slice\n",
      "  return np.nanmean(a, axis, out=out, keepdims=keepdims)\n",
      "/Library/Frameworks/Python.framework/Versions/3.9/lib/python3.9/site-packages/numpy/lib/nanfunctions.py:1216: RuntimeWarning: Mean of empty slice\n",
      "  return np.nanmean(a, axis, out=out, keepdims=keepdims)\n",
      "/Library/Frameworks/Python.framework/Versions/3.9/lib/python3.9/site-packages/numpy/lib/nanfunctions.py:1216: RuntimeWarning: Mean of empty slice\n",
      "  return np.nanmean(a, axis, out=out, keepdims=keepdims)\n",
      "/Library/Frameworks/Python.framework/Versions/3.9/lib/python3.9/site-packages/numpy/lib/nanfunctions.py:1216: RuntimeWarning: Mean of empty slice\n",
      "  return np.nanmean(a, axis, out=out, keepdims=keepdims)\n",
      "/Library/Frameworks/Python.framework/Versions/3.9/lib/python3.9/site-packages/numpy/lib/nanfunctions.py:1216: RuntimeWarning: Mean of empty slice\n",
      "  return np.nanmean(a, axis, out=out, keepdims=keepdims)\n",
      "/Library/Frameworks/Python.framework/Versions/3.9/lib/python3.9/site-packages/numpy/lib/nanfunctions.py:1216: RuntimeWarning: Mean of empty slice\n",
      "  return np.nanmean(a, axis, out=out, keepdims=keepdims)\n",
      "/Library/Frameworks/Python.framework/Versions/3.9/lib/python3.9/site-packages/numpy/lib/nanfunctions.py:1216: RuntimeWarning: Mean of empty slice\n",
      "  return np.nanmean(a, axis, out=out, keepdims=keepdims)\n",
      "/Library/Frameworks/Python.framework/Versions/3.9/lib/python3.9/site-packages/numpy/lib/nanfunctions.py:1216: RuntimeWarning: Mean of empty slice\n",
      "  return np.nanmean(a, axis, out=out, keepdims=keepdims)\n",
      "/Library/Frameworks/Python.framework/Versions/3.9/lib/python3.9/site-packages/numpy/lib/nanfunctions.py:1216: RuntimeWarning: Mean of empty slice\n",
      "  return np.nanmean(a, axis, out=out, keepdims=keepdims)\n",
      "/Library/Frameworks/Python.framework/Versions/3.9/lib/python3.9/site-packages/numpy/lib/nanfunctions.py:1216: RuntimeWarning: Mean of empty slice\n",
      "  return np.nanmean(a, axis, out=out, keepdims=keepdims)\n",
      "/Library/Frameworks/Python.framework/Versions/3.9/lib/python3.9/site-packages/numpy/lib/nanfunctions.py:1216: RuntimeWarning: Mean of empty slice\n",
      "  return np.nanmean(a, axis, out=out, keepdims=keepdims)\n",
      "/Library/Frameworks/Python.framework/Versions/3.9/lib/python3.9/site-packages/numpy/lib/nanfunctions.py:1216: RuntimeWarning: Mean of empty slice\n",
      "  return np.nanmean(a, axis, out=out, keepdims=keepdims)\n",
      "/Library/Frameworks/Python.framework/Versions/3.9/lib/python3.9/site-packages/numpy/lib/nanfunctions.py:1216: RuntimeWarning: Mean of empty slice\n",
      "  return np.nanmean(a, axis, out=out, keepdims=keepdims)\n",
      "/Library/Frameworks/Python.framework/Versions/3.9/lib/python3.9/site-packages/numpy/lib/nanfunctions.py:1216: RuntimeWarning: Mean of empty slice\n",
      "  return np.nanmean(a, axis, out=out, keepdims=keepdims)\n",
      "/Library/Frameworks/Python.framework/Versions/3.9/lib/python3.9/site-packages/numpy/lib/nanfunctions.py:1216: RuntimeWarning: Mean of empty slice\n",
      "  return np.nanmean(a, axis, out=out, keepdims=keepdims)\n",
      "/Library/Frameworks/Python.framework/Versions/3.9/lib/python3.9/site-packages/numpy/lib/nanfunctions.py:1216: RuntimeWarning: Mean of empty slice\n",
      "  return np.nanmean(a, axis, out=out, keepdims=keepdims)\n",
      "/Library/Frameworks/Python.framework/Versions/3.9/lib/python3.9/site-packages/numpy/lib/nanfunctions.py:1216: RuntimeWarning: Mean of empty slice\n",
      "  return np.nanmean(a, axis, out=out, keepdims=keepdims)\n",
      "/Library/Frameworks/Python.framework/Versions/3.9/lib/python3.9/site-packages/numpy/lib/nanfunctions.py:1216: RuntimeWarning: Mean of empty slice\n",
      "  return np.nanmean(a, axis, out=out, keepdims=keepdims)\n",
      "/Library/Frameworks/Python.framework/Versions/3.9/lib/python3.9/site-packages/numpy/lib/nanfunctions.py:1216: RuntimeWarning: Mean of empty slice\n",
      "  return np.nanmean(a, axis, out=out, keepdims=keepdims)\n",
      "/Library/Frameworks/Python.framework/Versions/3.9/lib/python3.9/site-packages/numpy/lib/nanfunctions.py:1216: RuntimeWarning: Mean of empty slice\n",
      "  return np.nanmean(a, axis, out=out, keepdims=keepdims)\n",
      "/Library/Frameworks/Python.framework/Versions/3.9/lib/python3.9/site-packages/numpy/lib/nanfunctions.py:1216: RuntimeWarning: Mean of empty slice\n",
      "  return np.nanmean(a, axis, out=out, keepdims=keepdims)\n",
      "/Library/Frameworks/Python.framework/Versions/3.9/lib/python3.9/site-packages/numpy/lib/nanfunctions.py:1216: RuntimeWarning: Mean of empty slice\n",
      "  return np.nanmean(a, axis, out=out, keepdims=keepdims)\n",
      "/Library/Frameworks/Python.framework/Versions/3.9/lib/python3.9/site-packages/numpy/lib/nanfunctions.py:1216: RuntimeWarning: Mean of empty slice\n",
      "  return np.nanmean(a, axis, out=out, keepdims=keepdims)\n",
      "/Library/Frameworks/Python.framework/Versions/3.9/lib/python3.9/site-packages/numpy/lib/nanfunctions.py:1216: RuntimeWarning: Mean of empty slice\n",
      "  return np.nanmean(a, axis, out=out, keepdims=keepdims)\n",
      "/Library/Frameworks/Python.framework/Versions/3.9/lib/python3.9/site-packages/numpy/lib/nanfunctions.py:1216: RuntimeWarning: Mean of empty slice\n",
      "  return np.nanmean(a, axis, out=out, keepdims=keepdims)\n",
      "/Library/Frameworks/Python.framework/Versions/3.9/lib/python3.9/site-packages/numpy/lib/nanfunctions.py:1216: RuntimeWarning: Mean of empty slice\n",
      "  return np.nanmean(a, axis, out=out, keepdims=keepdims)\n",
      "/Library/Frameworks/Python.framework/Versions/3.9/lib/python3.9/site-packages/numpy/lib/nanfunctions.py:1216: RuntimeWarning: Mean of empty slice\n",
      "  return np.nanmean(a, axis, out=out, keepdims=keepdims)\n",
      "/Library/Frameworks/Python.framework/Versions/3.9/lib/python3.9/site-packages/numpy/lib/nanfunctions.py:1216: RuntimeWarning: Mean of empty slice\n",
      "  return np.nanmean(a, axis, out=out, keepdims=keepdims)\n",
      "/Library/Frameworks/Python.framework/Versions/3.9/lib/python3.9/site-packages/numpy/lib/nanfunctions.py:1216: RuntimeWarning: Mean of empty slice\n",
      "  return np.nanmean(a, axis, out=out, keepdims=keepdims)\n",
      "/Library/Frameworks/Python.framework/Versions/3.9/lib/python3.9/site-packages/numpy/lib/nanfunctions.py:1216: RuntimeWarning: Mean of empty slice\n",
      "  return np.nanmean(a, axis, out=out, keepdims=keepdims)\n",
      "/Library/Frameworks/Python.framework/Versions/3.9/lib/python3.9/site-packages/numpy/lib/nanfunctions.py:1216: RuntimeWarning: Mean of empty slice\n",
      "  return np.nanmean(a, axis, out=out, keepdims=keepdims)\n",
      "/Library/Frameworks/Python.framework/Versions/3.9/lib/python3.9/site-packages/numpy/lib/nanfunctions.py:1216: RuntimeWarning: Mean of empty slice\n",
      "  return np.nanmean(a, axis, out=out, keepdims=keepdims)\n",
      "/Library/Frameworks/Python.framework/Versions/3.9/lib/python3.9/site-packages/numpy/lib/nanfunctions.py:1216: RuntimeWarning: Mean of empty slice\n",
      "  return np.nanmean(a, axis, out=out, keepdims=keepdims)\n",
      "/Library/Frameworks/Python.framework/Versions/3.9/lib/python3.9/site-packages/numpy/lib/nanfunctions.py:1216: RuntimeWarning: Mean of empty slice\n",
      "  return np.nanmean(a, axis, out=out, keepdims=keepdims)\n",
      "/Library/Frameworks/Python.framework/Versions/3.9/lib/python3.9/site-packages/numpy/lib/nanfunctions.py:1216: RuntimeWarning: Mean of empty slice\n",
      "  return np.nanmean(a, axis, out=out, keepdims=keepdims)\n",
      "/Library/Frameworks/Python.framework/Versions/3.9/lib/python3.9/site-packages/numpy/lib/nanfunctions.py:1216: RuntimeWarning: Mean of empty slice\n",
      "  return np.nanmean(a, axis, out=out, keepdims=keepdims)\n",
      "/Library/Frameworks/Python.framework/Versions/3.9/lib/python3.9/site-packages/numpy/lib/nanfunctions.py:1216: RuntimeWarning: Mean of empty slice\n",
      "  return np.nanmean(a, axis, out=out, keepdims=keepdims)\n",
      "/Library/Frameworks/Python.framework/Versions/3.9/lib/python3.9/site-packages/numpy/lib/nanfunctions.py:1216: RuntimeWarning: Mean of empty slice\n",
      "  return np.nanmean(a, axis, out=out, keepdims=keepdims)\n",
      "/Library/Frameworks/Python.framework/Versions/3.9/lib/python3.9/site-packages/numpy/lib/nanfunctions.py:1216: RuntimeWarning: Mean of empty slice\n",
      "  return np.nanmean(a, axis, out=out, keepdims=keepdims)\n",
      "/Library/Frameworks/Python.framework/Versions/3.9/lib/python3.9/site-packages/numpy/lib/nanfunctions.py:1216: RuntimeWarning: Mean of empty slice\n",
      "  return np.nanmean(a, axis, out=out, keepdims=keepdims)\n",
      "/Library/Frameworks/Python.framework/Versions/3.9/lib/python3.9/site-packages/numpy/lib/nanfunctions.py:1216: RuntimeWarning: Mean of empty slice\n",
      "  return np.nanmean(a, axis, out=out, keepdims=keepdims)\n",
      "/Library/Frameworks/Python.framework/Versions/3.9/lib/python3.9/site-packages/numpy/lib/nanfunctions.py:1216: RuntimeWarning: Mean of empty slice\n",
      "  return np.nanmean(a, axis, out=out, keepdims=keepdims)\n",
      "/Library/Frameworks/Python.framework/Versions/3.9/lib/python3.9/site-packages/numpy/lib/nanfunctions.py:1216: RuntimeWarning: Mean of empty slice\n",
      "  return np.nanmean(a, axis, out=out, keepdims=keepdims)\n",
      "/Library/Frameworks/Python.framework/Versions/3.9/lib/python3.9/site-packages/numpy/lib/nanfunctions.py:1216: RuntimeWarning: Mean of empty slice\n",
      "  return np.nanmean(a, axis, out=out, keepdims=keepdims)\n",
      "/Library/Frameworks/Python.framework/Versions/3.9/lib/python3.9/site-packages/numpy/lib/nanfunctions.py:1216: RuntimeWarning: Mean of empty slice\n",
      "  return np.nanmean(a, axis, out=out, keepdims=keepdims)\n",
      "/Library/Frameworks/Python.framework/Versions/3.9/lib/python3.9/site-packages/numpy/lib/nanfunctions.py:1216: RuntimeWarning: Mean of empty slice\n",
      "  return np.nanmean(a, axis, out=out, keepdims=keepdims)\n",
      "/Library/Frameworks/Python.framework/Versions/3.9/lib/python3.9/site-packages/numpy/lib/nanfunctions.py:1216: RuntimeWarning: Mean of empty slice\n",
      "  return np.nanmean(a, axis, out=out, keepdims=keepdims)\n",
      "/Library/Frameworks/Python.framework/Versions/3.9/lib/python3.9/site-packages/numpy/lib/nanfunctions.py:1216: RuntimeWarning: Mean of empty slice\n",
      "  return np.nanmean(a, axis, out=out, keepdims=keepdims)\n",
      "/Library/Frameworks/Python.framework/Versions/3.9/lib/python3.9/site-packages/numpy/lib/nanfunctions.py:1216: RuntimeWarning: Mean of empty slice\n",
      "  return np.nanmean(a, axis, out=out, keepdims=keepdims)\n",
      "/Library/Frameworks/Python.framework/Versions/3.9/lib/python3.9/site-packages/numpy/lib/nanfunctions.py:1216: RuntimeWarning: Mean of empty slice\n",
      "  return np.nanmean(a, axis, out=out, keepdims=keepdims)\n",
      "/Library/Frameworks/Python.framework/Versions/3.9/lib/python3.9/site-packages/numpy/lib/nanfunctions.py:1216: RuntimeWarning: Mean of empty slice\n",
      "  return np.nanmean(a, axis, out=out, keepdims=keepdims)\n",
      "/Library/Frameworks/Python.framework/Versions/3.9/lib/python3.9/site-packages/numpy/lib/nanfunctions.py:1216: RuntimeWarning: Mean of empty slice\n",
      "  return np.nanmean(a, axis, out=out, keepdims=keepdims)\n",
      "/Library/Frameworks/Python.framework/Versions/3.9/lib/python3.9/site-packages/numpy/lib/nanfunctions.py:1216: RuntimeWarning: Mean of empty slice\n",
      "  return np.nanmean(a, axis, out=out, keepdims=keepdims)\n",
      "/Library/Frameworks/Python.framework/Versions/3.9/lib/python3.9/site-packages/numpy/lib/nanfunctions.py:1216: RuntimeWarning: Mean of empty slice\n",
      "  return np.nanmean(a, axis, out=out, keepdims=keepdims)\n",
      "/Library/Frameworks/Python.framework/Versions/3.9/lib/python3.9/site-packages/numpy/lib/nanfunctions.py:1216: RuntimeWarning: Mean of empty slice\n",
      "  return np.nanmean(a, axis, out=out, keepdims=keepdims)\n",
      "/Library/Frameworks/Python.framework/Versions/3.9/lib/python3.9/site-packages/numpy/lib/nanfunctions.py:1216: RuntimeWarning: Mean of empty slice\n",
      "  return np.nanmean(a, axis, out=out, keepdims=keepdims)\n",
      "/Library/Frameworks/Python.framework/Versions/3.9/lib/python3.9/site-packages/numpy/lib/nanfunctions.py:1216: RuntimeWarning: Mean of empty slice\n",
      "  return np.nanmean(a, axis, out=out, keepdims=keepdims)\n",
      "/Library/Frameworks/Python.framework/Versions/3.9/lib/python3.9/site-packages/numpy/lib/nanfunctions.py:1216: RuntimeWarning: Mean of empty slice\n",
      "  return np.nanmean(a, axis, out=out, keepdims=keepdims)\n",
      "/Library/Frameworks/Python.framework/Versions/3.9/lib/python3.9/site-packages/numpy/lib/nanfunctions.py:1216: RuntimeWarning: Mean of empty slice\n",
      "  return np.nanmean(a, axis, out=out, keepdims=keepdims)\n",
      "/Library/Frameworks/Python.framework/Versions/3.9/lib/python3.9/site-packages/numpy/lib/nanfunctions.py:1216: RuntimeWarning: Mean of empty slice\n",
      "  return np.nanmean(a, axis, out=out, keepdims=keepdims)\n",
      "/Library/Frameworks/Python.framework/Versions/3.9/lib/python3.9/site-packages/numpy/lib/nanfunctions.py:1216: RuntimeWarning: Mean of empty slice\n",
      "  return np.nanmean(a, axis, out=out, keepdims=keepdims)\n",
      "/Library/Frameworks/Python.framework/Versions/3.9/lib/python3.9/site-packages/numpy/lib/nanfunctions.py:1216: RuntimeWarning: Mean of empty slice\n",
      "  return np.nanmean(a, axis, out=out, keepdims=keepdims)\n",
      "/Library/Frameworks/Python.framework/Versions/3.9/lib/python3.9/site-packages/numpy/lib/nanfunctions.py:1216: RuntimeWarning: Mean of empty slice\n",
      "  return np.nanmean(a, axis, out=out, keepdims=keepdims)\n",
      "/Library/Frameworks/Python.framework/Versions/3.9/lib/python3.9/site-packages/numpy/lib/nanfunctions.py:1216: RuntimeWarning: Mean of empty slice\n",
      "  return np.nanmean(a, axis, out=out, keepdims=keepdims)\n",
      "/Library/Frameworks/Python.framework/Versions/3.9/lib/python3.9/site-packages/numpy/lib/nanfunctions.py:1216: RuntimeWarning: Mean of empty slice\n",
      "  return np.nanmean(a, axis, out=out, keepdims=keepdims)\n",
      "/Library/Frameworks/Python.framework/Versions/3.9/lib/python3.9/site-packages/numpy/lib/nanfunctions.py:1216: RuntimeWarning: Mean of empty slice\n",
      "  return np.nanmean(a, axis, out=out, keepdims=keepdims)\n",
      "/Library/Frameworks/Python.framework/Versions/3.9/lib/python3.9/site-packages/numpy/lib/nanfunctions.py:1216: RuntimeWarning: Mean of empty slice\n",
      "  return np.nanmean(a, axis, out=out, keepdims=keepdims)\n",
      "/Library/Frameworks/Python.framework/Versions/3.9/lib/python3.9/site-packages/numpy/lib/nanfunctions.py:1216: RuntimeWarning: Mean of empty slice\n",
      "  return np.nanmean(a, axis, out=out, keepdims=keepdims)\n",
      "/Library/Frameworks/Python.framework/Versions/3.9/lib/python3.9/site-packages/numpy/lib/nanfunctions.py:1216: RuntimeWarning: Mean of empty slice\n",
      "  return np.nanmean(a, axis, out=out, keepdims=keepdims)\n",
      "/Library/Frameworks/Python.framework/Versions/3.9/lib/python3.9/site-packages/numpy/lib/nanfunctions.py:1216: RuntimeWarning: Mean of empty slice\n",
      "  return np.nanmean(a, axis, out=out, keepdims=keepdims)\n",
      "/Library/Frameworks/Python.framework/Versions/3.9/lib/python3.9/site-packages/numpy/lib/nanfunctions.py:1216: RuntimeWarning: Mean of empty slice\n",
      "  return np.nanmean(a, axis, out=out, keepdims=keepdims)\n",
      "/Library/Frameworks/Python.framework/Versions/3.9/lib/python3.9/site-packages/numpy/lib/nanfunctions.py:1216: RuntimeWarning: Mean of empty slice\n",
      "  return np.nanmean(a, axis, out=out, keepdims=keepdims)\n",
      "/Library/Frameworks/Python.framework/Versions/3.9/lib/python3.9/site-packages/numpy/lib/nanfunctions.py:1216: RuntimeWarning: Mean of empty slice\n",
      "  return np.nanmean(a, axis, out=out, keepdims=keepdims)\n",
      "/Library/Frameworks/Python.framework/Versions/3.9/lib/python3.9/site-packages/numpy/lib/nanfunctions.py:1216: RuntimeWarning: Mean of empty slice\n",
      "  return np.nanmean(a, axis, out=out, keepdims=keepdims)\n",
      "/Library/Frameworks/Python.framework/Versions/3.9/lib/python3.9/site-packages/numpy/lib/nanfunctions.py:1216: RuntimeWarning: Mean of empty slice\n",
      "  return np.nanmean(a, axis, out=out, keepdims=keepdims)\n",
      "/Library/Frameworks/Python.framework/Versions/3.9/lib/python3.9/site-packages/numpy/lib/nanfunctions.py:1216: RuntimeWarning: Mean of empty slice\n",
      "  return np.nanmean(a, axis, out=out, keepdims=keepdims)\n",
      "/Library/Frameworks/Python.framework/Versions/3.9/lib/python3.9/site-packages/numpy/lib/nanfunctions.py:1216: RuntimeWarning: Mean of empty slice\n",
      "  return np.nanmean(a, axis, out=out, keepdims=keepdims)\n",
      "/Library/Frameworks/Python.framework/Versions/3.9/lib/python3.9/site-packages/numpy/lib/nanfunctions.py:1216: RuntimeWarning: Mean of empty slice\n",
      "  return np.nanmean(a, axis, out=out, keepdims=keepdims)\n",
      "/Library/Frameworks/Python.framework/Versions/3.9/lib/python3.9/site-packages/numpy/lib/nanfunctions.py:1216: RuntimeWarning: Mean of empty slice\n",
      "  return np.nanmean(a, axis, out=out, keepdims=keepdims)\n",
      "/Library/Frameworks/Python.framework/Versions/3.9/lib/python3.9/site-packages/numpy/lib/nanfunctions.py:1216: RuntimeWarning: Mean of empty slice\n",
      "  return np.nanmean(a, axis, out=out, keepdims=keepdims)\n",
      "/Library/Frameworks/Python.framework/Versions/3.9/lib/python3.9/site-packages/numpy/lib/nanfunctions.py:1216: RuntimeWarning: Mean of empty slice\n",
      "  return np.nanmean(a, axis, out=out, keepdims=keepdims)\n",
      "/Library/Frameworks/Python.framework/Versions/3.9/lib/python3.9/site-packages/numpy/lib/nanfunctions.py:1216: RuntimeWarning: Mean of empty slice\n",
      "  return np.nanmean(a, axis, out=out, keepdims=keepdims)\n",
      "/Library/Frameworks/Python.framework/Versions/3.9/lib/python3.9/site-packages/numpy/lib/nanfunctions.py:1216: RuntimeWarning: Mean of empty slice\n",
      "  return np.nanmean(a, axis, out=out, keepdims=keepdims)\n",
      "/Library/Frameworks/Python.framework/Versions/3.9/lib/python3.9/site-packages/numpy/lib/nanfunctions.py:1216: RuntimeWarning: Mean of empty slice\n",
      "  return np.nanmean(a, axis, out=out, keepdims=keepdims)\n",
      "/Library/Frameworks/Python.framework/Versions/3.9/lib/python3.9/site-packages/numpy/lib/nanfunctions.py:1216: RuntimeWarning: Mean of empty slice\n",
      "  return np.nanmean(a, axis, out=out, keepdims=keepdims)\n",
      "/Library/Frameworks/Python.framework/Versions/3.9/lib/python3.9/site-packages/numpy/lib/nanfunctions.py:1216: RuntimeWarning: Mean of empty slice\n",
      "  return np.nanmean(a, axis, out=out, keepdims=keepdims)\n",
      "/Library/Frameworks/Python.framework/Versions/3.9/lib/python3.9/site-packages/numpy/lib/nanfunctions.py:1216: RuntimeWarning: Mean of empty slice\n",
      "  return np.nanmean(a, axis, out=out, keepdims=keepdims)\n",
      "/Library/Frameworks/Python.framework/Versions/3.9/lib/python3.9/site-packages/numpy/lib/nanfunctions.py:1216: RuntimeWarning: Mean of empty slice\n",
      "  return np.nanmean(a, axis, out=out, keepdims=keepdims)\n",
      "/Library/Frameworks/Python.framework/Versions/3.9/lib/python3.9/site-packages/numpy/lib/nanfunctions.py:1216: RuntimeWarning: Mean of empty slice\n",
      "  return np.nanmean(a, axis, out=out, keepdims=keepdims)\n",
      "/Library/Frameworks/Python.framework/Versions/3.9/lib/python3.9/site-packages/numpy/lib/nanfunctions.py:1216: RuntimeWarning: Mean of empty slice\n",
      "  return np.nanmean(a, axis, out=out, keepdims=keepdims)\n",
      "/Library/Frameworks/Python.framework/Versions/3.9/lib/python3.9/site-packages/numpy/lib/nanfunctions.py:1216: RuntimeWarning: Mean of empty slice\n",
      "  return np.nanmean(a, axis, out=out, keepdims=keepdims)\n",
      "/Library/Frameworks/Python.framework/Versions/3.9/lib/python3.9/site-packages/numpy/lib/nanfunctions.py:1216: RuntimeWarning: Mean of empty slice\n",
      "  return np.nanmean(a, axis, out=out, keepdims=keepdims)\n",
      "/Library/Frameworks/Python.framework/Versions/3.9/lib/python3.9/site-packages/numpy/lib/nanfunctions.py:1216: RuntimeWarning: Mean of empty slice\n",
      "  return np.nanmean(a, axis, out=out, keepdims=keepdims)\n",
      "/Library/Frameworks/Python.framework/Versions/3.9/lib/python3.9/site-packages/numpy/lib/nanfunctions.py:1216: RuntimeWarning: Mean of empty slice\n",
      "  return np.nanmean(a, axis, out=out, keepdims=keepdims)\n",
      "/Library/Frameworks/Python.framework/Versions/3.9/lib/python3.9/site-packages/numpy/lib/nanfunctions.py:1216: RuntimeWarning: Mean of empty slice\n",
      "  return np.nanmean(a, axis, out=out, keepdims=keepdims)\n",
      "/Library/Frameworks/Python.framework/Versions/3.9/lib/python3.9/site-packages/numpy/lib/nanfunctions.py:1216: RuntimeWarning: Mean of empty slice\n",
      "  return np.nanmean(a, axis, out=out, keepdims=keepdims)\n",
      "/Library/Frameworks/Python.framework/Versions/3.9/lib/python3.9/site-packages/numpy/lib/nanfunctions.py:1216: RuntimeWarning: Mean of empty slice\n",
      "  return np.nanmean(a, axis, out=out, keepdims=keepdims)\n",
      "/Library/Frameworks/Python.framework/Versions/3.9/lib/python3.9/site-packages/numpy/lib/nanfunctions.py:1216: RuntimeWarning: Mean of empty slice\n",
      "  return np.nanmean(a, axis, out=out, keepdims=keepdims)\n",
      "/Library/Frameworks/Python.framework/Versions/3.9/lib/python3.9/site-packages/numpy/lib/nanfunctions.py:1216: RuntimeWarning: Mean of empty slice\n",
      "  return np.nanmean(a, axis, out=out, keepdims=keepdims)\n",
      "/Library/Frameworks/Python.framework/Versions/3.9/lib/python3.9/site-packages/numpy/lib/nanfunctions.py:1216: RuntimeWarning: Mean of empty slice\n",
      "  return np.nanmean(a, axis, out=out, keepdims=keepdims)\n",
      "/Library/Frameworks/Python.framework/Versions/3.9/lib/python3.9/site-packages/numpy/lib/nanfunctions.py:1216: RuntimeWarning: Mean of empty slice\n",
      "  return np.nanmean(a, axis, out=out, keepdims=keepdims)\n",
      "/Library/Frameworks/Python.framework/Versions/3.9/lib/python3.9/site-packages/numpy/lib/nanfunctions.py:1216: RuntimeWarning: Mean of empty slice\n",
      "  return np.nanmean(a, axis, out=out, keepdims=keepdims)\n",
      "/Library/Frameworks/Python.framework/Versions/3.9/lib/python3.9/site-packages/numpy/lib/nanfunctions.py:1216: RuntimeWarning: Mean of empty slice\n",
      "  return np.nanmean(a, axis, out=out, keepdims=keepdims)\n",
      "/Library/Frameworks/Python.framework/Versions/3.9/lib/python3.9/site-packages/numpy/lib/nanfunctions.py:1216: RuntimeWarning: Mean of empty slice\n",
      "  return np.nanmean(a, axis, out=out, keepdims=keepdims)\n",
      "/Library/Frameworks/Python.framework/Versions/3.9/lib/python3.9/site-packages/numpy/lib/nanfunctions.py:1216: RuntimeWarning: Mean of empty slice\n",
      "  return np.nanmean(a, axis, out=out, keepdims=keepdims)\n",
      "/Library/Frameworks/Python.framework/Versions/3.9/lib/python3.9/site-packages/numpy/lib/nanfunctions.py:1216: RuntimeWarning: Mean of empty slice\n",
      "  return np.nanmean(a, axis, out=out, keepdims=keepdims)\n",
      "/Library/Frameworks/Python.framework/Versions/3.9/lib/python3.9/site-packages/numpy/lib/nanfunctions.py:1216: RuntimeWarning: Mean of empty slice\n",
      "  return np.nanmean(a, axis, out=out, keepdims=keepdims)\n",
      "/Library/Frameworks/Python.framework/Versions/3.9/lib/python3.9/site-packages/numpy/lib/nanfunctions.py:1216: RuntimeWarning: Mean of empty slice\n",
      "  return np.nanmean(a, axis, out=out, keepdims=keepdims)\n",
      "/Library/Frameworks/Python.framework/Versions/3.9/lib/python3.9/site-packages/numpy/lib/nanfunctions.py:1216: RuntimeWarning: Mean of empty slice\n",
      "  return np.nanmean(a, axis, out=out, keepdims=keepdims)\n",
      "/Library/Frameworks/Python.framework/Versions/3.9/lib/python3.9/site-packages/numpy/lib/nanfunctions.py:1216: RuntimeWarning: Mean of empty slice\n",
      "  return np.nanmean(a, axis, out=out, keepdims=keepdims)\n",
      "/Library/Frameworks/Python.framework/Versions/3.9/lib/python3.9/site-packages/numpy/lib/nanfunctions.py:1216: RuntimeWarning: Mean of empty slice\n",
      "  return np.nanmean(a, axis, out=out, keepdims=keepdims)\n",
      "/Library/Frameworks/Python.framework/Versions/3.9/lib/python3.9/site-packages/numpy/lib/nanfunctions.py:1216: RuntimeWarning: Mean of empty slice\n",
      "  return np.nanmean(a, axis, out=out, keepdims=keepdims)\n",
      "/Library/Frameworks/Python.framework/Versions/3.9/lib/python3.9/site-packages/numpy/lib/nanfunctions.py:1216: RuntimeWarning: Mean of empty slice\n",
      "  return np.nanmean(a, axis, out=out, keepdims=keepdims)\n",
      "/Library/Frameworks/Python.framework/Versions/3.9/lib/python3.9/site-packages/numpy/lib/nanfunctions.py:1216: RuntimeWarning: Mean of empty slice\n",
      "  return np.nanmean(a, axis, out=out, keepdims=keepdims)\n",
      "/Library/Frameworks/Python.framework/Versions/3.9/lib/python3.9/site-packages/numpy/lib/nanfunctions.py:1216: RuntimeWarning: Mean of empty slice\n",
      "  return np.nanmean(a, axis, out=out, keepdims=keepdims)\n",
      "/Library/Frameworks/Python.framework/Versions/3.9/lib/python3.9/site-packages/numpy/lib/nanfunctions.py:1216: RuntimeWarning: Mean of empty slice\n",
      "  return np.nanmean(a, axis, out=out, keepdims=keepdims)\n",
      "/Library/Frameworks/Python.framework/Versions/3.9/lib/python3.9/site-packages/numpy/lib/nanfunctions.py:1216: RuntimeWarning: Mean of empty slice\n",
      "  return np.nanmean(a, axis, out=out, keepdims=keepdims)\n",
      "/Library/Frameworks/Python.framework/Versions/3.9/lib/python3.9/site-packages/numpy/lib/nanfunctions.py:1216: RuntimeWarning: Mean of empty slice\n",
      "  return np.nanmean(a, axis, out=out, keepdims=keepdims)\n",
      "/Library/Frameworks/Python.framework/Versions/3.9/lib/python3.9/site-packages/numpy/lib/nanfunctions.py:1216: RuntimeWarning: Mean of empty slice\n",
      "  return np.nanmean(a, axis, out=out, keepdims=keepdims)\n",
      "/Library/Frameworks/Python.framework/Versions/3.9/lib/python3.9/site-packages/numpy/lib/nanfunctions.py:1216: RuntimeWarning: Mean of empty slice\n",
      "  return np.nanmean(a, axis, out=out, keepdims=keepdims)\n",
      "/Library/Frameworks/Python.framework/Versions/3.9/lib/python3.9/site-packages/numpy/lib/nanfunctions.py:1216: RuntimeWarning: Mean of empty slice\n",
      "  return np.nanmean(a, axis, out=out, keepdims=keepdims)\n",
      "/Library/Frameworks/Python.framework/Versions/3.9/lib/python3.9/site-packages/numpy/lib/nanfunctions.py:1216: RuntimeWarning: Mean of empty slice\n",
      "  return np.nanmean(a, axis, out=out, keepdims=keepdims)\n",
      "/Library/Frameworks/Python.framework/Versions/3.9/lib/python3.9/site-packages/numpy/lib/nanfunctions.py:1216: RuntimeWarning: Mean of empty slice\n",
      "  return np.nanmean(a, axis, out=out, keepdims=keepdims)\n",
      "/Library/Frameworks/Python.framework/Versions/3.9/lib/python3.9/site-packages/numpy/lib/nanfunctions.py:1216: RuntimeWarning: Mean of empty slice\n",
      "  return np.nanmean(a, axis, out=out, keepdims=keepdims)\n",
      "/Library/Frameworks/Python.framework/Versions/3.9/lib/python3.9/site-packages/numpy/lib/nanfunctions.py:1216: RuntimeWarning: Mean of empty slice\n",
      "  return np.nanmean(a, axis, out=out, keepdims=keepdims)\n",
      "/Library/Frameworks/Python.framework/Versions/3.9/lib/python3.9/site-packages/numpy/lib/nanfunctions.py:1216: RuntimeWarning: Mean of empty slice\n",
      "  return np.nanmean(a, axis, out=out, keepdims=keepdims)\n",
      "/Library/Frameworks/Python.framework/Versions/3.9/lib/python3.9/site-packages/numpy/lib/nanfunctions.py:1216: RuntimeWarning: Mean of empty slice\n",
      "  return np.nanmean(a, axis, out=out, keepdims=keepdims)\n",
      "/Library/Frameworks/Python.framework/Versions/3.9/lib/python3.9/site-packages/numpy/lib/nanfunctions.py:1216: RuntimeWarning: Mean of empty slice\n",
      "  return np.nanmean(a, axis, out=out, keepdims=keepdims)\n",
      "/Library/Frameworks/Python.framework/Versions/3.9/lib/python3.9/site-packages/numpy/lib/nanfunctions.py:1216: RuntimeWarning: Mean of empty slice\n",
      "  return np.nanmean(a, axis, out=out, keepdims=keepdims)\n",
      "/Library/Frameworks/Python.framework/Versions/3.9/lib/python3.9/site-packages/numpy/lib/nanfunctions.py:1216: RuntimeWarning: Mean of empty slice\n",
      "  return np.nanmean(a, axis, out=out, keepdims=keepdims)\n",
      "/Library/Frameworks/Python.framework/Versions/3.9/lib/python3.9/site-packages/numpy/lib/nanfunctions.py:1216: RuntimeWarning: Mean of empty slice\n",
      "  return np.nanmean(a, axis, out=out, keepdims=keepdims)\n",
      "/Library/Frameworks/Python.framework/Versions/3.9/lib/python3.9/site-packages/numpy/lib/nanfunctions.py:1216: RuntimeWarning: Mean of empty slice\n",
      "  return np.nanmean(a, axis, out=out, keepdims=keepdims)\n",
      "/Library/Frameworks/Python.framework/Versions/3.9/lib/python3.9/site-packages/numpy/lib/nanfunctions.py:1216: RuntimeWarning: Mean of empty slice\n",
      "  return np.nanmean(a, axis, out=out, keepdims=keepdims)\n",
      "/Library/Frameworks/Python.framework/Versions/3.9/lib/python3.9/site-packages/numpy/lib/nanfunctions.py:1216: RuntimeWarning: Mean of empty slice\n",
      "  return np.nanmean(a, axis, out=out, keepdims=keepdims)\n",
      "/Library/Frameworks/Python.framework/Versions/3.9/lib/python3.9/site-packages/numpy/lib/nanfunctions.py:1216: RuntimeWarning: Mean of empty slice\n",
      "  return np.nanmean(a, axis, out=out, keepdims=keepdims)\n",
      "/Library/Frameworks/Python.framework/Versions/3.9/lib/python3.9/site-packages/numpy/lib/nanfunctions.py:1216: RuntimeWarning: Mean of empty slice\n",
      "  return np.nanmean(a, axis, out=out, keepdims=keepdims)\n",
      "/Library/Frameworks/Python.framework/Versions/3.9/lib/python3.9/site-packages/numpy/lib/nanfunctions.py:1216: RuntimeWarning: Mean of empty slice\n",
      "  return np.nanmean(a, axis, out=out, keepdims=keepdims)\n",
      "/Library/Frameworks/Python.framework/Versions/3.9/lib/python3.9/site-packages/numpy/lib/nanfunctions.py:1216: RuntimeWarning: Mean of empty slice\n",
      "  return np.nanmean(a, axis, out=out, keepdims=keepdims)\n",
      "/Library/Frameworks/Python.framework/Versions/3.9/lib/python3.9/site-packages/numpy/lib/nanfunctions.py:1216: RuntimeWarning: Mean of empty slice\n",
      "  return np.nanmean(a, axis, out=out, keepdims=keepdims)\n",
      "/Library/Frameworks/Python.framework/Versions/3.9/lib/python3.9/site-packages/numpy/lib/nanfunctions.py:1216: RuntimeWarning: Mean of empty slice\n",
      "  return np.nanmean(a, axis, out=out, keepdims=keepdims)\n",
      "/Library/Frameworks/Python.framework/Versions/3.9/lib/python3.9/site-packages/numpy/lib/nanfunctions.py:1216: RuntimeWarning: Mean of empty slice\n",
      "  return np.nanmean(a, axis, out=out, keepdims=keepdims)\n",
      "/Library/Frameworks/Python.framework/Versions/3.9/lib/python3.9/site-packages/numpy/lib/nanfunctions.py:1216: RuntimeWarning: Mean of empty slice\n",
      "  return np.nanmean(a, axis, out=out, keepdims=keepdims)\n",
      "/Library/Frameworks/Python.framework/Versions/3.9/lib/python3.9/site-packages/numpy/lib/nanfunctions.py:1216: RuntimeWarning: Mean of empty slice\n",
      "  return np.nanmean(a, axis, out=out, keepdims=keepdims)\n",
      "/Library/Frameworks/Python.framework/Versions/3.9/lib/python3.9/site-packages/numpy/lib/nanfunctions.py:1216: RuntimeWarning: Mean of empty slice\n",
      "  return np.nanmean(a, axis, out=out, keepdims=keepdims)\n",
      "/Library/Frameworks/Python.framework/Versions/3.9/lib/python3.9/site-packages/numpy/lib/nanfunctions.py:1216: RuntimeWarning: Mean of empty slice\n",
      "  return np.nanmean(a, axis, out=out, keepdims=keepdims)\n",
      "/Library/Frameworks/Python.framework/Versions/3.9/lib/python3.9/site-packages/numpy/lib/nanfunctions.py:1216: RuntimeWarning: Mean of empty slice\n",
      "  return np.nanmean(a, axis, out=out, keepdims=keepdims)\n",
      "/Library/Frameworks/Python.framework/Versions/3.9/lib/python3.9/site-packages/numpy/lib/nanfunctions.py:1216: RuntimeWarning: Mean of empty slice\n",
      "  return np.nanmean(a, axis, out=out, keepdims=keepdims)\n",
      "/Library/Frameworks/Python.framework/Versions/3.9/lib/python3.9/site-packages/numpy/lib/nanfunctions.py:1216: RuntimeWarning: Mean of empty slice\n",
      "  return np.nanmean(a, axis, out=out, keepdims=keepdims)\n",
      "/Library/Frameworks/Python.framework/Versions/3.9/lib/python3.9/site-packages/numpy/lib/nanfunctions.py:1216: RuntimeWarning: Mean of empty slice\n",
      "  return np.nanmean(a, axis, out=out, keepdims=keepdims)\n",
      "/Library/Frameworks/Python.framework/Versions/3.9/lib/python3.9/site-packages/numpy/lib/nanfunctions.py:1216: RuntimeWarning: Mean of empty slice\n",
      "  return np.nanmean(a, axis, out=out, keepdims=keepdims)\n",
      "/Library/Frameworks/Python.framework/Versions/3.9/lib/python3.9/site-packages/numpy/lib/nanfunctions.py:1216: RuntimeWarning: Mean of empty slice\n",
      "  return np.nanmean(a, axis, out=out, keepdims=keepdims)\n",
      "/Library/Frameworks/Python.framework/Versions/3.9/lib/python3.9/site-packages/numpy/lib/nanfunctions.py:1216: RuntimeWarning: Mean of empty slice\n",
      "  return np.nanmean(a, axis, out=out, keepdims=keepdims)\n",
      "/Library/Frameworks/Python.framework/Versions/3.9/lib/python3.9/site-packages/numpy/lib/nanfunctions.py:1216: RuntimeWarning: Mean of empty slice\n",
      "  return np.nanmean(a, axis, out=out, keepdims=keepdims)\n",
      "/Library/Frameworks/Python.framework/Versions/3.9/lib/python3.9/site-packages/numpy/lib/nanfunctions.py:1216: RuntimeWarning: Mean of empty slice\n",
      "  return np.nanmean(a, axis, out=out, keepdims=keepdims)\n",
      "/Library/Frameworks/Python.framework/Versions/3.9/lib/python3.9/site-packages/numpy/lib/nanfunctions.py:1216: RuntimeWarning: Mean of empty slice\n",
      "  return np.nanmean(a, axis, out=out, keepdims=keepdims)\n",
      "/Library/Frameworks/Python.framework/Versions/3.9/lib/python3.9/site-packages/numpy/lib/nanfunctions.py:1216: RuntimeWarning: Mean of empty slice\n",
      "  return np.nanmean(a, axis, out=out, keepdims=keepdims)\n",
      "/Library/Frameworks/Python.framework/Versions/3.9/lib/python3.9/site-packages/numpy/lib/nanfunctions.py:1216: RuntimeWarning: Mean of empty slice\n",
      "  return np.nanmean(a, axis, out=out, keepdims=keepdims)\n",
      "/Library/Frameworks/Python.framework/Versions/3.9/lib/python3.9/site-packages/numpy/lib/nanfunctions.py:1216: RuntimeWarning: Mean of empty slice\n",
      "  return np.nanmean(a, axis, out=out, keepdims=keepdims)\n",
      "/Library/Frameworks/Python.framework/Versions/3.9/lib/python3.9/site-packages/numpy/lib/nanfunctions.py:1216: RuntimeWarning: Mean of empty slice\n",
      "  return np.nanmean(a, axis, out=out, keepdims=keepdims)\n",
      "/Library/Frameworks/Python.framework/Versions/3.9/lib/python3.9/site-packages/numpy/lib/nanfunctions.py:1216: RuntimeWarning: Mean of empty slice\n",
      "  return np.nanmean(a, axis, out=out, keepdims=keepdims)\n",
      "/Library/Frameworks/Python.framework/Versions/3.9/lib/python3.9/site-packages/numpy/lib/nanfunctions.py:1216: RuntimeWarning: Mean of empty slice\n",
      "  return np.nanmean(a, axis, out=out, keepdims=keepdims)\n",
      "/Library/Frameworks/Python.framework/Versions/3.9/lib/python3.9/site-packages/numpy/lib/nanfunctions.py:1216: RuntimeWarning: Mean of empty slice\n",
      "  return np.nanmean(a, axis, out=out, keepdims=keepdims)\n",
      "/Library/Frameworks/Python.framework/Versions/3.9/lib/python3.9/site-packages/numpy/lib/nanfunctions.py:1216: RuntimeWarning: Mean of empty slice\n",
      "  return np.nanmean(a, axis, out=out, keepdims=keepdims)\n",
      "/Library/Frameworks/Python.framework/Versions/3.9/lib/python3.9/site-packages/numpy/lib/nanfunctions.py:1216: RuntimeWarning: Mean of empty slice\n",
      "  return np.nanmean(a, axis, out=out, keepdims=keepdims)\n",
      "/Library/Frameworks/Python.framework/Versions/3.9/lib/python3.9/site-packages/numpy/lib/nanfunctions.py:1216: RuntimeWarning: Mean of empty slice\n",
      "  return np.nanmean(a, axis, out=out, keepdims=keepdims)\n",
      "/Library/Frameworks/Python.framework/Versions/3.9/lib/python3.9/site-packages/numpy/lib/nanfunctions.py:1216: RuntimeWarning: Mean of empty slice\n",
      "  return np.nanmean(a, axis, out=out, keepdims=keepdims)\n",
      "/Library/Frameworks/Python.framework/Versions/3.9/lib/python3.9/site-packages/numpy/lib/nanfunctions.py:1216: RuntimeWarning: Mean of empty slice\n",
      "  return np.nanmean(a, axis, out=out, keepdims=keepdims)\n",
      "/Library/Frameworks/Python.framework/Versions/3.9/lib/python3.9/site-packages/numpy/lib/nanfunctions.py:1216: RuntimeWarning: Mean of empty slice\n",
      "  return np.nanmean(a, axis, out=out, keepdims=keepdims)\n",
      "/Library/Frameworks/Python.framework/Versions/3.9/lib/python3.9/site-packages/numpy/lib/nanfunctions.py:1216: RuntimeWarning: Mean of empty slice\n",
      "  return np.nanmean(a, axis, out=out, keepdims=keepdims)\n",
      "/Library/Frameworks/Python.framework/Versions/3.9/lib/python3.9/site-packages/numpy/lib/nanfunctions.py:1216: RuntimeWarning: Mean of empty slice\n",
      "  return np.nanmean(a, axis, out=out, keepdims=keepdims)\n",
      "/Library/Frameworks/Python.framework/Versions/3.9/lib/python3.9/site-packages/numpy/lib/nanfunctions.py:1216: RuntimeWarning: Mean of empty slice\n",
      "  return np.nanmean(a, axis, out=out, keepdims=keepdims)\n",
      "/Library/Frameworks/Python.framework/Versions/3.9/lib/python3.9/site-packages/numpy/lib/nanfunctions.py:1216: RuntimeWarning: Mean of empty slice\n",
      "  return np.nanmean(a, axis, out=out, keepdims=keepdims)\n",
      "/Library/Frameworks/Python.framework/Versions/3.9/lib/python3.9/site-packages/numpy/lib/nanfunctions.py:1216: RuntimeWarning: Mean of empty slice\n",
      "  return np.nanmean(a, axis, out=out, keepdims=keepdims)\n",
      "/Library/Frameworks/Python.framework/Versions/3.9/lib/python3.9/site-packages/numpy/lib/nanfunctions.py:1216: RuntimeWarning: Mean of empty slice\n",
      "  return np.nanmean(a, axis, out=out, keepdims=keepdims)\n",
      "/Library/Frameworks/Python.framework/Versions/3.9/lib/python3.9/site-packages/numpy/lib/nanfunctions.py:1216: RuntimeWarning: Mean of empty slice\n",
      "  return np.nanmean(a, axis, out=out, keepdims=keepdims)\n",
      "/Library/Frameworks/Python.framework/Versions/3.9/lib/python3.9/site-packages/numpy/lib/nanfunctions.py:1216: RuntimeWarning: Mean of empty slice\n",
      "  return np.nanmean(a, axis, out=out, keepdims=keepdims)\n",
      "/Library/Frameworks/Python.framework/Versions/3.9/lib/python3.9/site-packages/numpy/lib/nanfunctions.py:1216: RuntimeWarning: Mean of empty slice\n",
      "  return np.nanmean(a, axis, out=out, keepdims=keepdims)\n",
      "/Library/Frameworks/Python.framework/Versions/3.9/lib/python3.9/site-packages/numpy/lib/nanfunctions.py:1216: RuntimeWarning: Mean of empty slice\n",
      "  return np.nanmean(a, axis, out=out, keepdims=keepdims)\n",
      "/Library/Frameworks/Python.framework/Versions/3.9/lib/python3.9/site-packages/numpy/lib/nanfunctions.py:1216: RuntimeWarning: Mean of empty slice\n",
      "  return np.nanmean(a, axis, out=out, keepdims=keepdims)\n",
      "/Library/Frameworks/Python.framework/Versions/3.9/lib/python3.9/site-packages/numpy/lib/nanfunctions.py:1216: RuntimeWarning: Mean of empty slice\n",
      "  return np.nanmean(a, axis, out=out, keepdims=keepdims)\n",
      "/Library/Frameworks/Python.framework/Versions/3.9/lib/python3.9/site-packages/numpy/lib/nanfunctions.py:1216: RuntimeWarning: Mean of empty slice\n",
      "  return np.nanmean(a, axis, out=out, keepdims=keepdims)\n",
      "/Library/Frameworks/Python.framework/Versions/3.9/lib/python3.9/site-packages/numpy/lib/nanfunctions.py:1216: RuntimeWarning: Mean of empty slice\n",
      "  return np.nanmean(a, axis, out=out, keepdims=keepdims)\n",
      "/Library/Frameworks/Python.framework/Versions/3.9/lib/python3.9/site-packages/numpy/lib/nanfunctions.py:1216: RuntimeWarning: Mean of empty slice\n",
      "  return np.nanmean(a, axis, out=out, keepdims=keepdims)\n",
      "/Library/Frameworks/Python.framework/Versions/3.9/lib/python3.9/site-packages/numpy/lib/nanfunctions.py:1216: RuntimeWarning: Mean of empty slice\n",
      "  return np.nanmean(a, axis, out=out, keepdims=keepdims)\n",
      "/Library/Frameworks/Python.framework/Versions/3.9/lib/python3.9/site-packages/numpy/lib/nanfunctions.py:1216: RuntimeWarning: Mean of empty slice\n",
      "  return np.nanmean(a, axis, out=out, keepdims=keepdims)\n",
      "/Library/Frameworks/Python.framework/Versions/3.9/lib/python3.9/site-packages/numpy/lib/nanfunctions.py:1216: RuntimeWarning: Mean of empty slice\n",
      "  return np.nanmean(a, axis, out=out, keepdims=keepdims)\n",
      "/Library/Frameworks/Python.framework/Versions/3.9/lib/python3.9/site-packages/numpy/lib/nanfunctions.py:1216: RuntimeWarning: Mean of empty slice\n",
      "  return np.nanmean(a, axis, out=out, keepdims=keepdims)\n",
      "/Library/Frameworks/Python.framework/Versions/3.9/lib/python3.9/site-packages/numpy/lib/nanfunctions.py:1216: RuntimeWarning: Mean of empty slice\n",
      "  return np.nanmean(a, axis, out=out, keepdims=keepdims)\n",
      "/Library/Frameworks/Python.framework/Versions/3.9/lib/python3.9/site-packages/numpy/lib/nanfunctions.py:1216: RuntimeWarning: Mean of empty slice\n",
      "  return np.nanmean(a, axis, out=out, keepdims=keepdims)\n",
      "/Library/Frameworks/Python.framework/Versions/3.9/lib/python3.9/site-packages/numpy/lib/nanfunctions.py:1216: RuntimeWarning: Mean of empty slice\n",
      "  return np.nanmean(a, axis, out=out, keepdims=keepdims)\n",
      "/Library/Frameworks/Python.framework/Versions/3.9/lib/python3.9/site-packages/numpy/lib/nanfunctions.py:1216: RuntimeWarning: Mean of empty slice\n",
      "  return np.nanmean(a, axis, out=out, keepdims=keepdims)\n",
      "/Library/Frameworks/Python.framework/Versions/3.9/lib/python3.9/site-packages/numpy/lib/nanfunctions.py:1216: RuntimeWarning: Mean of empty slice\n",
      "  return np.nanmean(a, axis, out=out, keepdims=keepdims)\n",
      "/Library/Frameworks/Python.framework/Versions/3.9/lib/python3.9/site-packages/numpy/lib/nanfunctions.py:1216: RuntimeWarning: Mean of empty slice\n",
      "  return np.nanmean(a, axis, out=out, keepdims=keepdims)\n",
      "/Library/Frameworks/Python.framework/Versions/3.9/lib/python3.9/site-packages/numpy/lib/nanfunctions.py:1216: RuntimeWarning: Mean of empty slice\n",
      "  return np.nanmean(a, axis, out=out, keepdims=keepdims)\n",
      "/Library/Frameworks/Python.framework/Versions/3.9/lib/python3.9/site-packages/numpy/lib/nanfunctions.py:1216: RuntimeWarning: Mean of empty slice\n",
      "  return np.nanmean(a, axis, out=out, keepdims=keepdims)\n",
      "/Library/Frameworks/Python.framework/Versions/3.9/lib/python3.9/site-packages/numpy/lib/nanfunctions.py:1216: RuntimeWarning: Mean of empty slice\n",
      "  return np.nanmean(a, axis, out=out, keepdims=keepdims)\n",
      "/Library/Frameworks/Python.framework/Versions/3.9/lib/python3.9/site-packages/numpy/lib/nanfunctions.py:1216: RuntimeWarning: Mean of empty slice\n",
      "  return np.nanmean(a, axis, out=out, keepdims=keepdims)\n",
      "/Library/Frameworks/Python.framework/Versions/3.9/lib/python3.9/site-packages/numpy/lib/nanfunctions.py:1216: RuntimeWarning: Mean of empty slice\n",
      "  return np.nanmean(a, axis, out=out, keepdims=keepdims)\n",
      "/Library/Frameworks/Python.framework/Versions/3.9/lib/python3.9/site-packages/numpy/lib/nanfunctions.py:1216: RuntimeWarning: Mean of empty slice\n",
      "  return np.nanmean(a, axis, out=out, keepdims=keepdims)\n",
      "/Library/Frameworks/Python.framework/Versions/3.9/lib/python3.9/site-packages/numpy/lib/nanfunctions.py:1216: RuntimeWarning: Mean of empty slice\n",
      "  return np.nanmean(a, axis, out=out, keepdims=keepdims)\n",
      "/Library/Frameworks/Python.framework/Versions/3.9/lib/python3.9/site-packages/numpy/lib/nanfunctions.py:1216: RuntimeWarning: Mean of empty slice\n",
      "  return np.nanmean(a, axis, out=out, keepdims=keepdims)\n",
      "/Library/Frameworks/Python.framework/Versions/3.9/lib/python3.9/site-packages/numpy/lib/nanfunctions.py:1216: RuntimeWarning: Mean of empty slice\n",
      "  return np.nanmean(a, axis, out=out, keepdims=keepdims)\n"
     ]
    }
   ],
   "source": [
    "real_estate_data.loc[\n",
    "    (real_estate_data['locality_type'] != 0)\n",
    "    & (real_estate_data['parks_around3000'].isna())\n",
    "    ,'parks_around3000'\n",
    "] = real_estate_data.loc[\n",
    "                (real_estate_data['locality_type'] != 0)\n",
    "                & (real_estate_data['parks_around3000'].isna())\n",
    "                ,'locality_name'\n",
    "            ].apply(lambda x: 0\n",
    "                if np.isnan(real_estate_data.loc[\n",
    "                            (real_estate_data['locality_name'] == x)\n",
    "                            , 'parks_around3000'\n",
    "                        ].median())\n",
    "                else (real_estate_data.loc[\n",
    "                          (real_estate_data['locality_name'] == x)\n",
    "                          , 'parks_around3000'\n",
    "                      ].median())\n",
    "            )\n"
   ],
   "metadata": {
    "collapsed": false,
    "pycharm": {
     "name": "#%%\n"
    }
   }
  },
  {
   "cell_type": "code",
   "execution_count": 105,
   "outputs": [
    {
     "data": {
      "text/plain": "count    23699.000000\nmean         0.558083\nstd          0.780674\nmin          0.000000\n25%          0.000000\n50%          0.000000\n75%          1.000000\nmax          3.000000\nName: parks_around3000, dtype: float64"
     },
     "metadata": {},
     "output_type": "display_data"
    }
   ],
   "source": [
    "display(\n",
    "    real_estate_data['parks_around3000'].describe()\n",
    ")"
   ],
   "metadata": {
    "collapsed": false,
    "pycharm": {
     "name": "#%%\n"
    }
   }
  },
  {
   "cell_type": "markdown",
   "id": "6e49c5b2-ad3c-47b8-b344-c390e8309ef8",
   "metadata": {
    "pycharm": {
     "name": "#%% md\n"
    }
   },
   "source": [
    "Так, похоже, что у всех `'locality_name'` = `NaN`, `'is_apartment'` = `False`"
   ]
  },
  {
   "cell_type": "markdown",
   "source": [
    "❌ 'parks_nearest'"
   ],
   "metadata": {
    "collapsed": false,
    "pycharm": {
     "name": "#%% md\n"
    }
   }
  },
  {
   "cell_type": "code",
   "execution_count": 106,
   "outputs": [
    {
     "data": {
      "text/plain": "       total_images  last_price  total_area first_day_exposition  rooms  \\\n189               0   6150000.0       62.00  2017-10-13T00:00:00      3   \n214               5   4150000.0       50.41  2017-07-20T00:00:00      2   \n2527              8   4690000.0       60.30  2016-03-05T00:00:00      2   \n4470              7   2750000.0       30.90  2017-12-19T00:00:00      1   \n7788             14   5550000.0       55.10  2017-06-25T00:00:00      2   \n9344             12   3000000.0       28.10  2017-07-25T00:00:00      1   \n11949             7   4500000.0       44.00  2017-11-24T00:00:00      2   \n14624             8   3770000.0       45.40  2019-03-20T00:00:00      2   \n15296             7   4950000.0       53.00  2018-07-10T00:00:00      2   \n19093             4   3000000.0       31.40  2018-10-19T00:00:00      1   \n20193             3  11809670.0      102.60  2017-04-21T00:00:00      3   \n21773            15   4599000.0       46.00  2018-11-14T00:00:00      2   \n22941             8  10965000.0       69.30  2019-01-10T00:00:00      1   \n\n       ceiling_height  floors_total  living_area  floor  is_apartment  studio  \\\n189              2.65             9       41.500      5         False   False   \n214              2.50             9       31.100      8         False   False   \n2527             2.50             5       28.000      2         False   False   \n4470             2.65             9       15.000      3         False   False   \n7788             2.70             7       33.600      3         False   False   \n9344             2.50             9       17.000      1         False   False   \n11949            2.60             9       30.000      7         False   False   \n14624            2.65             9       28.430      2         False   False   \n15296            2.50             9       33.000      9         False   False   \n19093            2.50             9       15.900      2         False   False   \n20193            2.65             9       58.482      3         False   False   \n21773            2.50             9       28.000      4         False   False   \n22941            3.00             4       48.900      4          True   False   \n\n       open_plan  kitchen_area  balcony    locality_name  airports_nearest  \\\n189        False           8.5        2  Санкт-Петербург           41954.0   \n214        False           7.0        1  Санкт-Петербург           41954.0   \n2527       False           7.9        0        Кронштадт           69775.0   \n4470       False           8.0        1  Санкт-Петербург           41954.0   \n7788       False           7.1        1  Санкт-Петербург           43990.0   \n9344       False           5.6        0  Санкт-Петербург           12051.0   \n11949      False           7.0        0  Санкт-Петербург           11806.0   \n14624      False           6.9        1  Санкт-Петербург           43932.0   \n15296      False           6.8        0  Санкт-Петербург           41954.0   \n19093      False           8.1        1  Санкт-Петербург           41954.0   \n20193      False          17.8        2  Санкт-Петербург           27562.0   \n21773      False           8.0        1  Санкт-Петербург           41954.0   \n22941      False           0.0        2      Зеленогорск           73391.0   \n\n       city_centers_nearest  parks_around3000  parks_nearest  \\\n189                 12168.0               1.0           10.0   \n214                 12168.0               1.0           10.0   \n2527                51500.0               3.0            9.0   \n4470                12168.0               1.0           10.0   \n7788                10661.0               2.0           10.0   \n9344                11665.0               1.0            7.0   \n11949               12292.0               1.0            3.0   \n14624               16436.0               1.0            1.0   \n15296               12168.0               1.0           10.0   \n19093               12168.0               1.0           10.0   \n20193                6410.0               2.0            9.0   \n21773               12168.0               1.0           10.0   \n22941               54490.0               3.0            4.0   \n\n       ponds_around3000  ponds_nearest  days_exposition locality_type  \n189                 0.0            NaN             45.0             0  \n214                 0.0            NaN            274.0             0  \n2527                3.0          345.0            146.0             0  \n4470                0.0            NaN             45.0             0  \n7788                1.0          786.0             88.0             0  \n9344                1.0          780.0            440.0             0  \n11949               1.0          508.0             82.0             0  \n14624               0.0            NaN             42.0             0  \n15296               0.0            NaN             62.0             0  \n19093               0.0            NaN             36.0             0  \n20193               2.0          480.0             90.0             0  \n21773               0.0            NaN             74.0             0  \n22941               1.0          217.0            110.0             0  ",
      "text/html": "<div>\n<style scoped>\n    .dataframe tbody tr th:only-of-type {\n        vertical-align: middle;\n    }\n\n    .dataframe tbody tr th {\n        vertical-align: top;\n    }\n\n    .dataframe thead th {\n        text-align: right;\n    }\n</style>\n<table border=\"1\" class=\"dataframe\">\n  <thead>\n    <tr style=\"text-align: right;\">\n      <th></th>\n      <th>total_images</th>\n      <th>last_price</th>\n      <th>total_area</th>\n      <th>first_day_exposition</th>\n      <th>rooms</th>\n      <th>ceiling_height</th>\n      <th>floors_total</th>\n      <th>living_area</th>\n      <th>floor</th>\n      <th>is_apartment</th>\n      <th>studio</th>\n      <th>open_plan</th>\n      <th>kitchen_area</th>\n      <th>balcony</th>\n      <th>locality_name</th>\n      <th>airports_nearest</th>\n      <th>city_centers_nearest</th>\n      <th>parks_around3000</th>\n      <th>parks_nearest</th>\n      <th>ponds_around3000</th>\n      <th>ponds_nearest</th>\n      <th>days_exposition</th>\n      <th>locality_type</th>\n    </tr>\n  </thead>\n  <tbody>\n    <tr>\n      <th>189</th>\n      <td>0</td>\n      <td>6150000.0</td>\n      <td>62.00</td>\n      <td>2017-10-13T00:00:00</td>\n      <td>3</td>\n      <td>2.65</td>\n      <td>9</td>\n      <td>41.500</td>\n      <td>5</td>\n      <td>False</td>\n      <td>False</td>\n      <td>False</td>\n      <td>8.5</td>\n      <td>2</td>\n      <td>Санкт-Петербург</td>\n      <td>41954.0</td>\n      <td>12168.0</td>\n      <td>1.0</td>\n      <td>10.0</td>\n      <td>0.0</td>\n      <td>NaN</td>\n      <td>45.0</td>\n      <td>0</td>\n    </tr>\n    <tr>\n      <th>214</th>\n      <td>5</td>\n      <td>4150000.0</td>\n      <td>50.41</td>\n      <td>2017-07-20T00:00:00</td>\n      <td>2</td>\n      <td>2.50</td>\n      <td>9</td>\n      <td>31.100</td>\n      <td>8</td>\n      <td>False</td>\n      <td>False</td>\n      <td>False</td>\n      <td>7.0</td>\n      <td>1</td>\n      <td>Санкт-Петербург</td>\n      <td>41954.0</td>\n      <td>12168.0</td>\n      <td>1.0</td>\n      <td>10.0</td>\n      <td>0.0</td>\n      <td>NaN</td>\n      <td>274.0</td>\n      <td>0</td>\n    </tr>\n    <tr>\n      <th>2527</th>\n      <td>8</td>\n      <td>4690000.0</td>\n      <td>60.30</td>\n      <td>2016-03-05T00:00:00</td>\n      <td>2</td>\n      <td>2.50</td>\n      <td>5</td>\n      <td>28.000</td>\n      <td>2</td>\n      <td>False</td>\n      <td>False</td>\n      <td>False</td>\n      <td>7.9</td>\n      <td>0</td>\n      <td>Кронштадт</td>\n      <td>69775.0</td>\n      <td>51500.0</td>\n      <td>3.0</td>\n      <td>9.0</td>\n      <td>3.0</td>\n      <td>345.0</td>\n      <td>146.0</td>\n      <td>0</td>\n    </tr>\n    <tr>\n      <th>4470</th>\n      <td>7</td>\n      <td>2750000.0</td>\n      <td>30.90</td>\n      <td>2017-12-19T00:00:00</td>\n      <td>1</td>\n      <td>2.65</td>\n      <td>9</td>\n      <td>15.000</td>\n      <td>3</td>\n      <td>False</td>\n      <td>False</td>\n      <td>False</td>\n      <td>8.0</td>\n      <td>1</td>\n      <td>Санкт-Петербург</td>\n      <td>41954.0</td>\n      <td>12168.0</td>\n      <td>1.0</td>\n      <td>10.0</td>\n      <td>0.0</td>\n      <td>NaN</td>\n      <td>45.0</td>\n      <td>0</td>\n    </tr>\n    <tr>\n      <th>7788</th>\n      <td>14</td>\n      <td>5550000.0</td>\n      <td>55.10</td>\n      <td>2017-06-25T00:00:00</td>\n      <td>2</td>\n      <td>2.70</td>\n      <td>7</td>\n      <td>33.600</td>\n      <td>3</td>\n      <td>False</td>\n      <td>False</td>\n      <td>False</td>\n      <td>7.1</td>\n      <td>1</td>\n      <td>Санкт-Петербург</td>\n      <td>43990.0</td>\n      <td>10661.0</td>\n      <td>2.0</td>\n      <td>10.0</td>\n      <td>1.0</td>\n      <td>786.0</td>\n      <td>88.0</td>\n      <td>0</td>\n    </tr>\n    <tr>\n      <th>9344</th>\n      <td>12</td>\n      <td>3000000.0</td>\n      <td>28.10</td>\n      <td>2017-07-25T00:00:00</td>\n      <td>1</td>\n      <td>2.50</td>\n      <td>9</td>\n      <td>17.000</td>\n      <td>1</td>\n      <td>False</td>\n      <td>False</td>\n      <td>False</td>\n      <td>5.6</td>\n      <td>0</td>\n      <td>Санкт-Петербург</td>\n      <td>12051.0</td>\n      <td>11665.0</td>\n      <td>1.0</td>\n      <td>7.0</td>\n      <td>1.0</td>\n      <td>780.0</td>\n      <td>440.0</td>\n      <td>0</td>\n    </tr>\n    <tr>\n      <th>11949</th>\n      <td>7</td>\n      <td>4500000.0</td>\n      <td>44.00</td>\n      <td>2017-11-24T00:00:00</td>\n      <td>2</td>\n      <td>2.60</td>\n      <td>9</td>\n      <td>30.000</td>\n      <td>7</td>\n      <td>False</td>\n      <td>False</td>\n      <td>False</td>\n      <td>7.0</td>\n      <td>0</td>\n      <td>Санкт-Петербург</td>\n      <td>11806.0</td>\n      <td>12292.0</td>\n      <td>1.0</td>\n      <td>3.0</td>\n      <td>1.0</td>\n      <td>508.0</td>\n      <td>82.0</td>\n      <td>0</td>\n    </tr>\n    <tr>\n      <th>14624</th>\n      <td>8</td>\n      <td>3770000.0</td>\n      <td>45.40</td>\n      <td>2019-03-20T00:00:00</td>\n      <td>2</td>\n      <td>2.65</td>\n      <td>9</td>\n      <td>28.430</td>\n      <td>2</td>\n      <td>False</td>\n      <td>False</td>\n      <td>False</td>\n      <td>6.9</td>\n      <td>1</td>\n      <td>Санкт-Петербург</td>\n      <td>43932.0</td>\n      <td>16436.0</td>\n      <td>1.0</td>\n      <td>1.0</td>\n      <td>0.0</td>\n      <td>NaN</td>\n      <td>42.0</td>\n      <td>0</td>\n    </tr>\n    <tr>\n      <th>15296</th>\n      <td>7</td>\n      <td>4950000.0</td>\n      <td>53.00</td>\n      <td>2018-07-10T00:00:00</td>\n      <td>2</td>\n      <td>2.50</td>\n      <td>9</td>\n      <td>33.000</td>\n      <td>9</td>\n      <td>False</td>\n      <td>False</td>\n      <td>False</td>\n      <td>6.8</td>\n      <td>0</td>\n      <td>Санкт-Петербург</td>\n      <td>41954.0</td>\n      <td>12168.0</td>\n      <td>1.0</td>\n      <td>10.0</td>\n      <td>0.0</td>\n      <td>NaN</td>\n      <td>62.0</td>\n      <td>0</td>\n    </tr>\n    <tr>\n      <th>19093</th>\n      <td>4</td>\n      <td>3000000.0</td>\n      <td>31.40</td>\n      <td>2018-10-19T00:00:00</td>\n      <td>1</td>\n      <td>2.50</td>\n      <td>9</td>\n      <td>15.900</td>\n      <td>2</td>\n      <td>False</td>\n      <td>False</td>\n      <td>False</td>\n      <td>8.1</td>\n      <td>1</td>\n      <td>Санкт-Петербург</td>\n      <td>41954.0</td>\n      <td>12168.0</td>\n      <td>1.0</td>\n      <td>10.0</td>\n      <td>0.0</td>\n      <td>NaN</td>\n      <td>36.0</td>\n      <td>0</td>\n    </tr>\n    <tr>\n      <th>20193</th>\n      <td>3</td>\n      <td>11809670.0</td>\n      <td>102.60</td>\n      <td>2017-04-21T00:00:00</td>\n      <td>3</td>\n      <td>2.65</td>\n      <td>9</td>\n      <td>58.482</td>\n      <td>3</td>\n      <td>False</td>\n      <td>False</td>\n      <td>False</td>\n      <td>17.8</td>\n      <td>2</td>\n      <td>Санкт-Петербург</td>\n      <td>27562.0</td>\n      <td>6410.0</td>\n      <td>2.0</td>\n      <td>9.0</td>\n      <td>2.0</td>\n      <td>480.0</td>\n      <td>90.0</td>\n      <td>0</td>\n    </tr>\n    <tr>\n      <th>21773</th>\n      <td>15</td>\n      <td>4599000.0</td>\n      <td>46.00</td>\n      <td>2018-11-14T00:00:00</td>\n      <td>2</td>\n      <td>2.50</td>\n      <td>9</td>\n      <td>28.000</td>\n      <td>4</td>\n      <td>False</td>\n      <td>False</td>\n      <td>False</td>\n      <td>8.0</td>\n      <td>1</td>\n      <td>Санкт-Петербург</td>\n      <td>41954.0</td>\n      <td>12168.0</td>\n      <td>1.0</td>\n      <td>10.0</td>\n      <td>0.0</td>\n      <td>NaN</td>\n      <td>74.0</td>\n      <td>0</td>\n    </tr>\n    <tr>\n      <th>22941</th>\n      <td>8</td>\n      <td>10965000.0</td>\n      <td>69.30</td>\n      <td>2019-01-10T00:00:00</td>\n      <td>1</td>\n      <td>3.00</td>\n      <td>4</td>\n      <td>48.900</td>\n      <td>4</td>\n      <td>True</td>\n      <td>False</td>\n      <td>False</td>\n      <td>0.0</td>\n      <td>2</td>\n      <td>Зеленогорск</td>\n      <td>73391.0</td>\n      <td>54490.0</td>\n      <td>3.0</td>\n      <td>4.0</td>\n      <td>1.0</td>\n      <td>217.0</td>\n      <td>110.0</td>\n      <td>0</td>\n    </tr>\n  </tbody>\n</table>\n</div>"
     },
     "metadata": {},
     "output_type": "display_data"
    },
    {
     "data": {
      "text/plain": "count    8079.000000\nmean      490.804555\nstd       342.317995\nmin         1.000000\n25%       288.000000\n50%       455.000000\n75%       612.000000\nmax      3190.000000\nName: parks_nearest, dtype: float64"
     },
     "metadata": {},
     "output_type": "display_data"
    }
   ],
   "source": [
    "display(\n",
    "    real_estate_data.loc[real_estate_data['parks_nearest'] <= 10],\n",
    "    real_estate_data['parks_nearest'].describe()\n",
    ")"
   ],
   "metadata": {
    "collapsed": false,
    "pycharm": {
     "name": "#%%\n"
    }
   }
  },
  {
   "cell_type": "code",
   "execution_count": 107,
   "outputs": [],
   "source": [
    "real_estate_data.loc[(real_estate_data['parks_nearest'].isna())\n",
    "                    & (real_estate_data['parks_around3000'] == 0)\n",
    "                    , 'parks_nearest'\n",
    "] = 8888\n"
   ],
   "metadata": {
    "collapsed": false,
    "pycharm": {
     "name": "#%%\n"
    }
   }
  },
  {
   "cell_type": "code",
   "execution_count": 108,
   "outputs": [
    {
     "data": {
      "text/plain": "0             Кудрово\n1            Коммунар\n2           Сертолово\n3              Выборг\n4             Кировск\n5              Волхов\n6           Кингисепп\n7           Приозерск\n8          Всеволожск\n9              Мурино\n10          Ивангород\n11             Сланцы\n12          Сясьстрой\n13         Никольское\n14       Сосновый Бор\n15             Кириши\n16               Луга\n17           Отрадное\n18    Санкт-Петербург\n19           Волосово\n20           Пикалёво\n21            Гатчина\n22         Подпорожье\n23             Тихвин\n24              Тосно\n25           Приморск\n26       Шлиссельбург\n27       Бокситогорск\n28      Лодейное Поле\n29       Новая Ладога\n30         Светогорск\n31             Любань\n32       Каменногорск\n33          Ломоносов\n34             Высоцк\ndtype: category\nCategories (305, object): ['Агалатово', 'Александровская', 'Алексеевка', 'Аннино', ..., 'Ялгино', 'Яльгелево', 'Ям-Тесово', 'Янино-1']"
     },
     "metadata": {},
     "output_type": "display_data"
    },
    {
     "name": "stderr",
     "output_type": "stream",
     "text": [
      "/Library/Frameworks/Python.framework/Versions/3.9/lib/python3.9/site-packages/numpy/lib/nanfunctions.py:1216: RuntimeWarning: Mean of empty slice\n",
      "  return np.nanmean(a, axis, out=out, keepdims=keepdims)\n",
      "/Library/Frameworks/Python.framework/Versions/3.9/lib/python3.9/site-packages/numpy/lib/nanfunctions.py:1216: RuntimeWarning: Mean of empty slice\n",
      "  return np.nanmean(a, axis, out=out, keepdims=keepdims)\n",
      "/Library/Frameworks/Python.framework/Versions/3.9/lib/python3.9/site-packages/numpy/lib/nanfunctions.py:1216: RuntimeWarning: Mean of empty slice\n",
      "  return np.nanmean(a, axis, out=out, keepdims=keepdims)\n",
      "/Library/Frameworks/Python.framework/Versions/3.9/lib/python3.9/site-packages/numpy/lib/nanfunctions.py:1216: RuntimeWarning: Mean of empty slice\n",
      "  return np.nanmean(a, axis, out=out, keepdims=keepdims)\n",
      "/Library/Frameworks/Python.framework/Versions/3.9/lib/python3.9/site-packages/numpy/lib/nanfunctions.py:1216: RuntimeWarning: Mean of empty slice\n",
      "  return np.nanmean(a, axis, out=out, keepdims=keepdims)\n",
      "/Library/Frameworks/Python.framework/Versions/3.9/lib/python3.9/site-packages/numpy/lib/nanfunctions.py:1216: RuntimeWarning: Mean of empty slice\n",
      "  return np.nanmean(a, axis, out=out, keepdims=keepdims)\n",
      "/Library/Frameworks/Python.framework/Versions/3.9/lib/python3.9/site-packages/numpy/lib/nanfunctions.py:1216: RuntimeWarning: Mean of empty slice\n",
      "  return np.nanmean(a, axis, out=out, keepdims=keepdims)\n",
      "/Library/Frameworks/Python.framework/Versions/3.9/lib/python3.9/site-packages/numpy/lib/nanfunctions.py:1216: RuntimeWarning: Mean of empty slice\n",
      "  return np.nanmean(a, axis, out=out, keepdims=keepdims)\n",
      "/Library/Frameworks/Python.framework/Versions/3.9/lib/python3.9/site-packages/numpy/lib/nanfunctions.py:1216: RuntimeWarning: Mean of empty slice\n",
      "  return np.nanmean(a, axis, out=out, keepdims=keepdims)\n",
      "/Library/Frameworks/Python.framework/Versions/3.9/lib/python3.9/site-packages/numpy/lib/nanfunctions.py:1216: RuntimeWarning: Mean of empty slice\n",
      "  return np.nanmean(a, axis, out=out, keepdims=keepdims)\n",
      "/Library/Frameworks/Python.framework/Versions/3.9/lib/python3.9/site-packages/numpy/lib/nanfunctions.py:1216: RuntimeWarning: Mean of empty slice\n",
      "  return np.nanmean(a, axis, out=out, keepdims=keepdims)\n",
      "/Library/Frameworks/Python.framework/Versions/3.9/lib/python3.9/site-packages/numpy/lib/nanfunctions.py:1216: RuntimeWarning: Mean of empty slice\n",
      "  return np.nanmean(a, axis, out=out, keepdims=keepdims)\n",
      "/Library/Frameworks/Python.framework/Versions/3.9/lib/python3.9/site-packages/numpy/lib/nanfunctions.py:1216: RuntimeWarning: Mean of empty slice\n",
      "  return np.nanmean(a, axis, out=out, keepdims=keepdims)\n",
      "/Library/Frameworks/Python.framework/Versions/3.9/lib/python3.9/site-packages/numpy/lib/nanfunctions.py:1216: RuntimeWarning: Mean of empty slice\n",
      "  return np.nanmean(a, axis, out=out, keepdims=keepdims)\n",
      "/Library/Frameworks/Python.framework/Versions/3.9/lib/python3.9/site-packages/numpy/lib/nanfunctions.py:1216: RuntimeWarning: Mean of empty slice\n",
      "  return np.nanmean(a, axis, out=out, keepdims=keepdims)\n",
      "/Library/Frameworks/Python.framework/Versions/3.9/lib/python3.9/site-packages/numpy/lib/nanfunctions.py:1216: RuntimeWarning: Mean of empty slice\n",
      "  return np.nanmean(a, axis, out=out, keepdims=keepdims)\n",
      "/Library/Frameworks/Python.framework/Versions/3.9/lib/python3.9/site-packages/numpy/lib/nanfunctions.py:1216: RuntimeWarning: Mean of empty slice\n",
      "  return np.nanmean(a, axis, out=out, keepdims=keepdims)\n",
      "/Library/Frameworks/Python.framework/Versions/3.9/lib/python3.9/site-packages/numpy/lib/nanfunctions.py:1216: RuntimeWarning: Mean of empty slice\n",
      "  return np.nanmean(a, axis, out=out, keepdims=keepdims)\n",
      "/Library/Frameworks/Python.framework/Versions/3.9/lib/python3.9/site-packages/numpy/lib/nanfunctions.py:1216: RuntimeWarning: Mean of empty slice\n",
      "  return np.nanmean(a, axis, out=out, keepdims=keepdims)\n",
      "/Library/Frameworks/Python.framework/Versions/3.9/lib/python3.9/site-packages/numpy/lib/nanfunctions.py:1216: RuntimeWarning: Mean of empty slice\n",
      "  return np.nanmean(a, axis, out=out, keepdims=keepdims)\n",
      "/Library/Frameworks/Python.framework/Versions/3.9/lib/python3.9/site-packages/numpy/lib/nanfunctions.py:1216: RuntimeWarning: Mean of empty slice\n",
      "  return np.nanmean(a, axis, out=out, keepdims=keepdims)\n",
      "/Library/Frameworks/Python.framework/Versions/3.9/lib/python3.9/site-packages/numpy/lib/nanfunctions.py:1216: RuntimeWarning: Mean of empty slice\n",
      "  return np.nanmean(a, axis, out=out, keepdims=keepdims)\n",
      "/Library/Frameworks/Python.framework/Versions/3.9/lib/python3.9/site-packages/numpy/lib/nanfunctions.py:1216: RuntimeWarning: Mean of empty slice\n",
      "  return np.nanmean(a, axis, out=out, keepdims=keepdims)\n",
      "/Library/Frameworks/Python.framework/Versions/3.9/lib/python3.9/site-packages/numpy/lib/nanfunctions.py:1216: RuntimeWarning: Mean of empty slice\n",
      "  return np.nanmean(a, axis, out=out, keepdims=keepdims)\n",
      "/Library/Frameworks/Python.framework/Versions/3.9/lib/python3.9/site-packages/numpy/lib/nanfunctions.py:1216: RuntimeWarning: Mean of empty slice\n",
      "  return np.nanmean(a, axis, out=out, keepdims=keepdims)\n",
      "/Library/Frameworks/Python.framework/Versions/3.9/lib/python3.9/site-packages/numpy/lib/nanfunctions.py:1216: RuntimeWarning: Mean of empty slice\n",
      "  return np.nanmean(a, axis, out=out, keepdims=keepdims)\n",
      "/Library/Frameworks/Python.framework/Versions/3.9/lib/python3.9/site-packages/numpy/lib/nanfunctions.py:1216: RuntimeWarning: Mean of empty slice\n",
      "  return np.nanmean(a, axis, out=out, keepdims=keepdims)\n",
      "/Library/Frameworks/Python.framework/Versions/3.9/lib/python3.9/site-packages/numpy/lib/nanfunctions.py:1216: RuntimeWarning: Mean of empty slice\n",
      "  return np.nanmean(a, axis, out=out, keepdims=keepdims)\n",
      "/Library/Frameworks/Python.framework/Versions/3.9/lib/python3.9/site-packages/numpy/lib/nanfunctions.py:1216: RuntimeWarning: Mean of empty slice\n",
      "  return np.nanmean(a, axis, out=out, keepdims=keepdims)\n",
      "/Library/Frameworks/Python.framework/Versions/3.9/lib/python3.9/site-packages/numpy/lib/nanfunctions.py:1216: RuntimeWarning: Mean of empty slice\n",
      "  return np.nanmean(a, axis, out=out, keepdims=keepdims)\n",
      "/Library/Frameworks/Python.framework/Versions/3.9/lib/python3.9/site-packages/numpy/lib/nanfunctions.py:1216: RuntimeWarning: Mean of empty slice\n",
      "  return np.nanmean(a, axis, out=out, keepdims=keepdims)\n",
      "/Library/Frameworks/Python.framework/Versions/3.9/lib/python3.9/site-packages/numpy/lib/nanfunctions.py:1216: RuntimeWarning: Mean of empty slice\n",
      "  return np.nanmean(a, axis, out=out, keepdims=keepdims)\n",
      "/Library/Frameworks/Python.framework/Versions/3.9/lib/python3.9/site-packages/numpy/lib/nanfunctions.py:1216: RuntimeWarning: Mean of empty slice\n",
      "  return np.nanmean(a, axis, out=out, keepdims=keepdims)\n",
      "/Library/Frameworks/Python.framework/Versions/3.9/lib/python3.9/site-packages/numpy/lib/nanfunctions.py:1216: RuntimeWarning: Mean of empty slice\n",
      "  return np.nanmean(a, axis, out=out, keepdims=keepdims)\n",
      "/Library/Frameworks/Python.framework/Versions/3.9/lib/python3.9/site-packages/numpy/lib/nanfunctions.py:1216: RuntimeWarning: Mean of empty slice\n",
      "  return np.nanmean(a, axis, out=out, keepdims=keepdims)\n"
     ]
    },
    {
     "data": {
      "text/plain": "count    23699.000000\nmean      6025.392211\nstd       3985.469394\nmin          1.000000\n25%        601.000000\n50%       8888.000000\n75%       8888.000000\nmax       8888.000000\nName: parks_nearest, dtype: float64"
     },
     "metadata": {},
     "output_type": "display_data"
    }
   ],
   "source": [
    "types_na_parks_nrst = pd.Series(\n",
    "                real_estate_data.loc[\n",
    "                    real_estate_data['parks_nearest'].isna()\n",
    "                    , 'locality_name'\n",
    "                ].unique()\n",
    ")\n",
    "\n",
    "display(types_na_parks_nrst)\n",
    "\n",
    "real_estate_data.loc[real_estate_data['parks_nearest'].isna()\n",
    "                    , 'parks_nearest'\n",
    "] = types_na_parks_nrst.apply(lambda pt:\n",
    "        real_estate_data.loc[\n",
    "            (real_estate_data['parks_nearest'].isna())\n",
    "            & (real_estate_data['locality_name'] == pt)\n",
    "            , 'parks_nearest'\n",
    "        ].median()\n",
    "    )\n",
    "\n",
    "real_estate_data[\n",
    "    'parks_nearest'\n",
    "].fillna(value=8888, inplace=True)\n",
    "\n",
    "display(\n",
    "    real_estate_data['parks_nearest'].describe()\n",
    ")"
   ],
   "metadata": {
    "collapsed": false,
    "pycharm": {
     "name": "#%%\n"
    }
   }
  },
  {
   "cell_type": "markdown",
   "source": [
    "❌ 'ponds_around3000' — проверим по районам, может и нет ближайших прудов тогда `NaN` = 0"
   ],
   "metadata": {
    "collapsed": false,
    "pycharm": {
     "name": "#%% md\n"
    }
   }
  },
  {
   "cell_type": "code",
   "execution_count": 83,
   "outputs": [
    {
     "name": "stdout",
     "output_type": "stream",
     "text": [
      "<class 'pandas.core.series.Series'>\n",
      "RangeIndex: 23699 entries, 0 to 23698\n",
      "Series name: ponds_around3000\n",
      "Non-Null Count  Dtype  \n",
      "--------------  -----  \n",
      "23699 non-null  float64\n",
      "dtypes: float64(1)\n",
      "memory usage: 185.3 KB\n"
     ]
    },
    {
     "data": {
      "text/plain": "None"
     },
     "metadata": {},
     "output_type": "display_data"
    }
   ],
   "source": [
    "lclt_2_pnds_mdn = list(\n",
    "    real_estate_data.loc[\n",
    "        real_estate_data['ponds_around3000'].notna()\n",
    "        , 'locality_name'\n",
    "    ].unique()\n",
    ")\n",
    "\n",
    "real_estate_data.loc[\n",
    "    real_estate_data['ponds_around3000'].isna()\n",
    "    , 'ponds_around3000'\n",
    "] = real_estate_data.loc[\n",
    "        real_estate_data['ponds_around3000'].isna()\n",
    "        , 'locality_name'\n",
    "    ].apply(lambda lctn:\n",
    "        round(\n",
    "            real_estate_data.loc[\n",
    "                real_estate_data['locality_name'] == lctn\n",
    "                , 'ponds_around3000'\n",
    "            ].median()\n",
    "        ) if lctn in lclt_2_pnds_mdn else 0)\n",
    "\n",
    "display(\n",
    "  real_estate_data['ponds_around3000'].info()\n",
    ")"
   ],
   "metadata": {
    "collapsed": false,
    "pycharm": {
     "name": "#%%\n"
    }
   }
  },
  {
   "cell_type": "markdown",
   "source": [
    "❌ 'ponds_nearest'"
   ],
   "metadata": {
    "collapsed": false,
    "pycharm": {
     "name": "#%% md\n"
    }
   }
  },
  {
   "cell_type": "code",
   "execution_count": 87,
   "outputs": [
    {
     "name": "stdout",
     "output_type": "stream",
     "text": [
      "<class 'pandas.core.series.Series'>\n",
      "RangeIndex: 23699 entries, 0 to 23698\n",
      "Series name: ponds_nearest\n",
      "Non-Null Count  Dtype  \n",
      "--------------  -----  \n",
      "23699 non-null  float64\n",
      "dtypes: float64(1)\n",
      "memory usage: 185.3 KB\n"
     ]
    },
    {
     "data": {
      "text/plain": "None"
     },
     "metadata": {},
     "output_type": "display_data"
    }
   ],
   "source": [
    "lclt_2_pnds_nrst_mdn = list(\n",
    "    real_estate_data.loc[\n",
    "        real_estate_data['ponds_nearest'].notna()\n",
    "        , 'locality_name'\n",
    "    ].unique()\n",
    ")\n",
    "\n",
    "real_estate_data.loc[\n",
    "    real_estate_data['ponds_around3000'] == 0\n",
    "    , 'ponds_nearest'\n",
    "].fillna(8888, inplace=True)\n",
    "\n",
    "real_estate_data.loc[\n",
    "    real_estate_data['ponds_nearest'].isna()\n",
    "    , 'ponds_nearest'\n",
    "] = real_estate_data.loc[\n",
    "        real_estate_data['ponds_nearest'].isna()\n",
    "        , 'locality_name'\n",
    "    ].apply(lambda lcpn:\n",
    "                round(\n",
    "                    real_estate_data.loc[\n",
    "                        real_estate_data['locality_name'] == lcpn\n",
    "                        , 'ponds_nearest'\n",
    "                    ].median()\n",
    "                )\n",
    "                if lcpn in lclt_2_pnds_nrst_mdn\n",
    "                else 8888\n",
    "            )\n",
    "\n",
    "display(\n",
    "    real_estate_data['ponds_nearest'].info()\n",
    ")"
   ],
   "metadata": {
    "collapsed": false,
    "pycharm": {
     "name": "#%%\n"
    }
   }
  },
  {
   "cell_type": "markdown",
   "source": [
    "❌ 'days_exposition' — посмотрим как связан столбец с `first_day_exposition`"
   ],
   "metadata": {
    "collapsed": false,
    "pycharm": {
     "name": "#%% md\n"
    }
   }
  },
  {
   "cell_type": "code",
   "execution_count": null,
   "outputs": [],
   "source": [],
   "metadata": {
    "collapsed": false,
    "pycharm": {
     "name": "#%%\n"
    }
   }
  },
  {
   "cell_type": "raw",
   "source": [
    "display(\n",
    "    len(real_estate_data.loc[real_estate_data['parks_around3000'].isna()]['parks_nearest']),\n",
    "    len(real_estate_data.loc[real_estate_data['parks_around3000'] == 0]['parks_nearest'].unique()),\n",
    "    (real_estate_data.loc[(real_estate_data['parks_around3000'] == 0)\n",
    "                             and (real_estate_data['parks_nearest'].isna())]['rooms'].count()),\n",
    "    \n",
    ")"
   ],
   "metadata": {
    "collapsed": false,
    "pycharm": {
     "name": "#%% raw\n"
    }
   }
  },
  {
   "cell_type": "raw",
   "source": [
    "real_estate_data['first_day_exposition'] = pd.to_datetime(real_estate_data['first_day_exposition'], format='%d/%m/%YT%h%m%s')"
   ],
   "metadata": {
    "collapsed": false,
    "pycharm": {
     "name": "#%% raw\n"
    }
   }
  },
  {
   "cell_type": "raw",
   "source": [
    "display(\n",
    "    real_estate_data['first_day_exposition'].describe()\n",
    ")"
   ],
   "metadata": {
    "collapsed": false,
    "pycharm": {
     "name": "#%% raw\n"
    }
   }
  },
  {
   "cell_type": "raw",
   "source": [
    "display(\n",
    "    real_estate_data.loc[real_estate_data['locality_name'].isna()].head()\n",
    ")\n",
    "#real_estate_data['locality_name'].fillna(value=False, inplace=True)\n"
   ],
   "metadata": {
    "collapsed": false,
    "pycharm": {
     "name": "#%% raw\n"
    }
   }
  },
  {
   "cell_type": "raw",
   "source": [
    "display(\n",
    "    real_estate_data.loc[real_estate_data['cityCenters_nearest'].isna()]['locality_name'].unique(),\n",
    "    len(real_estate_data.loc[real_estate_data['cityCenters_nearest'].isna()]['locality_name'].unique())\n",
    ")\n",
    "#real_estate_data['locality_name'].fillna(value=False, inplace=True)\n"
   ],
   "metadata": {
    "collapsed": false,
    "pycharm": {
     "name": "#%% raw\n"
    }
   }
  },
  {
   "cell_type": "raw",
   "source": [
    "display(\n",
    "    \n",
    "    real_estate_data['cityCenters_nearest'] = (\n",
    "        real_estate_data.loc[real_estate_data['cityCenters_nearest'].isna()]['locality_name'].unique()\n",
    "    ),\n",
    "    len(real_estate_data.loc[real_estate_data['cityCenters_nearest'].isna()]['locality_name'].unique())\n",
    ")\n",
    "#real_estate_data['locality_name'].fillna(value=False, inplace=True)\n"
   ],
   "metadata": {
    "collapsed": false,
    "pycharm": {
     "name": "#%% raw\n"
    }
   }
  },
  {
   "cell_type": "raw",
   "source": [
    "display(\n",
    "    real_estate_data.loc[real_estate_data['studio'] == True].head(),\n",
    "    len(real_estate_data.loc[real_estate_data['studio'] == True])\n",
    ")\n",
    "#real_estate_data['locality_name'].fillna(value=False, inplace=True)\n"
   ],
   "metadata": {
    "collapsed": false,
    "pycharm": {
     "name": "#%% raw\n"
    }
   }
  },
  {
   "cell_type": "markdown",
   "id": "12549786-af24-423e-a57b-70f5005283d3",
   "metadata": {
    "pycharm": {
     "name": "#%% md\n"
    }
   },
   "source": [
    "`ceiling_height` — пропуски заменим медианой по району `locality_name`"
   ]
  },
  {
   "cell_type": "raw",
   "source": [
    "display(real_estate_data.info())"
   ],
   "metadata": {
    "collapsed": false,
    "pycharm": {
     "name": "#%% raw\n"
    }
   }
  },
  {
   "cell_type": "markdown",
   "id": "18813c44-fc26-4a3e-80b9-1f30ef016083",
   "metadata": {
    "pycharm": {
     "name": "#%% md\n"
    }
   },
   "source": [
    "Приведите данные к нужным типам:\n",
    "Поясните, в каких столбцах нужно изменить тип данных и почему."
   ]
  },
  {
   "cell_type": "raw",
   "source": [
    "real_estate_data.astype(\n",
    "        {\n",
    "            'total_images': 'uint16',\n",
    "            'rooms':'uint8',\n",
    "            'ceiling_height':'float16',\n",
    "            'floors_total':'uint16',\n",
    "            'floor':'int16',\n",
    "            'parks_around3000':'uint8',\n",
    "            'ponds_around3000':'uint8',\n",
    "            'is_apartment': 'bool',\n",
    "        }\n",
    "    ).dtypes\n"
   ],
   "metadata": {
    "collapsed": false,
    "pycharm": {
     "name": "#%% raw\n"
    }
   }
  },
  {
   "cell_type": "markdown",
   "id": "73e5dead-aa24-4c06-abb5-048e1fc02466",
   "metadata": {
    "pycharm": {
     "name": "#%% md\n"
    }
   },
   "source": [
    "## Шаг 3. Посчитайте и добавьте в таблицу"
   ]
  },
  {
   "cell_type": "markdown",
   "id": "2bc15c1b-f3ae-4ddd-b8a5-7c84731c2cf3",
   "metadata": {
    "pycharm": {
     "name": "#%% md\n"
    }
   },
   "source": [
    "цену квадратного метра;\n",
    "день недели, месяц и год публикации объявления;\n",
    "этаж квартиры; варианты — первый, последний, другой;\n",
    "соотношение жилой и общей площади, а также отношение площади кухни к общей."
   ]
  },
  {
   "cell_type": "markdown",
   "id": "19573908-64a5-4a3e-aae0-93e9e3849f09",
   "metadata": {
    "pycharm": {
     "name": "#%% md\n"
    }
   },
   "source": [
    "## Шаг 4. Проведите исследовательский анализ данных"
   ]
  },
  {
   "cell_type": "markdown",
   "id": "ae400e0a-db8f-49d5-afe8-2e30713d5f69",
   "metadata": {
    "pycharm": {
     "name": "#%% md\n"
    }
   },
   "source": [
    "Изучите следующие параметры: площадь, цена, число комнат, высота потолков. Постройте гистограммы для каждого параметра.\n",
    "Изучите время продажи квартиры. Постройте гистограмму. Посчитайте среднее и медиану. Опишите, сколько обычно занимает продажа. Когда можно считать, что продажи прошли очень быстро, а когда необычно долго?\n",
    "Уберите редкие и выбивающиеся значения. Опишите, какие особенности обнаружили.\n",
    "Какие факторы больше всего влияют на стоимость квартиры? Изучите, зависит ли цена от площади, числа комнат, удалённости от центра. Изучите зависимость цены от того, на каком этаже расположена квартира: первом, последнем или другом. Также изучите зависимость от даты размещения: дня недели, месяца и года.\n",
    "Выберите 10 населённых пунктов с наибольшим числом объявлений. Посчитайте среднюю цену квадратного метра в этих населённых пунктах. Выделите среди них населённые пункты с самой высокой и низкой стоимостью жилья. Эти данные можно найти по имени в столбце locality_name.\n",
    "Изучите предложения квартир: для каждой квартиры есть информация о расстоянии до центра. Выделите квартиры в Санкт-Петербурге (locality_name). Ваша задача — выяснить, какая область входит в центр. Создайте столбец с расстоянием до центра в километрах: округлите до целых значений. После этого посчитайте среднюю цену для каждого километра. Постройте график: он должен показывать, как цена зависит от удалённости от центра. Определите границу, где график сильно меняется, — это и будет центральная зона.\n",
    "Выделите сегмент квартир в центре. Проанализируйте эту территорию и изучите следующие параметры: площадь, цена, число комнат, высота потолков. Также выделите факторы, которые влияют на стоимость квартиры (число комнат, этаж, удалённость от центра, дата размещения объявления). Сделайте выводы. Отличаются ли они от общих выводов по всей базе?"
   ]
  },
  {
   "cell_type": "markdown",
   "id": "7e8eeba9-9ce7-4667-b2f7-9803f8e96981",
   "metadata": {
    "pycharm": {
     "name": "#%% md\n"
    }
   },
   "source": [
    "## Шаг 5. Напишите общий вывод"
   ]
  },
  {
   "cell_type": "markdown",
   "id": "4249c9b5-fa0f-4d37-926f-2d98cfd09aa6",
   "metadata": {
    "pycharm": {
     "name": "#%% md\n"
    }
   },
   "source": []
  },
  {
   "cell_type": "markdown",
   "id": "d6880528-3412-4779-848f-e70868ef75f6",
   "metadata": {
    "pycharm": {
     "name": "#%% md\n"
    }
   },
   "source": [
    "## Описание данных"
   ]
  },
  {
   "cell_type": "markdown",
   "id": "e0a7df0f-acd8-4bd7-a3d8-db264d88876b",
   "metadata": {
    "pycharm": {
     "name": "#%% md\n"
    }
   },
   "source": [
    "`airports_nearest` — расстояние до ближайшего аэропорта в метрах (м)\n",
    "\n",
    "`balcony` — число балконов\n",
    "\n",
    "`ceiling_height` — высота потолков (м)\n",
    "\n",
    "`cityCenters_nearest` — расстояние до центра города (м)\n",
    "\n",
    "`days_exposition` — сколько дней было размещено объявление (от публикации до снятия)\n",
    "\n",
    "`first_day_exposition` — дата публикации\n",
    "\n",
    "`floor` — этаж\n",
    "\n",
    "`floors_total` — всего этажей в доме\n",
    "\n",
    "`is_apartment` — апартаменты (булев тип)\n",
    "\n",
    "`kitchen_area` — площадь кухни в квадратных метрах (м²)\n",
    "\n",
    "`last_price` — цена на момент снятия с публикации\n",
    "\n",
    "`living_area` — жилая площадь в квадратных метрах (м²)\n",
    "\n",
    "`locality_name` — название населённого пункта\n",
    "\n",
    "`open_plan` — свободная планировка (булев тип)\n",
    "\n",
    "`parks_around3000` — число парков в радиусе 3 км\n",
    "\n",
    "`parks_nearest` — расстояние до ближайшего парка (м)\n",
    "\n",
    "`ponds_around3000` — число водоёмов в радиусе 3 км\n",
    "\n",
    "`ponds_nearest` — расстояние до ближайшего водоёма (м)\n",
    "\n",
    "`rooms` — число комнат\n",
    "\n",
    "`studio` — квартира-студия (булев тип)\n",
    "\n",
    "`total_area` — площадь квартиры в квадратных метрах (м²)\n",
    "\n",
    "`total_images` — число фотографий квартиры в объявлении"
   ]
  }
 ],
 "metadata": {
  "kernelspec": {
   "display_name": "Python 3 (ipykernel)",
   "language": "python",
   "name": "python3"
  },
  "language_info": {
   "codemirror_mode": {
    "name": "ipython",
    "version": 3
   },
   "file_extension": ".py",
   "mimetype": "text/x-python",
   "name": "python",
   "nbconvert_exporter": "python",
   "pygments_lexer": "ipython3",
   "version": "3.9.11"
  }
 },
 "nbformat": 4,
 "nbformat_minor": 5
}