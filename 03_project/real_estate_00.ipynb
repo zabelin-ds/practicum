{
 "cells": [
  {
   "cell_type": "markdown",
   "id": "70fffcea-4e44-411a-9c1d-d8f1c0871384",
   "metadata": {},
   "source": [
    "# Яндекс Недвижимость"
   ]
  },
  {
   "cell_type": "markdown",
   "id": "6fbe0e76-5e2e-4122-9159-3c9d703e5215",
   "metadata": {},
   "source": [
    "## Шаг 1. Откройте файл с данными и изучите общую информацию"
   ]
  },
  {
   "cell_type": "code",
   "execution_count": 1,
   "id": "fed0f59d-416b-4384-a4bb-bcec2a706d41",
   "metadata": {},
   "outputs": [],
   "source": [
    "import pandas as pd"
   ]
  },
  {
   "cell_type": "code",
   "execution_count": 2,
   "id": "430c2fd6-8ff0-45e4-b76f-be5ef7dd0718",
   "metadata": {},
   "outputs": [],
   "source": [
    "real_estate_data = pd.read_csv('./datasets/real_estate_data.csv', sep='\\t')"
   ]
  },
  {
   "cell_type": "code",
   "execution_count": 3,
   "id": "30bbf488-1da5-4998-8461-d039ca6099f8",
   "metadata": {},
   "outputs": [
    {
     "data": {
      "text/html": [
       "<div>\n",
       "<style scoped>\n",
       "    .dataframe tbody tr th:only-of-type {\n",
       "        vertical-align: middle;\n",
       "    }\n",
       "\n",
       "    .dataframe tbody tr th {\n",
       "        vertical-align: top;\n",
       "    }\n",
       "\n",
       "    .dataframe thead th {\n",
       "        text-align: right;\n",
       "    }\n",
       "</style>\n",
       "<table border=\"1\" class=\"dataframe\">\n",
       "  <thead>\n",
       "    <tr style=\"text-align: right;\">\n",
       "      <th></th>\n",
       "      <th>total_images</th>\n",
       "      <th>last_price</th>\n",
       "      <th>total_area</th>\n",
       "      <th>first_day_exposition</th>\n",
       "      <th>rooms</th>\n",
       "      <th>ceiling_height</th>\n",
       "      <th>floors_total</th>\n",
       "      <th>living_area</th>\n",
       "      <th>floor</th>\n",
       "      <th>is_apartment</th>\n",
       "      <th>...</th>\n",
       "      <th>kitchen_area</th>\n",
       "      <th>balcony</th>\n",
       "      <th>locality_name</th>\n",
       "      <th>airports_nearest</th>\n",
       "      <th>cityCenters_nearest</th>\n",
       "      <th>parks_around3000</th>\n",
       "      <th>parks_nearest</th>\n",
       "      <th>ponds_around3000</th>\n",
       "      <th>ponds_nearest</th>\n",
       "      <th>days_exposition</th>\n",
       "    </tr>\n",
       "  </thead>\n",
       "  <tbody>\n",
       "    <tr>\n",
       "      <th>0</th>\n",
       "      <td>20</td>\n",
       "      <td>13000000.0</td>\n",
       "      <td>108.0</td>\n",
       "      <td>2019-03-07T00:00:00</td>\n",
       "      <td>3</td>\n",
       "      <td>2.70</td>\n",
       "      <td>16.0</td>\n",
       "      <td>51.0</td>\n",
       "      <td>8</td>\n",
       "      <td>NaN</td>\n",
       "      <td>...</td>\n",
       "      <td>25.0</td>\n",
       "      <td>NaN</td>\n",
       "      <td>Санкт-Петербург</td>\n",
       "      <td>18863.0</td>\n",
       "      <td>16028.0</td>\n",
       "      <td>1.0</td>\n",
       "      <td>482.0</td>\n",
       "      <td>2.0</td>\n",
       "      <td>755.0</td>\n",
       "      <td>NaN</td>\n",
       "    </tr>\n",
       "    <tr>\n",
       "      <th>1</th>\n",
       "      <td>7</td>\n",
       "      <td>3350000.0</td>\n",
       "      <td>40.4</td>\n",
       "      <td>2018-12-04T00:00:00</td>\n",
       "      <td>1</td>\n",
       "      <td>NaN</td>\n",
       "      <td>11.0</td>\n",
       "      <td>18.6</td>\n",
       "      <td>1</td>\n",
       "      <td>NaN</td>\n",
       "      <td>...</td>\n",
       "      <td>11.0</td>\n",
       "      <td>2.0</td>\n",
       "      <td>посёлок Шушары</td>\n",
       "      <td>12817.0</td>\n",
       "      <td>18603.0</td>\n",
       "      <td>0.0</td>\n",
       "      <td>NaN</td>\n",
       "      <td>0.0</td>\n",
       "      <td>NaN</td>\n",
       "      <td>81.0</td>\n",
       "    </tr>\n",
       "    <tr>\n",
       "      <th>2</th>\n",
       "      <td>10</td>\n",
       "      <td>5196000.0</td>\n",
       "      <td>56.0</td>\n",
       "      <td>2015-08-20T00:00:00</td>\n",
       "      <td>2</td>\n",
       "      <td>NaN</td>\n",
       "      <td>5.0</td>\n",
       "      <td>34.3</td>\n",
       "      <td>4</td>\n",
       "      <td>NaN</td>\n",
       "      <td>...</td>\n",
       "      <td>8.3</td>\n",
       "      <td>0.0</td>\n",
       "      <td>Санкт-Петербург</td>\n",
       "      <td>21741.0</td>\n",
       "      <td>13933.0</td>\n",
       "      <td>1.0</td>\n",
       "      <td>90.0</td>\n",
       "      <td>2.0</td>\n",
       "      <td>574.0</td>\n",
       "      <td>558.0</td>\n",
       "    </tr>\n",
       "    <tr>\n",
       "      <th>3</th>\n",
       "      <td>0</td>\n",
       "      <td>64900000.0</td>\n",
       "      <td>159.0</td>\n",
       "      <td>2015-07-24T00:00:00</td>\n",
       "      <td>3</td>\n",
       "      <td>NaN</td>\n",
       "      <td>14.0</td>\n",
       "      <td>NaN</td>\n",
       "      <td>9</td>\n",
       "      <td>NaN</td>\n",
       "      <td>...</td>\n",
       "      <td>NaN</td>\n",
       "      <td>0.0</td>\n",
       "      <td>Санкт-Петербург</td>\n",
       "      <td>28098.0</td>\n",
       "      <td>6800.0</td>\n",
       "      <td>2.0</td>\n",
       "      <td>84.0</td>\n",
       "      <td>3.0</td>\n",
       "      <td>234.0</td>\n",
       "      <td>424.0</td>\n",
       "    </tr>\n",
       "    <tr>\n",
       "      <th>4</th>\n",
       "      <td>2</td>\n",
       "      <td>10000000.0</td>\n",
       "      <td>100.0</td>\n",
       "      <td>2018-06-19T00:00:00</td>\n",
       "      <td>2</td>\n",
       "      <td>3.03</td>\n",
       "      <td>14.0</td>\n",
       "      <td>32.0</td>\n",
       "      <td>13</td>\n",
       "      <td>NaN</td>\n",
       "      <td>...</td>\n",
       "      <td>41.0</td>\n",
       "      <td>NaN</td>\n",
       "      <td>Санкт-Петербург</td>\n",
       "      <td>31856.0</td>\n",
       "      <td>8098.0</td>\n",
       "      <td>2.0</td>\n",
       "      <td>112.0</td>\n",
       "      <td>1.0</td>\n",
       "      <td>48.0</td>\n",
       "      <td>121.0</td>\n",
       "    </tr>\n",
       "  </tbody>\n",
       "</table>\n",
       "<p>5 rows × 22 columns</p>\n",
       "</div>"
      ],
      "text/plain": [
       "   total_images  last_price  total_area first_day_exposition  rooms  \\\n",
       "0            20  13000000.0       108.0  2019-03-07T00:00:00      3   \n",
       "1             7   3350000.0        40.4  2018-12-04T00:00:00      1   \n",
       "2            10   5196000.0        56.0  2015-08-20T00:00:00      2   \n",
       "3             0  64900000.0       159.0  2015-07-24T00:00:00      3   \n",
       "4             2  10000000.0       100.0  2018-06-19T00:00:00      2   \n",
       "\n",
       "   ceiling_height  floors_total  living_area  floor is_apartment  ...  \\\n",
       "0            2.70          16.0         51.0      8          NaN  ...   \n",
       "1             NaN          11.0         18.6      1          NaN  ...   \n",
       "2             NaN           5.0         34.3      4          NaN  ...   \n",
       "3             NaN          14.0          NaN      9          NaN  ...   \n",
       "4            3.03          14.0         32.0     13          NaN  ...   \n",
       "\n",
       "   kitchen_area  balcony    locality_name  airports_nearest  \\\n",
       "0          25.0      NaN  Санкт-Петербург           18863.0   \n",
       "1          11.0      2.0   посёлок Шушары           12817.0   \n",
       "2           8.3      0.0  Санкт-Петербург           21741.0   \n",
       "3           NaN      0.0  Санкт-Петербург           28098.0   \n",
       "4          41.0      NaN  Санкт-Петербург           31856.0   \n",
       "\n",
       "  cityCenters_nearest  parks_around3000  parks_nearest  ponds_around3000  \\\n",
       "0             16028.0               1.0          482.0               2.0   \n",
       "1             18603.0               0.0            NaN               0.0   \n",
       "2             13933.0               1.0           90.0               2.0   \n",
       "3              6800.0               2.0           84.0               3.0   \n",
       "4              8098.0               2.0          112.0               1.0   \n",
       "\n",
       "   ponds_nearest  days_exposition  \n",
       "0          755.0              NaN  \n",
       "1            NaN             81.0  \n",
       "2          574.0            558.0  \n",
       "3          234.0            424.0  \n",
       "4           48.0            121.0  \n",
       "\n",
       "[5 rows x 22 columns]"
      ]
     },
     "metadata": {},
     "output_type": "display_data"
    }
   ],
   "source": [
    "display(real_estate_data.head())"
   ]
  },
  {
   "cell_type": "code",
   "execution_count": 4,
   "id": "be05ce32-3653-48dc-9a00-2b0008ab25e7",
   "metadata": {},
   "outputs": [
    {
     "data": {
      "text/plain": [
       "array([nan, False, True], dtype=object)"
      ]
     },
     "metadata": {},
     "output_type": "display_data"
    }
   ],
   "source": [
    "display(real_estate_data['is_apartment'].unique())"
   ]
  },
  {
   "cell_type": "markdown",
   "id": "ffb69bd7-097d-47dc-ad5b-52f0826c9842",
   "metadata": {},
   "source": [
    "<div class=\"alert alert-info\" role=\"alert\">\n",
    "    <p class=\"mb-0\">Как получить <code>list</code> колонок с <code>NaN</code> нашёл на <code>stackoverflow</code> 👌</p>\n",
    "</div>"
   ]
  },
  {
   "cell_type": "code",
   "execution_count": 5,
   "id": "77b68f07-b44e-4251-890f-3f883528d90b",
   "metadata": {},
   "outputs": [
    {
     "data": {
      "text/plain": [
       "['ceiling_height',\n",
       " 'floors_total',\n",
       " 'living_area',\n",
       " 'is_apartment',\n",
       " 'kitchen_area',\n",
       " 'balcony',\n",
       " 'locality_name',\n",
       " 'airports_nearest',\n",
       " 'cityCenters_nearest',\n",
       " 'parks_around3000',\n",
       " 'parks_nearest',\n",
       " 'ponds_around3000',\n",
       " 'ponds_nearest',\n",
       " 'days_exposition']"
      ]
     },
     "metadata": {},
     "output_type": "display_data"
    }
   ],
   "source": [
    "display(\n",
    "    real_estate_data.columns[real_estate_data.isna().any()].tolist()\n",
    ")"
   ]
  },
  {
   "cell_type": "markdown",
   "id": "7e7ce3df-ca13-4fe1-8ac0-327c6a022978",
   "metadata": {},
   "source": [
    "Добро, вот с этими колонками нужно разобраться в них пропуски — `NaN`"
   ]
  },
  {
   "cell_type": "code",
   "execution_count": 6,
   "id": "710b4b8e-f4cb-48fe-912b-f9d6f3d17d36",
   "metadata": {},
   "outputs": [
    {
     "name": "stdout",
     "output_type": "stream",
     "text": [
      "<class 'pandas.core.frame.DataFrame'>\n",
      "RangeIndex: 23699 entries, 0 to 23698\n",
      "Data columns (total 22 columns):\n",
      " #   Column                Non-Null Count  Dtype  \n",
      "---  ------                --------------  -----  \n",
      " 0   total_images          23699 non-null  int64  \n",
      " 1   last_price            23699 non-null  float64\n",
      " 2   total_area            23699 non-null  float64\n",
      " 3   first_day_exposition  23699 non-null  object \n",
      " 4   rooms                 23699 non-null  int64  \n",
      " 5   ceiling_height        14504 non-null  float64\n",
      " 6   floors_total          23613 non-null  float64\n",
      " 7   living_area           21796 non-null  float64\n",
      " 8   floor                 23699 non-null  int64  \n",
      " 9   is_apartment          2775 non-null   object \n",
      " 10  studio                23699 non-null  bool   \n",
      " 11  open_plan             23699 non-null  bool   \n",
      " 12  kitchen_area          21421 non-null  float64\n",
      " 13  balcony               12180 non-null  float64\n",
      " 14  locality_name         23650 non-null  object \n",
      " 15  airports_nearest      18157 non-null  float64\n",
      " 16  cityCenters_nearest   18180 non-null  float64\n",
      " 17  parks_around3000      18181 non-null  float64\n",
      " 18  parks_nearest         8079 non-null   float64\n",
      " 19  ponds_around3000      18181 non-null  float64\n",
      " 20  ponds_nearest         9110 non-null   float64\n",
      " 21  days_exposition       20518 non-null  float64\n",
      "dtypes: bool(2), float64(14), int64(3), object(3)\n",
      "memory usage: 3.7+ MB\n"
     ]
    },
    {
     "data": {
      "text/plain": [
       "None"
      ]
     },
     "metadata": {},
     "output_type": "display_data"
    }
   ],
   "source": [
    "display(real_estate_data.info())"
   ]
  },
  {
   "cell_type": "code",
   "execution_count": 7,
   "id": "6d5deab3-2504-4439-983d-bd6a18189292",
   "metadata": {},
   "outputs": [
    {
     "name": "stdout",
     "output_type": "stream",
     "text": [
      "ceiling_height NaN = 9195\n",
      "count    14504.000000\n",
      "mean         2.771499\n",
      "std          1.261056\n",
      "min          1.000000\n",
      "25%          2.520000\n",
      "50%          2.650000\n",
      "75%          2.800000\n",
      "max        100.000000\n",
      "Name: ceiling_height, dtype: float64\n",
      "\n",
      "floors_total NaN = 86\n",
      "count    23613.000000\n",
      "mean        10.673824\n",
      "std          6.597173\n",
      "min          1.000000\n",
      "25%          5.000000\n",
      "50%          9.000000\n",
      "75%         16.000000\n",
      "max         60.000000\n",
      "Name: floors_total, dtype: float64\n",
      "\n",
      "living_area NaN = 1903\n",
      "count    21796.000000\n",
      "mean        34.457852\n",
      "std         22.030445\n",
      "min          2.000000\n",
      "25%         18.600000\n",
      "50%         30.000000\n",
      "75%         42.300000\n",
      "max        409.700000\n",
      "Name: living_area, dtype: float64\n",
      "\n",
      "is_apartment NaN = 20924\n",
      "count      2775\n",
      "unique        2\n",
      "top       False\n",
      "freq       2725\n",
      "Name: is_apartment, dtype: object\n",
      "\n",
      "kitchen_area NaN = 2278\n",
      "count    21421.000000\n",
      "mean        10.569807\n",
      "std          5.905438\n",
      "min          1.300000\n",
      "25%          7.000000\n",
      "50%          9.100000\n",
      "75%         12.000000\n",
      "max        112.000000\n",
      "Name: kitchen_area, dtype: float64\n",
      "\n",
      "balcony NaN = 11519\n",
      "count    12180.000000\n",
      "mean         1.150082\n",
      "std          1.071300\n",
      "min          0.000000\n",
      "25%          0.000000\n",
      "50%          1.000000\n",
      "75%          2.000000\n",
      "max          5.000000\n",
      "Name: balcony, dtype: float64\n",
      "\n",
      "locality_name NaN = 49\n",
      "count               23650\n",
      "unique                364\n",
      "top       Санкт-Петербург\n",
      "freq                15721\n",
      "Name: locality_name, dtype: object\n",
      "\n",
      "airports_nearest NaN = 5542\n",
      "count    18157.000000\n",
      "mean     28793.672193\n",
      "std      12630.880622\n",
      "min          0.000000\n",
      "25%      18585.000000\n",
      "50%      26726.000000\n",
      "75%      37273.000000\n",
      "max      84869.000000\n",
      "Name: airports_nearest, dtype: float64\n",
      "\n",
      "cityCenters_nearest NaN = 5519\n",
      "count    18180.000000\n",
      "mean     14191.277833\n",
      "std       8608.386210\n",
      "min        181.000000\n",
      "25%       9238.000000\n",
      "50%      13098.500000\n",
      "75%      16293.000000\n",
      "max      65968.000000\n",
      "Name: cityCenters_nearest, dtype: float64\n",
      "\n",
      "parks_around3000 NaN = 5518\n",
      "count    18181.000000\n",
      "mean         0.611408\n",
      "std          0.802074\n",
      "min          0.000000\n",
      "25%          0.000000\n",
      "50%          0.000000\n",
      "75%          1.000000\n",
      "max          3.000000\n",
      "Name: parks_around3000, dtype: float64\n",
      "\n",
      "parks_nearest NaN = 15620\n",
      "count    8079.000000\n",
      "mean      490.804555\n",
      "std       342.317995\n",
      "min         1.000000\n",
      "25%       288.000000\n",
      "50%       455.000000\n",
      "75%       612.000000\n",
      "max      3190.000000\n",
      "Name: parks_nearest, dtype: float64\n",
      "\n",
      "ponds_around3000 NaN = 5518\n",
      "count    18181.000000\n",
      "mean         0.770255\n",
      "std          0.938346\n",
      "min          0.000000\n",
      "25%          0.000000\n",
      "50%          1.000000\n",
      "75%          1.000000\n",
      "max          3.000000\n",
      "Name: ponds_around3000, dtype: float64\n",
      "\n",
      "ponds_nearest NaN = 14589\n",
      "count    9110.000000\n",
      "mean      517.980900\n",
      "std       277.720643\n",
      "min        13.000000\n",
      "25%       294.000000\n",
      "50%       502.000000\n",
      "75%       729.000000\n",
      "max      1344.000000\n",
      "Name: ponds_nearest, dtype: float64\n",
      "\n",
      "days_exposition NaN = 3181\n",
      "count    20518.000000\n",
      "mean       180.888634\n",
      "std        219.727988\n",
      "min          1.000000\n",
      "25%         45.000000\n",
      "50%         95.000000\n",
      "75%        232.000000\n",
      "max       1580.000000\n",
      "Name: days_exposition, dtype: float64\n",
      "\n"
     ]
    }
   ],
   "source": [
    "\n",
    "for column in real_estate_data.columns:\n",
    "    count_of_nan = len(real_estate_data.loc[real_estate_data[column].isna()][column])\n",
    "    if count_of_nan > 0:\n",
    "        print(column, end=' NaN = ')\n",
    "        print(count_of_nan)\n",
    "        print(real_estate_data[column].describe(), end='\\n\\n')"
   ]
  },
  {
   "cell_type": "markdown",
   "id": "f018aba0-39ef-4403-a949-e3e3cb152abc",
   "metadata": {},
   "source": [
    "## Шаг 2. Предобработка данных"
   ]
  },
  {
   "cell_type": "markdown",
   "id": "9ccfa6ec-5d03-48ab-a808-af3438bff92e",
   "metadata": {},
   "source": [
    "Определите и изучите пропущенные значения:\n",
    "Для некоторых пропущенных значений можно предположить логичную замену. Например, если человек не указал число балконов — скорее всего, их нет. Такие пропуски правильно заменить на 0. Для других типов данных нет подходящего значения на замену. В этом случае правильно оставить эти значения пустыми. Отсутствие значения — тоже важный сигнал, который не нужно прятать.\n",
    "\n"
   ]
  },
  {
   "cell_type": "markdown",
   "id": "04f88e1c-d62f-4e25-9a83-1e9fd89a4c95",
   "metadata": {},
   "source": [
    "Заполните пропуски, где это уместно. Опишите, почему вы решили заполнить пропуски именно в этих столбцах и как выбрали значения.\n",
    "Укажите причины, которые могли привести к пропускам в данных."
   ]
  },
  {
   "cell_type": "code",
   "execution_count": 8,
   "id": "30464d21-2f98-4143-bf85-bdbfe4219bbe",
   "metadata": {},
   "outputs": [],
   "source": [
    "real_estate_data['is_apartment'].fillna(value=False, inplace=True)\n",
    "real_estate_data['balcony'].fillna(value=0, inplace=True)"
   ]
  },
  {
   "cell_type": "code",
   "execution_count": 9,
   "id": "f3755c48-9c9c-432b-b38f-56f6e9a659b8",
   "metadata": {},
   "outputs": [
    {
     "data": {
      "text/html": [
       "<div>\n",
       "<style scoped>\n",
       "    .dataframe tbody tr th:only-of-type {\n",
       "        vertical-align: middle;\n",
       "    }\n",
       "\n",
       "    .dataframe tbody tr th {\n",
       "        vertical-align: top;\n",
       "    }\n",
       "\n",
       "    .dataframe thead th {\n",
       "        text-align: right;\n",
       "    }\n",
       "</style>\n",
       "<table border=\"1\" class=\"dataframe\">\n",
       "  <thead>\n",
       "    <tr style=\"text-align: right;\">\n",
       "      <th></th>\n",
       "      <th>total_images</th>\n",
       "      <th>last_price</th>\n",
       "      <th>total_area</th>\n",
       "      <th>first_day_exposition</th>\n",
       "      <th>rooms</th>\n",
       "      <th>ceiling_height</th>\n",
       "      <th>floors_total</th>\n",
       "      <th>living_area</th>\n",
       "      <th>floor</th>\n",
       "      <th>is_apartment</th>\n",
       "      <th>...</th>\n",
       "      <th>kitchen_area</th>\n",
       "      <th>balcony</th>\n",
       "      <th>locality_name</th>\n",
       "      <th>airports_nearest</th>\n",
       "      <th>cityCenters_nearest</th>\n",
       "      <th>parks_around3000</th>\n",
       "      <th>parks_nearest</th>\n",
       "      <th>ponds_around3000</th>\n",
       "      <th>ponds_nearest</th>\n",
       "      <th>days_exposition</th>\n",
       "    </tr>\n",
       "  </thead>\n",
       "  <tbody>\n",
       "    <tr>\n",
       "      <th>1097</th>\n",
       "      <td>3</td>\n",
       "      <td>8600000.0</td>\n",
       "      <td>81.7</td>\n",
       "      <td>2016-04-15T00:00:00</td>\n",
       "      <td>3</td>\n",
       "      <td>3.55</td>\n",
       "      <td>5.0</td>\n",
       "      <td>50.8</td>\n",
       "      <td>2</td>\n",
       "      <td>False</td>\n",
       "      <td>...</td>\n",
       "      <td>8.8</td>\n",
       "      <td>0.0</td>\n",
       "      <td>NaN</td>\n",
       "      <td>23478.0</td>\n",
       "      <td>4258.0</td>\n",
       "      <td>0.0</td>\n",
       "      <td>NaN</td>\n",
       "      <td>0.0</td>\n",
       "      <td>NaN</td>\n",
       "      <td>147.0</td>\n",
       "    </tr>\n",
       "    <tr>\n",
       "      <th>2033</th>\n",
       "      <td>6</td>\n",
       "      <td>5398000.0</td>\n",
       "      <td>80.0</td>\n",
       "      <td>2017-05-30T00:00:00</td>\n",
       "      <td>3</td>\n",
       "      <td>NaN</td>\n",
       "      <td>4.0</td>\n",
       "      <td>42.6</td>\n",
       "      <td>2</td>\n",
       "      <td>False</td>\n",
       "      <td>...</td>\n",
       "      <td>18.6</td>\n",
       "      <td>0.0</td>\n",
       "      <td>NaN</td>\n",
       "      <td>NaN</td>\n",
       "      <td>NaN</td>\n",
       "      <td>NaN</td>\n",
       "      <td>NaN</td>\n",
       "      <td>NaN</td>\n",
       "      <td>NaN</td>\n",
       "      <td>34.0</td>\n",
       "    </tr>\n",
       "    <tr>\n",
       "      <th>2603</th>\n",
       "      <td>20</td>\n",
       "      <td>3351765.0</td>\n",
       "      <td>42.7</td>\n",
       "      <td>2015-09-20T00:00:00</td>\n",
       "      <td>1</td>\n",
       "      <td>NaN</td>\n",
       "      <td>24.0</td>\n",
       "      <td>15.6</td>\n",
       "      <td>3</td>\n",
       "      <td>False</td>\n",
       "      <td>...</td>\n",
       "      <td>10.7</td>\n",
       "      <td>0.0</td>\n",
       "      <td>NaN</td>\n",
       "      <td>22041.0</td>\n",
       "      <td>17369.0</td>\n",
       "      <td>0.0</td>\n",
       "      <td>NaN</td>\n",
       "      <td>1.0</td>\n",
       "      <td>374.0</td>\n",
       "      <td>276.0</td>\n",
       "    </tr>\n",
       "    <tr>\n",
       "      <th>2632</th>\n",
       "      <td>2</td>\n",
       "      <td>5130593.0</td>\n",
       "      <td>62.4</td>\n",
       "      <td>2015-10-11T00:00:00</td>\n",
       "      <td>2</td>\n",
       "      <td>NaN</td>\n",
       "      <td>24.0</td>\n",
       "      <td>33.1</td>\n",
       "      <td>21</td>\n",
       "      <td>False</td>\n",
       "      <td>...</td>\n",
       "      <td>8.2</td>\n",
       "      <td>0.0</td>\n",
       "      <td>NaN</td>\n",
       "      <td>22041.0</td>\n",
       "      <td>17369.0</td>\n",
       "      <td>0.0</td>\n",
       "      <td>NaN</td>\n",
       "      <td>1.0</td>\n",
       "      <td>374.0</td>\n",
       "      <td>256.0</td>\n",
       "    </tr>\n",
       "    <tr>\n",
       "      <th>3574</th>\n",
       "      <td>10</td>\n",
       "      <td>4200000.0</td>\n",
       "      <td>46.5</td>\n",
       "      <td>2016-05-28T00:00:00</td>\n",
       "      <td>2</td>\n",
       "      <td>NaN</td>\n",
       "      <td>5.0</td>\n",
       "      <td>30.8</td>\n",
       "      <td>5</td>\n",
       "      <td>False</td>\n",
       "      <td>...</td>\n",
       "      <td>6.5</td>\n",
       "      <td>0.0</td>\n",
       "      <td>NaN</td>\n",
       "      <td>27419.0</td>\n",
       "      <td>8127.0</td>\n",
       "      <td>0.0</td>\n",
       "      <td>NaN</td>\n",
       "      <td>1.0</td>\n",
       "      <td>603.0</td>\n",
       "      <td>45.0</td>\n",
       "    </tr>\n",
       "  </tbody>\n",
       "</table>\n",
       "<p>5 rows × 22 columns</p>\n",
       "</div>"
      ],
      "text/plain": [
       "      total_images  last_price  total_area first_day_exposition  rooms  \\\n",
       "1097             3   8600000.0        81.7  2016-04-15T00:00:00      3   \n",
       "2033             6   5398000.0        80.0  2017-05-30T00:00:00      3   \n",
       "2603            20   3351765.0        42.7  2015-09-20T00:00:00      1   \n",
       "2632             2   5130593.0        62.4  2015-10-11T00:00:00      2   \n",
       "3574            10   4200000.0        46.5  2016-05-28T00:00:00      2   \n",
       "\n",
       "      ceiling_height  floors_total  living_area  floor  is_apartment  ...  \\\n",
       "1097            3.55           5.0         50.8      2         False  ...   \n",
       "2033             NaN           4.0         42.6      2         False  ...   \n",
       "2603             NaN          24.0         15.6      3         False  ...   \n",
       "2632             NaN          24.0         33.1     21         False  ...   \n",
       "3574             NaN           5.0         30.8      5         False  ...   \n",
       "\n",
       "      kitchen_area  balcony  locality_name  airports_nearest  \\\n",
       "1097           8.8      0.0            NaN           23478.0   \n",
       "2033          18.6      0.0            NaN               NaN   \n",
       "2603          10.7      0.0            NaN           22041.0   \n",
       "2632           8.2      0.0            NaN           22041.0   \n",
       "3574           6.5      0.0            NaN           27419.0   \n",
       "\n",
       "     cityCenters_nearest  parks_around3000  parks_nearest  ponds_around3000  \\\n",
       "1097              4258.0               0.0            NaN               0.0   \n",
       "2033                 NaN               NaN            NaN               NaN   \n",
       "2603             17369.0               0.0            NaN               1.0   \n",
       "2632             17369.0               0.0            NaN               1.0   \n",
       "3574              8127.0               0.0            NaN               1.0   \n",
       "\n",
       "      ponds_nearest  days_exposition  \n",
       "1097            NaN            147.0  \n",
       "2033            NaN             34.0  \n",
       "2603          374.0            276.0  \n",
       "2632          374.0            256.0  \n",
       "3574          603.0             45.0  \n",
       "\n",
       "[5 rows x 22 columns]"
      ]
     },
     "metadata": {},
     "output_type": "display_data"
    }
   ],
   "source": [
    "display(\n",
    "    real_estate_data.loc[real_estate_data['locality_name']\n",
    "                         .isna()].head(5)\n",
    ")\n",
    "#real_estate_data['locality_name'].fillna(value=False, inplace=True)\n"
   ]
  },
  {
   "cell_type": "code",
   "execution_count": 10,
   "id": "b7aa02f1-4d3b-4823-ba20-2bc094088d12",
   "metadata": {},
   "outputs": [
    {
     "data": {
      "text/plain": [
       "['ceiling_height',\n",
       " 'floors_total',\n",
       " 'living_area',\n",
       " 'kitchen_area',\n",
       " 'locality_name',\n",
       " 'airports_nearest',\n",
       " 'cityCenters_nearest',\n",
       " 'parks_around3000',\n",
       " 'parks_nearest',\n",
       " 'ponds_around3000',\n",
       " 'ponds_nearest',\n",
       " 'days_exposition']"
      ]
     },
     "metadata": {},
     "output_type": "display_data"
    }
   ],
   "source": [
    "display(\n",
    "    real_estate_data.columns[real_estate_data.isna().any()].tolist()\n",
    ")"
   ]
  },
  {
   "cell_type": "markdown",
   "id": "6e91e33a-eac7-41b7-8c19-1e5562a13f70",
   "metadata": {},
   "source": [
    "    ❌ 'ceiling_height' — сделаем `NaN` медианным значением по району\n",
    "    ❌ 'floors_total' — сделаем `NaN` медианным значением по району\n",
    "    ❌ 'living_area' — сделаем `NaN` медианным значением по диапазонам цен и рай\n",
    "    ✅ 'is_apartment'\n",
    "    ❌ 'kitchen_area' — если студия то кухня `NaN` проверим, если да то сделаем 0\n",
    "    ✅ 'balcony'\n",
    "    ❌ 'locality_name' — сначала удалим неявные дубликаты\n",
    "    ❌ 'airports_nearest' — проверим по районам, может и нет ближайших аэропортов тогда `NaN` = 0\n",
    "    ❌ 'cityCenters_nearest' — проверим по районам, может и нет ближайших центров города тогда `NaN` = 0\n",
    "    ❌ 'parks_around3000' — проверим по районам, может и нет ближайших парков тогда `NaN` = 0\n",
    "    ❌ 'parks_nearest'\n",
    "    ❌ 'ponds_around3000' — проверим по районам, может и нет ближайших прудов тогда `NaN` = 0\n",
    "    ❌ 'ponds_nearest'\n",
    "    ❌ 'days_exposition' — посмотрим как связан столбец с `first_day_exposition`"
   ]
  },
  {
   "cell_type": "markdown",
   "id": "d9a99ceb-9dfe-4d87-9646-5121ce9a5755",
   "metadata": {},
   "source": [
    "**Предполагаю**\n",
    "\n",
    "что стоит заменить пропущенные высоту потолков и количество этажей на медиану районных значений."
   ]
  },
  {
   "cell_type": "markdown",
   "id": "0a9610c8-a8ae-46bd-8c9d-55e8d934386d",
   "metadata": {},
   "source": [
    "### 'locality_name' — сначала удалим неявные дубликаты"
   ]
  },
  {
   "cell_type": "code",
   "execution_count": null,
   "id": "4f53e3b5-41a1-4e5c-bcf2-786a78621ea6",
   "metadata": {},
   "outputs": [],
   "source": [
    "def correct_name(to_correct):\n",
    "    pass"
   ]
  },
  {
   "cell_type": "code",
   "execution_count": 15,
   "id": "9c599702-86c7-4ea1-967f-cae15d4f3225",
   "metadata": {},
   "outputs": [
    {
     "data": {
      "text/plain": [
       "array(['Санкт-Петербург', 'посёлок Шушары', 'городской посёлок Янино-1',\n",
       "       'посёлок Парголово', 'посёлок Мурино'], dtype=object)"
      ]
     },
     "metadata": {},
     "output_type": "display_data"
    }
   ],
   "source": [
    "display(\n",
    "    real_estate_data['locality_name'].unique()[:5]\n",
    ")"
   ]
  },
  {
   "cell_type": "code",
   "execution_count": 12,
   "id": "f9871fae-f5e3-47df-ab51-600d32667460",
   "metadata": {},
   "outputs": [
    {
     "data": {
      "text/plain": [
       "array([False])"
      ]
     },
     "metadata": {},
     "output_type": "display_data"
    }
   ],
   "source": [
    "display(\n",
    "    real_estate_data.loc[real_estate_data['locality_name'].isna()]['is_apartment'].unique()\n",
    ")"
   ]
  },
  {
   "cell_type": "code",
   "execution_count": 13,
   "id": "a9a5adee-421e-4f9e-95d7-619d8928df17",
   "metadata": {},
   "outputs": [
    {
     "data": {
      "text/plain": [
       "49"
      ]
     },
     "metadata": {},
     "output_type": "display_data"
    }
   ],
   "source": [
    "display(\n",
    "    real_estate_data.loc[real_estate_data['locality_name'].isna()]['is_apartment'].count()\n",
    ")"
   ]
  },
  {
   "cell_type": "markdown",
   "id": "6e49c5b2-ad3c-47b8-b344-c390e8309ef8",
   "metadata": {},
   "source": [
    "Так, похоже, что у всех `'locality_name'` = `NaN`, `'is_apartment'` = `False`"
   ]
  },
  {
   "cell_type": "code",
   "execution_count": 14,
   "id": "1f2ebae5-bd53-4a2d-b17f-90aa71d1082d",
   "metadata": {},
   "outputs": [
    {
     "ename": "ValueError",
     "evalue": "The truth value of a Series is ambiguous. Use a.empty, a.bool(), a.item(), a.any() or a.all().",
     "output_type": "error",
     "traceback": [
      "\u001b[1;31m---------------------------------------------------------------------------\u001b[0m",
      "\u001b[1;31mValueError\u001b[0m                                Traceback (most recent call last)",
      "Input \u001b[1;32mIn [14]\u001b[0m, in \u001b[0;36m<module>\u001b[1;34m\u001b[0m\n\u001b[0;32m      1\u001b[0m display(\n\u001b[0;32m      2\u001b[0m     \u001b[38;5;28mlen\u001b[39m(real_estate_data\u001b[38;5;241m.\u001b[39mloc[real_estate_data[\u001b[38;5;124m'\u001b[39m\u001b[38;5;124mparks_around3000\u001b[39m\u001b[38;5;124m'\u001b[39m]\u001b[38;5;241m.\u001b[39misna()][\u001b[38;5;124m'\u001b[39m\u001b[38;5;124mparks_nearest\u001b[39m\u001b[38;5;124m'\u001b[39m]),\n\u001b[0;32m      3\u001b[0m     \u001b[38;5;28mlen\u001b[39m(real_estate_data\u001b[38;5;241m.\u001b[39mloc[real_estate_data[\u001b[38;5;124m'\u001b[39m\u001b[38;5;124mparks_around3000\u001b[39m\u001b[38;5;124m'\u001b[39m] \u001b[38;5;241m==\u001b[39m \u001b[38;5;241m0\u001b[39m][\u001b[38;5;124m'\u001b[39m\u001b[38;5;124mparks_nearest\u001b[39m\u001b[38;5;124m'\u001b[39m]\u001b[38;5;241m.\u001b[39munique()),\n\u001b[1;32m----> 4\u001b[0m     (real_estate_data\u001b[38;5;241m.\u001b[39mloc[(real_estate_data[\u001b[38;5;124m'\u001b[39m\u001b[38;5;124mparks_around3000\u001b[39m\u001b[38;5;124m'\u001b[39m] \u001b[38;5;241m==\u001b[39m \u001b[38;5;241m0\u001b[39m)\n\u001b[0;32m      5\u001b[0m                              \u001b[38;5;129;01mand\u001b[39;00m (real_estate_data[\u001b[38;5;124m'\u001b[39m\u001b[38;5;124mparks_nearest\u001b[39m\u001b[38;5;124m'\u001b[39m]\u001b[38;5;241m.\u001b[39misna())][\u001b[38;5;124m'\u001b[39m\u001b[38;5;124mrooms\u001b[39m\u001b[38;5;124m'\u001b[39m]\u001b[38;5;241m.\u001b[39mcount()),\n\u001b[0;32m      6\u001b[0m     \n\u001b[0;32m      7\u001b[0m )\n",
      "File \u001b[1;32mc:\\users\\zabel\\appdata\\local\\programs\\python\\python38\\lib\\site-packages\\pandas\\core\\generic.py:1537\u001b[0m, in \u001b[0;36mNDFrame.__nonzero__\u001b[1;34m(self)\u001b[0m\n\u001b[0;32m   1535\u001b[0m \u001b[38;5;129m@final\u001b[39m\n\u001b[0;32m   1536\u001b[0m \u001b[38;5;28;01mdef\u001b[39;00m \u001b[38;5;21m__nonzero__\u001b[39m(\u001b[38;5;28mself\u001b[39m):\n\u001b[1;32m-> 1537\u001b[0m     \u001b[38;5;28;01mraise\u001b[39;00m \u001b[38;5;167;01mValueError\u001b[39;00m(\n\u001b[0;32m   1538\u001b[0m         \u001b[38;5;124mf\u001b[39m\u001b[38;5;124m\"\u001b[39m\u001b[38;5;124mThe truth value of a \u001b[39m\u001b[38;5;132;01m{\u001b[39;00m\u001b[38;5;28mtype\u001b[39m(\u001b[38;5;28mself\u001b[39m)\u001b[38;5;241m.\u001b[39m\u001b[38;5;18m__name__\u001b[39m\u001b[38;5;132;01m}\u001b[39;00m\u001b[38;5;124m is ambiguous. \u001b[39m\u001b[38;5;124m\"\u001b[39m\n\u001b[0;32m   1539\u001b[0m         \u001b[38;5;124m\"\u001b[39m\u001b[38;5;124mUse a.empty, a.bool(), a.item(), a.any() or a.all().\u001b[39m\u001b[38;5;124m\"\u001b[39m\n\u001b[0;32m   1540\u001b[0m     )\n",
      "\u001b[1;31mValueError\u001b[0m: The truth value of a Series is ambiguous. Use a.empty, a.bool(), a.item(), a.any() or a.all()."
     ]
    }
   ],
   "source": [
    "display(\n",
    "    len(real_estate_data.loc[real_estate_data['parks_around3000'].isna()]['parks_nearest']),\n",
    "    len(real_estate_data.loc[real_estate_data['parks_around3000'] == 0]['parks_nearest'].unique()),\n",
    "    (real_estate_data.loc[(real_estate_data['parks_around3000'] == 0)\n",
    "                             and (real_estate_data['parks_nearest'].isna())]['rooms'].count()),\n",
    "    \n",
    ")"
   ]
  },
  {
   "cell_type": "code",
   "execution_count": null,
   "id": "73a0171e-2118-4084-b16e-7581b4e7f705",
   "metadata": {},
   "outputs": [],
   "source": [
    "real_estate_data['first_day_exposition'] = pd.to_datetime(real_estate_data['first_day_exposition'], format='%d/%m/%YT%h%m%s')"
   ]
  },
  {
   "cell_type": "code",
   "execution_count": null,
   "id": "5c8f89c4-1b41-4706-beb8-4ed30519f130",
   "metadata": {},
   "outputs": [],
   "source": [
    "display(\n",
    "    real_estate_data['first_day_exposition'].describe()\n",
    ")"
   ]
  },
  {
   "cell_type": "code",
   "execution_count": null,
   "id": "f29066fc-e3a6-49d3-a514-538b83ce4a14",
   "metadata": {},
   "outputs": [],
   "source": [
    "display(\n",
    "    real_estate_data.loc[real_estate_data['locality_name'].isna()].head()\n",
    ")\n",
    "#real_estate_data['locality_name'].fillna(value=False, inplace=True)\n"
   ]
  },
  {
   "cell_type": "code",
   "execution_count": null,
   "id": "8e89196b-8e23-4078-bf1e-ed7706c0d6c0",
   "metadata": {},
   "outputs": [],
   "source": [
    "display(\n",
    "    real_estate_data.loc[real_estate_data['cityCenters_nearest'].isna()]['locality_name'].unique(),\n",
    "    len(real_estate_data.loc[real_estate_data['cityCenters_nearest'].isna()]['locality_name'].unique())\n",
    ")\n",
    "#real_estate_data['locality_name'].fillna(value=False, inplace=True)\n"
   ]
  },
  {
   "cell_type": "code",
   "execution_count": null,
   "id": "7ddcaf55-3d34-49e6-84db-6e6da95f7212",
   "metadata": {},
   "outputs": [],
   "source": [
    "display(\n",
    "    \n",
    "    real_estate_data['cityCenters_nearest'] = (\n",
    "        real_estate_data.loc[real_estate_data['cityCenters_nearest'].isna()]['locality_name'].unique()\n",
    "    ),\n",
    "    len(real_estate_data.loc[real_estate_data['cityCenters_nearest'].isna()]['locality_name'].unique())\n",
    ")\n",
    "#real_estate_data['locality_name'].fillna(value=False, inplace=True)\n"
   ]
  },
  {
   "cell_type": "code",
   "execution_count": null,
   "id": "ab0f0156-c7dc-428e-a997-1e8a07f39071",
   "metadata": {},
   "outputs": [],
   "source": [
    "display(\n",
    "    real_estate_data.loc[real_estate_data['studio'] == True].head(),\n",
    "    len(real_estate_data.loc[real_estate_data['studio'] == True])\n",
    ")\n",
    "#real_estate_data['locality_name'].fillna(value=False, inplace=True)\n"
   ]
  },
  {
   "cell_type": "markdown",
   "id": "12549786-af24-423e-a57b-70f5005283d3",
   "metadata": {},
   "source": [
    "`ceiling_height` — пропуски заменим медианой по району `locality_name`"
   ]
  },
  {
   "cell_type": "code",
   "execution_count": null,
   "id": "73e4def1-64bd-4fb2-9ca6-b26e2a97ccd2",
   "metadata": {},
   "outputs": [],
   "source": [
    "display(real_estate_data.info())"
   ]
  },
  {
   "cell_type": "markdown",
   "id": "18813c44-fc26-4a3e-80b9-1f30ef016083",
   "metadata": {},
   "source": [
    "Приведите данные к нужным типам:\n",
    "Поясните, в каких столбцах нужно изменить тип данных и почему."
   ]
  },
  {
   "cell_type": "code",
   "execution_count": null,
   "id": "a753003c-24ce-4f92-903c-da7f1033997a",
   "metadata": {},
   "outputs": [],
   "source": [
    "real_estate_data.astype(\n",
    "        {\n",
    "            'total_images': 'uint16',\n",
    "            'rooms':'uint8',\n",
    "            'ceiling_height':'float16',\n",
    "            'floors_total':'uint16',\n",
    "            'floor':'int16',\n",
    "            'parks_around3000':'uint8',\n",
    "            'ponds_around3000':'uint8',\n",
    "            'is_apartment': 'bool',\n",
    "        }\n",
    "    ).dtypes\n"
   ]
  },
  {
   "cell_type": "markdown",
   "id": "73e5dead-aa24-4c06-abb5-048e1fc02466",
   "metadata": {},
   "source": [
    "## Шаг 3. Посчитайте и добавьте в таблицу"
   ]
  },
  {
   "cell_type": "markdown",
   "id": "2bc15c1b-f3ae-4ddd-b8a5-7c84731c2cf3",
   "metadata": {},
   "source": [
    "цену квадратного метра;\n",
    "день недели, месяц и год публикации объявления;\n",
    "этаж квартиры; варианты — первый, последний, другой;\n",
    "соотношение жилой и общей площади, а также отношение площади кухни к общей."
   ]
  },
  {
   "cell_type": "markdown",
   "id": "19573908-64a5-4a3e-aae0-93e9e3849f09",
   "metadata": {},
   "source": [
    "## Шаг 4. Проведите исследовательский анализ данных"
   ]
  },
  {
   "cell_type": "markdown",
   "id": "ae400e0a-db8f-49d5-afe8-2e30713d5f69",
   "metadata": {},
   "source": [
    "Изучите следующие параметры: площадь, цена, число комнат, высота потолков. Постройте гистограммы для каждого параметра.\n",
    "Изучите время продажи квартиры. Постройте гистограмму. Посчитайте среднее и медиану. Опишите, сколько обычно занимает продажа. Когда можно считать, что продажи прошли очень быстро, а когда необычно долго?\n",
    "Уберите редкие и выбивающиеся значения. Опишите, какие особенности обнаружили.\n",
    "Какие факторы больше всего влияют на стоимость квартиры? Изучите, зависит ли цена от площади, числа комнат, удалённости от центра. Изучите зависимость цены от того, на каком этаже расположена квартира: первом, последнем или другом. Также изучите зависимость от даты размещения: дня недели, месяца и года.\n",
    "Выберите 10 населённых пунктов с наибольшим числом объявлений. Посчитайте среднюю цену квадратного метра в этих населённых пунктах. Выделите среди них населённые пункты с самой высокой и низкой стоимостью жилья. Эти данные можно найти по имени в столбце locality_name.\n",
    "Изучите предложения квартир: для каждой квартиры есть информация о расстоянии до центра. Выделите квартиры в Санкт-Петербурге (locality_name). Ваша задача — выяснить, какая область входит в центр. Создайте столбец с расстоянием до центра в километрах: округлите до целых значений. После этого посчитайте среднюю цену для каждого километра. Постройте график: он должен показывать, как цена зависит от удалённости от центра. Определите границу, где график сильно меняется, — это и будет центральная зона.\n",
    "Выделите сегмент квартир в центре. Проанализируйте эту территорию и изучите следующие параметры: площадь, цена, число комнат, высота потолков. Также выделите факторы, которые влияют на стоимость квартиры (число комнат, этаж, удалённость от центра, дата размещения объявления). Сделайте выводы. Отличаются ли они от общих выводов по всей базе?"
   ]
  },
  {
   "cell_type": "markdown",
   "id": "7e8eeba9-9ce7-4667-b2f7-9803f8e96981",
   "metadata": {},
   "source": [
    "## Шаг 5. Напишите общий вывод"
   ]
  },
  {
   "cell_type": "markdown",
   "id": "4249c9b5-fa0f-4d37-926f-2d98cfd09aa6",
   "metadata": {},
   "source": []
  },
  {
   "cell_type": "markdown",
   "id": "d6880528-3412-4779-848f-e70868ef75f6",
   "metadata": {},
   "source": [
    "## Описание данных"
   ]
  },
  {
   "cell_type": "markdown",
   "id": "e0a7df0f-acd8-4bd7-a3d8-db264d88876b",
   "metadata": {},
   "source": [
    "`airports_nearest` — расстояние до ближайшего аэропорта в метрах (м)\n",
    "\n",
    "`balcony` — число балконов\n",
    "\n",
    "`ceiling_height` — высота потолков (м)\n",
    "\n",
    "`cityCenters_nearest` — расстояние до центра города (м)\n",
    "\n",
    "`days_exposition` — сколько дней было размещено объявление (от публикации до снятия)\n",
    "\n",
    "`first_day_exposition` — дата публикации\n",
    "\n",
    "`floor` — этаж\n",
    "\n",
    "`floors_total` — всего этажей в доме\n",
    "\n",
    "`is_apartment` — апартаменты (булев тип)\n",
    "\n",
    "`kitchen_area` — площадь кухни в квадратных метрах (м²)\n",
    "\n",
    "`last_price` — цена на момент снятия с публикации\n",
    "\n",
    "`living_area` — жилая площадь в квадратных метрах (м²)\n",
    "\n",
    "`locality_name` — название населённого пункта\n",
    "\n",
    "`open_plan` — свободная планировка (булев тип)\n",
    "\n",
    "`parks_around3000` — число парков в радиусе 3 км\n",
    "\n",
    "`parks_nearest` — расстояние до ближайшего парка (м)\n",
    "\n",
    "`ponds_around3000` — число водоёмов в радиусе 3 км\n",
    "\n",
    "`ponds_nearest` — расстояние до ближайшего водоёма (м)\n",
    "\n",
    "`rooms` — число комнат\n",
    "\n",
    "`studio` — квартира-студия (булев тип)\n",
    "\n",
    "`total_area` — площадь квартиры в квадратных метрах (м²)\n",
    "\n",
    "`total_images` — число фотографий квартиры в объявлении"
   ]
  }
 ],
 "metadata": {
  "kernelspec": {
   "display_name": "Python 3 (ipykernel)",
   "language": "python",
   "name": "python3"
  },
  "language_info": {
   "codemirror_mode": {
    "name": "ipython",
    "version": 3
   },
   "file_extension": ".py",
   "mimetype": "text/x-python",
   "name": "python",
   "nbconvert_exporter": "python",
   "pygments_lexer": "ipython3",
   "version": "3.8.10"
  }
 },
 "nbformat": 4,
 "nbformat_minor": 5
}
