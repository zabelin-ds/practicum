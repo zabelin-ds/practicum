{
 "cells": [
  {
   "cell_type": "markdown",
   "id": "327acce4-aa42-4ee4-9e3d-9ae542ecea64",
   "metadata": {},
   "source": [
    "creditrs"
   ]
  },
  {
   "cell_type": "code",
   "execution_count": 1,
   "id": "cacb0160-2b19-42e4-ac75-4eb548817065",
   "metadata": {},
   "outputs": [],
   "source": [
    "import pandas as pd"
   ]
  },
  {
   "cell_type": "code",
   "execution_count": 2,
   "id": "f59749a2-ff27-469f-aecd-03c73026b0d5",
   "metadata": {},
   "outputs": [],
   "source": [
    "columns = ['bank_name', 'credit_sum', 'free_days', 'credit_start']\n",
    "\n",
    "smart_credit = pd.DataFrame(\n",
    "                            [['Tinkoff', 40_000, 55, '2022-03-13'],\n",
    "                            ['Sberbank', 100_000, 120, '2022-03-07'],\n",
    "                            ['Alphabank', 100_000, 360, '2022-02-27']],\n",
    "                            columns=columns\n",
    "                            )"
   ]
  },
  {
   "cell_type": "code",
   "execution_count": 3,
   "id": "3e80a9de-143b-410a-8f47-9d85e58f285f",
   "metadata": {},
   "outputs": [
    {
     "data": {
      "text/html": [
       "<div>\n",
       "<style scoped>\n",
       "    .dataframe tbody tr th:only-of-type {\n",
       "        vertical-align: middle;\n",
       "    }\n",
       "\n",
       "    .dataframe tbody tr th {\n",
       "        vertical-align: top;\n",
       "    }\n",
       "\n",
       "    .dataframe thead th {\n",
       "        text-align: right;\n",
       "    }\n",
       "</style>\n",
       "<table border=\"1\" class=\"dataframe\">\n",
       "  <thead>\n",
       "    <tr style=\"text-align: right;\">\n",
       "      <th></th>\n",
       "      <th>bank_name</th>\n",
       "      <th>credit_sum</th>\n",
       "      <th>free_days</th>\n",
       "      <th>credit_start</th>\n",
       "    </tr>\n",
       "  </thead>\n",
       "  <tbody>\n",
       "    <tr>\n",
       "      <th>0</th>\n",
       "      <td>Tinkoff</td>\n",
       "      <td>40000</td>\n",
       "      <td>55</td>\n",
       "      <td>2022-03-13</td>\n",
       "    </tr>\n",
       "    <tr>\n",
       "      <th>1</th>\n",
       "      <td>Sberbank</td>\n",
       "      <td>100000</td>\n",
       "      <td>120</td>\n",
       "      <td>2022-03-07</td>\n",
       "    </tr>\n",
       "    <tr>\n",
       "      <th>2</th>\n",
       "      <td>Alphabank</td>\n",
       "      <td>100000</td>\n",
       "      <td>360</td>\n",
       "      <td>2022-02-27</td>\n",
       "    </tr>\n",
       "  </tbody>\n",
       "</table>\n",
       "</div>"
      ],
      "text/plain": [
       "   bank_name  credit_sum  free_days credit_start\n",
       "0    Tinkoff       40000         55   2022-03-13\n",
       "1   Sberbank      100000        120   2022-03-07\n",
       "2  Alphabank      100000        360   2022-02-27"
      ]
     },
     "metadata": {},
     "output_type": "display_data"
    }
   ],
   "source": [
    "display(smart_credit)"
   ]
  },
  {
   "cell_type": "code",
   "execution_count": 4,
   "id": "3b7a1398-c7c5-449c-b419-c9afc10bc7c8",
   "metadata": {},
   "outputs": [
    {
     "name": "stdout",
     "output_type": "stream",
     "text": [
      "<class 'pandas.core.frame.DataFrame'>\n",
      "RangeIndex: 3 entries, 0 to 2\n",
      "Data columns (total 4 columns):\n",
      " #   Column        Non-Null Count  Dtype \n",
      "---  ------        --------------  ----- \n",
      " 0   bank_name     3 non-null      object\n",
      " 1   credit_sum    3 non-null      int64 \n",
      " 2   free_days     3 non-null      int64 \n",
      " 3   credit_start  3 non-null      object\n",
      "dtypes: int64(2), object(2)\n",
      "memory usage: 224.0+ bytes\n"
     ]
    },
    {
     "data": {
      "text/plain": [
       "None"
      ]
     },
     "metadata": {},
     "output_type": "display_data"
    }
   ],
   "source": [
    "display(smart_credit.info())"
   ]
  },
  {
   "cell_type": "code",
   "execution_count": 5,
   "id": "34bb71c5-f976-4fb5-8d37-9c8cd93e2d8b",
   "metadata": {},
   "outputs": [],
   "source": [
    "smart_credit['credit_start'] = pd.to_datetime(smart_credit['credit_start'])"
   ]
  },
  {
   "cell_type": "markdown",
   "id": "538e79c5-6af0-4312-af27-51fc90916041",
   "metadata": {},
   "source": []
  },
  {
   "cell_type": "code",
   "execution_count": 6,
   "id": "87dbe1b4-99cd-409a-a451-64b103cf59a9",
   "metadata": {},
   "outputs": [
    {
     "name": "stdout",
     "output_type": "stream",
     "text": [
      "<class 'pandas.core.frame.DataFrame'>\n",
      "RangeIndex: 3 entries, 0 to 2\n",
      "Data columns (total 4 columns):\n",
      " #   Column        Non-Null Count  Dtype         \n",
      "---  ------        --------------  -----         \n",
      " 0   bank_name     3 non-null      object        \n",
      " 1   credit_sum    3 non-null      int64         \n",
      " 2   free_days     3 non-null      int64         \n",
      " 3   credit_start  3 non-null      datetime64[ns]\n",
      "dtypes: datetime64[ns](1), int64(2), object(1)\n",
      "memory usage: 224.0+ bytes\n"
     ]
    },
    {
     "data": {
      "text/plain": [
       "None"
      ]
     },
     "metadata": {},
     "output_type": "display_data"
    }
   ],
   "source": [
    "display(smart_credit.info())"
   ]
  },
  {
   "cell_type": "code",
   "execution_count": 7,
   "id": "1e89a772-316b-495b-a89b-f5ef30a6780d",
   "metadata": {},
   "outputs": [],
   "source": [
    "smart_credit['credit_end'] = (\n",
    "                            smart_credit['credit_start']\n",
    "                            + smart_credit['free_days']\n",
    "                                .apply(lambda x: pd.Timedelta((x - 30), unit='D'))\n",
    "                            )"
   ]
  },
  {
   "cell_type": "code",
   "execution_count": 8,
   "id": "77afe277-6441-4755-ae8b-fd83424c5a0e",
   "metadata": {},
   "outputs": [],
   "source": [
    "# smart_credit['credit_end'] = (\n",
    "#                             smart_credit['credit_start']\n",
    "#                                 .apply(lambda x: pd.Timedelta(-3, unit='W'))\n",
    "#                             )"
   ]
  },
  {
   "cell_type": "code",
   "execution_count": 9,
   "id": "4ead842a-8df5-4bb5-a931-6c8822ca1f36",
   "metadata": {},
   "outputs": [
    {
     "data": {
      "text/html": [
       "<div>\n",
       "<style scoped>\n",
       "    .dataframe tbody tr th:only-of-type {\n",
       "        vertical-align: middle;\n",
       "    }\n",
       "\n",
       "    .dataframe tbody tr th {\n",
       "        vertical-align: top;\n",
       "    }\n",
       "\n",
       "    .dataframe thead th {\n",
       "        text-align: right;\n",
       "    }\n",
       "</style>\n",
       "<table border=\"1\" class=\"dataframe\">\n",
       "  <thead>\n",
       "    <tr style=\"text-align: right;\">\n",
       "      <th></th>\n",
       "      <th>bank_name</th>\n",
       "      <th>credit_sum</th>\n",
       "      <th>free_days</th>\n",
       "      <th>credit_start</th>\n",
       "      <th>credit_end</th>\n",
       "    </tr>\n",
       "  </thead>\n",
       "  <tbody>\n",
       "    <tr>\n",
       "      <th>0</th>\n",
       "      <td>Tinkoff</td>\n",
       "      <td>40000</td>\n",
       "      <td>55</td>\n",
       "      <td>2022-03-13</td>\n",
       "      <td>2022-04-07</td>\n",
       "    </tr>\n",
       "    <tr>\n",
       "      <th>1</th>\n",
       "      <td>Sberbank</td>\n",
       "      <td>100000</td>\n",
       "      <td>120</td>\n",
       "      <td>2022-03-07</td>\n",
       "      <td>2022-06-05</td>\n",
       "    </tr>\n",
       "    <tr>\n",
       "      <th>2</th>\n",
       "      <td>Alphabank</td>\n",
       "      <td>100000</td>\n",
       "      <td>360</td>\n",
       "      <td>2022-02-27</td>\n",
       "      <td>2023-01-23</td>\n",
       "    </tr>\n",
       "  </tbody>\n",
       "</table>\n",
       "</div>"
      ],
      "text/plain": [
       "   bank_name  credit_sum  free_days credit_start credit_end\n",
       "0    Tinkoff       40000         55   2022-03-13 2022-04-07\n",
       "1   Sberbank      100000        120   2022-03-07 2022-06-05\n",
       "2  Alphabank      100000        360   2022-02-27 2023-01-23"
      ]
     },
     "metadata": {},
     "output_type": "display_data"
    }
   ],
   "source": [
    "display(smart_credit)"
   ]
  },
  {
   "cell_type": "code",
   "execution_count": 10,
   "id": "4ced3171-f87d-4ac5-8af4-b3e4eea8ecfe",
   "metadata": {},
   "outputs": [
    {
     "data": {
      "text/html": [
       "<div>\n",
       "<style scoped>\n",
       "    .dataframe tbody tr th:only-of-type {\n",
       "        vertical-align: middle;\n",
       "    }\n",
       "\n",
       "    .dataframe tbody tr th {\n",
       "        vertical-align: top;\n",
       "    }\n",
       "\n",
       "    .dataframe thead th {\n",
       "        text-align: right;\n",
       "    }\n",
       "</style>\n",
       "<table border=\"1\" class=\"dataframe\">\n",
       "  <thead>\n",
       "    <tr style=\"text-align: right;\">\n",
       "      <th></th>\n",
       "      <th>bank_name</th>\n",
       "      <th>credit_sum</th>\n",
       "      <th>free_days</th>\n",
       "      <th>credit_start</th>\n",
       "      <th>credit_end</th>\n",
       "      <th>days_left</th>\n",
       "    </tr>\n",
       "  </thead>\n",
       "  <tbody>\n",
       "    <tr>\n",
       "      <th>0</th>\n",
       "      <td>Tinkoff</td>\n",
       "      <td>40000</td>\n",
       "      <td>55</td>\n",
       "      <td>2022-03-13</td>\n",
       "      <td>2022-04-07</td>\n",
       "      <td>25 days</td>\n",
       "    </tr>\n",
       "    <tr>\n",
       "      <th>1</th>\n",
       "      <td>Sberbank</td>\n",
       "      <td>100000</td>\n",
       "      <td>120</td>\n",
       "      <td>2022-03-07</td>\n",
       "      <td>2022-06-05</td>\n",
       "      <td>90 days</td>\n",
       "    </tr>\n",
       "    <tr>\n",
       "      <th>2</th>\n",
       "      <td>Alphabank</td>\n",
       "      <td>100000</td>\n",
       "      <td>360</td>\n",
       "      <td>2022-02-27</td>\n",
       "      <td>2023-01-23</td>\n",
       "      <td>330 days</td>\n",
       "    </tr>\n",
       "  </tbody>\n",
       "</table>\n",
       "</div>"
      ],
      "text/plain": [
       "   bank_name  credit_sum  free_days credit_start credit_end days_left\n",
       "0    Tinkoff       40000         55   2022-03-13 2022-04-07   25 days\n",
       "1   Sberbank      100000        120   2022-03-07 2022-06-05   90 days\n",
       "2  Alphabank      100000        360   2022-02-27 2023-01-23  330 days"
      ]
     },
     "metadata": {},
     "output_type": "display_data"
    }
   ],
   "source": [
    "\n",
    "smart_credit['days_left'] = smart_credit['credit_end'] - smart_credit['credit_start']\n",
    "display(smart_credit)"
   ]
  },
  {
   "cell_type": "code",
   "execution_count": 15,
   "id": "f69a9a21-2717-4001-86a7-1d54563b545d",
   "metadata": {},
   "outputs": [
    {
     "data": {
      "text/html": [
       "<div>\n",
       "<style scoped>\n",
       "    .dataframe tbody tr th:only-of-type {\n",
       "        vertical-align: middle;\n",
       "    }\n",
       "\n",
       "    .dataframe tbody tr th {\n",
       "        vertical-align: top;\n",
       "    }\n",
       "\n",
       "    .dataframe thead th {\n",
       "        text-align: right;\n",
       "    }\n",
       "</style>\n",
       "<table border=\"1\" class=\"dataframe\">\n",
       "  <thead>\n",
       "    <tr style=\"text-align: right;\">\n",
       "      <th></th>\n",
       "      <th>bank_name</th>\n",
       "      <th>credit_sum</th>\n",
       "      <th>free_days</th>\n",
       "      <th>credit_start</th>\n",
       "      <th>credit_end</th>\n",
       "      <th>days_left</th>\n",
       "      <th>monthly_payment</th>\n",
       "    </tr>\n",
       "  </thead>\n",
       "  <tbody>\n",
       "    <tr>\n",
       "      <th>0</th>\n",
       "      <td>Tinkoff</td>\n",
       "      <td>40000</td>\n",
       "      <td>55</td>\n",
       "      <td>2022-03-13</td>\n",
       "      <td>2022-04-07</td>\n",
       "      <td>25 days</td>\n",
       "      <td>40000.000000</td>\n",
       "    </tr>\n",
       "    <tr>\n",
       "      <th>1</th>\n",
       "      <td>Sberbank</td>\n",
       "      <td>100000</td>\n",
       "      <td>120</td>\n",
       "      <td>2022-03-07</td>\n",
       "      <td>2022-06-05</td>\n",
       "      <td>90 days</td>\n",
       "      <td>33333.333333</td>\n",
       "    </tr>\n",
       "    <tr>\n",
       "      <th>2</th>\n",
       "      <td>Alphabank</td>\n",
       "      <td>100000</td>\n",
       "      <td>360</td>\n",
       "      <td>2022-02-27</td>\n",
       "      <td>2023-01-23</td>\n",
       "      <td>330 days</td>\n",
       "      <td>9090.909091</td>\n",
       "    </tr>\n",
       "  </tbody>\n",
       "</table>\n",
       "</div>"
      ],
      "text/plain": [
       "   bank_name  credit_sum  free_days credit_start credit_end days_left  \\\n",
       "0    Tinkoff       40000         55   2022-03-13 2022-04-07   25 days   \n",
       "1   Sberbank      100000        120   2022-03-07 2022-06-05   90 days   \n",
       "2  Alphabank      100000        360   2022-02-27 2023-01-23  330 days   \n",
       "\n",
       "   monthly_payment  \n",
       "0     40000.000000  \n",
       "1     33333.333333  \n",
       "2      9090.909091  "
      ]
     },
     "metadata": {},
     "output_type": "display_data"
    }
   ],
   "source": [
    "\n",
    "smart_credit['monthly_payment'] = smart_credit['credit_sum'] / round(smart_credit['days_left'].dt.days / 30)\n",
    "display(smart_credit)"
   ]
  }
 ],
 "metadata": {
  "kernelspec": {
   "display_name": "Python 3 (ipykernel)",
   "language": "python",
   "name": "python3"
  },
  "language_info": {
   "codemirror_mode": {
    "name": "ipython",
    "version": 3
   },
   "file_extension": ".py",
   "mimetype": "text/x-python",
   "name": "python",
   "nbconvert_exporter": "python",
   "pygments_lexer": "ipython3",
   "version": "3.9.11"
  }
 },
 "nbformat": 4,
 "nbformat_minor": 5
}
