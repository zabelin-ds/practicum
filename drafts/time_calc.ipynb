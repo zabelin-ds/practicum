{
 "cells": [
  {
   "cell_type": "code",
   "execution_count": 154,
   "id": "fcb4c45a-b5fc-46f9-a33c-309923a730d3",
   "metadata": {},
   "outputs": [],
   "source": [
    "import numpy as np"
   ]
  },
  {
   "cell_type": "code",
   "execution_count": 155,
   "id": "7901608c-bd56-49ae-a3f2-bb1749730d1d",
   "metadata": {},
   "outputs": [],
   "source": [
    "start_time = [0, 45, 12]"
   ]
  },
  {
   "cell_type": "code",
   "execution_count": 156,
   "id": "0be6404b-54f2-4543-a8a8-4d37b0669e45",
   "metadata": {},
   "outputs": [],
   "source": [
    "delta_a = [0, 30, 19]"
   ]
  },
  {
   "cell_type": "code",
   "execution_count": 157,
   "id": "8e6b286d-d81e-45df-8b6e-6fcc0cda15c6",
   "metadata": {},
   "outputs": [],
   "source": [
    "delta_b = [0, 0, 0]"
   ]
  },
  {
   "cell_type": "code",
   "execution_count": 158,
   "id": "8ecbf827-e38c-4701-8b8e-3b1c796eb7c9",
   "metadata": {},
   "outputs": [],
   "source": [
    "end_time = [13, 5, 0]"
   ]
  },
  {
   "cell_type": "code",
   "execution_count": 159,
   "id": "5674af3b-6321-4d47-84f8-b43ec85a0348",
   "metadata": {},
   "outputs": [],
   "source": [
    "today = np.datetime64('today', 'D')\n",
    "start_time = today + np.timedelta64(start_time[0], 'h') + np.timedelta64(start_time[1], 'm') + np.timedelta64(start_time[2], 's')\n",
    "end_time = today + np.timedelta64(end_time[0], 'h') + np.timedelta64(end_time[1], 'm') + np.timedelta64(end_time[2], 's')\n",
    "delta_a = np.timedelta64(delta_a[0], 'h') + np.timedelta64(delta_a[1], 'm') + np.timedelta64(delta_a[2], 's')\n",
    "delta_b = np.timedelta64(delta_b[0], 'h') + np.timedelta64(delta_b[1], 'm') + np.timedelta64(delta_b[2], 's')"
   ]
  },
  {
   "cell_type": "code",
   "execution_count": 160,
   "id": "b1073747-5ad1-4353-9e3b-d8584c25db7d",
   "metadata": {},
   "outputs": [],
   "source": [
    "delta = delta_a + delta_b"
   ]
  },
  {
   "cell_type": "code",
   "execution_count": 161,
   "id": "5c19617c-5de1-49d5-9274-3e9dca56b442",
   "metadata": {},
   "outputs": [],
   "source": [
    "begin = end_time - delta"
   ]
  },
  {
   "cell_type": "code",
   "execution_count": 165,
   "id": "95e4af49-d652-47b5-b2da-52551baebbfb",
   "metadata": {},
   "outputs": [],
   "source": [
    "begin_round = np.array(begin, dtype='datetime64[m]')\n",
    "end_time_round = np.array(end_time, dtype='datetime64[m]')"
   ]
  },
  {
   "cell_type": "code",
   "execution_count": 166,
   "id": "14f9333b-d5c5-44c0-9d8f-31a25d8f30e9",
   "metadata": {},
   "outputs": [
    {
     "ename": "IndexError",
     "evalue": "too many indices for array: array is 0-dimensional, but 1 were indexed",
     "output_type": "error",
     "traceback": [
      "\u001b[0;31m---------------------------------------------------------------------------\u001b[0m",
      "\u001b[0;31mIndexError\u001b[0m                                Traceback (most recent call last)",
      "Cell \u001b[0;32mIn [166], line 1\u001b[0m\n\u001b[0;32m----> 1\u001b[0m \u001b[38;5;28mprint\u001b[39m(\u001b[43mbegin_round\u001b[49m\u001b[38;5;241;43m.\u001b[39;49m\u001b[43mastype\u001b[49m\u001b[43m(\u001b[49m\u001b[38;5;28;43mstr\u001b[39;49m\u001b[43m)\u001b[49m\u001b[43m[\u001b[49m\u001b[38;5;241;43m11\u001b[39;49m\u001b[43m:\u001b[49m\u001b[38;5;241;43m16\u001b[39;49m\u001b[43m]\u001b[49m)\n\u001b[1;32m      2\u001b[0m \u001b[38;5;28mprint\u001b[39m(end_time_round\u001b[38;5;241m.\u001b[39mastype(\u001b[38;5;28mstr\u001b[39m)[\u001b[38;5;241m11\u001b[39m:\u001b[38;5;241m16\u001b[39m])\n",
      "\u001b[0;31mIndexError\u001b[0m: too many indices for array: array is 0-dimensional, but 1 were indexed"
     ]
    }
   ],
   "source": [
    "print(begin_round.astype(str)[11:16])\n",
    "print(end_time_round.astype(str)[11:16])"
   ]
  },
  {
   "cell_type": "code",
   "execution_count": 167,
   "id": "d5add528-820e-4b06-9349-85535c9818f3",
   "metadata": {},
   "outputs": [
    {
     "name": "stdout",
     "output_type": "stream",
     "text": [
      "2022-12-02T12:10\n",
      "2022-12-02T13:05\n"
     ]
    }
   ],
   "source": [
    "print(begin_round)\n",
    "print(end_time_round)"
   ]
  },
  {
   "cell_type": "code",
   "execution_count": null,
   "id": "c5f4255e-4645-45fe-91aa-a05c5b440abe",
   "metadata": {},
   "outputs": [],
   "source": []
  }
 ],
 "metadata": {
  "kernelspec": {
   "display_name": "Python 3 (ipykernel)",
   "language": "python",
   "name": "python3"
  },
  "language_info": {
   "codemirror_mode": {
    "name": "ipython",
    "version": 3
   },
   "file_extension": ".py",
   "mimetype": "text/x-python",
   "name": "python",
   "nbconvert_exporter": "python",
   "pygments_lexer": "ipython3",
   "version": "3.10.6"
  }
 },
 "nbformat": 4,
 "nbformat_minor": 5
}
