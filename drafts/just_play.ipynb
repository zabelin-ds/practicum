{
 "cells": [
  {
   "cell_type": "markdown",
   "id": "3848cceb-4181-45cb-937c-10b7b10a7f02",
   "metadata": {},
   "source": [
    "# Draft"
   ]
  },
  {
   "cell_type": "code",
   "execution_count": 1,
   "id": "d6e62e31-5ea9-435f-8cbd-5ec5bedcb72c",
   "metadata": {},
   "outputs": [],
   "source": [
    "import pandas as pd\n",
    "import numpy as np"
   ]
  },
  {
   "cell_type": "code",
   "execution_count": 2,
   "id": "1989fa10-b0bb-44bd-b85c-30eaec5c2182",
   "metadata": {},
   "outputs": [],
   "source": [
    "random_seed = 108108108"
   ]
  },
  {
   "cell_type": "markdown",
   "id": "a80d125a-f4bf-4497-b879-a99c55854ccd",
   "metadata": {},
   "source": [
    "## Play With `pandas.DataFrame.sample`"
   ]
  },
  {
   "cell_type": "raw",
   "id": "16bc2556-c8ac-4761-85d3-32ee77f3f510",
   "metadata": {},
   "source": [
    "np.random.randint(low, high=None, size=None, dtype=int)"
   ]
  },
  {
   "cell_type": "code",
   "execution_count": 15,
   "id": "2b7f8f8a-bd5d-4920-96e5-623143ad52bd",
   "metadata": {},
   "outputs": [],
   "source": [
    "series = pd.Series(\n",
    "    np.random.randint(\n",
    "        low=17,\n",
    "        high=512,\n",
    "        size=303,\n",
    "        dtype=int\n",
    "    )\n",
    ")"
   ]
  },
  {
   "cell_type": "code",
   "execution_count": 4,
   "id": "eea6b81a-0299-4786-a79e-0d9e45311fca",
   "metadata": {},
   "outputs": [
    {
     "data": {
      "text/plain": [
       "102"
      ]
     },
     "metadata": {},
     "output_type": "display_data"
    },
    {
     "data": {
      "text/plain": [
       "0    417\n",
       "1    168\n",
       "2    463\n",
       "3    434\n",
       "4    271\n",
       "dtype: int64"
      ]
     },
     "metadata": {},
     "output_type": "display_data"
    }
   ],
   "source": [
    "display(\n",
    "    len(series.index),\n",
    "    series.head()\n",
    ")"
   ]
  },
  {
   "cell_type": "raw",
   "id": "92b1c3eb-c7d0-4a03-853e-5db02b6a7c49",
   "metadata": {},
   "source": [
    "DataFrame.sample(n=None, frac=None, replace=False, weights=None, random_state=None, axis=None, ignore_index=False)"
   ]
  },
  {
   "cell_type": "code",
   "execution_count": 5,
   "id": "dbb9aeae-aa71-474f-9ec6-0ab10729b300",
   "metadata": {},
   "outputs": [
    {
     "data": {
      "text/plain": [
       "38    476\n",
       "22     90\n",
       "70    185\n",
       "80    134\n",
       "48    451\n",
       "     ... \n",
       "14     52\n",
       "3     434\n",
       "45     54\n",
       "77    320\n",
       "91     33\n",
       "Length: 102, dtype: int64"
      ]
     },
     "execution_count": 5,
     "metadata": {},
     "output_type": "execute_result"
    }
   ],
   "source": [
    "series.sample(\n",
    "    frac=1,\n",
    "    random_state=random_seed\n",
    ")"
   ]
  },
  {
   "cell_type": "code",
   "execution_count": 30,
   "id": "5d247630-6fff-4f6c-856a-bf262b6c1da2",
   "metadata": {},
   "outputs": [
    {
     "name": "stdout",
     "output_type": "stream",
     "text": [
      "0\n",
      "range(0, 100)\n",
      "[101, 102, 103, 104, 105, 106, 107, 108, 109, 110, 111, 112, 113, 114, 115, 116, 117, 118, 119, 120, 121, 122, 123, 124, 125, 126, 127, 128, 129, 130, 131, 132, 133, 134, 135, 136, 137, 138, 139, 140, 141, 142, 143, 144, 145, 146, 147, 148, 149, 150, 151, 152, 153, 154, 155, 156, 157, 158, 159, 160, 161, 162, 163, 164, 165, 166, 167, 168, 169, 170, 171, 172, 173, 174, 175, 176, 177, 178, 179, 180, 181, 182, 183, 184, 185, 186, 187, 188, 189, 190, 191, 192, 193, 194, 195, 196, 197, 198, 199, 200, 201, 202, 203, 204, 205, 206, 207, 208, 209, 210, 211, 212, 213, 214, 215, 216, 217, 218, 219, 220, 221, 222, 223, 224, 225, 226, 227, 228, 229, 230, 231, 232, 233, 234, 235, 236, 237, 238, 239, 240, 241, 242, 243, 244, 245, 246, 247, 248, 249, 250, 251, 252, 253, 254, 255, 256, 257, 258, 259, 260, 261, 262, 263, 264, 265, 266, 267, 268, 269, 270, 271, 272, 273, 274, 275, 276, 277, 278, 279, 280, 281, 282, 283, 284, 285, 286, 287, 288, 289, 290, 291, 292, 293, 294, 295, 296, 297, 298, 299, 300, 301, 302]\n",
      "101\n",
      "range(101, 201)\n",
      "[0, 1, 2, 3, 4, 5, 6, 7, 8, 9, 10, 11, 12, 13, 14, 15, 16, 17, 18, 19, 20, 21, 22, 23, 24, 25, 26, 27, 28, 29, 30, 31, 32, 33, 34, 35, 36, 37, 38, 39, 40, 41, 42, 43, 44, 45, 46, 47, 48, 49, 50, 51, 52, 53, 54, 55, 56, 57, 58, 59, 60, 61, 62, 63, 64, 65, 66, 67, 68, 69, 70, 71, 72, 73, 74, 75, 76, 77, 78, 79, 80, 81, 82, 83, 84, 85, 86, 87, 88, 89, 90, 91, 92, 93, 94, 95, 96, 97, 98, 99, 100, 202, 203, 204, 205, 206, 207, 208, 209, 210, 211, 212, 213, 214, 215, 216, 217, 218, 219, 220, 221, 222, 223, 224, 225, 226, 227, 228, 229, 230, 231, 232, 233, 234, 235, 236, 237, 238, 239, 240, 241, 242, 243, 244, 245, 246, 247, 248, 249, 250, 251, 252, 253, 254, 255, 256, 257, 258, 259, 260, 261, 262, 263, 264, 265, 266, 267, 268, 269, 270, 271, 272, 273, 274, 275, 276, 277, 278, 279, 280, 281, 282, 283, 284, 285, 286, 287, 288, 289, 290, 291, 292, 293, 294, 295, 296, 297, 298, 299, 300, 301, 302]\n",
      "202\n",
      "range(202, 302)\n",
      "[0, 1, 2, 3, 4, 5, 6, 7, 8, 9, 10, 11, 12, 13, 14, 15, 16, 17, 18, 19, 20, 21, 22, 23, 24, 25, 26, 27, 28, 29, 30, 31, 32, 33, 34, 35, 36, 37, 38, 39, 40, 41, 42, 43, 44, 45, 46, 47, 48, 49, 50, 51, 52, 53, 54, 55, 56, 57, 58, 59, 60, 61, 62, 63, 64, 65, 66, 67, 68, 69, 70, 71, 72, 73, 74, 75, 76, 77, 78, 79, 80, 81, 82, 83, 84, 85, 86, 87, 88, 89, 90, 91, 92, 93, 94, 95, 96, 97, 98, 99, 100, 101, 102, 103, 104, 105, 106, 107, 108, 109, 110, 111, 112, 113, 114, 115, 116, 117, 118, 119, 120, 121, 122, 123, 124, 125, 126, 127, 128, 129, 130, 131, 132, 133, 134, 135, 136, 137, 138, 139, 140, 141, 142, 143, 144, 145, 146, 147, 148, 149, 150, 151, 152, 153, 154, 155, 156, 157, 158, 159, 160, 161, 162, 163, 164, 165, 166, 167, 168, 169, 170, 171, 172, 173, 174, 175, 176, 177, 178, 179, 180, 181, 182, 183, 184, 185, 186, 187, 188, 189, 190, 191, 192, 193, 194, 195, 196, 197, 198, 199, 200, 201]\n"
     ]
    }
   ],
   "source": [
    "sample_size = int(len(series)/3)\n",
    "\n",
    "# series[:sample_size].index\n",
    "\n",
    "for i in range(0, len(series), sample_size):\n",
    "    #valid_indexes = target[i:i+sample_size].index\n",
    "    #train_indexes = target.index.difference(valid_indexes)\n",
    "    \n",
    "    print(i)\n",
    "    valid_indexes = range(i, i+sample_size-1)\n",
    "    train_indexes = list(range(0, i)) + list(range(i+sample_size, len(series)))\n",
    "    print(valid_indexes)\n",
    "    print(train_indexes)\n",
    "        "
   ]
  },
  {
   "cell_type": "code",
   "execution_count": 14,
   "id": "3fff332b-dbcf-4122-b940-fccb5cacd6de",
   "metadata": {},
   "outputs": [
    {
     "name": "stdout",
     "output_type": "stream",
     "text": [
      "0\n",
      "range(0, 33)\n",
      "range(0, 0)\n",
      "34\n",
      "range(34, 67)\n",
      "range(0, 34)\n",
      "68\n",
      "range(68, 101)\n",
      "range(0, 68)\n"
     ]
    }
   ],
   "source": [
    "for i in range(0, len(series), sample_size):\n",
    "    print(i)\n",
    "    valid_indexes = range(i, i+sample_size-1)\n",
    "    train_indexes = range(0, i)\n",
    "    print(valid_indexes)\n",
    "    print(train_indexes)"
   ]
  },
  {
   "cell_type": "code",
   "execution_count": 13,
   "id": "ff4db0d8-f3be-4de6-b132-17e71bab4442",
   "metadata": {},
   "outputs": [
    {
     "data": {
      "text/plain": [
       "0      417\n",
       "68     200\n",
       "101    133\n",
       "101    133\n",
       "dtype: int64"
      ]
     },
     "metadata": {},
     "output_type": "display_data"
    }
   ],
   "source": [
    "display(\n",
    "    series[train_indexes]\n",
    ")"
   ]
  },
  {
   "cell_type": "code",
   "execution_count": null,
   "id": "b546e792-107f-46dd-854f-78b9c34cebe4",
   "metadata": {},
   "outputs": [],
   "source": []
  }
 ],
 "metadata": {
  "kernelspec": {
   "display_name": "Python 3 (ipykernel)",
   "language": "python",
   "name": "python3"
  },
  "language_info": {
   "codemirror_mode": {
    "name": "ipython",
    "version": 3
   },
   "file_extension": ".py",
   "mimetype": "text/x-python",
   "name": "python",
   "nbconvert_exporter": "python",
   "pygments_lexer": "ipython3",
   "version": "3.10.6"
  }
 },
 "nbformat": 4,
 "nbformat_minor": 5
}
