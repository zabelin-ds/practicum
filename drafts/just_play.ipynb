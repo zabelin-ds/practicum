{
 "cells": [
  {
   "cell_type": "markdown",
   "id": "3848cceb-4181-45cb-937c-10b7b10a7f02",
   "metadata": {},
   "source": [
    "# Draft"
   ]
  },
  {
   "cell_type": "code",
   "execution_count": 9,
   "id": "d6e62e31-5ea9-435f-8cbd-5ec5bedcb72c",
   "metadata": {},
   "outputs": [],
   "source": [
    "import pandas as pd\n",
    "import numpy as np"
   ]
  },
  {
   "cell_type": "code",
   "execution_count": 10,
   "id": "1989fa10-b0bb-44bd-b85c-30eaec5c2182",
   "metadata": {},
   "outputs": [],
   "source": [
    "random_seed = 108108108"
   ]
  },
  {
   "cell_type": "markdown",
   "id": "a80d125a-f4bf-4497-b879-a99c55854ccd",
   "metadata": {},
   "source": [
    "## Play With `pandas.DataFrame.sample`"
   ]
  },
  {
   "cell_type": "raw",
   "id": "16bc2556-c8ac-4761-85d3-32ee77f3f510",
   "metadata": {},
   "source": [
    "np.random.randint(low, high=None, size=None, dtype=int)"
   ]
  },
  {
   "cell_type": "code",
   "execution_count": 11,
   "id": "2b7f8f8a-bd5d-4920-96e5-623143ad52bd",
   "metadata": {},
   "outputs": [],
   "source": [
    "series = pd.Series(\n",
    "    np.random.randint(\n",
    "        low=17,\n",
    "        high=512,\n",
    "        size=100,\n",
    "        dtype=int\n",
    "    )\n",
    ")"
   ]
  },
  {
   "cell_type": "code",
   "execution_count": 12,
   "id": "eea6b81a-0299-4786-a79e-0d9e45311fca",
   "metadata": {},
   "outputs": [
    {
     "data": {
      "text/plain": [
       "100"
      ]
     },
     "metadata": {},
     "output_type": "display_data"
    },
    {
     "data": {
      "text/plain": [
       "0    456\n",
       "1    250\n",
       "2     73\n",
       "3    462\n",
       "4    444\n",
       "dtype: int64"
      ]
     },
     "metadata": {},
     "output_type": "display_data"
    }
   ],
   "source": [
    "display(\n",
    "    len(series.index),\n",
    "    series.head()\n",
    ")"
   ]
  },
  {
   "cell_type": "raw",
   "id": "92b1c3eb-c7d0-4a03-853e-5db02b6a7c49",
   "metadata": {},
   "source": [
    "DataFrame.sample(n=None, frac=None, replace=False, weights=None, random_state=None, axis=None, ignore_index=False)"
   ]
  },
  {
   "cell_type": "code",
   "execution_count": 13,
   "id": "dbb9aeae-aa71-474f-9ec6-0ab10729b300",
   "metadata": {},
   "outputs": [
    {
     "data": {
      "text/plain": [
       "38    280\n",
       "22    126\n",
       "58    129\n",
       "85    142\n",
       "48    147\n",
       "     ... \n",
       "14    455\n",
       "3     462\n",
       "45    263\n",
       "77    233\n",
       "91    365\n",
       "Length: 100, dtype: int64"
      ]
     },
     "execution_count": 13,
     "metadata": {},
     "output_type": "execute_result"
    }
   ],
   "source": [
    "series.sample(\n",
    "    frac=1,\n",
    "    random_state=random_seed\n",
    ")"
   ]
  },
  {
   "cell_type": "code",
   "execution_count": null,
   "id": "5d247630-6fff-4f6c-856a-bf262b6c1da2",
   "metadata": {},
   "outputs": [],
   "source": []
  }
 ],
 "metadata": {
  "kernelspec": {
   "display_name": "Python 3 (ipykernel)",
   "language": "python",
   "name": "python3"
  },
  "language_info": {
   "codemirror_mode": {
    "name": "ipython",
    "version": 3
   },
   "file_extension": ".py",
   "mimetype": "text/x-python",
   "name": "python",
   "nbconvert_exporter": "python",
   "pygments_lexer": "ipython3",
   "version": "3.10.6"
  }
 },
 "nbformat": 4,
 "nbformat_minor": 5
}
